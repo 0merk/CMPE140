{
 "cells": [
  {
   "cell_type": "markdown",
   "metadata": {},
   "source": [
    "Making decisions\n",
    "===========\n",
    "\n",
    "* The `if` statement executes a block of code if a condition is `TRUE`.\n",
    "* _Conditional execution_: Common in all programming languages.\n",
    "* General structure:\n",
    "\n",
    "\n",
    "    if(<condition>) {\n",
    "        <statements 1>\n",
    "    } else {\n",
    "        <statements 2>\n",
    "    }\n",
    "* The value of the last statement in the executed block is returned."
   ]
  },
  {
   "cell_type": "markdown",
   "metadata": {},
   "source": [
    "The if statement\n",
    "=========\n",
    "\n",
    "* Users enter their grade to ask about whether they passed the course.\n",
    "* If the grade is greater then 50, the student passes the course."
   ]
  },
  {
   "cell_type": "code",
   "execution_count": 1,
   "metadata": {},
   "outputs": [
    {
     "name": "stdout",
     "output_type": "stream",
     "text": [
      "Enter your grade: 60\n"
     ]
    },
    {
     "data": {
      "text/html": [
       "'Passed!'"
      ],
      "text/latex": [
       "'Passed!'"
      ],
      "text/markdown": [
       "'Passed!'"
      ],
      "text/plain": [
       "[1] \"Passed!\""
      ]
     },
     "metadata": {},
     "output_type": "display_data"
    }
   ],
   "source": [
    "x <- readline(prompt = \"Enter your grade: \")\n",
    "if(x>50)\n",
    "    \"Passed!\""
   ]
  },
  {
   "cell_type": "code",
   "execution_count": 2,
   "metadata": {},
   "outputs": [
    {
     "name": "stdout",
     "output_type": "stream",
     "text": [
      "Enter your grade: 45\n"
     ]
    }
   ],
   "source": [
    "x <- readline(prompt = \"Enter your grade: \")\n",
    "if(x>50)\n",
    "    \"Passed!\""
   ]
  },
  {
   "cell_type": "markdown",
   "metadata": {},
   "source": [
    "* If we have more than one statement inside an if-block, we must use braces to indicate the limits of the block.\n",
    "* The `if` statement is actually a function, and it returns the value of the last statement in the if-block."
   ]
  },
  {
   "cell_type": "code",
   "execution_count": 3,
   "metadata": {},
   "outputs": [
    {
     "data": {
      "text/html": [
       "'Passed'"
      ],
      "text/latex": [
       "'Passed'"
      ],
      "text/markdown": [
       "'Passed'"
      ],
      "text/plain": [
       "[1] \"Passed\""
      ]
     },
     "metadata": {},
     "output_type": "display_data"
    },
    {
     "data": {
      "text/html": [
       "1"
      ],
      "text/latex": [
       "1"
      ],
      "text/markdown": [
       "1"
      ],
      "text/plain": [
       "[1] 1"
      ]
     },
     "metadata": {},
     "output_type": "display_data"
    }
   ],
   "source": [
    "x <- 70\n",
    "y <- 0\n",
    "if (x>50) {\n",
    "    y <- y + 1\n",
    "    \"Passed\"\n",
    "}\n",
    "y"
   ]
  },
  {
   "cell_type": "markdown",
   "metadata": {},
   "source": [
    "Note that if we omit the braces, the code still works but it gives the wrong result."
   ]
  },
  {
   "cell_type": "code",
   "execution_count": 4,
   "metadata": {},
   "outputs": [
    {
     "data": {
      "text/html": [
       "'Passed'"
      ],
      "text/latex": [
       "'Passed'"
      ],
      "text/markdown": [
       "'Passed'"
      ],
      "text/plain": [
       "[1] \"Passed\""
      ]
     },
     "metadata": {},
     "output_type": "display_data"
    },
    {
     "data": {
      "text/html": [
       "0"
      ],
      "text/latex": [
       "0"
      ],
      "text/markdown": [
       "0"
      ],
      "text/plain": [
       "[1] 0"
      ]
     },
     "metadata": {},
     "output_type": "display_data"
    }
   ],
   "source": [
    "x <- 40\n",
    "y <- 0\n",
    "if (x>50) \n",
    "    y <- y + 1\n",
    "    \"Passed\"\n",
    "\n",
    "y"
   ]
  },
  {
   "cell_type": "markdown",
   "metadata": {},
   "source": [
    "This occurs because, without braces, this code is equivalent to:\n",
    "\n",
    "    x <- 40\n",
    "    y <- 0\n",
    "    if (x>50) {\n",
    "        y <- y + 1\n",
    "    }\n",
    "    \"Passed\"\n",
    "    y\n",
    "So that the message `\"Passed\"` appears even though the condition is `FALSE`, but `y` is not incremented."
   ]
  },
  {
   "cell_type": "markdown",
   "metadata": {},
   "source": [
    "The if-else statement\n",
    "===========\n",
    "\n",
    "* In the example above, we get an answer only when the grade is greater than 50.\n",
    "* Suppose we want to get the answers \"Passed\" or \"Failed\", depending on the grade.\n",
    "\n",
    "One way:"
   ]
  },
  {
   "cell_type": "code",
   "execution_count": 5,
   "metadata": {},
   "outputs": [
    {
     "name": "stdout",
     "output_type": "stream",
     "text": [
      "Enter your grade: 60\n"
     ]
    },
    {
     "data": {
      "text/html": [
       "'Passed!'"
      ],
      "text/latex": [
       "'Passed!'"
      ],
      "text/markdown": [
       "'Passed!'"
      ],
      "text/plain": [
       "[1] \"Passed!\""
      ]
     },
     "metadata": {},
     "output_type": "display_data"
    }
   ],
   "source": [
    "x <- readline(\"Enter your grade: \")\n",
    "if (x>50) {\n",
    "    \"Passed!\"\n",
    "}\n",
    "if (x <= 50) {\n",
    "    \"Failed\"\n",
    "}"
   ]
  },
  {
   "cell_type": "code",
   "execution_count": 6,
   "metadata": {},
   "outputs": [
    {
     "name": "stdout",
     "output_type": "stream",
     "text": [
      "Enter your grade: 45\n"
     ]
    },
    {
     "data": {
      "text/html": [
       "'Failed'"
      ],
      "text/latex": [
       "'Failed'"
      ],
      "text/markdown": [
       "'Failed'"
      ],
      "text/plain": [
       "[1] \"Failed\""
      ]
     },
     "metadata": {},
     "output_type": "display_data"
    }
   ],
   "source": [
    "x <- readline(\"Enter your grade: \")\n",
    "if (x>50) {\n",
    "    \"Passed!\"\n",
    "}\n",
    "if (x <= 50) {\n",
    "    \"Failed\"\n",
    "}"
   ]
  },
  {
   "cell_type": "markdown",
   "metadata": {},
   "source": [
    "Better way: Using the `else` statement together with `if`."
   ]
  },
  {
   "cell_type": "code",
   "execution_count": 7,
   "metadata": {},
   "outputs": [
    {
     "name": "stdout",
     "output_type": "stream",
     "text": [
      "Enter your grade: 45\n"
     ]
    },
    {
     "data": {
      "text/html": [
       "'Failed'"
      ],
      "text/latex": [
       "'Failed'"
      ],
      "text/markdown": [
       "'Failed'"
      ],
      "text/plain": [
       "[1] \"Failed\""
      ]
     },
     "metadata": {},
     "output_type": "display_data"
    }
   ],
   "source": [
    "x <- readline(\"Enter your grade: \")\n",
    "if (x>50) {\n",
    "    \"Passed!\"\n",
    "} else {\n",
    "    \"Failed\"\n",
    "}"
   ]
  },
  {
   "cell_type": "markdown",
   "metadata": {},
   "source": [
    "if-else one liner\n",
    "-----------------\n",
    "The if-else statement is actually a function, returning the last statement in the executed block. We can use this feature to capture the output of the if-else and store it in a variable."
   ]
  },
  {
   "cell_type": "code",
   "execution_count": 8,
   "metadata": {},
   "outputs": [
    {
     "data": {
      "text/html": [
       "'Failed'"
      ],
      "text/latex": [
       "'Failed'"
      ],
      "text/markdown": [
       "'Failed'"
      ],
      "text/plain": [
       "[1] \"Failed\""
      ]
     },
     "metadata": {},
     "output_type": "display_data"
    }
   ],
   "source": [
    "x <- 45\n",
    "status <- if (x>50) \"Passed\" else \"Failed\"\n",
    "\n",
    "status"
   ]
  },
  {
   "cell_type": "markdown",
   "metadata": {},
   "source": [
    "Nested if-else\n",
    "--------------------"
   ]
  },
  {
   "cell_type": "code",
   "execution_count": 9,
   "metadata": {},
   "outputs": [
    {
     "name": "stdout",
     "output_type": "stream",
     "text": [
      "Enter your grade: 43\n"
     ]
    },
    {
     "data": {
      "text/html": [
       "'Low'"
      ],
      "text/latex": [
       "'Low'"
      ],
      "text/markdown": [
       "'Low'"
      ],
      "text/plain": [
       "[1] \"Low\""
      ]
     },
     "metadata": {},
     "output_type": "display_data"
    }
   ],
   "source": []
  },
  {
   "cell_type": "markdown",
   "metadata": {},
   "source": [
    "The same structure can also be written in one line, but it would not be very readable."
   ]
  },
  {
   "cell_type": "code",
   "execution_count": 10,
   "metadata": {},
   "outputs": [
    {
     "name": "stdout",
     "output_type": "stream",
     "text": [
      "Enter your grade: 43\n"
     ]
    },
    {
     "data": {
      "text/html": [
       "'Low'"
      ],
      "text/latex": [
       "'Low'"
      ],
      "text/markdown": [
       "'Low'"
      ],
      "text/plain": [
       "[1] \"Low\""
      ]
     },
     "metadata": {},
     "output_type": "display_data"
    }
   ],
   "source": [
    "x <- readline(\"Enter your grade: \")\n",
    "if (x>75) \"Top\" else if (x>50) \"Middle\" else if (x>25) \"Low\" else \"Bottom\""
   ]
  },
  {
   "cell_type": "markdown",
   "metadata": {},
   "source": [
    "Relational operators\n",
    "===========\n",
    "\n",
    "In the examples above, we have used the `>` (greater than) operator. There are several such operators for comparing values. Each of these expressions return Boolean (True/False) values.\n",
    "\n",
    "|operation|meaning|\n",
    "|:--------|:------|\n",
    "| a == b | a is equal to b |\n",
    "| a != b | a is not equal to b |\n",
    "| a < b | a is less than b |\n",
    "| a <= b | a is less than or equal to b |\n",
    "| a > b | a is greater than b |\n",
    "| a >= b | a is greater than or equal to b |\n",
    "\n",
    "* Equality check is done with **two** equal signs.\n",
    "* Mind the syntax: `<=` is correct, `=<` is incorrect.\n",
    "* With strings, these operations test for alphabetical ordering"
   ]
  },
  {
   "cell_type": "code",
   "execution_count": 11,
   "metadata": {},
   "outputs": [
    {
     "data": {
      "text/html": [
       "TRUE"
      ],
      "text/latex": [
       "TRUE"
      ],
      "text/markdown": [
       "TRUE"
      ],
      "text/plain": [
       "[1] TRUE"
      ]
     },
     "metadata": {},
     "output_type": "display_data"
    },
    {
     "data": {
      "text/html": [
       "FALSE"
      ],
      "text/latex": [
       "FALSE"
      ],
      "text/markdown": [
       "FALSE"
      ],
      "text/plain": [
       "[1] FALSE"
      ]
     },
     "metadata": {},
     "output_type": "display_data"
    },
    {
     "data": {
      "text/html": [
       "FALSE"
      ],
      "text/latex": [
       "FALSE"
      ],
      "text/markdown": [
       "FALSE"
      ],
      "text/plain": [
       "[1] FALSE"
      ]
     },
     "metadata": {},
     "output_type": "display_data"
    },
    {
     "data": {
      "text/html": [
       "TRUE"
      ],
      "text/latex": [
       "TRUE"
      ],
      "text/markdown": [
       "TRUE"
      ],
      "text/plain": [
       "[1] TRUE"
      ]
     },
     "metadata": {},
     "output_type": "display_data"
    }
   ],
   "source": [
    "2 < 5\n",
    "2 >= 5\n",
    "1 == 2\n",
    "1 != 2"
   ]
  },
  {
   "cell_type": "markdown",
   "metadata": {},
   "source": [
    "You should not check the equality of floating-point numbers directly. The limits of internal representation (truncation error and roundoff error) sometimes make some numbers differ, even though they should be theoretically the same. The `all.equal()` function is designed to check for almost-equality, within the errors of the machine."
   ]
  },
  {
   "cell_type": "code",
   "execution_count": 12,
   "metadata": {},
   "outputs": [
    {
     "data": {
      "text/html": [
       "FALSE"
      ],
      "text/latex": [
       "FALSE"
      ],
      "text/markdown": [
       "FALSE"
      ],
      "text/plain": [
       "[1] FALSE"
      ]
     },
     "metadata": {},
     "output_type": "display_data"
    }
   ],
   "source": [
    "x <- 10.1 - 10\n",
    "y <- 0.1\n",
    "x == y"
   ]
  },
  {
   "cell_type": "code",
   "execution_count": 13,
   "metadata": {},
   "outputs": [
    {
     "data": {
      "text/html": [
       "TRUE"
      ],
      "text/latex": [
       "TRUE"
      ],
      "text/markdown": [
       "TRUE"
      ],
      "text/plain": [
       "[1] TRUE"
      ]
     },
     "metadata": {},
     "output_type": "display_data"
    }
   ],
   "source": [
    "all.equal(x,y)"
   ]
  },
  {
   "cell_type": "markdown",
   "metadata": {},
   "source": [
    "When used with vectors, these operations are applied elementwise, and a Boolean vector is returned."
   ]
  },
  {
   "cell_type": "code",
   "execution_count": 14,
   "metadata": {},
   "outputs": [
    {
     "data": {
      "text/html": [
       "<ol class=list-inline>\n",
       "\t<li>FALSE</li>\n",
       "\t<li>TRUE</li>\n",
       "\t<li>TRUE</li>\n",
       "</ol>\n"
      ],
      "text/latex": [
       "\\begin{enumerate*}\n",
       "\\item FALSE\n",
       "\\item TRUE\n",
       "\\item TRUE\n",
       "\\end{enumerate*}\n"
      ],
      "text/markdown": [
       "1. FALSE\n",
       "2. TRUE\n",
       "3. TRUE\n",
       "\n",
       "\n"
      ],
      "text/plain": [
       "[1] FALSE  TRUE  TRUE"
      ]
     },
     "metadata": {},
     "output_type": "display_data"
    }
   ],
   "source": [
    "x <- c(2,3,4)\n",
    "y <- c(6,1,4)\n",
    "x >= y"
   ]
  },
  {
   "cell_type": "markdown",
   "metadata": {},
   "source": [
    "Note that the `if()` statement expects a single True/False value as an argument. When it receives a Boolean vector, it uses only the first element to make the comparison."
   ]
  },
  {
   "cell_type": "code",
   "execution_count": 15,
   "metadata": {},
   "outputs": [
    {
     "name": "stderr",
     "output_type": "stream",
     "text": [
      "Warning message in if (x >= y) \"foo\" else \"bar\":\n",
      "“the condition has length > 1 and only the first element will be used”"
     ]
    },
    {
     "data": {
      "text/html": [
       "'bar'"
      ],
      "text/latex": [
       "'bar'"
      ],
      "text/markdown": [
       "'bar'"
      ],
      "text/plain": [
       "[1] \"bar\""
      ]
     },
     "metadata": {},
     "output_type": "display_data"
    }
   ],
   "source": [
    "if (x>=y) \"foo\" else \"bar\""
   ]
  },
  {
   "cell_type": "markdown",
   "metadata": {},
   "source": [
    "If you want to check if the relation holds for every pair of elements in x and y, you should use the `all()` function."
   ]
  },
  {
   "cell_type": "code",
   "execution_count": 16,
   "metadata": {},
   "outputs": [
    {
     "data": {
      "text/html": [
       "'foo'"
      ],
      "text/latex": [
       "'foo'"
      ],
      "text/markdown": [
       "'foo'"
      ],
      "text/plain": [
       "[1] \"foo\""
      ]
     },
     "metadata": {},
     "output_type": "display_data"
    }
   ],
   "source": [
    "x <- c(2,3,4)\n",
    "y <- c(1,0,3)\n",
    "if(all(x>=y)) \"foo\" else \"bar\""
   ]
  },
  {
   "cell_type": "markdown",
   "metadata": {},
   "source": [
    "Logical operators\n",
    "==========\n",
    "Often, we need to combine two or more conditions in order to get a more complicated condition. For example\n",
    "\n",
    "    IF (you are younger than 18) AND (you are male) THEN (you are a boy).\n",
    "    IF (you have heart condition) OR (you are pregnant) THEN (you should not drink alcohol).\n",
    "    IF (you are older than 18) AND (you are NOT married) THEN (you can get married).\n",
    "\n",
    "Every logical condition can be expressed by combining AND, OR, and NOT operators.\n",
    "\n",
    "|operation|meaning|\n",
    "|:--------|:------|\n",
    "| a & b | Boolean AND for vectors |\n",
    "| a &#124; b | Boolean OR for vectors |\n",
    "| !a | Boolean negation |\n",
    "| a && b | Boolean AND for scalars |\n",
    "| a &#124;&#124; b | Boolean OR for scalars |"
   ]
  },
  {
   "cell_type": "code",
   "execution_count": 17,
   "metadata": {},
   "outputs": [
    {
     "data": {
      "text/html": [
       "<ol class=list-inline>\n",
       "\t<li>FALSE</li>\n",
       "\t<li>FALSE</li>\n",
       "\t<li>TRUE</li>\n",
       "\t<li>FALSE</li>\n",
       "</ol>\n"
      ],
      "text/latex": [
       "\\begin{enumerate*}\n",
       "\\item FALSE\n",
       "\\item FALSE\n",
       "\\item TRUE\n",
       "\\item FALSE\n",
       "\\end{enumerate*}\n"
      ],
      "text/markdown": [
       "1. FALSE\n",
       "2. FALSE\n",
       "3. TRUE\n",
       "4. FALSE\n",
       "\n",
       "\n"
      ],
      "text/plain": [
       "[1] FALSE FALSE  TRUE FALSE"
      ]
     },
     "metadata": {},
     "output_type": "display_data"
    },
    {
     "data": {
      "text/html": [
       "<ol class=list-inline>\n",
       "\t<li>TRUE</li>\n",
       "\t<li>TRUE</li>\n",
       "\t<li>TRUE</li>\n",
       "\t<li>FALSE</li>\n",
       "</ol>\n"
      ],
      "text/latex": [
       "\\begin{enumerate*}\n",
       "\\item TRUE\n",
       "\\item TRUE\n",
       "\\item TRUE\n",
       "\\item FALSE\n",
       "\\end{enumerate*}\n"
      ],
      "text/markdown": [
       "1. TRUE\n",
       "2. TRUE\n",
       "3. TRUE\n",
       "4. FALSE\n",
       "\n",
       "\n"
      ],
      "text/plain": [
       "[1]  TRUE  TRUE  TRUE FALSE"
      ]
     },
     "metadata": {},
     "output_type": "display_data"
    },
    {
     "data": {
      "text/html": [
       "<ol class=list-inline>\n",
       "\t<li>FALSE</li>\n",
       "\t<li>TRUE</li>\n",
       "\t<li>FALSE</li>\n",
       "\t<li>TRUE</li>\n",
       "</ol>\n"
      ],
      "text/latex": [
       "\\begin{enumerate*}\n",
       "\\item FALSE\n",
       "\\item TRUE\n",
       "\\item FALSE\n",
       "\\item TRUE\n",
       "\\end{enumerate*}\n"
      ],
      "text/markdown": [
       "1. FALSE\n",
       "2. TRUE\n",
       "3. FALSE\n",
       "4. TRUE\n",
       "\n",
       "\n"
      ],
      "text/plain": [
       "[1] FALSE  TRUE FALSE  TRUE"
      ]
     },
     "metadata": {},
     "output_type": "display_data"
    }
   ],
   "source": [
    "x <- c(T, F, T, F)\n",
    "y <- c(F, T, T, F)\n",
    "x & y\n",
    "x | y\n",
    "!x"
   ]
  },
  {
   "cell_type": "markdown",
   "metadata": {},
   "source": [
    "As seen above, `&` and `|` operators can take vector operands, and return a vector of Booleans. In contrast, `&&` and `||` operators work with scalars and return _only a single Boolean value_. If vectors are given to them as operands, they use _only the first elements_ of these vectors."
   ]
  },
  {
   "cell_type": "code",
   "execution_count": 18,
   "metadata": {},
   "outputs": [
    {
     "data": {
      "text/html": [
       "FALSE"
      ],
      "text/latex": [
       "FALSE"
      ],
      "text/markdown": [
       "FALSE"
      ],
      "text/plain": [
       "[1] FALSE"
      ]
     },
     "metadata": {},
     "output_type": "display_data"
    }
   ],
   "source": [
    "(1>2) && (3<5)"
   ]
  },
  {
   "cell_type": "code",
   "execution_count": 19,
   "metadata": {},
   "outputs": [
    {
     "data": {
      "text/html": [
       "TRUE"
      ],
      "text/latex": [
       "TRUE"
      ],
      "text/markdown": [
       "TRUE"
      ],
      "text/plain": [
       "[1] TRUE"
      ]
     },
     "metadata": {},
     "output_type": "display_data"
    }
   ],
   "source": [
    "c(T,F) || c(F,F)  # same as T || F"
   ]
  },
  {
   "cell_type": "markdown",
   "metadata": {},
   "source": [
    "This distinction exists because `if()` should take only a single Boolean value for comparison. It would not be correct to use `&` with `if`, though it will give us an answer based on the first elements."
   ]
  },
  {
   "cell_type": "code",
   "execution_count": 20,
   "metadata": {},
   "outputs": [
    {
     "data": {
      "text/html": [
       "'Both True!'"
      ],
      "text/latex": [
       "'Both True!'"
      ],
      "text/markdown": [
       "'Both True!'"
      ],
      "text/plain": [
       "[1] \"Both True!\""
      ]
     },
     "metadata": {},
     "output_type": "display_data"
    }
   ],
   "source": [
    "x <- c(TRUE, FALSE, TRUE)\n",
    "y <- c(TRUE, TRUE, FALSE)\n",
    "if (x[1] && y[1]) \"Both True!\""
   ]
  },
  {
   "cell_type": "code",
   "execution_count": 21,
   "metadata": {},
   "outputs": [
    {
     "name": "stderr",
     "output_type": "stream",
     "text": [
      "Warning message in if (x & y) \"Both TRUE\":\n",
      "“the condition has length > 1 and only the first element will be used”"
     ]
    },
    {
     "data": {
      "text/html": [
       "'Both TRUE'"
      ],
      "text/latex": [
       "'Both TRUE'"
      ],
      "text/markdown": [
       "'Both TRUE'"
      ],
      "text/plain": [
       "[1] \"Both TRUE\""
      ]
     },
     "metadata": {},
     "output_type": "display_data"
    }
   ],
   "source": [
    "if (x & y) \"Both TRUE\""
   ]
  },
  {
   "cell_type": "markdown",
   "metadata": {},
   "source": [
    "Vectorized if-else: The ifelse() function\n",
    "=========\n",
    "We see that `if` requires a single Boolean expression as its condition. Now suppose we have a vector of ages. Based on this, we want to create a list with two values: `\"Child\"` or `\"Adult\"`."
   ]
  },
  {
   "cell_type": "code",
   "execution_count": 22,
   "metadata": {},
   "outputs": [
    {
     "data": {
      "text/html": [
       "<dl class=dl-horizontal>\n",
       "\t<dt>Ali</dt>\n",
       "\t\t<dd>16</dd>\n",
       "\t<dt>Fatma</dt>\n",
       "\t\t<dd>9</dd>\n",
       "\t<dt>Mehmet</dt>\n",
       "\t\t<dd>65</dd>\n",
       "\t<dt>Elif</dt>\n",
       "\t\t<dd>41</dd>\n",
       "\t<dt>Zehra</dt>\n",
       "\t\t<dd>12</dd>\n",
       "</dl>\n"
      ],
      "text/latex": [
       "\\begin{description*}\n",
       "\\item[Ali] 16\n",
       "\\item[Fatma] 9\n",
       "\\item[Mehmet] 65\n",
       "\\item[Elif] 41\n",
       "\\item[Zehra] 12\n",
       "\\end{description*}\n"
      ],
      "text/markdown": [
       "Ali\n",
       ":   16Fatma\n",
       ":   9Mehmet\n",
       ":   65Elif\n",
       ":   41Zehra\n",
       ":   12\n",
       "\n"
      ],
      "text/plain": [
       "   Ali  Fatma Mehmet   Elif  Zehra \n",
       "    16      9     65     41     12 "
      ]
     },
     "metadata": {},
     "output_type": "display_data"
    }
   ],
   "source": [
    "ages <- c(Ali=16, Fatma=9, Mehmet=65, Elif=41, Zehra=12)\n",
    "ages"
   ]
  },
  {
   "cell_type": "markdown",
   "metadata": {},
   "source": [
    "The usage `if(ages<18)` does not work because `if` expects a single True/False value, while `ages<18` is a vector."
   ]
  },
  {
   "cell_type": "code",
   "execution_count": 23,
   "metadata": {},
   "outputs": [
    {
     "name": "stderr",
     "output_type": "stream",
     "text": [
      "Warning message in if (ages < 18) \"Child\" else \"Adult\":\n",
      "“the condition has length > 1 and only the first element will be used”"
     ]
    },
    {
     "data": {
      "text/html": [
       "'Child'"
      ],
      "text/latex": [
       "'Child'"
      ],
      "text/markdown": [
       "'Child'"
      ],
      "text/plain": [
       "[1] \"Child\""
      ]
     },
     "metadata": {},
     "output_type": "display_data"
    }
   ],
   "source": [
    "if(ages<18) \"Child\" else \"Adult\""
   ]
  },
  {
   "cell_type": "markdown",
   "metadata": {},
   "source": [
    "To get a vector consisting of desired values, we use the vectorized function `ifelse()`."
   ]
  },
  {
   "cell_type": "code",
   "execution_count": 24,
   "metadata": {},
   "outputs": [
    {
     "data": {
      "text/html": [
       "<dl class=dl-horizontal>\n",
       "\t<dt>Ali</dt>\n",
       "\t\t<dd>'Child'</dd>\n",
       "\t<dt>Fatma</dt>\n",
       "\t\t<dd>'Child'</dd>\n",
       "\t<dt>Mehmet</dt>\n",
       "\t\t<dd>'Adult'</dd>\n",
       "\t<dt>Elif</dt>\n",
       "\t\t<dd>'Adult'</dd>\n",
       "\t<dt>Zehra</dt>\n",
       "\t\t<dd>'Child'</dd>\n",
       "</dl>\n"
      ],
      "text/latex": [
       "\\begin{description*}\n",
       "\\item[Ali] 'Child'\n",
       "\\item[Fatma] 'Child'\n",
       "\\item[Mehmet] 'Adult'\n",
       "\\item[Elif] 'Adult'\n",
       "\\item[Zehra] 'Child'\n",
       "\\end{description*}\n"
      ],
      "text/markdown": [
       "Ali\n",
       ":   'Child'Fatma\n",
       ":   'Child'Mehmet\n",
       ":   'Adult'Elif\n",
       ":   'Adult'Zehra\n",
       ":   'Child'\n",
       "\n"
      ],
      "text/plain": [
       "    Ali   Fatma  Mehmet    Elif   Zehra \n",
       "\"Child\" \"Child\" \"Adult\" \"Adult\" \"Child\" "
      ]
     },
     "metadata": {},
     "output_type": "display_data"
    }
   ],
   "source": [
    "ifelse(ages<18, \"Child\",\"Adult\")"
   ]
  },
  {
   "cell_type": "markdown",
   "metadata": {},
   "source": [
    "Nested if-else statements\n",
    "============\n",
    "Any kind of statements can be put into an `if`-block, including other `if` statements. This allows us to make successive decisions. For example, here is a code that prints the level of a grade."
   ]
  },
  {
   "cell_type": "code",
   "execution_count": null,
   "metadata": {
    "collapsed": true
   },
   "outputs": [],
   "source": [
    "x <- readline(\"Enter your grade: \")\n",
    "if (x>75) {\n",
    "    \"Top\"\n",
    "} else if (x>50) {\n",
    "    \"Middle\"\n",
    "} else if (x>25) {\n",
    "    \"Low\"\n",
    "} else {\n",
    "    \"Bottom\"\n",
    "}"
   ]
  },
  {
   "cell_type": "markdown",
   "metadata": {},
   "source": [
    "The same structure can also be written in one line, but it would not be very readable."
   ]
  },
  {
   "cell_type": "code",
   "execution_count": null,
   "metadata": {
    "collapsed": true
   },
   "outputs": [],
   "source": [
    "x <- readline(\"Enter your grade: \")\n",
    "if (x>75) \"Top\" else if (x>50) \"Middle\" else if (x>25) \"Low\" else \"Bottom\""
   ]
  },
  {
   "cell_type": "markdown",
   "metadata": {},
   "source": [
    "Here is a nested `if-else` structure that determines the region where a given point belongs."
   ]
  },
  {
   "cell_type": "code",
   "execution_count": 25,
   "metadata": {},
   "outputs": [
    {
     "data": {
      "text/html": [
       "'lower right'"
      ],
      "text/latex": [
       "'lower right'"
      ],
      "text/markdown": [
       "'lower right'"
      ],
      "text/plain": [
       "[1] \"lower right\""
      ]
     },
     "metadata": {},
     "output_type": "display_data"
    }
   ],
   "source": [
    "x <- 5\n",
    "y <- -3\n",
    "if(x>0) {\n",
    "    if(y>0) {\n",
    "        \"upper right\"\n",
    "    } else {  # y<=0\n",
    "        \"lower right\"\n",
    "    }\n",
    "} else {  # x<=0\n",
    "    if(y>0) {\n",
    "        \"upper left\"\n",
    "    } else { # y<=0\n",
    "        \"lower left\"\n",
    "    }\n",
    "}"
   ]
  },
  {
   "cell_type": "markdown",
   "metadata": {},
   "source": [
    "As another example, let us read an integer, and produce a response according to whether it is negative, divisible by two, or divisible by three."
   ]
  },
  {
   "cell_type": "code",
   "execution_count": 26,
   "metadata": {},
   "outputs": [
    {
     "name": "stdout",
     "output_type": "stream",
     "text": [
      "Enter an integer: 54\n"
     ]
    },
    {
     "data": {
      "text/html": [
       "'Divisible by 2.'"
      ],
      "text/latex": [
       "'Divisible by 2.'"
      ],
      "text/markdown": [
       "'Divisible by 2.'"
      ],
      "text/plain": [
       "[1] \"Divisible by 2.\""
      ]
     },
     "metadata": {},
     "output_type": "display_data"
    }
   ],
   "source": [
    "n <- as.numeric(readline(\"Enter an integer: \"))\n",
    "if (n<0) {\n",
    "    \"Negative.\"\n",
    "} else {\n",
    "    if (n%%2 == 0) {\n",
    "        \"Divisible by 2.\"\n",
    "    } else {\n",
    "        if (n%%3 == 0) {\n",
    "            \"Divisible by 3.\"\n",
    "        } else {\n",
    "            \"Nonnegative, not divisible by 2 or 3.\"\n",
    "        }\n",
    "    }\n",
    "}"
   ]
  }
 ],
 "metadata": {
  "kernelspec": {
   "display_name": "R",
   "language": "R",
   "name": "ir"
  },
  "language_info": {
   "codemirror_mode": "r",
   "file_extension": ".r",
   "mimetype": "text/x-r-source",
   "name": "R",
   "pygments_lexer": "r",
   "version": "3.4.2"
  }
 },
 "nbformat": 4,
 "nbformat_minor": 2
}
