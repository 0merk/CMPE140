{
 "cells": [
  {
   "cell_type": "markdown",
   "metadata": {},
   "source": [
    "# QUIZ 3"
   ]
  },
  {
   "cell_type": "markdown",
   "metadata": {},
   "source": [
    "# QUESTION 1 (Section 1)"
   ]
  },
  {
   "cell_type": "markdown",
   "metadata": {},
   "source": [
    "Write a function with name \"matrix_fnc\" which takes the number of columns and the number of rows as inputs;\n",
    "and generates a special matrix.\n",
    "\n",
    "Each element of this matrix should be equal to the sum of the subscript numbers of corresponding row and column.\n",
    "\n",
    "The function \"matrix_fnc\" should return a list including two items:\n",
    " \n",
    " I. \"matrix\"\n",
    "\n",
    "II. \"sum\" which is an integer holding the sum of all elements of this matrix \n"
   ]
  },
  {
   "cell_type": "markdown",
   "metadata": {},
   "source": [
    "Example: For 4 rows and 4 columns;\n",
    "\n",
    "```R\n",
    "matrix_fnc <- function(x=4,y=4) {\n",
    "  \n",
    "    # your code here should include a nested for loop\n",
    "    # (two for loops: one outer, one inner)\n",
    "  \n",
    "}\n",
    "```"
   ]
  },
  {
   "cell_type": "markdown",
   "metadata": {},
   "source": [
    "Your code will give this output:"
   ]
  },
  {
   "cell_type": "code",
   "execution_count": 1,
   "metadata": {},
   "outputs": [],
   "source": [
    "# $matrix\n",
    "#    [,1] [,2] [,3] [,4]\n",
    "#[1,]    2    3    4    5\n",
    "#[2,]    3    4    5    6\n",
    "#[3,]    4    5    6    7\n",
    "#[4,]    5    6    7    8\n",
    "\n",
    "#$sum\n",
    "#[1] 80"
   ]
  },
  {
   "cell_type": "markdown",
   "metadata": {},
   "source": [
    "Here is the solution:"
   ]
  },
  {
   "cell_type": "code",
   "execution_count": 2,
   "metadata": {
    "collapsed": true
   },
   "outputs": [],
   "source": [
    "matrix_fnc <- function(x,y)\n",
    "{\n",
    "  \n",
    "  # empty matrix\n",
    "  special_matrix <- matrix(nrow = x, ncol = y)\n",
    "  \n",
    "  for (rw in 1:x) # for1 iterate thru rows\n",
    "  {\n",
    "    \n",
    "    for(cl in 1:y) # for2 iterate thru cols\n",
    "    {\n",
    "      special_matrix[rw,cl] <- rw + cl # update the cell\n",
    "    } # close for2\n",
    "    \n",
    "  } # close for1\n",
    "  \n",
    "  return(list(matrix=special_matrix, sum=sum(special_matrix)))\n",
    "  \n",
    "}"
   ]
  },
  {
   "cell_type": "markdown",
   "metadata": {},
   "source": [
    "Check for different x and y values:"
   ]
  },
  {
   "cell_type": "code",
   "execution_count": 3,
   "metadata": {},
   "outputs": [
    {
     "data": {
      "text/html": [
       "<dl>\n",
       "\t<dt>$matrix</dt>\n",
       "\t\t<dd><table>\n",
       "<tbody>\n",
       "\t<tr><td>2</td><td>3</td><td>4</td><td>5</td></tr>\n",
       "\t<tr><td>3</td><td>4</td><td>5</td><td>6</td></tr>\n",
       "\t<tr><td>4</td><td>5</td><td>6</td><td>7</td></tr>\n",
       "\t<tr><td>5</td><td>6</td><td>7</td><td>8</td></tr>\n",
       "</tbody>\n",
       "</table>\n",
       "</dd>\n",
       "\t<dt>$sum</dt>\n",
       "\t\t<dd>80</dd>\n",
       "</dl>\n"
      ],
      "text/latex": [
       "\\begin{description}\n",
       "\\item[\\$matrix] \\begin{tabular}{llll}\n",
       "\t 2 & 3 & 4 & 5\\\\\n",
       "\t 3 & 4 & 5 & 6\\\\\n",
       "\t 4 & 5 & 6 & 7\\\\\n",
       "\t 5 & 6 & 7 & 8\\\\\n",
       "\\end{tabular}\n",
       "\n",
       "\\item[\\$sum] 80\n",
       "\\end{description}\n"
      ],
      "text/markdown": [
       "$matrix\n",
       ":   \n",
       "| 2 | 3 | 4 | 5 | \n",
       "| 3 | 4 | 5 | 6 | \n",
       "| 4 | 5 | 6 | 7 | \n",
       "| 5 | 6 | 7 | 8 | \n",
       "\n",
       "\n",
       "\n",
       "$sum\n",
       ":   80\n",
       "\n",
       "\n"
      ],
      "text/plain": [
       "$matrix\n",
       "     [,1] [,2] [,3] [,4]\n",
       "[1,]    2    3    4    5\n",
       "[2,]    3    4    5    6\n",
       "[3,]    4    5    6    7\n",
       "[4,]    5    6    7    8\n",
       "\n",
       "$sum\n",
       "[1] 80\n"
      ]
     },
     "metadata": {},
     "output_type": "display_data"
    }
   ],
   "source": [
    "matrix_fnc(4,4)"
   ]
  },
  {
   "cell_type": "code",
   "execution_count": 4,
   "metadata": {},
   "outputs": [
    {
     "data": {
      "text/html": [
       "<dl>\n",
       "\t<dt>$matrix</dt>\n",
       "\t\t<dd><table>\n",
       "<tbody>\n",
       "\t<tr><td>2</td><td>3</td><td>4</td></tr>\n",
       "\t<tr><td>3</td><td>4</td><td>5</td></tr>\n",
       "\t<tr><td>4</td><td>5</td><td>6</td></tr>\n",
       "\t<tr><td>5</td><td>6</td><td>7</td></tr>\n",
       "\t<tr><td>6</td><td>7</td><td>8</td></tr>\n",
       "</tbody>\n",
       "</table>\n",
       "</dd>\n",
       "\t<dt>$sum</dt>\n",
       "\t\t<dd>75</dd>\n",
       "</dl>\n"
      ],
      "text/latex": [
       "\\begin{description}\n",
       "\\item[\\$matrix] \\begin{tabular}{lll}\n",
       "\t 2 & 3 & 4\\\\\n",
       "\t 3 & 4 & 5\\\\\n",
       "\t 4 & 5 & 6\\\\\n",
       "\t 5 & 6 & 7\\\\\n",
       "\t 6 & 7 & 8\\\\\n",
       "\\end{tabular}\n",
       "\n",
       "\\item[\\$sum] 75\n",
       "\\end{description}\n"
      ],
      "text/markdown": [
       "$matrix\n",
       ":   \n",
       "| 2 | 3 | 4 | \n",
       "| 3 | 4 | 5 | \n",
       "| 4 | 5 | 6 | \n",
       "| 5 | 6 | 7 | \n",
       "| 6 | 7 | 8 | \n",
       "\n",
       "\n",
       "\n",
       "$sum\n",
       ":   75\n",
       "\n",
       "\n"
      ],
      "text/plain": [
       "$matrix\n",
       "     [,1] [,2] [,3]\n",
       "[1,]    2    3    4\n",
       "[2,]    3    4    5\n",
       "[3,]    4    5    6\n",
       "[4,]    5    6    7\n",
       "[5,]    6    7    8\n",
       "\n",
       "$sum\n",
       "[1] 75\n"
      ]
     },
     "metadata": {},
     "output_type": "display_data"
    }
   ],
   "source": [
    "matrix_fnc(5,3)"
   ]
  },
  {
   "cell_type": "markdown",
   "metadata": {},
   "source": [
    "# QUESTION 2 (Section 2)"
   ]
  },
  {
   "cell_type": "markdown",
   "metadata": {},
   "source": [
    "Write a function with name \"matrix_fnc\" which takes a number as an input, which will be equal to number of rows and columns;\n",
    "and generates a special matrix.\n",
    "\n",
    "Each element of this matrix should be equal to the multiplication of the subscript numbers of corresponding row and column.\n",
    "\n",
    "The function \"matrix_fnc\" should return a list including two items:\n",
    "\n",
    " I. \"matrix\"\n",
    " \n",
    " II. \"sum\" which is an integer holding the sum of all elements of this matrix"
   ]
  },
  {
   "cell_type": "markdown",
   "metadata": {},
   "source": [
    "Example: For 4 rows and 4 columns;\n",
    "\n",
    "```R\n",
    "matrix_fnc <- function(x=4) {\n",
    "\n",
    "   # your code here should include a nested for loop\n",
    "   # (two for loops: one outer, one inner)\n",
    "\n",
    "}\n",
    "```"
   ]
  },
  {
   "cell_type": "markdown",
   "metadata": {},
   "source": [
    "Your code will give this output:"
   ]
  },
  {
   "cell_type": "code",
   "execution_count": 5,
   "metadata": {
    "collapsed": true
   },
   "outputs": [],
   "source": [
    "# $matrix\n",
    "# [,1] [,2] [,3] [,4]\n",
    "# [1,]    1    2    3    4\n",
    "# [2,]    2    4    6    8\n",
    "# [3,]    3    6    9   12\n",
    "# [4,]    4    8   12   16\n",
    "\n",
    "# $sum\n",
    "# [1] 100"
   ]
  },
  {
   "cell_type": "markdown",
   "metadata": {},
   "source": [
    "Here is the solution:"
   ]
  },
  {
   "cell_type": "code",
   "execution_count": 6,
   "metadata": {
    "collapsed": true
   },
   "outputs": [],
   "source": [
    "matrix_fnc <- function(x)\n",
    "{\n",
    "  \n",
    "  # empty matrix\n",
    "  special_matrix <- matrix(nrow = x, ncol = x)\n",
    "  \n",
    "  for (rw in 1:x) # for1 iterate thru rows\n",
    "  {\n",
    "    \n",
    "    for(cl in 1:x) # for2 iterate thru cols\n",
    "    {\n",
    "      special_matrix[rw,cl] <- rw * cl # update the cell\n",
    "    } # close for2\n",
    "    \n",
    "  } # close for1\n",
    "  \n",
    "  return(list(matrix=special_matrix, sum=sum(special_matrix)))\n",
    "  \n",
    "}"
   ]
  },
  {
   "cell_type": "markdown",
   "metadata": {},
   "source": [
    "Check for different x values:"
   ]
  },
  {
   "cell_type": "code",
   "execution_count": 7,
   "metadata": {},
   "outputs": [
    {
     "data": {
      "text/html": [
       "<dl>\n",
       "\t<dt>$matrix</dt>\n",
       "\t\t<dd><table>\n",
       "<tbody>\n",
       "\t<tr><td>1 </td><td>2 </td><td> 3</td><td> 4</td></tr>\n",
       "\t<tr><td>2 </td><td>4 </td><td> 6</td><td> 8</td></tr>\n",
       "\t<tr><td>3 </td><td>6 </td><td> 9</td><td>12</td></tr>\n",
       "\t<tr><td>4 </td><td>8 </td><td>12</td><td>16</td></tr>\n",
       "</tbody>\n",
       "</table>\n",
       "</dd>\n",
       "\t<dt>$sum</dt>\n",
       "\t\t<dd>100</dd>\n",
       "</dl>\n"
      ],
      "text/latex": [
       "\\begin{description}\n",
       "\\item[\\$matrix] \\begin{tabular}{llll}\n",
       "\t 1  & 2  &  3 &  4\\\\\n",
       "\t 2  & 4  &  6 &  8\\\\\n",
       "\t 3  & 6  &  9 & 12\\\\\n",
       "\t 4  & 8  & 12 & 16\\\\\n",
       "\\end{tabular}\n",
       "\n",
       "\\item[\\$sum] 100\n",
       "\\end{description}\n"
      ],
      "text/markdown": [
       "$matrix\n",
       ":   \n",
       "| 1  | 2  |  3 |  4 | \n",
       "| 2  | 4  |  6 |  8 | \n",
       "| 3  | 6  |  9 | 12 | \n",
       "| 4  | 8  | 12 | 16 | \n",
       "\n",
       "\n",
       "\n",
       "$sum\n",
       ":   100\n",
       "\n",
       "\n"
      ],
      "text/plain": [
       "$matrix\n",
       "     [,1] [,2] [,3] [,4]\n",
       "[1,]    1    2    3    4\n",
       "[2,]    2    4    6    8\n",
       "[3,]    3    6    9   12\n",
       "[4,]    4    8   12   16\n",
       "\n",
       "$sum\n",
       "[1] 100\n"
      ]
     },
     "metadata": {},
     "output_type": "display_data"
    }
   ],
   "source": [
    "matrix_fnc(4)"
   ]
  },
  {
   "cell_type": "code",
   "execution_count": 8,
   "metadata": {},
   "outputs": [
    {
     "data": {
      "text/html": [
       "<dl>\n",
       "\t<dt>$matrix</dt>\n",
       "\t\t<dd><table>\n",
       "<tbody>\n",
       "\t<tr><td>1 </td><td> 2</td><td> 3</td><td> 4</td><td> 5</td></tr>\n",
       "\t<tr><td>2 </td><td> 4</td><td> 6</td><td> 8</td><td>10</td></tr>\n",
       "\t<tr><td>3 </td><td> 6</td><td> 9</td><td>12</td><td>15</td></tr>\n",
       "\t<tr><td>4 </td><td> 8</td><td>12</td><td>16</td><td>20</td></tr>\n",
       "\t<tr><td>5 </td><td>10</td><td>15</td><td>20</td><td>25</td></tr>\n",
       "</tbody>\n",
       "</table>\n",
       "</dd>\n",
       "\t<dt>$sum</dt>\n",
       "\t\t<dd>225</dd>\n",
       "</dl>\n"
      ],
      "text/latex": [
       "\\begin{description}\n",
       "\\item[\\$matrix] \\begin{tabular}{lllll}\n",
       "\t 1  &  2 &  3 &  4 &  5\\\\\n",
       "\t 2  &  4 &  6 &  8 & 10\\\\\n",
       "\t 3  &  6 &  9 & 12 & 15\\\\\n",
       "\t 4  &  8 & 12 & 16 & 20\\\\\n",
       "\t 5  & 10 & 15 & 20 & 25\\\\\n",
       "\\end{tabular}\n",
       "\n",
       "\\item[\\$sum] 225\n",
       "\\end{description}\n"
      ],
      "text/markdown": [
       "$matrix\n",
       ":   \n",
       "| 1  |  2 |  3 |  4 |  5 | \n",
       "| 2  |  4 |  6 |  8 | 10 | \n",
       "| 3  |  6 |  9 | 12 | 15 | \n",
       "| 4  |  8 | 12 | 16 | 20 | \n",
       "| 5  | 10 | 15 | 20 | 25 | \n",
       "\n",
       "\n",
       "\n",
       "$sum\n",
       ":   225\n",
       "\n",
       "\n"
      ],
      "text/plain": [
       "$matrix\n",
       "     [,1] [,2] [,3] [,4] [,5]\n",
       "[1,]    1    2    3    4    5\n",
       "[2,]    2    4    6    8   10\n",
       "[3,]    3    6    9   12   15\n",
       "[4,]    4    8   12   16   20\n",
       "[5,]    5   10   15   20   25\n",
       "\n",
       "$sum\n",
       "[1] 225\n"
      ]
     },
     "metadata": {},
     "output_type": "display_data"
    }
   ],
   "source": [
    "matrix_fnc(5)"
   ]
  }
 ],
 "metadata": {
  "kernelspec": {
   "display_name": "R",
   "language": "R",
   "name": "ir"
  },
  "language_info": {
   "codemirror_mode": "r",
   "file_extension": ".r",
   "mimetype": "text/x-r-source",
   "name": "R",
   "pygments_lexer": "r",
   "version": "3.4.3"
  }
 },
 "nbformat": 4,
 "nbformat_minor": 2
}
