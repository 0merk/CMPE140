{
 "cells": [
  {
   "cell_type": "markdown",
   "metadata": {},
   "source": [
    "# QUIZ 2 "
   ]
  },
  {
   "cell_type": "markdown",
   "metadata": {},
   "source": [
    "# Question 1 (Section 1)"
   ]
  },
  {
   "cell_type": "markdown",
   "metadata": {},
   "source": [
    "There is a factory producing thousands of standardised glass bottles everyday.\n",
    "However sometimes there seems to be a problem concerning the weight of the bottles. \n",
    "The factory owner who believes in the importance of standardisation, wants to eliminate those bottles which are \n",
    "either lighter or heavier (more than 2 grams) than the standard mean (which= 130 gr) from the production band. \n",
    "To do that he hired you and you should write a code. The code you write should state for a given list of bottles \n",
    "whether a bottle is approved or rejected."
   ]
  },
  {
   "cell_type": "markdown",
   "metadata": {},
   "source": [
    "Task1: Create a vector named \"weights\" holding this list of weights: 129, 130, 128.6, 127.9, 131, 133, 134."
   ]
  },
  {
   "cell_type": "markdown",
   "metadata": {},
   "source": [
    "Task2: Write a \"for loop\" which assigns the weights in acceptance region to a vector \"approved\" and \n",
    "assigns the weights out of the acceptance region to a vector \"rejected\". "
   ]
  },
  {
   "cell_type": "code",
   "execution_count": 5,
   "metadata": {},
   "outputs": [
    {
     "name": "stdout",
     "output_type": "stream",
     "text": [
      "[1] 127.9 133.0 134.0\n",
      "[1] 129.0 130.0 128.6 131.0 130.0\n"
     ]
    }
   ],
   "source": [
    "weights<-c(\"1\"=129,\"2\"=130,\"3\"=128.6,\"4\"=127.9,\"5\"=131,\"6\"=133,\"7\"=130,\"8\"=134)\n",
    "\n",
    "rejected <- c()\n",
    "approved <- c()\n",
    "\n",
    "for (i in weights) {\n",
    "  if  (i<132 & i>128){ \n",
    "    rejected <- c(rejected,i)\n",
    "  } else\n",
    "  {\n",
    "    approved <- c(approved,i)\n",
    "  }\n",
    "}\n",
    "print(approved)\n",
    "print(rejected)"
   ]
  },
  {
   "cell_type": "markdown",
   "metadata": {},
   "source": [
    "# Question 2  (Section 2)"
   ]
  },
  {
   "cell_type": "markdown",
   "metadata": {},
   "source": [
    "MAKING A NUMBER COUNTER"
   ]
  },
  {
   "cell_type": "markdown",
   "metadata": {},
   "source": [
    "Here, you have 100 random numbers between 1 and 6: (6,5,5,5,4,6,5,3,3,3,5,3,5,4,1,5,4,6,5,3,1,3,4,4,6,1,2,3,6,1,2,1,4,6,3,6,3,6,5,1,3,4,6,4,3,6,2,5,4,4,4,2,2,5,4,2,2,2,2,6,5,5,1,4,3,4,4,1,4,1,2,3,2,6,2,1,3,6,4,6,1,4,5,4,2,5,5,2,2,1,1,1,2,3,5,2,2,3,5,4)"
   ]
  },
  {
   "cell_type": "markdown",
   "metadata": {},
   "source": [
    "Create a vector named \"vec\" holding these numbers."
   ]
  },
  {
   "cell_type": "markdown",
   "metadata": {},
   "source": [
    "Then, create a vector \"count\" of length 6, holding HOW MANY 1,2,3,4,5 and 6's are in your sample."
   ]
  },
  {
   "cell_type": "code",
   "execution_count": 8,
   "metadata": {},
   "outputs": [
    {
     "name": "stdout",
     "output_type": "stream",
     "text": [
      "[1] 14 18 16 20 18 14\n"
     ]
    }
   ],
   "source": [
    "vec <- c(6,5,5,5,4,6,5,3,3,3,5,3,5,4,1,5,4,6,5,3,1,3,4,4,6,1,2,3,6,1,2,1,4,6,3,6,3,6,5,1,3,4,6,4,3,6,2,5,4,4,4,2,2,5,4,2,2,2,2,6,5,5,1,4,3,4,4,1,4,1,2,3,2,6,2,1,3,6,4,6,1,4,5,4,2,5,5,2,2,1,1,1,2,3,5,2,2,3,5,4)\n",
    "count <- c(0,0,0,0,0,0)\n",
    "for(i in 1:100){\n",
    "  for(k in 1:6){\n",
    "    if(vec[i]==k){\n",
    "      count[k]<- count[k]+1\n",
    "    }\n",
    "  }\n",
    "}\n",
    "print(count)"
   ]
  }
 ],
 "metadata": {
  "kernelspec": {
   "display_name": "R",
   "language": "R",
   "name": "ir"
  },
  "language_info": {
   "codemirror_mode": "r",
   "file_extension": ".r",
   "mimetype": "text/x-r-source",
   "name": "R",
   "pygments_lexer": "r",
   "version": "3.4.3"
  }
 },
 "nbformat": 4,
 "nbformat_minor": 2
}
