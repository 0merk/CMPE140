{
 "cells": [
  {
   "cell_type": "markdown",
   "metadata": {},
   "source": [
    "# Calculate BMI of given people\n",
    "\n",
    "1. Initialize \"heights\" for Mert, Can, Cem and Hande who have heights 1.70, 1.78, 1.75, 1.62 respectively (IN GIVEN ORDER!)\n",
    "\n",
    "2. Replace Can with Lale, who has the height of 1.76 and put it into the variable named \"correct_heights\" WITHOUT CHANGING \"heights\"\n",
    "\n",
    "3. Initialize \"weights\" for Mert, Lale, Cem and Hande who have weights 73, 60, 69, 61 respectively (IN GIVEN ORDER!)\n",
    "\n",
    "4. Calculate the BMI of using the formula bmi = weight / height^2 and put them to the variable named \"bmi\"\n",
    "\n",
    "Weight categories are:\n",
    " - underweight (BMI less than 18.5)\n",
    " - normal weight (BMI between 18.5 & 24.9)\n",
    " - overweight (BMI between 25.0 & 29.9)\n",
    " - obese (BMI 30.0 and above)\n",
    "\n",
    "Since we know intervals for weight categories,\n",
    "4. find underweighted people and put them into variable named \"underweight\"\n",
    "5. find normal weighted people and put them into variable named \"normal_weight\"\n",
    "6. find overweighted people and put them into variable named \"overweight\""
   ]
  },
  {
   "cell_type": "code",
   "execution_count": 1,
   "metadata": {},
   "outputs": [],
   "source": [
    "heights <- c(Mert=1.78, Can=1.70, Cem=1.75, Hande=1.62)\n",
    "\n",
    "correct_heights <- c(heights[1], Lale=1.76, heights[3:4])\n",
    "\n",
    "weights <- c(Mert=75, Lale=56, Cem=80, Hande=61)\n",
    "\n",
    "bmi <- weights / correct_heights ** 2\n",
    "\n",
    "underweight <- bmi[bmi < 18.5]\n",
    "normal_weight <- bmi[bmi > 18.5 & bmi < 25]\n",
    "overweight <- bmi[bmi > 25]"
   ]
  },
  {
   "cell_type": "markdown",
   "metadata": {},
   "source": [
    "# Revenue\n",
    "\n",
    "1. Initialize “$capitals$” for Mert, Can, Cem and Hande who have capital values of 10000, 70, 3500, 7000 respectively (**IN GIVEN ORDER!**)\n",
    "2. Replace Can with Lale, who has the capital of 5000 and put it into the variable named “$correct\\_capitals$” (**WITHOUT CHANGING** “$capitals$“)\n",
    "3. Initialize “$interest\\_rates$” for Mert, Lale, Cem and Hande who have rates 0.02, 0.1, 0.05, 0.07 respectively (**IN GIVEN ORDER!**)\n",
    "4. Calculate the revenue of using the formula $revenue = capital * interest\\_rate$ and put them to the variable named “$revenue$“\n",
    "\n",
    "Earning Categories:\n",
    " - High revenue, earning more than 300\n",
    " - Medium revenue, earning more than 20 and less than 300\n",
    " - Low revenue, earning less than 20\n",
    "\n",
    "And finally, using the earning categories above:\n",
    "5. Find high earning people and put them into the variable named “$high\\_revenue$“\n",
    "6. Find medium earning people and put them into the variable named “$mid\\_revenue$“\n",
    "7. Find low earning people and put them into the variable named “$low\\_revenue$“"
   ]
  },
  {
   "cell_type": "code",
   "execution_count": 2,
   "metadata": {},
   "outputs": [],
   "source": [
    "capitals <- c(Mert=10000, Can=70, Cem=3500, Hande=7000)\n",
    "\n",
    "correct_capitals <- c(capitals[1], Lale=5000, capitals[3:4])\n",
    "\n",
    "interest_rates <- c(Mert=0.02, Lale=0.1, Cem=0.05, Hande=0.07)\n",
    "\n",
    "revenue <- capitals * interest_rates\n",
    "\n",
    "high_revenue <- revenue[revenue > 300]\n",
    "mid_revenue <- revenue[revenue > 20 & revenue < 300]\n",
    "low_revenue <- revenue[revenue < 20]"
   ]
  }
 ],
 "metadata": {
  "kernelspec": {
   "display_name": "R 3.4",
   "language": "R",
   "name": "ir34"
  },
  "language_info": {
   "codemirror_mode": "r",
   "file_extension": ".r",
   "mimetype": "text/x-r-source",
   "name": "R",
   "pygments_lexer": "r",
   "version": "3.4.3"
  }
 },
 "nbformat": 4,
 "nbformat_minor": 2
}
