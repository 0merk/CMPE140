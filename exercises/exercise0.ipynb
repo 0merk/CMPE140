{
 "cells": [
  {
   "cell_type": "markdown",
   "metadata": {},
   "source": [
    "## Exercise 0"
   ]
  },
  {
   "cell_type": "markdown",
   "metadata": {},
   "source": [
    "#### Q1\n",
    "\n",
    "In the CMPE-140 class, there are 4 students: Harun, Bersun, Ahmet, Ensar. \n",
    "\n",
    "     Their first_quiz results are 75, 70, 50, 60. \n",
    "     Their second_quiz results are 70, NA, 90, 50.\n",
    "\n",
    "1) Create 2 vectors showing the quiz results (with the student names).\n",
    "\n",
    "2) Bersun takes the second quiz later because he was sick. His grade is 75. Ahmet objects his first quiz result and his grade increases to 55. Update the quiz results.\n",
    "\n",
    "3) Create a quiz_average vector which includes the average grades of the quizzes for each students.\n",
    "\n",
    "4) Create 2 vectors for the midterm_grades: 55, 66, 88, 40 and final_grades: 65, 70, 85, 30 \n",
    "\n",
    "5) Create a total_grade vector which sums up the 20% of quiz averages, 35% of the midterms and 45% of the finals.\n",
    "\n",
    "6) The students whose grades are below 50 fail the class. Remove their grades from the total_grade vector in one code.\n",
    "\n",
    "7) Round and then sort the total grades in decreasing order.\n",
    "\n"
   ]
  },
  {
   "cell_type": "code",
   "execution_count": null,
   "metadata": {
    "collapsed": true
   },
   "outputs": [],
   "source": [
    "##code here\n",
    "\n",
    "\n",
    "##code here"
   ]
  },
  {
   "cell_type": "markdown",
   "metadata": {},
   "source": [
    "#### Q2\n",
    "\n",
    "1) Create a vector called \"assets\" consisting of these 5 elements: cash, account receivable, supplies, shed and bicycle.\n",
    "\n",
    "2) Create another vector and name it \"liabilities\" consisting of only one element which is: account payable.\n",
    "\n",
    "3) Create the third vector called \"owner_equity\" consisting of two elements: common stock and retained earnings.\n",
    "\n",
    "4) Create another numerical vector called \"data_accounting\" consisting of these numbers : 3510,110,150,3300,2500,1300,7200,1070. \n",
    "\n",
    "        Do not change the order of elements in any vector.\n",
    "\n",
    "5) Assign the first three vectors' elements as names of the elements of vector \"data_accounting\" in the given order.\n",
    "\n",
    "6) Assign the  updated \"data_accounting\" vector to a new vector called \"balance_sheet\".\n",
    "\n",
    "7) Check if the sum of the first 5 elements of balance_sheet vector is equal to the sum of rest of the elements of the same vector.\n",
    "\n",
    "8) Assign the checking result to a new vector and name it \"balance_result\"\n",
    "\n",
    "\n"
   ]
  },
  {
   "cell_type": "code",
   "execution_count": null,
   "metadata": {
    "collapsed": true
   },
   "outputs": [],
   "source": [
    "##code here\n",
    "\n",
    "\n",
    "##code here"
   ]
  },
  {
   "cell_type": "markdown",
   "metadata": {},
   "source": [
    "#### Q3\n",
    "\n",
    "Aleksander wants to create a list to see how many midterms he has this term. \n",
    "To do so, he creates two vectors.\n",
    "\n",
    "1) The first vector he creates is called \"classes\" and consisting of 6 elements: ec203, ec205, ec223, math231, ec233 and ad211.\n",
    "\n",
    "2) He assigns 1 or 2 as elements to a new vector depending on the number of midterms that a particular class has.\n",
    "\n",
    "        Hence, he creates another vector called \"midterm_count\" consisting of these elements in the given order: 2,1,2,2,1,1.\n",
    "\n",
    "3) Eventually, he assigns the vector \"classes\" as the name of the vector \"midterm_count\". \n",
    "\n",
    "4) He creates a new vector called \"midterms\" and assign \"midterm_count\" vector to this new vector.\n",
    "\n",
    "5) However, he realizes that he forgets to add his ger201 having 2 midterms to the list as the last element. Besides, in the add-drop week, he drops the class with the code math231. Therefore, he wants to correct his mistakes.\n",
    "\n",
    "        Correct these mistake he had made by adding and removing elements in the vector \"midterms.\""
   ]
  },
  {
   "cell_type": "code",
   "execution_count": null,
   "metadata": {
    "collapsed": true
   },
   "outputs": [],
   "source": [
    "##code here\n",
    "\n",
    "\n",
    "##code here"
   ]
  },
  {
   "cell_type": "markdown",
   "metadata": {
    "collapsed": true
   },
   "source": [
    "#### Q4\n",
    "\n",
    "1) To work on it, a Statistics student needs a vector with 20 variables, repeating numbers are allowed and in an interval from 0 to 100.\n",
    "\n",
    "         Create a random vector with built-in function which satisfies previous conditions and assign it to \"random_vector\".\n",
    " \n",
    "2)  Student wants to see the distribution, therefore order these numbers in decreasing order and assign it to \"decreasing_order_vector\".\n",
    "\n",
    "3) Order the \"random_vector\" again in increasing order and name it \"increasing_order_vector\".\n",
    "\n",
    " 4)  Add increasing and decreasing ordered vectors and call this \"added_vectors\".\n"
   ]
  },
  {
   "cell_type": "code",
   "execution_count": null,
   "metadata": {
    "collapsed": true
   },
   "outputs": [],
   "source": [
    "##code here\n",
    "\n",
    "\n",
    "##code here"
   ]
  },
  {
   "cell_type": "markdown",
   "metadata": {},
   "source": [
    "#### Q5\n",
    "\n",
    "1) (56, 53, 44, 84, 80, 88, 77, 93, 65, 85) are grades and of a class. Create a vector by using these numbers and call this vector \"grades\".\n",
    "\n",
    "2) (\"Ali\", \"Burcu\", \"Ceren\", \"Deniz\", \"Ege\", \"Ferhat\", \"Gizem\", \"Irmak\", \"Kerem\", \"Leman\") are the names in the same order of grades. Assign these names to the \"grades\".\n",
    "\n",
    "3)  Professor realizes a mistake that for grades lower than 70, grades are shown less by 10 pts. Add 10 pts to those grades to solve the mistake.\n",
    "\n",
    "4)  Professor decides to give extra 5 pts for students who has grade lower than 80.\n",
    "\n",
    "5)  For passing class, the final score must be equal or higher than 80. Find only the names vector of students who could not pass the class and assign to \"failed\" vector.\n"
   ]
  },
  {
   "cell_type": "code",
   "execution_count": null,
   "metadata": {
    "collapsed": true
   },
   "outputs": [],
   "source": [
    "##code here\n",
    "\n",
    "\n",
    "##code here"
   ]
  },
  {
   "cell_type": "markdown",
   "metadata": {
    "collapsed": true
   },
   "source": [
    "#### Q6\n",
    "\n",
    "In EC102 class students need to get higher than 65 in their first midterm in order to attend the final.\n",
    "\n",
    "    Here is the grade sheet of EC102,\n",
    "\n",
    "    Ahmet = 56\n",
    "    Ayþe = 78\n",
    "    Kaan= 92\n",
    "    Halil = 62 \n",
    "    Serap = 95\n",
    "    Gizem= 53\n",
    "    Selin =25\n",
    "    Sarp= 48\n",
    "    Berk= 70\n",
    "    Buket= 88\n",
    "    Mert= 99\n",
    "    \n",
    "1) collect students in a vector called \"students_ec102\" with their grades \n",
    "\n",
    "2) List the names and grades of the ones that can attend final and collect them in a vector called \"good_students_ec102\", \n",
    "and the others in \"bad_students_ec102\"\n",
    "\n",
    "3) Since the professor wants to thank successful students select first 3 students and put them in a vector called \"best_ec102\" \n",
    "\n",
    "\n",
    "Clue: indexing can be helpful at some point\n"
   ]
  },
  {
   "cell_type": "code",
   "execution_count": null,
   "metadata": {
    "collapsed": true
   },
   "outputs": [],
   "source": [
    "##code here\n",
    "\n",
    "\n",
    "##code here"
   ]
  },
  {
   "attachments": {},
   "cell_type": "markdown",
   "metadata": {},
   "source": [
    "#### Q7\n",
    "\n",
    " Exchange rates of euro and dollar on the 1st day of every month in 2018 are listed below\n",
    " \n",
    "         euro: 4.52, 4.68, 4.65, 4.95, 4.90, 5.21 ,5.31, 5.75, 7.07, 6.96\n",
    "         dolar: 3.77, 3.76, 3.80, 4.00, 4.04, 4.49, 4.56 ,4.90, 6.63, 6.00\n",
    "1) collect these data in vectors called \"euro exchange rate\" and \"dollar exchange rate\" respectively\n",
    "\n",
    "2) then create another vector called months which will include the dates from January 1st to October 1st (like 01.01, 01.02 exc.)\n",
    "\n",
    "3) plot dates on the x-axis and euro changes on the y axis in red\n",
    "\n",
    "4) then add dolar line in blue\n",
    "\n",
    "5)  in the plot function add \"ylim= c(2,8)\" at the end in order to see the full graph\n"
   ]
  },
  {
   "cell_type": "code",
   "execution_count": null,
   "metadata": {
    "collapsed": true
   },
   "outputs": [],
   "source": [
    "##code here\n",
    "\n",
    "\n",
    "##code here"
   ]
  },
  {
   "cell_type": "markdown",
   "metadata": {
    "collapsed": true
   },
   "source": [
    "#### Q8\n",
    "\n",
    "    (41,45,37,39,43,36,42,38,46,35) are shoe sizes of a group of people.\n",
    "\n",
    "1) Create a vector by using these numbers in the same order which is named \"shoe_sizes\".\n",
    "\n",
    "        (\"Ahmet\",\"Senem\",\"Defne\",\"Dilan\",\"Furkan\",\"Beren\",\"Burak\",\"Ezgi\",\"Emir\",\"Nermin\") are the names of the people.\n",
    "\n",
    "2) Create a vector by using these names in the same order which is named \"people_names\".\n",
    "\n",
    "3) Assign \"people_names\" to \"shoe_sizes\" as the names. \n",
    "\n",
    "4) We notice that we make a mistake at names.Change the name \"Senem\" with \"Hasan\".\n",
    "\n",
    "5) Create a vector \"women\" that includes people with shoe sizes whose shoe sizes are lower than 40.\n",
    "\n",
    "6) Create a vector \"men\" that includes people with shoe sizes whose shoe sizes are higher than 40.\n",
    "\n",
    "7) Find only the names of the women who have the biggest and the second biggest shoe size.(Hint:You can use \"sort\" function)\n",
    "\n",
    "\n"
   ]
  },
  {
   "cell_type": "code",
   "execution_count": null,
   "metadata": {
    "collapsed": true
   },
   "outputs": [],
   "source": [
    "##code here\n",
    "\n",
    "\n",
    "##code here"
   ]
  },
  {
   "cell_type": "markdown",
   "metadata": {},
   "source": [
    "#### Q9\n",
    "\n",
    "1) Create a vector called \"cars\" including these numbers: 5,3,7,4,2 .\n",
    "\n",
    "2) Create an another vector called \"bicycles\" including these numbers:6,2,4,3,1\n",
    "\n",
    "3) Plot \"cars\" in red and specify the title as \"Cars and Bicycles\".\n",
    "\n",
    "4) Plot \"bicycles\" in blue on the same graph.\n",
    "\n"
   ]
  },
  {
   "cell_type": "code",
   "execution_count": null,
   "metadata": {
    "collapsed": true
   },
   "outputs": [],
   "source": [
    "##code here\n",
    "\n",
    "\n",
    "##code here"
   ]
  },
  {
   "cell_type": "markdown",
   "metadata": {
    "collapsed": true
   },
   "source": [
    "#### Q10\n",
    "\n",
    " You are accountant in a company and have a data about the profit of the company for different months.\n",
    "     \n",
    "        The data is as follows: Jan = 32700$, Mar = 30200$, Feb = 37600$, Apr = 40000$, May = 31200$,  Jun = 36900$.\n",
    " \n",
    " a) create a vector profit that holds the given data in given order.\n",
    " \n",
    " Now you realised the order of march and february is confused. \n",
    " \n",
    " b) Create a new vector (name it as new_income) in which the months are in right order. Do it by rearranging income vector. (Hint:Use vector indices)\n",
    " \n",
    " Then you notice a problem in the data of June and the correct data is not available. \n",
    " \n",
    " c) create a new vector final_income. It should be in right order and data for June should be seen as missing (remember what you should use for missing data)\n",
    "\n",
    "\n"
   ]
  },
  {
   "cell_type": "code",
   "execution_count": null,
   "metadata": {
    "collapsed": true
   },
   "outputs": [],
   "source": [
    "##code here\n",
    "\n",
    "\n",
    "##code here"
   ]
  },
  {
   "cell_type": "markdown",
   "metadata": {},
   "source": [
    "#### Q11\n",
    "\n",
    " Assume that there is a company which has 5 workers. \n",
    " \n",
    "     The salaries of the workers in the company are as follows: Ali = 1200 $, Ahmet = 1400$, Aylin = 1300$, Zehra = 4000$, Mustafa = 3700$\n",
    "     \n",
    "    And the working experiences are: Ali = 3 years, Ahmet = 4 years, Aylin = 2 years, Zehra = 8 years, Mustafa = 5 years\n",
    " \n",
    " a) Create two numeric vectors salary and work_experience that hold the given data. \n",
    " Do not forget labeling the elements in each vector with the names of workers.\n",
    " \n",
    " b) Create a new vector expe_of_high_sal which holds the work experiences of the workers who have salary more than 2500$\n",
    " \n",
    " c) Print the work experiences of the workers who have salary more than 2500$ in descending order (from highest to lowest).\n"
   ]
  },
  {
   "cell_type": "code",
   "execution_count": null,
   "metadata": {
    "collapsed": true
   },
   "outputs": [],
   "source": [
    "##code here\n",
    "\n",
    "\n",
    "##code here"
   ]
  },
  {
   "cell_type": "markdown",
   "metadata": {
    "collapsed": true
   },
   "source": [
    "#### Q12\n",
    "\n",
    " We have data about LOL.\n",
    "\n",
    " 1)Please write vectors that gives below information about the famous five characters of LOL.\n",
    " \n",
    "     Popularity(%):\n",
    "       KaiSa 30.8,LeeSin 26.9, Thres 26.5 , Lucian 23.9 , Yasuo 19.2\n",
    " \n",
    "     winrate(%):\n",
    "       KaiSa 49.5,LeeSin 48.2, Thres 51.1 , Lucian 50.9 , Yasuo 48.3\n",
    " \n",
    " 2)According to new data, Graves moves up 5th place with 21.4 popularity and 51.8 winrate.\n",
    " Please replace Yasuo with Grave.\n",
    " \n",
    " \n",
    " 3)Please remove characters who have less than 50 winrate.\n"
   ]
  },
  {
   "cell_type": "code",
   "execution_count": null,
   "metadata": {
    "collapsed": true
   },
   "outputs": [],
   "source": [
    "##code here\n",
    "\n",
    "\n",
    "##code here"
   ]
  },
  {
   "cell_type": "markdown",
   "metadata": {},
   "source": [
    "#### Q13\n",
    "\n",
    "Sedef lives in a flat with her friends named Merve,Esra,Deniz,Selin,Makbule.\n",
    "\n",
    "        Respectively, their ages are 25,23,26,20,29,24 \n",
    "        and their departments are economics,computer engineering,industrial engineering,management,mathematics,physics.\n",
    "\n",
    " 1)Please create \"ages\" and \"departments\" vectors which contain all information above.\n",
    " \n",
    " 2)Esra and Selin decided to leave the house. Please update two vectors by removing their info.\n",
    " \n",
    " 3)Sedef's best friend in her department ,Cemre, wants to stay with Sedef. She is 24 years old. Add Cemre's information to the vectors.\n",
    " \n"
   ]
  },
  {
   "cell_type": "code",
   "execution_count": null,
   "metadata": {
    "collapsed": true
   },
   "outputs": [],
   "source": [
    "### code between lines\n",
    "\n",
    "### code between lines"
   ]
  }
 ],
 "metadata": {
  "kernelspec": {
   "display_name": "R",
   "language": "R",
   "name": "ir"
  },
  "language_info": {
   "codemirror_mode": "r",
   "file_extension": ".r",
   "mimetype": "text/x-r-source",
   "name": "R",
   "pygments_lexer": "r",
   "version": "3.4.3"
  }
 },
 "nbformat": 4,
 "nbformat_minor": 2
}
