{
 "cells": [
  {
   "cell_type": "code",
   "execution_count": null,
   "metadata": {},
   "outputs": [],
   "source": [
    "options(jupyter.rich_display = F)"
   ]
  },
  {
   "cell_type": "markdown",
   "metadata": {},
   "source": [
    "# COLLATZ SEQUENCE #"
   ]
  },
  {
   "cell_type": "markdown",
   "metadata": {
    "tags": [
     "2019-2020-2",
     "ceren",
     "loops",
     "nested_loops",
     "break_statement",
     "repeat_statement",
     "hard"
    ]
   },
   "source": [
    "## QUESTION ##"
   ]
  },
  {
   "cell_type": "markdown",
   "metadata": {},
   "source": [
    "The _Collatz conjecture_ theorizes that any number using below algorithm will eventually be reduced to 1, its truth is supported by calculations, though hasn't yet been proved. Let's practice those calculations. \n",
    "\n",
    "The _Collatz sequence_ is defined as follows:\n",
    "* Start with any positive integer $n$.\n",
    "* If $n$ is even, set $n \\leftarrow n/2$\n",
    "* If $n$ is odd, set $n \\leftarrow 3n+1$\n",
    "* If $n=1$, stop.\n",
    "\n",
    "\n",
    "1. Write a function `collatz_seq(n)` that returns all the steps required to go from n to 1 in a Collatz sequence. For example, `collatz_seq(7)` should return the following:\n",
    "\n",
    "```r\n",
    "  > collatz_seq(7)\n",
    "\n",
    "  [1]  7 22 11 34 17 52 26 13 40 20 10  5 16  8  4  2  1\n",
    "```\n",
    "\n",
    "2. Write a function `collatz_len(n)` that returns the number of steps required to go from n to 1 in a Collatz sequence. For example, `collatz_len(6)` should return:\n",
    "\n",
    "```r\n",
    "  > collatz_len(6)\n",
    "  [1] 8\n",
    "```"
   ]
  },
  {
   "cell_type": "markdown",
   "metadata": {},
   "source": [
    "# FAIRPLAY BOARD GAME"
   ]
  },
  {
   "cell_type": "markdown",
   "metadata": {
    "tags": [
     "2019-2020-2",
     "ceren",
     "loops",
     "medium",
     "for_loops"
    ]
   },
   "source": [
    "## QUESTION"
   ]
  },
  {
   "cell_type": "markdown",
   "metadata": {},
   "source": [
    "There are two groups of student who are going to play a board game. However, not all of them are highly experienced in that certain boardgame. So, they decided to pair up in a way that the most experienced one will be with the least experienced one, the second most experienced will be with the second least experienced one, so on and so forth. \n",
    "\n",
    "1. The first group will consist of Berk, Ceren, Meryem, and Duygu. The second group will consist of Salih, Tuğrul, Selin, and Öykü. Create two vectors which include these names, create the first vector as **group1** and the second vector as **group2**. These students are sorted from most experienced to least experienced, so pay attention not to breaking order. \n",
    "\n",
    "```r\n",
    "   > group1\n",
    "   [1] \"berk\"   \"ceren\"  \"meryem\" \"duygu\"\n",
    "   \n",
    "   > group2\n",
    "   [1] \"salih\"  \"tugrul\" \"selin\"  \"oyku\"  \n",
    "```\n",
    "\n",
    "2. Write a function called **pairup** which will take **group1** and **group2** as its default arguments and returns one vector such that:\n",
    "\n",
    "```r\n",
    "   > pairup(x = group1, y = group2)\n",
    "   [1] \"berk\"   \"oyku\"   \"ceren\"  \"selin\"  \"meryem\" \"tugrul\" \"duygu\"  \"salih\" \n",
    "```\n",
    "\n",
    "3. Now generalize this **pairup** function to work with any number of group sizes. If two group sizes are not equal, the function must return \"group sizes do not match\". An example is shown below.\n",
    "\n",
    "```r\n",
    "   > group3 <- c(group1, \"koralp\")\n",
    "   > pairup(x = group3, y = group2)\n",
    "   [1] \"group sizes do not match\"\n",
    "```"
   ]
  },
  {
   "cell_type": "markdown",
   "metadata": {
    "tags": [
     "2019-2020-2",
     "selin_egeli",
     "loops",
     "for_loop",
     "medium"
    ]
   },
   "source": [
    "# HIGH SCORE"
   ]
  },
  {
   "cell_type": "markdown",
   "metadata": {},
   "source": [
    "## QUESTION"
   ]
  },
  {
   "cell_type": "markdown",
   "metadata": {},
   "source": [
    "A machine in the arcade has many many scores saved throughout many years. The maximum score you can achieve in this game is 500. All of the scores cannot be displayed on the high scores screen on the game because it has 250 points saved in it. So the workers of the arcade decide that they want to find the highest score out of the 500 and reward the winner. They also want to find who got the second and the third place. In order to do so:\n",
    "\n",
    "1. Copy the code below and create a vector named **scores** that will create a sample of 250 scores within 0 and 500 for convenience.\n",
    "\n",
    " ```r\n",
    "RNGversion(\"3.3.1\")\n",
    "set.seed(8)\n",
    "```\n",
    "\n",
    "2. Create a function named **high_score** that will take one argument **scr**.\n",
    "\n",
    "\n",
    "3. This function should take a value within the vector as the maximum and iterate through the others using a loop to find the actual maximum of the vector and update the argument **max**.\n",
    "\n",
    "\n",
    "4. The function should return the **max** value.\n",
    "\n",
    "\n",
    "5. Create a second function named **top_t** with the argument **scrs**.\n",
    "\n",
    "\n",
    "6. The function should sort the input vector and subset the second and the third element in order to find the second and third place winners.\n",
    "\n",
    "\n",
    "7. Run both functions to see the top three players.\n"
   ]
  },
  {
   "cell_type": "markdown",
   "metadata": {
    "tags": [
     "2019-2020-2",
     "selin",
     "loops",
     "medium"
    ]
   },
   "source": [
    "# GROCERY SHOPPING"
   ]
  },
  {
   "cell_type": "markdown",
   "metadata": {},
   "source": [
    "## QUESTION"
   ]
  },
  {
   "cell_type": "markdown",
   "metadata": {},
   "source": [
    "The check-out machine in the grocery store is desined to iterarete through the items that are shown. The machine does two things:\n",
    "\n",
    "1. Add all the products below the price level 25 tls to a vector.\n",
    "2. Sum up the prices of all of the goods that qualify for the 25 tl price limit.\n",
    "\n",
    "In order to fulfill those tasks:\n",
    "\n",
    "1. Copy the code below and create a sample from 1 to 50 with 35 elements for convenience. Name it **gro** .(Consider that the machine is iterating over 35 products within the 1 - 50 price range).\n",
    "\n",
    "```r\n",
    "RNGversion(\"3.3.1\")\n",
    "set.seed(11)\n",
    "```\n",
    "\n",
    "2. Create a function named **calc** which will iterate over the grocery list prices and add the qualifying ones to a vector named **sm**. \n",
    "\n",
    "\n",
    "3. The function should return the price list of the groceries that qualify for the 25 tl limit and the sum of that price list of the qualifying groceries.\n",
    "\n",
    "\n",
    "4. See the results of your function.\n",
    "\n",
    "\n",
    "**Hint:** : Use the following to see the returns of your function properly\n",
    "\n",
    "```r\n",
    "\n",
    "cat(\"price list of groceries:\",sm,\"\\n\", \"total price:\",sums)\n",
    "    \n",
    "```\n"
   ]
  },
  {
   "cell_type": "markdown",
   "metadata": {
    "tags": [
     "2019-2020-2",
     "selin",
     "loops",
     "medium"
    ]
   },
   "source": [
    "# FINDING THE CHEAPEST LATTE"
   ]
  },
  {
   "cell_type": "markdown",
   "metadata": {},
   "source": [
    "## QUESTION"
   ]
  },
  {
   "cell_type": "markdown",
   "metadata": {},
   "source": [
    "A person wants to find the cheapest latte in her neighborhood. To do this, she visits 15 local shops and adds each one to the price list of latte respectively. \n",
    "\n",
    "1. Copy the code below and create a sample from 7 to 25 with 15 elements for convenience, . Name it **latte_prices** . (The 7 and 25 here are assumed numbers of what a range of latte price can be). \n",
    "\n",
    " ```r\n",
    "RNGversion(\"3.3.1\")\n",
    "set.seed(18)\n",
    "```\n",
    "   \n",
    "2. Create a function named **cheapest** that takes one argument **lst**.\n",
    "\n",
    "\n",
    "3. The function should give both the list of latte prices and the minimum price.\n",
    "\n",
    "\n",
    "4. Try your function with the **latte_prices** vector.\n",
    "\n",
    "\n",
    "**Hint:** : Use the following to see the returns of your function properly\n",
    "\n",
    "```r\n",
    "\n",
    "cat(\"price list of latte:\",...,\"\\n\", \"minimum price of a latte:\",...)\n",
    "    \n",
    "```\n",
    "\n"
   ]
  },
  {
   "cell_type": "markdown",
   "metadata": {
    "tags": [
     "2019-2020-2",
     "meryem",
     "for_loop",
     "contional_inside_a_for_loop",
     "medium"
    ]
   },
   "source": [
    "# DISCOUNT"
   ]
  },
  {
   "cell_type": "markdown",
   "metadata": {},
   "source": [
    "## QUESTION"
   ]
  },
  {
   "cell_type": "markdown",
   "metadata": {},
   "source": [
    "A newly opened supermarket is holding a campaign for its first month. At the end of the month, the supermarket is going to give one of his customers a car by raffle. The supermarket gives its customers a right to raffle for every 3 spending over 50$.\n",
    "\n",
    "1. Create a function named **raffle** that takes a vector **spendings** as an argument, and by counting the spendings over 50$ gives the total right to raffle for a customer.\n",
    "\n",
    "\n",
    "2. Copy the code below:\n",
    "\n",
    "```r\n",
    "RNGversion(\"3.3.1\")\n",
    "set.seed(304071)\n",
    "```\n",
    "\n",
    "\n",
    "3. Create 3 sample vectors for 3 customers:\n",
    " - **Ayse** with 50 spendings between 20 and 65 dollars,\n",
    " - **Ali** with 30 spendings between 40 and 70 dollars,\n",
    " - **Ece** with 45 spendings between 45 and 55 dollars.\n",
    " \n",
    "```r\n",
    "> Ayse\n",
    " [1] 49 49 60 44 44 37 52 65 38 58 44 41 32 54 65 45 57 36 62 21 41 62 43 63 62\n",
    "[26] 63 41 31 50 51 48 20 33 59 65 59 30 64 64 22 37 35 26 57 63 31 41 62 62 50\n",
    "> Ali\n",
    " [1] 49 68 68 49 57 55 55 41 52 50 46 56 44 66 47 67 40 70 67 70 47 63 55 43 54\n",
    "[26] 61 40 55 52 57\n",
    "> Ece\n",
    " [1] 54 49 52 45 47 48 45 48 52 53 48 47 52 50 53 46 54 46 45 51 46 46 55 46 50\n",
    "[26] 50 46 45 55 47 49 55 51 47 54 46 48 48 48 53 49 47 53 47 54\n",
    "```\n",
    "\n",
    "\n",
    "4. Find the right of raffles for each customer as such:\n",
    "\n",
    "```r\n",
    "> raffle(Ayse)\n",
    "[1] 8\n",
    "> raffle(Ali)\n",
    "[1] 6\n",
    "> raffle(Ece)\n",
    "[1] 6\n",
    "```\n",
    "\n",
    "**Hint:**  You can use `floor()` to round down the count for the raffle rights."
   ]
  },
  {
   "cell_type": "markdown",
   "metadata": {
    "tags": [
     "2019-2020-2",
     "meryem",
     "for_loop",
     "contional_inside_a_for_loop",
     "easy"
    ]
   },
   "source": [
    "# GPA FILTERING"
   ]
  },
  {
   "cell_type": "markdown",
   "metadata": {},
   "source": [
    "## QUESTION"
   ]
  },
  {
   "cell_type": "markdown",
   "metadata": {},
   "source": [
    "There is a list of students, who applied to double major program with department of economics:\n",
    "\n",
    "|Student |GPA   |\n",
    "|---     |---   |\n",
    "|Ali     |3.65  |\n",
    "|Berra   |3.12  |\n",
    "|Can     |2.98  |\n",
    "|Deniz   |3.48  |\n",
    "|Gamze   |3.82  |\n",
    "\n",
    "The advisor will first consider the applicants that have a GPA above 3.5.\n",
    "\n",
    "1. Create a vector named **gpas** which consists of gpas of the students with their names.\n",
    "\n",
    "\n",
    "2. Create a function named **filter** that takes an argument **applicants**, and returns the students which have a GPA above 3.5, by skipping the others.\n",
    "\n",
    "\n",
    "3. Find the students who will be considered at first as such:\n",
    "\n",
    "```r\n",
    "> filter(applicants = gpas)\n",
    "  Ali Gamze \n",
    " 3.65  3.82 \n",
    "```\n"
   ]
  },
  {
   "cell_type": "markdown",
   "metadata": {
    "tags": [
     "2019-2020-2",
     "meryem",
     "for_loop",
     "iterate_through_a_vector",
     "easy"
    ]
   },
   "source": [
    "# THE CARPENTER"
   ]
  },
  {
   "cell_type": "markdown",
   "metadata": {},
   "source": [
    "## QUESTION"
   ]
  },
  {
   "cell_type": "markdown",
   "metadata": {},
   "source": [
    "Joe is a carpenter and manufactures tables from black cherry trees. There is a data set named `trees`, defined in RStudio. This data set provides measurements of the diameter, height and volume of timber in 31 felled black cherry trees, that Joe is going to use for the tables that he is manufacturing.\n",
    "\n",
    "Joe needs such wood that has 7ft height and girth between 9in and 12in . So he needs to select the wood between 9in and 12in girth and then divide them into pieces of 7ft height.\n",
    "\n",
    "1. First copy the code below to create two vectors for the **girths** and **heights** of the black cherry trees.\n",
    "\n",
    "```r\n",
    "girths <- trees$Girth\n",
    "heights <- trees$Height\n",
    "```\n",
    "\n",
    "\n",
    "2. Create a function named **wood** that takes two arguments\n",
    " - **girth** reflects the girths of the black cherry trees and is **girths** as default,\n",
    " - **height** reflects the heights of the trees and is **heights** as default.\n",
    " \n",
    " This function should filter the wood according their girth size and return the count of the wood after they are divided into 7ft pieces.\n",
    "\n",
    "\n",
    "3. Run the **wood** function with its default values as such:\n",
    "\n",
    "```r\n",
    "> wood()\n",
    "[1] 122\n",
    "```\n"
   ]
  },
  {
   "cell_type": "markdown",
   "metadata": {
    "tags": [
     "2019-2020-2",
     "oyku",
     "loops",
     "updating_variables",
     "easy"
    ]
   },
   "source": [
    "# UPDATING VARIABLES"
   ]
  },
  {
   "cell_type": "markdown",
   "metadata": {},
   "source": [
    "## QUESTION"
   ]
  },
  {
   "cell_type": "markdown",
   "metadata": {},
   "source": [
    "Sanem has homework. Therefore, she is cheating by writing a function with the while loop that will give her the results. \n",
    "\n",
    "1. Assign the numbers in her homework to a vector called **myhomework**. The numbers are every odd number between 1 and 15, and every even number between 16 and 30.\n",
    "\n",
    "\n",
    "2. Write a function with the ``while`` loop called **mycalculator** that will first subtract 5 from the number, then multiply it by 5, then add 5 afterwards.\n",
    "\n",
    "\n",
    "3. Get the results to Sanem's homework."
   ]
  },
  {
   "cell_type": "markdown",
   "metadata": {
    "tags": [
     "2019-2020-2",
     "oyku",
     "loops",
     "the_for_loop",
     "medium"
    ]
   },
   "source": [
    "# CANDY FOR EVERYONE"
   ]
  },
  {
   "cell_type": "markdown",
   "metadata": {},
   "source": [
    "## QUESTION"
   ]
  },
  {
   "cell_type": "markdown",
   "metadata": {},
   "source": [
    "Remzi wants to distribute the candy he has to the children in his neighborhood. He will distribute the candy in accordace with their ages.\n",
    "\n",
    "1. Create a vector called **ages** that have the children's ages: 3, 14, 6, 17, 8, 7, 5, 13, 11.\n",
    "\n",
    "\n",
    "2. Assign these names to your vector: Mustafa, Serpil, Hazal, Deniz, Ezgi, Ceren, Ekin, Sena, Sare.\n",
    "\n",
    "\n",
    "3. Write a function called **candydistributor** with the ``for`` loop that will distribute the candy according to the children's ages. If the child is below the age of 8, they will get candy four times their age. If the child is between the ages of 8 and 13, they will get candy two times their age. If the child is above the age of 13, they will get candy one plus their age.\n",
    "\n",
    "\n",
    "4. Try out your function with the **ages** vector."
   ]
  },
  {
   "cell_type": "markdown",
   "metadata": {
    "tags": [
     "2019-2020-2",
     "oyku",
     "loops",
     "the_while_loop",
     "medium"
    ]
   },
   "source": [
    "# THE WHILE LOOP"
   ]
  },
  {
   "cell_type": "markdown",
   "metadata": {},
   "source": [
    "## QUESTION"
   ]
  },
  {
   "cell_type": "markdown",
   "metadata": {},
   "source": [
    "There is a weight loss program in the local gym that lets the attendees lose 6% of their weight every week. Once their weights hit below 65, the program stops.\n",
    "\n",
    "1. Write a function with the ``while`` loop called **weightlosscalculator** that takes the argument *weight*. This function should return how many weeks an attendee will join the program and what their weight will be once they stop.\n",
    "\n",
    "\n",
    "2. Burcin is one of the attendees and she is currently 92 kgs. Input Burcin's current weight into the **weightlosscalculator** and see how many weeks she will attend the program and how much she will weigh afterwards.\n",
    "\n",
    "```r\n",
    "> weightlosscalculator(92)\n",
    "\"Weight after the program:\"   \"63.468019857152\"   \"Week:\"   \"6\" \n",
    "```\n",
    "\n",
    "3. Mustafa is another attendee and he is 132 kgs. Input his weight into your function next.\n",
    "\n",
    "```r\n",
    "> weightlosscalculator(132)\n",
    "\"Weight after the program:\"   \"62.8214815554814\"   \"Week:\"   \"12\" \n",
    "```"
   ]
  },
  {
   "cell_type": "markdown",
   "metadata": {
    "tags": [
     "2019-2020-2",
     "tugrul",
     "loops",
     "while_loop",
     "easy"
    ]
   },
   "source": [
    "# TO SUM UP"
   ]
  },
  {
   "cell_type": "markdown",
   "metadata": {},
   "source": [
    "## QUESTION"
   ]
  },
  {
   "cell_type": "markdown",
   "metadata": {},
   "source": [
    "1. Create a **res** variable which takes 0 value.\n",
    "\n",
    "\n",
    "2. Create a **num** variable which takes an integer below 100 from the console. \n",
    "\n",
    "\n",
    "3. Create a function **sum_up** without a parameter consists of a `while` loop. This function will sum all integers starting from you entered on previous step up to 100 and will print `\"The sum of numbers is: res\"`.\n",
    "\n",
    "\n",
    "4. Try numbers of 72, 56, 32 respectively to check if the function could sum up to 100 right.\n",
    "\n",
    "\n",
    "\n",
    "\n",
    "```r\n",
    "[1] \"The sum of numbers is: 2494\"\n",
    "\n",
    "[1] \"The sum of numbers is: 3510\"\n",
    "\n",
    "[1] \"The sum of numbers is: 4554\"\n",
    "```\n",
    "\n",
    "\n",
    "\n",
    "\n",
    "**Hint:** You may use `as.integer()` and `readline()` on step 2 and `print()` and `paste()` on step 3."
   ]
  },
  {
   "cell_type": "markdown",
   "metadata": {
    "tags": [
     "2019-2020-2",
     "tugrul",
     "loops",
     "iterate_through_a_vector",
     "medium"
    ]
   },
   "source": [
    "# COVID IS THE NEW PLAGUE"
   ]
  },
  {
   "cell_type": "markdown",
   "metadata": {},
   "source": [
    "## QUESTION"
   ]
  },
  {
   "cell_type": "markdown",
   "metadata": {},
   "source": [
    "While Covid-19 danger in Turkey is getting bigger day by day, Dr. Koca and his taskforce deprive for a function which will find the most deadly patients among the cases according to their body temperature to make the treatment process more decent and helpful. You can find the cases and body temperatures below:\n",
    "\n",
    "|Name of Patient|Temperature|\n",
    "|---|---|\n",
    "|Gary | 37.5  |\n",
    "| Fatma  |41.2   |\n",
    "| Pablo | 38.3  |\n",
    "| Melik  | 40.5 |\n",
    "|Kadir | 39  |\n",
    "|Stuart |  36.5 |\n",
    "\n",
    "1. Create a vector named **temp** which contains the temperature values of patients.\n",
    "\n",
    "\n",
    "2. Create another vector **pat** consists of the names of patients. Name **temp** with this new vector.\n",
    "\n",
    "\n",
    "3. Create a function **save_them** which will take just one argument **susp** and this function will bring the people together which have body temperature greater than or equal to 38.5 degrees and return their names and temp. values.\n",
    "\n",
    "\n",
    "4. Try this function with the vector you created in step 1.\n",
    "\n",
    "```r\n",
    "> save_them(temp)\n",
    "[1] Fatma Melik Kadir \n",
    "     41.2  40.5  39.0 \n",
    "```"
   ]
  },
  {
   "cell_type": "markdown",
   "metadata": {
    "tags": [
     "2019-2020-2",
     "tugrul",
     "loops",
     "break_statement",
     "medium"
    ]
   },
   "source": [
    "#  ROLL IN PEACE"
   ]
  },
  {
   "cell_type": "markdown",
   "metadata": {},
   "source": [
    "## QUESTION"
   ]
  },
  {
   "cell_type": "markdown",
   "metadata": {},
   "source": [
    "Atlantic Records signed a contract with the rapper Lil Uzi Vert and wants him to make albums which have not much longer than 1 hour and 45 minutes total playing length. He makes every song in the album same length(For example, each song in the album is 3 minutes.) Problem is, Uzi is a very productive artist and cannot realize when he should quit making a new song for the album most of the time. Let's create a function which could help him about quitting on which the exact number of songs.\n",
    "\n",
    "1. Create a function **eternal_atake** which takes two arguments **track** which is playing time of a song in the album and **length** with default value of 105. \n",
    "\n",
    "\n",
    "2. The function will take the track length as **track** argument and will return `\"You have now\", song number, \"songs in your album. You may roll in peace.\"` when he reaches the enough number of songs to fulfill contract. You are required to use `break` statement.\n",
    "\n",
    "\n",
    "3. Check the function for 3, 5 and 6 minutes songs in the given order to see if it gives the true results. \n",
    "\n",
    "```r\n",
    "> eternal_atake(3)\n",
    "[1] You have 35 songs in your album. You may roll in peace.\n",
    "\n",
    "> eternal_atake(5)\n",
    "[1] You have 21 songs in your album. You may roll in peace.\n",
    "\n",
    "> eternal_atake(6)\n",
    "[1] You have 17 songs in your album. You may roll in peace.\n",
    "```\n",
    "\n",
    "\n",
    "\n",
    "\n",
    "\n",
    "\n",
    "**Hint:** You may use `while` loop and `cat()` to make things easier."
   ]
  },
  {
   "cell_type": "markdown",
   "metadata": {
    "tags": [
     "2019-2020-2",
     "berk",
     "hard",
     "iterate_through_indices",
     "loops"
    ]
   },
   "source": [
    "# FINDING LUCAS NUMBERS USING FIBONACCI SERIES"
   ]
  },
  {
   "cell_type": "markdown",
   "metadata": {},
   "source": [
    "## QUESTION"
   ]
  },
  {
   "attachments": {
    "fibo_lucas.png": {
     "image/png": "[encoded data removed]"
    }
   },
   "cell_type": "markdown",
   "metadata": {},
   "source": [
    "The Lucas Numbers are an integer sequence named after the mathematician François Édouard Anatole Lucas. The Lucas sequence has the same recursive relationship as the Fibonacci sequence, where each term is the sum of the two previous terms, but with different starting values. \n",
    "\n",
    "- The Fibonacci sequence is as follows: $ F_n = 0, 1, 1, 2, 3, 5, 8, 13, 21, ... $\n",
    "- The Lucas sequences is as follows: $ L_n = 2, 1, 3, 4, 7, 11, 18, 29, 47, ... $\n",
    "\n",
    "The Lucas numbers are related to the Fibonacci numbers by many identities. For example, for any $n \\geq 2$, $n^{th}$ Lucas number $L_n = F_{n-1} + F_{n+1}$. A visual example is shown below:\n",
    "![fibo_lucas.png](attachment:fibo_lucas.png)\n",
    "\n",
    "\n",
    "\n",
    "Your teacher wants you find the Lucas sequence until $20^{th}$ element, using the Fibonacci sequence.\n",
    "\n",
    "1. Create a function named **fibonacci** which calculates the required Fibonacci sequence. It should take one argument **\"elements\"**, which has a default value of 10.\n",
    "\n",
    "      **Hint**: You should initialize first 2 Fibonacci numbers, 0 and 1.\n",
    "\n",
    "\n",
    "```r\n",
    "    > fibonacci()\n",
    "     [1]  0  1  1  2  3  5  8 13 21 34\n",
    "```\n",
    "\n",
    "\n",
    "2. Create a vector named **fib_numbers** and assign the returned vector of **fibonacci** function to this vector.\n",
    "\n",
    "    **Hint**: In order to find $20^{th}$ Lucas number, you need $19^{th}$ and $21^{th}$ Fibonacci number\n",
    "    \n",
    "```r\n",
    "    > fib_numbers\n",
    "     [1]    0    1    1    2    3    5    8   13   21   34   55   89  144  233  377\n",
    "    [16]  610  987 1597 2584 4181 6765\n",
    "```\n",
    "\n",
    "3. Create a function named **luc_sequence** which takes one argument **\"fib_sequence\"**, which is a Fibonacci sequence. This function should return the first 20 Lucas numbers using the Fibonacci sequence. You should use **fib_numbers** vector.\n",
    "\n",
    "```r\n",
    "    > luc_sequence(fib_numbers)\n",
    "     [1]    2    1    3    4    7   11   18   29   47   76  123  199  322  521  843\n",
    "    [16] 1364 2207 3571 5778 9349\n",
    "```"
   ]
  },
  {
   "cell_type": "markdown",
   "metadata": {
    "tags": [
     "2019-2020-2",
     "berk",
     "hard",
     "while_loop",
     "loops"
    ]
   },
   "source": [
    "# CONVERTING DECIMALS TO TERNARIES"
   ]
  },
  {
   "cell_type": "markdown",
   "metadata": {},
   "source": [
    "## QUESTION"
   ]
  },
  {
   "cell_type": "markdown",
   "metadata": {},
   "source": [
    "In our daily life, we use the Hindu-Arabic numeral system, also known as the decimal system. However, numeral systems are not limited to this one; for example, the binary system uses number 2 as its base. The ternary numeral system is similar to binaries, but uses number 3 as its base. \n",
    "\n",
    "In distant future, in a galaxy far far away, the Triclops race uses the ternary system. One day, they discover a blue planet which was called \"Earth\" by its former inhabitants and its scientific texts. However, they were all written in decimals and they should be converted to ternaries.\n",
    "\n",
    "1. First, write **RNGversion(\"3.3.1\")** to beginning of your code and then set seed to 100. Create a vector called **decimals** and assign 10 different numbers between 15 and 100.\n",
    "\n",
    "```r\n",
    "    > decimals\n",
    "     [1] 41 36 61 19 53 54 79 44 57 28\n",
    "```\n",
    "\n",
    "2. Create a function called **dec_to_tern** which takes a vector as the only argument **\"dec\"**. It should return the ternary equivalents of the decimal numbers.\n",
    "\n",
    "```r\n",
    "    > dec_to_tern(decimals)\n",
    "     [1] 1112 1100 2021 201 1222 2000 2221 1122 2010 1001\n",
    "```"
   ]
  },
  {
   "cell_type": "markdown",
   "metadata": {
    "tags": [
     "2019-2020-2",
     "berk",
     "nested_loops",
     "easy",
     "loops"
    ]
   },
   "source": [
    "# MULTIPLICATION TABLE"
   ]
  },
  {
   "cell_type": "markdown",
   "metadata": {},
   "source": [
    "## QUESTION"
   ]
  },
  {
   "cell_type": "markdown",
   "metadata": {},
   "source": [
    "Baran is a 14-year-old middle school student and his friends calls him \"Einstein\". One day, his teacher assigns a homework that requires them to create a multiplication table for numbers between 1 and 10. Since he is a genius and also a lazy boy, he wants to do this homework using R. Moreover, he claims that he can do this for any 4-digit number.\n",
    "\n",
    "1. Create a vector called **hw_numbers** containing the numbers from 1 to 10.\n",
    "\n",
    "```r\n",
    "    > hw_numbers\n",
    "     [1]  1  2  3  4  5  6  7  8  9 10\n",
    "```\n",
    "\n",
    "2. First, write **RNGversion(\"3.3.1\")** to beginning of your code and then set seed to 14. Create a vector called **four_digits** and assign five different and random 4-digit numbers to it. \n",
    "\n",
    "```r\n",
    "    > four_digits\n",
    "    [1] 3286 6739 9612 5971 9843\n",
    "```\n",
    "\n",
    "3. Create a function called **multi_table** which takes one argument **\"nums\"** that contains the numbers to be multiplied. It should return the result of multiplication and the numbers that are multiplied.\n",
    "\n",
    "    **Hint**: Use `print()` instead of `return()`.\n",
    "\n",
    "```r\n",
    "    > multi_table(hw_numbers)\n",
    "    [1] 1 1 1\n",
    "    [1] 1 2 2\n",
    "    [1] 1 3 3\n",
    "    [1] 1 4 4\n",
    "    [1] 1 5 5\n",
    "    [1] 1 6 6\n",
    "    [1] 1 7 7\n",
    "    [1] 1 8 8\n",
    "    [1] 1 9 9\n",
    "    [1]  1 10 10\n",
    "    [1] 2 1 2\n",
    "    [1] 2 2 4\n",
    "    [1] 2 3 6\n",
    "    [1] 2 4 8\n",
    "    [1]  2  5 10\n",
    "    [1]  2  6 12\n",
    "    [1]  2  7 14\n",
    "    [1]  2  8 16\n",
    "    [1]  2  9 18\n",
    "    [1]  2 10 20\n",
    "    ...\n",
    "    [1] 10  1 10\n",
    "    [1] 10  2 20\n",
    "    [1] 10  3 30\n",
    "    [1] 10  4 40\n",
    "    [1] 10  5 50\n",
    "    [1] 10  6 60\n",
    "    [1] 10  7 70\n",
    "    [1] 10  8 80\n",
    "    [1] 10  9 90\n",
    "    [1]  10  10 100\n",
    "\n",
    "    > multi_table(four_digits)\n",
    "    [1]     3286     3286 10797796\n",
    "    [1]     3286     6739 22144354\n",
    "    [1]     3286     9612 31585032\n",
    "    [1]     3286     5971 19620706\n",
    "    [1]     3286     9843 32344098\n",
    "    [1]     6739     3286 22144354\n",
    "    [1]     6739     6739 45414121\n",
    "    [1]     6739     9612 64775268\n",
    "    [1]     6739     5971 40238569\n",
    "    [1]     6739     9843 66331977\n",
    "    [1]     9612     3286 31585032\n",
    "    [1]     9612     6739 64775268\n",
    "    [1]     9612     9612 92390544\n",
    "    [1]     9612     5971 57393252\n",
    "    [1]     9612     9843 94610916\n",
    "    [1]     5971     3286 19620706\n",
    "    [1]     5971     6739 40238569\n",
    "    [1]     5971     9612 57393252\n",
    "    [1]     5971     5971 35652841\n",
    "    [1]     5971     9843 58772553\n",
    "    [1]     9843     3286 32344098\n",
    "    [1]     9843     6739 66331977\n",
    "    [1]     9843     9612 94610916\n",
    "    [1]     9843     5971 58772553\n",
    "    [1]     9843     9843 96884649\n",
    "​\n",
    "```"
   ]
  },
  {
   "cell_type": "markdown",
   "metadata": {
    "tags": [
     "2019-2020-2",
     "duygu",
     "updating_the_variables",
     "while_loop",
     "medium"
    ]
   },
   "source": [
    "# CAR DEPRECIATOIN "
   ]
  },
  {
   "cell_type": "markdown",
   "metadata": {},
   "source": [
    "## QUESTION"
   ]
  },
  {
   "cell_type": "markdown",
   "metadata": {},
   "source": [
    "Mert has a new car which has costed him around 150.000 dollars. \n",
    "\n",
    "The depreciation rate per year is 20% and the salvage value of his car (that is the eventual value that will remain after depreciation) is 75.000 dollars.\n",
    "\n",
    "1) Create a function **yearly_values** which takes three arguments **price** (price of the asset), **depr** (depreciation rate) and **salv** (salvage value) and calculates the yearly depreciated values of an asset before it reaches its salvage value. The function should return the values as a vector with the number of years as names. Use while loop in your function.\n",
    "\n",
    "2) Calculate the yearly depreciated values of Mert's car as such: \n",
    "```r\n",
    "> yearly_values(150000, 0.2, 75000)\n",
    "     1      2      3 \n",
    "120000  96000  76800 \n",
    "```\n",
    "\n",
    "**HINT:** Remember the value of the car at the end of the year cannot be less than salvage value.\n"
   ]
  },
  {
   "cell_type": "markdown",
   "metadata": {
    "tags": [
     "2019-2020-2",
     "duygu",
     "for_loop",
     "iterate_through_a_vector",
     "conditional_inside_a_for_loop",
     "easy"
    ]
   },
   "source": [
    "# ERRONEOUS TICKET SALE"
   ]
  },
  {
   "cell_type": "markdown",
   "metadata": {},
   "source": [
    "## QUESTION"
   ]
  },
  {
   "cell_type": "markdown",
   "metadata": {},
   "source": [
    "There is a concert with an age restriction -that forbids people under 18 from attending- in a well-known bar. However, due to an error at the ticket sales website, the seats have been sold to a range from 15 to 30. Now, organisers should find out the seats numbers of the tickets that have been sold to those under 18. \n",
    "\n",
    "1) First, write **RNGversion(\"3.3.1\")** to beginning of your code and then set seed to 1012. Create a sample of 50 from 15 to 30 that is the ages of people in each seat.\n",
    "```r\n",
    "> guests\n",
    " [1] 18 20 21 26 19 22 24 23 29 17 25 30 30 17 27 26 20 16 28 25 16 25 27 15 24 22 23 15 17 15 22\n",
    "[32] 15 18 23 17 29 18 20 15 23 22 28 27 26 24 17 15 29 27 17\n",
    "```\n",
    "\n",
    "2) Create a function **errors** with a for loop which iterates through the vector argument **ages** and return the numbers of seats that are sold to the people under 18. \n",
    "```r\n",
    "> errors(guests)\n",
    " [1]  10 14 18 21 24 28 29 30 32 35 39 46 47 50\n",
    "```"
   ]
  },
  {
   "cell_type": "markdown",
   "metadata": {
    "tags": [
     "2019-2020-2",
     "duygu",
     "for_loop",
     "iterate_through_a_vector",
     "medium"
    ]
   },
   "source": [
    "# COLOGNE SHORTAGE"
   ]
  },
  {
   "cell_type": "markdown",
   "metadata": {},
   "source": [
    "## QUESTION"
   ]
  },
  {
   "cell_type": "markdown",
   "metadata": {},
   "source": [
    "Due to a worldwide epidemic, the cologne stock has become dangerously low in a country. So, policy makers decided to limit the amount of cologne per individual to 250 gr.\n",
    "\n",
    "Here is the amounts of cologne that the five members of a family have bought so far.\n",
    "\n",
    "|       | Cologne (gr) |\n",
    "|-------|--------------|\n",
    "| Selin | 200          |\n",
    "| Mert  | 120          |\n",
    "| Secil | 140          |\n",
    "| Nehir | 230          |\n",
    "| Orhun | 100          |\n",
    "\n",
    "1) Create a vector **the_fam** with the amounts of cologne on the table. \n",
    "\n",
    "2) Create a function **cologne** with two arguments **gr** and **limit** with the default value of 250. Your function should iterate through the vector argument **gr** to find out the amount of cologne that each member can buy until they reach the **limit**, and then return the remaining amounts with the names of members.\n",
    "\n",
    "3) Try your function with the **the_fam** vector.\n",
    "```r\n",
    "> cologne(the_fam)\n",
    "Selin  Mert Secil Nehir Orhun \n",
    "   50   130   110    20   150\n",
    "```"
   ]
  }
 ],
 "metadata": {
  "celltoolbar": "Tags",
  "kernelspec": {
   "display_name": "R 3.4",
   "language": "R",
   "name": "ir34"
  },
  "language_info": {
   "codemirror_mode": "r",
   "file_extension": ".r",
   "mimetype": "text/x-r-source",
   "name": "R",
   "pygments_lexer": "r",
   "version": "3.5.2"
  },
  "toc": {
   "nav_menu": {},
   "number_sections": true,
   "sideBar": true,
   "skip_h1_title": false,
   "title_cell": "Table of Contents",
   "title_sidebar": "Contents",
   "toc_cell": false,
   "toc_position": {
    "height": "calc(100% - 180px)",
    "left": "10px",
    "top": "150px",
    "width": "256px"
   },
   "toc_section_display": true,
   "toc_window_display": true
  },
  "varInspector": {
   "cols": {
    "lenName": 16,
    "lenType": 16,
    "lenVar": 40
   },
   "kernels_config": {
    "python": {
     "delete_cmd_postfix": "",
     "delete_cmd_prefix": "del ",
     "library": "var_list.py",
     "varRefreshCmd": "print(var_dic_list())"
    },
    "r": {
     "delete_cmd_postfix": ") ",
     "delete_cmd_prefix": "rm(",
     "library": "var_list.r",
     "varRefreshCmd": "cat(var_dic_list()) "
    }
   },
   "types_to_exclude": [
    "module",
    "function",
    "builtin_function_or_method",
    "instance",
    "_Feature"
   ],
   "window_display": false
  }
 },
 "nbformat": 4,
 "nbformat_minor": 4
}
