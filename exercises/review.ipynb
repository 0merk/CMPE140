{
 "cells": [
  {
   "cell_type": "markdown",
   "metadata": {},
   "source": [
    "**SELECTED EXERCISES FOR A REVIEW BEFORE THE FINAL EXAM**"
   ]
  },
  {
   "cell_type": "markdown",
   "metadata": {},
   "source": [
    "# split()"
   ]
  },
  {
   "cell_type": "markdown",
   "metadata": {},
   "source": [
    "## Quick word count"
   ]
  },
  {
   "cell_type": "markdown",
   "metadata": {},
   "source": [
    "Let's have a sentence with many repeated words:"
   ]
  },
  {
   "cell_type": "code",
   "execution_count": null,
   "metadata": {},
   "outputs": [],
   "source": [
    "sentence <- \"Peter Piper picked a peck of pickled peppers A peck of pickled peppers Peter Piper picked If Peter Piper picked a peck of pickled peppers Where is the peck of pickled peppers Peter Piper picked?\""
   ]
  },
  {
   "cell_type": "code",
   "execution_count": null,
   "metadata": {},
   "outputs": [],
   "source": [
    "sentence"
   ]
  },
  {
   "cell_type": "markdown",
   "metadata": {},
   "source": [
    "Let's first change case to lower, and split into words:"
   ]
  },
  {
   "cell_type": "code",
   "execution_count": null,
   "metadata": {},
   "outputs": [],
   "source": [
    "words <- unlist(strsplit(tolower(sentence), split = \" \"))"
   ]
  },
  {
   "cell_type": "code",
   "execution_count": null,
   "metadata": {},
   "outputs": [],
   "source": [
    "str(words)"
   ]
  },
  {
   "cell_type": "markdown",
   "metadata": {},
   "source": [
    "The easiest way to create a wordlist is to use the split() function:"
   ]
  },
  {
   "cell_type": "code",
   "execution_count": null,
   "metadata": {},
   "outputs": [],
   "source": [
    "words_list <- split(1:length(words), words)"
   ]
  },
  {
   "cell_type": "code",
   "execution_count": null,
   "metadata": {},
   "outputs": [],
   "source": [
    "words_list"
   ]
  },
  {
   "cell_type": "markdown",
   "metadata": {},
   "source": [
    "## iris data frame"
   ]
  },
  {
   "cell_type": "markdown",
   "metadata": {},
   "source": [
    "First split the data frame into a list across species:"
   ]
  },
  {
   "cell_type": "code",
   "execution_count": null,
   "metadata": {},
   "outputs": [],
   "source": [
    "iris_split <- split(iris[,-5], iris[,5])\n",
    "iris_split"
   ]
  },
  {
   "cell_type": "code",
   "execution_count": null,
   "metadata": {},
   "outputs": [],
   "source": [
    "str(iris_split)"
   ]
  },
  {
   "cell_type": "markdown",
   "metadata": {},
   "source": [
    "## countries by income group"
   ]
  },
  {
   "cell_type": "code",
   "execution_count": null,
   "metadata": {},
   "outputs": [],
   "source": [
    "load(\"~/file/weo_subset2.RData\")"
   ]
  },
  {
   "cell_type": "markdown",
   "metadata": {},
   "source": [
    "Now let's see which countries are in which group:"
   ]
  },
  {
   "cell_type": "code",
   "execution_count": null,
   "metadata": {},
   "outputs": [],
   "source": [
    "with(weo_subset2, split(Country, income))"
   ]
  },
  {
   "cell_type": "markdown",
   "metadata": {},
   "source": [
    "# rowSums(), colSums()"
   ]
  },
  {
   "cell_type": "markdown",
   "metadata": {},
   "source": [
    "## Functions on matrices"
   ]
  },
  {
   "cell_type": "code",
   "execution_count": null,
   "metadata": {},
   "outputs": [],
   "source": [
    "m <- matrix( 1:9, nrow=3 )\n",
    "m "
   ]
  },
  {
   "cell_type": "code",
   "execution_count": null,
   "metadata": {},
   "outputs": [],
   "source": [
    "rowSums(m)"
   ]
  },
  {
   "cell_type": "code",
   "execution_count": null,
   "metadata": {},
   "outputs": [],
   "source": [
    "rowMeans(m)"
   ]
  },
  {
   "cell_type": "code",
   "execution_count": null,
   "metadata": {},
   "outputs": [],
   "source": [
    "colSums(m)"
   ]
  },
  {
   "cell_type": "code",
   "execution_count": null,
   "metadata": {},
   "outputs": [],
   "source": [
    "colMeans(m)"
   ]
  },
  {
   "cell_type": "markdown",
   "metadata": {},
   "source": [
    "# apply()"
   ]
  },
  {
   "cell_type": "markdown",
   "metadata": {},
   "source": [
    "## \\*plying through matrices"
   ]
  },
  {
   "cell_type": "markdown",
   "metadata": {},
   "source": [
    "Let's first create a random matrix:"
   ]
  },
  {
   "cell_type": "code",
   "execution_count": null,
   "metadata": {},
   "outputs": [],
   "source": [
    "mat_r <- matrix(sample(20), nrow = 4)\n",
    "mat_r"
   ]
  },
  {
   "cell_type": "markdown",
   "metadata": {},
   "source": [
    "### applying on row margin"
   ]
  },
  {
   "cell_type": "markdown",
   "metadata": {},
   "source": [
    "Let's get the row minimums:"
   ]
  },
  {
   "cell_type": "code",
   "execution_count": null,
   "metadata": {},
   "outputs": [],
   "source": [
    "apply(mat_r, 1, min)"
   ]
  },
  {
   "cell_type": "markdown",
   "metadata": {},
   "source": [
    "And get the minimum and maximums in one time:"
   ]
  },
  {
   "cell_type": "code",
   "execution_count": null,
   "metadata": {},
   "outputs": [],
   "source": [
    "apply(mat_r, 1, function(x) c(min(x), max(x)))"
   ]
  },
  {
   "cell_type": "markdown",
   "metadata": {},
   "source": [
    "### applying on column margin"
   ]
  },
  {
   "cell_type": "markdown",
   "metadata": {},
   "source": [
    "Let's get the col minimums:"
   ]
  },
  {
   "cell_type": "code",
   "execution_count": null,
   "metadata": {},
   "outputs": [],
   "source": [
    "apply(mat_r, 2, min)"
   ]
  },
  {
   "cell_type": "markdown",
   "metadata": {},
   "source": [
    "And minimum and maximums in one time:"
   ]
  },
  {
   "cell_type": "code",
   "execution_count": null,
   "metadata": {},
   "outputs": [],
   "source": [
    "apply(mat_r, 2, function(x) c(min(x), max(x)))"
   ]
  },
  {
   "cell_type": "markdown",
   "metadata": {},
   "source": [
    "## NEIGHBOUR COUNTS"
   ]
  },
  {
   "cell_type": "code",
   "execution_count": null,
   "metadata": {},
   "outputs": [],
   "source": [
    "load(\"~/file/weo_subset2.RData\")"
   ]
  },
  {
   "cell_type": "markdown",
   "metadata": {},
   "source": [
    "Now, use the same distance object.\n",
    "\n",
    "Write a function named **neigh_count** that takes two arguments:\n",
    "\n",
    "- radius\n",
    "- dist with a default value of distance object\n",
    "\n",
    "The function should return the count of neighbouring cities of each city within a radius, sorted descending\n",
    "\n",
    "Hint: Use apply function"
   ]
  },
  {
   "cell_type": "code",
   "execution_count": null,
   "metadata": {},
   "outputs": [],
   "source": [
    "neigh_count <- function(radius, dist = distance2)\n",
    "{\n",
    "    counts <- apply(dist, 1, function(x) sum(x <= radius) - 1)\n",
    "    return(sort(counts, decreasing = T))\n",
    "}\n",
    "                    \n",
    "neigh_count(100)"
   ]
  },
  {
   "cell_type": "markdown",
   "metadata": {},
   "source": [
    "# which.min()"
   ]
  },
  {
   "cell_type": "markdown",
   "metadata": {},
   "source": [
    "<a id='travelsales'></a>\n",
    "## TRAVELLING SALESMAN (also check for \"while()\")"
   ]
  },
  {
   "cell_type": "markdown",
   "metadata": {},
   "source": [
    "We will implement a simple \"greedy\" solution to travelling salesman problem: The shortest route to take to visit all cities in a path\n",
    "\n",
    "We will compare the solution to a brute force approach (trying all permutations) and see whether the fast, simple approach is as good as the slow brute force approach\n",
    "\n",
    "Of course, we will take advantage of the expressiveness of R language: Do much with little\n",
    "\n",
    "First let's download the distance matrix for 81 city centers again: We have a 81x81 matrix of bird fly distances in km's between 81 province centers in Turkey. To retrieve this matrix please follow the link below to download the file distance.RData:\n",
    "\n",
    "[distance2.RData](../file/distance2.RData)"
   ]
  },
  {
   "cell_type": "markdown",
   "metadata": {},
   "source": [
    "Load the data:"
   ]
  },
  {
   "cell_type": "code",
   "execution_count": null,
   "metadata": {},
   "outputs": [],
   "source": [
    "load(\"~/file/distance2.RData\")"
   ]
  },
  {
   "cell_type": "markdown",
   "metadata": {},
   "source": [
    "See what is inside:"
   ]
  },
  {
   "cell_type": "code",
   "execution_count": null,
   "metadata": {},
   "outputs": [],
   "source": [
    "distance2[1:5, 1:5]"
   ]
  },
  {
   "cell_type": "markdown",
   "metadata": {},
   "source": [
    "Now let's have a sample of the cities:"
   ]
  },
  {
   "cell_type": "code",
   "execution_count": null,
   "metadata": {},
   "outputs": [],
   "source": [
    "cities <- c(\"istanbul\", \"adana\", \"ankara\", \"van\", \"mugla\", \"artvin\")\n",
    "#cities <- c(\"istanbul\", \"adana\", \"ankara\", \"van\", \"mugla\", \"artvin\", \"kayseri\", \"usak\", \"erzincan\")\n",
    "#cities <- c(\"istanbul\", \"adana\", \"ankara\", \"van\", \"mugla\", \"artvin\", \"kayseri\", \"usak\", \"erzincan\", \"sinop\")\n",
    "cities"
   ]
  },
  {
   "cell_type": "markdown",
   "metadata": {},
   "source": [
    "**Exercise 1:**\n",
    "\n",
    "Write a function shortest() using the below template (just fill in ...'s)\n",
    "\n",
    "The logic is:\n",
    "\n",
    "- We select a starting position out of the cities\n",
    "- We keep track of visited and unvisited cities and the last visited location\n",
    "- In each iteration, we select the next city with the shortest distance to the current one\n",
    "- We continue until we run out of unvisited cities\n",
    "- We report both the distance and the vector of cities in visited order as a list"
   ]
  },
  {
   "cell_type": "markdown",
   "metadata": {},
   "source": [
    "```R\n",
    "\n",
    "shortest <- function(path = cities, start = \"istanbul\", dist = distance2)\n",
    "{\n",
    "    dist2 <- distance2[cities, cities] # subset the larger matrix so that we deal with a smaller one\n",
    "    diag(dist2) <- Inf # toggle the diagonal to Inf so that min() does not return 0's\n",
    "\n",
    "    # we keep track of two city vectors: path is for unvisited cities, path2 is for visited ones\n",
    "    path <- setdiff(path, start) # delete the starting city\n",
    "    path2 <- start # append the start city to visited\n",
    "\n",
    "    location <- start # current location is the start city\n",
    "    distance <- 0 # initiate the cumulative distance\n",
    "    \n",
    "    while(length(path) > 0) # as long as unvisited cities exist\n",
    "    {\n",
    "        rowx <- ... # get the row for current location, columns for unvisited cities\n",
    "        nextind <- ... # get the index of the minimum distance to next city, use which.min\n",
    "        distance <- ... # add the minimum distance to the cumulative\n",
    "        location <- ... # get the next location\n",
    "        path <- ... # delete the next city from unvisited ones, use setdiff\n",
    "        path2 <- ... # append the next city to visited ones\n",
    "    }\n",
    "    \n",
    "    return(list(..., ...)) # report the cumulative distance and cities in visited order as a list\n",
    "}\n",
    "\n",
    "```"
   ]
  },
  {
   "cell_type": "markdown",
   "metadata": {},
   "source": [
    "**Solution:**"
   ]
  },
  {
   "cell_type": "code",
   "execution_count": null,
   "metadata": {},
   "outputs": [],
   "source": [
    "shortest <- function(path = cities, start = \"istanbul\", dist = distance2)\n",
    "{\n",
    "    dist2 <- distance2[cities, cities] # subset the larger matrix so that we deal with a smaller one\n",
    "    diag(dist2) <- Inf # toggle the diagonal to Inf so that min() does not return 0's\n",
    "\n",
    "    # we keep track of two city vectors: path is for unvisited cities, path2 is for visited ones\n",
    "    path <- setdiff(path, start) # delete the starting city\n",
    "    path2 <- start # append the start city to visited\n",
    "\n",
    "    location <- start # current location is the start city\n",
    "    distance <- 0 # initiate the cumulative distance\n",
    "    \n",
    "    while(length(path) > 0) # as long as unvisited cities exist\n",
    "    {\n",
    "        rowx <- dist2[location,path] # get the row for current location, columns for unvisited cities\n",
    "        nextind <- which.min(rowx) # get the index of the minimum distance to next city\n",
    "        distance <- distance + min(rowx) # add the minimum distance to the cumulative\n",
    "        location <- path[nextind] # get the next location\n",
    "        path <- setdiff(path, location) # delete the next city from unvisited ones\n",
    "        path2 <- c(path2, location) # append the next city to visited ones\n",
    "    }\n",
    "    \n",
    "    return(list(distance, path2)) # report the cumulative distance and cities in visited order as a list\n",
    "}"
   ]
  },
  {
   "cell_type": "markdown",
   "metadata": {},
   "source": [
    "Now let's check for different starting cities:"
   ]
  },
  {
   "cell_type": "code",
   "execution_count": null,
   "metadata": {},
   "outputs": [],
   "source": [
    "shortest(start = \"istanbul\")\n",
    "shortest(start = \"ankara\")"
   ]
  },
  {
   "cell_type": "markdown",
   "metadata": {},
   "source": [
    "Note that, total distance differs for the starting city. So for the optimal solution, we should also find the optimal starting city, along with the optimal path for a given starting city"
   ]
  },
  {
   "cell_type": "markdown",
   "metadata": {},
   "source": [
    "**Exercise 2:**\n",
    "\n",
    "What if we try the function for all possible starting cities as such (fill in ... part):\n",
    "\n",
    "```R\n",
    "alternatives <- lapply(cities, function(x) ...)\n",
    "```"
   ]
  },
  {
   "cell_type": "markdown",
   "metadata": {},
   "source": [
    "**Solution 2:**"
   ]
  },
  {
   "cell_type": "code",
   "execution_count": null,
   "metadata": {},
   "outputs": [],
   "source": [
    "alternatives <- lapply(cities, function(x) shortest(cities, x))"
   ]
  },
  {
   "cell_type": "markdown",
   "metadata": {},
   "source": [
    "Now we list the optimal paths for all alternative starting cities:"
   ]
  },
  {
   "cell_type": "code",
   "execution_count": null,
   "metadata": {},
   "outputs": [],
   "source": [
    "alternatives"
   ]
  },
  {
   "cell_type": "markdown",
   "metadata": {},
   "source": [
    "**Exercise 3:**\n",
    "\n",
    "Now let's choose the shortest one programmatically as such:\n",
    "\n",
    "```R\n",
    "dist1 <- sapply(alternatives, ...)\n",
    "alternatives[[...]]\n",
    "\n",
    "[[1]]\n",
    "[1] 2219\n",
    "\n",
    "[[2]]\n",
    "[1] \"mugla\"    \"istanbul\" \"ankara\"   \"adana\"    \"van\"      \"artvin\"\n",
    "```"
   ]
  },
  {
   "cell_type": "markdown",
   "metadata": {},
   "source": [
    "**Solution 3:**"
   ]
  },
  {
   "cell_type": "code",
   "execution_count": null,
   "metadata": {},
   "outputs": [],
   "source": [
    "dist1 <- sapply(alternatives, \"[[\", 1)\n",
    "dist1\n",
    "alternatives[[which.min(dist1)]]"
   ]
  },
  {
   "cell_type": "markdown",
   "metadata": {},
   "source": [
    "For a given vector of n cities, we just construct and test n permutations. Now let's compare with the brute force or exhaustive approach"
   ]
  },
  {
   "cell_type": "markdown",
   "metadata": {},
   "source": [
    "# merge()"
   ]
  },
  {
   "cell_type": "markdown",
   "metadata": {},
   "source": [
    "## Merge Operations"
   ]
  },
  {
   "cell_type": "markdown",
   "metadata": {},
   "source": [
    "Let's first review four types of merges:"
   ]
  },
  {
   "cell_type": "code",
   "execution_count": null,
   "metadata": {},
   "outputs": [],
   "source": [
    "df_weights <- data.frame(names = c(\"ahmet\", \"ayse\"), weights = c(75, 52))\n",
    "df_weights"
   ]
  },
  {
   "cell_type": "code",
   "execution_count": null,
   "metadata": {},
   "outputs": [],
   "source": [
    "df_heights <- data.frame(names = c(\"ali\", \"ayse\"), heights = c(176, 165))\n",
    "df_heights"
   ]
  },
  {
   "cell_type": "markdown",
   "metadata": {},
   "source": [
    "### Left (outer) join"
   ]
  },
  {
   "cell_type": "markdown",
   "metadata": {},
   "source": [
    "Join the two data frames, on names fields, keeping all categories in the LEFT df:"
   ]
  },
  {
   "cell_type": "code",
   "execution_count": null,
   "metadata": {},
   "outputs": [],
   "source": [
    "merge(df_weights, df_heights, by.x = \"names\", by.y = \"names\", all.x = TRUE)"
   ]
  },
  {
   "cell_type": "markdown",
   "metadata": {},
   "source": [
    "### Right (outer) join"
   ]
  },
  {
   "cell_type": "markdown",
   "metadata": {},
   "source": [
    "Join the two data frames, on names fields, keeping all categories in the RIGHT df:"
   ]
  },
  {
   "cell_type": "code",
   "execution_count": null,
   "metadata": {},
   "outputs": [],
   "source": [
    "merge(df_weights, df_heights, by.x = \"names\", by.y = \"names\", all.y = TRUE)"
   ]
  },
  {
   "cell_type": "markdown",
   "metadata": {},
   "source": [
    "### Full outer join"
   ]
  },
  {
   "cell_type": "markdown",
   "metadata": {},
   "source": [
    "Join the two data frames, on names fields, keeping all categories in either df:"
   ]
  },
  {
   "cell_type": "code",
   "execution_count": null,
   "metadata": {},
   "outputs": [],
   "source": [
    "merge(df_weights, df_heights, by.x = \"names\", by.y = \"names\", all = TRUE)"
   ]
  },
  {
   "cell_type": "markdown",
   "metadata": {},
   "source": [
    "### Inner join"
   ]
  },
  {
   "cell_type": "markdown",
   "metadata": {},
   "source": [
    "Join the two data frames, on names fields, keeping only common categories in both df's:"
   ]
  },
  {
   "cell_type": "code",
   "execution_count": null,
   "metadata": {},
   "outputs": [],
   "source": [
    "merge(df_weights, df_heights, by.x = \"names\", by.y = \"names\", all = FALSE)"
   ]
  },
  {
   "cell_type": "markdown",
   "metadata": {},
   "source": [
    "### Flights"
   ]
  },
  {
   "cell_type": "markdown",
   "metadata": {},
   "source": [
    "Let's merge flights and dep_delay_date_origin2 data frames into flights2, so that we have the average departure delay for the date and origin airport pair for all rows:\n",
    "\n",
    "If you don't have the dep_delay_date_origin2 data frame, you can load it as such:"
   ]
  },
  {
   "cell_type": "code",
   "execution_count": null,
   "metadata": {},
   "outputs": [],
   "source": [
    "flights <- read.csv(\"~/file/flights14.csv\")"
   ]
  },
  {
   "cell_type": "code",
   "execution_count": null,
   "metadata": {},
   "outputs": [],
   "source": [
    "load(\"~/file/dep_delay_date_origin2.RData\")"
   ]
  },
  {
   "cell_type": "code",
   "execution_count": null,
   "metadata": {},
   "outputs": [],
   "source": [
    "flights2 <- merge(flights,\n",
    "                  dep_delay_date_origin2,\n",
    "                  by.x = c(\"dates\", \"origin\"),\n",
    "                 by.y = c(\"dates\", \"origin\"),\n",
    "                 all = T)"
   ]
  },
  {
   "cell_type": "code",
   "execution_count": null,
   "metadata": {},
   "outputs": [],
   "source": [
    "head(flights2)"
   ]
  },
  {
   "cell_type": "markdown",
   "metadata": {},
   "source": [
    "## merge types"
   ]
  },
  {
   "cell_type": "markdown",
   "metadata": {},
   "source": [
    "Now let's create a small sample: just the first rows of each species:"
   ]
  },
  {
   "cell_type": "code",
   "execution_count": null,
   "metadata": {},
   "outputs": [],
   "source": [
    "sample1 <- aggregate(iris[,-5], by = list(iris[,5]), FUN = head, 1)\n",
    "sample1"
   ]
  },
  {
   "cell_type": "markdown",
   "metadata": {},
   "source": [
    "Let's delete the virginica row from sample1 "
   ]
  },
  {
   "cell_type": "code",
   "execution_count": null,
   "metadata": {},
   "outputs": [],
   "source": [
    "sample2 <- sample1[-3,]\n",
    "sample2"
   ]
  },
  {
   "cell_type": "markdown",
   "metadata": {},
   "source": [
    "And from the averages df, let's delete the setosa row:"
   ]
  },
  {
   "cell_type": "code",
   "execution_count": null,
   "metadata": {},
   "outputs": [],
   "source": [
    "averages2 <- averages[-1,]\n",
    "averages2"
   ]
  },
  {
   "cell_type": "markdown",
   "metadata": {},
   "source": [
    "### Left join"
   ]
  },
  {
   "cell_type": "markdown",
   "metadata": {},
   "source": [
    "Join the sepal lengths on species, keep all species categories on the LEFT df:"
   ]
  },
  {
   "cell_type": "code",
   "execution_count": null,
   "metadata": {},
   "outputs": [],
   "source": [
    "merge(sample2[,1:2], averages2[,1:2], by = \"Group.1\", all.x = T)"
   ]
  },
  {
   "cell_type": "markdown",
   "metadata": {},
   "source": [
    "### Right join"
   ]
  },
  {
   "cell_type": "markdown",
   "metadata": {},
   "source": [
    "Now keep all species on the RIGHT df:"
   ]
  },
  {
   "cell_type": "code",
   "execution_count": null,
   "metadata": {},
   "outputs": [],
   "source": [
    "merge(sample2[,1:2], averages2[,1:2], by = \"Group.1\", all.y = T)"
   ]
  },
  {
   "cell_type": "markdown",
   "metadata": {},
   "source": [
    "### Full outer join"
   ]
  },
  {
   "cell_type": "markdown",
   "metadata": {},
   "source": [
    "Take the union of species on either df:"
   ]
  },
  {
   "cell_type": "code",
   "execution_count": null,
   "metadata": {},
   "outputs": [],
   "source": [
    "merge(sample2[,1:2], averages2[,1:2], by = \"Group.1\", all = T)"
   ]
  },
  {
   "cell_type": "markdown",
   "metadata": {},
   "source": [
    "### Inner join"
   ]
  },
  {
   "cell_type": "markdown",
   "metadata": {},
   "source": [
    "Keep only the common species:"
   ]
  },
  {
   "cell_type": "code",
   "execution_count": null,
   "metadata": {},
   "outputs": [],
   "source": [
    "merge(sample2[,1:2], averages2[,1:2], by = \"Group.1\", all = F)"
   ]
  },
  {
   "cell_type": "markdown",
   "metadata": {},
   "source": [
    "## Exercise 2: Merge"
   ]
  },
  {
   "cell_type": "markdown",
   "metadata": {},
   "source": [
    "You can load the necessary objects if you couldn't follow the steps up to now:"
   ]
  },
  {
   "cell_type": "code",
   "execution_count": null,
   "metadata": {},
   "outputs": [],
   "source": [
    "load(\"~/file/weo_subset2.RData\")\n",
    "load(\"~/file/gdp_agg.RData\")"
   ]
  },
  {
   "cell_type": "markdown",
   "metadata": {},
   "source": [
    "Now, based on the common column \"income\", merge data frames weo_subset2 and gdp_agg into weo_merged DF so that the median growth of the respective income group can be tracked along for all countries"
   ]
  },
  {
   "cell_type": "markdown",
   "metadata": {},
   "source": [
    "**Solution:**"
   ]
  },
  {
   "cell_type": "code",
   "execution_count": null,
   "metadata": {},
   "outputs": [],
   "source": [
    "weo_merged <- merge(weo_subset2, gdp_agg, by = \"income\")\n",
    "weo_merged"
   ]
  },
  {
   "cell_type": "markdown",
   "metadata": {},
   "source": [
    "## MERGE LEFT"
   ]
  },
  {
   "cell_type": "markdown",
   "metadata": {},
   "source": [
    "Let's have two data frames as such:\n",
    "\n",
    "```R\n",
    "RNGversion(\"3.3.1\")\n",
    "set.seed(40)\n",
    "select <- sample(letters, 15)\n",
    "select1 <- sample(select, 10)\n",
    "select2 <- sample(select, 10)\n",
    "datf1 <- data.frame(label = select1, data1 = round(rnorm(10, 5, 3), 1))\n",
    "datf2 <- data.frame(label = select2, data2 = round(rnorm(10, 5, 3), 1))\n",
    "\n",
    "datf1\n",
    "\n",
    "   label data1\n",
    "1  k     1.2  \n",
    "2  j     7.0  \n",
    "3  p     3.5  \n",
    "4  v     2.2  \n",
    "5  y     4.3  \n",
    "6  e     2.5  \n",
    "7  q     5.1  \n",
    "8  r     5.6  \n",
    "9  w     3.5  \n",
    "10 b     6.1  \n",
    "   label data2\n",
    "1  w     7.8  \n",
    "2  e     5.4  \n",
    "3  s     3.0  \n",
    "4  g     3.2  \n",
    "5  k     5.1  \n",
    "6  b     5.1  \n",
    "7  q     3.3  \n",
    "8  j     8.7  \n",
    "9  r     7.5  \n",
    "10 c     6.5 \n",
    "```"
   ]
  },
  {
   "cell_type": "markdown",
   "metadata": {},
   "source": [
    "Please write a function left(df1, df2) such that all categories in the label column of df1 are kept (whether they correspond to label categories in df2), so the function should make a left join as such:\n",
    "\n",
    "```R\n",
    "left(df1 = datf1, df2 = datf2)\n",
    "\n",
    "   label data1 data2\n",
    "1  b     6.1   5.1  \n",
    "2  e     2.5   5.4  \n",
    "3  j     7.0   8.7  \n",
    "4  k     1.2   5.1  \n",
    "5  p     3.5    NA  \n",
    "6  q     5.1   3.3  \n",
    "7  r     5.6   7.5  \n",
    "8  v     2.2    NA  \n",
    "9  w     3.5   7.8  \n",
    "10 y     4.3    NA  \n",
    "```\n",
    "\n",
    "**Hint:** You should use the merge() function"
   ]
  },
  {
   "cell_type": "markdown",
   "metadata": {},
   "source": [
    "**Solution:**"
   ]
  },
  {
   "cell_type": "code",
   "execution_count": null,
   "metadata": {},
   "outputs": [],
   "source": [
    "RNGversion(\"3.3.1\")\n",
    "set.seed(40)\n",
    "select <- sample(letters, 15)\n",
    "select1 <- sample(select, 10)\n",
    "select2 <- sample(select, 10)\n",
    "datf1 <- data.frame(label = select1, data1 = round(rnorm(10, 5, 3), 1))\n",
    "datf2 <- data.frame(label = select2, data2 = round(rnorm(10, 5, 3), 1))\n",
    "datf1\n",
    "datf2\n",
    "\n",
    "left <- function(df1, df2)\n",
    "{\n",
    "    merge(df1, df2, by = \"label\", all.x = T)\n",
    "}\n",
    "\n",
    "left(df1 = datf1, df2 = datf2)"
   ]
  },
  {
   "cell_type": "markdown",
   "metadata": {},
   "source": [
    "## MERGE INNER"
   ]
  },
  {
   "cell_type": "markdown",
   "metadata": {},
   "source": [
    "Let's have two data frames as such:\n",
    "\n",
    "```R\n",
    "RNGversion(\"3.3.1\")\n",
    "set.seed(40)\n",
    "select <- sample(letters, 15)\n",
    "select1 <- sample(select, 10)\n",
    "select2 <- sample(select, 10)\n",
    "datf1 <- data.frame(label = select1, data1 = round(rnorm(10, 5, 3), 1))\n",
    "datf2 <- data.frame(label = select2, data2 = round(rnorm(10, 5, 3), 1))\n",
    "\n",
    "datf1\n",
    "\n",
    "   label data1\n",
    "1  k     1.2  \n",
    "2  j     7.0  \n",
    "3  p     3.5  \n",
    "4  v     2.2  \n",
    "5  y     4.3  \n",
    "6  e     2.5  \n",
    "7  q     5.1  \n",
    "8  r     5.6  \n",
    "9  w     3.5  \n",
    "10 b     6.1  \n",
    "\n",
    "datf2\n",
    "\n",
    "   label data2\n",
    "1  w     7.8  \n",
    "2  e     5.4  \n",
    "3  s     3.0  \n",
    "4  g     3.2  \n",
    "5  k     5.1  \n",
    "6  b     5.1  \n",
    "7  q     3.3  \n",
    "8  j     8.7  \n",
    "9  r     7.5  \n",
    "10 c     6.5  \n",
    "```"
   ]
  },
  {
   "cell_type": "markdown",
   "metadata": {},
   "source": [
    "Please write a function inner(df1, df2) such that only common label categories in both data frames are kept so the function should make an inner join as such:\n",
    "\n",
    "```R\n",
    "inner(df1 = datf1, df2 = datf2)\n",
    "\n",
    "  label data1 data2\n",
    "1 b     6.1   5.1  \n",
    "2 e     2.5   5.4  \n",
    "3 j     7.0   8.7  \n",
    "4 k     1.2   5.1  \n",
    "5 q     5.1   3.3  \n",
    "6 r     5.6   7.5  \n",
    "7 w     3.5   7.8  \n",
    "```\n",
    "\n",
    "**Hint:** You should use the merge() function"
   ]
  },
  {
   "cell_type": "markdown",
   "metadata": {},
   "source": [
    "**Solution:**"
   ]
  },
  {
   "cell_type": "code",
   "execution_count": null,
   "metadata": {},
   "outputs": [],
   "source": [
    "RNGversion(\"3.3.1\")\n",
    "set.seed(40)\n",
    "select <- sample(letters, 15)\n",
    "select1 <- sample(select, 10)\n",
    "select2 <- sample(select, 10)\n",
    "datf1 <- data.frame(label = select1, data1 = round(rnorm(10, 5, 3), 1))\n",
    "datf2 <- data.frame(label = select2, data2 = round(rnorm(10, 5, 3), 1))\n",
    "datf1\n",
    "datf2\n",
    "\n",
    "inner <- function(df1, df2)\n",
    "{\n",
    "    merge(df1, df2, by = \"label\", all = F)\n",
    "}\n",
    "\n",
    "inner(df1 = datf1, df2 = datf2)"
   ]
  },
  {
   "cell_type": "markdown",
   "metadata": {},
   "source": [
    "# aggregate()"
   ]
  },
  {
   "cell_type": "markdown",
   "metadata": {},
   "source": [
    "## Summarizing a data frame with aggregate()"
   ]
  },
  {
   "cell_type": "markdown",
   "metadata": {},
   "source": [
    "iris is a famous database and is a built-in one in R:"
   ]
  },
  {
   "cell_type": "code",
   "execution_count": null,
   "metadata": {},
   "outputs": [],
   "source": [
    "iris"
   ]
  },
  {
   "cell_type": "markdown",
   "metadata": {},
   "source": [
    "Info on iris:"
   ]
  },
  {
   "cell_type": "code",
   "execution_count": null,
   "metadata": {},
   "outputs": [],
   "source": [
    "?iris"
   ]
  },
  {
   "cell_type": "markdown",
   "metadata": {},
   "source": [
    "```\n",
    "Format\n",
    "iris is a data frame with 150 cases (rows) and 5 variables (columns) named Sepal.Length, Sepal.Width, Petal.Length, Petal.Width, and Species.\n",
    "\n",
    "iris3 gives the same data arranged as a 3-dimensional array of size 50 by 4 by 3, as represented by S-PLUS. The first dimension gives the case number within the species subsample, the second the measurements with names Sepal L., Sepal W., Petal L., and Petal W., and the third the species.\n",
    "```"
   ]
  },
  {
   "cell_type": "markdown",
   "metadata": {},
   "source": [
    "See the unique values of species:"
   ]
  },
  {
   "cell_type": "code",
   "execution_count": null,
   "metadata": {},
   "outputs": [],
   "source": [
    "unique(iris$Species)"
   ]
  },
  {
   "cell_type": "markdown",
   "metadata": {},
   "source": [
    "And let's get the average\n",
    "\n",
    "- Sepal.Length\n",
    "- Sepal.Width\n",
    "- Petal.Length\n",
    "- Petal.Width\n",
    "\n",
    "values of each of the species"
   ]
  },
  {
   "cell_type": "markdown",
   "metadata": {},
   "source": [
    "Now let's do this with the aggregate function:"
   ]
  },
  {
   "cell_type": "code",
   "execution_count": null,
   "metadata": {},
   "outputs": [],
   "source": [
    "?aggregate"
   ]
  },
  {
   "cell_type": "markdown",
   "metadata": {},
   "source": [
    "```\n",
    "## S3 method for class 'data.frame'\n",
    "aggregate(x, by, FUN, ..., simplify = TRUE, drop = TRUE)\n",
    "\n",
    "Arguments\n",
    "x\t\n",
    "an R object.\n",
    "\n",
    "by\t\n",
    "a list of grouping elements, each as long as the variables in the data frame x. The elements are coerced to factors before use.\n",
    "\n",
    "FUN\t\n",
    "a function to compute the summary statistics which can be applied to all data subsets.\n",
    "\n",
    "simplify\t\n",
    "a logical indicating whether results should be simplified to a vector or matrix if possible.\n",
    "\n",
    "drop\t\n",
    "a logical indicating whether to drop unused combinations of grouping values. The non-default case drop=FALSE has been amended for R 3.5.0 to drop unused combinations.\n",
    "\n",
    "formula\t\n",
    "a formula, such as y ~ x or cbind(y1, y2) ~ x1 + x2, where the y variables are numeric data to be split into groups according to the grouping x variables (usually factors).\n",
    "\n",
    "data\t\n",
    "a data frame (or list) from which the variables in formula should be taken.\n",
    "```"
   ]
  },
  {
   "cell_type": "code",
   "execution_count": null,
   "metadata": {},
   "outputs": [],
   "source": [
    "averages <- aggregate(iris[,-5], by = list(iris[,5]), FUN = mean)"
   ]
  },
  {
   "cell_type": "code",
   "execution_count": null,
   "metadata": {},
   "outputs": [],
   "source": [
    "averages"
   ]
  },
  {
   "cell_type": "markdown",
   "metadata": {},
   "source": [
    "## Aggregate data"
   ]
  },
  {
   "cell_type": "code",
   "execution_count": null,
   "metadata": {},
   "outputs": [],
   "source": [
    "flights <- read.csv(\"~/file/flights14.csv\")"
   ]
  },
  {
   "cell_type": "markdown",
   "metadata": {},
   "source": [
    "Now the separate year, month and day information can be combined into a single united field:"
   ]
  },
  {
   "cell_type": "code",
   "execution_count": null,
   "metadata": {},
   "outputs": [],
   "source": [
    "flights$dates <- with(flights, as.Date(paste(year, month, day, sep = \"-\")))"
   ]
  },
  {
   "cell_type": "code",
   "execution_count": null,
   "metadata": {},
   "outputs": [],
   "source": [
    "names(flights)"
   ]
  },
  {
   "cell_type": "code",
   "execution_count": null,
   "metadata": {},
   "outputs": [],
   "source": [
    "head(flights)"
   ]
  },
  {
   "cell_type": "markdown",
   "metadata": {},
   "source": [
    "And the weekdays:"
   ]
  },
  {
   "cell_type": "code",
   "execution_count": null,
   "metadata": {},
   "outputs": [],
   "source": [
    "flights$weekdays <- weekdays(flights$dates, abbreviate = T)"
   ]
  },
  {
   "cell_type": "code",
   "execution_count": null,
   "metadata": {},
   "outputs": [],
   "source": [
    "head(flights)"
   ]
  },
  {
   "cell_type": "markdown",
   "metadata": {},
   "source": [
    "We can have the average departure delay by date as such:"
   ]
  },
  {
   "cell_type": "code",
   "execution_count": null,
   "metadata": {},
   "outputs": [],
   "source": [
    "dep_delay_date <- with(flights, aggregate(dep_delay,\n",
    "                                          by = list(dates),\n",
    "                                          FUN = mean))"
   ]
  },
  {
   "cell_type": "markdown",
   "metadata": {},
   "source": [
    "View the data:"
   ]
  },
  {
   "cell_type": "code",
   "execution_count": null,
   "metadata": {},
   "outputs": [],
   "source": [
    "dep_delay_date"
   ]
  },
  {
   "cell_type": "markdown",
   "metadata": {},
   "source": [
    "And better, visualize data:"
   ]
  },
  {
   "cell_type": "code",
   "execution_count": null,
   "metadata": {},
   "outputs": [],
   "source": [
    "with(dep_delay_date, plot(Group.1, x, type = \"l\"))"
   ]
  },
  {
   "cell_type": "markdown",
   "metadata": {},
   "source": [
    "## Exercise 1: Aggregate data"
   ]
  },
  {
   "cell_type": "markdown",
   "metadata": {},
   "source": [
    "You can load the necessary object if you couldn't follow the steps up to now:"
   ]
  },
  {
   "cell_type": "code",
   "execution_count": null,
   "metadata": {},
   "outputs": [],
   "source": [
    "load(\"~/file/weo_subset2.RData\")"
   ]
  },
  {
   "cell_type": "markdown",
   "metadata": {},
   "source": [
    "Remember the aggregate function:\n",
    "\n",
    "```R\n",
    "aggregate(x, by, FUN, ..., simplify = TRUE, drop = TRUE)\n",
    "```"
   ]
  },
  {
   "cell_type": "markdown",
   "metadata": {},
   "source": [
    "Now please get the **median** growth rate (NGDP_RPCH) for each income category and save into gdp_agg. The column names should be income and gdpg as such:\n",
    "\n",
    "```R\n",
    "  income gdpg \n",
    "1 low    3.969\n",
    "2 middle 2.849\n",
    "3 high   2.197\n",
    "```\n",
    "\n",
    "Note that by argument takes a list object. You may use with() and median() functions along with aggregate and olsa names() function"
   ]
  },
  {
   "cell_type": "markdown",
   "metadata": {},
   "source": [
    "**Solution:**"
   ]
  },
  {
   "cell_type": "code",
   "execution_count": null,
   "metadata": {
    "scrolled": true
   },
   "outputs": [],
   "source": [
    "aggregate(weo_subset2$NGDP_RPCH,\n",
    "          by = list(weo_subset2$income),\n",
    "                          FUN = median)"
   ]
  },
  {
   "cell_type": "code",
   "execution_count": null,
   "metadata": {},
   "outputs": [],
   "source": [
    "gdp_agg <- with(weo_subset2,\n",
    "                aggregate(NGDP_RPCH,\n",
    "                          by = list(income),\n",
    "                          FUN = median))\n",
    "names(gdp_agg) <- c(\"income\", \"gdpg\")\n",
    "gdp_agg"
   ]
  },
  {
   "cell_type": "markdown",
   "metadata": {},
   "source": [
    "As you see, low income countries grow faster on the average than middle and high income countries"
   ]
  },
  {
   "cell_type": "markdown",
   "metadata": {},
   "source": [
    "## GROUP DATA"
   ]
  },
  {
   "cell_type": "markdown",
   "metadata": {},
   "source": [
    "Let's have a data.frame \"cox\" as such:\n",
    "\n",
    "```R\n",
    "cox <- CO2\n",
    "RNGversion(\"3.3.1\")\n",
    "set.seed(20)\n",
    "cox$uptake <- rnorm(nrow(cox),\n",
    "                    mean = runif(1, 20, 100),\n",
    "                    sd = runif(1, 2, 10))\n",
    "\n",
    "head(cox)\n",
    "\n",
    "  Plant Type   Treatment  conc uptake   \n",
    "1 Qn1   Quebec nonchilled  95   85.42744\n",
    "2 Qn1   Quebec nonchilled 175  104.75015\n",
    "3 Qn1   Quebec nonchilled 250   79.34338\n",
    "4 Qn1   Quebec nonchilled 350   86.56297\n",
    "5 Qn1   Quebec nonchilled 500   94.84301\n",
    "6 Qn1   Quebec nonchilled 675   66.65552\n",
    "```"
   ]
  },
  {
   "cell_type": "markdown",
   "metadata": {},
   "source": [
    "Write a function groups(dat) that takes a single argument dat, a data frame object, and returns the **median** **uptake** value of each respective **Plant** and **Treatment** category as such:\n",
    "\n",
    "```R\n",
    "groups(dat = cox)\n",
    "\n",
    "   Group.1 Group.2    x       \n",
    "1  Qn1     nonchilled 85.42744\n",
    "2  Qn2     nonchilled 86.43963\n",
    "3  Qn3     nonchilled 90.43168\n",
    "4  Mn3     nonchilled 87.06613\n",
    "5  Mn2     nonchilled 96.15445\n",
    "6  Mn1     nonchilled 90.34985\n",
    "7  Qc1     chilled    85.34404\n",
    "8  Qc3     chilled    90.91757\n",
    "9  Qc2     chilled    88.43915\n",
    "10 Mc2     chilled    88.97322\n",
    "11 Mc3     chilled    90.95314\n",
    "12 Mc1     chilled    95.54233\n",
    "```\n",
    "\n",
    "**Hint:**\n",
    "- You should use aggregate() function\n",
    "- You may also use with() function to simplify the code (not necessary)\n",
    "- Note that the \"by\" argument to aggregate(), a list object, should incorporate two categoric variables (Plant and Treatment), not a single one. So it should be a list of two!"
   ]
  },
  {
   "cell_type": "markdown",
   "metadata": {},
   "source": [
    "**Solution:**"
   ]
  },
  {
   "cell_type": "code",
   "execution_count": null,
   "metadata": {
    "scrolled": false
   },
   "outputs": [],
   "source": [
    "cox <- CO2\n",
    "RNGversion(\"3.3.1\")\n",
    "set.seed(20)\n",
    "cox$uptake <- rnorm(nrow(cox),\n",
    "                    mean = runif(1, 20, 100),\n",
    "                    sd = runif(1, 2, 10))\n",
    "\n",
    "head(cox)\n",
    "\n",
    "groups <- function(dat = cox)\n",
    "{\n",
    "    with(cox, aggregate(uptake,\n",
    "                        by = list(Plant, Treatment),\n",
    "                        median))\n",
    "}\n",
    "\n",
    "groups(dat = cox)"
   ]
  },
  {
   "cell_type": "markdown",
   "metadata": {},
   "source": [
    "## GROUP DATA"
   ]
  },
  {
   "cell_type": "markdown",
   "metadata": {},
   "source": [
    "Let's have a data.frame \"cox\" as such:\n",
    "\n",
    "```R\n",
    "cox <- CO2\n",
    "RNGversion(\"3.3.1\")\n",
    "set.seed(20)\n",
    "cox$uptake <- rnorm(nrow(cox),\n",
    "                    mean = runif(1, 20, 100),\n",
    "                    sd = runif(1, 2, 10))\n",
    "\n",
    "head(cox)\n",
    "\n",
    "  Plant Type   Treatment  conc uptake   \n",
    "1 Qn1   Quebec nonchilled  95   85.42744\n",
    "2 Qn1   Quebec nonchilled 175  104.75015\n",
    "3 Qn1   Quebec nonchilled 250   79.34338\n",
    "4 Qn1   Quebec nonchilled 350   86.56297\n",
    "5 Qn1   Quebec nonchilled 500   94.84301\n",
    "6 Qn1   Quebec nonchilled 675   66.65552\n",
    "```"
   ]
  },
  {
   "cell_type": "markdown",
   "metadata": {},
   "source": [
    "Write a function groups(dat) that takes a single argument dat, a data frame object, and returns the **mean** **uptake** value of each respective **Type** and **Treatment** category as such:\n",
    "\n",
    "```R\n",
    "groups(dat = cox)\n",
    "\n",
    "  Group.1     Group.2    x       \n",
    "1 Quebec      nonchilled 88.32927\n",
    "2 Mississippi nonchilled 91.59208\n",
    "3 Quebec      chilled    88.13191\n",
    "4 Mississippi chilled    90.62369\n",
    "```\n",
    "\n",
    "**Hint:**\n",
    "- You should use aggregate() function\n",
    "- You may also use with() function to simplify the code (not necessary)\n",
    "- Note that the \"by\" argument to aggregate(), a list object, should incorporate two categoric variables (Type and Treatment), not a single one. So it should be a list of two!"
   ]
  },
  {
   "cell_type": "markdown",
   "metadata": {},
   "source": [
    "**Solution:**"
   ]
  },
  {
   "cell_type": "code",
   "execution_count": null,
   "metadata": {},
   "outputs": [],
   "source": [
    "cox <- CO2\n",
    "RNGversion(\"3.3.1\")\n",
    "set.seed(20)\n",
    "cox$uptake <- rnorm(nrow(cox),\n",
    "                    mean = runif(1, 20, 100),\n",
    "                    sd = runif(1, 2, 10))\n",
    "\n",
    "head(cox)\n",
    "\n",
    "groups <- function(dat = cox)\n",
    "{\n",
    "    with(cox, aggregate(uptake,\n",
    "                        by = list(Type, Treatment),\n",
    "                        mean))\n",
    "}\n",
    "\n",
    "groups(dat = cox)"
   ]
  },
  {
   "cell_type": "markdown",
   "metadata": {},
   "source": [
    "# which()"
   ]
  },
  {
   "cell_type": "markdown",
   "metadata": {},
   "source": [
    "## EXCLUDE MISSING CASES"
   ]
  },
  {
   "cell_type": "markdown",
   "metadata": {},
   "source": [
    "And read the data into R as such:"
   ]
  },
  {
   "cell_type": "code",
   "execution_count": null,
   "metadata": {},
   "outputs": [],
   "source": [
    "weo_data <- read.csv(\"~/file/weo_2016_wide_2.csv\")\n",
    "weo_desc <- read.csv(\"~/file/weo_description.csv\")"
   ]
  },
  {
   "cell_type": "markdown",
   "metadata": {},
   "source": [
    "Let's first subset the relavant columns:"
   ]
  },
  {
   "cell_type": "code",
   "execution_count": null,
   "metadata": {},
   "outputs": [],
   "source": [
    "weo_subset <- weo_data[,c(\"Country\", \"NGDP_RPCH\", \"PPPPC\")]\n",
    "weo_subset"
   ]
  },
  {
   "cell_type": "markdown",
   "metadata": {},
   "source": [
    "Now we will exclude rows with missing information. complete.cases and na.omit will do that"
   ]
  },
  {
   "cell_type": "code",
   "execution_count": null,
   "metadata": {},
   "outputs": [],
   "source": [
    "missing <- which(!(complete.cases(weo_subset)))\n",
    "missing"
   ]
  },
  {
   "cell_type": "markdown",
   "metadata": {},
   "source": [
    "## PLATES"
   ]
  },
  {
   "cell_type": "markdown",
   "metadata": {},
   "source": [
    "Load the data object to your R environment as such:\n",
    "\n",
    "```R\n",
    "load(\"~/file/distance2.RData\")\n",
    "```\n",
    "\n",
    "Check that you have the distance2 object now:\n",
    "\n",
    "```R\n",
    "distance2[c(\"istanbul\", \"ankara\", \"izmir\"), c(\"istanbul\", \"ankara\", \"izmir\")]\n",
    "\n",
    "         istanbul ankara izmir\n",
    "istanbul   0      349    327  \n",
    "ankara   349        0    520  \n",
    "izmir    327      520      0   \n",
    "```\n",
    "\n",
    "The numbers show the birdfly distances between the cities in the rows and columns (e.g the distance between İstanbul and Ankara is 349 km). The distance between a city and itself is 0 of course!\n",
    "\n",
    "Please write a function **plates** that takes two arguments:\n",
    "- **cities** is a vector of city names (each name inside quotes)\n",
    "- **dist** is a distance matrix and the default value is our distance2 object\n",
    "\n",
    "The function should return the plate codes of the cities as such:\n",
    "\n",
    "```R\n",
    "plates(cities = c(\"istanbul\", \"izmir\", \"ankara\"))\n",
    "\n",
    "istanbul    izmir   ankara \n",
    "      34       35        6 \n",
    "\n",
    "plates(c(\"adana\"), dist = distance2)\n",
    "\n",
    "adana \n",
    "    1 \n",
    "\n",
    "plates(c(\"edirne\", \"ardahan\")) \n",
    "\n",
    "edirne ardahan \n",
    "    22      75 \n",
    "```\n",
    "\n",
    "**Note that, the returned vector has the city names as attributes along with the plate code values. Your code should also return exactly the same for the given argument values**\n",
    "\n",
    "\n",
    "**Hints:**\n",
    "- You may use which() function and the fact that the distance of a city to itself is 0\n",
    "- You can initiate an empty vector object and then construct a for loop across the city names to accumulate the values in that vector object\n",
    "- distance2 is the global object, dist is the argument to the function. distance2 is passed to the function as the default value of dist argument\n",
    "- You can also use the apply() function alternatively, without a loop. However the looped version is easier for you to construct\n",
    "- All city names in row and column names are lower case and feature only ascii characters such as corum, sanliurfa, agri and gumushane."
   ]
  },
  {
   "cell_type": "markdown",
   "metadata": {},
   "source": [
    "**Solution:**"
   ]
  },
  {
   "cell_type": "code",
   "execution_count": null,
   "metadata": {},
   "outputs": [],
   "source": [
    "load(\"~/file/distance2.RData\")\n",
    "distance2[c(\"istanbul\", \"ankara\", \"izmir\"), c(\"istanbul\", \"ankara\", \"izmir\")]\n",
    "\n",
    "plates <- function(cities, dist = distance2)\n",
    "{\n",
    "    plate <- NULL\n",
    "    for (i in cities)\n",
    "    {\n",
    "        plate <- c(plate, which(dist[i,] == 0))\n",
    "    }\n",
    "    \n",
    "    return(plate)\n",
    "}\n",
    "\n",
    "plates(cities = c(\"istanbul\", \"izmir\", \"ankara\"))\n",
    "plates(c(\"adana\"), dist = distance2)\n",
    "plates(c(\"edirne\", \"ardahan\"))\n",
    "plates(c('bursa', 'izmir'))"
   ]
  },
  {
   "cell_type": "code",
   "execution_count": null,
   "metadata": {},
   "outputs": [],
   "source": [
    "apply(distance2[c(\"istanbul\", \"izmir\", \"ankara\"),], 1, function(x) which(x == 0))"
   ]
  },
  {
   "cell_type": "markdown",
   "metadata": {},
   "source": [
    "# cumsum()"
   ]
  },
  {
   "cell_type": "markdown",
   "metadata": {},
   "source": [
    "## get sums and cumulative sums with sum(), cumsum()"
   ]
  },
  {
   "cell_type": "markdown",
   "metadata": {},
   "source": [
    "Create a vector of values as a sequence from 1 to 10 and save into seq10 vector"
   ]
  },
  {
   "cell_type": "code",
   "execution_count": null,
   "metadata": {},
   "outputs": [],
   "source": [
    "seq10 <- 1:10\n",
    "seq10"
   ]
  },
  {
   "cell_type": "markdown",
   "metadata": {},
   "source": [
    "Now get the sum of the values in the vector:"
   ]
  },
  {
   "cell_type": "code",
   "execution_count": null,
   "metadata": {},
   "outputs": [],
   "source": [
    "sum(seq10)"
   ]
  },
  {
   "cell_type": "markdown",
   "metadata": {},
   "source": [
    "See the sum of a vector yielded a vector of a single value"
   ]
  },
  {
   "cell_type": "markdown",
   "metadata": {},
   "source": [
    "What if want to get a cumulative sum of values: For each value n, the sum of all terms starting from the first term to nth term: "
   ]
  },
  {
   "cell_type": "code",
   "execution_count": null,
   "metadata": {},
   "outputs": [],
   "source": [
    "seq10c <- cumsum(seq10)\n",
    "seq10c"
   ]
  },
  {
   "cell_type": "code",
   "execution_count": null,
   "metadata": {},
   "outputs": [],
   "source": []
  },
  {
   "cell_type": "markdown",
   "metadata": {},
   "source": [
    "# if()"
   ]
  },
  {
   "cell_type": "markdown",
   "metadata": {},
   "source": [
    "## Joint conditions"
   ]
  },
  {
   "cell_type": "markdown",
   "metadata": {},
   "source": [
    "Let's write a function that accepts three inputs val, range_min, range_max. The function will return whether the value is within the range range_min to range_max"
   ]
  },
  {
   "cell_type": "code",
   "execution_count": null,
   "metadata": {},
   "outputs": [],
   "source": [
    "is_within <- function(val, range_min, range_max)\n",
    "{\n",
    "    if (val >= range_min & val <= range_max)\n",
    "    {\n",
    "        return(T)\n",
    "    }\n",
    "    else\n",
    "    {\n",
    "        return(F)\n",
    "    }\n",
    "}"
   ]
  },
  {
   "cell_type": "code",
   "execution_count": null,
   "metadata": {},
   "outputs": [],
   "source": [
    "is_within(4, 1, 10)"
   ]
  },
  {
   "cell_type": "code",
   "execution_count": null,
   "metadata": {},
   "outputs": [],
   "source": [
    "is_within(12, 1, 10)"
   ]
  },
  {
   "cell_type": "markdown",
   "metadata": {},
   "source": [
    "Note that, range_min should be smaller than range_max in this simple example. The code cannot handle otherwise"
   ]
  },
  {
   "cell_type": "markdown",
   "metadata": {},
   "source": [
    "Now we will test whether the value is outside the range"
   ]
  },
  {
   "cell_type": "code",
   "execution_count": null,
   "metadata": {},
   "outputs": [],
   "source": [
    "is_outside <- function(val, range_min, range_max)\n",
    "{\n",
    "    if (val < range_min | val > range_max)\n",
    "    {\n",
    "        return(T)\n",
    "    }\n",
    "    else\n",
    "    {\n",
    "        return(F)\n",
    "    }\n",
    "}"
   ]
  },
  {
   "cell_type": "code",
   "execution_count": null,
   "metadata": {},
   "outputs": [],
   "source": [
    "is_outside(4, 1, 10)"
   ]
  },
  {
   "cell_type": "code",
   "execution_count": null,
   "metadata": {},
   "outputs": [],
   "source": [
    "is_outside(12, 1, 10)"
   ]
  },
  {
   "cell_type": "markdown",
   "metadata": {},
   "source": [
    "## Exercise"
   ]
  },
  {
   "cell_type": "markdown",
   "metadata": {},
   "source": [
    "A famous anonymous Chinese, Arabic or Persian proverb:\n",
    "\n",
    "```\n",
    "He who knows not, and knows not that he knows not, is a fool... shun him.\n",
    "He who knows not, and knows that he knows not, is willing... teach him.\n",
    "He who knows, and knows not that he knows, is asleep... awaken him.\n",
    "He who knows, and knows that he knows, is wise... follow him.\n",
    "```"
   ]
  },
  {
   "cell_type": "markdown",
   "metadata": {},
   "source": [
    "We will convert this proverb into a function called \"is_wise\". We have two inputs that takes \"yes\" or \"no\": know_real (for the firstpart), know_himself (for the second part).\n",
    "\n",
    "The output will be a two item character vector as such: \"fool\", shun\"\n",
    "\n",
    "Use regular if condition not ifelse\n",
    "\n",
    "You can follow any order provided that you cover all cases"
   ]
  },
  {
   "cell_type": "markdown",
   "metadata": {
    "solution2": "hidden",
    "solution2_first": true
   },
   "source": [
    "**EXERCISE 2:**"
   ]
  },
  {
   "cell_type": "code",
   "execution_count": null,
   "metadata": {
    "solution2": "hidden"
   },
   "outputs": [],
   "source": [
    "is_wise <- function(know_real, know_himself)\n",
    "{\n",
    "    if (know_real == \"no\") # if1, \"He who knows not\"\n",
    "    {\n",
    "        if (know_himself == \"no\") # if2, \"and knows not that he knows not\" \n",
    "        {\n",
    "            return(c(\"fool\", \"shun\"))\n",
    "        }\n",
    "        else # else1, \"and knows that he knows not\"\n",
    "        {\n",
    "            return(c(\"willing\", \"teach\"))\n",
    "        }\n",
    "    }\n",
    "    else # else2, \"He who knows\"\n",
    "    {\n",
    "        if (know_himself == \"no\") # if3, \"and knows not that he knows\"\n",
    "        {\n",
    "            return(c(\"asleep\", \"awaken\"))\n",
    "        }\n",
    "        else # else3, \"and knows that he knows\"\n",
    "        {\n",
    "            return(c(\"wise\", \"follow\"))\n",
    "\n",
    "        } # close else3\n",
    "    } # close else2\n",
    "}"
   ]
  },
  {
   "cell_type": "code",
   "execution_count": null,
   "metadata": {},
   "outputs": [],
   "source": [
    "is_wise(know_real = \"no\", know_himself = \"no\")"
   ]
  },
  {
   "cell_type": "code",
   "execution_count": null,
   "metadata": {},
   "outputs": [],
   "source": [
    "is_wise(know_real = \"no\", know_himself = \"yes\")"
   ]
  },
  {
   "cell_type": "code",
   "execution_count": null,
   "metadata": {},
   "outputs": [],
   "source": [
    "is_wise(know_real = \"yes\", know_himself = \"no\")"
   ]
  },
  {
   "cell_type": "code",
   "execution_count": null,
   "metadata": {},
   "outputs": [],
   "source": [
    "is_wise(know_real = \"yes\", know_himself = \"yes\")"
   ]
  },
  {
   "cell_type": "markdown",
   "metadata": {},
   "source": [
    "# for()"
   ]
  },
  {
   "cell_type": "markdown",
   "metadata": {},
   "source": [
    "## \"for\" loop: when you know the # of iterations"
   ]
  },
  {
   "cell_type": "markdown",
   "metadata": {},
   "source": [
    "The basic syntax for a \"for\" loop is as follows:\n",
    "\n",
    "```R\n",
    "for(var in a_vector)\n",
    "{\n",
    "    some_code_that_uses_var\n",
    "}\n",
    "```\n",
    "\n",
    "- Here \"var\" is a new variable created for the \"for\" loop\n",
    "- a_vector is a vector that var iterates through\n",
    "\n",
    "In each iteration of the loop, var takes the next value from the vector and the code inside the loop is executed again with the new value of var"
   ]
  },
  {
   "cell_type": "markdown",
   "metadata": {},
   "source": [
    "### Iterate through a vector"
   ]
  },
  {
   "cell_type": "markdown",
   "metadata": {},
   "source": [
    "Let's see in action:\n",
    "\n",
    "First create a vector of random numbers and iterate through it to print its value"
   ]
  },
  {
   "cell_type": "code",
   "execution_count": null,
   "metadata": {},
   "outputs": [],
   "source": [
    "vec_1 <- sample(seq(-10,10), 10)\n",
    "\n",
    "for (i in vec_1)\n",
    "{\n",
    "    print(i)\n",
    "}"
   ]
  },
  {
   "cell_type": "markdown",
   "metadata": {},
   "source": [
    "Let's put this code inside a function to step into using debug()"
   ]
  },
  {
   "cell_type": "code",
   "execution_count": null,
   "metadata": {},
   "outputs": [],
   "source": [
    "vec_1 <- sample(seq(-10,10), 10)\n",
    "\n",
    "\n",
    "for_1 <- function(vecc = vec_1)\n",
    "{\n",
    "\n",
    "    for (i in vecc)\n",
    "    {\n",
    "        print(i)\n",
    "    }\n",
    "\n",
    "}"
   ]
  },
  {
   "cell_type": "markdown",
   "metadata": {},
   "source": [
    "### Iterate through the indices of a vector"
   ]
  },
  {
   "cell_type": "markdown",
   "metadata": {},
   "source": [
    "Let's say we have two vectors height and weight and iterate through both vectors simultaneously\n",
    "\n",
    "Instead of iterating through the vectors themselves, we may iterate through indices:"
   ]
  },
  {
   "cell_type": "code",
   "execution_count": null,
   "metadata": {},
   "outputs": [],
   "source": [
    "set.seed(12345)\n",
    "height1 <- rnorm(5, mean = 170, sd = 8)\n",
    "weight1 <- rnorm(5, mean = 75, sd = 11)\n",
    "\n",
    "height1\n",
    "weight1\n",
    "\n",
    "height_and_weight1 <- function(heights = height1, weights = weight1)\n",
    "{\n",
    "\n",
    "    indices <- seq_along(heights)\n",
    "    \n",
    "    for (i in indices)\n",
    "    {\n",
    "        text1 <- sprintf(\"For the person %s, height is %s, weight is %s\",\n",
    "               i,\n",
    "               heights[i],\n",
    "               weights[i])\n",
    "        print(text1)\n",
    "    }\n",
    "\n",
    "}\n",
    "\n",
    "height_and_weight1()"
   ]
  },
  {
   "cell_type": "markdown",
   "metadata": {},
   "source": [
    "### Collect values by appending to a vector"
   ]
  },
  {
   "cell_type": "markdown",
   "metadata": {},
   "source": [
    "Now instead of printing the values, let's create a character vector and append the text values\n",
    "\n",
    "Return the vector"
   ]
  },
  {
   "cell_type": "code",
   "execution_count": null,
   "metadata": {},
   "outputs": [],
   "source": [
    "set.seed(12345)\n",
    "height1 <- rnorm(5, mean = 170, sd = 8)\n",
    "weight1 <- rnorm(5, mean = 75, sd = 11)\n",
    "\n",
    "height1\n",
    "weight1\n",
    "\n",
    "height_and_weight2 <- function(heights = height1, weights = weight1)\n",
    "{\n",
    "\n",
    "    indices <- seq_along(heights)\n",
    "    character_vector <- NULL\n",
    "    \n",
    "    for (i in indices)\n",
    "    {\n",
    "        text1 <- sprintf(\"For the person %s, height is %s, weight is %s\",\n",
    "               i,\n",
    "               heights[i],\n",
    "               weights[i])\n",
    "        character_vector <- c(character_vector, text1)\n",
    "    }\n",
    "\n",
    "    return(character_vector)\n",
    "    \n",
    "}\n",
    "\n",
    "height_and_weight2()"
   ]
  },
  {
   "cell_type": "markdown",
   "metadata": {},
   "source": [
    "### Collect values by creating an empty vector of size n"
   ]
  },
  {
   "cell_type": "markdown",
   "metadata": {},
   "source": [
    "This option is OK for lower count of iterations. As the number of iterations go up - such as 1e6 - it may perform poorly.\n",
    "\n",
    "This is another option:"
   ]
  },
  {
   "cell_type": "code",
   "execution_count": null,
   "metadata": {},
   "outputs": [],
   "source": [
    "set.seed(12345)\n",
    "height1 <- rnorm(5, mean = 170, sd = 8)\n",
    "weight1 <- rnorm(5, mean = 75, sd = 11)\n",
    "\n",
    "height1\n",
    "weight1\n",
    "\n",
    "height_and_weight3 <- function(heights = height1, weights = weight1)\n",
    "{\n",
    "\n",
    "    indices <- seq_along(heights)\n",
    "    character_vector <- character(length = length(heights))\n",
    "    \n",
    "    for (i in indices)\n",
    "    {\n",
    "        text1 <- sprintf(\"For the person %s, height is %s, weight is %s\",\n",
    "               i,\n",
    "               heights[i],\n",
    "               weights[i])\n",
    "        character_vector[i] <- text1\n",
    "    }\n",
    "\n",
    "    return(character_vector)\n",
    "    \n",
    "}\n",
    "\n",
    "height_and_weight3()"
   ]
  },
  {
   "cell_type": "markdown",
   "metadata": {},
   "source": [
    "### Conditional inside a for loop"
   ]
  },
  {
   "cell_type": "markdown",
   "metadata": {},
   "source": [
    "Now let'say we throw a warning when the height or weight of the person is above average:"
   ]
  },
  {
   "cell_type": "code",
   "execution_count": null,
   "metadata": {},
   "outputs": [],
   "source": [
    "set.seed(12345)\n",
    "height1 <- rnorm(5, mean = 170, sd = 8)\n",
    "\n",
    "height1\n",
    "\n",
    "height_and_average <- function(heights = height1)\n",
    "{\n",
    "\n",
    "    indices <- seq_along(heights)\n",
    "    character_vector <- NULL\n",
    "    av_height <- mean(heights)\n",
    "    \n",
    "    for (i in indices)\n",
    "    {\n",
    "        height_i <- heights[i]\n",
    "        \n",
    "        if (height_i > av_height)\n",
    "        {\n",
    "            text_x <- sprintf(\"Height of person %s of %s is above average\", i, height_i)\n",
    "            character_vector <- c(character_vector, text_x)\n",
    "        }\n",
    "        \n",
    "    }\n",
    "\n",
    "    return(character_vector)\n",
    "    \n",
    "}\n",
    "\n",
    "\n",
    "height_and_average()"
   ]
  },
  {
   "cell_type": "markdown",
   "metadata": {},
   "source": [
    "## Factorial with for"
   ]
  },
  {
   "cell_type": "markdown",
   "metadata": {},
   "source": [
    "Factorial of n (n!) is the product of all integers from 1 to n. Hence: 5! = 120\n",
    "\n",
    "Write a function facto_for that takes an argument n, calculates the factorial of n using a for loop as such:\n",
    "\n",
    "```R\n",
    "facto_for(5)\n",
    "facto_for(10)\n",
    "\n",
    "[1] 120\n",
    "[1] 3628800\n",
    "```\n",
    "\n",
    "**Hint: Initiate a separate variable inside the function BEFORE the loop, setting it to 1. Update this variable by multiplying with the value that the iterator variable of the loop (such as \"i\") gets** "
   ]
  },
  {
   "cell_type": "markdown",
   "metadata": {},
   "source": [
    "**Solution 2:**"
   ]
  },
  {
   "cell_type": "code",
   "execution_count": null,
   "metadata": {},
   "outputs": [],
   "source": [
    "facto_for <- function(n)\n",
    "{\n",
    "    value <- 1\n",
    "    for (i in 1:n)\n",
    "    {\n",
    "        value <- value * i\n",
    "    }\n",
    "    \n",
    "    return(value)\n",
    "}\n",
    "\n",
    "facto_for(5)\n",
    "facto_for(10)"
   ]
  },
  {
   "cell_type": "markdown",
   "metadata": {},
   "source": [
    "## Divisors"
   ]
  },
  {
   "cell_type": "markdown",
   "metadata": {},
   "source": [
    "Write a function divisors that takes an argument n, and collects and returns the divisors of the number\n",
    "\n",
    "**Hint:**\n",
    "- Initiate an empty vector (vec <- c() or vec <- integer(0) or vec <- NULL)\n",
    "- Iterate through all numbers from 1 to n with a for loop\n",
    "- Check the divisibility of n with the iterator using modulo and append the number if divisible\n",
    "- Return the vector\n",
    "\n",
    "as such:\n",
    "\n",
    "```R\n",
    "divisors(60)\n",
    "divisors(23)\n",
    "divisors(100)\n",
    "\n",
    "[1]  1  2  3  4  5  6 10 12 15 20 30 60\n",
    "[1]  1 23\n",
    "[1]   1   2   4   5  10  20  25  50 100\n",
    "```"
   ]
  },
  {
   "cell_type": "markdown",
   "metadata": {},
   "source": [
    "**Solution 4:**"
   ]
  },
  {
   "cell_type": "code",
   "execution_count": null,
   "metadata": {},
   "outputs": [],
   "source": [
    "divisors <- function(n)\n",
    "{\n",
    "    vec <- integer(0)\n",
    "    \n",
    "    for (i in 1:n)\n",
    "    {\n",
    "        if (n %% i == 0)\n",
    "        {\n",
    "            vec <- c(vec, i)            \n",
    "        }\n",
    "    }\n",
    "    \n",
    "    return(vec)\n",
    "}\n",
    "\n",
    "divisors(60)\n",
    "divisors(23)\n",
    "divisors(100)"
   ]
  },
  {
   "cell_type": "markdown",
   "metadata": {},
   "source": [
    "# while()"
   ]
  },
  {
   "cell_type": "markdown",
   "metadata": {},
   "source": [
    "## \"while loop\": when you don't know the number of iterations"
   ]
  },
  {
   "cell_type": "markdown",
   "metadata": {},
   "source": [
    "Let's say we are rolling two dices. We will continue until we have a \"duses\" or \"6 + 6\", the return value will be the count of iteration at that moment\n",
    "\n",
    "**NOTE THAT ANY VARIABLES IN THE WHILE CONDITION MUST ALREADY HAVE BEEN CREATED!**\n",
    "\n",
    "**IN FOR LOOP, THE ITERATOR VARIABLE IS CREATED AT THAT MOMENT**"
   ]
  },
  {
   "cell_type": "code",
   "execution_count": null,
   "metadata": {},
   "outputs": [],
   "source": [
    "duses_count <- function()\n",
    "{\n",
    "    dice_vals <- 1:6 # possible outcomes\n",
    "    sum_val <- -Inf # initiate a sum value. anything != 12 is ok\n",
    "    iter <- 0 # initiate an iterator to return\n",
    "    \n",
    "    # as long as sum is not 12, continue, note that sum_val is already initiated\n",
    "    while (sum_val != 12)\n",
    "    {\n",
    "        iter <- iter + 1 # increment iteration\n",
    "        new_roll <- sample(dice_vals, 2, replace = T) # roll the dices\n",
    "        sum_val <- sum(new_roll) # get the sum\n",
    "    }\n",
    "    \n",
    "    return_text <- sprintf(\"At iteration %s, we got duses\", iter)\n",
    "    return(return_text)\n",
    "}\n",
    "\n",
    "duses_count()"
   ]
  },
  {
   "cell_type": "markdown",
   "metadata": {},
   "source": [
    "## BINARY"
   ]
  },
  {
   "cell_type": "markdown",
   "metadata": {},
   "source": [
    "Write a function named **binary** that takes an argument n, an integer value, and returns the binary representation (base 2) as a vector of 1 and 0 values\n",
    "\n",
    "- The function should initiate a vector with a single value of 1\n",
    "- A while function should check whether n is above 1\n",
    "- Inside the while, if n is even, append 0 to the vector and divide n by 2\n",
    "- Otherwise, append 1 to the vector, decrement n and divide by 2\n",
    "\n",
    "as such:\n",
    "\n",
    "\n",
    "```R\n",
    "binary(15)\n",
    "binary(10)\n",
    "binary(16)\n",
    "\n",
    "[1] 1 1 1 1\n",
    "[1] 1 0 1 0\n",
    "[1] 1 0 0 0 0\n",
    "```\n",
    "\n",
    "**Note: In decimal (base 10), all digits are powers of 10 starting with 10<sup>0</sup> as the least significant (rightmost) digit. In binary all digits are powers of 2 starting with 2<sup>0</sup> as the least significant (rightmost) digit.**"
   ]
  },
  {
   "cell_type": "markdown",
   "metadata": {},
   "source": [
    "**Solution 5:**"
   ]
  },
  {
   "cell_type": "code",
   "execution_count": null,
   "metadata": {},
   "outputs": [],
   "source": [
    "binary <- function(n)\n",
    "{\n",
    "    vec <- 1\n",
    "    \n",
    "    while(n > 1)\n",
    "    {\n",
    "        if (n %% 2 == 0)\n",
    "        {\n",
    "            vec <- c(vec, 0)\n",
    "            n <- n / 2        \n",
    "        }\n",
    "        else\n",
    "        {\n",
    "            vec <- c(vec, 1)\n",
    "            n <- (n - 1) / 2\n",
    "        }        \n",
    "    }\n",
    "    \n",
    "    return(vec)\n",
    "}\n",
    "\n",
    "binary(15)\n",
    "binary(10)\n",
    "binary(16)"
   ]
  },
  {
   "cell_type": "markdown",
   "metadata": {},
   "source": [
    "## Reversing a number"
   ]
  },
  {
   "cell_type": "markdown",
   "metadata": {},
   "source": [
    "Using simple arithmetic we can reverse the order of the digits of a number.\n",
    "\n",
    "So 123 becomes 321.\n",
    "\n",
    "Let's write a function for this:"
   ]
  },
  {
   "cell_type": "markdown",
   "metadata": {},
   "source": [
    "First of all, remember modulo and floor divison operators:"
   ]
  },
  {
   "cell_type": "code",
   "execution_count": null,
   "metadata": {},
   "outputs": [],
   "source": [
    "123 %/% 10"
   ]
  },
  {
   "cell_type": "code",
   "execution_count": null,
   "metadata": {},
   "outputs": [],
   "source": [
    "123 %% 10"
   ]
  },
  {
   "cell_type": "markdown",
   "metadata": {},
   "source": [
    "Now the function:"
   ]
  },
  {
   "cell_type": "code",
   "execution_count": null,
   "metadata": {},
   "outputs": [],
   "source": [
    "number_reverse <- function(num)\n",
    "{\n",
    "    rev_num <- 0 # create an object to collect reversed digits\n",
    "    \n",
    "    while(num > 0) # as long as we have more digits\n",
    "    {    \n",
    "        last_digit <- num %% 10 # extract the last digit\n",
    "        rev_num <- rev_num * 10 + last_digit # update the reversed number\n",
    "        num <- num %/% 10 # delete the rightmost digit from the original number\n",
    "    }\n",
    "    \n",
    "    return(rev_num)\n",
    "\n",
    "}"
   ]
  },
  {
   "cell_type": "markdown",
   "metadata": {},
   "source": [
    "Now let's check:"
   ]
  },
  {
   "cell_type": "code",
   "execution_count": null,
   "metadata": {},
   "outputs": [],
   "source": [
    "number_reverse(123)"
   ]
  },
  {
   "cell_type": "markdown",
   "metadata": {},
   "source": [
    "## TRAVELLING SALESMAN"
   ]
  },
  {
   "cell_type": "markdown",
   "metadata": {},
   "source": [
    "[Travelling Salesman](#travelsales)"
   ]
  },
  {
   "cell_type": "markdown",
   "metadata": {},
   "source": [
    "# par(mfrow, mfcol)"
   ]
  },
  {
   "cell_type": "markdown",
   "metadata": {},
   "source": [
    "## Figure arrays"
   ]
  },
  {
   "cell_type": "markdown",
   "metadata": {},
   "source": [
    "Sometimes we want several plots in one figure. We can achieve this with the `par()` function."
   ]
  },
  {
   "cell_type": "code",
   "execution_count": null,
   "metadata": {},
   "outputs": [],
   "source": [
    "options(repr.plot.width=6, repr.plot.height=4)"
   ]
  },
  {
   "cell_type": "code",
   "execution_count": null,
   "metadata": {},
   "outputs": [],
   "source": [
    "normal1 <- rnorm(1000)\n",
    "par(mfrow=c(1,2))\n",
    "plot(normal1)\n",
    "hist(normal1)"
   ]
  },
  {
   "cell_type": "markdown",
   "metadata": {},
   "source": [
    "Here `mfrow=c(1,2)` specifies that the plots should be arranged as one row and two columns, and placement of figures should go by rows.\n",
    "\n",
    "Alternatively, `mfcol` argument would force placement by columns. In this particular example, it gives an identical result.\n",
    "\n",
    "Now generate normally-distributed random numbers with twice the variance and compare the plots."
   ]
  },
  {
   "cell_type": "code",
   "execution_count": null,
   "metadata": {},
   "outputs": [],
   "source": [
    "options(repr.plot.width=8,repr.plot.height=8)"
   ]
  },
  {
   "cell_type": "code",
   "execution_count": null,
   "metadata": {},
   "outputs": [],
   "source": [
    "normal2 <- rnorm(1000, sd = 2)\n",
    "par(mfrow=c(2,2))\n",
    "plot(normal1)\n",
    "hist(normal1)\n",
    "plot(normal2)\n",
    "hist(normal2)"
   ]
  },
  {
   "cell_type": "markdown",
   "metadata": {},
   "source": [
    "Match the axis scales for better comparison."
   ]
  },
  {
   "cell_type": "code",
   "execution_count": null,
   "metadata": {},
   "outputs": [],
   "source": [
    "par(mfrow=c(2,2))\n",
    "plot(normal1, ylim = c(-6,6),pch=4, col=\"blue\")\n",
    "hist(normal1, xlim = c(-6,6), col=\"red\")\n",
    "plot(normal2, ylim = c(-6,6),pch=4, col=\"blue\")\n",
    "hist(normal2, xlim = c(-6,6), col=\"red\")"
   ]
  },
  {
   "cell_type": "markdown",
   "metadata": {},
   "source": [
    "# hist()"
   ]
  },
  {
   "cell_type": "markdown",
   "metadata": {},
   "source": [
    "## Histograms"
   ]
  },
  {
   "cell_type": "markdown",
   "metadata": {},
   "source": [
    "Create normal distributed numbers:"
   ]
  },
  {
   "cell_type": "code",
   "execution_count": null,
   "metadata": {},
   "outputs": [],
   "source": [
    "vec_norm <- rnorm(100, 10, 2)\n",
    "vec_norm"
   ]
  },
  {
   "cell_type": "markdown",
   "metadata": {},
   "source": [
    "Create a histogram:"
   ]
  },
  {
   "cell_type": "code",
   "execution_count": null,
   "metadata": {},
   "outputs": [],
   "source": [
    "hist(vec_norm)"
   ]
  },
  {
   "cell_type": "markdown",
   "metadata": {},
   "source": [
    "Default breaks are 6 to 14 in wholenumbers\n",
    "\n",
    "We may instruct to create fewer or more bins by bin count:"
   ]
  },
  {
   "cell_type": "code",
   "execution_count": null,
   "metadata": {},
   "outputs": [],
   "source": [
    "hist(vec_norm, 5)"
   ]
  },
  {
   "cell_type": "code",
   "execution_count": null,
   "metadata": {},
   "outputs": [],
   "source": [
    "hist(vec_norm, 20)"
   ]
  },
  {
   "cell_type": "markdown",
   "metadata": {},
   "source": [
    "Or explicitly tell the cutting points of bins:"
   ]
  },
  {
   "cell_type": "code",
   "execution_count": null,
   "metadata": {},
   "outputs": [],
   "source": [
    "hist(vec_norm, seq(2, 20, by = 0.5))"
   ]
  },
  {
   "cell_type": "markdown",
   "metadata": {},
   "source": [
    "# boxplot()"
   ]
  },
  {
   "cell_type": "markdown",
   "metadata": {},
   "source": [
    "## Box plots"
   ]
  },
  {
   "cell_type": "markdown",
   "metadata": {},
   "source": [
    "A _box-and-whisker_ plot provides a graphical summary of the distribution of data points.\n",
    "\n",
    "Let's generate some random numbers and create box plots with them."
   ]
  },
  {
   "cell_type": "code",
   "execution_count": null,
   "metadata": {},
   "outputs": [],
   "source": [
    "randnums <- rnorm(1000)"
   ]
  },
  {
   "cell_type": "markdown",
   "metadata": {},
   "source": [
    "We can get some summary statistics about the data vector using the `summary()` function."
   ]
  },
  {
   "cell_type": "code",
   "execution_count": null,
   "metadata": {},
   "outputs": [],
   "source": [
    "summary(randnums)"
   ]
  },
  {
   "cell_type": "code",
   "execution_count": null,
   "metadata": {},
   "outputs": [],
   "source": [
    "options(repr.plot.width=6,repr.plot.height=3)"
   ]
  },
  {
   "cell_type": "markdown",
   "metadata": {},
   "source": [
    "The boxplot is a visual summary of the data:"
   ]
  },
  {
   "cell_type": "code",
   "execution_count": null,
   "metadata": {},
   "outputs": [],
   "source": [
    "options(repr.plot.width=3,repr.plot.height=5)\n",
    "boxplot(randnums)"
   ]
  }
 ],
 "metadata": {
  "kernelspec": {
   "display_name": "R",
   "language": "R",
   "name": "ir"
  },
  "language_info": {
   "codemirror_mode": "r",
   "file_extension": ".r",
   "mimetype": "text/x-r-source",
   "name": "R",
   "pygments_lexer": "r",
   "version": "3.6.0"
  },
  "toc": {
   "base_numbering": 1,
   "nav_menu": {},
   "number_sections": true,
   "sideBar": true,
   "skip_h1_title": false,
   "title_cell": "Table of Contents",
   "title_sidebar": "Contents",
   "toc_cell": false,
   "toc_position": {},
   "toc_section_display": "block",
   "toc_window_display": false
  }
 },
 "nbformat": 4,
 "nbformat_minor": 2
}
