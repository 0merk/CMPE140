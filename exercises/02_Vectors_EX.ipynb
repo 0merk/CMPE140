{
 "cells": [
  {
   "cell_type": "code",
   "execution_count": 1,
   "metadata": {},
   "outputs": [],
   "source": [
    "options(jupyter.rich_display = F)"
   ]
  },
  {
   "cell_type": "markdown",
   "metadata": {
    "tags": [
     "2019-2020-2",
     "berk",
     "vector",
     "arithmetics",
     "ywna",
     "easy"
    ]
   },
   "source": [
    "#  1. SALARY OF FOOTBALLERS"
   ]
  },
  {
   "cell_type": "markdown",
   "metadata": {},
   "source": [
    "## QUESTION"
   ]
  },
  {
   "cell_type": "markdown",
   "metadata": {},
   "source": [
    "A fan of Liverpool Football Club wants to follow the stats of five of their star playes. Virgil, Trent, Jordan, Sadio, and Bobby are his favorites. Their stats are as follows in this season:\n",
    "\n",
    "|Player|Goals|Assists|\n",
    "|:---|:---:|:---:|\n",
    "|Virgil|4|1|\n",
    "|Trent|2|12|\n",
    "|Jordan|3|5|\n",
    "|Sadio|12|6|\n",
    "|Bobby|8|7|\n",
    "\n",
    "1) Create a vector named **favorites** which contains the names of players.\n",
    "\n",
    "```r\n",
    "[1] \"Virgil\" \"Trent\"  \"Jordan\" \"Sadio\"  \"Bobby\" \n",
    "```\n",
    "\n",
    "2) Create a vector named **goals** for their goals and another vector named **assists** for their assists. \n",
    "\n",
    " ```r\n",
    "> goals\n",
    "[1]  4  2  3 12  8\n",
    "> assists\n",
    "[1]  1 12  5  6  7\n",
    "\n",
    "```\n",
    "\n",
    "3) Assign players' names to their respective stats.\n",
    "\n",
    "```r\n",
    "> goals\n",
    "Virgil  Trent Jordan  Sadio  Bobby \n",
    "     4      2      3     12      8 \n",
    "> assists\n",
    "Virgil  Trent Jordan  Sadio  Bobby \n",
    "     1     12      5      6      7 \n",
    "```\n",
    "\n",
    "4) Calculate the contribution of each player to score (**goals** + **assists**) with a vector named **each_score**.\n",
    "\n",
    "```r\n",
    "Virgil  Trent Jordan  Sadio  Bobby \n",
    "     5     14      8     18     15\n",
    "```\n",
    "\n",
    "5) Calculate their contribution to Liverpool's total score with a vector named **total_score**.\n",
    "\n",
    "```r\n",
    "[1] 60\n",
    "```"
   ]
  },
  {
   "cell_type": "markdown",
   "metadata": {
    "tags": [
     "2019-2020-2",
     "Duygu",
     "Timur",
     "Creating",
     "vectors",
     "simple",
     "arithmetic",
     "medium"
    ]
   },
   "source": [
    "# 2. TABU"
   ]
  },
  {
   "cell_type": "markdown",
   "metadata": {},
   "source": [
    "## QUESTION"
   ]
  },
  {
   "cell_type": "markdown",
   "metadata": {},
   "source": [
    "Alyosa, Mete, Derin and Cenk are playing Tabu. Alyosa and Mete form a group whose name is \"bees\". Derin and Cenk form a group whose name is \"ladybirds\". \n",
    "\n",
    "When a person predicts a word correctly, his group gains 5 points. The group which reaches 100 points wins. \n",
    "\n",
    "In total; Alyosa predicts 12, Mete predicts 8, Derin predicts 11 and Cenk predicts 7 words. \n",
    "\n",
    "1) Create two vectors **bees** and **ladybirds** with the people's names who form them. \n",
    "\n",
    "```r\n",
    "> bees\n",
    "[1] \"Alyosa\" \"Mete\"  \n",
    "> ladybirds\n",
    "[1] \"Derin\" \"Cenk\" \n",
    "```\n",
    "\n",
    "2) Create **words_bees** vector with the amount of words that bees' each member predicts correctly. Then name its elements respectively with the elements of the **bees** vector. Similarly create a vector  **words_ladybirds** and name this one's elements with the elements of the **ladybirds**.\n",
    "\n",
    "```r\n",
    "> words_bees\n",
    "Alyosa   Mete \n",
    "    12      8 \n",
    "> words_ladybirds\n",
    "Derin  Cenk \n",
    "   11     7 \n",
    "  ```\n",
    "3) Calculate each groups' total points and create a vector **totals** with them and name the vector with group names.\n",
    "```r\n",
    "> totals\n",
    "     bees ladybirds \n",
    "       20        18 \n",
    "```\n",
    "\n",
    "4) Change the winner group's name as \"winner\" in the **totals** vector.\n",
    "```r\n",
    "> totals\n",
    "   winner ladybirds \n",
    "       20        18 \n",
    "```\n",
    "\n",
    "\n",
    "\n"
   ]
  },
  {
   "cell_type": "markdown",
   "metadata": {},
   "source": [
    "# 3. DISCOUNTED CHARGERS"
   ]
  },
  {
   "cell_type": "markdown",
   "metadata": {
    "tags": [
     "2019-2020-2",
     "oyku",
     "variable_assignment",
     "updating_variable_value",
     "medium"
    ]
   },
   "source": [
    "## QUESTION"
   ]
  },
  {
   "cell_type": "markdown",
   "metadata": {},
   "source": [
    "A convenience store sells 5 different types of chargers. Their prices are as follows: 16, 20, 32, 12, 9.\n",
    "\n",
    "1. Assign these numbers to a vector called **charger_prices**.\n",
    "\n",
    "2. The store wants to place a discount. For the chargers priced lower than 15 TLs, the store will place a %5 discount. For the chargers priced higher than 15 TLs, the store will place a %20 discount. Update the vector **charger_prices** with the appropriate calculations.\n",
    "\n",
    "```r\n",
    "> charger_prices\n",
    "[1] 12.80 16.00 25.60 11.40  8.55\n",
    "```\n",
    "\n",
    "3. A customer buys two of each charger after the discount. Calculate their cost and assign the proper calculation into a vector called **customer_pays**.\n",
    "\n",
    "4. Show the amount the customer paid.\n",
    "\n",
    "```r\n",
    "> customer_pays\n",
    "[1] 148.7\n",
    "```\n"
   ]
  },
  {
   "cell_type": "markdown",
   "metadata": {
    "tags": [
     "2019-2020-2",
     "meryem",
     "subsetting",
     "filtering",
     "vectors",
     "medium"
    ]
   },
   "source": [
    "# 4.ROLLER COASTER"
   ]
  },
  {
   "cell_type": "markdown",
   "metadata": {},
   "source": [
    "## QUESTION"
   ]
  },
  {
   "cell_type": "markdown",
   "metadata": {},
   "source": [
    "Ayse, Ali, Beyza, Berk and Can wants to take the roller coaster at the luna park.\n",
    "\n",
    " 1. Create a vector called **names** that consists of their names.\n",
    "\n",
    ">Their ages are 10, 11, 12, 10 and 13 respectively.\n",
    "\n",
    " 2. Create a vector called **ages** that consists of their ages. Then assign names to the **ages** vector. \n",
    "\n",
    ">When they went to the luna park they learned that there is a requirement of being 11 years old and being longer than 140cm height to get the roller coaster.\n",
    "Their heights are 136cm, 143cm, 151cm, 135cm and 153cm respectively.\n",
    "\n",
    " 3. Create a vector called **heights** that consists of their heights and assign their names.\n",
    "\n",
    "> Children who claim the age requirement got in the line for roller coaster.\n",
    "\n",
    " 4. Create a vector called **can_take**, which contains the heights of children in the line by subsetting heights vector with respect to **ages** vector.\n",
    "\n",
    ">At the end of the line, their height will be measured and if they meet the height reqirement they could get the roller coaster.\n",
    "\n",
    " 5. Subset the **can_take** vector so that there will the ones that could get the roller coaster."
   ]
  },
  {
   "cell_type": "markdown",
   "metadata": {
    "tags": [
     "2019-2020-2",
     "Koralp",
     "subsetting_by_names",
     "filtering",
     "logical_tests",
     "medium"
    ]
   },
   "source": [
    "# 5. ABBEY ROAD"
   ]
  },
  {
   "cell_type": "markdown",
   "metadata": {},
   "source": [
    "## QUESTION"
   ]
  },
  {
   "cell_type": "markdown",
   "metadata": {},
   "source": [
    "John's favourite songs from the album Abbey Road are Something, Because, Here Comes the Sun and Come Together. He wants to download these songs according to this order. However; in the album the songs appear as follows: Come Together, Something, Here Comes the Sun, Because.   \n",
    "\n",
    "1. Create a vector **vec_fav** which includes these songs (according to the order that John wants).\n",
    "\n",
    "2. The length of the songs are (in minutes) 3.02, 2.45, 4.19, 3.05 respectively. Create a vector called **vec_length** which includes these numbers only.\n",
    "\n",
    "3. Change the vector **vec_length** so that it includes both the names and the lengths of the songs.\n",
    "\n",
    "```r\n",
    "> vec_length\n",
    "         Something    Because      Here Comes the Sun      Come Together \n",
    "              3.02      2.45               3.05               4.19 \n",
    "  ```\n",
    "\n",
    "4. Then John realizes that the app does not allow him to download songs which lasts more than 4 minutes, so when he opens the app, he sees that **vec_length** is updated according to this restriction.\n",
    "\n",
    "5. Finally, a day after, **vec_length** is updated one more time. Now songs are listed in the order of their apperance in the album and also the name of the vector is changed as **vec_final**.\n",
    "```r\n",
    "> vec_final\n",
    "         Something Here Comes the Sun            Because \n",
    "              3.02               3.05               2.45 \n",
    "```\n",
    " \n",
    "\n",
    "\n",
    "\n",
    "\n",
    "\n",
    "\n"
   ]
  },
  {
   "cell_type": "markdown",
   "metadata": {
    "tags": [
     "2019-2020-2",
     "Ceren",
     "sorting_ordering",
     "hard"
    ]
   },
   "source": [
    "# 6. GPA"
   ]
  },
  {
   "cell_type": "markdown",
   "metadata": {},
   "source": [
    "## QUESTION"
   ]
  },
  {
   "cell_type": "markdown",
   "metadata": {},
   "source": [
    "An econometrician wants to see whether college graduates with higher GPA's are more likely to earn more or not. So, she randomly picks 7 students who graduated from the same department at the same year and compare their GPA's with their monthly earnings. \n",
    "\n",
    "1. 2.65, 3.87, 2.74, 2.13, 3.18, 3.46, 2.50 are GPA's of a group of people. Assign these numbers to a vector named **GPAs**\n",
    "\n",
    "2. 5000, 15000, 13000, 5000, 7500, 6000, 6500 are the monthly earnings of those people. Assign these numbers to a vector named **earnings**\n",
    "\n",
    "3. Get the monthly earnings that correspond to the highest 3 GPA's in our list and assign into a vector named **top3**\n",
    "```r\n",
    "> top3\n",
    "[1] 15000  6000  7500\n",
    "```\n",
    "\n",
    "HINT: Use the `order` function to match the gpas with the earnings in a decreasing order."
   ]
  },
  {
   "cell_type": "markdown",
   "metadata": {
    "tags": [
     "2019-2020-2",
     "tugrul",
     "missing",
     "data",
     "vectorized",
     "functions",
     "hard"
    ]
   },
   "source": [
    "# 7. HOW MANY GLASSES HAVE BEEN BROKEN?"
   ]
  },
  {
   "cell_type": "markdown",
   "metadata": {},
   "source": [
    "## QUESTION"
   ]
  },
  {
   "cell_type": "markdown",
   "metadata": {},
   "source": [
    "Muslum is a very clumsy boy and consequently he breaks many glasses every night. One day, he is wondering about how much damage he gave to his household budget and wants to count the glasses which has been broken throughout a week.\n",
    "\n",
    "He reach the following numbers in the end of a week:\n",
    "\n",
    "| Day | Glasses |\n",
    "| --------- | ------ |\n",
    "| Monday    | 10     |\n",
    "| Tuesday   | 8      |\n",
    "| Wednesday | 12     |\n",
    "| Thursday  | 14     |\n",
    "| Friday    | 17     |\n",
    "| Saturday  | 26     |\n",
    "| Sunday    | 7      |\n",
    "\n",
    "Cost of a glass: 22\n",
    "\n",
    " 1. Create a vector **broken_glasses** that holds the days of a week and numbers of broken glasses in the given order.\n",
    "```r \n",
    " > broken_glasses\n",
    "   Monday   Tuesday Wednesday  Thursday    Friday  Saturday    Sunday \n",
    "       10         8        12        14        17        26         7 \n",
    "```\n",
    "\n",
    " 2. Assign the given value to **cost**.\n",
    "\n",
    " 3. He realizes that he actually experienced short-term memory loss at nights that he breaks more than and equal to 15 glasses. Update related days in **broken_glasses** as missing.\n",
    "```r\n",
    "> broken_glasses\n",
    "   Monday   Tuesday Wednesday  Thursday    Friday  Saturday    Sunday \n",
    "       10         8        12        14        NA        NA         7 \n",
    "```\n",
    "\n",
    " 4. Take the sum of rest and assign it to **known_broken**.\n",
    "\n",
    " 5. Find total cost which he gave to the household budget and assign it to **not_again**.\n",
    "\n",
    " 6. Print **not_again** for the sake of him.\n",
    " ~~~r\n",
    " > not_again\n",
    "\n",
    " 1122 \n",
    " ~~~\n",
    "\n",
    "**Hint:** You may need to use na.rm argument in `sum()` function."
   ]
  },
  {
   "cell_type": "markdown",
   "metadata": {
    "tags": [
     "2019-2020-2",
     "berke",
     "vector_recycling",
     "hard"
    ]
   },
   "source": [
    "# 8. THIS BUNDLE OR THAT BUNDLE"
   ]
  },
  {
   "cell_type": "markdown",
   "metadata": {},
   "source": [
    "## QUESTION"
   ]
  },
  {
   "cell_type": "markdown",
   "metadata": {},
   "source": [
    "**Warning: This is a vector recycling question, please do not multiply vectors with numbers mentioned below.**\n",
    "\n",
    "Cole went to an outlet mall in New Jersey. In one of those shops he realized that there were huge opportunities for bundles. He went in. He found four bundles.\n",
    "\n",
    "*Bundles with 3 goods and 9 goods were complements* so he must buy *three bundle with 3 goods* and *one bundle with 9 goods* but the bundle with 3 goods he is going to buy must be the same bundles.\n",
    "\n",
    "Each bundle had discounts for each good. New prices for each good in bundles were:\n",
    "\n",
    " - First bundle contained 3 goods with such prices: 8, 11, 17\n",
    "\n",
    " - Second bundle contained 3 goods with such prices: 6, 14, 12\n",
    "\n",
    " - Third bundle contained 9 goods with such prices: 6, 9, 10, 5, 7, 5, 12, 13, 21\n",
    "\n",
    " - Fourth bundle contained 9 goods with such prices: 10, 7, 9, 14, 7.99, 9.99, 17, 19, 10.99\n",
    "\n",
    "He put his bundles in his cart and realized that there was another opportunity. If he pays with cash, he will get a 13 percent discount. If he pays with credit card there is no discount. He has 165 dollars in his pocket and he must keep at least 10 dollars to make his way home. He wants to calculate the  cost of this transaction.\n",
    "\n",
    "Steps:\n",
    "\n",
    "1. Assign each bundle with their prices to a vector such as **bundle1, bundle2** etc.\n",
    "\n",
    "2. Gather each combination and assign them as **comb1, comb2** etc. You should recycle those vectors.\n",
    "\n",
    "3. Take the sum of each combination and assign them **total1, total2** etc. and print them on screen.\n",
    "\n",
    "4. Compare those sums. Assign the cheapest bundle as **final**.\n",
    "\n",
    "5. Decide whether he buys with cash or credit card and print the final cost of his transaction. To do this assign the cost of credit card amount as **credit**, the cash amount as **cash**.\n",
    "\n",
    "6. Finally create and print **final_choice** to checkout.\n",
    "\n",
    "```r\n",
    "> final_choice\n",
    "credit \n",
    "   184 \n",
    "```"
   ]
  },
  {
   "cell_type": "markdown",
   "metadata": {
    "tags": [
     "2019-2020-2",
     "bugra",
     "creating_sequences",
     "hard"
    ]
   },
   "source": [
    "# 9. THE WOLF OF WALL STREET"
   ]
  },
  {
   "cell_type": "markdown",
   "metadata": {},
   "source": [
    "## QUESTION"
   ]
  },
  {
   "cell_type": "markdown",
   "metadata": {},
   "source": [
    "Ted Mosby and Barney Stinson are 2 brokers in Wall Street, New York.\n",
    "   \n",
    " * Ted Mosby's initial net asset value is 13000 dollars.\n",
    " * Barney Stinson's initial net asset value is 37000 dollars. \n",
    "   \n",
    "They bet on whose initial net asset value will be higher after 10 months.\n",
    "\n",
    " * Ted Mosby is on a lucky streak. His net asset value is increasing by 4000 dollar per month for the next 10 months.\n",
    " * Barney is going through a bad patch. His net asset value is decreasing by 500 dollar per month for the next 10 months.\n",
    "\n",
    "After 10 months, their boss do a favor. Ted and Barney get 1500 dollar for the months that their asset values are above 25000 dollars.\n",
    "\n",
    "1. Create a sequence called **ted_value** consisting of Ted's asset values for each month.\n",
    "\n",
    "2. Create a sequence called **barney_value** consisting of Barney's asset values for each month.\n",
    "\n",
    "3. Create a vector called **tvabove** consisting of Ted's asset values that are above 25000 dollars.\n",
    "\n",
    "4. Create a vector called **bvabove** consisting of Barney's asset values that are above 25000 dollars.\n",
    "\n",
    "5. Calculate their new asset values for the 10th month and assign them as variables called **tfvalue** and **bfvalue**.\n",
    "\n",
    "6. Assign a vector called **winner** consisting of the name of the winner and his final net asset value.\n",
    "```r\n",
    " winner\n",
    "[1] \"Ted\"   \"58000\"\n",
    "```\n"
   ]
  }
 ],
 "metadata": {
  "celltoolbar": "Tags",
  "kernelspec": {
   "display_name": "R",
   "language": "R",
   "name": "ir"
  },
  "language_info": {
   "codemirror_mode": "r",
   "file_extension": ".r",
   "mimetype": "text/x-r-source",
   "name": "R",
   "pygments_lexer": "r",
   "version": "3.5.2"
  },
  "toc": {
   "nav_menu": {},
   "number_sections": true,
   "sideBar": true,
   "skip_h1_title": false,
   "title_cell": "Table of Contents",
   "title_sidebar": "Contents",
   "toc_cell": false,
   "toc_position": {},
   "toc_section_display": true,
   "toc_window_display": true
  },
  "varInspector": {
   "cols": {
    "lenName": 16,
    "lenType": 16,
    "lenVar": 40
   },
   "kernels_config": {
    "python": {
     "delete_cmd_postfix": "",
     "delete_cmd_prefix": "del ",
     "library": "var_list.py",
     "varRefreshCmd": "print(var_dic_list())"
    },
    "r": {
     "delete_cmd_postfix": ") ",
     "delete_cmd_prefix": "rm(",
     "library": "var_list.r",
     "varRefreshCmd": "cat(var_dic_list()) "
    }
   },
   "types_to_exclude": [
    "module",
    "function",
    "builtin_function_or_method",
    "instance",
    "_Feature"
   ],
   "window_display": false
  }
 },
 "nbformat": 4,
 "nbformat_minor": 2
}
