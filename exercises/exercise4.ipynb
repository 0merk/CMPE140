{
 "cells": [
  {
   "cell_type": "markdown",
   "metadata": {},
   "source": [
    "# Exercise 4"
   ]
  },
  {
   "cell_type": "markdown",
   "metadata": {},
   "source": [
    "## Q1\n",
    "\n",
    "1)Create a matrix named \"mat\" with 4 row whose elements begin from 2 and they will increase two by two until 50.\n",
    "\n",
    "2)Now change the third column with 16,16,16,16.\n",
    "\n",
    "3)Now show that the sum of column 3 and 4 equals column 6."
   ]
  },
  {
   "cell_type": "code",
   "execution_count": null,
   "metadata": {
    "collapsed": true
   },
   "outputs": [],
   "source": [
    "\n",
    "#code here\n",
    "\n",
    "\n",
    "\n",
    "#code here\n"
   ]
  },
  {
   "cell_type": "markdown",
   "metadata": {},
   "source": [
    "## Q2\n",
    "\n",
    "Create a function that takes a matrix and shows the corner elements of that matrix."
   ]
  },
  {
   "cell_type": "code",
   "execution_count": null,
   "metadata": {
    "collapsed": true
   },
   "outputs": [],
   "source": [
    "\n",
    "#code here\n",
    "\n",
    "\n",
    "\n",
    "#code here\n"
   ]
  },
  {
   "cell_type": "markdown",
   "metadata": {},
   "source": [
    "## Q3\n",
    "\n",
    "1)Use built in letters vector to create 2x13 matrix. Do it using by column.\n",
    "\n",
    "2)Create the same matrix by using loops."
   ]
  },
  {
   "cell_type": "code",
   "execution_count": null,
   "metadata": {
    "collapsed": true
   },
   "outputs": [],
   "source": [
    "\n",
    "#code here\n",
    "\n",
    "\n",
    "\n",
    "#code here\n"
   ]
  },
  {
   "cell_type": "markdown",
   "metadata": {},
   "source": [
    "## Q4\n",
    "\n",
    "1)Create a 4 by 4 matrix, name it m, its colums should be the following vectors.\n",
    "\n",
    "a1 <- c(5,3,2,4) \n",
    "a2 <- c(6,3,2,8)\n",
    "a3 <- c(1,3,2,5)\n",
    "a4 <- c(9,2,4,1)\n",
    "\n",
    "2)Take the transpose of the matrix and assingn it to transpose_m\n",
    "\n",
    "3)Check if the determinant of m is equal the determinant of transpose_m and print appropriate quota for the result.\n"
   ]
  },
  {
   "cell_type": "code",
   "execution_count": null,
   "metadata": {
    "collapsed": true
   },
   "outputs": [],
   "source": [
    "\n",
    "#code here\n",
    "\n",
    "\n",
    "\n",
    "#code here\n"
   ]
  },
  {
   "cell_type": "markdown",
   "metadata": {},
   "source": [
    "## Q5\n",
    "\n",
    "1)First create 2x2 matrix \"A\" with elements 1, 3, 7, 4 and 2x2 matrix \"B\" with elements 5, 9, 2, 8.\n",
    "\n",
    "2)Assign transpose of A and B to a new matrices named \"TA\" and \"TB\".\n",
    "\n",
    "3)Check whether AB equals BA or not.\n",
    "\n",
    "4)Then check transpose of AB equals to multiplication of TB and TA."
   ]
  },
  {
   "cell_type": "code",
   "execution_count": null,
   "metadata": {
    "collapsed": true
   },
   "outputs": [],
   "source": [
    "\n",
    "#code here\n",
    "\n",
    "\n",
    "\n",
    "#code here\n"
   ]
  },
  {
   "cell_type": "markdown",
   "metadata": {},
   "source": [
    "## Q6\n",
    "\n",
    "1)Create a sequence from 10 to 1000 with length 100. Call it \"key\".\n",
    "\n",
    "2)Create a 10x10 matrix ,elements from key, by rows that odd rows start from beginning and even rows start from the ending.\n",
    "Example 3x3 for numbers from 1:9. First row: 1,2,3 Second row 9,8,7 Third row 4,5,6 in the order given. Name it my_precious.\n",
    "\n",
    "#Obligation: Use rows as units to create the matrix. You can benefit from using functions."
   ]
  },
  {
   "cell_type": "code",
   "execution_count": null,
   "metadata": {
    "collapsed": true
   },
   "outputs": [],
   "source": [
    "\n",
    "#code here\n",
    "\n",
    "\n",
    "\n",
    "#code here\n"
   ]
  },
  {
   "cell_type": "markdown",
   "metadata": {},
   "source": [
    "## Q7\n",
    "\n",
    "After microeconomics midterms, the instructor has normally distributed midterm 1 and midterm 2 grade results.\n",
    "She chooses 8 students' grades and creates a matrix to find the standard normal distribution values of chosen grades.\n",
    "\n",
    "1)Create a sample with 16 elements from 10 to 100 by using set.seed(090119). Name it \"grades\".\n",
    "\n",
    "2)By using \"grades\" vector, create a matrix having 8 rows. Call it \"normal_distribution\".\n",
    "\n",
    "3)Name the columns \"mt1\" and \"mt2\", and name the rows from 1 to 8.\n",
    "\n",
    "4)Create a function which converts the elements of this matrix to standard normal distribution values, i.e z.\n",
    "\n",
    "#Use (x-mean(x))/sd(x) \n",
    "#Replace the elements of matrix with their standard normal distribution values. Assign the results to a new matrix called \"standard_normal\"\n",
    "#Hint: Use apply function.\n",
    "\n",
    "The result is supposed to be:"
   ]
  },
  {
   "cell_type": "code",
   "execution_count": null,
   "metadata": {
    "collapsed": true
   },
   "outputs": [],
   "source": [
    "> standard_normal\n",
    "       mt1        mt2\n",
    "1  0.670575524 -0.2795750\n",
    "2  1.492181571  0.1270795\n",
    "3 -0.489338896  0.3642947\n",
    "4 -0.924306803 -1.2962113\n",
    "5 -0.537668663  0.8048371\n",
    "6 -0.006041221 -1.6012022\n",
    "7  1.105543431  0.7031734\n",
    "8 -1.310944943  1.1776037"
   ]
  },
  {
   "cell_type": "code",
   "execution_count": null,
   "metadata": {
    "collapsed": true
   },
   "outputs": [],
   "source": [
    "\n",
    "#code here\n",
    "\n",
    "\n",
    "\n",
    "#code here\n"
   ]
  },
  {
   "cell_type": "markdown",
   "metadata": {},
   "source": [
    "## Q8\n",
    "\n",
    "1)mat1 is a matrix consisting of 4 rows and 5 columns and contains 20 random numbers ranging from 1 to 50. \n",
    "\n",
    "2)Write a function that filters numbers above 24 and saves them in a vector. \n",
    "Function then should return the created vector."
   ]
  },
  {
   "cell_type": "code",
   "execution_count": null,
   "metadata": {
    "collapsed": true
   },
   "outputs": [],
   "source": [
    "\n",
    "#code here\n",
    "\n",
    "\n",
    "\n",
    "#code here\n"
   ]
  },
  {
   "cell_type": "markdown",
   "metadata": {},
   "source": [
    "## Q9\n",
    "\n",
    "1)Create a matrix called grades with the given vectors and name rows by the names vector.\n",
    "\n",
    "names <- c(\"Selin\",\"Berk\",\"Ahmet\",\"Deniz\",\"Mete\")\n",
    "midterm1 <- c(70,85,90,63,87)\n",
    "midterm2 <- c(65,84,93,85,90)\n",
    "final<- c(87,83,95,78,92)\n",
    "\n",
    "\n",
    "2)Create a vector called semestergrade and calculate overall grade for each student by using the formula:\n",
    "\n",
    "0.3*midterm1+ 0.3*midterm2+ 0.4*final\n",
    "\n",
    "\n",
    "3)Create a vector called lettergrade, convert semester grades into letter grades.\n",
    "\n",
    "AA= >90, BA= 90>x>80, BB= 80>X>70...\n",
    "Add lettergrade to the grades matrix."
   ]
  },
  {
   "cell_type": "code",
   "execution_count": null,
   "metadata": {
    "collapsed": true
   },
   "outputs": [],
   "source": [
    "\n",
    "#code here\n",
    "\n",
    "\n",
    "\n",
    "#code here\n"
   ]
  },
  {
   "cell_type": "markdown",
   "metadata": {},
   "source": [
    "## Q10\n",
    "\n",
    "Create a function for creating a square matrix of given size as the summation of column and row numbers.\n",
    "For example:"
   ]
  },
  {
   "cell_type": "code",
   "execution_count": null,
   "metadata": {
    "collapsed": true
   },
   "outputs": [],
   "source": [
    ">summation_matrix(3)\n",
    "\n",
    "     [,1] [,2] [,3]\n",
    "[1,]    2    3    4\n",
    "[2,]    3    4    5\n",
    "[3,]    4    5    6"
   ]
  },
  {
   "cell_type": "code",
   "execution_count": null,
   "metadata": {
    "collapsed": true
   },
   "outputs": [],
   "source": [
    "\n",
    "#code here\n",
    "\n",
    "\n",
    "\n",
    "#code here\n"
   ]
  },
  {
   "cell_type": "markdown",
   "metadata": {},
   "source": [
    "## Q11\n",
    "A typical resident of the country of \"Oburistan\" consumes a simple basket of goods consisting only of life’s essentials: soda, pizza, and Hamburger. \n",
    "A year’s basket contains 1,000 sodas, 100 pizzas, and 50 hamburgers. \n",
    "The price of these goods in each of the past three years is given in the following table:\n",
    "\n",
    "|       | Soda    | Pizza        |       Hamburger |\n",
    "| ---------  |:---------:| -------- |  -------- |\n",
    "|  2015  | 1  | 8| 10 |\n",
    "|  2016   | 1.5  | 8 | 10 |\n",
    "|  2017    | 1.5 | 8.5| 11 |\n",
    "\n",
    "\n",
    "\n",
    "Task-1: Create a 3x3 matrix called \"Oburistan\" to store these prices binding rows of prices (without column or row names).\n",
    "\n",
    "Task-2: Assign row and column names as shown in the table. \n",
    "\n",
    "Task-3: Calculate Cost of basket (CoB) for each year according to: \n",
    "    \n",
    "        Cost of Basket = 1000 x price of a soda + 100 x price of a pizza + 50 x price of a hamburger\n",
    "\n",
    "\n",
    "Task-4: Update Oburistan matrix by adding a «CoB» column to matrix with CoB values.\n",
    "\n",
    "\n",
    "Task-5: You have measured all values above in Oburistan currency (ORS) but you need to convert them to Turkish Lira.\n",
    "    \n",
    "    Create a function called \"ORS_to_TRY\" to convert ORS to TRY. (Assume \"1 ORS = 2 TRY\")\n",
    "\n",
    "Task-6: Update Oburistan matrix by applying our function \"ORS_to_TRY\" to Oburistan matrix on column margin\n"
   ]
  },
  {
   "cell_type": "code",
   "execution_count": null,
   "metadata": {
    "collapsed": true
   },
   "outputs": [],
   "source": [
    "\n",
    "#code here\n",
    "\n",
    "\n",
    "\n",
    "#code here\n"
   ]
  }
 ],
 "metadata": {
  "kernelspec": {
   "display_name": "R",
   "language": "R",
   "name": "ir"
  },
  "language_info": {
   "codemirror_mode": "r",
   "file_extension": ".r",
   "mimetype": "text/x-r-source",
   "name": "R",
   "pygments_lexer": "r",
   "version": "3.4.3"
  }
 },
 "nbformat": 4,
 "nbformat_minor": 2
}
