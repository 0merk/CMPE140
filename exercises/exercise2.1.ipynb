{
 "cells": [
  {
   "cell_type": "markdown",
   "metadata": {},
   "source": [
    "## Exercise 2"
   ]
  },
  {
   "cell_type": "markdown",
   "metadata": {},
   "source": [
    "### Global/local variables & If-else statements"
   ]
  },
  {
   "cell_type": "markdown",
   "metadata": {},
   "source": [
    "##### Q1 \n",
    "\n",
    "1) Create a vector which includes 8 numbers from 42 to 112 and name it my_numbers.\n",
    "\n",
    "2) Then create a function that take the mode of numbers with 11 and name this function mode_fun. Assign this function to a variable mode_of_numbers.\n",
    "\n",
    "3) Create a nested function that select a random number from mode_fun function and keeps this number and also should print \"The lucky number is #(should write the lucky number.)\".\n",
    "\n",
    "4)  In addition you should also use the random number in another function so make the random number's scope global and lastly print \"This #(random number) has a global scope.\"\n",
    " \n",
    "\n",
    "         Outputs\n",
    "          The lucky number is #. \n",
    "           # has a global scope. \n",
    "\n"
   ]
  },
  {
   "cell_type": "code",
   "execution_count": 1,
   "metadata": {
    "collapsed": true
   },
   "outputs": [],
   "source": [
    "### code between lines\n",
    "\n",
    "\n",
    "### code between lines"
   ]
  },
  {
   "cell_type": "markdown",
   "metadata": {},
   "source": [
    "#### Q2 \n",
    "\n",
    " In a foreign state there is an interesting tax system.  The individuals' tax payments are determined by their length and IQ level. \n",
    " \n",
    "         If a citizen is taller than 1.82 they pay 100$, if they are shorter than this level they pay 75$.\n",
    "         Also if their IQ level is greater than 130 they pay 60$, if their IQ level is under 130 they pay 85$.\n",
    "         If both their lengths and IQ levels above from levels they pay 150$ instead of 160$.\n",
    "         However, if both their lengths and IQ levels under from levels they pay 180$ instead of 160$.\n",
    "     \n",
    " There are 5 citizens' information here: \n",
    " \n",
    "         Lengths= 162, 184, 177, 189, 183. \n",
    "         IQ Levels= 132, 134, 120, 129, 131.\n",
    "\n",
    " 1) Create 5 vectors as citizen_A(and B,C,D,E) that include the information of citizens.\n",
    " \n",
    " 2) Create a function which takes citizens' name as a variable and returns the tax payments of them. \n",
    " \n",
    " Name the function tax_calculater.\n"
   ]
  },
  {
   "cell_type": "code",
   "execution_count": 2,
   "metadata": {
    "collapsed": true
   },
   "outputs": [],
   "source": [
    "### code between lines\n",
    "\n",
    "### code between lines"
   ]
  },
  {
   "cell_type": "markdown",
   "metadata": {},
   "source": [
    "#### Q3\n",
    "\n",
    "1) Create a function that outputs whether the given variable is negative or non-negative.\n",
    "\n",
    "        input: -3\n",
    "        output: negative\n",
    "\n",
    "        input: 18\n",
    "        output: non-negative\n",
    "\n",
    "\n"
   ]
  },
  {
   "cell_type": "code",
   "execution_count": null,
   "metadata": {
    "collapsed": true
   },
   "outputs": [],
   "source": [
    "### code between lines\n",
    "\n",
    "\n",
    "### code between lines"
   ]
  },
  {
   "cell_type": "markdown",
   "metadata": {},
   "source": [
    "#### Q4\n",
    "\n",
    "In a school, teachers want to divide students into classes according to their pilot test. \n",
    "The dividing should be like this: \n",
    "\n",
    "    between 80 and 100 in 1st, \n",
    "    80 and 60 in 2nd, \n",
    "    60 and 40 in 3rd, \n",
    "    40 and 20 in 4th and \n",
    "    the rest in 5th class. \n",
    "\n",
    "Write a code that gives the class which the given point belongs to.(use the given code below.)\n",
    "\n",
    "point <- as.integer(readline(\"Enter the point: \"))"
   ]
  },
  {
   "cell_type": "code",
   "execution_count": null,
   "metadata": {
    "collapsed": true
   },
   "outputs": [],
   "source": [
    "### code between lines\n",
    "\n",
    "\n",
    "\n",
    "\n",
    "### code between lines"
   ]
  },
  {
   "cell_type": "markdown",
   "metadata": {},
   "source": [
    "#### Q5\n",
    "\n",
    "In a class of 6 teacher wants to find the average of the results that are written below.\n",
    "\n",
    "     Ahmet= 90, Selin=50, Mehmet= 45, Kaan= 68, Gizem= 79, Sude=85\n",
    " \n",
    "1) Create a vector called students. \n",
    "\n",
    "2) Find mean of the vector and define that as a global variable called stu_mean\n",
    "\n",
    "3) Write a function called \"success\" with using ifelse() function in it which will return if students failed or did not as boolean.\n",
    "\n",
    "4) Use stu_mean as the pass grade. \n",
    "\n",
    "5) Filter the vector \"students\" with the outcome of \"success\" function in a vector called succesfull_ones"
   ]
  },
  {
   "cell_type": "code",
   "execution_count": 3,
   "metadata": {
    "collapsed": true
   },
   "outputs": [],
   "source": [
    "### code between lines\n",
    "\n",
    "\n",
    "\n",
    "### code between lines"
   ]
  },
  {
   "cell_type": "markdown",
   "metadata": {},
   "source": [
    "#### Q6 \n",
    "\n",
    "Teacher put a faulty question in the midterm, therefore she wanted to give extra credits to the students.\n",
    "\n",
    "    She decided to give 10 percent of their grades for the ones that are below 50. \n",
    "    For the others she decided to give 5 percent of their grades.\n",
    "    \n",
    "First midterm grades are written below. \n",
    "\n",
    "    \"Hale\"=80, \"Yiğit\"=76, \"Ahmet\"=90, \"Kaan\"= 65, \"Simge\"= 45\n",
    "    \n",
    "1)Collect first midterm grades in a global vector called \"first_midterm\"\n",
    "\n",
    "2)She wants you to create a function called grade_fix() which will take \"grades\" as argument.\n",
    "\n",
    "    Filter grades that are below 50 and collect them in a vector called \"lower\" locally, and put the rest in a vector called higher\"\n",
    "\n",
    "    After doing the necessary calculations, return new values in a vector called \"fix\"\n",
    "\n",
    "**Hint:** You can collect lower and higher fixed values seperately and bind those vectors later on.\n"
   ]
  },
  {
   "cell_type": "code",
   "execution_count": null,
   "metadata": {
    "collapsed": true
   },
   "outputs": [],
   "source": [
    "### code between lines\n",
    "\n",
    "\n",
    "\n",
    "### code between lines"
   ]
  },
  {
   "cell_type": "markdown",
   "metadata": {},
   "source": [
    "##### Q7 \n",
    "\n",
    " Create a readline named \"year\" that users enter their student number to ask about whether they are sophomore.\n",
    " \n",
    "         If their student numbers' are between 2016000000 and 2017000000,they are sophomore.\n"
   ]
  },
  {
   "cell_type": "code",
   "execution_count": null,
   "metadata": {
    "collapsed": true
   },
   "outputs": [],
   "source": [
    "### code between lines\n",
    "\n",
    "\n",
    "\n",
    "### code between lines"
   ]
  },
  {
   "cell_type": "markdown",
   "metadata": {},
   "source": [
    "#### Q8 \n",
    "\n",
    "1) Create a vector named \"legends\" includes the names \"Alex\",\"Hagi\",\"Sergen\"and \"Hami\".\n",
    " \n",
    "2) Create a function names \"player_team\" that takes an element of \"legends\" randomly and shows his name and his team in a vector.\n",
    " \n",
    "3) Teams are \"Fenerbahce\" for \"Alex\",\"Galatasaray\" for \"Hagi\",\"Besiktas\" for \"Sergen\" and \"Trabzonspor\" for \"Hami.\n",
    "\n"
   ]
  },
  {
   "cell_type": "code",
   "execution_count": null,
   "metadata": {
    "collapsed": true
   },
   "outputs": [],
   "source": [
    "### code between lines\n",
    "\n",
    "\n",
    "\n",
    "\n",
    "### code between lines"
   ]
  },
  {
   "cell_type": "markdown",
   "metadata": {},
   "source": [
    "#### Q9\n",
    "\n",
    "1)  Create a sequence x of length 100 and starting from 1, increasing in 3 by 3.\n",
    "\n",
    "2)  Create a function that takes inside a vector and call this function controller.\n",
    "\n",
    "        If any of the numbers is bigger than 250, return \"success\".\n",
    "        If none of the numbers in vector is bigger than 250, control whether there is a number bigger than 200. If exists, return \"fail_success\".\n",
    "        If none of the numbers are bigger than 200, control whether there is a number bigger than 150. If exists, return \"fail_fail_success\".\n",
    "        If all failed, return \"all_failed\".\n",
    "\n",
    "3) Set seed 212.\n",
    "\n",
    "        Choose 3 numbers from x and assign this to y_1. Control it by controller and assign result to y_1_result.\n",
    "        Choose 3 numbers from x and assign this to y_2. Control it by controller and assign result to y_2_result.\n",
    "        Choose 3 numbers from x and assign this to y_3. Control it by controller and assign result to y_3_result.\n",
    "        Choose 3 numbers from x and assign this to y_4. Control it by controller and assign result to y_4_result.\n",
    "\n",
    "\n"
   ]
  },
  {
   "cell_type": "code",
   "execution_count": 4,
   "metadata": {
    "collapsed": true
   },
   "outputs": [],
   "source": [
    "### code between lines\n",
    "\n",
    "\n",
    "### code between lines"
   ]
  },
  {
   "cell_type": "markdown",
   "metadata": {},
   "source": [
    "##### Q10\n",
    "\n",
    "1) Set seed to 111 and create random a vector with 10 variables, from 1 to 100, assign it to cats.\n",
    "\n",
    "2) Write a function named decreasing_cats, which has local variable named cats in it, that is a vector contains 10 variables, chosen from numbers between 1 to 100 when the seed is 222.\n",
    "\n",
    "    This function must return the local cats vector in decreasing order, assign this to orderer_local_cats.\n",
    "    \n",
    "3)  Order global cats vector in decreasing order and assign this to ordered_global_cats\n",
    "\n",
    "4)  Compare these two vectors whether they are same or not. Assing the True or False value to \"conclusion\". (use \"all\" function)."
   ]
  },
  {
   "cell_type": "code",
   "execution_count": 5,
   "metadata": {
    "collapsed": true
   },
   "outputs": [],
   "source": [
    "### code between lines\n",
    "\n",
    "\n",
    "### code between lines"
   ]
  }
 ],
 "metadata": {
  "kernelspec": {
   "display_name": "R",
   "language": "R",
   "name": "ir"
  },
  "language_info": {
   "codemirror_mode": "r",
   "file_extension": ".r",
   "mimetype": "text/x-r-source",
   "name": "R",
   "pygments_lexer": "r",
   "version": "3.4.3"
  }
 },
 "nbformat": 4,
 "nbformat_minor": 2
}
