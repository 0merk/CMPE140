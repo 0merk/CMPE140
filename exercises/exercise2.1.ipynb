{
 "cells": [
  {
   "cell_type": "markdown",
   "metadata": {},
   "source": [
    "## Exercise 2"
   ]
  },
  {
   "cell_type": "markdown",
   "metadata": {},
   "source": [
    "### Global/local variables & If-else statements"
   ]
  },
  {
   "cell_type": "markdown",
   "metadata": {},
   "source": [
    "##### Q1 \n",
    "\n",
    "1) Create a vector which includes 8 numbers from 42 to 112 and name it my_numbers.\n",
    "\n",
    "2) Then create a function that take the mode of numbers with 11 and name this function mode_fun. Assign this function to a variable mode_of_numbers.\n",
    "\n",
    "3) Create a nested function that select a random number from mode_fun function and keeps this number and also should print \"The lucky number is #(should write the lucky number.)\".\n",
    "\n",
    "4)  In addition you should also use the random number in another function so make the random number's scope global and lastly print \"This #(random number) has a global scope.\"\n",
    " \n",
    "\n",
    "         Outputs\n",
    "          The lucky number is #. \n",
    "           # has a global scope. \n",
    "\n"
   ]
  },
  {
   "cell_type": "code",
   "execution_count": 1,
   "metadata": {
    "collapsed": true
   },
   "outputs": [],
   "source": [
    "### code between lines\n",
    "\n",
    "\n",
    "### code between lines"
   ]
  },
  {
   "cell_type": "markdown",
   "metadata": {},
   "source": [
    "#### Q2 \n",
    "\n",
    " In a foreign state there is an interesting tax system.  The individuals' tax payments are determined by their length and IQ level. \n",
    " \n",
    "         If a citizen is taller than 1.82 they pay 100$, if they are shorter than this level they pay 75$.\n",
    "         Also if their IQ level is greater than 130 they pay 60$, if their IQ level is under 130 they pay 85$.\n",
    "         If both their lengths and IQ levels above from levels they pay 150$ instead of 160$.\n",
    "         However, if both their lengths and IQ levels under from levels they pay 180$ instead of 160$.\n",
    "     \n",
    " There are 5 citizens' information here: \n",
    " \n",
    "         Lengths= 162, 184, 177, 189, 183. \n",
    "         IQ Levels= 132, 134, 120, 129, 131.\n",
    "\n",
    " 1) Create 5 vectors as citizen_A(and B,C,D,E) that include the information of citizens.\n",
    " \n",
    " 2) Create a function which takes citizens' name as a variable and returns the tax payments of them. \n",
    " \n",
    " Name the function tax_calculater.\n"
   ]
  },
  {
   "cell_type": "code",
   "execution_count": 2,
   "metadata": {
    "collapsed": true
   },
   "outputs": [],
   "source": [
    "### code between lines\n",
    "\n",
    "### code between lines"
   ]
  },
  {
   "cell_type": "markdown",
   "metadata": {},
   "source": [
    "#### Q3\n",
    "\n",
    "1) Create a function that outputs whether the given variable is negative or non-negative.\n",
    "\n",
    "        input: -3\n",
    "        output: negative\n",
    "\n",
    "        input: 18\n",
    "        output: non-negative\n",
    "\n",
    "\n"
   ]
  },
  {
   "cell_type": "code",
   "execution_count": null,
   "metadata": {
    "collapsed": true
   },
   "outputs": [],
   "source": [
    "### code between lines\n",
    "\n",
    "\n",
    "### code between lines"
   ]
  },
  {
   "cell_type": "markdown",
   "metadata": {},
   "source": [
    "#### Q4\n",
    "\n",
    "In a school, teachers want to divide students into classes according to their pilot test. \n",
    "The dividing should be like this: \n",
    "\n",
    "    between 80 and 100 in 1st, \n",
    "    80 and 60 in 2nd, \n",
    "    60 and 40 in 3rd, \n",
    "    40 and 20 in 4th and \n",
    "    the rest in 5th class. \n",
    "\n",
    "Write a code that gives the class which the given point belongs to.(use the given code below.)\n",
    "\n",
    "point <- as.integer(readline(\"Enter the point: \"))"
   ]
  },
  {
   "cell_type": "code",
   "execution_count": null,
   "metadata": {
    "collapsed": true
   },
   "outputs": [],
   "source": [
    "### code between lines\n",
    "\n",
    "\n",
    "\n",
    "\n",
    "### code between lines"
   ]
  },
  {
   "cell_type": "markdown",
   "metadata": {},
   "source": [
    "#### Q5\n",
    "\n",
    "In a class of 6 teacher wants to find the average of the results that are written below.\n",
    "\n",
    "     Ahmet= 90, Selin=50, Mehmet= 45, Kaan= 68, Gizem= 79, Sude=85\n",
    " \n",
    "1) Create a vector called students. \n",
    "\n",
    "2) Find mean of the vector and define that as a global variable called stu_mean\n",
    "\n",
    "3) Write a function called \"success\" with using ifelse() function in it which will return if students failed or did not as boolean.\n",
    "\n",
    "4) Use stu_mean as the pass grade. \n",
    "\n",
    "5) Filter the vector \"students\" with the outcome of \"success\" function in a vector called succesfull_ones"
   ]
  },
  {
   "cell_type": "code",
   "execution_count": 3,
   "metadata": {
    "collapsed": true
   },
   "outputs": [],
   "source": [
    "### code between lines\n",
    "\n",
    "\n",
    "\n",
    "### code between lines"
   ]
  },
  {
   "cell_type": "markdown",
   "metadata": {},
   "source": [
    "#### Q6 \n",
    "\n",
    "Teacher put a faulty question in the midterm, therefore she wanted to give extra credits to the students.\n",
    "\n",
    "    She decided to give 10 percent of their grades for the ones that are below 50. \n",
    "    For the others she decided to give 5 percent of their grades.\n",
    "    \n",
    "First midterm grades are written below. \n",
    "\n",
    "    \"Hale\"=80, \"Yiğit\"=76, \"Ahmet\"=90, \"Kaan\"= 65, \"Simge\"= 45\n",
    "    \n",
    "1)Collect first midterm grades in a global vector called \"first_midterm\"\n",
    "\n",
    "2)She wants you to create a function called grade_fix() which will take \"grades\" as argument.\n",
    "\n",
    "    Filter grades that are below 50 and collect them in a vector called \"lower\" locally, and put the rest in a vector called higher\"\n",
    "\n",
    "    After doing the necessary calculations, return new values in a vector called \"fix\"\n",
    "\n",
    "**Hint:** You can collect lower and higher fixed values seperately and bind those vectors later on.\n"
   ]
  },
  {
   "cell_type": "code",
   "execution_count": null,
   "metadata": {
    "collapsed": true
   },
   "outputs": [],
   "source": [
    "### code between lines\n",
    "\n",
    "\n",
    "\n",
    "### code between lines"
   ]
  },
  {
   "cell_type": "markdown",
   "metadata": {},
   "source": [
    "##### Q7 \n",
    "\n",
    " Create a readline named \"year\" that users enter their student number to ask about whether they are sophomore.\n",
    " \n",
    "         If their student numbers' are between 2016000000 and 2017000000,they are sophomore.\n"
   ]
  },
  {
   "cell_type": "code",
   "execution_count": null,
   "metadata": {
    "collapsed": true
   },
   "outputs": [],
   "source": [
    "### code between lines\n",
    "\n",
    "\n",
    "\n",
    "### code between lines"
   ]
  },
  {
   "cell_type": "markdown",
   "metadata": {},
   "source": [
    "#### Q8 \n",
    "\n",
    "1) Create a vector named \"legends\" includes the names \"Alex\",\"Hagi\",\"Sergen\"and \"Hami\".\n",
    " \n",
    "2) Create a function names \"player_team\" that takes an element of \"legends\" randomly and shows his name and his team in a vector.\n",
    " \n",
    "3) Teams are \"Fenerbahce\" for \"Alex\",\"Galatasaray\" for \"Hagi\",\"Besiktas\" for \"Sergen\" and \"Trabzonspor\" for \"Hami.\n",
    "\n"
   ]
  },
  {
   "cell_type": "code",
   "execution_count": null,
   "metadata": {
    "collapsed": true
   },
   "outputs": [],
   "source": [
    "### code between lines\n",
    "\n",
    "\n",
    "\n",
    "\n",
    "### code between lines"
   ]
  },
  {
   "cell_type": "markdown",
   "metadata": {},
   "source": [
    "#### Q9\n",
    "\n",
    "1)  Create a sequence x of length 100 and starting from 1, increasing in 3 by 3.\n",
    "\n",
    "2)  Create a function that takes inside a vector and call this function controller.\n",
    "\n",
    "        If any of the numbers is bigger than 250, return \"success\".\n",
    "        If none of the numbers in vector is bigger than 250, control whether there is a number bigger than 200. If exists, return \"fail_success\".\n",
    "        If none of the numbers are bigger than 200, control whether there is a number bigger than 150. If exists, return \"fail_fail_success\".\n",
    "        If all failed, return \"all_failed\".\n",
    "\n",
    "3) Set seed 212.\n",
    "\n",
    "        Choose 3 numbers from x and assign this to y_1. Control it by controller and assign result to y_1_result.\n",
    "        Choose 3 numbers from x and assign this to y_2. Control it by controller and assign result to y_2_result.\n",
    "        Choose 3 numbers from x and assign this to y_3. Control it by controller and assign result to y_3_result.\n",
    "        Choose 3 numbers from x and assign this to y_4. Control it by controller and assign result to y_4_result.\n",
    "\n",
    "\n"
   ]
  },
  {
   "cell_type": "code",
   "execution_count": 4,
   "metadata": {
    "collapsed": true
   },
   "outputs": [],
   "source": [
    "### code between lines\n",
    "\n",
    "\n",
    "### code between lines"
   ]
  },
  {
   "cell_type": "markdown",
   "metadata": {},
   "source": [
    "##### Q10\n",
    "\n",
    "1) Set seed to 111 and create random a vector with 10 variables, from 1 to 100, assign it to cats.\n",
    "\n",
    "2) Write a function named decreasing_cats, which has local variable named cats in it, that is a vector contains 10 variables, chosen from numbers between 1 to 100 when the seed is 222.\n",
    "\n",
    "    This function must return the local cats vector in decreasing order, assign this to orderer_local_cats.\n",
    "    \n",
    "3)  Order global cats vector in decreasing order and assign this to ordered_global_cats\n",
    "\n",
    "4)  Compare these two vectors whether they are same or not. Assing the True or False value to \"conclusion\". (use \"all\" function)."
   ]
  },
  {
   "cell_type": "code",
   "execution_count": 5,
   "metadata": {
    "collapsed": true
   },
   "outputs": [],
   "source": [
    "### code between lines\n",
    "\n",
    "\n",
    "### code between lines"
   ]
  },
  {
   "cell_type": "markdown",
   "metadata": {},
   "source": [
    "#### Q11\n",
    "\n",
    " 1- Assign x to pi/2 \n",
    "\n",
    "     Hint 1: While doing the part 1, you are not in any function so x = pi/2 will be in global environment.\n",
    "\n",
    " Important note: After this step you are allowed to assign x just one more time.\n",
    "\n",
    " 2- Write a function. Name it as sin_x . This function must end with return(sin(x)) and it should give 0.5 as the output. \n",
    "\n",
    "     Hint 2: You will need the same x value for part 3. But since you are in a fuction the x value will be in local environment.\n",
    "     In order to prevent this. Try to use another assignment operator instead of \" <- \" \n",
    "\n",
    " 3- Write another function named as cos_x . This function must end with return(cos(x)) and give 0.8660254 as result\n",
    "(note that 0.8660254 = sqrt(3)/2 = cos (pi/6))\n"
   ]
  },
  {
   "cell_type": "code",
   "execution_count": null,
   "metadata": {
    "collapsed": true
   },
   "outputs": [],
   "source": [
    "### code between lines\n",
    "\n",
    "\n",
    "### code between lines"
   ]
  },
  {
   "cell_type": "markdown",
   "metadata": {
    "collapsed": true
   },
   "source": [
    "#### Q12\n",
    "\n",
    "\n",
    " Ali has some money and wants to invest it. Your objective is helping Ali.\n",
    "\n",
    "        note that at the end of the question you will need to use source to run the codes.\n",
    "\n",
    " 1) Firstly ask the user that in which sector he wants to invest and give him 3 options (Automotive / Energy / Finance).\n",
    " Assign the answer to x.\n",
    "\n",
    " 2) Write a code which satisfies the following conditions:\n",
    " \n",
    " If his answer is Automotive your code should return \"Your request is saved. We will call you.\" \n",
    " \n",
    " If his answer is Finance your code should return \"Sorry we can not help you in this sector.\"\n",
    " \n",
    " If his answer is Energy your code should ask the user that \"Energy is an expensive sector how much money do you have?\" and assign answer to y.\n",
    "\n",
    " 3) If he has money more than 2 million $ print \"Okay sir we will call you immediately\" and don't give any answer if he doesn't have.\n",
    " \n",
    " Hint: You should keep working in the if condition you have created for Energy."
   ]
  },
  {
   "cell_type": "code",
   "execution_count": null,
   "metadata": {
    "collapsed": true
   },
   "outputs": [],
   "source": [
    "### code between lines\n",
    "\n",
    "\n",
    "\n",
    "\n",
    "### code between lines"
   ]
  },
  {
   "cell_type": "markdown",
   "metadata": {},
   "source": [
    "#### Q13\n",
    "\n",
    "Write a function that checks whether the function given below can serve as the probability distribution function when a vector that contains 5 x values is given as a paremeter.\n",
    "\n",
    "     If so , it returns \"It's a probability distribution function with these x values!\", \n",
    "     otherwise it returns \"It's NOT a probability distribution function with these x values!\"\n",
    "\n",
    "     Our given function is below:\n",
    "     f(x)= (x+2)/25 \n",
    "\n",
    "#RECALL: Conditions for probability distribution function:\n",
    "\n",
    "     1)probabilities of all \"x\"s add up 1\n",
    "     2)each x value's probability is nonnegative.\n",
    "\n",
    "\n",
    "#EXAMPLE 1:\n",
    "\n",
    "    vec1 is a vector that contains 1,2,3,4,5.\n",
    "\n",
    "     prob_func( vec1) \n",
    "\n",
    "     Output:\n",
    "\n",
    "    \" It's a probability distribution function with these x values!\"\n"
   ]
  },
  {
   "cell_type": "code",
   "execution_count": null,
   "metadata": {
    "collapsed": true
   },
   "outputs": [],
   "source": [
    "### code between lines\n",
    "\n",
    "\n",
    "\n",
    "### code between lines"
   ]
  },
  {
   "cell_type": "markdown",
   "metadata": {},
   "source": [
    "#### Q14\n",
    "\n",
    "  1) Please write a function that calculates a firm's total cost when \"q\" is given as quantity paremeter.\n",
    "  \n",
    "         Total Cost Function :  TC(q) = 200q + 15q^2\n",
    "     \n",
    "     EXAMPLE1:\n",
    "\n",
    "     total_cost_func(10)\n",
    "\n",
    "     Output:\n",
    "     3500\n",
    "\n",
    "\n",
    "  2) Write a function that calculates this firm's total revenue when \"q\" is given as quantity paremeter.\n",
    "  \n",
    "         Total Revenue Function : TR(q)= 1200q - 10q^2\n",
    "\n",
    "     EXAMPLE1:\n",
    "\n",
    "     total_revenue_func(10)\n",
    "     Output:\n",
    "     11000\n",
    "\n",
    "\n",
    "  3) Write a function that calculates this firm's total profit.\n",
    "  \n",
    "         Total Profit Function: TP(q) = Total Revenue - Total Cost \n",
    "\n",
    "\n",
    "     EXAMPLE1:\n",
    "\n",
    "     profit(10)\n",
    "\n",
    "     Output:\n",
    "     7500\n",
    "\n",
    "\n",
    "\n",
    "  4) Finally, write a function that checks whether the firm will produce or not \n",
    "     when the quantity is given as parameter. The firm will produce if total profit is greater than 0, \n",
    "     otherwise it will not produce that quantity.\n",
    "\n",
    "\n",
    "     EXAMPLE1:\n",
    "\n",
    "     produce_or_not(10)\n",
    "\n",
    "     Output:\n",
    "     \"Firm will produce!\"\n",
    "\n"
   ]
  },
  {
   "cell_type": "code",
   "execution_count": null,
   "metadata": {
    "collapsed": true
   },
   "outputs": [],
   "source": [
    "### code between lines\n",
    "\n",
    "\n",
    "\n",
    "### code between lines"
   ]
  },
  {
   "cell_type": "markdown",
   "metadata": {},
   "source": [
    "#### Q15\n",
    "\n",
    "Write a function named \"Lettergrade_calculator\" that converts numeric grades to letter grades."
   ]
  },
  {
   "cell_type": "code",
   "execution_count": null,
   "metadata": {
    "collapsed": true
   },
   "outputs": [],
   "source": [
    "### code between lines\n",
    "\n",
    "\n",
    "\n",
    "### code between lines"
   ]
  },
  {
   "cell_type": "markdown",
   "metadata": {},
   "source": [
    "#### Q16\n",
    "\n",
    "Three friend; Harun, Ensar, and Bersun share the numbers among themselves. \n",
    "\n",
    "     If a number can be divided by 2 and 3, they call it \"Ensarus number\"\n",
    "\n",
    "     If a number can be divided by 2 or 3, they call it \"Bersunus number\"\n",
    "\n",
    "     If a number can not be divided by 2 and 3, they call it \"Harunus number\"\n",
    "\n",
    "     These three men are very bad at mathematics so write a function named \"number_game\" that determines which number it is to help them"
   ]
  },
  {
   "cell_type": "code",
   "execution_count": null,
   "metadata": {
    "collapsed": true
   },
   "outputs": [],
   "source": [
    "### code between lines\n",
    "\n",
    "\n",
    "\n",
    "### code between lines"
   ]
  },
  {
   "cell_type": "markdown",
   "metadata": {},
   "source": [
    "#### Q17\n",
    "Run the set.seed(1923)\n",
    "\n",
    "Create a sample vector called \"ex\" with 38 elements starting from 5 to 200 with replacement. \n",
    "\n",
    "Calculate the mean and the median.\n",
    "\n",
    "Choose one of the element of \"ex\" randomly and assign it to a vector called \"chosen_ex\".\n",
    "\n",
    "If the \"chosen_ex\" is between or equal to mean and median, print \"insider\", else \"outsider\".\n"
   ]
  },
  {
   "cell_type": "code",
   "execution_count": null,
   "metadata": {
    "collapsed": true
   },
   "outputs": [],
   "source": [
    "### code between lines\n",
    "\n",
    "\n",
    "\n",
    "### code between lines"
   ]
  },
  {
   "cell_type": "markdown",
   "metadata": {},
   "source": [
    "#### Q18\n",
    "\n",
    "Final_grades is a vector containing the final notes of 60 students. \n",
    "\n",
    "Teacher decides that if the average grade is  less than 45, he would repeat the exam. \n",
    "\n",
    "Create a random vector with 60 samples values ranging between 0  - 100. \n",
    "\n",
    "Prints the average grade if it's greater than or equal to 55  and prints \"Repeat The Exam\" if it's below 55."
   ]
  },
  {
   "cell_type": "code",
   "execution_count": null,
   "metadata": {
    "collapsed": true
   },
   "outputs": [],
   "source": [
    "### code between lines\n",
    "\n",
    "\n",
    "\n",
    "### code between lines"
   ]
  },
  {
   "cell_type": "markdown",
   "metadata": {
    "collapsed": true
   },
   "source": [
    "#### Q19\n",
    "\n",
    "We'd like to write a function that prints out if the number we give to the function is odd or even. \n",
    "\n",
    "For example, our  function's name is odd_or_even:\n",
    "\n",
    "    when we write odd_or_even(5) it prints \"odd\"and \n",
    "    odd_or_even(8) prints out \"even\"."
   ]
  },
  {
   "cell_type": "code",
   "execution_count": null,
   "metadata": {
    "collapsed": true
   },
   "outputs": [],
   "source": [
    "### code between lines\n",
    "\n",
    "\n",
    "\n",
    "### code between lines"
   ]
  },
  {
   "cell_type": "markdown",
   "metadata": {
    "collapsed": true
   },
   "source": [
    "#### Q20\n",
    "There are 100 flights per day from an airport and the management would like to  review these flights by looking at their delay times and marking the ones which are  delayed more than 10 minutes \"d\" as for delayed and marking that have delay times \n",
    "less than or equal to 10 as \"n\" for normal.\n",
    "\n",
    "Write some code that takes the below  given vector as flights delay times and creates another vector of same length \n",
    "consisting of \"n\"s and \"d\"s.\n",
    "\n",
    "delay_times <- sample(0:25, 100, replace = T)"
   ]
  },
  {
   "cell_type": "code",
   "execution_count": null,
   "metadata": {
    "collapsed": true
   },
   "outputs": [],
   "source": [
    "### code between lines\n",
    "\n",
    "\n",
    "\n",
    "### code between lines"
   ]
  }
 ],
 "metadata": {
  "kernelspec": {
   "display_name": "R",
   "language": "R",
   "name": "ir"
  },
  "language_info": {
   "codemirror_mode": "r",
   "file_extension": ".r",
   "mimetype": "text/x-r-source",
   "name": "R",
   "pygments_lexer": "r",
   "version": "3.4.3"
  }
 },
 "nbformat": 4,
 "nbformat_minor": 2
}
