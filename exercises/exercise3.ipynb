{
 "cells": [
  {
   "cell_type": "markdown",
   "metadata": {},
   "source": [
    "# Exercise 3"
   ]
  },
  {
   "cell_type": "markdown",
   "metadata": {},
   "source": [
    "### Q1\n",
    "\n",
    "Create a function that takes 2 inputs. \n",
    "\n",
    "The function generates a number which all digits are the same.\n",
    "\n",
    "        for example f(4, 3) creates 444, f(6,5) 66666.\n",
    "     \n",
    "If the variables are negative the function prints \"The function cannot accept these inputs.\" Name this function as num_generator.\n",
    "\n",
    "        Try to find (4,3), (5,0), (0,6), (-1,2), (2,-1), (-1,-2).\n"
   ]
  },
  {
   "cell_type": "code",
   "execution_count": null,
   "metadata": {
    "collapsed": true
   },
   "outputs": [],
   "source": [
    "## code between lines\n",
    "\n",
    "## code between lines\n"
   ]
  },
  {
   "cell_type": "markdown",
   "metadata": {},
   "source": [
    "### Q2  \n",
    "Create a function that take input from console as a string.(Ask question \"What is your number?\")\n",
    "\n",
    "  If the number is less than 311 and greater than 222 the function prints \"This is a good number.\"\n",
    "  \n",
    "  If the number is not in this range then print \"You should write another number.\"\n",
    "  \n",
    "  The function should ask the question always.(!). It means you should always get the answers not only numbers in console.\n",
    "  Named this function as word_func.\n"
   ]
  },
  {
   "cell_type": "code",
   "execution_count": null,
   "metadata": {
    "collapsed": true
   },
   "outputs": [],
   "source": [
    "## code between lines\n",
    "\n",
    "## code between lines\n"
   ]
  },
  {
   "cell_type": "markdown",
   "metadata": {},
   "source": [
    "### Q3\n",
    "  1) Bernard wants to apply a university in Europe. He has some criterias for his education and he wants to best choice. \n",
    "  \n",
    "         If the school has at least 3 of his desires, he is okey with it.\n",
    "\n",
    "         Create a function named unidetector which matches bernards_desires with universities properties and writes either \"Good choice\" or \"Not a good choice\"."
   ]
  },
  {
   "cell_type": "code",
   "execution_count": null,
   "metadata": {
    "collapsed": true
   },
   "outputs": [],
   "source": [
    "## code between lines\n",
    "\n",
    "## code between lines\n"
   ]
  },
  {
   "cell_type": "markdown",
   "metadata": {},
   "source": [
    "### Q4\n",
    "\n",
    "1) In binary system the word \"Hello\" is represented by 40 numbers consisted of 0s and 1s. \n",
    "\n",
    "  However in our vector there are some parasites that are distort the message.\n",
    "  \n",
    "  To fix the message write a while loop that exclude the parasites out of the vetor \"Hello\" and assign the original message to \"Hello_binary\".\n",
    " \n",
    " Hello <- c(0, 2, 1, 0, 0, 1, 0, 3, 0, 0, 5, 0, 1, 1, 0, 6, 0, 1, 0, 1, 4, 0, 1, 1, 0, 2, 1, 1, 0, 0, 0, 1, 7, 1, 0, 1, 1, 2, 0, 0, 0, 1, 1, 0, 1, 1, 1, 1)\n"
   ]
  },
  {
   "cell_type": "code",
   "execution_count": null,
   "metadata": {
    "collapsed": true
   },
   "outputs": [],
   "source": [
    "## code between lines\n",
    "\n",
    "## code between lines\n"
   ]
  },
  {
   "cell_type": "markdown",
   "metadata": {},
   "source": [
    "### Q5\n",
    "\n",
    " Bart Simpson caused chaos in the class. His teacher gave him a math quiz with 10 questions in it.\n",
    " \n",
    " For every wrong answer he needs to write \"I will not do anything bad again\"\n",
    " \n",
    " 1) Now collect the test answers in a vector called bart_answers and collect answer key in answer_key\n",
    " 2) Compare Bart's answers with answer key.Collect score in a value called \"score\". \n",
    "         tip: for might be helpful while calculating score\n",
    " \n",
    " 3) Create a for loop for printing \"I will not do anything bad again\" \n",
    " \n",
    "         Bart's Answers: A,B,D,D,E,C,D,A,A,C\n",
    "         Answer Key: B,B,D,C,E,C,B,C,A,E\n"
   ]
  },
  {
   "cell_type": "code",
   "execution_count": null,
   "metadata": {
    "collapsed": true
   },
   "outputs": [],
   "source": [
    "## code between lines\n",
    "\n",
    "## code between lines\n"
   ]
  },
  {
   "cell_type": "markdown",
   "metadata": {},
   "source": [
    "### Q6\n",
    "\n",
    " Semih wanted to give a shot and bought a lottery ticket.\n",
    " \n",
    " 1) Collect semih's ticket and winning ticket in vectors called semihs_t and win_t respectively\n",
    " \n",
    "         If there are only 1 or 2 correct numbers prize is \"nothing\"\n",
    "         If 3 \"amorti\" , If 4 \"100$\", If 5 \"1000$\", If 6 \"1M$\"\n",
    "         Collect prizes respectively in a vector called \"prize\" as character\n",
    "     \n",
    " 2) create a vector called control_vec which whill store comparison of win_t and semihs_t as boolean\n",
    " \n",
    " 3) Write a for loop for Semih's number of correct numbers, store it in \"score\"\n",
    " \n",
    " 4) Print \"Your prize is ...\"\n"
   ]
  },
  {
   "cell_type": "code",
   "execution_count": null,
   "metadata": {
    "collapsed": true
   },
   "outputs": [],
   "source": [
    "## code between lines\n",
    "\n",
    "## code between lines\n"
   ]
  },
  {
   "cell_type": "markdown",
   "metadata": {},
   "source": [
    "### Q7\n",
    " There are two groups of people,one of them are women,the others are men. Women choose to date men whose names initals are the same as them. Create a function named \"date_fnc\" and list all possible dates.\n",
    "\n",
    "        w_names <- c(\"Jane\",\"Mary\",\"Marie\",\"Olivia\",\"Jillian\")\n",
    "        m_names <- c(\"Anthony\",\"Jack\",\"Paul\",\"Martin\",\"Lee\")\n"
   ]
  },
  {
   "cell_type": "code",
   "execution_count": null,
   "metadata": {
    "collapsed": true
   },
   "outputs": [],
   "source": [
    "## code between lines\n",
    "\n",
    "## code between lines\n"
   ]
  },
  {
   "cell_type": "markdown",
   "metadata": {},
   "source": [
    "### Q8\n",
    "\n",
    " A teacher wants to create a function named \"results\" that takes the answers of students and shows the number of correct answers and whether they are \"Successful\" or \"Unsuccessful\".\n",
    " \n",
    "If the number of correct answers is more than 3,students will be successful,otherwise they will be unsuccessful.Finally,show the Jay's result.\n",
    "\n",
    "    answers_jay <- c(\"yes\",\"yes\",\"no\",\"yes\",\"no\",\"yes\",\"yes\")\n",
    "    true_answers <- c(\"no\",\"no\",\"yes\",\"yes\",\"yes\",\"no\",\"yes\")"
   ]
  },
  {
   "cell_type": "code",
   "execution_count": null,
   "metadata": {
    "collapsed": true
   },
   "outputs": [],
   "source": [
    "## code between lines\n",
    "\n",
    "## code between lines\n"
   ]
  },
  {
   "cell_type": "markdown",
   "metadata": {},
   "source": [
    "### Q9\n",
    "\n",
    "sample_vec is a vector containing the ages of 1000 peoples ranging  from 18 to 75.\n",
    "\n",
    "    sample_vec <- sample(18:75, 1000, replace = T)\n",
    "\n",
    "For every person in this vector, we'd like to find if their age is odd or even using a for loop. Write a code that stores the even numbers in an initially  empty vector called even_vec.\n",
    "\n",
    "    even_vec <- c()"
   ]
  },
  {
   "cell_type": "code",
   "execution_count": null,
   "metadata": {
    "collapsed": true
   },
   "outputs": [],
   "source": [
    "## code between lines\n",
    "\n",
    "## code between lines\n"
   ]
  },
  {
   "cell_type": "markdown",
   "metadata": {},
   "source": [
    "### Q10\n",
    "\n",
    " 1a)  Write a function \"squares_vestor\" which takes inside x and returns a vector of length \"x\".\n",
    " \n",
    " 1b)  You must equally divide the interval, from x to x^2 (boundaries are included), to get x numbers that squares of these must be the elements of the vector referred above.\n",
    " \n",
    "     Hint and Obligation: You must use \"while\" loop.\n",
    " \n",
    " 2)  Try numbers 5 and 10 in vector and assign these to t5 and t10.\n",
    "\n"
   ]
  },
  {
   "cell_type": "code",
   "execution_count": null,
   "metadata": {
    "collapsed": true
   },
   "outputs": [],
   "source": [
    "## code between lines\n",
    "\n",
    "## code between lines\n"
   ]
  },
  {
   "cell_type": "markdown",
   "metadata": {},
   "source": [
    "### Q11\n",
    "\n",
    "1  Set seed 14342.\n",
    "\n",
    "2a Take a random number from integers between 1 and 100 (boundaries included).\n",
    "\n",
    "2b If this number is bigger than 20, assign this number to a vector called \"trials\" continue choosing random numbers and adding to the vector.\n",
    " \n",
    "2c If this number is below 10, assign these values in \"hammer\" vector and do not assign the value to trials but continue sampling.\n",
    " \n",
    "2d IF this number is bigger than or equal to 10 and lower than or equal to 20, assign this value to \"crusher\" and exit loop.\n",
    " Obligation:  Use while loop."
   ]
  },
  {
   "cell_type": "code",
   "execution_count": null,
   "metadata": {
    "collapsed": true
   },
   "outputs": [],
   "source": [
    "## code between lines\n",
    "\n",
    "## code between lines\n"
   ]
  },
  {
   "cell_type": "markdown",
   "metadata": {
    "collapsed": true
   },
   "source": [
    "### Q12\n",
    "\n",
    "  1) Write a function which takes your current money and  the interest rate (interest rate is 0.06 as default.) as inputs.\n",
    "  The function should return your money at the end of the year\n",
    "\n",
    "  2) Write another function named necessary_time which takes your current money and aimed money as inputs.\n",
    "  The function should return how many years do you need to reach to your aimed money.\n"
   ]
  },
  {
   "cell_type": "code",
   "execution_count": null,
   "metadata": {
    "collapsed": true
   },
   "outputs": [],
   "source": [
    "## code between lines\n",
    "\n",
    "## code between lines\n"
   ]
  },
  {
   "cell_type": "markdown",
   "metadata": {
    "collapsed": true
   },
   "source": [
    "### Q13\n",
    "\n",
    "  In this quetion our aim will be writing a function which draws a tringle by using repeat loop. \n",
    "  \n",
    "  The function's input will be a the number of \"/\" this symbols used in triangle (you may think it as the length of one side)\n",
    "  \n",
    "  Your triangle should seem like face down v. \n",
    "  \n",
    "  Note for further studying (If you want to build a real triangle you can do it by adding an if statement to your code)\n",
    "  \n",
    "  Examples:\n",
    "  \n",
    "          > make_triangle(5)\n",
    "             /\\\n",
    "            /  \\\n",
    "           /    \\\n",
    "          /      \\\n",
    "         /        \\\n",
    "         \n",
    "          > make_triangle(4)\n",
    "             /\\\n",
    "            /  \\\n",
    "           /    \\\n",
    "          /      \\\n",
    "          \n",
    "\n",
    " Hint: If your input is n in your function, the shape of your lines will be like following;\n",
    " \n",
    "   n-1 spaces + one \"/\" + zero spaces + one \"\\\"\n",
    "   n-2 spaces + one \"/\" + two spaces  + one \"\\\"\n",
    "   ..."
   ]
  },
  {
   "cell_type": "code",
   "execution_count": null,
   "metadata": {
    "collapsed": true
   },
   "outputs": [],
   "source": [
    "## code between lines\n",
    "\n",
    "## code between lines\n"
   ]
  },
  {
   "cell_type": "markdown",
   "metadata": {
    "collapsed": true
   },
   "source": [
    "### Q14\n",
    "\n",
    " There are two vectors that contains numbers of villages of four cities.\n",
    " \n",
    " Please write a function that computes absolute values of difference between \n",
    " \n",
    " Each city in first vector for all cities in the second vector and finds minimum difference  when these two vectors are given as parameters.\n",
    "\n",
    "\n",
    "  Example:\n",
    "\n",
    "       v1 <- c(\"Bursa\"= 380, \"Bal??kesir\"= 330 , \"Yalova\"=418 , \"Kocaeli\"= 346)\n",
    "       v2 <- c(\"Aksaray\"= 230,\"Nev??ehir\"= 298 , \"Adana\"= 486, \"Gaziantep\" = 671)\n",
    "\n",
    "       difrnc(v1,v2)"
   ]
  },
  {
   "cell_type": "code",
   "execution_count": null,
   "metadata": {
    "collapsed": true
   },
   "outputs": [],
   "source": [
    "## code between lines\n",
    "\n",
    "## code between lines\n"
   ]
  },
  {
   "cell_type": "markdown",
   "metadata": {
    "collapsed": true
   },
   "source": [
    "### Q15\n",
    "\n",
    " Two players throw their own die simultaneously for seven times.  At the beginning of the game, each player has 0 score.\n",
    " \n",
    " When a player gets higher number, that number is added to her/his score.\n",
    " \n",
    " If their numbers are equal each other, their scores are declined by that number.\n",
    " End of the game, player who has higher score win the game.\n",
    " Please, write a function that gives players' final scores when their numbers received from their dice are given.\n",
    "\n",
    "\n",
    "  Example1:\n",
    "\n",
    "      die11 <- c(3,2,6,4,1,1,3)\n",
    "      die22 <- c(1,1,6,1,5,2,1)\n",
    "\n",
    "      dice(die11,die22)\n",
    "\n",
    "       Player1   Player2 \n",
    "             6         1 \n",
    "\n"
   ]
  },
  {
   "cell_type": "code",
   "execution_count": null,
   "metadata": {
    "collapsed": true
   },
   "outputs": [],
   "source": [
    "## code between lines\n",
    "\n",
    "## code between lines\n"
   ]
  },
  {
   "cell_type": "markdown",
   "metadata": {
    "collapsed": true
   },
   "source": [
    "### Q16\n",
    "\n",
    "  Repeatedly print the value of the variable \"Intgr\", decreasing it by 0.5 each time, as long as \"Intgr\" remains positive.\n",
    "  1) Write your function by using a \"while loop\".\n",
    "  2) Write your function by using \"for loop\" and \"break\" function.\n",
    "\n",
    "  Requested output example:\n",
    "\n",
    "        > print_value_while(3.2)\n",
    "        [1] 2.7\n",
    "        [1] 2.2\n",
    "        [1] 1.7\n",
    "        [1] 1.2\n",
    "        [1] 0.7\n",
    "        [1] 0.2\n",
    "\n",
    "        print_value_break(..._while) <- function(Intgr){"
   ]
  },
  {
   "cell_type": "code",
   "execution_count": null,
   "metadata": {
    "collapsed": true
   },
   "outputs": [],
   "source": [
    "## code between lines\n",
    "\n",
    "## code between lines\n"
   ]
  },
  {
   "cell_type": "markdown",
   "metadata": {
    "collapsed": true
   },
   "source": [
    "### Q17\n",
    "\n",
    "  Write a function named \"largest_factor\" by useing a \"while loop\" to compute the largest factor of a number.\n",
    "  Your output should be 12 for 24 as weel as 1 for 43.\n",
    "\n",
    "        > largest_factor(24)\n",
    "        [1] 12\n",
    "        > largest_factor(43)\n",
    "        [1] 1\n",
    "\n",
    "  Use the given template below\n",
    "\n",
    "        largest_factor <- function(number){\n",
    "\n",
    "          \"Your code is here\"\n",
    "\n",
    "          return(factor)\n",
    "        }\n"
   ]
  },
  {
   "cell_type": "code",
   "execution_count": null,
   "metadata": {
    "collapsed": true
   },
   "outputs": [],
   "source": [
    "## code between lines\n",
    "\n",
    "## code between lines\n"
   ]
  },
  {
   "cell_type": "markdown",
   "metadata": {},
   "source": [
    "### Q18\n",
    "\n",
    " Write a for loop by using next to find  all the consonants in the word \"antidisestablishmentarianism\".\n",
    " \n",
    " Put all the consonants you have find in a vector called \"consonants.\"\n",
    " \n",
    " Create a vector called \"word\" including **antidisestablishmentarianism**.\n",
    " \n",
    " Use strsplit(word,split=\"\") function as default to split the letters of the word. \n",
    " \n",
    " Use unlist() function to turn your splitted vector's class into character.\n",
    " \n",
    " Note: English has only 5 vowels: \"a\",\"e\",\"o\",\"u\",\"i\"."
   ]
  },
  {
   "cell_type": "code",
   "execution_count": null,
   "metadata": {
    "collapsed": true
   },
   "outputs": [],
   "source": [
    "## code between lines\n",
    "\n",
    "## code between lines\n"
   ]
  },
  {
   "cell_type": "markdown",
   "metadata": {},
   "source": [
    "### Q19\n",
    "\n",
    " Margaret ,who wrote a code to find her prospective husband previously, eventually met her prince charming. This time, she will meet his family. \n",
    " In order to arrange a day to meet, she creates a for loop with schedules of her, her boyfriend,and his family.\n",
    " She is available from the first day to the 30rd day of month by 4 days.\n",
    " \n",
    " Her boyfriend is free in the 1st,8th,15th,21th and 28th days of month.\n",
    " \n",
    " Her boyfriend's family is free during random 13 days in this month. Use set.seed(2019).\n",
    " \n",
    " Note: This month consists of 30 days.\n",
    "\n",
    "     1)Create a nested loop to find her, her boyfriend's and his family's common available days.\n",
    "\n",
    "     2)Assign the result to a vector called \"aksam_yemegi\"."
   ]
  },
  {
   "cell_type": "code",
   "execution_count": null,
   "metadata": {
    "collapsed": true
   },
   "outputs": [],
   "source": [
    "## code between lines\n",
    "\n",
    "## code between lines\n"
   ]
  }
 ],
 "metadata": {
  "kernelspec": {
   "display_name": "R",
   "language": "R",
   "name": "ir"
  },
  "language_info": {
   "codemirror_mode": "r",
   "file_extension": ".r",
   "mimetype": "text/x-r-source",
   "name": "R",
   "pygments_lexer": "r",
   "version": "3.4.3"
  }
 },
 "nbformat": 4,
 "nbformat_minor": 2
}
