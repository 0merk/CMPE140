{
 "cells": [
  {
   "cell_type": "code",
   "execution_count": null,
   "metadata": {},
   "outputs": [],
   "source": [
    "options(jupyter.rich_display = F)"
   ]
  },
  {
   "cell_type": "markdown",
   "metadata": {
    "tags": [
     "2019-2020-2",
     "easy",
     "salih",
     "data_frames"
    ]
   },
   "source": [
    "# 1 SCARFS, HATS AND GLOVES\n"
   ]
  },
  {
   "cell_type": "markdown",
   "metadata": {},
   "source": [
    "## 1.1 QUESTION"
   ]
  },
  {
   "cell_type": "markdown",
   "metadata": {},
   "source": [
    "Sevgi wants to buy a scarf, a hat and a pair of gloves. She wants to select from white, black and grey models of these products. She found some models of different brands and recorded their prices in 3 data frames as such:\n",
    "\n",
    "```r\n",
    "> scarf\n",
    "  Colors Prices_Scarf\n",
    "1  White        43.99\n",
    "2  Black        54.99\n",
    "3   Grey        67.99\n",
    "\n",
    "> gloves\n",
    "  Color Prices_Gloves\n",
    "1 Black         25.99\n",
    "2  Grey         28.99\n",
    "3 White         31.99\n",
    "\n",
    "> hat\n",
    "  Colour Prices_Hat\n",
    "1   Grey      33.99\n",
    "2  White      35.99\n",
    "3  Black      34.99\n",
    "```\n",
    "Copy the lines below to create these data frames .\n",
    "```r\n",
    "scarf <- data.frame(\"Colors\"=c(\"White\",\"Black\",\"Grey\"),\"Prices_Scarf\"=c(43.99,54.99,67.99))\n",
    "gloves <- data.frame(\"Color\"=c(\"Black\",\"Grey\",\"White\"),\"Prices_Gloves\"=c(25.99,28.99,31.99))\n",
    "hat <- data.frame(\"Colour\"=c(\"Grey\",\"White\",\"Black\"),\"Prices_Hat\"=c(33.99,35.99,34.99))\n",
    "```                     \n",
    "1. Create  a data frame named **s_h_g** which holds all of the products' prices and colors. Use `merge()`\n",
    "\n",
    "```r\n",
    "> s_h_g\n",
    "  Colors Prices_Scarf Prices_Hat Prices_Gloves\n",
    "1  Black        54.99      34.99         25.99\n",
    "2   Grey        67.99      33.99         28.99\n",
    "3  White        43.99      35.99         31.99\n",
    "```\n",
    "\n",
    "2. Sevgi decides to buy the cheapest model of each product. Create a function named **cheapest** with one argument **dtaf** (**s_h_g** is the default value). The function should find the cheapest model's color of each product and return a data frame which holds the colors of the products which will be bought by Sevgi. As such :\n",
    "\n",
    "```r\n",
    "> cheapest(dtaf = s_h_g)\n",
    "  scarf_bought hat_bought gloves_bought\n",
    "1        White       Grey         Black\n",
    "````\n",
    "**HINT** : You may use `which.min()`."
   ]
  },
  {
   "cell_type": "markdown",
   "metadata": {
    "tags": [
     "2019-2020-2",
     "easy",
     "duygu",
     "accessing_columns_of_df"
    ]
   },
   "source": [
    "# 2 THE ONE WITH THE CHUBBY AND THE SKINNY"
   ]
  },
  {
   "cell_type": "markdown",
   "metadata": {},
   "source": [
    "## 2.1 QUESTION"
   ]
  },
  {
   "cell_type": "markdown",
   "metadata": {},
   "source": [
    "There is a data frame in R named **chickwts** which shows the results of an experiment that was conducted to measure and compare the effectiveness of various feed supplements on the growth rate of chickens.\n",
    "\n",
    "1) See the column names and the first rows of **chickwts** by using the built-in **head()** function.\n",
    "\n",
    "2) Access the **weight** column and find the chicken with the maximum weight. Then find at which row this chubby chicken is and finally find with which supplement it feeds. \n",
    "\n",
    "3) Find the skinny chicken this time and repeat the steps in the 2nd question. \n",
    "\n",
    "**hint:** You can use **which()** function."
   ]
  },
  {
   "cell_type": "markdown",
   "metadata": {
    "tags": [
     "2019-2020-2",
     "easy",
     "duygu",
     "adding_new_rows"
    ]
   },
   "source": [
    "# 3 THE ONE WITH THE GIFTS"
   ]
  },
  {
   "cell_type": "markdown",
   "metadata": {},
   "source": [
    "## 3.1 QUESTION"
   ]
  },
  {
   "cell_type": "markdown",
   "metadata": {},
   "source": [
    "It is christmas and Rachel wants to buy 5 gifts for her 5 best friends, so she writes down the category of the gift (sweater, t-shirt, shoes etc) that she considers to buy for each one, their colours and their sizes as such:\n",
    "\n",
    "|          | Category | Colour | Size |\n",
    "|----------|----------|--------|------|\n",
    "| Monica   | sweater  | red    | 6    |\n",
    "| Chandler | shoes    | brown  | 10   |\n",
    "| Ross     | shirt    | black  | 9    |\n",
    "| Joey     | hoodie   | green  | 11   |\n",
    "| Phoebe   | dress    | blue   | 8    |\n",
    "\n",
    "1) Create three vectors **category**, **colour** and **size** with the information given above.  \n",
    "\n",
    "2) Create a data frame **gifts** which holds all of these arguments with the row names of friends. \n",
    "\n",
    "3) Rachel decides to buy a shirt with a size of 7 for her waiter friend Gunther. However, she does not know about his favorite colour, so add a new row for Gunther to the data frame **gifts** with a missing value of colour. \n",
    "\n",
    "```R\n",
    "> gifts\n",
    "         category colour size\n",
    "Monica    sweater    red    6\n",
    "Chandler    shoes  brown   10\n",
    "Ross        shirt  black    9\n",
    "Joey       hoodie  green   11\n",
    "Phoebe      dress   blue    8\n",
    "Gunther     shirt   <NA>    7\n",
    "```"
   ]
  },
  {
   "cell_type": "markdown",
   "metadata": {
    "tags": [
     "2019-2020-2",
     "easy",
     "berk",
     "adding_columns",
     "data_frames"
    ]
   },
   "source": [
    "# 4 PIGTOOTH"
   ]
  },
  {
   "cell_type": "markdown",
   "metadata": {},
   "source": [
    "## 4.1 QUESTION "
   ]
  },
  {
   "cell_type": "markdown",
   "metadata": {},
   "source": [
    "R contains various preloaded datasets, **ToothGrowth** is one of them. In this dataset, the response is the length of odontoblasts (cells responsible for tooth growth) in 60 guinea pigs. Each animal received one of three dose levels of vitamin C (0.5, 1, and 2 mg/day) by one of two delivery methods, orange juice or ascorbic acid (a form of vitamin C and coded as VC). \n",
    "\n",
    "A researcher wants to compare the effectiveness of different doses of orange juice and ascorbic acid. Here's the first 10 rows of data:\n",
    "\n",
    "```r\n",
    "    > head(ToothGrowth, n = 10)\n",
    "        len supp dose\n",
    "    1   4.2   VC  0.5\n",
    "    2  11.5   VC  0.5\n",
    "    3   7.3   VC  0.5\n",
    "    4   5.8   VC  0.5\n",
    "    5   6.4   VC  0.5\n",
    "    6  10.0   VC  0.5\n",
    "    7  11.2   VC  0.5\n",
    "    8  11.2   VC  0.5\n",
    "    9   5.2   VC  0.5\n",
    "    10  7.0   VC  0.5\n",
    "\n",
    "```\n",
    "\n",
    "1. Load the dataset **ToothGrowth** and assign it to a data frame named **tooth**.\n",
    "\n",
    "```r\n",
    "    > head(tooth, n = 10)\n",
    "        len supp dose\n",
    "    1   4.2   VC  0.5\n",
    "    2  11.5   VC  0.5\n",
    "    3   7.3   VC  0.5\n",
    "    4   5.8   VC  0.5\n",
    "    5   6.4   VC  0.5\n",
    "    6  10.0   VC  0.5\n",
    "    7  11.2   VC  0.5\n",
    "    8  11.2   VC  0.5\n",
    "    9   5.2   VC  0.5\n",
    "    10  7.0   VC  0.5\n",
    "```\n",
    "   \n",
    "\n",
    "**Hint**: You can use  `data(\"ToothGrowth\")` function to load **ToothGrowth** data set.\n",
    "\n",
    "\n",
    "2. Create a column in **tooth** data frame which measures growth of odonoblasts per dose, name it **gr_per_dose**. Finally, sort **tooth** data frame using **gr_per_dose** and assign it to a new data frame named **tooth_sorted**.\n",
    "\n",
    "```r\n",
    "    > head(tooth_ordered, n = 10)  \n",
    "        len supp dose gr_per_dose\n",
    "    32 21.5   OJ  0.5        43.0\n",
    "    33 17.6   OJ  0.5        35.2\n",
    "    39 16.5   OJ  0.5        33.0\n",
    "    31 15.2   OJ  0.5        30.4\n",
    "    35 14.5   OJ  0.5        29.0\n",
    "    50 27.3   OJ  1.0        27.3\n",
    "    44 26.4   OJ  1.0        26.4\n",
    "    47 25.8   OJ  1.0        25.8\n",
    "    46 25.2   OJ  1.0        25.2\n",
    "    43 23.6   OJ  1.0        23.6\n",
    "```"
   ]
  },
  {
   "cell_type": "markdown",
   "metadata": {
    "tags": [
     "2019-2020-2",
     "easy",
     "oyku",
     "data_frames",
     "selecting_columns"
    ]
   },
   "source": [
    "# 5 INCOMING EXAM"
   ]
  },
  {
   "cell_type": "markdown",
   "metadata": {},
   "source": [
    "## 5.1 QUESTION"
   ]
  },
  {
   "cell_type": "markdown",
   "metadata": {},
   "source": [
    "Ramazan is preparing for his university entrance exam. He wants to create a data frame to see how many math and physics questions he solves every day.\n",
    "\n",
    "Monday, he solved 50 math, 40 physics questions.\n",
    "Tuesday, he solved 100 math, 20 physics questions.\n",
    "Wednesday, he solved 20 math, 200 physics questions.\n",
    "Thursday, he took a day off.\n",
    "Friday, he solved 40 physics questions, but no math.\n",
    "Saturday, he solved 40 math, 30 physics questions.\n",
    "Sunday, he solved 15 math questions, but no physics.\n",
    "\n",
    "1. Create a vector containing the days of the week and name it **days**.\n",
    "\n",
    "\n",
    "2. Create a vector containing how many math questions Ramazan solves everyday in order and name it **math**.\n",
    "\n",
    "\n",
    "3. Create a vector containing how many physics questions Ramazan solves everyday in order and name it **physics**.\n",
    "\n",
    "\n",
    "4. Create a data frame called **exam** using this data. Your data frame should look like this.\n",
    "```r\n",
    "> exam\n",
    "       Days   Math  Physics\n",
    "1    Monday   50      40\n",
    "2   Tuesday  100      20\n",
    "3 Wednesday   20     200\n",
    "4  Thursday    0       0\n",
    "5    Friday    0      40\n",
    "6  Saturday   40      30\n",
    "7    Sunday   15       0\n",
    "```\n",
    "\n",
    "\n",
    "5. His teacher wants to know how many questions he solved on Wednesday and Friday. Select these rows help Ramazan show the data to his teacher. Your result should look like this.\n",
    "```r\n",
    "       Days   Math   Physics\n",
    "3 Wednesday   20     200\n",
    "5    Friday    0      40\n",
    "```"
   ]
  },
  {
   "cell_type": "markdown",
   "metadata": {
    "tags": [
     "2019-2020-2",
     "oyku",
     "data_frames",
     "adding_columns",
     "easy"
    ]
   },
   "source": [
    "# 6 ADD COLUMN"
   ]
  },
  {
   "cell_type": "markdown",
   "metadata": {},
   "source": [
    "## 6.1 QUESTION"
   ]
  },
  {
   "cell_type": "markdown",
   "metadata": {},
   "source": [
    "Cemre wants to calculate the monthly income of her family members. She will use a data frame to record them.\n",
    "\n",
    "1. Create a vector called **family** that contain the names Kemal, Yusuf, Ferhat and Cemre herself.\n",
    "\n",
    "\n",
    "2. Kemal earns 3000 TLs, Yusuf earns 1500 TLs, Ferhat earns 7500 TLs and Cemre earns 25000 TLs every month. Record this data in a vector called **salaries**.\n",
    "\n",
    "\n",
    "3. Create a data frame called **family_income** with this information. Your data frame should look like this.\n",
    "\n",
    "```r\n",
    "> family_income\n",
    "   Names Income\n",
    "1  Kemal   3000\n",
    "2  Yusuf   1500\n",
    "3 Ferhat   7500\n",
    "4  Cemre  25000\n",
    "```\n",
    "\n",
    "Cemre just learned that they are all getting a raise at the beginning of the year. Kemal will get 5%, Yusuf will get 10%, Ferhat will get 20% and Cemre will get a 5% raise.\n",
    "\n",
    "4. Store this data in a vector called **raise_percentage**.\n",
    "\n",
    "\n",
    "5. Add this data to your data frame and name the new column *Raise*. Your final data frame should look like this.\n",
    "\n",
    "```r\n",
    "> family_income\n",
    "   Names Income Raise NewSalary\n",
    "1  Kemal   3000     5      3150\n",
    "2  Yusuf   1500    10      1650\n",
    "3 Ferhat   7500    20      9000\n",
    "4  Cemre  25000     5     26250\n",
    "```"
   ]
  },
  {
   "cell_type": "markdown",
   "metadata": {
    "tags": [
     "2019-2020-2",
     "tugrul",
     "data_frames",
     "accessing_columns",
     "easy"
    ]
   },
   "source": [
    "# 7 MATCHMAKING"
   ]
  },
  {
   "cell_type": "markdown",
   "metadata": {},
   "source": [
    "## 7.1 QUESTION"
   ]
  },
  {
   "cell_type": "markdown",
   "metadata": {},
   "source": [
    "Our guy, Adam has got bored of being single and does not want to stay unmarried anymore. He decides to take counseling service from a matchmaker. The matchmaker forms a data frame by using the 15 candidates' height and weight values and built it in R as **`women`**. What we will do is to convert the units of height and weight to metric first, and pick the most plus-sized (who have highest values) candidate because Adam has a problem with the society beauty standards. \n",
    "\n",
    "\n",
    "1. Show **`women`** data in the RStudio.\n",
    "\n",
    "\n",
    "2. Access the first column by of data and by indexing with component number or name and product it by `0.0254`. Assign it to a new variable **height_metric**.\n",
    "\n",
    "\n",
    "3. Access the second column of data and product it by `0.453592`. Assign it to a new variable **weight_metric**.\n",
    "\n",
    "\n",
    "4. Create a quite new data frame called **women_metric** by using **height_metric** and **weight_metric** respectively in the columns. Column names will stay same as in the **`women`** data. \n",
    "\n",
    "\n",
    "5. Create a vector **bride** and fill it with maximum values in each column respectively. In the end, show it and check the result.\n",
    "\n",
    "\n",
    "```r\n",
    "> bride\n",
    "[1]  1.82880 74.38909\n",
    "```"
   ]
  },
  {
   "cell_type": "markdown",
   "metadata": {
    "tags": [
     "2019-2020-2",
     "meryem",
     "data_frames",
     "inner_join",
     "outer_join",
     "easy"
    ]
   },
   "source": [
    "# 8 MOVIES"
   ]
  },
  {
   "cell_type": "markdown",
   "metadata": {},
   "source": [
    "## 8.1 QUESTION"
   ]
  },
  {
   "cell_type": "markdown",
   "metadata": {},
   "source": [
    "The films that are shown in a cinema this month was as follows with the evaluation as in the end of the month:\n",
    "\n",
    "Along with this month's films, these films will be released next month:\n",
    "\n",
    "Tony and Gina are going to watch a movie. Tony has information about 4 movies and their genres. Gina has information about 4 movies and their runtime in minutes. \n",
    "\n",
    "Tony's information:\n",
    "\n",
    "|Movie       |Genre  |\n",
    "|---         |---    |\n",
    "|Matrix      |Action |\n",
    "|Scarface    |Crime  |\n",
    "|Interstellar|Sci-fi |\n",
    "|Pianist     |Drama  |\n",
    "\n",
    "Gina's information:\n",
    "\n",
    "|Movie       |Runtime(min)|\n",
    "|---         |---         |\n",
    "|Interstellar|169         |\n",
    "|Pianist     |150         |\n",
    "|Memento     |113         |\n",
    "|Seven       |127         |\n",
    "\n",
    "\n",
    "1. Create 2 data frames named **Tony** and **Gina** according to the given data as such:\n",
    "\n",
    "```r\n",
    "> Tony\n",
    "         Movie  Genre\n",
    "1       Matrix Action\n",
    "2     Scarface  Crime\n",
    "3 Interstellar Sci-fi\n",
    "4      Memento  Drama\n",
    "\n",
    "> Gina\n",
    "         Movie Runtime\n",
    "1 Interstellar     169\n",
    "2      Memento     150\n",
    "3      Pianist     113\n",
    "4        Seven     127\n",
    "\n",
    "```\n",
    "\n",
    "You can use the vectors below:\n",
    "\n",
    "```r\n",
    "movies <- c(\"Matrix\", \"Scarface\", \"Interstellar\",\"Memento\", \"Pianist\", \"Seven\")\n",
    "genre <- c(\"Action\", \"Crime\", \"Sci-fi\", \"Drama\")\n",
    "runtime <- c(169, 150, 113, 127)\n",
    "\n",
    "```\n",
    "\n",
    "\n",
    "2. Combine the data frames to include all movies as such:\n",
    "\n",
    "```r\n",
    "> allmv\n",
    "         Movie  Genre Runtime\n",
    "1 Interstellar Sci-fi     169\n",
    "2       Matrix Action      NA\n",
    "3      Memento  Drama     150\n",
    "4     Scarface  Crime      NA\n",
    "5      Pianist   <NA>     113\n",
    "6        Seven   <NA>     127\n",
    "```\n",
    "\n",
    "\n",
    "3. Combine the data frames to include only the joint movies as such:\n",
    "\n",
    "```r\n",
    "> jointmv\n",
    "         Movie  Genre Runtime\n",
    "1 Interstellar Sci-fi     169\n",
    "2      Memento  Drama     150\n",
    "```"
   ]
  },
  {
   "cell_type": "markdown",
   "metadata": {
    "tags": [
     "2019-2020-2",
     "Koralp",
     "data",
     "frames",
     "easy"
    ]
   },
   "source": [
    "# 9 AIRQUALITY"
   ]
  },
  {
   "cell_type": "markdown",
   "metadata": {},
   "source": [
    "## 9.1 QUESTION"
   ]
  },
  {
   "cell_type": "markdown",
   "metadata": {},
   "source": [
    "There is a built-in data frame in RStudio called **airquality** that includes daily air quality measurements in New York, May to September 1973. \n",
    "\n",
    "1. Use `which` and `is.na` functions to get rid of the rows that have a NA values in their **Ozone** columns.\n",
    "\n",
    "\n",
    "2. Save the new data frame by creating a new one called **new_airquality**."
   ]
  },
  {
   "cell_type": "markdown",
   "metadata": {
    "tags": [
     "2019-2020-2",
     "selin",
     "data_frames",
     "easy"
    ]
   },
   "source": [
    "# 10 TOOTH GROWTH\n"
   ]
  },
  {
   "cell_type": "markdown",
   "metadata": {},
   "source": [
    "## 10.1 QUESTION"
   ]
  },
  {
   "cell_type": "markdown",
   "metadata": {},
   "source": [
    "Use the built in data set named **ToothGrowth** for this question. Run *ToothGrowth* to reveal the data frame. This data frame stores the information for the effect of vitamin c on tooth growth in guinea pigs. The first column stands for length, the second for the supplement and the third for dose. On the very left, we see the indices. \n",
    "1. Filter this data frame we see the rows that the supplement given to the pig is *VC*. Store that information under the name **vc**.\n",
    "\n",
    "\n",
    "2. Filter now **vc** that the length is bigger than *17.5*. Store that information under the name **upd_data**.\n",
    "\n",
    "\n",
    "3. Reveal **upd_data** The ending data frame must still show us the indices of the pigs, length, supplement and dose. Your data frame should look like this:\n",
    "\n",
    "```r\n",
    "\n",
    "    len  supp dose\n",
    "15 22.5   VC    1\n",
    "19 18.8   VC    1\n",
    "21 23.6   VC    2\n",
    "22 18.5   VC    2\n",
    "23 33.9   VC    2\n",
    "24 25.5   VC    2\n",
    "25 26.4   VC    2\n",
    "26 32.5   VC    2\n",
    "27 26.7   VC    2\n",
    "28 21.5   VC    2\n",
    "29 23.3   VC    2\n",
    "30 29.5   VC    2\n",
    "\n",
    "```"
   ]
  },
  {
   "cell_type": "markdown",
   "metadata": {
    "tags": [
     "2019-2020-2",
     "selin",
     "data_frames",
     "easy"
    ]
   },
   "source": [
    "# 11 ORCHARD SPRAYS\n"
   ]
  },
  {
   "cell_type": "markdown",
   "metadata": {},
   "source": [
    "## 11.1 QUESTION"
   ]
  },
  {
   "cell_type": "markdown",
   "metadata": {},
   "source": [
    "Use the built in data set named OrchardSprays  for this question. Run OrchardSprays to reveal the data frame.\n",
    "This data frame gives us information on 4 aspects of the sprays. We see that there are different types of treatments named *A, B, C, D...*. A  biopharmaceutical company wants to buy treatment A but first they want to see the data on the orchards when treatment A is applied.\n",
    "\n",
    "1. Find out the row indices of which of the orchards were treated with *treatment A*. Store this information under **treatment_A**.\n",
    "\n",
    "\n",
    "2. Select the rows with *treatment A* applied to reveal the information on the orchards. Store this information under **A_data**.\n",
    "\n",
    "\n",
    "3. Reveal your final data frame to look like the one below: \n",
    "\n",
    "```r\n",
    "   decrease rowpos colpos treatment\n",
    "8         2      8      1         A\n",
    "14        2      6      2         A\n",
    "19        5      3      3         A\n",
    "26        4      2      4         A\n",
    "36        5      4      5         A\n",
    "41       12      1      6         A\n",
    "53        4      5      7         A\n",
    "63        3      7      8         A\n",
    "```\n"
   ]
  },
  {
   "cell_type": "markdown",
   "metadata": {
    "tags": [
     "2019-2020-2",
     "medium",
     "salih",
     "data_frames"
    ]
   },
   "source": [
    "# 12 HUMAN DEVELOPMENT INDEX"
   ]
  },
  {
   "cell_type": "markdown",
   "metadata": {},
   "source": [
    "## 12.1 QUESTION"
   ]
  },
  {
   "cell_type": "markdown",
   "metadata": {},
   "source": [
    "Here are some data about 5 countries:\n",
    "\n",
    "|Country|Mean Years of Schooling(MYS)|Expected Years of Schooling(EYS)|Life Expectancy at Birth|GNI per capita|\n",
    "|---|---|---|---|---|\n",
    "|Switzerland|13.4|16.2|83.6|59,375|\n",
    "|Germany|14.1|17.1|81.2|46,946|  \n",
    "|Norway|12.6|18.0| 82.3 |68,059|\n",
    "|Ireland|12.5|18.0|82.1 |55,660|\n",
    "|Hong Kong(China)|12.0|16.5|84.7|60,221|\n",
    "\n",
    "Copy the lines below to create vectors which hold the given data.\n",
    "\n",
    "```r\n",
    "countries <- c(\"Switzerland\",\"Germany\",\"Norway\",\"Ireland\",\"Hong Kong(China)\")\n",
    "mys <- c(13.4,14.1,12.6,12.5,12.0)\n",
    "eys <- c(16.2,17.1,18.0,18.0,16.5)\n",
    "life <- c(83.6,81.2,82.3,82.1,84.7)\n",
    "gni <- c(59375,46946,68059,55660,60221)\n",
    "\n",
    "```\n",
    "\n",
    "1. Copy the lines below to create **life_expectancy_index** and **income_index**. Create a vector named **education_index** by using given information. Show 4 digits after the decimal points.(Use `round()`)\n",
    " \n",
    "\n",
    "```r\n",
    "life_expectancy_index <- round((life-20) / 65, digit = 4)\n",
    "income_index <- round( (log(gni) - log(100)) / (log(75000) - log(100) ), digit = 4)\n",
    "```\n",
    "\n",
    "   Education index is calculated as follows : \n",
    "\n",
    "$$[(MYS/15) + (EYS/18)] / 2 $$\n",
    "\n",
    "\n",
    "  \n",
    "2. Create a data frame named **hdi_components** which holds the countries and the three indices.As such : \n",
    "\n",
    "```r\n",
    "> hdi_components\n",
    "         countries life_expectancy_index income_index education_index\n",
    "1      Switzerland                0.9785       0.9647          0.8967\n",
    "2          Germany                0.9415       0.9292          0.9450\n",
    "3           Norway                0.9585       0.9853          0.9200\n",
    "4          Ireland                0.9554       0.9550          0.9167\n",
    "5 Hong Kong(China)                0.9954       0.9668          0.8583\n",
    "``` \n",
    "\n",
    "3. Create a function named **hdi_calculator** with one argument **dta** (**hdi_components** will be the default value). The function will calculate the human development index of each country(show 4 digits after decimal point), sort the countries in decreasing order of the hdi's, find the rank of each country and return a data frame as such :\n",
    "\n",
    "```r\n",
    ">  hdi_calculator(dta = hdi_components)\n",
    "         Countries Life Expectancy Index Income Index Education Index    HDI Rank\n",
    "3           Norway                0.9585       0.9853          0.9200 0.9542    1\n",
    "1      Switzerland                0.9785       0.9647          0.8967 0.9459    2\n",
    "4          Ireland                0.9554       0.9550          0.9167 0.9422    3\n",
    "2          Germany                0.9415       0.9292          0.9450 0.9385    4\n",
    "5 Hong Kong(China)                0.9954       0.9668          0.8583 0.9383    5\n",
    "```\n",
    "\n",
    "\n",
    " \n",
    " \n",
    " "
   ]
  },
  {
   "cell_type": "markdown",
   "metadata": {
    "tags": [
     "2019-2020-2",
     "medium",
     "duygu",
     "concatenate_two_data_frames"
    ]
   },
   "source": [
    "# 13 THE ONE WITH THE GPA"
   ]
  },
  {
   "cell_type": "markdown",
   "metadata": {},
   "source": [
    "## 13.1 QUESTION"
   ]
  },
  {
   "cell_type": "markdown",
   "metadata": {},
   "source": [
    "The table below shows the courses that Mike took in the first semester of 2018, their credits, ects and Mike's final grade. \n",
    "\n",
    "| Course Name    | Credits | Ects | Grade |\n",
    "|----------------|---------|------|-------|\n",
    "| Microeconomics | 3       | 6    | AA    |\n",
    "| Humanities I   | 4       | 6    | BB    |\n",
    "| Calculus I     | 4       | 6    | CB    |\n",
    "| Psychology     | 3       | 5    | BA    |\n",
    "| Sociology      | 3       | 4    | AA    |\n",
    "\n",
    "1) Create **credits_1**, **ects_1** and **grades_1** vectors with the information above. \n",
    "\n",
    "2) Create a data frame **records_1** with the three vectors, name the rows with course names and the column names as **\"credits\"**, **\"ects\"** and **\"grades\"**.\n",
    "\n",
    "3) Create another three vectors **credits_2**, **ects_2** and **grades_2** with the following information of Mike's second semester at school. Then create another data frame **records_2** with these three vectors and name the rows with course names and the column names as **\"credits\"**, **\"ects\"** and **\"grades\"** again. \n",
    "\n",
    "| Course Name    | Credits | Ects | Grade |\n",
    "|----------------|---------|------|-------|\n",
    "| Macroeconomics | 3       | 6    | BA    |\n",
    "| Humanities II  | 4       | 6    | CB    |\n",
    "| Calculus II    | 4       | 6    | BA    |\n",
    "| Law            | 3       | 4    | AA    |\n",
    "| Spanish        | 3       | 7    | DC    |\n",
    "\n",
    "4) Concatenate **records_1** and **records_2** in a new data frame **year_records** as such:\n",
    "```R\n",
    "> year_records\n",
    "               credits ects grades\n",
    "microeconomics       3    6     AA\n",
    "humanities I         4    6     BB\n",
    "calculus I           4    6     CB\n",
    "psychology           3    5     BA\n",
    "sociology            3    4     AA\n",
    "macroeconomics       3    6     BA\n",
    "humanities II        4    6     CB\n",
    "calculus II          4    6     BA\n",
    "law                  3    4     AA\n",
    "spanish              3    7     DC\n",
    "```\n",
    "\n",
    "5) By accessing the **grades** column of **year_records**, and using built-in **\"which()\"** function, show the courses which Mike has passed with an AA. \n",
    "```R\n",
    "               credits ects grades\n",
    "microeconomics       3    6     AA\n",
    "sociology            3    4     AA\n",
    "law                  3    4     AA\n",
    "```"
   ]
  },
  {
   "cell_type": "markdown",
   "metadata": {
    "tags": [
     "2019-2020-2",
     "medium",
     "bugra",
     "inner",
     "outer",
     "merge"
    ]
   },
   "source": [
    "# 14 GATHER TOGETHER"
   ]
  },
  {
   "cell_type": "markdown",
   "metadata": {},
   "source": [
    "## 14.1 QUESTION"
   ]
  },
  {
   "cell_type": "markdown",
   "metadata": {},
   "source": [
    "- You are given 3 dataframes.\n",
    "\n",
    "```r\n",
    "name1 <- c(\"Naz\", \"Murat\", \"Beril\", \"Ahmet\",\"Melih\")\n",
    "grade1 <- c(66, 65, 43, 84, 93)\n",
    "class <- c(\"1st\", \"2nd\", \"1st\",\"4th\", \"Prep\")\n",
    "preference <- c(\"Apple\", \"Samsung\", \"Samsung\", \"Other\", \"Apple\")\n",
    "frs <- cbind(name1, grade1, class, preference)\n",
    "frs\n",
    "\n",
    "name2 <- c(\"Naz\", \"Murat\", \"Beril\", \"Ahmet\",\"Sibel\")\n",
    "grade2 <- c(66, 65, 43, 84, 75)\n",
    "fail <- c(T, F, T, F, F)\n",
    "fav_class <- c(\"Math\", \"Physics\", \"Biology\", \"Art\",\"History\")\n",
    "scn <- cbind(name2, grade2, fail, fav_class)\n",
    "scn\n",
    "\n",
    "name3 <- c(\"Naz\", \"Murat\", \"Beril\", \"Ahmet\",\"Sibel\", \"Hasan\")\n",
    "exam <- c(\"DC\",\"CC\", \"DD\", \"AA\",\"BA\",\"DD\")\n",
    "fail2 <- c(T, F, T, F, F, T)\n",
    "hobby <- c(\"Tennis\",\"Football\",\"Guitar\",\"Painting\",\"Diving\",\"Running\")\n",
    "thr <- cbind(name3, exam, fail2, hobby)\n",
    "thr\n",
    "\n",
    "   \n",
    "\n",
    "```\n",
    "\n",
    "1. Copy the code above to have the dataframes.\n",
    "\n",
    "\n",
    "\n",
    "2. Create the function **merging** that takes 2 dataframes as arguments: **df1** and **df2**.\n",
    "\n",
    "\n",
    "\n",
    "3.  The function should apply outer join operation to these 2 dataframes.\n",
    "\n",
    "\n",
    "\n",
    "4. It is known that you will always be given dataframes that has students' names in the first column. Build your function accordingly.\n",
    "\n",
    "\n",
    "5. If the merged dataframe has more than 6 *NA*, then the function should apply inner join operation to these 2 dataframes.\n",
    "\n",
    "\n",
    "\n",
    "\n",
    "6. The function should return the merged dataframe. \n",
    "\n",
    "\n",
    "**HINT**: You should use `paste()` function to merge dataframes properly.\n",
    "\n",
    "```r\n",
    "> merging(frs, scn)\n",
    "  name1 grade1 class preference project  fail fav_class\n",
    "1 Ahmet     84   4th      Other      92 FALSE       Art\n",
    "2 Beril     43   1st    Samsung      77  TRUE   Biology\n",
    "3 Melih     93  Prep      Apple    <NA>  <NA>      <NA>\n",
    "4 Murat     65   2nd    Samsung      36 FALSE   Physics\n",
    "5   Naz     66   1st      Apple      86  TRUE      Math\n",
    "6 Sibel   <NA>  <NA>       <NA>      75 FALSE   History\n",
    "\n",
    "\n",
    "> merging(frs, thr)\n",
    "  name1 grade1 class preference exam next_semester    hobby\n",
    "1 Ahmet     84   4th      Other   AA         FALSE Painting\n",
    "2 Beril     43   1st    Samsung   DD          TRUE   Guitar\n",
    "3 Murat     65   2nd    Samsung   CC         FALSE Football\n",
    "4   Naz     66   1st      Apple   DC         FALSE   Tennis\n",
    "\n",
    "\n",
    "> merging(scn, thr)\n",
    "  name2 project  fail fav_class exam next_semester    hobby\n",
    "1 Ahmet      92 FALSE       Art   AA         FALSE Painting\n",
    "2 Beril      77  TRUE   Biology   DD          TRUE   Guitar\n",
    "3 Murat      36 FALSE   Physics   CC         FALSE Football\n",
    "4   Naz      86  TRUE      Math   DC         FALSE   Tennis\n",
    "5 Sibel      75 FALSE   History   BA          TRUE   Diving\n",
    "6 Hasan    <NA>  <NA>      <NA>   DD          TRUE  Running\n",
    "\n",
    "```"
   ]
  },
  {
   "cell_type": "markdown",
   "metadata": {
    "tags": [
     "2019-2020-2",
     "medium",
     "bugra",
     "filtering",
     "dataframe"
    ]
   },
   "source": [
    "# 15 THE IDEAL PACKAGE"
   ]
  },
  {
   "cell_type": "markdown",
   "metadata": {},
   "source": [
    "## 15.1 QUESTION"
   ]
  },
  {
   "cell_type": "markdown",
   "metadata": {},
   "source": [
    "- Different alternatives of packages to serialize dataframes are given below.\n",
    "\n",
    "| Package | Formats | Times(ms) | Size(MB) | Speed(MB/s) | N |\n",
    "| :----------| :---: | :---: | :---: | :---: | :---: |\n",
    "| readRDS | bin | 1577 | 1000 | 633 | 112 |\n",
    "| saveRDS | bin | 2042 | 1000 | 489 | 112 |\n",
    "| write_fst | bin | 314 | 303 | 3180 | 291 |\n",
    "| fread | csv | 2925 | 1038 | 410 | 232 |\n",
    "| fwrite | csv | 2790 | 1038 | 358 | 241 |\n",
    "| read_feather | bin | 3950 | 813 | 253 | 112 |\n",
    "| write_feather | bin | 1820 | 813 | 549 | 112 |\n",
    "| read_fst | bin | 457 | 303 | 2184 | 282 |\n",
    "\n",
    "\n",
    "- Data Scientist Maddie wants to get the best package. She has some criteria.\n",
    "\n",
    "\n",
    "\n",
    "- She creates a dataframe with the code given below;\n",
    "\n",
    "```r\n",
    "\n",
    "methods <- c(\"readRDS\", \"saveRDS\",\"write_fst\", \"fread\",\"fwrite\", \"read_feather\",\"write_feather\",\"read_fst\")\n",
    "\n",
    "formats <- c(\"bin\", \"bin\",\"bin\", \"csv\", \"csv\", \"bin\",\"bin\",\"bin\")\n",
    "\n",
    "times <- c(1577, 2042, 314, 2925, 2790, 3950, 1820, 457)\n",
    "\n",
    "size <- c(1000, 1000, 303, 1038, 1038, 813, 813, 303)\n",
    "\n",
    "speed <- c(633, 489, 3180, 410, 358, 253, 549, 2184)\n",
    "\n",
    "N <- c(112, 112, 291, 232, 241, 112, 112, 282)\n",
    "\n",
    "\n",
    "dtf <- cbind(methods, formats, times, size, speed, N)\n",
    "\n",
    "\n",
    "```\n",
    "\n",
    "\n",
    "\n",
    "\n",
    "\n",
    "\n",
    "\n",
    "\n",
    "\n",
    "\n",
    "\n",
    "- She is looking for the package with the shortest time, highest speed, smallest size and biggest N.\n",
    "\n",
    "\n",
    "- Create the function **best** that takes one argument; **df**(a dataframe). This function should evaluate the given dataframe to find which package is the best. Then it should return the name and format of the best package.\n",
    "\n",
    "\n",
    "```r\n",
    "\n",
    "> best(dtf)\n",
    "[1] \"write_fst\" \"bin\" \n",
    "\n",
    "\n",
    "```\n"
   ]
  },
  {
   "cell_type": "markdown",
   "metadata": {
    "tags": [
     "2019-2020-2",
     "medium",
     "berk",
     "merge_data_frames",
     "data_frames"
    ]
   },
   "source": [
    "# 16 TITANIC"
   ]
  },
  {
   "cell_type": "markdown",
   "metadata": {},
   "source": [
    "## 16.1 QUESTION"
   ]
  },
  {
   "cell_type": "markdown",
   "metadata": {},
   "source": [
    "RMS Titanic was a famous British passenger ship that sunk in the Atlantic Ocean on April 15, 1912 after collapsing into an iceberg. R has a preloaded dataset on the passengers of RMS Titanic. Thid data set includes the ages, survival situation, gender, and classes of passengers.\n",
    "\n",
    "1. Load dataset **Titanic**. From this dataset create two new data frames: **survived_adult** for adults who survived Titanic, and **lost_adult** for adults who lost when the ship sunk.\n",
    "\n",
    "**Hint**: First dimension of the dataset is class, second is gender, third is age (child or adult), and the fourth is survival situation(lost or survived).\n",
    "\n",
    "```r\n",
    "    > survived_adult\n",
    "      Class    Sex Freq\n",
    "    1   1st   Male   57\n",
    "    2   2nd   Male   14\n",
    "    3   3rd   Male   75\n",
    "    4  Crew   Male  192\n",
    "    5   1st Female  140\n",
    "    6   2nd Female   80\n",
    "    7   3rd Female   76\n",
    "    8  Crew Female   20\n",
    "    > lost_adult\n",
    "      Class    Sex Freq\n",
    "    1   1st   Male  118\n",
    "    2   2nd   Male  154\n",
    "    3   3rd   Male  387\n",
    "    4  Crew   Male  670\n",
    "    5   1st Female    4\n",
    "    6   2nd Female   13\n",
    "    7   3rd Female   89\n",
    "    8  Crew Female    3\n",
    "```\n",
    "\n",
    "\n",
    "2. Rename **freq** column in **lost_adult** data frame as **Lost**, and in **survived_adult** data frame as **Survived**\n",
    "\n",
    "```r\n",
    "    > survived_adult\n",
    "      Class    Sex Survived\n",
    "    1   1st   Male       57\n",
    "    2   2nd   Male       14\n",
    "    3   3rd   Male       75\n",
    "    4  Crew   Male      192\n",
    "    5   1st Female      140\n",
    "    6   2nd Female       80\n",
    "    7   3rd Female       76\n",
    "    8  Crew Female       20\n",
    "   > lost_adult\n",
    "      Class    Sex Lost\n",
    "    1   1st   Male  118\n",
    "    2   2nd   Male  154\n",
    "    3   3rd   Male  387\n",
    "    4  Crew   Male  670\n",
    "    5   1st Female    4\n",
    "    6   2nd Female   13\n",
    "    7   3rd Female   89\n",
    "    8  Crew Female    3\n",
    "```\n",
    "3. Merge two data frames into a new data frame called **adults**.\n",
    "```r\n",
    "    > adults\n",
    "      Class    Sex Lost Survived\n",
    "    1   1st Female    4      140\n",
    "    2   1st   Male  118       57\n",
    "    3   2nd Female   13       80\n",
    "    4   2nd   Male  154       14\n",
    "    5   3rd Female   89       76\n",
    "    6   3rd   Male  387       75\n",
    "    7  Crew Female    3       20\n",
    "    8  Crew   Male  670      192\n",
    "```"
   ]
  },
  {
   "cell_type": "markdown",
   "metadata": {
    "tags": [
     "2019-2020-2",
     "medium",
     "oyku",
     "data_frames",
     "merging_data_frames"
    ]
   },
   "source": [
    "# 17 DON'T PANIC BUY"
   ]
  },
  {
   "cell_type": "markdown",
   "metadata": {},
   "source": [
    "## 17.1 QUESTION"
   ]
  },
  {
   "cell_type": "markdown",
   "metadata": {},
   "source": [
    "Ahmet usually goes to the local supermarket weekly to do his grocery shopping. The market usually had 50 cans of water, 75 packs of toilet paper, 250 packs of pasta, and 100 packs of bleach.\n",
    "\n",
    "1. Create a vector called **name** and assign the names of the products.\n",
    "\n",
    "\n",
    "2. Create a vector called **stock** and assign the stock numbers before the quarantine.\n",
    "\n",
    "\n",
    "3. Create a data frame called **market_stocks** using this data and name the colums *Name* and *Stocks*. Your data frame should look like this.\n",
    "```r\n",
    "> market_stocks\n",
    "          Name    Stocks\n",
    "1        Water     50\n",
    "2 Toilet Paper     75\n",
    "3        Pasta    250\n",
    "4       Bleach    100\n",
    "```\n",
    "\n",
    "Ahmet is very disappointed to find that the stocks are critically low because of panic buyers. He wants to create a data frame in order to see what he can find. After the quarantine, the supermarket now has 5 cans of water, 0 packs of toilet paper, 40 packs of pasta and 30 packs of bleach.\n",
    "\n",
    "4. Create a vector called **stock_after** and assign the stock numbers after the quarantine.\n",
    "\n",
    "\n",
    "5. Create a data frame called **market_stocks_2020** using this data and name the columns *Name* and *Stocks2020*. Your data frame should look like this.\n",
    "```r\n",
    "> market_stocks_2020\n",
    "          Name     Stocks2020\n",
    "1        Water          5\n",
    "2 Toilet Paper          0\n",
    "3        Pasta         40\n",
    "4       Bleach         30\n",
    "```\n",
    "\n",
    "Ahmet wants to compare these two data frames.\n",
    "\n",
    "6. Merge these data frames by name and name your new data frame **stocks_comparison**. Your data frame should look like this.\n",
    "```r\n",
    "> stocks_comparison\n",
    "          Name    Stocks    Stocks2020\n",
    "1       Bleach    100        30\n",
    "2        Pasta    250        40\n",
    "3 Toilet Paper     75         0\n",
    "4        Water     50         5\n",
    "```"
   ]
  },
  {
   "cell_type": "markdown",
   "metadata": {
    "tags": [
     "2019-2020-2",
     "medium",
     "tugrul",
     "data_frames",
     "adding_new_rows"
    ]
   },
   "source": [
    "# 18 CHICKENLOVER"
   ]
  },
  {
   "cell_type": "markdown",
   "metadata": {},
   "source": [
    "## 18.1 QUESTION"
   ]
  },
  {
   "cell_type": "markdown",
   "metadata": {},
   "source": [
    "Barbrady is running a chicken farm and he buys several kinds of chicken feed for his chicks. He doesn't have the calorie values of them but he is sure that he wants fatter chicks in his farm. Due to these several reasons he decides to feed different parts of his chicks with different feeds and observe the total weight of them.\n",
    "\n",
    "1. Show **`chickwts`** data in the studio. It's a built-in data frame in R.\n",
    "\n",
    "\n",
    "2. Find each kind of feed by using `unique()` to make things easier.\n",
    "\n",
    "\n",
    "3. Create the function **fatty** which has one argument **dt**. \n",
    " - This function will take the sum of chicks fed up with same kind of feed. \n",
    " - It will also add those total weight values and sourced by which feed in the end of data frame in the six rows. These new rows will be named as **HB**, **LS**, **SB**, **SF**, **MM**, **CS**. \n",
    " \n",
    "\n",
    "4. Assign the tail of this new data frame came up by running **fatty** with **`chickwts`** to a variable called **total**.\n",
    "\n",
    "\n",
    "5. Get **total** and check your result.\n",
    " \n",
    "```r\n",
    "> total\n",
    "   weight      feed\n",
    "HB   1602 horsebean\n",
    "LS   2625   linseed\n",
    "SB   3450   soybean\n",
    "SF   3947 sunflower\n",
    "MM   3046  meatmeal\n",
    "CS   3883    casein\n",
    "```\n"
   ]
  },
  {
   "cell_type": "markdown",
   "metadata": {
    "tags": [
     "2019-2020-2",
     "medium",
     "tugrul",
     "data_frames",
     "concatenate_two_data_frames"
    ]
   },
   "source": [
    "# 19 BRAND NEW YORK"
   ]
  },
  {
   "cell_type": "markdown",
   "metadata": {},
   "source": [
    "## 19.1 QUESTION"
   ]
  },
  {
   "cell_type": "markdown",
   "metadata": {},
   "source": [
    "Theo is a meteorologist who works for National Weather Service in New York. He is requested for cleaning the past months' air quality data and updating it following month's air quality values.\n",
    "\n",
    "You can see below Theo's findings for first 5 days in October:\n",
    "\n",
    "\n",
    "| Ozone | Solar.R| Wind | Temp | Month | Day |\n",
    "|-------|--------|------|------|------|------|\n",
    "| 52  | 183    | 9.2    |57|10|1|\n",
    "| 22 | 64    | 5.7  |  58  |10|2|\n",
    "| 13     | NA    | 8.0  |  65   |10|3|\n",
    "| 39     | 225   | 3.2  |  62  |10|4|\n",
    "| NA   | 168    | 7.5   |   52  |10|5|\n",
    "\n",
    "\n",
    "1. Show **`airquality`** data in your studio. It's a built-in data frame in R.\n",
    "\n",
    "\n",
    "2. Eliminate the days in **`airquality`** which have missing values in any measurement and assign this new version to the variable **air_fresher**.\n",
    "\n",
    "\n",
    "3. Create **findings** data frame and apply the same elimination process to it. Assign the eliminated one to **findings_fresher**.\n",
    "\n",
    "\n",
    "4. Concatenate the final data you conclude step 2 and 3 which are **air_fresher** and **findings_fresher** and name it as **airquality_final**.\n",
    "\n",
    "\n",
    "5. Get your updated data's first and last rows to the console and check the result. \n",
    "\n",
    "```r\n",
    "> head(airquality_final)\n",
    "  Ozone Solar.R Wind Temp Month Day\n",
    "1    41     190  7.4   67     5   1\n",
    "2    36     118  8.0   72     5   2\n",
    "3    12     149 12.6   74     5   3\n",
    "4    18     313 11.5   62     5   4\n",
    "7    23     299  8.6   65     5   7\n",
    "8    19      99 13.8   59     5   8\n",
    "\n",
    "> tail(airquality_final)\n",
    "    Ozone Solar.R Wind Temp Month Day\n",
    "151    14     191 14.3   75     9  28\n",
    "152    18     131  8.0   76     9  29\n",
    "153    20     223 11.5   68     9  30\n",
    "11     52     183  9.2   57    10   1\n",
    "25     22      64  5.7   58    10   2\n",
    "42     39     225  3.2   62    10   4\n",
    "```\n",
    "\n",
    "**Hint:** You may use `na.omit()` or `complete.cases()` or `is.na()` through your elimination process."
   ]
  },
  {
   "cell_type": "markdown",
   "metadata": {
    "tags": [
     "2019-2020-2",
     "medium",
     "meryem",
     "data_frames",
     "matrix_like_indexing"
    ]
   },
   "source": [
    "# 20 RUG WEAVING"
   ]
  },
  {
   "cell_type": "markdown",
   "metadata": {},
   "source": [
    "## 20.1 QUESTION"
   ]
  },
  {
   "cell_type": "markdown",
   "metadata": {},
   "source": [
    "Jason is a rug weaver. Because of the recession that going trough, he decided to reduce his costs. To do so, he created a data from 54 observations he made on the number of warp breaks per loom for 6 different types of warps. He assigned this data to `RStudio` as **`warpbreaks`** in data frame form. Now, he will examine the mean of each type of warp and will use the one with the lowest breaking of statistic.\n",
    "\n",
    "1. See the **`warpbreaks`** data set.\n",
    " - **break** corresponds to the number of breaks,\n",
    " - **wool** corresponds to the type of wool as **A** and **B**,\n",
    " - **tension** corresponds to the level of tension as **L**, **M** and **H**,\n",
    " - **wool** and **tension** combinations made up the warp types.\n",
    "\n",
    "\n",
    "2. Create vectors for each warp types and name them as **AL**, **AM**, **AH**, **BL**, **BM**, and **BH**.\n",
    "\n",
    "\n",
    "3. Now create a data frame from the vectors you created, assign the data frame as **breaks**. It should look as such:\n",
    "\n",
    "```r\n",
    "> breaks\n",
    "  AL AM AH BL BM BH\n",
    "1 26 18 36 27 42 20\n",
    "2 30 21 21 14 26 21\n",
    "3 54 29 24 29 19 24\n",
    "4 25 17 18 19 16 17\n",
    "5 70 12 10 29 39 13\n",
    "6 52 18 43 31 28 15\n",
    "7 51 35 28 41 21 15\n",
    "8 26 30 15 20 39 16\n",
    "9 67 36 26 44 29 28\n",
    "```\n",
    "\n",
    "\n",
    "4. Create a function named **strongest**, which takes an argument **dt**. This function will calculate the mean for each type of warp and return the one with the lowest mean of number of break. Try the function with **breaks** as such:\n",
    "\n",
    "```r\n",
    "> strongest(breaks)\n",
    "      BH \n",
    "18.77778 \n",
    "```"
   ]
  },
  {
   "cell_type": "markdown",
   "metadata": {
    "tags": [
     "2019-2020-2",
     "medium",
     "meryem",
     "data_frames",
     "rbind",
     "matrix_like_indexing"
    ]
   },
   "source": [
    "# 21 SAFER STATES"
   ]
  },
  {
   "cell_type": "markdown",
   "metadata": {},
   "source": [
    "## 21.1 QUESTION"
   ]
  },
  {
   "cell_type": "markdown",
   "metadata": {},
   "source": [
    "**`USArrests`** is a data frame defined in RStudio and it contains statistics, in arrests per 100,000 residents for assault, murder, and rape in each of the 50 US states in 1973. Also given is the percent of the population living in urban areas.\n",
    "\n",
    "1. See the first part of the data frame. Then create a data frame named **Arrests** without the urban population rate **UrbanPop**\n",
    "\n",
    "**Hint** You can use `head()`.\n",
    "\n",
    "\n",
    "2. Create a function named **safer** that takes an argument **dt**. Inside the function:\n",
    " - First find the mean of the number of each arrestment.\n",
    " - Create a data frame that consist of the states that have a lower number than the mean for seperately all arrests.\n",
    " - Merge the **dt** with the new data frame you created and return the merged data frame.\n",
    " \n",
    " \n",
    "3. Try **safer** function with **Arrest**, and find as such:\n",
    "\n",
    "```r\n",
    "> safer(Arrests)\n",
    "              Murder Assault Rape\n",
    "USMean           8.0     171 21.0\n",
    "Connecticut      3.3     110 11.1\n",
    "Hawaii           5.3      46 20.2\n",
    "Idaho            2.6     120 14.2\n",
    "Iowa             2.2      56 11.3\n",
    "Kansas           6.0     115 18.0\n",
    "Maine            2.1      83  7.8\n",
    "Massachusetts    4.4     149 16.3\n",
    "Minnesota        2.7      72 14.9\n",
    "Montana          6.0     109 16.4\n",
    "Nebraska         4.3     102 16.5\n",
    "New Hampshire    2.1      57  9.5\n",
    "New Jersey       7.4     159 18.8\n",
    "North Dakota     0.8      45  7.3\n",
    "Oklahoma         6.6     151 20.0\n",
    "Pennsylvania     6.3     106 14.9\n",
    "South Dakota     3.8      86 12.8\n",
    "Vermont          2.2      48 11.2\n",
    "West Virginia    5.7      81  9.3\n",
    "Wisconsin        2.6      53 10.8\n",
    "Wyoming          6.8     161 15.6\n",
    "\n",
    "```"
   ]
  },
  {
   "cell_type": "markdown",
   "metadata": {
    "tags": [
     "2019-2020-2",
     "medium",
     "Koralp",
     "data",
     "frames"
    ]
   },
   "source": [
    "# 22 EARTHQUAKES IN FIJI"
   ]
  },
  {
   "cell_type": "markdown",
   "metadata": {},
   "source": [
    "## 22.1 QUESTION"
   ]
  },
  {
   "cell_type": "markdown",
   "metadata": {},
   "source": [
    "Earthquakes are classified in categories ranging from minor to great, depending on their magnitude.\n",
    "\n",
    "- 3 - 3.9 classified as minor\n",
    "- 4 - 4.9 classified as light\n",
    "- 5 - 5.9 classified as moderate\n",
    "- 6 - 6.9 classified as strong\n",
    "- 7 - 7.9 classified as major\n",
    "- 8 or more classified as great\n",
    "\n",
    "\n",
    "1. There is a built-in data frame in RStudio called **quakes** that includes the locations of 1000 seismic events of MB > 4.0 occured near Fiji since 1964.\n",
    "\n",
    "\n",
    "2. By using the classification above, classify the magnitudes of the earthquakes given in the **mag** column. Use the function `sapply` and update the **quakes** data frame by adding it a new column called **class**."
   ]
  },
  {
   "cell_type": "markdown",
   "metadata": {
    "tags": [
     "2019-2020-2",
     "medium",
     "Koralp",
     "data",
     "frames"
    ]
   },
   "source": [
    "# 23 SWISS SOCIOECONOMIC INDICATORS DATA"
   ]
  },
  {
   "cell_type": "markdown",
   "metadata": {},
   "source": [
    "## 23.1 QUESTION"
   ]
  },
  {
   "cell_type": "markdown",
   "metadata": {},
   "source": [
    "There is a built-in data frame called **swiss** in RStudio. It includes socio-economic indicators for each of 47 French-speaking provinces of Switzerland at about 1888. \n",
    "\n",
    "1. Create a data frame called **lowest_mortality** which subsets the top 15 provinces in terms of lowest mortality rates from the **swiss** data frame.\n",
    "\n",
    "\n",
    "2. Create a data frame called **highest_education** which subsets the top 15 provinces in terms of highest education levels (measured by rate of draftees who received education beyond primary school) from the **swiss** data frame.\n",
    "\n",
    "\n",
    "3. Then make an inner join operation with `merge` function to see the provinces which belong to the both data frames created. Save the data frame as **merged_df**.\n",
    "\n",
    "\n",
    "**Hint**: You can get rid of the repeated columns by selecting only relevant columns at the end of the question."
   ]
  },
  {
   "cell_type": "markdown",
   "metadata": {
    "tags": [
     "2019-2020-2",
     "medium",
     "selin",
     "data_frames"
    ]
   },
   "source": [
    "# 24 HIRING"
   ]
  },
  {
   "cell_type": "markdown",
   "metadata": {},
   "source": [
    "## 24.1 QUESTION"
   ]
  },
  {
   "cell_type": "markdown",
   "metadata": {},
   "source": [
    "A company is hiring new employees. They have collected information on the possible candidates of this hiring: Names, if they know English or not,if they know a second language or not and their age. This is the fixed information they collect about their candidates.\n",
    "\n",
    "The information on the candidates is given below in the \n",
    "table:\n",
    "\n",
    "|Names|English|Second Lang.|Age|\n",
    "|:---:|:---:|:---:|:---:|\n",
    "|Ali|T|T|25|\n",
    "|Oyku|F|F|23|\n",
    "|Kaan|T|F|26|\n",
    "|Eylul|T|F|23|\n",
    "|Pınar|F|T|24|\n",
    "\n",
    "1. Create a data frame with the above information. Name it **candidates**.\n",
    "\n",
    "This company realizes the importance of learning programming languages. So they decide to add the information to the data frame whether the candidates know *Python* and *R*. This information about the candidates is again given below in the table:\n",
    "\n",
    "|Names|Python|R|\n",
    "|:---:|:---:|:---:|\n",
    "|Ali|T|T|\n",
    "|Oyku|F|T|\n",
    "|Kaan|T|F|\n",
    "|Eylul|F|T|\n",
    "|Pınar|F|F|\n",
    "\n",
    "\n",
    "2. Add this information to your current data frame, rename it **upd_candidates**.\n",
    "\n",
    "\n",
    "3. Reveal your final data frame to look like the one below: \n",
    "\n",
    "```r\n",
    " Names English Second Age Python     R\n",
    "1   Ali    TRUE   TRUE  25   TRUE  TRUE\n",
    "2  Oyku   FALSE  FALSE  23  FALSE  TRUE\n",
    "3  Kaan    TRUE  FALSE  26   TRUE FALSE\n",
    "4 Eylul    TRUE  FALSE  23  FALSE  TRUE\n",
    "5 Pınar   FALSE   TRUE  24  FALSE FALSE\n",
    "```"
   ]
  },
  {
   "cell_type": "markdown",
   "metadata": {
    "tags": [
     "2019-2020-2",
     "salih",
     "hard",
     "data_frames"
    ]
   },
   "source": [
    "# 25 US JUDGE RATINGS"
   ]
  },
  {
   "cell_type": "markdown",
   "metadata": {},
   "source": [
    "## 25.1 QUESTION"
   ]
  },
  {
   "cell_type": "markdown",
   "metadata": {},
   "source": [
    "There is a built in data set in RStudio named `USJudgeRatings` which shows lawyers' ratings  of state judges in the US Superior Court(They are rated according to 12 criteria). We will use this data set in this question. Store this data set in **jdg** to make calculations easier.\n",
    "\n",
    "```r\n",
    "> jdg\n",
    "                CONT INTG DMNR DILG CFMG DECI PREP FAMI ORAL WRIT PHYS RTEN\n",
    "AARONSON,L.H.    5.7  7.9  7.7  7.3  7.1  7.4  7.1  7.1  7.1  7.0  8.3  7.8\n",
    "ALEXANDER,J.M.   6.8  8.9  8.8  8.5  7.8  8.1  8.0  8.0  7.8  7.9  8.5  8.7\n",
    "ARMENTANO,A.J.   7.2  8.1  7.8  7.8  7.5  7.6  7.5  7.5  7.3  7.4  7.9  7.8\n",
    "BERDON,R.I.      6.8  8.8  8.5  8.8  8.3  8.5  8.7  8.7  8.4  8.5  8.8  8.7\n",
    "BRACKEN,J.J.     7.3  6.4  4.3  6.5  6.0  6.2  5.7  5.7  5.1  5.3  5.5  4.8\n",
    "BURNS,E.B.       6.2  8.8  8.7  8.5  7.9  8.0  8.1  8.0  8.0  8.0  8.6  8.6\n",
    "CALLAHAN,R.J.   10.6  9.0  8.9  8.7  8.5  8.5  8.5  8.5  8.6  8.4  9.1  9.0\n",
    "COHEN,S.S.       7.0  5.9  4.9  5.1  5.4  5.9  4.8  5.1  4.7  4.9  6.8  5.0\n",
    "DALY,J.J.        7.3  8.9  8.9  8.7  8.6  8.5  8.4  8.4  8.4  8.5  8.8  8.8\n",
    "DANNEHY,J.F.     8.2  7.9  6.7  8.1  7.9  8.0  7.9  8.1  7.7  7.8  8.5  7.9\n",
    "DEAN,H.H.        7.0  8.0  7.6  7.4  7.3  7.5  7.1  7.2  7.1  7.2  8.4  7.7\n",
    "DEVITA,H.J.      6.5  8.0  7.6  7.2  7.0  7.1  6.9  7.0  7.0  7.1  6.9  7.2\n",
    "DRISCOLL,P.J.    6.7  8.6  8.2  6.8  6.9  6.6  7.1  7.3  7.2  7.2  8.1  7.7\n",
    "GRILLO,A.E.      7.0  7.5  6.4  6.8  6.5  7.0  6.6  6.8  6.3  6.6  6.2  6.5\n",
    "HADDEN,W.L.JR.   6.5  8.1  8.0  8.0  7.9  8.0  7.9  7.8  7.8  7.8  8.4  8.0\n",
    "HAMILL,E.C.      7.3  8.0  7.4  7.7  7.3  7.3  7.3  7.2  7.1  7.2  8.0  7.6\n",
    "HEALEY.A.H.      8.0  7.6  6.6  7.2  6.5  6.5  6.8  6.7  6.4  6.5  6.9  6.7\n",
    "HULL,T.C.        7.7  7.7  6.7  7.5  7.4  7.5  7.1  7.3  7.1  7.3  8.1  7.4\n",
    "LEVINE,I.        8.3  8.2  7.4  7.8  7.7  7.7  7.7  7.8  7.5  7.6  8.0  8.0\n",
    "LEVISTER,R.L.    9.6  6.9  5.7  6.6  6.9  6.6  6.2  6.0  5.8  5.8  7.2  6.0\n",
    "MARTIN,L.F.      7.1  8.2  7.7  7.1  6.6  6.6  6.7  6.7  6.8  6.8  7.5  7.3\n",
    "MCGRATH,J.F.     7.6  7.3  6.9  6.8  6.7  6.8  6.4  6.3  6.3  6.3  7.4  6.6\n",
    "MIGNONE,A.F.     6.6  7.4  6.2  6.2  5.4  5.7  5.8  5.9  5.2  5.8  4.7  5.2\n",
    "MISSAL,H.M.      6.2  8.3  8.1  7.7  7.4  7.3  7.3  7.3  7.2  7.3  7.8  7.6\n",
    "MULVEY,H.M.      7.5  8.7  8.5  8.6  8.5  8.4  8.5  8.5  8.4  8.4  8.7  8.7\n",
    "NARUK,H.J.       7.8  8.9  8.7  8.9  8.7  8.8  8.9  9.0  8.8  8.9  9.0  9.0\n",
    "O'BRIEN,F.J.     7.1  8.5  8.3  8.0  7.9  7.9  7.8  7.8  7.8  7.7  8.3  8.2\n",
    "O'SULLIVAN,T.J.  7.5  9.0  8.9  8.7  8.4  8.5  8.4  8.3  8.3  8.3  8.8  8.7\n",
    "PASKEY,L.        7.5  8.1  7.7  8.2  8.0  8.1  8.2  8.4  8.0  8.1  8.4  8.1\n",
    "RUBINOW,J.E.     7.1  9.2  9.0  9.0  8.4  8.6  9.1  9.1  8.9  9.0  8.9  9.2\n",
    "SADEN.G.A.       6.6  7.4  6.9  8.4  8.0  7.9  8.2  8.4  7.7  7.9  8.4  7.5\n",
    "SATANIELLO,A.G.  8.4  8.0  7.9  7.9  7.8  7.8  7.6  7.4  7.4  7.4  8.1  7.9\n",
    "SHEA,D.M.        6.9  8.5  7.8  8.5  8.1  8.2  8.4  8.5  8.1  8.3  8.7  8.3\n",
    "SHEA,J.F.JR.     7.3  8.9  8.8  8.7  8.4  8.5  8.5  8.5  8.4  8.4  8.8  8.8\n",
    "SIDOR,W.J.       7.7  6.2  5.1  5.6  5.6  5.9  5.6  5.6  5.3  5.5  6.3  5.3\n",
    "SPEZIALE,J.A.    8.5  8.3  8.1  8.3  8.4  8.2  8.2  8.1  7.9  8.0  8.0  8.2\n",
    "SPONZO,M.J.      6.9  8.3  8.0  8.1  7.9  7.9  7.9  7.7  7.6  7.7  8.1  8.0\n",
    "STAPLETON,J.F.   6.5  8.2  7.7  7.8  7.6  7.7  7.7  7.7  7.5  7.6  8.5  7.7\n",
    "TESTO,R.J.       8.3  7.3  7.0  6.8  7.0  7.1  6.7  6.7  6.7  6.7  8.0  7.0\n",
    "TIERNEY,W.L.JR.  8.3  8.2  7.8  8.3  8.4  8.3  7.7  7.6  7.5  7.7  8.1  7.9\n",
    "WALL,R.A.        9.0  7.0  5.9  7.0  7.0  7.2  6.9  6.9  6.5  6.6  7.6  6.6\n",
    "WRIGHT,D.B.      7.1  8.4  8.4  7.7  7.5  7.7  7.8  8.2  8.0  8.1  8.3  8.1\n",
    "ZARRILLI,K.J.    8.6  7.4  7.0  7.5  7.5  7.7  7.4  7.2  6.9  7.0  7.8  7.1\n",
    "```\n",
    "1. We will classify these judges with our own  method by using the ratings in this data set. We will eliminate 5 criteria and use other 7 criteria in the data set to do it. Find the standard deviations of each criteria and remove 5 criteria with the lowest 5 standard deviations from the data set.\n",
    "\n",
    "```r\n",
    ">  jdg\n",
    "                DECI PREP FAMI ORAL WRIT PHYS RTEN\n",
    "AARONSON,L.H.    7.4  7.1  7.1  7.1  7.0  8.3  7.8\n",
    "ALEXANDER,J.M.   8.1  8.0  8.0  7.8  7.9  8.5  8.7\n",
    "ARMENTANO,A.J.   7.6  7.5  7.5  7.3  7.4  7.9  7.8\n",
    "BERDON,R.I.      8.5  8.7  8.7  8.4  8.5  8.8  8.7\n",
    "BRACKEN,J.J.     6.2  5.7  5.7  5.1  5.3  5.5  4.8\n",
    "BURNS,E.B.       8.0  8.1  8.0  8.0  8.0  8.6  8.6\n",
    "CALLAHAN,R.J.    8.5  8.5  8.5  8.6  8.4  9.1  9.0\n",
    "COHEN,S.S.       5.9  4.8  5.1  4.7  4.9  6.8  5.0\n",
    "DALY,J.J.        8.5  8.4  8.4  8.4  8.5  8.8  8.8\n",
    "DANNEHY,J.F.     8.0  7.9  8.1  7.7  7.8  8.5  7.9\n",
    "DEAN,H.H.        7.5  7.1  7.2  7.1  7.2  8.4  7.7\n",
    "DEVITA,H.J.      7.1  6.9  7.0  7.0  7.1  6.9  7.2\n",
    "DRISCOLL,P.J.    6.6  7.1  7.3  7.2  7.2  8.1  7.7\n",
    "GRILLO,A.E.      7.0  6.6  6.8  6.3  6.6  6.2  6.5\n",
    "HADDEN,W.L.JR.   8.0  7.9  7.8  7.8  7.8  8.4  8.0\n",
    "HAMILL,E.C.      7.3  7.3  7.2  7.1  7.2  8.0  7.6\n",
    "HEALEY.A.H.      6.5  6.8  6.7  6.4  6.5  6.9  6.7\n",
    "HULL,T.C.        7.5  7.1  7.3  7.1  7.3  8.1  7.4\n",
    "LEVINE,I.        7.7  7.7  7.8  7.5  7.6  8.0  8.0\n",
    "LEVISTER,R.L.    6.6  6.2  6.0  5.8  5.8  7.2  6.0\n",
    "MARTIN,L.F.      6.6  6.7  6.7  6.8  6.8  7.5  7.3\n",
    "MCGRATH,J.F.     6.8  6.4  6.3  6.3  6.3  7.4  6.6\n",
    "MIGNONE,A.F.     5.7  5.8  5.9  5.2  5.8  4.7  5.2\n",
    "MISSAL,H.M.      7.3  7.3  7.3  7.2  7.3  7.8  7.6\n",
    "MULVEY,H.M.      8.4  8.5  8.5  8.4  8.4  8.7  8.7\n",
    "NARUK,H.J.       8.8  8.9  9.0  8.8  8.9  9.0  9.0\n",
    "O'BRIEN,F.J.     7.9  7.8  7.8  7.8  7.7  8.3  8.2\n",
    "O'SULLIVAN,T.J.  8.5  8.4  8.3  8.3  8.3  8.8  8.7\n",
    "PASKEY,L.        8.1  8.2  8.4  8.0  8.1  8.4  8.1\n",
    "RUBINOW,J.E.     8.6  9.1  9.1  8.9  9.0  8.9  9.2\n",
    "SADEN.G.A.       7.9  8.2  8.4  7.7  7.9  8.4  7.5\n",
    "SATANIELLO,A.G.  7.8  7.6  7.4  7.4  7.4  8.1  7.9\n",
    "SHEA,D.M.        8.2  8.4  8.5  8.1  8.3  8.7  8.3\n",
    "SHEA,J.F.JR.     8.5  8.5  8.5  8.4  8.4  8.8  8.8\n",
    "SIDOR,W.J.       5.9  5.6  5.6  5.3  5.5  6.3  5.3\n",
    "SPEZIALE,J.A.    8.2  8.2  8.1  7.9  8.0  8.0  8.2\n",
    "SPONZO,M.J.      7.9  7.9  7.7  7.6  7.7  8.1  8.0\n",
    "STAPLETON,J.F.   7.7  7.7  7.7  7.5  7.6  8.5  7.7\n",
    "TESTO,R.J.       7.1  6.7  6.7  6.7  6.7  8.0  7.0\n",
    "TIERNEY,W.L.JR.  8.3  7.7  7.6  7.5  7.7  8.1  7.9\n",
    "WALL,R.A.        7.2  6.9  6.9  6.5  6.6  7.6  6.6\n",
    "WRIGHT,D.B.      7.7  7.8  8.2  8.0  8.1  8.3  8.1\n",
    "ZARRILLI,K.J.    7.7  7.4  7.2  6.9  7.0  7.8  7.1\n",
    "```\n",
    "\n",
    "2. Create a function named **qualities** which takes one argument :**df** with **jdg** as its default value. The function will calculate the total ratings of each judge and classify them as follows:\n",
    "\n",
    "|Total Point|Classification|\n",
    "|---|---|\n",
    "|The Highest|\"Most Qualified\"|\n",
    "|55-|\"Well Qualified\"|\n",
    "|46-55|\"Qualified\"|\n",
    "|-46|\"Low Qualified\"|\n",
    "|The Lowest|\"Least Qualified\"|\n",
    "\n",
    "```r\n",
    ">  qualities(df = jdg)\n",
    "                Total  Classification\n",
    "AARONSON,L.H.    51.8       Qualified\n",
    "ALEXANDER,J.M.   57.0  Well Qualified\n",
    "ARMENTANO,A.J.   53.0       Qualified\n",
    "BERDON,R.I.      60.3  Well Qualified\n",
    "BRACKEN,J.J.     38.3   Not Qualified\n",
    "BURNS,E.B.       57.3  Well Qualified\n",
    "CALLAHAN,R.J.    60.6  Well Qualified\n",
    "COHEN,S.S.       37.2 Least Qualified\n",
    "DALY,J.J.        59.8  Well Qualified\n",
    "DANNEHY,J.F.     55.9  Well Qualified\n",
    "DEAN,H.H.        52.2       Qualified\n",
    "DEVITA,H.J.      49.2       Qualified\n",
    "DRISCOLL,P.J.    51.2       Qualified\n",
    "GRILLO,A.E.      46.0       Qualified\n",
    "HADDEN,W.L.JR.   55.7  Well Qualified\n",
    "HAMILL,E.C.      51.7       Qualified\n",
    "HEALEY.A.H.      46.5       Qualified\n",
    "HULL,T.C.        51.8       Qualified\n",
    "LEVINE,I.        54.3       Qualified\n",
    "LEVISTER,R.L.    43.6   Not Qualified\n",
    "MARTIN,L.F.      48.4       Qualified\n",
    "MCGRATH,J.F.     46.1       Qualified\n",
    "MIGNONE,A.F.     38.3   Not Qualified\n",
    "MISSAL,H.M.      51.8       Qualified\n",
    "MULVEY,H.M.      59.6  Well Qualified\n",
    "NARUK,H.J.       62.4  Well Qualified\n",
    "O'BRIEN,F.J.     55.5  Well Qualified\n",
    "O'SULLIVAN,T.J.  59.3  Well Qualified\n",
    "PASKEY,L.        57.3  Well Qualified\n",
    "RUBINOW,J.E.     62.8  Most Qualified\n",
    "SADEN.G.A.       56.0  Well Qualified\n",
    "SATANIELLO,A.G.  53.6       Qualified\n",
    "SHEA,D.M.        58.5  Well Qualified\n",
    "SHEA,J.F.JR.     59.9  Well Qualified\n",
    "SIDOR,W.J.       39.5   Not Qualified\n",
    "SPEZIALE,J.A.    56.6  Well Qualified\n",
    "SPONZO,M.J.      54.9       Qualified\n",
    "STAPLETON,J.F.   54.4       Qualified\n",
    "TESTO,R.J.       48.9       Qualified\n",
    "TIERNEY,W.L.JR.  54.8       Qualified\n",
    "WALL,R.A.        48.3       Qualified\n",
    "WRIGHT,D.B.      56.2  Well Qualified\n",
    "ZARRILLI,K.J.    51.1       Qualified\n",
    "```"
   ]
  },
  {
   "cell_type": "markdown",
   "metadata": {
    "tags": [
     "2019-2020-2",
     "hard",
     "bugra",
     "merge",
     "aggregate"
    ]
   },
   "source": [
    "# 26 CAR EXPERTS"
   ]
  },
  {
   "cell_type": "markdown",
   "metadata": {},
   "source": [
    "## 26.1 QUESTION"
   ]
  },
  {
   "cell_type": "markdown",
   "metadata": {},
   "source": [
    "- Arnold and Bernald are 2 data scientists who are in love with cars. They always try to analyze everything and collect the best cars. They want to buy an antique car from 1970s. They found an article from the 1974 Motor Trend US Magazine that comprises fuel consumption and 10 aspects of automobile design and performance for 32 automobiles. They turned the article into a data set. Now, it is time to analyze.\n",
    "\n",
    "\n",
    "- They go home and study on the features of old cars. They decide seperately on which features to consider. They need 4 features.\n",
    "\n",
    "\n",
    "- They decide jointly on the main feature which is the most important. Afterwards, they both say 3 side features but these are unfortunately not identical. \n",
    "\n",
    "\n",
    "- Main features are; \"Engine\", \"Transmission\", \"Gears\", \"Carburetors\".\n",
    "\n",
    "\n",
    "- We will use \"Serial Codes\" for the side features to make things simpler. Side features are;\n",
    "\n",
    "```r\n",
    "    Serial Code  Side Feature\n",
    "    1           Miles/(US) gallon\n",
    "    2           Number of cylinders\n",
    "    3           Displacement (cu.in.)\n",
    "    4           Gross horsepower\n",
    "    5           Rear axle ratio\n",
    "    6           Weight (1000 lbs)\n",
    "    7           1/4 mile time\n",
    "\n",
    "   \n",
    "\n",
    "```\n",
    "\n",
    "\n",
    "- They want to group the cars according to the main feature and then they want to see the minimum values, maximum values and the mean of the side features.\n",
    "\n",
    "\n",
    "- **mtcars** is the built-in dataset in R that we will use in this question.\n",
    "\n",
    "\n",
    "\n",
    "\n",
    "1. Create a function called **cars** that takes 8 arguments;**data**(the data set that consists of the information of cars, *mtcars* in this question), **main**(the feature that they agreed on), **a1**, **a2**, **a3** (Arnold's side preferences' serial codes), **b1**, **b2**, **b3**(Bernard's side preferences' serial codes).\n",
    "\n",
    "\n",
    "\n",
    "\n",
    "- The function should group the side preferences of Arnold and Bernard according to the main feature. Then it should merge their side preferences and return it as a Data Frame as shown below.\n",
    "\n",
    "\n",
    "\n",
    "\n",
    "\n",
    "**HINT** : You should use `aggregate()` function for a better code.\n",
    "\n",
    "**HINT** : You should use `paste()` function to make the first column's name seem as shown below.\n",
    "\n",
    "\n",
    "\n",
    "\n",
    "\n",
    "\n",
    "```r\n",
    "  > cars(mtcars, \"Engine\", 1, 2, 3, 1, 5, 7)\n",
    "  The grouping based on: Engine  mpg.min  mpg.max mpg.mean  cyl.min  cyl.max cyl.mean\n",
    "1                             0 10.40000 26.00000 16.61667 4.000000 8.000000 7.444444\n",
    "2                             1 17.80000 33.90000 24.55714 4.000000 6.000000 4.571429\n",
    "  disp.min disp.max disp.mean drat.min drat.max drat.mean qsec.min qsec.max qsec.mean\n",
    "1 120.3000 472.0000  307.1500 2.760000 4.430000  3.392222 14.50000 18.00000  16.69389\n",
    "2  71.1000 258.0000  132.4571 2.760000 4.930000  3.859286 16.90000 22.90000  19.33357\n",
    "\n",
    "   \n",
    "\n",
    "```\n",
    "\n",
    "```r\n",
    "> cars(mtcars, \"Carburetors\", 3, 4, 5, 1, 2, 6)\n",
    "  The grouping based on: Carburetors disp.min disp.max disp.mean hp.min hp.max hp.mean\n",
    "1                                  1  71.1000 258.0000  134.2714   65.0  110.0    86.0\n",
    "2                                  2  75.7000 400.0000  208.1600   52.0  175.0   117.2\n",
    "3                                  3 275.8000 275.8000  275.8000  180.0  180.0   180.0\n",
    "4                                  4 160.0000 472.0000  308.8200  110.0  264.0   187.0\n",
    "5                                  6 145.0000 145.0000  145.0000  175.0  175.0   175.0\n",
    "6                                  8 301.0000 301.0000  301.0000  335.0  335.0   335.0\n",
    "  drat.min drat.max drat.mean  mpg.min  mpg.max mpg.mean  cyl.min  cyl.max cyl.mean wt.min\n",
    "1 2.760000 4.220000  3.681429 18.10000 33.90000 25.34286 4.000000 6.000000 4.571429 1.8350\n",
    "2 2.760000 4.930000  3.699000 15.20000 30.40000 22.40000 4.000000 8.000000 5.600000 1.5130\n",
    "3 3.070000 3.070000  3.070000 15.20000 17.30000 16.30000 8.000000 8.000000 8.000000 3.7300\n",
    "4 2.930000 4.220000  3.596000 10.40000 21.00000 15.79000 6.000000 8.000000 7.200000 2.6200\n",
    "5 3.620000 3.620000  3.620000 19.70000 19.70000 19.70000 6.000000 6.000000 6.000000 2.7700\n",
    "6 3.540000 3.540000  3.540000 15.00000 15.00000 15.00000 8.000000 8.000000 8.000000 3.5700\n",
    "  wt.max wt.mean\n",
    "1 3.4600  2.4900\n",
    "2 3.8450  2.8628\n",
    "3 4.0700  3.8600\n",
    "4 5.4240  3.8974\n",
    "5 2.7700  2.7700\n",
    "6 3.5700  3.5700\n",
    "```"
   ]
  },
  {
   "cell_type": "markdown",
   "metadata": {
    "tags": [
     "2019-2020-2",
     "hard",
     "berk",
     "selecting_rows",
     "data_frames"
    ]
   },
   "source": [
    "# 27 OIL CRISIS"
   ]
  },
  {
   "cell_type": "markdown",
   "metadata": {},
   "source": [
    "## 27.1 QUESTION"
   ]
  },
  {
   "cell_type": "markdown",
   "metadata": {},
   "source": [
    "The 1973 oil crisis began in October 1973 when the members of the Organization of Arab Petroleum Exporting Countries proclaimed an oil embargo. The embargo was targeted at nations perceived as supporting Israel,- such as the US and Netherlands, during the Yom Kippur War, a war which was led by Egypt and Syria against Israel.\n",
    "\n",
    "An economist from Johnson&Johnson, an American pharmaceutical company, wants to see the effect of the crisis on the quarterly earnings of his company's shares in stock market. Here are the data from relevant years by quarters:\n",
    "\n",
    "Quarter 1: (2.16, 2.79, 3.60, 4.86, 4.86, 5.58, 6.03, 6.93, 7.74, 9.54, 11.88)\n",
    "Quarter 2: (2.43, 3.42, 4.32, 5.04, 5.85, 6.39, 7.74, 8.91, 10.26, 12.06)\n",
    "Quarter 3: (2.70, 3.69, 4.32, 5.04, 6.57, 6.93, 7.83, 8.28, 9.54, 12.15)\n",
    "Quarter 4: (2.25, 3.60, 4.05, 4.41, 5.31, 5.85, 6.12, 6.84, 8.73, 8.91)\n",
    "\n",
    "\n",
    "\n",
    "1. Create a vector named **years** and assign it the years from 1969 to 1978. Create vectors for each quarter, for Quarter 1 name it **qty1**, for Quarter 2 **qty2**, for Quarter 3 **qty3**, for Quarter 4 **qty4**. Create a data frame named **johnson** using **years**, **qty1*, **qty2*, **qty3*, **qty4*.\n",
    "\n",
    "```r\n",
    "    > johnson\n",
    "       years  qty1  qty2  qty3 qty4\n",
    "    1   1969  2.16  2.43  2.70 2.25\n",
    "    2   1970  2.79  3.42  3.69 3.60\n",
    "    3   1971  3.60  4.32  4.32 4.05\n",
    "    4   1972  4.86  5.04  5.04 4.41\n",
    "    5   1973  5.58  5.85  6.57 5.31\n",
    "    6   1974  6.03  6.39  6.93 5.85\n",
    "    7   1975  6.93  7.74  7.83 6.12\n",
    "    8   1976  7.74  8.91  8.28 6.84\n",
    "    9   1977  9.54 10.26  9.54 8.73\n",
    "    10  1978 11.88 12.06 12.15 8.91\n",
    "```\n",
    "\n",
    "2. Create a vector for 1969-1973 period and name it **pre_crisis_years**. Create another vector for 1974-1978 period and name it **post_crisis_years.\n",
    "```r\n",
    "    > pre_crisis_years\n",
    "    [1] \"1969\" \"1970\" \"1971\" \"1972\" \"1973\"\n",
    "    > post_crisis_years\n",
    "    [1] \"1974\" \"1975\" \"1976\" \"1977\" \"1978\"\n",
    "```\n",
    "\n",
    "3. Filter dataframe **johnson** using **pre_crisis_years** vector and assign the values to a new data frame called **pre_crisis_earn**. Filter **JohnsonJohnson** dataset once again using **post_crisis_years** and the values to a new data frame called **post_crisis_earn**.\n",
    "\n",
    "```r\n",
    "    > pre_crisis_earn\n",
    "      years qty1 qty2 qty3 qty4\n",
    "    1  1969 2.16 2.43 2.70 2.25\n",
    "    2  1970 2.79 3.42 3.69 3.60\n",
    "    3  1971 3.60 4.32 4.32 4.05\n",
    "    4  1972 4.86 5.04 5.04 4.41\n",
    "    5  1973 5.58 5.85 6.57 5.31\n",
    "    > post_crisis_earn\n",
    "       years  qty1  qty2  qty3 qty4\n",
    "    6   1974  6.03  6.39  6.93 5.85\n",
    "    7   1975  6.93  7.74  7.83 6.12\n",
    "    8   1976  7.74  8.91  8.28 6.84\n",
    "    9   1977  9.54 10.26  9.54 8.73\n",
    "    10  1978 11.88 12.06 12.15 8.91\n",
    "```\n",
    "4. Finally, create a function named **mean_calculator** with one argument **dta**. It calculates each years mean quarterly earnings. Creates a new column named **mean** for both **pre_crisis_earn** and **post_crisis_earn** and assign the value returned from **mean_calculator**.\n",
    "```r\n",
    "    > pre_crisis_earn\n",
    "      years qty1 qty2 qty3 qty4   mean\n",
    "    1  1969 2.16 2.43 2.70 2.25 2.3850\n",
    "    2  1970 2.79 3.42 3.69 3.60 3.3750\n",
    "    3  1971 3.60 4.32 4.32 4.05 4.0725\n",
    "    4  1972 4.86 5.04 5.04 4.41 4.8375\n",
    "    5  1973 5.58 5.85 6.57 5.31 5.8275\n",
    "    > post_crisis_earn\n",
    "       years  qty1  qty2  qty3 qty4    mean\n",
    "    6   1974  6.03  6.39  6.93 5.85  6.3000\n",
    "    7   1975  6.93  7.74  7.83 6.12  7.1550\n",
    "    8   1976  7.74  8.91  8.28 6.84  7.9425\n",
    "    9   1977  9.54 10.26  9.54 8.73  9.5175\n",
    "    10  1978 11.88 12.06 12.15 8.91 11.2500\n",
    "```\n",
    "\n"
   ]
  }
 ],
 "metadata": {
  "celltoolbar": "Tags",
  "kernelspec": {
   "display_name": "R",
   "language": "R",
   "name": "ir"
  },
  "language_info": {
   "codemirror_mode": "r",
   "file_extension": ".r",
   "mimetype": "text/x-r-source",
   "name": "R",
   "pygments_lexer": "r",
   "version": "3.6.1"
  },
  "toc": {
   "base_numbering": 1,
   "nav_menu": {},
   "number_sections": true,
   "sideBar": true,
   "skip_h1_title": false,
   "title_cell": "Table of Contents",
   "title_sidebar": "Contents",
   "toc_cell": false,
   "toc_position": {},
   "toc_section_display": true,
   "toc_window_display": true
  },
  "varInspector": {
   "cols": {
    "lenName": 16,
    "lenType": 16,
    "lenVar": 40
   },
   "kernels_config": {
    "python": {
     "delete_cmd_postfix": "",
     "delete_cmd_prefix": "del ",
     "library": "var_list.py",
     "varRefreshCmd": "print(var_dic_list())"
    },
    "r": {
     "delete_cmd_postfix": ") ",
     "delete_cmd_prefix": "rm(",
     "library": "var_list.r",
     "varRefreshCmd": "cat(var_dic_list()) "
    }
   },
   "types_to_exclude": [
    "module",
    "function",
    "builtin_function_or_method",
    "instance",
    "_Feature"
   ],
   "window_display": false
  }
 },
 "nbformat": 4,
 "nbformat_minor": 2
}
