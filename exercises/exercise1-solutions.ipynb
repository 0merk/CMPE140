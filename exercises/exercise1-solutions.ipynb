{
 "cells": [
  {
   "cell_type": "markdown",
   "metadata": {},
   "source": [
    "## Exercise 1"
   ]
  },
  {
   "cell_type": "markdown",
   "metadata": {},
   "source": [
    "### Random Number Generation"
   ]
  },
  {
   "cell_type": "markdown",
   "metadata": {},
   "source": [
    "##### Q1 \n",
    "\n",
    "1) Create a sequence  called \"heights\" from 145 to 185 increasing by 0.01.\n",
    "\t#This vector represents the prospective heights of women in an arbitrary society. \n",
    "\n",
    "2) Choose randomly 100 samples from \"heights\" vector with the possibility that one element can be choosen more than once. Name it \"my_samp\".\n",
    "\t#What is the percentage of heights below average?\n",
    "\t#Assign your result to a vector called \"below_rate\"."
   ]
  },
  {
   "cell_type": "code",
   "execution_count": 1,
   "metadata": {
    "collapsed": true
   },
   "outputs": [],
   "source": [
    "### code between lines\n",
    "\n",
    "#1\n",
    "heights <- seq(145, 185, by=0.01)\n",
    "\n",
    "#2\n",
    "my_samp <- sample(heights, 100, replace = TRUE)\n",
    "below_ave <- my_samp[mean(my_samp) > my_samp]\n",
    "below_rate <- length(below_ave)/length(my_samp)*100\n",
    "\n",
    "\n",
    "\n",
    "### code between lines"
   ]
  },
  {
   "cell_type": "markdown",
   "metadata": {},
   "source": [
    "#### Q2 \n",
    "\n",
    "A zoologist makes a research about the lengths of giraffes' necks. \n",
    "He does his measurements on 1000 different giraffes and finds the mean length is 2,40 m and the standart deviation is 0,3 m.\n",
    "\n",
    "    #Note that the data is normally distributed.\n",
    "\n",
    "1) Set seed to 1234 by writing set.seed(1234). Get random numbers overlapping with the given data.\n",
    "\n",
    "2) Assign animals which are more than 3 sd far from mean to a vector called rare_ones and find the ratio of rare_animals.  \n",
    "\n",
    "3) Build a histogram with the animal data. Its color shoud be orange\n",
    "\n"
   ]
  },
  {
   "cell_type": "code",
   "execution_count": 2,
   "metadata": {
    "collapsed": true
   },
   "outputs": [],
   "source": [
    "### code between lines\n",
    "\n",
    "#1\n",
    "set.seed(1234)\n",
    "animals <- rnorm(1000, mean = 2.40, sd = 0.2)\n",
    "\n",
    "#2\n",
    "rare_ones <- c(animals[animals < 1.8], animals[animals > 3.0])\n",
    "length(rare_ones)/1000\n",
    "\n",
    "#3\n",
    "hist(animals, col = \"orange\")\n",
    "\n",
    "### code between lines"
   ]
  },
  {
   "cell_type": "markdown",
   "metadata": {},
   "source": [
    "#### Q3\n",
    "\n",
    "A student wants to see the effect of standard deviation in normal distribution.\n",
    "\n",
    "1) Set seed to 1111, create x_1 vector with 100 variables in normal distribution with the standard deviation 1.\n",
    "\n",
    "2) Set seed to 2222, create x_2 vector with 100 variables in normal distribution with the standard deviation 4.\n",
    "\n",
    "3) Use par(mfrow = c(1,2)) (simply run it) and sketch the histograms of x_1 and x_2 in order."
   ]
  },
  {
   "cell_type": "code",
   "execution_count": null,
   "metadata": {
    "collapsed": true
   },
   "outputs": [],
   "source": [
    "### code between lines\n",
    "\n",
    "#1\n",
    "set.seed(1111)\n",
    "x_1 <- rnorm(100,1,sd=1)\n",
    "#2\n",
    "set.seed(2222)\n",
    "x_2 <- rnorm(100,1,sd=4)\n",
    "#3\n",
    "par(mfrow = c(1,2))\n",
    "hist(x_1)\n",
    "hist(x_2)\n",
    "\n",
    "\n",
    "### code between lines"
   ]
  },
  {
   "cell_type": "markdown",
   "metadata": {},
   "source": [
    "#### Q4\n",
    "\n",
    "Jane is a student who can take the notes AA,BA,BB,CB,CC,DC,DD,F in her exams.\n",
    "\n",
    "1) Create a vector named \"notes\" showing the notes that Jane can take.\n",
    "\n",
    "2) Jane joins 100 exams during 4 years.She takes her notes randomly.Lets create a vector named \"jane_notes\" showing notes of Jane.\n",
    "\n",
    "3) Jane take some exams again and she changes her \"F\" notes with \"DD\".So update the vector \"jane_notes\".\n",
    "\n",
    "4) Show the number of \"DD\" that Jane take totally.\n"
   ]
  },
  {
   "cell_type": "code",
   "execution_count": null,
   "metadata": {
    "collapsed": true
   },
   "outputs": [],
   "source": [
    "### code between lines\n",
    "\n",
    "set.seed(123)\n",
    "\n",
    "#1\n",
    "notes <- c(\"AA\",\"BA\",\"BB\",\"CB\",\"CC\",\"DC\",\"DD\",\"F\")\n",
    "\n",
    "#2\n",
    "jane_notes <- sample(notes,100,replace = TRUE)\n",
    "\n",
    "#3\n",
    "jane_notes[jane_notes==\"F\"] <- \"DD\"\n",
    "\n",
    "#4\n",
    "sum(jane_notes==\"DD\")\n",
    "\n",
    "### code between lines"
   ]
  },
  {
   "cell_type": "markdown",
   "metadata": {},
   "source": [
    "#### Q5\n",
    "\n",
    "1) Generate 100 numbers which are \"uniformly\" distributed between -5 and 5.\n",
    "\n",
    "2) Generate 20 numbers which are \"normally\" distributed and with a mean of 1.\n",
    "\n",
    "3) Create a vector named \"x\" which includes numbers from 10 to 99. \n",
    "     #Then from the vector \"x\" get randomly selected 7 elements by after every sampling putting the selected one back.\n",
    "     \n",
    "###### To get the same random sequence in every simulation, before your codes set the seed 2324(use set.seed() function)."
   ]
  },
  {
   "cell_type": "code",
   "execution_count": 3,
   "metadata": {
    "collapsed": true
   },
   "outputs": [],
   "source": [
    "### code between lines\n",
    "\n",
    "#1\n",
    "set.seed(2324)\n",
    "runif(100,-5,5)\n",
    "\n",
    "#2\n",
    "set.seed(2324)\n",
    "rnorm(20, mean = 1)\n",
    "\n",
    "#3\n",
    "x <- 10:99\n",
    "set.seed(2324)\n",
    "sample(x, 7, replace = T)\n",
    "\n",
    "\n",
    "### code between lines"
   ]
  },
  {
   "cell_type": "markdown",
   "metadata": {},
   "source": [
    "### Functions"
   ]
  },
  {
   "cell_type": "markdown",
   "metadata": {},
   "source": [
    "#### Q1 \n",
    "\n",
    "Here are the prices for THY's 6 domestic flights: 137, 99, 276, 446, 345, 111.\n",
    "\n",
    "1) Create a vector called \"flights\" with these 6 elements.\n",
    "\n",
    "Since the inflation rate was announced, the flight prices have changed accordingly: \n",
    "\n",
    "        inflation_rate=0.24\n",
    "To stop the sharp increase in prices, THY launced a discount campaign: \n",
    "\n",
    "       fight_against_inflation=-0.1\n",
    "\n",
    "2) Create a function called \"new_turkey\" and  set the inflation_rate and fight_against_inflation arguments to default values.\n",
    "\t  #This function should calculate new prices and return the vector called \"updated_prices\".\n",
    "\t  #Find the updated prices of \"flights\" vector.\n",
    "\n",
    "      input : old_price, fight_against_inflation, inflation_rate\n",
    "      output: updated_price\n"
   ]
  },
  {
   "cell_type": "code",
   "execution_count": null,
   "metadata": {
    "collapsed": true
   },
   "outputs": [],
   "source": [
    "### code between lines\n",
    "\n",
    "#1\n",
    "flights <- c(137, 99, 276, 446, 345, 111)\n",
    "\n",
    "#2\n",
    "new_turkey <- function(x, fight_against_inflation= -0.1, inflation_rate=0.24){\n",
    "  updated_prices <- x  + x*inflation_rate + x*fight_against_inflation\n",
    "  return(updated_prices)\n",
    "}\n",
    "\n",
    "new_turkey(flights)\n",
    "\n",
    "\n",
    "### code between lines"
   ]
  },
  {
   "cell_type": "markdown",
   "metadata": {},
   "source": [
    "##### Q2 \n",
    "\n",
    "Please write a function called 'regular_polygon' that calculates each interior angle of a regular polygon and its total area when number of sides(\"n\") and length of one side(\"x\") are given as parameters.\n",
    "\n",
    "It returns each interior angle and total area values as examples below:\n",
    "\n",
    "    Example\n",
    "    regular_polygon(4,5)\n",
    "\n",
    "    output\n",
    "    interior angle    total area  \n",
    "               90             25 \n",
    "               \n",
    "               \n",
    "    Recall that interior angle formula  = (n- 2) * 180 / n \n",
    "    total area formula =  ( (x^2)  x  n) / (4 x tan( 180 /n) )"
   ]
  },
  {
   "cell_type": "code",
   "execution_count": null,
   "metadata": {
    "collapsed": true
   },
   "outputs": [],
   "source": [
    "### code between lines\n",
    "\n",
    " regular_polygon  <- function(n,x) { \n",
    "  \n",
    "    int_angle  <- ((n-2)*180)/n\n",
    "  \n",
    "         total_area <-  ((x^2) * n) /4*tan( pi /n)\n",
    "  \n",
    "    polygon <- c(\"interior angle\" = int_angle , \"total area \" = total_area)\n",
    "  \n",
    " return (polygon)\n",
    "  \n",
    "\n",
    "### code between lines"
   ]
  },
  {
   "cell_type": "markdown",
   "metadata": {},
   "source": [
    "#### Q4 \n",
    "\n",
    " A depositor wants to calculate his/her balance in real terms.\n",
    " \n",
    "1) To find real interest rate, create real_interest_rate_function with 2 arguments: nominal_interest_rate and inflation.\n",
    "\n",
    "2) Create new_purchasing_power_function with arguments: amount, real_interest_rate and time.\n",
    "\n",
    " \t\tImportant: This is compound interest calculation.\n",
    "3) For instance we have 100000 dollars for 5 years, expected annual nominal interest rate is 24 percent and inflation is 34 percent.\n",
    "\n",
    "\t \tCalculate a) real_interest_rate_1 and c) new_purchasing_power_1 for given values above with your functions.\n",
    "\n"
   ]
  },
  {
   "cell_type": "code",
   "execution_count": null,
   "metadata": {
    "collapsed": true
   },
   "outputs": [],
   "source": [
    "### code between lines\n",
    "\n",
    "#1\n",
    "real_interest_rate_function <- function(nominal_interest_rate, inflation)\n",
    "{\n",
    "  real_interest_rate <- nominal_interest_rate - inflation\n",
    "  return(real_interest_rate)\n",
    "}\n",
    "\n",
    "#2\n",
    "new_purchasing_power_function <- function(amount, real_interest_rate, time)\n",
    "{\n",
    "  new_purchasing_power <- amount * (1 + real_interest_rate) ^ time\n",
    "  return(new_purchasing_power)\n",
    "}\n",
    "\n",
    "#3a)\n",
    "real_interest_rate_1 <- real_interest_rate_function(0.24, 0.34)\n",
    "#3b)\n",
    "new_purchasing_power_1 <- new_purchasing_power_function(100000, real_interest_rate_1, 5)\n",
    "\n",
    "### code between lines"
   ]
  },
  {
   "cell_type": "markdown",
   "metadata": {},
   "source": [
    "#### Q5 \n",
    "\n",
    "1) Create a uniformly distributed vector of 40 length from 1 to 20 named \"uni_dis\".\n",
    "\n",
    "2) Create a sample vector of 40 length from 1 to 20 names \"samp_vec\"\n",
    "\n",
    "3) Create a function named \"difference\" that takes two arguments and shows the difference between the means of arguments. \n",
    "\n",
    "4) Show the difference between the means of \"samp_vec\" and \"uni_dis\" with using \"difference\" function."
   ]
  },
  {
   "cell_type": "code",
   "execution_count": 4,
   "metadata": {
    "collapsed": true
   },
   "outputs": [],
   "source": [
    "### code between lines\n",
    "\n",
    "set.seed(123)\n",
    "# 1)\n",
    "uni_dis <- runif(40,min=1, max =20)\n",
    "\n",
    "# 2)\n",
    "samp_vec <- sample(1:20,40,replace=TRUE)\n",
    "\n",
    "# 3)\n",
    "difference <- function(x,y){\n",
    "  diff <- mean(x) - mean(y)\n",
    "  return(diff)\n",
    "}\n",
    "# 4)\n",
    "\n",
    "difference(samp_vec,uni_dis)\n",
    "\n",
    "\n",
    "### code between lines"
   ]
  },
  {
   "cell_type": "markdown",
   "metadata": {},
   "source": [
    "##### Q6\n",
    "\n",
    "\n",
    "1) Create a function named \"second_max\" which find the second maximum value of a given vector and return the result.\n",
    "\n",
    "2) Create a vector named \"notes\" which includes numbers 78, 85, 64, 91, and 46.\n",
    "\n",
    " \t\tThen create a function named \"fnc_range\" that finds the difference between the maximum and the minumum variable in the given vector.\n",
    "         Finally, return the result.\n"
   ]
  },
  {
   "cell_type": "code",
   "execution_count": 5,
   "metadata": {
    "collapsed": true
   },
   "outputs": [],
   "source": [
    "### code between lines\n",
    "#1\n",
    "second_max <- function(x){\n",
    "  return(sort(x, decreasing = T)[2])\n",
    "}\n",
    "\n",
    "\n",
    "#2\n",
    "notes <- c(78, 85, 64, 91, 46)\n",
    "\n",
    "fnc_range <- function(x){\n",
    "  max <- max(x)\n",
    "  min <- min(x)\n",
    "  return(max - min)\n",
    "}\n",
    "\n",
    "### code between lines"
   ]
  },
  {
   "cell_type": "markdown",
   "metadata": {},
   "source": [
    "#### Q7\n",
    "\n",
    "1) Put a year in a variable which name is this_year.\n",
    "\n",
    "2) Create a function(how_old) which calculates the age of a person who born in 1982 for any year.\n",
    "\n",
    "3) Then create another function in how_old function. This function should calculate how many months has this person lived. \n",
    "\n",
    "4) Put the result in a variable named total_months and at the end  print \"This person lived total_months months in her life.\""
   ]
  },
  {
   "cell_type": "code",
   "execution_count": null,
   "metadata": {
    "collapsed": true
   },
   "outputs": [],
   "source": [
    "### code between lines\n",
    "this_year <- 2018\n",
    "\n",
    "how_old <- function(x) {\n",
    "  age <- x - 1982\n",
    "  total_month <- NA\n",
    "    a <- function() {\n",
    "     total_month <-  12 * age\n",
    "     return(total_month)\n",
    "    }\n",
    "    cat(\"This person lived \", a() ,\" months in her life.\")\n",
    "} \n",
    "\n",
    "how_old(2018)\n",
    "### code between lines"
   ]
  },
  {
   "cell_type": "code",
   "execution_count": null,
   "metadata": {
    "collapsed": true
   },
   "outputs": [],
   "source": []
  },
  {
   "cell_type": "code",
   "execution_count": null,
   "metadata": {
    "collapsed": true
   },
   "outputs": [],
   "source": []
  }
 ],
 "metadata": {
  "kernelspec": {
   "display_name": "R",
   "language": "R",
   "name": "ir"
  },
  "language_info": {
   "codemirror_mode": "r",
   "file_extension": ".r",
   "mimetype": "text/x-r-source",
   "name": "R",
   "pygments_lexer": "r",
   "version": "3.4.3"
  }
 },
 "nbformat": 4,
 "nbformat_minor": 2
}
