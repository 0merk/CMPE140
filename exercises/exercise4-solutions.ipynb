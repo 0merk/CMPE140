{
 "cells": [
  {
   "cell_type": "markdown",
   "metadata": {},
   "source": [
    "# Exercise W8"
   ]
  },
  {
   "cell_type": "markdown",
   "metadata": {},
   "source": [
    "## Q1\n",
    "\n",
    "1)Create a matrix named \"mat\" with 4 row whose elements begin from 2 and they will increase two by two until 50.\n",
    "\n",
    "2)Now change the third column with 16,16,16,16.\n",
    "\n",
    "3)Now show that the sum of column 3 and 4 equals column 6."
   ]
  },
  {
   "cell_type": "code",
   "execution_count": null,
   "metadata": {},
   "outputs": [],
   "source": [
    "#1\n",
    "mat <-matrix(seq(4,50,by=2),nrow=4)\n",
    "\n",
    "#2\n",
    "mat[,3] <- c(16,16,16,16)\n",
    "\n",
    "#3\n",
    "sum(mat[,3]+mat[,4])==sum(mat[,6])"
   ]
  },
  {
   "cell_type": "markdown",
   "metadata": {},
   "source": [
    "## Q2\n",
    "\n",
    "Create a function that takes a matrix and shows the corner elements of that matrix."
   ]
  },
  {
   "cell_type": "code",
   "execution_count": null,
   "metadata": {},
   "outputs": [],
   "source": [
    "\n",
    "corner_number <- function(a) {\n",
    "  b <- list(a[1,1],a[1,ncol(a)],a[nrow(a),1],a[nrow(a),ncol(a)])\n",
    "  #We use number of columns and rows of the matrix as limits.\n",
    "  return(b)\n",
    "}"
   ]
  },
  {
   "cell_type": "markdown",
   "metadata": {},
   "source": [
    "## Q3\n",
    "\n",
    "1)Use built in letters vector to create 2x13 matrix. Do it using by column.\n",
    "\n",
    "2)Create the same matrix by using loops."
   ]
  },
  {
   "cell_type": "code",
   "execution_count": null,
   "metadata": {},
   "outputs": [],
   "source": [
    "#1\n",
    "matrix(letters, 2,13)\n",
    "\n",
    "#2\n",
    "m <- matrix(nrow = 2, ncol = 13)\n",
    "on <- 1\n",
    "for (i in 1:13) {\n",
    "  for (j in 1:2) {\n",
    "    m[j , i] <- letters[on]\n",
    "    on <- on + 1\n",
    "  }\n",
    "}\n",
    "m"
   ]
  },
  {
   "cell_type": "markdown",
   "metadata": {},
   "source": [
    "## Q4\n",
    "\n",
    "1)Create a 4 by 4 matrix, name it m, its colums should be the following vectors.\n",
    "\n",
    "a1 <- c(5,3,2,4) \n",
    "a2 <- c(6,3,2,8)\n",
    "a3 <- c(1,3,2,5)\n",
    "a4 <- c(9,2,4,1)\n",
    "\n",
    "2)Take the transpose of the matrix and assingn it to transpose_m\n",
    "\n",
    "3)Check if the determinant of m is equal the determinant of transpose_m and print appropriate quota for the result.\n"
   ]
  },
  {
   "cell_type": "code",
   "execution_count": null,
   "metadata": {},
   "outputs": [],
   "source": [
    "#1\n",
    "m <- cbind(a1, a2, a3, a4)\n",
    "\n",
    "#2\n",
    "transpose_m <- t(m)\n",
    "\n",
    "#3\n",
    "x <- det(m)\n",
    "y <- det(transpose_m)\n",
    "\n",
    "if(x == y) {\n",
    "    \n",
    "  print(\"Yes, these are equal\")\n",
    "\n",
    "} else {\n",
    "\n",
    "    print(\"No, these are not equal.\")\n",
    "\n",
    "}"
   ]
  },
  {
   "cell_type": "markdown",
   "metadata": {},
   "source": [
    "## Q5\n",
    "\n",
    "1)First create 2x2 matrix \"A\" with elements 1, 3, 7, 4 and 2x2 matrix \"B\" with elements 5, 9, 2, 8.\n",
    "\n",
    "2)Assign transpose of A and B to a new matrices named \"TA\" and \"TB\".\n",
    "\n",
    "3)Check whether AB equals BA or not.\n",
    "\n",
    "4)Then check transpose of AB equals to multiplication of TB and TA."
   ]
  },
  {
   "cell_type": "code",
   "execution_count": null,
   "metadata": {},
   "outputs": [],
   "source": [
    "#1\n",
    "A <- matrix(c(1, 3, 7, 4), nrow = 2, ncol = 2)\n",
    "B <- matrix(c(5, 9, 2, 8), nrow = 2, ncol = 2)\n",
    "\n",
    "#2\n",
    "TA <- t(A)\n",
    "TB <- t(B)\n",
    "\n",
    "#3\n",
    "A%*%B == B%*%A\n",
    "\n",
    "#4\n",
    "t(A%*%B) == TB%*%TA"
   ]
  },
  {
   "cell_type": "markdown",
   "metadata": {},
   "source": [
    "## Q6\n",
    "\n",
    "1)Create a sequence from 10 to 1000 with length 100. Call it \"key\".\n",
    "\n",
    "2)Create a 10x10 matrix ,elements from key, by rows that odd rows start from beginning and even rows start from the ending.\n",
    "Example 3x3 for numbers from 1:9. First row: 1,2,3 Second row 9,8,7 Third row 4,5,6 in the order given. Name it my_precious.\n",
    "\n",
    "#Obligation: Use rows as units to create the matrix. You can benefit from using functions."
   ]
  },
  {
   "cell_type": "code",
   "execution_count": null,
   "metadata": {},
   "outputs": [],
   "source": [
    "#1\n",
    "key <- seq(10,1000,length.out = 100)\n",
    "\n",
    "#2\n",
    "cutter <- function(x, y){\n",
    "  # See that x is the given vector, y is the wanted amount of rows.\n",
    "  l <- length(x)/y\n",
    "  # l is the length of the rows, which is equal to number of colunmns.\n",
    "  yl <- y / 2\n",
    "  # It is an ease to use.\n",
    "  sorted_x <- sort(x, decreasing = T)\n",
    "  # To implement the numbers from the highest, we can use this easily.\n",
    "  m <- matrix(1:length(x), nrow = y, ncol = l)\n",
    "  # Not identifying the matrix will give some errors, therefore should be identified by both and row numbers.\n",
    "  for (i in 1:yl) {\n",
    "    m[2*i-1, ] <- x[seq(from = l*(i-1)+1, to = l*i)]\n",
    "    # To write numbers in odd rows.\n",
    "    m[2*i, ] <- sorted_x[seq(from = l*(i-1)+1, to = l*i)]\n",
    "    # To write numbers in even rows.\n",
    "  }\n",
    "  return(m)\n",
    "}\n",
    "# See that the function does the job by using rows as elements. It can be done by other ways, but try to obey obligation.\n",
    "my_precious <- cutter(key, 10)\n",
    "my_precious"
   ]
  },
  {
   "cell_type": "markdown",
   "metadata": {},
   "source": [
    "## Q7\n",
    "\n",
    "After microeconomics midterms, the instructor has normally distributed midterm 1 and midterm 2 grade results.\n",
    "She chooses 8 students' grades and creates a matrix to find the standard normal distribution values of chosen grades.\n",
    "\n",
    "1)Create a sample with 16 elements from 10 to 100 by using set.seed(090119). Name it \"grades\".\n",
    "\n",
    "2)By using \"grades\" vector, create a matrix having 8 rows. Call it \"normal_distribution\".\n",
    "\n",
    "3)Name the columns \"mt1\" and \"mt2\", and name the rows from 1 to 8.\n",
    "\n",
    "4)Create a function which converts the elements of this matrix to standard normal distribution values, i.e z.\n",
    "\n",
    "#Use (x-mean(x))/sd(x) \n",
    "#Replace the elements of matrix with their standard normal distribution values. Assign the results to a new matrix called \"standard_normal\"\n",
    "#Hint: Use apply function.\n",
    "\n",
    "The result is supposed to be:"
   ]
  },
  {
   "cell_type": "code",
   "execution_count": null,
   "metadata": {},
   "outputs": [],
   "source": [
    "> standard_normal\n",
    "       mt1        mt2\n",
    "1  0.670575524 -0.2795750\n",
    "2  1.492181571  0.1270795\n",
    "3 -0.489338896  0.3642947\n",
    "4 -0.924306803 -1.2962113\n",
    "5 -0.537668663  0.8048371\n",
    "6 -0.006041221 -1.6012022\n",
    "7  1.105543431  0.7031734\n",
    "8 -1.310944943  1.1776037"
   ]
  },
  {
   "cell_type": "code",
   "execution_count": null,
   "metadata": {},
   "outputs": [],
   "source": [
    "#1\n",
    "set.seed(090119)\n",
    "grades <- sample(10:100,16)\n",
    "\n",
    "#2\n",
    "normal_distribution <- matrix(grades,nrow=8)\n",
    "\n",
    "#3\n",
    "colnames(normal_distribution) <-c(\"mt1\",\"mt2\")\n",
    "rownames(normal_distribution)<- 1:8\n",
    "\n",
    "#4\n",
    "convert_standard <- function(x){\n",
    "  (x-mean(x))/sd(x)\n",
    "}\n",
    "\n",
    "standard_normal <- apply(normal_distribution,2,convert_standard)\n",
    "standard_normal"
   ]
  },
  {
   "cell_type": "markdown",
   "metadata": {},
   "source": [
    "## Q8\n",
    "\n",
    "1)mat1 is a matrix consisting of 4 rows and 5 columns and contains 20 random numbers ranging from 1 to 50. \n",
    "\n",
    "2)Write a function that filters numbers above 24 and saves them in a vector. \n",
    "Function then should return the created vector."
   ]
  },
  {
   "cell_type": "code",
   "execution_count": null,
   "metadata": {},
   "outputs": [],
   "source": [
    "#1\n",
    "mat1 <- matrix(sample(1:50, 20, replace = T), nrow = 5)\n",
    "\n",
    "#2\n",
    "mat_filter <- function(x = mat1)\n",
    "{\n",
    "  vec1 <- NULL\n",
    "  \n",
    "  for(i in mat1){\n",
    "    if(i >= 25){\n",
    "      vec1 <- c(vec1, i)\n",
    "    }\n",
    "  }\n",
    "  return(vec1)\n",
    "}\n",
    "\n",
    "mat_filter()"
   ]
  },
  {
   "cell_type": "markdown",
   "metadata": {},
   "source": [
    "## Q9\n",
    "\n",
    "1)Create a matrix called grades with the given vectors and name rows by the names vector.\n",
    "\n",
    "names <- c(\"Selin\",\"Berk\",\"Ahmet\",\"Deniz\",\"Mete\")\n",
    "midterm1 <- c(70,85,90,63,87)\n",
    "midterm2 <- c(65,84,93,85,90)\n",
    "final<- c(87,83,95,78,92)\n",
    "\n",
    "\n",
    "2)Create a vector called semestergrade and calculate overall grade for each student by using the formula:\n",
    "\n",
    "0.3*midterm1+ 0.3*midterm2+ 0.4*final\n",
    "\n",
    "\n",
    "3)Create a vector called lettergrade, convert semester grades into letter grades.\n",
    "\n",
    "AA= >90, BA= 90>x>80, BB= 80>X>70...\n",
    "Add lettergrade to the grades matrix."
   ]
  },
  {
   "cell_type": "code",
   "execution_count": null,
   "metadata": {},
   "outputs": [],
   "source": [
    "#1\n",
    "names <- c(\"Selin\",\"Berk\",\"Ahmet\",\"Deniz\",\"Mete\")\n",
    "midterm1 <- c(70,85,90,63,87)\n",
    "midterm2 <- c(65,84,93,85,90)\n",
    "final<- c(87,83,95,78,92)\n",
    "grades <- cbind(midterm1,midterm2,final)\n",
    "rownames(grades) <- names\n",
    "\n",
    "#2\n",
    "semestergrade <- c()\n",
    "for(i in 1:5){\n",
    "  semestergrade <- c(semestergrade, 0.3*midterm1[i]+ 0.3*midterm2[i]+ 0.4*final[i])\n",
    "  i <- i+1\n",
    "}\n",
    "\n",
    "#3\n",
    "lettergrade <- c(NA,NA,NA,NA,NA)\n",
    "for(i in 1:5){\n",
    "  if(semestergrade[i] > 90){\n",
    "    lettergrade[i] <- \"AA\"\n",
    "  }else if(90 > semestergrade[i] && semestergrade[i]> 80){\n",
    "    lettergrade[i] <- \"BA\"\n",
    "  }else if(80 >semestergrade[i] && semestergrade[i]>70){\n",
    "    lettergrade[i] <- \"BB\"\n",
    "  }\n",
    "  i <- i+1\n",
    "}\n",
    "cbind(grades,lettergrade)"
   ]
  },
  {
   "cell_type": "markdown",
   "metadata": {},
   "source": [
    "## Q10\n",
    "\n",
    "Create a function for creating a square matrix of given size as the summation of column and row numbers.\n",
    "For example:"
   ]
  },
  {
   "cell_type": "code",
   "execution_count": null,
   "metadata": {},
   "outputs": [],
   "source": [
    ">summation_matrix(3)\n",
    "\n",
    "     [,1] [,2] [,3]\n",
    "[1,]    2    3    4\n",
    "[2,]    3    4    5\n",
    "[3,]    4    5    6"
   ]
  },
  {
   "cell_type": "code",
   "execution_count": null,
   "metadata": {},
   "outputs": [],
   "source": [
    "summation_matrix <- function(x){\n",
    "  my_matrix <- matrix(data=NA, nrow=x,ncol=x)\n",
    "  for(i in 1:x){\n",
    "    for(m in 1:x){\n",
    "      my_matrix[i,m] <- i+m\n",
    "    }\n",
    "  }\n",
    "  return(my_matrix)\n",
    "}"
   ]
  }
 ],
 "metadata": {
  "kernelspec": {
   "display_name": "R",
   "language": "R",
   "name": "ir"
  },
  "language_info": {
   "codemirror_mode": "r",
   "file_extension": ".r",
   "mimetype": "text/x-r-source",
   "name": "R",
   "pygments_lexer": "r",
   "version": "3.5.1"
  }
 },
 "nbformat": 4,
 "nbformat_minor": 2
}
