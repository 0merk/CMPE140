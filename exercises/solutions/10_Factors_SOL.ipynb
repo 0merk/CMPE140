{
 "cells": [
  {
   "cell_type": "code",
   "execution_count": null,
   "metadata": {},
   "outputs": [],
   "source": [
    "options(jupyter.rich_display = F)"
   ]
  },
  {
   "cell_type": "markdown",
   "metadata": {
    "tags": [
     "2019-2020-2",
     "easy",
     "salih",
     "factors"
    ]
   },
   "source": [
    "# 1 SUMMER SCHOOL IN FINLAND\n"
   ]
  },
  {
   "cell_type": "markdown",
   "metadata": {},
   "source": [
    "## 1.1 QUESTION"
   ]
  },
  {
   "cell_type": "markdown",
   "metadata": {},
   "source": [
    "A university in Finland accepts 30 foreign students for its summer school. Copy the lines below to create two vectors which hold the student id of the accepted students from 200 applicants and their countries respectively.\n",
    "\n",
    "```r\n",
    "RNGversion(\"3.3.1\") \n",
    "set.seed(5)\n",
    "countries <- sample(c(\"Italy\",\"France\",\"Germany\",\"Turkey\",\"Norway\",\"Netherlands\",\"Sweden\"),30,replace = T)\n",
    "student_id <- sample(100:200,30,replace = F)\n",
    "```\n",
    "1. Create a data frame named **accepted** which holds **student_id** and **countries**. As such :\n",
    "\n",
    "```r\n",
    " > accepted\n",
    "   Student.ID   Countries\n",
    "1         144      France\n",
    "2         105      Norway\n",
    "3         127      Sweden\n",
    "4         103      France\n",
    "5         101       Italy\n",
    "6         146      Norway\n",
    "7         156      Turkey\n",
    "8         194 Netherlands\n",
    "9         136      Sweden\n",
    "10        192       Italy\n",
    "11        174      France\n",
    "12        121      Turkey\n",
    "13        173     Germany\n",
    "14        195      Turkey\n",
    "15        180      France\n",
    "16        147      France\n",
    "17        164     Germany\n",
    "18        199      Sweden\n",
    "19        165      Turkey\n",
    "20        151 Netherlands\n",
    "21        131      Sweden\n",
    "22        145 Netherlands\n",
    "23        172      France\n",
    "24        176      France\n",
    "25        171       Italy\n",
    "26        128      Turkey\n",
    "27        119      Turkey\n",
    "28        190      Sweden\n",
    "29        114       Italy\n",
    "30        109      Sweden\n",
    "```\n",
    "\n",
    "2. Create a function named **fnc** with one argument **dta** which has **accepted** as its default value. The function should return a list which has **dta** as its first component and a vector which shows the number of students from each country as its second component(Use `levels()`). As such :\n",
    "\n",
    "```r\n",
    "> fnc(dta = accepted)\n",
    "[[1]]\n",
    "   Student.ID   Countries\n",
    "1         144      France\n",
    "2         105      Norway\n",
    "3         127      Sweden\n",
    "4         103      France\n",
    "5         101       Italy\n",
    "6         146      Norway\n",
    "7         156      Turkey\n",
    "8         194 Netherlands\n",
    "9         136      Sweden\n",
    "10        192       Italy\n",
    "11        174      France\n",
    "12        121      Turkey\n",
    "13        173     Germany\n",
    "14        195      Turkey\n",
    "15        180      France\n",
    "16        147      France\n",
    "17        164     Germany\n",
    "18        199      Sweden\n",
    "19        165      Turkey\n",
    "20        151 Netherlands\n",
    "21        131      Sweden\n",
    "22        145 Netherlands\n",
    "23        172      France\n",
    "24        176      France\n",
    "25        171       Italy\n",
    "26        128      Turkey\n",
    "27        119      Turkey\n",
    "28        190      Sweden\n",
    "29        114       Italy\n",
    "30        109      Sweden\n",
    "\n",
    "[[2]]\n",
    "     France     Germany       Italy Netherlands      Norway      Sweden      Turkey \n",
    "          7           2           4           3           2           6           6 \n",
    "\n",
    "```"
   ]
  },
  {
   "cell_type": "markdown",
   "metadata": {},
   "source": [
    "## 1.2 SOLUTION"
   ]
  },
  {
   "cell_type": "code",
   "execution_count": null,
   "metadata": {},
   "outputs": [],
   "source": [
    "RNGversion(\"3.3.1\") \n",
    "set.seed(5)\n",
    "countries <- sample(c(\"Italy\",\"France\",\"Germany\",\"Turkey\",\"Norway\",\"Netherlands\",\"Sweden\"), 30, replace = T)\n",
    "student_id <- sample(100:200, 30, replace = F)\n",
    "\n",
    "#1\n",
    "accepted <- data.frame(\"Student ID\" = student_id, \"Countries\" = countries) #Creating the data frame.\n",
    "accepted\n",
    "\n",
    "#2\n",
    "fnc <- function(dta)\n",
    "{\n",
    "  country_names <- levels(dta$Countries) #Storing the levels in country_names\n",
    "  numbers <- c()\n",
    "  for(i in 1: length(country_names)) #Creating a vector which holds number of students from each country\n",
    "  {\n",
    "    nmbr <- length(dta$Countries[dta$Countries == country_names[i]])\n",
    "    numbers <- c(numbers,nmbr)\n",
    "  }\n",
    "  names(numbers) <- country_names\n",
    "  return(list(dta,numbers))\n",
    "}\n",
    "fnc(dta = accepted)\n"
   ]
  },
  {
   "cell_type": "markdown",
   "metadata": {
    "tags": [
     "2019-2020-2",
     "easy",
     "Koralp",
     "factors"
    ]
   },
   "source": [
    "# 2 STUDENTS' ENGLISH LEVELS"
   ]
  },
  {
   "cell_type": "markdown",
   "metadata": {},
   "source": [
    "## 2.1 QUESTION"
   ]
  },
  {
   "cell_type": "markdown",
   "metadata": {},
   "source": [
    "Students whose student numbers are ranged from 501 to 520 are devided into four sections according to their English levels. Suppose these levels (sections) are distributed to the students randomly (via `sample()` function.\n",
    "\n",
    "1. First create a vector called **students_id** which involves numbers from 501 to 520.\n",
    "\n",
    "\n",
    "2. Create a function called **eng_levels** which takes one argument called **vec**, a vector.\n",
    "\n",
    "\n",
    "3. This function distributes sections randomly to students from the vector which includes characters Section 1, Section 2, Section 3 and Section 4. \n",
    "\n",
    "\n",
    "4. After transforming this vector into a factor called **fac**, it is realized that it would be more informative to write the level equivalents of the sections. From Section 1 to Section 4, the equivalents goes like this: beginner, intermediate, upper-intermediate and advanced.\n",
    "\n",
    "\n",
    "5. Finally the function returns a data frame which includes the vector from the **vec** argument and the factor you created.\n",
    "\n",
    "\n",
    "6. Use `RNGversion(\"3.3.1\")` and `set.seed(23)` and see the result:\n",
    "\n",
    "```r\n",
    "    > eng_levels(vec = students_id)\n",
    "       vec                fac\n",
    "    1  501 upper-intermediate\n",
    "    2  502           beginner\n",
    "    3  503       intermediate\n",
    "    4  504 upper-intermediate\n",
    "    5  505           advanced\n",
    "    6  506       intermediate\n",
    "    7  507           advanced\n",
    "    8  508           advanced\n",
    "    9  509           advanced\n",
    "    10 510           advanced\n",
    "    11 511           advanced\n",
    "    12 512 upper-intermediate\n",
    "    13 513       intermediate\n",
    "    14 514       intermediate\n",
    "    15 515           advanced\n",
    "    16 516           beginner\n",
    "    17 517 upper-intermediate\n",
    "    18 518 upper-intermediate\n",
    "    19 519           advanced\n",
    "    20 520 upper-intermediate\n",
    "```"
   ]
  },
  {
   "cell_type": "markdown",
   "metadata": {},
   "source": [
    "## 2.2 SOLUTION"
   ]
  },
  {
   "cell_type": "code",
   "execution_count": null,
   "metadata": {},
   "outputs": [],
   "source": [
    "#1\n",
    "students_id <- 501:520\n",
    "\n",
    "#2 to #6\n",
    "RNGversion(\"3.3.1\")\n",
    "set.seed(23)\n",
    "\n",
    "eng_levels <- function(vec)\n",
    "{\n",
    "  vec_x <- sample(c(\"Section 1\", \"Section 2\", \"Section 3\", \"Section 4\"), 20, replace = T)\n",
    "  fac <- factor(vec_x)\n",
    "  levels(fac) <- c(\"beginner\", \"intermediate\", \"upper-intermediate\", \"advanced\") \n",
    "  data_x <- data.frame(vec, fac)\n",
    "  return(data_x)\n",
    "}\n",
    "\n",
    "eng_levels(vec = students_id)"
   ]
  },
  {
   "cell_type": "markdown",
   "metadata": {
    "tags": [
     "2019-2020-2",
     "easy",
     "duygu",
     "factors_levels"
    ]
   },
   "source": [
    "# 3 WEEKLY EXERCISE"
   ]
  },
  {
   "cell_type": "markdown",
   "metadata": {},
   "source": [
    "## 3.1 QUESTION"
   ]
  },
  {
   "cell_type": "markdown",
   "metadata": {},
   "source": [
    "1) Create a factor **ex_fac** using the following information about the intensities of the daily exercise done by an individual in a week. \n",
    "\n",
    "| days      | intensity |\n",
    "|-----------|-----------|\n",
    "| monday    | intense   |\n",
    "| tuesday   | light     |\n",
    "| wednesday | none      |\n",
    "| thursday  | intense   |\n",
    "| friday    | light     |\n",
    "| saturday  | none      |\n",
    "| sunday    | none      |\n",
    "\n",
    "2) Create a function **weekly_ex** which takes a factor argument **f** that contains the intensity of the daily exercises that a person does in a week. Your function should find the days of the week that the individual works out (so the intensity must be \"intense\" or \"light\") and submit those days in a list's first element which has **\"well_done\"** as a name. Then it should find the days that the individual does not work out (so the intensity must be \"none\") and submit those in the list's second element that has **\"shame\"** as a name. Lastly, your function should replace the \"none\"s in the factor **f** with \"light\"s and submit the new factor in the last element of the list which has a name of **\"next_week\"** (remember doing the necessary arrangement in the levels of the factor). \n",
    "\n",
    "3) Try your function with **ex_fac**. Output must be as such:\n",
    "```r\n",
    "> weekly_ex(ex_fac)\n",
    "$well_done\n",
    "[1] \"monday\"   \"tuesday\"  \"thursday\" \"friday\"  \n",
    "\n",
    "$shame\n",
    "[1] \"wednesday\" \"saturday\"  \"sunday\"   \n",
    "\n",
    "$next_week\n",
    "[1] intense light   light   intense light   light   light  \n",
    "Levels: light intense\n",
    "\n",
    "```"
   ]
  },
  {
   "cell_type": "markdown",
   "metadata": {},
   "source": [
    "## 3.2 SOLUTION"
   ]
  },
  {
   "cell_type": "code",
   "execution_count": null,
   "metadata": {},
   "outputs": [],
   "source": [
    "#1\n",
    "ex_fac <- factor(c(\"intense\", \"light\", \"none\", \"intense\", \"light\", \"none\", \"none\"))\n",
    "\n",
    "#2\n",
    "weekly_ex <- function(f)\n",
    "{\n",
    "  week <- c(\"monday\", \"tuesday\", \"wednesday\", \"thursday\", \"friday\", \"saturday\", \"sunday\")\n",
    "  well_done <- week[f != \"none\"]\n",
    "  shame <- week[f == \"none\"]\n",
    "  f[f == \"none\"] <- \"light\"\n",
    "  f <- droplevels(f)\n",
    "  thelist <- list(well_done = well_done, shame = shame, next_week = f)\n",
    "  return(thelist)\n",
    "}\n",
    "\n",
    "#3\n",
    "weekly_ex(ex_fac)"
   ]
  },
  {
   "cell_type": "markdown",
   "metadata": {
    "tags": [
     "2019-2020-2",
     "easy",
     "tugrul",
     "factors",
     "factors_categories_and_levels"
    ]
   },
   "source": [
    "# 4 WIRED IN"
   ]
  },
  {
   "cell_type": "markdown",
   "metadata": {},
   "source": [
    "## 4.1 QUESTION "
   ]
  },
  {
   "cell_type": "markdown",
   "metadata": {},
   "source": [
    "Edsger is leading a research team of five data analysts and he wants to evaluate their performance. He tracks their speed, evaluate each analyst as \"slow\", \"medium\" or \"fast\". Behold his team:\n",
    "\n",
    "\n",
    "\n",
    "|    | Data Analyst  | Speed|\n",
    "|----|---------------|-----|\n",
    "| 1  | Brian         | medium|\n",
    "| 2  | Dennis        | slow  | \n",
    "| 3  | Larry          | slow  | \n",
    "| 4  | Sergey        | medium|\n",
    "| 5  | Alan         | fast  | \n",
    "\n",
    "\n",
    "\n",
    "\n",
    "1. Assign **speed_vector** a vector with 5 speed entries and assign **analysts** a vector consisted of names of data analysts.\n",
    "\n",
    "\n",
    "2. From speed_vector, create an ordered factor **speed_factor**. Set ordered to TRUE, and set levels to **slow**, **medium**, and **fast**. Show the levels and a summary of **speed_factor**\n",
    "\n",
    "```r\n",
    "> levels(speed_factor)\n",
    "[1] \"slow\"   \"medium\" \"fast\"  \n",
    "> summary(speed_factor)\n",
    "  slow medium   fast \n",
    "     2      2      1 \n",
    "```\n",
    "\n",
    "3. Check if the Alan is slower than Sergey, Larry is slower than Brian, and Sergey is faster than Dennis.\n",
    "\n",
    "```r\n",
    "> analysts[5] < analysts[4]\n",
    "[1] FALSE\n",
    "> analysts[3] < analysts[1]\n",
    "[1] TRUE\n",
    "> analysts[4] < analysts[2]\n",
    "[1] FALSE\n",
    "```\n"
   ]
  },
  {
   "cell_type": "markdown",
   "metadata": {},
   "source": [
    "## 4.2 SOLUTION"
   ]
  },
  {
   "cell_type": "code",
   "execution_count": null,
   "metadata": {},
   "outputs": [],
   "source": [
    "#1\n",
    "speed_vector <- c(\"medium\", \"slow\", \"slow\", \"medium\", \"fast\")\n",
    "analysts <- c(\"Brian\", \"Dennis\", \"Larry\", \"Sergey\", \"Alan\")\n",
    "\n",
    "\n",
    "#2\n",
    "speed_factor <- factor(speed_vector, ordered = TRUE, levels = c(\"slow\", \"medium\", \"fast\"))\n",
    "levels(speed_factor)\n",
    "summary(speed_factor)\n",
    "\n",
    "analysts <- speed_factor\n",
    "\n",
    "#3\n",
    "analysts[5] < analysts[4]\n",
    "analysts[3] < analysts[1]\n",
    "analysts[4] < analysts[2]"
   ]
  },
  {
   "cell_type": "markdown",
   "metadata": {
    "tags": [
     "2019-2020-2",
     "easy",
     "selin",
     "factors"
    ]
   },
   "source": [
    "# 5 TREES"
   ]
  },
  {
   "cell_type": "markdown",
   "metadata": {},
   "source": [
    "## 5.1 QUESTION"
   ]
  },
  {
   "cell_type": "markdown",
   "metadata": {},
   "source": [
    "The built in **trees** data set in r gives us a data frame of trees Girth, Height and Volume. We want to eliminate the heights *75* and *80* from the heights column since they are irrelevant for our research. Finally we want to drop *75* and *80* from the levels as well.\n",
    "\n",
    "1. Filter the heights data from the data frame **trees**, turn it into a factor and name it **th**.\n",
    "\n",
    "\n",
    "2. Filter the heights 75 and 80 and reassign them as *NA*.\n",
    "\n",
    "\n",
    "3. Drop 75 and 80 from the levels of **th** to update **th**.\n",
    "\n",
    "\n",
    "4. Reveal **th** to see:\n",
    "```r\n",
    "[1] 70   65   63   72   81   83   66   <NA> <NA> <NA> 79   76   76   69   <NA> 74   85   86   71   64   78  \n",
    "[22] <NA> 74   72   77   81   82   <NA> <NA> <NA> 87  \n",
    "Levels: 63 64 65 66 69 70 71 72 74 76 77 78 79 81 82 83 85 86 87\n",
    "```\n"
   ]
  },
  {
   "cell_type": "markdown",
   "metadata": {},
   "source": [
    "## 5.2 SOLUTION"
   ]
  },
  {
   "cell_type": "code",
   "execution_count": null,
   "metadata": {},
   "outputs": [],
   "source": [
    "#1\n",
    "th <- factor(trees$Height)\n",
    "\n",
    "#2\n",
    "th[th == 75] <- NA\n",
    "th[th == 80] <- NA\n",
    "\n",
    "#3\n",
    "th <- droplevels(th)\n",
    "\n",
    "#4\n",
    "th"
   ]
  },
  {
   "cell_type": "markdown",
   "metadata": {
    "tags": [
     "2019-2020-2",
     "omer_demirtas",
     "factor",
     "levels",
     "easy"
    ]
   },
   "source": [
    "# 6 TWO IN ONE"
   ]
  },
  {
   "cell_type": "markdown",
   "metadata": {},
   "source": [
    "## 6.1 QUESTION"
   ]
  },
  {
   "cell_type": "markdown",
   "metadata": {},
   "source": [
    "Getting information about a factor's levels with `nlevels()` and `levels()` is quite easy but using two functions every time can be frustrating, so you decide to create a function that returns a sentence about given factor's levels.\n",
    "\n",
    "1. Create a function named **faclevels** with one argument: **fac**, a factor.\n",
    "2. **faclevels** should return a sentence containing the information about **fac** from both `nlevels()` and `levels()` as such:\n",
    "\n",
    "```r\n",
    "> exm_l <- factor(c(\"a\", \"b\", \"c\"))\n",
    "> faclevels(fac = exm_l)\n",
    "'This factor has 3 levels: a b c'\n",
    "```\n",
    "\n",
    "**Hint:** You can use `paste(..., collapse = \" \")` to concentrate strings with space between them."
   ]
  },
  {
   "cell_type": "markdown",
   "metadata": {},
   "source": [
    "## 6.2 SOLUTION"
   ]
  },
  {
   "cell_type": "code",
   "execution_count": null,
   "metadata": {},
   "outputs": [],
   "source": [
    "exm_l <- factor(c(\"a\", \"b\", \"c\"))\n",
    "\n",
    "faclevels <- function(fac)\n",
    "{\n",
    "    paste(c(\"This factor has\", as.character(nlevels(fac)),\n",
    "            \"levels:\", as.character(levels(fac))), collapse = \" \")\n",
    "}\n",
    "\n",
    "faclevels(exm_l)"
   ]
  },
  {
   "cell_type": "markdown",
   "metadata": {
    "tags": [
     "2019-2020-2",
     "meryem",
     "factors",
     "ordinal_factors",
     "easy"
    ]
   },
   "source": [
    "# 7 AGE CATEGORIES"
   ]
  },
  {
   "cell_type": "markdown",
   "metadata": {},
   "source": [
    "## 7.1 QUESTION"
   ]
  },
  {
   "cell_type": "markdown",
   "metadata": {},
   "source": [
    "1. First write down `RNGversion(\"3.3.1\")` and set seed to 2020.\n",
    "\n",
    "\n",
    "2. Copy the **brks** and **lbls** vectors below and create a sample vector **ages**. The **ages** vector should consists of 50 sample ages between 0 and 100, with replacement. \n",
    "\n",
    "```r\n",
    "brks <- c(0, 15, 25, 65, Inf)\n",
    "lbls <- c(\"Children\", \"Youts\", \"Adults\", \"Seniors\")\n",
    "```\n",
    "\n",
    "   **ages** vector should be as such:\n",
    "\n",
    "```r\n",
    "> ages\n",
    " [1] 65 39 62 48 13  6 13 39  0 62 77 75 83 42 41 54 97 66 55 26 19  7 82 95 89 16 35 75\n",
    "[29] 45 56 97  7 96 95  0 37  1 94 52 22 99 22 87 89 63 57 47 70 80 16\n",
    "```\n",
    "\n",
    "\n",
    "3. Convert the **ages** into a factor by binning the age categories with ordered labels, and assign as **catg** as such:\n",
    "\n",
    "```r\n",
    "> catg\n",
    " [1] Seniors  Adults   Adults   Adults   Children Children Children Adults   Children Adults  \n",
    "[11] Seniors  Seniors  Seniors  Adults   Adults   Adults   Seniors  Seniors  Adults   Adults  \n",
    "[21] Youths   Children Seniors  Seniors  Seniors  Youths   Adults   Seniors  Adults   Adults  \n",
    "[31] Seniors  Children Seniors  Seniors  Children Adults   Children Seniors  Adults   Youths  \n",
    "[41] Seniors  Youths   Seniors  Seniors  Adults   Adults   Adults   Seniors  Seniors  Youths  \n",
    "Levels: Children < Youths < Adults < Seniors\n",
    "```\n",
    "\n",
    "\n",
    "4. Try some comparisons to see that: In an ordinal data, ordered factors can make correct  comparisons adjusted by the subject.\n",
    "\n",
    "```r\n",
    "> lbls[3] > lbls[1]\n",
    "[1] FALSE\n",
    "> catg[2] > catg[5]\n",
    "[1] TRUE\n",
    "```\n"
   ]
  },
  {
   "cell_type": "markdown",
   "metadata": {},
   "source": [
    "## 7.2 SOLUTION"
   ]
  },
  {
   "cell_type": "code",
   "execution_count": null,
   "metadata": {},
   "outputs": [],
   "source": [
    "#1\n",
    "RNGversion(\"3.3.1\")\n",
    "set.seed(2020)\n",
    "\n",
    "#2\n",
    "brks <- c(0, 15, 25, 65, Inf)\n",
    "lbls <- c(\"Children\", \"Youts\", \"Adults\", \"Seniors\")\n",
    "ages <- sample(0:100, 50, replace = T)\n",
    "\n",
    "#3\n",
    "catg <- cut(ages, breaks = brks, right = F, labels = lbls, order = T)\n",
    "\n",
    "#4\n",
    "lbls[3] > lbls[1]\n",
    "catg[2] > catg[5]"
   ]
  },
  {
   "cell_type": "markdown",
   "metadata": {
    "tags": [
     "2019-2020-2",
     "ceren",
     "factors",
     "indexing_and_subsetting",
     "easy"
    ]
   },
   "source": [
    "# 8 WHICH DOSTOEVSKY BOOK?"
   ]
  },
  {
   "cell_type": "markdown",
   "metadata": {},
   "source": [
    "## 8.1 QUESTION"
   ]
  },
  {
   "cell_type": "markdown",
   "metadata": {},
   "source": [
    "We asked Boğaziçi University students which Dostoevsky book they like most and their departments. Here is the result:\n",
    "\n",
    "|Name|Department|Book|\n",
    "|:--:|:--:|:---:|\n",
    "|Büşra|CHEM|Crime and Punishment|\n",
    "|Hazal|TRM|Notes from Underground|\n",
    "|Şahin|IE|Crime and Punishment|\n",
    "|Kerem|EE|Notes from Underground|\n",
    "|İzel|MIS|The Gambler|\n",
    "|Berk|EE|The Idiot|\n",
    "|Mert|ECON|The Brothers Karamazov|\n",
    "|Bilge|PHIL|The Brothers Karamazov|\n",
    "|Deniz|HIST|The Idiot|\n",
    "\n",
    "\n",
    "\n",
    "1. Create three vectors with the above columns, **name**, **dept**, and **book**.\n",
    "\n",
    "\n",
    "2. Convert these categories into a factor named **dept_fac** and **book_fac**.\n",
    "\n",
    "\n",
    "3. Using **book_fac**, show how many people like _Crime and Punishment_ most.\n",
    "\n",
    "\n",
    "4. Show which department's student likes _The Gambler_ most.\n",
    "\n",
    "```r\n",
    "[1] MIS\n",
    "Levels: CHEM ECON EE HIST IE MIS PHIL TRM\n",
    "```"
   ]
  },
  {
   "cell_type": "markdown",
   "metadata": {},
   "source": [
    "## 8.2 SOLUTION"
   ]
  },
  {
   "cell_type": "code",
   "execution_count": null,
   "metadata": {},
   "outputs": [],
   "source": [
    "#1\n",
    "names <- c(\"Büsra\",\"Hazal\",\"Sahin\",\"Kerem\",\"Izel\",\"Berk\",\"Mert\",\"Bilge\", \"Deniz\")\n",
    "dept <- c(\"CHEM\",\"TRM\",\"IE\",\"EE\",\"MIS\",\"EE\",\"ECON\",\"PHIL\", \"HIST\")\n",
    "book <- c(\"Crime and Punishment\", \"Notes from Underground\", \"Crime and Punishment\", \"Notes from Underground\", \"The Gambler\", \"The Idiot\", \"The Brothers Karamazov\", \"The Brothers Karamazov\", \"The Idiot\")\n",
    "\n",
    "#2\n",
    "dept_fac <- factor(dept)\n",
    "book_fac <- factor(book)\n",
    "\n",
    "dept_fac\n",
    "book_fac\n",
    "\n",
    "#3\n",
    "length(book_fac[(book_fac == \"Crime and Punishment\")])\n",
    "\n",
    "#4\n",
    "dept_fac[which(book_fac == \"The Gambler\")]"
   ]
  },
  {
   "cell_type": "markdown",
   "metadata": {
    "tags": [
     "2019-2020-2",
     "medium",
     "oyku",
     "factors",
     "removing_categories"
    ]
   },
   "source": [
    "# 9 EVERYBODY USES ZOOM"
   ]
  },
  {
   "cell_type": "markdown",
   "metadata": {},
   "source": [
    "## 9.1 QUESTION"
   ]
  },
  {
   "cell_type": "markdown",
   "metadata": {},
   "source": [
    "Zoom would like to know the demographic of the people using their application for their studies in Turkey. They select the 8 following random people.\n",
    "\n",
    "|Name|Age|Purpose|\n",
    "|:--:|:--:|:---:|\n",
    "|Cemal|55|Entertainment|\n",
    "|Derya|34|Class|\n",
    "|Hande|19|Class|\n",
    "|Mehmet|17|Entertainment|\n",
    "|Mine|27|Work|\n",
    "|Furkan|10|Class|\n",
    "|Helen|13|Class|\n",
    "|Fatma|63|Work|\n",
    "\n",
    "\n",
    "\n",
    "1. Vectorize the data in this table with the names **Name**, **Age**, and **Purpose**.\n",
    "\n",
    "\n",
    "2. Convert the **Age** vector into a factor and name it **Age_Factor**.\n",
    "\n",
    "\n",
    "3. Convert the **Purpose** vector into a factor and name it **Purpose_Factor**.\n",
    "\n",
    "\n",
    "4. Zoom wants to combine the students and workers using this app into a single category in order to compare people who are using Zoom professionally or for entertainment. Combine them under the name *Professionally*.\n",
    "\n",
    "\n",
    "5. Create a data frame using the factors you have created in the previous steps and name it **zoom**. Your data frame should look like this.\n",
    "\n",
    "```r\n",
    "> zoom\n",
    "    Name Age        Purpose\n",
    "1  Cemal  55  Entertainment\n",
    "2  Derya  34 Professionally\n",
    "3  Hande  19 Professionally\n",
    "4 Mehmet  17  Entertainment\n",
    "5   Mine  27 Professionally\n",
    "6 Furkan  10 Professionally\n",
    "7  Helen  13 Professionally\n",
    "8  Fatma  63 Professionally\n",
    "```\n",
    "\n",
    "\n",
    "6. Use the `summary()` function to show Zoom the general overview of the users."
   ]
  },
  {
   "cell_type": "markdown",
   "metadata": {},
   "source": [
    "## 9.2 SOLUTION"
   ]
  },
  {
   "cell_type": "code",
   "execution_count": null,
   "metadata": {},
   "outputs": [],
   "source": [
    "#1\n",
    "Name <- c(\"Cemal\", \"Derya\", \"Hande\", \"Mehmet\", \"Mine\", \"Furkan\", \"Helen\", \"Fatma\")\n",
    "Age <- c(55, 34, 19, 17, 27, 10, 13, 63)\n",
    "Purpose <- c(\"Entertainment\", \"Class\", \"Class\",\"Entertainment\", \"Work\", \"Class\", \"Class\", \"Work\")\n",
    "\n",
    "#2\n",
    "Age_Factor <- factor(Age)\n",
    "Age_Factor\n",
    "\n",
    "#3\n",
    "Purpose_Factor <- factor(Purpose)\n",
    "Purpose_Factor\n",
    "\n",
    "#4\n",
    "levels(Purpose_Factor) <- c(levels(Purpose_Factor), \"Professionally\")\n",
    "Purpose_Factor[Purpose_Factor == \"Work\"] <- c(\"Professionally\")\n",
    "Purpose_Factor[Purpose_Factor == \"Class\"] <- c(\"Professionally\")\n",
    "droplevels(Purpose_Factor)\n",
    "Purpose_Factor\n",
    "\n",
    "#5\n",
    "zoom <- data.frame(Name, Age = Age_Factor, Purpose = Purpose_Factor)\n",
    "zoom\n",
    "\n",
    "#6 \n",
    "summary(zoom)"
   ]
  },
  {
   "cell_type": "markdown",
   "metadata": {
    "tags": [
     "2019-2020-2",
     "medium",
     "oyku",
     "factors",
     "indexing_and_subsetting"
    ]
   },
   "source": [
    "# 10 DIFFERENT MUSIC TASTES\n"
   ]
  },
  {
   "cell_type": "markdown",
   "metadata": {},
   "source": [
    "## 10.1 QUESTION"
   ]
  },
  {
   "cell_type": "markdown",
   "metadata": {},
   "source": [
    "Here is a table of 10 random Spotify users, their ages, and the type of music they listen to.\n",
    "\n",
    "|Name|Age|Type of Music They Listen To|\n",
    "|:--:|:--:|:---:|\n",
    "|Cemre|57|Rock|\n",
    "|Deniz|32|Indie|\n",
    "|Haluk|39|Rap|\n",
    "|Murat|19|Pop|\n",
    "|Seyhan|23|Rap|\n",
    "|Furkan|20|Rock|\n",
    "|Hande|28|Classical|\n",
    "|Feride|69|Rock|\n",
    "|Ada|18|Rap|\n",
    "|Simla|23|Classical|\n",
    "\n",
    "\n",
    "1. Vectorize this information with the vector names of **name**, **age**, and **music**.\n",
    "\n",
    "\n",
    "2. Factorize this information and name your factors **age_fac** and **music_fac**.\n",
    "\n",
    "\n",
    "3. Observe the ages of the people who listen to rap music. \n",
    "\n",
    "\n",
    "4.\tObserve the ages of the people who listen to rock music.\n",
    "\n",
    "\n",
    "Hint: For steps 3 and 4, use subsetting and the `which()` function.\n"
   ]
  },
  {
   "cell_type": "markdown",
   "metadata": {},
   "source": [
    "## 10.2 SOLUTION"
   ]
  },
  {
   "cell_type": "code",
   "execution_count": null,
   "metadata": {},
   "outputs": [],
   "source": [
    "#1\n",
    "name <- c(\"Cemre\", \"Deniz\", \"Haluk\", \"Murat\", \"Seyhan\", \"Furkan\", \"Hande\", \"Feride\", \"Ada\", \"Simla\")\n",
    "age <- c(57, 32, 39, 19, 23, 20, 28, 69, 18, 23)\n",
    "music <- c(\"Rock\", \"Indie\", \"Rap\", \"Pop\", \"Rap\", \"Rock\", \"Classical\", \"Rock\", \"Rap\", \"Classical\")\n",
    "\n",
    "#2\n",
    "age_fac <- factor(age)\n",
    "music_fac <- factor(music)\n",
    "age_fac\n",
    "music_fac\n",
    "\n",
    "#3\n",
    "age_fac[which(music_fac == \"Rap\")]\n",
    "\n",
    "#4\n",
    "age_fac[which(music_fac == \"Rock\")]"
   ]
  },
  {
   "cell_type": "markdown",
   "metadata": {
    "tags": [
     "2019-2020-2",
     "medium",
     "oyku",
     "factors",
     "combining_2_factor_objects"
    ]
   },
   "source": [
    "# 11 CHILDREN IN HOUSEHOLDS\n"
   ]
  },
  {
   "cell_type": "markdown",
   "metadata": {},
   "source": [
    "## 11.1 QUESTION"
   ]
  },
  {
   "cell_type": "markdown",
   "metadata": {},
   "source": [
    "A pollster named is going door to door to observe how many children below the age of 18 are living in a household. He visits 20 houses on the first day and 15 houses on the second day.\n",
    "\n",
    "1. Copy and paste the data he gathers onto your solution and factorize them with the names **day1_fac** and **day2_fac**.\n",
    "\n",
    "```r\n",
    "day1 <- c(2, 0, 3, 2, 1, 0, 5, 0, 0, 3, 5, 2, 1, 4, 2, 0, 1, 3, 2, 1)\n",
    "day2 <- c(1, 4, 2, 3, 5, 2, 1, 0, 1, 5, 3, 1, 0, 3, 2)\n",
    "```\n",
    "\n",
    "\n",
    "2. The pollster wants to combine this data. They first combine the vectors named **day1** and **day2** into another vector named **results**.\n",
    "\n",
    "\n",
    "3. The pollster now combines **day1_fac** and **day2_fac** and names that factor **results_fac**.\n",
    "\n",
    "\n",
    "4. The pollster wants to observe their data. Use the `summary()` function.\n",
    "\n",
    "```r\n",
    "> summary(results_fac)\n",
    "0 1 2 3 4 5 \n",
    "7 8 8 6 2 4 \n",
    "```"
   ]
  },
  {
   "cell_type": "markdown",
   "metadata": {},
   "source": [
    "## 11.2 SOLUTION"
   ]
  },
  {
   "cell_type": "code",
   "execution_count": null,
   "metadata": {},
   "outputs": [],
   "source": [
    "#1\n",
    "day1 <- c(2, 0, 3, 2, 1, 0, 5, 0, 0, 3, 5, 2, 1, 4, 2, 0, 1, 3, 2, 1)\n",
    "day2 <- c(1, 4, 2, 3, 5, 2, 1, 0, 1, 5, 3, 1, 0, 3, 2)\n",
    "day1\n",
    "day2\n",
    "day1_fac <- factor(day1)\n",
    "day2_fac <- factor(day2)\n",
    "day1_fac\n",
    "day2_fac\n",
    "\n",
    "\n",
    "#2\n",
    "results <- c(day1, day2)\n",
    "results\n",
    "\n",
    "#3\n",
    "results_fac <- factor(levels(day1_fac)[c(day1_fac, day2_fac)], levels = levels(day1_fac))\n",
    "results_fac\n",
    "\n",
    "#4\n",
    "summary(results_fac)"
   ]
  },
  {
   "cell_type": "markdown",
   "metadata": {
    "tags": [
     "2019-2020-2",
     "medium",
     "Koralp",
     "factors"
    ]
   },
   "source": [
    "# 12 SONGS FROM DECADES"
   ]
  },
  {
   "cell_type": "markdown",
   "metadata": {},
   "source": [
    "## 12.1 QUESTION"
   ]
  },
  {
   "cell_type": "markdown",
   "metadata": {},
   "source": [
    "First copy the vectors below first of which includes song names from various decades, and the second one includes the decades these songs belong to:\n",
    "\n",
    "```r\n",
    "songs <- c(\"Gimme Shelter\", \"My Generation\", \"Perfect Day\", \n",
    "           \"White Rabbit\", \"Heroes\", \"Sledgehammer\", \"Loser\",\n",
    "           \"Light My Fire\", \"Purple Rain\", \"Jeremy\")\n",
    "\n",
    "release_decade <- c(\"60s\", \"60s\", \"70s\", \"60s\", \"70s\", \"80s\",\n",
    "                    \"90s\", \"60s\", \"80s\", \"90s\")\n",
    "```\n",
    "\n",
    "1. Create a function called **songs_decades** which takes three arguments: **vec1**, **vec2**, **vec_x**; all of which are vectors. **vec1** corresponds to **songs** vector, **vec2** corresponds to **release_decade** vector and **vec_x** corresponds to a single element vector.\n",
    "\n",
    "\n",
    "2. This function transforms the **release_decade** vector into a factor called **fac** in an ordered form (set ordered == T). \n",
    "\n",
    "\n",
    "3. Then, suppose that we want to incorporate a song called \"Peggy Sue\" which is from the 50s into the **songs** vector by using the **vec_x** argument.\n",
    "\n",
    "\n",
    "4. Modify the factor you created by adding the 50s level.\n",
    "\n",
    "\n",
    "5. The function returns a list which includes:\n",
    "\n",
    "\n",
    "- a data frame which includes the **songs** vector and factor you created\n",
    "\n",
    "\n",
    "- a vector which includes the songs from the latest decade like this:\n",
    "\n",
    "\n",
    "```r\n",
    "    > songs_decades(vec_1 = songs, vec2 = release_decade, vec_x = \"Peggy Sue\")\n",
    "    [[1]]\n",
    "                vec1 fac\n",
    "    1  Gimme Shelter 60s\n",
    "    2  My Generation 60s\n",
    "    3    Perfect Day 70s\n",
    "    4   White Rabbit 60s\n",
    "    5         Heroes 70s\n",
    "    6   Sledgehammer 80s\n",
    "    7          Loser 90s\n",
    "    8  Light My Fire 60s\n",
    "    9    Purple Rain 80s\n",
    "    10        Jeremy 90s\n",
    "    11     Peggy Sue 50s\n",
    "\n",
    "    [[2]]\n",
    "    [1] \"Loser\"  \"Jeremy\"\n",
    "```\n"
   ]
  },
  {
   "cell_type": "markdown",
   "metadata": {},
   "source": [
    "## 12.2 SOLUTION"
   ]
  },
  {
   "cell_type": "code",
   "execution_count": null,
   "metadata": {},
   "outputs": [],
   "source": [
    "songs <- c(\"Gimme Shelter\", \"My Generation\", \"Perfect Day\", \n",
    "           \"White Rabbit\", \"Heroes\", \"Sledgehammer\", \"Loser\",\n",
    "           \"Light My Fire\", \"Purple Rain\", \"Jeremy\")\n",
    "\n",
    "release_decade <- c(\"60s\", \"60s\", \"70s\", \"60s\", \"70s\", \"80s\",\n",
    "                    \"90s\", \"60s\", \"80s\", \"90s\")\n",
    "\n",
    "#1 to #5\n",
    "songs_decades <- function(vec1, vec2, vec_x)\n",
    "{\n",
    "  fac <- factor(vec2, levels = c(\"50s\", \"60s\", \"70s\", \"80s\", \"90s\"), ordered = T)\n",
    "  fac[length(fac) + 1] <- \"50s\"\n",
    "  vec1[length(vec1) + 1] <- vec_x\n",
    "  data_x <- data.frame(vec1, fac)\n",
    "  latest <- vec1[which(fac == max(fac))]\n",
    "  list_final <- list(data_x, latest)\n",
    "  return(list_final)\n",
    "}\n",
    "\n",
    "songs_decades(songs, release_decade, vec_x = \"Peggy Sue\")"
   ]
  },
  {
   "cell_type": "markdown",
   "metadata": {
    "tags": [
     "2019-2020-2",
     "medium",
     "duygu",
     "factors",
     "binning"
    ]
   },
   "source": [
    "# 13 LIVABLE STATES OF USA\n"
   ]
  },
  {
   "cell_type": "markdown",
   "metadata": {},
   "source": [
    "## 13.1 QUESTION"
   ]
  },
  {
   "cell_type": "markdown",
   "metadata": {},
   "source": [
    "There is a built in data frame **USArrests** in R which contains statistics, in arrests per 100,000 residents for assault, murder, and rape in each of the 50 US states in 1973. Also given is the percent of the population living in urban areas.\n",
    "\n",
    "1) By using **head()** function view the data set. \n",
    "\n",
    "2) Create a factor **risks** by categorising the murder rates as such:\n",
    "- rates below 5 as **\"low risk\"**,\n",
    "- rates above (and including) 5 and below 10 as **medium risk\"**,\n",
    "- rates above (and including) 10 as **high risk**\n",
    "\n",
    "3) Create another data frame **lowrisk** with the information about the states with a low risk of murder (by filtering **USArrests**).\n",
    "\n",
    "4) Create a factor **urbanized** by categorising the percent of population living in urban areas in your new data frame as such:\n",
    "- percents below (and including) 50 as **mostly rural**,\n",
    "- percents above 50 as **mostly urban**\n",
    "\n",
    "5) Create one last data frame **livable** with the information about the states with a high percent of urbanization (by filtering **lowrisk** this time).\n",
    "\n",
    "```r\n",
    "> livable\n",
    "              Murder Assault UrbanPop Rape\n",
    "Connecticut      3.3     110       77 11.1\n",
    "Idaho            2.6     120       54 14.2\n",
    "Iowa             2.2      56       57 11.3\n",
    "Maine            2.1      83       51  7.8\n",
    "Massachusetts    4.4     149       85 16.3\n",
    "Minnesota        2.7      72       66 14.9\n",
    "Nebraska         4.3     102       62 16.5\n",
    "New Hampshire    2.1      57       56  9.5\n",
    "Oregon           4.9     159       67 29.3\n",
    "Rhode Island     3.4     174       87  8.3\n",
    "Utah             3.2     120       80 22.9\n",
    "Washington       4.0     145       73 26.2\n",
    "Wisconsin        2.6      53       66 10.8\n",
    "```\n"
   ]
  },
  {
   "cell_type": "markdown",
   "metadata": {},
   "source": [
    "## 13.2 SOLUTION"
   ]
  },
  {
   "cell_type": "code",
   "execution_count": null,
   "metadata": {},
   "outputs": [],
   "source": [
    "#1\n",
    "head(USArrests)\n",
    "\n",
    "#2\n",
    "risks <- cut(USArrests$Murder, breaks = c(0,5,10,20), labels = c(\"low risk\", \"medium risk\", \"high risk\"), right = F)\n",
    "\n",
    "#3\n",
    "lowrisk <- USArrests[risks == \"low risk\",]\n",
    "\n",
    "#4\n",
    "urbanized <- cut(lowrisk$UrbanPop, breaks = c(0,50,100), labels = c(\"mostly rural\", \"mostly urban\"), right = T)\n",
    "\n",
    "#5\n",
    "livable <- lowrisk[urbanized == \"mostly urban\", ]\n",
    "livable"
   ]
  },
  {
   "cell_type": "markdown",
   "metadata": {
    "tags": [
     "2019-2020-2",
     "medium",
     "tugrul",
     "factors",
     "factors_and_data_frames"
    ]
   },
   "source": [
    "# 14 NO TIME TO BANKRUPT"
   ]
  },
  {
   "cell_type": "markdown",
   "metadata": {},
   "source": [
    "## 14.1 QUESTION"
   ]
  },
  {
   "cell_type": "markdown",
   "metadata": {},
   "source": [
    "Bond credit ratings are common in the the finance world as a simple measure of how \"risky\" a certain bond might be. Riskiness can be defined as the probability of default. The Standard and Poor's and Fitch credit rating agency has defined the following ratings, from least likely to default to most likely:\n",
    "\n",
    "AAA, AA, A, BBB, BB, B, CCC, CC, C, D\n",
    "\n",
    "Belfort needs to analyze the bonds of his clients given below and he has to apply some defined processes to them:\n",
    "\n",
    "| Bond Owners  | Credit Rating|\n",
    "|--------------|--------------|\n",
    "| Dan          | BB           |\n",
    "| Tom          | AAA          | \n",
    "| Joe          | AA           | \n",
    "| Brad         | CCC          |\n",
    "| Belinda      | AA           | \n",
    "| Gigi         | AAA          | \n",
    "| Rick         | B            | \n",
    "| Geralt       | BB           | \n",
    "\n",
    "\n",
    "1. Create a **bond_owners** and **credit_rating** vectors consisted of names and ratings given. \n",
    "\n",
    "2. Create a data frame called **bonds** by **bond_owners** and **credit_rating** respectively. Show its structure.\n",
    "\n",
    "3. Joe sells his bond to Mickey, and Rick to Morty as well. These bonds lose some value while exchanging and their rating lowers to BBB and CCC. Make the necessary change in the data frame and show it.\n",
    "\n",
    "```r\n",
    "> str(bonds)\n",
    "'data.frame':\t8 obs. of  2 variables:\n",
    " $ bond_owners  : Factor w/ 8 levels \"Belinda\",\"Brad\",..: 3 8 6 2 1 5 7 4\n",
    " $ credit_rating: Factor w/ 5 levels \"AA\",\"AAA\",\"B\",..: 4 2 1 5 1 2 3 4\n",
    "```\n",
    "\n",
    "4. Update **credit_rating** column with the version of **credit_rating** set ordered to True and levels as in The Standard and Poor's and Fitch credit rating agency's.\n",
    "\n",
    "5. Change the column names as they look in the table.\n",
    "\n",
    "6. Show structure and levels of **bonds** and itself again and check the result.\n",
    "\n",
    "```r\n",
    "> str(bonds)\n",
    "'data.frame':\t8 obs. of  2 variables:\n",
    " $ Bond Owners  : chr  \"Dan\" \"Tom\" \"Joe\" \"Brad\" ...\n",
    " $ Credit Rating: Ord.factor w/ 10 levels \"AAA\"<\"AA\"<\"A\"<..: 5 1 2 7 2 1 6 5\n",
    "> bonds\n",
    "  Bond Owners Credit Rating\n",
    "1         Dan            BB\n",
    "2         Tom           AAA\n",
    "3         Joe            AA\n",
    "4        Brad           CCC\n",
    "5     Belinda            AA\n",
    "6        Gigi           AAA\n",
    "7        Rick             B\n",
    "8      Geralt            BB\n",
    "```\n",
    "\n",
    "\n",
    "**Hint:** You may wanted to use `stringsAsFactors` argument in step 3."
   ]
  },
  {
   "cell_type": "markdown",
   "metadata": {},
   "source": [
    "## 14.2 SOLUTION"
   ]
  },
  {
   "cell_type": "code",
   "execution_count": null,
   "metadata": {},
   "outputs": [],
   "source": [
    "#1\n",
    "bond_owners <- c(\"Dan\", \"Tom\", \"Joe\", \"Brad\", \"Belinda\", \"Gigi\", \"Rick\", \"Geralt\")\n",
    "credit_rating <- c(\"BB\", \"AAA\", \"AA\", \"CCC\", \"AA\", \"AAA\", \"B\", \"BB\")\n",
    "\n",
    "#2\n",
    "bonds <- data.frame(bond_owners, credit_rating)\n",
    "str(bonds)\n",
    "\n",
    "#3\n",
    "bonds <- data.frame(bond_owners, credit_rating, stringsAsFactors = F)\n",
    "bonds$bond_owners[3] <- \"Mickey\"\n",
    "bonds$bond_owners[7] <- \"Morty\"\n",
    "bonds$credit_rating[3] <- \"BBB\"\n",
    "bonds$credit_rating[7] <- \"CCC\"\n",
    "\n",
    "#4\n",
    "bonds$credit_rating <- factor(credit_rating, ordered = T, levels = c(\"AAA\", \"AA\", \"A\", \"BBB\", \"BB\", \"B\", \"CCC\", \"CC\", \"C\", \"D\"\n",
    "))\n",
    "\n",
    "#5\n",
    "colnames(bonds)[1] <- \"Bond Owners\"\n",
    "colnames(bonds)[2] <- \"Credit Rating\"\n",
    "\n",
    "#6\n",
    "str(bonds)\n",
    "bonds"
   ]
  },
  {
   "cell_type": "markdown",
   "metadata": {
    "tags": [
     "2019-2020-2",
     "selin",
     "medium",
     "factors"
    ]
   },
   "source": [
    "# 15 DOES IT WORK?"
   ]
  },
  {
   "cell_type": "markdown",
   "metadata": {},
   "source": [
    "## 15.1 QUESTION"
   ]
  },
  {
   "cell_type": "markdown",
   "metadata": {},
   "source": [
    "A professor uploads lecture material online. There has been a couple complaints that the students are having trouble viewing the material. The professor decides to ask the students and collect information on the students who are unable to access the lecture material\n",
    "\n",
    "\n",
    "|Students|Answers|\n",
    "|:---:|:---:|\n",
    "|A|no|\n",
    "|B|Yes|\n",
    "|C|yes|\n",
    "|D|No|\n",
    "|E|No|\n",
    "|F|yes|\n",
    "|G|no|\n",
    "\n",
    "The professor collects the information and places it in a table like the one above. Looking at it, he sees that the students wrote yes and no in various ways (Like with lower or upper-case initial letters). This difference makes it difficult for him so he wants to set the answers to fixed examples: Yes or No (with initials as capital letters).\n",
    "Write a function that will first eliminate these differences in writing and then find the students who are having difficulty accesing the material.\n",
    "\n",
    "1. Vectorize the student and answer information. Name them **students** and **answers** respectively.\n",
    "\n",
    "\n",
    "2. Write a function named **nos** which takes two vector arguments **s** and **a** and returns the names of the students who are having trouble accesing the material.\n",
    "\n",
    "\n",
    "3. Run your function with your **students** and **answers** to get:\n",
    "```r\n",
    "[1] \"A\" \"D\" \"E\" \"G\"\n",
    "```\n",
    "\n"
   ]
  },
  {
   "cell_type": "markdown",
   "metadata": {},
   "source": [
    "## 15.2 SOLUTION"
   ]
  },
  {
   "cell_type": "code",
   "execution_count": null,
   "metadata": {},
   "outputs": [],
   "source": [
    "#1\n",
    "students <- c(\"A\", \"B\", \"C\", \"D\", \"E\", \"F\",\"G\")\n",
    "answers <- c(\"no\",\"Yes\",\"yes\",\"No\",\"No\",\"yes\",\"no\" )\n",
    "\n",
    "#2\n",
    "nos <- function(s, a){\n",
    "  ans_f <- factor(a)\n",
    "  ans_f[ans_f == \"yes\"] <- \"Yes\"\n",
    "  ans_f[ans_f == \"no\"] <- \"No\"\n",
    "  ans_f <- droplevels(ans_f)\n",
    "  return(s[ans_f == \"No\"])\n",
    "}\n",
    "\n",
    "#3\n",
    "nos(students, answers)"
   ]
  },
  {
   "cell_type": "markdown",
   "metadata": {
    "tags": [
     "2019-2020-2",
     "medium",
     "selin",
     "factors"
    ]
   },
   "source": [
    "# 16-) 100 QUESTIONS"
   ]
  },
  {
   "cell_type": "markdown",
   "metadata": {},
   "source": [
    "## 16.1 QUESTION"
   ]
  },
  {
   "cell_type": "markdown",
   "metadata": {},
   "source": [
    "Ali has to solve 100 questions for tomorrow but he does not have enough time. To review all questions he decides that it is a good idea to solve only odd numbered questions. Every question in that book has a type. The types are randomly assigned using the letters in the alphabet. Ali wants to see the type of each question that he is going to solve and the levels of the types of the questions that he will be solving. To do this:\n",
    "\n",
    "1. Set seed to 1825 and **RNGversion(\"3.3.1\")**. Sample within the built in letters object in r to get a 100 outcomes for the random assignment of types to questions. Name this sample **samp**. In the outcome of this sample, the first letter is the type of the first question. Same logic applies to the following questions.\n",
    "\n",
    "\n",
    "2. Write a function named **ques** that will take an argument **s** and filter this argument such that it takes only the odd indexed variables in it.\n",
    "\n",
    "\n",
    "3. Turn your outcome into a factor to better see all the levels of the questions types. Name it **factor_ques**.\n",
    "\n",
    "\n",
    "4. Reveal **factor_ques** to see:\n",
    "```r\n",
    "[1] c n o j m t c q k q w d m n c s d j z y a r p e c s h q s h x l b d k e h o j i o z i c p n f k a z\n",
    "Levels: a b c d e f h i j k l m n o p q r s t w x y z\n",
    "```\n",
    "\n"
   ]
  },
  {
   "cell_type": "markdown",
   "metadata": {},
   "source": [
    "## 16.2 SOLUTION"
   ]
  },
  {
   "cell_type": "code",
   "execution_count": null,
   "metadata": {},
   "outputs": [],
   "source": [
    "#1\n",
    "RNGversion(\"3.3.1\")\n",
    "set.seed(1825)\n",
    "samp <- sample(letters,size = 100, replace = T)\n",
    "\n",
    "#2\n",
    "ques <- function(s){\n",
    "  vec <- c()\n",
    "  for (k in 1:100) {\n",
    "    if (k%%2 == 1){\n",
    "    vec <- c(vec, s[k])\n",
    "    }\n",
    "  }\n",
    "  return(vec)\n",
    "}\n",
    "\n",
    "#3\n",
    "factor_ques <- factor(ques(samp))\n",
    "\n",
    "#4\n",
    "factor_ques"
   ]
  },
  {
   "cell_type": "markdown",
   "metadata": {
    "tags": [
     "2019-2020-2",
     "medium",
     "meryem",
     "factors",
     "binning",
     "cut()"
    ]
   },
   "source": [
    "# 17 GRADING"
   ]
  },
  {
   "cell_type": "markdown",
   "metadata": {},
   "source": [
    "## 17.1 QUESTION"
   ]
  },
  {
   "cell_type": "markdown",
   "metadata": {},
   "source": [
    "An instructor wants to create a grading function and test it by using a sample.\n",
    "\n",
    "\n",
    "1. First write down `RNGversion(\"3.3.1\")` and set seed to 2021.\n",
    "\n",
    "\n",
    "2. Create a sample vector **samp**. This vector consist of the weighted averages out of 100 of 10 students that take the course as such:\n",
    "\n",
    "```r\n",
    "> samp\n",
    " [1] 45 79 71 38 64 70 64 26 82 99\n",
    "```\n",
    "\n",
    "3. Copy the given vectors to RStudio:\n",
    "\n",
    "```r\n",
    "intv <- c(0, 60, 65, 70, 75, 80, 85, 90, 100)\n",
    "grades <- c(\"F\", \"DD\", \"DC\", \"CC\", \"CB\", \"BB\", \"BA\", \"AA\")\n",
    "```\n",
    "\n",
    "\n",
    "\n",
    "4. Create a function **grd** that takes 3 arguments:\n",
    "    - A vector named **vec**,\n",
    "    - A vector named **brks**, which is **intv** as default,\n",
    "    - A vector named **lbl**, which is **grades** as default.\n",
    "    \n",
    "   This function should first create a factor that binned with the catalog grading and has the grade labels accordingly. Then, by using the **vec** and the factor creates and returns a data frame that has the scores and corresponding letter grades at its columns.\n",
    "\n",
    "\n",
    "5. Try this vector with the **samp**:\n",
    "\n",
    "```r\n",
    "> grd(vec= samp, , )\n",
    "   SCORE GRADE\n",
    "1     45     F\n",
    "2     79    CB\n",
    "3     71    CC\n",
    "4     38     F\n",
    "5     64    DD\n",
    "6     70    DC\n",
    "7     64    DD\n",
    "8     26     F\n",
    "9     82    BB\n",
    "10    99    AA\n",
    "```\n",
    "\n"
   ]
  },
  {
   "cell_type": "markdown",
   "metadata": {},
   "source": [
    "## 17.2 SOLUTION"
   ]
  },
  {
   "cell_type": "code",
   "execution_count": null,
   "metadata": {},
   "outputs": [],
   "source": [
    "#1\n",
    "RNGversion(\"3.3.1\")\n",
    "set.seed(2021)\n",
    "\n",
    "#2\n",
    "samp <- sample(0:100, 10, replace= T)\n",
    "\n",
    "#3\n",
    "intv <- c(0, 60, 65, 70, 75, 80, 85, 90, 100)\n",
    "grades <- c(\"F\", \"DD\", \"DC\", \"CC\", \"CB\", \"BB\", \"BA\", \"AA\")\n",
    "\n",
    "#4\n",
    "grd <- function(vec, brks = intv, lbl = grades)\n",
    "{\n",
    "  fac <- cut(vec,\n",
    "             breaks = brks,\n",
    "             right = F,\n",
    "             include.lowest = T,\n",
    "             labels = lbl)\n",
    "  df <- data.frame(SCORE = vec, GRADE = fac)\n",
    "  return(df)\n",
    "}\n",
    "\n",
    "#5\n",
    "grd(vec= samp )"
   ]
  },
  {
   "cell_type": "markdown",
   "metadata": {
    "tags": [
     "2019-2020-2",
     "medium",
     "meryem",
     "factors",
     "plotting",
     "cut()"
    ]
   },
   "source": [
    "# 18 POULTRY FARM"
   ]
  },
  {
   "cell_type": "markdown",
   "metadata": {},
   "source": [
    "## 18.1 QUESTION"
   ]
  },
  {
   "cell_type": "markdown",
   "metadata": {},
   "source": [
    "Jenny is owner of a poultry farm with 71 chickens. She feeds her chickens with different types of feeds but she realizes that some of the them are very thin and weak whereas some are overweight. So she wants to make a stacked bar plot to see the optimum feed types.\n",
    "\n",
    "The categories of chicken weights are:\n",
    "\n",
    "|Weight(g)|Category  |\n",
    "|---      |---       |\n",
    "|100-200  |very thin |\n",
    "|200-300  |thin      |\n",
    "|300-400  |normal    |\n",
    "|400+     |overweight|\n",
    "\n",
    "1. `chickwts` is the data set defined in `RStudio` and it holds the weights of Jenny's chickens and the feeds that they are feeded. You may see the data as such:\n",
    "\n",
    "```r\n",
    "> head(chickwts)\n",
    "  weight      feed\n",
    "1    179 horsebean\n",
    "2    160 horsebean\n",
    "3    136 horsebean\n",
    "4    227 horsebean\n",
    "5    217 horsebean\n",
    "6    168 horsebean\n",
    "```\n",
    "\n",
    "2. Create a factor named **cweights** that consists the categories of the chicken according to their weights. First six of them should be as such:\n",
    "\n",
    "```r\n",
    "> head(cweights)\n",
    "[1] very thin very thin very thin thin      thin      very thin\n",
    "Levels: very thin thin normal overweight\n",
    "```\n",
    "\n",
    "3. Draw a plot with the feed types in x-axis, weight categories in the y-axis. X-axis should be labeled as \"Feeds\" and y-axis should be labeled as \"Chickens\". For the colors use the color vector **cols**:\n",
    "\n",
    "```r\n",
    "cols <- c(\"azure1\", \"lightblue\", \"azure3\", \"azure4\")\n",
    "```\n",
    "\n",
    "    Your Plot should be as such:\n",
    "![RPlot.png](attachment:RPlot.png)"
   ]
  },
  {
   "cell_type": "markdown",
   "metadata": {},
   "source": [
    "## 18.2 SOLUTION"
   ]
  },
  {
   "cell_type": "code",
   "execution_count": null,
   "metadata": {},
   "outputs": [],
   "source": [
    "#1\n",
    "head(chickwts)\n",
    "\n",
    "#2\n",
    "cweights <- cut(chickwts$weight,\n",
    "                breaks = c(100, 200, 300, 400, Inf),\n",
    "                include.lowest = T,\n",
    "                labels = c(\"very thin\", \"thin\", \"normal\", \"overweight\"))\n",
    "\n",
    "#3\n",
    "cols <- c(\"azure1\", \"lightblue\", \"azure3\", \"azure4\")\n",
    "\n",
    "plot(x= chickwts$feed,\n",
    "     y = cweights,\n",
    "     xlab = \"Feeds\",\n",
    "     ylab = \"Chickens\",\n",
    "     col= cols)"
   ]
  },
  {
   "cell_type": "markdown",
   "metadata": {
    "tags": [
     "2019-2020-2",
     "medium",
     "ceren",
     "factors",
     "combining_2_factor_objects"
    ]
   },
   "source": [
    "# 19 T-SHIRT SIZES"
   ]
  },
  {
   "cell_type": "markdown",
   "metadata": {},
   "source": [
    "## 19.1 QUESTION"
   ]
  },
  {
   "cell_type": "markdown",
   "metadata": {},
   "source": [
    "Office of University Promotion at Bogazici University facilitates a traditional _Tanıtım Günleri_ every year in July for candidate students. In this organization, candidate students are given a Bogazici t-shirt as present. The office ordered new t-shirts to present, with sizes S, XS, M and L. \n",
    "\n",
    "1. Create a vector called **tee** which contains S, XS, M and L.\n",
    "\n",
    "\n",
    "2. Create a vector called **sizes** which contains all the sizes from XXS to XXL. \n",
    "\n",
    "\n",
    "3. Factorize this **tee** vector with levels from **sizes**, name this vector as **tee_fac**.\n",
    "\n",
    "\n",
    "4. Note that it is realized that there is also a demand for sizes XXS and XL. So, create a new factor called **tee2** which contains XXS and XL. \n",
    "\n",
    "\n",
    "5. Write a function called **combine** which takes three arguments **f1**, **f2**, and **ordered** set to `TRUE` as default. This function should combine factors **tee_fac** and **tee2**. \n",
    "\n",
    "```r\n",
    "> combine(tee_fac, tee2)\n",
    "[1] S   XS  M   L   XXS XL \n",
    "Levels: XXS < XS < S < M < L < XL < XXL\n",
    "```\n"
   ]
  },
  {
   "cell_type": "markdown",
   "metadata": {},
   "source": [
    "## 19.2 SOLUTION"
   ]
  },
  {
   "cell_type": "code",
   "execution_count": null,
   "metadata": {},
   "outputs": [],
   "source": [
    "#1\n",
    "tee <- c(\"S\",\"XS\",\"M\",\"L\")\n",
    "\n",
    "#2\n",
    "sizes <- c(\"XXS\",\"XS\",\"S\",\"M\",\"L\",\n",
    "            \"XL\",\"XXL\")\n",
    "\n",
    "#3\n",
    "tee_fac <- factor(tee, levels=sizes, ordered=TRUE)\n",
    "tee_fac\n",
    "\n",
    "#4\n",
    "tee2 <- factor(c(\"XXS\",\"XL\"), levels=sizes, ordered=TRUE)\n",
    "tee2\n",
    "\n",
    "#5\n",
    "combine <- function(f1, f2, ordered=TRUE) {\n",
    "  stopifnot(identical(levels(f1), levels(f2)))\n",
    "  return(factor(levels(f1)[c(f1,f2)], levels=levels(f1), ordered=ordered))\n",
    "}\n",
    "\n",
    "combine(tee_fac, tee2)"
   ]
  },
  {
   "cell_type": "markdown",
   "metadata": {
    "tags": [
     "2019-2020-2",
     "medium",
     "ceren",
     "factors",
     "factors_and_data_frames"
    ]
   },
   "source": [
    "# 20 COVID-19 DEATHS DATAFRAME"
   ]
  },
  {
   "cell_type": "markdown",
   "metadata": {},
   "source": [
    "## 20.1 QUESTION"
   ]
  },
  {
   "cell_type": "markdown",
   "metadata": {},
   "source": [
    "We randomly selected eight people who died from coronavirus and looked at some of their attributions. Copy and paste the below vectors to R Studio:\n",
    "\n",
    "```r\n",
    "names <- c(\"Nermin\", \"Turgut\", \"Selim\", \"Günseli\", \"Süleyman\", \"Metin\", \"Mürüvvet\", \"Kenan\")\n",
    "genders <- c(\"Female\", \"Male\", \"Male\", \"Female\", \"Male\", \"Male\", \"Female\", \"Male\")\n",
    "smoking <- c(\"No\", \"Yes\", \"Yes\", \"Yes\", \"No\", \"Yes\", \"No\", \"Yes\")\n",
    "age_intervals <- c(\"20-40\", \"80-100\", \"40-65\", \"80-100\", \"40-65\", \"65-80\", \"65-80\", \"80-100\")\n",
    "```\n",
    "1. Factorize **genders** and **smoking** vectors and name them as **gender_fac** and **smok_fac**.\n",
    "\n",
    "\n",
    "2. Change the levels of these two factors as F and M for female and male and N and Y for No and Yes respectively.\n",
    "\n",
    "\n",
    "3. Create a vector called **intervals** which consists of all the age intervals you created earlier, arranged from the lowest interval to the biggest interval. And factorize **age_intervals** vector by using **intervals** vector as levels, name this vector as **age_fac**. \n",
    "\n",
    "```r\n",
    "> age_fac\n",
    "[1] 20-40  80-100 40-65  80-100 40-65  65-80  65-80  80-100\n",
    "Levels: 20-40 < 40-65 < 65-80 < 80-100\n",
    "```\n",
    "\n",
    "4. Create a dataframe called **deaths** which includes **names**, **gender_fac**, **age_fac**, and **smok_fac** vectors. Summarize your dataframe.\n",
    "\n",
    "\n",
    "5. Observe through the dataframe **deaths** smoking information of people from age interval 40-65, by indexing and subsetting. Do the same for observing gender information of people from age interval 80-100. The result should be:\n",
    "\n",
    "```r\n",
    "[1] Y N\n",
    "Levels: N Y\n",
    "\n",
    "[1] M F M\n",
    "Levels: F M\n",
    "```"
   ]
  },
  {
   "cell_type": "markdown",
   "metadata": {},
   "source": [
    "## 20.2 SOLUTION"
   ]
  },
  {
   "cell_type": "code",
   "execution_count": null,
   "metadata": {},
   "outputs": [],
   "source": [
    "#1\n",
    "names <- c(\"Nermin\", \"Turgut\", \"Selim\", \"Günseli\", \"Süleyman\", \"Metin\", \"Mürüvvet\", \"Kenan\")\n",
    "genders <- c(\"Female\", \"Male\", \"Male\", \"Female\", \"Male\", \"Male\", \"Female\", \"Male\")\n",
    "smoking <- c(\"No\", \"Yes\", \"Yes\", \"Yes\", \"No\", \"Yes\", \"No\", \"Yes\")\n",
    "age_intervals <- c(\"20-40\", \"80-100\", \"40-65\", \"80-100\", \"40-65\", \"65-80\", \"65-80\", \"80-100\")\n",
    "\n",
    "#2\n",
    "gender_fac <- factor(genders)\n",
    "gender_fac\n",
    "smok_fac <- factor(smoking)\n",
    "smok_fac\n",
    "\n",
    "#3\n",
    "levels(gender_fac) <- c(\"F\", \"M\")\n",
    "gender_fac\n",
    "levels(smok_fac) <- c(\"N\", \"Y\")\n",
    "smok_fac\n",
    "\n",
    "#4\n",
    "intervals <- c(\"20-40\",\"40-65\",\"65-80\",\"80-100\")\n",
    "\n",
    "age_fac <- factor(age_intervals, levels=intervals, ordered=TRUE)\n",
    "age_fac\n",
    "\n",
    "#5\n",
    "deaths <- data.frame(names, gender_fac, age_fac, smok_fac)\n",
    "deaths\n",
    "summary(deaths)\n",
    "\n",
    "#6\n",
    "deaths$smok_fac[deaths$age_fac == \"40-65\"]\n",
    "deaths$gender_fac[deaths$age_fac == \"80-100\"]"
   ]
  },
  {
   "cell_type": "markdown",
   "metadata": {
    "tags": [
     "2019-2020-2",
     "Koralp",
     "factors",
     "hard"
    ]
   },
   "source": [
    "# 21 THE EMPIRICAL RULE"
   ]
  },
  {
   "cell_type": "markdown",
   "metadata": {},
   "source": [
    "## 21.1 QUESTION"
   ]
  },
  {
   "cell_type": "markdown",
   "metadata": {},
   "source": [
    "In statistics there is a rule of thumb called \"empirical rule\" which states that if the data distribution is bell-shaped (approximately normal), then the interval:\n",
    "\n",
    "- μ ± 1s contains approximately 68% of the measurements.\n",
    "- μ ± 2s contains approximately 95% of the measurements.\n",
    "\n",
    "(μ is mean and s is standard deviation)\n",
    "\n",
    "1. To test the accurateness of the rule, create a function called **emp_rule** which takes three arguments: **x**, **y** and **z**. **x** is number of observations, **y** is mean and **z** is standard deviation.\n",
    "\n",
    "\n",
    "2. The function does the following operations:\n",
    "\n",
    "\n",
    "- First it creates a vector which includes normally distributed elements according to the **x**, **y**, **z** arguments.\n",
    "\n",
    "\n",
    "- Then it divides the data into 6 categories. The data is cut from the two points: μ ± 1s and μ ± 2s. You can use the `cut()` function (incorporate the minimum and maximum values of the data into **breaks** argument to create 6 categories. \n",
    "\n",
    "\n",
    "- The function returns the rates of how much data is included in each category (for example how much of the data is between μ + 1s and so on).\n",
    "\n",
    "\n",
    "3. Use `RNGversion(\"3.3.1\")` and `set.seed(3)` and see the result:\n",
    "\n",
    "```r\n",
    "    > emp_rule(x = 30, y = 2, z = 3)\n",
    "    [1] 0.03333333 0.13333333 0.43333333 0.23333333 0.16666667 0.00000000\n",
    "```\n",
    "\n",
    "**Hint**: Use `table()` and `as.vector()` functions. "
   ]
  },
  {
   "cell_type": "markdown",
   "metadata": {},
   "source": [
    "## 21.2 SOLUTION"
   ]
  },
  {
   "cell_type": "code",
   "execution_count": null,
   "metadata": {},
   "outputs": [],
   "source": [
    "#1 and #2\n",
    "RNGversion(\"3.3.1\")\n",
    "set.seed(3)\n",
    "\n",
    "emp_rule <- function(x, y, z)\n",
    "{\n",
    "  vec <- rnorm(x, y, z)\n",
    "  vec_fac <- cut(vec, breaks = c(min(vec), y - 2*z, y - z, y, y + z, y + 2*z, max(vec)))\n",
    "  vec_table <- table(vec_fac)\n",
    "  vec_new <- as.vector(vec_table)\n",
    "  vec_final <- c()\n",
    "  for(i in vec_new)\n",
    "  {\n",
    "    vec_final <- c(vec_final, (i / sum(vec_new)))\n",
    "  }\n",
    "  return(vec_final)\n",
    "}\n",
    "\n",
    "emp_rule(x = 30, y = 2, z = 3)"
   ]
  },
  {
   "cell_type": "markdown",
   "metadata": {
    "tags": [
     "2019-2020-2",
     "duygu",
     "factors_binning",
     "hard"
    ]
   },
   "source": [
    "# 22 SONG CONTEST"
   ]
  },
  {
   "cell_type": "markdown",
   "metadata": {},
   "source": [
    "## 22.1 QUESTION"
   ]
  },
  {
   "cell_type": "markdown",
   "metadata": {},
   "source": [
    "In a song contest, the contestans are required to be between the ages 15 and 60. The ones under 18 are categorised as \"juniors\" and the others as \"adults\". They also need to inform the jury about the genre of the song they choose. The information about the six of the applicants are given below:\n",
    "\n",
    "| Name    | Age  | Genre |\n",
    "|---------|------|-------|\n",
    "| Peter   | 18   | Rap   |\n",
    "| Allison | 40   | Pop   |\n",
    "| Carrie  | 17   | Jazz  |\n",
    "| Rose    | 65   | Pop   |\n",
    "| Ted     | 14   | Punk  |\n",
    "| Amy     | 16   | Metal |  \n",
    "\n",
    "1) Create three vectors **cons_names**, **cons_ages** and **genre** with the information above.\n",
    "\n",
    "2) Create a function **accepted** which will take three vector arguments **name**, **age** and **genre**. First it should categorise the applicants according to their ages as such; the ones below 15 and above 60 as **\"rejected\"**, the ones above (including) 15 and below 18 are as **\"juniors\"**, and the others as **\"adults\"**. Then it should return the names of the accepted applications, the genres in which they choose to sing and the age categories of them in a data frame as such:\n",
    "```r\n",
    "> accepted(cons_names, cons_ages, genres)\n",
    "    Names Genres Categories\n",
    "1   Peter    rap     adults\n",
    "2 Allison    pop     adults\n",
    "3  Carrie   jazz    juniors\n",
    "4     Amy  metal    juniors\n",
    "  \n",
    "```\n"
   ]
  },
  {
   "cell_type": "markdown",
   "metadata": {},
   "source": [
    "## 22.2 SOLUTION"
   ]
  },
  {
   "cell_type": "code",
   "execution_count": null,
   "metadata": {},
   "outputs": [],
   "source": [
    "#1\n",
    "cons_names <- c(\"Peter\", \"Allison\", \"Carrie\", \"Rose\", \"Ted\", \"Amy\")\n",
    "cons_ages <- c(18,40,17,65,14,16)\n",
    "genres <- c(\"rap\", \"pop\",\"jazz\",\"pop\",\"punk\",\"metal\")\n",
    "\n",
    "#2\n",
    "accepted <- function(name, age, genre)\n",
    "{\n",
    "  cons_fac <- cut(age, breaks = c(0, 15, 18, 60, 65), labels = c(\"rejected\",\"juniors\", \"adults\",\"rejected\") \n",
    "                  ,right = F, include.lowest = T)\n",
    "  acc_genres <- genre[cons_fac != \"rejected\"]\n",
    "  acc_names <- name[cons_fac != \"rejected\"]\n",
    "  acc_df <- data.frame(Names= acc_names, Genres= acc_genres, Categories= cons_fac[cons_fac != \"rejected\"])\n",
    "  return(acc_df)\n",
    "}\n",
    "accepted(cons_names, cons_ages, genres)"
   ]
  },
  {
   "cell_type": "markdown",
   "metadata": {
    "tags": [
     "2019-2020-2",
     "tugrul",
     "factors",
     "removing_categories",
     "hard"
    ]
   },
   "source": [
    "# 23 CORONATION"
   ]
  },
  {
   "cell_type": "markdown",
   "metadata": {},
   "source": [
    "## 23.1 QUESTION"
   ]
  },
  {
   "cell_type": "markdown",
   "metadata": {},
   "source": [
    "Zhang works in the US Department of Health & Human Services (HHS) as an statistician. After Covid-19 outbreak became pandemic, it is revealed that mortality rates caused by lower respiratory in the mortality data of US for this year must be updated as its cause is coronavirus, and regions having rates updated newly must be shared with people. Our guy Zhang is put in charge for this challenging task.\n",
    "\n",
    "\n",
    "\n",
    "1. Use `install.packages(\"lattice\")` and `library(lattice)` respectively in your RStudio and call `USRegionalMortality` to reach the data consists of the mortality rates according to cause, sex, status and region.\n",
    "\n",
    "\n",
    "2. Create a function named **coronation** taking one argument **dt** determined **USRegionalMortality** as default. This function will undertake these following operations:\n",
    "     - Updating cases in data caused by **\"Lower respiratory\"** as **\"Covid-19\"**\n",
    "     - Dropping levels taken out in **Cause** column\n",
    "     - Find the mortality rate of a person because of Covid-19 region by region (Notice that each region has 4 different combinations of features) and making them a vector\n",
    "     - Naming the vector as their original names\n",
    "     - To return the regions which have the highest three mortality rates due to virus as the rates rounded to the nearest hundredth\n",
    " \n",
    "\n",
    "3. Call your function **coronation** and check if the regions affected most are right.\n",
    "\n",
    "\n",
    "```r\n",
    "> coronation()\n",
    "HHS Region 07 HHS Region 04 HHS Region 06 \n",
    "         0.53          0.53          0.51\n",
    "```"
   ]
  },
  {
   "cell_type": "markdown",
   "metadata": {},
   "source": [
    "## 23.2 SOLUTION"
   ]
  },
  {
   "cell_type": "code",
   "execution_count": null,
   "metadata": {},
   "outputs": [],
   "source": [
    "#1\n",
    "install.packages(\"lattice\")\n",
    "library(lattice)\n",
    "USRegionalMortality\n",
    "\n",
    "\n",
    "#2\n",
    "coronation <- function(dt = USRegionalMortality)\n",
    "{\n",
    "  dt$Cause <- as.character(dt$Cause) #To change only one column, you must first un-factorize the string.\n",
    "    \n",
    "  dt$Cause[(dt$Cause) == \"Lower respiratory\"] <- \"Covid-19\"\n",
    "    \n",
    "  dt$Cause <- as.factor(dt$Cause) #To be able to apply level dropping below, your column has to be back a factor.\n",
    "    \n",
    "  droplevels(dt$Cause)\n",
    "    \n",
    "  virus_rates <- NULL\n",
    "  \n",
    "  for (i in 1:length(levels(dt$Region))){\n",
    "    \n",
    "    x <- sum(dt[dt$Cause == \"Covid-19\", \"Rate\"][(4 * i - 3): (4 * i)]) / (100 * 4) \n",
    "    \n",
    "    virus_rates <- c(virus_rates, x)\n",
    "  \n",
    "  }\n",
    "  \n",
    "  names(virus_rates) <- levels(dt$Region)\n",
    "  \n",
    "  regions <- round(sort(virus_rates, decreasing = T)[1:3], digits = 2)\n",
    "\n",
    "  return(regions)\n",
    "}\n",
    "\n",
    "\n",
    "#3\n",
    "coronation()"
   ]
  },
  {
   "cell_type": "markdown",
   "metadata": {
    "tags": [
     "2019-2020-2",
     "omer_demirtas",
     "factors",
     "plot",
     "too_hard"
    ]
   },
   "source": [
    "# 24 LAZY PLOT"
   ]
  },
  {
   "cell_type": "markdown",
   "metadata": {},
   "source": [
    "## 24.1 QUESTION"
   ]
  },
  {
   "cell_type": "markdown",
   "metadata": {},
   "source": [
    "Burcu likes creating plots in R a lot, but she is too lazy to think about what kind of plot to use or to convert categorical variables to factors. She would be much happier if there was a function that does all this job for her. So you decide to create a useful function as a gift to her.\n",
    "\n",
    "1. Create a function called **lazy_plot** with 4 arguments: **x_val**, **y_val**, **x_num** and **y_num**:\n",
    "    - **x_val** and **y_val** represent the x and y values of the data to be plotted.\n",
    "    - **x_num** and **y_num** arguments take logical values indicating whether **x_val** and **y_val** should be treated as numerical or categorical variables. Their default value is True (meaning numerical).\n",
    "    \n",
    "    \n",
    "2. **lazy_plot** should ask the user to write the main title of the plot using `readline()` function.\n",
    "    - If user doesn't write anything as the main title, **lazy_plot** should make the main title's name _\"I'm too lazy to write a title\"_ \n",
    "\n",
    "\n",
    "3. **lazy_plot** should ask the user to write the x axis label of the plot using `readline()` function.\n",
    "    - If user doesn't write anything as x axis label, **lazy_plot** should make the x axis label _\"I'm too lazy to write a label for x axis\"_ \n",
    "    \n",
    "    \n",
    "4. **lazy_plot** should ask the user to write the y axis label of the plot using `readline()` function.\n",
    "    - If user doesn't write anything as y axis label, **lazy_plot** should make the y axis label _\"I'm too lazy to write a label for y axis\"_ \n",
    "    \n",
    "    \n",
    "5. Finally, **lazy_plot** should return a plot with the appropriate type:\n",
    "    - If **x_val** is categorical and **y_val** is numerical, a boxplot\n",
    "    - If **x_val** and **y_val** are both categorical, a stacked bar plot\n",
    "    - Else, a scatter plot\n",
    "    \n",
    "**Example:**\n",
    "```r\n",
    "> lazy_plot(x_val = chickwts$feed, y_val = chickwts$weight, x_num = F)\n",
    "What is the main title of this plot? \n",
    "What is the x label of this plot? fd\n",
    "What is the y label of this plot?\n",
    "```\n",
    "\n",
    "![resim.png](attachment:resim.png)"
   ]
  },
  {
   "cell_type": "markdown",
   "metadata": {},
   "source": [
    "## 24.2 SOLUTION"
   ]
  },
  {
   "cell_type": "code",
   "execution_count": null,
   "metadata": {},
   "outputs": [],
   "source": [
    "#1\n",
    "lazy_plot <- function(x_val, y_val, x_num = T, y_num = T)\n",
    "{\n",
    "    #2\n",
    "    main_t <- readline(\"What is the main title of this plot? \")\n",
    "    if (main_t == \"\") main_t <- \"I'm too lazy to write a title\"\n",
    "    \n",
    "    #3\n",
    "    x_label <- readline(\"What is the x label of this plot? \")\n",
    "    if (x_label == \"\") x_label <- \"I'm too lazy to write a label for x axis\"\n",
    "    \n",
    "    #4\n",
    "    y_label <- readline(\"What is the y label of this plot? \")\n",
    "    if (y_label == \"\") y_label <- \"I'm too lazy to write a label for y axis\"\n",
    "    \n",
    "    #5 First, categorical variables should be converted to factors\n",
    "    if(!x_num) x_val <- factor(x_val) \n",
    "    if(!y_num) y_val <- factor(y_val)\n",
    "    \n",
    "    #plot function displays the approriate plot type automatically\n",
    "    plot(x = x_val, y = y_val, main = main_t, xlab = x_label, ylab = y_label)\n",
    "}\n",
    "\n",
    "lazy_plot(x_val = chickwts$feed, y_val = chickwts$weight, x_num = F)"
   ]
  },
  {
   "cell_type": "markdown",
   "metadata": {
    "tags": [
     "2019-2020-2",
     "salih",
     "factors",
     "very_hard"
    ]
   },
   "source": [
    "# 25 PIA'S EXPERIMENT"
   ]
  },
  {
   "cell_type": "markdown",
   "metadata": {},
   "source": [
    "## 25.1 QUESTION"
   ]
  },
  {
   "cell_type": "markdown",
   "metadata": {},
   "source": [
    "Copy the lines below before solving the question:\n",
    "```r\n",
    "RNGversion(\"3.3.1\")\n",
    "set.seed(1)\n",
    "```\n",
    "\n",
    "Pia will do an experiment in chemistry lab. There are 100 liquid chemicals in 100 different glasses. We do not know the names of the chemicals and they are labeled as \"Chemical 1\",\"Chemical 2\" etc.\n",
    "\n",
    "1. In the first step of the experiment, Pia will measure the pH values of the chemicals and record them. The pH values are choosen from a uniformly distributed set between 0 and 14.(Use 1 digit after the decimal point.) Create a data frame named **chemicals** which holds the labels and the pH values of each chemical. As such :\n",
    "\n",
    "```r\n",
    "> chemicals\n",
    "             pHvalues\n",
    "Chemical 1        3.7\n",
    "Chemical 2        5.2\n",
    "Chemical 3        8.0\n",
    "Chemical 4       12.7\n",
    "Chemical 5        2.8\n",
    ".\n",
    ".\n",
    ".\n",
    "Chemical 99      11.4\n",
    "Chemical 100      8.5\n",
    "```\n",
    "   2. In the second step of the experiment Pia will decide whether the chemicals are acidic, basic or neutral. If the pH value is lower than 7, it is asidic, if it is equal to 7, it is neutral and if it is higher than 7, it is basic. Create a function named **anb** with one argument **df** (**chemicals** is the default value) which does the following :\n",
    "   \n",
    "    *  It will create a factor object named **lbls** by using the pH values and given information. Levels will be    \"*Acide*\",\"*Base*\" and \"*Neutral*\". **lbls** should be created in the function but it should be defined globally\n",
    "    .\n",
    "    * It will modify **df** by adding **lbls** as a new column.\n",
    "\n",
    " Try your function with **chemicals** and store the result in **final_df**:\n",
    " \n",
    " ```r\n",
    "> final_df\n",
    "                  pHvalues    Acid_or_Base\n",
    "Chemical 1        3.7         Acid\n",
    "Chemical 2        5.2         Acid\n",
    "Chemical 3        8.0         Base\n",
    "Chemical 4       12.7         Base\n",
    "Chemical 5        2.8         Acid\n",
    ".\n",
    ".\n",
    ".\n",
    "Chemical 99      11.4         Base\n",
    "Chemical 100      8.5         Base\n",
    "```\n",
    "\n",
    " \n",
    "  3. Plot the factor object **lbls** that you defined in the second question. Add a legend to your plot. As such : \n",
    "  \n",
    "  ![Rplot02.png](attachment:Rplot02.png)\n",
    "  \n",
    "  \n",
    "  4. If an acid and a base react, this reaction is called a neutralization. Create a function named **neutralization** with one argument **df** which has **final_df** as its default value. The function should do the following :\n",
    "     \n",
    "    * It will calculate the probabilty of occurrence of a neutralization reaction and store it to **prob**. \n",
    "    * It will randomly select two chemicals and store their names(labels) in **chm**.\n",
    "    * It will create a variable named **result**. When we mix up those two chemicals, if neutralization occurs, **result** will be \"*Neutralization*\" otwerwise it will be \"*No Reaction*\"\n",
    "    * It will return a list which has **chm**,**prob** and **result** as its components.\n",
    "    \n",
    "   As such :\n",
    "   \n",
    "```r\n",
    "\n",
    "> set.seed(1)\n",
    "> neutralization(df = final_df)\n",
    "$Chemicals\n",
    "[1] \"Chemical 27\" \"Chemical 37\"\n",
    "\n",
    "$`Probability of Neutralization`\n",
    "[1] 0.24\n",
    "\n",
    "$Result\n",
    "[1] \"Neutralization\"\n",
    "\n",
    "```\n",
    "\n",
    "```r\n",
    "\n",
    "> set.seed(10)\n",
    "> neutralization(df = final_df)\n",
    "$Chemicals\n",
    "[1] \"Chemical 51\" \"Chemical 31\"\n",
    "\n",
    "$`Probability of Neutralization`\n",
    "[1] 0.24\n",
    "\n",
    "$Result\n",
    "[1] \"No Reaction\"\n",
    "```\n",
    "    "
   ]
  },
  {
   "cell_type": "markdown",
   "metadata": {},
   "source": [
    "## 25.2 SOLUTION"
   ]
  },
  {
   "cell_type": "code",
   "execution_count": null,
   "metadata": {},
   "outputs": [],
   "source": [
    "RNGversion(\"3.3.1\")\n",
    "set.seed(1)\n",
    "\n",
    "#1\n",
    "\n",
    "names <- paste(\"Chemical\", 1:100)\n",
    "lqd <- round(runif(n = 100, max = 14, min = 0), digit = 1)\n",
    "names(lqd) <- names\n",
    "chemicals <- data.frame(\"pHvalues\" = lqd)\n",
    "chemicals\n",
    "\n",
    "#2\n",
    "\n",
    "anb <- function(df = chemicals)\n",
    "{\n",
    "  \n",
    "  lbls <<- cut(df$pHvalues,breaks = c(0,7,14), right = F, include.lowest = T, labels = c(\"Acid\",\"Base\")) #Creating the factor object by using cut().lbls is globally defined when we use double arrows.\n",
    "  levels(lbls) <<- c(levels(lbls),\"Neutral\")\n",
    "  for(i in 1:length(df$pHvalues))\n",
    "  {\n",
    "    if(df[,1][i] == 7.0)\n",
    "    { \n",
    "      lbls[i] <<- \"Neutral\"\n",
    "    }\n",
    "  }\n",
    "  df <- data.frame(df,\"Acid_or_Base\" = lbls) #Creating the data frame.\n",
    "  return(df)\n",
    "}\n",
    "final_df <- anb(df = chemicals)\n",
    "final_df\n",
    "\n",
    "#3\n",
    "\n",
    "lvls <- levels(lbls)\n",
    "lgnd <- c() #This for loop creates a vector with the numbers of acidic basic and neutral chemicals. lgnd will be used in legend of the plot.\n",
    "for(i in 1: length(lvls))\n",
    "{\n",
    "  nmbr <- length(lbls[lbls == lvls[i]])\n",
    "  lgnd <- c(lgnd,nmbr)\n",
    "}\n",
    "\n",
    "\n",
    "plot(lbls) \n",
    "legend(\"topright\", legend = c(paste(\"Acid\",lgnd[1]),paste(\"Base\",lgnd[2]),paste(\"Neutral\",lgnd[3]))) #Creating the legend.\n",
    "\n",
    "\n",
    "\n",
    "#4\n",
    "\n",
    "neutralization <- function(df)\n",
    "{\n",
    "  nmbrs <- levels(factor(df$Acid_or_Base))\n",
    "  probs <- c()\n",
    "  for(i in 1: length(nmbrs)) #This for loop does the same jop as the for loo we used in the third question.\n",
    "  {\n",
    "    nmbr <- length(nmbrs[df$Acid_or_Base == nmbrs[i]])\n",
    "    probs <- c(probs,nmbr)\n",
    "  }\n",
    "  \n",
    "  prob <- round(probs[1]*probs[2] / 10000, digit = 2) #calculating the probability of neutralization. number of acids/100 times number of bases/100\n",
    "  \n",
    "  chm <- sample(rownames(final_df),2,replace = F) #choosing two chemicals randomly\n",
    "  \n",
    "  if(df[chm[1],][2] == \"Acid\" && df[chm[2],][2] == \"Base\" | df[chm[2],][2] == \"Acid\" && df[chm[1],][2] == \"Base\") result <- \"Neutralization \"\n",
    "  else result <- \"No Reaction\" #If one of the chemicals is acidic andthe other one is basic,neutralization occurs.Else, no reaction. \n",
    "  \n",
    "  rslt <- list(\"Chemicals\" = chm,\"Probability of Neutralization\" = prob,\"Result\" = result) #Creating the resulting list.\n",
    "  return(rslt)\n",
    "  \n",
    "  \n",
    " }\n",
    " \n",
    "\n",
    "set.seed(1)\n",
    "neutralization(final_df)\n",
    "set.seed(10)\n",
    "neutralization(final_df)\n",
    " "
   ]
  }
 ],
 "metadata": {
  "celltoolbar": "Tags",
  "kernelspec": {
   "display_name": "R",
   "language": "R",
   "name": "ir"
  },
  "language_info": {
   "codemirror_mode": "r",
   "file_extension": ".r",
   "mimetype": "text/x-r-source",
   "name": "R",
   "pygments_lexer": "r",
   "version": "3.6.1"
  },
  "toc": {
   "base_numbering": 1,
   "nav_menu": {},
   "number_sections": true,
   "sideBar": true,
   "skip_h1_title": false,
   "title_cell": "Table of Contents",
   "title_sidebar": "Contents",
   "toc_cell": false,
   "toc_position": {},
   "toc_section_display": true,
   "toc_window_display": true
  },
  "varInspector": {
   "cols": {
    "lenName": 16,
    "lenType": 16,
    "lenVar": 40
   },
   "kernels_config": {
    "python": {
     "delete_cmd_postfix": "",
     "delete_cmd_prefix": "del ",
     "library": "var_list.py",
     "varRefreshCmd": "print(var_dic_list())"
    },
    "r": {
     "delete_cmd_postfix": ") ",
     "delete_cmd_prefix": "rm(",
     "library": "var_list.r",
     "varRefreshCmd": "cat(var_dic_list()) "
    }
   },
   "types_to_exclude": [
    "module",
    "function",
    "builtin_function_or_method",
    "instance",
    "_Feature"
   ],
   "window_display": false
  }
 },
 "nbformat": 4,
 "nbformat_minor": 2
}
