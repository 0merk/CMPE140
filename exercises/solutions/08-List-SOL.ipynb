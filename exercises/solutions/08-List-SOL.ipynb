{
 "cells": [
  {
   "cell_type": "code",
   "execution_count": null,
   "metadata": {},
   "outputs": [],
   "source": [
    "options(jupyter.rich_display = F)"
   ]
  },
  {
   "cell_type": "markdown",
   "metadata": {
    "tags": [
     "2019-2020-2",
     "easy",
     "oyku",
     "lists",
     "creating_lists"
    ]
   },
   "source": [
    "# 1 BREAD, MUFFINS AND CAKE\n"
   ]
  },
  {
   "cell_type": "markdown",
   "metadata": {},
   "source": [
    "## 1.1 QUESTION"
   ]
  },
  {
   "cell_type": "markdown",
   "metadata": {},
   "source": [
    "The bakery would like to record their three day sales into a list. They sell bread, muffins and cake.\n",
    "\n",
    "1. Record their first day sales into a list called **Day_1**. Bread: 95, Muffin: 58, Cake: 6. This is what your first list should look like.\n",
    "\n",
    "```r\n",
    "> Day_1\n",
    "$bread\n",
    "95\n",
    "$muffin\n",
    "58\n",
    "$cake\n",
    "6\n",
    "```\n",
    "\n",
    "2. Record their second day sales into a list called **Day_2**. Bread: 192, Muffin: 32, Cake: 12\n",
    "\n",
    "\n",
    "3. Record their third day sales into a list called **Day_3**. Bread: 103, Muffin: 61, Cake: 2 \n",
    "\n",
    "\n",
    "4. Calculate their total bread, muffin and cake sales and record them into vectors called **bread_sales**, **muffin_sales** and **cake_sales**.\n",
    "\n",
    "\n",
    "5. Add their bread, muffin and cake sales into a new list called **Total_3_Day_Sales**."
   ]
  },
  {
   "cell_type": "markdown",
   "metadata": {},
   "source": [
    "## 1.2 SOLUTION"
   ]
  },
  {
   "cell_type": "code",
   "execution_count": null,
   "metadata": {},
   "outputs": [],
   "source": [
    "#1\n",
    "Day_1 <- list(bread=95, muffin=58, cake=6)\n",
    "Day_1\n",
    "\n",
    "#2\n",
    "Day_2 <- list(bread=192, muffin=32, cake=12)\n",
    "Day_2\n",
    "\n",
    "#3\n",
    "Day_3 <- list(bread=103, muffin=61, cake=2)\n",
    "Day_3\n",
    "\n",
    "#4\n",
    "bread_sales <- sum(Day_1$bread, Day_2$bread, Day_3$bread)\n",
    "bread_sales\n",
    "muffin_sales <- sum(Day_1$muffin, Day_2$muffin, Day_3$muffin)\n",
    "muffin_sales\n",
    "cake_sales <- sum(Day_1$cake, Day_2$cake, Day_3$cake)\n",
    "cake_sales\n",
    "\n",
    "#5\n",
    "Total_3_Day_Sales <- list(bread=bread_sales, muffin=muffin_sales, cake=cake_sales)\n",
    "Total_3_Day_Sales"
   ]
  },
  {
   "cell_type": "markdown",
   "metadata": {
    "tags": [
     "2019-2020-2",
     "easy",
     "lists",
     "concatenating_lists",
     "berke"
    ]
   },
   "source": [
    "# 2 TOP 5"
   ]
  },
  {
   "cell_type": "markdown",
   "metadata": {},
   "source": [
    "## 2.1 QUESTION"
   ]
  },
  {
   "cell_type": "markdown",
   "metadata": {},
   "source": [
    "In FIFA 20, top 5 gold players by overall are:\n",
    "\n",
    "| Player Names    \t| Overall \t| Position \t| Pace \t| Shooting \t| Passing \t| Dribbling \t| Defending \t| Physicality \t|\n",
    "|-----------------\t|---------\t|----------\t|------\t|----------\t|---------\t|-----------\t|-----------\t|-------------\t|\n",
    "| Messi           \t| 94      \t| RW       \t| 87   \t| 92       \t| 92      \t| 96        \t| 39        \t| 66          \t|\n",
    "| Ronaldo         \t| 93      \t| ST       \t| 90   \t| 93       \t| 82      \t| 89        \t| 35        \t| 78          \t|\n",
    "| Neymar          \t| 92      \t| LW       \t| 91   \t| 85       \t| 87      \t| 95        \t| 32        \t| 58          \t|\n",
    "| Kevin De Bruyne \t| 91      \t| CAM      \t| 76   \t| 86       \t| 92      \t| 87        \t| 61        \t| 78          \t|\n",
    "| Eden Hazard     \t| 91      \t| LW       \t| 91   \t| 83       \t| 86      \t| 94        \t| 35        \t| 66          \t|\n",
    "\n",
    "1. Construct 5 lists: **messi, ronaldo, neymar, kevindebruyne, edenhazard**.\n",
    "\n",
    "\n",
    "2. Create a function named **topplayers** that can concatenate any given lists. \n",
    "\n",
    "\n",
    "3. Try this function with these 5 top players.\n",
    "\n",
    "First part of the output should look as follows:\n",
    "\n",
    "```r\n",
    "> topplayers(c(messi, ronaldo, neymar, kevindebruyne, edenhazard))\n",
    "$name\n",
    "[1] \"Lionel Messi\"\n",
    "\n",
    "$position\n",
    "[1] \"RW\"\n",
    "\n",
    "$overall\n",
    "[1] 94\n",
    "\n",
    "$pace\n",
    "[1] 87\n",
    "\n",
    "$shooting\n",
    "[1] 92\n",
    "\n",
    "$passing\n",
    "[1] 92\n",
    "\n",
    "$dribbling\n",
    "[1] 96\n",
    "\n",
    "$defending\n",
    "[1] 39\n",
    "\n",
    "$physicality\n",
    "[1] 66\n",
    "\n",
    "$name\n",
    "[1] \"Cristiano Ronaldo\"\n",
    "\n",
    "$position\n",
    "[1] \"ST\"\n",
    "\n",
    "$overall\n",
    "[1] 93\n",
    "\n",
    "$pace\n",
    "[1] 90\n",
    "\n",
    "$shooting\n",
    "[1] 93\n",
    "\n",
    "$passing\n",
    "[1] 82\n",
    "\n",
    "$dribbling\n",
    "[1] 86\n",
    "\n",
    "$defending\n",
    "[1] 35\n",
    "\n",
    "$physicality\n",
    "[1] 78\n",
    "```"
   ]
  },
  {
   "cell_type": "markdown",
   "metadata": {},
   "source": [
    "## 2.2 SOLUTION"
   ]
  },
  {
   "cell_type": "code",
   "execution_count": null,
   "metadata": {},
   "outputs": [],
   "source": [
    "#1\n",
    "messi <- list(name = \"Lionel Messi\", position = \"RW\", overall = 94, pace = 87, shooting = 92, passing = 92, dribbling = 96, defending = 39, physicality = 66)\n",
    "ronaldo <- list(name = \"Cristiano Ronaldo\", position = \"ST\", overall = 93, pace = 90, shooting = 93, passing = 82, dribbling = 86, defending = 35, physicality = 78)\n",
    "neymar <- list(name = \"Neymar\", position = \"LW\", overall = 92, pace = 91, shooting = 85, passing = 87, dribbling = 91, defending = 32, physicality = 58)\n",
    "kevindebruyne <- list(name = \"Kevin De Bruyne\", position = \"CAM\", overall = 91, pace = 76, shooting = 86, passing = 92, dribbling = 87, defending = 61, physicality = 78)\n",
    "edenhazard <- list(name = \"Kevin De Bruyne\", position = \"LW\", overall = 91, pace = 91, shooting = 83, passing = 86, dribbling = 94, defending = 35, physicality = 66)\n",
    "\n",
    "#2\n",
    "topplayers <- function(lists) {\n",
    "  top5 <- c(lists)\n",
    "  return(top5)\n",
    "}\n",
    "\n",
    "#3\n",
    "topplayers(c(messi, ronaldo, neymar, kevindebruyne, edenhazard))\n"
   ]
  },
  {
   "cell_type": "markdown",
   "metadata": {
    "tags": [
     "2019-2020-2",
     "easy",
     "berk",
     "create_lists",
     "lists"
    ]
   },
   "source": [
    "# 3 ENEMIES OF BATMAN"
   ]
  },
  {
   "cell_type": "markdown",
   "metadata": {},
   "source": [
    "## 3.1 QUESTION"
   ]
  },
  {
   "cell_type": "markdown",
   "metadata": {},
   "source": [
    "  Alfred Pennyworth, the loyal butler of Bruce Wayne, decided to list the attributes of the Batman's new archenemy, the Joker. According to Alfred, these are the attributes of the Joker:\n",
    "\n",
    "- **Alias**: \"Joker\"\n",
    "- **Name**: \"Unknown\"\n",
    "- **Weapon**: \"Knife\"\n",
    "- **Origin**: \"Comedian\"\n",
    "- **Goal**: \"Chaos\"\n",
    "\n",
    "\n",
    "1. Create a list named **arch_enemy** with attributes of the Joker. Create a vector named **attr** and assign the attributes **alias**, **name**, **weapon**, **origin**, **goal** as the elements' name in the list. \n",
    "\n",
    "```r\n",
    "    > attr\n",
    "    [1] \"Alias\"  \"Name\"   \"Weapon\" \"Origin\" \"Goal\"  \n",
    "    \n",
    "    > arch_enemy\n",
    "    $Alias\n",
    "    [1] \"Joker\"\n",
    "\n",
    "    $Name\n",
    "    [1] \"Unknown\"\n",
    "\n",
    "    $Weapon\n",
    "    [1] \"Knife\"\n",
    "\n",
    "    $Origin\n",
    "    [1] \"Comedian\"\n",
    "\n",
    "    $Goal\n",
    "    [1] \"Chaos\"  \n",
    "```\n",
    "\n",
    "2. During a fight with the Joker, Gotham's beloved district attorney Harvey Dent horribly burns his face. Then, he decides to take his revenge on Gotham's police commissioner Jim Gordon. The Batman asks Alfred to create a new list named **new_enemy** and wants to learn Dent's goal. These are the attributes of Harvey:\n",
    "\n",
    "\n",
    "- **Alias**: \"Two-Face\"\n",
    "- **Name**: \"Harvey Dent\"\n",
    "- **Weapon**: \"Revolver\"\n",
    "- **Origin**: \"District Attorney\"\n",
    "- **Goal**: \"Killing Jim Gordon and the Batman\"\n",
    "    \n",
    "    Create a variable named **dent_goal** and assign the goal of Harvey Dent using the list **new_enemy**. Use **attr** vector to name the elements of the list.\n",
    "\n",
    "```r\n",
    "    > dent_goal\n",
    "    [1] \"Killing Jim Gordon and the Batman\"\n",
    "```"
   ]
  },
  {
   "cell_type": "markdown",
   "metadata": {},
   "source": [
    "## 3.2 SOLUTION"
   ]
  },
  {
   "cell_type": "code",
   "execution_count": null,
   "metadata": {},
   "outputs": [],
   "source": [
    "# 1)Create arch_enemy list\n",
    "arch_enemy <- list(\"Joker\", \"Unknown\", \"Knife\", \"Comedian\", \"Chaos\")\n",
    "attr <- c(\"Alias\", \"Name\", \"Weapon\", \"Origin\", \"Goal\")\n",
    "names(arch_enemy) <- attr\n",
    "attr\n",
    "arch_enemy\n",
    "\n",
    "# 2)Update arch_enemy and create dent_goal\n",
    "new_enemy <- list(\"Two-Face\", \"Harvey Dent\", \"Revolver\", \"District Attorney\", \"Killing Jim Gordon and the Batman\")\n",
    "names(new_enemy) <- attr\n",
    "dent_goal <- new_enemy$Goal\n",
    "dent_goal"
   ]
  },
  {
   "cell_type": "markdown",
   "metadata": {
    "tags": [
     "2019-2020-2",
     "easy",
     "selin",
     "lists"
    ]
   },
   "source": [
    "# 4 DIARY"
   ]
  },
  {
   "cell_type": "markdown",
   "metadata": {},
   "source": [
    "## 4.1 QUESTION "
   ]
  },
  {
   "cell_type": "markdown",
   "metadata": {},
   "source": [
    "Feyza decides to keep a diary of spesific elements of what she does in a day for 3 days. The first day, she had a **toast** for breakfast, she walked for **1.3** kilometres and she had **yoghurt** and **rice** for dinner. The second day, she walked for **2.5** kilometres, she went to the **mall** and she ate a **brownie**. The third day, she rode a bike for **3** kilometres, she went **swimming** and she bought a new pair of **shoes**. \n",
    "\n",
    "1. Store these key elements of each day (which are written in **bold**) in a different list. \n",
    "\n",
    "\n",
    "2. Name the lists **day1**, **day2**, **day3**.\n",
    "\n",
    "Warning : Yoghurt and rice in the first day must be in one vector but as seperate objects."
   ]
  },
  {
   "cell_type": "markdown",
   "metadata": {},
   "source": [
    "## 4.2 SOLUTION"
   ]
  },
  {
   "cell_type": "code",
   "execution_count": null,
   "metadata": {},
   "outputs": [],
   "source": [
    "#1&2\n",
    "day1 <- list(\"toast\", 1.3, c(\"yoghurt\", \"rice\"))\n",
    "day2 <- list(2.5, \"mall\", \"brownie\")\n",
    "day3 <- list(3, \"swimming\", \"shoes\")"
   ]
  },
  {
   "cell_type": "markdown",
   "metadata": {
    "tags": [
     "2019-2020-2",
     "easy",
     "Koralp",
     "list"
    ]
   },
   "source": [
    "# 5 DYLAN, BEATLES AND BOWIE PLAYLIST"
   ]
  },
  {
   "cell_type": "markdown",
   "metadata": {},
   "source": [
    "## 5.1 QUESTION"
   ]
  },
  {
   "cell_type": "markdown",
   "metadata": {},
   "source": [
    "1. First copy these lists below.\n",
    "\n",
    "```r\n",
    "list_dylan <- list(artist = \"Bob Dylan\", album = \"Desire\", song = \"Hurricane\")\n",
    "list_beatles <- list(artist = \"The Beatles\", album = \"Help\", song = \"Yesterday\")\n",
    "list_bowie <- list(artist = \"David Bowie\", album = \"Blackstar\", song = \"Lazarus\")\n",
    "```\n",
    "\n",
    "\n",
    "2. Then, create a function called **list_playlist_func**. This function has an argument called **list_x** and returns the **song** element of the list.\n",
    "\n",
    "\n",
    "3. Apply this function to each list.\n",
    "\n",
    "\n",
    "4. Create a vector called **vec_songs** that includes each list's song element.\n",
    "\n",
    "```r\n",
    "> vec_songs\n",
    "[1] \"Hurricane\" \"Yesterday\" \"Lazarus\"  \n",
    "```\n"
   ]
  },
  {
   "cell_type": "markdown",
   "metadata": {},
   "source": [
    "## 5.2 SOLUTION"
   ]
  },
  {
   "cell_type": "code",
   "execution_count": null,
   "metadata": {},
   "outputs": [],
   "source": [
    "#1\n",
    "\n",
    "list_dylan <- list(artist = \"Bob Dylan\", album = \"Desire\", song = \"Hurricane\")\n",
    "list_beatles <- list(artist = \"The Beatles\", album = \"Help\", song = \"Yesterday\")\n",
    "list_bowie <- list(artist = \"David Bowie\", album = \"Blackstar\", song = \"Lazarus\")\n",
    "\n",
    "#2\n",
    "\n",
    "list_playlist_func <- function(list_x)\n",
    "{\n",
    "  list_x <- list_x[[\"song\"]]\n",
    "}\n",
    "\n",
    "#3 and #4\n",
    "\n",
    "vec_songs <- c(list_playlist_func(list_dylan), list_playlist_func(list_beatles),\n",
    "                                                    list_playlist_func(list_bowie))\n",
    "vec_songs"
   ]
  },
  {
   "cell_type": "markdown",
   "metadata": {
    "tags": [
     "2019-2020-2",
     "bugra",
     "creating_lists",
     "easy"
    ]
   },
   "source": [
    "# 6 WHO PASSES THE CLASS?"
   ]
  },
  {
   "cell_type": "markdown",
   "metadata": {},
   "source": [
    "## 6.1 QUESTION"
   ]
  },
  {
   "cell_type": "markdown",
   "metadata": {},
   "source": [
    "- Grades of students are given below.\n",
    "\n",
    "|Names|  Exam |Quiz  |Homework  |\n",
    "|:----|:--:|:-:|:-:|\n",
    "|Melih|  38|  52| 88| \n",
    "|Melis|  67| 21| 75| \n",
    "|Damla|    73| 64| 66| \n",
    "|Ahmet|   91| 66| 44| \n",
    "|Murat| 44| 64| 75|\n",
    "\n",
    "- Their teacher has two rules for students to pass the class. The homework grade must be over 50. Also the mean of the exam and quiz must be over 50.\n",
    "\n",
    "\n",
    "\n",
    "1. Create four vectors **name**, **exam**, **quiz**, **homework**. These vectors should consist of the data that is given above.\n",
    "\n",
    "\n",
    "\n",
    "2. Create the list **students** which consists of the four vectors you that you have just created.\n",
    "\n",
    "\n",
    "\n",
    "3. Create a function called **pass** that takes one argument; **lst**(a list). The function is supposed to use the information to determine if students passed the class or not. The function should return a *list* that consists of the information given and result of the students showing if they passed or not.\n",
    "\n",
    "```r\n",
    "> pass(students)\n",
    "$names\n",
    "[1] \"Melih\" \"Melis\" \"Damla\" \"Ahmet\" \"Murat\"\n",
    "\n",
    "$exams\n",
    "[1] 38 67 73 91 44\n",
    "\n",
    "$quiz\n",
    "[1] 52 21 64 66 64\n",
    "\n",
    "$homeworks\n",
    "[1] 88 75 66 44 75\n",
    "\n",
    "$result\n",
    "[1] \"Fail\" \"Fail\" \"Pass\" \"Fail\" \"Pass\" \n",
    "```"
   ]
  },
  {
   "cell_type": "markdown",
   "metadata": {},
   "source": [
    "## 6.2 SOLUTION"
   ]
  },
  {
   "cell_type": "code",
   "execution_count": null,
   "metadata": {},
   "outputs": [],
   "source": [
    "#1 Create the vectors\n",
    "\n",
    "name <- c(\"Melih\", \"Melis\", \"Damla\", \"Ahmet\", \"Murat\")\n",
    "exam <- c(38, 67, 73, 91, 44)\n",
    "quiz <- c(52, 21, 64, 66, 64)\n",
    "homework <- c(88, 75, 66, 44 ,75)\n",
    "\n",
    "\n",
    "#2 Create the list\n",
    "\n",
    "students <- list(\"names\"=name,\"exams\"=exam,\"quiz\"=quiz,\"homeworks\"=homework)\n",
    "students\n",
    "\n",
    "\n",
    "#3 Create the function\n",
    "\n",
    "pass <- function(lst)\n",
    "{\n",
    " \n",
    "    for (i in 1:length(lst$names)) \n",
    "  {\n",
    "    if(lst$homeworks[i] > 50 & (lst$exams[i] + lst$quiz[i]) > 100)\n",
    "    {lst$result[i] <- \"Pass\"}\n",
    "    else {lst$result[i] <- \"Fail\"}\n",
    "        \n",
    "  }\n",
    "\n",
    "  return(lst)\n",
    "  \n",
    "}\n",
    "\n",
    "\n",
    "pass(students)\n"
   ]
  },
  {
   "cell_type": "markdown",
   "metadata": {
    "tags": [
     "2019-2020-2",
     "ceren",
     "tags_of_list_elements",
     "easy"
    ]
   },
   "source": [
    "# 7 FAVORITE PAINTERS"
   ]
  },
  {
   "cell_type": "markdown",
   "metadata": {},
   "source": [
    "## 7.1 QUESTION"
   ]
  },
  {
   "cell_type": "markdown",
   "metadata": {},
   "source": [
    "At this table, you see seven people with their ages and favorite painters. \n",
    "\n",
    "| Name | Age | Painter |\n",
    "| ---------| ------ | ------    |\n",
    "| Mine     | 55     |   Vermeer | \n",
    "| Mehmet   | 28     |   Hopper  |\n",
    "| Meltem   | 52     |   Chagall | \n",
    "| Naz      | 49     |   Monet   |\n",
    "| Sanem    | 45     |   Schiele |\n",
    "| Adil     | 24     |   Moualla |\n",
    "| Sinan    | 23     |   O'Keeffe|\n",
    "\n",
    "1) Create a list called **Favorite** consisting of person's name, age and favorite painter. The result should look like this:\n",
    "\n",
    "```r\n",
    "> Favorite\n",
    "$names\n",
    "[1] \"Mine\"   \"Mehmet\" \"Meltem\" \"Naz\"    \"Sanem\"  \"Adil\"   \"Sinan\"  \"Ceren\"  \"Ceren\" \n",
    "\n",
    "$ages\n",
    "[1] 55 28 52 49 45 24 22 24\n",
    "\n",
    "$painter\n",
    "[1] \"Vermeer\"  \"Matisse\"  \"Chagall\"  \"Monet\"    \"Schiele\"  \"Moualla\"  \"O'Keeffe\" \"Matisse\"  \n",
    "```\n",
    "\n",
    "2) Update this list by adding your name, age and favorite painter. "
   ]
  },
  {
   "cell_type": "markdown",
   "metadata": {},
   "source": [
    "## 7.2 SOLUTION"
   ]
  },
  {
   "cell_type": "code",
   "execution_count": null,
   "metadata": {},
   "outputs": [],
   "source": [
    "#1\n",
    "Favorite <- list(names = c(\"Mine\", \"Mehmet\", \"Meltem\", \"Naz\", \"Sanem\", \"Adil\", \"Sinan\"),\n",
    "                 ages = c(55, 28, 52, 49, 45, 24, 22),\n",
    "                 painter = c(\"Vermeer\", \"Hopper\", \"Chagall\", \"Monet\", \"Schiele\", \"Moualla\", \"O'Keeffe\"))  \n",
    "\n",
    "#2\n",
    "Favorite$names <- c(Favorite$names, \"Ceren\")  #This is about me, you can write your own information.\n",
    "Favorite$ages <- c(Favorite$ages, 24)\n",
    "Favorite$painter <- c(Favorite$painter, \"Matisse\")"
   ]
  },
  {
   "cell_type": "markdown",
   "metadata": {
    "tags": [
     "2019-2020-2",
     "ceren",
     "Getting_information_on_lists",
     "easy"
    ]
   },
   "source": [
    "# 8 INFORMATION ON COVID-19"
   ]
  },
  {
   "cell_type": "markdown",
   "metadata": {},
   "source": [
    "## 8.1 QUESTION"
   ]
  },
  {
   "cell_type": "markdown",
   "metadata": {},
   "source": [
    "1) Create a list named covid19 from given vectors. These are the case and death numbers until March 30.\n",
    "\n",
    "```r\n",
    "country <- c(\"Turkey\", \"Italy\", \"USA\", \"China\")\n",
    "\n",
    "case <- c(9217, 97689, 142746, 81470)\n",
    "\n",
    "death <- c(131, 10779, 2489, 3304)\n",
    "```\n",
    "\n",
    "2) Assign vector names to list members.\n",
    "\n",
    "3) Check the difference between calling list elements with the single square bracket **[]** operator, the double square bracket **[[]]** operator and `$` sign bu using `class` function. \n",
    "\n",
    "4) Use `max` function to get the highest number of cases and use `min` function to get the lowest number of deaths from the list. To do so, remember the difference between the double square bracket **[[]]** operator and the single square bracket **[]** operator."
   ]
  },
  {
   "cell_type": "markdown",
   "metadata": {},
   "source": [
    "## 8.2 SOLUTION"
   ]
  },
  {
   "cell_type": "code",
   "execution_count": null,
   "metadata": {},
   "outputs": [],
   "source": [
    "#1\n",
    "country <- c(\"Turkey\", \"Italy\", \"USA\", \"China\")\n",
    "\n",
    "case <- c(9217, 97689, 142746, 81470)\n",
    "\n",
    "death <- c(131, 10779, 2489, 3304)\n",
    "\n",
    "covid19 <- list(country, case, death)\n",
    "\n",
    "#2\n",
    "names(covid19) <- c(\"country\", \"case\", \"death\")\n",
    "covid19\n",
    "\n",
    "#3\n",
    "class(covid19[[\"death\"]])\n",
    "class(covid19[\"death\"])\n",
    "class(covid19$death)\n",
    "\n",
    "#4\n",
    "max(covid19[[\"case\"]])\n",
    "min(covid19$death) \n"
   ]
  },
  {
   "cell_type": "markdown",
   "metadata": {
    "tags": [
     "2019-2020-2",
     "medium",
     "salih",
     "lists"
    ]
   },
   "source": [
    "# ONLINE GRADING"
   ]
  },
  {
   "cell_type": "markdown",
   "metadata": {},
   "source": [
    "## 9.1 QUESTION"
   ]
  },
  {
   "cell_type": "markdown",
   "metadata": {},
   "source": [
    "An instructor wants to apply a different grading system during online education period. She decides to make no exams and students will be graded regarding to their homework results and according to the following scale :\n",
    "\n",
    "|Letter Grade|Total Points|\n",
    "|---|---|\n",
    "|AA|85-100|\n",
    "|BB|70-84|\n",
    "|CB|45-69|\n",
    "|F|0-44|\n",
    "\n",
    "Copy the lines below to create 3 vectors which indicate the points of 100 students from three homeworks:\n",
    "\n",
    "```r\n",
    "RNGversion(\"3.3.1\")\n",
    "set.seed(100)\n",
    "HW1 <- sample(10:30,100,replace=T)\n",
    "HW2 <- sample(10:30,100,replace=T)\n",
    "HW3 <- sample(15:40,100,replace=T)\n",
    "```\n",
    "\n",
    "1. Create a matrix with 3 rows and 100 columns, named **points** from **HW1**, **HW2**, **HW3**. \n",
    "\n",
    "2. Create a function named **grading** with one argument **mat**: a matrix with **points** as its default value.\n",
    "   Your function should return a list with 3 components :\n",
    "   \n",
    "   * The matrix **mat**\n",
    "   * A vector which holds the total points of each student.\n",
    "   * A vector which holds the letter grades of each student regarding to given conditions.\n",
    "   \n",
    "\n",
    "3. Try your function with **points**. Store the output in **rslt**.\n",
    "\n",
    "```r\n",
    "> rslt\n",
    "[[1]]\n",
    "    [,1] [,2] [,3] [,4] [,5] [,6] [,7] [,8] [,9] [,10] [,11]\n",
    "HW1   16   15   21   11   19   20   27   17   21    13    23\n",
    "HW2   16   18   10   17   21   24   30   24   10    21    27\n",
    "HW3   24   39   38   36   23   37   35   30   16    25    23\n",
    "    [,12] [,13] [,14] [,15] [,16] [,17] [,18] [,19] [,20]\n",
    "HW1    28    15    18    26    24    14    17    17    24\n",
    "HW2    26    11    15    30    10    29    25    14    27\n",
    "HW3    34    20    22    24    31    38    34    26    15\n",
    "    [,21] [,22] [,23] [,24] [,25] [,26] [,27] [,28] [,29]\n",
    "HW1    21    24    21    25    18    13    26    28    21\n",
    "HW2    18    18    19    22    17    10    30    30    21\n",
    "HW3    29    26    30    39    22    32    16    16    24\n",
    "    [,30] [,31] [,32] [,33] [,34] [,35] [,36] [,37] [,38]\n",
    "HW1    15    20    29    17    30    24    28    13    23\n",
    "HW2    12    14    28    25    20    22    10    19    10\n",
    "HW3    22    29    24    36    31    25    22    24    33\n",
    "    [,39] [,40] [,41] [,42] [,43] [,44] [,45] [,46] [,47]\n",
    "HW1    30    12    16    28    26    27    22    20    26\n",
    "HW2    19    23    24    11    13    29    12    25    29\n",
    "HW3    39    35    20    33    32    33    22    33    32\n",
    "    [,48] [,49] [,50] [,51] [,52] [,53] [,54] [,55] [,56]\n",
    "HW1    28    14    16    16    14    14    15    22    15\n",
    "HW2    10    10    14    20    29    12    13    22    27\n",
    "HW3    16    16    22    22    39    25    24    36    37\n",
    "    [,57] [,58] [,59] [,60] [,61] [,62] [,63] [,64] [,65]\n",
    "HW1    12    14    22    14    19    23    30    24    19\n",
    "HW2    27    26    10    24    27    21    20    13    11\n",
    "HW3    23    18    31    35    23    38    20    35    34\n",
    "    [,66] [,67] [,68] [,69] [,70] [,71] [,72] [,73] [,74]\n",
    "HW1    17    19    19    15    24    18    16    22    30\n",
    "HW2    13    10    24    25    28    19    18    22    27\n",
    "HW3    38    23    17    38    39    32    34    26    17\n",
    "    [,75] [,76] [,77] [,78] [,79] [,80] [,81] [,82] [,83]\n",
    "HW1    23    23    27    26    27    11    19    22    29\n",
    "HW2    26    16    30    23    19    22    16    25    29\n",
    "HW3    32    34    27    19    32    21    23    20    15\n",
    "    [,84] [,85] [,86] [,87] [,88] [,89] [,90] [,91] [,92]\n",
    "HW1    30    10    22    25    15    16    25    29    14\n",
    "HW2    24    13    17    12    12    16    27    30    19\n",
    "HW3    24    29    32    34    39    19    23    18    31\n",
    "    [,93] [,94] [,95] [,96] [,97] [,98] [,99] [,100]\n",
    "HW1    17    19    29    18    20    12    10     26\n",
    "HW2    14    30    23    16    12    22    12     26\n",
    "HW3    23    31    22    16    32    34    29     29\n",
    "\n",
    "[[2]]\n",
    "  [1] 56 72 69 64 63 81 92 71 47 59 73 88 46 55 80 65 81 76 57\n",
    " [20] 66 68 68 70 86 57 55 72 74 66 49 63 81 78 81 71 60 56 66\n",
    " [39] 88 70 60 72 71 89 56 78 87 54 40 52 58 82 51 52 80 79 62\n",
    " [58] 58 63 73 69 82 70 72 64 68 52 60 78 91 69 68 70 74 81 73\n",
    " [77] 84 68 78 54 58 67 73 78 52 71 71 66 51 75 77 64 54 80 74\n",
    " [96] 50 64 68 51 81\n",
    "\n",
    "[[3]]\n",
    "  [1] \"CB\" \"BB\" \"CB\" \"CB\" \"CB\" \"BB\" \"AA\" \"BB\" \"CB\" \"CB\" \"BB\"\n",
    " [12] \"AA\" \"CB\" \"CB\" \"BB\" \"CB\" \"BB\" \"BB\" \"CB\" \"CB\" \"CB\" \"CB\"\n",
    " [23] \"BB\" \"AA\" \"CB\" \"CB\" \"BB\" \"BB\" \"CB\" \"CB\" \"CB\" \"BB\" \"BB\"\n",
    " [34] \"BB\" \"BB\" \"CB\" \"CB\" \"CB\" \"AA\" \"BB\" \"CB\" \"BB\" \"BB\" \"AA\"\n",
    " [45] \"CB\" \"BB\" \"AA\" \"CB\" \"F\"  \"CB\" \"CB\" \"BB\" \"CB\" \"CB\" \"BB\"\n",
    " [56] \"BB\" \"CB\" \"CB\" \"CB\" \"BB\" \"CB\" \"BB\" \"BB\" \"BB\" \"CB\" \"CB\"\n",
    " [67] \"CB\" \"CB\" \"BB\" \"AA\" \"CB\" \"CB\" \"BB\" \"BB\" \"BB\" \"BB\" \"BB\"\n",
    " [78] \"CB\" \"BB\" \"CB\" \"CB\" \"CB\" \"BB\" \"BB\" \"CB\" \"BB\" \"BB\" \"CB\"\n",
    " [89] \"CB\" \"BB\" \"BB\" \"CB\" \"CB\" \"BB\" \"BB\" \"CB\" \"CB\" \"CB\" \"CB\"\n",
    "[100] \"BB\"\n",
    "```\n",
    "\n"
   ]
  },
  {
   "cell_type": "markdown",
   "metadata": {},
   "source": [
    "## 9.2 SOLUTION"
   ]
  },
  {
   "cell_type": "code",
   "execution_count": null,
   "metadata": {},
   "outputs": [],
   "source": [
    "#1\n",
    "\n",
    "RNGversion(\"3.3.1\")\n",
    "set.seed(100)\n",
    "HW1 <- sample(10:30,100,replace=T)\n",
    "HW2 <- sample(10:30,100,replace=T)\n",
    "HW3 <- sample(15:40,100,replace=T)\n",
    "points <- rbind(HW1,HW2,HW3) #Creating the matix\n",
    "points \n",
    "\n",
    "\n",
    "#2\n",
    "\n",
    "grading <- function(mat)\n",
    "{\n",
    "    total <- apply(mat, 2, sum) #the vector which holds the total points\n",
    "  \n",
    "    letter_grades <- c()\n",
    "  \n",
    "    for(i in 1:length(total)) # this for loop creates the vector which indicates the letter grades\n",
    "  {\n",
    "    if(total[i] >= 85)\n",
    "    {\n",
    "      letter_grades <- c(letter_grades,\"AA\")\n",
    "    }\n",
    "    else if(total[i] < 85 && total[i] >= 70)\n",
    "    {\n",
    "      letter_grades <- c(letter_grades,\"BB\")\n",
    "    }\n",
    "    else if(total[i] < 70 && total[i] >= 45)\n",
    "    {\n",
    "      letter_grades <- c(letter_grades,\"CB\")\n",
    "    }\n",
    "    else letter_grades<- c(letter_grades,\"F\")\n",
    "  }\n",
    "  \n",
    "        return(list(mat,total,letter_grades)) #creating the resulting list\n",
    "}\n",
    "\n",
    "#3\n",
    "\n",
    "rslt <- grading(mat = points)\n",
    "rslt\n",
    "\n"
   ]
  },
  {
   "cell_type": "markdown",
   "metadata": {
    "tags": [
     "2019-2020-2",
     "medium",
     "salih",
     "lists"
    ]
   },
   "source": [
    "# 10 TREATMENT \n"
   ]
  },
  {
   "cell_type": "markdown",
   "metadata": {},
   "source": [
    "## 10.1 QUESTION"
   ]
  },
  {
   "cell_type": "markdown",
   "metadata": {},
   "source": [
    " There is a disease of which the types of treatment differ regarding to the age and the blood type of the patient. As such :\n",
    " \n",
    " |Age Group|Blood Type| Treatment|\n",
    " |---|---|---|\n",
    " |0-64|A , B or AB| Type A|\n",
    " |0-64|0| Type B|\n",
    " |65-...|A,B,AB,or 0| Type C|\n",
    " \n",
    " 1. Create a list named **lst1** by copying the lines below and combining the vectors **ages** and **blood_type**:\n",
    " \n",
    " ```r\n",
    "RNGversion(\"3.3.1\")\n",
    "set.seed(10)\n",
    "ages <- sample(10:80,50,replace=T) \n",
    "blood_type <- sample(c(\"A\",\"B\",\"AB\",\"0\"),50,replace=T)\n",
    "```\n",
    "\n",
    "2. Create a function named **cure** with one argument : **lst** which has **lst1** as its default value. The function should decide which type of treatment should be applied on the patient and store the results in a vector which will be the third component of **lst** . The function should return **lst**. As such :\n",
    "\n",
    "```r\n",
    "\n",
    "> cure(lst = lst1)\n",
    "[[1]]\n",
    " [1] 46 31 40 59 16 26 29 29 53 40 56 50 18 52 35 40 13\n",
    "[18] 28 38 69 71 53 65 35 38 60 69 27 64 35 48 16 22 73\n",
    "[35] 40 63 68 77 58 45 29 26 11 61 27 21 11 44 17 66\n",
    "\n",
    "[[2]]\n",
    " [1] \"B\"  \"0\"  \"A\"  \"B\"  \"A\"  \"AB\" \"B\"  \"B\"  \"B\"  \"AB\"\n",
    "[11] \"A\"  \"A\"  \"B\"  \"B\"  \"0\"  \"0\"  \"AB\" \"B\"  \"A\"  \"A\" \n",
    "[21] \"A\"  \"AB\" \"AB\" \"AB\" \"A\"  \"AB\" \"B\"  \"0\"  \"B\"  \"A\" \n",
    "[31] \"0\"  \"B\"  \"A\"  \"AB\" \"A\"  \"A\"  \"0\"  \"B\"  \"A\"  \"A\" \n",
    "[41] \"B\"  \"AB\" \"AB\" \"AB\" \"B\"  \"0\"  \"A\"  \"AB\" \"AB\" \"A\" \n",
    "\n",
    "[[3]]\n",
    " [1] \"Type A\" \"Type B\" \"Type A\" \"Type A\" \"Type A\"\n",
    " [6] \"Type A\" \"Type A\" \"Type A\" \"Type A\" \"Type A\"\n",
    "[11] \"Type A\" \"Type A\" \"Type A\" \"Type A\" \"Type B\"\n",
    "[16] \"Type B\" \"Type A\" \"Type A\" \"Type A\" \"Type C\"\n",
    "[21] \"Type C\" \"Type A\" \"Type C\" \"Type A\" \"Type A\"\n",
    "[26] \"Type A\" \"Type C\" \"Type B\" \"Type A\" \"Type A\"\n",
    "[31] \"Type B\" \"Type A\" \"Type A\" \"Type C\" \"Type A\"\n",
    "[36] \"Type A\" \"Type C\" \"Type C\" \"Type A\" \"Type A\"\n",
    "[41] \"Type A\" \"Type A\" \"Type A\" \"Type A\" \"Type A\"\n",
    "[46] \"Type B\" \"Type A\" \"Type A\" \"Type A\" \"Type C\"\n",
    "\n",
    "```\n"
   ]
  },
  {
   "cell_type": "markdown",
   "metadata": {},
   "source": [
    "## 10.2 SOLUTION"
   ]
  },
  {
   "cell_type": "code",
   "execution_count": null,
   "metadata": {},
   "outputs": [],
   "source": [
    "#1\n",
    "\n",
    "RNGversion(\"3.3.1\")\n",
    "set.seed(10)\n",
    "ages <- sample(10:80,50,replace=T) \n",
    "blood_type <- sample(c(\"A\",\"B\",\"AB\",\"0\"),50,replace=T)\n",
    "ages\n",
    "blood_type\n",
    "lst1<- list(ages,blood_type)\n",
    "lst1\n",
    "\n",
    "#2\n",
    "\n",
    "cure<- function(lst)\n",
    "{ \n",
    "  treatment <- c()\n",
    "  abc <- lst[[1]] # when we use double brackets we call one single component of the list (In this case, abc is the ages vector)\n",
    "  xyz <- lst[[2]] # xyz is the blood_type vector\n",
    "  for(i in 1:length(lst[[1]]))\n",
    "  {\n",
    "    if(abc[i] < 65) #if the ages is below 65\n",
    "    {\n",
    "      if(xyz[i] ==\"A\" | xyz[i]==\"B\" | xyz[i]==\"AB\") #if the blood type is A, B OR AB\n",
    "      {\n",
    "        treatment <- c(treatment,\"Type A\")\n",
    "      }\n",
    "      else #if the blood type is 0\n",
    "      {\n",
    "       treatment <- c(treatment ,\"Type B\")\n",
    "      }      \n",
    "    }\n",
    "    else #if the age of the patient is higher than 65\n",
    "    {\n",
    "    treatment <-c(treatment, \"Type C\")\n",
    "    }\n",
    "  }\n",
    "   lst[[3]] <- treatment\n",
    "   return(lst)\n",
    "}\n",
    "\n",
    "cure(lst = lst1)\n",
    "\n",
    "\n",
    "\n",
    "#ALTERNATIVE SOLUTION FOR QUESTION 2\n",
    "\n",
    "cure <- function(lst)\n",
    "{\n",
    "  treatment <- c()\n",
    "  abc <- unlist(lst[1]) # When we use single brackets, we call the component as a list, that's why we use unlist()\n",
    "  xyz <- unlist(lst[2])\n",
    "  for(i in 1:length(abc))\n",
    "    {\n",
    "    if(abc[i]< 65) \n",
    "    {\n",
    "      if(xyz[i] == \"A\" | xyz[i] == \"B\" | xyz[i] == \"AB\") \n",
    "      {\n",
    "        treatment <- c(treatment,\"Type A\")\n",
    "      }\n",
    "      else #if blood type is 0\n",
    "      {\n",
    "        treatment <- c(treatment,\"Type B\")\n",
    "      }\n",
    "    }\n",
    "    else \n",
    "    {\n",
    "      treatment <- c(treatment,\"Type C\")\n",
    "    }\n",
    "    \n",
    "  }\n",
    "  lst[3] <- list(treatment)\n",
    "  return(lst)\n",
    "}\n",
    "cure(lst = lst1)"
   ]
  },
  {
   "cell_type": "markdown",
   "metadata": {
    "tags": [
     "2019-2020-2",
     "medium",
     "salih",
     "lists"
    ]
   },
   "source": [
    "# 11 INCOME TAX\n"
   ]
  },
  {
   "cell_type": "markdown",
   "metadata": {},
   "source": [
    "## 11.1 QUESTION"
   ]
  },
  {
   "cell_type": "markdown",
   "metadata": {},
   "source": [
    "```r\n",
    "\n",
    "RNGversion(\"3.3.1\")\n",
    "set.seed(1)\n",
    "income <- sample(1000:55000,26,replace=T)\n",
    "names(income)<-LETTERS\n",
    "income\n",
    "\n",
    "\n",
    "```\n",
    "```r\n",
    "> income\n",
    "    A     B     C     D     E     F     G     H     I \n",
    "10983 38928 31960 10074 51968 51948  7974 46007 26273 \n",
    "    J     K     L     M     N     O     P     Q     R \n",
    "30699 30844 13900 42068 10764 22885 47092 53726 13194 \n",
    "    S     T     U     V     W     X     Y     Z \n",
    "25020  5048 36743 21928 46192  9127 19753 27394 \n",
    "\n",
    "```\n",
    "The **income** vector (copy the first 4 lines above to create it) holds incomes of 26 citizens of Country X. By regulation, income tax is collected according to following conditions :\n",
    "\n",
    "|Income|Income Tax Rate|\n",
    "|---|---|\n",
    "|< 22000|15%|\n",
    "|22000-49000|20%|\n",
    "|>=49000|27%|\n",
    "\n",
    "  For example , the citizen Y's income is 19753 , he should pay 15% of his income as tax. \n",
    "\n",
    "1. Create a function **tax_calculator** which takes one argument **incm** : a vector which holds the names and the incomes of 26 citizens(**income** is the default value). Your function should do the following:\n",
    "\n",
    "    * First, it will sort the incomes in descending order.\n",
    "    * Then it will create a list with 26 components (all 26 are vectors) which hold the income, the tax rate according to the         income and the amount of the tax that should be paid.(i.e each component will be a vector with 3 elements : income, tax         rate, tax paid)\n",
    "    * It will return the information on the top 5 richest citizens and the 5 poorest citizens as a list with 2 components. As such:\n",
    "\n",
    "```r\n",
    "> tax_calculator(incm = income)\n",
    "$Richest\n",
    "$Richest$Q\n",
    "  Income Tax Rate Tax Paid \n",
    "53726.00     0.27 14506.02 \n",
    "\n",
    "$Richest$E\n",
    "  Income Tax Rate Tax Paid \n",
    "51968.00     0.27 14031.36 \n",
    "\n",
    "$Richest$F\n",
    "  Income Tax Rate Tax Paid \n",
    "51948.00     0.27 14025.96 \n",
    "\n",
    "$Richest$P\n",
    "  Income Tax Rate Tax Paid \n",
    " 47092.0      0.2   9418.4 \n",
    "\n",
    "$Richest$W\n",
    "  Income Tax Rate Tax Paid \n",
    " 46192.0      0.2   9238.4 \n",
    "\n",
    "\n",
    "$Poorest\n",
    "$Poorest$N\n",
    "  Income Tax Rate Tax Paid \n",
    "10764.00     0.15  1614.60 \n",
    "\n",
    "$Poorest$D\n",
    "  Income Tax Rate Tax Paid \n",
    "10074.00     0.15  1511.10 \n",
    "\n",
    "$Poorest$X\n",
    "  Income Tax Rate Tax Paid \n",
    " 9127.00     0.15  1369.05 \n",
    "\n",
    "$Poorest$G\n",
    "  Income Tax Rate Tax Paid \n",
    " 7974.00     0.15  1196.10 \n",
    "\n",
    "$Poorest$T\n",
    "  Income Tax Rate Tax Paid \n",
    " 5048.00     0.15   757.20 \n",
    " \n",
    "```\n",
    "    \n",
    "    "
   ]
  },
  {
   "cell_type": "markdown",
   "metadata": {},
   "source": [
    "## 11.2 SOLUTION"
   ]
  },
  {
   "cell_type": "code",
   "execution_count": null,
   "metadata": {},
   "outputs": [],
   "source": [
    "RNGversion(\"3.3.1\")\n",
    "set.seed(2)\n",
    "income <- sample(1000:55000,26,replace=T)\n",
    "names(income) <- LETTERS\n",
    "\n",
    "tax_calculator <- function(incm)\n",
    "{\n",
    "  nms <- names(incm) #Storing the names of our vector in a vector (to be used later.)\n",
    "  inc <- sort(incm, decreasing=T) #Sorting the incomes\n",
    "  lst_26 <- list()\n",
    " \n",
    "    for(i in 1:length(inc)) #This loop will create 26 vectors with our desired elements and create a list with 26 components by using them.\n",
    " {\n",
    "   if(inc[i] < 22000)\n",
    "   {\n",
    "     vec <- c(inc[i], 0.15, inc[i] * 0.15) # Creating the vector by using the income level of ith citizen.\n",
    "     names(vec) <- c(\"Income\",\"Tax Rate\",\"Tax Paid\")\n",
    "     lst_26[[i]] <- vec #Assigning the vector as ith component of the list\n",
    "   }\n",
    "   else if(inc[i] >= 22000 && inc[i] < 49000)\n",
    "   {\n",
    "     vec <- c(inc[i], 0.2, inc[i] * 0.20)\n",
    "     names(vec) <- c(\"Income\",\"Tax Rate\",\"Tax Paid\")\n",
    "     lst_26[[i]] <- vec\n",
    "   }\n",
    "   else \n",
    "   {\n",
    "     vec <- c(inc[i], 0.27, inc[i] * 0.27)\n",
    "     names(vec) <- c(\"Income\",\"Tax Rate\",\"Tax Paid\")\n",
    "     lst_26[[i]]<- vec\n",
    "   }\n",
    "  \n",
    " }\n",
    "  names(lst_26) <- nms[order(incm,decreasing=T)] #naming the list's components according to the citizens' names\n",
    "  r_p <- list(lst_26[1:5],lst_26[22:26]) #selecting the first 5 and last 5 components of the list. And creating another list by using them\n",
    "  names(r_p) <- c(\"Richest\",\"Poorest\") #naming the resulting list's components\n",
    "  return(r_p)\n",
    "}\n",
    "\n",
    "tax_calculator(incm = income)"
   ]
  },
  {
   "cell_type": "markdown",
   "metadata": {
    "tags": [
     "2019-2020-2",
     "medium",
     "oyku",
     "lists",
     "lapply_and_sapply"
    ]
   },
   "source": [
    "# 12 ZEHRA WANTS RDR2"
   ]
  },
  {
   "cell_type": "markdown",
   "metadata": {},
   "source": [
    "## 12.1 QUESTION"
   ]
  },
  {
   "cell_type": "markdown",
   "metadata": {},
   "source": [
    "Zehra wants to buy Red Dead Redemption 2, which costs 429 TLs, by trading in her old games. She would like to record the names and prices of her games into a list.\n",
    "\n",
    "1. Build a list for Zehra named **my_games**. The game shop buys The Last of Us for 60 TLs, God of War for 95 TLs, The Witcher 3 for 115 TLs and Nier Automata for 150 TLs. Your list should look like this.\n",
    "\n",
    "```r\n",
    "> my_games\n",
    "$The_Last_Of_Us\n",
    "60\n",
    "$God_of_War\n",
    "95\n",
    "$The_Witcher_3\n",
    "120\n",
    "$Nier_Automata\n",
    "150\n",
    "```\n",
    "\n",
    "\n",
    "2. Check if the sum of the current trading prices of her games are equal to or more than 429 TLs.\n",
    "\n",
    "\n",
    "3. Zehra cries in the game trading shop because she doesn't have enough money to buy Red Dead Redemption 2, so the shop owner makes her an offer. If the game she is selling is priced above 130 TLs, the shop will give an additional 10%. If the game's price is equal to or below 130 TLs, the shop will pay an additional 5%. Write this as a function named **pricechanger**. You can use the ``for`` loop.\n",
    "\n",
    "\n",
    "4. Apply your function to **my_games** and store it into a new vector called **new_prices**. You should use the ``lapply()`` function.\n",
    "\n",
    "\n",
    "5. Check if the sum of the new prices are equal to or more than 429 TLs."
   ]
  },
  {
   "cell_type": "markdown",
   "metadata": {},
   "source": [
    "## 12.2 SOLUTION"
   ]
  },
  {
   "cell_type": "code",
   "execution_count": null,
   "metadata": {},
   "outputs": [],
   "source": [
    "#1\n",
    "my_games <- list(The_Last_Of_Us = 60, God_of_War = 95, The_Witcher_3 = 120, Nier_Automata = 150)\n",
    "my_games\n",
    "\n",
    "#2\n",
    "sum(unlist(my_games)) >= 429\n",
    "\n",
    "#3\n",
    "pricechanger <- function(x)\n",
    "{\n",
    "  i <- 1\n",
    "  for(i in 1:length(x))\n",
    "  {\n",
    "    if(x[[i]] > 130)\n",
    "    {\n",
    "      x[[i]] <- x[[i]] * 1.10\n",
    "    }\n",
    "    else\n",
    "    {\n",
    "      x[[i]] <- x[[i]] * 1.05\n",
    "    }\n",
    "  }\n",
    "  i <- i + 1\n",
    "  return(x)\n",
    "}\n",
    "\n",
    "#4\n",
    "new_prices <- lapply(my_games, pricechanger)\n",
    "new_prices\n",
    "\n",
    "#5\n",
    "sum(unlist(new_prices)) >= 429"
   ]
  },
  {
   "cell_type": "markdown",
   "metadata": {
    "tags": [
     "2019-2020-2",
     "medium",
     "oyku",
     "lists",
     "adding_deleting_elements"
    ]
   },
   "source": [
    "# 13 EMPLOYEE SALARIES\n"
   ]
  },
  {
   "cell_type": "markdown",
   "metadata": {},
   "source": [
    "## 13.1 QUESTION"
   ]
  },
  {
   "cell_type": "markdown",
   "metadata": {},
   "source": [
    "The local electrics company wants to create a list of their employees and their salaries.\n",
    "\n",
    "1. Record the salaries of the employees along with their names in a list called **our_company**. Ahmet earns 35000 TLs, Yaren earns 13500 TLs, Fatma earns 5500 TLs, Aliye earns 3000 TLs.\n",
    "\n",
    "```r\n",
    "> our_company\n",
    "$Ahmet\n",
    "35000\n",
    "$Yaren\n",
    "13500\n",
    "$Fatma\n",
    "5500\n",
    "$Aliye\n",
    "3000\n",
    "```\n",
    "\n",
    "2. Calculate the company's salary expense and store it into a vector called **salary_expense**.\n",
    "\n",
    "\n",
    "3. The company hires two interns by the names of Burak and Gizem. Their salaries are 1500 and 850 respectively.\n",
    "\n",
    "\n",
    "4. The company then fires Fatma and gives Ahmet a 10% and Yaren a 5% raise.\n",
    "\n",
    "\n",
    "5. Calculate the company's salary expense after the changes and store it into a vector called **new_salary_expense**.\n",
    "\n",
    "\n",
    "6. Calculate the difference between the new and old salary expense and store it into a vector called **our_loss**.\n",
    "\n",
    "```r\n",
    "> our_loss\n",
    "1025\n",
    "```"
   ]
  },
  {
   "cell_type": "markdown",
   "metadata": {},
   "source": [
    "## 13.2 SOLUTION"
   ]
  },
  {
   "cell_type": "code",
   "execution_count": null,
   "metadata": {},
   "outputs": [],
   "source": [
    "#1\n",
    "our_company <- list(Ahmet= 35000, Yaren=13500, Fatma=5500, Aliye=3000)\n",
    "our_company\n",
    "\n",
    "#2\n",
    "salary_expense <- sum(unlist(our_company))\n",
    "salary_expense\n",
    "\n",
    "#3\n",
    "our_company$Burak <- 1500\n",
    "our_company$Gizem <- 850\n",
    "\n",
    "#4\n",
    "our_company$Fatma <- NULL\n",
    "our_company$Ahmet <- our_company$Ahmet * 1.10\n",
    "our_company$Yaren <- our_company$Yaren * 1.05\n",
    "our_company\n",
    "\n",
    "#5\n",
    "new_salary_expense <- sum(unlist(our_company))\n",
    "\n",
    "#6\n",
    "our_loss <- new_salary_expense - salary_expense\n",
    "our_loss"
   ]
  },
  {
   "cell_type": "markdown",
   "metadata": {
    "tags": [
     "2019-2020-2",
     "medium",
     "lists",
     "list_indexing",
     "berke"
    ]
   },
   "source": [
    "# 14 JUNIOR, SENIOR, FIRST TERM OR HONOR"
   ]
  },
  {
   "cell_type": "markdown",
   "metadata": {},
   "source": [
    "## 14.1 QUESTION"
   ]
  },
  {
   "cell_type": "markdown",
   "metadata": {},
   "source": [
    "There are 10 students in a class. Their GPA's, years, terms and names will be included in the list that you are going to create. \n",
    "\n",
    "Their names are: Kaan, Ece, Tarik, Mehmet, Bihter, Defne, Alp, Zeynep, Ceren, Ali, Serra\n",
    "\n",
    "1. `set.seed` to 261 and write `RNGversion(\"3.3.1\")`.\n",
    "\n",
    "\n",
    "2. Create a list with student's **names**, **gpa**, **year**, and **term**.\n",
    "   \n",
    "   In this list:\n",
    "    - **gpa** will be generated with normally distributed numbers.\n",
    "        - mean of 3.4\n",
    "        - standard deviation of 0.3\n",
    "    \n",
    "    - **year** will be constructed by a sample of 1, 2, 3, 4 and a size of 10.\n",
    "\n",
    "    - **term** will be constructed by a sample of 1, 2 and a size of 10.\n",
    "    \n",
    "\n",
    "3. Create a function named **lucky_ones** which will find students that are (junior or senior) and honor (gpa >= 3.5) or first term students.\n",
    "**Hint:** You should use ```which()``` function.\n",
    "\n",
    "\n",
    "The output should look as follows: \n",
    "\n",
    "*You can ignore warnings since the vectors may not be in the same length.*\n",
    "\n",
    "```r\n",
    "> lucky_ones(students)\n",
    "[1] \"Kaan\"   \"Ece\"    \"Ceren\"  \"Ali\"    \"Mehmet\" \"Defne\" \"Alp\"   \n",
    "```\n",
    "    "
   ]
  },
  {
   "cell_type": "markdown",
   "metadata": {},
   "source": [
    "## 14.2 SOLUTION"
   ]
  },
  {
   "cell_type": "code",
   "execution_count": null,
   "metadata": {},
   "outputs": [],
   "source": [
    "#1\n",
    "RNGversion(\"3.3.1\")\n",
    "set.seed(261)\n",
    "\n",
    "#2\n",
    "students <- list(names = c(\"Kaan\", \"Ece\", \"Tarik\", \"Mehmet\", \"Bihter\", \"Defne\", \"Alp\", \"Zeynep\", \"Ceren\", \"Ali\", \"Serra\"),\n",
    "                gpa = rnorm(n = 10, mean = 3.4, sd = 0.3),\n",
    "                year = sample(x = c(1,2,3,4), size = 10, replace = TRUE),\n",
    "                term = sample(x = c(1,2), size = 10, replace = TRUE))\n",
    "students\n",
    "\n",
    "#3\n",
    "lucky_ones <- function(student_list) {\n",
    "    \n",
    "  gpa_above_3_half <- which(student_list[[\"gpa\"]] >= 3.5)\n",
    "  honor_students <- student_list[[\"names\"]][gpa_above_3_half]\n",
    "    \n",
    "  finished_2_years <- which(student_list[[\"year\"]] >= 3)\n",
    "  junior_and_senior <- student_list[[\"names\"]][finished_2_years]\n",
    "    \n",
    "  first_term <- which(student_list[[\"term\"]] == 1)\n",
    "  first_term_students <- student_list[[\"names\"]][first_term]\n",
    "    \n",
    "  all_conditions <- unique(c(honor_students, junior_and_senior, first_term_students))\n",
    "    \n",
    "  return(all_conditions)\n",
    "}\n",
    "\n",
    "#4\n",
    "lucky_ones(student_list = students)"
   ]
  },
  {
   "cell_type": "markdown",
   "metadata": {
    "tags": [
     "2019-2020-2",
     "medium",
     "berk",
     "selecting_range_indices",
     "lists"
    ]
   },
   "source": [
    "# 15 HEAD OF STATE"
   ]
  },
  {
   "cell_type": "markdown",
   "metadata": {},
   "source": [
    "## 15.1 QUESTION"
   ]
  },
  {
   "cell_type": "markdown",
   "metadata": {},
   "source": [
    "A new republic is founded, and there is a need of a head of state. Since in this age, nobody is the shah, the sultan, nor the padishah, the people of this republic want to choose a president. Any head of state, except a president, should be expelled. Here are the types of heads of states, and their respective names:\n",
    "\n",
    "- **Head of State Type**: (\"padishah\", \"shah\", \"sultan\", \"president\")\n",
    "- **Names**: (\"Mehmet\", \"Ismail\", \"Murat\", \"Kemal\")\n",
    "\n",
    "\n",
    "1. Create vectors for head of state types and names, **head_of_state** and **names**, and assign their respective values.\n",
    "\n",
    "```r\n",
    "    > head_of_state\n",
    "    [1] \"padishah\"  \"shah\"      \"sultan\"    \"president\"\n",
    "    > names\n",
    "    [1] \"Mehmet\" \"Ismail\" \"Murat\"  \"Kemal\" \n",
    "```\n",
    "\n",
    "\n",
    "2. Create a list named **candidates** which contains **head_of_state** and **names** vectors.\n",
    "\n",
    "```r\n",
    "    > candidates\n",
    "    [[1]]\n",
    "    [1] \"padishah\"  \"shah\"      \"sultan\"    \"president\"\n",
    "\n",
    "    [[2]]\n",
    "    [1] \"Mehmet\" \"Ismail\" \"Murat\"  \"Kemal\" \n",
    "```\n",
    "\n",
    "3. Create a function named **precious_republic**, which takes one argument **election_list**. The function should return names of people who are not president. Create a vector named **exiled** and assign the returned value of **precious_republic** function to it. \n",
    "```r\n",
    "    > exiled\n",
    "    [1] \"Mehmet\" \"Ismail\" \"Murat\"\n",
    "```"
   ]
  },
  {
   "cell_type": "markdown",
   "metadata": {},
   "source": [
    "## 15.2 SOLUTION"
   ]
  },
  {
   "cell_type": "code",
   "execution_count": null,
   "metadata": {},
   "outputs": [],
   "source": [
    "# 1)Create names and head_of_state vectors\n",
    "head_of_state <- c(\"padishah\", \"shah\", \"sultan\", \"president\")\n",
    "names <- c(\"Mehmet\", \"Ismail\", \"Murat\", \"Kemal\")\n",
    "head_of_state\n",
    "names\n",
    "\n",
    "# 2)Create candidates list\n",
    "candidates <- list(head_of_state, names)\n",
    "candidates\n",
    "\n",
    "# 3)Create precious_republic function and exiled vector\n",
    "precious_republic <- function(election_list)\n",
    "{\n",
    "    not_president  <- election_list[[2]][which(election_list[[1]] != \"president\")]\n",
    "    return (not_president)\n",
    "}\n",
    "\n",
    "exiled <- precious_republic(candidates)\n",
    "exiled"
   ]
  },
  {
   "cell_type": "markdown",
   "metadata": {
    "tags": [
     "2019-2020-2",
     "medium",
     "selin",
     "lists"
    ]
   },
   "source": [
    "# 16 BATTERY LIFE"
   ]
  },
  {
   "cell_type": "markdown",
   "metadata": {},
   "source": [
    "## 16.1 QUESTION"
   ]
  },
  {
   "cell_type": "markdown",
   "metadata": {},
   "source": [
    "Customers of *Brand A* and *Brand B* have filed many complaints regarding the battery life of their smart phones. To get information on that issue, a survey is created to collect data on which of the two brands of smart phones people are using. They asked 8 people to fill a form with the following questions:\n",
    "\n",
    "- Your name:\n",
    "\n",
    "- The brand of your smart phone:\n",
    "\n",
    "The information gained here is turned into a seperate list for every single customer and then all of those 8 lists are combined in 1 other list. \n",
    "\n",
    "Then, a vector is created to contain the information of whether the battery life is enough for the user of the smart phone. The answers were collected from the 8 users again and they were added to a vector.\n",
    "\n",
    "After the data was collected, *Brand B* decides that they want to see the name and brand of the smart phone of the user but they do not want to see if the customer is happy with the battery life or not.\n",
    "\n",
    "They decide to create a function to first take a list and update the list if the brand of the smart phone is *Brand A*. (Again, *Brand B* does not want to see if the customer is happy with the battery life or not.)\n",
    "\n",
    "\n",
    "|Name|Brand|Happy with battery life|\n",
    "|:---:|:---:|:---:|\n",
    "|Selin|B|yes|\n",
    "|Ali|A|yes|\n",
    "|Öykü|B|no|\n",
    "|Eylül|B|yes|\n",
    "|Gökçe|A|no|\n",
    "|Elif|A|no|\n",
    "|Ceren|A|yes|\n",
    "|Çetin|B|yes|\n",
    "\n",
    "1. Create a list named **comp_list** which contains 8 lists inside of the name and brand of each people.\n",
    "\n",
    "\n",
    "2. Create a vector named **bat_life** containing the answers of each customer to the question: \"Is your phones battery life enough for you?\"\n",
    "\n",
    "\n",
    "3. Create a function named **fnc** which takes a list argument **lst** and adds to the persons own list his/her answer to the battery life question if the user is a Brand A customer.\n",
    "\n",
    "\n",
    "4. The function should return the updated version of the input argument **lst**.\n",
    "\n",
    "\n",
    "5. Try your function with the **comp_list** list.\n"
   ]
  },
  {
   "cell_type": "markdown",
   "metadata": {},
   "source": [
    "## 16.2 SOLUTION"
   ]
  },
  {
   "cell_type": "code",
   "execution_count": null,
   "metadata": {},
   "outputs": [],
   "source": [
    "#1\n",
    "comp_list <- list(list(\"Selin\", \"B\"), list(\"Ali\", \"A\"),list(\"Öykü\", \"B\"), list(\"Eylül\", \"B\"), list(\"Gökçe\", \"A\"),list(\"Elif\", \"A\"),list(\"Ceren\", \"A\"),list(\"Çetin\", \"B\"))\n",
    "\n",
    "#2\n",
    "bat_life <- c(\"yes\", \"yes\", \"no\", \"yes\", \"no\", \"no\", \"yes\", \"yes\")\n",
    "\n",
    "#3\n",
    "fnc <- function(lst)\n",
    "  {\n",
    "  for (i in 1:length(lst)){\n",
    "    if (lst[[i]][[2]] == \"A\"){\n",
    "      lst[[i]][[3]] <- bat_life[i]\n",
    "    }\n",
    "    else\n",
    "     next\n",
    "    }\n",
    "    \n",
    "#4    \n",
    "    return(lst)\n",
    "  }\n",
    "\n",
    "#5\n",
    "fnc(comp_list)"
   ]
  },
  {
   "cell_type": "markdown",
   "metadata": {
    "tags": [
     "2019-2020-2",
     "medium",
     "selin",
     "lists"
    ]
   },
   "source": [
    "# 17 GRADES"
   ]
  },
  {
   "cell_type": "markdown",
   "metadata": {},
   "source": [
    "## 17.1 QUESTION"
   ]
  },
  {
   "cell_type": "markdown",
   "metadata": {},
   "source": [
    "A teacher wants to see the grades of the students if the first letter of their first name is between *k* and *z*. The ages, first letter of their first names and the grades of each student is given below in the table:\n",
    "\n",
    "|Age|Name|Grade|\n",
    "|:---:|:---:|:---:|\n",
    "|19|Esra|AA|\n",
    "|21|Kaan|CC|\n",
    "|20|Nil|BA|\n",
    "|19|Veli|CB|\n",
    "|22|Yağmur|DC|\n",
    "\n",
    "1. Create 5 lists with the information of each student. Age, first letter of their first name and grade.\n",
    "\n",
    "\n",
    "2. Create another list named **list1** containing the 5 lists you created above.\n",
    "\n",
    "\n",
    "3. Write a function named **let_fnc** which takes a list argument **lis** and that will select the grade if the first letter of the students first name is between *k* and *z*.\n",
    "\n",
    "\n",
    "4. The function should return a vector of grades.\n",
    "\n",
    "\n",
    "5. Test your funcyion with your list: **list1**.\n",
    "\n",
    "\n"
   ]
  },
  {
   "cell_type": "markdown",
   "metadata": {},
   "source": [
    "## 17.2 SOLUTION"
   ]
  },
  {
   "cell_type": "code",
   "execution_count": null,
   "metadata": {},
   "outputs": [],
   "source": [
    "#1&2\n",
    "list1 <- list(list(19, \"e\", \"AA\"), list(21, \"k\", \"CC\"), list(20, \"n\", \"BA\"),list(19, \"v\", \"CB\"),list(22, \"y\", \"DC\"))\n",
    "\n",
    "#3\n",
    "let_fnc <- function(lis){\n",
    "  n <- c()\n",
    "  for(d in 1:length(lis))\n",
    "    {\n",
    "  if(lis[[d]][[2]] >= \"k\")\n",
    "    {\n",
    "   n  <- c(n, lis[[d]][[3]])\n",
    "  }\n",
    "  }\n",
    "\n",
    "#4    \n",
    "  return(n)\n",
    "}\n",
    "\n",
    "#5\n",
    "let_fnc(list1)"
   ]
  },
  {
   "cell_type": "markdown",
   "metadata": {
    "tags": [
     "2019-2020-2",
     "medium",
     "meryem",
     "lists",
     "adding_elements"
    ]
   },
   "source": [
    "# 18 WEIGHTENED AVERAGE"
   ]
  },
  {
   "cell_type": "markdown",
   "metadata": {},
   "source": [
    "## 18.1 QUESTION"
   ]
  },
  {
   "cell_type": "markdown",
   "metadata": {},
   "source": [
    "There are quiz, midterm and final scores of students in an economics class:\n",
    "\n",
    "|Students|Quiz/15|Midterm/100|Final/100  |\n",
    "|---     |---    |---    |---    |\n",
    "|Anna    |12     |73     |79     |\n",
    "|Beth    |9      |65     |36     |\n",
    "|Joe     |4      |52     |94     |\n",
    "|Ray     |14     |86     |89     |\n",
    "|Charles |8      |92     |68     |\n",
    "\n",
    "\n",
    "1. Copy these vectors to the RStudio:\n",
    "\n",
    "```r\n",
    "anna <- c(12, 73, 79)\n",
    "beth <- c(9, 65, 36)\n",
    "joe <- c(4, 52, 94)\n",
    "ray <- c(14, 86, 89)\n",
    "charles <- c(8, 92, 68)\n",
    "students <- c(\"Anna\", \"Beth\", \"Joe\", \"Ray\", \"Charles\")\n",
    "scores <- c(\"Quiz\", \"Mid\", \"Final\", \"WAverage\")\n",
    "```\n",
    "\n",
    "2. Create a list named **ec_scores**, the elements of the list should be the grade vectors of each student and should be tagged by the students' names.\n",
    "\n",
    "\n",
    "3. Create a function named **waverage** which takes an argument **lst**, and calculates weightened average for each student then add this weightened average to each student as 4th subelement.\n",
    " - Quiz scores are out of 15 and weights 15%,\n",
    " - Midterm weights 40%,\n",
    " - Final weights 45%.\n",
    " \n",
    "**Hint** You may use `as.integer()` function while adding weightened average.\n",
    "\n",
    "4. Try **waverage** function with **ec_scores** and assign it to **ec** as such:\n",
    "\n",
    "```r\n",
    "> ec\n",
    "$Anna\n",
    "[1] 12 73 79 76\n",
    "\n",
    "$Beth\n",
    "[1]  9 65 36 51\n",
    "\n",
    "$Joe\n",
    "[1]  4 52 94 67\n",
    "\n",
    "$Ray\n",
    "[1] 14 86 89 88\n",
    "\n",
    "$Charles\n",
    "[1]  8 92 68 75\n",
    "```\n",
    "\n",
    "\n",
    "5. Add **ec** list a new element named **\"Scores\"** as such:\n",
    "\n",
    "```r\n",
    "> ec\n",
    "$Anna\n",
    "[1] 12 73 79 76\n",
    "\n",
    "$Beth\n",
    "[1]  9 65 36 51\n",
    "\n",
    "$Joe\n",
    "[1]  4 52 94 67\n",
    "\n",
    "$Ray\n",
    "[1] 14 86 89 88\n",
    "\n",
    "$Charles\n",
    "[1]  8 92 68 75\n",
    "\n",
    "$Scores\n",
    "[1] \"Quiz\"     \"Mid\"      \"Final\"    \"WAverage\"\n",
    "```"
   ]
  },
  {
   "cell_type": "markdown",
   "metadata": {},
   "source": [
    "## 18.2 SOLUTION"
   ]
  },
  {
   "cell_type": "code",
   "execution_count": null,
   "metadata": {},
   "outputs": [],
   "source": [
    "#1\n",
    "anna <- c(12, 73, 79)\n",
    "beth <- c(9, 65, 36)\n",
    "joe <- c(4, 52, 94)\n",
    "ray <- c(14, 86, 89)\n",
    "charles <- c(8, 92, 68)\n",
    "students <- c(\"Anna\", \"Beth\", \"Joe\", \"Ray\", \"Charles\")\n",
    "scores <- c(\"Quiz\", \"Mid\", \"Final\", \"WAverage\")\n",
    "\n",
    "#2\n",
    "ec_scores <- list(anna, beth, joe, ray, charles)\n",
    "names(ec_scores) <- students\n",
    "\n",
    "#3\n",
    "waverage <- function(lst)\n",
    "{\n",
    " for(i in seq_along(lst))\n",
    " {\n",
    "   avrge <- lst[[i]][1] * 1 + lst[[i]][2] * 0.40 + lst[[i]][3] * 0.45\n",
    "   lst[[i]][4] <- as.integer(avrge) #adding a new subelement\n",
    " } \n",
    "  return(lst)\n",
    "}\n",
    "\n",
    "#4\n",
    "ec <- waverage(ec_scores)\n",
    "ec\n",
    "\n",
    "#5\n",
    "ec$Scores <- scores #adding a new element\n",
    "ec"
   ]
  },
  {
   "cell_type": "markdown",
   "metadata": {
    "tags": [
     "2019-2020-2",
     "medium",
     "meryem",
     "lists",
     "list_indexing",
     "unlist"
    ]
   },
   "source": [
    "# 19 PROMOTING"
   ]
  },
  {
   "cell_type": "markdown",
   "metadata": {},
   "source": [
    "## 19.1 QUESTION"
   ]
  },
  {
   "cell_type": "markdown",
   "metadata": {},
   "source": [
    "A company is planning to promote some of its employees. The employees, who are going to be promoted should have master or doctoral(PhD) degree, and experience of a minimum 5 years. After the decision, wages of promoted employees are going to be increased by 20%.\n",
    "\n",
    "There are some data about 4 employees:\n",
    "\n",
    "|Employee|Education|Experience|Wage($)|\n",
    "|---     |---      |---       |---    |\n",
    "|Donna   |Master   |6         |4700   |\n",
    "|Martha  |Master   |2         |2900   |\n",
    "|Ryan    |Bachelor |10        |3100   |\n",
    "|River   |PhD      |9         |6300   |\n",
    "\n",
    "\n",
    "1. Create a separate list for each employee with their names. Each element of these lists should be named as such:\n",
    "\n",
    "```r\n",
    "> donna\n",
    "$name\n",
    "[1] \"Donna\"\n",
    "\n",
    "$education\n",
    "[1] \"master\"\n",
    "\n",
    "$experience\n",
    "[1] 6\n",
    "\n",
    "$wage\n",
    "[1] 4700\n",
    "```\n",
    "\n",
    "\n",
    "2. Create a function named **promotion** that takes a list **emp** as an argument.\n",
    " - This vector should evaluate the employee's education degree and experience data then add the **decision** element to the list,\n",
    " - If the employee is suitable for the promotion, this function should return a *vector* with the name of employee, their adjusted wages and decision as **\"promoted\"**.\n",
    " - If the employee is not suitable for the promotion, this function should return a *vector* with the name of employee, their current wages and decision as **\"not promoted\"**.\n",
    "\n",
    "\n",
    "3. Try the function with employees:\n",
    "\n",
    "```r\n",
    "> promotion(donna)\n",
    "      name       wage   decision \n",
    "   \"Donna\"     \"5640\" \"promoted\" \n",
    "> promotion(martha)\n",
    "          name           wage       decision \n",
    "      \"Martha\"         \"2900\" \"not promoted\" \n",
    "> promotion(ryan)\n",
    "          name           wage       decision \n",
    "        \"Ryan\"         \"3100\" \"not promoted\" \n",
    "> promotion(river)\n",
    "      name       wage   decision \n",
    "   \"River\"     \"7560\" \"promoted\" \n",
    "\n",
    "```"
   ]
  },
  {
   "cell_type": "markdown",
   "metadata": {},
   "source": [
    "## 19.2 SOLUTION"
   ]
  },
  {
   "cell_type": "code",
   "execution_count": null,
   "metadata": {},
   "outputs": [],
   "source": [
    "#1\n",
    "donna <- list(name = \"Donna\", education = \"master\", experience = 6, wage = 4700)\n",
    "martha <- list(name = \"Martha\", education = \"master\", experience = 2, wage = 2900)\n",
    "ryan <- list(name = \"Ryan\", education = \"bachelor\", experience = 10, wage = 3100)\n",
    "river <- list(name = \"River\", education = \"phd\", experience = 9, wage = 6300)\n",
    "\n",
    "#2\n",
    "promotion <- function(emp)\n",
    "{\n",
    "    #evaluating the data\n",
    "  if(emp[[\"education\"]] == \"master\" & emp[[\"experience\"]] >= 5)\n",
    "  {\n",
    "    emp$decision <- \"promoted\"\n",
    "  }\n",
    "    else if(emp[[\"education\"]] == \"phd\" & emp[[\"experience\"]] >= 5)\n",
    "  {\n",
    "    emp$decision <- \"promoted\"\n",
    "  }\n",
    "    else{\n",
    "    emp$decision <- \"not promoted\"\n",
    "  }\n",
    "\n",
    "    #deleting the unwanted elements and vectorization\n",
    "  if(emp$decision == \"promoted\")\n",
    "  {\n",
    "    emp$education <- NULL\n",
    "    emp$experience <- NULL\n",
    "    emp$wage <- emp$wage * 1.20\n",
    "    return(unlist(emp))\n",
    "  }\n",
    "    else\n",
    "  {\n",
    "    emp$education <- NULL\n",
    "    emp$experience <- NULL\n",
    "    return(unlist(emp))\n",
    "  }\n",
    "}\n",
    "\n",
    "#3\n",
    "promotion(donna)\n",
    "promotion(martha)\n",
    "promotion(ryan)\n",
    "promotion(river)"
   ]
  },
  {
   "cell_type": "markdown",
   "metadata": {
    "tags": [
     "2019-2020-2",
     "medium",
     "meryem",
     "lists",
     "lapply",
     "sapply"
    ]
   },
   "source": [
    "# 20 WORLD PHONES"
   ]
  },
  {
   "cell_type": "markdown",
   "metadata": {},
   "source": [
    "## 20.1 QUESTION"
   ]
  },
  {
   "cell_type": "markdown",
   "metadata": {},
   "source": [
    "**`WorldPhones`** is a data set defined in RStudio. This data set is a matrix and provides the number of telephones in various regions of the world.\n",
    "\n",
    "1. First see the data in RStudio and create a list named **phones** by subsetting **`WorldPhones`** matrix as such:\n",
    "\n",
    "```r\n",
    "> phones\n",
    "$`1951`\n",
    "  N.Amer   Europe     Asia   S.Amer  Oceania   Africa Mid.Amer \n",
    "   45939    21574     2876     1815     1646       89      555 \n",
    "\n",
    "$`1956`\n",
    "  N.Amer   Europe     Asia   S.Amer  Oceania   Africa Mid.Amer \n",
    "   60423    29990     4708     2568     2366     1411      733 \n",
    "\n",
    "$`1957`\n",
    "  N.Amer   Europe     Asia   S.Amer  Oceania   Africa Mid.Amer \n",
    "   64721    32510     5230     2695     2526     1546      773 \n",
    "\n",
    "$`1958`\n",
    "  N.Amer   Europe     Asia   S.Amer  Oceania   Africa Mid.Amer \n",
    "   68484    35218     6662     2845     2691     1663      836 \n",
    "\n",
    "$`1959`\n",
    "  N.Amer   Europe     Asia   S.Amer  Oceania   Africa Mid.Amer \n",
    "   71799    37598     6856     3000     2868     1769      911 \n",
    "\n",
    "$`1960`\n",
    "  N.Amer   Europe     Asia   S.Amer  Oceania   Africa Mid.Amer \n",
    "   76036    40341     8220     3145     3054     1905     1008 \n",
    "\n",
    "$`1961`\n",
    "  N.Amer   Europe     Asia   S.Amer  Oceania   Africa Mid.Amer \n",
    "   79831    43173     9053     3338     3224     2005     1076 \n",
    "```\n",
    "\n",
    "\n",
    "2. Find the sum of the total number of phones for each year as a list called **total_lst** as such:\n",
    "\n",
    "```r\n",
    "> total_lst\n",
    "$`1951`\n",
    "[1] 74494\n",
    "\n",
    "$`1956`\n",
    "[1] 102199\n",
    "\n",
    "$`1957`\n",
    "[1] 110001\n",
    "\n",
    "$`1958`\n",
    "[1] 118399\n",
    "\n",
    "$`1959`\n",
    "[1] 124801\n",
    "\n",
    "$`1960`\n",
    "[1] 133709\n",
    "\n",
    "$`1961`\n",
    "[1] 141700\n",
    "\n",
    "```\n",
    "\n",
    "\n",
    "3. Find the sum of the total number of phones for each year as a vector called **total_vec** as such:\n",
    "\n",
    "```r\n",
    "> total_vec\n",
    "  1951   1956   1957   1958   1959   1960   1961 \n",
    " 74494 102199 110001 118399 124801 133709 141700 \n",
    "\n",
    "```"
   ]
  },
  {
   "cell_type": "markdown",
   "metadata": {},
   "source": [
    "## 20.2 SOLUTION"
   ]
  },
  {
   "cell_type": "code",
   "execution_count": null,
   "metadata": {},
   "outputs": [],
   "source": [
    "#1\n",
    "WorldPhones\n",
    "\n",
    "phones <- list(\"1951\" = WorldPhones[1, ],\n",
    "               \"1956\" = WorldPhones[2, ],\n",
    "               \"1957\" = WorldPhones[3, ],\n",
    "               \"1958\" = WorldPhones[4, ],\n",
    "               \"1959\" = WorldPhones[5, ],\n",
    "               \"1960\" = WorldPhones[6, ],\n",
    "               \"1961\" = WorldPhones[7, ])\n",
    "\n",
    "#2\n",
    "total_lst <- lapply(phones, sum)\n",
    "total_lst\n",
    "#3\n",
    "total_vec <- sapply(phones, sum)\n",
    "total_vec"
   ]
  },
  {
   "cell_type": "markdown",
   "metadata": {
    "tags": [
     "2019-2020-2",
     "medium",
     "Koralp",
     "list"
    ]
   },
   "source": [
    "# 21 THE OFFICE"
   ]
  },
  {
   "cell_type": "markdown",
   "metadata": {},
   "source": [
    "## 21.1 QUESTION"
   ]
  },
  {
   "cell_type": "markdown",
   "metadata": {},
   "source": [
    "Michael Scott is the boss of a paper manufacturing company. He decides to increase employees's weekly wages according to their weekly work hours. \n",
    "\n",
    "- He is planning to give a 3% increase (on hourly wages) who work more than or equal to 30 hours a week.\n",
    "- He is planning to give a 1% increase (on hourly wages) who work less than 30 but more than or equal to 25 hours a week.\n",
    "- He is not planning to make an increase for those who work less than 25 hours a week.\n",
    "\n",
    "\n",
    "1. Halpert and Schrute are two employees who work in this company. First copy this list below (wages indicated are hourly wages).\n",
    "\n",
    "```r\n",
    "list_staff <- list(list_halpert <- list(name = \"Halpert\",hours = 28, wage = 30),\n",
    "                   list_schrute <- list(name = \"Schrute\",hours = 35, wage = 25))\n",
    "```\n",
    "\n",
    "\n",
    "2. Create a function called **f_payroll** which has a one argument called **list_x**. It calculates monthly payrolls of these workers according to the rule above.\n",
    "\n",
    "\n",
    "3. Create a vector called **payrolls** which includes monthly payrolls of these workers.\n",
    "\n",
    "```r\n",
    "> payrolls\n",
    "[1] 3696 4550\n",
    "```\n",
    "\n",
    "\n",
    "**Hint**: Use `sapply` function."
   ]
  },
  {
   "cell_type": "markdown",
   "metadata": {},
   "source": [
    "## 21.2 SOLUTION"
   ]
  },
  {
   "cell_type": "code",
   "execution_count": null,
   "metadata": {},
   "outputs": [],
   "source": [
    "#1\n",
    "\n",
    "list_staff <- list(list_halpert <- list(name = \"Halpert\",hours = 28, wage = 30),\n",
    "                   list_schrute <- list(name = \"Schrute\",hours = 35, wage = 25))\n",
    "\n",
    "#2\n",
    "\n",
    "f_payroll <- function(list_x)\n",
    "{\n",
    "  if(list_x[[\"hours\"]] >= 30)\n",
    "  {\n",
    "    payroll <- list_x[[\"hours\"]] * (list_x[[\"wage\"]] * (1.3))\n",
    "  } else if(list_x[[\"hours\"]] >= 25 && list_x[[\"hours\"]] < 30)\n",
    "  { \n",
    "    payroll <- list_x[[\"hours\"]] * (list_x[[\"wage\"]] * (1.1))\n",
    "  } else\n",
    "  {\n",
    "    payroll <- list_x[[\"hours\"]] * list_x[[\"wage\"]]\n",
    "  }\n",
    "  return(4 * payroll)\n",
    "}\n",
    "\n",
    "#3\n",
    "\n",
    "payrolls <- sapply(list_staff, f_payroll)\n",
    "\n",
    "payrolls"
   ]
  },
  {
   "cell_type": "markdown",
   "metadata": {
    "tags": [
     "2019-2020-2",
     "medium",
     "Koralp",
     "list"
    ]
   },
   "source": [
    "# 22 BLOWIN IN THE WIND AND IMAGINE"
   ]
  },
  {
   "cell_type": "markdown",
   "metadata": {},
   "source": [
    "## 22.1 QUESTION"
   ]
  },
  {
   "cell_type": "markdown",
   "metadata": {},
   "source": [
    "In this question, we will figure out how many times is a particular word repeated in a song.\n",
    "\n",
    "1. First copy the following:\n",
    "\n",
    "```r\n",
    "text_1 <- \"how many roads must a man walk down before you call him a man \n",
    "how many seas must a white dove sail before she sleeps in the sand \n",
    "how many times must the cannonballs fly before they are forever banned\"\n",
    "\n",
    "words_blowin_in_the_wind <- unlist(strsplit(text_1, split = \" \"))\n",
    "words_blowin_in_the_wind <- unlist(strsplit(words_blowin_in_the_wind, split = \"\\\\n\"))\n",
    "words_blowin_in_the_wind\n",
    "\n",
    "text_2 <- \"imagine there is no heaven imagine all the people living for today \n",
    "imagine there is no countries imagine all the people living life in peace \n",
    "imagine no possessions I wonder if you can you may say I am a dreamer but I am not the only one\"\n",
    "\n",
    "words_imagine <- unlist(strsplit(text_2, split = \" \"))\n",
    "words_imagine <- unlist(strsplit(words_imagine, split = \"\\\\n\"))\n",
    "words_imagine\n",
    "```\n",
    "2. Create a function called **f_lyrics** which takes no arguments. By using two seperate `for` loops, figure out how many times is the word \"how\" repeated in the vector **words_blowin_in_the_wind** and how many times is the word \"imagine\" repeated in the vector **words_imagine**.\n",
    "\n",
    "\n",
    "3. The result should look like the following:\n",
    "\n",
    "```r\n",
    "> f_lyrics()\n",
    "$how\n",
    "[1] 3\n",
    "\n",
    "$imagine\n",
    "[1] 5\n",
    "```\n",
    "\n",
    "**Hint**: You may use `c()` to get the result above."
   ]
  },
  {
   "cell_type": "markdown",
   "metadata": {},
   "source": [
    "## 22.2 SOLUTION"
   ]
  },
  {
   "cell_type": "code",
   "execution_count": null,
   "metadata": {},
   "outputs": [],
   "source": [
    "#1\n",
    "\n",
    "# copying the code\n",
    "\n",
    "text_1 <- \"how many roads must a man walk down before you call him a man \n",
    "how many seas must a white dove sail before she sleeps in the sand \n",
    "how many times must the cannonballs fly before they are forever banned\"\n",
    "\n",
    "words_blowin_in_the_wind <- unlist(strsplit(text_1, split = \" \"))\n",
    "words_blowin_in_the_wind <- unlist(strsplit(words_blowin_in_the_wind, split = \"\\\\n\"))\n",
    "words_blowin_in_the_wind\n",
    "\n",
    "text_2 <- \"imagine there is no heaven imagine all the people living for today \n",
    "imagine there is no countries imagine all the people living life in peace \n",
    "imagine no possessions I wonder if you can you may say I am a dreamer but I am not the only one\"\n",
    "\n",
    "words_imagine <- unlist(strsplit(text_2, split = \" \"))\n",
    "words_imagine <- unlist(strsplit(words_imagine, split = \"\\\\n\"))\n",
    "words_imagine\n",
    "\n",
    "#2 and #3\n",
    "\n",
    "f_lyrics <- function()\n",
    "{\n",
    "  wordcount <- list()\n",
    "  wordcounts <- list()\n",
    "  sum_1 <- 0\n",
    "  sum_2 <- 0\n",
    "  for(word in words_blowin_in_the_wind)\n",
    "  {\n",
    "    if(word == \"how\")\n",
    "    {\n",
    "      sum_1 <- sum_1 + 1\n",
    "    }\n",
    "  wordcount[[\"how\"]] <- sum_1\n",
    "  }\n",
    "  for(word in words_imagine)\n",
    "  {\n",
    "    if(word == \"imagine\")\n",
    "    {\n",
    "      sum_2 <- sum_2 + 1\n",
    "    }\n",
    "  wordcounts[[\"imagine\"]] <- sum_2\n",
    "  }\n",
    "  return(c(wordcount, wordcounts))\n",
    "}\n",
    "\n",
    "f_lyrics()\n"
   ]
  },
  {
   "cell_type": "markdown",
   "metadata": {
    "tags": [
     "2019-2020-2",
     "medium",
     "omer",
     "demirtas",
     "list",
     "sapply"
    ]
   },
   "source": [
    "# 23 TOP QUIZZES"
   ]
  },
  {
   "cell_type": "markdown",
   "metadata": {},
   "source": [
    "## 23.1 QUESTION"
   ]
  },
  {
   "cell_type": "markdown",
   "metadata": {},
   "source": [
    "A professor makes a total of 6 quizzes and records the quiz results in a R list. Students are required to attend at least 3 of theese quizzes. If they attend more, only the 3 of their top grades are used in their final grades. So the professor wants to store 3 of each student's highest results in a matrix because every column has the same length.\n",
    "\n",
    "1. Create a function called **top_3s** with one argument; **qlist**, a list containing 3 to 6 quiz results for each student.\n",
    "\n",
    "\n",
    "2. Your function should find highest 3 results of each student and create a matrix called **qmat** where each column of the matrix represents a different student's results.\n",
    "\n",
    "\n",
    "3. **top_3s** should return **qmat** as such:\n",
    "\n",
    "```r\n",
    "> tlist <- list(c(1, 6, 3, 7),\n",
    "                c(6, 4, 4, 5, 1),\n",
    "                c(4, 4, 4),\n",
    "                c(9, 10, 8, 10, 10))\n",
    "\n",
    "> tlist\n",
    "\n",
    "[[1]]\n",
    "[1] 1 6 3 7\n",
    "\n",
    "[[2]]\n",
    "[1] 6 4 4 5 1\n",
    "\n",
    "[[3]]\n",
    "[1] 4 4 4\n",
    "\n",
    "[[4]]\n",
    "[1]  9 10  8 10 10\n",
    "\n",
    "> top_3s(qlist = tlist)\n",
    "\n",
    "     [,1] [,2] [,3] [,4]\n",
    "[1,] 7    6    4    10  \n",
    "[2,] 6    5    4    10  \n",
    "[3,] 3    4    4    10  \n",
    "```"
   ]
  },
  {
   "cell_type": "markdown",
   "metadata": {},
   "source": [
    "## 23.2 SOLUTION"
   ]
  },
  {
   "cell_type": "code",
   "execution_count": null,
   "metadata": {},
   "outputs": [],
   "source": [
    "#1\n",
    "top_3s <- function(qlist)\n",
    "{\n",
    "    #2\n",
    "    qmat <- sapply(qlist, function(x) sort(x, decreasing = T)[1:3])\n",
    "    #3\n",
    "    return(qmat)\n",
    "}\n",
    "                   \n",
    "tlist <- list(c(1, 6, 3, 7),\n",
    "              c(6, 4, 4, 5, 1),\n",
    "              c(4, 4, 4),\n",
    "              c(9, 10, 8, 10, 10))\n",
    "\n",
    "tlist\n",
    "\n",
    "top_3s(qlist = tlist)"
   ]
  },
  {
   "cell_type": "markdown",
   "metadata": {
    "tags": [
     "2019-2020-2",
     "medium",
     "omer",
     "demirtas",
     "list",
     "get_info_from_list",
     "list_tags"
    ]
   },
   "source": [
    "# 24 JOB INTERVIEWS"
   ]
  },
  {
   "cell_type": "markdown",
   "metadata": {},
   "source": [
    "## 24.1 QUESTION"
   ]
  },
  {
   "cell_type": "markdown",
   "metadata": {},
   "source": [
    "A human resources manager is making interviews with 2 candidates per day and schedules these interviews based on the alphabetical order of candidates' names.\n",
    "\n",
    "1. Create a function called **todays_int** with 1 argument; **all_cand**, a list containing informantion about every candidate.\n",
    "\n",
    "\n",
    "2. Your function will sort the candidates by the alphabetical order of their names and save the first 2 into a different list called **int_tod**.\n",
    "\n",
    "\n",
    "3. **todays_int** should return **int_tod** as such:\n",
    "\n",
    "```r\n",
    "> cands <- list(\"muslum\" = c(\"School: Bogazici\", \"Department: EE\", \"Hobbies: Bungee Jumping\"),\n",
    "                \"necati\" = c(\"School: Marmara\", \"Department: CMPE\"),\n",
    "                \"pelin\" = c(\"School: İstanbul\", \"Department: ECON\", \"Skills: Accounting\"),\n",
    "                \"zahid\" = c(\"School: Bogazici\", \"Skills: Accounting\"),\n",
    "                \"maksud\" = c(\"Skills: RStudio\", \"Hobbies: Swimming\"))\n",
    "\n",
    "> todays_int(all_cand = cands)\n",
    "\n",
    "$maksud\n",
    "[1] \"Skills: RStudio\"   \"Hobbies: Swimming\"\n",
    "\n",
    "$muslum\n",
    "[1] \"School: Bogazici\"        \"Department: EE\"         \n",
    "[3] \"Hobbies: Bungee Jumping\"\n",
    "\n",
    "```"
   ]
  },
  {
   "cell_type": "markdown",
   "metadata": {},
   "source": [
    "## 24.2 SOLUTION"
   ]
  },
  {
   "cell_type": "code",
   "execution_count": null,
   "metadata": {},
   "outputs": [],
   "source": [
    "#1\n",
    "todays_int <- function(all_cand)\n",
    "{\n",
    "    #2\n",
    "    int_tod <- all_cand[sort(names(all_cand))[1:2]]\n",
    "    #3\n",
    "    return(int_tod)\n",
    "}\n",
    "\n",
    "cands <- list(\"muslum\" = c(\"School: Bogazici\", \"Department: EE\", \"Hobbies: Bungee Jumping\"),\n",
    "              \"necati\" = c(\"School: Marmara\", \"Department: CMPE\"),\n",
    "              \"pelin\" = c(\"School: İstanbul\", \"Department: ECON\", \"Skills: Accounting\"),\n",
    "              \"zahid\" = c(\"School: Bogazici\", \"Skills: Accounting\"),\n",
    "              \"maksud\" = c(\"Skills: RStudio\", \"Hobbies: Swimming\"))\n",
    "\n",
    "todays_int(all_cand = cands)"
   ]
  },
  {
   "cell_type": "markdown",
   "metadata": {
    "tags": [
     "2019-2020-2",
     "omer",
     "demirtas",
     "get_info_from_list",
     "unlist",
     "medium"
    ]
   },
   "source": [
    "# 25 LIST HATER"
   ]
  },
  {
   "cell_type": "markdown",
   "metadata": {},
   "source": [
    "## 25.1 QUESTION"
   ]
  },
  {
   "cell_type": "markdown",
   "metadata": {},
   "source": [
    "A CMPE140 student didn't like lists all that much, and thinks they are useless unless they have more than 4 list elements. She prefers having the data stored in vectors because it looks less confusing.\n",
    "\n",
    "1. Create a function called **anti_list** with only one argument: **a_list**.\n",
    "\n",
    "\n",
    "2. **anti_list** should first check if **a_list** has more than four elements.\n",
    "\n",
    "\n",
    "3. If **a_list** contains 4 or less list elements, **anti_list** should return all the data in **a_list** in a vector.\n",
    "\n",
    "\n",
    "4. If **a_list** contains more than 4 list elements, **anti_list** should return **a_list** as such:\n",
    "\n",
    "```r\n",
    "> midterms <- list(\"math\" = c(3, 13),\n",
    "                   \"econ\" = 56,\n",
    "                   \"cmpe\" = 20)\n",
    "                   \n",
    "> mts_updated <-  list(\"math\" = c(3, 13),\n",
    "                      \"econ\" = c(56, 72),\n",
    "                      \"cmpe\" = 20,\n",
    "                      \"psy\" = 96,\n",
    "                      \"ae\" = 100)\n",
    "                      \n",
    "> anti_list(a_list = midterms)\n",
    "\n",
    "math1 math2  econ  cmpe \n",
    "    3    13    56    20 \n",
    "\n",
    "> anti_list(a_list = mts_updated)\n",
    "\n",
    "$math\n",
    "[1]  3 13\n",
    "\n",
    "$econ\n",
    "[1] 56 72\n",
    "\n",
    "$cmpe\n",
    "[1] 20\n",
    "\n",
    "$psy\n",
    "[1] 96\n",
    "\n",
    "$ae\n",
    "[1] 100\n",
    "```"
   ]
  },
  {
   "cell_type": "markdown",
   "metadata": {},
   "source": [
    "## 25.2 SOLUTION"
   ]
  },
  {
   "cell_type": "code",
   "execution_count": null,
   "metadata": {},
   "outputs": [],
   "source": [
    "anti_list <- function(a_list)\n",
    "{\n",
    "    if (length(a_list) <= 4) unlist(a_list)\n",
    "    \n",
    "    else return(a_list)\n",
    "}\n",
    "\n",
    "midterms <- list(\"math\" = c(3, 13),\n",
    "                 \"econ\" = 56,\n",
    "                 \"cmpe\" = 20)\n",
    "\n",
    "mts_updated <-  list(\"math\" = c(3, 13),\n",
    "                     \"econ\" = c(56, 72),\n",
    "                     \"cmpe\" = 20,\n",
    "                     \"psy\" = 96,\n",
    "                     \"ae\" = 100)\n",
    "\n",
    "anti_list(a_list = midterms)\n",
    "\n",
    "anti_list(a_list = mts_updated)"
   ]
  },
  {
   "cell_type": "markdown",
   "metadata": {
    "tags": [
     "2019-2020-2",
     "bugra",
     "mixing_different_objects",
     "medium"
    ]
   },
   "source": [
    "# 26 WHO SHOULD WE HIRE?"
   ]
  },
  {
   "cell_type": "markdown",
   "metadata": {},
   "source": [
    "## 26.1 QUESTION"
   ]
  },
  {
   "cell_type": "markdown",
   "metadata": {},
   "source": [
    "- You are the HR manager of a company. You are looking for Financial Analyst. In the final phase, you could not decide about who to hire. So, you want your intern student to bring you some information about them. You want their lists that consist of name, age, education, salary expectation and city where they are currently living. \n",
    "\n",
    "- Your criteria are; *being older than 25, living in Istanbul, having a Master's Degree and expecting a salary which is below 3000 dollars*. You want to hire the persons who meet at least 3 criteria.\n",
    "\n",
    "- Your lovely intern brings you the lists but unfortunately they are in a mess. The lists are given below.\n",
    "\n",
    "```r\n",
    "\n",
    "e1 <- list(age = 26, name=\"Can\", education = \"MSc\", sal_exp = 3700, city = \"Izmir\")\n",
    "e2 <- list(city = \"Ankara\", name=\"Mert\", age = 23,education = \"BSc\", sal_exp = 3400)\n",
    "e3 <- list(sal_exp = 3200, name=\"Bilge\", age = 27, city = \"Istanbul\", education = \"MSc\")\n",
    "e4 <- list(name=\"Sinem\", age = 26, city = \"Istanbul\", education = \"BA\", sal_exp = 2500)\n",
    "\n",
    "```\n",
    "\n",
    "\n",
    "\n",
    "- Create the function **hiring** that takes 4 lists as argument; *l1, l2, l3, l4*. This function should take the lists given above and return the names of persons to hire. The function is expected to take the lists *as given*.\n",
    "\n",
    "```r\n",
    "\n",
    "> hiring(e1, e2, e3, e4)\n",
    "[1] \"Bilge\" \"Sinem\"\n",
    "\n",
    "```\n",
    "\n",
    "\n",
    "\n",
    "\n"
   ]
  },
  {
   "cell_type": "markdown",
   "metadata": {},
   "source": [
    "## 26.2 SOLUTION"
   ]
  },
  {
   "cell_type": "code",
   "execution_count": null,
   "metadata": {},
   "outputs": [],
   "source": [
    "#1 Using the lists given.\n",
    "\n",
    "e1 <- list(age = 26, name=\"Can\", education = \"MSc\", sal_exp = 3700, city = \"Izmir\")\n",
    "e2 <- list(city = \"Ankara\", name=\"Mert\", age = 23,education = \"BSc\", sal_exp = 3400)\n",
    "e3 <- list(sal_exp = 3200, name=\"Bilge\", age = 27, city = \"Istanbul\", education = \"MSc\")\n",
    "e4 <- list(name=\"Sinem\", age = 26, city = \"Istanbul\", education = \"BA\", sal_exp = 2500)\n",
    "\n",
    "#2 Creating the function.\n",
    "\n",
    "hiring <- function(l1, l2, l3, l4)\n",
    "{\n",
    "    names <- c(e1$name, e2$name, e3$name, e4$name)   # Create the vector of names.\n",
    "    \n",
    "    p1 <- unlist(l1)   # Unlist the lists to sort them neatly.\n",
    "    p2 <- unlist(l2)\n",
    "    p3 <- unlist(l3)\n",
    "    p4 <- unlist(l4)\n",
    "    \n",
    "    \n",
    "    # Now create vectors by organizing the data.\n",
    "    \n",
    "    p1 <- c(p1[names(p1)==\"age\"], p1[names(p1)==\"city\"], p1[names(p1)==\"education\"], \n",
    "            p1[names(p1)==\"sal_exp\"])\n",
    "    p2 <- c(p2[names(p2)==\"age\"], p2[names(p2)==\"city\"], p2[names(p2)==\"education\"], \n",
    "            p2[names(p2)==\"sal_exp\"])\n",
    "    p3 <- c(p3[names(p3)==\"age\"], p3[names(p3)==\"city\"], p3[names(p3)==\"education\"], \n",
    "            p3[names(p3)==\"sal_exp\"])\n",
    "    p4 <- c(p4[names(p4)==\"age\"], p4[names(p4)==\"city\"], p4[names(p4)==\"education\"], \n",
    "            p4[names(p4)==\"sal_exp\"])\n",
    "    \n",
    "    \n",
    "    # Now see which criteria they meet.\n",
    "  \n",
    "    n_p1 <- c(isTRUE(p1[1] > 25),isTRUE(p1[2] == \"Istanbul\"),\n",
    "                  isTRUE(p1[3] == \"MSc\"),isTRUE(p1[4] < 3000) )    \n",
    "    n_p2 <- c(isTRUE(p2[1] > 25),isTRUE(p2[2] == \"Istanbul\"),\n",
    "                  isTRUE(p2[3] == \"MSc\"),isTRUE(p2[4] < 3000) )\n",
    "    n_p3 <- c(isTRUE(p3[1] > 25),isTRUE(p3[2] == \"Istanbul\"),\n",
    "                  isTRUE(p3[3] == \"MSc\"),isTRUE(p3[4] < 3000) )\n",
    "    n_p4 <- c(isTRUE(p4[1] > 25),isTRUE(p4[2] == \"Istanbul\"),\n",
    "                  isTRUE(p4[3] == \"MSc\"),isTRUE(p4[4] < 3000) )\n",
    "    \n",
    "    # Now create the indices vector to see how many critera they meet.\n",
    "    \n",
    "   ind <- c(sum(n_p1==\"TRUE\"),sum(n_p2==\"TRUE\"),sum(n_p3==\"TRUE\"),sum(n_p4==\"TRUE\"))\n",
    "     \n",
    "    # Return the names of those who meet over than 3 criteria.\n",
    "    \n",
    "   return(names[which(ind>=3)])\n",
    "  \n",
    "}\n",
    "\n",
    "hiring(e1, e2, e3, e4)"
   ]
  },
  {
   "cell_type": "markdown",
   "metadata": {
    "tags": [
     "2019-2020-2",
     "ceren",
     "tags_of_list_elements",
     "medium"
    ]
   },
   "source": [
    "# 27 LETTER GRADES"
   ]
  },
  {
   "cell_type": "markdown",
   "metadata": {},
   "source": [
    "## 27.1 QUESTION"
   ]
  },
  {
   "cell_type": "markdown",
   "metadata": {},
   "source": [
    "| Name | Grade |\n",
    "| ---------| ------ | \n",
    "| Ayşe     | 55     |  \n",
    "| Murat   | 88     |  \n",
    "| Fikret   | 42     |   \n",
    "| Begüm      | 65     |   \n",
    "\n",
    "1) Create a list called **Student_List** consisting of person's name and EC 208 grade using above table. The result should look like this:\n",
    "\n",
    "```r\n",
    "> Student_List\n",
    "$names\n",
    "[1] \"Ayşe\"   \"Murat\"  \"Fikret\" \"Begüm\" \n",
    "\n",
    "$grades\n",
    "[1] 55 88 42 65\n",
    "```\n",
    "\n",
    "2) Create a function named **letter_grades** which takes one argument named **lst**. The function should calculate the average grade in the class. The person with the highest grade will get an AA. The person with the loweest grade will get a CC. For other two students, if they are above average, they will get BA; if they are below average they will get BB. This function should add a new list component to **Student_List** with the tag called **letter**.\n",
    "\n",
    "The result should look like this:\n",
    "\n",
    "```r\n",
    "> letter_grades(Student_List)\n",
    "$names\n",
    "[1] \"Ayşe\"   \"Murat\"  \"Fikret\" \"Begüm\" \n",
    "\n",
    "$grades\n",
    "[1] 55 88 42 65\n",
    "\n",
    "$letter\n",
    "[1] \"BB\" \"AA\" \"CC\" \"BA\"\n",
    "```"
   ]
  },
  {
   "cell_type": "markdown",
   "metadata": {},
   "source": [
    "## 27.2 SOLUTION"
   ]
  },
  {
   "cell_type": "code",
   "execution_count": null,
   "metadata": {},
   "outputs": [],
   "source": [
    "#1\n",
    "Student_List <- list(names = c(\"Ayşe\", \"Murat\", \"Fikret\",\"Begüm\"),\n",
    "                     grades = c(55, 88, 42, 65))\n",
    "\n",
    "#2\n",
    "letter_grades <- function(lst) \n",
    "{\n",
    "  highest <- max(lst$grades)\n",
    "  lowest <- min(lst$grades)\n",
    "  avg <- mean(lst$grades)\n",
    "  \n",
    "  for (i in 1:length(lst[[1]])) {\n",
    "    \n",
    "    if(lst$grades[i] == highest) \n",
    "    {\n",
    "      lst$letter[i] <- \"AA\"\n",
    "    } \n",
    "    else\n",
    "      {\n",
    "      if(lst$grades[i] == lowest) \n",
    "        {\n",
    "      lst$letter[i] <- \"CC\"\n",
    "        }\n",
    "      else\n",
    "      {\n",
    "      if(lst$grades[i] >= avg)\n",
    "        {\n",
    "      lst$letter[i] <- \"BA\"\n",
    "        }\n",
    "      if(lst$grades[i] <= avg)\n",
    "        {\n",
    "      lst$letter[i] <- \"BB\"\n",
    "        }\n",
    "      }\n",
    "      }\n",
    "  }\n",
    "  return(lst)\n",
    "}\n",
    "\n",
    "letter_grades(Student_List)"
   ]
  },
  {
   "cell_type": "markdown",
   "metadata": {
    "tags": [
     "2019-2020-2",
     "hard",
     "berke",
     "lists",
     "indexing_with_single_and_double_brackets"
    ]
   },
   "source": [
    "# 28 TRANSFERMARKT MOST VALUABLE PLAYERS"
   ]
  },
  {
   "cell_type": "markdown",
   "metadata": {},
   "source": [
    "## 28.1 QUESTION"
   ]
  },
  {
   "cell_type": "markdown",
   "metadata": {},
   "source": [
    "In Transfermarkt website, most valuable players are reported. These are current most valuable players:\n",
    "\n",
    "| player_name     \t| age \t| nation    \t| league  \t| market_value (million €) \t|\n",
    "|-----------------\t|-----\t|-----------\t|---------\t|--------------------------\t|\n",
    "| Mbappe          \t| 21  \t| France    \t| France  \t| 200                      \t|\n",
    "| Sterling        \t| 25  \t| England   \t| England \t| 160                      \t|\n",
    "| Neymar          \t| 28  \t| Brazil    \t| France  \t| 160                      \t|\n",
    "| Sadio Mane      \t| 27  \t| Senegal   \t| England \t| 150                      \t|\n",
    "| M. Salah        \t| 27  \t| Egypt     \t| England \t| 150                      \t|\n",
    "| Harry Kane      \t| 26  \t| England   \t| England \t| 150                      \t|\n",
    "| Kevin De Bruyne \t| 28  \t| Belgium   \t| England \t| 150                      \t|\n",
    "| Messi           \t| 32  \t| Argentina \t| Spain   \t| 140                      \t|\n",
    "| Sancho          \t| 20  \t| England   \t| Germany \t| 130                      \t|\n",
    "| Griezmann       \t| 29  \t| France    \t| Spain   \t| 120                      \t|\n",
    "\n",
    "In this question you will find which players are playing in their own country.\n",
    "\n",
    "1. With this data create a list named **transfermarkt_top_10**.\n",
    "\n",
    "\n",
    "2. Create a function named **patriot_players** that will find players playing in their own country and name them as **patriots** inside function. **Hint:** You should use a for loop, single **[]** and double-brackets **[[]]** when indexing.\n",
    "\n",
    "\n",
    "3. This function will return **player_name, age** and **market_value** of these players as a *list*.\n",
    "\n",
    "The output should look as follows:\n",
    "\n",
    "```r\n",
    "> patriot_players(transfermarket_top_10)\n",
    "$player_name\n",
    "[1] \"Mbappe\"     \"Sterling\"   \"Harry Kane\"\n",
    "\n",
    "$age\n",
    "[1] 21 25 26\n",
    "\n",
    "$market_value\n",
    "[1] 200 160 150\n",
    "```\n",
    "\n"
   ]
  },
  {
   "cell_type": "markdown",
   "metadata": {},
   "source": [
    "## 28.2 SOLUTION"
   ]
  },
  {
   "cell_type": "code",
   "execution_count": null,
   "metadata": {},
   "outputs": [],
   "source": [
    "#1\n",
    "transfermarkt_top_10 <- list(player_name = c(\"Mbappe\", \"Sterling\", \"Neymar\", \"Sadio Mane\", \"M. Salah\", \"Harry Kane\", \"Kevin De Bruyne\", \"Messi\", \"Sancho\", \"Griezmann\"), \n",
    "                age = c(21, 25, 28, 27, 27, 26, 28, 32, 20, 29), \n",
    "                nation = c(\"France\", \"England\", \"Brazil\", \"Senegal\", \"Egypt\", \"England\", \"Belgium\", \"Argentina\", \"England\", \"France\"), \n",
    "                league = c(\"France\", \"England\", \"France\", \"England\", \"England\", \"England\", \"England\", \"Spain\", \"Germany\", \"Spain\"), \n",
    "                market_value = c(200, 160, 160, 150, 150, 150, 150, 140, 130, 120))\n",
    "\n",
    "#2\n",
    "patriot_players <- function(playerdata = transfermarkt_top_10) {\n",
    "    \n",
    "  same_nation_same_country <- which(playerdata[[\"nation\"]] == playerdata[[\"league\"]])\n",
    "  patriot_name <- c()\n",
    "  patriot_age <- c()\n",
    "  patriot_market_value <- c()\n",
    "    \n",
    "  for (i in same_nation_same_country) {\n",
    "      \n",
    "    patriot_name <- c(patriot_name, playerdata[[\"player_name\"]][i])\n",
    "    patriot_age <- c(patriot_age, playerdata[[\"age\"]][i])\n",
    "    patriot_market_value <- c(patriot_market_value, playerdata[[\"market_value\"]][i])\n",
    "      \n",
    "  }\n",
    "    \n",
    "  patriots <- list(player_name = patriot_name, age = patriot_age, market_value = patriot_market_value)\n",
    "    \n",
    "  return(patriots)\n",
    "}\n",
    "\n",
    "#3\n",
    "patriot_players(transfermarkt_top_10)"
   ]
  },
  {
   "cell_type": "markdown",
   "metadata": {
    "tags": [
     "2019-2020-2",
     "hard",
     "berk",
     "single_double_bracket_indexing",
     "lists"
    ]
   },
   "source": [
    "# 29 PRESENTS OF SANTA CLAUS"
   ]
  },
  {
   "cell_type": "markdown",
   "metadata": {},
   "source": [
    "## 29.1 QUESTION"
   ]
  },
  {
   "cell_type": "markdown",
   "metadata": {},
   "source": [
    "Before the arrival of Christmas, Santa Claus started to choose the children who were good that year and those who were naughty. As a practice, he randomly chose 5 children with the following names, the presents that they want, and the days that they had been good. If they were good more than 200 days, they get what they want; if not, they get a piece of coal. Following are the children:\n",
    "\n",
    "- Child 1: (\"Tony\", \"Laser Gun\", 122)\n",
    "- Child 2: (\"Steve\", \"Shield\", 277)\n",
    "- Child 3: (\"Natasha\", \"Gloves\", 201)\n",
    "- Child 4: (\"Bruce\", \"Chemistry Set\", 195)\n",
    "- Child 5: (\"Clint\", \"Arrows\", 315)\n",
    "\n",
    "\n",
    "1. Create vectors for every children, **ch_1** for Child 1, **ch_2** for Child 2, **ch_3** for Child 3, **ch_4** for Child 4, **ch_5** for Child 5. Assign their names, the presents, and their good days to these vectors.\n",
    "\n",
    "```r\n",
    "    > ch_1\n",
    "    [1] \"Tony\"    \"Laser Gun\"      \"122\"      \n",
    "    > ch_2\n",
    "    [1] \"Steve\"   \"Shield\"         \"277\"   \n",
    "    > ch_3\n",
    "    [1] \"Natasha\" \"Gloves\"         \"201\"    \n",
    "    > ch_4\n",
    "    [1] \"Bruce\"   \"Chemistry Set\"  \"195\"          \n",
    "    > ch_5\n",
    "    [1] \"Clint\"   \"Arrows\"         \"315\"\n",
    "```\n",
    "\n",
    "2. Create a list named **children** containing the names of the children, the presents, and their good days.\n",
    "\n",
    "```r\n",
    "    > children\n",
    "    [[1]]\n",
    "    [1] \"Tony\"    \"Laser Gun\"      \"122\"      \n",
    "\n",
    "    [[2]]\n",
    "    [1] \"Steve\"   \"Shield\"         \"277\"   \n",
    "\n",
    "    [[3]]\n",
    "    [1] \"Natasha\" \"Gloves\"         \"201\"    \n",
    "\n",
    "    [[4]]\n",
    "    [1] \"Bruce\"   \"Chemistry Set\"  \"195\"          \n",
    "\n",
    "    [[5]]\n",
    "    [1] \"Clint\"   \"Arrows\"         \"315\"  \n",
    "```\n",
    "\n",
    "3. Create a function named **santa_helper** which takes one argument **child_list**. The function should return the presents (or coals) that each children get. Use the list **children** as the argument for this function and assign the returned values to a vector called **presents**.\n",
    "\n",
    "```r\n",
    "    > presents\n",
    "        Tony    Steve  Natasha    Bruce    Clint \n",
    "      \"Coal\" \"Shield\" \"Gloves\"   \"Coal\" \"Arrows\" \n",
    "```"
   ]
  },
  {
   "cell_type": "markdown",
   "metadata": {},
   "source": [
    "## 29.2 SOLUTION"
   ]
  },
  {
   "cell_type": "code",
   "execution_count": null,
   "metadata": {},
   "outputs": [],
   "source": [
    "# 1)Create vectors for children\n",
    "ch_1 <- c(\"Tony\", \"Laser Gun\", 122)\n",
    "ch_2 <- c(\"Steve\", \"Shield\", 277)\n",
    "ch_3 <- c(\"Natasha\", \"Gloves\", 201)\n",
    "ch_4 <- c(\"Bruce\", \"Chemistry Set\", 195)\n",
    "ch_5 <- c(\"Clint\", \"Arrows\", 315)\n",
    "ch_1\n",
    "ch_2\n",
    "ch_3\n",
    "ch_4\n",
    "ch_5\n",
    "\n",
    "# 2)Create children list\n",
    "children <- list(ch_1, ch_2, ch_3, ch_4, ch_5)\n",
    "children\n",
    "\n",
    "# 3)Create santa_helper function\n",
    "santa_helper <- function(child_list)\n",
    "{\n",
    "  present_list <- c()  # an empty vector for the presents\n",
    "  children_names <- c()  # an empty vector for the names\n",
    "  for (i in 1:length(child_list))\n",
    "  {\n",
    "    \n",
    "    if (child_list[[i]][3] > 200)  # 3 signifies the 3rd element in the child vector, that is the good days\n",
    "    {\n",
    "      present_list[i] <- child_list[[i]][2]  # 2 signifies the 2nd element in the child vector, that is the present\n",
    "    }\n",
    "    else\n",
    "    {\n",
    "      present_list[i] <- \"Coal\"\n",
    "    }\n",
    "    children_names <- c(children_names, child_list[[i]][1]) # 1 signifies the 1st element in the child list, that is the name\n",
    "  }\n",
    "  names(present_list) <- children_names\n",
    "  return(present_list)\n",
    "}\n",
    "presents <- santa_helper(children)\n",
    "presents"
   ]
  },
  {
   "cell_type": "markdown",
   "metadata": {
    "tags": [
     "2019-2020-2",
     "hard",
     "bugra",
     "concatenating_lists"
    ]
   },
   "source": [
    "# 30 THE MELON COMPANY"
   ]
  },
  {
   "cell_type": "markdown",
   "metadata": {},
   "source": [
    "## 30.1 QUESTION"
   ]
  },
  {
   "cell_type": "markdown",
   "metadata": {},
   "source": [
    "- The Melon Company grows melons and market them. They use the data of different Melon producers to determine their marketing strategy. Unfortunately last week their IT manager messed everything up. He mixed 35 variable of Data and Marketing departments by creating a list.\n",
    "\n",
    "\n",
    "- Now, you are responsible for putting everything in order. The messed up data is given below.\n",
    "\n",
    "          \n",
    "```r\n",
    "melon_data <- list(12,\"Melon is something good\", TRUE, 214, 54,\"The Melon has a building.\", \"Consumer Graphs\", 4i, \n",
    "               FALSE, 44, FALSE, 432, 11, TRUE,\"I want to eat a Melon\", \"Consumer Behaviors\", 2i, \n",
    "               \"The Melon sold it.\", 6i, \"Consumer is not choosing.\", FALSE, 654, \"Consumer profile\", \n",
    "             12i, FALSE,\"The Melon is a well-known company\", 222, \"Consumer data\", TRUE, 6i, \n",
    "             \"The Melon company has been doing good\", 21, 22i, FALSE, \"I hate the Consumer\")\n",
    "\n",
    "\n",
    "```\n",
    "\n",
    "\n",
    "- As you can see different type of variables are mixed. \n",
    "\n",
    "\n",
    "- The class of numeric data that is bigger than 100 belongs to the *Data* department. The other numeric data belongs to the *Marketing* department.\n",
    "\n",
    "- The class of complex data belongs to the *Data* department. \n",
    "\n",
    "- The class of logical data belongs to the *Marketing* department.\n",
    "\n",
    "- The class of characters belongs to the both departments. The thing is, if the second word of the sentence is *Melon*, then it belongs to the *Data* department. If the first word of the sentence is *Consumer*, then it belongs to the *Marketing* department. Other sentences are useless and do not belong anywhere.\n",
    "\n",
    "\n",
    "- Now, create the function **ordering** that takes two arguments; **lst**(a list), **dep**(the department that we want to see the data of. The function should take the Company's data and return the data of intended department as a list.\n",
    "\n",
    "\n",
    "**HINT**: You should use `strsplit()` function to split the sentences.\n",
    "\n",
    "```r\n",
    "\n",
    "> ordering(melon_data, \"Data\")\n",
    "$department\n",
    "[1] \"Data\"\n",
    "\n",
    "$numerics\n",
    "[1] 214 432 654 222\n",
    "\n",
    "$complex\n",
    "[1] 0+ 4i 0+ 2i 0+ 6i 0+12i 0+ 6i 0+22i\n",
    "\n",
    "$characters\n",
    "[1] \"The Melon has a building.\"             \"The Melon sold it.\"                   \n",
    "[3] \"The Melon is a well-known company\"     \"The Melon company has been doing good\"\n",
    "\n",
    "```\n",
    "\n",
    "```r\n",
    "\n",
    "> ordering(melon_data, \"Marketing\")\n",
    "$department\n",
    "[1] \"Marketing\"\n",
    "\n",
    "$numerics\n",
    "[1] 12 54 44 11 21\n",
    "\n",
    "$logicals\n",
    "[1]  TRUE FALSE FALSE  TRUE FALSE FALSE  TRUE FALSE\n",
    "\n",
    "$characters\n",
    "[1] \"Consumer Graphs\"           \"Consumer Behaviors\"        \"Consumer is not choosing.\"\n",
    "[4] \"Consumer profile\"          \"Consumer data\"   \n",
    "\n",
    "```\n",
    "\n",
    "\n",
    "\n"
   ]
  },
  {
   "cell_type": "markdown",
   "metadata": {},
   "source": [
    "## 30.2 SOLUTION"
   ]
  },
  {
   "cell_type": "code",
   "execution_count": null,
   "metadata": {},
   "outputs": [],
   "source": [
    "# Importing the data given.\n",
    "\n",
    "melon_data <- list(12,\"Melon is something good\", TRUE, 214, 54,\"The Melon has a building.\", \"Consumer Graphs\", 4i, FALSE,\n",
    "          44, FALSE, 432, 11, TRUE,\"I want to eat a Melon\", \"Consumer Behaviors\", 2i, \n",
    "          \"The Melon sold it.\", 6i, \"Consumer is not choosing.\", FALSE, 654, \"Consumer profile\", \n",
    "          12i, FALSE,\"The Melon is a well-known company\", 222, \"Consumer data\", TRUE, 6i, \n",
    "          \"The Melon company has been doing good\", 21, 22i, FALSE, \"I hate the Consumer\")\n",
    "\n",
    "\n",
    "# Creating the function.\n",
    "\n",
    "ordering <- function(lst, dep)\n",
    "{\n",
    "  int_data <- c()   # Create empty vectors so that you can save the data into them.\n",
    "  int_mar <- c()\n",
    "  cmp <- c()\n",
    "  log <- c()\n",
    "  char_data <- c()\n",
    "  char_mar <- c() \n",
    "  \n",
    "  for (i in 1:length(lst)) \n",
    "  {\n",
    "  \n",
    "    if(class(lst[[i]]) == \"numeric\")       \n",
    "    {\n",
    "      if(lst[[i]] > 100) {int_data <- c(int_data, lst[[i]])}\n",
    "      \n",
    "      else{int_mar <- c(int_mar, lst[[i]])}\n",
    "    }\n",
    "    \n",
    "    else if(class(lst[[i]]) == \"complex\"){cmp <- c(cmp, lst[[i]])}\n",
    "    \n",
    "    else if(class(lst[[i]]) == \"logical\"){log <- c(log, lst[[i]])}\n",
    "    \n",
    "    else if(class(lst[[i]]) == \"character\")\n",
    "    {\n",
    "    \n",
    "      sent <- lst[[i]]\n",
    "      div <- strsplit(sent, \" \")   # Use that function to split sentence into words. How many spaces you put\n",
    "                                    # between \"\" makes the difference.\n",
    "      \n",
    "      if(div[[1]][2] == \"Melon\"){char_data <- c(char_data, lst[[i]])}\n",
    "      \n",
    "      else if(div[[1]][1] == \"Consumer\"){char_mar <- c(char_mar, lst[[i]])}\n",
    "    }\n",
    "    \n",
    "      \n",
    "  }\n",
    "        \n",
    "\n",
    " # Create the lists for the two departments.\n",
    "  \n",
    "  lstm <- list(department=\"Marketing\", numerics=int_mar, logicals=log, characters=char_mar)\n",
    "  lstd <- list(department=\"Data\", numerics=int_data, complex=cmp, characters=char_data)\n",
    "  \n",
    "  if(dep == \"Marketing\"){return(lstm)}   # Return the accurate list depending on the argument.\n",
    "  else{return(lstd)}\n",
    "}\n",
    "\n",
    "ordering(melon_data, \"Data\")\n",
    "    \n",
    "ordering(melon_data, \"Marketing\")"
   ]
  }
 ],
 "metadata": {
  "celltoolbar": "Tags",
  "kernelspec": {
   "display_name": "R",
   "language": "R",
   "name": "ir"
  },
  "language_info": {
   "codemirror_mode": "r",
   "file_extension": ".r",
   "mimetype": "text/x-r-source",
   "name": "R",
   "pygments_lexer": "r",
   "version": "3.6.1"
  },
  "toc": {
   "base_numbering": 1,
   "nav_menu": {},
   "number_sections": true,
   "sideBar": true,
   "skip_h1_title": false,
   "title_cell": "Table of Contents",
   "title_sidebar": "Contents",
   "toc_cell": false,
   "toc_position": {},
   "toc_section_display": true,
   "toc_window_display": true
  },
  "varInspector": {
   "cols": {
    "lenName": 16,
    "lenType": 16,
    "lenVar": 40
   },
   "kernels_config": {
    "python": {
     "delete_cmd_postfix": "",
     "delete_cmd_prefix": "del ",
     "library": "var_list.py",
     "varRefreshCmd": "print(var_dic_list())"
    },
    "r": {
     "delete_cmd_postfix": ") ",
     "delete_cmd_prefix": "rm(",
     "library": "var_list.r",
     "varRefreshCmd": "cat(var_dic_list()) "
    }
   },
   "types_to_exclude": [
    "module",
    "function",
    "builtin_function_or_method",
    "instance",
    "_Feature"
   ],
   "window_display": false
  }
 },
 "nbformat": 4,
 "nbformat_minor": 2
}
