{
 "cells": [
  {
   "cell_type": "code",
   "execution_count": null,
   "metadata": {},
   "outputs": [],
   "source": [
    "options(jupyter.rich_display = F)"
   ]
  },
  {
   "cell_type": "markdown",
   "metadata": {
    "tags": [
     "2019-2020-2",
     "easy",
     "Koralp",
     "matrix"
    ]
   },
   "source": [
    "# 1 PRODUCT MATRIX\n"
   ]
  },
  {
   "cell_type": "markdown",
   "metadata": {},
   "source": [
    "## 1.1 QUESTION"
   ]
  },
  {
   "cell_type": "markdown",
   "metadata": {},
   "source": [
    "Create a function called **f_mat** that takes two arguments called **x** and **y**. \n",
    "\n",
    "1. This function creates a matrix which includes numbers from 1 to the product of **x** and **y** (in the ascending order) and has x rows. \n",
    "\n",
    "\n",
    "2. Then the function subsets the last 2 columns of the matrix.\n",
    "\n",
    "\n",
    "3. For example:\n",
    "\n",
    " ```r\n",
    " > f_mat(x = 4, y = 5)\n",
    "     [,1] [,2]\n",
    "[1,]   13   17\n",
    "[2,]   14   18\n",
    "[3,]   15   19\n",
    "[4,]   16   20\n",
    " ```"
   ]
  },
  {
   "cell_type": "markdown",
   "metadata": {},
   "source": [
    "## 1.2 SOLUTION"
   ]
  },
  {
   "cell_type": "code",
   "execution_count": 1,
   "metadata": {},
   "outputs": [
    {
     "data": {
      "text/html": [
       "<table>\n",
       "<tbody>\n",
       "\t<tr><td>13</td><td>17</td></tr>\n",
       "\t<tr><td>14</td><td>18</td></tr>\n",
       "\t<tr><td>15</td><td>19</td></tr>\n",
       "\t<tr><td>16</td><td>20</td></tr>\n",
       "</tbody>\n",
       "</table>\n"
      ],
      "text/latex": [
       "\\begin{tabular}{ll}\n",
       "\t 13 & 17\\\\\n",
       "\t 14 & 18\\\\\n",
       "\t 15 & 19\\\\\n",
       "\t 16 & 20\\\\\n",
       "\\end{tabular}\n"
      ],
      "text/markdown": [
       "\n",
       "| 13 | 17 |\n",
       "| 14 | 18 |\n",
       "| 15 | 19 |\n",
       "| 16 | 20 |\n",
       "\n"
      ],
      "text/plain": [
       "     [,1] [,2]\n",
       "[1,] 13   17  \n",
       "[2,] 14   18  \n",
       "[3,] 15   19  \n",
       "[4,] 16   20  "
      ]
     },
     "metadata": {},
     "output_type": "display_data"
    }
   ],
   "source": [
    "#1 and #2\n",
    "\n",
    "f_mat <- function(x, y)\n",
    "{\n",
    "  mat <- matrix(1:prod(x,y), nrow = x)\n",
    "  new_mat <- mat[,(y-1):y]\n",
    "  return(new_mat)\n",
    "}\n",
    "\n",
    "#3\n",
    "\n",
    "f_mat(4,5)"
   ]
  },
  {
   "cell_type": "markdown",
   "metadata": {
    "tags": [
     "2019-2020-2",
     "easy",
     "tugrul",
     "matrices",
     "accessing_individual_matrix_elements"
    ]
   },
   "source": [
    "# 2 AXESS"
   ]
  },
  {
   "cell_type": "markdown",
   "metadata": {},
   "source": [
    "## 2.1 QUESTION"
   ]
  },
  {
   "cell_type": "markdown",
   "metadata": {},
   "source": [
    "1. Use `RNGversion(\"3.5.0\")` and set seed to 653.\n",
    "\n",
    "\n",
    "2. Generate a random matrix **axess** which consists of 36 uniformly distributed values between 1 and 2. This matrix will have 9 rows and 4 columns.\n",
    "\n",
    "\n",
    "3. Access the whole middle row in the matrix you have generated.\n",
    "\n",
    "\n",
    "```r\n",
    "[1] 1.844426 1.865286 1.767787 1.372364\n",
    "```\n",
    "\n",
    "\n",
    "4. Access the second and third columns in the matrix.\n",
    "\n",
    "\n",
    "```r\n",
    "          [,1]     [,2]\n",
    " [1,] 1.028393 1.988525\n",
    " [2,] 1.241353 1.918384\n",
    " [3,] 1.493887 1.328124\n",
    " [4,] 1.915704 1.913388\n",
    " [5,] 1.865286 1.767787\n",
    " [6,] 1.637301 1.223809\n",
    " [7,] 1.300609 1.314098\n",
    " [8,] 1.364640 1.745008\n",
    " [9,] 1.019463 1.581751\n",
    "```\n",
    "\n",
    "\n",
    "5. Assign the value corresponding to the slot in fifth row and third column, and in third row and second column to the variable **value_1** and **value_2** respectively. Take the sum of them and show it.\n",
    "\n",
    "\n",
    "```r\n",
    "> value_1 + value_2\n",
    "[1] 3.261675\n",
    "```"
   ]
  },
  {
   "cell_type": "markdown",
   "metadata": {},
   "source": [
    "## 2.2 SOLUTION"
   ]
  },
  {
   "cell_type": "code",
   "execution_count": null,
   "metadata": {},
   "outputs": [],
   "source": [
    "#1\n",
    "RNGversion(\"3.5.0\")\n",
    "set.seed(653)\n",
    "\n",
    "#2\n",
    "axess <- matrix(runif(n = 36, min = 1, max = 2), nrow = 9, ncol = 4)\n",
    "\n",
    "#3\n",
    "axess[5, ]\n",
    "\n",
    "#4\n",
    "axess[, 2:3]\n",
    "\n",
    "#5\n",
    "value_1 <- axess[5, 3]\n",
    "value_2 <- axess[3, 2]\n",
    "value_1 + value_2"
   ]
  },
  {
   "cell_type": "markdown",
   "metadata": {
    "tags": [
     "2019-2020-2",
     "easy",
     "selin",
     "matrices",
     "rownames_colnames"
    ]
   },
   "source": [
    "# 3 WALK"
   ]
  },
  {
   "cell_type": "markdown",
   "metadata": {},
   "source": [
    "## 3.1 QUESTION"
   ]
  },
  {
   "cell_type": "markdown",
   "metadata": {},
   "source": [
    "The information of how many km's Seda, Kaan, Emre and Ali walk in a day is given below.\n",
    "\n",
    "\n",
    "|Names|day1|day2|\n",
    "|:---:|:---:|:---:|\n",
    "|Kaan|2.5|3.4|\n",
    "|Seda|3|3.5|\n",
    "|Ali|8|5|\n",
    "|Emre|5|3|\n",
    "\n",
    "1. Create a matrix with the above information. Name it **walk_mat**. \n",
    "\n",
    "\n",
    "2. Set the names as row names and days as columns. Fit the km numbers appropriately into the matrix.\n",
    "\n",
    "\n",
    "3. Check the row and column names using the rownames() colnames() functions. \n",
    "\n",
    "\n",
    "4. Filter the matrix to see how much Seda walked during day 2."
   ]
  },
  {
   "cell_type": "markdown",
   "metadata": {},
   "source": [
    "## 3.2 SOLUTION"
   ]
  },
  {
   "cell_type": "code",
   "execution_count": null,
   "metadata": {},
   "outputs": [],
   "source": [
    "#1\n",
    "walk_mat <- matrix(c(2.5,3,8,5,3.4,3.5,5,3), byrow = F , ncol = 2)\n",
    "\n",
    "#2\n",
    "rownames(walk_mat) <- c(\"Kaan\", \"Seda\", \"Ali\", \"Emre\")\n",
    "colnames(walk_mat) <- c(\"Day 1\", \"Day 2\")\n",
    "\n",
    "walk_mat\n",
    "\n",
    "#3\n",
    "rownames(walk_mat)\n",
    "colnames(walk_mat)\n",
    "\n",
    "#4\n",
    "walk_mat[\"Seda\", \"Day 2\"]\n"
   ]
  },
  {
   "cell_type": "markdown",
   "metadata": {
    "tags": [
     "2019-2020-2",
     "easy",
     "duygu",
     "apply"
    ]
   },
   "source": [
    "# 4 LEAP YEARS"
   ]
  },
  {
   "cell_type": "markdown",
   "metadata": {},
   "source": [
    "## 4.1 QUESTION "
   ]
  },
  {
   "cell_type": "markdown",
   "metadata": {},
   "source": [
    "1) Create a matrix **years** with the years from 1970 to 2019. Every column should reflect different decades (70s, 80s, 90s, 2000s and 2010s).\n",
    "\n",
    "2) Calculate the numbers of leap years that each decade contains and assign them to the vector **leap_years**. Name your vectors as such:\n",
    "\n",
    "```r\n",
    "> leap_years\n",
    "  70s   80s   90s 2000s 2010s \n",
    "    2     3     2     3     2 \n",
    "```"
   ]
  },
  {
   "cell_type": "markdown",
   "metadata": {},
   "source": [
    "## 4.2 SOLUTION"
   ]
  },
  {
   "cell_type": "code",
   "execution_count": null,
   "metadata": {},
   "outputs": [],
   "source": [
    "#1\n",
    "years <- matrix(1970:2019, nrow = 10)\n",
    "\n",
    "#2\n",
    "leap_years <- apply(years, 2, function(x) sum(x%%4 == 0))\n",
    "names(leap_years) <- c(\"70s\", \"80s\", \"90s\", \"2000s\", \"2010s\")\n",
    "leap_years\n"
   ]
  },
  {
   "cell_type": "markdown",
   "metadata": {
    "tags": [
     "2019-2020-2",
     "easy",
     "bugra",
     "accessing",
     "matrix_elements"
    ]
   },
   "source": [
    "# 5 ODD NUMBERS"
   ]
  },
  {
   "cell_type": "markdown",
   "metadata": {},
   "source": [
    "## 5.1 QUESTION"
   ]
  },
  {
   "cell_type": "markdown",
   "metadata": {},
   "source": [
    "1. Create a matrix named **mat1** that consists of numbers from 1 to 64. Matrix should be ordered by rows. \n",
    "```r\n",
    "> mat1\n",
    "     [,1] [,2] [,3] [,4] [,5] [,6] [,7] [,8]\n",
    "[1,]    1    2    3    4    5    6    7    8\n",
    "[2,]    9   10   11   12   13   14   15   16\n",
    "[3,]   17   18   19   20   21   22   23   24\n",
    "[4,]   25   26   27   28   29   30   31   32\n",
    "[5,]   33   34   35   36   37   38   39   40\n",
    "[6,]   41   42   43   44   45   46   47   48\n",
    "[7,]   49   50   51   52   53   54   55   56\n",
    "[8,]   57   58   59   60   61   62   63   64\n",
    "```\n",
    "\n",
    "2. Create a new matrix which is called **mat2** which consists of odd numbers in **mat1**. This matrix should have 4 rows.\n",
    "\n",
    "\n",
    "3. Now, print the values of top left-hand corner and bottom right-hand corner.\n",
    "\n",
    "```r\n",
    "> mat2[1,1]\n",
    "[1] 1\n",
    "\n",
    "```\n",
    "\n",
    "\n",
    "```r\n",
    "> mat2[4,8]\n",
    "[1] 63\n",
    "```\n"
   ]
  },
  {
   "cell_type": "markdown",
   "metadata": {},
   "source": [
    "## 5.2 SOLUTION"
   ]
  },
  {
   "cell_type": "code",
   "execution_count": null,
   "metadata": {},
   "outputs": [],
   "source": [
    "#1 Create mat1\n",
    "\n",
    "mat1 <- matrix(1:64, nrow = 8, ncol = 8, byrow = T)\n",
    "\n",
    "\n",
    "#2 Create mat2\n",
    "\n",
    "mat2 <- matrix(mat1[mat1%%2 == 1], nrow = 4)\n",
    "\n",
    "#3 Get the values\n",
    "\n",
    "mat2[1,1]\n",
    "\n",
    "mat2[4,8]"
   ]
  },
  {
   "cell_type": "markdown",
   "metadata": {
    "tags": [
     "2019-2020-2",
     "medium",
     "salih",
     "matrices"
    ]
   },
   "source": [
    "# 6 IDENTITY MATRIX"
   ]
  },
  {
   "cell_type": "markdown",
   "metadata": {},
   "source": [
    "## 6.1 QUESTION"
   ]
  },
  {
   "cell_type": "markdown",
   "metadata": {},
   "source": [
    "Identity matrix is a square matrix(number of columns= number of rows) which has \"1\" on its main diagonal and \"0\" elsewhere. Such that :\n",
    "\n",
    "${\\displaystyle I_{1}={\\begin{bmatrix}1\\end{bmatrix}},\\ I_{2}={\\begin{bmatrix}1&0\\\\0&1\\end{bmatrix}},\\ I_{3}=         {\\begin{bmatrix}1&0&0\\\\0&1&0\\\\0&0&1\\end{bmatrix}},\\ \\cdots ,\\ I_{n}={\\begin{bmatrix}1&0&\\cdots &0\\\\0&1&\\cdots          &0\\\\\\vdots    &\\vdots &\\ddots &\\vdots \\\\0&0&\\cdots &1\\end{bmatrix}}}$\n",
    "\n",
    "1. Let's create a function named **identity** which takes one argument **mat** (a matrix). If **mat** is a square matrix, the function should transform **mat** into a matrix by which we produce an identity matrix when we multiply(elementwise) **mat** with `identity(mat)`.Function should return **mat** after transformation. If **mat** is not a square matrix, function should return \"*This is not a square matrix.*\" \n",
    "\n",
    "\n",
    "2. Try your function with the following matrices:\n",
    "\n",
    "```r                                                            \n",
    "\n",
    "> m1<-matrix(c(2,7,4,5,6,3,12,8,23,9,4,3,2,6,0,4),nrow=4)\n",
    "> m1\n",
    "     [,1] [,2] [,3] [,4]\n",
    "[1,]    2    6   23    2\n",
    "[2,]    7    3    9    6\n",
    "[3,]    4   12    4    0\n",
    "[4,]    5    8    3    4\n",
    " \n",
    "```\n",
    "```r\n",
    "> identity(mat = m1)\n",
    "     [,1]      [,2] [,3] [,4]\n",
    "[1,]  0.5 0.0000000 0.00 0.00\n",
    "[2,]  0.0 0.3333333 0.00 0.00\n",
    "[3,]  0.0 0.0000000 0.25 0.00\n",
    "[4,]  0.0 0.0000000 0.00 0.25\n",
    "\n",
    "```\n",
    "```r\n",
    "> m1*identity(mat = m1)\n",
    "     [,1] [,2] [,3] [,4]\n",
    "[1,]    1    0    0    0\n",
    "[2,]    0    1    0    0\n",
    "[3,]    0    0    1    0\n",
    "[4,]    0    0    0    1\n",
    "```\n",
    "\n",
    "```r\n",
    "\n",
    "> m2<-matrix(c(2,7,4,5,6,3,12,8,23,9,4,3),nrow=4)\n",
    "> m2\n",
    "     [,1] [,2] [,3]\n",
    "[1,]    2    6   23\n",
    "[2,]    7    3    9\n",
    "[3,]    4   12    4\n",
    "[4,]    5    8    3\n",
    "\n",
    "> identity(mat = m2)\n",
    "[1] \"This is not a square matrix\"\n",
    "```"
   ]
  },
  {
   "cell_type": "markdown",
   "metadata": {},
   "source": [
    "## 6.2 SOLUTION"
   ]
  },
  {
   "cell_type": "code",
   "execution_count": null,
   "metadata": {},
   "outputs": [],
   "source": [
    "#1\n",
    "identity <- function(mat)\n",
    "{\n",
    "  if(nrow(mat) == ncol(mat)) # If mat is a square matrix\n",
    "  {\n",
    "    for(i in 1:ncol(mat)) # i iterates through the number of columns\n",
    "    {\n",
    "      for(k in 1:nrow(mat)) # k iterates through the number of rows\n",
    "      {\n",
    "        if(i == k) # if i=k this element is on the main diagonal\n",
    "        {\n",
    "          mat[k,i] <- 1/mat[k,i] # Writing reciprocal of the element in order to have \"1\" after multiplication\n",
    "        }\n",
    "        else \n",
    "        {\n",
    "            mat[k,i] <- 0\n",
    "        }\n",
    "      }\n",
    "    }\n",
    "    return(mat)\n",
    "  }\n",
    "  else return(\"This is not a square matrix\") #If mat is not a square matrix.\n",
    "}\n",
    "\n",
    "#2\n",
    "m1<-matrix(c(2,7,4,5,6,3,12,8,23,9,4,3,2,6,0,4),nrow=4)\n",
    "m1\n",
    "identity(mat = m1)\n",
    "m1*identity(mat = m1)\n",
    "\n",
    "m2<-matrix(c(2,7,4,5,6,3,12,8,23,9,4,3),nrow=4)\n",
    "m2\n",
    "identity(mat = m2)"
   ]
  },
  {
   "cell_type": "markdown",
   "metadata": {
    "tags": [
     "2019-2020-2",
     "medium",
     "salih",
     "matrices"
    ]
   },
   "source": [
    "# 7 DALF"
   ]
  },
  {
   "cell_type": "markdown",
   "metadata": {},
   "source": [
    "## 7.1 QUESTION"
   ]
  },
  {
   "cell_type": "markdown",
   "metadata": {},
   "source": [
    "5 friends will take the DALF exam to have a certificate which indicates that their french level is C1. In order to pass the exam, they have to take 4 tests which prove their language skills : Writing, Listening, Speaking and Reading. If a person has less than 5 points (out of 25) at least one of the tests or has less than 50 points in total, he/she fails and can't get the certificate. If a person has at least 50 points in total, he/she is awarded with the certificate.\n",
    "\n",
    "Here are 5 people's results after DALF :\n",
    "\n",
    "|Test|Mustafa|Mehmet|Nisa|Cengiz|Serra|\n",
    "|---|---|---|---|---|---|\n",
    "|Writing|18.5|15|19|12.5|13|\n",
    "|Reading|18.5|7|22|12.5|14|\n",
    "|Listening|13|6.5|23|13|17|\n",
    "|Speaking|12|14|12.5|12.5|4|\n",
    "\n",
    "1. Create 5 vectors with the names and the results of these people. You can copy the lines below.\n",
    "\n",
    "(18.5,18.5,13,12)\n",
    "\n",
    "(15,7,6.5,14)\n",
    "\n",
    "(19,22,23,12.5)\n",
    "\n",
    "(12.5,12.5,13,12.5)\n",
    "\n",
    "(13,14,17,4)\n",
    "\n",
    "\n",
    "\n",
    "2. Create a function named **rslt** which takes one argument **tst**: a vector which holds one person's scores from each test.  Function should return  \"*Passed*\"  or \"*Failed*\" according to given conditions.\n",
    "\n",
    "```r\n",
    "> rslt(tst = Nisa)\n",
    "[1] \"Passed\"\n",
    " ```\n",
    "3. Create a matrix named **mmncs** which holds the data given in the table.\n",
    "\n",
    "```r\n",
    "> mmncs\n",
    "     Mustafa Mehmet Nisa Cengiz Serra\n",
    "[1,]    18.5   15.0 19.0   12.5    13\n",
    "[2,]    18.5    7.0 22.0   12.5    14\n",
    "[3,]    13.0    6.5 23.0   13.0    17\n",
    "[4,]    12.0   14.0 12.5   12.5     4\n",
    "```\n",
    "\n",
    "4. Apply **rslt** to **mmncs** and assign the output to **final**\n",
    "\n",
    "```r\n",
    "> final\n",
    " Mustafa   Mehmet     Nisa   Cengiz    Serra \n",
    "\"Passed\" \"Failed\" \"Passed\" \"Passed\" \"Failed\" \n",
    "```"
   ]
  },
  {
   "cell_type": "markdown",
   "metadata": {},
   "source": [
    "## 7.2 SOLUTION"
   ]
  },
  {
   "cell_type": "code",
   "execution_count": null,
   "metadata": {},
   "outputs": [],
   "source": [
    "#1\n",
    "Mustafa <- c(18.5,18.5,13,12)\n",
    "\n",
    "Mehmet <- c(15,7,6.5,14)\n",
    "\n",
    "Nisa <- c(19,22,23,12.5)\n",
    "\n",
    "Cengiz <- c(12.5,12.5,13,12.5)\n",
    "\n",
    "Serra <- c(13,14,17,4)\n",
    "\n",
    "Mustafa\n",
    "Mehmet\n",
    "Nisa\n",
    "Cengiz\n",
    "Serra\n",
    "\n",
    "#2\n",
    "rslt <- function(tst)\n",
    "{\n",
    "    t <- tst < 5\n",
    "    if(sum(t) >= 1) #If there is at least one score which is less than 5.\n",
    "    {\n",
    "        return(\"Failed\")\n",
    "    }\n",
    "    else if(sum(tst) >= 50) # If the sum of the scores is at least 50\n",
    "    {\n",
    "        return(\"Passed\")\n",
    "    }\n",
    "    else return(\"Failed\") # If the sum of the points is less than 50\n",
    "}  \n",
    "\n",
    "rslt(tst = Nisa)\n",
    "\n",
    "#3\n",
    "mmncs <- cbind(Mustafa, Mehmet, Nisa, Cengiz, Serra)\n",
    "mmncs\n",
    "\n",
    "#4 \n",
    "final <- apply(mmncs, 2, rslt)\n",
    "final\n"
   ]
  },
  {
   "cell_type": "markdown",
   "metadata": {
    "tags": [
     "2019-2020-2",
     "Koralp",
     "medium",
     "matrix"
    ]
   },
   "source": [
    "# 8 LETTERS MATRIX"
   ]
  },
  {
   "cell_type": "markdown",
   "metadata": {},
   "source": [
    "## 8.1 QUESTION"
   ]
  },
  {
   "cell_type": "markdown",
   "metadata": {},
   "source": [
    "Create a function called **f_letters** which takes no arguments.\n",
    "\n",
    "1. This function creates a matrix which shows the distances between 2 letters in the **letters** vector (built in) in RStudio. \n",
    "\n",
    "```r\n",
    "    a b c\n",
    "  a 0 1 2\n",
    "  b 1 0 1\n",
    "  c 2 1 0\n",
    "```\n",
    "For example, in the example above the distance from a to a is 0, the distance from a to c is 2.\n",
    "\n",
    "\n",
    "2. To create the function, use nested loops and iterate through built in **letters** function.\n",
    "\n",
    "\n",
    "3. In order to get rid of negative distances you can use `abs()` function.\n",
    "\n",
    "\n",
    "4. Also name the rows and columns with the **letters** vector.\n",
    "\n",
    "\n",
    "5. Assign the result of the **f_letters** function to the matrix called **mat_letters**.\n",
    "\n",
    "\n",
    "6. Find the distance between a and c by using **mat_letters** as such:\n",
    "\n",
    "```r\n",
    "> mat_letters[\"a\",\"c\"]\n",
    "[1] 2\n",
    "```\n",
    "\n",
    "7. Find the distance between k and v by using **mat_letters** as such:\n",
    "\n",
    "```r\n",
    "> mat_letters[\"k\", \"v\"]\n",
    "[1] 11\n",
    "```\n"
   ]
  },
  {
   "cell_type": "markdown",
   "metadata": {},
   "source": [
    "## 8.2 SOLUTION"
   ]
  },
  {
   "cell_type": "code",
   "execution_count": null,
   "metadata": {},
   "outputs": [],
   "source": [
    "#1 to #4\n",
    "\n",
    "f_letters <- function()\n",
    "{\n",
    "  vec <- c()\n",
    "  for(i in letters)\n",
    "  {\n",
    "    for(j in letters)\n",
    "    {\n",
    "      new <- which(letters == j) - which(letters == i) \n",
    "      vec <- c(vec, new)\n",
    "    }\n",
    "  }\n",
    "  vec <- abs(vec)\n",
    "  mat <- matrix(vec, nrow = length(letters))\n",
    "  rownames(mat) <- letters\n",
    "  colnames(mat) <- letters\n",
    "  return(mat)\n",
    "}\n",
    "\n",
    "f_letters()\n",
    "\n",
    "#5\n",
    "\n",
    "mat_letters <- f_letters()\n",
    "\n",
    "#6\n",
    "\n",
    "mat_letters[\"a\",\"c\"]\n",
    "\n",
    "#7\n",
    "\n",
    "mat_letters[\"k\", \"v\"]"
   ]
  },
  {
   "cell_type": "markdown",
   "metadata": {
    "tags": [
     "2019-2020-2",
     "Koralp",
     "medium",
     "matrix"
    ]
   },
   "source": [
    "# 9 NORMAL DISTRIBUTION MATRIX"
   ]
  },
  {
   "cell_type": "markdown",
   "metadata": {},
   "source": [
    "## 9.1 QUESTION"
   ]
  },
  {
   "cell_type": "markdown",
   "metadata": {},
   "source": [
    "Create a function called **f_normal** which takes only one argument called **x**.\n",
    "\n",
    "1. This function creates a row-major ordered matrix that includes **x** vectors which has normally distributed **x** numbers.\n",
    "\n",
    "\n",
    "2. This normal distribution has **x** mean and **x** standard deviation.\n",
    "\n",
    "\n",
    "3. Finally, the function updates the matrix. The numbers which are greater than the mean are substituted with the character \"Above Pop. Mean\" and the numbers which are less than the mean are substituted with the character \"Below Pop. Mean\".\n",
    "\n",
    "\n",
    "4. Use set.seed(204) to obtain the result below:\n",
    "\n",
    "```r\n",
    "> f_normal(x = 3)\n",
    "     [,1]              [,2]              [,3]             \n",
    "[1,] \"Below Pop. Mean\" \"Below Pop. Mean\" \"Above Pop. Mean\"\n",
    "[2,] \"Above Pop. Mean\" \"Below Pop. Mean\" \"Above Pop. Mean\"\n",
    "[3,] \"Below Pop. Mean\" \"Below Pop. Mean\" \"Below Pop. Mean\"\n",
    "```\n",
    "\n"
   ]
  },
  {
   "cell_type": "markdown",
   "metadata": {},
   "source": [
    "## 9.2 SOLUTION"
   ]
  },
  {
   "cell_type": "code",
   "execution_count": null,
   "metadata": {},
   "outputs": [],
   "source": [
    "#1 to #4\n",
    "RNGversion(\"3.3.1\")\n",
    "set.seed(204)\n",
    "\n",
    "f_normal <- function(x)\n",
    "{\n",
    "  vec <- c()\n",
    "  for(i in 1:x)\n",
    "  {\n",
    "    new <- rnorm(x, x, x)\n",
    "    vec <- c(vec, new)\n",
    "  }\n",
    "    \n",
    "  mat <- matrix(vec, nrow = x, byrow = T)\n",
    "  mat[mat > x] <- \"Above Pop. Mean\"\n",
    "  mat[mat < x] <- \"Below Pop. Mean\"\n",
    "  return(mat)\n",
    "}\n",
    "\n",
    "f_normal(3)\n"
   ]
  },
  {
   "cell_type": "markdown",
   "metadata": {
    "tags": [
     "2019-2020-2",
     "medium",
     "berk",
     "create_matrix_from_vector",
     "matrices"
    ]
   },
   "source": [
    "# 10 ROCK PAPER SCISSORS\n"
   ]
  },
  {
   "cell_type": "markdown",
   "metadata": {},
   "source": [
    "## 10.1 QUESTION"
   ]
  },
  {
   "cell_type": "markdown",
   "metadata": {},
   "source": [
    "Two friends, Bert and Ernie, want to play Rock Paper Scissors. However, Bert does not know how to play this game. Therefore, Ernie prepares a result table to teach Bert how to play.\n",
    "\n",
    "In this table, rows represent moves of Bert and columns represent moves of Ernie. The table shows the result of Bert's moves against those of Ernie. For example, if Bert plays **Rock** and Ernie plays **Scissors**, the entry in the table is **+**. If Bert plays **Scissors** and Ernie plays **Rock**, the entry is **-**. If they play the same move, the entry is **0**. Below, the complete result table is shown:\n",
    "\n",
    "|**Moves**|Rock|Paper|Scissors|\n",
    "|:-:|:-:|:-:|:-:|\n",
    "|**Rock**|0|-|+|\n",
    "|**Paper**|+|0|-|\n",
    "|**Scissors**|-|+|0|\n",
    "\n",
    "\n",
    "1. Create a vector named **rock_paper_scissors** which contains **Rock**, **Paper**, and **Scissors** string elements.\n",
    "\n",
    "```r\n",
    "    > rock_paper_scissors\n",
    "    [1] \"Rock\"     \"Paper\"    \"Scissors\"\n",
    "```\n",
    "\n",
    "2. Create a function named **rps**. It takes one argument **moves**, which is a vector. The function should do the folowing:\n",
    "    - Name rows and columns of the result matrix with values in **moves** argument\n",
    "    - Compare moves of each player and assign it to the result matrix as shown above\n",
    "    - Return the result matrix\n",
    "```r\n",
    "    > rps(rock_paper_scissors)\n",
    "             Rock Paper Scissors\n",
    "    Rock     \"0\"  \"-\"   \"+\"     \n",
    "    Paper    \"+\"  \"0\"   \"-\"     \n",
    "    Scissors \"-\"  \"+\"   \"0\"\n",
    "```"
   ]
  },
  {
   "cell_type": "markdown",
   "metadata": {},
   "source": [
    "## 10.2 SOLUTION"
   ]
  },
  {
   "cell_type": "code",
   "execution_count": null,
   "metadata": {},
   "outputs": [],
   "source": [
    "#1)Create the moves vector\n",
    "rock_paper_scissors <- c(\"Rock\", \"Paper\", \"Scissors\")\n",
    "rock_paper_scissors\n",
    "\n",
    "#2)Create the rps function\n",
    "rps <- function(moves)\n",
    "{\n",
    "  result_table <- matrix(ncol = 3,nrow=3) #initialize a result matrix\n",
    "  rownames(result_table) <- moves #naming the rows\n",
    "  colnames(result_table) <- moves #naming the columns\n",
    "  for (i in 1:length(moves))\n",
    "  {\n",
    "    for (j in 1:length(moves))\n",
    "    {\n",
    "      if(moves[i] == moves[j])\n",
    "      {\n",
    "        result_table[i,j] <- \"0\"\n",
    "      }\n",
    "      else if(moves[i] == \"Rock\")\n",
    "      {\n",
    "        if (moves[j] == \"Paper\") result_table[i,j] <- \"-\" else result_table[i,j] <- \"+\"\n",
    "      }\n",
    "      else if(moves[i] == \"Paper\")\n",
    "      {\n",
    "        if (moves[j] == \"Rock\") result_table[i,j] <- \"+\" else result_table[i,j] <- \"-\"\n",
    "      }\n",
    "      else\n",
    "      {\n",
    "        if (moves[j] == \"Rock\") result_table[i,j] <- \"-\" else result_table[i,j] <- \"+\"\n",
    "      }\n",
    "    }\n",
    "  }\n",
    "\n",
    "  return(result_table)\n",
    "}\n",
    "rps(rock_paper_scissors)"
   ]
  },
  {
   "cell_type": "markdown",
   "metadata": {
    "tags": [
     "2019-2020-2",
     "medium",
     "berk",
     "accessing_ranges_rows_columns",
     "matrices"
    ]
   },
   "source": [
    "# 11 ASTRONAUTS AND COSMONAUTS\n"
   ]
  },
  {
   "cell_type": "markdown",
   "metadata": {},
   "source": [
    "## 11.1 QUESTION"
   ]
  },
  {
   "cell_type": "markdown",
   "metadata": {},
   "source": [
    "In a joint space mission, the United States of America(USA) and the Union of Soviet Socialist Republics(USSR) must choose 2 astronauts and 2 cosmonauts, and inform the International Space Station about the maximum and the minimum weekly average heart rates of their candidates for this mission. The heart rates from last 5 weeks are as follows:\n",
    " \n",
    "- **<font color = red >USSR Cosmonauts:</font>**\n",
    "    - **Yuri Gagarin** (the first man in space): (55, 58, 61, 56, 59)\n",
    "    - **Valentina Tereshkova** (the first woman in space): (62, 61, 63, 60, 64)\n",
    "\n",
    "- **<font color = blue >USA Astronauts:</font>**\n",
    "    - **Neil Armstrong** (the first man on the Moon): (56, 57, 55, 60, 58)\n",
    "    - **Jim Lovell** (the only man who has been to the Moon twice without setting foot on it): (56, 57, 58, 60, 61)\n",
    "    \n",
    "\n",
    "1. Create vectors for the heart rates of astronauts and cosmonauts: **yuri** for Yuri Gagarin, **valentina** for Valentina Tereshkova, **neil** for Neil Armstrong, and **jim** for Jim Lovell.\n",
    "\n",
    "```r\n",
    "    > yuri\n",
    "    [1] 55 58 61 56 59\n",
    "    > valentina\n",
    "    [1] 62 61 63 60 64\n",
    "    > neil\n",
    "    [1] 56 57 55 60 58\n",
    "    > jim\n",
    "    [1] 56 57 58 60 61\n",
    "```\n",
    "\n",
    "2. Create a matrix named **heart_rates** to represent the heart rates. Create a vector named **space_personnel** and assign the names of astronauts and cosmonauts. Name rows of **heart_rates** matrix using this vector. \n",
    "\n",
    "```r\n",
    "    > space_personnel\n",
    "    [1] \"Yuri Gagarin\"         \"Valentina Tereshkova\" \"Neil Armstrong\"       \"Jim Lovell\"\n",
    "    \n",
    "    > heart_rates\n",
    "                         [,1] [,2] [,3] [,4] [,5]\n",
    "    Yuri Gagarin           55   58   61   56   59\n",
    "    Valentina Tereshkova   62   61   63   60   64\n",
    "    Neil Armstrong         56   57   55   60   58\n",
    "    Jim Lovell             56   57   58   60   61\n",
    "```\n",
    "\n",
    "3. Create a function named **heart_measure** which takes one argument **rates**, which is a matrix. The function should return the maximum and the minimum heart rates in the following matrix form:\n",
    "\n",
    "```r\n",
    "    > heart_measure(heart_rates)\n",
    "                         Minimum Rate Maximum Rate\n",
    "    Yuri Gagarin                   55           61\n",
    "    Valentina Tereshkova           60           64\n",
    "    Neil Armstrong                 55           60\n",
    "    Jim Lovell                     56           61\n",
    "```"
   ]
  },
  {
   "cell_type": "markdown",
   "metadata": {},
   "source": [
    "## 11.2 SOLUTION"
   ]
  },
  {
   "cell_type": "code",
   "execution_count": 2,
   "metadata": {},
   "outputs": [
    {
     "data": {
      "text/html": [
       "<ol class=list-inline>\n",
       "\t<li>55</li>\n",
       "\t<li>58</li>\n",
       "\t<li>61</li>\n",
       "\t<li>56</li>\n",
       "\t<li>59</li>\n",
       "</ol>\n"
      ],
      "text/latex": [
       "\\begin{enumerate*}\n",
       "\\item 55\n",
       "\\item 58\n",
       "\\item 61\n",
       "\\item 56\n",
       "\\item 59\n",
       "\\end{enumerate*}\n"
      ],
      "text/markdown": [
       "1. 55\n",
       "2. 58\n",
       "3. 61\n",
       "4. 56\n",
       "5. 59\n",
       "\n",
       "\n"
      ],
      "text/plain": [
       "[1] 55 58 61 56 59"
      ]
     },
     "metadata": {},
     "output_type": "display_data"
    },
    {
     "data": {
      "text/html": [
       "<ol class=list-inline>\n",
       "\t<li>62</li>\n",
       "\t<li>61</li>\n",
       "\t<li>63</li>\n",
       "\t<li>60</li>\n",
       "\t<li>64</li>\n",
       "</ol>\n"
      ],
      "text/latex": [
       "\\begin{enumerate*}\n",
       "\\item 62\n",
       "\\item 61\n",
       "\\item 63\n",
       "\\item 60\n",
       "\\item 64\n",
       "\\end{enumerate*}\n"
      ],
      "text/markdown": [
       "1. 62\n",
       "2. 61\n",
       "3. 63\n",
       "4. 60\n",
       "5. 64\n",
       "\n",
       "\n"
      ],
      "text/plain": [
       "[1] 62 61 63 60 64"
      ]
     },
     "metadata": {},
     "output_type": "display_data"
    },
    {
     "data": {
      "text/html": [
       "<ol class=list-inline>\n",
       "\t<li>56</li>\n",
       "\t<li>57</li>\n",
       "\t<li>55</li>\n",
       "\t<li>60</li>\n",
       "\t<li>58</li>\n",
       "</ol>\n"
      ],
      "text/latex": [
       "\\begin{enumerate*}\n",
       "\\item 56\n",
       "\\item 57\n",
       "\\item 55\n",
       "\\item 60\n",
       "\\item 58\n",
       "\\end{enumerate*}\n"
      ],
      "text/markdown": [
       "1. 56\n",
       "2. 57\n",
       "3. 55\n",
       "4. 60\n",
       "5. 58\n",
       "\n",
       "\n"
      ],
      "text/plain": [
       "[1] 56 57 55 60 58"
      ]
     },
     "metadata": {},
     "output_type": "display_data"
    },
    {
     "data": {
      "text/html": [
       "<ol class=list-inline>\n",
       "\t<li>56</li>\n",
       "\t<li>57</li>\n",
       "\t<li>58</li>\n",
       "\t<li>60</li>\n",
       "\t<li>61</li>\n",
       "</ol>\n"
      ],
      "text/latex": [
       "\\begin{enumerate*}\n",
       "\\item 56\n",
       "\\item 57\n",
       "\\item 58\n",
       "\\item 60\n",
       "\\item 61\n",
       "\\end{enumerate*}\n"
      ],
      "text/markdown": [
       "1. 56\n",
       "2. 57\n",
       "3. 58\n",
       "4. 60\n",
       "5. 61\n",
       "\n",
       "\n"
      ],
      "text/plain": [
       "[1] 56 57 58 60 61"
      ]
     },
     "metadata": {},
     "output_type": "display_data"
    },
    {
     "data": {
      "text/html": [
       "<ol class=list-inline>\n",
       "\t<li>'Yuri Gagarin'</li>\n",
       "\t<li>'Valentina Tereshkova'</li>\n",
       "\t<li>'Neil Armstrong'</li>\n",
       "\t<li>'Jim Lovell'</li>\n",
       "</ol>\n"
      ],
      "text/latex": [
       "\\begin{enumerate*}\n",
       "\\item 'Yuri Gagarin'\n",
       "\\item 'Valentina Tereshkova'\n",
       "\\item 'Neil Armstrong'\n",
       "\\item 'Jim Lovell'\n",
       "\\end{enumerate*}\n"
      ],
      "text/markdown": [
       "1. 'Yuri Gagarin'\n",
       "2. 'Valentina Tereshkova'\n",
       "3. 'Neil Armstrong'\n",
       "4. 'Jim Lovell'\n",
       "\n",
       "\n"
      ],
      "text/plain": [
       "[1] \"Yuri Gagarin\"         \"Valentina Tereshkova\" \"Neil Armstrong\"      \n",
       "[4] \"Jim Lovell\"          "
      ]
     },
     "metadata": {},
     "output_type": "display_data"
    },
    {
     "data": {
      "text/html": [
       "<table>\n",
       "<tbody>\n",
       "\t<tr><th scope=row>Yuri Gagarin</th><td>55</td><td>58</td><td>61</td><td>56</td><td>59</td></tr>\n",
       "\t<tr><th scope=row>Valentina Tereshkova</th><td>62</td><td>61</td><td>63</td><td>60</td><td>64</td></tr>\n",
       "\t<tr><th scope=row>Neil Armstrong</th><td>56</td><td>57</td><td>55</td><td>60</td><td>58</td></tr>\n",
       "\t<tr><th scope=row>Jim Lovell</th><td>56</td><td>57</td><td>58</td><td>60</td><td>61</td></tr>\n",
       "</tbody>\n",
       "</table>\n"
      ],
      "text/latex": [
       "\\begin{tabular}{r|lllll}\n",
       "\tYuri Gagarin & 55 & 58 & 61 & 56 & 59\\\\\n",
       "\tValentina Tereshkova & 62 & 61 & 63 & 60 & 64\\\\\n",
       "\tNeil Armstrong & 56 & 57 & 55 & 60 & 58\\\\\n",
       "\tJim Lovell & 56 & 57 & 58 & 60 & 61\\\\\n",
       "\\end{tabular}\n"
      ],
      "text/markdown": [
       "\n",
       "| Yuri Gagarin | 55 | 58 | 61 | 56 | 59 |\n",
       "| Valentina Tereshkova | 62 | 61 | 63 | 60 | 64 |\n",
       "| Neil Armstrong | 56 | 57 | 55 | 60 | 58 |\n",
       "| Jim Lovell | 56 | 57 | 58 | 60 | 61 |\n",
       "\n"
      ],
      "text/plain": [
       "                     [,1] [,2] [,3] [,4] [,5]\n",
       "Yuri Gagarin         55   58   61   56   59  \n",
       "Valentina Tereshkova 62   61   63   60   64  \n",
       "Neil Armstrong       56   57   55   60   58  \n",
       "Jim Lovell           56   57   58   60   61  "
      ]
     },
     "metadata": {},
     "output_type": "display_data"
    },
    {
     "data": {
      "text/html": [
       "<table>\n",
       "<thead><tr><th></th><th scope=col>Minimum Rate</th><th scope=col>Maximum Rate</th></tr></thead>\n",
       "<tbody>\n",
       "\t<tr><th scope=row>Yuri Gagarin</th><td>55</td><td>61</td></tr>\n",
       "\t<tr><th scope=row>Valentina Tereshkova</th><td>60</td><td>64</td></tr>\n",
       "\t<tr><th scope=row>Neil Armstrong</th><td>55</td><td>60</td></tr>\n",
       "\t<tr><th scope=row>Jim Lovell</th><td>56</td><td>61</td></tr>\n",
       "</tbody>\n",
       "</table>\n"
      ],
      "text/latex": [
       "\\begin{tabular}{r|ll}\n",
       "  & Minimum Rate & Maximum Rate\\\\\n",
       "\\hline\n",
       "\tYuri Gagarin & 55 & 61\\\\\n",
       "\tValentina Tereshkova & 60 & 64\\\\\n",
       "\tNeil Armstrong & 55 & 60\\\\\n",
       "\tJim Lovell & 56 & 61\\\\\n",
       "\\end{tabular}\n"
      ],
      "text/markdown": [
       "\n",
       "| <!--/--> | Minimum Rate | Maximum Rate |\n",
       "|---|---|---|\n",
       "| Yuri Gagarin | 55 | 61 |\n",
       "| Valentina Tereshkova | 60 | 64 |\n",
       "| Neil Armstrong | 55 | 60 |\n",
       "| Jim Lovell | 56 | 61 |\n",
       "\n"
      ],
      "text/plain": [
       "                     Minimum Rate Maximum Rate\n",
       "Yuri Gagarin         55           61          \n",
       "Valentina Tereshkova 60           64          \n",
       "Neil Armstrong       55           60          \n",
       "Jim Lovell           56           61          "
      ]
     },
     "metadata": {},
     "output_type": "display_data"
    }
   ],
   "source": [
    "#1)Create vectors for heart rates\n",
    "yuri <- c(55, 58, 61, 56, 59)\n",
    "valentina <- c(62, 61, 63, 60, 64)\n",
    "neil <- c(56, 57, 55, 60, 58)\n",
    "jim <- c(56, 57, 58, 60, 61)\n",
    "yuri\n",
    "valentina\n",
    "neil\n",
    "jim\n",
    "\n",
    "#2)Create heart_rates matrix\n",
    "space_personnel <- c(\"Yuri Gagarin\", \"Valentina Tereshkova\", \"Neil Armstrong\", \"Jim Lovell\")\n",
    "space_personnel\n",
    "heart_rates <- matrix(c(yuri, valentina, neil, jim), nrow = 4,byrow=T)\n",
    "rownames(heart_rates) <- space_personnel\n",
    "heart_rates\n",
    "\n",
    "#3)Create heart_measure function\n",
    "heart_measure <- function(rates)\n",
    "{\n",
    "    result_table <- matrix(nrow = 4, ncol = 2)\n",
    "    names_row <- rownames(rates)\n",
    "    names_col <- c(\"Minimum Rate\", \"Maximum Rate\")\n",
    "    rownames(result_table) <- names_row\n",
    "    colnames(result_table) <- names_col\n",
    "    \n",
    "    for (i in 1:nrow(rates))\n",
    "    {\n",
    "        result_table[i,] <- c(min(rates[i,]), max(rates[i,]))\n",
    "    }\n",
    "    return(result_table)\n",
    "}\n",
    "\n",
    "heart_measure(heart_rates)"
   ]
  },
  {
   "cell_type": "markdown",
   "metadata": {
    "tags": [
     "2019-2020-2",
     "medium",
     "tugrul",
     "matrices",
     "creating_matrix_by_combining_columns_rows"
    ]
   },
   "source": [
    "# 12 PRECAUTION IS MY PASSION"
   ]
  },
  {
   "cell_type": "markdown",
   "metadata": {},
   "source": [
    "## 12.1 QUESTION"
   ]
  },
  {
   "cell_type": "markdown",
   "metadata": {},
   "source": [
    "You can see below the three factories producing medical mask, cologne in bottles and wet towels in packages quantity of production last 4 months. \n",
    "\n",
    "|          | March   | April   | May   | June\n",
    "|----------|--------|--------|--------|--------|\n",
    "| Medical Mask      | 10000 | 500000 | 3000000 |5000000|\n",
    "| Cologne  | 600 | 18000 | 54000 |162000|\n",
    "| Wet Towel  | 3000  | 45000  | 130000  |640000|\n",
    "\n",
    "\n",
    "They go through a partnership and want to see their production all together. They hire a programmer for this job and ask him to show quantity of products for 4 months write a function which can show total summation of last 4 months for three parties partnerships as thinking the others in their situation.\n",
    "\n",
    "\n",
    "1. Create three different vectors called as **medical_mask**, **cologne** and **wet_towel** consisted of quantity of production. \n",
    "\n",
    "\n",
    "2. Create another vector named as **months** and it will be constituted by recent 4 months.\n",
    "\n",
    "\n",
    "3. Create a matrix named **factories** which will include 3 factories you made in step 1 in the rows, and the columns will be named with time-scale you made in step 2.\n",
    "\n",
    "\n",
    "4. Write the function **total_sum** which will take one argument **mat** and bring the summation of each factories' quantity of products in all months together as a vector and add it as an extra column named **\"Total\"** to the matrix.\n",
    "\n",
    "\n",
    "5. Try your function with **factories** matrix.\n",
    "\n",
    "\n",
    "```r\n",
    "> total_sum(factories)\n",
    "             March  April     May    June   Total\n",
    "medical_mask 10000 500000 3000000 5000000 8510000\n",
    "cologne        600  18000   54000  162000  234600\n",
    "wet_towel     3000  45000  130000  640000  818000\n",
    "```\n",
    "\n",
    "\n",
    "**Hint**: You may use `for` loop to make your function more decent and general."
   ]
  },
  {
   "cell_type": "markdown",
   "metadata": {},
   "source": [
    "## 12.2 SOLUTION"
   ]
  },
  {
   "cell_type": "code",
   "execution_count": null,
   "metadata": {},
   "outputs": [],
   "source": [
    "#1\n",
    "medical_mask <- c(10000, 500000, 3000000, 5000000)\n",
    "cologne <- c(600, 18000, 54000, 162000)\n",
    "wet_towel <- c(3000, 45000, 130000, 640000)\n",
    "\n",
    "#2\n",
    "months <- c(\"March\", \"April\", \"May\", \"June\")\n",
    "\n",
    "#3\n",
    "factories <- rbind(medical_mask, cologne, wet_towel)\n",
    "colnames(factories) <- months\n",
    "\n",
    "#4\n",
    "total_sum <- function(mat){\n",
    "  all_three <- NULL\n",
    "  for(i in 1:nrow(mat)){\n",
    "    fact <- mat[i, 1] + mat[i, 2] + mat[i, 3] + mat[i, 4]\n",
    "    all_three <- c(all_three, fact)\n",
    "  }\n",
    "  result <- cbind(mat, all_three)\n",
    "  colnames(result)[colnames(result) == \"all_three\"] <- \"Total\" #Or you can provide it by setting the vector name as \"Total\" in the beginning\n",
    "  return(result)\n",
    "\n",
    "}\n",
    "\n",
    "#5\n",
    "total_sum(factories)"
   ]
  },
  {
   "cell_type": "markdown",
   "metadata": {
    "tags": [
     "2019-2020-2",
     "medium",
     "tugrul",
     "matrices",
     "adding_row_column_to_matrix"
    ]
   },
   "source": [
    "# 13 BULLSEYE\n"
   ]
  },
  {
   "cell_type": "markdown",
   "metadata": {},
   "source": [
    "## 13.1 QUESTION"
   ]
  },
  {
   "cell_type": "markdown",
   "metadata": {},
   "source": [
    "Marianne, Roxanne, Stevie, Travis, Mike, and Ludwig decided to play the dart game they saw in the pub. None of them has any experience before or they see none of them is gifted when they play a warming round. This situation makes the scores which will be made during a tournament completely random. They make 3 teams by two's consecutively in the given order as the beginning of the question and start the tournament. Each player of the team make 3 shoots. The minimum point one can get from a dart board is 1, maximum is 20.\n",
    "\n",
    "1. Set the seed to 19 and RNGversion(\"3.3.1\").\n",
    "\n",
    "\n",
    "2. Create the variables **mar** and **rox** assign them scores of three shoots distinctly. Scores can be replaced.\n",
    "\n",
    "\n",
    "3. Create a matrix named as **team_dart** by combining method in the rows by using **mar** and **rox**.\n",
    "\n",
    "Let's make things a bit harder.\n",
    "\n",
    "\n",
    "4. Create a function called as **dart** which does not have an argument. \n",
    " - This function will include a loop which assign scores to the rest of 4 people one by one and will bind them **team_dart** in the rows.\n",
    "\n",
    " - It will make the row names players' names in the given order.\n",
    "\n",
    " - It will also take the sum of scores each team two by two and return the names of winner duo. (You may use `which.max()` in this stage.)\n",
    "\n",
    "\n",
    "5. Try your function and check the result. \n",
    "\n",
    "\n",
    "```r\n",
    "> dart()\n",
    "[1] \"Mike\"   \"Ludwig\"\n",
    "```"
   ]
  },
  {
   "cell_type": "markdown",
   "metadata": {},
   "source": [
    "## 13.2 SOLUTION"
   ]
  },
  {
   "cell_type": "code",
   "execution_count": null,
   "metadata": {},
   "outputs": [],
   "source": [
    "#1\n",
    "RNGversion(\"3.3.1\")\n",
    "set.seed(19)\n",
    "\n",
    "#2\n",
    "mar <- sample(1:20, 3, replace = T)\n",
    "rox <- sample(1:20, 3, replace = T)\n",
    "\n",
    "#3\n",
    "team_dart <- rbind(mar, rox)\n",
    "\n",
    "#4\n",
    "dart <- function(){\n",
    "  for(i in 1:4){\n",
    "    rest <- sample(1:20, 3, replace = T)\n",
    "    team_dart <- rbind(team_dart, rest)\n",
    "  }\n",
    "  rownames(team_dart) <- c(\"Marianne\", \"Roxanne\", \"Stevie\", \"Travis\", \"Mike\", \"Ludwig\")\n",
    "  \n",
    "  \n",
    "  candidates <- c(rowSums(team_dart)[1:2], rowSums(team_dart)[3:4], rowSums(team_dart)[5:6])\n",
    "  \n",
    "  if(which.max(candidates) < 3){\n",
    "    return(rownames(team_dart)[1:2])\n",
    "  } else if(which.max(candidates) < 5){\n",
    "    return(rownames(team_dart)[3:4])\n",
    "  } else{\n",
    "    return(rownames(team_dart)[5:6])\n",
    "  }\n",
    "  \n",
    "}\n",
    "\n",
    "#5\n",
    "dart()"
   ]
  },
  {
   "cell_type": "markdown",
   "metadata": {
    "tags": [
     "2019-2020-2",
     "SELİN",
     "matrices",
     "combining_columns",
     "medium"
    ]
   },
   "source": [
    "# 14 WHICH OPTION"
   ]
  },
  {
   "cell_type": "markdown",
   "metadata": {},
   "source": [
    "## 14.1 QUESTION"
   ]
  },
  {
   "cell_type": "markdown",
   "metadata": {},
   "source": [
    "An international decision was made to be imposed on the recreational areas all around the world. There are 5 options and all will be rated on a scale of 1 to 5 . The organisation decides to collect data from 3 different countries and within those countries, 2 different age groups : Young and elderly. Turkey, Italy and Denmark is chosen for this task. The 3 countries data are initially collected seperately but they will be combined later. The options will be rated and whichever option gets the higher total points will be imposed.\n",
    "\n",
    "1. Create a vector named **option_num** which is a sequence from 1 to 5 representing the 5 options.\n",
    "\n",
    "\n",
    "2. First, to represent the data from Turkey, create a vector named **tyoung** representing the points given by a young person to each of the 5 options. (ex. the first number in the vector is the point given to the first option of recreational arrangement.)\n",
    "\n",
    "\n",
    "3.  Create a vector named **telderly** representing the points given by an elderly person to each of the 5 options.\n",
    "\n",
    "\n",
    "```r\n",
    "tyoung <- c( 2, 4, 4, 1, 3)\n",
    "```\n",
    "\n",
    "3. Create a matrix named **matrt** which will have the  **option_num**, **tyoung** and **telderly** vectors as columns. Name those columns as \"option\", \"Turkish / y\", \"Turkish / e\" respectively.\n",
    "\n",
    "```r\n",
    "telderly <- c(4, 5, 3, 2, 3)\n",
    "```\n",
    "\n",
    "4. Second, to represent the data from Italy, create a vector named **iyoung** representing the points given by a young person to each of the 5 options. \n",
    "\n",
    "```r\n",
    "iyoung <- c(2, 3 ,5 ,3 ,1 )\n",
    "```\n",
    "\n",
    "5.  Create a vector named **ielderly** representing the points given by an elderly person to each of the 5 options`\n",
    "\n",
    "```r\n",
    "ielderly <- c(3 ,2, 4, 5, 2)\n",
    "```\n",
    "\n",
    "6. Create a matrix named **matri** which will have the  **option_num**, **iyoung** and **ielderly** vectors as columns. Name those columns as \"option\", \"Italian / y\", \"Italian / e\" respectively.\n",
    "\n",
    "\n",
    "7. Lastly, to represent the data from Denmark, create a vector named **dyoung** representing the points given by a young person to each of the 5 options. \n",
    "\n",
    "```r\n",
    "dyoung <- c(2, 2 ,4 ,4 ,3)\n",
    "```\n",
    "\n",
    "8.  Create a vector named **delderly** representing the points given by an elderly person to each of the 5 options.\n",
    "\n",
    "```r\n",
    "delderly <- c(3 ,3, 3, 1, 4)\n",
    "```\n",
    "\n",
    "9. Create a matrix named **matrd** which will have the  **option_num**, **dyoung** and **delderly** vectors as columns. Name those columns as \"option\", \"Danish / y\", \"Danish / e\" respectively.\n",
    "\n",
    "\n",
    "10. Combine the 3 matrices we created above by columns. Name that matrix **final_mat**. The first column of the matrix should be the **option_num** vector and it should not be repeated as a column in the matrix. \n",
    "\n",
    "\n",
    "11. Use the **rowSums()** function on your matrix in r to find what each option got as total points from 3 countries.\n",
    "\n",
    "**Hint:** Remember to exclude the column with the option numbers while finding the highest total point. \n"
   ]
  },
  {
   "cell_type": "markdown",
   "metadata": {},
   "source": [
    "## 14.2 SOLUTION"
   ]
  },
  {
   "cell_type": "code",
   "execution_count": null,
   "metadata": {},
   "outputs": [],
   "source": [
    "#1\n",
    "option_num <- 1:5\n",
    "\n",
    "#2\n",
    "tyoung <- c( 2, 4, 4, 1, 3)\n",
    "\n",
    "#3\n",
    "telderly <- c(4, 5, 3, 2, 3)\n",
    "\n",
    "#4\n",
    "matrt <- matrix(c(option_num,tyoung,telderly), nrow = length(option_num), ncol = 3)\n",
    "colnames(matrt) <- c(\"option_num\", \"Turkish / y\", \"Turkish / e\")\n",
    "\n",
    "#5\n",
    "iyoung <- c(2, 3 ,5 ,3 ,1 )\n",
    "\n",
    "#6\n",
    "ielderly <- c(3 ,2, 4, 5, 2)\n",
    "\n",
    "#7\n",
    "matri <- matrix(c(option_num,iyoung,ielderly), nrow = length(option_num), ncol = 3)\n",
    "colnames(matri) <- c(\"option_num\", \"Italian / y\", \"Italian / e\")\n",
    "\n",
    "#8\n",
    "dyoung <- c(2, 2 ,4 ,4 ,3)\n",
    "\n",
    "#9\n",
    "delderly <- c(3 ,3, 3, 1, 4)\n",
    "\n",
    "#10\n",
    "matrd <- matrix(c(option_num,dyoung,delderly), nrow = length(option_num), ncol = 3)\n",
    "colnames(matrd) <- c(\"option_num\", \"Danish / y\", \"Danish / e\")\n",
    "\n",
    "#11\n",
    "final_mat <- cbind(matrt,matrd[,c(2,3)], matri[,c(2,3)])\n",
    "final_mat\n",
    "rowSums(final_mat[,-1])\n"
   ]
  },
  {
   "cell_type": "markdown",
   "metadata": {
    "tags": [
     "2019-2020-2",
     "selin",
     "matrices",
     "cbind",
     "medium"
    ]
   },
   "source": [
    "# 15 GAME OF LUCK"
   ]
  },
  {
   "cell_type": "markdown",
   "metadata": {},
   "source": [
    "## 15.1 QUESTION"
   ]
  },
  {
   "cell_type": "markdown",
   "metadata": {},
   "source": [
    "In a game of pure luck, a wheel is spinned for each player respectively. There are 5 players total. When you spin, you can get a number from 1 to 10. The work logic of a *round* of spinning the wheel is that it takes a sample within the limits (in this case from 1 to 10) and that number belongs to player one. The wheel takes again a sample within the limits and now it belong to player 2. This procedure goes on for all the players. Then the wheel continues with the second round, and the third and the fourth... The number of rounds will be given as an input by the contestants.\n",
    "\n",
    "The first spin of the wheel gave us the following points for each player\n",
    "\n",
    "|Names|Points|\n",
    "|:---:|:---:|\n",
    "|Ali|7|\n",
    "|Selin|3|\n",
    "|Esra|8|\n",
    "|Nil|5|\n",
    "\n",
    "These 4 contestants decide on playing the game for 4 more rounds.\n",
    "\n",
    "1. Write a function named **wheel** that will take an argument **roundnum** (representing the number of rounds the wheel is chosen to spin) and will return us a matrix of points with all the rounds played for all players.\n",
    "\n",
    "\n",
    "2. Your function should start with the matrix of first rounds numbers.\n",
    "\n",
    "\n",
    "3. The function should take 4 numbers from a sample for each round and create another matrix.\n",
    "\n",
    "\n",
    "4. Name the columns of your matrix as *round 1, round 2* ... Name the rows of your matrix as *player 1, player 2* ...\n",
    "\n",
    "\n",
    "5. The function must return the matrix with the points of all players in all rounds\n",
    "\n",
    "\n",
    "6. Give the right number of rounds as an input to your function to reveal the matrix.\n",
    "\n",
    "\n",
    "7. See the total points collected by each player."
   ]
  },
  {
   "cell_type": "markdown",
   "metadata": {},
   "source": [
    "## 15.2 SOLUTION"
   ]
  },
  {
   "cell_type": "code",
   "execution_count": null,
   "metadata": {},
   "outputs": [],
   "source": [
    "#1\n",
    "wheel <- function(roundnum)\n",
    "\n",
    "{\n",
    "    \n",
    "#2\n",
    "  m <- matrix(c(7,3,8,5), ncol = 1, nrow = 4)\n",
    "  for (i in 1:roundnum) \n",
    "    {\n",
    "    \n",
    "#3      \n",
    "    a <-  sample(1:10, 4)\n",
    "    s <- matrix(a, ncol = 1)\n",
    "    m <- cbind(m, s)\n",
    "  }\n",
    "    \n",
    "#4    \n",
    "  colnames(m) <- c(\"round 1\", \"round 2\", \"round 3\", \"round 4\", \"round 5\")\n",
    "  rownames(m) <- c(\"player 1\", \"player 2\", \"player 3\", \"player 4\")\n",
    "\n",
    "#5    \n",
    "  return(m)\n",
    "}\n",
    "\n",
    "#6\n",
    "game <- wheel(4)\n",
    "game\n",
    "\n",
    "#7\n",
    "rowSums(game)\n"
   ]
  },
  {
   "cell_type": "markdown",
   "metadata": {
    "tags": [
     "2019-2020-2",
     "omer",
     "demirtas",
     "matrix",
     "changing_values",
     "medium"
    ]
   },
   "source": [
    "# 16 CORRECT NUMBERS"
   ]
  },
  {
   "cell_type": "markdown",
   "metadata": {},
   "source": [
    "## 16.1 QUESTION"
   ]
  },
  {
   "cell_type": "markdown",
   "metadata": {},
   "source": [
    "Manager of a small store collects different statistics about sales, profits, number of customers etc. He wants 2 cashiers to report the same statistics as R matrices to make sure they are correct but the last column of 2 matrices that cashiers send are never the same. First cashier always reports the first half of the last column correctly and second cashier always reports the second half of the last column correctly.\n",
    "\n",
    "1) Create a function called **correction** with 2 arguments **fmx** and **smx** , where **fmx** and **smx** are matrices with even number of rows. (All of their columns except the last column are the same)\n",
    "\n",
    "2) Your function should replace the first half of **smx** 's last column with corrects values from **fmx** and save the matrix with correct values to **cmx** .  \n",
    "\n",
    "3) Your function should return **cmx** as such:\n",
    "\n",
    "```r\n",
    "> f_sales <- matrix(c(1, 34, 54, 53, 5, 14, 2, 6), nrow = 4)\n",
    "> s_sales <- matrix(c(1, 34, 54, 53, 4, 32, 1, 5), nrow = 4)\n",
    "\n",
    "correction(fmx = f_sales, smx = s_sales)\n",
    "\n",
    "     [,1] [,2]\n",
    "[1,]  1    5  \n",
    "[2,] 34   14  \n",
    "[3,] 54    1  \n",
    "[4,] 53    5  \n",
    "```"
   ]
  },
  {
   "cell_type": "markdown",
   "metadata": {},
   "source": [
    "## 16.2 SOLUTION"
   ]
  },
  {
   "cell_type": "code",
   "execution_count": null,
   "metadata": {},
   "outputs": [],
   "source": [
    "f_sales <- matrix(c(1, 34, 54, 53, 5, 14, 2, 6), nrow = 4)\n",
    "s_sales <- matrix(c(1, 34, 54, 53, 4, 32, 1, 5), nrow = 4)\n",
    "\n",
    "#1\n",
    "correction <- function(fmx, smx)\n",
    "{\n",
    "    #2\n",
    "    cmx <- smx\n",
    "    cmx[1: nrow(cmx) / 2, ncol(cmx)] <- fmx[1: nrow(fmx) / 2, ncol(fmx)]\n",
    "    #3\n",
    "    return(cmx)\n",
    "}\n",
    "\n",
    "correction(f_sales, s_sales)"
   ]
  },
  {
   "cell_type": "markdown",
   "metadata": {
    "tags": [
     "2019-2020-2",
     "medium",
     "omer",
     "demirtas",
     "matrix",
     "if-else",
     "accessing_elements"
    ]
   },
   "source": [
    "# 17 CAN I BUY A TICKET?"
   ]
  },
  {
   "cell_type": "markdown",
   "metadata": {},
   "source": [
    "## 17.1 QUESTION"
   ]
  },
  {
   "cell_type": "markdown",
   "metadata": {},
   "source": [
    "You sale tickets for a movie theatre and want to find a faster way to check whether a seat is available to buy or not. Availability of seats are represented by a matrix that consist of 0s and 1s, where 0 means a seat is empty and 1 means it is taken.\n",
    "\n",
    "1) Create a function **can_i_buy** with 3 arguments; **s_matrix** which is a matrix showing the availability of each seat with 1 or 0, **r_choice** which is a single letter indicating the row of the seat that you want to check and **c_choice** which is a number indicating the column of the seat.\n",
    "\n",
    "2) If the seat is empty, your function should return _\"This seat is available, you can buy a ticket.\"_\n",
    "\n",
    "3) If the seat is taken, it should return _\"This seat is taken, please choose another one.\"_ as such:\n",
    "\n",
    "```r\n",
    "> RNGversion(\"3.3.1\")\n",
    "> set.seed(15)\n",
    "> movie1 <- matrix(sample(x = 0:1, size = 25, replace = T), nrow = 5)\n",
    "> rownames(movie1) <- letters[1:5]\n",
    "\n",
    "> movie1\n",
    "\n",
    "  [,1] [,2] [,3] [,4] [,5]\n",
    "a 1    1    0    1    1   \n",
    "b 0    1    1    0    1   \n",
    "c 1    0    1    1    0   \n",
    "d 1    1    1    0    0   \n",
    "e 0    1    1    1    1  \n",
    "\n",
    "> can_i_buy(s_matrix = movie1, r_choice = \"E\", c_choice = 3)\n",
    "\n",
    "[1] \"This seat is taken, please choose another one.\"\n",
    "\n",
    "> can_i_buy(s_matrix = movie1, r_choice = \"c\", c_choice = 2)\n",
    "\n",
    "[1] \"This seat is available, you can buy a ticket.\"\n",
    "```"
   ]
  },
  {
   "cell_type": "markdown",
   "metadata": {},
   "source": [
    "## 17.2 SOLUTION"
   ]
  },
  {
   "cell_type": "code",
   "execution_count": null,
   "metadata": {},
   "outputs": [],
   "source": [
    "RNGversion(\"3.3.1\")\n",
    "set.seed(15)\n",
    "movie1 <- matrix(sample(x = 0:1, size = 25, replace = T),\n",
    "                 nrow = 5)\n",
    "rownames(movie1) <- letters[1:5]\n",
    "\n",
    "can_i_buy <- function(s_matrix, r_choice, c_choice)\n",
    "{\n",
    "    if (s_matrix[tolower(r_choice), c_choice] == 0) return(\"This seat is available, you can buy a ticket.\")\n",
    "    \n",
    "    else return(\"This seat is taken, please choose another one.\")\n",
    "}\n",
    "\n",
    "movie1\n",
    "\n",
    "can_i_buy(s_matrix = movie1, r_choice = \"E\", c_choice = 3)\n",
    "\n",
    "can_i_buy(s_matrix = movie1, r_choice = \"c\", c_choice = 2)"
   ]
  },
  {
   "cell_type": "markdown",
   "metadata": {
    "tags": [
     "2019-2020-2",
     "medium",
     "omer",
     "demirtas",
     "matrix",
     "for_loop",
     "accessing_elements",
     "removing_elements"
    ]
   },
   "source": [
    "# 18 BLUE PILL RED PILL"
   ]
  },
  {
   "cell_type": "markdown",
   "metadata": {},
   "source": [
    "## 18.1 QUESTION"
   ]
  },
  {
   "cell_type": "markdown",
   "metadata": {},
   "source": [
    "20 people live in a _matrix_ with 5 rows and 4 columns. You asked each person to choose a blue or red pill and recorded the answers in another matrix. If a person chose the red pill, you should get them out of _the matrix_ but if they chose the blue pill they stay where there are.\n",
    "\n",
    "1) Create a function called **morpheus** with 2 arguments: **the_matrix** and **pills** .\n",
    "\n",
    "2) **morpheus** should check each entry in **pills** .\n",
    "\n",
    "3) If a person chose \"blue\", **morpheus** should replace that person in **the_matrix** with NA as such:\n",
    "\n",
    "```r\n",
    "> theMatrix <- cbind(c(\"Ahmet\", \"Baran\", \"Hande\", \"Nur\", \"Farid\"),\n",
    "                     c(\"Poyraz\", \"Helin\", \"Zeynep\", \"Beyza\", \"Mevlut\"),\n",
    "                     c(\"Melih\", \"Yaren\", \"Serkan\", \"Ali\", \"Berna\"),\n",
    "                     c(\"Bartu\", \"Anar\", \"Aylin\", \"Omer\", \"Sefa\"))\n",
    "\n",
    "\n",
    "> pill_cols <- cbind(c(\"blue\", \"blue\", \"red\", \"blue\", \"blue\"),\n",
    "                     c(\"blue\", \"blue\", \"red\", \"blue\", \"red\"),\n",
    "                     c(\"red\", \"blue\", \"blue\", \"blue\", \"red\"),\n",
    "                     c(\"blue\", \"red\", \"red\", \"red\", \"red\"))\n",
    "\n",
    "> morpheus(the_matrix = theMatrix, pills = pill_cols)\n",
    "\n",
    "     [,1]  [,2]   [,3]  [,4] \n",
    "[1,] NA    NA     Melih NA   \n",
    "[2,] NA    NA     NA    Anar \n",
    "[3,] Hande Zeynep NA    Aylin\n",
    "[4,] NA    NA     NA    Omer \n",
    "[5,] NA    Mevlut Berna Sefa \n",
    "```"
   ]
  },
  {
   "cell_type": "markdown",
   "metadata": {},
   "source": [
    "## 18.2 SOLUTION"
   ]
  },
  {
   "cell_type": "code",
   "execution_count": null,
   "metadata": {},
   "outputs": [],
   "source": [
    "theMatrix <- cbind(c(\"Ahmet\", \"Baran\", \"Hande\", \"Nur\", \"Farid\"),\n",
    "                  c(\"Poyraz\", \"Helin\", \"Zeynep\", \"Beyza\", \"Mevlut\"),\n",
    "                  c(\"Melih\", \"Yaren\", \"Serkan\", \"Ali\", \"Berna\"),\n",
    "                  c(\"Bartu\", \"Anar\", \"Aylin\", \"Omer\", \"Sefa\"))\n",
    "\n",
    "theMatrix\n",
    "\n",
    "pill_cols <- cbind(c(\"blue\", \"blue\", \"red\", \"blue\", \"blue\"),\n",
    "                  c(\"blue\", \"blue\", \"red\", \"blue\", \"red\"),\n",
    "                  c(\"red\", \"blue\", \"blue\", \"blue\", \"red\"),\n",
    "                  c(\"blue\", \"red\", \"red\", \"red\", \"red\"))\n",
    "pill_cols\n",
    "\n",
    "morpheus <- function(the_matrix, pills)\n",
    "{\n",
    "    for (i in 1:5)\n",
    "    {\n",
    "        for (j in 1:4)\n",
    "        {\n",
    "            if (pills[i, j] == \"blue\")\n",
    "            {\n",
    "                the_matrix[i, j] <- NA\n",
    "            }\n",
    "        }\n",
    "    }\n",
    "    return(the_matrix)\n",
    "}\n",
    "\n",
    "morpheus(theMatrix, pill_cols)"
   ]
  },
  {
   "cell_type": "markdown",
   "metadata": {
    "tags": [
     "2019-2020-2",
     "medium",
     "duygu",
     "accessing_ind_matrix_elements",
     "setting_row_column_names"
    ]
   },
   "source": [
    "# 19 THE FUNC"
   ]
  },
  {
   "cell_type": "markdown",
   "metadata": {},
   "source": [
    "## 19.1 QUESTION"
   ]
  },
  {
   "cell_type": "markdown",
   "metadata": {},
   "source": [
    "1) Create a function **thefunc** which takes vector arguments **a**, **b** and **c** (each argument will contain two elements). The function should loop through each argument and decide whether the elements are even or odd. It should return a matrix which has 2 rows with **\"even\"** and **\"odd\"** as row names and 3 columns with **\"a\"**, **\"b\"** and **\"c\"** as column names. \n",
    "\n",
    "2) Create 3 vectors **\"w\"**, **\"q\"** and **\"x\"** as such:\n",
    "```r\n",
    "> w\n",
    "[1] 3 2\n",
    "> q\n",
    "[1] 19 76\n",
    "> x\n",
    "[1] 1 1\n",
    "\n",
    "```\n",
    "\n",
    "3) Try your function with the three vectors.\n",
    "```r\n",
    "> thefunc(w,q,x)\n",
    "     a  b  c\n",
    "even 2 76 NA\n",
    "odd  3 19  1\n",
    "```"
   ]
  },
  {
   "cell_type": "markdown",
   "metadata": {},
   "source": [
    "## 19.2 SOLUTION"
   ]
  },
  {
   "cell_type": "code",
   "execution_count": null,
   "metadata": {},
   "outputs": [],
   "source": [
    "#1\n",
    "thefunc <- function(a, b ,c)\n",
    "{\n",
    "  themat <- matrix( ,nrow = 2 ,ncol = 3 )\n",
    "  for(i in 1:length(a))\n",
    "  {\n",
    "    if(a[i]%%2 == 0)\n",
    "    {\n",
    "      themat[1,1] <- a[i]\n",
    "    } \n",
    "    else\n",
    "    {\n",
    "      themat[2,1] <- a[i]\n",
    "    }\n",
    "  }\n",
    "  \n",
    "  for(j in 1:length(b))\n",
    "  {\n",
    "    if(b[j]%%2 == 0)\n",
    "    {\n",
    "      themat[1,2] <- b[j]\n",
    "    }\n",
    "    else\n",
    "    {\n",
    "      themat[2,2] <- b[j]\n",
    "    }\n",
    "  }\n",
    "  \n",
    "  for(k in 1:length(c))\n",
    "  {\n",
    "    if(c[k]%%2 == 0)\n",
    "    {\n",
    "      themat[1,3] <- c[k]\n",
    "    }\n",
    "    else\n",
    "    {\n",
    "      themat[2,3] <- c[k]\n",
    "    }\n",
    "  }\n",
    "  \n",
    "  rownames(themat) <- c(\"even\",\"odd\")\n",
    "  colnames(themat) <- c(\"a\",\"b\",\"c\")\n",
    "  return(themat)\n",
    "}\n",
    "\n",
    "#2\n",
    "w <- c(3,2)\n",
    "q <- c(19,76)\n",
    "x <- c(1,1)\n",
    "\n",
    "#3\n",
    "thefunc(w,q,x)"
   ]
  },
  {
   "cell_type": "markdown",
   "metadata": {
    "tags": [
     "2019-2020-2",
     "medium",
     "duygu",
     "creating_matrix_by_combining_columns",
     "adding_columns"
    ]
   },
   "source": [
    "# 20 TOURISTS"
   ]
  },
  {
   "cell_type": "markdown",
   "metadata": {},
   "source": [
    "## 20.1 QUESTION"
   ]
  },
  {
   "cell_type": "markdown",
   "metadata": {},
   "source": [
    "Here we have the numbers of Turkish tourists that visited three countries in given years. \n",
    "\n",
    "|          | 2017   | 2018   | 2019   |\n",
    "|----------|--------|--------|--------|\n",
    "| USA      | 157896 | 155198 | 130032 |\n",
    "| Germany  | 452412 | 347638 | 412216 |\n",
    "| England  | 67004  | 19718  | 24988  |\n",
    "\n",
    "1) Create three vectors **USA**, **Germany** and **England** with the number of visitors in 2017,2018 and 2019 respectively. \n",
    "\n",
    "2) Create a matrix called **tourists** which contains three countries in the rows and the years in the columns. Name the rows with countries and the columns with years. \n",
    "\n",
    "3) In order to calculate the difference between the numbers of tourists in 2017 and 2019, create a function called **decrease** which takes a matrix argument **m**. Your function should loop through the rows of its argument, calculate the differences for each country and add them in a new column which has the column name **\"decr\"** as such:\n",
    "```r\n",
    "> decrease(tourists)\n",
    "          2017   2018   2019  decr\n",
    "USA     157896 155198 130032 27864\n",
    "Germany 452412 347638 412216 40196\n",
    "England  67004  19718  24988 42016\n",
    "\n",
    "```\n",
    "\n",
    "\n",
    "\n"
   ]
  },
  {
   "cell_type": "markdown",
   "metadata": {},
   "source": [
    "## 20.2 SOLUTION"
   ]
  },
  {
   "cell_type": "code",
   "execution_count": null,
   "metadata": {},
   "outputs": [],
   "source": [
    "#1\n",
    "USA <- c(157896, 155198, 130032)\n",
    "Germany <- c(452412, 347638, 412216)\n",
    "England <- c(67004, 19718, 24988)\n",
    "\n",
    "#2\n",
    "tourists <- rbind(USA, Germany, England)\n",
    "years <- c(2017, 2018, 2019)\n",
    "colnames(tourists) <- years\n",
    "\n",
    "#3\n",
    "decrease <- function(m)\n",
    "{\n",
    "  decr <- c()\n",
    "  for(i in 1:nrow(m))\n",
    "  {\n",
    "   d <- m[i,1] - m[i,3]\n",
    "   decr <- c(decr,d)\n",
    "  }\n",
    "  m <- cbind(m, decr)\n",
    "  return(m)\n",
    "}\n",
    "\n",
    "decrease(tourists)"
   ]
  },
  {
   "cell_type": "markdown",
   "metadata": {
    "tags": [
     "2019-2020-2",
     "bugra",
     "creating_matrix",
     "vector",
     "medium"
    ]
   },
   "source": [
    "# 21 EXTRA POINTS"
   ]
  },
  {
   "cell_type": "markdown",
   "metadata": {},
   "source": [
    "## 21.1 QUESTION"
   ]
  },
  {
   "cell_type": "markdown",
   "metadata": {},
   "source": [
    "1. Create the matrix **scores** that consists of exam scores of Emma, Maddie, Alyssa and Steve as shown below.\n",
    "\n",
    "\n",
    "```r\n",
    "> scores\n",
    "       Exam1 Exam2 Exam3 Exam4\n",
    "emma      45    63    55    84\n",
    "maddie    75    64    32    49\n",
    "alyssa    84    66    32    55\n",
    "steve     36    76    68    87\n",
    "```\n",
    "\n",
    "\n",
    "- This matrix shows the scores that students got from the exams throughout the semester. Their Professor wants to smooth the way for them by giving 25% extra points to the exams which are above 50 points. He rounds up the new scores if they are not integers.\n",
    "\n",
    "\n",
    "\n",
    "2. Create the function **extra** which takes 2 arguments; **mat**(a matrix) and **per**(extra percentege). For a given matrix of exam scores and extra percentage intended, this function should return another matrix by adjusting exam scores accordingly. The function is expected to give output properly regardless of the size of a given matrix.\n",
    "\n",
    "\n",
    "```r\n",
    "> extra(scores, 25)\n",
    "\n",
    "       Exam1 Exam2 Exam3 Exam4\n",
    "emma      45    79    69   105\n",
    "maddie    94    80    32    49\n",
    "alyssa   105    82    32    69\n",
    "steve     36    95    85   109\n",
    "```\n",
    "\n"
   ]
  },
  {
   "cell_type": "markdown",
   "metadata": {},
   "source": [
    "## 21.2 SOLUTION"
   ]
  },
  {
   "cell_type": "code",
   "execution_count": null,
   "metadata": {},
   "outputs": [],
   "source": [
    "#1 Create the matrix scores.\n",
    "\n",
    "emma <- c(45, 63, 55, 84)\n",
    "\n",
    "maddie <- c(75, 64, 32, 49)\n",
    "\n",
    "alyssa <- c(84, 66, 32, 55)\n",
    "\n",
    "steve <- c(36, 76, 68, 87)\n",
    "\n",
    "\n",
    "scores <- rbind(emma, maddie, alyssa, steve)  #Vectors are expected to be binded by rows\n",
    "\n",
    "colnames(scores) <- c(\"Exam1\", \"Exam2\", \"Exam3\", \"Exam4\")\n",
    "\n",
    "\n",
    "#2 Create the function.\n",
    "\n",
    "extra <- function(mat, per)\n",
    "{\n",
    "  \n",
    "  n <- nrow(mat)  # This part makes function work regardless of the size\n",
    "  \n",
    "  m <- ncol(mat)  # This part makes function work regardless of the size\n",
    "  \n",
    "  \n",
    "  for (i in 1:n)  # Filtering and adjusting the scores above 50\n",
    "  {\n",
    "  \n",
    "    mat[i,][mat[i,] > 50] <- mat[i,][mat[i,] > 50] * (1 + per/100)\n",
    "      \n",
    "  }\n",
    "  \n",
    "  \n",
    "  for (i in 1:n) # Rounding up all scores just in case there might be decimals\n",
    "  {\n",
    "  \n",
    "    for(j in 1:m)\n",
    "    {\n",
    "      mat[i,j] <- round(mat[i,j])\n",
    "      \n",
    "    }\n",
    "      \n",
    "  }\n",
    "  \n",
    "  return(mat)\n",
    "  \n",
    "}\n",
    "\n",
    "extra(scores, 25)\n",
    "\n",
    "\n",
    "\n"
   ]
  },
  {
   "cell_type": "markdown",
   "metadata": {
    "tags": [
     "2019-2020-2",
     "ceren",
     "matrices",
     "medium",
     "Setting_and_gettin_",
     "row_column_names"
    ]
   },
   "source": [
    "# 22 READING CHALLENGE"
   ]
  },
  {
   "cell_type": "markdown",
   "metadata": {},
   "source": [
    "## 22.1 QUESTION"
   ]
  },
  {
   "cell_type": "markdown",
   "metadata": {},
   "source": [
    "When they are experiencing social distancing in the days of Covid-19, Ceren and Selin challenge each other about how much page they can read from _The Guermantes Way: In Search of Lost Time_ by Marcel Proust. \n",
    "\n",
    "| Day | Ceren | Selin |\n",
    "| --------- | ------ | ------ |\n",
    "| Monday    | 30     |   52   | \n",
    "| Tuesday   | 52     |   26   |\n",
    "| Wednesday | 98     |   33   | \n",
    "| Thursday  | 45     |   77   |\n",
    "| Friday    | 32     |   28   |\n",
    "| Saturday  | 63     |   49   |\n",
    "| Sunday    | 22     |   67   |\n",
    "\n",
    "1) Create 2 vectors containing number of pages they read from the first table: **Ceren** and **Selin**. \n",
    "\n",
    "2) Create a matrix called **pages** containing number of pages Ceren and Selin read. \n",
    "\n",
    "3) Name rows of this matrix according to the first column in the table above. \n",
    "\n",
    "4) Write a function called **winner** which calculates how much page they read respectively, the function should take a matrix called mat as its argument. "
   ]
  },
  {
   "cell_type": "markdown",
   "metadata": {},
   "source": [
    "## 22.2 SOLUTION"
   ]
  },
  {
   "cell_type": "code",
   "execution_count": null,
   "metadata": {},
   "outputs": [],
   "source": [
    "#1\n",
    "Ceren <- c(30, 52, 98, 45, 32, 63, 22)\n",
    "Selin <- c(52, 26, 33, 77, 28, 49, 67)\n",
    "\n",
    "#2\n",
    "pages <- cbind(Ceren, Selin)\n",
    "\n",
    "#3\n",
    "rownames(pages) <- c(\"Monday\", \"Tuesday\", \"Wednesday\", \"Thursday\", \"Friday\", \"Saturday\", \"Sunday\")\n",
    "pages\n",
    "\n",
    "#4\n",
    "winner <- function(mat){\n",
    "  pg <- c()\n",
    "  for (i in 1:ncol(mat)){\n",
    "    sm <- sum(mat[,i])\n",
    "    pg <- c(pg, sm)\n",
    "  }\n",
    "  return(pg)\n",
    "}\n",
    "\n",
    "winner(pages)"
   ]
  },
  {
   "cell_type": "markdown",
   "metadata": {
    "tags": [
     "2019-2020-2",
     "ceren",
     "matrices",
     "medium",
     "removing_rows_columns"
    ]
   },
   "source": [
    "# 23 COVID-19 COMPARISON"
   ]
  },
  {
   "cell_type": "markdown",
   "metadata": {},
   "source": [
    "## 23.1 QUESTION"
   ]
  },
  {
   "cell_type": "markdown",
   "metadata": {},
   "source": [
    "As Covid-19 becomes a pandemic spreading nearly all over the world, it started to be discussed that whether Turkey will be worse than Italy or not. Comparing number of cases between Italy and Turkey may help us to get an insight about that.\n",
    "\n",
    "| Day | Italy | Turkey |\n",
    "| --------- | ------ | ------ |\n",
    "| Day 6     |   21   |    47  |\n",
    "| Day 7     |   79   |    98  |\n",
    "| Day 8     |  157   |   191  | \n",
    "| Day 9     |  229   |   359  |\n",
    "| Day 10    |  323   |   670  | \n",
    "| Day 11    |  470   |   947  |\n",
    "| Day 12    |  655   |   1236 |\n",
    "| Day 13    |  889   |   1529 |\n",
    "| Day 14    |  1128  |   1872 |\n",
    "\n",
    "1) Create two vectors called **Italy** and **Turkey** which contains the values in the above table.\n",
    "\n",
    "2) Create a matrix called **cases** with these two vectors and name the rows according the day numbers in the table. \n",
    "\n",
    "3) Write a function called **percent** which calculates the percentage changes day by day both for Italy and Turkey. This function should take a matrix as its argument and returns a matrix which contains percentage changes for Italy in the first column and for Turkey in the second column. \n",
    "\n",
    "4) While this results give us a clue, to get a better estimate we shall try to compare their cases after at least one of them exceeded the 100 cases. Now, remove the days before 100 cases from the matrix called **cases**.\n",
    "\n",
    "5) Calculate the percentage change between the first day and last day of this adjusted matrix. \n"
   ]
  },
  {
   "cell_type": "markdown",
   "metadata": {},
   "source": [
    "## 23.2 SOLUTION"
   ]
  },
  {
   "cell_type": "code",
   "execution_count": null,
   "metadata": {},
   "outputs": [],
   "source": [
    "#1\n",
    "Italy <- c(21, 79, 157, 229, 323, 470, 655, 889, 1128)\n",
    "Turkey <- c(47, 98, 191, 359, 670, 947, 1236, 1529, 1872)\n",
    "\n",
    "#2\n",
    "cases <- cbind(Italy, Turkey)\n",
    "rownames(cases) <- c(\"Day 6\", \"Day 7\", \"Day 8\", \"Day 9\", \"Day 10\", \"Day 11\", \"Day 12\", \"Day 13\", \"Day 14\")\n",
    "cases\n",
    "\n",
    "#3\n",
    "percent <- function(m){\n",
    "  p <- matrix(,nrow(m),ncol(m))\n",
    "  p[1,] <- NA\n",
    "  for (i in 1:(nrow(m)-1)){\n",
    "    for (j in 1:ncol(m)){\n",
    "      p[i+1,j] <- ((m[i+1,j]-m[i,j])/m[i,j])*100\n",
    "    }\n",
    "  }\n",
    "  rownames(p) <- rownames(m)\n",
    "  colnames(p) <- colnames(m)\n",
    "  return(p)\n",
    "}\n",
    "\n",
    "percent(cases)\n",
    "\n",
    "#4 \n",
    "cases <- cases[-c(1,2),]\n",
    "cases\n",
    "\n",
    "#5\n",
    "((cases[7,1]-cases[1,1])/cases[1,1])*100\n",
    "((cases[7,2]-cases[1,2])/cases[1,2])*100"
   ]
  },
  {
   "cell_type": "markdown",
   "metadata": {
    "tags": [
     "2019-2020-2",
     "ceren",
     "matrices",
     "medium"
    ]
   },
   "source": [
    "# 24 AID PLAN"
   ]
  },
  {
   "cell_type": "markdown",
   "metadata": {},
   "source": [
    "## 24.1 QUESTION"
   ]
  },
  {
   "cell_type": "markdown",
   "metadata": {},
   "source": [
    "Because of the Covid-19 pandemic, most of the countries are trying to flattening the curve. In doing so, it is important that people experience social distancing or self-quarantine while staying at home. However, it is hard for most of the people to earn their living without working outside. Thus, a civil society organization decide to pick a random 20 people and give them monthly aid according to their situation.\n",
    "\n",
    "- People above 65 will get 1000 TL without considering their working situation.\n",
    "- People who do not work because of Covid-19 will get 2000 TL if they are under 65.\n",
    "- People who can still work and below 65 will not get any aid, so it should be NA.\n",
    "\n",
    "1) Set RNGversion to 3.3.1 and seed to 26.\n",
    "\n",
    "2) Create a sample vector named **people_age** taking 20 value from 18 to 100 (with replacement).\n",
    "\n",
    "3) Assign people's ages to matrix called **aid_plan** with 10 rows and 2 columns.\n",
    "\n",
    "4) Name the first column as \"workers\", second column as \"nonworkers\".\n",
    "\n",
    "5) Create a function called **amount** which will take a matrix as its argument and returns a matrix which shows the amount of money that people in each column will get."
   ]
  },
  {
   "cell_type": "markdown",
   "metadata": {},
   "source": [
    "## 24.2 SOLUTION"
   ]
  },
  {
   "cell_type": "code",
   "execution_count": 3,
   "metadata": {},
   "outputs": [
    {
     "name": "stderr",
     "output_type": "stream",
     "text": [
      "Warning message in RNGkind(\"Mersenne-Twister\", \"Inversion\", \"Rounding\"):\n",
      "\"non-uniform 'Rounding' sampler used\""
     ]
    },
    {
     "data": {
      "text/html": [
       "<table>\n",
       "<thead><tr><th scope=col>workers</th><th scope=col>nonworkers</th></tr></thead>\n",
       "<tbody>\n",
       "\t<tr><td>  NA</td><td>2000</td></tr>\n",
       "\t<tr><td>  NA</td><td>2000</td></tr>\n",
       "\t<tr><td>1000</td><td>2000</td></tr>\n",
       "\t<tr><td>1000</td><td>2000</td></tr>\n",
       "\t<tr><td>  NA</td><td>1000</td></tr>\n",
       "\t<tr><td>  NA</td><td>2000</td></tr>\n",
       "\t<tr><td>1000</td><td>2000</td></tr>\n",
       "\t<tr><td>1000</td><td>2000</td></tr>\n",
       "\t<tr><td>  NA</td><td>1000</td></tr>\n",
       "\t<tr><td>1000</td><td>1000</td></tr>\n",
       "</tbody>\n",
       "</table>\n"
      ],
      "text/latex": [
       "\\begin{tabular}{ll}\n",
       " workers & nonworkers\\\\\n",
       "\\hline\n",
       "\t   NA & 2000\\\\\n",
       "\t   NA & 2000\\\\\n",
       "\t 1000 & 2000\\\\\n",
       "\t 1000 & 2000\\\\\n",
       "\t   NA & 1000\\\\\n",
       "\t   NA & 2000\\\\\n",
       "\t 1000 & 2000\\\\\n",
       "\t 1000 & 2000\\\\\n",
       "\t   NA & 1000\\\\\n",
       "\t 1000 & 1000\\\\\n",
       "\\end{tabular}\n"
      ],
      "text/markdown": [
       "\n",
       "| workers | nonworkers |\n",
       "|---|---|\n",
       "|   NA | 2000 |\n",
       "|   NA | 2000 |\n",
       "| 1000 | 2000 |\n",
       "| 1000 | 2000 |\n",
       "|   NA | 1000 |\n",
       "|   NA | 2000 |\n",
       "| 1000 | 2000 |\n",
       "| 1000 | 2000 |\n",
       "|   NA | 1000 |\n",
       "| 1000 | 1000 |\n",
       "\n"
      ],
      "text/plain": [
       "      workers nonworkers\n",
       " [1,]   NA    2000      \n",
       " [2,]   NA    2000      \n",
       " [3,] 1000    2000      \n",
       " [4,] 1000    2000      \n",
       " [5,]   NA    1000      \n",
       " [6,]   NA    2000      \n",
       " [7,] 1000    2000      \n",
       " [8,] 1000    2000      \n",
       " [9,]   NA    1000      \n",
       "[10,] 1000    1000      "
      ]
     },
     "metadata": {},
     "output_type": "display_data"
    }
   ],
   "source": [
    "#1\n",
    "RNGversion(\"3.3.1\")\n",
    "set.seed(26)\n",
    "\n",
    "#2\n",
    "people_age <- sample(18:100, 20, replace=T)\n",
    "\n",
    "#3\n",
    "aid_plan <- matrix(people_age, nrow=10, ncol=2)\n",
    "\n",
    "#4\n",
    "colnames(aid_plan) <- c(\"workers\", \"nonworkers\")\n",
    "\n",
    "#5\n",
    "amount <- function(m){\n",
    "  p <- matrix(,nrow(m),ncol(m))\n",
    "  for(i in 1:nrow(m)){\n",
    "    for (j in 1:ncol(m)){\n",
    "      if(m[i,j] >= 65){\n",
    "       p[i,j] <- 1000\n",
    "      } \n",
    "    }\n",
    "    if(m[i, \"nonworkers\"] < 65){\n",
    "      p[i,2] <- 2000 \n",
    "    }\n",
    "  }\n",
    "  rownames(p) <- rownames(m)\n",
    "  colnames(p) <- colnames(m)\n",
    "  return(p)\n",
    "}\n",
    "amount(aid_plan)"
   ]
  },
  {
   "cell_type": "markdown",
   "metadata": {
    "tags": [
     "2019-2020-2",
     "matrices",
     "salih",
     "hard"
    ]
   },
   "source": [
    "# 25 QUIZ RESULTS"
   ]
  },
  {
   "cell_type": "markdown",
   "metadata": {},
   "source": [
    "## 25.1 QUESTION"
   ]
  },
  {
   "cell_type": "markdown",
   "metadata": {},
   "source": [
    "A teacher applies 5 quizzes to her students and she does not count the lowest result of each student while grading. 4 students' quiz results are as follows:\n",
    "\n",
    "|Quiz|Merve|Orkun|Roza|Salih|\n",
    "|---|---|---|---|---|\n",
    "|1|10|5|6|3|\n",
    "|2|10|7|8|5|\n",
    "|3|9|0|3|4|\n",
    "|4|10|8|8|8|\n",
    "|5|8|5|7|2|\n",
    "\n",
    "1. Copy the lines below to create 4 vectors named : **Merve** , **Orkun** , **Roza** and **Salih** which hold 4 students' quiz results.\n",
    "\n",
    "(10,10,9,10,8)\n",
    "\n",
    "(5,7,0,8,7)\n",
    "\n",
    "(6,8,3,8,7)\n",
    "\n",
    "(3,5,4,8,2)\n",
    "\n",
    "2. Create a matrix named **quiz** with given data as such :\n",
    "\n",
    "```r\n",
    "> quiz\n",
    "     Merve Orkun Roza Salih\n",
    "[1,]    10     5    6     3\n",
    "[2,]    10     7    8     5\n",
    "[3,]     9     0    3     4\n",
    "[4,]    10     8    8     8\n",
    "[5,]     8     7    7     2\n",
    "\n",
    "```\n",
    "\n",
    "3. Create a function named **AA** which takes one argument **mat** : a matirx which has **quiz** as a default value. The function should do the following:\n",
    "\n",
    " * First, it will update **mat** with dropping the lowest grade of each student. ( You can use `apply()` and `which.min()` functions.)\n",
    " * It will calculate each students' average of remaining grades. \n",
    " * It will calculate the average of the results of the whole group. \n",
    " * If a students' average is less than the group's average, it will remove the student from the matrix and returns **mat**.\n",
    " \n",
    "\n",
    "4. Try your function with **quiz** :\n",
    "```r\n",
    "> AA(quiz)\n",
    "        Merve Roza\n",
    "[1,]    10    6\n",
    "[2,]    10    8\n",
    "[3,]     9    8\n",
    "[4,]    10    7\n",
    "```\n",
    "\n",
    "\n",
    "\n",
    " \n"
   ]
  },
  {
   "cell_type": "markdown",
   "metadata": {},
   "source": [
    "## 25.2 SOLUTION"
   ]
  },
  {
   "cell_type": "code",
   "execution_count": null,
   "metadata": {},
   "outputs": [],
   "source": [
    "#1\n",
    "Merve <- c(10,10,9,10,8)\n",
    "Orkun <- c(5,7,0,8,7)\n",
    "Roza<- c(6,8,3,8,7)\n",
    "Salih <- c(3,5,4,8,2)\n",
    "Merve\n",
    "Orkun\n",
    "Roza\n",
    "Salih\n",
    "\n",
    "#2\n",
    "quiz <- cbind(Merve,Orkun,Roza,Salih)\n",
    "quiz\n",
    "\n",
    "#3\n",
    "AA <- function(mat = quiz)\n",
    "{\n",
    "  names <- colnames(mat) #Storing the names of the students in a vector.(To be used later)\n",
    "  lowest <- apply(mat,2,which.min) #Determining the position of the lowest grade of each student.\n",
    "  mat_new <- matrix(nrow = nrow(mat)-1, ncol = ncol(mat))\n",
    "  for (i in 1:ncol(mat)) # for loop drops the lowest grade of each student and creates a new matrix\n",
    "  {\n",
    "  lw <- lowest[i]\n",
    "  mat_new[,i] <- mat[,i][-lw]\n",
    "  }\n",
    "  mat <- mat_new \n",
    "  colnames(mat)<- names #Adding the students' names to our new matrix\n",
    "  avrg_st <- apply(mat,2,mean) #Average grade of each student\n",
    "  avrg <- mean(mat) # Average grade of whole group\n",
    "  st <- avrg_st < avrg \n",
    "  mat <- mat[,-st == F] # Removing the columns that have average less than the group's average\n",
    "  return(mat)\n",
    "}\n",
    "\n",
    "#4\n",
    "AA(mat = quiz)"
   ]
  },
  {
   "cell_type": "markdown",
   "metadata": {
    "tags": [
     "2019-2020-2",
     "matrices",
     "hard",
     "berk",
     "filtering_matrices"
    ]
   },
   "source": [
    "# 26 TRAINING"
   ]
  },
  {
   "cell_type": "markdown",
   "metadata": {},
   "source": [
    "## 26.1 QUESTION"
   ]
  },
  {
   "cell_type": "markdown",
   "metadata": {},
   "source": [
    "Carlo is the coach of AC Milan football team. He wants to train his four favorite players: Kaka, Maldini, Shevchenko, and Nesta. He gets the reports from his assistants on each player's following abilities: Marking, Speed, Shooting, Stamina. Carlo wants to know the best and the worst abilities of his players.\n",
    "\n",
    "1. Create a vector named **players** and asssign the names of each player. You can copy the following list: (\"Kaka\", \"Maldini\", \"Shevchenko\", \"Nesta\")\n",
    "\n",
    "```r\n",
    "    > players\n",
    "    [1] \"Kaka\"  \"Maldini\"  \"Shevchenko\"  \"Nesta\" \n",
    "```\n",
    "\n",
    "2. Create another vector named **abilities** and assign the names of abilities. You can copy the following list: (\"Marking\", \"Speed\", \"Shooting\", \"Stamina\")\n",
    "\n",
    "```r\n",
    "    > abilities\n",
    "    [1] \"Marking\"  \"Speed\"  \"Shooting\"  \"Stamina\" \n",
    "```\n",
    "\n",
    "3. Create vectors for the abilities of each player; **kaka_ab** for Kaka, **maldini_ab** for Maldini, **shevchenko_ab** for Shevchenko, and **nesta_ab** for Nesta. You can copy following lists:\n",
    "    - **Kaka**: (3, 10, 9, 7)\n",
    "    - **Maldini**: (9, 8, 3, 10)\n",
    "    - **Shevchenko**: (2, 9, 10, 8)\n",
    "    - **Nesta**: (10, 6, 2, 9)\n",
    "\n",
    "```r\n",
    "    > kaka_ab\n",
    "    [1]  3 10  9  7\n",
    "    > maldini_ab\n",
    "    [1]  9  8  3 10\n",
    "    > shevchenko_ab\n",
    "    [1]  2  9 10  8\n",
    "    > nesta_ab\n",
    "    [1] 10  6  2  9\n",
    "```\n",
    "\n",
    "4. Create a matrix named **ability_players** using the ability vectors of players. Name the columns using **abilities** vector and name the rows using **players** vector.\n",
    "\n",
    "```r\n",
    "    > ability_players\n",
    "               Marking Speed Shooting Stamina\n",
    "    Kaka             3    10        9       7\n",
    "    Maldini          9     8        3      10\n",
    "    Shevchenko       2     9       10       8\n",
    "    Nesta           10     6        2       9\n",
    "```\n",
    "\n",
    "5. Create a function named **ability_checker** which takes one argument **ab_list**, a matrix. The function should return each players' best and worst abilities and his name in the following matrix form:\n",
    "\n",
    "```r\n",
    "    > ability_checker(ability_players)\n",
    "               Best Ability Worst Ability\n",
    "    Kaka       \"Speed\"      \"Marking\"    \n",
    "    Maldini    \"Stamina\"    \"Shooting\"   \n",
    "    Shevchenko \"Shooting\"   \"Marking\"    \n",
    "    Nesta      \"Marking\"    \"Shooting\" \n",
    "```"
   ]
  },
  {
   "cell_type": "markdown",
   "metadata": {},
   "source": [
    "## 26.2 SOLUTION"
   ]
  },
  {
   "cell_type": "code",
   "execution_count": null,
   "metadata": {},
   "outputs": [],
   "source": [
    "#1)Create the vector for player names\n",
    "players <- c(\"Kaka\", \"Maldini\", \"Shevchenko\", \"Nesta\")\n",
    "players\n",
    "\n",
    "#2)Create the vector for ability names\n",
    "abilities <- c(\"Marking\", \"Speed\", \"Shooting\", \"Stamina\")\n",
    "abilities\n",
    "\n",
    "#3)Create vectors of player abilities\n",
    "kaka_ab <- c(3, 10, 9, 7)\n",
    "maldini_ab <- c(9, 8, 3, 10)\n",
    "shevchenko_ab <- c(2, 9, 10, 8)\n",
    "nesta_ab <- c(10, 6, 2, 9)\n",
    "kaka_ab\n",
    "maldini_ab\n",
    "shevchenko_ab\n",
    "nesta_ab\n",
    "\n",
    "#4)Create the matrix of abilities and name it\n",
    "ability_players <- matrix(c(kaka_ab, maldini_ab, shevchenko_ab, nesta_ab), nrow = 4, byrow = T)\n",
    "colnames(ability_players) <- abilities\n",
    "rownames(ability_players) <- players\n",
    "ability_players\n",
    "\n",
    "#5)Create ability_checker function\n",
    "ability_checker <- function(ab_list)\n",
    "{\n",
    "  names_col <- c(\"Best Ability\", \"Worst Ability\") #for naming the columns of the result table\n",
    "  names_row <- rownames(ab_list)\n",
    "  result_table <- matrix(nrow = 4, ncol = 2) #initialization of the result table\n",
    "  colnames(result_table) <- names_col\n",
    "  rownames(result_table) <- names_row\n",
    "  \n",
    "  for (i in 1:nrow(ab_list))\n",
    "  {\n",
    "    result_table[i,] <- c(names(which.max(ab_list[i,])),names(which.min(ab_list[i,])))   \n",
    "  }\n",
    "  return(result_table)\n",
    "}\n",
    "\n",
    "ability_checker(ability_players)\n"
   ]
  },
  {
   "cell_type": "markdown",
   "metadata": {
    "tags": [
     "2019-2020-2",
     "hard",
     "bugra",
     "apply"
    ]
   },
   "source": [
    "# 27 THE GAME \"DIVISIBLE\""
   ]
  },
  {
   "cell_type": "markdown",
   "metadata": {},
   "source": [
    "## 27.1 QUESTION"
   ]
  },
  {
   "cell_type": "markdown",
   "metadata": {},
   "source": [
    "- A new game \"Divisible\" has just hit the marketplace. People write down different numbers. Participants become the \"Judge\" one by one. The \"Judge\" says a number and the participants get points depending on if their numbers are divisible by the number that is said by the \"Judge\". Every number that is divisible by the Judge's number is worth 1 point.\n",
    "\n",
    "\n",
    "- Duygu wants to play that game with her friends. Everybody states their numbers as shown below.\n",
    "\n",
    "\n",
    "|Names|  1 |2  |3  |4  |5  |6  |7  |8  |9  |   \n",
    "|:----|:--:|:-:|:-:|:-:|:-:|:-:|:-:|:-:|:-:|\n",
    "|Duygu|   7|  1| 67| 19| 70| 10| 56| 56| 61|\n",
    "|Kadir|  82| 40| 12| 44| 85| 39| 98| 30| 39|\n",
    "|Ece|    95| 82| 22| 67| 39|  5| 56| 16| 32|\n",
    "|Buse|   27| 38| 79| 25| 40| 16| 58| 15| 96|\n",
    "|Zeynep| 17| 39| 10| 90| 59| 78| 65| 76| 79|\n",
    "|Ahmet|   4| 27| 71| 89| 54| 40| 83| 36| 71|\n",
    "|Nur|    18| 44| 22| 82| 98| 37| 75| 77| 16|\n",
    "|Ali|    65| 46| 27| 64| 20| 43| 44| 32| 82|\n",
    "|Mert|    3| 55| 51| 95| 85| 33| 99| 72| 55|\n",
    "\n",
    "\n",
    "1. Set RNGversion to 3.3.1 and seed to 12. Create the matrix **nmb** that consists of a sample of 81 numbers from 1 to 100 by replacement in order to get the numbers as shown above.\n",
    "\n",
    "\n",
    "\n",
    "\n",
    "- Now, you are the Judge. You are expected to say a number and announce the winner. You do not want to deal with calculating by one by. Instead, you should create a function for the common good. What is more, in case there are multiple winners, your function is expected to show all of them.\n",
    "\n",
    "\n",
    "\n",
    "\n",
    "2. Create the function **winners** that takes 2 arguments; **mat**(a matrix) and **n**(the number that the Judge says). This function should return the winner(s).\n",
    "\n",
    "\n",
    "**HINT**: You should use `apply()` function to write the code neatly.\n",
    "\n",
    "\n",
    "- Your function must give outputs as shown below.\n",
    "\n",
    "```r\n",
    "> winners(nmb, 2)\n",
    "[1] \"Kadir\" \"Nur\" \"Ali\" \n",
    "```\n",
    "\n",
    "\n",
    "```r\n",
    "> winners(nmb, 3)\n",
    "[1] \"Mert\" \n",
    "```\n",
    "\n",
    "\n",
    "\n",
    "```r\n",
    "> winners(nmb, 8)\n",
    "[1] \"Ece\" \"Buse\"\n",
    "```\n",
    "\n",
    "\n",
    "\n",
    "```r\n",
    "> winners(nmb, 10)\n",
    "[1] \"Duygu\" \"Kadir\" \"Zeynep\"\n",
    "```\n"
   ]
  },
  {
   "cell_type": "markdown",
   "metadata": {},
   "source": [
    "## 27.2 SOLUTION"
   ]
  },
  {
   "cell_type": "code",
   "execution_count": null,
   "metadata": {},
   "outputs": [],
   "source": [
    "#1 Set seed and create the matrix\n",
    "\n",
    "RNGversion(\"3.3.1\")\n",
    "set.seed(12)\n",
    "\n",
    "nmb <- matrix(sample(1:100, 81, replace = T), nrow = 9)\n",
    "\n",
    "rownames(nmb) <- c(\"Duygu\",\"Kadir\",\"Ece\",\"Buse\",\"Zeynep\",\"Ahmet\",\"Nur\",\"Ali\",\"Mert\")  #Name the rows as shown\n",
    "\n",
    "colnames(nmb) <- 1:9  #Name the cols as shown\n",
    "\n",
    "\n",
    "#2 Create the function\n",
    "\n",
    "winners <- function(mat, n)\n",
    "{\n",
    "\n",
    "mat1 <- apply(mat, 2, function(x) x%%n)  # Use apply function to get the result of divisions\n",
    "\n",
    "vec <- apply(mat1, 1, function(x) sum(x == 0) )  # Divisible numbers give output 0. Use apply function to see how many numbers are divisible.\n",
    "\n",
    "maxval <- max(vec)  \n",
    "\n",
    "winner <- vec[vec==maxval] # See who has the most divisible numbers\n",
    "\n",
    "return(names(winner))\n",
    "\n",
    "}\n",
    "             \n",
    "winners(nmb, 2)\n",
    "winners(nmb, 3)\n",
    "winners(nmb, 8)\n",
    "winners(nmb, 10)\n"
   ]
  }
 ],
 "metadata": {
  "celltoolbar": "Tags",
  "kernelspec": {
   "display_name": "R",
   "language": "R",
   "name": "ir"
  },
  "language_info": {
   "codemirror_mode": "r",
   "file_extension": ".r",
   "mimetype": "text/x-r-source",
   "name": "R",
   "pygments_lexer": "r",
   "version": "3.6.1"
  },
  "toc": {
   "base_numbering": 1,
   "nav_menu": {},
   "number_sections": true,
   "sideBar": true,
   "skip_h1_title": false,
   "title_cell": "Table of Contents",
   "title_sidebar": "Contents",
   "toc_cell": false,
   "toc_position": {},
   "toc_section_display": true,
   "toc_window_display": true
  },
  "varInspector": {
   "cols": {
    "lenName": 16,
    "lenType": 16,
    "lenVar": 40
   },
   "kernels_config": {
    "python": {
     "delete_cmd_postfix": "",
     "delete_cmd_prefix": "del ",
     "library": "var_list.py",
     "varRefreshCmd": "print(var_dic_list())"
    },
    "r": {
     "delete_cmd_postfix": ") ",
     "delete_cmd_prefix": "rm(",
     "library": "var_list.r",
     "varRefreshCmd": "cat(var_dic_list()) "
    }
   },
   "types_to_exclude": [
    "module",
    "function",
    "builtin_function_or_method",
    "instance",
    "_Feature"
   ],
   "window_display": false
  }
 },
 "nbformat": 4,
 "nbformat_minor": 2
}
