{
 "cells": [
  {
   "cell_type": "code",
   "execution_count": null,
   "metadata": {},
   "outputs": [],
   "source": [
    "options(jupyter.rich_display = F)"
   ]
  },
  {
   "cell_type": "markdown",
   "metadata": {
    "tags": [
     "2019-2020-2",
     "duygu",
     "conditionals_inside_functions",
     "easy"
    ]
   },
   "source": [
    "# ODD OR EVEN?"
   ]
  },
  {
   "cell_type": "markdown",
   "metadata": {},
   "source": [
    "## QUESTION"
   ]
  },
  {
   "cell_type": "markdown",
   "metadata": {},
   "source": [
    "1. Create a function **thefunction** which takes a vector argument **n** and\n",
    "\n",
    "    - calculates the mean of the elements of **n**,\n",
    "    - rounds the mean to the nearest integer,\n",
    "    - if the integer is odd, returns the integer and the word **\"odd\"** , and if the integer is even returns the integer and the word **\"even\"** .\n",
    "\n",
    "2. Set seed to 80520 and create a sample vector **thevec** with 20 elements from 50 to 100 with no replacement. \n",
    "\n",
    "\n",
    "```r\n",
    "> thevec\n",
    " [1]  69  68  77  79  64  86  71  56  99  84  52  90  54 100  55  94  53  70  67  59\n",
    "```\n",
    "\n",
    "\n",
    "3. Try your function with **thevec**.\n",
    "\n",
    "\n",
    "```r\n",
    "> thefunction(thevec)\n",
    "[1] \"75\"  \"odd\"\n",
    "```"
   ]
  },
  {
   "cell_type": "markdown",
   "metadata": {},
   "source": [
    "## SOLUTION"
   ]
  },
  {
   "cell_type": "code",
   "execution_count": null,
   "metadata": {},
   "outputs": [],
   "source": [
    "#1\n",
    "thefunction <- function(n)\n",
    "{\n",
    "  m <- mean(n)\n",
    "  r <- round(m)\n",
    "  \n",
    "  if(r%%2 == 0)\n",
    "  {\n",
    "    return(c(r, \"even\"))\n",
    "  } else\n",
    "  {\n",
    "    return(c(r, \"odd\"))\n",
    "  }\n",
    "}\n",
    "\n",
    "#2\n",
    "set.seed(80520)\n",
    "thevec <- sample(50:100, 20, replace = F)\n",
    "thevec\n",
    "\n",
    "#3\n",
    "thefunction(thevec)"
   ]
  },
  {
   "cell_type": "markdown",
   "metadata": {
    "tags": [
     "2019-2020-2",
     "Koralp",
     "decision",
     "structures",
     "easy"
    ]
   },
   "source": [
    "# SONGS FOR THE ALBUM"
   ]
  },
  {
   "cell_type": "markdown",
   "metadata": {},
   "source": [
    "## QUESTION"
   ]
  },
  {
   "cell_type": "markdown",
   "metadata": {},
   "source": [
    "John, Paul, George and Ringo make songs on their own and they ask to the producer whether songs' lengths are suitable for the album. Producer says the songs which are longer than 4 minutes will not be accepted and the rest will be accepted.\n",
    "\n",
    "1. Create a vector called **songs** which includes the name of the band memebers and the corresponding song's length as such:\n",
    "\n",
    "    ```r\n",
    "    > songs\n",
    "      john   paul george  ringo \n",
    "      6.01   3.47   2.02   4.10 \n",
    "      ```\n",
    "\n",
    "2. Create a function called **songs_for_album** which takes a vector and turns a vector including the names of the band memebers who made songs which are acceptable as such:\n",
    "\n",
    "    ```r\n",
    "    > songs_for_album(songs)\n",
    "        paul       george \n",
    "    \"acceptable\" \"acceptable\" \n",
    "    ```\n",
    "\n",
    "**Hint**: Use the `ifelse` function."
   ]
  },
  {
   "cell_type": "markdown",
   "metadata": {},
   "source": [
    "## SOLUTION"
   ]
  },
  {
   "cell_type": "code",
   "execution_count": null,
   "metadata": {},
   "outputs": [],
   "source": [
    "#1\n",
    "songs <- c(john = 6.01, paul = 3.47, george = 2.02, ringo = 4.10)\n",
    "\n",
    "#2\n",
    "songs_for_album <- function(vec)\n",
    "{\n",
    "  vec_x <- ifelse(vec > 4, \"long\", \"acceptable\")\n",
    "  accepted <- vec_x[vec_x == \"acceptable\"]\n",
    "  return(accepted)\n",
    "}\n",
    "\n",
    "songs_for_album(songs)"
   ]
  },
  {
   "cell_type": "markdown",
   "metadata": {
    "tags": [
     "2019-2020-2",
     "meryem",
     "ifelse",
     "setseed",
     "sort",
     "easy"
    ]
   },
   "source": [
    "# FILTERING PRICES"
   ]
  },
  {
   "cell_type": "markdown",
   "metadata": {},
   "source": [
    "## QUESTION"
   ]
  },
  {
   "cell_type": "markdown",
   "metadata": {},
   "source": [
    "Aylin wants to take a new phone and her budget is 1200\\$. She is going to filter the phone options according to their prices to narrow the options.\n",
    "\n",
    "1. First write down RNGversion(\"3.3.1\") and set seed to 1921.\n",
    "\n",
    "```r\n",
    "RNGversion(\"3.3.1\")\n",
    "set.seed(1921)\n",
    "```\n",
    "\n",
    "\n",
    "2. Create a sample vector named **prices** with 30 elements from 500 to 2000 with replacement.\n",
    "\n",
    "```r\n",
    "> prices\n",
    " [1] 1525 1353  727 1457 1095  621 1899  897 1736 1526  823  857 1248 1899 1569  \n",
    "[16] 593 1709 1699 1776 1614  820 1415 1365 1170  897  901 1287  851 1613 1086\n",
    "```\n",
    "\n",
    "\n",
    "3. Distinguish the phones based on Aylin's budget. Give the output \"intb\" for those in the budget and \"notintb\" for the others. Assign these outputs to a new vector called **filtered**.\n",
    "\n",
    "```r\n",
    "> filtered\n",
    " [1] \"notintb\" \"notintb\" \"intb\"  \"notintb\" \"intb\" \"intb\" \"notintb\" \"intb\" \"notintb\" \n",
    "[10] \"notintb\" \"intb\"  \"intb\"    \"notintb\" \"notintb\"  \"notintb\" \"intb\"  \"notintb\"\n",
    "[18] \"notintb\" \"notintb\" \"notintb\" \"intb\"   \"notintb\"  \"notintb\" \"intb\" \"intb\" \n",
    "[26] \"intb\"  \"notintb\" \"intb\"  \"notintb\" \"intb\"   \n",
    "```\n",
    "\n",
    "\n",
    "4. Subset and sort the **prices** vector to show only the phone prices in the budget in ascending order and assign **ascfilt**.\n",
    "\n",
    "```r\n",
    "> ascfilt\n",
    " [1]  593  621  727  820  823  851  857  897  897  901 1086 1095 1170\n",
    "```\n"
   ]
  },
  {
   "cell_type": "markdown",
   "metadata": {},
   "source": [
    "## SOLUTION"
   ]
  },
  {
   "cell_type": "code",
   "execution_count": null,
   "metadata": {},
   "outputs": [],
   "source": [
    "#1\n",
    "RNGversion(\"3.3.1\")\n",
    "set.seed(1921)\n",
    "\n",
    "#2\n",
    "prices <- sample(500:2000, 30, replace = TRUE)\n",
    "\n",
    "#3\n",
    "filtered <- ifelse(prices <= 1200, \"intb\", \"notintb\")\n",
    "\n",
    "#4\n",
    "ascfilt <- sort(prices[filtered == \"intb\"])"
   ]
  },
  {
   "cell_type": "markdown",
   "metadata": {
    "tags": [
     "2019-2020-2",
     "decision_structures",
     "logical_operators",
     "easy",
     "berke"
    ]
   },
   "source": [
    "# VALID TRIANGLE"
   ]
  },
  {
   "cell_type": "markdown",
   "metadata": {},
   "source": [
    "## QUESTION "
   ]
  },
  {
   "cell_type": "markdown",
   "metadata": {},
   "source": [
    "You are assigned to create a function that will check the validity of a triangle. In order to check whether a triangle is valid or not, there are 3 basic conditions that should be met. These are:\n",
    "\n",
    "$$|b-c| < a < b + c$$ \n",
    "$$|a-c| < b < a + c$$\n",
    "$$|a-b| < c < a + b$$\n",
    "\n",
    "1. Create a function named **tri_validity** with arguments **a, b** and **c**\n",
    "\n",
    "\n",
    "2. Meet those conditions with logical operators.\n",
    "\n",
    "\n",
    "3. Check if it works with triangles with sides 4, 5, 10 and 6, 7, 8.\n",
    "\n",
    "\n",
    "This function should return this if it is valid:\n",
    "```r\n",
    "> tri_validity(a = 4, b = 5, c = 10)\n",
    "[1] \"This is not a valid triangle!\"\n",
    "```\n",
    "This function should return this if it is not valid:\n",
    "```r\n",
    "> tri_validity(a = 6, b = 7, c = 8)\n",
    "[1] \"This is a valid triangle!\"\n",
    "```"
   ]
  },
  {
   "cell_type": "markdown",
   "metadata": {},
   "source": [
    "## SOLUTION "
   ]
  },
  {
   "cell_type": "code",
   "execution_count": null,
   "metadata": {},
   "outputs": [],
   "source": [
    "#1 Create the function tri_validity with required conditions.\n",
    "tri_validity <- function(a, b, c) {    \n",
    "    if (((abs(b - c) < a) & (a < b + c)) & ((abs(a - c) < b) & (b < a + c)) & ((abs(a - b) < c) & (c < a + b))) { \n",
    "        return(\"This is a valid triangle!\")\n",
    "    }\n",
    "    else { \n",
    "        return(\"This is not a valid triangle!\")\n",
    "    }\n",
    "}\n",
    "\n",
    "#2 Check it with triangle with sides 4, 5, 10.\n",
    "tri_validity(a = 4, b = 5, c = 10)\n",
    "\n",
    "#3 Check it with triangle with sides 6, 7, 8.\n",
    "tri_validity(a = 6, b = 7, c = 8)"
   ]
  },
  {
   "cell_type": "markdown",
   "metadata": {
    "tags": [
     "2019-2020-2",
     "salih",
     "if_else",
     "one_liner",
     "easy"
    ]
   },
   "source": [
    "# THE ROLLER COASTER"
   ]
  },
  {
   "cell_type": "markdown",
   "metadata": {},
   "source": [
    "## QUESTION"
   ]
  },
  {
   "cell_type": "markdown",
   "metadata": {},
   "source": [
    "There is a roller coaster  in an amusement park and you have to be at least 16 years old to go on it. \n",
    "1. Create a function named  **roller_coaster** which takes one argument named **age**; which is an integer and indicates the age of the person who wishes to go on the roller coaster. Your function should do the following :\n",
    "    * It  defines a variable named  **permission** . In this variable, it stores the output of a conditional statement:  If **age** is at least 16 it says “You can go on the roller coaster!” ; if not, it says “Sorry, you can’t go on the roller coaster.” \n",
    "\n",
    "    * The function returns **permission**\n",
    "\n",
    "Try your function with different values of **age**. As such :\n",
    "\n",
    "```r\n",
    "> roller_coaster(age = 11)\n",
    "[1] \"Sorry, you can’t go on the roller coaster.\"\n",
    "\n",
    "\n",
    "> roller_coaster(age = 18)\n",
    "[1] \"You can go on the roller coaster!\"\n",
    "```\n",
    "\n"
   ]
  },
  {
   "cell_type": "markdown",
   "metadata": {},
   "source": [
    "## SOLUTION"
   ]
  },
  {
   "cell_type": "code",
   "execution_count": null,
   "metadata": {},
   "outputs": [],
   "source": [
    "#1\n",
    "roller_coaster <- function(age)\n",
    "{\n",
    "  # Store the output of the if else statement(written in one line) in permission \n",
    "  permission <- if (age >= 16)  \"You can go on the roller coaster!\" else \"Sorry, you can’t go on the roller coaster.\" \n",
    "  return(permission)\n",
    "}\n",
    "\n",
    "roller_coaster(age = 11)\n",
    "roller_coaster(age = 18)"
   ]
  },
  {
   "cell_type": "markdown",
   "metadata": {
    "tags": [
     "2019-2020-2",
     "decision_structures",
     "conditionals_inside_function",
     "medium",
     "berke"
    ]
   },
   "source": [
    "# INCOME GROUPS"
   ]
  },
  {
   "cell_type": "markdown",
   "metadata": {},
   "source": [
    "## QUESTION"
   ]
  },
  {
   "cell_type": "markdown",
   "metadata": {},
   "source": [
    "Each year World Bank classifies countries according to their income level. This is calculated with GNI per capita in USD. Your company wants you to create a function in R that will tell the income group of the country according to its income level.\n",
    "\n",
    "In the table below there are *thresholds* and *income in USD*:\n",
    "\n",
    "|Threshold|Income in $|\n",
    "|---|---|\n",
    "| Low income  |  < 1026 |\n",
    "| Lower-middle income  | 1026 - 3995  |\n",
    "|  Upper-middle income |  3995 - 12375 |\n",
    "| High income  | > 12375 |\n",
    "\n",
    "Here are the steps:\n",
    "\n",
    "1. Create a function named **incomecalc** with arguments **income** and **country**.\n",
    "\n",
    "\n",
    "2. Inside the function create a vector called **incomegroups** which will contain the 4 income groups as strings.\n",
    "\n",
    "\n",
    "3. Create another variable named **phrase** within the function. It will contain country and string \"is a\". For example: ```\"turkey is a(n)\" ```.  **Hint**: Use ```paste()``` function.\n",
    "\n",
    "\n",
    "4. Construct the conditionals with the income levels and thresholds given at the table above. \n",
    " - For given income levels paste **phrase** and the subset of the **incomegroups** belonging to its threshold.\n",
    " - Construct the last conditional where the **income** is not meeting any condition. Return ```\"Income level you entered is negative, please try again!\"```.\n",
    "\n",
    "\n",
    "5. Try the function with USA having $11123 GNI per capita.\n",
    "\n",
    "The output should look as follows:\n",
    "\n",
    "```r\n",
    "> incomecalc(income = 11123, country = \"USA\")\n",
    "[1] \"USA is a(n) high income country\"\n",
    "```"
   ]
  },
  {
   "cell_type": "markdown",
   "metadata": {},
   "source": [
    "## SOLUTION"
   ]
  },
  {
   "cell_type": "code",
   "execution_count": null,
   "metadata": {},
   "outputs": [],
   "source": [
    "#1\n",
    "incomecalc <- function(income, country) {\n",
    "  incomegroups <- c(\"low income country\", \"lower-middle income country\", \"upper-middle income country\", \"high income country\")\n",
    "  \n",
    "  phrase <- paste(country, \"is a(n)\")\n",
    "  \n",
    "  if (income < 0) {\n",
    "    return(\"Income level you entered is negative, please try again!\")\n",
    "  } else if (income < 1026) {\n",
    "    return(paste(phrase, incomegroups[1]))\n",
    "  } else if (income < 3995) {\n",
    "    return(paste(phrase, incomegroups[2]))\n",
    "  } else if (income < 12375) {\n",
    "    return(paste(phrase, incomegroups[3]))\n",
    "  } else {\n",
    "    return(paste(phrase, incomegroups[4]))\n",
    "  }\n",
    "}\n",
    "\n",
    "#2\n",
    "incomecalc(income = 11123, country = \"USA\")"
   ]
  },
  {
   "cell_type": "markdown",
   "metadata": {
    "tags": [
     "2019-2020-2",
     "decision_structures",
     "nested_if_else_statements",
     "medium",
     "berke"
    ]
   },
   "source": [
    "# QWERTY "
   ]
  },
  {
   "cell_type": "markdown",
   "metadata": {},
   "source": [
    "## QUESTION"
   ]
  },
  {
   "cell_type": "markdown",
   "metadata": {},
   "source": [
    "In Turkey most of the highways have a speed limit of 120 km/h. Alp is an active driver, he wants to avoid speed tickets. In order to do this he will write a script that will automatically warn him whether he does a speed ticket or not and how much he will pay. After completing this, he has to check whether if he has a speed ticket or not.\n",
    "\n",
    "Speed ticket fines:\n",
    " - Between 10% - 30% above the speed limit: 235 TL.\n",
    " - Between 30% - 50% above the speed limit: 488 TL.\n",
    " - 50% above the speed limit: 1002 TL.\n",
    "\n",
    "Here are the steps:\n",
    "\n",
    "1. Create a function named **speedticket** with arguments **speed** and **limit**. **limit** has a default value of 120.\n",
    "\n",
    "\n",
    "2. Construct the conditionals with the information above. **Hint:** You have to use nested if-else statements.\n",
    "\n",
    "\n",
    "3. Check whether the function works or not with speeds 132, 140, 162 and 181 km/h.\n",
    "\n",
    "\n",
    "\n",
    "The output should look as follows: \n",
    "\n",
    "```r\n",
    "> speedticket(speed = 132, limit = 120)\n",
    "[1] \"You do not have a speed ticket!\"\n",
    "\n",
    "> speedticket(speed = 140, limit = 120)\n",
    "[1] \"You have to pay 235 TL!\"\n",
    "\n",
    "> speedticket(speed = 162, limit = 120)\n",
    "[1] \"You have to pay 488 TL!\"\n",
    "\n",
    "> speedticket(speed = 181, limit = 120)\n",
    "[1] \"You have to pay 1002 TL!\"\n",
    "```"
   ]
  },
  {
   "cell_type": "markdown",
   "metadata": {},
   "source": [
    "## SOLUTION "
   ]
  },
  {
   "cell_type": "code",
   "execution_count": null,
   "metadata": {},
   "outputs": [],
   "source": [
    "#1\n",
    "speedticket <- function(speed, limit = 120) {\n",
    "  if (speed > limit * 1.10) {\n",
    "    if (speed <= limit * 1.30) {\n",
    "      return(\"You have to pay 235 TL!\")\n",
    "    } else if (speed <= limit * 1.5) {\n",
    "      return(\"You have to pay 488 TL!\")\n",
    "    } else {\n",
    "      return(\"You have to pay 1002 TL!\")\n",
    "    }\n",
    "  } else {\n",
    "    return(\"You do not have a speed ticket!\")\n",
    "  }\n",
    "}\n",
    "\n",
    "#2\n",
    "speedticket(speed = 132, limit = 120)\n",
    "\n",
    "#3\n",
    "speedticket(speed = 140, limit = 120)\n",
    "\n",
    "#4\n",
    "speedticket(speed = 162, limit = 120)\n",
    "\n",
    "#5\n",
    "speedticket(speed = 181, limit = 120)"
   ]
  },
  {
   "cell_type": "markdown",
   "metadata": {
    "tags": [
     "2019-2020-2",
     "Koralp",
     "decision",
     "structures",
     "medium"
    ]
   },
   "source": [
    "# THE DIVIDE GAME"
   ]
  },
  {
   "cell_type": "markdown",
   "metadata": {},
   "source": [
    "## QUESTION"
   ]
  },
  {
   "cell_type": "markdown",
   "metadata": {},
   "source": [
    "Two players called A and B want to split 100 dollars. Each of them writes a number in a piece of paper the amount of money they want from 1 dollar to 100 dollars (assume that they can only write integers). \n",
    "\n",
    "1. If the numbers written on the papers add up to less than 100 dollars, player A accepts the amount which she wrote in the paper only if it is greater than 2 times the amount which player B wrote. Otherwise, player B gets all the money.\n",
    "\n",
    "\n",
    "2. If the numbers written on the papers add up to 100 dollars, player A accepts the amount which she wrote only if it is greater than the amount which player B wrote. Otherwise, player B gets all the money.\n",
    "\n",
    "\n",
    "3. If the numbers written on the papers add up to more than 100 dollars, both players get zero dollar.\n",
    "\n",
    "\n",
    "4. Create a function called **divide_game** which takes the numbers written on the papers (first player A's amount then player B's amount) and returns the outcome of the game (first player A then player B) as such:\n",
    "\n",
    "    ```r\n",
    "    > divide_game(43, 20)\n",
    "    [1] 43 20\n",
    "    ```\n",
    "    \n",
    "    ```r\n",
    "    > divide_game(49, 51)\n",
    "    [1]   0 100\n",
    "    ```\n",
    "    \n",
    "    ```r\n",
    "    > divide_game(51, 50)\n",
    "    [1] 0 0\n",
    "    ```"
   ]
  },
  {
   "cell_type": "markdown",
   "metadata": {},
   "source": [
    "## SOLUTION"
   ]
  },
  {
   "cell_type": "code",
   "execution_count": null,
   "metadata": {},
   "outputs": [],
   "source": [
    "#4\n",
    "divide_game <- function(a, b)\n",
    "{\n",
    "  if(a + b < 100) #1\n",
    "  {\n",
    "    \n",
    "    if(a > 2 * b)\n",
    "    {\n",
    "      c(a, b)\n",
    "    } else \n",
    "    {\n",
    "      c(0, 100)\n",
    "    }\n",
    "\n",
    "  } else if (a + b == 100) #2\n",
    "  {\n",
    "      \n",
    "    if(a > b)\n",
    "    {\n",
    "      c(a, b)\n",
    "    } else\n",
    "    {\n",
    "      c(0, 100)\n",
    "    }\n",
    "  \n",
    "  } else #3 \n",
    "  {\n",
    "    c(0, 0)\n",
    "  }\n",
    "}\n",
    "\n",
    "divide_game(43, 20)\n",
    "divide_game(49, 51)\n",
    "divide_game(51, 50)"
   ]
  },
  {
   "cell_type": "markdown",
   "metadata": {
    "tags": [
     "2019-2020-2",
     "Koralp",
     "decision",
     "structures",
     "medium"
    ]
   },
   "source": [
    "# GRADE CALCULATOR"
   ]
  },
  {
   "cell_type": "markdown",
   "metadata": {},
   "source": [
    "## QUESTION"
   ]
  },
  {
   "cell_type": "markdown",
   "metadata": {},
   "source": [
    "Ada has had two midterms so far for her math class. Next week, there will be final exam. She wants to calculate her overall grade according to different possibilities.\n",
    "\n",
    "\n",
    "1. First create a vector called **midterms** which includes her midterm scores as such:\n",
    "\n",
    "    ```r\n",
    "    > midterms\n",
    "    [1] 67 56\n",
    "    ```\n",
    "\n",
    "2. Create a function called **calculator** which takes two arguments: one is a vector with a length of 2 and the other is a number. The function should calculate the overall grade according to the following steps:\n",
    "\n",
    "\n",
    "3. If her final exam score is smaller than any one of the midterms and also it is greater than the average of the midterms, her final exam will have an effect on her overall grade. \n",
    "\n",
    "\n",
    "4. If the final score is also greater than both of the midterms, each midterm will have a weight of 25% and the final will have a weight of 50% on her overall grade. Otherwise, each midterm's weight will be 30% and the final's weight will be 40%.\n",
    "\n",
    "\n",
    "5. If the condition mentioned in the step 2 is not met, the averge of the midterms will be her overall grade.\n",
    "\n",
    "\n",
    "6. The function should return the overall grade as such according to different circumstances:\n",
    "\n",
    "    ```r\n",
    "    > calculator(midterms, 55)\n",
    "    [1] 61.5\n",
    "    ```\n",
    "    \n",
    "    ```r\n",
    "    > calculator(midterms, 70)\n",
    "    [1] 65.75\n",
    "    ```\n",
    "    \n",
    "    ```r\n",
    "    > calculator(midterms, 66)\n",
    "    [1] 63.3\n",
    "    ```\n",
    "    \n",
    "\n",
    " "
   ]
  },
  {
   "cell_type": "markdown",
   "metadata": {},
   "source": [
    "## SOLUTION"
   ]
  },
  {
   "cell_type": "code",
   "execution_count": null,
   "metadata": {},
   "outputs": [],
   "source": [
    "#1\n",
    "ada_midterms <- c(67, 56)\n",
    "\n",
    "#2\n",
    "calculator <- function(midterms, final)\n",
    "{\n",
    "  if(any(midterms < final) && final > mean(midterms))\n",
    "  {\n",
    "    if(final > max(midterms))\n",
    "    {\n",
    "      score <- sum(midterms * (0.25), final * (0.5))\n",
    "    } else\n",
    "    {\n",
    "      score <- sum(midterms * (0.3), final * (0.4)) \n",
    "    }\n",
    "  } else\n",
    "  {\n",
    "    score <- mean(midterms) \n",
    "  }\n",
    "  return(score)\n",
    "}\n",
    "\n",
    "calculator(ada_midterms, 55)\n",
    "calculator(ada_midterms, 70)\n",
    "calculator(ada_midterms, 66)"
   ]
  },
  {
   "cell_type": "markdown",
   "metadata": {
    "tags": [
     "2019-2020-2",
     "meryem",
     "if_else_statement",
     "relational_operators",
     "medium"
    ]
   },
   "source": [
    "# MOVIE"
   ]
  },
  {
   "cell_type": "markdown",
   "metadata": {},
   "source": [
    "## QUESTION"
   ]
  },
  {
   "cell_type": "markdown",
   "metadata": {},
   "source": [
    "Ted and Stella want to decide on a movie to watch. They have got some information about five movies as follows:\n",
    "\n",
    "|Movie          |Runtime(min)|Rate  |\n",
    "|---            |---         |---   |\n",
    "|The Godfather  |175         |9.2   |\n",
    "|Joker          |122         |8.6   |\n",
    "|Parasite       |132         |8.6   |\n",
    "|Kill Bill: V1  |111         |8.1   |\n",
    "|Ad Astra       |123         |6.6   |\n",
    "\n",
    "\n",
    "1. Create vectors for the names of each movie, which takes 2 elements, first is the runtime and second is the rate.\n",
    "\n",
    "```r\n",
    "> Godfather\n",
    "[1] 175 9.2\n",
    "\n",
    "```\n",
    "\n",
    "\n",
    "2. Create a function called **choose_mov** which takes a vector as argument.\n",
    "\n",
    "\n",
    "3. Ted and Stella have only 130 minutes to watch, thus if the movie is longer than 130 minutes function should return \"Too long to watch! Runtime:\" with the runtime of the movie, otherwise it should consider the rate and if the rate is greater than 8.5 it should return \"Time to watch!\" else it should return \"Rated low. Rate:\" with the rate of the movie.\n",
    "\n",
    "```r\n",
    "> choose_mov(Godfather)\n",
    "[1] \"Too long to watch! Runtime: 175\"\n",
    "\n",
    "> choose_mov(Joker)\n",
    "[1] \"Time to watch!\"\n",
    "\n",
    "> choose_mov(Parasite)\n",
    "[1] \"Too long to watch! Runtime: 132\"\n",
    "\n",
    "> choose_mov(Kill_Bill)\n",
    "[1] \"Rated low. Rate: 8.1\"\n",
    "\n",
    "> choose_mov(Ad_Astra)\n",
    "[1] \"Rated low. Rate: 6.6\"\n",
    "\n",
    "```\n",
    "\n",
    "**Hint:**  You can use `paste()` to get multiple argument returns.\n",
    "\n"
   ]
  },
  {
   "cell_type": "markdown",
   "metadata": {},
   "source": [
    "## SOLUTION"
   ]
  },
  {
   "cell_type": "code",
   "execution_count": null,
   "metadata": {},
   "outputs": [],
   "source": [
    "#1\n",
    "Godfather <- c(175, 9.2)\n",
    "Joker <- c(122, 8.6)\n",
    "Parasite <- c(132, 8.6)\n",
    "Kill_Bill <- c(111, 8.1)\n",
    "Ad_Astra <- c(123, 6.6)\n",
    "\n",
    "#2\n",
    "choose_mov <- function(movie)\n",
    "{\n",
    "  if(movie[1] > 130)\n",
    "  {\n",
    "    return(paste(\"Too long to watch! Runtime:\", movie[1]))\n",
    "  } else\n",
    "  {\n",
    "    if(movie[2] > 8.5)\n",
    "    {\n",
    "      return(\"Time to watch!\")\n",
    "    } else\n",
    "    {\n",
    "      return(paste(\"Rated low. Rate:\", movie[2]))\n",
    "    }\n",
    "  }\n",
    "}\n",
    "\n",
    "#3\n",
    "choose_mov(Godfather)\n",
    "choose_mov(Joker)\n",
    "choose_mov(Parasite)\n",
    "choose_mov(Kill_Bill)\n",
    "choose_mov(Ad_Astra)"
   ]
  },
  {
   "cell_type": "markdown",
   "metadata": {
    "tags": [
     "2019-2020-2",
     "meryem",
     "relational_operators",
     "nested-if-else",
     "medium"
    ]
   },
   "source": [
    "# COMPETITIVE POLICE OFFICERS"
   ]
  },
  {
   "cell_type": "markdown",
   "metadata": {},
   "source": [
    "## QUESTION"
   ]
  },
  {
   "cell_type": "markdown",
   "metadata": {},
   "source": [
    "There is a criminal case where the only traces left behind the suspect are her diaries and there is a room full of them. So the police officers had to read them to find a clue about where the suspect is hiding. Luckily Amy and Holt are working at this police station and they are both competitive police officers, who have fast reading medals. Thus, they start a competition but Charles, who is another police officer at the same station, is against this kind of fast reading.\n",
    "\n",
    "However they still got the competition and the loser is going to take the winner to the dinner, and if it draws they will take Charles to the dinner.\n",
    "800h 802a\n",
    "1. Create a function named **dinner** that takes two arguments:\n",
    " - **amies** for the word counts of Amy in a minute,\n",
    " - **holts** for the word counts of Holt in a minute.\n",
    "\n",
    "  This function should compare the word counts of Amy and Holt, then return:\n",
    "\n",
    " - \"Slow and steady wins the race, Charles says.\" if it draws\n",
    " - \"Holt pays the dinner.\" if Holt loses\n",
    " - \"Amy pays the dinner.\" if Amy loses.\n",
    "    \n",
    "    \n",
    "2. Try your function as such:\n",
    "\n",
    "```r\n",
    "> dinner(amies = 792, holts = 792)\n",
    "[1] \"Slow and steady wins the race, Charles says.\"\n",
    "\n",
    "> dinner(amies = 802, holts = 800)\n",
    "[1] \"Holt pays the dinner.\"\n",
    "\n",
    "> dinner(amies = 801, holts = 805)\n",
    "[1] \"Amy pays the dinner.\"\n",
    "\n",
    "```\n"
   ]
  },
  {
   "cell_type": "markdown",
   "metadata": {},
   "source": [
    "## SOLUTION"
   ]
  },
  {
   "cell_type": "code",
   "execution_count": null,
   "metadata": {},
   "outputs": [],
   "source": [
    "#1\n",
    "dinner <- function(amies, holts)\n",
    "{\n",
    "  if(amies == holts)\n",
    "  {\n",
    "    return(\"Slow and steady wins the race, Charles says.\")\n",
    "  } else if(amies >= holts)\n",
    "  {\n",
    "    return(\"Holt pays the dinner.\")\n",
    "  } else if(amies <= holts)\n",
    "  {\n",
    "    return(\"Amy pays the dinner.\")\n",
    "  }\n",
    "}\n",
    "\n",
    "#2\n",
    "dinner(amies = 792, holts = 792)\n",
    "    \n",
    "dinner(amies = 802, holts = 800)\n",
    "\n",
    "dinner(amies = 801, holts = 805)"
   ]
  },
  {
   "cell_type": "markdown",
   "metadata": {
    "tags": [
     "2019-2020-2",
     "duygu",
     "relational_operators",
     "conditionals_inside_functions",
     "medium"
    ]
   },
   "source": [
    "# A SWEET ONE "
   ]
  },
  {
   "cell_type": "markdown",
   "metadata": {},
   "source": [
    "## QUESTION"
   ]
  },
  {
   "cell_type": "markdown",
   "metadata": {},
   "source": [
    "Didar wants to eat a dessert as a reward after her \"Mukavemet\" exam. \n",
    "\n",
    "If she can pass the exam, the temperature is equal or above 20°C and the weather is sunny, she will eat vanilla ice cream (which is her favourite). If the temperature is below 20°C but the weather is sunny, she will prefer lemon cheesecake. \n",
    "If she cannot pass the exam or the weather is not sunny, she will buy a big jar of Nutella and go her home. \n",
    "\n",
    "1. Create a function **dessert** that will take 3 arguments **muk** (which is \"pass\" or \"fail\"), **temp** (the temperature), and **sun** (which is T or F). Then it should return **\"vanilla ice cream\"**, **\"lemon cheesecake\"** or **\"nutella\"**.\n",
    "\n",
    "2. Try your function in case of following situations:\n",
    "\n",
    "\n",
    "    A. Didar passed, the temperature is 15°C and the weather is sunny.\n",
    "\n",
    "```r\n",
    "> dessert(muk =\"pass\", temp = 15, sun = T )\n",
    "[1] \"lemon cheesecake\"\n",
    "```\n",
    "    B. Didar failed, the temperature is 25°C and the weather is sunny. \n",
    "  \n",
    "```r\n",
    "> dessert(muk = \"fail\", temp = 25, sun = T)\n",
    "[1] \"nutella\"\n",
    "```\n",
    "\n",
    "    C. Didar passed, the temperature is 20°C and the weather is not sunny.     \n",
    "    \n",
    "```r\n",
    "> dessert(muk = \"pass\", temp = 20, sun = F)\n",
    "[1] \"nutella\"\n",
    "```"
   ]
  },
  {
   "cell_type": "markdown",
   "metadata": {},
   "source": [
    "## SOLUTION"
   ]
  },
  {
   "cell_type": "code",
   "execution_count": null,
   "metadata": {},
   "outputs": [],
   "source": [
    "#1\n",
    "dessert <- function(muk, temp, sun)\n",
    "{\n",
    "  if(muk == \"pass\" && sun)\n",
    "  {\n",
    "    if(temp >= 20)\n",
    "    {\n",
    "      return(\"vanilla ice cream\")\n",
    "    } else\n",
    "    {\n",
    "      return(\"lemon cheesecake\")\n",
    "    }\n",
    "  } else if(muk == \"fail\" | !sun)\n",
    "  {\n",
    "    return(\"nutella\")\n",
    "  }\n",
    "}\n",
    "\n",
    "#2\n",
    "dessert(muk = \"pass\", temp = 15, sun = T)\n",
    "dessert(muk = \"fail\", temp = 25, sun = T)\n",
    "dessert(muk = \"pass\", temp = 20, sun = F)"
   ]
  },
  {
   "cell_type": "markdown",
   "metadata": {
    "tags": [
     "2019-2020-2",
     "duygu",
     "conditionals_inside_functions",
     "nested_if-else_statements",
     "relational_operators",
     "medium"
    ]
   },
   "source": [
    "# HELLO SPRING"
   ]
  },
  {
   "cell_type": "markdown",
   "metadata": {},
   "source": [
    "## QUESTION"
   ]
  },
  {
   "cell_type": "markdown",
   "metadata": {},
   "source": [
    "Since the weather is getting warmer lately, a high school decides to organise a party to welcome spring. The main guests are the students -whose ages change between 13 and 17- and the teachers; however some of the students get permission to bring their younger siblings. \n",
    "\n",
    "The beverages will be served according to the ages:\n",
    "\n",
    "- Guests whose ages are lower than 13, will be served pineapple juice with or without ice.  \n",
    "- Guests whose ages are equal or larger than 13 and lower than 18, will be served cola with or without ice. \n",
    "- Guests whose ages are larger than 18, will be served beer with or without ice.\n",
    "\n",
    "The information about three of the guests are given as such: \n",
    "\n",
    "|       | Age | Preference |\n",
    "|-------|-----|------------|\n",
    "| Pelin | 15  | iced       |\n",
    "| Efe   | 8   | no ice     |\n",
    "| Seda  | 29  | iced       |\n",
    "\n",
    "1. Create three vectors **pelin**, **efe** and **seda** with the age and the preference of each one. (You can use T and F for \"iced\" and \"no ice\" preferences.)\n",
    "```r\n",
    "> pelin\n",
    "[1] 15  1\n",
    "```\n",
    "```r\n",
    "> efe\n",
    "[1] 8 0\n",
    "```\n",
    "```r\n",
    "> seda\n",
    "[1] 29  1\n",
    "```\n",
    "\n",
    "2. Create a function **beverage** that takes a vector argument **guest** and returns **\"pineapple juice with ice\"**, **\"pineapple juice without ice\"**, **\"cola with ice\"**, **\"cola without ice\"**, **\"beer with ice\"** or **\"beer without ice\"**.\n",
    "\n",
    "\n",
    "3. Try your function with the three vectors. The outputs should be as such;\n",
    "```r\n",
    "> beverage(pelin)\n",
    "[1] \"cola with ice\"\n",
    "```\n",
    "```r\n",
    "> beverage(efe)\n",
    "[1] \"pineapple juice without ice\"\n",
    "```\n",
    "```r\n",
    "> beverage(seda)\n",
    "[1] \"beer with ice\"\n",
    "```"
   ]
  },
  {
   "cell_type": "markdown",
   "metadata": {},
   "source": [
    "## SOLUTION"
   ]
  },
  {
   "cell_type": "code",
   "execution_count": null,
   "metadata": {},
   "outputs": [],
   "source": [
    "#1\n",
    "pelin <- c(15, T)\n",
    "pelin\n",
    "efe <- c(8, F)\n",
    "efe\n",
    "seda <- c(29, T)\n",
    "seda\n",
    "\n",
    "#2\n",
    "beverage <- function(guest)\n",
    "{\n",
    "  if(guest[1] < 13)\n",
    "  {\n",
    "    if(guest[2])\n",
    "    {\n",
    "      return(\"pineapple juice with ice\")\n",
    "    } else \n",
    "    {\n",
    "      return(\"pineapple juice without ice\")\n",
    "    }\n",
    "  } else if(guest[1] < 18)\n",
    "  {\n",
    "    if(guest[2])\n",
    "    {\n",
    "      return(\"cola with ice\")\n",
    "    } else\n",
    "    {\n",
    "      return(\"cola without ice\")\n",
    "    }\n",
    "  } else \n",
    "  {\n",
    "    if(guest[2])\n",
    "    {\n",
    "      return(\"beer with ice\")\n",
    "    } else\n",
    "    {\n",
    "      return(\"beer without ice\")\n",
    "    }\n",
    "  }\n",
    "}\n",
    "\n",
    "#3\n",
    "beverage(pelin)\n",
    "beverage(efe)\n",
    "beverage(seda)"
   ]
  },
  {
   "cell_type": "markdown",
   "metadata": {},
   "source": [
    "# COMPETITION"
   ]
  },
  {
   "cell_type": "markdown",
   "metadata": {
    "tags": [
     "2019-2020-2",
     "oyku",
     "if_else",
     "logical_operators",
     "medium"
    ]
   },
   "source": [
    "## QUESTION"
   ]
  },
  {
   "cell_type": "markdown",
   "metadata": {},
   "source": [
    "There is a competition between students.\n",
    "\n",
    "1. Write a function called **checkstudent** with the variables **englishscore** and **avg_grade**. This function will return:\n",
    "  - \"*You are eliminated because of both your english score and your grade avarage.*\" if the student's english score is below 85 and their grade avarage is below 50.\n",
    "  - \"*You are eliminated because of your english score.*\" if the student's english score is below 85 but they have a grade avarage above or equal to 50.\n",
    "  - \"*You are eliminated because of your grade avarage.*\" if the student passed the english score threshold but their grade avarage was below 50.\n",
    "  - \"*You are successful.*\" if they passed both thresholds.\n",
    "\n",
    "Check the results of these students.\n",
    "\n",
    "2. Mahmut has an english score of 86 and a grade avarage of 49.\n",
    "\n",
    "\n",
    "3. Nazli has an english score of 57 and a grade avarage of 51.\n",
    "\n",
    "\n",
    "4. Burhan has an english score of 84 and a grade avarage of 49.\n",
    "\n",
    "\n",
    "5. Ozgu has an english score of 99 and a grade avarage of 82."
   ]
  },
  {
   "cell_type": "markdown",
   "metadata": {},
   "source": [
    "## SOLUTION"
   ]
  },
  {
   "cell_type": "code",
   "execution_count": null,
   "metadata": {},
   "outputs": [],
   "source": [
    "#1\n",
    "checkstudent <- function(englishscore, avg_grade)\n",
    "{\n",
    "  if(englishscore < 85) {\n",
    "    if(avg_grade < 50) {\n",
    "      return(\"You are eliminated because of both your english score and grade avarage.\") \n",
    "    } else {\n",
    "      return(\"You are eliminated because of your english score.\")\n",
    "    }\n",
    "  } else {\n",
    "    if(avg_grade < 50) {\n",
    "      return(\"You are eliminated because of grade avarage.\")\n",
    "    } else {\n",
    "      return(\"You are successful!\")\n",
    "    }\n",
    "  }\n",
    "}\n",
    "\n",
    "#2\n",
    "checkstudent(englishscore = 86, avg_grade = 49)\n",
    "\n",
    "#3\n",
    "checkstudent(englishscore = 57, avg_grade = 51)\n",
    "\n",
    "#4\n",
    "checkstudent(englishscore = 84, avg_grade = 49)\n",
    "\n",
    "#5\n",
    "checkstudent(englishscore = 99, avg_grade = 82)"
   ]
  },
  {
   "cell_type": "markdown",
   "metadata": {},
   "source": [
    "# FIND THE ROBBER"
   ]
  },
  {
   "cell_type": "markdown",
   "metadata": {
    "tags": [
     "2019-2020-2",
     "oyku",
     "if_else",
     "multiple_inputs",
     "vectorized_conditionals",
     "medium"
    ]
   },
   "source": [
    "## QUESTION"
   ]
  },
  {
   "cell_type": "markdown",
   "metadata": {},
   "source": [
    "There was a robbery at the local bakery.\n",
    "The robber is one of the seven residents of this town.\n",
    "\n",
    "\n",
    "|Residents|Hair Color|Height|Tattoos|\n",
    "|---|---|---|---|\n",
    "|Murat|Black|180|no|\n",
    "|Burcin|Black|178|yes|\n",
    "|Ece|Pink|152|yes|\n",
    "|Emin|Brown|163|no|\n",
    "|Nedim|Brown|172|no|\n",
    "|Baris|Blond|193|yes|\n",
    "|Hazal|Black|181|yes|\n",
    "\n",
    "\n",
    "\n",
    "1. Assign the residents qualities into vectors. Here is an example:\n",
    "\n",
    "```r\n",
    "Murat <- c(\"black\", 180, \"no\")\n",
    "```\n",
    "\n",
    "2. The baker is sure the robber has black hair and tattoos, and that their height is above 180. Write a function called **is_robber** that returns **\"YOU ARE THE ROBBER!\"** if the resident's description matches that of the robber, and returns **\"You are innocent.\"** if not.\n",
    "\n",
    "\n",
    "3. Check each of the residents tin order to find the robber."
   ]
  },
  {
   "cell_type": "code",
   "execution_count": null,
   "metadata": {},
   "outputs": [],
   "source": [
    "#1\n",
    "Murat <- c(\"black\", 180, \"no\")\n",
    "Burcin <- c(\"black\", 178, \"yes\")\n",
    "Ece <- c(\"pink\", 152, \"yes\")\n",
    "Emin <- c(\"brown\", 163, \"no\")\n",
    "Nedim <- c(\"brown\", 172, \"no\")\n",
    "Baris <- c(\"blond\", 193, \"yes\")\n",
    "Hazal <- c(\"black\", 181, \"yes\")\n",
    "\n",
    "\n",
    "#2\n",
    "is_robber <- function(suspect)\n",
    "{\n",
    "  if(suspect[1] == \"black\" && suspect[2] > 180 && suspect[3] == \"yes\")\n",
    "  {\n",
    "    return(\"YOU ARE THE ROBBER!\")\n",
    "  } else {\n",
    "    return(\"This person is innocent.\")\n",
    "  }\n",
    "}\n",
    "\n",
    "#3\n",
    "is_robber(Murat)\n",
    "is_robber(Burcin)\n",
    "is_robber(Ece)\n",
    "is_robber(Emin)\n",
    "is_robber(Nedim)\n",
    "is_robber(Baris)\n",
    "is_robber(Hazal)"
   ]
  },
  {
   "cell_type": "markdown",
   "metadata": {},
   "source": [
    "# DIVISIBLE NUMBERS"
   ]
  },
  {
   "cell_type": "markdown",
   "metadata": {
    "tags": [
     "2019-2020-2",
     "oyku",
     "if_else",
     "the_if_else_statement",
     "medium"
    ]
   },
   "source": [
    "## QUESTION"
   ]
  },
  {
   "cell_type": "markdown",
   "metadata": {},
   "source": [
    "Kemal wants to determine the smallest prime number between 1 and 20 that his input number can be divided by. \n",
    "\n",
    "1. Write a function called **divisible** that takes an input number **num**. If this number is divisible by any prime number between 1 and 20, our function will return the smallest prime number that it is divisible by. If not, it will return *Not divisible by any of the prime numbers between 1 and 20.* \n",
    "\n",
    "\n",
    "2. Try out this function with the numbers 89, 12, 33, 323, 221, 77 and 61."
   ]
  },
  {
   "cell_type": "markdown",
   "metadata": {},
   "source": [
    "## SOLUTION"
   ]
  },
  {
   "cell_type": "code",
   "execution_count": null,
   "metadata": {},
   "outputs": [],
   "source": [
    "#1\n",
    "divisible <- function(num)\n",
    "{\n",
    "  if(num %% 2 == 0)\n",
    "  {\n",
    "    return(\"2\")\n",
    "  }\n",
    "  else if(num %% 3 == 0)\n",
    "  {\n",
    "    return(\"3\")\n",
    "  }\n",
    "  else if(num %% 5 == 0)\n",
    "  {\n",
    "    return(\"5\")\n",
    "  }\n",
    "  else if(num %% 7 == 0)\n",
    "  {\n",
    "    return(\"7\")\n",
    "  }\n",
    "  else if(num %% 11 == 0)\n",
    "  {\n",
    "    return(\"11\")\n",
    "  }\n",
    "  else if(num %% 13 == 0)\n",
    "  {\n",
    "    return(\"13\")\n",
    "  }\n",
    "  else if(num %% 17 == 0)\n",
    "  {\n",
    "    return(\"17\")\n",
    "  }\n",
    "  else if(num %% 19 == 0)\n",
    "  {\n",
    "    return(\"19\")\n",
    "  }\n",
    "  else\n",
    "  {\n",
    "    return(\"Not divisible by any of the prime numbers between 1 and 20.\")\n",
    "  }\n",
    "}\n",
    "      \n",
    "#2\n",
    "divisible(89)\n",
    "divisible(12)\n",
    "divisible(33)\n",
    "divisible(323)\n",
    "divisible(221)\n",
    "divisible(77)\n",
    "divisible(61)"
   ]
  },
  {
   "cell_type": "markdown",
   "metadata": {
    "tags": [
     "2019-2020-2",
     "salih",
     "joint_conditions",
     "medium"
    ]
   },
   "source": [
    "# WEEKEND PLAN "
   ]
  },
  {
   "cell_type": "markdown",
   "metadata": {},
   "source": [
    "Leyla and Elif are two friends, living in İstanbul. They want to do something together at weekend. \n",
    "\n",
    "*\tIf both of them have budgets which are at least 100 TL (separately) and it is not rainy, they will choose to have dinner near Bosphorus.\n",
    "*\tIf both of them's budgets are at least 100 TL (separately) and it is rainy, they choose to spend time at a bar. \n",
    "*\tIf just one of them's budget is at least 100 TL and it is not rainy outside, they choose to go for a picnic.\n",
    "*\tIf just one of them's budget is at least 100 TL and it is rainy outside, they choose to go to a cinema.\n",
    "*\tIf both of them have budgets less than 100 TL (separately) , they choose to stay at home. \n",
    "\n",
    "\n",
    "1. Create a function named **decision** which takes two arguments:\n",
    "    *  **bdgt** ; a vector with 2 elements,  1st element is Leyla’s budget, 2nd one is Elif’s budget \n",
    "    * **rainy** ; a Boolean expression which indicates whether it is rainy or not. \n",
    "Your function should return:\n",
    "\n",
    "“Let’s have a dinner outside.”\n",
    "\n",
    "“Let’s go to a bar.”\n",
    "\n",
    "“Let’s go for a picnic.”\n",
    "\n",
    "“Let’s go to a cinema.”\n",
    "\n",
    "“Let’s stay at home.”\n",
    "\n",
    "According to the given conditions.\n",
    "\n",
    "Try your function with different values.\n",
    "\n",
    "```r\n",
    "> decision(bdgt = c(120, 60), rainy = F)\n",
    "[1] \"Let’s go for a picnic.\"\n",
    "\n",
    "> decision(bdgt = c(30, 40), rainy = T)\n",
    "[1] \"Let’s stay at home.\"\n",
    "\n",
    "> decision(bdgt = c(200, 200), rainy = F)\n",
    "[1] \"Let’s a have a dinner outside.\"\n",
    "\n",
    "```\n"
   ]
  },
  {
   "cell_type": "markdown",
   "metadata": {},
   "source": [
    "## SOLUTION"
   ]
  },
  {
   "cell_type": "code",
   "execution_count": null,
   "metadata": {},
   "outputs": [],
   "source": [
    "#1\n",
    "decision <- function(bdgt, rainy)\n",
    "{\n",
    "  over_one_hundred <- bdgt >= 100\n",
    "  if(all(over_one_hundred)) #Both of them have budgets higher than or equal to 100 TL\n",
    "  { \n",
    "    if(rainy)\n",
    "    {\n",
    "      return(\"Let’s go to a bar.\") # ... and it is rainy\n",
    "    } else\n",
    "    {\n",
    "      return(\"Let’s a have a dinner outside.\") # ...and it is not rainy,\n",
    "    }\n",
    "  } else if(any(over_one_hundred)) # Leyla OR Elif's budget is higher than 100 TL\n",
    "  {\n",
    "    if(rainy)\n",
    "    {\n",
    "      return(\"Let’s go to a cinema.\") \n",
    "    } else\n",
    "    {\n",
    "      return(\"Let’s go for a picnic.\")\n",
    "    }\n",
    "  } else\n",
    "  {\n",
    "    return(\"Let’s stay at home.\") # They noth have less than 100 TL to spend at the weekend.\n",
    "  } \n",
    "}\n",
    "\n",
    "decision( bdgt = c(120, 60), rainy = F )\n",
    "decision( bdgt = c(30, 40), rainy = T )\n",
    "decision( bdgt = c(200, 200), rainy = F )"
   ]
  },
  {
   "cell_type": "markdown",
   "metadata": {
    "tags": [
     "2019-2020-2",
     "tugrul",
     "decision_structures",
     "conditional_execution",
     "medium"
    ]
   },
   "source": [
    "# I HEARD YOU PAINT HOUSES"
   ]
  },
  {
   "cell_type": "markdown",
   "metadata": {},
   "source": [
    "## QUESTION"
   ]
  },
  {
   "cell_type": "markdown",
   "metadata": {},
   "source": [
    "Jimmy gave his promise to his workers living in the same street their houses will be painted. He heard about Frank who paints houses extremely good and hired him. Jimmy had already decided which numbers will be painted by which color and informed Frank as following:\n",
    "\n",
    "|Dye|House Numbers|\n",
    "|---|---|\n",
    "| Blood Red  |  1-29 |\n",
    "| Brick Red  | 30 - 59  |\n",
    "|  Amaranth Red |  60 - 89 |\n",
    "| Barn Red  | 90-101 |\n",
    "\n",
    "However, at the last moment Jimmy especially asked for the houses having even numbers be painted Crimson.\n",
    "\n",
    "Write a function called **which_color** without a parameter which:\n",
    "  1. Gets house number from the console. **Hint**: You may use `readline()` and `as.integer()`.\n",
    "  \n",
    "  2. Checks the validity of the entered house number. (Number cannot be outside of the \\[1, 101\\] interval) Function should return **\"Invalid House Number\"** if house number is not valid.\n",
    "  \n",
    "  3. Write conditionals in respect to the colors and house numbers given in the table above. Do not forget the last regulation made by Jimmy.\n",
    "\n",
    "\n",
    "Now try 28, 47, 63, 95 and 110 values to check whether the houses are painted appropriate to this new method."
   ]
  },
  {
   "cell_type": "markdown",
   "metadata": {},
   "source": [
    "## SOLUTION"
   ]
  },
  {
   "cell_type": "code",
   "execution_count": null,
   "metadata": {},
   "outputs": [],
   "source": [
    "which_color <- function()\n",
    "{\n",
    "  house_number <- as.integer(readline(prompt = \"Enter the house number: \"))\n",
    "\n",
    "  if(house_number < 1 || house_number > 101)\n",
    "  {\n",
    "    return(\"Invalid House Number\")\n",
    "  } else {\n",
    "    if(house_number %% 2 == 0)\n",
    "    {\n",
    "      if(house_number < 30)\n",
    "      {\n",
    "        return(\"Blood Red\")\n",
    "      } else if(house_number < 60)\n",
    "      {\n",
    "        return(\"Brick Red\")\n",
    "      } else if(house_number < 90)\n",
    "      {\n",
    "        return(\"Amaranth Red\")\n",
    "      } else\n",
    "      {\n",
    "        return(\"Barn Red\")\n",
    "      }\n",
    "    } else\n",
    "    {\n",
    "      return(\"Crimson\")\n",
    "    }\n",
    "  }\n",
    "}"
   ]
  },
  {
   "cell_type": "markdown",
   "metadata": {
    "tags": [
     "2019-2020-2",
     "tugrul",
     "decision_structures",
     "if-else_one_liner",
     "medium"
    ]
   },
   "source": [
    "# IVY BUT NOT POISONOUS"
   ]
  },
  {
   "cell_type": "markdown",
   "metadata": {},
   "source": [
    "## QUESTION"
   ]
  },
  {
   "cell_type": "markdown",
   "metadata": {},
   "source": [
    "Ivy is a botanist and have three gardens nearly located. These are orchid, lilac and rose gardens. They have a current number of flowers and due to global warming, the sunrays reach the gardens from different angles in every different year. The volume of each flora and  are given below:\n",
    "\n",
    "|Species|Number|               \n",
    "|---|---|                  \n",
    "| Orchid  |  9000 |              \n",
    "| Lilac  | 15000  |              \n",
    "|  Rose |  32000 |               \n",
    "\n",
    "\n",
    "|Years|Angle|\n",
    "|---|---|\n",
    "|Year 1|32|\n",
    "|Year 2|67|\n",
    "|Year 3|47.5|\n",
    "\n",
    "She is doing some calculations regarding angle of incidence of sunrays and she realizes the most appropriate angle value is more than 45 degrees. The gardens which are taken the rays in this scale flourish and flowers are doubled in a year. In the other gardens, flowers can be increased only as their 1/4 in a year.\n",
    "\n",
    "1. Create a vector which is named **population** consisting of type of flowers.\n",
    "\n",
    "\n",
    "2. Create a **species** vector consisting of flower types and name **population** with it.\n",
    "\n",
    "\n",
    "3. Create 3 variables as **year_1**, **year_2** and **year_3** and define them with angle values.\n",
    "\n",
    "\n",
    "4. Create a function named **flourish** having 2 arguments which are **garden** and **angle**. This function will constitute a one-liner conditional and it will give the new flower population of gardens after a year from now according to the angle value.\n",
    "\n",
    "\n",
    "5. Test **population** with given angles to see if your function gives the results which are compatible with Ivy's calculations or not.\n",
    "\n",
    "```r\n",
    "> flourish(population, year_1)\n",
    "Orchid  Lilac   Rose \n",
    " 11250  18750  40000 \n",
    "\n",
    "> flourish(population, year_2)\n",
    "Orchid  Lilac   Rose \n",
    " 18000  30000  64000 \n",
    "\n",
    "> flourish(population, year_3)\n",
    "Orchid  Lilac   Rose \n",
    " 18000  30000  64000 \n",
    "```\n",
    "\n",
    "**Hint:** You may use `;` operator if you have problem with returning in one-liner."
   ]
  },
  {
   "cell_type": "markdown",
   "metadata": {},
   "source": [
    "## SOLUTION"
   ]
  },
  {
   "cell_type": "code",
   "execution_count": null,
   "metadata": {},
   "outputs": [],
   "source": [
    "#1\n",
    "population <- c(9000, 15000, 32000)\n",
    "\n",
    "#2\n",
    "species <- c(\"Orchid\", \"Lilac\", \"Rose\")\n",
    "names(population) <- species\n",
    "\n",
    "#3\n",
    "year_1 <- 32\n",
    "year_2 <- 67\n",
    "year_3 <- 47.5\n",
    "\n",
    "#4\n",
    "flourish <- function(garden, angle){\n",
    "  if(angle >= 45) garden * 2 else garden * 1.25\n",
    "}\n",
    "\n",
    "#5\n",
    "flourish(population, year_1)\n",
    "flourish(population, year_2)\n",
    "flourish(population, year_3)"
   ]
  },
  {
   "cell_type": "markdown",
   "metadata": {
    "tags": [
     "2019-2020-2",
     "berk",
     "medium",
     "multiple_inputs",
     "vectorized_conditionals",
     "decision_structures"
    ]
   },
   "source": [
    "# BETTING ADVICE FOR SERGEN"
   ]
  },
  {
   "cell_type": "markdown",
   "metadata": {},
   "source": [
    "## QUESTION"
   ]
  },
  {
   "cell_type": "markdown",
   "metadata": {},
   "source": [
    "Sergen is a gambling addict who likes to bet on football matches, especially on matches in German league. He promised his friend that he would take him to a betting kiosk. Next day, they meet and Sergen prepares two betting slips. However, Sergen wants to use the betting slip with the higher prize to place more bets in the future. He needs your programming capabilities to choose that betting slip. \n",
    "\n",
    "The odds in betting slips are as follows:\n",
    "\n",
    "- **Slip 1**: (1.42, 1.67, 2.50, 2.10)\n",
    "- **Slip 2**: (1.50, 1.25, 2.67, 1.85)\n",
    "\n",
    "\n",
    "1. Create a vector named **slip_1** which contains the odds in slip 1 . Create another vector named **slip_2** which contains the odds in slip 2.\n",
    "\n",
    "```r\n",
    "    > slip_1\n",
    "    [1] 1.42 1.67 2.50 2.10\n",
    "    > slip_2\n",
    "    [1] 1.50 1.55 2.67 1.95\n",
    "```\n",
    "\n",
    "\n",
    "2. Create a function named **bet_chooser** which takes two vectors, **\"first_slip\"** and **\"second_slip\"** as arguments. It should return total odds of chosen vector in the following form:\n",
    "\n",
    "```r\n",
    "    > bet_chooser(slip_1, slip_2)\n",
    "    Sergen should play slip 1, total odds are 12.44985\n",
    "```"
   ]
  },
  {
   "cell_type": "markdown",
   "metadata": {},
   "source": [
    "## SOLUTION"
   ]
  },
  {
   "cell_type": "code",
   "execution_count": null,
   "metadata": {},
   "outputs": [],
   "source": [
    "#1 create vectors for betting odds\n",
    "slip_1 <- c(1.42, 1.67, 2.50, 2.10)\n",
    "slip_2 <- c(1.50, 1.55, 2.67, 1.95)\n",
    "\n",
    "slip_1\n",
    "slip_2\n",
    "\n",
    "#2 create bet_chooser  function\n",
    "bet_chooser <- function(first_slip, second_slip)\n",
    "{\n",
    "    total_first_odds <- prod(first_slip)\n",
    "    total_second_odds <- prod(second_slip)\n",
    "\n",
    "    if(total_first_odds > total_second_odds)\n",
    "    {\n",
    "        return(cat(\"Sergen should play slip 1, total odds are\", total_first_odds))    \n",
    "    } else\n",
    "    {\n",
    "        return(cat(\"Sergen should play slip 2, total odds are\", total_second_odds))    \n",
    "    }\n",
    "}\n",
    "\n",
    "bet_chooser(slip_1, slip_2)"
   ]
  },
  {
   "cell_type": "markdown",
   "metadata": {
    "tags": [
     "2019-2020-2",
     "tugrul",
     "decision_structures",
     "multiple_inputs",
     "vectorized_conditionals",
     "hard"
    ]
   },
   "source": [
    "# RUSH"
   ]
  },
  {
   "cell_type": "markdown",
   "metadata": {},
   "source": [
    "## QUESTION"
   ]
  },
  {
   "cell_type": "markdown",
   "metadata": {},
   "source": [
    "Team McLaren is testing the pilots' endurance against g-force before the next Grand Prix. After they observe their best five, the team will decide on which duo will race in the next GP.  You can find below the maximum g-force value each pilot could tolerate throughout 5 days:\n",
    "\n",
    "|Pilot|Day 1|Day 2|Day 3|Day 4|Day 5|               \n",
    "|---|---|---|---|---|---|                 \n",
    "| Raikkonen  |  5.3 |4.64|3.71|3.11|3.42|              \n",
    "| Alonso  | 5.18  |4.72|3.83|2|1.46|             \n",
    "|  Hamilton |  5.42 |5.08|4.46|3.55|3.47|  \n",
    "|  Lauda |  4.7 |4.43|3.1|1.7|2.13|\n",
    "|  Senna |  5.15 |4.22|3.25|2.46|2.11|\n",
    "\n",
    "The decision-makers and doctors of McLaren decide to use an elimination method as considering exhaustion the pilots' experienced during the week. They eliminate the pilots which could tolerate less than 5, 4.30, 3.70 and 2.30 respectively.\n",
    "\n",
    "1. Create 5 different vectors containing the values pilots' could tolerate and assign them their names which are **Raikkonen**, **Alonso**, **Hamilton**, **Lauda**, and **Senna**.\n",
    "\n",
    "\n",
    "2. Construct a function named **racer_duo** which takes one argument **pilot**. It will eliminate the pilots according to determined daily g-force values and it will return **\"Congratz! You will be one of our racer duo in the next Grand Prix!\"** or **\"Sorry. You are not with us in the next Grand Prix.\"** messages to them.\n",
    "\n",
    "\n",
    "4. Learn who will race and who will not by running the function and check the results.\n",
    "\n",
    "```r\n",
    "> racer_duo(Raikkonen)\n",
    "[1] \"Congratz! You will be one of our racer duo in the next Grand Prix!\"\n",
    "> racer_duo(Alonso)\n",
    "[1] \"Sorry. You are not with us in the next Grand Prix.\"\n",
    "> racer_duo(Hamilton)\n",
    "[1] \"Congratz! You will be one of our racer duo in the next Grand Prix!\"\n",
    "> racer_duo(Lauda)\n",
    "[1] \"Sorry. You are not with us in the next Grand Prix.\"\n",
    "> racer_duo(Senna)\n",
    "[1] \"Sorry. You are not with us in the next Grand Prix.\"\n",
    "```"
   ]
  },
  {
   "cell_type": "markdown",
   "metadata": {},
   "source": [
    "## SOLUTION"
   ]
  },
  {
   "cell_type": "code",
   "execution_count": null,
   "metadata": {},
   "outputs": [],
   "source": [
    "#1\n",
    "Raikkonen <- c(5.3, 4.64, 3.71, 3.11, 3.42)\n",
    "Alonso <- c(5.18, 4.72, 3.83, 2, 1.46)\n",
    "Hamilton <- c(5.42, 5.08, 4.46, 3.55, 3.47)\n",
    "Lauda <- c(4.7, 4.43, 3.1, 1.7, 2.13)\n",
    "Senna <- c(5.15, 4.22, 3.25, 2.46, 2.11)\n",
    "\n",
    "#2\n",
    "racer_duo <- function(g_force)\n",
    "{\n",
    "  if(g_force[1] >= 5)\n",
    "  {\n",
    "    if(g_force[2] >= 4.30)\n",
    "    {\n",
    "      if(g_force[3] >= 3.70)\n",
    "      {\n",
    "        if(g_force[4] >= 2.30)\n",
    "        {\n",
    "          return(\"Congratz! You will be one of our racer duo in the next Grand Prix!\")\n",
    "        } else\n",
    "        {\n",
    "          return(\"Sorry. You are not with us in the next Grand Prix.\")\n",
    "        }\n",
    "      } else\n",
    "      {\n",
    "        return(\"Sorry. You are not with us in the next Grand Prix.\")\n",
    "      }\n",
    "    } else\n",
    "    {\n",
    "      return(\"Sorry. You are not with us in the next Grand Prix.\")\n",
    "    }\n",
    "  } else\n",
    "  {\n",
    "    return(\"Sorry. You are not with us in the next Grand Prix.\")\n",
    "  }\n",
    "}\n",
    "\n",
    "# Notice both functions do the same thing\n",
    "racer_duo_short <- function(g_force)\n",
    "{\n",
    "  if(g_force[1] >= 5 && g_force[2] >= 4.30 && g_force[3] >= 3.70 && g_force[4] >= 2.30)\n",
    "  {\n",
    "    return(\"Congratz! You will be one of our racer duo in the next Grand Prix!\")\n",
    "  } else\n",
    "  {\n",
    "    return(\"Sorry. You are not with us in the next Grand Prix.\")\n",
    "  }\n",
    "}\n",
    "\n",
    "#3\n",
    "racer_duo(Raikkonen)\n",
    "racer_duo(Alonso)\n",
    "racer_duo(Hamilton)\n",
    "racer_duo(Lauda)\n",
    "racer_duo(Senna)"
   ]
  },
  {
   "cell_type": "markdown",
   "metadata": {
    "tags": [
     "2019-2020-2",
     "berk",
     "hard",
     "joint_conditions",
     "decision_structures"
    ]
   },
   "source": [
    "# GRADING "
   ]
  },
  {
   "cell_type": "markdown",
   "metadata": {},
   "source": [
    "## QUESTION"
   ]
  },
  {
   "cell_type": "markdown",
   "metadata": {},
   "source": [
    "   In a class of four people, Professor Jackson assigned 10 homeworks to his students Michael, Scottie, Dennis, and Steve. The highest 5 quiz grades count for final grade of a student. If a student fails to turn a homework in after the deadline, he gets only the half of the points he would normally get. Also, 5 or more late homeworks means an automatic failure of the class. A student needs a minimum of 45 points to pass.\n",
    "\n",
    "\n",
    "Grades for each student are as follows:\n",
    "\n",
    "\n",
    "- **Michael**: (9, 10, 7, 8, 6, 7, 3, 8, 10, 7)\n",
    "- **Scottie**: (8, 1, 9, 4, 9, 0, 6, 9, 1, 8)\n",
    "- **Dennis**: (3, 1, 7, 2, 5, 10, 1, 10, 0, 9)\n",
    "- **Steve**: (10, 9, 0, 8, 8, 7, 4, 9, 8, 0)\n",
    "  \n",
    "Following are the boolean values that show late homeworks, which are assigned `True`:\n",
    "\n",
    "\n",
    "- **Michael**: (FALSE, TRUE, FALSE, FALSE, TRUE, FALSE, FALSE, FALSE, FALSE, FALSE)\n",
    "- **Scottie**: (TRUE, TRUE, TRUE, FALSE, FALSE, FALSE, TRUE, TRUE, FALSE, FALSE)\n",
    "- **Dennis**: (TRUE, TRUE, FALSE, TRUE, FALSE, TRUE, FALSE, FALSE, FALSE, FALSE)\n",
    "- **Steve**: (FALSE, FALSE, FALSE, FALSE, TRUE, TRUE, TRUE, FALSE, TRUE, FALSE)\n",
    "\n",
    "\n",
    "    \n",
    "1. Create vectors for grades of the students. Name them **michael_grad** for Michael, **scottie_grad** for Scottie, **dennis_grad** for Dennis, and **steve_grad** for Steve. \n",
    "\n",
    "```r\n",
    "    > michael_grad\n",
    "     [1]  9 10  7  8  6  7  3  8 10  7\n",
    "    > scottie_grad\n",
    "     [1] 8 1 9 4 9 0 6 9 1 8\n",
    "    > dennis_grad\n",
    "     [1]  3  1  7  2  5 10  1 10  0  9\n",
    "    > steve_grad\n",
    "     [1] 10  9  0  8  8  7  4  9  8  0\n",
    "```\n",
    "\n",
    "2. Create vectors for late homeworks of the students. Name them **michael_late** for Michael, **scottie_late** for Scottie, **dennis_late** for Dennis, and **steve_late** for Steve.\n",
    "\n",
    "```r\n",
    "    > michael_late\n",
    "     [1] FALSE  TRUE FALSE FALSE  TRUE FALSE FALSE FALSE FALSE FALSE\n",
    "    > scottie_late\n",
    "     [1]  TRUE  TRUE  TRUE FALSE FALSE FALSE  TRUE  TRUE FALSE FALSE\n",
    "    > dennis_late\n",
    "     [1]  TRUE  TRUE FALSE  TRUE FALSE  TRUE FALSE FALSE FALSE FALSE\n",
    "    > steve_late\n",
    "     [1] FALSE FALSE FALSE FALSE  TRUE  TRUE  TRUE FALSE  TRUE FALSE\n",
    "```\n",
    "\n",
    "3. Create a function called **pass_fail**. It should take 3 arguments: **\"name\"** for the name of a student as a string variable, **\"grades\"** for his grades, and **\"late\"** for the boolean values of his late homeworks. The function should return if a student passed or failed the class in the following form:\n",
    "\n",
    "```r\n",
    "    > pass_fail(\"Michael\", michael_grad, michael_late)\n",
    "    Michael has passed the class with 67 points. \n",
    "    > pass_fail(\"Scottie\", scottie_grad, scottie_late)\n",
    "    Scottie has failed the class with 38.5 points and 5 late homeworks. \n",
    "    > pass_fail(\"Dennis\", dennis_grad, dennis_late)\n",
    "    Dennis has failed the class with 40 points and 4 late homeworks. \n",
    "    > pass_fail(\"Steve\", steve_grad, steve_late)\n",
    "    Steve has passed the class with 49.5 points.\n",
    "```\n",
    "    \n",
    "**Hint**: Use `cat()` function to merge character values. "
   ]
  },
  {
   "cell_type": "markdown",
   "metadata": {},
   "source": [
    "## SOLUTION"
   ]
  },
  {
   "cell_type": "code",
   "execution_count": null,
   "metadata": {},
   "outputs": [],
   "source": [
    "#1 grades of the students\n",
    "michael_grad <- c(9, 10, 7, 8, 6, 7, 3, 8, 10, 7)\n",
    "scottie_grad <- c(8, 1, 9, 4, 9, 0, 6, 9, 1, 8)\n",
    "dennis_grad <- c(3, 1, 7, 2, 5, 10, 1, 10, 0, 9)\n",
    "steve_grad <- c(10, 9, 0, 8, 8, 7, 4, 9, 8, 0)\n",
    "\n",
    "michael_grad\n",
    "scottie_grad\n",
    "dennis_grad\n",
    "steve_grad\n",
    "\n",
    "#2 late homeworks of students\n",
    "michael_late <- c(FALSE, TRUE, FALSE, FALSE, TRUE, FALSE, FALSE, FALSE, FALSE, FALSE) \n",
    "scottie_late <- c(TRUE, TRUE, TRUE, FALSE, FALSE, FALSE, TRUE, TRUE, FALSE, FALSE) \n",
    "dennis_late <- c(TRUE, TRUE, FALSE, TRUE, FALSE, TRUE, FALSE, FALSE, FALSE, FALSE) \n",
    "steve_late <- c(FALSE, FALSE, FALSE, FALSE, TRUE, TRUE, TRUE, FALSE, TRUE, FALSE)\n",
    "\n",
    "michael_late\n",
    "scottie_late\n",
    "dennis_late\n",
    "steve_late\n",
    "\n",
    "#3 pass_fail function\n",
    "pass_fail <- function(name, grades, late)\n",
    "{\n",
    "  late_fail <- sum(late)  #to calculate total number of late homeworks\n",
    "  late_points <- sum(grades[late] / 2) #to choose late homeworks' grades and calculate the late points they get \n",
    "  timely_points <- sum(grades[(late == F)]) #first, we choose homeworks done on time which are shown with FALSE. Then, get their grades and calculate \n",
    "  final_points <- late_points + timely_points #total points from all homeworks\n",
    "\n",
    "  if(late_fail >= 5 || final_points < 45) #students fail because of late homeworks or poor grades\n",
    "  {\n",
    "    return(cat(name, \"has failed the class with\", final_points, \"points and\", late_fail, \"late homeworks.\", \"\\n\"))\n",
    "  } else\n",
    "  {\n",
    "    return(cat(name, \"has passed the class with\", final_points, \"points.\", \"\\n\"))\n",
    "  }\n",
    "}\n",
    "\n",
    "pass_fail(\"Michael\", michael_grad, michael_late)\n",
    "pass_fail(\"Scottie\", scottie_grad, scottie_late)\n",
    "pass_fail(\"Dennis\", dennis_grad, dennis_late)\n",
    "pass_fail(\"Steve\", steve_grad, steve_late)"
   ]
  },
  {
   "cell_type": "markdown",
   "metadata": {
    "tags": [
     "2019-2020-2",
     "salih",
     "relational_operators",
     "hard"
    ]
   },
   "source": [
    "# MARBLES"
   ]
  },
  {
   "cell_type": "markdown",
   "metadata": {},
   "source": [
    "## QUESTION"
   ]
  },
  {
   "cell_type": "markdown",
   "metadata": {},
   "source": [
    "Berke and Sait are playing with marbles. There are 200 marbles on the ground. They both write  a number between 1 and 10 (inclusive) on a piece of paper without knowing what the other one wrote on the paper.\n",
    "\n",
    " - If both of them write the same number, each of them will get 100 marbles.\n",
    " - If one of them writes a smaller number than the other, he receives ten times the number he wrote plus ten times the number the other one wrote and the other one gets the rest of the marbles.( For example if Berke writes 5 and Sait writes 7, Berke gets (7+5) * 10 = 120 marbles and Sait gets 80 marbles)\n",
    "\n",
    "1. Create a function named **marbles** which takes two arguments: **berke** and **sait** ; representing the number they wrote on the paper. Your function should return the outcome of the game as a vector which holds the number of Berke's marbles and Sait's marbles respectively. As such :\n",
    "\n",
    "```r\n",
    "> marbles(berke = 4, sait = 4)\n",
    "Berke  Sait \n",
    "  100   100 \n",
    "\n",
    "> marbles(berke = 3, sait = 8)\n",
    "Berke  Sait \n",
    "  110    90 \n",
    "\n",
    "```\n"
   ]
  },
  {
   "cell_type": "markdown",
   "metadata": {},
   "source": [
    "## SOLUTION"
   ]
  },
  {
   "cell_type": "code",
   "execution_count": null,
   "metadata": {},
   "outputs": [],
   "source": [
    "#1\n",
    "marbles<- function(berke, sait) \n",
    "{\n",
    "  if(berke != sait) #If they write different numbers\n",
    "  {\n",
    "    if(berke < sait) #If Berke writes the smaller number\n",
    "    {\n",
    "      berke_s <- 10 * (berke + sait) #Berke's payoff\n",
    "      sait_s <- 200 - berke_s #Sait's payoff\n",
    "    } else  #If Sait writes the smaller number\n",
    "    {\n",
    "      sait_s <- 10 * (berke + sait)\n",
    "      berke_s <- 200 - sait_s\n",
    "    }\n",
    "  } else #If they write the same number\n",
    "  {\n",
    "    sait_s <- 100\n",
    "    berke_s <- 100\n",
    "  }\n",
    "  \n",
    "  bs <- c(Berke = berke_s, Sait = sait_s)\n",
    "  return(bs)\n",
    "}\n",
    "\n",
    "marbles(berke = 4, sait = 4)\n",
    "marbles(berke = 3, sait = 8)\n",
    "\n",
    "\n",
    "#ALTERNATIVE SOLUTION \n",
    "marbles_a <- function(berke, sait) \n",
    "{ \n",
    "  if(berke == sait)\n",
    "  {\n",
    "    berke_s <- 100\n",
    "    sait_s <- 100\n",
    "  } else if(berke < sait)\n",
    "  {\n",
    "    berke_s <- 10 * (berke + sait)\n",
    "    sait_s <- 200 - berke_s\n",
    "  } else \n",
    "  {\n",
    "    sait_s<- 10 * (berke + sait)\n",
    "    berke_s <- 200 - sait_s\n",
    "  }\n",
    "    \n",
    "  bs <- c(Berke = berke_s, Sait = sait_s)\n",
    "  return(bs)\n",
    "}\n",
    "\n",
    "marbles_a(4,4)\n",
    "marbles_a(3,8)"
   ]
  },
  {
   "cell_type": "markdown",
   "metadata": {
    "tags": [
     "2019-2020-2",
     "berk",
     "hard",
     "one_line_ifelse",
     "decision_structures"
    ]
   },
   "source": [
    "# OTTOMAN AND GERMAN ALLIANCE"
   ]
  },
  {
   "cell_type": "markdown",
   "metadata": {},
   "source": [
    "## QUESTION"
   ]
  },
  {
   "cell_type": "markdown",
   "metadata": {},
   "source": [
    "Germany calls her ally Ottoman Empire for a defensive war against United Kingdom. The number of soldiers of each country are as follows:\n",
    "\n",
    "|Country|Number of Soldiers|\n",
    "|:-|:-:|\n",
    "|Germany|40000|\n",
    "|Ottoman Empire|30000|\n",
    "|United Kingdom|60000|\n",
    "\n",
    "If Ottoman Empire helps Germany, they both lose 10000 soldiers and defeat United Kingdom. If Germany fights United Kingdom alone, United Kingdom lose 40000 soldiers but defeats Germany and Ottoman Empire is also seen as defeated.\n",
    "\n",
    "1. Create a vector named **soldiers** which contains the total number of soldiers of Germany, Ottoman Empire, and United Kingdom in this order. Name its elements with an another vector **countries** which contains the names of respective countries.\n",
    "\n",
    "```r\n",
    "    > soldiers\n",
    "           Germany Ottoman Empire United Kingdom \n",
    "             40000          30000          60000\n",
    "```\n",
    "\n",
    "2. Create a function named **victorious** which takes two arguments: **\"army_size\"** for the number of soldiers in an army, and **\"help\"** which has `True` as its value if Ottoman Empire helps Germany and `False` if not. The conditions in the function should be written in one line. The function should return the names of the victorious countries and the number of remaining soldiers. Try both cases of Ottoman help.\n",
    "\n",
    "```r\n",
    "    > victorious(soldiers, TRUE)\n",
    "           Germany Ottoman Empire \n",
    "             30000          20000  \n",
    "    > victorious(soldiers, FALSE)\n",
    "    United Kingdom \n",
    "             20000\n",
    "```"
   ]
  },
  {
   "cell_type": "markdown",
   "metadata": {},
   "source": [
    "## SOLUTION"
   ]
  },
  {
   "cell_type": "code",
   "execution_count": null,
   "metadata": {},
   "outputs": [],
   "source": [
    "#1)creating vectors for soldiers and names\n",
    "soldiers <- c(40000, 30000, 60000)\n",
    "countries <- c(\"Germany\", \"Ottoman Empire\", \"United Kingdom\")\n",
    "names(soldiers) <- countries\n",
    "soldiers\n",
    "\n",
    "#2)creating victorious function with one-liner conditionals\n",
    "victorious <- function(army_size, help)\n",
    "{\n",
    "  return(army_size - if(help) c(10000, 10000, 0) else c(0, 0, 40000))\n",
    "}\n",
    "victorious(soldiers, TRUE)\n",
    "victorious(soldiers, FALSE)"
   ]
  }
 ],
 "metadata": {
  "celltoolbar": "Tags",
  "kernelspec": {
   "display_name": "R",
   "language": "R",
   "name": "ir"
  },
  "language_info": {
   "codemirror_mode": "r",
   "file_extension": ".r",
   "mimetype": "text/x-r-source",
   "name": "R",
   "pygments_lexer": "r",
   "version": "3.5.2"
  },
  "toc": {
   "nav_menu": {},
   "number_sections": true,
   "sideBar": true,
   "skip_h1_title": false,
   "title_cell": "Table of Contents",
   "title_sidebar": "Contents",
   "toc_cell": false,
   "toc_position": {},
   "toc_section_display": true,
   "toc_window_display": true
  },
  "varInspector": {
   "cols": {
    "lenName": 16,
    "lenType": 16,
    "lenVar": 40
   },
   "kernels_config": {
    "python": {
     "delete_cmd_postfix": "",
     "delete_cmd_prefix": "del ",
     "library": "var_list.py",
     "varRefreshCmd": "print(var_dic_list())"
    },
    "r": {
     "delete_cmd_postfix": ") ",
     "delete_cmd_prefix": "rm(",
     "library": "var_list.r",
     "varRefreshCmd": "cat(var_dic_list()) "
    }
   },
   "types_to_exclude": [
    "module",
    "function",
    "builtin_function_or_method",
    "instance",
    "_Feature"
   ],
   "window_display": false
  }
 },
 "nbformat": 4,
 "nbformat_minor": 2
}
