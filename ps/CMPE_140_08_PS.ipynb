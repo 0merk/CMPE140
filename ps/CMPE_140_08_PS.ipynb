{
 "cells": [
  {
   "cell_type": "markdown",
   "metadata": {},
   "source": [
    "# MATRICES\n",
    "\n",
    "**By Serhat Çevikel**"
   ]
  },
  {
   "cell_type": "markdown",
   "metadata": {},
   "source": [
    "## What is a matrix in R?"
   ]
  },
  {
   "cell_type": "markdown",
   "metadata": {},
   "source": [
    "Morpheus, can you tell us what THE matrix is?\n",
    "\n",
    "[![Matrix](https://img.youtube.com/vi/pCNe_XFw37Y/0.jpg)](https://www.youtube.com/watch?v=pCNe_XFw37Y)"
   ]
  },
  {
   "cell_type": "markdown",
   "metadata": {},
   "source": [
    "Contrary to what Morpheus says, fortunately everyone can be told what A matrix in R is"
   ]
  },
  {
   "cell_type": "markdown",
   "metadata": {},
   "source": [
    "If vector is a ball of wool:\n",
    "![wool](http://images.esellerpro.com/2278/I/699/36/PureMerinoPM9.jpg)\n",
    "\n",
    "a matrix is a pullover:\n",
    "\n",
    "![pullover](https://amp.businessinsider.com/images/58516db4ca7f0cdf1e8b56ad-1136-852.jpg)"
   ]
  },
  {
   "cell_type": "markdown",
   "metadata": {},
   "source": [
    "A pullover inherits all attributes of the wool (It's color, softness, the ability to shrink when soaked in hot water, etc)\n",
    "\n",
    "However, the wool does not have all attributes of the pullover (No sleeves, collars)\n",
    "\n",
    "You can think of matrix as a folded form of a vector\n",
    "\n",
    "We can create a matrix out of vector(s) by folding or binding"
   ]
  },
  {
   "cell_type": "markdown",
   "metadata": {},
   "source": [
    "### A vector"
   ]
  },
  {
   "cell_type": "markdown",
   "metadata": {},
   "source": [
    "Let's create a vector:"
   ]
  },
  {
   "cell_type": "code",
   "execution_count": 1,
   "metadata": {
    "scrolled": true
   },
   "outputs": [
    {
     "data": {
      "text/html": [
       "<ol class=list-inline>\n",
       "\t<li>1</li>\n",
       "\t<li>2</li>\n",
       "\t<li>3</li>\n",
       "\t<li>4</li>\n",
       "\t<li>5</li>\n",
       "\t<li>6</li>\n",
       "\t<li>7</li>\n",
       "\t<li>8</li>\n",
       "\t<li>9</li>\n",
       "\t<li>10</li>\n",
       "\t<li>11</li>\n",
       "\t<li>12</li>\n",
       "\t<li>13</li>\n",
       "\t<li>14</li>\n",
       "\t<li>15</li>\n",
       "\t<li>16</li>\n",
       "\t<li>17</li>\n",
       "\t<li>18</li>\n",
       "\t<li>19</li>\n",
       "\t<li>20</li>\n",
       "</ol>\n"
      ],
      "text/latex": [
       "\\begin{enumerate*}\n",
       "\\item 1\n",
       "\\item 2\n",
       "\\item 3\n",
       "\\item 4\n",
       "\\item 5\n",
       "\\item 6\n",
       "\\item 7\n",
       "\\item 8\n",
       "\\item 9\n",
       "\\item 10\n",
       "\\item 11\n",
       "\\item 12\n",
       "\\item 13\n",
       "\\item 14\n",
       "\\item 15\n",
       "\\item 16\n",
       "\\item 17\n",
       "\\item 18\n",
       "\\item 19\n",
       "\\item 20\n",
       "\\end{enumerate*}\n"
      ],
      "text/markdown": [
       "1. 1\n",
       "2. 2\n",
       "3. 3\n",
       "4. 4\n",
       "5. 5\n",
       "6. 6\n",
       "7. 7\n",
       "8. 8\n",
       "9. 9\n",
       "10. 10\n",
       "11. 11\n",
       "12. 12\n",
       "13. 13\n",
       "14. 14\n",
       "15. 15\n",
       "16. 16\n",
       "17. 17\n",
       "18. 18\n",
       "19. 19\n",
       "20. 20\n",
       "\n",
       "\n"
      ],
      "text/plain": [
       " [1]  1  2  3  4  5  6  7  8  9 10 11 12 13 14 15 16 17 18 19 20"
      ]
     },
     "metadata": {},
     "output_type": "display_data"
    }
   ],
   "source": [
    "vec_1 <- 1:20\n",
    "vec_1"
   ]
  },
  {
   "cell_type": "markdown",
   "metadata": {},
   "source": [
    "Let's give it names:"
   ]
  },
  {
   "cell_type": "code",
   "execution_count": 2,
   "metadata": {},
   "outputs": [
    {
     "data": {
      "text/html": [
       "<dl class=dl-horizontal>\n",
       "\t<dt>a</dt>\n",
       "\t\t<dd>1</dd>\n",
       "\t<dt>b</dt>\n",
       "\t\t<dd>2</dd>\n",
       "\t<dt>c</dt>\n",
       "\t\t<dd>3</dd>\n",
       "\t<dt>d</dt>\n",
       "\t\t<dd>4</dd>\n",
       "\t<dt>e</dt>\n",
       "\t\t<dd>5</dd>\n",
       "\t<dt>f</dt>\n",
       "\t\t<dd>6</dd>\n",
       "\t<dt>g</dt>\n",
       "\t\t<dd>7</dd>\n",
       "\t<dt>h</dt>\n",
       "\t\t<dd>8</dd>\n",
       "\t<dt>i</dt>\n",
       "\t\t<dd>9</dd>\n",
       "\t<dt>j</dt>\n",
       "\t\t<dd>10</dd>\n",
       "\t<dt>k</dt>\n",
       "\t\t<dd>11</dd>\n",
       "\t<dt>l</dt>\n",
       "\t\t<dd>12</dd>\n",
       "\t<dt>m</dt>\n",
       "\t\t<dd>13</dd>\n",
       "\t<dt>n</dt>\n",
       "\t\t<dd>14</dd>\n",
       "\t<dt>o</dt>\n",
       "\t\t<dd>15</dd>\n",
       "\t<dt>p</dt>\n",
       "\t\t<dd>16</dd>\n",
       "\t<dt>q</dt>\n",
       "\t\t<dd>17</dd>\n",
       "\t<dt>r</dt>\n",
       "\t\t<dd>18</dd>\n",
       "\t<dt>s</dt>\n",
       "\t\t<dd>19</dd>\n",
       "\t<dt>t</dt>\n",
       "\t\t<dd>20</dd>\n",
       "</dl>\n"
      ],
      "text/latex": [
       "\\begin{description*}\n",
       "\\item[a] 1\n",
       "\\item[b] 2\n",
       "\\item[c] 3\n",
       "\\item[d] 4\n",
       "\\item[e] 5\n",
       "\\item[f] 6\n",
       "\\item[g] 7\n",
       "\\item[h] 8\n",
       "\\item[i] 9\n",
       "\\item[j] 10\n",
       "\\item[k] 11\n",
       "\\item[l] 12\n",
       "\\item[m] 13\n",
       "\\item[n] 14\n",
       "\\item[o] 15\n",
       "\\item[p] 16\n",
       "\\item[q] 17\n",
       "\\item[r] 18\n",
       "\\item[s] 19\n",
       "\\item[t] 20\n",
       "\\end{description*}\n"
      ],
      "text/markdown": [
       "a\n",
       ":   1b\n",
       ":   2c\n",
       ":   3d\n",
       ":   4e\n",
       ":   5f\n",
       ":   6g\n",
       ":   7h\n",
       ":   8i\n",
       ":   9j\n",
       ":   10k\n",
       ":   11l\n",
       ":   12m\n",
       ":   13n\n",
       ":   14o\n",
       ":   15p\n",
       ":   16q\n",
       ":   17r\n",
       ":   18s\n",
       ":   19t\n",
       ":   20\n",
       "\n"
      ],
      "text/plain": [
       " a  b  c  d  e  f  g  h  i  j  k  l  m  n  o  p  q  r  s  t \n",
       " 1  2  3  4  5  6  7  8  9 10 11 12 13 14 15 16 17 18 19 20 "
      ]
     },
     "metadata": {},
     "output_type": "display_data"
    }
   ],
   "source": [
    "names(vec_1) <- letters[seq_along(vec_1)]\n",
    "vec_1"
   ]
  },
  {
   "cell_type": "markdown",
   "metadata": {},
   "source": [
    "Let's check dim and attributes and summary:"
   ]
  },
  {
   "cell_type": "code",
   "execution_count": 3,
   "metadata": {},
   "outputs": [
    {
     "data": {
      "text/plain": [
       "NULL"
      ]
     },
     "metadata": {},
     "output_type": "display_data"
    },
    {
     "data": {
      "text/html": [
       "20"
      ],
      "text/latex": [
       "20"
      ],
      "text/markdown": [
       "20"
      ],
      "text/plain": [
       "[1] 20"
      ]
     },
     "metadata": {},
     "output_type": "display_data"
    },
    {
     "data": {
      "text/html": [
       "<strong>$names</strong> = <ol class=list-inline>\n",
       "\t<li>'a'</li>\n",
       "\t<li>'b'</li>\n",
       "\t<li>'c'</li>\n",
       "\t<li>'d'</li>\n",
       "\t<li>'e'</li>\n",
       "\t<li>'f'</li>\n",
       "\t<li>'g'</li>\n",
       "\t<li>'h'</li>\n",
       "\t<li>'i'</li>\n",
       "\t<li>'j'</li>\n",
       "\t<li>'k'</li>\n",
       "\t<li>'l'</li>\n",
       "\t<li>'m'</li>\n",
       "\t<li>'n'</li>\n",
       "\t<li>'o'</li>\n",
       "\t<li>'p'</li>\n",
       "\t<li>'q'</li>\n",
       "\t<li>'r'</li>\n",
       "\t<li>'s'</li>\n",
       "\t<li>'t'</li>\n",
       "</ol>\n"
      ],
      "text/latex": [
       "\\textbf{\\$names} = \\begin{enumerate*}\n",
       "\\item 'a'\n",
       "\\item 'b'\n",
       "\\item 'c'\n",
       "\\item 'd'\n",
       "\\item 'e'\n",
       "\\item 'f'\n",
       "\\item 'g'\n",
       "\\item 'h'\n",
       "\\item 'i'\n",
       "\\item 'j'\n",
       "\\item 'k'\n",
       "\\item 'l'\n",
       "\\item 'm'\n",
       "\\item 'n'\n",
       "\\item 'o'\n",
       "\\item 'p'\n",
       "\\item 'q'\n",
       "\\item 'r'\n",
       "\\item 's'\n",
       "\\item 't'\n",
       "\\end{enumerate*}\n"
      ],
      "text/markdown": [
       "**$names** = 1. 'a'\n",
       "2. 'b'\n",
       "3. 'c'\n",
       "4. 'd'\n",
       "5. 'e'\n",
       "6. 'f'\n",
       "7. 'g'\n",
       "8. 'h'\n",
       "9. 'i'\n",
       "10. 'j'\n",
       "11. 'k'\n",
       "12. 'l'\n",
       "13. 'm'\n",
       "14. 'n'\n",
       "15. 'o'\n",
       "16. 'p'\n",
       "17. 'q'\n",
       "18. 'r'\n",
       "19. 's'\n",
       "20. 't'\n",
       "\n",
       "\n"
      ],
      "text/plain": [
       "$names\n",
       " [1] \"a\" \"b\" \"c\" \"d\" \"e\" \"f\" \"g\" \"h\" \"i\" \"j\" \"k\" \"l\" \"m\" \"n\" \"o\" \"p\" \"q\" \"r\" \"s\"\n",
       "[20] \"t\"\n"
      ]
     },
     "metadata": {},
     "output_type": "display_data"
    },
    {
     "name": "stdout",
     "output_type": "stream",
     "text": [
      " Named int [1:20] 1 2 3 4 5 6 7 8 9 10 ...\n",
      " - attr(*, \"names\")= chr [1:20] \"a\" \"b\" \"c\" \"d\" ...\n"
     ]
    }
   ],
   "source": [
    "dim(vec_1)\n",
    "length(vec_1)\n",
    "attributes(vec_1)\n",
    "str(vec_1)"
   ]
  },
  {
   "cell_type": "markdown",
   "metadata": {},
   "source": [
    "A vector has no dimension attribute (it is not even one-dimensional)\n",
    "\n",
    "It has names attribute"
   ]
  },
  {
   "cell_type": "markdown",
   "metadata": {},
   "source": [
    "### Matrix out of a vector"
   ]
  },
  {
   "cell_type": "code",
   "execution_count": 4,
   "metadata": {},
   "outputs": [
    {
     "data": {
      "text/html": [
       "<table>\n",
       "<tbody>\n",
       "\t<tr><td>1 </td><td>5 </td><td> 9</td><td>13</td><td>17</td></tr>\n",
       "\t<tr><td>2 </td><td>6 </td><td>10</td><td>14</td><td>18</td></tr>\n",
       "\t<tr><td>3 </td><td>7 </td><td>11</td><td>15</td><td>19</td></tr>\n",
       "\t<tr><td>4 </td><td>8 </td><td>12</td><td>16</td><td>20</td></tr>\n",
       "</tbody>\n",
       "</table>\n"
      ],
      "text/latex": [
       "\\begin{tabular}{lllll}\n",
       "\t 1  & 5  &  9 & 13 & 17\\\\\n",
       "\t 2  & 6  & 10 & 14 & 18\\\\\n",
       "\t 3  & 7  & 11 & 15 & 19\\\\\n",
       "\t 4  & 8  & 12 & 16 & 20\\\\\n",
       "\\end{tabular}\n"
      ],
      "text/markdown": [
       "\n",
       "| 1  | 5  |  9 | 13 | 17 | \n",
       "| 2  | 6  | 10 | 14 | 18 | \n",
       "| 3  | 7  | 11 | 15 | 19 | \n",
       "| 4  | 8  | 12 | 16 | 20 | \n",
       "\n",
       "\n"
      ],
      "text/plain": [
       "     [,1] [,2] [,3] [,4] [,5]\n",
       "[1,] 1    5     9   13   17  \n",
       "[2,] 2    6    10   14   18  \n",
       "[3,] 3    7    11   15   19  \n",
       "[4,] 4    8    12   16   20  "
      ]
     },
     "metadata": {},
     "output_type": "display_data"
    }
   ],
   "source": [
    "mat_1 <- matrix(vec_1, nrow = 4)\n",
    "mat_1"
   ]
  },
  {
   "cell_type": "markdown",
   "metadata": {},
   "source": [
    "It is created with column-major order by default"
   ]
  },
  {
   "cell_type": "markdown",
   "metadata": {},
   "source": [
    "Let's provide names:"
   ]
  },
  {
   "cell_type": "code",
   "execution_count": 6,
   "metadata": {},
   "outputs": [
    {
     "data": {
      "text/html": [
       "<table>\n",
       "<tbody>\n",
       "\t<tr><th scope=row>a</th><td>1 </td><td>5 </td><td> 9</td><td>13</td><td>17</td></tr>\n",
       "\t<tr><th scope=row>b</th><td>2 </td><td>6 </td><td>10</td><td>14</td><td>18</td></tr>\n",
       "\t<tr><th scope=row>c</th><td>3 </td><td>7 </td><td>11</td><td>15</td><td>19</td></tr>\n",
       "\t<tr><th scope=row>d</th><td>4 </td><td>8 </td><td>12</td><td>16</td><td>20</td></tr>\n",
       "</tbody>\n",
       "</table>\n"
      ],
      "text/latex": [
       "\\begin{tabular}{r|lllll}\n",
       "\ta & 1  & 5  &  9 & 13 & 17\\\\\n",
       "\tb & 2  & 6  & 10 & 14 & 18\\\\\n",
       "\tc & 3  & 7  & 11 & 15 & 19\\\\\n",
       "\td & 4  & 8  & 12 & 16 & 20\\\\\n",
       "\\end{tabular}\n"
      ],
      "text/markdown": [
       "\n",
       "| a | 1  | 5  |  9 | 13 | 17 | \n",
       "| b | 2  | 6  | 10 | 14 | 18 | \n",
       "| c | 3  | 7  | 11 | 15 | 19 | \n",
       "| d | 4  | 8  | 12 | 16 | 20 | \n",
       "\n",
       "\n"
      ],
      "text/plain": [
       "  [,1] [,2] [,3] [,4] [,5]\n",
       "a 1    5     9   13   17  \n",
       "b 2    6    10   14   18  \n",
       "c 3    7    11   15   19  \n",
       "d 4    8    12   16   20  "
      ]
     },
     "metadata": {},
     "output_type": "display_data"
    }
   ],
   "source": [
    "rownames(mat_1) <- letters[1:nrow(mat_1)]\n",
    "mat_1"
   ]
  },
  {
   "cell_type": "code",
   "execution_count": 7,
   "metadata": {},
   "outputs": [
    {
     "data": {
      "text/html": [
       "<table>\n",
       "<thead><tr><th></th><th scope=col>e</th><th scope=col>f</th><th scope=col>g</th><th scope=col>h</th><th scope=col>i</th></tr></thead>\n",
       "<tbody>\n",
       "\t<tr><th scope=row>a</th><td>1 </td><td>5 </td><td> 9</td><td>13</td><td>17</td></tr>\n",
       "\t<tr><th scope=row>b</th><td>2 </td><td>6 </td><td>10</td><td>14</td><td>18</td></tr>\n",
       "\t<tr><th scope=row>c</th><td>3 </td><td>7 </td><td>11</td><td>15</td><td>19</td></tr>\n",
       "\t<tr><th scope=row>d</th><td>4 </td><td>8 </td><td>12</td><td>16</td><td>20</td></tr>\n",
       "</tbody>\n",
       "</table>\n"
      ],
      "text/latex": [
       "\\begin{tabular}{r|lllll}\n",
       "  & e & f & g & h & i\\\\\n",
       "\\hline\n",
       "\ta & 1  & 5  &  9 & 13 & 17\\\\\n",
       "\tb & 2  & 6  & 10 & 14 & 18\\\\\n",
       "\tc & 3  & 7  & 11 & 15 & 19\\\\\n",
       "\td & 4  & 8  & 12 & 16 & 20\\\\\n",
       "\\end{tabular}\n"
      ],
      "text/markdown": [
       "\n",
       "| <!--/--> | e | f | g | h | i | \n",
       "|---|---|---|---|\n",
       "| a | 1  | 5  |  9 | 13 | 17 | \n",
       "| b | 2  | 6  | 10 | 14 | 18 | \n",
       "| c | 3  | 7  | 11 | 15 | 19 | \n",
       "| d | 4  | 8  | 12 | 16 | 20 | \n",
       "\n",
       "\n"
      ],
      "text/plain": [
       "  e f g  h  i \n",
       "a 1 5  9 13 17\n",
       "b 2 6 10 14 18\n",
       "c 3 7 11 15 19\n",
       "d 4 8 12 16 20"
      ]
     },
     "metadata": {},
     "output_type": "display_data"
    }
   ],
   "source": [
    "colnames(mat_1) <- letters[1:ncol(mat_1) + nrow(mat_1)]\n",
    "mat_1"
   ]
  },
  {
   "cell_type": "markdown",
   "metadata": {},
   "source": [
    "Now let's check dimensions, attributes and structure:"
   ]
  },
  {
   "cell_type": "code",
   "execution_count": 8,
   "metadata": {},
   "outputs": [
    {
     "data": {
      "text/html": [
       "<ol class=list-inline>\n",
       "\t<li>4</li>\n",
       "\t<li>5</li>\n",
       "</ol>\n"
      ],
      "text/latex": [
       "\\begin{enumerate*}\n",
       "\\item 4\n",
       "\\item 5\n",
       "\\end{enumerate*}\n"
      ],
      "text/markdown": [
       "1. 4\n",
       "2. 5\n",
       "\n",
       "\n"
      ],
      "text/plain": [
       "[1] 4 5"
      ]
     },
     "metadata": {},
     "output_type": "display_data"
    },
    {
     "data": {
      "text/html": [
       "20"
      ],
      "text/latex": [
       "20"
      ],
      "text/markdown": [
       "20"
      ],
      "text/plain": [
       "[1] 20"
      ]
     },
     "metadata": {},
     "output_type": "display_data"
    },
    {
     "data": {
      "text/html": [
       "<dl>\n",
       "\t<dt>$dim</dt>\n",
       "\t\t<dd><ol class=list-inline>\n",
       "\t<li>4</li>\n",
       "\t<li>5</li>\n",
       "</ol>\n",
       "</dd>\n",
       "\t<dt>$dimnames</dt>\n",
       "\t\t<dd><ol>\n",
       "\t<li><ol class=list-inline>\n",
       "\t<li>'a'</li>\n",
       "\t<li>'b'</li>\n",
       "\t<li>'c'</li>\n",
       "\t<li>'d'</li>\n",
       "</ol>\n",
       "</li>\n",
       "\t<li><ol class=list-inline>\n",
       "\t<li>'e'</li>\n",
       "\t<li>'f'</li>\n",
       "\t<li>'g'</li>\n",
       "\t<li>'h'</li>\n",
       "\t<li>'i'</li>\n",
       "</ol>\n",
       "</li>\n",
       "</ol>\n",
       "</dd>\n",
       "</dl>\n"
      ],
      "text/latex": [
       "\\begin{description}\n",
       "\\item[\\$dim] \\begin{enumerate*}\n",
       "\\item 4\n",
       "\\item 5\n",
       "\\end{enumerate*}\n",
       "\n",
       "\\item[\\$dimnames] \\begin{enumerate}\n",
       "\\item \\begin{enumerate*}\n",
       "\\item 'a'\n",
       "\\item 'b'\n",
       "\\item 'c'\n",
       "\\item 'd'\n",
       "\\end{enumerate*}\n",
       "\n",
       "\\item \\begin{enumerate*}\n",
       "\\item 'e'\n",
       "\\item 'f'\n",
       "\\item 'g'\n",
       "\\item 'h'\n",
       "\\item 'i'\n",
       "\\end{enumerate*}\n",
       "\n",
       "\\end{enumerate}\n",
       "\n",
       "\\end{description}\n"
      ],
      "text/markdown": [
       "$dim\n",
       ":   1. 4\n",
       "2. 5\n",
       "\n",
       "\n",
       "\n",
       "$dimnames\n",
       ":   1. 1. 'a'\n",
       "2. 'b'\n",
       "3. 'c'\n",
       "4. 'd'\n",
       "\n",
       "\n",
       "\n",
       "2. 1. 'e'\n",
       "2. 'f'\n",
       "3. 'g'\n",
       "4. 'h'\n",
       "5. 'i'\n",
       "\n",
       "\n",
       "\n",
       "\n",
       "\n",
       "\n",
       "\n",
       "\n"
      ],
      "text/plain": [
       "$dim\n",
       "[1] 4 5\n",
       "\n",
       "$dimnames\n",
       "$dimnames[[1]]\n",
       "[1] \"a\" \"b\" \"c\" \"d\"\n",
       "\n",
       "$dimnames[[2]]\n",
       "[1] \"e\" \"f\" \"g\" \"h\" \"i\"\n",
       "\n"
      ]
     },
     "metadata": {},
     "output_type": "display_data"
    },
    {
     "name": "stdout",
     "output_type": "stream",
     "text": [
      " int [1:4, 1:5] 1 2 3 4 5 6 7 8 9 10 ...\n",
      " - attr(*, \"dimnames\")=List of 2\n",
      "  ..$ : chr [1:4] \"a\" \"b\" \"c\" \"d\"\n",
      "  ..$ : chr [1:5] \"e\" \"f\" \"g\" \"h\" ...\n"
     ]
    }
   ],
   "source": [
    "dim(mat_1)\n",
    "length(mat_1)\n",
    "attributes(mat_1)\n",
    "str(mat_1)"
   ]
  },
  {
   "cell_type": "markdown",
   "metadata": {},
   "source": [
    "Matrix has dimensions and rownames and colnames as attributes\n",
    "\n",
    "Note that a matrix is a dimensioned vector, so it still has a length\n",
    "\n",
    "However a vector does not have dimensions!"
   ]
  },
  {
   "cell_type": "code",
   "execution_count": 9,
   "metadata": {},
   "outputs": [
    {
     "data": {
      "text/html": [
       "<table>\n",
       "<thead><tr><th></th><th scope=col>e</th><th scope=col>f</th><th scope=col>g</th><th scope=col>h</th><th scope=col>i</th></tr></thead>\n",
       "<tbody>\n",
       "\t<tr><th scope=row>a</th><td>1 </td><td>5 </td><td> 9</td><td>13</td><td>17</td></tr>\n",
       "\t<tr><th scope=row>b</th><td>2 </td><td>6 </td><td>10</td><td>14</td><td>18</td></tr>\n",
       "\t<tr><th scope=row>c</th><td>3 </td><td>7 </td><td>11</td><td>15</td><td>19</td></tr>\n",
       "\t<tr><th scope=row>d</th><td>4 </td><td>8 </td><td>12</td><td>16</td><td>20</td></tr>\n",
       "</tbody>\n",
       "</table>\n"
      ],
      "text/latex": [
       "\\begin{tabular}{r|lllll}\n",
       "  & e & f & g & h & i\\\\\n",
       "\\hline\n",
       "\ta & 1  & 5  &  9 & 13 & 17\\\\\n",
       "\tb & 2  & 6  & 10 & 14 & 18\\\\\n",
       "\tc & 3  & 7  & 11 & 15 & 19\\\\\n",
       "\td & 4  & 8  & 12 & 16 & 20\\\\\n",
       "\\end{tabular}\n"
      ],
      "text/markdown": [
       "\n",
       "| <!--/--> | e | f | g | h | i | \n",
       "|---|---|---|---|\n",
       "| a | 1  | 5  |  9 | 13 | 17 | \n",
       "| b | 2  | 6  | 10 | 14 | 18 | \n",
       "| c | 3  | 7  | 11 | 15 | 19 | \n",
       "| d | 4  | 8  | 12 | 16 | 20 | \n",
       "\n",
       "\n"
      ],
      "text/plain": [
       "  e f g  h  i \n",
       "a 1 5  9 13 17\n",
       "b 2 6 10 14 18\n",
       "c 3 7 11 15 19\n",
       "d 4 8 12 16 20"
      ]
     },
     "metadata": {},
     "output_type": "display_data"
    }
   ],
   "source": [
    "mat_1"
   ]
  },
  {
   "cell_type": "markdown",
   "metadata": {},
   "source": [
    "Or we can still define names as we did with the vector:"
   ]
  },
  {
   "cell_type": "code",
   "execution_count": 10,
   "metadata": {},
   "outputs": [
    {
     "data": {
      "text/html": [
       "<table>\n",
       "<thead><tr><th></th><th scope=col>e</th><th scope=col>f</th><th scope=col>g</th><th scope=col>h</th><th scope=col>i</th></tr></thead>\n",
       "<tbody>\n",
       "\t<tr><th scope=row>a</th><td>1 </td><td>5 </td><td> 9</td><td>13</td><td>17</td></tr>\n",
       "\t<tr><th scope=row>b</th><td>2 </td><td>6 </td><td>10</td><td>14</td><td>18</td></tr>\n",
       "\t<tr><th scope=row>c</th><td>3 </td><td>7 </td><td>11</td><td>15</td><td>19</td></tr>\n",
       "\t<tr><th scope=row>d</th><td>4 </td><td>8 </td><td>12</td><td>16</td><td>20</td></tr>\n",
       "</tbody>\n",
       "</table>\n"
      ],
      "text/latex": [
       "\\begin{tabular}{r|lllll}\n",
       "  & e & f & g & h & i\\\\\n",
       "\\hline\n",
       "\ta & 1  & 5  &  9 & 13 & 17\\\\\n",
       "\tb & 2  & 6  & 10 & 14 & 18\\\\\n",
       "\tc & 3  & 7  & 11 & 15 & 19\\\\\n",
       "\td & 4  & 8  & 12 & 16 & 20\\\\\n",
       "\\end{tabular}\n"
      ],
      "text/markdown": [
       "\n",
       "| <!--/--> | e | f | g | h | i | \n",
       "|---|---|---|---|\n",
       "| a | 1  | 5  |  9 | 13 | 17 | \n",
       "| b | 2  | 6  | 10 | 14 | 18 | \n",
       "| c | 3  | 7  | 11 | 15 | 19 | \n",
       "| d | 4  | 8  | 12 | 16 | 20 | \n",
       "\n",
       "\n"
      ],
      "text/plain": [
       "  e f g  h  i \n",
       "a 1 5  9 13 17\n",
       "b 2 6 10 14 18\n",
       "c 3 7 11 15 19\n",
       "d 4 8 12 16 20"
      ]
     },
     "metadata": {},
     "output_type": "display_data"
    }
   ],
   "source": [
    "names(mat_1) <- letters[seq_along(mat_1)]\n",
    "mat_1"
   ]
  },
  {
   "cell_type": "code",
   "execution_count": 11,
   "metadata": {},
   "outputs": [
    {
     "data": {
      "text/html": [
       "<dl>\n",
       "\t<dt>$dim</dt>\n",
       "\t\t<dd><ol class=list-inline>\n",
       "\t<li>4</li>\n",
       "\t<li>5</li>\n",
       "</ol>\n",
       "</dd>\n",
       "\t<dt>$dimnames</dt>\n",
       "\t\t<dd><ol>\n",
       "\t<li><ol class=list-inline>\n",
       "\t<li>'a'</li>\n",
       "\t<li>'b'</li>\n",
       "\t<li>'c'</li>\n",
       "\t<li>'d'</li>\n",
       "</ol>\n",
       "</li>\n",
       "\t<li><ol class=list-inline>\n",
       "\t<li>'e'</li>\n",
       "\t<li>'f'</li>\n",
       "\t<li>'g'</li>\n",
       "\t<li>'h'</li>\n",
       "\t<li>'i'</li>\n",
       "</ol>\n",
       "</li>\n",
       "</ol>\n",
       "</dd>\n",
       "\t<dt>$names</dt>\n",
       "\t\t<dd><ol class=list-inline>\n",
       "\t<li>'a'</li>\n",
       "\t<li>'b'</li>\n",
       "\t<li>'c'</li>\n",
       "\t<li>'d'</li>\n",
       "\t<li>'e'</li>\n",
       "\t<li>'f'</li>\n",
       "\t<li>'g'</li>\n",
       "\t<li>'h'</li>\n",
       "\t<li>'i'</li>\n",
       "\t<li>'j'</li>\n",
       "\t<li>'k'</li>\n",
       "\t<li>'l'</li>\n",
       "\t<li>'m'</li>\n",
       "\t<li>'n'</li>\n",
       "\t<li>'o'</li>\n",
       "\t<li>'p'</li>\n",
       "\t<li>'q'</li>\n",
       "\t<li>'r'</li>\n",
       "\t<li>'s'</li>\n",
       "\t<li>'t'</li>\n",
       "</ol>\n",
       "</dd>\n",
       "</dl>\n"
      ],
      "text/latex": [
       "\\begin{description}\n",
       "\\item[\\$dim] \\begin{enumerate*}\n",
       "\\item 4\n",
       "\\item 5\n",
       "\\end{enumerate*}\n",
       "\n",
       "\\item[\\$dimnames] \\begin{enumerate}\n",
       "\\item \\begin{enumerate*}\n",
       "\\item 'a'\n",
       "\\item 'b'\n",
       "\\item 'c'\n",
       "\\item 'd'\n",
       "\\end{enumerate*}\n",
       "\n",
       "\\item \\begin{enumerate*}\n",
       "\\item 'e'\n",
       "\\item 'f'\n",
       "\\item 'g'\n",
       "\\item 'h'\n",
       "\\item 'i'\n",
       "\\end{enumerate*}\n",
       "\n",
       "\\end{enumerate}\n",
       "\n",
       "\\item[\\$names] \\begin{enumerate*}\n",
       "\\item 'a'\n",
       "\\item 'b'\n",
       "\\item 'c'\n",
       "\\item 'd'\n",
       "\\item 'e'\n",
       "\\item 'f'\n",
       "\\item 'g'\n",
       "\\item 'h'\n",
       "\\item 'i'\n",
       "\\item 'j'\n",
       "\\item 'k'\n",
       "\\item 'l'\n",
       "\\item 'm'\n",
       "\\item 'n'\n",
       "\\item 'o'\n",
       "\\item 'p'\n",
       "\\item 'q'\n",
       "\\item 'r'\n",
       "\\item 's'\n",
       "\\item 't'\n",
       "\\end{enumerate*}\n",
       "\n",
       "\\end{description}\n"
      ],
      "text/markdown": [
       "$dim\n",
       ":   1. 4\n",
       "2. 5\n",
       "\n",
       "\n",
       "\n",
       "$dimnames\n",
       ":   1. 1. 'a'\n",
       "2. 'b'\n",
       "3. 'c'\n",
       "4. 'd'\n",
       "\n",
       "\n",
       "\n",
       "2. 1. 'e'\n",
       "2. 'f'\n",
       "3. 'g'\n",
       "4. 'h'\n",
       "5. 'i'\n",
       "\n",
       "\n",
       "\n",
       "\n",
       "\n",
       "\n",
       "$names\n",
       ":   1. 'a'\n",
       "2. 'b'\n",
       "3. 'c'\n",
       "4. 'd'\n",
       "5. 'e'\n",
       "6. 'f'\n",
       "7. 'g'\n",
       "8. 'h'\n",
       "9. 'i'\n",
       "10. 'j'\n",
       "11. 'k'\n",
       "12. 'l'\n",
       "13. 'm'\n",
       "14. 'n'\n",
       "15. 'o'\n",
       "16. 'p'\n",
       "17. 'q'\n",
       "18. 'r'\n",
       "19. 's'\n",
       "20. 't'\n",
       "\n",
       "\n",
       "\n",
       "\n",
       "\n"
      ],
      "text/plain": [
       "$dim\n",
       "[1] 4 5\n",
       "\n",
       "$dimnames\n",
       "$dimnames[[1]]\n",
       "[1] \"a\" \"b\" \"c\" \"d\"\n",
       "\n",
       "$dimnames[[2]]\n",
       "[1] \"e\" \"f\" \"g\" \"h\" \"i\"\n",
       "\n",
       "\n",
       "$names\n",
       " [1] \"a\" \"b\" \"c\" \"d\" \"e\" \"f\" \"g\" \"h\" \"i\" \"j\" \"k\" \"l\" \"m\" \"n\" \"o\" \"p\" \"q\" \"r\" \"s\"\n",
       "[20] \"t\"\n"
      ]
     },
     "metadata": {},
     "output_type": "display_data"
    }
   ],
   "source": [
    "attributes(mat_1)"
   ]
  },
  {
   "cell_type": "markdown",
   "metadata": {},
   "source": [
    "### Subset the matrix by indices"
   ]
  },
  {
   "cell_type": "code",
   "execution_count": 14,
   "metadata": {},
   "outputs": [
    {
     "data": {
      "text/html": [
       "<table>\n",
       "<thead><tr><th></th><th scope=col>e</th><th scope=col>f</th><th scope=col>g</th><th scope=col>h</th><th scope=col>i</th></tr></thead>\n",
       "<tbody>\n",
       "\t<tr><th scope=row>a</th><td>1 </td><td>5 </td><td> 9</td><td>13</td><td>17</td></tr>\n",
       "\t<tr><th scope=row>b</th><td>2 </td><td>6 </td><td>10</td><td>14</td><td>18</td></tr>\n",
       "\t<tr><th scope=row>c</th><td>3 </td><td>7 </td><td>11</td><td>15</td><td>19</td></tr>\n",
       "\t<tr><th scope=row>d</th><td>4 </td><td>8 </td><td>12</td><td>16</td><td>20</td></tr>\n",
       "</tbody>\n",
       "</table>\n"
      ],
      "text/latex": [
       "\\begin{tabular}{r|lllll}\n",
       "  & e & f & g & h & i\\\\\n",
       "\\hline\n",
       "\ta & 1  & 5  &  9 & 13 & 17\\\\\n",
       "\tb & 2  & 6  & 10 & 14 & 18\\\\\n",
       "\tc & 3  & 7  & 11 & 15 & 19\\\\\n",
       "\td & 4  & 8  & 12 & 16 & 20\\\\\n",
       "\\end{tabular}\n"
      ],
      "text/markdown": [
       "\n",
       "| <!--/--> | e | f | g | h | i | \n",
       "|---|---|---|---|\n",
       "| a | 1  | 5  |  9 | 13 | 17 | \n",
       "| b | 2  | 6  | 10 | 14 | 18 | \n",
       "| c | 3  | 7  | 11 | 15 | 19 | \n",
       "| d | 4  | 8  | 12 | 16 | 20 | \n",
       "\n",
       "\n"
      ],
      "text/plain": [
       "  e f g  h  i \n",
       "a 1 5  9 13 17\n",
       "b 2 6 10 14 18\n",
       "c 3 7 11 15 19\n",
       "d 4 8 12 16 20"
      ]
     },
     "metadata": {},
     "output_type": "display_data"
    }
   ],
   "source": [
    "mat_1"
   ]
  },
  {
   "cell_type": "markdown",
   "metadata": {},
   "source": [
    "Let's subset the matrix by two indices:"
   ]
  },
  {
   "cell_type": "code",
   "execution_count": 15,
   "metadata": {},
   "outputs": [
    {
     "data": {
      "text/html": [
       "<table>\n",
       "<thead><tr><th></th><th scope=col>g</th><th scope=col>h</th><th scope=col>i</th></tr></thead>\n",
       "<tbody>\n",
       "\t<tr><th scope=row>b</th><td>10</td><td>14</td><td>18</td></tr>\n",
       "\t<tr><th scope=row>c</th><td>11</td><td>15</td><td>19</td></tr>\n",
       "</tbody>\n",
       "</table>\n"
      ],
      "text/latex": [
       "\\begin{tabular}{r|lll}\n",
       "  & g & h & i\\\\\n",
       "\\hline\n",
       "\tb & 10 & 14 & 18\\\\\n",
       "\tc & 11 & 15 & 19\\\\\n",
       "\\end{tabular}\n"
      ],
      "text/markdown": [
       "\n",
       "| <!--/--> | g | h | i | \n",
       "|---|---|\n",
       "| b | 10 | 14 | 18 | \n",
       "| c | 11 | 15 | 19 | \n",
       "\n",
       "\n"
      ],
      "text/plain": [
       "  g  h  i \n",
       "b 10 14 18\n",
       "c 11 15 19"
      ]
     },
     "metadata": {},
     "output_type": "display_data"
    }
   ],
   "source": [
    "mat_1[2:3,3:5]"
   ]
  },
  {
   "cell_type": "markdown",
   "metadata": {},
   "source": [
    "Or two dimension names:"
   ]
  },
  {
   "cell_type": "code",
   "execution_count": 16,
   "metadata": {},
   "outputs": [
    {
     "data": {
      "text/html": [
       "<table>\n",
       "<thead><tr><th></th><th scope=col>f</th><th scope=col>g</th><th scope=col>h</th></tr></thead>\n",
       "<tbody>\n",
       "\t<tr><th scope=row>a</th><td>5 </td><td> 9</td><td>13</td></tr>\n",
       "\t<tr><th scope=row>c</th><td>7 </td><td>11</td><td>15</td></tr>\n",
       "</tbody>\n",
       "</table>\n"
      ],
      "text/latex": [
       "\\begin{tabular}{r|lll}\n",
       "  & f & g & h\\\\\n",
       "\\hline\n",
       "\ta & 5  &  9 & 13\\\\\n",
       "\tc & 7  & 11 & 15\\\\\n",
       "\\end{tabular}\n"
      ],
      "text/markdown": [
       "\n",
       "| <!--/--> | f | g | h | \n",
       "|---|---|\n",
       "| a | 5  |  9 | 13 | \n",
       "| c | 7  | 11 | 15 | \n",
       "\n",
       "\n"
      ],
      "text/plain": [
       "  f g  h \n",
       "a 5  9 13\n",
       "c 7 11 15"
      ]
     },
     "metadata": {},
     "output_type": "display_data"
    }
   ],
   "source": [
    "mat_1[c(\"a\", \"c\"),c(\"f\", \"g\", \"h\")]"
   ]
  },
  {
   "cell_type": "markdown",
   "metadata": {},
   "source": [
    "What is we subset with a single index:"
   ]
  },
  {
   "cell_type": "code",
   "execution_count": 17,
   "metadata": {},
   "outputs": [
    {
     "data": {
      "text/html": [
       "<dl class=dl-horizontal>\n",
       "\t<dt>b</dt>\n",
       "\t\t<dd>2</dd>\n",
       "\t<dt>c</dt>\n",
       "\t\t<dd>3</dd>\n",
       "\t<dt>d</dt>\n",
       "\t\t<dd>4</dd>\n",
       "\t<dt>e</dt>\n",
       "\t\t<dd>5</dd>\n",
       "\t<dt>f</dt>\n",
       "\t\t<dd>6</dd>\n",
       "\t<dt>g</dt>\n",
       "\t\t<dd>7</dd>\n",
       "\t<dt>h</dt>\n",
       "\t\t<dd>8</dd>\n",
       "\t<dt>i</dt>\n",
       "\t\t<dd>9</dd>\n",
       "\t<dt>j</dt>\n",
       "\t\t<dd>10</dd>\n",
       "</dl>\n"
      ],
      "text/latex": [
       "\\begin{description*}\n",
       "\\item[b] 2\n",
       "\\item[c] 3\n",
       "\\item[d] 4\n",
       "\\item[e] 5\n",
       "\\item[f] 6\n",
       "\\item[g] 7\n",
       "\\item[h] 8\n",
       "\\item[i] 9\n",
       "\\item[j] 10\n",
       "\\end{description*}\n"
      ],
      "text/markdown": [
       "b\n",
       ":   2c\n",
       ":   3d\n",
       ":   4e\n",
       ":   5f\n",
       ":   6g\n",
       ":   7h\n",
       ":   8i\n",
       ":   9j\n",
       ":   10\n",
       "\n"
      ],
      "text/plain": [
       " b  c  d  e  f  g  h  i  j \n",
       " 2  3  4  5  6  7  8  9 10 "
      ]
     },
     "metadata": {},
     "output_type": "display_data"
    }
   ],
   "source": [
    "mat_1[2:10]"
   ]
  },
  {
   "cell_type": "code",
   "execution_count": 19,
   "metadata": {},
   "outputs": [
    {
     "data": {
      "text/html": [
       "<strong>$names</strong> = <ol class=list-inline>\n",
       "\t<li>'b'</li>\n",
       "\t<li>'c'</li>\n",
       "\t<li>'d'</li>\n",
       "\t<li>'e'</li>\n",
       "\t<li>'f'</li>\n",
       "\t<li>'g'</li>\n",
       "\t<li>'h'</li>\n",
       "\t<li>'i'</li>\n",
       "\t<li>'j'</li>\n",
       "</ol>\n"
      ],
      "text/latex": [
       "\\textbf{\\$names} = \\begin{enumerate*}\n",
       "\\item 'b'\n",
       "\\item 'c'\n",
       "\\item 'd'\n",
       "\\item 'e'\n",
       "\\item 'f'\n",
       "\\item 'g'\n",
       "\\item 'h'\n",
       "\\item 'i'\n",
       "\\item 'j'\n",
       "\\end{enumerate*}\n"
      ],
      "text/markdown": [
       "**$names** = 1. 'b'\n",
       "2. 'c'\n",
       "3. 'd'\n",
       "4. 'e'\n",
       "5. 'f'\n",
       "6. 'g'\n",
       "7. 'h'\n",
       "8. 'i'\n",
       "9. 'j'\n",
       "\n",
       "\n"
      ],
      "text/plain": [
       "$names\n",
       "[1] \"b\" \"c\" \"d\" \"e\" \"f\" \"g\" \"h\" \"i\" \"j\"\n"
      ]
     },
     "metadata": {},
     "output_type": "display_data"
    }
   ],
   "source": [
    "attributes(mat_1[2:10])"
   ]
  },
  {
   "cell_type": "markdown",
   "metadata": {},
   "source": [
    "No more a matrix, when subsetted with a single dimension, it is reverted back to a vector!\n",
    "\n",
    "The pullover can be treated as wool!"
   ]
  },
  {
   "cell_type": "code",
   "execution_count": 20,
   "metadata": {},
   "outputs": [
    {
     "data": {
      "text/html": [
       "<dl class=dl-horizontal>\n",
       "\t<dt>a</dt>\n",
       "\t\t<dd>1</dd>\n",
       "\t<dt>b</dt>\n",
       "\t\t<dd>2</dd>\n",
       "</dl>\n"
      ],
      "text/latex": [
       "\\begin{description*}\n",
       "\\item[a] 1\n",
       "\\item[b] 2\n",
       "\\end{description*}\n"
      ],
      "text/markdown": [
       "a\n",
       ":   1b\n",
       ":   2\n",
       "\n"
      ],
      "text/plain": [
       "a b \n",
       "1 2 "
      ]
     },
     "metadata": {},
     "output_type": "display_data"
    }
   ],
   "source": [
    "mat_1[c(\"a\", \"b\")]"
   ]
  },
  {
   "cell_type": "markdown",
   "metadata": {},
   "source": [
    "Again, when we just subset with \"names\", matrix becomes a vector"
   ]
  },
  {
   "cell_type": "markdown",
   "metadata": {},
   "source": [
    "### Subset a vector with two indices"
   ]
  },
  {
   "cell_type": "markdown",
   "metadata": {},
   "source": [
    "What is we subset a vector with two indices:"
   ]
  },
  {
   "cell_type": "code",
   "execution_count": 21,
   "metadata": {},
   "outputs": [
    {
     "ename": "ERROR",
     "evalue": "Error in vec_1[1, 1]: incorrect number of dimensions\n",
     "output_type": "error",
     "traceback": [
      "Error in vec_1[1, 1]: incorrect number of dimensions\nTraceback:\n"
     ]
    }
   ],
   "source": [
    "vec_1[1,1]"
   ]
  },
  {
   "cell_type": "markdown",
   "metadata": {},
   "source": [
    "Wool cannot be treated as pullover unless it is knit into one!"
   ]
  },
  {
   "cell_type": "markdown",
   "metadata": {},
   "source": [
    "## Creating a matrix as the output of functions"
   ]
  },
  {
   "cell_type": "markdown",
   "metadata": {},
   "source": [
    "There are some useful functions that emit matrices, apart from cbind() and rbind()"
   ]
  },
  {
   "cell_type": "markdown",
   "metadata": {},
   "source": [
    "### outer()"
   ]
  },
  {
   "cell_type": "markdown",
   "metadata": {},
   "source": [
    "Outer applies a function on all pairs of two vectors to create a matrix"
   ]
  },
  {
   "cell_type": "markdown",
   "metadata": {},
   "source": [
    "Let's have a multiplication table of values 1:10"
   ]
  },
  {
   "cell_type": "code",
   "execution_count": 24,
   "metadata": {},
   "outputs": [],
   "source": [
    "?outer"
   ]
  },
  {
   "cell_type": "code",
   "execution_count": 22,
   "metadata": {},
   "outputs": [
    {
     "data": {
      "text/html": [
       "<table>\n",
       "<tbody>\n",
       "\t<tr><td> 1 </td><td> 2 </td><td> 3 </td><td> 4 </td><td> 5 </td><td> 6 </td><td> 7 </td><td> 8 </td><td> 9 </td><td> 10</td></tr>\n",
       "\t<tr><td> 2 </td><td> 4 </td><td> 6 </td><td> 8 </td><td>10 </td><td>12 </td><td>14 </td><td>16 </td><td>18 </td><td> 20</td></tr>\n",
       "\t<tr><td> 3 </td><td> 6 </td><td> 9 </td><td>12 </td><td>15 </td><td>18 </td><td>21 </td><td>24 </td><td>27 </td><td> 30</td></tr>\n",
       "\t<tr><td> 4 </td><td> 8 </td><td>12 </td><td>16 </td><td>20 </td><td>24 </td><td>28 </td><td>32 </td><td>36 </td><td> 40</td></tr>\n",
       "\t<tr><td> 5 </td><td>10 </td><td>15 </td><td>20 </td><td>25 </td><td>30 </td><td>35 </td><td>40 </td><td>45 </td><td> 50</td></tr>\n",
       "\t<tr><td> 6 </td><td>12 </td><td>18 </td><td>24 </td><td>30 </td><td>36 </td><td>42 </td><td>48 </td><td>54 </td><td> 60</td></tr>\n",
       "\t<tr><td> 7 </td><td>14 </td><td>21 </td><td>28 </td><td>35 </td><td>42 </td><td>49 </td><td>56 </td><td>63 </td><td> 70</td></tr>\n",
       "\t<tr><td> 8 </td><td>16 </td><td>24 </td><td>32 </td><td>40 </td><td>48 </td><td>56 </td><td>64 </td><td>72 </td><td> 80</td></tr>\n",
       "\t<tr><td> 9 </td><td>18 </td><td>27 </td><td>36 </td><td>45 </td><td>54 </td><td>63 </td><td>72 </td><td>81 </td><td> 90</td></tr>\n",
       "\t<tr><td>10 </td><td>20 </td><td>30 </td><td>40 </td><td>50 </td><td>60 </td><td>70 </td><td>80 </td><td>90 </td><td>100</td></tr>\n",
       "</tbody>\n",
       "</table>\n"
      ],
      "text/latex": [
       "\\begin{tabular}{llllllllll}\n",
       "\t  1  &  2  &  3  &  4  &  5  &  6  &  7  &  8  &  9  &  10\\\\\n",
       "\t  2  &  4  &  6  &  8  & 10  & 12  & 14  & 16  & 18  &  20\\\\\n",
       "\t  3  &  6  &  9  & 12  & 15  & 18  & 21  & 24  & 27  &  30\\\\\n",
       "\t  4  &  8  & 12  & 16  & 20  & 24  & 28  & 32  & 36  &  40\\\\\n",
       "\t  5  & 10  & 15  & 20  & 25  & 30  & 35  & 40  & 45  &  50\\\\\n",
       "\t  6  & 12  & 18  & 24  & 30  & 36  & 42  & 48  & 54  &  60\\\\\n",
       "\t  7  & 14  & 21  & 28  & 35  & 42  & 49  & 56  & 63  &  70\\\\\n",
       "\t  8  & 16  & 24  & 32  & 40  & 48  & 56  & 64  & 72  &  80\\\\\n",
       "\t  9  & 18  & 27  & 36  & 45  & 54  & 63  & 72  & 81  &  90\\\\\n",
       "\t 10  & 20  & 30  & 40  & 50  & 60  & 70  & 80  & 90  & 100\\\\\n",
       "\\end{tabular}\n"
      ],
      "text/markdown": [
       "\n",
       "|  1  |  2  |  3  |  4  |  5  |  6  |  7  |  8  |  9  |  10 | \n",
       "|  2  |  4  |  6  |  8  | 10  | 12  | 14  | 16  | 18  |  20 | \n",
       "|  3  |  6  |  9  | 12  | 15  | 18  | 21  | 24  | 27  |  30 | \n",
       "|  4  |  8  | 12  | 16  | 20  | 24  | 28  | 32  | 36  |  40 | \n",
       "|  5  | 10  | 15  | 20  | 25  | 30  | 35  | 40  | 45  |  50 | \n",
       "|  6  | 12  | 18  | 24  | 30  | 36  | 42  | 48  | 54  |  60 | \n",
       "|  7  | 14  | 21  | 28  | 35  | 42  | 49  | 56  | 63  |  70 | \n",
       "|  8  | 16  | 24  | 32  | 40  | 48  | 56  | 64  | 72  |  80 | \n",
       "|  9  | 18  | 27  | 36  | 45  | 54  | 63  | 72  | 81  |  90 | \n",
       "| 10  | 20  | 30  | 40  | 50  | 60  | 70  | 80  | 90  | 100 | \n",
       "\n",
       "\n"
      ],
      "text/plain": [
       "      [,1] [,2] [,3] [,4] [,5] [,6] [,7] [,8] [,9] [,10]\n",
       " [1,]  1    2    3    4    5    6    7    8    9    10  \n",
       " [2,]  2    4    6    8   10   12   14   16   18    20  \n",
       " [3,]  3    6    9   12   15   18   21   24   27    30  \n",
       " [4,]  4    8   12   16   20   24   28   32   36    40  \n",
       " [5,]  5   10   15   20   25   30   35   40   45    50  \n",
       " [6,]  6   12   18   24   30   36   42   48   54    60  \n",
       " [7,]  7   14   21   28   35   42   49   56   63    70  \n",
       " [8,]  8   16   24   32   40   48   56   64   72    80  \n",
       " [9,]  9   18   27   36   45   54   63   72   81    90  \n",
       "[10,] 10   20   30   40   50   60   70   80   90   100  "
      ]
     },
     "metadata": {},
     "output_type": "display_data"
    }
   ],
   "source": [
    "multab <- outer(1:10, 1:10, \"*\")\n",
    "multab"
   ]
  },
  {
   "cell_type": "code",
   "execution_count": 23,
   "metadata": {},
   "outputs": [
    {
     "data": {
      "text/html": [
       "<strong>$dim</strong> = <ol class=list-inline>\n",
       "\t<li>10</li>\n",
       "\t<li>10</li>\n",
       "</ol>\n"
      ],
      "text/latex": [
       "\\textbf{\\$dim} = \\begin{enumerate*}\n",
       "\\item 10\n",
       "\\item 10\n",
       "\\end{enumerate*}\n"
      ],
      "text/markdown": [
       "**$dim** = 1. 10\n",
       "2. 10\n",
       "\n",
       "\n"
      ],
      "text/plain": [
       "$dim\n",
       "[1] 10 10\n"
      ]
     },
     "metadata": {},
     "output_type": "display_data"
    },
    {
     "data": {
      "text/html": [
       "'matrix'"
      ],
      "text/latex": [
       "'matrix'"
      ],
      "text/markdown": [
       "'matrix'"
      ],
      "text/plain": [
       "[1] \"matrix\""
      ]
     },
     "metadata": {},
     "output_type": "display_data"
    },
    {
     "name": "stdout",
     "output_type": "stream",
     "text": [
      " num [1:10, 1:10] 1 2 3 4 5 6 7 8 9 10 ...\n"
     ]
    }
   ],
   "source": [
    "attributes(multab)\n",
    "class(multab)\n",
    "str(multab)"
   ]
  },
  {
   "cell_type": "markdown",
   "metadata": {},
   "source": [
    "Let's make a ore complicated computation on both inputs:"
   ]
  },
  {
   "cell_type": "code",
   "execution_count": 25,
   "metadata": {},
   "outputs": [
    {
     "data": {
      "text/html": [
       "<table>\n",
       "<tbody>\n",
       "\t<tr><td> 0 </td><td>-3 </td><td>-8 </td><td>-15</td><td>-24</td><td>-35</td><td>-48</td><td>-63</td><td>-80</td><td>-99</td></tr>\n",
       "\t<tr><td> 3 </td><td> 0 </td><td>-5 </td><td>-12</td><td>-21</td><td>-32</td><td>-45</td><td>-60</td><td>-77</td><td>-96</td></tr>\n",
       "\t<tr><td> 8 </td><td> 5 </td><td> 0 </td><td> -7</td><td>-16</td><td>-27</td><td>-40</td><td>-55</td><td>-72</td><td>-91</td></tr>\n",
       "\t<tr><td>15 </td><td>12 </td><td> 7 </td><td>  0</td><td> -9</td><td>-20</td><td>-33</td><td>-48</td><td>-65</td><td>-84</td></tr>\n",
       "\t<tr><td>24 </td><td>21 </td><td>16 </td><td>  9</td><td>  0</td><td>-11</td><td>-24</td><td>-39</td><td>-56</td><td>-75</td></tr>\n",
       "\t<tr><td>35 </td><td>32 </td><td>27 </td><td> 20</td><td> 11</td><td>  0</td><td>-13</td><td>-28</td><td>-45</td><td>-64</td></tr>\n",
       "\t<tr><td>48 </td><td>45 </td><td>40 </td><td> 33</td><td> 24</td><td> 13</td><td>  0</td><td>-15</td><td>-32</td><td>-51</td></tr>\n",
       "\t<tr><td>63 </td><td>60 </td><td>55 </td><td> 48</td><td> 39</td><td> 28</td><td> 15</td><td>  0</td><td>-17</td><td>-36</td></tr>\n",
       "\t<tr><td>80 </td><td>77 </td><td>72 </td><td> 65</td><td> 56</td><td> 45</td><td> 32</td><td> 17</td><td>  0</td><td>-19</td></tr>\n",
       "\t<tr><td>99 </td><td>96 </td><td>91 </td><td> 84</td><td> 75</td><td> 64</td><td> 51</td><td> 36</td><td> 19</td><td>  0</td></tr>\n",
       "</tbody>\n",
       "</table>\n"
      ],
      "text/latex": [
       "\\begin{tabular}{llllllllll}\n",
       "\t  0  & -3  & -8  & -15 & -24 & -35 & -48 & -63 & -80 & -99\\\\\n",
       "\t  3  &  0  & -5  & -12 & -21 & -32 & -45 & -60 & -77 & -96\\\\\n",
       "\t  8  &  5  &  0  &  -7 & -16 & -27 & -40 & -55 & -72 & -91\\\\\n",
       "\t 15  & 12  &  7  &   0 &  -9 & -20 & -33 & -48 & -65 & -84\\\\\n",
       "\t 24  & 21  & 16  &   9 &   0 & -11 & -24 & -39 & -56 & -75\\\\\n",
       "\t 35  & 32  & 27  &  20 &  11 &   0 & -13 & -28 & -45 & -64\\\\\n",
       "\t 48  & 45  & 40  &  33 &  24 &  13 &   0 & -15 & -32 & -51\\\\\n",
       "\t 63  & 60  & 55  &  48 &  39 &  28 &  15 &   0 & -17 & -36\\\\\n",
       "\t 80  & 77  & 72  &  65 &  56 &  45 &  32 &  17 &   0 & -19\\\\\n",
       "\t 99  & 96  & 91  &  84 &  75 &  64 &  51 &  36 &  19 &   0\\\\\n",
       "\\end{tabular}\n"
      ],
      "text/markdown": [
       "\n",
       "|  0  | -3  | -8  | -15 | -24 | -35 | -48 | -63 | -80 | -99 | \n",
       "|  3  |  0  | -5  | -12 | -21 | -32 | -45 | -60 | -77 | -96 | \n",
       "|  8  |  5  |  0  |  -7 | -16 | -27 | -40 | -55 | -72 | -91 | \n",
       "| 15  | 12  |  7  |   0 |  -9 | -20 | -33 | -48 | -65 | -84 | \n",
       "| 24  | 21  | 16  |   9 |   0 | -11 | -24 | -39 | -56 | -75 | \n",
       "| 35  | 32  | 27  |  20 |  11 |   0 | -13 | -28 | -45 | -64 | \n",
       "| 48  | 45  | 40  |  33 |  24 |  13 |   0 | -15 | -32 | -51 | \n",
       "| 63  | 60  | 55  |  48 |  39 |  28 |  15 |   0 | -17 | -36 | \n",
       "| 80  | 77  | 72  |  65 |  56 |  45 |  32 |  17 |   0 | -19 | \n",
       "| 99  | 96  | 91  |  84 |  75 |  64 |  51 |  36 |  19 |   0 | \n",
       "\n",
       "\n"
      ],
      "text/plain": [
       "      [,1] [,2] [,3] [,4] [,5] [,6] [,7] [,8] [,9] [,10]\n",
       " [1,]  0   -3   -8   -15  -24  -35  -48  -63  -80  -99  \n",
       " [2,]  3    0   -5   -12  -21  -32  -45  -60  -77  -96  \n",
       " [3,]  8    5    0    -7  -16  -27  -40  -55  -72  -91  \n",
       " [4,] 15   12    7     0   -9  -20  -33  -48  -65  -84  \n",
       " [5,] 24   21   16     9    0  -11  -24  -39  -56  -75  \n",
       " [6,] 35   32   27    20   11    0  -13  -28  -45  -64  \n",
       " [7,] 48   45   40    33   24   13    0  -15  -32  -51  \n",
       " [8,] 63   60   55    48   39   28   15    0  -17  -36  \n",
       " [9,] 80   77   72    65   56   45   32   17    0  -19  \n",
       "[10,] 99   96   91    84   75   64   51   36   19    0  "
      ]
     },
     "metadata": {},
     "output_type": "display_data"
    }
   ],
   "source": [
    "mat_2 <- outer(1:10, 1:10, function(x,y) x^2 - y^2)\n",
    "mat_2"
   ]
  },
  {
   "cell_type": "markdown",
   "metadata": {},
   "source": [
    "These kind of unnamed embedded functions declared inside other functions are called \"closures\" in R"
   ]
  },
  {
   "cell_type": "markdown",
   "metadata": {},
   "source": [
    "### expand.grid()"
   ]
  },
  {
   "cell_type": "markdown",
   "metadata": {},
   "source": [
    "Suppose we want to have all combinations of values in multiple vectors, where we got one value from each of the vectors"
   ]
  },
  {
   "cell_type": "code",
   "execution_count": 26,
   "metadata": {},
   "outputs": [
    {
     "data": {
      "text/html": [
       "<table>\n",
       "<thead><tr><th scope=col>Var1</th><th scope=col>Var2</th><th scope=col>Var3</th></tr></thead>\n",
       "<tbody>\n",
       "\t<tr><td>1</td><td>1</td><td>1</td></tr>\n",
       "\t<tr><td>2</td><td>1</td><td>1</td></tr>\n",
       "\t<tr><td>3</td><td>1</td><td>1</td></tr>\n",
       "\t<tr><td>4</td><td>1</td><td>1</td></tr>\n",
       "\t<tr><td>1</td><td>2</td><td>1</td></tr>\n",
       "\t<tr><td>2</td><td>2</td><td>1</td></tr>\n",
       "\t<tr><td>3</td><td>2</td><td>1</td></tr>\n",
       "\t<tr><td>4</td><td>2</td><td>1</td></tr>\n",
       "\t<tr><td>1</td><td>3</td><td>1</td></tr>\n",
       "\t<tr><td>2</td><td>3</td><td>1</td></tr>\n",
       "\t<tr><td>3</td><td>3</td><td>1</td></tr>\n",
       "\t<tr><td>4</td><td>3</td><td>1</td></tr>\n",
       "\t<tr><td>1</td><td>1</td><td>2</td></tr>\n",
       "\t<tr><td>2</td><td>1</td><td>2</td></tr>\n",
       "\t<tr><td>3</td><td>1</td><td>2</td></tr>\n",
       "\t<tr><td>4</td><td>1</td><td>2</td></tr>\n",
       "\t<tr><td>1</td><td>2</td><td>2</td></tr>\n",
       "\t<tr><td>2</td><td>2</td><td>2</td></tr>\n",
       "\t<tr><td>3</td><td>2</td><td>2</td></tr>\n",
       "\t<tr><td>4</td><td>2</td><td>2</td></tr>\n",
       "\t<tr><td>1</td><td>3</td><td>2</td></tr>\n",
       "\t<tr><td>2</td><td>3</td><td>2</td></tr>\n",
       "\t<tr><td>3</td><td>3</td><td>2</td></tr>\n",
       "\t<tr><td>4</td><td>3</td><td>2</td></tr>\n",
       "</tbody>\n",
       "</table>\n"
      ],
      "text/latex": [
       "\\begin{tabular}{lll}\n",
       " Var1 & Var2 & Var3\\\\\n",
       "\\hline\n",
       "\t 1 & 1 & 1\\\\\n",
       "\t 2 & 1 & 1\\\\\n",
       "\t 3 & 1 & 1\\\\\n",
       "\t 4 & 1 & 1\\\\\n",
       "\t 1 & 2 & 1\\\\\n",
       "\t 2 & 2 & 1\\\\\n",
       "\t 3 & 2 & 1\\\\\n",
       "\t 4 & 2 & 1\\\\\n",
       "\t 1 & 3 & 1\\\\\n",
       "\t 2 & 3 & 1\\\\\n",
       "\t 3 & 3 & 1\\\\\n",
       "\t 4 & 3 & 1\\\\\n",
       "\t 1 & 1 & 2\\\\\n",
       "\t 2 & 1 & 2\\\\\n",
       "\t 3 & 1 & 2\\\\\n",
       "\t 4 & 1 & 2\\\\\n",
       "\t 1 & 2 & 2\\\\\n",
       "\t 2 & 2 & 2\\\\\n",
       "\t 3 & 2 & 2\\\\\n",
       "\t 4 & 2 & 2\\\\\n",
       "\t 1 & 3 & 2\\\\\n",
       "\t 2 & 3 & 2\\\\\n",
       "\t 3 & 3 & 2\\\\\n",
       "\t 4 & 3 & 2\\\\\n",
       "\\end{tabular}\n"
      ],
      "text/markdown": [
       "\n",
       "Var1 | Var2 | Var3 | \n",
       "|---|---|---|---|---|---|---|---|---|---|---|---|---|---|---|---|---|---|---|---|---|---|---|---|\n",
       "| 1 | 1 | 1 | \n",
       "| 2 | 1 | 1 | \n",
       "| 3 | 1 | 1 | \n",
       "| 4 | 1 | 1 | \n",
       "| 1 | 2 | 1 | \n",
       "| 2 | 2 | 1 | \n",
       "| 3 | 2 | 1 | \n",
       "| 4 | 2 | 1 | \n",
       "| 1 | 3 | 1 | \n",
       "| 2 | 3 | 1 | \n",
       "| 3 | 3 | 1 | \n",
       "| 4 | 3 | 1 | \n",
       "| 1 | 1 | 2 | \n",
       "| 2 | 1 | 2 | \n",
       "| 3 | 1 | 2 | \n",
       "| 4 | 1 | 2 | \n",
       "| 1 | 2 | 2 | \n",
       "| 2 | 2 | 2 | \n",
       "| 3 | 2 | 2 | \n",
       "| 4 | 2 | 2 | \n",
       "| 1 | 3 | 2 | \n",
       "| 2 | 3 | 2 | \n",
       "| 3 | 3 | 2 | \n",
       "| 4 | 3 | 2 | \n",
       "\n",
       "\n"
      ],
      "text/plain": [
       "      Var1 Var2 Var3\n",
       " [1,] 1    1    1   \n",
       " [2,] 2    1    1   \n",
       " [3,] 3    1    1   \n",
       " [4,] 4    1    1   \n",
       " [5,] 1    2    1   \n",
       " [6,] 2    2    1   \n",
       " [7,] 3    2    1   \n",
       " [8,] 4    2    1   \n",
       " [9,] 1    3    1   \n",
       "[10,] 2    3    1   \n",
       "[11,] 3    3    1   \n",
       "[12,] 4    3    1   \n",
       "[13,] 1    1    2   \n",
       "[14,] 2    1    2   \n",
       "[15,] 3    1    2   \n",
       "[16,] 4    1    2   \n",
       "[17,] 1    2    2   \n",
       "[18,] 2    2    2   \n",
       "[19,] 3    2    2   \n",
       "[20,] 4    2    2   \n",
       "[21,] 1    3    2   \n",
       "[22,] 2    3    2   \n",
       "[23,] 3    3    2   \n",
       "[24,] 4    3    2   "
      ]
     },
     "metadata": {},
     "output_type": "display_data"
    }
   ],
   "source": [
    "grid1 <- as.matrix(expand.grid(1:4, 1:3, 1:2))\n",
    "grid1"
   ]
  },
  {
   "cell_type": "code",
   "execution_count": 27,
   "metadata": {},
   "outputs": [
    {
     "data": {
      "text/html": [
       "<ol class=list-inline>\n",
       "\t<li>24</li>\n",
       "\t<li>3</li>\n",
       "</ol>\n"
      ],
      "text/latex": [
       "\\begin{enumerate*}\n",
       "\\item 24\n",
       "\\item 3\n",
       "\\end{enumerate*}\n"
      ],
      "text/markdown": [
       "1. 24\n",
       "2. 3\n",
       "\n",
       "\n"
      ],
      "text/plain": [
       "[1] 24  3"
      ]
     },
     "metadata": {},
     "output_type": "display_data"
    },
    {
     "data": {
      "text/html": [
       "'matrix'"
      ],
      "text/latex": [
       "'matrix'"
      ],
      "text/markdown": [
       "'matrix'"
      ],
      "text/plain": [
       "[1] \"matrix\""
      ]
     },
     "metadata": {},
     "output_type": "display_data"
    }
   ],
   "source": [
    "dim(grid1)\n",
    "class(grid1)"
   ]
  },
  {
   "cell_type": "markdown",
   "metadata": {},
   "source": [
    "Note that, by default expand.grid emits a data.frame - a data structure we haven't covered yet. We converted it to a matrix with as.matrix() function"
   ]
  },
  {
   "cell_type": "markdown",
   "metadata": {},
   "source": [
    "The row count is the product of the length of all vectors"
   ]
  },
  {
   "cell_type": "markdown",
   "metadata": {},
   "source": [
    "### combn()"
   ]
  },
  {
   "cell_type": "markdown",
   "metadata": {},
   "source": [
    "Now let's get all k length combinations from a vector of n values (all values in increasing order):"
   ]
  },
  {
   "cell_type": "code",
   "execution_count": 28,
   "metadata": {},
   "outputs": [
    {
     "data": {
      "text/html": [
       "<table>\n",
       "<tbody>\n",
       "\t<tr><td>1 </td><td>2 </td><td> 3</td></tr>\n",
       "\t<tr><td>1 </td><td>2 </td><td> 4</td></tr>\n",
       "\t<tr><td>1 </td><td>2 </td><td> 5</td></tr>\n",
       "\t<tr><td>1 </td><td>2 </td><td> 6</td></tr>\n",
       "\t<tr><td>1 </td><td>2 </td><td> 7</td></tr>\n",
       "\t<tr><td>1 </td><td>2 </td><td> 8</td></tr>\n",
       "\t<tr><td>1 </td><td>2 </td><td> 9</td></tr>\n",
       "\t<tr><td>1 </td><td>2 </td><td>10</td></tr>\n",
       "\t<tr><td>1 </td><td>3 </td><td> 4</td></tr>\n",
       "\t<tr><td>1 </td><td>3 </td><td> 5</td></tr>\n",
       "\t<tr><td>1 </td><td>3 </td><td> 6</td></tr>\n",
       "\t<tr><td>1 </td><td>3 </td><td> 7</td></tr>\n",
       "\t<tr><td>1 </td><td>3 </td><td> 8</td></tr>\n",
       "\t<tr><td>1 </td><td>3 </td><td> 9</td></tr>\n",
       "\t<tr><td>1 </td><td>3 </td><td>10</td></tr>\n",
       "\t<tr><td>1 </td><td>4 </td><td> 5</td></tr>\n",
       "\t<tr><td>1 </td><td>4 </td><td> 6</td></tr>\n",
       "\t<tr><td>1 </td><td>4 </td><td> 7</td></tr>\n",
       "\t<tr><td>1 </td><td>4 </td><td> 8</td></tr>\n",
       "\t<tr><td>1 </td><td>4 </td><td> 9</td></tr>\n",
       "\t<tr><td>1 </td><td>4 </td><td>10</td></tr>\n",
       "\t<tr><td>1 </td><td>5 </td><td> 6</td></tr>\n",
       "\t<tr><td>1 </td><td>5 </td><td> 7</td></tr>\n",
       "\t<tr><td>1 </td><td>5 </td><td> 8</td></tr>\n",
       "\t<tr><td>1 </td><td>5 </td><td> 9</td></tr>\n",
       "\t<tr><td>1 </td><td>5 </td><td>10</td></tr>\n",
       "\t<tr><td>1 </td><td>6 </td><td> 7</td></tr>\n",
       "\t<tr><td>1 </td><td>6 </td><td> 8</td></tr>\n",
       "\t<tr><td>1 </td><td>6 </td><td> 9</td></tr>\n",
       "\t<tr><td>1 </td><td>6 </td><td>10</td></tr>\n",
       "\t<tr><td>⋮</td><td>⋮</td><td>⋮</td></tr>\n",
       "\t<tr><td>4 </td><td>6 </td><td> 7</td></tr>\n",
       "\t<tr><td>4 </td><td>6 </td><td> 8</td></tr>\n",
       "\t<tr><td>4 </td><td>6 </td><td> 9</td></tr>\n",
       "\t<tr><td>4 </td><td>6 </td><td>10</td></tr>\n",
       "\t<tr><td>4 </td><td>7 </td><td> 8</td></tr>\n",
       "\t<tr><td>4 </td><td>7 </td><td> 9</td></tr>\n",
       "\t<tr><td>4 </td><td>7 </td><td>10</td></tr>\n",
       "\t<tr><td>4 </td><td>8 </td><td> 9</td></tr>\n",
       "\t<tr><td>4 </td><td>8 </td><td>10</td></tr>\n",
       "\t<tr><td>4 </td><td>9 </td><td>10</td></tr>\n",
       "\t<tr><td>5 </td><td>6 </td><td> 7</td></tr>\n",
       "\t<tr><td>5 </td><td>6 </td><td> 8</td></tr>\n",
       "\t<tr><td>5 </td><td>6 </td><td> 9</td></tr>\n",
       "\t<tr><td>5 </td><td>6 </td><td>10</td></tr>\n",
       "\t<tr><td>5 </td><td>7 </td><td> 8</td></tr>\n",
       "\t<tr><td>5 </td><td>7 </td><td> 9</td></tr>\n",
       "\t<tr><td>5 </td><td>7 </td><td>10</td></tr>\n",
       "\t<tr><td>5 </td><td>8 </td><td> 9</td></tr>\n",
       "\t<tr><td>5 </td><td>8 </td><td>10</td></tr>\n",
       "\t<tr><td>5 </td><td>9 </td><td>10</td></tr>\n",
       "\t<tr><td>6 </td><td>7 </td><td> 8</td></tr>\n",
       "\t<tr><td>6 </td><td>7 </td><td> 9</td></tr>\n",
       "\t<tr><td>6 </td><td>7 </td><td>10</td></tr>\n",
       "\t<tr><td>6 </td><td>8 </td><td> 9</td></tr>\n",
       "\t<tr><td>6 </td><td>8 </td><td>10</td></tr>\n",
       "\t<tr><td>6 </td><td>9 </td><td>10</td></tr>\n",
       "\t<tr><td>7 </td><td>8 </td><td> 9</td></tr>\n",
       "\t<tr><td>7 </td><td>8 </td><td>10</td></tr>\n",
       "\t<tr><td>7 </td><td>9 </td><td>10</td></tr>\n",
       "\t<tr><td>8 </td><td>9 </td><td>10</td></tr>\n",
       "</tbody>\n",
       "</table>\n"
      ],
      "text/latex": [
       "\\begin{tabular}{lll}\n",
       "\t 1  & 2  &  3\\\\\n",
       "\t 1  & 2  &  4\\\\\n",
       "\t 1  & 2  &  5\\\\\n",
       "\t 1  & 2  &  6\\\\\n",
       "\t 1  & 2  &  7\\\\\n",
       "\t 1  & 2  &  8\\\\\n",
       "\t 1  & 2  &  9\\\\\n",
       "\t 1  & 2  & 10\\\\\n",
       "\t 1  & 3  &  4\\\\\n",
       "\t 1  & 3  &  5\\\\\n",
       "\t 1  & 3  &  6\\\\\n",
       "\t 1  & 3  &  7\\\\\n",
       "\t 1  & 3  &  8\\\\\n",
       "\t 1  & 3  &  9\\\\\n",
       "\t 1  & 3  & 10\\\\\n",
       "\t 1  & 4  &  5\\\\\n",
       "\t 1  & 4  &  6\\\\\n",
       "\t 1  & 4  &  7\\\\\n",
       "\t 1  & 4  &  8\\\\\n",
       "\t 1  & 4  &  9\\\\\n",
       "\t 1  & 4  & 10\\\\\n",
       "\t 1  & 5  &  6\\\\\n",
       "\t 1  & 5  &  7\\\\\n",
       "\t 1  & 5  &  8\\\\\n",
       "\t 1  & 5  &  9\\\\\n",
       "\t 1  & 5  & 10\\\\\n",
       "\t 1  & 6  &  7\\\\\n",
       "\t 1  & 6  &  8\\\\\n",
       "\t 1  & 6  &  9\\\\\n",
       "\t 1  & 6  & 10\\\\\n",
       "\t ⋮ & ⋮ & ⋮\\\\\n",
       "\t 4  & 6  &  7\\\\\n",
       "\t 4  & 6  &  8\\\\\n",
       "\t 4  & 6  &  9\\\\\n",
       "\t 4  & 6  & 10\\\\\n",
       "\t 4  & 7  &  8\\\\\n",
       "\t 4  & 7  &  9\\\\\n",
       "\t 4  & 7  & 10\\\\\n",
       "\t 4  & 8  &  9\\\\\n",
       "\t 4  & 8  & 10\\\\\n",
       "\t 4  & 9  & 10\\\\\n",
       "\t 5  & 6  &  7\\\\\n",
       "\t 5  & 6  &  8\\\\\n",
       "\t 5  & 6  &  9\\\\\n",
       "\t 5  & 6  & 10\\\\\n",
       "\t 5  & 7  &  8\\\\\n",
       "\t 5  & 7  &  9\\\\\n",
       "\t 5  & 7  & 10\\\\\n",
       "\t 5  & 8  &  9\\\\\n",
       "\t 5  & 8  & 10\\\\\n",
       "\t 5  & 9  & 10\\\\\n",
       "\t 6  & 7  &  8\\\\\n",
       "\t 6  & 7  &  9\\\\\n",
       "\t 6  & 7  & 10\\\\\n",
       "\t 6  & 8  &  9\\\\\n",
       "\t 6  & 8  & 10\\\\\n",
       "\t 6  & 9  & 10\\\\\n",
       "\t 7  & 8  &  9\\\\\n",
       "\t 7  & 8  & 10\\\\\n",
       "\t 7  & 9  & 10\\\\\n",
       "\t 8  & 9  & 10\\\\\n",
       "\\end{tabular}\n"
      ],
      "text/markdown": [
       "\n",
       "| 1  | 2  |  3 | \n",
       "| 1  | 2  |  4 | \n",
       "| 1  | 2  |  5 | \n",
       "| 1  | 2  |  6 | \n",
       "| 1  | 2  |  7 | \n",
       "| 1  | 2  |  8 | \n",
       "| 1  | 2  |  9 | \n",
       "| 1  | 2  | 10 | \n",
       "| 1  | 3  |  4 | \n",
       "| 1  | 3  |  5 | \n",
       "| 1  | 3  |  6 | \n",
       "| 1  | 3  |  7 | \n",
       "| 1  | 3  |  8 | \n",
       "| 1  | 3  |  9 | \n",
       "| 1  | 3  | 10 | \n",
       "| 1  | 4  |  5 | \n",
       "| 1  | 4  |  6 | \n",
       "| 1  | 4  |  7 | \n",
       "| 1  | 4  |  8 | \n",
       "| 1  | 4  |  9 | \n",
       "| 1  | 4  | 10 | \n",
       "| 1  | 5  |  6 | \n",
       "| 1  | 5  |  7 | \n",
       "| 1  | 5  |  8 | \n",
       "| 1  | 5  |  9 | \n",
       "| 1  | 5  | 10 | \n",
       "| 1  | 6  |  7 | \n",
       "| 1  | 6  |  8 | \n",
       "| 1  | 6  |  9 | \n",
       "| 1  | 6  | 10 | \n",
       "| ⋮ | ⋮ | ⋮ | \n",
       "| 4  | 6  |  7 | \n",
       "| 4  | 6  |  8 | \n",
       "| 4  | 6  |  9 | \n",
       "| 4  | 6  | 10 | \n",
       "| 4  | 7  |  8 | \n",
       "| 4  | 7  |  9 | \n",
       "| 4  | 7  | 10 | \n",
       "| 4  | 8  |  9 | \n",
       "| 4  | 8  | 10 | \n",
       "| 4  | 9  | 10 | \n",
       "| 5  | 6  |  7 | \n",
       "| 5  | 6  |  8 | \n",
       "| 5  | 6  |  9 | \n",
       "| 5  | 6  | 10 | \n",
       "| 5  | 7  |  8 | \n",
       "| 5  | 7  |  9 | \n",
       "| 5  | 7  | 10 | \n",
       "| 5  | 8  |  9 | \n",
       "| 5  | 8  | 10 | \n",
       "| 5  | 9  | 10 | \n",
       "| 6  | 7  |  8 | \n",
       "| 6  | 7  |  9 | \n",
       "| 6  | 7  | 10 | \n",
       "| 6  | 8  |  9 | \n",
       "| 6  | 8  | 10 | \n",
       "| 6  | 9  | 10 | \n",
       "| 7  | 8  |  9 | \n",
       "| 7  | 8  | 10 | \n",
       "| 7  | 9  | 10 | \n",
       "| 8  | 9  | 10 | \n",
       "\n",
       "\n"
      ],
      "text/plain": [
       "      [,1] [,2] [,3]\n",
       " [1,] 1    2     3  \n",
       " [2,] 1    2     4  \n",
       " [3,] 1    2     5  \n",
       " [4,] 1    2     6  \n",
       " [5,] 1    2     7  \n",
       " [6,] 1    2     8  \n",
       " [7,] 1    2     9  \n",
       " [8,] 1    2    10  \n",
       " [9,] 1    3     4  \n",
       "[10,] 1    3     5  \n",
       "[11,] 1    3     6  \n",
       "[12,] 1    3     7  \n",
       "[13,] 1    3     8  \n",
       "[14,] 1    3     9  \n",
       "[15,] 1    3    10  \n",
       "[16,] 1    4     5  \n",
       "[17,] 1    4     6  \n",
       "[18,] 1    4     7  \n",
       "[19,] 1    4     8  \n",
       "[20,] 1    4     9  \n",
       "[21,] 1    4    10  \n",
       "[22,] 1    5     6  \n",
       "[23,] 1    5     7  \n",
       "[24,] 1    5     8  \n",
       "[25,] 1    5     9  \n",
       "[26,] 1    5    10  \n",
       "[27,] 1    6     7  \n",
       "[28,] 1    6     8  \n",
       "[29,] 1    6     9  \n",
       "[30,] 1    6    10  \n",
       "[31,] ⋮    ⋮    ⋮   \n",
       "[32,] 4    6     7  \n",
       "[33,] 4    6     8  \n",
       "[34,] 4    6     9  \n",
       "[35,] 4    6    10  \n",
       "[36,] 4    7     8  \n",
       "[37,] 4    7     9  \n",
       "[38,] 4    7    10  \n",
       "[39,] 4    8     9  \n",
       "[40,] 4    8    10  \n",
       "[41,] 4    9    10  \n",
       "[42,] 5    6     7  \n",
       "[43,] 5    6     8  \n",
       "[44,] 5    6     9  \n",
       "[45,] 5    6    10  \n",
       "[46,] 5    7     8  \n",
       "[47,] 5    7     9  \n",
       "[48,] 5    7    10  \n",
       "[49,] 5    8     9  \n",
       "[50,] 5    8    10  \n",
       "[51,] 5    9    10  \n",
       "[52,] 6    7     8  \n",
       "[53,] 6    7     9  \n",
       "[54,] 6    7    10  \n",
       "[55,] 6    8     9  \n",
       "[56,] 6    8    10  \n",
       "[57,] 6    9    10  \n",
       "[58,] 7    8     9  \n",
       "[59,] 7    8    10  \n",
       "[60,] 7    9    10  \n",
       "[61,] 8    9    10  "
      ]
     },
     "metadata": {},
     "output_type": "display_data"
    }
   ],
   "source": [
    "comb_1 <- t(combn(1:10, 3))\n",
    "comb_1"
   ]
  },
  {
   "cell_type": "code",
   "execution_count": 29,
   "metadata": {},
   "outputs": [
    {
     "data": {
      "text/html": [
       "<ol class=list-inline>\n",
       "\t<li>120</li>\n",
       "\t<li>3</li>\n",
       "</ol>\n"
      ],
      "text/latex": [
       "\\begin{enumerate*}\n",
       "\\item 120\n",
       "\\item 3\n",
       "\\end{enumerate*}\n"
      ],
      "text/markdown": [
       "1. 120\n",
       "2. 3\n",
       "\n",
       "\n"
      ],
      "text/plain": [
       "[1] 120   3"
      ]
     },
     "metadata": {},
     "output_type": "display_data"
    }
   ],
   "source": [
    "dim(comb_1)"
   ]
  },
  {
   "cell_type": "markdown",
   "metadata": {},
   "source": [
    "Row count is the C(n,k): "
   ]
  },
  {
   "cell_type": "code",
   "execution_count": 30,
   "metadata": {},
   "outputs": [
    {
     "data": {
      "text/html": [
       "120"
      ],
      "text/latex": [
       "120"
      ],
      "text/markdown": [
       "120"
      ],
      "text/plain": [
       "[1] 120"
      ]
     },
     "metadata": {},
     "output_type": "display_data"
    }
   ],
   "source": [
    "choose(10, 3)"
   ]
  },
  {
   "cell_type": "markdown",
   "metadata": {},
   "source": [
    "## Loop through a matrix"
   ]
  },
  {
   "cell_type": "markdown",
   "metadata": {},
   "source": [
    "### Reshape a wide matrix to a long one"
   ]
  },
  {
   "cell_type": "markdown",
   "metadata": {},
   "source": [
    "Suppose we have a chessboard with random configuration: Each of the 32 pieces by any player is given a unique number and empty squares are 0:"
   ]
  },
  {
   "cell_type": "markdown",
   "metadata": {},
   "source": [
    "First create a random vector:"
   ]
  },
  {
   "cell_type": "code",
   "execution_count": 31,
   "metadata": {},
   "outputs": [
    {
     "data": {
      "text/html": [
       "<ol class=list-inline>\n",
       "\t<li>0</li>\n",
       "\t<li>0</li>\n",
       "\t<li>0</li>\n",
       "\t<li>0</li>\n",
       "\t<li>0</li>\n",
       "\t<li>0</li>\n",
       "\t<li>0</li>\n",
       "\t<li>0</li>\n",
       "\t<li>0</li>\n",
       "\t<li>0</li>\n",
       "\t<li>0</li>\n",
       "\t<li>0</li>\n",
       "\t<li>0</li>\n",
       "\t<li>0</li>\n",
       "\t<li>0</li>\n",
       "\t<li>0</li>\n",
       "\t<li>0</li>\n",
       "\t<li>0</li>\n",
       "\t<li>0</li>\n",
       "\t<li>0</li>\n",
       "\t<li>0</li>\n",
       "\t<li>0</li>\n",
       "\t<li>0</li>\n",
       "\t<li>0</li>\n",
       "\t<li>0</li>\n",
       "\t<li>0</li>\n",
       "\t<li>0</li>\n",
       "\t<li>0</li>\n",
       "\t<li>0</li>\n",
       "\t<li>0</li>\n",
       "\t<li>0</li>\n",
       "\t<li>0</li>\n",
       "\t<li>0</li>\n",
       "\t<li>0</li>\n",
       "\t<li>0</li>\n",
       "\t<li>0</li>\n",
       "\t<li>0</li>\n",
       "\t<li>0</li>\n",
       "\t<li>0</li>\n",
       "\t<li>0</li>\n",
       "\t<li>0</li>\n",
       "\t<li>0</li>\n",
       "\t<li>0</li>\n",
       "\t<li>0</li>\n",
       "\t<li>0</li>\n",
       "\t<li>0</li>\n",
       "\t<li>0</li>\n",
       "\t<li>0</li>\n",
       "\t<li>0</li>\n",
       "\t<li>0</li>\n",
       "\t<li>0</li>\n",
       "\t<li>0</li>\n",
       "\t<li>0</li>\n",
       "\t<li>0</li>\n",
       "\t<li>0</li>\n",
       "\t<li>0</li>\n",
       "\t<li>0</li>\n",
       "\t<li>0</li>\n",
       "\t<li>0</li>\n",
       "\t<li>0</li>\n",
       "\t<li>0</li>\n",
       "\t<li>0</li>\n",
       "\t<li>0</li>\n",
       "\t<li>0</li>\n",
       "</ol>\n"
      ],
      "text/latex": [
       "\\begin{enumerate*}\n",
       "\\item 0\n",
       "\\item 0\n",
       "\\item 0\n",
       "\\item 0\n",
       "\\item 0\n",
       "\\item 0\n",
       "\\item 0\n",
       "\\item 0\n",
       "\\item 0\n",
       "\\item 0\n",
       "\\item 0\n",
       "\\item 0\n",
       "\\item 0\n",
       "\\item 0\n",
       "\\item 0\n",
       "\\item 0\n",
       "\\item 0\n",
       "\\item 0\n",
       "\\item 0\n",
       "\\item 0\n",
       "\\item 0\n",
       "\\item 0\n",
       "\\item 0\n",
       "\\item 0\n",
       "\\item 0\n",
       "\\item 0\n",
       "\\item 0\n",
       "\\item 0\n",
       "\\item 0\n",
       "\\item 0\n",
       "\\item 0\n",
       "\\item 0\n",
       "\\item 0\n",
       "\\item 0\n",
       "\\item 0\n",
       "\\item 0\n",
       "\\item 0\n",
       "\\item 0\n",
       "\\item 0\n",
       "\\item 0\n",
       "\\item 0\n",
       "\\item 0\n",
       "\\item 0\n",
       "\\item 0\n",
       "\\item 0\n",
       "\\item 0\n",
       "\\item 0\n",
       "\\item 0\n",
       "\\item 0\n",
       "\\item 0\n",
       "\\item 0\n",
       "\\item 0\n",
       "\\item 0\n",
       "\\item 0\n",
       "\\item 0\n",
       "\\item 0\n",
       "\\item 0\n",
       "\\item 0\n",
       "\\item 0\n",
       "\\item 0\n",
       "\\item 0\n",
       "\\item 0\n",
       "\\item 0\n",
       "\\item 0\n",
       "\\end{enumerate*}\n"
      ],
      "text/markdown": [
       "1. 0\n",
       "2. 0\n",
       "3. 0\n",
       "4. 0\n",
       "5. 0\n",
       "6. 0\n",
       "7. 0\n",
       "8. 0\n",
       "9. 0\n",
       "10. 0\n",
       "11. 0\n",
       "12. 0\n",
       "13. 0\n",
       "14. 0\n",
       "15. 0\n",
       "16. 0\n",
       "17. 0\n",
       "18. 0\n",
       "19. 0\n",
       "20. 0\n",
       "21. 0\n",
       "22. 0\n",
       "23. 0\n",
       "24. 0\n",
       "25. 0\n",
       "26. 0\n",
       "27. 0\n",
       "28. 0\n",
       "29. 0\n",
       "30. 0\n",
       "31. 0\n",
       "32. 0\n",
       "33. 0\n",
       "34. 0\n",
       "35. 0\n",
       "36. 0\n",
       "37. 0\n",
       "38. 0\n",
       "39. 0\n",
       "40. 0\n",
       "41. 0\n",
       "42. 0\n",
       "43. 0\n",
       "44. 0\n",
       "45. 0\n",
       "46. 0\n",
       "47. 0\n",
       "48. 0\n",
       "49. 0\n",
       "50. 0\n",
       "51. 0\n",
       "52. 0\n",
       "53. 0\n",
       "54. 0\n",
       "55. 0\n",
       "56. 0\n",
       "57. 0\n",
       "58. 0\n",
       "59. 0\n",
       "60. 0\n",
       "61. 0\n",
       "62. 0\n",
       "63. 0\n",
       "64. 0\n",
       "\n",
       "\n"
      ],
      "text/plain": [
       " [1] 0 0 0 0 0 0 0 0 0 0 0 0 0 0 0 0 0 0 0 0 0 0 0 0 0 0 0 0 0 0 0 0 0 0 0 0 0 0\n",
       "[39] 0 0 0 0 0 0 0 0 0 0 0 0 0 0 0 0 0 0 0 0 0 0 0 0 0 0"
      ]
     },
     "metadata": {},
     "output_type": "display_data"
    },
    {
     "data": {
      "text/html": [
       "<ol class=list-inline>\n",
       "\t<li>1</li>\n",
       "\t<li>2</li>\n",
       "\t<li>3</li>\n",
       "\t<li>4</li>\n",
       "\t<li>5</li>\n",
       "\t<li>6</li>\n",
       "\t<li>7</li>\n",
       "\t<li>8</li>\n",
       "\t<li>9</li>\n",
       "\t<li>10</li>\n",
       "\t<li>11</li>\n",
       "\t<li>12</li>\n",
       "\t<li>13</li>\n",
       "\t<li>14</li>\n",
       "\t<li>15</li>\n",
       "\t<li>16</li>\n",
       "\t<li>17</li>\n",
       "\t<li>18</li>\n",
       "\t<li>19</li>\n",
       "\t<li>20</li>\n",
       "\t<li>21</li>\n",
       "\t<li>22</li>\n",
       "\t<li>23</li>\n",
       "\t<li>24</li>\n",
       "\t<li>25</li>\n",
       "\t<li>26</li>\n",
       "\t<li>27</li>\n",
       "\t<li>28</li>\n",
       "\t<li>29</li>\n",
       "\t<li>30</li>\n",
       "\t<li>31</li>\n",
       "\t<li>32</li>\n",
       "\t<li>0</li>\n",
       "\t<li>0</li>\n",
       "\t<li>0</li>\n",
       "\t<li>0</li>\n",
       "\t<li>0</li>\n",
       "\t<li>0</li>\n",
       "\t<li>0</li>\n",
       "\t<li>0</li>\n",
       "\t<li>0</li>\n",
       "\t<li>0</li>\n",
       "\t<li>0</li>\n",
       "\t<li>0</li>\n",
       "\t<li>0</li>\n",
       "\t<li>0</li>\n",
       "\t<li>0</li>\n",
       "\t<li>0</li>\n",
       "\t<li>0</li>\n",
       "\t<li>0</li>\n",
       "\t<li>0</li>\n",
       "\t<li>0</li>\n",
       "\t<li>0</li>\n",
       "\t<li>0</li>\n",
       "\t<li>0</li>\n",
       "\t<li>0</li>\n",
       "\t<li>0</li>\n",
       "\t<li>0</li>\n",
       "\t<li>0</li>\n",
       "\t<li>0</li>\n",
       "\t<li>0</li>\n",
       "\t<li>0</li>\n",
       "\t<li>0</li>\n",
       "\t<li>0</li>\n",
       "</ol>\n"
      ],
      "text/latex": [
       "\\begin{enumerate*}\n",
       "\\item 1\n",
       "\\item 2\n",
       "\\item 3\n",
       "\\item 4\n",
       "\\item 5\n",
       "\\item 6\n",
       "\\item 7\n",
       "\\item 8\n",
       "\\item 9\n",
       "\\item 10\n",
       "\\item 11\n",
       "\\item 12\n",
       "\\item 13\n",
       "\\item 14\n",
       "\\item 15\n",
       "\\item 16\n",
       "\\item 17\n",
       "\\item 18\n",
       "\\item 19\n",
       "\\item 20\n",
       "\\item 21\n",
       "\\item 22\n",
       "\\item 23\n",
       "\\item 24\n",
       "\\item 25\n",
       "\\item 26\n",
       "\\item 27\n",
       "\\item 28\n",
       "\\item 29\n",
       "\\item 30\n",
       "\\item 31\n",
       "\\item 32\n",
       "\\item 0\n",
       "\\item 0\n",
       "\\item 0\n",
       "\\item 0\n",
       "\\item 0\n",
       "\\item 0\n",
       "\\item 0\n",
       "\\item 0\n",
       "\\item 0\n",
       "\\item 0\n",
       "\\item 0\n",
       "\\item 0\n",
       "\\item 0\n",
       "\\item 0\n",
       "\\item 0\n",
       "\\item 0\n",
       "\\item 0\n",
       "\\item 0\n",
       "\\item 0\n",
       "\\item 0\n",
       "\\item 0\n",
       "\\item 0\n",
       "\\item 0\n",
       "\\item 0\n",
       "\\item 0\n",
       "\\item 0\n",
       "\\item 0\n",
       "\\item 0\n",
       "\\item 0\n",
       "\\item 0\n",
       "\\item 0\n",
       "\\item 0\n",
       "\\end{enumerate*}\n"
      ],
      "text/markdown": [
       "1. 1\n",
       "2. 2\n",
       "3. 3\n",
       "4. 4\n",
       "5. 5\n",
       "6. 6\n",
       "7. 7\n",
       "8. 8\n",
       "9. 9\n",
       "10. 10\n",
       "11. 11\n",
       "12. 12\n",
       "13. 13\n",
       "14. 14\n",
       "15. 15\n",
       "16. 16\n",
       "17. 17\n",
       "18. 18\n",
       "19. 19\n",
       "20. 20\n",
       "21. 21\n",
       "22. 22\n",
       "23. 23\n",
       "24. 24\n",
       "25. 25\n",
       "26. 26\n",
       "27. 27\n",
       "28. 28\n",
       "29. 29\n",
       "30. 30\n",
       "31. 31\n",
       "32. 32\n",
       "33. 0\n",
       "34. 0\n",
       "35. 0\n",
       "36. 0\n",
       "37. 0\n",
       "38. 0\n",
       "39. 0\n",
       "40. 0\n",
       "41. 0\n",
       "42. 0\n",
       "43. 0\n",
       "44. 0\n",
       "45. 0\n",
       "46. 0\n",
       "47. 0\n",
       "48. 0\n",
       "49. 0\n",
       "50. 0\n",
       "51. 0\n",
       "52. 0\n",
       "53. 0\n",
       "54. 0\n",
       "55. 0\n",
       "56. 0\n",
       "57. 0\n",
       "58. 0\n",
       "59. 0\n",
       "60. 0\n",
       "61. 0\n",
       "62. 0\n",
       "63. 0\n",
       "64. 0\n",
       "\n",
       "\n"
      ],
      "text/plain": [
       " [1]  1  2  3  4  5  6  7  8  9 10 11 12 13 14 15 16 17 18 19 20 21 22 23 24 25\n",
       "[26] 26 27 28 29 30 31 32  0  0  0  0  0  0  0  0  0  0  0  0  0  0  0  0  0  0\n",
       "[51]  0  0  0  0  0  0  0  0  0  0  0  0  0  0"
      ]
     },
     "metadata": {},
     "output_type": "display_data"
    },
    {
     "data": {
      "text/html": [
       "<ol class=list-inline>\n",
       "\t<li>6</li>\n",
       "\t<li>0</li>\n",
       "\t<li>0</li>\n",
       "\t<li>0</li>\n",
       "\t<li>0</li>\n",
       "\t<li>15</li>\n",
       "\t<li>26</li>\n",
       "\t<li>8</li>\n",
       "\t<li>0</li>\n",
       "\t<li>23</li>\n",
       "\t<li>2</li>\n",
       "\t<li>19</li>\n",
       "\t<li>0</li>\n",
       "\t<li>0</li>\n",
       "\t<li>10</li>\n",
       "\t<li>3</li>\n",
       "\t<li>0</li>\n",
       "\t<li>0</li>\n",
       "\t<li>0</li>\n",
       "\t<li>5</li>\n",
       "\t<li>0</li>\n",
       "\t<li>22</li>\n",
       "\t<li>0</li>\n",
       "\t<li>0</li>\n",
       "\t<li>25</li>\n",
       "\t<li>0</li>\n",
       "\t<li>20</li>\n",
       "\t<li>14</li>\n",
       "\t<li>24</li>\n",
       "\t<li>31</li>\n",
       "\t<li>11</li>\n",
       "\t<li>0</li>\n",
       "\t<li>0</li>\n",
       "\t<li>4</li>\n",
       "\t<li>9</li>\n",
       "\t<li>0</li>\n",
       "\t<li>28</li>\n",
       "\t<li>0</li>\n",
       "\t<li>13</li>\n",
       "\t<li>0</li>\n",
       "\t<li>0</li>\n",
       "\t<li>0</li>\n",
       "\t<li>27</li>\n",
       "\t<li>32</li>\n",
       "\t<li>29</li>\n",
       "\t<li>0</li>\n",
       "\t<li>1</li>\n",
       "\t<li>0</li>\n",
       "\t<li>0</li>\n",
       "\t<li>16</li>\n",
       "\t<li>0</li>\n",
       "\t<li>0</li>\n",
       "\t<li>0</li>\n",
       "\t<li>17</li>\n",
       "\t<li>18</li>\n",
       "\t<li>0</li>\n",
       "\t<li>0</li>\n",
       "\t<li>0</li>\n",
       "\t<li>7</li>\n",
       "\t<li>0</li>\n",
       "\t<li>0</li>\n",
       "\t<li>21</li>\n",
       "\t<li>30</li>\n",
       "\t<li>12</li>\n",
       "</ol>\n"
      ],
      "text/latex": [
       "\\begin{enumerate*}\n",
       "\\item 6\n",
       "\\item 0\n",
       "\\item 0\n",
       "\\item 0\n",
       "\\item 0\n",
       "\\item 15\n",
       "\\item 26\n",
       "\\item 8\n",
       "\\item 0\n",
       "\\item 23\n",
       "\\item 2\n",
       "\\item 19\n",
       "\\item 0\n",
       "\\item 0\n",
       "\\item 10\n",
       "\\item 3\n",
       "\\item 0\n",
       "\\item 0\n",
       "\\item 0\n",
       "\\item 5\n",
       "\\item 0\n",
       "\\item 22\n",
       "\\item 0\n",
       "\\item 0\n",
       "\\item 25\n",
       "\\item 0\n",
       "\\item 20\n",
       "\\item 14\n",
       "\\item 24\n",
       "\\item 31\n",
       "\\item 11\n",
       "\\item 0\n",
       "\\item 0\n",
       "\\item 4\n",
       "\\item 9\n",
       "\\item 0\n",
       "\\item 28\n",
       "\\item 0\n",
       "\\item 13\n",
       "\\item 0\n",
       "\\item 0\n",
       "\\item 0\n",
       "\\item 27\n",
       "\\item 32\n",
       "\\item 29\n",
       "\\item 0\n",
       "\\item 1\n",
       "\\item 0\n",
       "\\item 0\n",
       "\\item 16\n",
       "\\item 0\n",
       "\\item 0\n",
       "\\item 0\n",
       "\\item 17\n",
       "\\item 18\n",
       "\\item 0\n",
       "\\item 0\n",
       "\\item 0\n",
       "\\item 7\n",
       "\\item 0\n",
       "\\item 0\n",
       "\\item 21\n",
       "\\item 30\n",
       "\\item 12\n",
       "\\end{enumerate*}\n"
      ],
      "text/markdown": [
       "1. 6\n",
       "2. 0\n",
       "3. 0\n",
       "4. 0\n",
       "5. 0\n",
       "6. 15\n",
       "7. 26\n",
       "8. 8\n",
       "9. 0\n",
       "10. 23\n",
       "11. 2\n",
       "12. 19\n",
       "13. 0\n",
       "14. 0\n",
       "15. 10\n",
       "16. 3\n",
       "17. 0\n",
       "18. 0\n",
       "19. 0\n",
       "20. 5\n",
       "21. 0\n",
       "22. 22\n",
       "23. 0\n",
       "24. 0\n",
       "25. 25\n",
       "26. 0\n",
       "27. 20\n",
       "28. 14\n",
       "29. 24\n",
       "30. 31\n",
       "31. 11\n",
       "32. 0\n",
       "33. 0\n",
       "34. 4\n",
       "35. 9\n",
       "36. 0\n",
       "37. 28\n",
       "38. 0\n",
       "39. 13\n",
       "40. 0\n",
       "41. 0\n",
       "42. 0\n",
       "43. 27\n",
       "44. 32\n",
       "45. 29\n",
       "46. 0\n",
       "47. 1\n",
       "48. 0\n",
       "49. 0\n",
       "50. 16\n",
       "51. 0\n",
       "52. 0\n",
       "53. 0\n",
       "54. 17\n",
       "55. 18\n",
       "56. 0\n",
       "57. 0\n",
       "58. 0\n",
       "59. 7\n",
       "60. 0\n",
       "61. 0\n",
       "62. 21\n",
       "63. 30\n",
       "64. 12\n",
       "\n",
       "\n"
      ],
      "text/plain": [
       " [1]  6  0  0  0  0 15 26  8  0 23  2 19  0  0 10  3  0  0  0  5  0 22  0  0 25\n",
       "[26]  0 20 14 24 31 11  0  0  4  9  0 28  0 13  0  0  0 27 32 29  0  1  0  0 16\n",
       "[51]  0  0  0 17 18  0  0  0  7  0  0 21 30 12"
      ]
     },
     "metadata": {},
     "output_type": "display_data"
    }
   ],
   "source": [
    "chess_vec <- integer(64)\n",
    "chess_vec\n",
    "chess_vec[1:32] <- 1:32\n",
    "chess_vec\n",
    "chess_vec_r <- sample(chess_vec)\n",
    "chess_vec_r"
   ]
  },
  {
   "cell_type": "markdown",
   "metadata": {},
   "source": [
    "And convert to a matrix:"
   ]
  },
  {
   "cell_type": "code",
   "execution_count": 32,
   "metadata": {},
   "outputs": [
    {
     "data": {
      "text/html": [
       "<table>\n",
       "<tbody>\n",
       "\t<tr><td> 6</td><td> 0</td><td> 0</td><td>25</td><td> 0</td><td> 0</td><td> 0</td><td> 0</td></tr>\n",
       "\t<tr><td> 0</td><td>23</td><td> 0</td><td> 0</td><td> 4</td><td> 0</td><td>16</td><td> 0</td></tr>\n",
       "\t<tr><td> 0</td><td> 2</td><td> 0</td><td>20</td><td> 9</td><td>27</td><td> 0</td><td> 7</td></tr>\n",
       "\t<tr><td> 0</td><td>19</td><td> 5</td><td>14</td><td> 0</td><td>32</td><td> 0</td><td> 0</td></tr>\n",
       "\t<tr><td> 0</td><td> 0</td><td> 0</td><td>24</td><td>28</td><td>29</td><td> 0</td><td> 0</td></tr>\n",
       "\t<tr><td>15</td><td> 0</td><td>22</td><td>31</td><td> 0</td><td> 0</td><td>17</td><td>21</td></tr>\n",
       "\t<tr><td>26</td><td>10</td><td> 0</td><td>11</td><td>13</td><td> 1</td><td>18</td><td>30</td></tr>\n",
       "\t<tr><td> 8</td><td> 3</td><td> 0</td><td> 0</td><td> 0</td><td> 0</td><td> 0</td><td>12</td></tr>\n",
       "</tbody>\n",
       "</table>\n"
      ],
      "text/latex": [
       "\\begin{tabular}{llllllll}\n",
       "\t  6 &  0 &  0 & 25 &  0 &  0 &  0 &  0\\\\\n",
       "\t  0 & 23 &  0 &  0 &  4 &  0 & 16 &  0\\\\\n",
       "\t  0 &  2 &  0 & 20 &  9 & 27 &  0 &  7\\\\\n",
       "\t  0 & 19 &  5 & 14 &  0 & 32 &  0 &  0\\\\\n",
       "\t  0 &  0 &  0 & 24 & 28 & 29 &  0 &  0\\\\\n",
       "\t 15 &  0 & 22 & 31 &  0 &  0 & 17 & 21\\\\\n",
       "\t 26 & 10 &  0 & 11 & 13 &  1 & 18 & 30\\\\\n",
       "\t  8 &  3 &  0 &  0 &  0 &  0 &  0 & 12\\\\\n",
       "\\end{tabular}\n"
      ],
      "text/markdown": [
       "\n",
       "|  6 |  0 |  0 | 25 |  0 |  0 |  0 |  0 | \n",
       "|  0 | 23 |  0 |  0 |  4 |  0 | 16 |  0 | \n",
       "|  0 |  2 |  0 | 20 |  9 | 27 |  0 |  7 | \n",
       "|  0 | 19 |  5 | 14 |  0 | 32 |  0 |  0 | \n",
       "|  0 |  0 |  0 | 24 | 28 | 29 |  0 |  0 | \n",
       "| 15 |  0 | 22 | 31 |  0 |  0 | 17 | 21 | \n",
       "| 26 | 10 |  0 | 11 | 13 |  1 | 18 | 30 | \n",
       "|  8 |  3 |  0 |  0 |  0 |  0 |  0 | 12 | \n",
       "\n",
       "\n"
      ],
      "text/plain": [
       "     [,1] [,2] [,3] [,4] [,5] [,6] [,7] [,8]\n",
       "[1,]  6    0    0   25    0    0    0    0  \n",
       "[2,]  0   23    0    0    4    0   16    0  \n",
       "[3,]  0    2    0   20    9   27    0    7  \n",
       "[4,]  0   19    5   14    0   32    0    0  \n",
       "[5,]  0    0    0   24   28   29    0    0  \n",
       "[6,] 15    0   22   31    0    0   17   21  \n",
       "[7,] 26   10    0   11   13    1   18   30  \n",
       "[8,]  8    3    0    0    0    0    0   12  "
      ]
     },
     "metadata": {},
     "output_type": "display_data"
    }
   ],
   "source": [
    "chess_mat <- matrix(chess_vec_r, nrow = 8)\n",
    "chess_mat"
   ]
  },
  {
   "cell_type": "markdown",
   "metadata": {},
   "source": [
    "Our task is to create a function to convert this matrix into a format in which we have three columns:\n",
    "- One for the row index of the original matrix\n",
    "- One for the column index of the original matrix\n",
    "- One for the value"
   ]
  },
  {
   "cell_type": "code",
   "execution_count": 33,
   "metadata": {},
   "outputs": [],
   "source": [
    "chess_melt <- function(wide_mat = chess_mat)\n",
    "{\n",
    "    dims <- dim(wide_mat)\n",
    "    rows_m <- prod(dims) # get the number of rows for the long matrix\n",
    "    long_mat <- matrix(nrow = rows_m, ncol = 3) # create empty matrix\n",
    "    ind <- 1\n",
    "    \n",
    "    for (row in 1:dims[1]) # across rows\n",
    "    {\n",
    "        \n",
    "        for (col in 1:dims[2]) # across cols\n",
    "        {\n",
    "            long_mat[ind,1] <- row # record the row index\n",
    "            long_mat[ind,2] <- col # record the col index\n",
    "            long_mat[ind,3] <- wide_mat[row,col] # record the value\n",
    "            ind <- ind + 1 # increment the row for the new matrix\n",
    "        } # close for2\n",
    "    } # close for1\n",
    "    \n",
    "    return(long_mat)\n",
    "} # close function"
   ]
  },
  {
   "cell_type": "code",
   "execution_count": 34,
   "metadata": {},
   "outputs": [
    {
     "data": {
      "text/html": [
       "<table>\n",
       "<tbody>\n",
       "\t<tr><td> 6</td><td> 0</td><td> 0</td><td>25</td><td> 0</td><td> 0</td><td> 0</td><td> 0</td></tr>\n",
       "\t<tr><td> 0</td><td>23</td><td> 0</td><td> 0</td><td> 4</td><td> 0</td><td>16</td><td> 0</td></tr>\n",
       "\t<tr><td> 0</td><td> 2</td><td> 0</td><td>20</td><td> 9</td><td>27</td><td> 0</td><td> 7</td></tr>\n",
       "\t<tr><td> 0</td><td>19</td><td> 5</td><td>14</td><td> 0</td><td>32</td><td> 0</td><td> 0</td></tr>\n",
       "\t<tr><td> 0</td><td> 0</td><td> 0</td><td>24</td><td>28</td><td>29</td><td> 0</td><td> 0</td></tr>\n",
       "\t<tr><td>15</td><td> 0</td><td>22</td><td>31</td><td> 0</td><td> 0</td><td>17</td><td>21</td></tr>\n",
       "\t<tr><td>26</td><td>10</td><td> 0</td><td>11</td><td>13</td><td> 1</td><td>18</td><td>30</td></tr>\n",
       "\t<tr><td> 8</td><td> 3</td><td> 0</td><td> 0</td><td> 0</td><td> 0</td><td> 0</td><td>12</td></tr>\n",
       "</tbody>\n",
       "</table>\n"
      ],
      "text/latex": [
       "\\begin{tabular}{llllllll}\n",
       "\t  6 &  0 &  0 & 25 &  0 &  0 &  0 &  0\\\\\n",
       "\t  0 & 23 &  0 &  0 &  4 &  0 & 16 &  0\\\\\n",
       "\t  0 &  2 &  0 & 20 &  9 & 27 &  0 &  7\\\\\n",
       "\t  0 & 19 &  5 & 14 &  0 & 32 &  0 &  0\\\\\n",
       "\t  0 &  0 &  0 & 24 & 28 & 29 &  0 &  0\\\\\n",
       "\t 15 &  0 & 22 & 31 &  0 &  0 & 17 & 21\\\\\n",
       "\t 26 & 10 &  0 & 11 & 13 &  1 & 18 & 30\\\\\n",
       "\t  8 &  3 &  0 &  0 &  0 &  0 &  0 & 12\\\\\n",
       "\\end{tabular}\n"
      ],
      "text/markdown": [
       "\n",
       "|  6 |  0 |  0 | 25 |  0 |  0 |  0 |  0 | \n",
       "|  0 | 23 |  0 |  0 |  4 |  0 | 16 |  0 | \n",
       "|  0 |  2 |  0 | 20 |  9 | 27 |  0 |  7 | \n",
       "|  0 | 19 |  5 | 14 |  0 | 32 |  0 |  0 | \n",
       "|  0 |  0 |  0 | 24 | 28 | 29 |  0 |  0 | \n",
       "| 15 |  0 | 22 | 31 |  0 |  0 | 17 | 21 | \n",
       "| 26 | 10 |  0 | 11 | 13 |  1 | 18 | 30 | \n",
       "|  8 |  3 |  0 |  0 |  0 |  0 |  0 | 12 | \n",
       "\n",
       "\n"
      ],
      "text/plain": [
       "     [,1] [,2] [,3] [,4] [,5] [,6] [,7] [,8]\n",
       "[1,]  6    0    0   25    0    0    0    0  \n",
       "[2,]  0   23    0    0    4    0   16    0  \n",
       "[3,]  0    2    0   20    9   27    0    7  \n",
       "[4,]  0   19    5   14    0   32    0    0  \n",
       "[5,]  0    0    0   24   28   29    0    0  \n",
       "[6,] 15    0   22   31    0    0   17   21  \n",
       "[7,] 26   10    0   11   13    1   18   30  \n",
       "[8,]  8    3    0    0    0    0    0   12  "
      ]
     },
     "metadata": {},
     "output_type": "display_data"
    }
   ],
   "source": [
    "chess_mat"
   ]
  },
  {
   "cell_type": "code",
   "execution_count": 35,
   "metadata": {},
   "outputs": [
    {
     "data": {
      "text/html": [
       "<table>\n",
       "<tbody>\n",
       "\t<tr><td>1 </td><td>1 </td><td> 6</td></tr>\n",
       "\t<tr><td>1 </td><td>2 </td><td> 0</td></tr>\n",
       "\t<tr><td>1 </td><td>3 </td><td> 0</td></tr>\n",
       "\t<tr><td>1 </td><td>4 </td><td>25</td></tr>\n",
       "\t<tr><td>1 </td><td>5 </td><td> 0</td></tr>\n",
       "\t<tr><td>1 </td><td>6 </td><td> 0</td></tr>\n",
       "\t<tr><td>1 </td><td>7 </td><td> 0</td></tr>\n",
       "\t<tr><td>1 </td><td>8 </td><td> 0</td></tr>\n",
       "\t<tr><td>2 </td><td>1 </td><td> 0</td></tr>\n",
       "\t<tr><td>2 </td><td>2 </td><td>23</td></tr>\n",
       "\t<tr><td>2 </td><td>3 </td><td> 0</td></tr>\n",
       "\t<tr><td>2 </td><td>4 </td><td> 0</td></tr>\n",
       "\t<tr><td>2 </td><td>5 </td><td> 4</td></tr>\n",
       "\t<tr><td>2 </td><td>6 </td><td> 0</td></tr>\n",
       "\t<tr><td>2 </td><td>7 </td><td>16</td></tr>\n",
       "\t<tr><td>2 </td><td>8 </td><td> 0</td></tr>\n",
       "\t<tr><td>3 </td><td>1 </td><td> 0</td></tr>\n",
       "\t<tr><td>3 </td><td>2 </td><td> 2</td></tr>\n",
       "\t<tr><td>3 </td><td>3 </td><td> 0</td></tr>\n",
       "\t<tr><td>3 </td><td>4 </td><td>20</td></tr>\n",
       "\t<tr><td>3 </td><td>5 </td><td> 9</td></tr>\n",
       "\t<tr><td>3 </td><td>6 </td><td>27</td></tr>\n",
       "\t<tr><td>3 </td><td>7 </td><td> 0</td></tr>\n",
       "\t<tr><td>3 </td><td>8 </td><td> 7</td></tr>\n",
       "\t<tr><td>4 </td><td>1 </td><td> 0</td></tr>\n",
       "\t<tr><td>4 </td><td>2 </td><td>19</td></tr>\n",
       "\t<tr><td>4 </td><td>3 </td><td> 5</td></tr>\n",
       "\t<tr><td>4 </td><td>4 </td><td>14</td></tr>\n",
       "\t<tr><td>4 </td><td>5 </td><td> 0</td></tr>\n",
       "\t<tr><td>4 </td><td>6 </td><td>32</td></tr>\n",
       "\t<tr><td>⋮</td><td>⋮</td><td>⋮</td></tr>\n",
       "\t<tr><td>5 </td><td>3 </td><td> 0</td></tr>\n",
       "\t<tr><td>5 </td><td>4 </td><td>24</td></tr>\n",
       "\t<tr><td>5 </td><td>5 </td><td>28</td></tr>\n",
       "\t<tr><td>5 </td><td>6 </td><td>29</td></tr>\n",
       "\t<tr><td>5 </td><td>7 </td><td> 0</td></tr>\n",
       "\t<tr><td>5 </td><td>8 </td><td> 0</td></tr>\n",
       "\t<tr><td>6 </td><td>1 </td><td>15</td></tr>\n",
       "\t<tr><td>6 </td><td>2 </td><td> 0</td></tr>\n",
       "\t<tr><td>6 </td><td>3 </td><td>22</td></tr>\n",
       "\t<tr><td>6 </td><td>4 </td><td>31</td></tr>\n",
       "\t<tr><td>6 </td><td>5 </td><td> 0</td></tr>\n",
       "\t<tr><td>6 </td><td>6 </td><td> 0</td></tr>\n",
       "\t<tr><td>6 </td><td>7 </td><td>17</td></tr>\n",
       "\t<tr><td>6 </td><td>8 </td><td>21</td></tr>\n",
       "\t<tr><td>7 </td><td>1 </td><td>26</td></tr>\n",
       "\t<tr><td>7 </td><td>2 </td><td>10</td></tr>\n",
       "\t<tr><td>7 </td><td>3 </td><td> 0</td></tr>\n",
       "\t<tr><td>7 </td><td>4 </td><td>11</td></tr>\n",
       "\t<tr><td>7 </td><td>5 </td><td>13</td></tr>\n",
       "\t<tr><td>7 </td><td>6 </td><td> 1</td></tr>\n",
       "\t<tr><td>7 </td><td>7 </td><td>18</td></tr>\n",
       "\t<tr><td>7 </td><td>8 </td><td>30</td></tr>\n",
       "\t<tr><td>8 </td><td>1 </td><td> 8</td></tr>\n",
       "\t<tr><td>8 </td><td>2 </td><td> 3</td></tr>\n",
       "\t<tr><td>8 </td><td>3 </td><td> 0</td></tr>\n",
       "\t<tr><td>8 </td><td>4 </td><td> 0</td></tr>\n",
       "\t<tr><td>8 </td><td>5 </td><td> 0</td></tr>\n",
       "\t<tr><td>8 </td><td>6 </td><td> 0</td></tr>\n",
       "\t<tr><td>8 </td><td>7 </td><td> 0</td></tr>\n",
       "\t<tr><td>8 </td><td>8 </td><td>12</td></tr>\n",
       "</tbody>\n",
       "</table>\n"
      ],
      "text/latex": [
       "\\begin{tabular}{lll}\n",
       "\t 1  & 1  &  6\\\\\n",
       "\t 1  & 2  &  0\\\\\n",
       "\t 1  & 3  &  0\\\\\n",
       "\t 1  & 4  & 25\\\\\n",
       "\t 1  & 5  &  0\\\\\n",
       "\t 1  & 6  &  0\\\\\n",
       "\t 1  & 7  &  0\\\\\n",
       "\t 1  & 8  &  0\\\\\n",
       "\t 2  & 1  &  0\\\\\n",
       "\t 2  & 2  & 23\\\\\n",
       "\t 2  & 3  &  0\\\\\n",
       "\t 2  & 4  &  0\\\\\n",
       "\t 2  & 5  &  4\\\\\n",
       "\t 2  & 6  &  0\\\\\n",
       "\t 2  & 7  & 16\\\\\n",
       "\t 2  & 8  &  0\\\\\n",
       "\t 3  & 1  &  0\\\\\n",
       "\t 3  & 2  &  2\\\\\n",
       "\t 3  & 3  &  0\\\\\n",
       "\t 3  & 4  & 20\\\\\n",
       "\t 3  & 5  &  9\\\\\n",
       "\t 3  & 6  & 27\\\\\n",
       "\t 3  & 7  &  0\\\\\n",
       "\t 3  & 8  &  7\\\\\n",
       "\t 4  & 1  &  0\\\\\n",
       "\t 4  & 2  & 19\\\\\n",
       "\t 4  & 3  &  5\\\\\n",
       "\t 4  & 4  & 14\\\\\n",
       "\t 4  & 5  &  0\\\\\n",
       "\t 4  & 6  & 32\\\\\n",
       "\t ⋮ & ⋮ & ⋮\\\\\n",
       "\t 5  & 3  &  0\\\\\n",
       "\t 5  & 4  & 24\\\\\n",
       "\t 5  & 5  & 28\\\\\n",
       "\t 5  & 6  & 29\\\\\n",
       "\t 5  & 7  &  0\\\\\n",
       "\t 5  & 8  &  0\\\\\n",
       "\t 6  & 1  & 15\\\\\n",
       "\t 6  & 2  &  0\\\\\n",
       "\t 6  & 3  & 22\\\\\n",
       "\t 6  & 4  & 31\\\\\n",
       "\t 6  & 5  &  0\\\\\n",
       "\t 6  & 6  &  0\\\\\n",
       "\t 6  & 7  & 17\\\\\n",
       "\t 6  & 8  & 21\\\\\n",
       "\t 7  & 1  & 26\\\\\n",
       "\t 7  & 2  & 10\\\\\n",
       "\t 7  & 3  &  0\\\\\n",
       "\t 7  & 4  & 11\\\\\n",
       "\t 7  & 5  & 13\\\\\n",
       "\t 7  & 6  &  1\\\\\n",
       "\t 7  & 7  & 18\\\\\n",
       "\t 7  & 8  & 30\\\\\n",
       "\t 8  & 1  &  8\\\\\n",
       "\t 8  & 2  &  3\\\\\n",
       "\t 8  & 3  &  0\\\\\n",
       "\t 8  & 4  &  0\\\\\n",
       "\t 8  & 5  &  0\\\\\n",
       "\t 8  & 6  &  0\\\\\n",
       "\t 8  & 7  &  0\\\\\n",
       "\t 8  & 8  & 12\\\\\n",
       "\\end{tabular}\n"
      ],
      "text/markdown": [
       "\n",
       "| 1  | 1  |  6 | \n",
       "| 1  | 2  |  0 | \n",
       "| 1  | 3  |  0 | \n",
       "| 1  | 4  | 25 | \n",
       "| 1  | 5  |  0 | \n",
       "| 1  | 6  |  0 | \n",
       "| 1  | 7  |  0 | \n",
       "| 1  | 8  |  0 | \n",
       "| 2  | 1  |  0 | \n",
       "| 2  | 2  | 23 | \n",
       "| 2  | 3  |  0 | \n",
       "| 2  | 4  |  0 | \n",
       "| 2  | 5  |  4 | \n",
       "| 2  | 6  |  0 | \n",
       "| 2  | 7  | 16 | \n",
       "| 2  | 8  |  0 | \n",
       "| 3  | 1  |  0 | \n",
       "| 3  | 2  |  2 | \n",
       "| 3  | 3  |  0 | \n",
       "| 3  | 4  | 20 | \n",
       "| 3  | 5  |  9 | \n",
       "| 3  | 6  | 27 | \n",
       "| 3  | 7  |  0 | \n",
       "| 3  | 8  |  7 | \n",
       "| 4  | 1  |  0 | \n",
       "| 4  | 2  | 19 | \n",
       "| 4  | 3  |  5 | \n",
       "| 4  | 4  | 14 | \n",
       "| 4  | 5  |  0 | \n",
       "| 4  | 6  | 32 | \n",
       "| ⋮ | ⋮ | ⋮ | \n",
       "| 5  | 3  |  0 | \n",
       "| 5  | 4  | 24 | \n",
       "| 5  | 5  | 28 | \n",
       "| 5  | 6  | 29 | \n",
       "| 5  | 7  |  0 | \n",
       "| 5  | 8  |  0 | \n",
       "| 6  | 1  | 15 | \n",
       "| 6  | 2  |  0 | \n",
       "| 6  | 3  | 22 | \n",
       "| 6  | 4  | 31 | \n",
       "| 6  | 5  |  0 | \n",
       "| 6  | 6  |  0 | \n",
       "| 6  | 7  | 17 | \n",
       "| 6  | 8  | 21 | \n",
       "| 7  | 1  | 26 | \n",
       "| 7  | 2  | 10 | \n",
       "| 7  | 3  |  0 | \n",
       "| 7  | 4  | 11 | \n",
       "| 7  | 5  | 13 | \n",
       "| 7  | 6  |  1 | \n",
       "| 7  | 7  | 18 | \n",
       "| 7  | 8  | 30 | \n",
       "| 8  | 1  |  8 | \n",
       "| 8  | 2  |  3 | \n",
       "| 8  | 3  |  0 | \n",
       "| 8  | 4  |  0 | \n",
       "| 8  | 5  |  0 | \n",
       "| 8  | 6  |  0 | \n",
       "| 8  | 7  |  0 | \n",
       "| 8  | 8  | 12 | \n",
       "\n",
       "\n"
      ],
      "text/plain": [
       "      [,1] [,2] [,3]\n",
       " [1,] 1    1     6  \n",
       " [2,] 1    2     0  \n",
       " [3,] 1    3     0  \n",
       " [4,] 1    4    25  \n",
       " [5,] 1    5     0  \n",
       " [6,] 1    6     0  \n",
       " [7,] 1    7     0  \n",
       " [8,] 1    8     0  \n",
       " [9,] 2    1     0  \n",
       "[10,] 2    2    23  \n",
       "[11,] 2    3     0  \n",
       "[12,] 2    4     0  \n",
       "[13,] 2    5     4  \n",
       "[14,] 2    6     0  \n",
       "[15,] 2    7    16  \n",
       "[16,] 2    8     0  \n",
       "[17,] 3    1     0  \n",
       "[18,] 3    2     2  \n",
       "[19,] 3    3     0  \n",
       "[20,] 3    4    20  \n",
       "[21,] 3    5     9  \n",
       "[22,] 3    6    27  \n",
       "[23,] 3    7     0  \n",
       "[24,] 3    8     7  \n",
       "[25,] 4    1     0  \n",
       "[26,] 4    2    19  \n",
       "[27,] 4    3     5  \n",
       "[28,] 4    4    14  \n",
       "[29,] 4    5     0  \n",
       "[30,] 4    6    32  \n",
       "[31,] ⋮    ⋮    ⋮   \n",
       "[32,] 5    3     0  \n",
       "[33,] 5    4    24  \n",
       "[34,] 5    5    28  \n",
       "[35,] 5    6    29  \n",
       "[36,] 5    7     0  \n",
       "[37,] 5    8     0  \n",
       "[38,] 6    1    15  \n",
       "[39,] 6    2     0  \n",
       "[40,] 6    3    22  \n",
       "[41,] 6    4    31  \n",
       "[42,] 6    5     0  \n",
       "[43,] 6    6     0  \n",
       "[44,] 6    7    17  \n",
       "[45,] 6    8    21  \n",
       "[46,] 7    1    26  \n",
       "[47,] 7    2    10  \n",
       "[48,] 7    3     0  \n",
       "[49,] 7    4    11  \n",
       "[50,] 7    5    13  \n",
       "[51,] 7    6     1  \n",
       "[52,] 7    7    18  \n",
       "[53,] 7    8    30  \n",
       "[54,] 8    1     8  \n",
       "[55,] 8    2     3  \n",
       "[56,] 8    3     0  \n",
       "[57,] 8    4     0  \n",
       "[58,] 8    5     0  \n",
       "[59,] 8    6     0  \n",
       "[60,] 8    7     0  \n",
       "[61,] 8    8    12  "
      ]
     },
     "metadata": {},
     "output_type": "display_data"
    }
   ],
   "source": [
    "chess_mat2 <- chess_melt()\n",
    "chess_mat2"
   ]
  },
  {
   "cell_type": "markdown",
   "metadata": {},
   "source": [
    "### Reshape a long matrix into a wide one"
   ]
  },
  {
   "cell_type": "markdown",
   "metadata": {},
   "source": [
    "Now we are supposed to write a second function to convert the long matrix back to the original one\n",
    "\n",
    "Note that the dimensions of the wide matrix should be determined from the max values of the first and second columns of the long matrix"
   ]
  },
  {
   "cell_type": "code",
   "execution_count": 36,
   "metadata": {},
   "outputs": [],
   "source": [
    "chess_cast <- function(long_mat = chess_mat2)\n",
    "{\n",
    "    rows_m <- max(long_mat[,1]) # get the row for wide matrix\n",
    "    cols_m <- max(long_mat[,2]) # get the col for wide matrix\n",
    "    wide_mat <- matrix(nrow = rows_m, ncol = cols_m) # create empty matrix\n",
    "\n",
    "    for (row in 1:nrow(long_mat)) # across rows of long matrix\n",
    "    {\n",
    "        row_w <- long_mat[row,1] # row index for wide matrix\n",
    "        col_w <- long_mat[row,2] # col index for wide matrix\n",
    "        val <- long_mat[row,3] # the value\n",
    "        \n",
    "        wide_mat[row_w,col_w] <- val\n",
    "    }\n",
    "    \n",
    "    return(wide_mat)\n",
    "} # close function"
   ]
  },
  {
   "cell_type": "code",
   "execution_count": 37,
   "metadata": {},
   "outputs": [],
   "source": [
    "chess_mat3 <- chess_cast(chess_mat2)"
   ]
  },
  {
   "cell_type": "code",
   "execution_count": 38,
   "metadata": {},
   "outputs": [
    {
     "data": {
      "text/html": [
       "<table>\n",
       "<tbody>\n",
       "\t<tr><td> 6</td><td> 0</td><td> 0</td><td>25</td><td> 0</td><td> 0</td><td> 0</td><td> 0</td></tr>\n",
       "\t<tr><td> 0</td><td>23</td><td> 0</td><td> 0</td><td> 4</td><td> 0</td><td>16</td><td> 0</td></tr>\n",
       "\t<tr><td> 0</td><td> 2</td><td> 0</td><td>20</td><td> 9</td><td>27</td><td> 0</td><td> 7</td></tr>\n",
       "\t<tr><td> 0</td><td>19</td><td> 5</td><td>14</td><td> 0</td><td>32</td><td> 0</td><td> 0</td></tr>\n",
       "\t<tr><td> 0</td><td> 0</td><td> 0</td><td>24</td><td>28</td><td>29</td><td> 0</td><td> 0</td></tr>\n",
       "\t<tr><td>15</td><td> 0</td><td>22</td><td>31</td><td> 0</td><td> 0</td><td>17</td><td>21</td></tr>\n",
       "\t<tr><td>26</td><td>10</td><td> 0</td><td>11</td><td>13</td><td> 1</td><td>18</td><td>30</td></tr>\n",
       "\t<tr><td> 8</td><td> 3</td><td> 0</td><td> 0</td><td> 0</td><td> 0</td><td> 0</td><td>12</td></tr>\n",
       "</tbody>\n",
       "</table>\n"
      ],
      "text/latex": [
       "\\begin{tabular}{llllllll}\n",
       "\t  6 &  0 &  0 & 25 &  0 &  0 &  0 &  0\\\\\n",
       "\t  0 & 23 &  0 &  0 &  4 &  0 & 16 &  0\\\\\n",
       "\t  0 &  2 &  0 & 20 &  9 & 27 &  0 &  7\\\\\n",
       "\t  0 & 19 &  5 & 14 &  0 & 32 &  0 &  0\\\\\n",
       "\t  0 &  0 &  0 & 24 & 28 & 29 &  0 &  0\\\\\n",
       "\t 15 &  0 & 22 & 31 &  0 &  0 & 17 & 21\\\\\n",
       "\t 26 & 10 &  0 & 11 & 13 &  1 & 18 & 30\\\\\n",
       "\t  8 &  3 &  0 &  0 &  0 &  0 &  0 & 12\\\\\n",
       "\\end{tabular}\n"
      ],
      "text/markdown": [
       "\n",
       "|  6 |  0 |  0 | 25 |  0 |  0 |  0 |  0 | \n",
       "|  0 | 23 |  0 |  0 |  4 |  0 | 16 |  0 | \n",
       "|  0 |  2 |  0 | 20 |  9 | 27 |  0 |  7 | \n",
       "|  0 | 19 |  5 | 14 |  0 | 32 |  0 |  0 | \n",
       "|  0 |  0 |  0 | 24 | 28 | 29 |  0 |  0 | \n",
       "| 15 |  0 | 22 | 31 |  0 |  0 | 17 | 21 | \n",
       "| 26 | 10 |  0 | 11 | 13 |  1 | 18 | 30 | \n",
       "|  8 |  3 |  0 |  0 |  0 |  0 |  0 | 12 | \n",
       "\n",
       "\n"
      ],
      "text/plain": [
       "     [,1] [,2] [,3] [,4] [,5] [,6] [,7] [,8]\n",
       "[1,]  6    0    0   25    0    0    0    0  \n",
       "[2,]  0   23    0    0    4    0   16    0  \n",
       "[3,]  0    2    0   20    9   27    0    7  \n",
       "[4,]  0   19    5   14    0   32    0    0  \n",
       "[5,]  0    0    0   24   28   29    0    0  \n",
       "[6,] 15    0   22   31    0    0   17   21  \n",
       "[7,] 26   10    0   11   13    1   18   30  \n",
       "[8,]  8    3    0    0    0    0    0   12  "
      ]
     },
     "metadata": {},
     "output_type": "display_data"
    }
   ],
   "source": [
    "chess_mat3"
   ]
  },
  {
   "cell_type": "code",
   "execution_count": 39,
   "metadata": {},
   "outputs": [
    {
     "data": {
      "text/html": [
       "TRUE"
      ],
      "text/latex": [
       "TRUE"
      ],
      "text/markdown": [
       "TRUE"
      ],
      "text/plain": [
       "[1] TRUE"
      ]
     },
     "metadata": {},
     "output_type": "display_data"
    }
   ],
   "source": [
    "identical(chess_mat, chess_mat3)"
   ]
  },
  {
   "cell_type": "markdown",
   "metadata": {},
   "source": [
    "See we get back the original matrix"
   ]
  },
  {
   "cell_type": "markdown",
   "metadata": {},
   "source": [
    "## \\*plying through matrices "
   ]
  },
  {
   "cell_type": "markdown",
   "metadata": {},
   "source": [
    "Let's first create a random matrix:"
   ]
  },
  {
   "cell_type": "code",
   "execution_count": 40,
   "metadata": {},
   "outputs": [
    {
     "data": {
      "text/html": [
       "<table>\n",
       "<tbody>\n",
       "\t<tr><td> 5</td><td> 1</td><td> 6</td><td>13</td><td> 7</td></tr>\n",
       "\t<tr><td>19</td><td>12</td><td>15</td><td>20</td><td> 4</td></tr>\n",
       "\t<tr><td>18</td><td> 9</td><td>16</td><td> 3</td><td> 8</td></tr>\n",
       "\t<tr><td>10</td><td>14</td><td>17</td><td> 2</td><td>11</td></tr>\n",
       "</tbody>\n",
       "</table>\n"
      ],
      "text/latex": [
       "\\begin{tabular}{lllll}\n",
       "\t  5 &  1 &  6 & 13 &  7\\\\\n",
       "\t 19 & 12 & 15 & 20 &  4\\\\\n",
       "\t 18 &  9 & 16 &  3 &  8\\\\\n",
       "\t 10 & 14 & 17 &  2 & 11\\\\\n",
       "\\end{tabular}\n"
      ],
      "text/markdown": [
       "\n",
       "|  5 |  1 |  6 | 13 |  7 | \n",
       "| 19 | 12 | 15 | 20 |  4 | \n",
       "| 18 |  9 | 16 |  3 |  8 | \n",
       "| 10 | 14 | 17 |  2 | 11 | \n",
       "\n",
       "\n"
      ],
      "text/plain": [
       "     [,1] [,2] [,3] [,4] [,5]\n",
       "[1,]  5    1    6   13    7  \n",
       "[2,] 19   12   15   20    4  \n",
       "[3,] 18    9   16    3    8  \n",
       "[4,] 10   14   17    2   11  "
      ]
     },
     "metadata": {},
     "output_type": "display_data"
    }
   ],
   "source": [
    "mat_r <- matrix(sample(20), nrow = 4)\n",
    "mat_r"
   ]
  },
  {
   "cell_type": "markdown",
   "metadata": {},
   "source": [
    "### applying on row margin"
   ]
  },
  {
   "cell_type": "markdown",
   "metadata": {},
   "source": [
    "Let's get the row minimums:"
   ]
  },
  {
   "cell_type": "code",
   "execution_count": 41,
   "metadata": {},
   "outputs": [
    {
     "data": {
      "text/html": [
       "<ol class=list-inline>\n",
       "\t<li>1</li>\n",
       "\t<li>4</li>\n",
       "\t<li>3</li>\n",
       "\t<li>2</li>\n",
       "</ol>\n"
      ],
      "text/latex": [
       "\\begin{enumerate*}\n",
       "\\item 1\n",
       "\\item 4\n",
       "\\item 3\n",
       "\\item 2\n",
       "\\end{enumerate*}\n"
      ],
      "text/markdown": [
       "1. 1\n",
       "2. 4\n",
       "3. 3\n",
       "4. 2\n",
       "\n",
       "\n"
      ],
      "text/plain": [
       "[1] 1 4 3 2"
      ]
     },
     "metadata": {},
     "output_type": "display_data"
    }
   ],
   "source": [
    "apply(mat_r, 1, min)"
   ]
  },
  {
   "cell_type": "markdown",
   "metadata": {},
   "source": [
    "And get the minimum and maximums in one time:"
   ]
  },
  {
   "cell_type": "code",
   "execution_count": 42,
   "metadata": {},
   "outputs": [
    {
     "data": {
      "text/html": [
       "<table>\n",
       "<tbody>\n",
       "\t<tr><td> 1</td><td> 4</td><td> 3</td><td> 2</td></tr>\n",
       "\t<tr><td>13</td><td>20</td><td>18</td><td>17</td></tr>\n",
       "</tbody>\n",
       "</table>\n"
      ],
      "text/latex": [
       "\\begin{tabular}{llll}\n",
       "\t  1 &  4 &  3 &  2\\\\\n",
       "\t 13 & 20 & 18 & 17\\\\\n",
       "\\end{tabular}\n"
      ],
      "text/markdown": [
       "\n",
       "|  1 |  4 |  3 |  2 | \n",
       "| 13 | 20 | 18 | 17 | \n",
       "\n",
       "\n"
      ],
      "text/plain": [
       "     [,1] [,2] [,3] [,4]\n",
       "[1,]  1    4    3    2  \n",
       "[2,] 13   20   18   17  "
      ]
     },
     "metadata": {},
     "output_type": "display_data"
    }
   ],
   "source": [
    "apply(mat_r, 1, function(x) c(min(x), max(x)))"
   ]
  },
  {
   "cell_type": "markdown",
   "metadata": {},
   "source": [
    "### applying on column margin"
   ]
  },
  {
   "cell_type": "markdown",
   "metadata": {},
   "source": [
    "Let's get the col minimums:"
   ]
  },
  {
   "cell_type": "code",
   "execution_count": 43,
   "metadata": {},
   "outputs": [
    {
     "data": {
      "text/html": [
       "<ol class=list-inline>\n",
       "\t<li>5</li>\n",
       "\t<li>1</li>\n",
       "\t<li>6</li>\n",
       "\t<li>2</li>\n",
       "\t<li>4</li>\n",
       "</ol>\n"
      ],
      "text/latex": [
       "\\begin{enumerate*}\n",
       "\\item 5\n",
       "\\item 1\n",
       "\\item 6\n",
       "\\item 2\n",
       "\\item 4\n",
       "\\end{enumerate*}\n"
      ],
      "text/markdown": [
       "1. 5\n",
       "2. 1\n",
       "3. 6\n",
       "4. 2\n",
       "5. 4\n",
       "\n",
       "\n"
      ],
      "text/plain": [
       "[1] 5 1 6 2 4"
      ]
     },
     "metadata": {},
     "output_type": "display_data"
    }
   ],
   "source": [
    "apply(mat_r, 2, min)"
   ]
  },
  {
   "cell_type": "markdown",
   "metadata": {},
   "source": [
    "And minimum and maximums in one time:"
   ]
  },
  {
   "cell_type": "code",
   "execution_count": 44,
   "metadata": {},
   "outputs": [
    {
     "data": {
      "text/html": [
       "<table>\n",
       "<tbody>\n",
       "\t<tr><td> 5</td><td> 1</td><td> 6</td><td> 2</td><td> 4</td></tr>\n",
       "\t<tr><td>19</td><td>14</td><td>17</td><td>20</td><td>11</td></tr>\n",
       "</tbody>\n",
       "</table>\n"
      ],
      "text/latex": [
       "\\begin{tabular}{lllll}\n",
       "\t  5 &  1 &  6 &  2 &  4\\\\\n",
       "\t 19 & 14 & 17 & 20 & 11\\\\\n",
       "\\end{tabular}\n"
      ],
      "text/markdown": [
       "\n",
       "|  5 |  1 |  6 |  2 |  4 | \n",
       "| 19 | 14 | 17 | 20 | 11 | \n",
       "\n",
       "\n"
      ],
      "text/plain": [
       "     [,1] [,2] [,3] [,4] [,5]\n",
       "[1,]  5    1    6    2    4  \n",
       "[2,] 19   14   17   20   11  "
      ]
     },
     "metadata": {},
     "output_type": "display_data"
    }
   ],
   "source": [
    "apply(mat_r, 2, function(x) c(min(x), max(x)))"
   ]
  },
  {
   "cell_type": "markdown",
   "metadata": {},
   "source": [
    "### An application: Collapse a matrix"
   ]
  },
  {
   "cell_type": "markdown",
   "metadata": {},
   "source": [
    "Suppose we want to sum each two column pairs into a single one"
   ]
  },
  {
   "cell_type": "code",
   "execution_count": 45,
   "metadata": {},
   "outputs": [],
   "source": [
    "collapse_mat <- function(input_mat = chess_mat3)\n",
    "{\n",
    "    coln <- ncol(input_mat) # get column count\n",
    "    \n",
    "    if (coln %% 2 == 1) # if odd number of columns\n",
    "    {\n",
    "        input_mat <- cbind(input_mat, 0) # add a column of 0s, not that 0 is recycled\n",
    "        coln <- coln + 1  # increment column count\n",
    "    }\n",
    "    \n",
    "    \n",
    "    out_mat <- sapply(1:(coln/2),\n",
    "                      function(x) input_mat[,2*x] + input_mat[,2*x -1]) # add two adjacent columns into one\n",
    "    \n",
    "    return(out_mat)\n",
    "}"
   ]
  },
  {
   "cell_type": "code",
   "execution_count": 46,
   "metadata": {},
   "outputs": [
    {
     "data": {
      "text/html": [
       "<table>\n",
       "<tbody>\n",
       "\t<tr><td> 6</td><td> 0</td><td> 0</td><td>25</td><td> 0</td><td> 0</td><td> 0</td><td> 0</td></tr>\n",
       "\t<tr><td> 0</td><td>23</td><td> 0</td><td> 0</td><td> 4</td><td> 0</td><td>16</td><td> 0</td></tr>\n",
       "\t<tr><td> 0</td><td> 2</td><td> 0</td><td>20</td><td> 9</td><td>27</td><td> 0</td><td> 7</td></tr>\n",
       "\t<tr><td> 0</td><td>19</td><td> 5</td><td>14</td><td> 0</td><td>32</td><td> 0</td><td> 0</td></tr>\n",
       "\t<tr><td> 0</td><td> 0</td><td> 0</td><td>24</td><td>28</td><td>29</td><td> 0</td><td> 0</td></tr>\n",
       "\t<tr><td>15</td><td> 0</td><td>22</td><td>31</td><td> 0</td><td> 0</td><td>17</td><td>21</td></tr>\n",
       "\t<tr><td>26</td><td>10</td><td> 0</td><td>11</td><td>13</td><td> 1</td><td>18</td><td>30</td></tr>\n",
       "\t<tr><td> 8</td><td> 3</td><td> 0</td><td> 0</td><td> 0</td><td> 0</td><td> 0</td><td>12</td></tr>\n",
       "</tbody>\n",
       "</table>\n"
      ],
      "text/latex": [
       "\\begin{tabular}{llllllll}\n",
       "\t  6 &  0 &  0 & 25 &  0 &  0 &  0 &  0\\\\\n",
       "\t  0 & 23 &  0 &  0 &  4 &  0 & 16 &  0\\\\\n",
       "\t  0 &  2 &  0 & 20 &  9 & 27 &  0 &  7\\\\\n",
       "\t  0 & 19 &  5 & 14 &  0 & 32 &  0 &  0\\\\\n",
       "\t  0 &  0 &  0 & 24 & 28 & 29 &  0 &  0\\\\\n",
       "\t 15 &  0 & 22 & 31 &  0 &  0 & 17 & 21\\\\\n",
       "\t 26 & 10 &  0 & 11 & 13 &  1 & 18 & 30\\\\\n",
       "\t  8 &  3 &  0 &  0 &  0 &  0 &  0 & 12\\\\\n",
       "\\end{tabular}\n"
      ],
      "text/markdown": [
       "\n",
       "|  6 |  0 |  0 | 25 |  0 |  0 |  0 |  0 | \n",
       "|  0 | 23 |  0 |  0 |  4 |  0 | 16 |  0 | \n",
       "|  0 |  2 |  0 | 20 |  9 | 27 |  0 |  7 | \n",
       "|  0 | 19 |  5 | 14 |  0 | 32 |  0 |  0 | \n",
       "|  0 |  0 |  0 | 24 | 28 | 29 |  0 |  0 | \n",
       "| 15 |  0 | 22 | 31 |  0 |  0 | 17 | 21 | \n",
       "| 26 | 10 |  0 | 11 | 13 |  1 | 18 | 30 | \n",
       "|  8 |  3 |  0 |  0 |  0 |  0 |  0 | 12 | \n",
       "\n",
       "\n"
      ],
      "text/plain": [
       "     [,1] [,2] [,3] [,4] [,5] [,6] [,7] [,8]\n",
       "[1,]  6    0    0   25    0    0    0    0  \n",
       "[2,]  0   23    0    0    4    0   16    0  \n",
       "[3,]  0    2    0   20    9   27    0    7  \n",
       "[4,]  0   19    5   14    0   32    0    0  \n",
       "[5,]  0    0    0   24   28   29    0    0  \n",
       "[6,] 15    0   22   31    0    0   17   21  \n",
       "[7,] 26   10    0   11   13    1   18   30  \n",
       "[8,]  8    3    0    0    0    0    0   12  "
      ]
     },
     "metadata": {},
     "output_type": "display_data"
    }
   ],
   "source": [
    "chess_mat3"
   ]
  },
  {
   "cell_type": "code",
   "execution_count": 47,
   "metadata": {},
   "outputs": [
    {
     "data": {
      "text/html": [
       "<table>\n",
       "<tbody>\n",
       "\t<tr><td> 6</td><td>25</td><td> 0</td><td> 0</td></tr>\n",
       "\t<tr><td>23</td><td> 0</td><td> 4</td><td>16</td></tr>\n",
       "\t<tr><td> 2</td><td>20</td><td>36</td><td> 7</td></tr>\n",
       "\t<tr><td>19</td><td>19</td><td>32</td><td> 0</td></tr>\n",
       "\t<tr><td> 0</td><td>24</td><td>57</td><td> 0</td></tr>\n",
       "\t<tr><td>15</td><td>53</td><td> 0</td><td>38</td></tr>\n",
       "\t<tr><td>36</td><td>11</td><td>14</td><td>48</td></tr>\n",
       "\t<tr><td>11</td><td> 0</td><td> 0</td><td>12</td></tr>\n",
       "</tbody>\n",
       "</table>\n"
      ],
      "text/latex": [
       "\\begin{tabular}{llll}\n",
       "\t  6 & 25 &  0 &  0\\\\\n",
       "\t 23 &  0 &  4 & 16\\\\\n",
       "\t  2 & 20 & 36 &  7\\\\\n",
       "\t 19 & 19 & 32 &  0\\\\\n",
       "\t  0 & 24 & 57 &  0\\\\\n",
       "\t 15 & 53 &  0 & 38\\\\\n",
       "\t 36 & 11 & 14 & 48\\\\\n",
       "\t 11 &  0 &  0 & 12\\\\\n",
       "\\end{tabular}\n"
      ],
      "text/markdown": [
       "\n",
       "|  6 | 25 |  0 |  0 | \n",
       "| 23 |  0 |  4 | 16 | \n",
       "|  2 | 20 | 36 |  7 | \n",
       "| 19 | 19 | 32 |  0 | \n",
       "|  0 | 24 | 57 |  0 | \n",
       "| 15 | 53 |  0 | 38 | \n",
       "| 36 | 11 | 14 | 48 | \n",
       "| 11 |  0 |  0 | 12 | \n",
       "\n",
       "\n"
      ],
      "text/plain": [
       "     [,1] [,2] [,3] [,4]\n",
       "[1,]  6   25    0    0  \n",
       "[2,] 23    0    4   16  \n",
       "[3,]  2   20   36    7  \n",
       "[4,] 19   19   32    0  \n",
       "[5,]  0   24   57    0  \n",
       "[6,] 15   53    0   38  \n",
       "[7,] 36   11   14   48  \n",
       "[8,] 11    0    0   12  "
      ]
     },
     "metadata": {},
     "output_type": "display_data"
    }
   ],
   "source": [
    "collapse_mat(chess_mat3)"
   ]
  },
  {
   "cell_type": "markdown",
   "metadata": {},
   "source": [
    "## Subset a matrix with a another matrix"
   ]
  },
  {
   "cell_type": "markdown",
   "metadata": {},
   "source": [
    "Let's reconsider the original wide matrix and let's create an empty one:"
   ]
  },
  {
   "cell_type": "code",
   "execution_count": 48,
   "metadata": {},
   "outputs": [
    {
     "data": {
      "text/html": [
       "<table>\n",
       "<tbody>\n",
       "\t<tr><td>NA</td><td>NA</td><td>NA</td><td>NA</td><td>NA</td><td>NA</td><td>NA</td><td>NA</td></tr>\n",
       "\t<tr><td>NA</td><td>NA</td><td>NA</td><td>NA</td><td>NA</td><td>NA</td><td>NA</td><td>NA</td></tr>\n",
       "\t<tr><td>NA</td><td>NA</td><td>NA</td><td>NA</td><td>NA</td><td>NA</td><td>NA</td><td>NA</td></tr>\n",
       "\t<tr><td>NA</td><td>NA</td><td>NA</td><td>NA</td><td>NA</td><td>NA</td><td>NA</td><td>NA</td></tr>\n",
       "\t<tr><td>NA</td><td>NA</td><td>NA</td><td>NA</td><td>NA</td><td>NA</td><td>NA</td><td>NA</td></tr>\n",
       "\t<tr><td>NA</td><td>NA</td><td>NA</td><td>NA</td><td>NA</td><td>NA</td><td>NA</td><td>NA</td></tr>\n",
       "\t<tr><td>NA</td><td>NA</td><td>NA</td><td>NA</td><td>NA</td><td>NA</td><td>NA</td><td>NA</td></tr>\n",
       "\t<tr><td>NA</td><td>NA</td><td>NA</td><td>NA</td><td>NA</td><td>NA</td><td>NA</td><td>NA</td></tr>\n",
       "</tbody>\n",
       "</table>\n"
      ],
      "text/latex": [
       "\\begin{tabular}{llllllll}\n",
       "\t NA & NA & NA & NA & NA & NA & NA & NA\\\\\n",
       "\t NA & NA & NA & NA & NA & NA & NA & NA\\\\\n",
       "\t NA & NA & NA & NA & NA & NA & NA & NA\\\\\n",
       "\t NA & NA & NA & NA & NA & NA & NA & NA\\\\\n",
       "\t NA & NA & NA & NA & NA & NA & NA & NA\\\\\n",
       "\t NA & NA & NA & NA & NA & NA & NA & NA\\\\\n",
       "\t NA & NA & NA & NA & NA & NA & NA & NA\\\\\n",
       "\t NA & NA & NA & NA & NA & NA & NA & NA\\\\\n",
       "\\end{tabular}\n"
      ],
      "text/markdown": [
       "\n",
       "| NA | NA | NA | NA | NA | NA | NA | NA | \n",
       "| NA | NA | NA | NA | NA | NA | NA | NA | \n",
       "| NA | NA | NA | NA | NA | NA | NA | NA | \n",
       "| NA | NA | NA | NA | NA | NA | NA | NA | \n",
       "| NA | NA | NA | NA | NA | NA | NA | NA | \n",
       "| NA | NA | NA | NA | NA | NA | NA | NA | \n",
       "| NA | NA | NA | NA | NA | NA | NA | NA | \n",
       "| NA | NA | NA | NA | NA | NA | NA | NA | \n",
       "\n",
       "\n"
      ],
      "text/plain": [
       "     [,1] [,2] [,3] [,4] [,5] [,6] [,7] [,8]\n",
       "[1,] NA   NA   NA   NA   NA   NA   NA   NA  \n",
       "[2,] NA   NA   NA   NA   NA   NA   NA   NA  \n",
       "[3,] NA   NA   NA   NA   NA   NA   NA   NA  \n",
       "[4,] NA   NA   NA   NA   NA   NA   NA   NA  \n",
       "[5,] NA   NA   NA   NA   NA   NA   NA   NA  \n",
       "[6,] NA   NA   NA   NA   NA   NA   NA   NA  \n",
       "[7,] NA   NA   NA   NA   NA   NA   NA   NA  \n",
       "[8,] NA   NA   NA   NA   NA   NA   NA   NA  "
      ]
     },
     "metadata": {},
     "output_type": "display_data"
    }
   ],
   "source": [
    "chess_mat4 <- matrix(nrow = 8, ncol = 8)\n",
    "chess_mat4"
   ]
  },
  {
   "cell_type": "code",
   "execution_count": 49,
   "metadata": {},
   "outputs": [
    {
     "data": {
      "text/html": [
       "<table>\n",
       "<tbody>\n",
       "\t<tr><td> 6</td><td> 0</td><td> 0</td><td>25</td><td> 0</td><td> 0</td><td> 0</td><td> 0</td></tr>\n",
       "\t<tr><td> 0</td><td>23</td><td> 0</td><td> 0</td><td> 4</td><td> 0</td><td>16</td><td> 0</td></tr>\n",
       "\t<tr><td> 0</td><td> 2</td><td> 0</td><td>20</td><td> 9</td><td>27</td><td> 0</td><td> 7</td></tr>\n",
       "\t<tr><td> 0</td><td>19</td><td> 5</td><td>14</td><td> 0</td><td>32</td><td> 0</td><td> 0</td></tr>\n",
       "\t<tr><td> 0</td><td> 0</td><td> 0</td><td>24</td><td>28</td><td>29</td><td> 0</td><td> 0</td></tr>\n",
       "\t<tr><td>15</td><td> 0</td><td>22</td><td>31</td><td> 0</td><td> 0</td><td>17</td><td>21</td></tr>\n",
       "\t<tr><td>26</td><td>10</td><td> 0</td><td>11</td><td>13</td><td> 1</td><td>18</td><td>30</td></tr>\n",
       "\t<tr><td> 8</td><td> 3</td><td> 0</td><td> 0</td><td> 0</td><td> 0</td><td> 0</td><td>12</td></tr>\n",
       "</tbody>\n",
       "</table>\n"
      ],
      "text/latex": [
       "\\begin{tabular}{llllllll}\n",
       "\t  6 &  0 &  0 & 25 &  0 &  0 &  0 &  0\\\\\n",
       "\t  0 & 23 &  0 &  0 &  4 &  0 & 16 &  0\\\\\n",
       "\t  0 &  2 &  0 & 20 &  9 & 27 &  0 &  7\\\\\n",
       "\t  0 & 19 &  5 & 14 &  0 & 32 &  0 &  0\\\\\n",
       "\t  0 &  0 &  0 & 24 & 28 & 29 &  0 &  0\\\\\n",
       "\t 15 &  0 & 22 & 31 &  0 &  0 & 17 & 21\\\\\n",
       "\t 26 & 10 &  0 & 11 & 13 &  1 & 18 & 30\\\\\n",
       "\t  8 &  3 &  0 &  0 &  0 &  0 &  0 & 12\\\\\n",
       "\\end{tabular}\n"
      ],
      "text/markdown": [
       "\n",
       "|  6 |  0 |  0 | 25 |  0 |  0 |  0 |  0 | \n",
       "|  0 | 23 |  0 |  0 |  4 |  0 | 16 |  0 | \n",
       "|  0 |  2 |  0 | 20 |  9 | 27 |  0 |  7 | \n",
       "|  0 | 19 |  5 | 14 |  0 | 32 |  0 |  0 | \n",
       "|  0 |  0 |  0 | 24 | 28 | 29 |  0 |  0 | \n",
       "| 15 |  0 | 22 | 31 |  0 |  0 | 17 | 21 | \n",
       "| 26 | 10 |  0 | 11 | 13 |  1 | 18 | 30 | \n",
       "|  8 |  3 |  0 |  0 |  0 |  0 |  0 | 12 | \n",
       "\n",
       "\n"
      ],
      "text/plain": [
       "     [,1] [,2] [,3] [,4] [,5] [,6] [,7] [,8]\n",
       "[1,]  6    0    0   25    0    0    0    0  \n",
       "[2,]  0   23    0    0    4    0   16    0  \n",
       "[3,]  0    2    0   20    9   27    0    7  \n",
       "[4,]  0   19    5   14    0   32    0    0  \n",
       "[5,]  0    0    0   24   28   29    0    0  \n",
       "[6,] 15    0   22   31    0    0   17   21  \n",
       "[7,] 26   10    0   11   13    1   18   30  \n",
       "[8,]  8    3    0    0    0    0    0   12  "
      ]
     },
     "metadata": {},
     "output_type": "display_data"
    }
   ],
   "source": [
    "chess_mat4[chess_mat2[,1:2]] <- chess_mat2[,3]\n",
    "chess_mat4"
   ]
  },
  {
   "cell_type": "markdown",
   "metadata": {},
   "source": [
    "What happened here?\n",
    "\n",
    "When we subset a matrix with a two column matrix, the first columns will be used as the row index and second as the col index\n",
    "\n",
    "So we can subset non-contiguous cells from a matrix as such "
   ]
  },
  {
   "cell_type": "markdown",
   "metadata": {},
   "source": [
    "## Traversing a matrix"
   ]
  },
  {
   "cell_type": "code",
   "execution_count": 50,
   "metadata": {},
   "outputs": [
    {
     "data": {
      "text/html": [
       "<table>\n",
       "<tbody>\n",
       "\t<tr><td> 6</td><td> 0</td><td> 0</td><td>25</td><td> 0</td><td> 0</td><td> 0</td><td> 0</td></tr>\n",
       "\t<tr><td> 0</td><td>23</td><td> 0</td><td> 0</td><td> 4</td><td> 0</td><td>16</td><td> 0</td></tr>\n",
       "\t<tr><td> 0</td><td> 2</td><td> 0</td><td>20</td><td> 9</td><td>27</td><td> 0</td><td> 7</td></tr>\n",
       "\t<tr><td> 0</td><td>19</td><td> 5</td><td>14</td><td> 0</td><td>32</td><td> 0</td><td> 0</td></tr>\n",
       "\t<tr><td> 0</td><td> 0</td><td> 0</td><td>24</td><td>28</td><td>29</td><td> 0</td><td> 0</td></tr>\n",
       "\t<tr><td>15</td><td> 0</td><td>22</td><td>31</td><td> 0</td><td> 0</td><td>17</td><td>21</td></tr>\n",
       "\t<tr><td>26</td><td>10</td><td> 0</td><td>11</td><td>13</td><td> 1</td><td>18</td><td>30</td></tr>\n",
       "\t<tr><td> 8</td><td> 3</td><td> 0</td><td> 0</td><td> 0</td><td> 0</td><td> 0</td><td>12</td></tr>\n",
       "</tbody>\n",
       "</table>\n"
      ],
      "text/latex": [
       "\\begin{tabular}{llllllll}\n",
       "\t  6 &  0 &  0 & 25 &  0 &  0 &  0 &  0\\\\\n",
       "\t  0 & 23 &  0 &  0 &  4 &  0 & 16 &  0\\\\\n",
       "\t  0 &  2 &  0 & 20 &  9 & 27 &  0 &  7\\\\\n",
       "\t  0 & 19 &  5 & 14 &  0 & 32 &  0 &  0\\\\\n",
       "\t  0 &  0 &  0 & 24 & 28 & 29 &  0 &  0\\\\\n",
       "\t 15 &  0 & 22 & 31 &  0 &  0 & 17 & 21\\\\\n",
       "\t 26 & 10 &  0 & 11 & 13 &  1 & 18 & 30\\\\\n",
       "\t  8 &  3 &  0 &  0 &  0 &  0 &  0 & 12\\\\\n",
       "\\end{tabular}\n"
      ],
      "text/markdown": [
       "\n",
       "|  6 |  0 |  0 | 25 |  0 |  0 |  0 |  0 | \n",
       "|  0 | 23 |  0 |  0 |  4 |  0 | 16 |  0 | \n",
       "|  0 |  2 |  0 | 20 |  9 | 27 |  0 |  7 | \n",
       "|  0 | 19 |  5 | 14 |  0 | 32 |  0 |  0 | \n",
       "|  0 |  0 |  0 | 24 | 28 | 29 |  0 |  0 | \n",
       "| 15 |  0 | 22 | 31 |  0 |  0 | 17 | 21 | \n",
       "| 26 | 10 |  0 | 11 | 13 |  1 | 18 | 30 | \n",
       "|  8 |  3 |  0 |  0 |  0 |  0 |  0 | 12 | \n",
       "\n",
       "\n"
      ],
      "text/plain": [
       "     [,1] [,2] [,3] [,4] [,5] [,6] [,7] [,8]\n",
       "[1,]  6    0    0   25    0    0    0    0  \n",
       "[2,]  0   23    0    0    4    0   16    0  \n",
       "[3,]  0    2    0   20    9   27    0    7  \n",
       "[4,]  0   19    5   14    0   32    0    0  \n",
       "[5,]  0    0    0   24   28   29    0    0  \n",
       "[6,] 15    0   22   31    0    0   17   21  \n",
       "[7,] 26   10    0   11   13    1   18   30  \n",
       "[8,]  8    3    0    0    0    0    0   12  "
      ]
     },
     "metadata": {},
     "output_type": "display_data"
    }
   ],
   "source": [
    "chess_mat4"
   ]
  },
  {
   "cell_type": "markdown",
   "metadata": {},
   "source": [
    "To get the row indices of all cells in a matrix:"
   ]
  },
  {
   "cell_type": "code",
   "execution_count": 51,
   "metadata": {},
   "outputs": [
    {
     "data": {
      "text/html": [
       "<table>\n",
       "<tbody>\n",
       "\t<tr><td>1</td><td>1</td><td>1</td><td>1</td><td>1</td><td>1</td><td>1</td><td>1</td></tr>\n",
       "\t<tr><td>2</td><td>2</td><td>2</td><td>2</td><td>2</td><td>2</td><td>2</td><td>2</td></tr>\n",
       "\t<tr><td>3</td><td>3</td><td>3</td><td>3</td><td>3</td><td>3</td><td>3</td><td>3</td></tr>\n",
       "\t<tr><td>4</td><td>4</td><td>4</td><td>4</td><td>4</td><td>4</td><td>4</td><td>4</td></tr>\n",
       "\t<tr><td>5</td><td>5</td><td>5</td><td>5</td><td>5</td><td>5</td><td>5</td><td>5</td></tr>\n",
       "\t<tr><td>6</td><td>6</td><td>6</td><td>6</td><td>6</td><td>6</td><td>6</td><td>6</td></tr>\n",
       "\t<tr><td>7</td><td>7</td><td>7</td><td>7</td><td>7</td><td>7</td><td>7</td><td>7</td></tr>\n",
       "\t<tr><td>8</td><td>8</td><td>8</td><td>8</td><td>8</td><td>8</td><td>8</td><td>8</td></tr>\n",
       "</tbody>\n",
       "</table>\n"
      ],
      "text/latex": [
       "\\begin{tabular}{llllllll}\n",
       "\t 1 & 1 & 1 & 1 & 1 & 1 & 1 & 1\\\\\n",
       "\t 2 & 2 & 2 & 2 & 2 & 2 & 2 & 2\\\\\n",
       "\t 3 & 3 & 3 & 3 & 3 & 3 & 3 & 3\\\\\n",
       "\t 4 & 4 & 4 & 4 & 4 & 4 & 4 & 4\\\\\n",
       "\t 5 & 5 & 5 & 5 & 5 & 5 & 5 & 5\\\\\n",
       "\t 6 & 6 & 6 & 6 & 6 & 6 & 6 & 6\\\\\n",
       "\t 7 & 7 & 7 & 7 & 7 & 7 & 7 & 7\\\\\n",
       "\t 8 & 8 & 8 & 8 & 8 & 8 & 8 & 8\\\\\n",
       "\\end{tabular}\n"
      ],
      "text/markdown": [
       "\n",
       "| 1 | 1 | 1 | 1 | 1 | 1 | 1 | 1 | \n",
       "| 2 | 2 | 2 | 2 | 2 | 2 | 2 | 2 | \n",
       "| 3 | 3 | 3 | 3 | 3 | 3 | 3 | 3 | \n",
       "| 4 | 4 | 4 | 4 | 4 | 4 | 4 | 4 | \n",
       "| 5 | 5 | 5 | 5 | 5 | 5 | 5 | 5 | \n",
       "| 6 | 6 | 6 | 6 | 6 | 6 | 6 | 6 | \n",
       "| 7 | 7 | 7 | 7 | 7 | 7 | 7 | 7 | \n",
       "| 8 | 8 | 8 | 8 | 8 | 8 | 8 | 8 | \n",
       "\n",
       "\n"
      ],
      "text/plain": [
       "     [,1] [,2] [,3] [,4] [,5] [,6] [,7] [,8]\n",
       "[1,] 1    1    1    1    1    1    1    1   \n",
       "[2,] 2    2    2    2    2    2    2    2   \n",
       "[3,] 3    3    3    3    3    3    3    3   \n",
       "[4,] 4    4    4    4    4    4    4    4   \n",
       "[5,] 5    5    5    5    5    5    5    5   \n",
       "[6,] 6    6    6    6    6    6    6    6   \n",
       "[7,] 7    7    7    7    7    7    7    7   \n",
       "[8,] 8    8    8    8    8    8    8    8   "
      ]
     },
     "metadata": {},
     "output_type": "display_data"
    }
   ],
   "source": [
    "row(chess_mat4)"
   ]
  },
  {
   "cell_type": "markdown",
   "metadata": {},
   "source": [
    "And column indices:"
   ]
  },
  {
   "cell_type": "code",
   "execution_count": 52,
   "metadata": {},
   "outputs": [
    {
     "data": {
      "text/html": [
       "<table>\n",
       "<tbody>\n",
       "\t<tr><td>1</td><td>2</td><td>3</td><td>4</td><td>5</td><td>6</td><td>7</td><td>8</td></tr>\n",
       "\t<tr><td>1</td><td>2</td><td>3</td><td>4</td><td>5</td><td>6</td><td>7</td><td>8</td></tr>\n",
       "\t<tr><td>1</td><td>2</td><td>3</td><td>4</td><td>5</td><td>6</td><td>7</td><td>8</td></tr>\n",
       "\t<tr><td>1</td><td>2</td><td>3</td><td>4</td><td>5</td><td>6</td><td>7</td><td>8</td></tr>\n",
       "\t<tr><td>1</td><td>2</td><td>3</td><td>4</td><td>5</td><td>6</td><td>7</td><td>8</td></tr>\n",
       "\t<tr><td>1</td><td>2</td><td>3</td><td>4</td><td>5</td><td>6</td><td>7</td><td>8</td></tr>\n",
       "\t<tr><td>1</td><td>2</td><td>3</td><td>4</td><td>5</td><td>6</td><td>7</td><td>8</td></tr>\n",
       "\t<tr><td>1</td><td>2</td><td>3</td><td>4</td><td>5</td><td>6</td><td>7</td><td>8</td></tr>\n",
       "</tbody>\n",
       "</table>\n"
      ],
      "text/latex": [
       "\\begin{tabular}{llllllll}\n",
       "\t 1 & 2 & 3 & 4 & 5 & 6 & 7 & 8\\\\\n",
       "\t 1 & 2 & 3 & 4 & 5 & 6 & 7 & 8\\\\\n",
       "\t 1 & 2 & 3 & 4 & 5 & 6 & 7 & 8\\\\\n",
       "\t 1 & 2 & 3 & 4 & 5 & 6 & 7 & 8\\\\\n",
       "\t 1 & 2 & 3 & 4 & 5 & 6 & 7 & 8\\\\\n",
       "\t 1 & 2 & 3 & 4 & 5 & 6 & 7 & 8\\\\\n",
       "\t 1 & 2 & 3 & 4 & 5 & 6 & 7 & 8\\\\\n",
       "\t 1 & 2 & 3 & 4 & 5 & 6 & 7 & 8\\\\\n",
       "\\end{tabular}\n"
      ],
      "text/markdown": [
       "\n",
       "| 1 | 2 | 3 | 4 | 5 | 6 | 7 | 8 | \n",
       "| 1 | 2 | 3 | 4 | 5 | 6 | 7 | 8 | \n",
       "| 1 | 2 | 3 | 4 | 5 | 6 | 7 | 8 | \n",
       "| 1 | 2 | 3 | 4 | 5 | 6 | 7 | 8 | \n",
       "| 1 | 2 | 3 | 4 | 5 | 6 | 7 | 8 | \n",
       "| 1 | 2 | 3 | 4 | 5 | 6 | 7 | 8 | \n",
       "| 1 | 2 | 3 | 4 | 5 | 6 | 7 | 8 | \n",
       "| 1 | 2 | 3 | 4 | 5 | 6 | 7 | 8 | \n",
       "\n",
       "\n"
      ],
      "text/plain": [
       "     [,1] [,2] [,3] [,4] [,5] [,6] [,7] [,8]\n",
       "[1,] 1    2    3    4    5    6    7    8   \n",
       "[2,] 1    2    3    4    5    6    7    8   \n",
       "[3,] 1    2    3    4    5    6    7    8   \n",
       "[4,] 1    2    3    4    5    6    7    8   \n",
       "[5,] 1    2    3    4    5    6    7    8   \n",
       "[6,] 1    2    3    4    5    6    7    8   \n",
       "[7,] 1    2    3    4    5    6    7    8   \n",
       "[8,] 1    2    3    4    5    6    7    8   "
      ]
     },
     "metadata": {},
     "output_type": "display_data"
    }
   ],
   "source": [
    "col(chess_mat4)"
   ]
  },
  {
   "cell_type": "markdown",
   "metadata": {},
   "source": [
    "Now let's subset the main diagonal using patterns in these two outputs:"
   ]
  },
  {
   "cell_type": "code",
   "execution_count": 53,
   "metadata": {},
   "outputs": [
    {
     "data": {
      "text/html": [
       "<table>\n",
       "<tbody>\n",
       "\t<tr><td> TRUE</td><td>FALSE</td><td>FALSE</td><td>FALSE</td><td>FALSE</td><td>FALSE</td><td>FALSE</td><td>FALSE</td></tr>\n",
       "\t<tr><td>FALSE</td><td> TRUE</td><td>FALSE</td><td>FALSE</td><td>FALSE</td><td>FALSE</td><td>FALSE</td><td>FALSE</td></tr>\n",
       "\t<tr><td>FALSE</td><td>FALSE</td><td> TRUE</td><td>FALSE</td><td>FALSE</td><td>FALSE</td><td>FALSE</td><td>FALSE</td></tr>\n",
       "\t<tr><td>FALSE</td><td>FALSE</td><td>FALSE</td><td> TRUE</td><td>FALSE</td><td>FALSE</td><td>FALSE</td><td>FALSE</td></tr>\n",
       "\t<tr><td>FALSE</td><td>FALSE</td><td>FALSE</td><td>FALSE</td><td> TRUE</td><td>FALSE</td><td>FALSE</td><td>FALSE</td></tr>\n",
       "\t<tr><td>FALSE</td><td>FALSE</td><td>FALSE</td><td>FALSE</td><td>FALSE</td><td> TRUE</td><td>FALSE</td><td>FALSE</td></tr>\n",
       "\t<tr><td>FALSE</td><td>FALSE</td><td>FALSE</td><td>FALSE</td><td>FALSE</td><td>FALSE</td><td> TRUE</td><td>FALSE</td></tr>\n",
       "\t<tr><td>FALSE</td><td>FALSE</td><td>FALSE</td><td>FALSE</td><td>FALSE</td><td>FALSE</td><td>FALSE</td><td> TRUE</td></tr>\n",
       "</tbody>\n",
       "</table>\n"
      ],
      "text/latex": [
       "\\begin{tabular}{llllllll}\n",
       "\t  TRUE & FALSE & FALSE & FALSE & FALSE & FALSE & FALSE & FALSE\\\\\n",
       "\t FALSE &  TRUE & FALSE & FALSE & FALSE & FALSE & FALSE & FALSE\\\\\n",
       "\t FALSE & FALSE &  TRUE & FALSE & FALSE & FALSE & FALSE & FALSE\\\\\n",
       "\t FALSE & FALSE & FALSE &  TRUE & FALSE & FALSE & FALSE & FALSE\\\\\n",
       "\t FALSE & FALSE & FALSE & FALSE &  TRUE & FALSE & FALSE & FALSE\\\\\n",
       "\t FALSE & FALSE & FALSE & FALSE & FALSE &  TRUE & FALSE & FALSE\\\\\n",
       "\t FALSE & FALSE & FALSE & FALSE & FALSE & FALSE &  TRUE & FALSE\\\\\n",
       "\t FALSE & FALSE & FALSE & FALSE & FALSE & FALSE & FALSE &  TRUE\\\\\n",
       "\\end{tabular}\n"
      ],
      "text/markdown": [
       "\n",
       "|  TRUE | FALSE | FALSE | FALSE | FALSE | FALSE | FALSE | FALSE | \n",
       "| FALSE |  TRUE | FALSE | FALSE | FALSE | FALSE | FALSE | FALSE | \n",
       "| FALSE | FALSE |  TRUE | FALSE | FALSE | FALSE | FALSE | FALSE | \n",
       "| FALSE | FALSE | FALSE |  TRUE | FALSE | FALSE | FALSE | FALSE | \n",
       "| FALSE | FALSE | FALSE | FALSE |  TRUE | FALSE | FALSE | FALSE | \n",
       "| FALSE | FALSE | FALSE | FALSE | FALSE |  TRUE | FALSE | FALSE | \n",
       "| FALSE | FALSE | FALSE | FALSE | FALSE | FALSE |  TRUE | FALSE | \n",
       "| FALSE | FALSE | FALSE | FALSE | FALSE | FALSE | FALSE |  TRUE | \n",
       "\n",
       "\n"
      ],
      "text/plain": [
       "     [,1]  [,2]  [,3]  [,4]  [,5]  [,6]  [,7]  [,8] \n",
       "[1,]  TRUE FALSE FALSE FALSE FALSE FALSE FALSE FALSE\n",
       "[2,] FALSE  TRUE FALSE FALSE FALSE FALSE FALSE FALSE\n",
       "[3,] FALSE FALSE  TRUE FALSE FALSE FALSE FALSE FALSE\n",
       "[4,] FALSE FALSE FALSE  TRUE FALSE FALSE FALSE FALSE\n",
       "[5,] FALSE FALSE FALSE FALSE  TRUE FALSE FALSE FALSE\n",
       "[6,] FALSE FALSE FALSE FALSE FALSE  TRUE FALSE FALSE\n",
       "[7,] FALSE FALSE FALSE FALSE FALSE FALSE  TRUE FALSE\n",
       "[8,] FALSE FALSE FALSE FALSE FALSE FALSE FALSE  TRUE"
      ]
     },
     "metadata": {},
     "output_type": "display_data"
    }
   ],
   "source": [
    "row(chess_mat4) == col(chess_mat4)"
   ]
  },
  {
   "cell_type": "code",
   "execution_count": 54,
   "metadata": {},
   "outputs": [
    {
     "data": {
      "text/html": [
       "<ol class=list-inline>\n",
       "\t<li>6</li>\n",
       "\t<li>23</li>\n",
       "\t<li>0</li>\n",
       "\t<li>14</li>\n",
       "\t<li>28</li>\n",
       "\t<li>0</li>\n",
       "\t<li>18</li>\n",
       "\t<li>12</li>\n",
       "</ol>\n"
      ],
      "text/latex": [
       "\\begin{enumerate*}\n",
       "\\item 6\n",
       "\\item 23\n",
       "\\item 0\n",
       "\\item 14\n",
       "\\item 28\n",
       "\\item 0\n",
       "\\item 18\n",
       "\\item 12\n",
       "\\end{enumerate*}\n"
      ],
      "text/markdown": [
       "1. 6\n",
       "2. 23\n",
       "3. 0\n",
       "4. 14\n",
       "5. 28\n",
       "6. 0\n",
       "7. 18\n",
       "8. 12\n",
       "\n",
       "\n"
      ],
      "text/plain": [
       "[1]  6 23  0 14 28  0 18 12"
      ]
     },
     "metadata": {},
     "output_type": "display_data"
    }
   ],
   "source": [
    "chess_mat4[row(chess_mat4) == col(chess_mat4)]"
   ]
  },
  {
   "cell_type": "markdown",
   "metadata": {},
   "source": [
    "An easier option is:"
   ]
  },
  {
   "cell_type": "code",
   "execution_count": 55,
   "metadata": {},
   "outputs": [
    {
     "data": {
      "text/html": [
       "<ol class=list-inline>\n",
       "\t<li>6</li>\n",
       "\t<li>23</li>\n",
       "\t<li>0</li>\n",
       "\t<li>14</li>\n",
       "\t<li>28</li>\n",
       "\t<li>0</li>\n",
       "\t<li>18</li>\n",
       "\t<li>12</li>\n",
       "</ol>\n"
      ],
      "text/latex": [
       "\\begin{enumerate*}\n",
       "\\item 6\n",
       "\\item 23\n",
       "\\item 0\n",
       "\\item 14\n",
       "\\item 28\n",
       "\\item 0\n",
       "\\item 18\n",
       "\\item 12\n",
       "\\end{enumerate*}\n"
      ],
      "text/markdown": [
       "1. 6\n",
       "2. 23\n",
       "3. 0\n",
       "4. 14\n",
       "5. 28\n",
       "6. 0\n",
       "7. 18\n",
       "8. 12\n",
       "\n",
       "\n"
      ],
      "text/plain": [
       "[1]  6 23  0 14 28  0 18 12"
      ]
     },
     "metadata": {},
     "output_type": "display_data"
    }
   ],
   "source": [
    "diag(chess_mat4)"
   ]
  },
  {
   "cell_type": "markdown",
   "metadata": {},
   "source": [
    "Now let's traverse the secondary diagonal:"
   ]
  },
  {
   "cell_type": "code",
   "execution_count": 56,
   "metadata": {},
   "outputs": [
    {
     "data": {
      "text/html": [
       "<ol class=list-inline>\n",
       "\t<li>8</li>\n",
       "\t<li>10</li>\n",
       "\t<li>22</li>\n",
       "\t<li>24</li>\n",
       "\t<li>0</li>\n",
       "\t<li>27</li>\n",
       "\t<li>16</li>\n",
       "\t<li>0</li>\n",
       "</ol>\n"
      ],
      "text/latex": [
       "\\begin{enumerate*}\n",
       "\\item 8\n",
       "\\item 10\n",
       "\\item 22\n",
       "\\item 24\n",
       "\\item 0\n",
       "\\item 27\n",
       "\\item 16\n",
       "\\item 0\n",
       "\\end{enumerate*}\n"
      ],
      "text/markdown": [
       "1. 8\n",
       "2. 10\n",
       "3. 22\n",
       "4. 24\n",
       "5. 0\n",
       "6. 27\n",
       "7. 16\n",
       "8. 0\n",
       "\n",
       "\n"
      ],
      "text/plain": [
       "[1]  8 10 22 24  0 27 16  0"
      ]
     },
     "metadata": {},
     "output_type": "display_data"
    }
   ],
   "source": [
    "chess_mat4[row(chess_mat4) + col(chess_mat4) == 9]"
   ]
  },
  {
   "cell_type": "markdown",
   "metadata": {},
   "source": [
    "## Convert a matrix to a vector"
   ]
  },
  {
   "cell_type": "code",
   "execution_count": 57,
   "metadata": {},
   "outputs": [
    {
     "data": {
      "text/html": [
       "<ol class=list-inline>\n",
       "\t<li>6</li>\n",
       "\t<li>0</li>\n",
       "\t<li>0</li>\n",
       "\t<li>0</li>\n",
       "\t<li>0</li>\n",
       "\t<li>15</li>\n",
       "\t<li>26</li>\n",
       "\t<li>8</li>\n",
       "\t<li>0</li>\n",
       "\t<li>23</li>\n",
       "\t<li>2</li>\n",
       "\t<li>19</li>\n",
       "\t<li>0</li>\n",
       "\t<li>0</li>\n",
       "\t<li>10</li>\n",
       "\t<li>3</li>\n",
       "\t<li>0</li>\n",
       "\t<li>0</li>\n",
       "\t<li>0</li>\n",
       "\t<li>5</li>\n",
       "\t<li>0</li>\n",
       "\t<li>22</li>\n",
       "\t<li>0</li>\n",
       "\t<li>0</li>\n",
       "\t<li>25</li>\n",
       "\t<li>0</li>\n",
       "\t<li>20</li>\n",
       "\t<li>14</li>\n",
       "\t<li>24</li>\n",
       "\t<li>31</li>\n",
       "\t<li>11</li>\n",
       "\t<li>0</li>\n",
       "\t<li>0</li>\n",
       "\t<li>4</li>\n",
       "\t<li>9</li>\n",
       "\t<li>0</li>\n",
       "\t<li>28</li>\n",
       "\t<li>0</li>\n",
       "\t<li>13</li>\n",
       "\t<li>0</li>\n",
       "\t<li>0</li>\n",
       "\t<li>0</li>\n",
       "\t<li>27</li>\n",
       "\t<li>32</li>\n",
       "\t<li>29</li>\n",
       "\t<li>0</li>\n",
       "\t<li>1</li>\n",
       "\t<li>0</li>\n",
       "\t<li>0</li>\n",
       "\t<li>16</li>\n",
       "\t<li>0</li>\n",
       "\t<li>0</li>\n",
       "\t<li>0</li>\n",
       "\t<li>17</li>\n",
       "\t<li>18</li>\n",
       "\t<li>0</li>\n",
       "\t<li>0</li>\n",
       "\t<li>0</li>\n",
       "\t<li>7</li>\n",
       "\t<li>0</li>\n",
       "\t<li>0</li>\n",
       "\t<li>21</li>\n",
       "\t<li>30</li>\n",
       "\t<li>12</li>\n",
       "</ol>\n"
      ],
      "text/latex": [
       "\\begin{enumerate*}\n",
       "\\item 6\n",
       "\\item 0\n",
       "\\item 0\n",
       "\\item 0\n",
       "\\item 0\n",
       "\\item 15\n",
       "\\item 26\n",
       "\\item 8\n",
       "\\item 0\n",
       "\\item 23\n",
       "\\item 2\n",
       "\\item 19\n",
       "\\item 0\n",
       "\\item 0\n",
       "\\item 10\n",
       "\\item 3\n",
       "\\item 0\n",
       "\\item 0\n",
       "\\item 0\n",
       "\\item 5\n",
       "\\item 0\n",
       "\\item 22\n",
       "\\item 0\n",
       "\\item 0\n",
       "\\item 25\n",
       "\\item 0\n",
       "\\item 20\n",
       "\\item 14\n",
       "\\item 24\n",
       "\\item 31\n",
       "\\item 11\n",
       "\\item 0\n",
       "\\item 0\n",
       "\\item 4\n",
       "\\item 9\n",
       "\\item 0\n",
       "\\item 28\n",
       "\\item 0\n",
       "\\item 13\n",
       "\\item 0\n",
       "\\item 0\n",
       "\\item 0\n",
       "\\item 27\n",
       "\\item 32\n",
       "\\item 29\n",
       "\\item 0\n",
       "\\item 1\n",
       "\\item 0\n",
       "\\item 0\n",
       "\\item 16\n",
       "\\item 0\n",
       "\\item 0\n",
       "\\item 0\n",
       "\\item 17\n",
       "\\item 18\n",
       "\\item 0\n",
       "\\item 0\n",
       "\\item 0\n",
       "\\item 7\n",
       "\\item 0\n",
       "\\item 0\n",
       "\\item 21\n",
       "\\item 30\n",
       "\\item 12\n",
       "\\end{enumerate*}\n"
      ],
      "text/markdown": [
       "1. 6\n",
       "2. 0\n",
       "3. 0\n",
       "4. 0\n",
       "5. 0\n",
       "6. 15\n",
       "7. 26\n",
       "8. 8\n",
       "9. 0\n",
       "10. 23\n",
       "11. 2\n",
       "12. 19\n",
       "13. 0\n",
       "14. 0\n",
       "15. 10\n",
       "16. 3\n",
       "17. 0\n",
       "18. 0\n",
       "19. 0\n",
       "20. 5\n",
       "21. 0\n",
       "22. 22\n",
       "23. 0\n",
       "24. 0\n",
       "25. 25\n",
       "26. 0\n",
       "27. 20\n",
       "28. 14\n",
       "29. 24\n",
       "30. 31\n",
       "31. 11\n",
       "32. 0\n",
       "33. 0\n",
       "34. 4\n",
       "35. 9\n",
       "36. 0\n",
       "37. 28\n",
       "38. 0\n",
       "39. 13\n",
       "40. 0\n",
       "41. 0\n",
       "42. 0\n",
       "43. 27\n",
       "44. 32\n",
       "45. 29\n",
       "46. 0\n",
       "47. 1\n",
       "48. 0\n",
       "49. 0\n",
       "50. 16\n",
       "51. 0\n",
       "52. 0\n",
       "53. 0\n",
       "54. 17\n",
       "55. 18\n",
       "56. 0\n",
       "57. 0\n",
       "58. 0\n",
       "59. 7\n",
       "60. 0\n",
       "61. 0\n",
       "62. 21\n",
       "63. 30\n",
       "64. 12\n",
       "\n",
       "\n"
      ],
      "text/plain": [
       " [1]  6  0  0  0  0 15 26  8  0 23  2 19  0  0 10  3  0  0  0  5  0 22  0  0 25\n",
       "[26]  0 20 14 24 31 11  0  0  4  9  0 28  0 13  0  0  0 27 32 29  0  1  0  0 16\n",
       "[51]  0  0  0 17 18  0  0  0  7  0  0 21 30 12"
      ]
     },
     "metadata": {},
     "output_type": "display_data"
    }
   ],
   "source": [
    "as.integer(chess_mat4)"
   ]
  },
  {
   "cell_type": "code",
   "execution_count": 58,
   "metadata": {},
   "outputs": [
    {
     "data": {
      "text/html": [
       "<ol class=list-inline>\n",
       "\t<li>6</li>\n",
       "\t<li>0</li>\n",
       "\t<li>0</li>\n",
       "\t<li>0</li>\n",
       "\t<li>0</li>\n",
       "\t<li>15</li>\n",
       "\t<li>26</li>\n",
       "\t<li>8</li>\n",
       "\t<li>0</li>\n",
       "\t<li>23</li>\n",
       "\t<li>2</li>\n",
       "\t<li>19</li>\n",
       "\t<li>0</li>\n",
       "\t<li>0</li>\n",
       "\t<li>10</li>\n",
       "\t<li>3</li>\n",
       "\t<li>0</li>\n",
       "\t<li>0</li>\n",
       "\t<li>0</li>\n",
       "\t<li>5</li>\n",
       "\t<li>0</li>\n",
       "\t<li>22</li>\n",
       "\t<li>0</li>\n",
       "\t<li>0</li>\n",
       "\t<li>25</li>\n",
       "\t<li>0</li>\n",
       "\t<li>20</li>\n",
       "\t<li>14</li>\n",
       "\t<li>24</li>\n",
       "\t<li>31</li>\n",
       "\t<li>11</li>\n",
       "\t<li>0</li>\n",
       "\t<li>0</li>\n",
       "\t<li>4</li>\n",
       "\t<li>9</li>\n",
       "\t<li>0</li>\n",
       "\t<li>28</li>\n",
       "\t<li>0</li>\n",
       "\t<li>13</li>\n",
       "\t<li>0</li>\n",
       "\t<li>0</li>\n",
       "\t<li>0</li>\n",
       "\t<li>27</li>\n",
       "\t<li>32</li>\n",
       "\t<li>29</li>\n",
       "\t<li>0</li>\n",
       "\t<li>1</li>\n",
       "\t<li>0</li>\n",
       "\t<li>0</li>\n",
       "\t<li>16</li>\n",
       "\t<li>0</li>\n",
       "\t<li>0</li>\n",
       "\t<li>0</li>\n",
       "\t<li>17</li>\n",
       "\t<li>18</li>\n",
       "\t<li>0</li>\n",
       "\t<li>0</li>\n",
       "\t<li>0</li>\n",
       "\t<li>7</li>\n",
       "\t<li>0</li>\n",
       "\t<li>0</li>\n",
       "\t<li>21</li>\n",
       "\t<li>30</li>\n",
       "\t<li>12</li>\n",
       "</ol>\n"
      ],
      "text/latex": [
       "\\begin{enumerate*}\n",
       "\\item 6\n",
       "\\item 0\n",
       "\\item 0\n",
       "\\item 0\n",
       "\\item 0\n",
       "\\item 15\n",
       "\\item 26\n",
       "\\item 8\n",
       "\\item 0\n",
       "\\item 23\n",
       "\\item 2\n",
       "\\item 19\n",
       "\\item 0\n",
       "\\item 0\n",
       "\\item 10\n",
       "\\item 3\n",
       "\\item 0\n",
       "\\item 0\n",
       "\\item 0\n",
       "\\item 5\n",
       "\\item 0\n",
       "\\item 22\n",
       "\\item 0\n",
       "\\item 0\n",
       "\\item 25\n",
       "\\item 0\n",
       "\\item 20\n",
       "\\item 14\n",
       "\\item 24\n",
       "\\item 31\n",
       "\\item 11\n",
       "\\item 0\n",
       "\\item 0\n",
       "\\item 4\n",
       "\\item 9\n",
       "\\item 0\n",
       "\\item 28\n",
       "\\item 0\n",
       "\\item 13\n",
       "\\item 0\n",
       "\\item 0\n",
       "\\item 0\n",
       "\\item 27\n",
       "\\item 32\n",
       "\\item 29\n",
       "\\item 0\n",
       "\\item 1\n",
       "\\item 0\n",
       "\\item 0\n",
       "\\item 16\n",
       "\\item 0\n",
       "\\item 0\n",
       "\\item 0\n",
       "\\item 17\n",
       "\\item 18\n",
       "\\item 0\n",
       "\\item 0\n",
       "\\item 0\n",
       "\\item 7\n",
       "\\item 0\n",
       "\\item 0\n",
       "\\item 21\n",
       "\\item 30\n",
       "\\item 12\n",
       "\\end{enumerate*}\n"
      ],
      "text/markdown": [
       "1. 6\n",
       "2. 0\n",
       "3. 0\n",
       "4. 0\n",
       "5. 0\n",
       "6. 15\n",
       "7. 26\n",
       "8. 8\n",
       "9. 0\n",
       "10. 23\n",
       "11. 2\n",
       "12. 19\n",
       "13. 0\n",
       "14. 0\n",
       "15. 10\n",
       "16. 3\n",
       "17. 0\n",
       "18. 0\n",
       "19. 0\n",
       "20. 5\n",
       "21. 0\n",
       "22. 22\n",
       "23. 0\n",
       "24. 0\n",
       "25. 25\n",
       "26. 0\n",
       "27. 20\n",
       "28. 14\n",
       "29. 24\n",
       "30. 31\n",
       "31. 11\n",
       "32. 0\n",
       "33. 0\n",
       "34. 4\n",
       "35. 9\n",
       "36. 0\n",
       "37. 28\n",
       "38. 0\n",
       "39. 13\n",
       "40. 0\n",
       "41. 0\n",
       "42. 0\n",
       "43. 27\n",
       "44. 32\n",
       "45. 29\n",
       "46. 0\n",
       "47. 1\n",
       "48. 0\n",
       "49. 0\n",
       "50. 16\n",
       "51. 0\n",
       "52. 0\n",
       "53. 0\n",
       "54. 17\n",
       "55. 18\n",
       "56. 0\n",
       "57. 0\n",
       "58. 0\n",
       "59. 7\n",
       "60. 0\n",
       "61. 0\n",
       "62. 21\n",
       "63. 30\n",
       "64. 12\n",
       "\n",
       "\n"
      ],
      "text/plain": [
       " [1]  6  0  0  0  0 15 26  8  0 23  2 19  0  0 10  3  0  0  0  5  0 22  0  0 25\n",
       "[26]  0 20 14 24 31 11  0  0  4  9  0 28  0 13  0  0  0 27 32 29  0  1  0  0 16\n",
       "[51]  0  0  0 17 18  0  0  0  7  0  0 21 30 12"
      ]
     },
     "metadata": {},
     "output_type": "display_data"
    }
   ],
   "source": [
    "chess_mat4[T]"
   ]
  },
  {
   "cell_type": "markdown",
   "metadata": {},
   "source": [
    "Why did that happen?"
   ]
  },
  {
   "cell_type": "markdown",
   "metadata": {},
   "source": [
    "T is recycled to the length of the matrix (row\\*column), and since a single index is used, a vector is returned"
   ]
  },
  {
   "cell_type": "markdown",
   "metadata": {},
   "source": [
    "## Drop or not"
   ]
  },
  {
   "cell_type": "code",
   "execution_count": 59,
   "metadata": {},
   "outputs": [
    {
     "data": {
      "text/html": [
       "'matrix'"
      ],
      "text/latex": [
       "'matrix'"
      ],
      "text/markdown": [
       "'matrix'"
      ],
      "text/plain": [
       "[1] \"matrix\""
      ]
     },
     "metadata": {},
     "output_type": "display_data"
    }
   ],
   "source": [
    "class(chess_mat4)"
   ]
  },
  {
   "cell_type": "code",
   "execution_count": 60,
   "metadata": {},
   "outputs": [
    {
     "data": {
      "text/html": [
       "'matrix'"
      ],
      "text/latex": [
       "'matrix'"
      ],
      "text/markdown": [
       "'matrix'"
      ],
      "text/plain": [
       "[1] \"matrix\""
      ]
     },
     "metadata": {},
     "output_type": "display_data"
    }
   ],
   "source": [
    "class(chess_mat4[1:2,3:4])"
   ]
  },
  {
   "cell_type": "code",
   "execution_count": 61,
   "metadata": {},
   "outputs": [
    {
     "data": {
      "text/html": [
       "'integer'"
      ],
      "text/latex": [
       "'integer'"
      ],
      "text/markdown": [
       "'integer'"
      ],
      "text/plain": [
       "[1] \"integer\""
      ]
     },
     "metadata": {},
     "output_type": "display_data"
    }
   ],
   "source": [
    "class(chess_mat4[1,])"
   ]
  },
  {
   "cell_type": "code",
   "execution_count": 62,
   "metadata": {},
   "outputs": [
    {
     "data": {
      "text/html": [
       "'integer'"
      ],
      "text/latex": [
       "'integer'"
      ],
      "text/markdown": [
       "'integer'"
      ],
      "text/plain": [
       "[1] \"integer\""
      ]
     },
     "metadata": {},
     "output_type": "display_data"
    }
   ],
   "source": [
    "class(chess_mat4[,2])"
   ]
  },
  {
   "cell_type": "markdown",
   "metadata": {},
   "source": [
    "The pullover is automatically converted to wool when only a single row or column is indexed.\n",
    "\n",
    "To avoid this:"
   ]
  },
  {
   "cell_type": "code",
   "execution_count": 66,
   "metadata": {},
   "outputs": [
    {
     "data": {
      "text/html": [
       "<table>\n",
       "<tbody>\n",
       "\t<tr><td>6 </td><td>0 </td><td>0 </td><td>25</td><td>0 </td><td>0 </td><td>0 </td><td>0 </td></tr>\n",
       "</tbody>\n",
       "</table>\n"
      ],
      "text/latex": [
       "\\begin{tabular}{llllllll}\n",
       "\t 6  & 0  & 0  & 25 & 0  & 0  & 0  & 0 \\\\\n",
       "\\end{tabular}\n"
      ],
      "text/markdown": [
       "\n",
       "| 6  | 0  | 0  | 25 | 0  | 0  | 0  | 0  | \n",
       "\n",
       "\n"
      ],
      "text/plain": [
       "     [,1] [,2] [,3] [,4] [,5] [,6] [,7] [,8]\n",
       "[1,] 6    0    0    25   0    0    0    0   "
      ]
     },
     "metadata": {},
     "output_type": "display_data"
    }
   ],
   "source": [
    "chess_mat4[1,,drop = F]"
   ]
  },
  {
   "cell_type": "code",
   "execution_count": 65,
   "metadata": {},
   "outputs": [
    {
     "data": {
      "text/html": [
       "<table>\n",
       "<tbody>\n",
       "\t<tr><td> 0</td></tr>\n",
       "\t<tr><td>23</td></tr>\n",
       "\t<tr><td> 2</td></tr>\n",
       "\t<tr><td>19</td></tr>\n",
       "\t<tr><td> 0</td></tr>\n",
       "\t<tr><td> 0</td></tr>\n",
       "\t<tr><td>10</td></tr>\n",
       "\t<tr><td> 3</td></tr>\n",
       "</tbody>\n",
       "</table>\n"
      ],
      "text/latex": [
       "\\begin{tabular}{l}\n",
       "\t  0\\\\\n",
       "\t 23\\\\\n",
       "\t  2\\\\\n",
       "\t 19\\\\\n",
       "\t  0\\\\\n",
       "\t  0\\\\\n",
       "\t 10\\\\\n",
       "\t  3\\\\\n",
       "\\end{tabular}\n"
      ],
      "text/markdown": [
       "\n",
       "|  0 | \n",
       "| 23 | \n",
       "|  2 | \n",
       "| 19 | \n",
       "|  0 | \n",
       "|  0 | \n",
       "| 10 | \n",
       "|  3 | \n",
       "\n",
       "\n"
      ],
      "text/plain": [
       "     [,1]\n",
       "[1,]  0  \n",
       "[2,] 23  \n",
       "[3,]  2  \n",
       "[4,] 19  \n",
       "[5,]  0  \n",
       "[6,]  0  \n",
       "[7,] 10  \n",
       "[8,]  3  "
      ]
     },
     "metadata": {},
     "output_type": "display_data"
    }
   ],
   "source": [
    "chess_mat4[,2, drop = F]"
   ]
  },
  {
   "cell_type": "code",
   "execution_count": null,
   "metadata": {},
   "outputs": [],
   "source": []
  }
 ],
 "metadata": {
  "kernelspec": {
   "display_name": "R",
   "language": "R",
   "name": "ir"
  },
  "language_info": {
   "codemirror_mode": "r",
   "file_extension": ".r",
   "mimetype": "text/x-r-source",
   "name": "R",
   "pygments_lexer": "r",
   "version": "3.5.1"
  },
  "toc": {
   "base_numbering": 1,
   "nav_menu": {},
   "number_sections": true,
   "sideBar": true,
   "skip_h1_title": false,
   "title_cell": "Table of Contents",
   "title_sidebar": "Contents",
   "toc_cell": false,
   "toc_position": {},
   "toc_section_display": "block",
   "toc_window_display": true
  }
 },
 "nbformat": 4,
 "nbformat_minor": 2
}
