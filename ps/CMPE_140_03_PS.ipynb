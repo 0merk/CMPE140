{
 "cells": [
  {
   "cell_type": "markdown",
   "metadata": {},
   "source": [
    "# Let's harvest some number of our own!\n",
    "**by Serhat Çevikel**"
   ]
  },
  {
   "cell_type": "markdown",
   "metadata": {},
   "source": [
    "For basic simulation, exercise and visualization purposes, it is better that we have mechanisms to create our own data series out of nothing!"
   ]
  },
  {
   "cell_type": "markdown",
   "metadata": {},
   "source": [
    "## Sequences with seq()"
   ]
  },
  {
   "cell_type": "markdown",
   "metadata": {},
   "source": [
    "Colon operator \":\" creates simple sequences as \"from\" to \"to\" with 1 increments. Suppose we want to have more complex sequences. Such as, with different increments or providing a length or using non integer values"
   ]
  },
  {
   "cell_type": "code",
   "execution_count": null,
   "metadata": {},
   "outputs": [],
   "source": [
    "?seq"
   ]
  },
  {
   "cell_type": "markdown",
   "metadata": {},
   "source": [
    "> seq(from = 1, to = 1, by = ((to - from)/(length.out - 1)),\n",
    "    length.out = NULL, along.with = NULL, ...)"
   ]
  },
  {
   "cell_type": "markdown",
   "metadata": {},
   "source": [
    "Get the Fahrenheit equivalent of celcius values as a sequence"
   ]
  },
  {
   "cell_type": "code",
   "execution_count": null,
   "metadata": {},
   "outputs": [],
   "source": [
    "seq(32, 212, length.out = 101)"
   ]
  },
  {
   "cell_type": "markdown",
   "metadata": {},
   "source": [
    "Get values from 1 to 11 in increments of 3:"
   ]
  },
  {
   "cell_type": "code",
   "execution_count": null,
   "metadata": {},
   "outputs": [],
   "source": [
    "seq(1, 11, 3)"
   ]
  },
  {
   "cell_type": "markdown",
   "metadata": {},
   "source": [
    "**EXERCISE 1:**\n",
    "\n",
    "Get the leap years in 21th century. Two questions:\n",
    "\n",
    "- Is 2000 a part of 21st century?\n",
    "- Is 2100 a leap year?"
   ]
  },
  {
   "cell_type": "code",
   "execution_count": null,
   "metadata": {},
   "outputs": [],
   "source": []
  },
  {
   "cell_type": "markdown",
   "metadata": {},
   "source": [
    "**SOLUTION 1:**"
   ]
  },
  {
   "cell_type": "code",
   "execution_count": null,
   "metadata": {},
   "outputs": [],
   "source": [
    "pass <- readline(prompt = \"Please enter the password for the solution: \")\n",
    "encrypt <- \"U2FsdGVkX198ZSSyA+t1DYuAmww2gW9TbGcE6fCAeTiiethARzNXtzhKGLIBk0vu HfDfmGjzJc285wGcIFH4HFZFln1pRgi2WPYTFxUInFt/m7WwnNyNqQ8o4ySiOV3F QVdBpIRmQlanyJKem+pAAetiT4Of1AmATLsffovt6mmcU57vMe+YMHrFbxd5U+18 6kk00u0MVIgeDGZ6VpxPqdRCKY5rmO+g/26NHNp6dTUt46Nzpt81Uc2OghYLf16F w+jFhGoqHfovbfDD66wC12WgU5PoWA+x/TO9ti5eKuOor2FHFkAZIq1sb8bSMrO7 EkUBrjMn7cunrTuDNpZXCgvWCWgU8ZdQ4EzoX3LRCsw=\"\n",
    "solution <- system(sprintf(\"echo %s | openssl enc -md sha256 -aes-128-cbc -a -d -salt -pass pass:%s 2> /dev/null\", encrypt, pass), intern = T, ignore.stderr = T)\n",
    "cat(solution, sep = \"\\n\")\n",
    "eval(parse(text = solution))"
   ]
  },
  {
   "cell_type": "markdown",
   "metadata": {},
   "source": [
    "## Uniform numeric values within a range"
   ]
  },
  {
   "cell_type": "code",
   "execution_count": null,
   "metadata": {},
   "outputs": [],
   "source": [
    "runif(10)"
   ]
  },
  {
   "cell_type": "code",
   "execution_count": null,
   "metadata": {},
   "outputs": [],
   "source": [
    "runif(20, -1, 1)"
   ]
  },
  {
   "cell_type": "markdown",
   "metadata": {},
   "source": [
    "## Random out of normal distribution"
   ]
  },
  {
   "cell_type": "markdown",
   "metadata": {},
   "source": [
    "By default mean is 0, sd is 1:"
   ]
  },
  {
   "cell_type": "code",
   "execution_count": null,
   "metadata": {},
   "outputs": [],
   "source": [
    "rnorm(10)"
   ]
  },
  {
   "cell_type": "markdown",
   "metadata": {},
   "source": [
    "## Randomly select out of a set"
   ]
  },
  {
   "cell_type": "code",
   "execution_count": null,
   "metadata": {},
   "outputs": [],
   "source": [
    "sample(1:2, 10, replace = T)"
   ]
  },
  {
   "cell_type": "code",
   "execution_count": null,
   "metadata": {},
   "outputs": [],
   "source": [
    "sample(1:10, 10, replace = F)"
   ]
  },
  {
   "cell_type": "markdown",
   "metadata": {},
   "source": [
    "## Deterministic randomness"
   ]
  },
  {
   "cell_type": "markdown",
   "metadata": {},
   "source": [
    "The random numbers we create are not truly random but pseudo-random: The random sequences are created by following a modulo operator starting with a seed value. If we provide the starting \"seed\", the sequence will always be deterministic and reproducible!"
   ]
  },
  {
   "cell_type": "code",
   "execution_count": null,
   "metadata": {},
   "outputs": [],
   "source": [
    "set.seed(1000)\n",
    "runif(10)"
   ]
  },
  {
   "cell_type": "code",
   "execution_count": null,
   "metadata": {},
   "outputs": [],
   "source": [
    "set.seed(1000)\n",
    "runif(10)"
   ]
  },
  {
   "cell_type": "code",
   "execution_count": null,
   "metadata": {},
   "outputs": [],
   "source": [
    "set.seed(1001)\n",
    "runif(10)"
   ]
  },
  {
   "cell_type": "markdown",
   "metadata": {},
   "source": [
    "# Let's visualize"
   ]
  },
  {
   "cell_type": "markdown",
   "metadata": {},
   "source": [
    "Now that we can create our own datasets, let's visualize the data in a simplistic way"
   ]
  },
  {
   "cell_type": "code",
   "execution_count": null,
   "metadata": {},
   "outputs": [],
   "source": [
    "set.seed(1000)\n",
    "series_1 <- runif(100, -10, 10)\n",
    "series_1"
   ]
  },
  {
   "cell_type": "code",
   "execution_count": null,
   "metadata": {},
   "outputs": [],
   "source": [
    "set.seed(1200)\n",
    "series_2 <- runif(100, -10, 10)\n",
    "series_2"
   ]
  },
  {
   "cell_type": "code",
   "execution_count": null,
   "metadata": {},
   "outputs": [],
   "source": [
    "series_3 <- series_1 + series_2"
   ]
  },
  {
   "cell_type": "markdown",
   "metadata": {},
   "source": [
    "Now make a scatterplot between series_1 and series_3:"
   ]
  },
  {
   "cell_type": "code",
   "execution_count": null,
   "metadata": {
    "scrolled": false
   },
   "outputs": [],
   "source": [
    "plot(series_1, series_3)"
   ]
  },
  {
   "cell_type": "markdown",
   "metadata": {},
   "source": [
    "We may change the labs, the plot title, color of markers and type of markers:"
   ]
  },
  {
   "cell_type": "code",
   "execution_count": null,
   "metadata": {},
   "outputs": [],
   "source": [
    "plot(series_1, series_3, pch=5, col=\"blue\", xlab=\"x observations\", ylab=\"y observations\")\n",
    "title(\"Weight vs. height\")"
   ]
  },
  {
   "cell_type": "markdown",
   "metadata": {},
   "source": [
    "## Line plots"
   ]
  },
  {
   "cell_type": "markdown",
   "metadata": {},
   "source": [
    "Let's generate our own stock price sequence"
   ]
  },
  {
   "cell_type": "markdown",
   "metadata": {},
   "source": [
    "First log returns:"
   ]
  },
  {
   "cell_type": "code",
   "execution_count": null,
   "metadata": {},
   "outputs": [],
   "source": [
    "logret <- rnorm(100, 0, 0.01)\n",
    "logret"
   ]
  },
  {
   "cell_type": "markdown",
   "metadata": {},
   "source": [
    "Convert to e^x:"
   ]
  },
  {
   "cell_type": "code",
   "execution_count": null,
   "metadata": {},
   "outputs": [],
   "source": [
    "logexp <- exp(logret)\n",
    "logexp"
   ]
  },
  {
   "cell_type": "markdown",
   "metadata": {},
   "source": [
    "Get cumulative products:"
   ]
  },
  {
   "cell_type": "code",
   "execution_count": null,
   "metadata": {},
   "outputs": [],
   "source": [
    "logcum <- cumprod(logexp)\n",
    "logcum"
   ]
  },
  {
   "cell_type": "markdown",
   "metadata": {},
   "source": [
    "And let's plot:"
   ]
  },
  {
   "cell_type": "code",
   "execution_count": null,
   "metadata": {},
   "outputs": [],
   "source": [
    "plot(1:100, logcum, type = \"l\")"
   ]
  },
  {
   "cell_type": "markdown",
   "metadata": {},
   "source": [
    "Seems to walk not so randomly!"
   ]
  },
  {
   "cell_type": "markdown",
   "metadata": {},
   "source": [
    "## Histograms"
   ]
  },
  {
   "cell_type": "markdown",
   "metadata": {},
   "source": [
    "Create normal distributed numbers:"
   ]
  },
  {
   "cell_type": "code",
   "execution_count": null,
   "metadata": {},
   "outputs": [],
   "source": [
    "vec_norm <- rnorm(100, 10, 2)\n",
    "vec_norm"
   ]
  },
  {
   "cell_type": "markdown",
   "metadata": {},
   "source": [
    "Create a histogram:"
   ]
  },
  {
   "cell_type": "code",
   "execution_count": null,
   "metadata": {},
   "outputs": [],
   "source": [
    "hist(vec_norm)"
   ]
  },
  {
   "cell_type": "markdown",
   "metadata": {},
   "source": [
    "Default breaks are 6 to 14 in wholenumbers\n",
    "\n",
    "We may instruct to create fewer or more bins by bin count:"
   ]
  },
  {
   "cell_type": "code",
   "execution_count": null,
   "metadata": {},
   "outputs": [],
   "source": [
    "hist(vec_norm, 5)"
   ]
  },
  {
   "cell_type": "code",
   "execution_count": null,
   "metadata": {},
   "outputs": [],
   "source": [
    "hist(vec_norm, 20)"
   ]
  },
  {
   "cell_type": "markdown",
   "metadata": {},
   "source": [
    "Or explicitly tell the cutting points of bins:"
   ]
  },
  {
   "cell_type": "code",
   "execution_count": null,
   "metadata": {},
   "outputs": [],
   "source": [
    "hist(vec_norm, seq(5, 15, by = 0.5))"
   ]
  },
  {
   "cell_type": "markdown",
   "metadata": {},
   "source": [
    "# Exercises"
   ]
  },
  {
   "cell_type": "markdown",
   "metadata": {},
   "source": [
    "**EXERCISE 2:**\n",
    "\n",
    "Write an R expression that simulates the outcome of the 6/49 Lottery (Sayısal Loto), where one draws 6 numbers from 1, 2, ..., 49. Note that the same number cannot appear twice in one drawing."
   ]
  },
  {
   "cell_type": "code",
   "execution_count": null,
   "metadata": {},
   "outputs": [],
   "source": []
  },
  {
   "cell_type": "markdown",
   "metadata": {},
   "source": [
    "**SOLUTION 2:**"
   ]
  },
  {
   "cell_type": "code",
   "execution_count": null,
   "metadata": {},
   "outputs": [],
   "source": [
    "pass <- readline(prompt = \"Please enter the password for the solution: \")\n",
    "encrypt <- \"U2FsdGVkX19sWJ9lF7qpFxDONhnKoLyuytToYxAZEIoImCCQZUHxFiUG3Lelli80\"\n",
    "solution <- system(sprintf(\"echo %s | openssl enc -md sha256 -aes-128-cbc -a -d -salt -pass pass:%s 2> /dev/null\", encrypt, pass), intern = T, ignore.stderr = T)\n",
    "cat(solution, sep = \"\\n\")\n",
    "eval(parse(text = solution))"
   ]
  },
  {
   "cell_type": "markdown",
   "metadata": {},
   "source": [
    "**EXERCISE 3:**\n",
    "\n",
    "Generate 1000 random numbers, drawn from the normal distribution with standard deviation 2, and another 1000 with standard deviation 0.5.\n",
    "\n",
    "Plot the histogram for each set of numbers. What can you say about the effect of the standard deviation?"
   ]
  },
  {
   "cell_type": "code",
   "execution_count": null,
   "metadata": {},
   "outputs": [],
   "source": []
  },
  {
   "cell_type": "markdown",
   "metadata": {},
   "source": [
    "**SOLUTION 3:**"
   ]
  },
  {
   "cell_type": "code",
   "execution_count": null,
   "metadata": {},
   "outputs": [],
   "source": [
    "pass <- readline(prompt = \"Please enter the password for the solution: \")\n",
    "encrypt <- \"U2FsdGVkX1/bD2yBw48w9AUJEo/8FuDWVGU31+8rfEJR3A0/7Ua7vNNizQ3KiCm1 42w0twVHkHvRWCKZJLd8tw2OonG6/j+hujCeahlHX2rOjhr2+Arfs+s6Lta5Aa9+ YsEoxgQPEGGXowd2JVwpYy3h9Zl6vOk9T6lopyJY3T0mHTHZ8TERgdCixKpn4hql LkAm5Ec+cDUauWY/cZChx7scxYTnb5eLsx66YWFtm7fPDVMbxeB4flXam9CAXHOP Zlg+wpFRmcmBpOpvPeVGlg==\"\n",
    "solution <- system(sprintf(\"echo %s | openssl enc -md sha256 -aes-128-cbc -a -d -salt -pass pass:%s 2> /dev/null\", encrypt, pass), intern = T, ignore.stderr = T)\n",
    "cat(solution, sep = \"\\n\")\n",
    "eval(parse(text = solution))"
   ]
  },
  {
   "cell_type": "markdown",
   "metadata": {},
   "source": [
    "**EXERCISE 4:**\n",
    "\n",
    "Throw 10 coins and count the number of heads.\n",
    "\n",
    "Repeat this experiment ten times, and find the mean of the number of heads."
   ]
  },
  {
   "cell_type": "code",
   "execution_count": null,
   "metadata": {},
   "outputs": [],
   "source": []
  },
  {
   "cell_type": "markdown",
   "metadata": {},
   "source": [
    "**SOLUTION 4:**"
   ]
  },
  {
   "cell_type": "code",
   "execution_count": null,
   "metadata": {},
   "outputs": [],
   "source": [
    "pass <- readline(prompt = \"Please enter the password for the solution: \")\n",
    "encrypt <- \"U2FsdGVkX1/jUdM7nJMTxHeUDi2lJkTiDgyjxeUW0T4panxKji0H1vOxZyms4b3J xTx8gk+9sZEK0i+Nuu2MJP8ozSXjfEDuQsSf/5A6kYY=\"\n",
    "solution <- system(sprintf(\"echo %s | openssl enc -md sha256 -aes-128-cbc -a -d -salt -pass pass:%s 2> /dev/null\", encrypt, pass), intern = T, ignore.stderr = T)\n",
    "cat(solution, sep = \"\\n\")\n",
    "eval(parse(text = solution))"
   ]
  },
  {
   "cell_type": "markdown",
   "metadata": {},
   "source": [
    "**EXERCISE 5:**\n",
    "\n",
    "Throw 3 dice 10000 times. Plot the histogram of the outcomes (outcomes should be between 3 and 18).\n",
    "\n",
    "Hint: You can use sample, cumsum, seq and the exercise 5 from CMPE_140_02_PS! "
   ]
  },
  {
   "cell_type": "code",
   "execution_count": null,
   "metadata": {},
   "outputs": [],
   "source": [
    "pass <- readline(prompt = \"Please enter the password for the solution: \")\n",
    "encrypt <- \"U2FsdGVkX1/WJMccpnyNqQTS5ZEm4yiinJDeWgBMRNXd1izrG6xVXSGQU4qtRffK xzxXlkNf1kT6/o3ma9UPRH7LeVts1vxoVgJ6s2Xf3vxiU4dBQET43ethyCKFeQQ7 yTMO6PZCdcL0Up1U+DAYXIoBSXHLLxOfeJa+mPDs4mHvp3slZnLxZboXjBtQxkUo jrj2GvdxDY4h6SVLAynuRzwUBbqY7BJZAmICbDMu9MjPXa4VpZh+S4s0veYyX6Y0 qxs2A+SnoEDYL08KPFqZ03HW32quZx5UJhEpScSpzGryL2QY6PJ9RZhWp7w4D/3H QMJEsncM3a/7QZgHKYmmnwNuT8I3WpPhZ7v6zQgNZIy0kfTvXri5sqi1LsNV1fOq hOZg6ZxPAHAGB9ohIg1eWvsUqGiMHppxaiQrO+KNCa70EdG7UpMt7wfu0IQvFuM+ qwwFXd9q02iT2O4cportJzxwj3t5RUCB98SivBLQlh5QlAhDwaXrPqxE1y2SjFMR k8Ibua58hLQWiEbBL74sU/Jy7X7DHkikLLx46Px2o5Bv8o7mdCDkJTN9uvPAKnFZ 2ntXmFlINVKid0VFmOSV/RED5MFXsRGY9osKlkGFuv/y6vBr7UJKPfvSomfx5Uw+ q+PIzE9Stpl42fLgz5aBb4B5rKfO42DLU/mDBzjyOwR7fxdmZDfCA3OGcBOrjLSa 67PneoqgN5EbLZTGFniS7fqJ4DUlCS4FYR7madpPfuANodpvHzw2vOXbWPvZx3ms YFZHtO6sJ7lp6lAPCnGj0O7LfuTvVL+7fE1gKKSfVgwyDQiCqzvUN0ocpLXl2SaS B8bArsYFjm18tHqkSPhch4J2GedJry8TXlYvKq1LRhxOswvukTMEtbjBY1yd4xC/\"\n",
    "solution <- system(sprintf(\"echo %s | openssl enc -md sha256 -aes-128-cbc -a -d -salt -pass pass:%s 2> /dev/null\", encrypt, pass), intern = T, ignore.stderr = T)\n",
    "cat(solution, sep = \"\\n\")\n",
    "eval(parse(text = solution))"
   ]
  },
  {
   "cell_type": "code",
   "execution_count": null,
   "metadata": {},
   "outputs": [],
   "source": []
  }
 ],
 "metadata": {
  "kernelspec": {
   "display_name": "R",
   "language": "R",
   "name": "ir"
  },
  "language_info": {
   "codemirror_mode": "r",
   "file_extension": ".r",
   "mimetype": "text/x-r-source",
   "name": "R",
   "pygments_lexer": "r",
   "version": "3.5.2"
  },
  "toc": {
   "base_numbering": 1,
   "nav_menu": {},
   "number_sections": true,
   "sideBar": true,
   "skip_h1_title": false,
   "title_cell": "Table of Contents",
   "title_sidebar": "Contents",
   "toc_cell": false,
   "toc_position": {},
   "toc_section_display": "block",
   "toc_window_display": false
  }
 },
 "nbformat": 4,
 "nbformat_minor": 2
}
