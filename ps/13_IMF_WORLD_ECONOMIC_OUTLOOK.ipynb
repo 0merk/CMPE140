{
 "cells": [
  {
   "cell_type": "code",
   "execution_count": null,
   "metadata": {},
   "outputs": [],
   "source": [
    "options(jupyter.rich_display = F)"
   ]
  },
  {
   "cell_type": "markdown",
   "metadata": {},
   "source": [
    "# Data import, wrangling and analysis\n",
    "\n",
    "**by Serhat Çevikel**"
   ]
  },
  {
   "cell_type": "markdown",
   "metadata": {},
   "source": [
    "Today we will import an external data:"
   ]
  },
  {
   "cell_type": "code",
   "execution_count": null,
   "metadata": {},
   "outputs": [],
   "source": [
    "weo <- read.csv(\"../file/weo_clean.csv\")"
   ]
  },
  {
   "cell_type": "code",
   "execution_count": null,
   "metadata": {},
   "outputs": [],
   "source": [
    "str(weo)"
   ]
  },
  {
   "cell_type": "markdown",
   "metadata": {},
   "source": [
    "We have 162 countries and 12 variables:"
   ]
  },
  {
   "cell_type": "code",
   "execution_count": null,
   "metadata": {},
   "outputs": [],
   "source": [
    "names(weo)"
   ]
  },
  {
   "cell_type": "markdown",
   "metadata": {},
   "source": [
    "Keeping the old names, we will change the variable names to more comprehensive ones:"
   ]
  },
  {
   "cell_type": "code",
   "execution_count": null,
   "metadata": {},
   "outputs": [],
   "source": [
    "old_names <- names(weo)"
   ]
  },
  {
   "cell_type": "code",
   "execution_count": null,
   "metadata": {},
   "outputs": [],
   "source": [
    "new_names <- c(\"Country\", \"GDP_growth\", \"GDP\", \"GDP_per_capita\",\n",
    "               \"Output_gap\", \"Investment\", \"Saving\", \"Inflation\",\n",
    "               \"Unemployment\", \"Primary_balance\", \"Net_debt\", \"Current_account\")"
   ]
  },
  {
   "cell_type": "code",
   "execution_count": null,
   "metadata": {},
   "outputs": [],
   "source": [
    "names(weo) <- new_names"
   ]
  },
  {
   "cell_type": "code",
   "execution_count": null,
   "metadata": {},
   "outputs": [],
   "source": [
    "weo"
   ]
  },
  {
   "cell_type": "markdown",
   "metadata": {},
   "source": [
    "## Add a new variable"
   ]
  },
  {
   "cell_type": "markdown",
   "metadata": {},
   "source": [
    "Add a new variable Saving - Investment:"
   ]
  },
  {
   "cell_type": "code",
   "execution_count": null,
   "metadata": {},
   "outputs": [],
   "source": [
    "weo$Saving_gap <- with(weo, Saving - Investment)"
   ]
  },
  {
   "cell_type": "markdown",
   "metadata": {},
   "source": [
    "## Discretize variables"
   ]
  },
  {
   "cell_type": "markdown",
   "metadata": {},
   "source": [
    "Now we will three categories of income level: Low, medium and high"
   ]
  },
  {
   "cell_type": "code",
   "execution_count": null,
   "metadata": {},
   "outputs": [],
   "source": [
    "weo$Income_level <- with(weo, cut(GDP_per_capita,\n",
    "              breaks = c(0, 5000, 20000,\n",
    "                         max(GDP_per_capita, na.rm = T)),\n",
    "              labels = c(\"low\", \"medium\", \"high\")))"
   ]
  },
  {
   "cell_type": "markdown",
   "metadata": {},
   "source": [
    "See the distribution across levels:"
   ]
  },
  {
   "cell_type": "code",
   "execution_count": null,
   "metadata": {
    "scrolled": false
   },
   "outputs": [],
   "source": [
    "barplot(table(weo$Income_level))"
   ]
  },
  {
   "cell_type": "markdown",
   "metadata": {},
   "source": [
    "## Get summaries"
   ]
  },
  {
   "cell_type": "code",
   "execution_count": null,
   "metadata": {},
   "outputs": [],
   "source": [
    "weo"
   ]
  },
  {
   "cell_type": "markdown",
   "metadata": {},
   "source": [
    "Aggregate variables for each income level:"
   ]
  },
  {
   "cell_type": "code",
   "execution_count": null,
   "metadata": {},
   "outputs": [],
   "source": [
    "t(with(weo, aggregate(weo[,2:13], by = list(Income_level), FUN = median, na.rm = T)))"
   ]
  },
  {
   "cell_type": "markdown",
   "metadata": {},
   "source": [
    "Please interpret this table ..."
   ]
  },
  {
   "cell_type": "markdown",
   "metadata": {},
   "source": [
    "Create scatterplots of selected variables:"
   ]
  },
  {
   "cell_type": "code",
   "execution_count": null,
   "metadata": {},
   "outputs": [],
   "source": [
    "palette(c(\"green\", \"red\", \"blue\"))"
   ]
  },
  {
   "cell_type": "code",
   "execution_count": null,
   "metadata": {
    "scrolled": false
   },
   "outputs": [],
   "source": [
    "plot(weo[,c(\"GDP_growth\", \"Primary_balance\", \"Net_debt\", \"Current_account\", \"Saving_gap\")],\n",
    "    col = as.numeric(weo$Income_level))"
   ]
  },
  {
   "cell_type": "code",
   "execution_count": null,
   "metadata": {},
   "outputs": [],
   "source": [
    "plot(weo[,c(\"Current_account\", \"Saving_gap\")],\n",
    "    col = as.numeric(weo$Income_level))"
   ]
  },
  {
   "cell_type": "markdown",
   "metadata": {},
   "source": [
    "We see Saving Gap is nearly identical to Current Account Balance for many countries"
   ]
  },
  {
   "cell_type": "markdown",
   "metadata": {},
   "source": [
    "We may look at correlations:"
   ]
  },
  {
   "cell_type": "code",
   "execution_count": null,
   "metadata": {},
   "outputs": [],
   "source": [
    "cor(weo[,c(\"GDP_growth\", \"Primary_balance\", \"Net_debt\", \"Current_account\", \"Saving_gap\")])"
   ]
  },
  {
   "cell_type": "markdown",
   "metadata": {},
   "source": [
    "We can check the scatter between primary balance and current account:"
   ]
  },
  {
   "cell_type": "code",
   "execution_count": null,
   "metadata": {
    "scrolled": false
   },
   "outputs": [],
   "source": [
    "plot(weo[,c(\"Primary_balance\", \"Current_account\")],\n",
    "    col = as.numeric(weo$Income_level))"
   ]
  },
  {
   "cell_type": "markdown",
   "metadata": {},
   "source": [
    "Though there are outliers, for a majority of low income countries the current account balance and primary balance are lower"
   ]
  },
  {
   "cell_type": "markdown",
   "metadata": {},
   "source": [
    "# WRANGLING AN ECONOMIC DATA SET: IMF WORLD ECONOMIC OUTLOOK, CONTINUED"
   ]
  },
  {
   "cell_type": "markdown",
   "metadata": {},
   "source": [
    "We continue to wrangle and analyze 2016 data of World Economic Outlook dataset by IMF"
   ]
  },
  {
   "cell_type": "markdown",
   "metadata": {},
   "source": [
    "First please download following two data files:\n",
    "\n",
    "[weo_2016_wide_2.csv](~/file/weo_2016_wide_2.csv)\n",
    "\n",
    "[weo_description.csv](~/file/weo_description.csv)"
   ]
  },
  {
   "cell_type": "markdown",
   "metadata": {},
   "source": [
    "And read the data into R as such:"
   ]
  },
  {
   "cell_type": "code",
   "execution_count": null,
   "metadata": {},
   "outputs": [],
   "source": [
    "weo_data <- read.csv(\"~/file/weo_2016_wide_2.csv\")\n",
    "weo_desc <- read.csv(\"~/file/weo_description.csv\")"
   ]
  },
  {
   "cell_type": "markdown",
   "metadata": {},
   "source": [
    "Let's take a quick snapshot of the data:"
   ]
  },
  {
   "cell_type": "code",
   "execution_count": null,
   "metadata": {},
   "outputs": [],
   "source": [
    "str(weo_data)"
   ]
  },
  {
   "cell_type": "code",
   "execution_count": null,
   "metadata": {},
   "outputs": [],
   "source": [
    "str(weo_desc)"
   ]
  },
  {
   "cell_type": "code",
   "execution_count": null,
   "metadata": {},
   "outputs": [],
   "source": [
    "weo_desc"
   ]
  },
  {
   "cell_type": "markdown",
   "metadata": {},
   "source": [
    "There are 45 numeric variables for 194 countries (some of the data might be missing). We will be interested in only a few of those series"
   ]
  },
  {
   "cell_type": "markdown",
   "metadata": {},
   "source": [
    "## ADDING SAVINGS GAP"
   ]
  },
  {
   "cell_type": "markdown",
   "metadata": {},
   "source": [
    "- NID_NGDP is \"Total investment\"\n",
    "- NGSD_NGDP is \"Gross national savings\"\n",
    "\n",
    "Now let's add a new variable \"savings_gap\":"
   ]
  },
  {
   "cell_type": "code",
   "execution_count": null,
   "metadata": {},
   "outputs": [],
   "source": [
    "weo_data$savings_gap <- with(weo_data, NGSD_NGDP - NID_NGDP)"
   ]
  },
  {
   "cell_type": "markdown",
   "metadata": {},
   "source": [
    "## DISCRETIZE INCOME VARIABLE"
   ]
  },
  {
   "cell_type": "markdown",
   "metadata": {},
   "source": [
    "PPPPC is Gross domestic product per capita, current prices with\tpurchasing power parity and in international dollars"
   ]
  },
  {
   "cell_type": "markdown",
   "metadata": {},
   "source": [
    "Now we will three categories of income level: Low, medium and high"
   ]
  },
  {
   "cell_type": "code",
   "execution_count": null,
   "metadata": {},
   "outputs": [],
   "source": [
    "weo_data$income_level <- with(weo_data, cut(PPPPC,\n",
    "              breaks = c(0, 5000, 20000,\n",
    "                         max(PPPPC, na.rm = T)),\n",
    "              labels = c(\"low\", \"medium\", \"high\")))"
   ]
  },
  {
   "cell_type": "markdown",
   "metadata": {},
   "source": [
    "Let's see in a single plot:\n",
    "- the distribution across levels\n",
    "- and the dispersion of income within income levels\n",
    "- scatterplot across savings gap and incomee"
   ]
  },
  {
   "cell_type": "code",
   "execution_count": null,
   "metadata": {
    "scrolled": false
   },
   "outputs": [],
   "source": [
    "options(repr.plot.width=15, repr.plot.height=15)\n",
    "par(mfrow = c(2,2))\n",
    "barplot(table(weo_data$income_level))\n",
    "with(weo_data, boxplot(PPPPC ~ income_level))\n",
    "with(weo_data, plot(savings_gap, PPPPC, col = income_level))"
   ]
  },
  {
   "cell_type": "markdown",
   "metadata": {},
   "source": [
    "See that high income level has more outliers"
   ]
  },
  {
   "cell_type": "markdown",
   "metadata": {},
   "source": [
    "## SUMMARIZE DATA"
   ]
  },
  {
   "cell_type": "markdown",
   "metadata": {},
   "source": [
    "Let's get the median of all variables across income categories"
   ]
  },
  {
   "cell_type": "code",
   "execution_count": null,
   "metadata": {},
   "outputs": [],
   "source": [
    "weo_data_subset1 <- weo_data[,setdiff(names(weo_data),\n",
    "                                             c(\"WEO.Country.Code\",\n",
    "                                               \"ISO\",\n",
    "                                               \"Country\",\n",
    "                                              \"income_level\"))]\n",
    "\n",
    "weo_sum <- aggregate(weo_data_subset1,\n",
    "          by = weo_data[\"income_level\"],\n",
    "          FUN = median,\n",
    "          na.rm = T)"
   ]
  },
  {
   "cell_type": "code",
   "execution_count": null,
   "metadata": {},
   "outputs": [],
   "source": [
    "weo_sum"
   ]
  },
  {
   "cell_type": "markdown",
   "metadata": {},
   "source": [
    "Now let's reshape this data frame two times and merge with descriptions so that it is in a more interpretable format\n",
    "\n",
    "First melt it:"
   ]
  },
  {
   "cell_type": "code",
   "execution_count": null,
   "metadata": {},
   "outputs": [],
   "source": [
    "cols <- names(weo_sum)[-1]\n",
    "\n",
    "weo_long <- reshape(weo_sum,\n",
    "                      idvar = c(\"income_level\"),\n",
    "                      varying = cols,\n",
    "                        times = cols,\n",
    "                    timevar = \"variable\",\n",
    "                      v.name = \"value\",\n",
    "                      direction = \"long\")\n",
    "\n",
    "rownames(weo_long) <- NULL"
   ]
  },
  {
   "cell_type": "code",
   "execution_count": null,
   "metadata": {},
   "outputs": [],
   "source": [
    "weo_long"
   ]
  },
  {
   "cell_type": "markdown",
   "metadata": {},
   "source": [
    "And then cast it:"
   ]
  },
  {
   "cell_type": "code",
   "execution_count": null,
   "metadata": {},
   "outputs": [],
   "source": [
    "weo_wide <- reshape(weo_long,\n",
    "                      idvar = c(\"variable\"),\n",
    "                      v.names = \"value\",\n",
    "                      timevar = \"income_level\",\n",
    "                      direction = \"wide\")\n",
    "\n",
    "weo_wide"
   ]
  },
  {
   "cell_type": "markdown",
   "metadata": {},
   "source": [
    "And finally merge it:"
   ]
  },
  {
   "cell_type": "code",
   "execution_count": null,
   "metadata": {},
   "outputs": [],
   "source": [
    "weo_sum_merged <- merge(\n",
    "    weo_desc[c(\"WEO.Subject.Code\", \"Subject.Descriptor\", \"Units\")],\n",
    "    weo_wide,\n",
    "    by.y = \"variable\",\n",
    "    by.x= \"WEO.Subject.Code\",\n",
    "    all.y = T)\n",
    "\n",
    "weo_sum_merged"
   ]
  },
  {
   "cell_type": "markdown",
   "metadata": {},
   "source": [
    "Take some time to interpret this data frame"
   ]
  },
  {
   "cell_type": "markdown",
   "metadata": {},
   "source": [
    "## SCATTERPLOTS"
   ]
  },
  {
   "cell_type": "markdown",
   "metadata": {},
   "source": [
    "Create scatterplots of selected variables:"
   ]
  },
  {
   "cell_type": "code",
   "execution_count": null,
   "metadata": {
    "scrolled": false
   },
   "outputs": [],
   "source": [
    "cols2 <- c(\"NGDP_RPCH\", \"GGXONLB_NGDP\", \"GGXWDN_NGDP\", \"BCA_NGDPD\", \"savings_gap\")\n",
    "newnames <- c(\"GDP_growth\", \"Primary_balance\", \"Net_debt\", \"Current_account\", \"Saving_gap\")\n",
    "\n",
    "weo_data_subset2 <- weo_data[cols2]\n",
    "names(weo_data_subset2) <- newnames\n",
    "\n",
    "plot(weo_data_subset2, col = weo_data$income_level)"
   ]
  },
  {
   "cell_type": "markdown",
   "metadata": {},
   "source": [
    "We see Saving Gap is nearly identical to Current Account Balance for many countries"
   ]
  },
  {
   "cell_type": "markdown",
   "metadata": {},
   "source": [
    "## CORRELATIONS"
   ]
  },
  {
   "cell_type": "markdown",
   "metadata": {},
   "source": [
    "We may look at correlations:"
   ]
  },
  {
   "cell_type": "code",
   "execution_count": null,
   "metadata": {},
   "outputs": [],
   "source": [
    "weo_desc"
   ]
  },
  {
   "cell_type": "code",
   "execution_count": null,
   "metadata": {
    "scrolled": false
   },
   "outputs": [],
   "source": [
    "vars3 <- with(weo_desc, WEO.Subject.Code[which(Units != \"National currency\" & !(Scale %in% c(\"Millions\", \"Billions\")))])\n",
    "vars3 <- as.character(vars3)\n",
    "length(vars3)\n",
    "\n",
    "weo_data_subset3 <- weo_data[,vars3] \n",
    "weo_data_subset3"
   ]
  },
  {
   "cell_type": "code",
   "execution_count": null,
   "metadata": {},
   "outputs": [],
   "source": [
    "cormat <- round(cor(weo_data_subset3, use = \"pairwise.complete.obs\"), 2)\n",
    "cormat"
   ]
  },
  {
   "cell_type": "markdown",
   "metadata": {},
   "source": [
    "Order the descriptions according to the correlation matrix:"
   ]
  },
  {
   "cell_type": "code",
   "execution_count": null,
   "metadata": {},
   "outputs": [],
   "source": [
    "desc_ordered <- weo_desc[match(rownames(cormat), weo_desc$WEO.Subject.Code),]\n",
    "desc_ordered"
   ]
  },
  {
   "cell_type": "markdown",
   "metadata": {},
   "source": [
    "An combine descriptor and units into a single column:"
   ]
  },
  {
   "cell_type": "code",
   "execution_count": null,
   "metadata": {},
   "outputs": [],
   "source": [
    "desc_ordered$longdesc <- with(desc_ordered, paste(Subject.Descriptor, Units, sep = \" - \"))\n",
    "\n",
    "desc_ordered"
   ]
  },
  {
   "cell_type": "markdown",
   "metadata": {},
   "source": [
    "Get the indices of high (but less than perfect) correlations:"
   ]
  },
  {
   "cell_type": "code",
   "execution_count": null,
   "metadata": {},
   "outputs": [],
   "source": [
    "highcor <- which(abs(cormat) > 0.5 & abs(cormat) < 0.8, arr.ind = T)\n",
    "rownames(highcor) <- NULL\n",
    "highcor"
   ]
  },
  {
   "cell_type": "markdown",
   "metadata": {},
   "source": [
    "And get unique rows (eliminate second row of each pair):"
   ]
  },
  {
   "cell_type": "code",
   "execution_count": null,
   "metadata": {},
   "outputs": [],
   "source": [
    "highcor2 <- unique(t(apply(highcor, 1, sort)))\n",
    "highcor2"
   ]
  },
  {
   "cell_type": "markdown",
   "metadata": {},
   "source": [
    "And see which variable pairs are highly correlated:"
   ]
  },
  {
   "cell_type": "code",
   "execution_count": null,
   "metadata": {},
   "outputs": [],
   "source": [
    "pairs <- as.data.frame(t(apply(highcor2, 1, function(x) desc_ordered$longdesc[x])))"
   ]
  },
  {
   "cell_type": "markdown",
   "metadata": {},
   "source": [
    "And add the correlations:"
   ]
  },
  {
   "cell_type": "code",
   "execution_count": null,
   "metadata": {},
   "outputs": [],
   "source": [
    "pairs$cor <- cormat[highcor2]"
   ]
  },
  {
   "cell_type": "code",
   "execution_count": null,
   "metadata": {},
   "outputs": [],
   "source": [
    "pairs[order(-abs(pairs$cor)),]"
   ]
  },
  {
   "cell_type": "markdown",
   "metadata": {},
   "source": [
    "Now some definitions:\n",
    "\n",
    "> The output gap is actual minus potential output, as a percentage of potential output. Structural balances are expressed as a percentage of potential output. The structural balance is the actual net lending/borrowing minus the effects of cyclical output from potential output, corrected for one-time and other factors, such as asset and commodity prices and output composition effects. Changes in the structural balance consequently include effects of temporary fiscal measures, the impact of fluctuations in interest rates and debt-service costs, and other noncyclical fluctuations in net lending/borrowing. The computations of structural balances are based on the IMF staff’s estimates of potential GDP and revenue and expenditure elasticities. (See Annex I of the October 1993 WEO.) Net debt is calculated as gross debt minus financial assets corresponding to debt instruments. Estimates of the output gap and of the structural balance are subject to significant margins of uncertainty.\n",
    "\n",
    "(https://www.elibrary.imf.org/view/IMF081/28248-9781513508214/28248-9781513508214/ch04.xml?redirect=true)\n",
    "\n",
    "> The output gap is an economic measure of the difference between the actual output of an economy and its potential output. Potential output is the maximum amount of goods and services an economy can turn out when it is most efficient—that is, at full capacity. Often, potential output is referred to as the production capacity of the economy. ...\n",
    "\n",
    "> Various methodologies are used to estimate potential output, but they all assume that output can be divided into a trend and a cyclical component. The trend is interpreted as a measure of the economy’s potential output and the cycle as a measure of the output gap. The trick to estimating potential output, therefore, is to estimate trends—that is, to remove the cyclical changes. ...\n",
    "\n",
    "> A common method of measuring potential output is the application of statistical techniques that differentiate between the short-term ups and downs and the long-term trend. The Hodrick-Prescott filter is one popular technique for separating the short from the long term. Other methods estimate the production function, a mathematical equation that calculates output based on an economy’s inputs, such as labor and capital. Trends are estimated by removing the cyclical changes in the inputs.\n",
    "\n",
    "(https://www.imf.org/external/pubs/ft/fandd/2013/09/basics.htm)"
   ]
  },
  {
   "cell_type": "markdown",
   "metadata": {},
   "source": [
    "Now let's create the scatterplots of just those variable pairs into a single grid:"
   ]
  },
  {
   "cell_type": "code",
   "execution_count": null,
   "metadata": {},
   "outputs": [],
   "source": [
    "nrow(highcor2)"
   ]
  },
  {
   "cell_type": "markdown",
   "metadata": {},
   "source": [
    "In row major order with mfrow:"
   ]
  },
  {
   "cell_type": "code",
   "execution_count": null,
   "metadata": {},
   "outputs": [],
   "source": [
    "options(repr.plot.width=20, repr.plot.height=20)\n",
    "highcor3 <- cbind(highcor2, seq_along(highcor2[,1]))\n",
    "par(mfrow = c(4, 2))\n",
    "apply(highcor3, 1, function(x) plot(weo_data_subset3[,x[-3]],\n",
    "                                    xlab = desc_ordered$longdesc[x[1]],\n",
    "                                    ylab = strwrap(desc_ordered$longdesc[x[2]], width=35, simplify=FALSE),\n",
    "                                    main = paste(\"Plot:\", x[3]),\n",
    "                                    col = weo_data$income_level,\n",
    "                                    cex.lab = 1.5))"
   ]
  },
  {
   "cell_type": "markdown",
   "metadata": {},
   "source": [
    "And then column major order with mfcol:"
   ]
  },
  {
   "cell_type": "code",
   "execution_count": null,
   "metadata": {},
   "outputs": [],
   "source": [
    "options(repr.plot.width=20, repr.plot.height=20)\n",
    "highcor3 <- cbind(highcor2, seq_along(highcor2[,1]))\n",
    "par(mfcol = c(4, 2))\n",
    "apply(highcor3, 1, function(x) plot(weo_data_subset3[,x[-3]],\n",
    "                                    xlab = desc_ordered$longdesc[x[1]],\n",
    "                                    ylab = strwrap(desc_ordered$longdesc[x[2]], width=35, simplify=FALSE),\n",
    "                                    main = paste(\"Plot:\", x[3]),\n",
    "                                    col = weo_data$income_level,\n",
    "                                    cex.lab = 1.5))"
   ]
  },
  {
   "cell_type": "markdown",
   "metadata": {},
   "source": [
    "## REGRESSION MODELING"
   ]
  },
  {
   "cell_type": "markdown",
   "metadata": {},
   "source": [
    "Now we will conduct a multiple linear regression analysis to understand the relationship among variables\n",
    "\n",
    "Let's try to explain:\n",
    "\n",
    "- NGDP_RPCH,\"Gross domestic product, constant prices\",Percent change,\n",
    "\n",
    "with\n",
    "\n",
    "- PPPSH,Gross domestic product based on purchasing-power-parity (PPP) share of world total,Percent,\n",
    "- NID_NGDP,Total investment,Percent of GDP,\n",
    "- PCPIPCH,\"Inflation, average consumer prices\",Percent change,\n",
    "- GGXONLB_NGDP,General government primary net lending/borrowing,Percent of GDP,\n",
    "- GGXWDN_NGDP,General government net debt,Percent of GDP"
   ]
  },
  {
   "cell_type": "markdown",
   "metadata": {},
   "source": [
    "Let's user weo_data_subset3"
   ]
  },
  {
   "cell_type": "code",
   "execution_count": null,
   "metadata": {},
   "outputs": [],
   "source": [
    "independent_vars <- c(\"PPPSH\", \"NID_NGDP\", \"PCPIPCH\", \"GGXONLB_NGDP\", \"GGXWDN_NGDP\")\n",
    "dependent_var <- \"NGDP_RPCH\""
   ]
  },
  {
   "cell_type": "code",
   "execution_count": null,
   "metadata": {},
   "outputs": [],
   "source": [
    "names(weo_data_subset3)"
   ]
  },
  {
   "cell_type": "markdown",
   "metadata": {},
   "source": [
    "Let's first subset necessary variables "
   ]
  },
  {
   "cell_type": "code",
   "execution_count": null,
   "metadata": {},
   "outputs": [],
   "source": [
    "weo_data_subset4 <- weo_data_subset3[, c(dependent_var, independent_vars)]"
   ]
  },
  {
   "cell_type": "markdown",
   "metadata": {},
   "source": [
    "And delete rows with missing values"
   ]
  },
  {
   "cell_type": "code",
   "execution_count": null,
   "metadata": {},
   "outputs": [],
   "source": [
    "weo_data_subset5 <- na.omit(weo_data_subset4)"
   ]
  },
  {
   "cell_type": "code",
   "execution_count": null,
   "metadata": {},
   "outputs": [],
   "source": [
    "str(weo_data_subset5)"
   ]
  },
  {
   "cell_type": "code",
   "execution_count": null,
   "metadata": {},
   "outputs": [],
   "source": [
    "modelx <- paste(dependent_var, paste(independent_vars, collapse = \"+\"), sep =\"~\")"
   ]
  },
  {
   "cell_type": "code",
   "execution_count": null,
   "metadata": {},
   "outputs": [],
   "source": [
    "reg_mod <- lm(modelx, weo_data_subset5)"
   ]
  },
  {
   "cell_type": "code",
   "execution_count": null,
   "metadata": {},
   "outputs": [],
   "source": [
    "reg_mod"
   ]
  },
  {
   "cell_type": "code",
   "execution_count": null,
   "metadata": {},
   "outputs": [],
   "source": [
    "summary(reg_mod)"
   ]
  },
  {
   "cell_type": "markdown",
   "metadata": {},
   "source": [
    "As we see onlu NID_NGDP (Total investment,Percent of GDP) is a significant dependent variable for explaining the variation in NGDP_RPCH,\"Gross domestic product, constant prices\",Percent change\n",
    "\n",
    "The coefficient is 0.156906.\n",
    "\n",
    "So every unit increase in investment/GDP ratio results in 0.15% increase in GDP growth"
   ]
  },
  {
   "cell_type": "markdown",
   "metadata": {},
   "source": [
    "Let's leave alone this single significant variable:"
   ]
  },
  {
   "cell_type": "code",
   "execution_count": null,
   "metadata": {},
   "outputs": [],
   "source": [
    "reg_mod2 <- lm(NGDP_RPCH ~ NID_NGDP, weo_data_subset5)"
   ]
  },
  {
   "cell_type": "code",
   "execution_count": null,
   "metadata": {},
   "outputs": [],
   "source": [
    "summary(reg_mod2)"
   ]
  },
  {
   "cell_type": "markdown",
   "metadata": {},
   "source": [
    "Investment/GDP ratio alone explains around 20% cross-section variation in GDP growth rates across countries "
   ]
  },
  {
   "cell_type": "markdown",
   "metadata": {},
   "source": [
    "# MULTIPLE LINE PLOTS"
   ]
  },
  {
   "cell_type": "markdown",
   "metadata": {},
   "source": [
    "Let's draw sine and cosine curves on the same plot and with a legend:"
   ]
  },
  {
   "cell_type": "code",
   "execution_count": null,
   "metadata": {},
   "outputs": [],
   "source": [
    "deg <- 1:1000\n",
    "rad <- deg / 180 * pi\n",
    "\n",
    "sinx <- sin(rad)\n",
    "cosx <- cos(rad)"
   ]
  },
  {
   "cell_type": "code",
   "execution_count": null,
   "metadata": {
    "scrolled": true
   },
   "outputs": [],
   "source": [
    "plot(deg, sinx, type = \"l\", col = \"blue\")\n",
    "lines(deg, cosx, col = \"red\")\n",
    "legend(\"right\", \"top\", legend=c(\"sin\", \"cos\"),\n",
    "       col=c(\"blue\", \"red\"), lty=1, cex=0.8)"
   ]
  },
  {
   "cell_type": "code",
   "execution_count": null,
   "metadata": {},
   "outputs": [],
   "source": []
  }
 ],
 "metadata": {
  "kernelspec": {
   "display_name": "R",
   "language": "R",
   "name": "ir"
  },
  "language_info": {
   "codemirror_mode": "r",
   "file_extension": ".r",
   "mimetype": "text/x-r-source",
   "name": "R",
   "pygments_lexer": "r",
   "version": "4.0.3"
  },
  "toc": {
   "base_numbering": 1,
   "nav_menu": {},
   "number_sections": true,
   "sideBar": true,
   "skip_h1_title": false,
   "title_cell": "Table of Contents",
   "title_sidebar": "Contents",
   "toc_cell": false,
   "toc_position": {},
   "toc_section_display": "block",
   "toc_window_display": true
  },
  "varInspector": {
   "cols": {
    "lenName": 16,
    "lenType": 16,
    "lenVar": 40
   },
   "kernels_config": {
    "python": {
     "delete_cmd_postfix": "",
     "delete_cmd_prefix": "del ",
     "library": "var_list.py",
     "varRefreshCmd": "print(var_dic_list())"
    },
    "r": {
     "delete_cmd_postfix": ") ",
     "delete_cmd_prefix": "rm(",
     "library": "var_list.r",
     "varRefreshCmd": "cat(var_dic_list()) "
    }
   },
   "types_to_exclude": [
    "module",
    "function",
    "builtin_function_or_method",
    "instance",
    "_Feature"
   ],
   "window_display": false
  }
 },
 "nbformat": 4,
 "nbformat_minor": 2
}
