{
 "cells": [
  {
   "cell_type": "markdown",
   "metadata": {},
   "source": [
    "### Section 1"
   ]
  },
  {
   "cell_type": "code",
   "execution_count": 1,
   "metadata": {},
   "outputs": [],
   "source": [
    "set.seed(9)\n",
    "vector_x <- sample(seq(0,200,2), 20, replace = TRUE)\n",
    "vector_y <- sample(seq(0,200,2), 20, replace = TRUE)\n",
    "\n",
    "# 1) Suppose X = (x1, x2, . . . , xn) denotes the vector_x and Y = (y1, y2, . . . , yn) denotes the vector_y.\n",
    "#    Create the vector vector_res =(y2 − x1, y3 - x2, ..., yn − xn−1).\n",
    "\n",
    "\n",
    "# 2) Create a variable named big_num and assign the number of elements in vector_x which are bigger than 35.\n",
    "\n",
    "\n",
    "# 3) Create a vector named sorted_y which has the values of vector_y in increasing order.\n",
    "\n",
    "\n",
    "# 4) plot vector_x and vector_y vectors, \n",
    "#     assign xlabel as \"vector_x\",  ylabel as \"vector_y\"\n",
    "#     title as \"Plot is boring\"\n",
    "#     illustrate the dots in blue.#     \n",
    "\n"
   ]
  }
 ],
 "metadata": {
  "kernelspec": {
   "display_name": "R",
   "language": "R",
   "name": "ir"
  },
  "language_info": {
   "codemirror_mode": "r",
   "file_extension": ".r",
   "mimetype": "text/x-r-source",
   "name": "R",
   "pygments_lexer": "r",
   "version": "3.4.3"
  }
 },
 "nbformat": 4,
 "nbformat_minor": 2
}
