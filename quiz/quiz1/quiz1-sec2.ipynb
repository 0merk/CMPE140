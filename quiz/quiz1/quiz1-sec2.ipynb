{
 "cells": [
  {
   "cell_type": "markdown",
   "metadata": {},
   "source": [
    "### Section 2"
   ]
  },
  {
   "cell_type": "code",
   "execution_count": 1,
   "metadata": {
    "collapsed": true
   },
   "outputs": [],
   "source": [
    "#set seed to 9\n",
    "set.seed(9)\n",
    "\n",
    "vector_x <- sample(seq(1,300,2), 30)\n",
    "vector_y <- sample(seq(1,300,2), 30)\n",
    "\n",
    "# 1) Suppose X = (x1, x2, . . . , xn) denotes the vector_x and Y = (y1, y2, . . . , yn) denotes the vector_y.\n",
    "#   Create the vector vector_res = (y1 * 2 -  x2, . . . , yn-1 * 2 - xn).\n",
    "\n",
    "\n",
    "# 2) Create a vector named orders_of_y which has the indices of values of vector_y in increasing order.\n",
    "\n",
    "\n",
    "\n",
    "# 3) Create a variable named updated_x and add value of 5 to the elements which are bigger than 100.\n",
    "\n",
    "\n",
    "# 4) Plot the histogram of vector_x, \n",
    "#    assign x-axis as \"vector_x\",  \n",
    "#    assign title as \"Histogram is Fun\"\n",
    "#    illustrate the bins in green\n",
    "\n",
    "\n"
   ]
  },
  {
   "cell_type": "code",
   "execution_count": null,
   "metadata": {
    "collapsed": true
   },
   "outputs": [],
   "source": []
  }
 ],
 "metadata": {
  "kernelspec": {
   "display_name": "R",
   "language": "R",
   "name": "ir"
  },
  "language_info": {
   "codemirror_mode": "r",
   "file_extension": ".r",
   "mimetype": "text/x-r-source",
   "name": "R",
   "pygments_lexer": "r",
   "version": "3.4.3"
  }
 },
 "nbformat": 4,
 "nbformat_minor": 2
}
