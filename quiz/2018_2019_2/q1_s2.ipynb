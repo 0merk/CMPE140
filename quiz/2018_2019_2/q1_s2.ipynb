{
 "cells": [
  {
   "cell_type": "code",
   "execution_count": null,
   "metadata": {},
   "outputs": [],
   "source": [
    "options(jupyter.rich_display = F)"
   ]
  },
  {
   "cell_type": "markdown",
   "metadata": {},
   "source": [
    "Please copy the below code in an empty Rscript file and run in Rstudio:"
   ]
  },
  {
   "cell_type": "code",
   "execution_count": null,
   "metadata": {},
   "outputs": [],
   "source": [
    "set.seed(10)\n",
    "vector_x <- sample(seq(0,10,2), 10, replace = TRUE)\n",
    "names(vector_x) <- letters[1:10]\n",
    "vector_x"
   ]
  },
  {
   "cell_type": "markdown",
   "metadata": {},
   "source": [
    "**a)** Subset ALL BUT THE LAST elements of vector_x and assign into vector_x2 as such:\n",
    "(all but last for the other section)\n",
    "\n",
    "```R\n",
    "vector_x2\n",
    "\n",
    "a b c d e f g h i \n",
    "6 2 4 8 0 2 2 2 6 \n",
    "```"
   ]
  },
  {
   "cell_type": "code",
   "execution_count": null,
   "metadata": {},
   "outputs": [],
   "source": [
    "vector_x2 <- vector_x[-length(vector_x)]\n",
    "vector_x2"
   ]
  },
  {
   "cell_type": "markdown",
   "metadata": {},
   "source": [
    "**b)** Subset those elements in vector_x that are smaller than 5, and assign them into a new vector named vector_x3 as such:\n",
    "\n",
    "```R\n",
    "vector_x3\n",
    "\n",
    "b c e f g h j \n",
    "2 4 0 2 2 2 4 \n",
    "```"
   ]
  },
  {
   "cell_type": "code",
   "execution_count": null,
   "metadata": {},
   "outputs": [],
   "source": [
    "vector_x3 <- vector_x[vector_x < 5]\n",
    "vector_x3"
   ]
  },
  {
   "cell_type": "markdown",
   "metadata": {},
   "source": [
    "**c)** Subset the elements of vector_x that are named \"d\", \"i\", \"c\", \"e\" and assign them into a new vector named vector_x4 as such:\n",
    "\n",
    "```R\n",
    "vector_x4\n",
    "\n",
    "d i c e \n",
    "8 6 4 0  \n",
    "```"
   ]
  },
  {
   "cell_type": "code",
   "execution_count": null,
   "metadata": {},
   "outputs": [],
   "source": [
    "vector_x4 <- vector_x[c(\"d\", \"i\", \"c\", \"e\")]\n",
    "vector_x4"
   ]
  },
  {
   "cell_type": "markdown",
   "metadata": {},
   "source": [
    "**d)** Create a simple histogram of vector_x"
   ]
  },
  {
   "cell_type": "code",
   "execution_count": null,
   "metadata": {
    "scrolled": false
   },
   "outputs": [],
   "source": [
    "hist(vector_x)"
   ]
  },
  {
   "cell_type": "code",
   "execution_count": null,
   "metadata": {},
   "outputs": [],
   "source": []
  }
 ],
 "metadata": {
  "kernelspec": {
   "display_name": "R",
   "language": "R",
   "name": "ir"
  },
  "language_info": {
   "codemirror_mode": "r",
   "file_extension": ".r",
   "mimetype": "text/x-r-source",
   "name": "R",
   "pygments_lexer": "r",
   "version": "3.5.3"
  },
  "toc": {
   "base_numbering": 1,
   "nav_menu": {},
   "number_sections": false,
   "sideBar": false,
   "skip_h1_title": false,
   "title_cell": "Table of Contents",
   "title_sidebar": "Contents",
   "toc_cell": false,
   "toc_position": {},
   "toc_section_display": false,
   "toc_window_display": false
  }
 },
 "nbformat": 4,
 "nbformat_minor": 2
}
