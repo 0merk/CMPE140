{
 "cells": [
  {
   "cell_type": "code",
   "execution_count": null,
   "metadata": {},
   "outputs": [],
   "source": [
    "options(jupyter.rich_display = F)"
   ]
  },
  {
   "cell_type": "markdown",
   "metadata": {},
   "source": [
    "**IMPORTANT NOTICE:**\n",
    "\n",
    "**- PLEASE MAKE SURE R THROWS NO ERROR WHEN YOUR R SCRIPT (BEFORE RENAMING TO A TXT FILE) IS SOURCED USING THE SOURCE BUTTON OR ALL LINES IN YOUR SCRIPT ARE EXECUTED**\n",
    "\n",
    "**- MAKE SURE AL LINES IN YOUR FILE THAT ARE NOT INTENDED TO EXECUTE AS R COMMANDS SHOULD BE COMMENTED OUT WITH \"#\"**\n",
    "\n",
    "**- YOU SHOULD NAME THE OBJECTS EXACTLY AS REQUIRED IN THE QUESTION. OTHERWISE, A CORRECT CODE WILL BE RENDERED AS INCORRECT. NOTE THAT R IS CASE SENSITIVE!**\n",
    "\n",
    "**- IN THE FOLLOWING QUESTIONS, DO NOT MAKE USE OF GLOBAL VARIABLES, I.E. ALL OBJECTS CREATED IN THE GLOBAL ENVIRONMENT CAN ONLY BE PASSED AS VALUES TO ARGUMENTS OF FUNCTIONS. THE BODY OF THE FUNCTIONS SHOULD NOT REFER TO GLOBAL OBJECTS**"
   ]
  },
  {
   "cell_type": "markdown",
   "metadata": {},
   "source": [
    "**Question 1: As simple as it can get**\n",
    "\n",
    "Write a function called **simple1** that takes two arguments named **arg1** and **arg2**\n",
    "\n",
    "- The function should **return** the addition of arg1 and arg2\n",
    "- The arguments should not have default values\n",
    "\n",
    "such that calling the function will yield these:\n",
    "\n",
    "```r\n",
    "simple1(arg1 = 3, arg2 = 2)\n",
    "[1] 5\n",
    "\n",
    "\n",
    "simple1(4)\n",
    "Error in simple1(4): argument \"arg2\" is missing, with no default\n",
    "Traceback:\n",
    "\n",
    "1. simple1(4)\n",
    "\n",
    "\n",
    "simple1(6, arg2 = 3)\n",
    "[1] 9\n",
    "```"
   ]
  },
  {
   "cell_type": "code",
   "execution_count": null,
   "metadata": {},
   "outputs": [],
   "source": [
    "simple1 <- function(arg1, arg2)\n",
    "{\n",
    "    return(arg1 + arg2)\n",
    "}"
   ]
  },
  {
   "cell_type": "markdown",
   "metadata": {},
   "source": [
    "**Question 2: Compounding**\n",
    "\n",
    "Please write a function **compound** that takes three arguments:\n",
    "\n",
    "- **val** is a single or multiple valued vector of numbers with no default value\n",
    "- **growth** is a real number for the annual growth rate of **val**. So 0.1 means that **val** grows at 10% per annum. The default value is 0\n",
    "- **period** is the number of periods (in years) to compound the val with growth with no default value.\n",
    "\n",
    "The function will return the **val** compounded with \"1 + **growth**\" for (to the power of) **period** years such that:\n",
    "\n",
    "```r\n",
    "compound(1, 1, 3)\n",
    "[1] 8\n",
    "\n",
    "\n",
    "compound(10, 0.1, 5)\n",
    "[1] 16.1051\n",
    "```\n",
    "\n",
    "**Note: Mind the operator and paranthesis precedence**"
   ]
  },
  {
   "cell_type": "markdown",
   "metadata": {},
   "source": [
    "**Solution 2:**"
   ]
  },
  {
   "cell_type": "code",
   "execution_count": null,
   "metadata": {},
   "outputs": [],
   "source": [
    "compound <- function(val, growth = 0, period)\n",
    "{\n",
    "    return(val * ((1 + growth)^period))\n",
    "}"
   ]
  },
  {
   "cell_type": "markdown",
   "metadata": {},
   "source": [
    "**Question 3: Subset it**\n",
    "\n",
    "Suppose we have a vector of values **samp2** as such:\n",
    "\n",
    "```r\n",
    "set.seed(2030)\n",
    "samp2 <- sample(100, 8, replace = T)\n",
    "samp2\n",
    "\n",
    "[1] 89 54 16 11 10 46 72 55\n",
    "```\n",
    "\n",
    "Write a function named **subset1** that takes three arguments:\n",
    "- **vec** is a vector of numbers with no default value\n",
    "- **start** is the starting index of the subset with no default value\n",
    "- **len** is the length of the subset with no default value\n",
    "\n",
    "The function should subset the portion of the vector starting with **start** and with a length of **len**:\n",
    "\n",
    "```r\n",
    "subset1(samp2, start = 3, len = 4)\n",
    "[1] 16 11 10 46\n",
    "\n",
    "\n",
    "subset1(samp2, 2, 5)\n",
    "[1] 54 16 11 10 46\n",
    "```\n",
    "\n",
    "**Note:**\n",
    "\n",
    "- **You can make use of seq function**\n",
    "- **The body of the function should NOT refer to samp2 object**"
   ]
  },
  {
   "cell_type": "markdown",
   "metadata": {},
   "source": [
    "**Solution 3:**"
   ]
  },
  {
   "cell_type": "code",
   "execution_count": null,
   "metadata": {},
   "outputs": [],
   "source": [
    "set.seed(2030)\n",
    "samp2 <- sample(100, 8, replace = T)\n",
    "samp2\n",
    "\n",
    "subset1 <- function(vec, start, len)\n",
    "{\n",
    "    vec[seq(start, length.out = len)]\n",
    "}\n",
    "\n",
    "subset1(samp2, start = 3, len = 4)\n",
    "\n",
    "subset1(samp2, 2, 5)"
   ]
  }
 ],
 "metadata": {
  "kernelspec": {
   "display_name": "R",
   "language": "R",
   "name": "ir"
  },
  "language_info": {
   "codemirror_mode": "r",
   "file_extension": ".r",
   "mimetype": "text/x-r-source",
   "name": "R",
   "pygments_lexer": "r",
   "version": "3.5.3"
  },
  "toc": {
   "nav_menu": {},
   "number_sections": true,
   "sideBar": true,
   "skip_h1_title": false,
   "toc_cell": false,
   "toc_position": {},
   "toc_section_display": "block",
   "toc_window_display": false
  }
 },
 "nbformat": 4,
 "nbformat_minor": 2
}
