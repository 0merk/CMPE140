{
 "cells": [
  {
   "cell_type": "code",
   "execution_count": null,
   "metadata": {},
   "outputs": [],
   "source": [
    "options(jupyter.rich_display = F)"
   ]
  },
  {
   "cell_type": "markdown",
   "metadata": {},
   "source": [
    "**IMPORTANT NOTICE:**\n",
    "\n",
    "- **PLEASE MAKE SURE R THROWS NO ERROR WHEN YOUR R SCRIPT (BEFORE RENAMING TO A TXT FILE) IS SOURCED USING THE SOURCE BUTTON OR ALL LINES IN YOUR SCRIPT ARE EXECUTED**\n",
    "\n",
    "- **MAKE SURE AL LINES IN YOUR FILE THAT ARE NOT INTENDED TO EXECUTE AS R COMMANDS SHOULD BE COMMENTED OUT WITH \"#\"**\n",
    "\n",
    "- **YOU SHOULD NAME THE OBJECTS EXACTLY AS REQUIRED IN THE QUESTION. OTHERWISE, A CORRECT CODE WILL BE RENDERED AS INCORRECT. NOTE THAT R IS CASE SENSITIVE!**\n",
    "\n",
    "- **THE FUNCTIONS SHOULD \"RETURN\" REQUESTED VALUES, NOT \"PRINT\" OR \"CAT\"**\n",
    "\n",
    "- **IN THE FOLLOWING QUESTIONS, DO NOT MAKE USE OF GLOBAL VARIABLES, I.E. ALL OBJECTS CREATED IN THE GLOBAL ENVIRONMENT CAN ONLY BE PASSED AS VALUES TO ARGUMENTS OF FUNCTIONS. THE BODY OF THE FUNCTIONS SHOULD NOT REFER TO GLOBAL OBJECTS**"
   ]
  },
  {
   "cell_type": "markdown",
   "metadata": {},
   "source": [
    "# TAKE THE LASTS"
   ]
  },
  {
   "cell_type": "markdown",
   "metadata": {},
   "source": [
    "Let's have a randomly generated list of numeric vectors as such:\n",
    "\n",
    "```R\n",
    "RNGversion(\"3.3.1\")\n",
    "set.seed(20)\n",
    "listx <- split(sample(100, 20, replace = T), sample(sample(3:5, 1), 20, replace = T))\n",
    "listx\n",
    "\n",
    "$`1`\n",
    "[1] 88 28 97  8  1\n",
    "\n",
    "$`2`\n",
    "[1] 77 53 38 72 20 46 29\n",
    "\n",
    "$`3`\n",
    "[1] 33 75 11 82\n",
    "\n",
    "$`4`\n",
    "[1] 99 10 76 33\n",
    "```\n",
    "\n",
    "Please write a function **last(lst)**, that takes a single argument lst, a list object, and returns the **last** element of each vector item **EXACTLY** as such: \n",
    "\n",
    "```R\n",
    "last(lst = listx)\n",
    "\n",
    " 1  2  3  4 \n",
    " 1 29 82 33\n",
    "\n",
    "```\n",
    "\n",
    "**Hint:**\n",
    "- Easiest way is to use sapply()\n",
    "- You can make use of the \"function(x) ....\" notation inside sapply"
   ]
  },
  {
   "cell_type": "markdown",
   "metadata": {},
   "source": [
    "**Solution:**"
   ]
  },
  {
   "cell_type": "code",
   "execution_count": null,
   "metadata": {},
   "outputs": [],
   "source": [
    "RNGversion(\"3.3.1\")\n",
    "set.seed(20)\n",
    "listx <- split(sample(100, 20, replace = T), sample(sample(3:5, 1), 20, replace = T))\n",
    "listx\n",
    "\n",
    "last <- function(lst)\n",
    "{\n",
    "    sapply(lst, function(x) x[length(x)])\n",
    "}\n",
    "           \n",
    "last(lst = listx)"
   ]
  },
  {
   "cell_type": "markdown",
   "metadata": {},
   "source": [
    "# GROUP DATA"
   ]
  },
  {
   "cell_type": "markdown",
   "metadata": {},
   "source": [
    "Let's have a data.frame \"cox\" as such:\n",
    "\n",
    "```R\n",
    "cox <- CO2\n",
    "RNGversion(\"3.3.1\")\n",
    "set.seed(20)\n",
    "cox$uptake <- rnorm(nrow(cox),\n",
    "                    mean = runif(1, 20, 100),\n",
    "                    sd = runif(1, 2, 10))\n",
    "\n",
    "head(cox)\n",
    "\n",
    "  Plant Type   Treatment  conc uptake   \n",
    "1 Qn1   Quebec nonchilled  95   85.42744\n",
    "2 Qn1   Quebec nonchilled 175  104.75015\n",
    "3 Qn1   Quebec nonchilled 250   79.34338\n",
    "4 Qn1   Quebec nonchilled 350   86.56297\n",
    "5 Qn1   Quebec nonchilled 500   94.84301\n",
    "6 Qn1   Quebec nonchilled 675   66.65552\n",
    "```"
   ]
  },
  {
   "cell_type": "markdown",
   "metadata": {},
   "source": [
    "Write a function groups(dat) that takes a single argument dat, a data frame object, and returns the **mean** **uptake** value of each respective **Type** and **Treatment** category as such:\n",
    "\n",
    "```R\n",
    "groups(dat = cox)\n",
    "\n",
    "  Group.1     Group.2    x       \n",
    "1 Quebec      nonchilled 88.32927\n",
    "2 Mississippi nonchilled 91.59208\n",
    "3 Quebec      chilled    88.13191\n",
    "4 Mississippi chilled    90.62369\n",
    "```\n",
    "\n",
    "**Hint:**\n",
    "- You should use aggregate() function\n",
    "- You may also use with() function to simplify the code (not necessary)\n",
    "- Note that the \"by\" argument to aggregate(), a list object, should incorporate two categoric variables (Type and Treatment), not a single one. So it should be a list of two!"
   ]
  },
  {
   "cell_type": "markdown",
   "metadata": {},
   "source": [
    "**Solution:**"
   ]
  },
  {
   "cell_type": "code",
   "execution_count": null,
   "metadata": {},
   "outputs": [],
   "source": [
    "cox <- CO2\n",
    "RNGversion(\"3.3.1\")\n",
    "set.seed(20)\n",
    "cox$uptake <- rnorm(nrow(cox),\n",
    "                    mean = runif(1, 20, 100),\n",
    "                    sd = runif(1, 2, 10))\n",
    "\n",
    "head(cox)\n",
    "\n",
    "groups <- function(dat = cox)\n",
    "{\n",
    "    with(cox, aggregate(uptake,\n",
    "                        by = list(Type, Treatment),\n",
    "                        mean))\n",
    "}\n",
    "\n",
    "groups(dat = cox)"
   ]
  },
  {
   "cell_type": "markdown",
   "metadata": {},
   "source": [
    "# MERGE INNER"
   ]
  },
  {
   "cell_type": "markdown",
   "metadata": {},
   "source": [
    "Let's have two data frames as such:\n",
    "\n",
    "```R\n",
    "RNGversion(\"3.3.1\")\n",
    "set.seed(40)\n",
    "select <- sample(letters, 15)\n",
    "select1 <- sample(select, 10)\n",
    "select2 <- sample(select, 10)\n",
    "datf1 <- data.frame(label = select1, data1 = round(rnorm(10, 5, 3), 1))\n",
    "datf2 <- data.frame(label = select2, data2 = round(rnorm(10, 5, 3), 1))\n",
    "\n",
    "datf1\n",
    "\n",
    "   label data1\n",
    "1  k     1.2  \n",
    "2  j     7.0  \n",
    "3  p     3.5  \n",
    "4  v     2.2  \n",
    "5  y     4.3  \n",
    "6  e     2.5  \n",
    "7  q     5.1  \n",
    "8  r     5.6  \n",
    "9  w     3.5  \n",
    "10 b     6.1  \n",
    "\n",
    "datf2\n",
    "\n",
    "   label data2\n",
    "1  w     7.8  \n",
    "2  e     5.4  \n",
    "3  s     3.0  \n",
    "4  g     3.2  \n",
    "5  k     5.1  \n",
    "6  b     5.1  \n",
    "7  q     3.3  \n",
    "8  j     8.7  \n",
    "9  r     7.5  \n",
    "10 c     6.5  \n",
    "```"
   ]
  },
  {
   "cell_type": "markdown",
   "metadata": {},
   "source": [
    "Please write a function inner(df1, df2) such that only common label categories in both data frames are kept so the function should make an inner join as such:\n",
    "\n",
    "```R\n",
    "inner(df1 = datf1, df2 = datf2)\n",
    "\n",
    "  label data1 data2\n",
    "1 b     6.1   5.1  \n",
    "2 e     2.5   5.4  \n",
    "3 j     7.0   8.7  \n",
    "4 k     1.2   5.1  \n",
    "5 q     5.1   3.3  \n",
    "6 r     5.6   7.5  \n",
    "7 w     3.5   7.8  \n",
    "```\n",
    "\n",
    "**Hint:** You should use the merge() function"
   ]
  },
  {
   "cell_type": "markdown",
   "metadata": {},
   "source": [
    "**Solution:**"
   ]
  },
  {
   "cell_type": "code",
   "execution_count": null,
   "metadata": {},
   "outputs": [],
   "source": [
    "RNGversion(\"3.3.1\")\n",
    "set.seed(40)\n",
    "select <- sample(letters, 15)\n",
    "select1 <- sample(select, 10)\n",
    "select2 <- sample(select, 10)\n",
    "datf1 <- data.frame(label = select1, data1 = round(rnorm(10, 5, 3), 1))\n",
    "datf2 <- data.frame(label = select2, data2 = round(rnorm(10, 5, 3), 1))\n",
    "datf1\n",
    "datf2\n",
    "\n",
    "inner <- function(df1, df2)\n",
    "{\n",
    "    merge(df1, df2, by = \"label\", all = F)\n",
    "}\n",
    "\n",
    "inner(df1 = datf1, df2 = datf2)"
   ]
  }
 ],
 "metadata": {
  "kernelspec": {
   "display_name": "R",
   "language": "R",
   "name": "ir"
  },
  "language_info": {
   "codemirror_mode": "r",
   "file_extension": ".r",
   "mimetype": "text/x-r-source",
   "name": "R",
   "pygments_lexer": "r",
   "version": "3.6.0"
  },
  "toc": {
   "base_numbering": 1,
   "nav_menu": {},
   "number_sections": true,
   "sideBar": true,
   "skip_h1_title": false,
   "title_cell": "Table of Contents",
   "title_sidebar": "Contents",
   "toc_cell": false,
   "toc_position": {},
   "toc_section_display": "block",
   "toc_window_display": false
  }
 },
 "nbformat": 4,
 "nbformat_minor": 2
}
