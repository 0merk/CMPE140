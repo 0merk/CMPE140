{
 "cells": [
  {
   "cell_type": "code",
   "execution_count": null,
   "metadata": {},
   "outputs": [],
   "source": [
    "options(jupyter.rich_display = F)"
   ]
  },
  {
   "cell_type": "markdown",
   "metadata": {},
   "source": [
    "Please copy the below code in an empty Rscript file and run in Rstudio:"
   ]
  },
  {
   "cell_type": "code",
   "execution_count": null,
   "metadata": {},
   "outputs": [],
   "source": [
    "set.seed(9)\n",
    "vector_x <- sample(seq(0,10,2), 10, replace = TRUE)\n",
    "names(vector_x) <- letters[1:10]\n",
    "vector_x"
   ]
  },
  {
   "cell_type": "markdown",
   "metadata": {},
   "source": [
    "**a)** Subset ALL BUT THE FIRST elements of vector_x and assign into vector_x2 as such:\n",
    "\n",
    "```R\n",
    "vector_x2\n",
    "\n",
    "b  c  d  e  f  g  h  i  j \n",
    "0  2  2  4  0  4  4  8 10 \n",
    "```"
   ]
  },
  {
   "cell_type": "code",
   "execution_count": null,
   "metadata": {},
   "outputs": [],
   "source": [
    "vector_x2 <- vector_x[-1]\n",
    "vector_x2"
   ]
  },
  {
   "cell_type": "markdown",
   "metadata": {},
   "source": [
    "**b)** Subset those elements in vector_x that are larger than 5, and assign them into a new vector named vector_x3 as such:\n",
    "\n",
    "```R\n",
    "vector_x3\n",
    "\n",
    "i  j \n",
    "8 10\n",
    "```"
   ]
  },
  {
   "cell_type": "code",
   "execution_count": null,
   "metadata": {},
   "outputs": [],
   "source": [
    "vector_x3 <- vector_x[vector_x > 5]\n",
    "vector_x3"
   ]
  },
  {
   "cell_type": "markdown",
   "metadata": {},
   "source": [
    "**c)** Subset the elements of vector_x that are named \"h\", \"i\", \"g\", \"h\" and assign them into a new vector named vector_x4 as such:\n",
    "\n",
    "```R\n",
    "vector_x4\n",
    "\n",
    "h i g h \n",
    "4 8 4 4 \n",
    "```"
   ]
  },
  {
   "cell_type": "code",
   "execution_count": null,
   "metadata": {},
   "outputs": [],
   "source": [
    "vector_x4 <- vector_x[c(\"h\", \"i\", \"g\", \"h\")]\n",
    "vector_x4"
   ]
  },
  {
   "cell_type": "markdown",
   "metadata": {},
   "source": [
    "**d)** Create a simple line plot of vector_x"
   ]
  },
  {
   "cell_type": "code",
   "execution_count": null,
   "metadata": {
    "scrolled": false
   },
   "outputs": [],
   "source": [
    "plot(vector_x, type = \"l\")"
   ]
  },
  {
   "cell_type": "code",
   "execution_count": null,
   "metadata": {},
   "outputs": [],
   "source": []
  }
 ],
 "metadata": {
  "kernelspec": {
   "display_name": "R",
   "language": "R",
   "name": "ir"
  },
  "language_info": {
   "codemirror_mode": "r",
   "file_extension": ".r",
   "mimetype": "text/x-r-source",
   "name": "R",
   "pygments_lexer": "r",
   "version": "3.5.3"
  },
  "toc": {
   "nav_menu": {},
   "number_sections": false,
   "sideBar": false,
   "skip_h1_title": false,
   "toc_cell": false,
   "toc_position": {},
   "toc_section_display": false,
   "toc_window_display": false
  }
 },
 "nbformat": 4,
 "nbformat_minor": 2
}
