{
 "cells": [
  {
   "cell_type": "code",
   "execution_count": 1,
   "metadata": {},
   "outputs": [],
   "source": [
    "options(jupyter.rich_display = FALSE)"
   ]
  },
  {
   "cell_type": "markdown",
   "metadata": {},
   "source": [
    "Looping\n",
    "======\n",
    "\n",
    "\"Looping\" (also known as the repetition structure) refers to repeating a block of code as long as a condition is true. It is one of the fundamental structures making up programs, along with _sequential execution_ and _branching_ (decisions).\n",
    "\n",
    "In this notebook we will describe loops in the general sense, as used in many programming languages. However, in R you don't need to use loops as often as in other languages, mostly because they are hidden inside the functions we call. For example, the `mean()` function takes a vector, adds up all elements by using a loop over it, and returns their mean. All vectorized operations have loops hidden inside them."
   ]
  },
  {
   "cell_type": "markdown",
   "metadata": {},
   "source": [
    "The while loop\n",
    "--------------\n",
    "\n",
    "Here is a simple example: Print the squares of 1, 2, ... 10."
   ]
  },
  {
   "cell_type": "code",
   "execution_count": 1,
   "metadata": {},
   "outputs": [
    {
     "name": "stdout",
     "output_type": "stream",
     "text": [
      "1 1 \n",
      "2 4 \n",
      "3 9 \n",
      "4 16 \n",
      "5 25 \n",
      "6 36 \n",
      "7 49 \n",
      "8 64 \n",
      "9 81 \n",
      "10 100 \n"
     ]
    }
   ],
   "source": [
    "i <- 1 # initialization\n",
    "while (i<=10) {  # condition\n",
    "    cat(i,i^2,\"\\n\")\n",
    "    i <- i+1  # update\n",
    "}"
   ]
  },
  {
   "cell_type": "markdown",
   "metadata": {},
   "source": [
    "The general structure of the `while` loop is as follows:\n",
    "\n",
    "    <initialization>\n",
    "    while( <condition> ) {\n",
    "        <statements>\n",
    "        <update variables>\n",
    "    }\n",
    "\n",
    "The `<condition>` is a Boolean expression, usually involving existing variables. First, the condition is evaluated. If true, the block is executed (this is called one _iteration_). When the block is completed, the condition is reevaluated and the block is re-executed if necessary.\n",
    "\n",
    "In general, we want the condition to become false eventually (except for infinite loops -- see below). So, the variables of the program must be updated within the block to ensure that. Without this update the loop would not terminate.\n",
    "\n",
    "<h3>Example: Find the sum of elements in a vector</h3>"
   ]
  },
  {
   "cell_type": "code",
   "execution_count": 4,
   "metadata": {},
   "outputs": [
    {
     "data": {
      "text/plain": [
       "[1] 25"
      ]
     },
     "metadata": {},
     "output_type": "display_data"
    }
   ],
   "source": [
    "mydata <- c(1,4,2,5,1,4,6,2,0)\n",
    "sum <- 0\n",
    "i <- 1\n",
    "while (i<=length(mydata)){\n",
    "    sum <- sum + mydata[i]\n",
    "    i <- i + 1\n",
    "}\n",
    "sum"
   ]
  },
  {
   "cell_type": "markdown",
   "metadata": {},
   "source": [
    "<h3>Example: Find the maximum element in a vector</h3>"
   ]
  },
  {
   "cell_type": "code",
   "execution_count": 5,
   "metadata": {},
   "outputs": [
    {
     "data": {
      "text/plain": [
       "[1] 6"
      ]
     },
     "metadata": {},
     "output_type": "display_data"
    }
   ],
   "source": [
    "mydata <- c(1,4,2,5,1,4,6,2,0)\n",
    "max <- mydata[1]\n",
    "i <- 2\n",
    "while (i<=length(mydata)){\n",
    "    if(mydata[i]>max)\n",
    "        max <- mydata[i]\n",
    "    i <- i + 1\n",
    "}\n",
    "max"
   ]
  },
  {
   "cell_type": "markdown",
   "metadata": {},
   "source": [
    "<h3>Example: Read numbers from keyboard, store in a vector</h3>"
   ]
  },
  {
   "cell_type": "code",
   "execution_count": 6,
   "metadata": {},
   "outputs": [
    {
     "data": {
      "text/plain": [
       "[1] 4 2 7 8 1"
      ]
     },
     "metadata": {},
     "output_type": "display_data"
    }
   ],
   "source": [
    "n_data <- as.numeric(readline(\"How many data points? \"))\n",
    "mydata <- c()\n",
    "i <- 1\n",
    "while (i<=n_data){\n",
    "    x <- as.numeric(readline(\"Enter a number: \"))\n",
    "    mydata <- c(mydata,x)\n",
    "    i <- i+1\n",
    "}\n",
    "mydata"
   ]
  },
  {
   "cell_type": "markdown",
   "metadata": {},
   "source": [
    "The for loop\n",
    "-----------\n",
    "This is an alternative repetition structure. The `for` statement does not take a Boolean condition. Instead, it takes elements from a vector one by one, and runs the loop body with the current element. The loop terminates when the last element is used."
   ]
  },
  {
   "cell_type": "code",
   "execution_count": 7,
   "metadata": {},
   "outputs": [
    {
     "name": "stdout",
     "output_type": "stream",
     "text": [
      "1 1 \n",
      "2 4 \n",
      "3 9 \n",
      "4 16 \n",
      "5 25 \n",
      "6 36 \n",
      "7 49 \n",
      "8 64 \n",
      "9 81 \n",
      "10 100 \n"
     ]
    }
   ],
   "source": [
    "for(i in 1:10) {\n",
    "    cat(i,i^2,\"\\n\")\n",
    "}"
   ]
  },
  {
   "cell_type": "markdown",
   "metadata": {},
   "source": [
    "In many cases `for` is simpler than `while`, especially when you need to iterate over the elements of a vector. We can rewrite the previous examples with `for` as follows:"
   ]
  },
  {
   "cell_type": "code",
   "execution_count": 9,
   "metadata": {},
   "outputs": [
    {
     "data": {
      "text/plain": [
       "[1] 25"
      ]
     },
     "metadata": {},
     "output_type": "display_data"
    }
   ],
   "source": [
    "mydata <- c(1,4,2,5,1,4,6,2,0)\n",
    "sum <- 0\n",
    "for (d in mydata)\n",
    "    sum <- sum + d\n",
    "sum"
   ]
  },
  {
   "cell_type": "markdown",
   "metadata": {},
   "source": [
    "The line `for(d in mydata)` means that `d` is first assigned to `mydata[1]`, then to `mydata[2]`, etc, until all the elements in `mydata` are used up.\n",
    "\n",
    "Here is the `for` implementation of the code that finds the maximum value in a vector."
   ]
  },
  {
   "cell_type": "code",
   "execution_count": 11,
   "metadata": {},
   "outputs": [
    {
     "data": {
      "text/plain": [
       "[1] 6"
      ]
     },
     "metadata": {},
     "output_type": "display_data"
    }
   ],
   "source": [
    "mydata <- c(1,4,2,5,1,4,6,2,0)\n",
    "max <- mydata[1]\n",
    "for(d in mydata) if(d>max) max <- d\n",
    "max"
   ]
  },
  {
   "cell_type": "markdown",
   "metadata": {},
   "source": [
    "Note that by using `for` you don't need to keep track of the element index. This is OK if you are interested in the element values only, but it might not work if the element's location is relevant, such as the following example.\n",
    "\n",
    "<h3>Example: Find the index of the maximum value in a vector</h3>"
   ]
  },
  {
   "cell_type": "code",
   "execution_count": 12,
   "metadata": {},
   "outputs": [
    {
     "name": "stdout",
     "output_type": "stream",
     "text": [
      "7 6"
     ]
    }
   ],
   "source": [
    "mydata <- c(1,4,2,5,1,4,6,2,0)\n",
    "max <- mydata[1]\n",
    "maxindex <- 1\n",
    "i <- 2\n",
    "while (i<=length(mydata)){\n",
    "    if(mydata[i]>max){\n",
    "        maxindex <- i\n",
    "        max <- mydata[i]\n",
    "    }\n",
    "    i = i + 1\n",
    "}\n",
    "cat(maxindex, max)"
   ]
  },
  {
   "cell_type": "markdown",
   "metadata": {},
   "source": [
    "The break statement\n",
    "---------------\n",
    "\n",
    "When the program encounters a `break` statement, it terminates the loop. The remainder of the block is skipped over."
   ]
  },
  {
   "cell_type": "code",
   "execution_count": 13,
   "metadata": {},
   "outputs": [
    {
     "name": "stdout",
     "output_type": "stream",
     "text": [
      "i = 1 \n",
      "i = 2 \n",
      "i = 3 \n",
      "i = 4 \n",
      "i = 5 \n",
      "i = 6 \n"
     ]
    }
   ],
   "source": [
    "i <- 1\n",
    "while(i<=10){\n",
    "    if(i==7)\n",
    "        break\n",
    "    cat(\"i =\",i,\"\\n\")\n",
    "    i <- i+1\n",
    "}"
   ]
  },
  {
   "cell_type": "code",
   "execution_count": 14,
   "metadata": {},
   "outputs": [
    {
     "name": "stdout",
     "output_type": "stream",
     "text": [
      "i = 1 \n",
      "i = 2 \n",
      "i = 3 \n",
      "i = 4 \n",
      "i = 5 \n",
      "i = 6 \n"
     ]
    }
   ],
   "source": [
    "for(i in 1:10){\n",
    "    if (i==7)\n",
    "        break\n",
    "    cat(\"i =\",i,\"\\n\")\n",
    "}"
   ]
  },
  {
   "cell_type": "markdown",
   "metadata": {},
   "source": [
    "<h3>Example: Determine if a given number is prime</h3>"
   ]
  },
  {
   "cell_type": "code",
   "execution_count": 19,
   "metadata": {},
   "outputs": [
    {
     "name": "stdout",
     "output_type": "stream",
     "text": [
      "118876487131 is not prime; 61 divides it."
     ]
    }
   ],
   "source": [
    "n <- 118876487131\n",
    "prime <- TRUE # assume prime unless proven otherwise\n",
    "i <- 2\n",
    "while (i*i <= n){  # check only up to the square root of n\n",
    "    if (n%%i == 0){\n",
    "        prime <- FALSE\n",
    "        break\n",
    "    }\n",
    "    i <- i+1\n",
    "}\n",
    "if (!prime) cat(n,\"is not prime;\",i,\"divides it.\")"
   ]
  },
  {
   "cell_type": "markdown",
   "metadata": {},
   "source": [
    "<h3>Example: Read numbers from keyboard, store in a vector</h3>"
   ]
  },
  {
   "cell_type": "code",
   "execution_count": 2,
   "metadata": {},
   "outputs": [
    {
     "name": "stderr",
     "output_type": "stream",
     "text": [
      "Warning message in eval(expr, envir, enclos):\n",
      "“NAs introduced by coercion”"
     ]
    },
    {
     "data": {
      "text/html": [
       "<ol class=list-inline>\n",
       "\t<li>3</li>\n",
       "\t<li>6</li>\n",
       "\t<li>-2</li>\n",
       "</ol>\n"
      ],
      "text/latex": [
       "\\begin{enumerate*}\n",
       "\\item 3\n",
       "\\item 6\n",
       "\\item -2\n",
       "\\end{enumerate*}\n"
      ],
      "text/markdown": [
       "1. 3\n",
       "2. 6\n",
       "3. -2\n",
       "\n",
       "\n"
      ],
      "text/plain": [
       "[1]  3  6 -2"
      ]
     },
     "metadata": {},
     "output_type": "display_data"
    }
   ],
   "source": [
    "data <- c()\n",
    "while (TRUE){\n",
    "    x <- as.numeric(readline(\"Enter a number: \"))\n",
    "    if (is.na(x))\n",
    "        break\n",
    "    data <- c(data,x)\n",
    "}\n",
    "data"
   ]
  },
  {
   "cell_type": "markdown",
   "metadata": {},
   "source": [
    "The next statement\n",
    "-----------------"
   ]
  },
  {
   "cell_type": "markdown",
   "metadata": {},
   "source": [
    "When a `next` statement is encountered, the program returns to the beginning of the loop, skipping over the remaining statements. Caution: If the update statement is located after the `next`, the loop may not terminate."
   ]
  },
  {
   "cell_type": "code",
   "execution_count": 23,
   "metadata": {},
   "outputs": [
    {
     "name": "stdout",
     "output_type": "stream",
     "text": [
      "1 2 4 5 7 8 10 11 "
     ]
    }
   ],
   "source": [
    "i<-0\n",
    "while(i<=10){\n",
    "    i <- i+1\n",
    "    if( i%%3==0 )\n",
    "        next\n",
    "    cat(i, \"\")\n",
    "}"
   ]
  },
  {
   "cell_type": "markdown",
   "metadata": {},
   "source": [
    "<h3>Example: Rejecting invalid values at input</h3>"
   ]
  },
  {
   "cell_type": "code",
   "execution_count": 3,
   "metadata": {},
   "outputs": [
    {
     "name": "stdout",
     "output_type": "stream",
     "text": [
      "[1] \"Invalid range: Must be between 0 and 100.\"\n",
      "[1] \"Invalid range: Must be between 0 and 100.\"\n"
     ]
    },
    {
     "name": "stderr",
     "output_type": "stream",
     "text": [
      "Warning message in eval(expr, envir, enclos):\n",
      "“NAs introduced by coercion”"
     ]
    },
    {
     "data": {
      "text/html": [
       "<ol class=list-inline>\n",
       "\t<li>5</li>\n",
       "\t<li>3</li>\n",
       "</ol>\n"
      ],
      "text/latex": [
       "\\begin{enumerate*}\n",
       "\\item 5\n",
       "\\item 3\n",
       "\\end{enumerate*}\n"
      ],
      "text/markdown": [
       "1. 5\n",
       "2. 3\n",
       "\n",
       "\n"
      ],
      "text/plain": [
       "[1] 5 3"
      ]
     },
     "metadata": {},
     "output_type": "display_data"
    }
   ],
   "source": [
    "mydata <- c()\n",
    "while (TRUE){\n",
    "    x <- as.numeric(readline(\"Enter a number: \"))\n",
    "    if (is.na(x))\n",
    "        break\n",
    "    if(x<0 || x>100){\n",
    "        print(\"Invalid range: Must be between 0 and 100.\")\n",
    "        next\n",
    "    }\n",
    "    mydata <- c(mydata,x)\n",
    "}\n",
    "mydata"
   ]
  },
  {
   "cell_type": "markdown",
   "metadata": {},
   "source": [
    "The repeat loop\n",
    "------------\n",
    "Above we set up an _infinite loop_ with `while(TRUE){...}`, and used a `break` statement to end the loop. The `repeat` statement provides the same functionality. It does not take any test for repetition. To terminate it, you must `break` out of it."
   ]
  },
  {
   "cell_type": "code",
   "execution_count": 25,
   "metadata": {},
   "outputs": [
    {
     "name": "stdout",
     "output_type": "stream",
     "text": [
      "1 4 7 10 13 "
     ]
    }
   ],
   "source": [
    "i <- -2\n",
    "repeat {\n",
    "    i <- i + 3\n",
    "    cat(i,\"\")\n",
    "    if(i>10) break\n",
    "}"
   ]
  },
  {
   "cell_type": "markdown",
   "metadata": {},
   "source": [
    "The `next` statement works in the same way in `repeat` loops."
   ]
  },
  {
   "cell_type": "code",
   "execution_count": 26,
   "metadata": {},
   "outputs": [
    {
     "name": "stdout",
     "output_type": "stream",
     "text": [
      "-1 1 2 4 5 7 8 10 11 "
     ]
    }
   ],
   "source": [
    "i <- -2\n",
    "repeat {\n",
    "    i <- i + 1\n",
    "    if (i%%3==0) next\n",
    "    cat(i,\"\")\n",
    "    if(i>10) break\n",
    "}"
   ]
  },
  {
   "cell_type": "markdown",
   "metadata": {},
   "source": [
    "Nested loops\n",
    "-----------\n",
    "\n",
    "A loop body can contain anything, including other loops. As an example, consider two vectors, and list all products of numbers where the first factor comes from the first vector, and the second vector comes from the second vector. "
   ]
  },
  {
   "cell_type": "code",
   "execution_count": 29,
   "metadata": {},
   "outputs": [
    {
     "name": "stdout",
     "output_type": "stream",
     "text": [
      "2 * 7 = 14 \n"
     ]
    }
   ],
   "source": [
    "a <- 2\n",
    "b <- 7\n",
    "cat(a, \"*\", b, \"=\", a*b, \"\\n\")"
   ]
  },
  {
   "cell_type": "code",
   "execution_count": 27,
   "metadata": {},
   "outputs": [
    {
     "name": "stdout",
     "output_type": "stream",
     "text": [
      "2 * 7 = 14 \n",
      "2 * 8 = 16 \n",
      "2 * 9 = 18 \n"
     ]
    }
   ],
   "source": [
    "a <- 2\n",
    "b_vector <- c(7,8,9)\n",
    "for (b in b_vector){\n",
    "    cat(a, \"*\", b, \"=\", a*b, \"\\n\")    \n",
    "}"
   ]
  },
  {
   "cell_type": "code",
   "execution_count": 28,
   "metadata": {},
   "outputs": [
    {
     "name": "stdout",
     "output_type": "stream",
     "text": [
      "2 * 7 = 14 \n",
      "2 * 8 = 16 \n",
      "2 * 9 = 18 \n",
      "3 * 7 = 21 \n",
      "3 * 8 = 24 \n",
      "3 * 9 = 27 \n",
      "4 * 7 = 28 \n",
      "4 * 8 = 32 \n",
      "4 * 9 = 36 \n",
      "5 * 7 = 35 \n",
      "5 * 8 = 40 \n",
      "5 * 9 = 45 \n",
      "6 * 7 = 42 \n",
      "6 * 8 = 48 \n",
      "6 * 9 = 54 \n"
     ]
    }
   ],
   "source": [
    "a_vector <- c(2,3,4,5,6)\n",
    "b_vector <- c(7,8,9)\n",
    "for (a in a_vector){\n",
    "    for (b in b_vector){\n",
    "        cat(a, \"*\", b, \"=\", a*b, \"\\n\")\n",
    "    }\n",
    "}"
   ]
  },
  {
   "cell_type": "markdown",
   "metadata": {},
   "source": [
    "<h3>Example: List Pythagorean triples </h3>\n",
    "A _Pythagorean triple_ consists of three integers a,b,c such that $a^2 + b^2 = c^2$ holds. Let us determine all Pythagorean triplets such that $a,b<100$."
   ]
  },
  {
   "cell_type": "code",
   "execution_count": 32,
   "metadata": {},
   "outputs": [
    {
     "name": "stdout",
     "output_type": "stream",
     "text": [
      "3 4 5 \n",
      "5 12 13 \n",
      "6 8 10 \n",
      "7 24 25 \n",
      "8 15 17 \n",
      "9 12 15 \n",
      "9 40 41 \n",
      "10 24 26 \n",
      "11 60 61 \n",
      "12 16 20 \n",
      "12 35 37 \n",
      "13 84 85 \n",
      "14 48 50 \n",
      "15 20 25 \n",
      "15 36 39 \n",
      "16 30 34 \n",
      "16 63 65 \n",
      "18 24 30 \n",
      "18 80 82 \n",
      "20 21 29 \n",
      "20 48 52 \n",
      "20 99 101 \n",
      "21 28 35 \n",
      "21 72 75 \n",
      "24 32 40 \n",
      "24 45 51 \n",
      "24 70 74 \n",
      "25 60 65 \n",
      "27 36 45 \n",
      "28 45 53 \n",
      "28 96 100 \n",
      "30 40 50 \n",
      "30 72 78 \n",
      "32 60 68 \n",
      "33 44 55 \n",
      "33 56 65 \n",
      "35 84 91 \n",
      "36 48 60 \n",
      "36 77 85 \n",
      "39 52 65 \n",
      "39 80 89 \n",
      "40 42 58 \n",
      "40 75 85 \n",
      "40 96 104 \n",
      "42 56 70 \n",
      "45 60 75 \n",
      "48 55 73 \n",
      "48 64 80 \n",
      "48 90 102 \n",
      "51 68 85 \n",
      "54 72 90 \n",
      "56 90 106 \n",
      "57 76 95 \n",
      "60 63 87 \n",
      "60 80 100 \n",
      "60 91 109 \n",
      "63 84 105 \n",
      "65 72 97 \n",
      "66 88 110 \n",
      "69 92 115 \n",
      "72 96 120 \n",
      "75 100 125 \n",
      "80 84 116 \n"
     ]
    }
   ],
   "source": [
    "for (a in 1:100)\n",
    "    for(b in a:100)\n",
    "        for(c in b:150)\n",
    "            if (a*a + b*b == c*c)\n",
    "                cat(a,b,c,\"\\n\")"
   ]
  },
  {
   "cell_type": "markdown",
   "metadata": {},
   "source": [
    "**Question.** We get repetitions such as `3 4 5` and `4 3 5`, which are really not different. How do we remove such repetitions?"
   ]
  },
  {
   "cell_type": "markdown",
   "metadata": {},
   "source": [
    "<h3>Example: Print a triangle of characters</h3>"
   ]
  },
  {
   "cell_type": "code",
   "execution_count": 33,
   "metadata": {},
   "outputs": [
    {
     "name": "stdout",
     "output_type": "stream",
     "text": [
      "*\n",
      "**\n",
      "***\n",
      "****\n",
      "*****\n",
      "******\n",
      "*******\n",
      "********\n",
      "*********\n",
      "**********\n"
     ]
    }
   ],
   "source": [
    "for (row in 1:10){\n",
    "    for (col in 1:row)\n",
    "        cat(\"*\")\n",
    "    cat(\"\\n\")\n",
    "}"
   ]
  },
  {
   "cell_type": "code",
   "execution_count": null,
   "metadata": {},
   "outputs": [],
   "source": [
    "for (row in 1:10){\n",
    "    for (col in row:10)\n",
    "        cat(\"*\")\n",
    "    cat(\"\\n\")\n",
    "}"
   ]
  },
  {
   "cell_type": "markdown",
   "metadata": {},
   "source": [
    "Further examples\n",
    "--------------\n",
    "<h3>Fibonacci sequence</h3>\n",
    "A _Fibonacci sequence_ starts with 1 and 1, and each new value is the sum of the two previous values. Formally:\n",
    "$$\\begin{eqnarray}\n",
    "F_1 &=& 1\\\\\n",
    "F_2 &=& 1\\\\\n",
    "F_{n} &=& F_{n-1} + F_{n-2}\n",
    "\\end{eqnarray}$$\n",
    "\n",
    "Each number in this sequence is called a _Fibonacci number_. Let us write R code that displays the first 20 Fibonacci numbers."
   ]
  },
  {
   "cell_type": "code",
   "execution_count": 4,
   "metadata": {},
   "outputs": [
    {
     "name": "stdout",
     "output_type": "stream",
     "text": [
      "1 \n",
      "1 \n"
     ]
    }
   ],
   "source": [
    "f1 <- 1\n",
    "f2 <- 1\n",
    "cat(f1,\"\\n\")\n",
    "cat(f2,\"\\n\")"
   ]
  },
  {
   "cell_type": "code",
   "execution_count": 5,
   "metadata": {},
   "outputs": [
    {
     "name": "stdout",
     "output_type": "stream",
     "text": [
      "2 \n",
      "3 \n",
      "5 \n",
      "8 \n",
      "13 \n",
      "21 \n",
      "34 \n",
      "55 \n",
      "89 \n",
      "144 \n",
      "233 \n",
      "377 \n",
      "610 \n",
      "987 \n",
      "1597 \n",
      "2584 \n",
      "4181 \n",
      "6765 \n"
     ]
    }
   ],
   "source": [
    "for (i in 3:20){\n",
    "    temp <- f1\n",
    "    f1 <- f2\n",
    "    f2 <- f2 + temp\n",
    "    cat(f2,\"\\n\")\n",
    "}"
   ]
  },
  {
   "cell_type": "markdown",
   "metadata": {},
   "source": [
    "<h3>Compound interest</h3>"
   ]
  },
  {
   "cell_type": "code",
   "execution_count": 7,
   "metadata": {},
   "outputs": [
    {
     "name": "stdout",
     "output_type": "stream",
     "text": [
      "After 1 years your account balance is 11000 \n",
      "After 2 years your account balance is 12100 \n",
      "After 3 years your account balance is 13310 \n",
      "After 4 years your account balance is 14641 \n",
      "After 5 years your account balance is 16105.1 \n",
      "After 6 years your account balance is 17715.61 \n",
      "After 7 years your account balance is 19487.17 \n",
      "After 8 years your account balance is 21435.89 \n",
      "After 9 years your account balance is 23579.48 \n",
      "After 10 years your account balance is 25937.42 \n"
     ]
    }
   ],
   "source": [
    "account_balance <- 10000\n",
    "interest_rate <- 0.1\n",
    "years <- 10\n",
    "balance_vec <- account_balance\n",
    "for (y in 1:years){\n",
    "    account_balance <- account_balance * (1+interest_rate)\n",
    "    balance_vec <- c(balance_vec, account_balance)\n",
    "    cat(\"After\",y,\"years your account balance is\",account_balance,\"\\n\")\n",
    "}"
   ]
  },
  {
   "cell_type": "code",
   "execution_count": 10,
   "metadata": {},
   "outputs": [
    {
     "data": {
      "text/html": [
       "23579.47691"
      ],
      "text/latex": [
       "23579.47691"
      ],
      "text/markdown": [
       "23579.47691"
      ],
      "text/plain": [
       "[1] 23579.48"
      ]
     },
     "metadata": {},
     "output_type": "display_data"
    }
   ],
   "source": [
    "balance_vec[10]"
   ]
  },
  {
   "cell_type": "markdown",
   "metadata": {},
   "source": [
    "<h3>Series sum</h3>\n",
    "Evaluate the sum $$\\sum_{i=1}^{n} 2^{-i} = \\frac{1}{2} + \\frac{1}{4} +\\ldots + \\frac{1}{2^n}$$ for given $n$."
   ]
  },
  {
   "cell_type": "code",
   "execution_count": null,
   "metadata": {},
   "outputs": [],
   "source": [
    "n <- 5\n",
    "total <- 0\n",
    "for (i in 1:n) {\n",
    "    total <- total + 1/2^i\n",
    "}\n",
    "total"
   ]
  },
  {
   "cell_type": "code",
   "execution_count": null,
   "metadata": {},
   "outputs": [],
   "source": [
    "n <- 10\n",
    "total <- 0\n",
    "for (i in 1:n) {\n",
    "    total <- total + 1/2^i\n",
    "}\n",
    "total"
   ]
  },
  {
   "cell_type": "markdown",
   "metadata": {},
   "source": [
    "As $n\\rightarrow\\infty$, the sum must approach 1. To see this, let us wrap another loop around the code to change n."
   ]
  },
  {
   "cell_type": "code",
   "execution_count": null,
   "metadata": {},
   "outputs": [],
   "source": [
    "for (n in 2:20){\n",
    "    total <- 0\n",
    "    for (i in 1:n) {\n",
    "        total <- total + 1/2^i\n",
    "    }\n",
    "    cat(\"n =\",n,\", series total =\",total,\"\\n\")\n",
    "}"
   ]
  },
  {
   "cell_type": "code",
   "execution_count": null,
   "metadata": {},
   "outputs": [],
   "source": [
    "n=1000\n",
    "for (i in 1:n){\n",
    "    x <- runif(1,-1,1)\n",
    "    y <- runif(1,-1,1)\n",
    "    if (x*x + y*y <= 1)\n",
    "        total <- total + 1\n",
    "}\n",
    "total / n"
   ]
  },
  {
   "cell_type": "code",
   "execution_count": null,
   "metadata": {},
   "outputs": [],
   "source": []
  }
 ],
 "metadata": {
  "kernelspec": {
   "display_name": "R",
   "language": "R",
   "name": "ir"
  },
  "language_info": {
   "codemirror_mode": "r",
   "file_extension": ".r",
   "mimetype": "text/x-r-source",
   "name": "R",
   "pygments_lexer": "r",
   "version": "3.4.2"
  }
 },
 "nbformat": 4,
 "nbformat_minor": 2
}
