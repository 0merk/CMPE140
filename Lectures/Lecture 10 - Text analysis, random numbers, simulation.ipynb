{
 "cells": [
  {
   "cell_type": "markdown",
   "metadata": {},
   "source": [
    "Analysis of text\n",
    "===\n",
    "\n",
    "Our objective is to load a long text file and count the occurrences of words in that text file. The subtasks of this problem are applicable to many textual analysis tasks.\n",
    "\n",
    "Text to be analyzed: _\"A Study in Scarlet\"_ by Arthur Conan Doyle (http://www.gutenberg.org/files/244/244-0.txt)"
   ]
  },
  {
   "cell_type": "markdown",
   "metadata": {},
   "source": [
    "Load the text file to a string\n",
    "---"
   ]
  },
  {
   "cell_type": "code",
   "execution_count": 1,
   "metadata": {},
   "outputs": [],
   "source": [
    "raw_text <- readLines(\"http://www.gutenberg.org/files/244/244-0.txt\")"
   ]
  },
  {
   "cell_type": "markdown",
   "metadata": {},
   "source": [
    "The `readLines()` function generates a vector of strings. Combine them into a single string:"
   ]
  },
  {
   "cell_type": "code",
   "execution_count": 2,
   "metadata": {},
   "outputs": [],
   "source": [
    "raw_text <- paste(raw_text, collapse = \" \")"
   ]
  },
  {
   "cell_type": "markdown",
   "metadata": {},
   "source": [
    "Check the result by looking at the first 2000 characters."
   ]
  },
  {
   "cell_type": "code",
   "execution_count": 3,
   "metadata": {},
   "outputs": [
    {
     "data": {
      "text/html": [
       "<span style=white-space:pre-wrap>'The Project Gutenberg EBook of A Study In Scarlet, by Arthur Conan Doyle  This eBook is for the use of anyone anywhere at no cost and with almost no restrictions whatsoever.  You may copy it, give it away or re-use it under the terms of the Project Gutenberg License included with this eBook or online at www.gutenberg.org   Title: A Study In Scarlet  Author: Arthur Conan Doyle  Posting Date: July 12, 2008 [EBook #244] Release Date: April, 1995 Last Updated: September 30, 2016  Language: English  Character set encoding: UTF-8  *** START OF THIS PROJECT GUTENBERG EBOOK A STUDY IN SCARLET ***     Produced by Roger Squires      A STUDY IN SCARLET.  By A. Conan Doyle  [1]         Original Transcriber’s Note: This etext is prepared directly      from an 1887 edition, and care has been taken to duplicate the      original exactly, including typographical and punctuation      vagaries.       Additions to the text include adding the underscore character to      indicate italics, and textual end-notes in square braces.       Project Gutenberg Editor’s Note: In reproofing and moving old PG      files such as this to the present PG directory system it is the      policy to reformat the text to conform to present PG Standards.      In this case however, in consideration of the note above of the      original transcriber describing his care to try to duplicate the      original 1887 edition as to typography and punctuation vagaries,      no changes have been made in this ascii text file. However, in      the Latin-1 file and this html file, present standards are      followed and the several French and Spanish words have been      given their proper accents.  \\t Part II, The Country of the Saints, deals much with the Mormon Church.     A STUDY IN SCARLET.      PART I.  (_Being a reprint from the reminiscences of_ JOHN H. WATSON, M.D., _late of the Army Medical Department._) [2]     CHAPTER I. MR. SHERLOCK HOLMES.   IN the year 1878 I took my degree of Doctor of Medicine of the Univ'</span>"
      ],
      "text/latex": [
       "'The Project Gutenberg EBook of A Study In Scarlet, by Arthur Conan Doyle  This eBook is for the use of anyone anywhere at no cost and with almost no restrictions whatsoever.  You may copy it, give it away or re-use it under the terms of the Project Gutenberg License included with this eBook or online at www.gutenberg.org   Title: A Study In Scarlet  Author: Arthur Conan Doyle  Posting Date: July 12, 2008 {[}EBook \\#244{]} Release Date: April, 1995 Last Updated: September 30, 2016  Language: English  Character set encoding: UTF-8  *** START OF THIS PROJECT GUTENBERG EBOOK A STUDY IN SCARLET ***     Produced by Roger Squires      A STUDY IN SCARLET.  By A. Conan Doyle  {[}1{]}         Original Transcriber’s Note: This etext is prepared directly      from an 1887 edition, and care has been taken to duplicate the      original exactly, including typographical and punctuation      vagaries.       Additions to the text include adding the underscore character to      indicate italics, and textual end-notes in square braces.       Project Gutenberg Editor’s Note: In reproofing and moving old PG      files such as this to the present PG directory system it is the      policy to reformat the text to conform to present PG Standards.      In this case however, in consideration of the note above of the      original transcriber describing his care to try to duplicate the      original 1887 edition as to typography and punctuation vagaries,      no changes have been made in this ascii text file. However, in      the Latin-1 file and this html file, present standards are      followed and the several French and Spanish words have been      given their proper accents.  \\textbackslash{}t Part II, The Country of the Saints, deals much with the Mormon Church.     A STUDY IN SCARLET.      PART I.  (\\_Being a reprint from the reminiscences of\\_ JOHN H. WATSON, M.D., \\_late of the Army Medical Department.\\_) {[}2{]}     CHAPTER I. MR. SHERLOCK HOLMES.   IN the year 1878 I took my degree of Doctor of Medicine of the Univ'"
      ],
      "text/markdown": [
       "<span style=white-space:pre-wrap>'The Project Gutenberg EBook of A Study In Scarlet, by Arthur Conan Doyle  This eBook is for the use of anyone anywhere at no cost and with almost no restrictions whatsoever.  You may copy it, give it away or re-use it under the terms of the Project Gutenberg License included with this eBook or online at www.gutenberg.org   Title: A Study In Scarlet  Author: Arthur Conan Doyle  Posting Date: July 12, 2008 [EBook #244] Release Date: April, 1995 Last Updated: September 30, 2016  Language: English  Character set encoding: UTF-8  *** START OF THIS PROJECT GUTENBERG EBOOK A STUDY IN SCARLET ***     Produced by Roger Squires      A STUDY IN SCARLET.  By A. Conan Doyle  [1]         Original Transcriber’s Note: This etext is prepared directly      from an 1887 edition, and care has been taken to duplicate the      original exactly, including typographical and punctuation      vagaries.       Additions to the text include adding the underscore character to      indicate italics, and textual end-notes in square braces.       Project Gutenberg Editor’s Note: In reproofing and moving old PG      files such as this to the present PG directory system it is the      policy to reformat the text to conform to present PG Standards.      In this case however, in consideration of the note above of the      original transcriber describing his care to try to duplicate the      original 1887 edition as to typography and punctuation vagaries,      no changes have been made in this ascii text file. However, in      the Latin-1 file and this html file, present standards are      followed and the several French and Spanish words have been      given their proper accents.  \\t Part II, The Country of the Saints, deals much with the Mormon Church.     A STUDY IN SCARLET.      PART I.  (_Being a reprint from the reminiscences of_ JOHN H. WATSON, M.D., _late of the Army Medical Department._) [2]     CHAPTER I. MR. SHERLOCK HOLMES.   IN the year 1878 I took my degree of Doctor of Medicine of the Univ'</span>"
      ],
      "text/plain": [
       "[1] \"The Project Gutenberg EBook of A Study In Scarlet, by Arthur Conan Doyle  This eBook is for the use of anyone anywhere at no cost and with almost no restrictions whatsoever.  You may copy it, give it away or re-use it under the terms of the Project Gutenberg License included with this eBook or online at www.gutenberg.org   Title: A Study In Scarlet  Author: Arthur Conan Doyle  Posting Date: July 12, 2008 [EBook #244] Release Date: April, 1995 Last Updated: September 30, 2016  Language: English  Character set encoding: UTF-8  *** START OF THIS PROJECT GUTENBERG EBOOK A STUDY IN SCARLET ***     Produced by Roger Squires      A STUDY IN SCARLET.  By A. Conan Doyle  [1]         Original Transcriber’s Note: This etext is prepared directly      from an 1887 edition, and care has been taken to duplicate the      original exactly, including typographical and punctuation      vagaries.       Additions to the text include adding the underscore character to      indicate italics, and textual end-notes in square braces.       Project Gutenberg Editor’s Note: In reproofing and moving old PG      files such as this to the present PG directory system it is the      policy to reformat the text to conform to present PG Standards.      In this case however, in consideration of the note above of the      original transcriber describing his care to try to duplicate the      original 1887 edition as to typography and punctuation vagaries,      no changes have been made in this ascii text file. However, in      the Latin-1 file and this html file, present standards are      followed and the several French and Spanish words have been      given their proper accents.  \\t Part II, The Country of the Saints, deals much with the Mormon Church.     A STUDY IN SCARLET.      PART I.  (_Being a reprint from the reminiscences of_ JOHN H. WATSON, M.D., _late of the Army Medical Department._) [2]     CHAPTER I. MR. SHERLOCK HOLMES.   IN the year 1878 I took my degree of Doctor of Medicine of the Univ\""
      ]
     },
     "metadata": {},
     "output_type": "display_data"
    }
   ],
   "source": [
    "substr(raw_text,1,2000)"
   ]
  },
  {
   "cell_type": "markdown",
   "metadata": {},
   "source": [
    "Prepare for analysis\n",
    "----\n",
    "In order to count the words correctly, we need to remove the punctuation signs and convert all characters to lowercase.\n",
    "\n",
    "The `gsub()` function is used to find complex patterns and replace them with desired strings. For the task of removing punctuation, we use the _character class_ `[[:punct:]]` and replace all occurrences with an empty string."
   ]
  },
  {
   "cell_type": "code",
   "execution_count": 4,
   "metadata": {},
   "outputs": [],
   "source": [
    "cleaned_text <- gsub(\"[[:punct:]]\", \"\", raw_text)"
   ]
  },
  {
   "cell_type": "markdown",
   "metadata": {},
   "source": [
    "Check the results:"
   ]
  },
  {
   "cell_type": "code",
   "execution_count": 5,
   "metadata": {},
   "outputs": [
    {
     "data": {
      "text/html": [
       "<span style=white-space:pre-wrap>'The Project Gutenberg EBook of A Study In Scarlet by Arthur Conan Doyle  This eBook is for the use of anyone anywhere at no cost and with almost no restrictions whatsoever  You may copy it give it away or reuse it under the terms of the Project Gutenberg License included with this eBook or online at wwwgutenbergorg   Title A Study In Scarlet  Author Arthur Conan Doyle  Posting Date July 12 2008 EBook 244 Release Date April 1995 Last Updated September 30 2016  Language English  Character set encoding UTF8   START OF THIS PROJECT GUTENBERG EBOOK A STUDY IN SCARLET      Produced by Roger Squires      A STUDY IN SCARLET  By A Conan Doyle  1         Original Transcribers Note This etext is prepared directly      from an 1887 edition and care has been taken to duplicate the      original exactly including typographical and punctuation      vagaries       Additions to the text include adding the underscore character to      indicate italics and textual endnotes in square braces       Project Gutenberg Editors Note In reproofing and moving old PG      files such as this to the present PG directory system it is the      policy to reformat the text to conform to present PG Standards      In this case however in consideration of the note above of the      original transcriber describing his care to try to duplicate the      original 1887 edition as to typography and punctuation vagaries      no changes have been made in this ascii text file However in      the Latin1 file and this html file present standards are      followed and the several French and Spanish words have been      given their proper accents  \\t Part II The Country of the Saints deals much with the Mormon Church     A STUDY IN SCARLET      PART I  Being a reprint from the reminiscences of JOHN H WATSON MD late of the Army Medical Department 2     CHAPTER I MR SHERLOCK HOLMES   IN the year 1878 I took my degree of Doctor of Medicine of the University of London and proceeded to Netley to go through the course pres'</span>"
      ],
      "text/latex": [
       "'The Project Gutenberg EBook of A Study In Scarlet by Arthur Conan Doyle  This eBook is for the use of anyone anywhere at no cost and with almost no restrictions whatsoever  You may copy it give it away or reuse it under the terms of the Project Gutenberg License included with this eBook or online at wwwgutenbergorg   Title A Study In Scarlet  Author Arthur Conan Doyle  Posting Date July 12 2008 EBook 244 Release Date April 1995 Last Updated September 30 2016  Language English  Character set encoding UTF8   START OF THIS PROJECT GUTENBERG EBOOK A STUDY IN SCARLET      Produced by Roger Squires      A STUDY IN SCARLET  By A Conan Doyle  1         Original Transcribers Note This etext is prepared directly      from an 1887 edition and care has been taken to duplicate the      original exactly including typographical and punctuation      vagaries       Additions to the text include adding the underscore character to      indicate italics and textual endnotes in square braces       Project Gutenberg Editors Note In reproofing and moving old PG      files such as this to the present PG directory system it is the      policy to reformat the text to conform to present PG Standards      In this case however in consideration of the note above of the      original transcriber describing his care to try to duplicate the      original 1887 edition as to typography and punctuation vagaries      no changes have been made in this ascii text file However in      the Latin1 file and this html file present standards are      followed and the several French and Spanish words have been      given their proper accents  \\textbackslash{}t Part II The Country of the Saints deals much with the Mormon Church     A STUDY IN SCARLET      PART I  Being a reprint from the reminiscences of JOHN H WATSON MD late of the Army Medical Department 2     CHAPTER I MR SHERLOCK HOLMES   IN the year 1878 I took my degree of Doctor of Medicine of the University of London and proceeded to Netley to go through the course pres'"
      ],
      "text/markdown": [
       "<span style=white-space:pre-wrap>'The Project Gutenberg EBook of A Study In Scarlet by Arthur Conan Doyle  This eBook is for the use of anyone anywhere at no cost and with almost no restrictions whatsoever  You may copy it give it away or reuse it under the terms of the Project Gutenberg License included with this eBook or online at wwwgutenbergorg   Title A Study In Scarlet  Author Arthur Conan Doyle  Posting Date July 12 2008 EBook 244 Release Date April 1995 Last Updated September 30 2016  Language English  Character set encoding UTF8   START OF THIS PROJECT GUTENBERG EBOOK A STUDY IN SCARLET      Produced by Roger Squires      A STUDY IN SCARLET  By A Conan Doyle  1         Original Transcribers Note This etext is prepared directly      from an 1887 edition and care has been taken to duplicate the      original exactly including typographical and punctuation      vagaries       Additions to the text include adding the underscore character to      indicate italics and textual endnotes in square braces       Project Gutenberg Editors Note In reproofing and moving old PG      files such as this to the present PG directory system it is the      policy to reformat the text to conform to present PG Standards      In this case however in consideration of the note above of the      original transcriber describing his care to try to duplicate the      original 1887 edition as to typography and punctuation vagaries      no changes have been made in this ascii text file However in      the Latin1 file and this html file present standards are      followed and the several French and Spanish words have been      given their proper accents  \\t Part II The Country of the Saints deals much with the Mormon Church     A STUDY IN SCARLET      PART I  Being a reprint from the reminiscences of JOHN H WATSON MD late of the Army Medical Department 2     CHAPTER I MR SHERLOCK HOLMES   IN the year 1878 I took my degree of Doctor of Medicine of the University of London and proceeded to Netley to go through the course pres'</span>"
      ],
      "text/plain": [
       "[1] \"The Project Gutenberg EBook of A Study In Scarlet by Arthur Conan Doyle  This eBook is for the use of anyone anywhere at no cost and with almost no restrictions whatsoever  You may copy it give it away or reuse it under the terms of the Project Gutenberg License included with this eBook or online at wwwgutenbergorg   Title A Study In Scarlet  Author Arthur Conan Doyle  Posting Date July 12 2008 EBook 244 Release Date April 1995 Last Updated September 30 2016  Language English  Character set encoding UTF8   START OF THIS PROJECT GUTENBERG EBOOK A STUDY IN SCARLET      Produced by Roger Squires      A STUDY IN SCARLET  By A Conan Doyle  1         Original Transcribers Note This etext is prepared directly      from an 1887 edition and care has been taken to duplicate the      original exactly including typographical and punctuation      vagaries       Additions to the text include adding the underscore character to      indicate italics and textual endnotes in square braces       Project Gutenberg Editors Note In reproofing and moving old PG      files such as this to the present PG directory system it is the      policy to reformat the text to conform to present PG Standards      In this case however in consideration of the note above of the      original transcriber describing his care to try to duplicate the      original 1887 edition as to typography and punctuation vagaries      no changes have been made in this ascii text file However in      the Latin1 file and this html file present standards are      followed and the several French and Spanish words have been      given their proper accents  \\t Part II The Country of the Saints deals much with the Mormon Church     A STUDY IN SCARLET      PART I  Being a reprint from the reminiscences of JOHN H WATSON MD late of the Army Medical Department 2     CHAPTER I MR SHERLOCK HOLMES   IN the year 1878 I took my degree of Doctor of Medicine of the University of London and proceeded to Netley to go through the course pres\""
      ]
     },
     "metadata": {},
     "output_type": "display_data"
    }
   ],
   "source": [
    "substr(cleaned_text,1,2000)"
   ]
  },
  {
   "cell_type": "markdown",
   "metadata": {},
   "source": [
    "Convert all characters to lowercase with `tolower()`:"
   ]
  },
  {
   "cell_type": "code",
   "execution_count": 6,
   "metadata": {},
   "outputs": [],
   "source": [
    "cleaned_text <- tolower(cleaned_text)"
   ]
  },
  {
   "cell_type": "markdown",
   "metadata": {},
   "source": [
    "Check the results:"
   ]
  },
  {
   "cell_type": "code",
   "execution_count": 7,
   "metadata": {},
   "outputs": [
    {
     "data": {
      "text/html": [
       "<span style=white-space:pre-wrap>'the project gutenberg ebook of a study in scarlet by arthur conan doyle  this ebook is for the use of anyone anywhere at no cost and with almost no restrictions whatsoever  you may copy it give it away or reuse it under the terms of the project gutenberg license included with this ebook or online at wwwgutenbergorg   title a study in scarlet  author arthur conan doyle  posting date july 12 2008 ebook 244 release date april 1995 last updated september 30 2016  language english  character set encoding utf8   start of this project gutenberg ebook a study in scarlet      produced by roger squires      a study in scarlet  by a conan doyle  1         original transcribers note this etext is prepared directly      from an 1887 edition and care has been taken to duplicate the      original exactly including typographical and punctuation      vagaries       additions to the text include adding the underscore character to      indicate italics and textual endnotes in square braces       project gutenberg editors note in reproofing and moving old pg      files such as this to the present pg directory system it is the      policy to reformat the text to conform to present pg standards      in this case however in consideration of the note above of the      original transcriber describing his care to try to duplicate the      original 1887 edition as to typography and punctuation vagaries      no changes have been made in this ascii text file however in      the latin1 file and this html file present standards are      followed and the several french and spanish words have been      given their proper accents  \\t part ii the country of the saints deals much with the mormon church     a study in scarlet      part i  being a reprint from the reminiscences of john h watson md late of the army medical department 2     chapter i mr sherlock holmes   in the year 1878 i took my degree of doctor of medicine of the university of london and proceeded to netley to go through the course pres'</span>"
      ],
      "text/latex": [
       "'the project gutenberg ebook of a study in scarlet by arthur conan doyle  this ebook is for the use of anyone anywhere at no cost and with almost no restrictions whatsoever  you may copy it give it away or reuse it under the terms of the project gutenberg license included with this ebook or online at wwwgutenbergorg   title a study in scarlet  author arthur conan doyle  posting date july 12 2008 ebook 244 release date april 1995 last updated september 30 2016  language english  character set encoding utf8   start of this project gutenberg ebook a study in scarlet      produced by roger squires      a study in scarlet  by a conan doyle  1         original transcribers note this etext is prepared directly      from an 1887 edition and care has been taken to duplicate the      original exactly including typographical and punctuation      vagaries       additions to the text include adding the underscore character to      indicate italics and textual endnotes in square braces       project gutenberg editors note in reproofing and moving old pg      files such as this to the present pg directory system it is the      policy to reformat the text to conform to present pg standards      in this case however in consideration of the note above of the      original transcriber describing his care to try to duplicate the      original 1887 edition as to typography and punctuation vagaries      no changes have been made in this ascii text file however in      the latin1 file and this html file present standards are      followed and the several french and spanish words have been      given their proper accents  \\textbackslash{}t part ii the country of the saints deals much with the mormon church     a study in scarlet      part i  being a reprint from the reminiscences of john h watson md late of the army medical department 2     chapter i mr sherlock holmes   in the year 1878 i took my degree of doctor of medicine of the university of london and proceeded to netley to go through the course pres'"
      ],
      "text/markdown": [
       "<span style=white-space:pre-wrap>'the project gutenberg ebook of a study in scarlet by arthur conan doyle  this ebook is for the use of anyone anywhere at no cost and with almost no restrictions whatsoever  you may copy it give it away or reuse it under the terms of the project gutenberg license included with this ebook or online at wwwgutenbergorg   title a study in scarlet  author arthur conan doyle  posting date july 12 2008 ebook 244 release date april 1995 last updated september 30 2016  language english  character set encoding utf8   start of this project gutenberg ebook a study in scarlet      produced by roger squires      a study in scarlet  by a conan doyle  1         original transcribers note this etext is prepared directly      from an 1887 edition and care has been taken to duplicate the      original exactly including typographical and punctuation      vagaries       additions to the text include adding the underscore character to      indicate italics and textual endnotes in square braces       project gutenberg editors note in reproofing and moving old pg      files such as this to the present pg directory system it is the      policy to reformat the text to conform to present pg standards      in this case however in consideration of the note above of the      original transcriber describing his care to try to duplicate the      original 1887 edition as to typography and punctuation vagaries      no changes have been made in this ascii text file however in      the latin1 file and this html file present standards are      followed and the several french and spanish words have been      given their proper accents  \\t part ii the country of the saints deals much with the mormon church     a study in scarlet      part i  being a reprint from the reminiscences of john h watson md late of the army medical department 2     chapter i mr sherlock holmes   in the year 1878 i took my degree of doctor of medicine of the university of london and proceeded to netley to go through the course pres'</span>"
      ],
      "text/plain": [
       "[1] \"the project gutenberg ebook of a study in scarlet by arthur conan doyle  this ebook is for the use of anyone anywhere at no cost and with almost no restrictions whatsoever  you may copy it give it away or reuse it under the terms of the project gutenberg license included with this ebook or online at wwwgutenbergorg   title a study in scarlet  author arthur conan doyle  posting date july 12 2008 ebook 244 release date april 1995 last updated september 30 2016  language english  character set encoding utf8   start of this project gutenberg ebook a study in scarlet      produced by roger squires      a study in scarlet  by a conan doyle  1         original transcribers note this etext is prepared directly      from an 1887 edition and care has been taken to duplicate the      original exactly including typographical and punctuation      vagaries       additions to the text include adding the underscore character to      indicate italics and textual endnotes in square braces       project gutenberg editors note in reproofing and moving old pg      files such as this to the present pg directory system it is the      policy to reformat the text to conform to present pg standards      in this case however in consideration of the note above of the      original transcriber describing his care to try to duplicate the      original 1887 edition as to typography and punctuation vagaries      no changes have been made in this ascii text file however in      the latin1 file and this html file present standards are      followed and the several french and spanish words have been      given their proper accents  \\t part ii the country of the saints deals much with the mormon church     a study in scarlet      part i  being a reprint from the reminiscences of john h watson md late of the army medical department 2     chapter i mr sherlock holmes   in the year 1878 i took my degree of doctor of medicine of the university of london and proceeded to netley to go through the course pres\""
      ]
     },
     "metadata": {},
     "output_type": "display_data"
    }
   ],
   "source": [
    "substr(cleaned_text,0,2000)"
   ]
  },
  {
   "cell_type": "markdown",
   "metadata": {},
   "source": [
    "Get word counts\n",
    "---\n",
    "In order to count the occurrence of words we need to break the string at spaces. We can do this with the `strsplit()` function. Let's try this on the first 1000 characters."
   ]
  },
  {
   "cell_type": "code",
   "execution_count": 8,
   "metadata": {},
   "outputs": [
    {
     "data": {
      "text/html": [
       "<ol>\n",
       "\t<li><ol class=list-inline>\n",
       "\t<li>'the'</li>\n",
       "\t<li>'project'</li>\n",
       "\t<li>'gutenberg'</li>\n",
       "\t<li>'ebook'</li>\n",
       "\t<li>'of'</li>\n",
       "\t<li>'a'</li>\n",
       "\t<li>'study'</li>\n",
       "\t<li>'in'</li>\n",
       "\t<li>'scarlet'</li>\n",
       "\t<li>'by'</li>\n",
       "\t<li>'arthur'</li>\n",
       "\t<li>'conan'</li>\n",
       "\t<li>'doyle'</li>\n",
       "\t<li>''</li>\n",
       "\t<li>'this'</li>\n",
       "\t<li>'ebook'</li>\n",
       "\t<li>'is'</li>\n",
       "\t<li>'for'</li>\n",
       "\t<li>'the'</li>\n",
       "\t<li>'use'</li>\n",
       "\t<li>'of'</li>\n",
       "\t<li>'anyone'</li>\n",
       "\t<li>'anywhere'</li>\n",
       "\t<li>'at'</li>\n",
       "\t<li>'no'</li>\n",
       "\t<li>'cost'</li>\n",
       "\t<li>'and'</li>\n",
       "\t<li>'with'</li>\n",
       "\t<li>'almost'</li>\n",
       "\t<li>'no'</li>\n",
       "\t<li>'restrictions'</li>\n",
       "\t<li>'whatsoever'</li>\n",
       "\t<li>''</li>\n",
       "\t<li>'you'</li>\n",
       "\t<li>'may'</li>\n",
       "\t<li>'copy'</li>\n",
       "\t<li>'it'</li>\n",
       "\t<li>'give'</li>\n",
       "\t<li>'it'</li>\n",
       "\t<li>'away'</li>\n",
       "\t<li>'or'</li>\n",
       "\t<li>'reuse'</li>\n",
       "\t<li>'it'</li>\n",
       "\t<li>'under'</li>\n",
       "\t<li>'the'</li>\n",
       "\t<li>'terms'</li>\n",
       "\t<li>'of'</li>\n",
       "\t<li>'the'</li>\n",
       "\t<li>'project'</li>\n",
       "\t<li>'gutenberg'</li>\n",
       "\t<li>'license'</li>\n",
       "\t<li>'included'</li>\n",
       "\t<li>'with'</li>\n",
       "\t<li>'this'</li>\n",
       "\t<li>'ebook'</li>\n",
       "\t<li>'or'</li>\n",
       "\t<li>'online'</li>\n",
       "\t<li>'at'</li>\n",
       "\t<li>'wwwgutenbergorg'</li>\n",
       "\t<li>''</li>\n",
       "\t<li>''</li>\n",
       "\t<li>'title'</li>\n",
       "\t<li>'a'</li>\n",
       "\t<li>'study'</li>\n",
       "\t<li>'in'</li>\n",
       "\t<li>'scarlet'</li>\n",
       "\t<li>''</li>\n",
       "\t<li>'author'</li>\n",
       "\t<li>'arthur'</li>\n",
       "\t<li>'conan'</li>\n",
       "\t<li>'doyle'</li>\n",
       "\t<li>''</li>\n",
       "\t<li>'posting'</li>\n",
       "\t<li>'date'</li>\n",
       "\t<li>'july'</li>\n",
       "\t<li>'12'</li>\n",
       "\t<li>'2008'</li>\n",
       "\t<li>'ebook'</li>\n",
       "\t<li>'244'</li>\n",
       "\t<li>'release'</li>\n",
       "\t<li>'date'</li>\n",
       "\t<li>'april'</li>\n",
       "\t<li>'1995'</li>\n",
       "\t<li>'last'</li>\n",
       "\t<li>'updated'</li>\n",
       "\t<li>'september'</li>\n",
       "\t<li>'30'</li>\n",
       "\t<li>'2016'</li>\n",
       "\t<li>''</li>\n",
       "\t<li>'language'</li>\n",
       "\t<li>'english'</li>\n",
       "\t<li>''</li>\n",
       "\t<li>'character'</li>\n",
       "\t<li>'set'</li>\n",
       "\t<li>'encoding'</li>\n",
       "\t<li>'utf8'</li>\n",
       "\t<li>''</li>\n",
       "\t<li>''</li>\n",
       "\t<li>'start'</li>\n",
       "\t<li>'of'</li>\n",
       "\t<li>'this'</li>\n",
       "\t<li>'project'</li>\n",
       "\t<li>'gutenberg'</li>\n",
       "\t<li>'ebook'</li>\n",
       "\t<li>'a'</li>\n",
       "\t<li>'study'</li>\n",
       "\t<li>'in'</li>\n",
       "\t<li>'scarlet'</li>\n",
       "\t<li>''</li>\n",
       "\t<li>''</li>\n",
       "\t<li>''</li>\n",
       "\t<li>''</li>\n",
       "\t<li>''</li>\n",
       "\t<li>'produced'</li>\n",
       "\t<li>'by'</li>\n",
       "\t<li>'roger'</li>\n",
       "\t<li>'squires'</li>\n",
       "\t<li>''</li>\n",
       "\t<li>''</li>\n",
       "\t<li>''</li>\n",
       "\t<li>''</li>\n",
       "\t<li>''</li>\n",
       "\t<li>'a'</li>\n",
       "\t<li>'study'</li>\n",
       "\t<li>'in'</li>\n",
       "\t<li>'scarlet'</li>\n",
       "\t<li>''</li>\n",
       "\t<li>'by'</li>\n",
       "\t<li>'a'</li>\n",
       "\t<li>'conan'</li>\n",
       "\t<li>'doyle'</li>\n",
       "\t<li>''</li>\n",
       "\t<li>'1'</li>\n",
       "\t<li>''</li>\n",
       "\t<li>''</li>\n",
       "\t<li>''</li>\n",
       "\t<li>''</li>\n",
       "\t<li>''</li>\n",
       "\t<li>''</li>\n",
       "\t<li>''</li>\n",
       "\t<li>''</li>\n",
       "\t<li>'original'</li>\n",
       "\t<li>'transcribers'</li>\n",
       "\t<li>'note'</li>\n",
       "\t<li>'this'</li>\n",
       "\t<li>'etext'</li>\n",
       "\t<li>'is'</li>\n",
       "\t<li>'prepared'</li>\n",
       "\t<li>'directly'</li>\n",
       "\t<li>''</li>\n",
       "\t<li>''</li>\n",
       "\t<li>''</li>\n",
       "\t<li>''</li>\n",
       "\t<li>''</li>\n",
       "\t<li>'from'</li>\n",
       "\t<li>'an'</li>\n",
       "\t<li>'1887'</li>\n",
       "\t<li>'edition'</li>\n",
       "\t<li>'and'</li>\n",
       "\t<li>'care'</li>\n",
       "\t<li>'has'</li>\n",
       "\t<li>'been'</li>\n",
       "\t<li>'taken'</li>\n",
       "\t<li>'to'</li>\n",
       "\t<li>'duplicate'</li>\n",
       "\t<li>'the'</li>\n",
       "\t<li>''</li>\n",
       "\t<li>''</li>\n",
       "\t<li>''</li>\n",
       "\t<li>''</li>\n",
       "\t<li>''</li>\n",
       "\t<li>'original'</li>\n",
       "\t<li>'exactly'</li>\n",
       "\t<li>'including'</li>\n",
       "\t<li>'typographical'</li>\n",
       "\t<li>'and'</li>\n",
       "\t<li>'punctuation'</li>\n",
       "\t<li>''</li>\n",
       "\t<li>''</li>\n",
       "\t<li>''</li>\n",
       "\t<li>''</li>\n",
       "\t<li>''</li>\n",
       "\t<li>'vagaries'</li>\n",
       "\t<li>''</li>\n",
       "\t<li>''</li>\n",
       "\t<li>''</li>\n",
       "\t<li>''</li>\n",
       "\t<li>''</li>\n",
       "\t<li>''</li>\n",
       "\t<li>'additions'</li>\n",
       "\t<li>'to'</li>\n",
       "\t<li>'the'</li>\n",
       "\t<li>'text'</li>\n",
       "\t<li>'include'</li>\n",
       "\t<li>'adding'</li>\n",
       "\t<li>'the'</li>\n",
       "\t<li>'underscore'</li>\n",
       "\t<li>'character'</li>\n",
       "\t<li>'to'</li>\n",
       "\t<li>''</li>\n",
       "\t<li>''</li>\n",
       "\t<li>''</li>\n",
       "\t<li>''</li>\n",
       "\t<li>''</li>\n",
       "\t<li>'indicate'</li>\n",
       "\t<li>'italics'</li>\n",
       "\t<li>'and'</li>\n",
       "\t<li>'textual'</li>\n",
       "\t<li>'endnotes'</li>\n",
       "\t<li>'in'</li>\n",
       "\t<li>'square'</li>\n",
       "\t<li>'braces'</li>\n",
       "\t<li>''</li>\n",
       "\t<li>''</li>\n",
       "\t<li>''</li>\n",
       "\t<li>''</li>\n",
       "\t<li>''</li>\n",
       "\t<li>''</li>\n",
       "\t<li>'project'</li>\n",
       "</ol>\n",
       "</li>\n",
       "</ol>\n"
      ],
      "text/latex": [
       "\\begin{enumerate}\n",
       "\\item \\begin{enumerate*}\n",
       "\\item 'the'\n",
       "\\item 'project'\n",
       "\\item 'gutenberg'\n",
       "\\item 'ebook'\n",
       "\\item 'of'\n",
       "\\item 'a'\n",
       "\\item 'study'\n",
       "\\item 'in'\n",
       "\\item 'scarlet'\n",
       "\\item 'by'\n",
       "\\item 'arthur'\n",
       "\\item 'conan'\n",
       "\\item 'doyle'\n",
       "\\item ''\n",
       "\\item 'this'\n",
       "\\item 'ebook'\n",
       "\\item 'is'\n",
       "\\item 'for'\n",
       "\\item 'the'\n",
       "\\item 'use'\n",
       "\\item 'of'\n",
       "\\item 'anyone'\n",
       "\\item 'anywhere'\n",
       "\\item 'at'\n",
       "\\item 'no'\n",
       "\\item 'cost'\n",
       "\\item 'and'\n",
       "\\item 'with'\n",
       "\\item 'almost'\n",
       "\\item 'no'\n",
       "\\item 'restrictions'\n",
       "\\item 'whatsoever'\n",
       "\\item ''\n",
       "\\item 'you'\n",
       "\\item 'may'\n",
       "\\item 'copy'\n",
       "\\item 'it'\n",
       "\\item 'give'\n",
       "\\item 'it'\n",
       "\\item 'away'\n",
       "\\item 'or'\n",
       "\\item 'reuse'\n",
       "\\item 'it'\n",
       "\\item 'under'\n",
       "\\item 'the'\n",
       "\\item 'terms'\n",
       "\\item 'of'\n",
       "\\item 'the'\n",
       "\\item 'project'\n",
       "\\item 'gutenberg'\n",
       "\\item 'license'\n",
       "\\item 'included'\n",
       "\\item 'with'\n",
       "\\item 'this'\n",
       "\\item 'ebook'\n",
       "\\item 'or'\n",
       "\\item 'online'\n",
       "\\item 'at'\n",
       "\\item 'wwwgutenbergorg'\n",
       "\\item ''\n",
       "\\item ''\n",
       "\\item 'title'\n",
       "\\item 'a'\n",
       "\\item 'study'\n",
       "\\item 'in'\n",
       "\\item 'scarlet'\n",
       "\\item ''\n",
       "\\item 'author'\n",
       "\\item 'arthur'\n",
       "\\item 'conan'\n",
       "\\item 'doyle'\n",
       "\\item ''\n",
       "\\item 'posting'\n",
       "\\item 'date'\n",
       "\\item 'july'\n",
       "\\item '12'\n",
       "\\item '2008'\n",
       "\\item 'ebook'\n",
       "\\item '244'\n",
       "\\item 'release'\n",
       "\\item 'date'\n",
       "\\item 'april'\n",
       "\\item '1995'\n",
       "\\item 'last'\n",
       "\\item 'updated'\n",
       "\\item 'september'\n",
       "\\item '30'\n",
       "\\item '2016'\n",
       "\\item ''\n",
       "\\item 'language'\n",
       "\\item 'english'\n",
       "\\item ''\n",
       "\\item 'character'\n",
       "\\item 'set'\n",
       "\\item 'encoding'\n",
       "\\item 'utf8'\n",
       "\\item ''\n",
       "\\item ''\n",
       "\\item 'start'\n",
       "\\item 'of'\n",
       "\\item 'this'\n",
       "\\item 'project'\n",
       "\\item 'gutenberg'\n",
       "\\item 'ebook'\n",
       "\\item 'a'\n",
       "\\item 'study'\n",
       "\\item 'in'\n",
       "\\item 'scarlet'\n",
       "\\item ''\n",
       "\\item ''\n",
       "\\item ''\n",
       "\\item ''\n",
       "\\item ''\n",
       "\\item 'produced'\n",
       "\\item 'by'\n",
       "\\item 'roger'\n",
       "\\item 'squires'\n",
       "\\item ''\n",
       "\\item ''\n",
       "\\item ''\n",
       "\\item ''\n",
       "\\item ''\n",
       "\\item 'a'\n",
       "\\item 'study'\n",
       "\\item 'in'\n",
       "\\item 'scarlet'\n",
       "\\item ''\n",
       "\\item 'by'\n",
       "\\item 'a'\n",
       "\\item 'conan'\n",
       "\\item 'doyle'\n",
       "\\item ''\n",
       "\\item '1'\n",
       "\\item ''\n",
       "\\item ''\n",
       "\\item ''\n",
       "\\item ''\n",
       "\\item ''\n",
       "\\item ''\n",
       "\\item ''\n",
       "\\item ''\n",
       "\\item 'original'\n",
       "\\item 'transcribers'\n",
       "\\item 'note'\n",
       "\\item 'this'\n",
       "\\item 'etext'\n",
       "\\item 'is'\n",
       "\\item 'prepared'\n",
       "\\item 'directly'\n",
       "\\item ''\n",
       "\\item ''\n",
       "\\item ''\n",
       "\\item ''\n",
       "\\item ''\n",
       "\\item 'from'\n",
       "\\item 'an'\n",
       "\\item '1887'\n",
       "\\item 'edition'\n",
       "\\item 'and'\n",
       "\\item 'care'\n",
       "\\item 'has'\n",
       "\\item 'been'\n",
       "\\item 'taken'\n",
       "\\item 'to'\n",
       "\\item 'duplicate'\n",
       "\\item 'the'\n",
       "\\item ''\n",
       "\\item ''\n",
       "\\item ''\n",
       "\\item ''\n",
       "\\item ''\n",
       "\\item 'original'\n",
       "\\item 'exactly'\n",
       "\\item 'including'\n",
       "\\item 'typographical'\n",
       "\\item 'and'\n",
       "\\item 'punctuation'\n",
       "\\item ''\n",
       "\\item ''\n",
       "\\item ''\n",
       "\\item ''\n",
       "\\item ''\n",
       "\\item 'vagaries'\n",
       "\\item ''\n",
       "\\item ''\n",
       "\\item ''\n",
       "\\item ''\n",
       "\\item ''\n",
       "\\item ''\n",
       "\\item 'additions'\n",
       "\\item 'to'\n",
       "\\item 'the'\n",
       "\\item 'text'\n",
       "\\item 'include'\n",
       "\\item 'adding'\n",
       "\\item 'the'\n",
       "\\item 'underscore'\n",
       "\\item 'character'\n",
       "\\item 'to'\n",
       "\\item ''\n",
       "\\item ''\n",
       "\\item ''\n",
       "\\item ''\n",
       "\\item ''\n",
       "\\item 'indicate'\n",
       "\\item 'italics'\n",
       "\\item 'and'\n",
       "\\item 'textual'\n",
       "\\item 'endnotes'\n",
       "\\item 'in'\n",
       "\\item 'square'\n",
       "\\item 'braces'\n",
       "\\item ''\n",
       "\\item ''\n",
       "\\item ''\n",
       "\\item ''\n",
       "\\item ''\n",
       "\\item ''\n",
       "\\item 'project'\n",
       "\\end{enumerate*}\n",
       "\n",
       "\\end{enumerate}\n"
      ],
      "text/markdown": [
       "1. 1. 'the'\n",
       "2. 'project'\n",
       "3. 'gutenberg'\n",
       "4. 'ebook'\n",
       "5. 'of'\n",
       "6. 'a'\n",
       "7. 'study'\n",
       "8. 'in'\n",
       "9. 'scarlet'\n",
       "10. 'by'\n",
       "11. 'arthur'\n",
       "12. 'conan'\n",
       "13. 'doyle'\n",
       "14. ''\n",
       "15. 'this'\n",
       "16. 'ebook'\n",
       "17. 'is'\n",
       "18. 'for'\n",
       "19. 'the'\n",
       "20. 'use'\n",
       "21. 'of'\n",
       "22. 'anyone'\n",
       "23. 'anywhere'\n",
       "24. 'at'\n",
       "25. 'no'\n",
       "26. 'cost'\n",
       "27. 'and'\n",
       "28. 'with'\n",
       "29. 'almost'\n",
       "30. 'no'\n",
       "31. 'restrictions'\n",
       "32. 'whatsoever'\n",
       "33. ''\n",
       "34. 'you'\n",
       "35. 'may'\n",
       "36. 'copy'\n",
       "37. 'it'\n",
       "38. 'give'\n",
       "39. 'it'\n",
       "40. 'away'\n",
       "41. 'or'\n",
       "42. 'reuse'\n",
       "43. 'it'\n",
       "44. 'under'\n",
       "45. 'the'\n",
       "46. 'terms'\n",
       "47. 'of'\n",
       "48. 'the'\n",
       "49. 'project'\n",
       "50. 'gutenberg'\n",
       "51. 'license'\n",
       "52. 'included'\n",
       "53. 'with'\n",
       "54. 'this'\n",
       "55. 'ebook'\n",
       "56. 'or'\n",
       "57. 'online'\n",
       "58. 'at'\n",
       "59. 'wwwgutenbergorg'\n",
       "60. ''\n",
       "61. ''\n",
       "62. 'title'\n",
       "63. 'a'\n",
       "64. 'study'\n",
       "65. 'in'\n",
       "66. 'scarlet'\n",
       "67. ''\n",
       "68. 'author'\n",
       "69. 'arthur'\n",
       "70. 'conan'\n",
       "71. 'doyle'\n",
       "72. ''\n",
       "73. 'posting'\n",
       "74. 'date'\n",
       "75. 'july'\n",
       "76. '12'\n",
       "77. '2008'\n",
       "78. 'ebook'\n",
       "79. '244'\n",
       "80. 'release'\n",
       "81. 'date'\n",
       "82. 'april'\n",
       "83. '1995'\n",
       "84. 'last'\n",
       "85. 'updated'\n",
       "86. 'september'\n",
       "87. '30'\n",
       "88. '2016'\n",
       "89. ''\n",
       "90. 'language'\n",
       "91. 'english'\n",
       "92. ''\n",
       "93. 'character'\n",
       "94. 'set'\n",
       "95. 'encoding'\n",
       "96. 'utf8'\n",
       "97. ''\n",
       "98. ''\n",
       "99. 'start'\n",
       "100. 'of'\n",
       "101. 'this'\n",
       "102. 'project'\n",
       "103. 'gutenberg'\n",
       "104. 'ebook'\n",
       "105. 'a'\n",
       "106. 'study'\n",
       "107. 'in'\n",
       "108. 'scarlet'\n",
       "109. ''\n",
       "110. ''\n",
       "111. ''\n",
       "112. ''\n",
       "113. ''\n",
       "114. 'produced'\n",
       "115. 'by'\n",
       "116. 'roger'\n",
       "117. 'squires'\n",
       "118. ''\n",
       "119. ''\n",
       "120. ''\n",
       "121. ''\n",
       "122. ''\n",
       "123. 'a'\n",
       "124. 'study'\n",
       "125. 'in'\n",
       "126. 'scarlet'\n",
       "127. ''\n",
       "128. 'by'\n",
       "129. 'a'\n",
       "130. 'conan'\n",
       "131. 'doyle'\n",
       "132. ''\n",
       "133. '1'\n",
       "134. ''\n",
       "135. ''\n",
       "136. ''\n",
       "137. ''\n",
       "138. ''\n",
       "139. ''\n",
       "140. ''\n",
       "141. ''\n",
       "142. 'original'\n",
       "143. 'transcribers'\n",
       "144. 'note'\n",
       "145. 'this'\n",
       "146. 'etext'\n",
       "147. 'is'\n",
       "148. 'prepared'\n",
       "149. 'directly'\n",
       "150. ''\n",
       "151. ''\n",
       "152. ''\n",
       "153. ''\n",
       "154. ''\n",
       "155. 'from'\n",
       "156. 'an'\n",
       "157. '1887'\n",
       "158. 'edition'\n",
       "159. 'and'\n",
       "160. 'care'\n",
       "161. 'has'\n",
       "162. 'been'\n",
       "163. 'taken'\n",
       "164. 'to'\n",
       "165. 'duplicate'\n",
       "166. 'the'\n",
       "167. ''\n",
       "168. ''\n",
       "169. ''\n",
       "170. ''\n",
       "171. ''\n",
       "172. 'original'\n",
       "173. 'exactly'\n",
       "174. 'including'\n",
       "175. 'typographical'\n",
       "176. 'and'\n",
       "177. 'punctuation'\n",
       "178. ''\n",
       "179. ''\n",
       "180. ''\n",
       "181. ''\n",
       "182. ''\n",
       "183. 'vagaries'\n",
       "184. ''\n",
       "185. ''\n",
       "186. ''\n",
       "187. ''\n",
       "188. ''\n",
       "189. ''\n",
       "190. 'additions'\n",
       "191. 'to'\n",
       "192. 'the'\n",
       "193. 'text'\n",
       "194. 'include'\n",
       "195. 'adding'\n",
       "196. 'the'\n",
       "197. 'underscore'\n",
       "198. 'character'\n",
       "199. 'to'\n",
       "200. ''\n",
       "201. ''\n",
       "202. ''\n",
       "203. ''\n",
       "204. ''\n",
       "205. 'indicate'\n",
       "206. 'italics'\n",
       "207. 'and'\n",
       "208. 'textual'\n",
       "209. 'endnotes'\n",
       "210. 'in'\n",
       "211. 'square'\n",
       "212. 'braces'\n",
       "213. ''\n",
       "214. ''\n",
       "215. ''\n",
       "216. ''\n",
       "217. ''\n",
       "218. ''\n",
       "219. 'project'\n",
       "\n",
       "\n",
       "\n",
       "\n",
       "\n"
      ],
      "text/plain": [
       "[[1]]\n",
       "  [1] \"the\"             \"project\"         \"gutenberg\"       \"ebook\"          \n",
       "  [5] \"of\"              \"a\"               \"study\"           \"in\"             \n",
       "  [9] \"scarlet\"         \"by\"              \"arthur\"          \"conan\"          \n",
       " [13] \"doyle\"           \"\"                \"this\"            \"ebook\"          \n",
       " [17] \"is\"              \"for\"             \"the\"             \"use\"            \n",
       " [21] \"of\"              \"anyone\"          \"anywhere\"        \"at\"             \n",
       " [25] \"no\"              \"cost\"            \"and\"             \"with\"           \n",
       " [29] \"almost\"          \"no\"              \"restrictions\"    \"whatsoever\"     \n",
       " [33] \"\"                \"you\"             \"may\"             \"copy\"           \n",
       " [37] \"it\"              \"give\"            \"it\"              \"away\"           \n",
       " [41] \"or\"              \"reuse\"           \"it\"              \"under\"          \n",
       " [45] \"the\"             \"terms\"           \"of\"              \"the\"            \n",
       " [49] \"project\"         \"gutenberg\"       \"license\"         \"included\"       \n",
       " [53] \"with\"            \"this\"            \"ebook\"           \"or\"             \n",
       " [57] \"online\"          \"at\"              \"wwwgutenbergorg\" \"\"               \n",
       " [61] \"\"                \"title\"           \"a\"               \"study\"          \n",
       " [65] \"in\"              \"scarlet\"         \"\"                \"author\"         \n",
       " [69] \"arthur\"          \"conan\"           \"doyle\"           \"\"               \n",
       " [73] \"posting\"         \"date\"            \"july\"            \"12\"             \n",
       " [77] \"2008\"            \"ebook\"           \"244\"             \"release\"        \n",
       " [81] \"date\"            \"april\"           \"1995\"            \"last\"           \n",
       " [85] \"updated\"         \"september\"       \"30\"              \"2016\"           \n",
       " [89] \"\"                \"language\"        \"english\"         \"\"               \n",
       " [93] \"character\"       \"set\"             \"encoding\"        \"utf8\"           \n",
       " [97] \"\"                \"\"                \"start\"           \"of\"             \n",
       "[101] \"this\"            \"project\"         \"gutenberg\"       \"ebook\"          \n",
       "[105] \"a\"               \"study\"           \"in\"              \"scarlet\"        \n",
       "[109] \"\"                \"\"                \"\"                \"\"               \n",
       "[113] \"\"                \"produced\"        \"by\"              \"roger\"          \n",
       "[117] \"squires\"         \"\"                \"\"                \"\"               \n",
       "[121] \"\"                \"\"                \"a\"               \"study\"          \n",
       "[125] \"in\"              \"scarlet\"         \"\"                \"by\"             \n",
       "[129] \"a\"               \"conan\"           \"doyle\"           \"\"               \n",
       "[133] \"1\"               \"\"                \"\"                \"\"               \n",
       "[137] \"\"                \"\"                \"\"                \"\"               \n",
       "[141] \"\"                \"original\"        \"transcribers\"    \"note\"           \n",
       "[145] \"this\"            \"etext\"           \"is\"              \"prepared\"       \n",
       "[149] \"directly\"        \"\"                \"\"                \"\"               \n",
       "[153] \"\"                \"\"                \"from\"            \"an\"             \n",
       "[157] \"1887\"            \"edition\"         \"and\"             \"care\"           \n",
       "[161] \"has\"             \"been\"            \"taken\"           \"to\"             \n",
       "[165] \"duplicate\"       \"the\"             \"\"                \"\"               \n",
       "[169] \"\"                \"\"                \"\"                \"original\"       \n",
       "[173] \"exactly\"         \"including\"       \"typographical\"   \"and\"            \n",
       "[177] \"punctuation\"     \"\"                \"\"                \"\"               \n",
       "[181] \"\"                \"\"                \"vagaries\"        \"\"               \n",
       "[185] \"\"                \"\"                \"\"                \"\"               \n",
       "[189] \"\"                \"additions\"       \"to\"              \"the\"            \n",
       "[193] \"text\"            \"include\"         \"adding\"          \"the\"            \n",
       "[197] \"underscore\"      \"character\"       \"to\"              \"\"               \n",
       "[201] \"\"                \"\"                \"\"                \"\"               \n",
       "[205] \"indicate\"        \"italics\"         \"and\"             \"textual\"        \n",
       "[209] \"endnotes\"        \"in\"              \"square\"          \"braces\"         \n",
       "[213] \"\"                \"\"                \"\"                \"\"               \n",
       "[217] \"\"                \"\"                \"project\"        \n"
      ]
     },
     "metadata": {},
     "output_type": "display_data"
    }
   ],
   "source": [
    "strsplit(substr(cleaned_text,0,1000),split=\" \")"
   ]
  },
  {
   "cell_type": "markdown",
   "metadata": {},
   "source": [
    "The result contains some empty strings because in the text we have some words separated by two or more blanks. This is not a big issue for our purposes (the count of empty strings can be disregarded). But if we want to avoid this, we can just use the following:"
   ]
  },
  {
   "cell_type": "code",
   "execution_count": 9,
   "metadata": {},
   "outputs": [
    {
     "data": {
      "text/html": [
       "<ol>\n",
       "\t<li><ol class=list-inline>\n",
       "\t<li>'the'</li>\n",
       "\t<li>'project'</li>\n",
       "\t<li>'gutenberg'</li>\n",
       "\t<li>'ebook'</li>\n",
       "\t<li>'of'</li>\n",
       "\t<li>'a'</li>\n",
       "\t<li>'study'</li>\n",
       "\t<li>'in'</li>\n",
       "\t<li>'scarlet'</li>\n",
       "\t<li>'by'</li>\n",
       "\t<li>'arthur'</li>\n",
       "\t<li>'conan'</li>\n",
       "\t<li>'doyle'</li>\n",
       "\t<li>'this'</li>\n",
       "\t<li>'ebook'</li>\n",
       "\t<li>'is'</li>\n",
       "\t<li>'for'</li>\n",
       "\t<li>'the'</li>\n",
       "\t<li>'use'</li>\n",
       "\t<li>'of'</li>\n",
       "\t<li>'anyone'</li>\n",
       "\t<li>'anywhere'</li>\n",
       "\t<li>'at'</li>\n",
       "\t<li>'no'</li>\n",
       "\t<li>'cost'</li>\n",
       "\t<li>'and'</li>\n",
       "\t<li>'with'</li>\n",
       "\t<li>'almost'</li>\n",
       "\t<li>'no'</li>\n",
       "\t<li>'restrictions'</li>\n",
       "\t<li>'whatsoever'</li>\n",
       "\t<li>'you'</li>\n",
       "\t<li>'may'</li>\n",
       "\t<li>'copy'</li>\n",
       "\t<li>'it'</li>\n",
       "\t<li>'give'</li>\n",
       "\t<li>'it'</li>\n",
       "\t<li>'away'</li>\n",
       "\t<li>'or'</li>\n",
       "\t<li>'reuse'</li>\n",
       "\t<li>'it'</li>\n",
       "\t<li>'under'</li>\n",
       "\t<li>'the'</li>\n",
       "\t<li>'terms'</li>\n",
       "\t<li>'of'</li>\n",
       "\t<li>'the'</li>\n",
       "\t<li>'project'</li>\n",
       "\t<li>'gutenberg'</li>\n",
       "\t<li>'license'</li>\n",
       "\t<li>'included'</li>\n",
       "\t<li>'with'</li>\n",
       "\t<li>'this'</li>\n",
       "\t<li>'ebook'</li>\n",
       "\t<li>'or'</li>\n",
       "\t<li>'online'</li>\n",
       "\t<li>'at'</li>\n",
       "\t<li>'wwwgutenbergorg'</li>\n",
       "\t<li>'title'</li>\n",
       "\t<li>'a'</li>\n",
       "\t<li>'study'</li>\n",
       "\t<li>'in'</li>\n",
       "\t<li>'scarlet'</li>\n",
       "\t<li>'author'</li>\n",
       "\t<li>'arthur'</li>\n",
       "\t<li>'conan'</li>\n",
       "\t<li>'doyle'</li>\n",
       "\t<li>'posting'</li>\n",
       "\t<li>'date'</li>\n",
       "\t<li>'july'</li>\n",
       "\t<li>'12'</li>\n",
       "\t<li>'2008'</li>\n",
       "\t<li>'ebook'</li>\n",
       "\t<li>'244'</li>\n",
       "\t<li>'release'</li>\n",
       "\t<li>'date'</li>\n",
       "\t<li>'april'</li>\n",
       "\t<li>'1995'</li>\n",
       "\t<li>'last'</li>\n",
       "\t<li>'updated'</li>\n",
       "\t<li>'september'</li>\n",
       "\t<li>'30'</li>\n",
       "\t<li>'2016'</li>\n",
       "\t<li>'language'</li>\n",
       "\t<li>'english'</li>\n",
       "\t<li>'character'</li>\n",
       "\t<li>'set'</li>\n",
       "\t<li>'encoding'</li>\n",
       "\t<li>'utf8'</li>\n",
       "\t<li>'start'</li>\n",
       "\t<li>'of'</li>\n",
       "\t<li>'this'</li>\n",
       "\t<li>'project'</li>\n",
       "\t<li>'gutenberg'</li>\n",
       "\t<li>'ebook'</li>\n",
       "\t<li>'a'</li>\n",
       "\t<li>'study'</li>\n",
       "\t<li>'in'</li>\n",
       "\t<li>'scarlet'</li>\n",
       "\t<li>'produced'</li>\n",
       "\t<li>'by'</li>\n",
       "\t<li>'roger'</li>\n",
       "\t<li>'squires'</li>\n",
       "\t<li>'a'</li>\n",
       "\t<li>'study'</li>\n",
       "\t<li>'in'</li>\n",
       "\t<li>'scarlet'</li>\n",
       "\t<li>'by'</li>\n",
       "\t<li>'a'</li>\n",
       "\t<li>'conan'</li>\n",
       "\t<li>'doyle'</li>\n",
       "\t<li>'1'</li>\n",
       "\t<li>'original'</li>\n",
       "\t<li>'transcribers'</li>\n",
       "\t<li>'note'</li>\n",
       "\t<li>'this'</li>\n",
       "\t<li>'etext'</li>\n",
       "\t<li>'is'</li>\n",
       "\t<li>'prepared'</li>\n",
       "\t<li>'directly'</li>\n",
       "\t<li>'from'</li>\n",
       "\t<li>'an'</li>\n",
       "\t<li>'1887'</li>\n",
       "\t<li>'edition'</li>\n",
       "\t<li>'and'</li>\n",
       "\t<li>'care'</li>\n",
       "\t<li>'has'</li>\n",
       "\t<li>'been'</li>\n",
       "\t<li>'taken'</li>\n",
       "\t<li>'to'</li>\n",
       "\t<li>'duplicate'</li>\n",
       "\t<li>'the'</li>\n",
       "\t<li>'original'</li>\n",
       "\t<li>'exactly'</li>\n",
       "\t<li>'including'</li>\n",
       "\t<li>'typographical'</li>\n",
       "\t<li>'and'</li>\n",
       "\t<li>'punctuation'</li>\n",
       "\t<li>'vagaries'</li>\n",
       "\t<li>'additions'</li>\n",
       "\t<li>'to'</li>\n",
       "\t<li>'the'</li>\n",
       "\t<li>'text'</li>\n",
       "\t<li>'include'</li>\n",
       "\t<li>'adding'</li>\n",
       "\t<li>'the'</li>\n",
       "\t<li>'underscore'</li>\n",
       "\t<li>'character'</li>\n",
       "\t<li>'to'</li>\n",
       "\t<li>'indicate'</li>\n",
       "\t<li>'italics'</li>\n",
       "\t<li>'and'</li>\n",
       "\t<li>'textual'</li>\n",
       "\t<li>'endnotes'</li>\n",
       "\t<li>'in'</li>\n",
       "\t<li>'square'</li>\n",
       "\t<li>'braces'</li>\n",
       "\t<li>'project'</li>\n",
       "</ol>\n",
       "</li>\n",
       "</ol>\n"
      ],
      "text/latex": [
       "\\begin{enumerate}\n",
       "\\item \\begin{enumerate*}\n",
       "\\item 'the'\n",
       "\\item 'project'\n",
       "\\item 'gutenberg'\n",
       "\\item 'ebook'\n",
       "\\item 'of'\n",
       "\\item 'a'\n",
       "\\item 'study'\n",
       "\\item 'in'\n",
       "\\item 'scarlet'\n",
       "\\item 'by'\n",
       "\\item 'arthur'\n",
       "\\item 'conan'\n",
       "\\item 'doyle'\n",
       "\\item 'this'\n",
       "\\item 'ebook'\n",
       "\\item 'is'\n",
       "\\item 'for'\n",
       "\\item 'the'\n",
       "\\item 'use'\n",
       "\\item 'of'\n",
       "\\item 'anyone'\n",
       "\\item 'anywhere'\n",
       "\\item 'at'\n",
       "\\item 'no'\n",
       "\\item 'cost'\n",
       "\\item 'and'\n",
       "\\item 'with'\n",
       "\\item 'almost'\n",
       "\\item 'no'\n",
       "\\item 'restrictions'\n",
       "\\item 'whatsoever'\n",
       "\\item 'you'\n",
       "\\item 'may'\n",
       "\\item 'copy'\n",
       "\\item 'it'\n",
       "\\item 'give'\n",
       "\\item 'it'\n",
       "\\item 'away'\n",
       "\\item 'or'\n",
       "\\item 'reuse'\n",
       "\\item 'it'\n",
       "\\item 'under'\n",
       "\\item 'the'\n",
       "\\item 'terms'\n",
       "\\item 'of'\n",
       "\\item 'the'\n",
       "\\item 'project'\n",
       "\\item 'gutenberg'\n",
       "\\item 'license'\n",
       "\\item 'included'\n",
       "\\item 'with'\n",
       "\\item 'this'\n",
       "\\item 'ebook'\n",
       "\\item 'or'\n",
       "\\item 'online'\n",
       "\\item 'at'\n",
       "\\item 'wwwgutenbergorg'\n",
       "\\item 'title'\n",
       "\\item 'a'\n",
       "\\item 'study'\n",
       "\\item 'in'\n",
       "\\item 'scarlet'\n",
       "\\item 'author'\n",
       "\\item 'arthur'\n",
       "\\item 'conan'\n",
       "\\item 'doyle'\n",
       "\\item 'posting'\n",
       "\\item 'date'\n",
       "\\item 'july'\n",
       "\\item '12'\n",
       "\\item '2008'\n",
       "\\item 'ebook'\n",
       "\\item '244'\n",
       "\\item 'release'\n",
       "\\item 'date'\n",
       "\\item 'april'\n",
       "\\item '1995'\n",
       "\\item 'last'\n",
       "\\item 'updated'\n",
       "\\item 'september'\n",
       "\\item '30'\n",
       "\\item '2016'\n",
       "\\item 'language'\n",
       "\\item 'english'\n",
       "\\item 'character'\n",
       "\\item 'set'\n",
       "\\item 'encoding'\n",
       "\\item 'utf8'\n",
       "\\item 'start'\n",
       "\\item 'of'\n",
       "\\item 'this'\n",
       "\\item 'project'\n",
       "\\item 'gutenberg'\n",
       "\\item 'ebook'\n",
       "\\item 'a'\n",
       "\\item 'study'\n",
       "\\item 'in'\n",
       "\\item 'scarlet'\n",
       "\\item 'produced'\n",
       "\\item 'by'\n",
       "\\item 'roger'\n",
       "\\item 'squires'\n",
       "\\item 'a'\n",
       "\\item 'study'\n",
       "\\item 'in'\n",
       "\\item 'scarlet'\n",
       "\\item 'by'\n",
       "\\item 'a'\n",
       "\\item 'conan'\n",
       "\\item 'doyle'\n",
       "\\item '1'\n",
       "\\item 'original'\n",
       "\\item 'transcribers'\n",
       "\\item 'note'\n",
       "\\item 'this'\n",
       "\\item 'etext'\n",
       "\\item 'is'\n",
       "\\item 'prepared'\n",
       "\\item 'directly'\n",
       "\\item 'from'\n",
       "\\item 'an'\n",
       "\\item '1887'\n",
       "\\item 'edition'\n",
       "\\item 'and'\n",
       "\\item 'care'\n",
       "\\item 'has'\n",
       "\\item 'been'\n",
       "\\item 'taken'\n",
       "\\item 'to'\n",
       "\\item 'duplicate'\n",
       "\\item 'the'\n",
       "\\item 'original'\n",
       "\\item 'exactly'\n",
       "\\item 'including'\n",
       "\\item 'typographical'\n",
       "\\item 'and'\n",
       "\\item 'punctuation'\n",
       "\\item 'vagaries'\n",
       "\\item 'additions'\n",
       "\\item 'to'\n",
       "\\item 'the'\n",
       "\\item 'text'\n",
       "\\item 'include'\n",
       "\\item 'adding'\n",
       "\\item 'the'\n",
       "\\item 'underscore'\n",
       "\\item 'character'\n",
       "\\item 'to'\n",
       "\\item 'indicate'\n",
       "\\item 'italics'\n",
       "\\item 'and'\n",
       "\\item 'textual'\n",
       "\\item 'endnotes'\n",
       "\\item 'in'\n",
       "\\item 'square'\n",
       "\\item 'braces'\n",
       "\\item 'project'\n",
       "\\end{enumerate*}\n",
       "\n",
       "\\end{enumerate}\n"
      ],
      "text/markdown": [
       "1. 1. 'the'\n",
       "2. 'project'\n",
       "3. 'gutenberg'\n",
       "4. 'ebook'\n",
       "5. 'of'\n",
       "6. 'a'\n",
       "7. 'study'\n",
       "8. 'in'\n",
       "9. 'scarlet'\n",
       "10. 'by'\n",
       "11. 'arthur'\n",
       "12. 'conan'\n",
       "13. 'doyle'\n",
       "14. 'this'\n",
       "15. 'ebook'\n",
       "16. 'is'\n",
       "17. 'for'\n",
       "18. 'the'\n",
       "19. 'use'\n",
       "20. 'of'\n",
       "21. 'anyone'\n",
       "22. 'anywhere'\n",
       "23. 'at'\n",
       "24. 'no'\n",
       "25. 'cost'\n",
       "26. 'and'\n",
       "27. 'with'\n",
       "28. 'almost'\n",
       "29. 'no'\n",
       "30. 'restrictions'\n",
       "31. 'whatsoever'\n",
       "32. 'you'\n",
       "33. 'may'\n",
       "34. 'copy'\n",
       "35. 'it'\n",
       "36. 'give'\n",
       "37. 'it'\n",
       "38. 'away'\n",
       "39. 'or'\n",
       "40. 'reuse'\n",
       "41. 'it'\n",
       "42. 'under'\n",
       "43. 'the'\n",
       "44. 'terms'\n",
       "45. 'of'\n",
       "46. 'the'\n",
       "47. 'project'\n",
       "48. 'gutenberg'\n",
       "49. 'license'\n",
       "50. 'included'\n",
       "51. 'with'\n",
       "52. 'this'\n",
       "53. 'ebook'\n",
       "54. 'or'\n",
       "55. 'online'\n",
       "56. 'at'\n",
       "57. 'wwwgutenbergorg'\n",
       "58. 'title'\n",
       "59. 'a'\n",
       "60. 'study'\n",
       "61. 'in'\n",
       "62. 'scarlet'\n",
       "63. 'author'\n",
       "64. 'arthur'\n",
       "65. 'conan'\n",
       "66. 'doyle'\n",
       "67. 'posting'\n",
       "68. 'date'\n",
       "69. 'july'\n",
       "70. '12'\n",
       "71. '2008'\n",
       "72. 'ebook'\n",
       "73. '244'\n",
       "74. 'release'\n",
       "75. 'date'\n",
       "76. 'april'\n",
       "77. '1995'\n",
       "78. 'last'\n",
       "79. 'updated'\n",
       "80. 'september'\n",
       "81. '30'\n",
       "82. '2016'\n",
       "83. 'language'\n",
       "84. 'english'\n",
       "85. 'character'\n",
       "86. 'set'\n",
       "87. 'encoding'\n",
       "88. 'utf8'\n",
       "89. 'start'\n",
       "90. 'of'\n",
       "91. 'this'\n",
       "92. 'project'\n",
       "93. 'gutenberg'\n",
       "94. 'ebook'\n",
       "95. 'a'\n",
       "96. 'study'\n",
       "97. 'in'\n",
       "98. 'scarlet'\n",
       "99. 'produced'\n",
       "100. 'by'\n",
       "101. 'roger'\n",
       "102. 'squires'\n",
       "103. 'a'\n",
       "104. 'study'\n",
       "105. 'in'\n",
       "106. 'scarlet'\n",
       "107. 'by'\n",
       "108. 'a'\n",
       "109. 'conan'\n",
       "110. 'doyle'\n",
       "111. '1'\n",
       "112. 'original'\n",
       "113. 'transcribers'\n",
       "114. 'note'\n",
       "115. 'this'\n",
       "116. 'etext'\n",
       "117. 'is'\n",
       "118. 'prepared'\n",
       "119. 'directly'\n",
       "120. 'from'\n",
       "121. 'an'\n",
       "122. '1887'\n",
       "123. 'edition'\n",
       "124. 'and'\n",
       "125. 'care'\n",
       "126. 'has'\n",
       "127. 'been'\n",
       "128. 'taken'\n",
       "129. 'to'\n",
       "130. 'duplicate'\n",
       "131. 'the'\n",
       "132. 'original'\n",
       "133. 'exactly'\n",
       "134. 'including'\n",
       "135. 'typographical'\n",
       "136. 'and'\n",
       "137. 'punctuation'\n",
       "138. 'vagaries'\n",
       "139. 'additions'\n",
       "140. 'to'\n",
       "141. 'the'\n",
       "142. 'text'\n",
       "143. 'include'\n",
       "144. 'adding'\n",
       "145. 'the'\n",
       "146. 'underscore'\n",
       "147. 'character'\n",
       "148. 'to'\n",
       "149. 'indicate'\n",
       "150. 'italics'\n",
       "151. 'and'\n",
       "152. 'textual'\n",
       "153. 'endnotes'\n",
       "154. 'in'\n",
       "155. 'square'\n",
       "156. 'braces'\n",
       "157. 'project'\n",
       "\n",
       "\n",
       "\n",
       "\n",
       "\n"
      ],
      "text/plain": [
       "[[1]]\n",
       "  [1] \"the\"             \"project\"         \"gutenberg\"       \"ebook\"          \n",
       "  [5] \"of\"              \"a\"               \"study\"           \"in\"             \n",
       "  [9] \"scarlet\"         \"by\"              \"arthur\"          \"conan\"          \n",
       " [13] \"doyle\"           \"this\"            \"ebook\"           \"is\"             \n",
       " [17] \"for\"             \"the\"             \"use\"             \"of\"             \n",
       " [21] \"anyone\"          \"anywhere\"        \"at\"              \"no\"             \n",
       " [25] \"cost\"            \"and\"             \"with\"            \"almost\"         \n",
       " [29] \"no\"              \"restrictions\"    \"whatsoever\"      \"you\"            \n",
       " [33] \"may\"             \"copy\"            \"it\"              \"give\"           \n",
       " [37] \"it\"              \"away\"            \"or\"              \"reuse\"          \n",
       " [41] \"it\"              \"under\"           \"the\"             \"terms\"          \n",
       " [45] \"of\"              \"the\"             \"project\"         \"gutenberg\"      \n",
       " [49] \"license\"         \"included\"        \"with\"            \"this\"           \n",
       " [53] \"ebook\"           \"or\"              \"online\"          \"at\"             \n",
       " [57] \"wwwgutenbergorg\" \"title\"           \"a\"               \"study\"          \n",
       " [61] \"in\"              \"scarlet\"         \"author\"          \"arthur\"         \n",
       " [65] \"conan\"           \"doyle\"           \"posting\"         \"date\"           \n",
       " [69] \"july\"            \"12\"              \"2008\"            \"ebook\"          \n",
       " [73] \"244\"             \"release\"         \"date\"            \"april\"          \n",
       " [77] \"1995\"            \"last\"            \"updated\"         \"september\"      \n",
       " [81] \"30\"              \"2016\"            \"language\"        \"english\"        \n",
       " [85] \"character\"       \"set\"             \"encoding\"        \"utf8\"           \n",
       " [89] \"start\"           \"of\"              \"this\"            \"project\"        \n",
       " [93] \"gutenberg\"       \"ebook\"           \"a\"               \"study\"          \n",
       " [97] \"in\"              \"scarlet\"         \"produced\"        \"by\"             \n",
       "[101] \"roger\"           \"squires\"         \"a\"               \"study\"          \n",
       "[105] \"in\"              \"scarlet\"         \"by\"              \"a\"              \n",
       "[109] \"conan\"           \"doyle\"           \"1\"               \"original\"       \n",
       "[113] \"transcribers\"    \"note\"            \"this\"            \"etext\"          \n",
       "[117] \"is\"              \"prepared\"        \"directly\"        \"from\"           \n",
       "[121] \"an\"              \"1887\"            \"edition\"         \"and\"            \n",
       "[125] \"care\"            \"has\"             \"been\"            \"taken\"          \n",
       "[129] \"to\"              \"duplicate\"       \"the\"             \"original\"       \n",
       "[133] \"exactly\"         \"including\"       \"typographical\"   \"and\"            \n",
       "[137] \"punctuation\"     \"vagaries\"        \"additions\"       \"to\"             \n",
       "[141] \"the\"             \"text\"            \"include\"         \"adding\"         \n",
       "[145] \"the\"             \"underscore\"      \"character\"       \"to\"             \n",
       "[149] \"indicate\"        \"italics\"         \"and\"             \"textual\"        \n",
       "[153] \"endnotes\"        \"in\"              \"square\"          \"braces\"         \n",
       "[157] \"project\"        \n"
      ]
     },
     "metadata": {},
     "output_type": "display_data"
    }
   ],
   "source": [
    "strsplit(substr(cleaned_text,0,1000),split=\" +\")"
   ]
  },
  {
   "cell_type": "markdown",
   "metadata": {},
   "source": [
    "Now we don't have the empty strings. The plus sign means \"one or more of the preceding character\" in the _regular expressions_ language.\n",
    "\n",
    "`strsplit()` returns a list (of length one, in this case), so we take the first element of the list."
   ]
  },
  {
   "cell_type": "code",
   "execution_count": 10,
   "metadata": {},
   "outputs": [],
   "source": [
    "word_vec <- strsplit(cleaned_text, split=\" +\")[[1]]"
   ]
  },
  {
   "cell_type": "code",
   "execution_count": 11,
   "metadata": {},
   "outputs": [],
   "source": [
    "options(jupyter.rich_display = FALSE)"
   ]
  },
  {
   "cell_type": "code",
   "execution_count": 12,
   "metadata": {},
   "outputs": [
    {
     "data": {
      "text/plain": [
       " [1] \"the\"       \"project\"   \"gutenberg\" \"ebook\"     \"of\"        \"a\"        \n",
       " [7] \"study\"     \"in\"        \"scarlet\"   \"by\"       "
      ]
     },
     "metadata": {},
     "output_type": "display_data"
    }
   ],
   "source": [
    "word_vec[1:10]"
   ]
  },
  {
   "cell_type": "markdown",
   "metadata": {},
   "source": [
    "Now we count the occurrence of each word. We have already done this in Lecture 7, so we just copy the code."
   ]
  },
  {
   "cell_type": "code",
   "execution_count": 13,
   "metadata": {},
   "outputs": [],
   "source": [
    "wordcounts <- list()\n",
    "for (word in word_vec){\n",
    "    if (is.null(wordcounts[[word]])){\n",
    "        wordcounts[[word]] <- 1\n",
    "    } else {\n",
    "        wordcounts[[word]] <- wordcounts[[word]] + 1\n",
    "    }\n",
    "}\n"
   ]
  },
  {
   "cell_type": "code",
   "execution_count": 14,
   "metadata": {},
   "outputs": [
    {
     "data": {
      "text/plain": [
       "$the\n",
       "[1] 2742\n",
       "\n",
       "$project\n",
       "[1] 88\n",
       "\n",
       "$gutenberg\n",
       "[1] 30\n",
       "\n",
       "$ebook\n",
       "[1] 10\n",
       "\n",
       "$of\n",
       "[1] 1334\n",
       "\n",
       "$a\n",
       "[1] 1061\n",
       "\n",
       "$study\n",
       "[1] 17\n",
       "\n",
       "$`in`\n",
       "[1] 805\n",
       "\n",
       "$scarlet\n",
       "[1] 10\n",
       "\n",
       "$by\n",
       "[1] 181\n"
      ]
     },
     "metadata": {},
     "output_type": "display_data"
    }
   ],
   "source": [
    "wordcounts[1:10]"
   ]
  },
  {
   "cell_type": "markdown",
   "metadata": {},
   "source": [
    "Let's get the words in order, most frequent ones first."
   ]
  },
  {
   "cell_type": "code",
   "execution_count": 15,
   "metadata": {},
   "outputs": [
    {
     "data": {
      "text/plain": [
       "$the\n",
       "[1] 2742\n",
       "\n",
       "$and\n",
       "[1] 1429\n",
       "\n",
       "$of\n",
       "[1] 1334\n",
       "\n",
       "$to\n",
       "[1] 1172\n",
       "\n",
       "$a\n",
       "[1] 1061\n",
       "\n",
       "$i\n",
       "[1] 898\n",
       "\n",
       "$`in`\n",
       "[1] 805\n",
       "\n",
       "$he\n",
       "[1] 800\n",
       "\n",
       "$that\n",
       "[1] 667\n",
       "\n",
       "$his\n",
       "[1] 654\n",
       "\n",
       "$was\n",
       "[1] 651\n",
       "\n",
       "$it\n",
       "[1] 596\n",
       "\n",
       "$you\n",
       "[1] 515\n",
       "\n",
       "$had\n",
       "[1] 476\n",
       "\n",
       "$with\n",
       "[1] 391\n",
       "\n",
       "$as\n",
       "[1] 348\n",
       "\n",
       "$`for`\n",
       "[1] 338\n",
       "\n",
       "$at\n",
       "[1] 337\n",
       "\n",
       "$is\n",
       "[1] 332\n",
       "\n",
       "$which\n",
       "[1] 323\n"
      ]
     },
     "metadata": {},
     "output_type": "display_data"
    }
   ],
   "source": [
    "dec_order <- order(unlist(wordcounts),decreasing = T)\n",
    "top20 <- wordcounts[dec_order][1:20] # 20 most frequent words\n",
    "top20"
   ]
  },
  {
   "cell_type": "markdown",
   "metadata": {},
   "source": [
    "Visualization\n",
    "----\n",
    "Let's plot the occurrences of the most frequent 20 words in a bar plot."
   ]
  },
  {
   "cell_type": "code",
   "execution_count": 16,
   "metadata": {},
   "outputs": [
    {
     "data": {
      "text/plain": [
       "  the   and    of    to     a     i    in    he  that   his   was    it   you \n",
       " 2742  1429  1334  1172  1061   898   805   800   667   654   651   596   515 \n",
       "  had  with    as   for    at    is which \n",
       "  476   391   348   338   337   332   323 "
      ]
     },
     "metadata": {},
     "output_type": "display_data"
    }
   ],
   "source": [
    "unlist(top20)"
   ]
  },
  {
   "cell_type": "code",
   "execution_count": 17,
   "metadata": {},
   "outputs": [],
   "source": [
    "options(repr.plot.width=10, repr.plot.height=4)"
   ]
  },
  {
   "cell_type": "code",
   "execution_count": 18,
   "metadata": {},
   "outputs": [
    {
     "data": {
      "image/png": "[encoded data removed]",
      "text/plain": [
       "plot without title"
      ]
     },
     "metadata": {},
     "output_type": "display_data"
    }
   ],
   "source": [
    "barplot(unlist(top20))"
   ]
  },
  {
   "cell_type": "markdown",
   "metadata": {},
   "source": [
    "Random numbers and simulations\n",
    "==="
   ]
  },
  {
   "cell_type": "markdown",
   "metadata": {},
   "source": [
    "Uniformly distributed random numbers are generated with `runif(n, min, max)`. Default parameters are n=1, min=0, max=1."
   ]
  },
  {
   "cell_type": "code",
   "execution_count": 19,
   "metadata": {},
   "outputs": [
    {
     "data": {
      "text/plain": [
       " [1]  0.90600872 -0.90080588  0.09875194 -0.87774382  0.50557069  0.88650196\n",
       " [7]  0.70922089  0.61441052 -0.31275730 -0.40665168 -0.50406409  0.12464491\n",
       "[13]  0.31516810  0.41159052 -0.99136359 -0.73102392  0.52411795 -0.78736732\n",
       "[19] -0.54704478  0.08695084"
      ]
     },
     "metadata": {},
     "output_type": "display_data"
    }
   ],
   "source": [
    "runif(20,-1,1) # 20 random numbers uniformly distributed between -1 and 1."
   ]
  },
  {
   "cell_type": "markdown",
   "metadata": {},
   "source": [
    "Another common distribution is the _Normal_ or _Gaussian_ distribution (a.k.a. the _bell curve_). Normally distributed random numbers are generated with the `rnorm(n,mean,sd)` function. Default parameter values are n=1, mean=0, sd=1."
   ]
  },
  {
   "cell_type": "code",
   "execution_count": 20,
   "metadata": {},
   "outputs": [
    {
     "data": {
      "text/plain": [
       " [1]  0.066559728 -0.932922292 -0.444911281 -0.298159621  0.347267390\n",
       " [6] -0.006272712 -0.604887574 -1.482248267 -0.489176525  1.259109422\n",
       "[11] -0.258156943 -0.320558141 -1.021534337 -1.796997112 -0.599952910\n",
       "[16] -0.105592352  0.397594423  1.164741129 -1.086422046  1.137768507"
      ]
     },
     "metadata": {},
     "output_type": "display_data"
    }
   ],
   "source": [
    "rnorm(20)"
   ]
  },
  {
   "cell_type": "code",
   "execution_count": 21,
   "metadata": {},
   "outputs": [
    {
     "data": {
      "image/png": "[encoded data removed]",
      "text/plain": [
       "Plot with title “Uniformly distributed numbers”"
      ]
     },
     "metadata": {},
     "output_type": "display_data"
    },
    {
     "data": {
      "image/png": "[encoded data removed]",
      "text/plain": [
       "Plot with title “Normally distributed numbers”"
      ]
     },
     "metadata": {},
     "output_type": "display_data"
    }
   ],
   "source": [
    "options(repr.plot.width=8, repr.plot.height=3)\n",
    "plot(runif(1000,-1,1))\n",
    "title(\"Uniformly distributed numbers\")\n",
    "plot(rnorm(1000))\n",
    "title(\"Normally distributed numbers\")"
   ]
  },
  {
   "cell_type": "markdown",
   "metadata": {},
   "source": [
    "Plot the histograms of the random samples."
   ]
  },
  {
   "cell_type": "code",
   "execution_count": 22,
   "metadata": {},
   "outputs": [
    {
     "data": {
      "image/png": "[encoded data removed]",
      "text/plain": [
       "Plot with title “Uniformly distributed numbers”"
      ]
     },
     "metadata": {},
     "output_type": "display_data"
    },
    {
     "data": {
      "image/png": "[encoded data removed]",
      "text/plain": [
       "Plot with title “Normally distributed numbers”"
      ]
     },
     "metadata": {},
     "output_type": "display_data"
    }
   ],
   "source": [
    "options(repr.plot.width=8, repr.plot.height=3)\n",
    "hist(runif(1000,-1,1), breaks=25, main=\"Uniformly distributed numbers\")\n",
    "hist(rnorm(1000), breaks=25,main=\"Normally distributed numbers\")"
   ]
  },
  {
   "cell_type": "markdown",
   "metadata": {},
   "source": [
    "Note that the distributions do not look perfect. The reason is that our random sample is finite. As we draw more and more samples, the histogram will approach the theoretical distribution."
   ]
  },
  {
   "cell_type": "code",
   "execution_count": 23,
   "metadata": {},
   "outputs": [
    {
     "data": {
      "image/png": "[encoded data removed]",
      "text/plain": [
       "Plot with title “Uniformly distributed numbers”"
      ]
     },
     "metadata": {},
     "output_type": "display_data"
    },
    {
     "data": {
      "image/png": "[encoded data removed]",
      "text/plain": [
       "Plot with title “Normally distributed numbers”"
      ]
     },
     "metadata": {},
     "output_type": "display_data"
    }
   ],
   "source": [
    "options(repr.plot.width=8, repr.plot.height=3)\n",
    "hist(runif(100000,-1,1), breaks=25, main=\"Uniformly distributed numbers\")\n",
    "hist(rnorm(100000), breaks=25,main=\"Normally distributed numbers\")"
   ]
  },
  {
   "cell_type": "markdown",
   "metadata": {},
   "source": [
    "Getting the same random sequence\n",
    "---\n",
    "In some cases we want to get the same random sequence in every simulation, so that we can identify and correct errors. For that, we can set the _seed_ of the random number generator to a fixed number."
   ]
  },
  {
   "cell_type": "code",
   "execution_count": 24,
   "metadata": {},
   "outputs": [
    {
     "data": {
      "text/plain": [
       " [1] -0.42484496  0.57661027 -0.18204616  0.76603481  0.88093457 -0.90888700\n",
       " [7]  0.05621098  0.78483809  0.10287003 -0.08677053"
      ]
     },
     "metadata": {},
     "output_type": "display_data"
    },
    {
     "data": {
      "text/plain": [
       " [1] -0.42484496  0.57661027 -0.18204616  0.76603481  0.88093457 -0.90888700\n",
       " [7]  0.05621098  0.78483809  0.10287003 -0.08677053"
      ]
     },
     "metadata": {},
     "output_type": "display_data"
    }
   ],
   "source": [
    "set.seed(123)\n",
    "runif(10,-1,1)\n",
    "set.seed(123)\n",
    "runif(10,-1,1)"
   ]
  },
  {
   "cell_type": "markdown",
   "metadata": {},
   "source": [
    "Coin toss experiment\n",
    "---"
   ]
  },
  {
   "cell_type": "code",
   "execution_count": 25,
   "metadata": {},
   "outputs": [
    {
     "data": {
      "text/plain": [
       " [1] \"T\" \"H\" \"T\" \"T\" \"H\" \"T\" \"H\" \"H\" \"H\" \"T\""
      ]
     },
     "metadata": {},
     "output_type": "display_data"
    }
   ],
   "source": [
    "sample(c(\"H\",\"T\"),10,replace = TRUE)"
   ]
  },
  {
   "cell_type": "markdown",
   "metadata": {},
   "source": [
    "We throw a coin 10 times. How many heads to we get on average?"
   ]
  },
  {
   "cell_type": "markdown",
   "metadata": {},
   "source": [
    "The number of heads in one experiment (10 throws):"
   ]
  },
  {
   "cell_type": "code",
   "execution_count": 26,
   "metadata": {},
   "outputs": [
    {
     "data": {
      "text/plain": [
       "[1] 2"
      ]
     },
     "metadata": {},
     "output_type": "display_data"
    }
   ],
   "source": [
    "sum(sample(c(\"H\",\"T\"),10,replace = TRUE)==\"H\")"
   ]
  },
  {
   "cell_type": "markdown",
   "metadata": {},
   "source": [
    "This number changes every time due to the randomness:"
   ]
  },
  {
   "cell_type": "code",
   "execution_count": 27,
   "metadata": {},
   "outputs": [
    {
     "data": {
      "text/plain": [
       "[1] 5"
      ]
     },
     "metadata": {},
     "output_type": "display_data"
    }
   ],
   "source": [
    "sum(sample(c(\"H\",\"T\"),10,replace = TRUE)==\"H\")"
   ]
  },
  {
   "cell_type": "markdown",
   "metadata": {},
   "source": [
    "We repeat the experiment many times and get the average:"
   ]
  },
  {
   "cell_type": "code",
   "execution_count": 28,
   "metadata": {},
   "outputs": [
    {
     "data": {
      "text/plain": [
       "[1] 5.0263"
      ]
     },
     "metadata": {},
     "output_type": "display_data"
    }
   ],
   "source": [
    "nexperiments <- 10000\n",
    "total <- 0\n",
    "for (i in 1:nexperiments){\n",
    "    total <- total + sum(sample(c(\"H\",\"T\"),10,replace = TRUE)==\"H\")\n",
    "}\n",
    "total/nexperiments"
   ]
  },
  {
   "cell_type": "markdown",
   "metadata": {},
   "source": [
    "We throw a coin 10 times. What is the probability that we get exactly 7 heads?\n",
    "Again, we make many experiments (10 coin tosses), and when we get 7 heads, we register this as \"success\". Then we return the ratio of successes to trials."
   ]
  },
  {
   "cell_type": "code",
   "execution_count": 29,
   "metadata": {},
   "outputs": [
    {
     "data": {
      "text/plain": [
       "[1] 0.1171875"
      ]
     },
     "metadata": {},
     "output_type": "display_data"
    }
   ],
   "source": [
    "120/1024"
   ]
  },
  {
   "cell_type": "code",
   "execution_count": 30,
   "metadata": {},
   "outputs": [
    {
     "data": {
      "text/plain": [
       "[1] 0.1133"
      ]
     },
     "metadata": {},
     "output_type": "display_data"
    }
   ],
   "source": [
    "nexperiments <- 10000\n",
    "successes <- 0\n",
    "for (i in 1:nexperiments){\n",
    "    heads <- sum(sample(c(\"H\",\"T\"),10,replace = TRUE)==\"H\")\n",
    "    if(heads==7) successes <- successes + 1\n",
    "}\n",
    "successes/nexperiments"
   ]
  },
  {
   "cell_type": "markdown",
   "metadata": {},
   "source": [
    "The correct answer is 120/1024 = 0.1172, which is close."
   ]
  },
  {
   "cell_type": "markdown",
   "metadata": {},
   "source": [
    "Throwing dice\n",
    "---"
   ]
  },
  {
   "cell_type": "code",
   "execution_count": 31,
   "metadata": {},
   "outputs": [
    {
     "data": {
      "text/plain": [
       " [1] 5 3 6 4 2 5 4 4 2 5"
      ]
     },
     "metadata": {},
     "output_type": "display_data"
    },
    {
     "data": {
      "text/plain": [
       " [1] 1 6 5 3 1 3 5 5 2 2"
      ]
     },
     "metadata": {},
     "output_type": "display_data"
    }
   ],
   "source": [
    "d1 <- sample(1:6, 10, replace=TRUE)\n",
    "d2 <- sample(1:6, 10, replace=TRUE)\n",
    "d1\n",
    "d2"
   ]
  },
  {
   "cell_type": "markdown",
   "metadata": {},
   "source": [
    "If we throw two dice, what is the probability of getting a total of 2?"
   ]
  },
  {
   "cell_type": "code",
   "execution_count": 32,
   "metadata": {},
   "outputs": [
    {
     "data": {
      "text/plain": [
       "[1] 0.0286"
      ]
     },
     "metadata": {},
     "output_type": "display_data"
    }
   ],
   "source": [
    "nexperiments <- 10000\n",
    "successes <- 0\n",
    "for (i in 1:nexperiments){\n",
    "    d1 <- sample(1:6,1)\n",
    "    d2 <- sample(1:6,1)\n",
    "    if (d1 + d2 == 2){\n",
    "        successes <- successes + 1\n",
    "    }\n",
    "}\n",
    "successes/nexperiments"
   ]
  },
  {
   "cell_type": "markdown",
   "metadata": {},
   "source": [
    "Estimating pi\n",
    "---"
   ]
  },
  {
   "cell_type": "markdown",
   "metadata": {},
   "source": [
    "Suppose we generate random numbers pairs $(x,y)$ within the square $-1\\leq x\\leq 1$ and $-1\\leq y\\leq 1$. Some of them fall inside the inscribed circle $x^2 + y^2 \\leq 1$. The area of the circle is $\\pi$ and the area of the square is 4, so the ratio of the points that fall inside the circle to all points inside the square gives an estimate of $\\pi/4$."
   ]
  },
  {
   "cell_type": "code",
   "execution_count": 33,
   "metadata": {},
   "outputs": [],
   "source": [
    "x <- runif(100,-1,1)\n",
    "y <- runif(100,-1,1)"
   ]
  },
  {
   "cell_type": "code",
   "execution_count": 34,
   "metadata": {},
   "outputs": [
    {
     "data": {
      "image/png": "[encoded data removed]",
      "text/plain": [
       "plot without title"
      ]
     },
     "metadata": {},
     "output_type": "display_data"
    }
   ],
   "source": [
    "options(repr.plot.width=4, repr.plot.height=4)\n",
    "plot(x,y)\n",
    "t <- seq(0,2*pi,length.out=100)\n",
    "xx <- cos(t)\n",
    "yy <- sin(t)\n",
    "lines(xx,yy,lwd = 3,col=\"red\")"
   ]
  },
  {
   "cell_type": "markdown",
   "metadata": {},
   "source": [
    "Let's estimate pi with this run:"
   ]
  },
  {
   "cell_type": "code",
   "execution_count": 35,
   "metadata": {},
   "outputs": [
    {
     "data": {
      "text/plain": [
       "[1] 3.2"
      ]
     },
     "metadata": {},
     "output_type": "display_data"
    }
   ],
   "source": [
    "4*sum(x^2 + y^2 < 1)/length(x)"
   ]
  },
  {
   "cell_type": "markdown",
   "metadata": {},
   "source": [
    "With a new set of random hits, the estimate will differ:"
   ]
  },
  {
   "cell_type": "code",
   "execution_count": 36,
   "metadata": {},
   "outputs": [
    {
     "data": {
      "text/plain": [
       "[1] 3.04"
      ]
     },
     "metadata": {},
     "output_type": "display_data"
    }
   ],
   "source": [
    "x <- runif(100,-1,1)\n",
    "y <- runif(100,-1,1)\n",
    "4*sum(x^2 + y^2 < 1)/length(x)"
   ]
  },
  {
   "cell_type": "markdown",
   "metadata": {},
   "source": [
    "we can repeat this experiment many times, and see the distribution of estimates."
   ]
  },
  {
   "cell_type": "code",
   "execution_count": 37,
   "metadata": {},
   "outputs": [],
   "source": [
    "pi_est <- c()\n",
    "for (i in 1:100){\n",
    "    x <- runif(100,-1,1)\n",
    "    y <- runif(100,-1,1)\n",
    "    pi_est <- c(pi_est, 4*sum(x^2 + y^2 < 1)/length(x))\n",
    "}"
   ]
  },
  {
   "cell_type": "code",
   "execution_count": 38,
   "metadata": {},
   "outputs": [
    {
     "data": {
      "text/plain": [
       "  [1] 3.40 3.28 3.40 3.44 3.32 3.20 3.12 3.08 3.36 3.28 3.04 3.24 3.16 2.96 3.12\n",
       " [16] 3.48 3.04 3.28 3.04 3.36 3.20 3.20 3.16 3.08 3.04 3.00 3.20 3.20 3.00 3.32\n",
       " [31] 3.20 3.32 3.20 3.04 3.12 3.24 3.48 3.24 2.84 3.24 3.24 3.44 3.36 3.08 3.56\n",
       " [46] 3.04 3.04 3.12 3.16 3.00 2.92 3.12 3.08 3.20 3.20 2.80 3.28 3.08 3.24 2.96\n",
       " [61] 3.04 3.16 3.04 3.16 3.12 3.32 3.12 3.08 2.88 3.08 3.00 3.28 3.32 3.16 3.36\n",
       " [76] 3.40 3.28 2.68 3.20 2.92 2.88 3.20 3.28 3.12 3.16 3.36 3.04 3.04 3.16 3.20\n",
       " [91] 2.96 3.12 3.20 3.12 3.16 3.32 3.00 3.04 3.12 3.12"
      ]
     },
     "metadata": {},
     "output_type": "display_data"
    }
   ],
   "source": [
    "pi_est"
   ]
  },
  {
   "cell_type": "code",
   "execution_count": 39,
   "metadata": {},
   "outputs": [
    {
     "data": {
      "image/png": "[encoded data removed]",
      "text/plain": [
       "Plot with title “Histogram of pi_est”"
      ]
     },
     "metadata": {},
     "output_type": "display_data"
    }
   ],
   "source": [
    "hist(pi_est,breaks=20)"
   ]
  },
  {
   "cell_type": "code",
   "execution_count": 40,
   "metadata": {},
   "outputs": [
    {
     "data": {
      "text/plain": [
       "[1] 3.1604"
      ]
     },
     "metadata": {},
     "output_type": "display_data"
    },
    {
     "data": {
      "text/plain": [
       "[1] 3.16"
      ]
     },
     "metadata": {},
     "output_type": "display_data"
    },
    {
     "data": {
      "text/plain": [
       "[1] 0.1565791"
      ]
     },
     "metadata": {},
     "output_type": "display_data"
    }
   ],
   "source": [
    "mean(pi_est)\n",
    "median(pi_est)\n",
    "sd(pi_est)"
   ]
  },
  {
   "cell_type": "code",
   "execution_count": 41,
   "metadata": {},
   "outputs": [],
   "source": [
    "pi_est <- c()\n",
    "for (i in 1:10000){\n",
    "    x <- runif(100,-1,1)\n",
    "    y <- runif(100,-1,1)\n",
    "    pi_est <- c(pi_est, 4*sum(x^2 + y^2 < 1)/length(x))\n",
    "}"
   ]
  },
  {
   "cell_type": "code",
   "execution_count": 42,
   "metadata": {},
   "outputs": [
    {
     "data": {
      "image/png": "[encoded data removed]",
      "text/plain": [
       "Plot with title “Histogram of pi_est”"
      ]
     },
     "metadata": {},
     "output_type": "display_data"
    }
   ],
   "source": [
    "hist(pi_est,breaks=20)"
   ]
  },
  {
   "cell_type": "code",
   "execution_count": 43,
   "metadata": {},
   "outputs": [
    {
     "data": {
      "text/plain": [
       "[1] 3.142312"
      ]
     },
     "metadata": {},
     "output_type": "display_data"
    },
    {
     "data": {
      "text/plain": [
       "[1] 3.16"
      ]
     },
     "metadata": {},
     "output_type": "display_data"
    },
    {
     "data": {
      "text/plain": [
       "[1] 0.162916"
      ]
     },
     "metadata": {},
     "output_type": "display_data"
    }
   ],
   "source": [
    "mean(pi_est)\n",
    "median(pi_est)\n",
    "sd(pi_est)"
   ]
  },
  {
   "cell_type": "markdown",
   "metadata": {},
   "source": [
    "Now use a larger sample for estimating pi."
   ]
  },
  {
   "cell_type": "code",
   "execution_count": 44,
   "metadata": {},
   "outputs": [],
   "source": [
    "nsample <- 1000\n",
    "nexperiments <- 10000\n",
    "pi_est <- c()\n",
    "for (i in 1:nexperiments){\n",
    "    x <- runif(nsample,-1,1)\n",
    "    y <- runif(nsample,-1,1)\n",
    "    pi_est <- c(pi_est, 4*sum(x^2 + y^2 < 1)/nsample)\n",
    "}"
   ]
  },
  {
   "cell_type": "code",
   "execution_count": 45,
   "metadata": {},
   "outputs": [
    {
     "data": {
      "image/png": "[encoded data removed]",
      "text/plain": [
       "Plot with title “Histogram of pi_est”"
      ]
     },
     "metadata": {},
     "output_type": "display_data"
    }
   ],
   "source": [
    "hist(pi_est,breaks=20)"
   ]
  },
  {
   "cell_type": "code",
   "execution_count": 46,
   "metadata": {},
   "outputs": [
    {
     "data": {
      "text/plain": [
       "[1] 3.141233"
      ]
     },
     "metadata": {},
     "output_type": "display_data"
    },
    {
     "data": {
      "text/plain": [
       "[1] 3.14"
      ]
     },
     "metadata": {},
     "output_type": "display_data"
    },
    {
     "data": {
      "text/plain": [
       "[1] 0.05183556"
      ]
     },
     "metadata": {},
     "output_type": "display_data"
    }
   ],
   "source": [
    "mean(pi_est)\n",
    "median(pi_est)\n",
    "sd(pi_est)"
   ]
  },
  {
   "cell_type": "markdown",
   "metadata": {},
   "source": [
    "We see that the spread of the estimates are smaller with a larger sample size. To see this better, let's increase the sample size systematically and plot the standard deviation versus sample size."
   ]
  },
  {
   "cell_type": "code",
   "execution_count": 47,
   "metadata": {},
   "outputs": [],
   "source": [
    "nsample_vec <- seq(100,10000,100)\n",
    "nexperiments <- 1000\n",
    "sdvals <- c()\n",
    "for (nsample in nsample_vec){\n",
    "    pi_est <- c()\n",
    "    for (i in 1:nexperiments){\n",
    "        x <- runif(nsample,-1,1)\n",
    "        y <- runif(nsample,-1,1)\n",
    "        pi_est <- c(pi_est, 4*sum(x^2 + y^2 < 1)/nsample)\n",
    "    }\n",
    "    sdvals <- c(sdvals, sd(pi_est))\n",
    "}"
   ]
  },
  {
   "cell_type": "code",
   "execution_count": 48,
   "metadata": {},
   "outputs": [
    {
     "data": {
      "image/png": "[encoded data removed]",
      "text/plain": [
       "plot without title"
      ]
     },
     "metadata": {},
     "output_type": "display_data"
    }
   ],
   "source": [
    "plot(nsample_vec, sdvals, type=\"l\")"
   ]
  },
  {
   "cell_type": "markdown",
   "metadata": {},
   "source": [
    "Random walk\n",
    "----\n",
    "\n",
    "A simple random walk in one dimension is a random process: The walker takes a step to the right or left with equal probability. Let's plot the position of the walker in time."
   ]
  },
  {
   "cell_type": "code",
   "execution_count": 49,
   "metadata": {},
   "outputs": [
    {
     "data": {
      "text/plain": [
       " [1] -1 -1  1  1 -1 -1 -1 -1 -1  1"
      ]
     },
     "metadata": {},
     "output_type": "display_data"
    }
   ],
   "source": [
    "steps <- sample(c(-1,1), size=10, replace=TRUE)\n",
    "steps"
   ]
  },
  {
   "cell_type": "markdown",
   "metadata": {},
   "source": [
    "The total displacement with respect to the starting point can be found just by applying `sum()`."
   ]
  },
  {
   "cell_type": "code",
   "execution_count": 50,
   "metadata": {},
   "outputs": [
    {
     "data": {
      "text/plain": [
       "[1] -4"
      ]
     },
     "metadata": {},
     "output_type": "display_data"
    }
   ],
   "source": [
    "sum(steps)"
   ]
  },
  {
   "cell_type": "markdown",
   "metadata": {},
   "source": [
    "How about the displacement at every step? For example, in the first four steps, this can be done as follows:"
   ]
  },
  {
   "cell_type": "code",
   "execution_count": 51,
   "metadata": {},
   "outputs": [
    {
     "data": {
      "text/plain": [
       "[1] -1 -2 -1  0"
      ]
     },
     "metadata": {},
     "output_type": "display_data"
    }
   ],
   "source": [
    "c( sum(steps[1]), sum(steps[1:2]), sum(steps[1:3]), sum(steps[1:4]) )"
   ]
  },
  {
   "cell_type": "markdown",
   "metadata": {},
   "source": [
    "There is an R function `cumsum()` that performs this automatically:"
   ]
  },
  {
   "cell_type": "code",
   "execution_count": 52,
   "metadata": {},
   "outputs": [
    {
     "data": {
      "text/plain": [
       " [1] -1 -2 -1  0 -1 -2 -3 -4 -5 -4"
      ]
     },
     "metadata": {},
     "output_type": "display_data"
    }
   ],
   "source": [
    "cumsum(steps)"
   ]
  },
  {
   "cell_type": "code",
   "execution_count": 53,
   "metadata": {},
   "outputs": [
    {
     "data": {
      "image/png": "[encoded data removed]",
      "text/plain": [
       "plot without title"
      ]
     },
     "metadata": {},
     "output_type": "display_data"
    }
   ],
   "source": [
    "nsteps <- 10000\n",
    "steps <- sample(c(-1,1), size=nsteps, replace=TRUE)\n",
    "plot(1:nsteps, cumsum(steps), type=\"l\")"
   ]
  }
 ],
 "metadata": {
  "kernelspec": {
   "display_name": "R",
   "language": "R",
   "name": "ir"
  },
  "language_info": {
   "codemirror_mode": "r",
   "file_extension": ".r",
   "mimetype": "text/x-r-source",
   "name": "R",
   "pygments_lexer": "r",
   "version": "3.4.2"
  }
 },
 "nbformat": 4,
 "nbformat_minor": 2
}
