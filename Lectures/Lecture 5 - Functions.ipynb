{
 "cells": [
  {
   "cell_type": "markdown",
   "metadata": {},
   "source": [
    "In the context of computer programming, a _function_ is a piece of code that takes _input arguments_, performs a specific task, and _returns its output_.\n",
    "\n",
    "A first example\n",
    "=============="
   ]
  },
  {
   "cell_type": "markdown",
   "metadata": {},
   "source": [
    "Let us define a function that returns the square of a given number."
   ]
  },
  {
   "cell_type": "code",
   "execution_count": 1,
   "metadata": {},
   "outputs": [],
   "source": [
    "square <- function(x) {\n",
    "    return(x^2)\n",
    "}"
   ]
  },
  {
   "cell_type": "markdown",
   "metadata": {},
   "source": [
    "We call the function by providing the input value as an argument. The function returns an output."
   ]
  },
  {
   "cell_type": "code",
   "execution_count": 2,
   "metadata": {},
   "outputs": [
    {
     "data": {
      "text/html": [
       "9"
      ],
      "text/latex": [
       "9"
      ],
      "text/markdown": [
       "9"
      ],
      "text/plain": [
       "[1] 9"
      ]
     },
     "metadata": {},
     "output_type": "display_data"
    }
   ],
   "source": [
    "square(3)"
   ]
  },
  {
   "cell_type": "markdown",
   "metadata": {},
   "source": [
    "If we type a function's name and press Enter, we get back the definition of the function. "
   ]
  },
  {
   "cell_type": "code",
   "execution_count": 3,
   "metadata": {},
   "outputs": [
    {
     "data": {
      "text/html": [
       "<pre class=language-r><code>function (x) \n",
       "{\n",
       "<span style=white-space:pre-wrap>    return(x^2)</span>\n",
       "}</code></pre>"
      ],
      "text/latex": [
       "\\begin{minted}{r}\n",
       "function (x) \n",
       "\\{\n",
       "    return(x\\textasciicircum{}2)\n",
       "\\}\n",
       "\\end{minted}"
      ],
      "text/markdown": [
       "```r\n",
       "function (x) \n",
       "{\n",
       "    return(x^2)\n",
       "}\n",
       "```"
      ],
      "text/plain": [
       "function(x) {\n",
       "    return(x^2)\n",
       "}"
      ]
     },
     "metadata": {},
     "output_type": "display_data"
    }
   ],
   "source": [
    "square"
   ]
  },
  {
   "cell_type": "markdown",
   "metadata": {},
   "source": [
    "The syntax of a function definition\n",
    "=========\n",
    "\n",
    "The general structure of a function definition is as follows:\n",
    "\n",
    "    <function_name> <- function([<argument_1>, <argument_2>, ...]) {\n",
    "        <statements>\n",
    "        return(<return_value>)\n",
    "    }\n",
    "\n",
    "Function arguments\n",
    "==============\n",
    "The function can take any number of arguments."
   ]
  },
  {
   "cell_type": "code",
   "execution_count": 4,
   "metadata": {},
   "outputs": [],
   "source": [
    "f <- function(x,y,z){\n",
    "    return(x+y*z)\n",
    "}"
   ]
  },
  {
   "cell_type": "code",
   "execution_count": 5,
   "metadata": {},
   "outputs": [
    {
     "data": {
      "text/html": [
       "7"
      ],
      "text/latex": [
       "7"
      ],
      "text/markdown": [
       "7"
      ],
      "text/plain": [
       "[1] 7"
      ]
     },
     "metadata": {},
     "output_type": "display_data"
    }
   ],
   "source": [
    "f(1,2,3)"
   ]
  },
  {
   "cell_type": "markdown",
   "metadata": {},
   "source": [
    "It is possible to change the order of arguments by providing the names explicitly."
   ]
  },
  {
   "cell_type": "code",
   "execution_count": 6,
   "metadata": {},
   "outputs": [
    {
     "data": {
      "text/html": [
       "7"
      ],
      "text/latex": [
       "7"
      ],
      "text/markdown": [
       "7"
      ],
      "text/plain": [
       "[1] 7"
      ]
     },
     "metadata": {},
     "output_type": "display_data"
    }
   ],
   "source": [
    "f(z=3,x=1,y=2)"
   ]
  },
  {
   "cell_type": "markdown",
   "metadata": {},
   "source": [
    "You can even omit some names, and the unnamed arguments will be matched in order."
   ]
  },
  {
   "cell_type": "code",
   "execution_count": 7,
   "metadata": {},
   "outputs": [
    {
     "data": {
      "text/html": [
       "7"
      ],
      "text/latex": [
       "7"
      ],
      "text/markdown": [
       "7"
      ],
      "text/plain": [
       "[1] 7"
      ]
     },
     "metadata": {},
     "output_type": "display_data"
    }
   ],
   "source": [
    "f(z=3,1,2)"
   ]
  },
  {
   "cell_type": "markdown",
   "metadata": {},
   "source": [
    "Return values\n",
    "=============\n",
    "The _return value_ of the function can be any R object, such as a number, a vector, a matrix, a list, etc."
   ]
  },
  {
   "cell_type": "code",
   "execution_count": 8,
   "metadata": {},
   "outputs": [
    {
     "data": {
      "text/html": [
       "<ol class=list-inline>\n",
       "\t<li>13</li>\n",
       "\t<li>-3</li>\n",
       "</ol>\n"
      ],
      "text/latex": [
       "\\begin{enumerate*}\n",
       "\\item 13\n",
       "\\item -3\n",
       "\\end{enumerate*}\n"
      ],
      "text/markdown": [
       "1. 13\n",
       "2. -3\n",
       "\n",
       "\n"
      ],
      "text/plain": [
       "[1] 13 -3"
      ]
     },
     "metadata": {},
     "output_type": "display_data"
    }
   ],
   "source": [
    "sumdiff <- function(x,y){\n",
    "    return( c(x+y, x-y) )\n",
    "}\n",
    "\n",
    "sumdiff(5,8)"
   ]
  },
  {
   "cell_type": "markdown",
   "metadata": {},
   "source": [
    "The function returns the last expression in its block, even if we don't use `return` explicitly."
   ]
  },
  {
   "cell_type": "code",
   "execution_count": 9,
   "metadata": {},
   "outputs": [],
   "source": [
    "f <- function(x,y,z){\n",
    "    x+y*z\n",
    "}"
   ]
  },
  {
   "cell_type": "code",
   "execution_count": 10,
   "metadata": {},
   "outputs": [
    {
     "data": {
      "text/html": [
       "7"
      ],
      "text/latex": [
       "7"
      ],
      "text/markdown": [
       "7"
      ],
      "text/plain": [
       "[1] 7"
      ]
     },
     "metadata": {},
     "output_type": "display_data"
    }
   ],
   "source": [
    "f(1,2,3)"
   ]
  },
  {
   "cell_type": "markdown",
   "metadata": {},
   "source": [
    "A function itself is an R object, therefore we can easily write _functions that return functions_."
   ]
  },
  {
   "cell_type": "code",
   "execution_count": 11,
   "metadata": {},
   "outputs": [],
   "source": [
    "powerfun <- function(p){\n",
    "    return(function(x) x^p)\n",
    "}"
   ]
  },
  {
   "cell_type": "code",
   "execution_count": 12,
   "metadata": {},
   "outputs": [],
   "source": [
    "sq <- powerfun(2)\n",
    "cube <- powerfun(3)"
   ]
  },
  {
   "cell_type": "code",
   "execution_count": 13,
   "metadata": {},
   "outputs": [
    {
     "data": {
      "text/html": [
       "2.25"
      ],
      "text/latex": [
       "2.25"
      ],
      "text/markdown": [
       "2.25"
      ],
      "text/plain": [
       "[1] 2.25"
      ]
     },
     "metadata": {},
     "output_type": "display_data"
    },
    {
     "data": {
      "text/html": [
       "3.375"
      ],
      "text/latex": [
       "3.375"
      ],
      "text/markdown": [
       "3.375"
      ],
      "text/plain": [
       "[1] 3.375"
      ]
     },
     "metadata": {},
     "output_type": "display_data"
    }
   ],
   "source": [
    "sq(1.5)\n",
    "cube(1.5)"
   ]
  },
  {
   "cell_type": "markdown",
   "metadata": {},
   "source": [
    "Vectorization of functions\n",
    "===========\n",
    "The simple function `square()` defined above happens to work with vector arguments without any modification, because the returned statement `x^2` is valid for both numbers and vectors."
   ]
  },
  {
   "cell_type": "code",
   "execution_count": 14,
   "metadata": {},
   "outputs": [
    {
     "data": {
      "text/html": [
       "<ol class=list-inline>\n",
       "\t<li>1</li>\n",
       "\t<li>4</li>\n",
       "\t<li>9</li>\n",
       "</ol>\n"
      ],
      "text/latex": [
       "\\begin{enumerate*}\n",
       "\\item 1\n",
       "\\item 4\n",
       "\\item 9\n",
       "\\end{enumerate*}\n"
      ],
      "text/markdown": [
       "1. 1\n",
       "2. 4\n",
       "3. 9\n",
       "\n",
       "\n"
      ],
      "text/plain": [
       "[1] 1 4 9"
      ]
     },
     "metadata": {},
     "output_type": "display_data"
    }
   ],
   "source": [
    "square <- function(x) {\n",
    "    x^2\n",
    "}\n",
    "square(c(1,2,3))"
   ]
  },
  {
   "cell_type": "markdown",
   "metadata": {},
   "source": [
    "However, functions are not always vectorized. See the following counterexample:"
   ]
  },
  {
   "cell_type": "code",
   "execution_count": 15,
   "metadata": {},
   "outputs": [],
   "source": [
    "addupto <- function(n){\n",
    "    total <- 0\n",
    "    for (i in 1:n)\n",
    "        total <- total + i\n",
    "    return(total)\n",
    "}"
   ]
  },
  {
   "cell_type": "code",
   "execution_count": 16,
   "metadata": {},
   "outputs": [
    {
     "data": {
      "text/html": [
       "55"
      ],
      "text/latex": [
       "55"
      ],
      "text/markdown": [
       "55"
      ],
      "text/plain": [
       "[1] 55"
      ]
     },
     "metadata": {},
     "output_type": "display_data"
    }
   ],
   "source": [
    "addupto(10)"
   ]
  },
  {
   "cell_type": "markdown",
   "metadata": {},
   "source": [
    "When we call this function with a vector argument, only the first element is taken, and a warning message is issued"
   ]
  },
  {
   "cell_type": "code",
   "execution_count": 17,
   "metadata": {},
   "outputs": [
    {
     "name": "stderr",
     "output_type": "stream",
     "text": [
      "Warning message in 1:n:\n",
      "“numerical expression has 2 elements: only the first used”"
     ]
    },
    {
     "data": {
      "text/html": [
       "55"
      ],
      "text/latex": [
       "55"
      ],
      "text/markdown": [
       "55"
      ],
      "text/plain": [
       "[1] 55"
      ]
     },
     "metadata": {},
     "output_type": "display_data"
    }
   ],
   "source": [
    "addupto(c(10,20))"
   ]
  },
  {
   "cell_type": "markdown",
   "metadata": {},
   "source": [
    "If you want this function to work with vector input, you can use a loop that iterates over the input vector."
   ]
  },
  {
   "cell_type": "code",
   "execution_count": 18,
   "metadata": {},
   "outputs": [],
   "source": [
    "addupto_vec <- function(nvec){\n",
    "    result <- c()\n",
    "    for (n in nvec){\n",
    "        total <- 0\n",
    "        for (i in 1:n)\n",
    "            total <- total + i\n",
    "        result <- c(result, total)\n",
    "    }\n",
    "    return(result)\n",
    "}"
   ]
  },
  {
   "cell_type": "code",
   "execution_count": 19,
   "metadata": {},
   "outputs": [
    {
     "data": {
      "text/html": [
       "<ol class=list-inline>\n",
       "\t<li>55</li>\n",
       "\t<li>210</li>\n",
       "</ol>\n"
      ],
      "text/latex": [
       "\\begin{enumerate*}\n",
       "\\item 55\n",
       "\\item 210\n",
       "\\end{enumerate*}\n"
      ],
      "text/markdown": [
       "1. 55\n",
       "2. 210\n",
       "\n",
       "\n"
      ],
      "text/plain": [
       "[1]  55 210"
      ]
     },
     "metadata": {},
     "output_type": "display_data"
    }
   ],
   "source": [
    "addupto_vec(c(10,20))"
   ]
  },
  {
   "cell_type": "markdown",
   "metadata": {},
   "source": [
    "Alternatively, you can use the built-in `sapply()` function, which maps a function on each element of a vector."
   ]
  },
  {
   "cell_type": "code",
   "execution_count": 20,
   "metadata": {},
   "outputs": [
    {
     "data": {
      "text/html": [
       "<ol class=list-inline>\n",
       "\t<li>55</li>\n",
       "\t<li>210</li>\n",
       "</ol>\n"
      ],
      "text/latex": [
       "\\begin{enumerate*}\n",
       "\\item 55\n",
       "\\item 210\n",
       "\\end{enumerate*}\n"
      ],
      "text/markdown": [
       "1. 55\n",
       "2. 210\n",
       "\n",
       "\n"
      ],
      "text/plain": [
       "[1]  55 210"
      ]
     },
     "metadata": {},
     "output_type": "display_data"
    }
   ],
   "source": [
    "sapply(c(10,20), addupto)"
   ]
  },
  {
   "cell_type": "markdown",
   "metadata": {},
   "source": [
    "Default arguments\n",
    "==============\n",
    "When you define a function, you can set some of the arguments to default values. Then you don't have to specify them at each call."
   ]
  },
  {
   "cell_type": "code",
   "execution_count": 21,
   "metadata": {},
   "outputs": [],
   "source": [
    "f <- function(capital, interest_rate=0.1) {\n",
    "    capital * (1+interest_rate)\n",
    "}"
   ]
  },
  {
   "cell_type": "markdown",
   "metadata": {},
   "source": [
    "Without specifying the `interest_rate` value, 0.1 is assumed."
   ]
  },
  {
   "cell_type": "code",
   "execution_count": 22,
   "metadata": {},
   "outputs": [
    {
     "data": {
      "text/html": [
       "1100"
      ],
      "text/latex": [
       "1100"
      ],
      "text/markdown": [
       "1100"
      ],
      "text/plain": [
       "[1] 1100"
      ]
     },
     "metadata": {},
     "output_type": "display_data"
    }
   ],
   "source": [
    "f(1000)"
   ]
  },
  {
   "cell_type": "markdown",
   "metadata": {},
   "source": [
    "But if you want to change it, you can provide it as an extra argument."
   ]
  },
  {
   "cell_type": "code",
   "execution_count": 23,
   "metadata": {},
   "outputs": [
    {
     "data": {
      "text/html": [
       "1200"
      ],
      "text/latex": [
       "1200"
      ],
      "text/markdown": [
       "1200"
      ],
      "text/plain": [
       "[1] 1200"
      ]
     },
     "metadata": {},
     "output_type": "display_data"
    }
   ],
   "source": [
    "f(1000,0.2)"
   ]
  },
  {
   "cell_type": "markdown",
   "metadata": {},
   "source": [
    "If you want to change the order of the arguments, "
   ]
  },
  {
   "cell_type": "code",
   "execution_count": 24,
   "metadata": {},
   "outputs": [
    {
     "data": {
      "text/html": [
       "1200"
      ],
      "text/latex": [
       "1200"
      ],
      "text/markdown": [
       "1200"
      ],
      "text/plain": [
       "[1] 1200"
      ]
     },
     "metadata": {},
     "output_type": "display_data"
    }
   ],
   "source": [
    "f(interest_rate = 0.2, 1000)"
   ]
  },
  {
   "cell_type": "markdown",
   "metadata": {},
   "source": [
    "Arbitrary number of arguments\n",
    "====================\n",
    "The function definitions above take a fixed number of arguments. If desired, we can define the function for an arbitrary number of arguments, without specifying their name or how many they are."
   ]
  },
  {
   "cell_type": "code",
   "execution_count": 25,
   "metadata": {},
   "outputs": [],
   "source": [
    "f <- function(...) {\n",
    "    total <- 0\n",
    "    for (i in c(...)) {\n",
    "        print(i)\n",
    "        total <- i\n",
    "    }\n",
    "    total\n",
    "}"
   ]
  },
  {
   "cell_type": "code",
   "execution_count": 26,
   "metadata": {},
   "outputs": [
    {
     "name": "stdout",
     "output_type": "stream",
     "text": [
      "[1] 1\n",
      "[1] 2\n",
      "[1] 6\n",
      "[1] 2\n",
      "[1] 5\n"
     ]
    },
    {
     "data": {
      "text/html": [
       "5"
      ],
      "text/latex": [
       "5"
      ],
      "text/markdown": [
       "5"
      ],
      "text/plain": [
       "[1] 5"
      ]
     },
     "metadata": {},
     "output_type": "display_data"
    }
   ],
   "source": [
    "f(1,2,6,2,5)"
   ]
  },
  {
   "cell_type": "markdown",
   "metadata": {},
   "source": [
    "This feature is commonly used if you want to pass some of the arguments to another function."
   ]
  },
  {
   "cell_type": "code",
   "execution_count": 27,
   "metadata": {},
   "outputs": [],
   "source": [
    "f <- function(x, y){\n",
    "    cat(\"This is function f(). Here x =\",x,\"y=\",y,\"\\n\")\n",
    "    return(x+y)\n",
    "}\n",
    "\n",
    "g <- function(z, ...){\n",
    "    cat(\"This is function g(). Here z =\",z,\"\\n\")\n",
    "    fresult <- f(...)\n",
    "    return(z + fresult)\n",
    "}"
   ]
  },
  {
   "cell_type": "code",
   "execution_count": 28,
   "metadata": {},
   "outputs": [
    {
     "name": "stdout",
     "output_type": "stream",
     "text": [
      "This is function g(). Here z = 5 \n",
      "This is function f(). Here x = 8 y= 4 \n"
     ]
    },
    {
     "data": {
      "text/html": [
       "17"
      ],
      "text/latex": [
       "17"
      ],
      "text/markdown": [
       "17"
      ],
      "text/plain": [
       "[1] 17"
      ]
     },
     "metadata": {},
     "output_type": "display_data"
    }
   ],
   "source": [
    "g(5,8,4)"
   ]
  },
  {
   "cell_type": "code",
   "execution_count": 29,
   "metadata": {},
   "outputs": [
    {
     "data": {
      "text/html": [
       "<pre class=language-r><code>function (z, ...) \n",
       "{\n",
       "<span style=white-space:pre-wrap>    cat(\"This is function g(). Here z =\", z, \"\\n\")</span>\n",
       "<span style=white-space:pre-wrap>    fresult &lt;- f(...)</span>\n",
       "<span style=white-space:pre-wrap>    return(z + fresult)</span>\n",
       "}</code></pre>"
      ],
      "text/latex": [
       "\\begin{minted}{r}\n",
       "function (z, ...) \n",
       "\\{\n",
       "    cat(\"This is function g(). Here z =\", z, \"\\textbackslash{}n\")\n",
       "    fresult <- f(...)\n",
       "    return(z + fresult)\n",
       "\\}\n",
       "\\end{minted}"
      ],
      "text/markdown": [
       "```r\n",
       "function (z, ...) \n",
       "{\n",
       "    cat(\"This is function g(). Here z =\", z, \"\\n\")\n",
       "    fresult <- f(...)\n",
       "    return(z + fresult)\n",
       "}\n",
       "```"
      ],
      "text/plain": [
       "function(z, ...){\n",
       "    cat(\"This is function g(). Here z =\",z,\"\\n\")\n",
       "    fresult <- f(...)\n",
       "    return(z + fresult)\n",
       "}"
      ]
     },
     "metadata": {},
     "output_type": "display_data"
    }
   ],
   "source": [
    "g"
   ]
  },
  {
   "cell_type": "markdown",
   "metadata": {},
   "source": [
    "Variable scope\n",
    "============"
   ]
  },
  {
   "cell_type": "markdown",
   "metadata": {},
   "source": [
    "The value of a variable defined outside a function (a _global variable_) can be accessed inside a function. However, a variable defined inside a function block is not recognized outside of it.\n",
    "We say that the _scope_ of the variable `b` is limited to the function `f()`."
   ]
  },
  {
   "cell_type": "code",
   "execution_count": 30,
   "metadata": {},
   "outputs": [],
   "source": [
    "rm(list = ls())"
   ]
  },
  {
   "cell_type": "code",
   "execution_count": 31,
   "metadata": {},
   "outputs": [
    {
     "name": "stdout",
     "output_type": "stream",
     "text": [
      "inside f(): a = 5 b = 10 \n",
      "outside f(): a = 5  "
     ]
    },
    {
     "ename": "ERROR",
     "evalue": "Error in cat(\"b =\", b): object 'b' not found\n",
     "execution_count": 31,
     "output_type": "error",
     "traceback": [
      "Error in cat(\"b =\", b): object 'b' not found\nTraceback:\n",
      "1. cat(\"b =\", b)"
     ]
    }
   ],
   "source": [
    "a <- 5\n",
    "\n",
    "f <- function(){\n",
    "    b <- 10\n",
    "    cat(\"inside f(): a =\",a,\"b =\",b,\"\\n\")\n",
    "}\n",
    "\n",
    "f()\n",
    "cat(\"outside f(): a =\",a,\" \")\n",
    "cat(\"b =\",b)"
   ]
  },
  {
   "cell_type": "code",
   "execution_count": 32,
   "metadata": {},
   "outputs": [
    {
     "name": "stdout",
     "output_type": "stream",
     "text": [
      "inside f(): a = 5 b = 10 \n",
      "outside f(): a = 5  "
     ]
    },
    {
     "ename": "ERROR",
     "evalue": "Error in cat(\"b =\", b): object 'b' not found\n",
     "execution_count": 32,
     "output_type": "error",
     "traceback": [
      "Error in cat(\"b =\", b): object 'b' not found\nTraceback:\n",
      "1. cat(\"b =\", b)"
     ]
    }
   ],
   "source": [
    "a <- 5\n",
    "\n",
    "f <- function(){\n",
    "    b <- 10\n",
    "    cat(\"inside f(): a =\",a,\"b =\",b,\"\\n\")\n",
    "}\n",
    "\n",
    "f()\n",
    "cat(\"outside f(): a =\",a,\" \")\n",
    "cat(\"b =\",b)"
   ]
  },
  {
   "cell_type": "markdown",
   "metadata": {},
   "source": [
    "A local variable temporarily overrides a global variable with the same name."
   ]
  },
  {
   "cell_type": "code",
   "execution_count": 33,
   "metadata": {},
   "outputs": [
    {
     "name": "stdout",
     "output_type": "stream",
     "text": [
      "before f(): a = 5 \n",
      "inside f(): a = 10 \n",
      "after f(): a = 5"
     ]
    }
   ],
   "source": [
    "a <- 5\n",
    "cat(\"before f(): a =\",a,\"\\n\")\n",
    "\n",
    "f <- function(){\n",
    "    a <- 10\n",
    "    cat(\"inside f(): a =\",a,\"\\n\")\n",
    "}\n",
    "\n",
    "f()\n",
    "cat(\"after f(): a =\",a)"
   ]
  },
  {
   "cell_type": "markdown",
   "metadata": {},
   "source": [
    "R allows for nested function definitions. So we can define functions within functions, within functions. Scope rules apply in the same way: A variable is available in the current level, and all the levels below in the hierarchy, but not above it."
   ]
  },
  {
   "cell_type": "code",
   "execution_count": 34,
   "metadata": {},
   "outputs": [
    {
     "name": "stdout",
     "output_type": "stream",
     "text": [
      "\n",
      "Inside g(): aaa = 5 bbb = 10 ccc = 10 \n",
      "\n",
      "Inside f(): aaa = 5 bbb = 10 \n",
      "ccc exists? FALSE \n",
      "\n",
      "Outside f():\n",
      "aaa exists? TRUE \n",
      "bbb exists? FALSE \n",
      "ccc exists? FALSE \n"
     ]
    }
   ],
   "source": [
    "aaa <- 5\n",
    "f <- function(){\n",
    "    bbb <- 10\n",
    "    g <- function(){\n",
    "        ccc <- 10\n",
    "        cat(\"\\nInside g(): aaa =\", aaa, \"bbb =\",bbb, \"ccc =\",ccc,\"\\n\")\n",
    "    }\n",
    "    g()\n",
    "\n",
    "    cat(\"\\nInside f(): aaa =\", aaa, \"bbb =\", bbb,\"\\n\")\n",
    "    cat(\"ccc exists?\", exists(\"ccc\"),\"\\n\")\n",
    "}\n",
    "f()\n",
    "cat(\"\\nOutside f():\\n\")\n",
    "cat(\"aaa exists?\", exists(\"aaa\"),\"\\n\")\n",
    "cat(\"bbb exists?\", exists(\"bbb\"),\"\\n\")\n",
    "cat(\"ccc exists?\", exists(\"ccc\"),\"\\n\")"
   ]
  },
  {
   "cell_type": "markdown",
   "metadata": {},
   "source": [
    "Assigning values to upper-level variables\n",
    "==========\n",
    "Although the values of variables defined in upper levels are available in lower levels, they cannot be modified in a lower level, because an attempt in assignment will create only a local variable with the same name."
   ]
  },
  {
   "cell_type": "code",
   "execution_count": 35,
   "metadata": {},
   "outputs": [
    {
     "name": "stdout",
     "output_type": "stream",
     "text": [
      "before f(): a = 5 \n",
      "inside f(): a = 10 \n",
      "after f(): a = 5"
     ]
    }
   ],
   "source": [
    "a <- 5\n",
    "cat(\"before f(): a =\",a,\"\\n\")\n",
    "\n",
    "f <- function(){\n",
    "    a <- 10\n",
    "    cat(\"inside f(): a =\",a,\"\\n\")\n",
    "}\n",
    "\n",
    "f()\n",
    "cat(\"after f(): a =\",a)"
   ]
  },
  {
   "cell_type": "markdown",
   "metadata": {},
   "source": [
    "Using the _superassignment operator_ `<<-` it is possible to assign to a variable in the higher level."
   ]
  },
  {
   "cell_type": "code",
   "execution_count": 36,
   "metadata": {},
   "outputs": [
    {
     "name": "stdout",
     "output_type": "stream",
     "text": [
      "before f(): a = 5 \n",
      "inside f(): a = 10 \n",
      "after f(): a = 10"
     ]
    }
   ],
   "source": [
    "a <- 5\n",
    "cat(\"before f(): a =\",a,\"\\n\")\n",
    "\n",
    "f <- function(){\n",
    "    a <<- 10\n",
    "    cat(\"inside f(): a =\",a,\"\\n\")\n",
    "}\n",
    "\n",
    "f()\n",
    "cat(\"after f(): a =\",a)"
   ]
  },
  {
   "cell_type": "code",
   "execution_count": 37,
   "metadata": {},
   "outputs": [
    {
     "name": "stdout",
     "output_type": "stream",
     "text": [
      "before f(): a = 5 \n",
      "inside f(), before g(): a = 5 \n",
      "inside g(): a = 20 \n",
      "inside f(), after g(): a = 20 \n",
      "after f(): a = 20"
     ]
    }
   ],
   "source": [
    "a <- 5\n",
    "cat(\"before f(): a =\",a,\"\\n\")\n",
    "\n",
    "f <- function(){\n",
    "    g <- function(){\n",
    "        a <<- 20\n",
    "        cat(\"inside g(): a =\",a,\"\\n\")\n",
    "    }\n",
    "    cat(\"inside f(), before g(): a =\",a,\"\\n\")\n",
    "    g()\n",
    "    cat(\"inside f(), after g(): a =\",a,\"\\n\")\n",
    "}\n",
    "\n",
    "f()\n",
    "cat(\"after f(): a =\",a)"
   ]
  },
  {
   "cell_type": "markdown",
   "metadata": {},
   "source": [
    "Note that the superassignment affects all the levels above it."
   ]
  }
 ],
 "metadata": {
  "kernelspec": {
   "display_name": "R",
   "language": "R",
   "name": "ir"
  },
  "language_info": {
   "codemirror_mode": "r",
   "file_extension": ".r",
   "mimetype": "text/x-r-source",
   "name": "R",
   "pygments_lexer": "r",
   "version": "3.4.2"
  }
 },
 "nbformat": 4,
 "nbformat_minor": 2
}
