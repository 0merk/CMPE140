{
 "cells": [
  {
   "cell_type": "code",
   "execution_count": null,
   "metadata": {},
   "outputs": [],
   "source": [
    "options(repr.plot.width=5, repr.plot.height=4)\n",
    "options(jupyter.rich_display = FALSE)"
   ]
  },
  {
   "cell_type": "markdown",
   "metadata": {},
   "source": [
    "# sequences, repetitions and random number generation"
   ]
  },
  {
   "cell_type": "markdown",
   "metadata": {},
   "source": [
    "By Serhat Çevikel"
   ]
  },
  {
   "cell_type": "markdown",
   "metadata": {},
   "source": [
    "## Sequences"
   ]
  },
  {
   "cell_type": "markdown",
   "metadata": {},
   "source": [
    "First take a look at the help of \"seq\" function"
   ]
  },
  {
   "cell_type": "code",
   "execution_count": null,
   "metadata": {},
   "outputs": [],
   "source": [
    "?seq"
   ]
  },
  {
   "cell_type": "markdown",
   "metadata": {},
   "source": [
    "```r\n",
    "seq(from = 1, to = 1, by = ((to - from)/(length.out - 1)),\n",
    "    length.out = NULL)\n",
    "```"
   ]
  },
  {
   "cell_type": "markdown",
   "metadata": {},
   "source": [
    "You can use any two or three of the \"from\", \"to\", \"by\" and \"length.out\" arguments"
   ]
  },
  {
   "cell_type": "markdown",
   "metadata": {},
   "source": [
    "**QUESTION 1:**\n",
    "\n",
    "Create:\n",
    "- A sequence of values from 1, of 20 values (length.out) and with steps of 3 (by), save in seq_1\n",
    "- A sequence of values from 1 to 50 with steps of 7, save in seq_2\n",
    "- A sequence of values to from 42 to 150 with 10 elements, save in seq_3"
   ]
  },
  {
   "cell_type": "code",
   "execution_count": null,
   "metadata": {
    "scrolled": true
   },
   "outputs": [],
   "source": [
    "seq_1 <- seq(1, by = 3, length.out = 20)\n",
    "seq_1"
   ]
  },
  {
   "cell_type": "code",
   "execution_count": null,
   "metadata": {},
   "outputs": [],
   "source": [
    "seq_2 <- seq(1, 134, by = 7)\n",
    "seq_2"
   ]
  },
  {
   "cell_type": "code",
   "execution_count": null,
   "metadata": {},
   "outputs": [],
   "source": [
    "seq_3 <- seq(42, 150, length.out = 10)\n",
    "seq_3"
   ]
  },
  {
   "cell_type": "markdown",
   "metadata": {},
   "source": [
    "## Repetitions"
   ]
  },
  {
   "cell_type": "markdown",
   "metadata": {},
   "source": [
    "Take a look at the help of function \"rep\""
   ]
  },
  {
   "cell_type": "code",
   "execution_count": null,
   "metadata": {},
   "outputs": [],
   "source": [
    "?rep"
   ]
  },
  {
   "cell_type": "markdown",
   "metadata": {},
   "source": [
    "```\n",
    "Usage\n",
    "rep(x, ...)\n",
    "\n",
    "Arguments\n",
    "times\n",
    "an integer-valued vector giving the (non-negative) number of times to repeat each element if of length length(x), or to repeat the whole vector if of length 1. Negative or NA values are an error. A double vector is accepted, other inputs being coerced to an integer or double vector.\n",
    "\n",
    "\n",
    "each\n",
    "non-negative integer. Each element of x is repeated each times. Other inputs will be coerced to an integer or double vector and the first element taken. Treated as 1 if NA or invalid.\n",
    "```"
   ]
  },
  {
   "cell_type": "markdown",
   "metadata": {},
   "source": [
    "**QUESTION 2:**\n",
    "\n",
    "Repeat:\n",
    "\n",
    "- seq_3 twice and save into object seq_3a\n",
    "- each item of seq_3 twice and save into object seq_3b"
   ]
  },
  {
   "cell_type": "code",
   "execution_count": null,
   "metadata": {},
   "outputs": [],
   "source": [
    "seq_3a <- rep(seq_3, 2)\n",
    "seq_3a"
   ]
  },
  {
   "cell_type": "code",
   "execution_count": null,
   "metadata": {},
   "outputs": [],
   "source": [
    "seq_3b <- rep(seq_3, each = 2)\n",
    "seq_3b"
   ]
  },
  {
   "cell_type": "markdown",
   "metadata": {},
   "source": [
    "## Random samples"
   ]
  },
  {
   "cell_type": "markdown",
   "metadata": {},
   "source": [
    "Take a look at the help of sample function"
   ]
  },
  {
   "cell_type": "code",
   "execution_count": null,
   "metadata": {},
   "outputs": [],
   "source": [
    "?sample"
   ]
  },
  {
   "cell_type": "markdown",
   "metadata": {},
   "source": [
    "```\n",
    "Usage\n",
    "sample(x, size, replace = FALSE, prob = NULL)\n",
    "\n",
    "Arguments\n",
    "x\t\n",
    "either a vector of one or more elements from which to choose, or a positive integer. See ‘Details.’\n",
    "\n",
    "n\t\n",
    "a positive number, the number of items to choose from. See ‘Details.’\n",
    "\n",
    "size\t\n",
    "a non-negative integer giving the number of items to choose.\n",
    "\n",
    "replace\t\n",
    "should sampling be with replacement?\n",
    "```"
   ]
  },
  {
   "cell_type": "markdown",
   "metadata": {},
   "source": [
    "**QUESTION 3:**\n",
    "\n",
    "Set seed to 1923 with set.seed(1923)\n",
    "Get a random sample of 10 items out of seq_1, without repetition, save into samp_1\n",
    "\n",
    "Set seed to 1977 with set.seed(1977)\n",
    "Get a random sample of 10 items out of seq_2, with repetition, save into samp_2"
   ]
  },
  {
   "cell_type": "code",
   "execution_count": null,
   "metadata": {},
   "outputs": [],
   "source": [
    "set.seed(1923)\n",
    "samp_1 <- sample(seq_1, 10)\n",
    "samp_1"
   ]
  },
  {
   "cell_type": "code",
   "execution_count": null,
   "metadata": {},
   "outputs": [],
   "source": [
    "set.seed(1977)\n",
    "samp_2 <- sample(seq_2, 10, replace = T)\n",
    "samp_2"
   ]
  },
  {
   "cell_type": "markdown",
   "metadata": {},
   "source": [
    "# names"
   ]
  },
  {
   "cell_type": "markdown",
   "metadata": {},
   "source": [
    "**QUESTION 4:**\n",
    "\n",
    "name samp_1 and samp_2 with the first 10 letters (use built-in letters vector and names() function)"
   ]
  },
  {
   "cell_type": "code",
   "execution_count": null,
   "metadata": {},
   "outputs": [],
   "source": [
    "names(samp_1) <- letters[1:10]\n",
    "samp_1\n",
    "\n",
    "names(samp_2) <- letters[1:10]\n",
    "samp_2"
   ]
  },
  {
   "cell_type": "markdown",
   "metadata": {},
   "source": [
    "# order and sort"
   ]
  },
  {
   "cell_type": "markdown",
   "metadata": {},
   "source": [
    "## sort"
   ]
  },
  {
   "cell_type": "markdown",
   "metadata": {},
   "source": [
    "Take a look at sort() function's help:"
   ]
  },
  {
   "cell_type": "code",
   "execution_count": null,
   "metadata": {},
   "outputs": [],
   "source": [
    "?sort"
   ]
  },
  {
   "cell_type": "markdown",
   "metadata": {},
   "source": [
    "```sort(x, decreasing = FALSE, ...)```"
   ]
  },
  {
   "cell_type": "markdown",
   "metadata": {},
   "source": [
    "**EXERCISE 5:**\n",
    "\n",
    "Sort samp_1 in ascending and descending orders"
   ]
  },
  {
   "cell_type": "code",
   "execution_count": null,
   "metadata": {
    "scrolled": true
   },
   "outputs": [],
   "source": [
    "samp_1\n",
    "sort(samp_1)\n",
    "sort(samp_1, decreasing = T)"
   ]
  },
  {
   "cell_type": "markdown",
   "metadata": {},
   "source": [
    "## order"
   ]
  },
  {
   "cell_type": "markdown",
   "metadata": {},
   "source": [
    "Take a look at \"order\" function's help:"
   ]
  },
  {
   "cell_type": "code",
   "execution_count": null,
   "metadata": {},
   "outputs": [],
   "source": [
    "?order"
   ]
  },
  {
   "cell_type": "markdown",
   "metadata": {},
   "source": [
    "```\n",
    "order(..., na.last = TRUE, decreasing = FALSE)\n",
    "```"
   ]
  },
  {
   "cell_type": "markdown",
   "metadata": {},
   "source": [
    "**EXERCISE 6:**\n",
    "\n",
    "Get the ascending and descending orders of samp_1 and save into samp_1_asc and samp_1_desc"
   ]
  },
  {
   "cell_type": "code",
   "execution_count": null,
   "metadata": {},
   "outputs": [],
   "source": [
    "samp_1\n",
    "samp_1_asc <- order(samp_1)\n",
    "samp_1_asc\n",
    "\n",
    "samp_1_desc <- order(samp_1, decreasing = T)\n",
    "samp_1_desc"
   ]
  },
  {
   "cell_type": "markdown",
   "metadata": {},
   "source": [
    "**EXERCISE 7:**\n",
    "\n",
    "Subset samp_1 using the samp_1_asc and samp_1_desc vectors as indices"
   ]
  },
  {
   "cell_type": "code",
   "execution_count": null,
   "metadata": {},
   "outputs": [],
   "source": [
    "#samp_1[samp_1_asc]\n",
    "samp_1[order(samp_1)]\n",
    "#samp_1[samp_1_desc]"
   ]
  },
  {
   "cell_type": "markdown",
   "metadata": {},
   "source": [
    "## order by a different vector"
   ]
  },
  {
   "cell_type": "markdown",
   "metadata": {},
   "source": [
    "Print samp_2 as is\n",
    "Sort the samp_1 in ascending order again"
   ]
  },
  {
   "cell_type": "code",
   "execution_count": null,
   "metadata": {},
   "outputs": [],
   "source": [
    "samp_1\n",
    "samp_2\n",
    "sort(samp_1)"
   ]
  },
  {
   "cell_type": "markdown",
   "metadata": {},
   "source": [
    "**EXERCISE 8:**\n",
    "\n",
    "Subset samp_2 with the ascending order of samp_1 vector (you can reuse samp_1_asc)"
   ]
  },
  {
   "cell_type": "code",
   "execution_count": null,
   "metadata": {},
   "outputs": [],
   "source": [
    "samp_2[order(samp_1)]\n",
    "sort(samp_1)\n",
    "#samp_2[samp_1_asc]"
   ]
  },
  {
   "cell_type": "markdown",
   "metadata": {},
   "source": [
    "# subset by condition"
   ]
  },
  {
   "cell_type": "markdown",
   "metadata": {},
   "source": [
    "Print samp_1, samp_2 vectors again"
   ]
  },
  {
   "cell_type": "code",
   "execution_count": null,
   "metadata": {},
   "outputs": [],
   "source": [
    "samp_1\n",
    "samp_2"
   ]
  },
  {
   "cell_type": "markdown",
   "metadata": {},
   "source": [
    "**EXERCISE 9:**\n",
    "\n",
    "- Create a boolean vector of T/F values for whether samp_1 values are greater than 30\n",
    "- Subset samp_1 values greater than 30\n",
    "- Subset samp_2 with the condition where samp_1 values are greater than 30 (Hint: subset samp_2 using the condition in the above step!)"
   ]
  },
  {
   "cell_type": "code",
   "execution_count": null,
   "metadata": {},
   "outputs": [],
   "source": [
    "samp_1\n",
    "samp_1 > 30"
   ]
  },
  {
   "cell_type": "code",
   "execution_count": null,
   "metadata": {},
   "outputs": [],
   "source": [
    "samp_1[samp_1 > 30]"
   ]
  },
  {
   "cell_type": "code",
   "execution_count": null,
   "metadata": {},
   "outputs": [],
   "source": [
    "samp_2[samp_1 > 30]"
   ]
  },
  {
   "cell_type": "markdown",
   "metadata": {},
   "source": [
    "# basic plots"
   ]
  },
  {
   "cell_type": "markdown",
   "metadata": {},
   "source": [
    "## scatter plot"
   ]
  },
  {
   "cell_type": "markdown",
   "metadata": {},
   "source": [
    "Remember the example from the lecture:"
   ]
  },
  {
   "cell_type": "code",
   "execution_count": null,
   "metadata": {},
   "outputs": [],
   "source": [
    "heights <- c(1.70, 1.67, 1.75, 1.62, 1.81)\n",
    "weights <- c(65, 70, 66, 61, 85)\n",
    "plot(heights, weights, xlab=\"height (m)\", ylab=\"weight (kg)\")\n",
    "title(\"Weight vs. height\")\n",
    "\n",
    "plot(heights, weights, pch=4, col=\"red\", xlab=\"height (m)\", ylab=\"weight (kg)\")\n",
    "title(\"Weight vs. height\")"
   ]
  },
  {
   "cell_type": "markdown",
   "metadata": {},
   "source": [
    "**EXERCISE 10:**\n",
    "\n",
    "- Create a scatterplot across samp_1 and samp_2\n",
    "- Name the title as \"Sample 1 vs. Sample 2\"\n",
    "- Name x axis as \"Sample 1\" and y axis as \"Sample 2\"\n",
    "- Color the marker as \"blue\""
   ]
  },
  {
   "cell_type": "code",
   "execution_count": null,
   "metadata": {},
   "outputs": [],
   "source": [
    "plot(samp_1,\n",
    "     samp_2,\n",
    "     col = \"blue\",\n",
    "    xlab = \"Sample 1\",\n",
    "    ylab = \"Sample 2\")\n",
    "title(\"Sample 1 vs. Sample 2\")"
   ]
  },
  {
   "cell_type": "markdown",
   "metadata": {},
   "source": [
    "## Line plot"
   ]
  },
  {
   "cell_type": "markdown",
   "metadata": {},
   "source": [
    "Remember the example from the Lecture:"
   ]
  },
  {
   "cell_type": "code",
   "execution_count": null,
   "metadata": {},
   "outputs": [],
   "source": [
    "heights <- c(1.70, 1.67, 1.75, 1.62, 1.81)\n",
    "weights <- c(65, 70, 66, 61, 85)\n",
    "\n",
    "plot(sort(heights), weights[order(heights)], type=\"l\")"
   ]
  },
  {
   "cell_type": "markdown",
   "metadata": {},
   "source": [
    "**EXERCISE 11:**\n",
    "\n",
    "- Draw a line plot where\n",
    "- x axis has ascending sorted samp_1\n",
    "- Y axis has samp_2 sorted with the ascending order of samp_1 (don't directly sort samp_2, use the order of samp_1"
   ]
  },
  {
   "cell_type": "code",
   "execution_count": null,
   "metadata": {},
   "outputs": [],
   "source": [
    "plot(sort(samp_1), samp_2[order(samp_1)], type = \"l\")"
   ]
  },
  {
   "cell_type": "code",
   "execution_count": null,
   "metadata": {},
   "outputs": [],
   "source": []
  }
 ],
 "metadata": {
  "kernelspec": {
   "display_name": "R",
   "language": "R",
   "name": "ir"
  },
  "language_info": {
   "codemirror_mode": "r",
   "file_extension": ".r",
   "mimetype": "text/x-r-source",
   "name": "R",
   "pygments_lexer": "r",
   "version": "3.5.1"
  },
  "toc": {
   "base_numbering": 1,
   "nav_menu": {},
   "number_sections": true,
   "sideBar": true,
   "skip_h1_title": false,
   "title_cell": "Table of Contents",
   "title_sidebar": "Contents",
   "toc_cell": false,
   "toc_position": {},
   "toc_section_display": "block",
   "toc_window_display": false
  }
 },
 "nbformat": 4,
 "nbformat_minor": 2
}
