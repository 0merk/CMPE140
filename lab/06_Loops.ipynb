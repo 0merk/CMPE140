{
 "cells": [
  {
   "cell_type": "code",
   "execution_count": null,
   "metadata": {},
   "outputs": [],
   "source": [
    "options(jupyter.rich_display = F)"
   ]
  },
  {
   "cell_type": "markdown",
   "metadata": {},
   "source": [
    "# LAB 06 - Loops\n",
    "\n",
    "Adopted by: Serhat Çevikel"
   ]
  },
  {
   "cell_type": "markdown",
   "metadata": {},
   "source": [
    "## Hello World!    "
   ]
  },
  {
   "cell_type": "markdown",
   "metadata": {},
   "source": [
    "Write a function hello that takes an argument n and **prints** \"hello\" n times using a for loop\n",
    "\n",
    "**Note: This is just a warm up. In our usual examples, we will require our function to RETURN not PRINT**\n",
    "\n",
    "**Note: It is usually bad practice to use short and unintuitive object or argument names such as \"n\", but for time constraints in the lab, and due to the simplicity of examples, we make some exceptions here**"
   ]
  },
  {
   "cell_type": "markdown",
   "metadata": {},
   "source": [
    "**Solution 1:**"
   ]
  },
  {
   "cell_type": "code",
   "execution_count": null,
   "metadata": {},
   "outputs": [],
   "source": [
    "hello <- function(n)\n",
    "{\n",
    "    for (i in 1:n)\n",
    "    {\n",
    "        print(\"hello\")\n",
    "    }\n",
    "}\n",
    "\n",
    "hello(2)"
   ]
  },
  {
   "cell_type": "markdown",
   "metadata": {},
   "source": [
    "## Factorial with for"
   ]
  },
  {
   "cell_type": "markdown",
   "metadata": {},
   "source": [
    "Factorial of n (n!) is the product of all integers from 1 to n. Hence: 5! = 120\n",
    "\n",
    "Write a function facto_for that takes an argument n, calculates the factorial of n using a for loop as such:\n",
    "\n",
    "```R\n",
    "facto_for(5)\n",
    "facto_for(10)\n",
    "\n",
    "[1] 120\n",
    "[1] 3628800\n",
    "```\n",
    "\n",
    "**Hint: Initiate a separate variable inside the function BEFORE the loop, setting it to 1. Update this variable by multiplying with the value that the iterator variable of the loop (such as \"i\") gets** "
   ]
  },
  {
   "cell_type": "markdown",
   "metadata": {},
   "source": [
    "**Solution 2:**"
   ]
  },
  {
   "cell_type": "code",
   "execution_count": null,
   "metadata": {},
   "outputs": [],
   "source": [
    "facto_for <- function(n)\n",
    "{\n",
    "    value <- 1\n",
    "    for (i in 1:n)\n",
    "    {\n",
    "        value <- value * i\n",
    "    }\n",
    "    \n",
    "    return(value)\n",
    "}\n",
    "\n",
    "facto_for(5)\n",
    "facto_for(10)"
   ]
  },
  {
   "cell_type": "markdown",
   "metadata": {},
   "source": [
    "## Factorial with while"
   ]
  },
  {
   "cell_type": "markdown",
   "metadata": {},
   "source": [
    "Write a function facto_while that takes an argument n, calculates the factorial of n using a while loop\n",
    "\n",
    "```R\n",
    "facto_while(4)\n",
    "facto_while(8)\n",
    "\n",
    "[1] 24\n",
    "[1] 40320\n",
    "```\n",
    "\n",
    "**Hint: Initiate a separate variable inside the function BEFORE the loop, setting it to 1. Update this variable by multiplying with the value that n has. n is decremented in each iteration AS LONG AS it is larger than 1** "
   ]
  },
  {
   "cell_type": "markdown",
   "metadata": {},
   "source": [
    "**Solution 3:**"
   ]
  },
  {
   "cell_type": "code",
   "execution_count": null,
   "metadata": {},
   "outputs": [],
   "source": [
    "facto_while <- function(n)\n",
    "{\n",
    "    value <- 1\n",
    "    while (n > 1)\n",
    "    {\n",
    "        value <- value * n\n",
    "        n <- n - 1\n",
    "    }\n",
    "    \n",
    "    return(value)\n",
    "}\n",
    "\n",
    "facto_while(4)\n",
    "facto_while(8)"
   ]
  },
  {
   "cell_type": "markdown",
   "metadata": {},
   "source": [
    "## Divisors"
   ]
  },
  {
   "cell_type": "markdown",
   "metadata": {},
   "source": [
    "Write a function divisors that takes an argument n, and collects and returns the divisors of the number\n",
    "\n",
    "**Hint:**\n",
    "- Initiate an empty vector (vec <- c() or vec <- integer(0) or vec <- NULL)\n",
    "- Iterate through all numbers from 1 to n with a for loop\n",
    "- Check the divisibility of n with the iterator using modulo and append the number if divisible\n",
    "- Return the vector\n",
    "\n",
    "as such:\n",
    "\n",
    "```R\n",
    "divisors(60)\n",
    "divisors(23)\n",
    "divisors(100)\n",
    "\n",
    "[1]  1  2  3  4  5  6 10 12 15 20 30 60\n",
    "[1]  1 23\n",
    "[1]  1   2   4   5  10  20  25  50 100\n",
    "```"
   ]
  },
  {
   "cell_type": "markdown",
   "metadata": {},
   "source": [
    "**Solution 4:**"
   ]
  },
  {
   "cell_type": "code",
   "execution_count": null,
   "metadata": {},
   "outputs": [],
   "source": [
    "divisors <- function(n)\n",
    "{\n",
    "    vec <- integer(0)\n",
    "    \n",
    "    for (i in 1:n)\n",
    "    {\n",
    "        if (n %% i == 0)\n",
    "        {\n",
    "            vec <- c(vec, i)            \n",
    "        }\n",
    "    }\n",
    "    \n",
    "    return(vec)\n",
    "}\n",
    "\n",
    "divisors(60)\n",
    "divisors(23)\n",
    "divisors(100)"
   ]
  },
  {
   "cell_type": "markdown",
   "metadata": {},
   "source": [
    "## Prime Factorization\n",
    "\n",
    "Prime factorization is is the process of decomposition of a composite number into a product of prime numbers.\n",
    "\n",
    "![Prime Factorization (Wiki)](https://upload.wikimedia.org/wikipedia/commons/2/2b/PrimeDecompositionExample.png)\n",
    "\n",
    "Lets write a function named **prime_factors** which accepts a positive number and returns a vector containing its prime factors as such:\n",
    "\n",
    "```r\n",
    "> prime_factors(85)\n",
    "[1]  5 17\n",
    "\n",
    "> prime_factors(1092)\n",
    "[1]  2  2  3  7 13\n",
    "```\n",
    "\n"
   ]
  },
  {
   "cell_type": "code",
   "execution_count": null,
   "metadata": {},
   "outputs": [],
   "source": [
    "prime_factors <- function(num)\n",
    "{\n",
    "    factors <- NULL\n",
    "    for(divisor in 2:ceiling(sqrt(num)))\n",
    "    {\n",
    "      while(num %% divisor == 0)\n",
    "      {\n",
    "        factors <- c(factors, divisor)\n",
    "        num <- as.integer(num / divisor)\n",
    "      }\n",
    "    }\n",
    "    return(if(num > 2) c(factors, num) else factors)\n",
    "}\n",
    "\n",
    "prime_factors(85)\n",
    "prime_factors(1092)"
   ]
  },
  {
   "cell_type": "markdown",
   "metadata": {},
   "source": [
    "## BINARY"
   ]
  },
  {
   "cell_type": "markdown",
   "metadata": {},
   "source": [
    "Write a function named **binary** that takes an argument n, an integer value, and returns the binary representation (base 2) as a vector of 1 and 0 values\n",
    "\n",
    "- The function should initiate a vector with a single value of 1\n",
    "- A while function should check whether n is above 1\n",
    "- Inside the while, if n is even, append 0 to the vector and divide n by 2\n",
    "- Otherwise, append 1 to the vector, decrement n and divide by 2\n",
    "\n",
    "as such:\n",
    "\n",
    "\n",
    "```R\n",
    "> binary(15)\n",
    "[1] 1 1 1 1\n",
    "\n",
    "> binary(10)\n",
    "[1] 1 0 1 0\n",
    "\n",
    "> binary(16)\n",
    "[1] 1 0 0 0 0\n",
    "```\n",
    "\n",
    "**Note: In decimal (base 10), all digits are powers of 10 starting with 10<sup>0</sup> as the least significant (rightmost) digit. In binary all digits are powers of 2 starting with 2<sup>0</sup> as the least significant (rightmost) digit.**"
   ]
  },
  {
   "cell_type": "markdown",
   "metadata": {},
   "source": [
    "**Solution 5:**"
   ]
  },
  {
   "cell_type": "code",
   "execution_count": null,
   "metadata": {},
   "outputs": [],
   "source": [
    "binary <- function(n)\n",
    "{\n",
    "    vec <- 1\n",
    "    \n",
    "    while(n > 1)\n",
    "    {\n",
    "        if (n %% 2 == 0)\n",
    "        {\n",
    "            vec <- c(vec, 0)\n",
    "            n <- n / 2        \n",
    "        }\n",
    "        else\n",
    "        {\n",
    "            vec <- c(vec, 1)\n",
    "            n <- (n - 1) / 2\n",
    "        }        \n",
    "    }\n",
    "    \n",
    "    return(vec)\n",
    "}\n",
    "\n",
    "binary(15)\n",
    "binary(10)\n",
    "binary(16)"
   ]
  },
  {
   "cell_type": "markdown",
   "metadata": {},
   "source": [
    "## Reverse BINARY\n",
    "\n",
    "Now lets write the function named **from_binary** which takes the vector of binary representation of a decimal number and calculates its decimal form.\n",
    "\n",
    "You can use the function **binary** above to test your code as such:\n",
    "\n",
    "```R\n",
    "> from_binary(binary(15))\n",
    "[1] 15\n",
    "\n",
    "> from_binary(binary(10))\n",
    "[1] 10\n",
    "\n",
    "> from_binary(binary(16))\n",
    "[1] 16\n",
    "```\n",
    "\n",
    "**Note**: Remember since given vector elements are in (base 2), you should iterate over the given vector and accumulate decimal form of each elements to find the corresponding decimal number.\n",
    "\n",
    "> Ex: binary(10) (1, 0, 1, 0)\n",
    ">\n",
    "> Right to left $0 \\times 2^0 + 1 \\times 2^1 + 0 \\times 2^2 + 1 \\times 2^3 = 10$"
   ]
  },
  {
   "cell_type": "code",
   "execution_count": null,
   "metadata": {},
   "outputs": [],
   "source": [
    "from_binary <- function(vec)\n",
    "{\n",
    "    num <- 0\n",
    "    for(i in seq_along(vec))\n",
    "    {\n",
    "        if(vec[i])\n",
    "        {\n",
    "            num <- num + 2^(length(vec) - i)\n",
    "        }\n",
    "    }\n",
    "    return(num)\n",
    "}\n",
    "from_binary(binary(15))\n",
    "from_binary(binary(10))\n",
    "from_binary(binary(16))"
   ]
  }
 ],
 "metadata": {
  "kernelspec": {
   "display_name": "R",
   "language": "R",
   "name": "ir"
  },
  "language_info": {
   "codemirror_mode": "r",
   "file_extension": ".r",
   "mimetype": "text/x-r-source",
   "name": "R",
   "pygments_lexer": "r",
   "version": "3.5.2"
  },
  "toc": {
   "nav_menu": {},
   "number_sections": true,
   "sideBar": true,
   "skip_h1_title": false,
   "title_cell": "Table of Contents",
   "title_sidebar": "Contents",
   "toc_cell": false,
   "toc_position": {},
   "toc_section_display": "block",
   "toc_window_display": true
  },
  "varInspector": {
   "cols": {
    "lenName": 16,
    "lenType": 16,
    "lenVar": 40
   },
   "kernels_config": {
    "python": {
     "delete_cmd_postfix": "",
     "delete_cmd_prefix": "del ",
     "library": "var_list.py",
     "varRefreshCmd": "print(var_dic_list())"
    },
    "r": {
     "delete_cmd_postfix": ") ",
     "delete_cmd_prefix": "rm(",
     "library": "var_list.r",
     "varRefreshCmd": "cat(var_dic_list()) "
    }
   },
   "types_to_exclude": [
    "module",
    "function",
    "builtin_function_or_method",
    "instance",
    "_Feature"
   ],
   "window_display": false
  }
 },
 "nbformat": 4,
 "nbformat_minor": 2
}
