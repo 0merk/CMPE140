{
 "cells": [
  {
   "cell_type": "code",
   "execution_count": null,
   "metadata": {},
   "outputs": [],
   "source": [
    "options(jupyter.rich_display = F)"
   ]
  },
  {
   "cell_type": "markdown",
   "metadata": {},
   "source": [
    "# TRAVELLING SALESMAN\n",
    "\n",
    "**by Serhat Çevikel**"
   ]
  },
  {
   "cell_type": "markdown",
   "metadata": {},
   "source": [
    "We will implement a simple \"greedy\" solution to travelling salesman problem: The shortest route to take to visit all cities in a path\n",
    "\n",
    "We will compare the solution to a brute force approach (trying all permutations) and see whether the fast, simple approach is as good as the slow brute force approach\n",
    "\n",
    "Of course, we will take advantage of the expressiveness of R language: Do much with little\n",
    "\n",
    "First let's download the distance matrix for 81 city centers again: We have a 81x81 matrix of bird fly distances in km's between 81 province centers in Turkey. To retrieve this matrix please follow the link below to download the file distance.RData:\n",
    "\n",
    "[distance.RData](../file/distance.RData)"
   ]
  },
  {
   "cell_type": "code",
   "execution_count": null,
   "metadata": {},
   "outputs": [],
   "source": [
    "options(jupyter.rich_display = F)"
   ]
  },
  {
   "cell_type": "markdown",
   "metadata": {},
   "source": [
    "Load the data:"
   ]
  },
  {
   "cell_type": "code",
   "execution_count": null,
   "metadata": {},
   "outputs": [],
   "source": [
    "load(\"~/file/distance2.RData\")"
   ]
  },
  {
   "cell_type": "markdown",
   "metadata": {},
   "source": [
    "See what is inside:"
   ]
  },
  {
   "cell_type": "code",
   "execution_count": null,
   "metadata": {},
   "outputs": [],
   "source": [
    "distance2[1:5, 1:5]"
   ]
  },
  {
   "cell_type": "markdown",
   "metadata": {},
   "source": [
    "Now let's have a sample of the cities:"
   ]
  },
  {
   "cell_type": "code",
   "execution_count": null,
   "metadata": {},
   "outputs": [],
   "source": [
    "cities <- c(\"istanbul\", \"adana\", \"ankara\", \"van\", \"mugla\", \"artvin\")\n",
    "#cities <- c(\"istanbul\", \"adana\", \"ankara\", \"van\", \"mugla\", \"artvin\", \"kayseri\", \"usak\", \"erzincan\")\n",
    "#cities <- c(\"istanbul\", \"adana\", \"ankara\", \"van\", \"mugla\", \"artvin\", \"kayseri\", \"usak\", \"erzincan\", \"sinop\")\n",
    "cities"
   ]
  },
  {
   "cell_type": "markdown",
   "metadata": {},
   "source": [
    "## Greedy approach"
   ]
  },
  {
   "cell_type": "markdown",
   "metadata": {},
   "source": [
    "**Exercise 1:**\n",
    "\n",
    "Write a function shortest() using the below template (just fill in ...'s)\n",
    "\n",
    "The logic is:\n",
    "\n",
    "- We select a starting position out of the cities\n",
    "- We keep track of visited and unvisited cities and the last visited location\n",
    "- In each iteration, we select the next city with the shortest distance to the current one\n",
    "- We continue until we run out of unvisited cities\n",
    "- We report both the distance and the vector of cities in visited order as a list"
   ]
  },
  {
   "cell_type": "markdown",
   "metadata": {},
   "source": [
    "```R\n",
    "\n",
    "shortest <- function(path = cities, start = \"istanbul\", dist = distance2)\n",
    "{\n",
    "    dist2 <- distance2[cities, cities] # subset the larger matrix so that we deal with a smaller one\n",
    "    diag(dist2) <- Inf # toggle the diagonal to Inf so that min() does not return 0's\n",
    "\n",
    "    # we keep track of two city vectors: path is for unvisited cities, path2 is for visited ones\n",
    "    path <- setdiff(path, start) # delete the starting city\n",
    "    path2 <- start # append the start city to visited\n",
    "\n",
    "    location <- start # current location is the start city\n",
    "    distance <- 0 # initiate the cumulative distance\n",
    "    \n",
    "    while(length(path) > 0) # as long as unvisited cities exist\n",
    "    {\n",
    "        rowx <- ... # get the row for current location, columns for unvisited cities\n",
    "        nextind <- ... # get the index of the minimum distance to next city, use which.min\n",
    "        distance <- ... # add the minimum distance to the cumulative\n",
    "        location <- ... # get the next location\n",
    "        path <- ... # delete the next city from unvisited ones, use setdiff\n",
    "        path2 <- ... # append the next city to visited ones\n",
    "    }\n",
    "    \n",
    "    return(list(..., ...)) # report the cumulative distance and cities in visited order as a list\n",
    "}\n",
    "\n",
    "```"
   ]
  },
  {
   "cell_type": "markdown",
   "metadata": {},
   "source": [
    "**Solution:**"
   ]
  },
  {
   "cell_type": "code",
   "execution_count": null,
   "metadata": {},
   "outputs": [],
   "source": [
    "shortest <- function(path = cities, start = \"istanbul\", dist = distance2)\n",
    "{\n",
    "    dist2 <- distance2[cities, cities] # subset the larger matrix so that we deal with a smaller one\n",
    "    diag(dist2) <- Inf # toggle the diagonal to Inf so that min() does not return 0's\n",
    "\n",
    "    # we keep track of two city vectors: path is for unvisited cities, path2 is for visited ones\n",
    "    path <- setdiff(path, start) # delete the starting city\n",
    "    path2 <- start # append the start city to visited\n",
    "\n",
    "    location <- start # current location is the start city\n",
    "    distance <- 0 # initiate the cumulative distance\n",
    "    \n",
    "    while(length(path) > 0) # as long as unvisited cities exist\n",
    "    {\n",
    "        rowx <- dist2[location,path] # get the row for current location, columns for unvisited cities\n",
    "        nextind <- which.min(rowx) # get the index of the minimum distance to next city\n",
    "        distance <- distance + min(rowx) # add the minimum distance to the cumulative\n",
    "        location <- path[nextind] # get the next location\n",
    "        path <- setdiff(path, location) # delete the next city from unvisited ones\n",
    "        path2 <- c(path2, location) # append the next city to visited ones\n",
    "    }\n",
    "    \n",
    "    return(list(distance, path2)) # report the cumulative distance and cities in visited order as a list\n",
    "}"
   ]
  },
  {
   "cell_type": "markdown",
   "metadata": {},
   "source": [
    "Now let's check for different starting cities:"
   ]
  },
  {
   "cell_type": "code",
   "execution_count": null,
   "metadata": {},
   "outputs": [],
   "source": [
    "shortest(start = \"istanbul\")\n",
    "shortest(start = \"ankara\")"
   ]
  },
  {
   "cell_type": "markdown",
   "metadata": {},
   "source": [
    "Note that, total distance differs for the starting city. So for the optimal solution, we should also find the optimal starting city, along with the optimal path for a given starting city"
   ]
  },
  {
   "cell_type": "markdown",
   "metadata": {},
   "source": [
    "**Exercise 2:**\n",
    "\n",
    "What if we try the function for all possible starting cities as such (fill in ... part):\n",
    "\n",
    "```R\n",
    "alternatives <- lapply(cities, function(x) ...)\n",
    "```"
   ]
  },
  {
   "cell_type": "markdown",
   "metadata": {},
   "source": [
    "**Solution 2:**"
   ]
  },
  {
   "cell_type": "code",
   "execution_count": null,
   "metadata": {},
   "outputs": [],
   "source": [
    "alternatives <- lapply(cities, function(x) shortest(cities, x))"
   ]
  },
  {
   "cell_type": "markdown",
   "metadata": {},
   "source": [
    "Now we list the optimal paths for all alternative starting cities:"
   ]
  },
  {
   "cell_type": "code",
   "execution_count": null,
   "metadata": {},
   "outputs": [],
   "source": [
    "alternatives"
   ]
  },
  {
   "cell_type": "markdown",
   "metadata": {},
   "source": [
    "**Exercise 3:**\n",
    "\n",
    "Now let's choose the shortest one programmatically as such:\n",
    "\n",
    "```R\n",
    "dist1 <- sapply(alternatives, ...)\n",
    "alternatives[[...]]\n",
    "\n",
    "[[1]]\n",
    "[1] 2219\n",
    "\n",
    "[[2]]\n",
    "[1] \"mugla\"    \"istanbul\" \"ankara\"   \"adana\"    \"van\"      \"artvin\"\n",
    "```"
   ]
  },
  {
   "cell_type": "markdown",
   "metadata": {},
   "source": [
    "**Solution 3:**"
   ]
  },
  {
   "cell_type": "code",
   "execution_count": null,
   "metadata": {},
   "outputs": [],
   "source": [
    "dist1 <- sapply(alternatives, \"[[\", 1)\n",
    "dist1\n",
    "alternatives[[which.min(dist1)]]"
   ]
  },
  {
   "cell_type": "markdown",
   "metadata": {},
   "source": [
    "For a given vector of n cities, we just construct and test n permutations. Now let's compare with the brute force or exhaustive approach"
   ]
  },
  {
   "cell_type": "markdown",
   "metadata": {},
   "source": [
    "## BRUTE FORCE APPROACH"
   ]
  },
  {
   "cell_type": "markdown",
   "metadata": {},
   "source": [
    "For a given vector of size n, following implementation of mine creates all n! distinct permutations as a matrix: "
   ]
  },
  {
   "cell_type": "code",
   "execution_count": null,
   "metadata": {},
   "outputs": [],
   "source": [
    "perms <- function(vec = 1:5, carry = NULL)\n",
    "{\n",
    "    if (length(vec) == 1)\n",
    "    {\n",
    "        return(c(carry, vec))\n",
    "    }\n",
    "    else\n",
    "    {\n",
    "        listx <- lapply(vec, function(x) perms(setdiff(vec, x), c(carry, x)))\n",
    "        return(do.call(rbind, listx))\n",
    "    }\n",
    "}"
   ]
  },
  {
   "cell_type": "markdown",
   "metadata": {},
   "source": [
    "Note that my implementation is identical in terms of the algorithm to this one in stackoverflow that I saw ater:\n",
    "\n",
    "https://stackoverflow.com/a/29023189\n",
    "\n",
    "As the proverb goes: \"Aklın yolu birdir\""
   ]
  },
  {
   "cell_type": "markdown",
   "metadata": {},
   "source": [
    "Check the number of permutations and some of them:"
   ]
  },
  {
   "cell_type": "code",
   "execution_count": null,
   "metadata": {},
   "outputs": [],
   "source": [
    "dim(perms(1:5))\n",
    "head(perms(1:5))"
   ]
  },
  {
   "cell_type": "markdown",
   "metadata": {},
   "source": [
    "Now another efficient and expressive implementation of the previous take me home question: The total distance of a path of cities"
   ]
  },
  {
   "cell_type": "code",
   "execution_count": null,
   "metadata": {},
   "outputs": [],
   "source": [
    "distancex <- function(path = cities, dist = distance2)\n",
    "{\n",
    "    mat <- cbind(path[-length(path)], path[-1])\n",
    "    sum(distance2[mat])\n",
    "}"
   ]
  },
  {
   "cell_type": "markdown",
   "metadata": {},
   "source": [
    "The idea here is that, to subset non-contiguous cells of a matrix of any size, subset it with a two column matrix in which:\n",
    "- first column shows the row indices (or colnames) of the cells\n",
    "- second column shows the column indices (or rownames) of the cells"
   ]
  },
  {
   "cell_type": "markdown",
   "metadata": {},
   "source": [
    "For the original order of the cities the total distance is:"
   ]
  },
  {
   "cell_type": "code",
   "execution_count": null,
   "metadata": {},
   "outputs": [],
   "source": [
    "distancex(cities)"
   ]
  },
  {
   "cell_type": "markdown",
   "metadata": {},
   "source": [
    "Now let's generate all 6! = 720 distinct permutations of the six cities in our vector:"
   ]
  },
  {
   "cell_type": "code",
   "execution_count": null,
   "metadata": {},
   "outputs": [],
   "source": [
    "permsx <- perms(cities)\n",
    "dim(permsx)\n",
    "head(permsx)"
   ]
  },
  {
   "cell_type": "markdown",
   "metadata": {},
   "source": [
    "**Exercise 4:**\n",
    "\n",
    "Using apply(), distancex(), min() and which.min() functions and permsx matrix, find the distances of all permutations, and select the shortest distance and the path\n",
    "\n",
    "Is the solution same as the one we found in the greedy approach?"
   ]
  },
  {
   "cell_type": "markdown",
   "metadata": {},
   "source": [
    "**Solution 4:**"
   ]
  },
  {
   "cell_type": "code",
   "execution_count": null,
   "metadata": {},
   "outputs": [],
   "source": [
    "distx <- apply(permsx, 1, distancex)\n",
    "min(distx)\n",
    "permsx[which.min(distx),]"
   ]
  },
  {
   "cell_type": "markdown",
   "metadata": {},
   "source": [
    "Trying 6 versus 720 paths! Greedy approach shines in longer paths"
   ]
  }
 ],
 "metadata": {
  "kernelspec": {
   "display_name": "R",
   "language": "R",
   "name": "ir"
  },
  "language_info": {
   "codemirror_mode": "r",
   "file_extension": ".r",
   "mimetype": "text/x-r-source",
   "name": "R",
   "pygments_lexer": "r",
   "version": "3.6.0"
  },
  "toc": {
   "base_numbering": 1,
   "nav_menu": {},
   "number_sections": true,
   "sideBar": true,
   "skip_h1_title": false,
   "title_cell": "Table of Contents",
   "title_sidebar": "Contents",
   "toc_cell": false,
   "toc_position": {},
   "toc_section_display": "block",
   "toc_window_display": false
  }
 },
 "nbformat": 4,
 "nbformat_minor": 2
}
