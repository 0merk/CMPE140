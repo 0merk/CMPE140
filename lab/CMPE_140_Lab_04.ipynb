{
 "cells": [
  {
   "cell_type": "markdown",
   "metadata": {},
   "source": [
    "# QUIZ1 - Section 1"
   ]
  },
  {
   "cell_type": "markdown",
   "metadata": {},
   "source": [
    "### Question 1"
   ]
  },
  {
   "cell_type": "markdown",
   "metadata": {},
   "source": [
    "Set seed to 9\n",
    "Create two vectors (vector_x, vector_y) of random integers which are chosen with replacemens from the integers 0,2, 4,...,200. Length of the vectors is 20."
   ]
  },
  {
   "cell_type": "code",
   "execution_count": null,
   "metadata": {
    "collapsed": true
   },
   "outputs": [],
   "source": [
    "set.seed(9)\n",
    "vector_x <- sample(seq(0, 200, 2), 20, replace= TRUE)\n",
    "vector_y <- sample(seq(0, 200, 2), 20, replace= TRUE)"
   ]
  },
  {
   "cell_type": "code",
   "execution_count": null,
   "metadata": {},
   "outputs": [],
   "source": [
    "vector_x\n",
    "vector_y"
   ]
  },
  {
   "cell_type": "markdown",
   "metadata": {},
   "source": [
    "Suppose X = (x1, x2, . . . , xn) denotes the **vector_x**\n",
    "\n",
    "Y = (y1, y2, . . . , yn) denotes the **vector_y**. \n",
    "\n",
    "Create the vector **vector_res** = (y2 − x1, y3 - x2, ..., yn − xn−1)."
   ]
  },
  {
   "cell_type": "code",
   "execution_count": null,
   "metadata": {
    "collapsed": true
   },
   "outputs": [],
   "source": [
    "vector_res <- vector_y[2:20] - vector_x[1:19]"
   ]
  },
  {
   "cell_type": "code",
   "execution_count": null,
   "metadata": {
    "scrolled": true
   },
   "outputs": [],
   "source": [
    "vector_res"
   ]
  },
  {
   "cell_type": "markdown",
   "metadata": {},
   "source": [
    "### Question 2"
   ]
  },
  {
   "cell_type": "markdown",
   "metadata": {},
   "source": [
    "Create a variable named **big_num** and assign the number of elements in vector_x which are bigger than 35."
   ]
  },
  {
   "cell_type": "code",
   "execution_count": null,
   "metadata": {
    "scrolled": true
   },
   "outputs": [],
   "source": [
    "big_num1 <- length(vector_x[vector_x > 35])\n",
    "#or\n",
    "big_num2 <- sum(vector_x > 35)\n",
    "big_num1\n",
    "big_num2"
   ]
  },
  {
   "cell_type": "markdown",
   "metadata": {},
   "source": [
    "### Question 3"
   ]
  },
  {
   "cell_type": "markdown",
   "metadata": {},
   "source": [
    "Create a vector named **sorted_y** which has the values of vector_y in increasing order"
   ]
  },
  {
   "cell_type": "code",
   "execution_count": null,
   "metadata": {},
   "outputs": [],
   "source": [
    "sorted_y <- sort(vector_y, decreasing = FALSE)\n",
    "sorted_y"
   ]
  },
  {
   "cell_type": "markdown",
   "metadata": {},
   "source": [
    "### Question 4"
   ]
  },
  {
   "cell_type": "markdown",
   "metadata": {},
   "source": [
    "Plot vector_x and vector_y vectors, \n",
    "\n",
    "    assign x-axis as \"vector_x\",  \n",
    "    y-axis as \"vector_y\"\n",
    "    title as \"Plot is boring\" \n",
    "    illustrate the dots in blue."
   ]
  },
  {
   "cell_type": "code",
   "execution_count": null,
   "metadata": {},
   "outputs": [],
   "source": [
    "plot(vector_x, vector_y, col=\"blue\", xlab=\"vector_x\", ylab=\"vector_y\")\n",
    "title(\"Plot is boring\")"
   ]
  },
  {
   "cell_type": "markdown",
   "metadata": {},
   "source": [
    "# QUIZ 1 - Section 2"
   ]
  },
  {
   "cell_type": "markdown",
   "metadata": {},
   "source": [
    "### Question 1"
   ]
  },
  {
   "cell_type": "markdown",
   "metadata": {},
   "source": [
    "Set seed to 9.\n",
    "Create two vectors (vector_x, vector_y) of random integers which are chosen without replacemens from the integers 1, 3,...,300. Length of the vectors is 30."
   ]
  },
  {
   "cell_type": "code",
   "execution_count": null,
   "metadata": {},
   "outputs": [],
   "source": [
    "set.seed(9)\n",
    "vector_x <- sample(seq(1, 300, 2), 30)\n",
    "vector_y <- sample(seq(1, 300, 2), 30)\n",
    "vector_x\n",
    "vector_y"
   ]
  },
  {
   "cell_type": "markdown",
   "metadata": {},
   "source": [
    "Suppose X = (x1, x2, . . . , xn) denotes the **vector_x**.\n",
    "\n",
    "Y = (y1, y2, . . . , yn) denotes the **vector_y**.\n",
    "\n",
    "Create the vector **vector_res** = (y1 * 2 -  x2, . . . , yn-1 * 2 - (xn))."
   ]
  },
  {
   "cell_type": "code",
   "execution_count": null,
   "metadata": {},
   "outputs": [],
   "source": [
    "vector_res <- (vector_y[1:29]*2) - (vector_x[2:30])\n",
    "vector_res"
   ]
  },
  {
   "cell_type": "markdown",
   "metadata": {},
   "source": [
    "### Question 2"
   ]
  },
  {
   "cell_type": "markdown",
   "metadata": {},
   "source": [
    "Create a vector named **ordered_y** which has the values of vector_y in increasing order"
   ]
  },
  {
   "cell_type": "code",
   "execution_count": null,
   "metadata": {},
   "outputs": [],
   "source": [
    "ordered_y <- order(vector_y, decreasing=FALSE)\n",
    "ordered_y"
   ]
  },
  {
   "cell_type": "markdown",
   "metadata": {},
   "source": [
    "### Question 3"
   ]
  },
  {
   "cell_type": "markdown",
   "metadata": {},
   "source": [
    "Create a variable named **updated_x** and add value of 5 to the elements which are > 100"
   ]
  },
  {
   "cell_type": "code",
   "execution_count": null,
   "metadata": {},
   "outputs": [],
   "source": [
    "updated_x <- vector_x\n",
    "updated_x[updated_x > 100] <- updated_x[updated_x > 100] + 5\n",
    "updated_x"
   ]
  },
  {
   "cell_type": "markdown",
   "metadata": {},
   "source": [
    "### Question 4"
   ]
  },
  {
   "cell_type": "markdown",
   "metadata": {},
   "source": [
    "Plot the histogram of vector_x, \n",
    "\n",
    "    assign x-axis as \"vector_x\",\n",
    "    title as \"Histogram is Fun\" \n",
    "    illustrate the dots in green."
   ]
  },
  {
   "cell_type": "code",
   "execution_count": null,
   "metadata": {},
   "outputs": [],
   "source": [
    "hist(vector_x, col=\"green\", xlab=\"vector_x\", main=\"Histogram is Fun\")"
   ]
  },
  {
   "cell_type": "markdown",
   "metadata": {},
   "source": [
    "# FUNCTIONS"
   ]
  },
  {
   "cell_type": "markdown",
   "metadata": {},
   "source": [
    "### Create a function named cmpe to write \"Programming is awesome!\""
   ]
  },
  {
   "cell_type": "code",
   "execution_count": null,
   "metadata": {
    "collapsed": true
   },
   "outputs": [],
   "source": [
    "cmpe <- function()\n",
    "{\n",
    "  return(\"Programming is awesome\")  \n",
    "}"
   ]
  },
  {
   "cell_type": "code",
   "execution_count": null,
   "metadata": {},
   "outputs": [],
   "source": [
    "cmpe"
   ]
  },
  {
   "cell_type": "code",
   "execution_count": null,
   "metadata": {},
   "outputs": [],
   "source": [
    "cmpe()"
   ]
  },
  {
   "cell_type": "code",
   "execution_count": null,
   "metadata": {},
   "outputs": [],
   "source": [
    "b <- cmpe()\n",
    "b"
   ]
  },
  {
   "cell_type": "markdown",
   "metadata": {},
   "source": [
    "### Turn cmpe to a function that divides numbers."
   ]
  },
  {
   "cell_type": "code",
   "execution_count": null,
   "metadata": {
    "collapsed": true
   },
   "outputs": [],
   "source": [
    "cmpe <- function(a, b)\n",
    "{\n",
    "    return(a / b)\n",
    "}"
   ]
  },
  {
   "cell_type": "code",
   "execution_count": null,
   "metadata": {},
   "outputs": [],
   "source": [
    "cmpe(4, 400)"
   ]
  },
  {
   "cell_type": "code",
   "execution_count": null,
   "metadata": {},
   "outputs": [],
   "source": [
    "cmpe(4, )\n",
    "#We did not define default values!"
   ]
  },
  {
   "cell_type": "code",
   "execution_count": null,
   "metadata": {},
   "outputs": [],
   "source": [
    "cmpe <- function(a=3, b)\n",
    "{\n",
    "    return(a / b)\n",
    "}\n",
    "cmpe(, 9)\n",
    "cmpe(5, 9)"
   ]
  },
  {
   "cell_type": "markdown",
   "metadata": {},
   "source": [
    "### Help students to calculate hypotenuse by creating a function named hypotenuse."
   ]
  },
  {
   "cell_type": "code",
   "execution_count": null,
   "metadata": {
    "collapsed": true
   },
   "outputs": [],
   "source": [
    "hypotenuse <- function(x, y)\n",
    "{\n",
    "    h <- sqrt(x^2 + y^2)\n",
    "    return(h)\n",
    "}"
   ]
  },
  {
   "cell_type": "code",
   "execution_count": null,
   "metadata": {},
   "outputs": [],
   "source": [
    "hypotenuse(3, 4)"
   ]
  },
  {
   "cell_type": "markdown",
   "metadata": {},
   "source": [
    "### Create a normally distributed sample of gas cost per km for 5 cars, with a mean of 0.48 and standard deviation of 0.2 TL , set seed to 73.\n",
    "\n",
    "### Create a function to calculate their costs for a 430-km road."
   ]
  },
  {
   "cell_type": "code",
   "execution_count": null,
   "metadata": {},
   "outputs": [],
   "source": [
    "set.seed(73)\n",
    "cost_km <- rnorm(5, 0.48, 0.2)\n",
    "\n",
    "cost <- function(x)\n",
    "{\n",
    "    return(x * 430)\n",
    "}\n",
    "cost(cost_km)"
   ]
  },
  {
   "cell_type": "markdown",
   "metadata": {},
   "source": [
    "### Write a function that takes a temperature measurement in degrees Fahrenheit, and returns the equivalent value in degrees Celsius."
   ]
  },
  {
   "cell_type": "code",
   "execution_count": null,
   "metadata": {},
   "outputs": [],
   "source": [
    "FtoC <- function(fah)\n",
    "{\n",
    "    cel <- (fah - 32) / 1.8\n",
    "    return(cel)\n",
    "}\n",
    "FtoC (451)"
   ]
  },
  {
   "cell_type": "markdown",
   "metadata": {},
   "source": [
    "### Try to return both Fahrenheit and Celcius degrees"
   ]
  },
  {
   "cell_type": "code",
   "execution_count": null,
   "metadata": {},
   "outputs": [],
   "source": [
    "temp <- function(fah)\n",
    "{\n",
    "    cel <- (fah - 32) / 1.8\n",
    "    return(c(cel, fah))\n",
    "}\n",
    "temp(451)"
   ]
  },
  {
   "cell_type": "markdown",
   "metadata": {},
   "source": [
    "### Create a vector named \"heights\" contains 7 values, from 1.6 meters to 1.82\n",
    "### Create a vector named \"weights\" contains 7 values, from 45 to 90.\n",
    "### Create a function to calculate body-mass index."
   ]
  },
  {
   "cell_type": "code",
   "execution_count": null,
   "metadata": {
    "collapsed": true
   },
   "outputs": [],
   "source": [
    "heights <-  seq(1.6, 1.82, length.out = 7)\n",
    "weights <-  seq(45, 90, length.out = 7)"
   ]
  },
  {
   "cell_type": "code",
   "execution_count": null,
   "metadata": {
    "collapsed": true
   },
   "outputs": [],
   "source": [
    "body_mass_index <- function(height, weight)\n",
    "{\n",
    "    body_mass <- weight / height^2\n",
    "    return(body_mass)\n",
    "}"
   ]
  },
  {
   "cell_type": "code",
   "execution_count": null,
   "metadata": {},
   "outputs": [],
   "source": [
    "body_mass_index(heights, weights)"
   ]
  },
  {
   "cell_type": "markdown",
   "metadata": {},
   "source": [
    "### Create a function to calculate break even point as unit price changes. Fixed cost is 100 TL and variable cost per unit is 1.4 TL."
   ]
  },
  {
   "cell_type": "code",
   "execution_count": null,
   "metadata": {
    "collapsed": true
   },
   "outputs": [],
   "source": [
    "BEP <- function(p)\n",
    "{\n",
    "    vc <- 1.4\n",
    "    fc <- 100\n",
    "    q <- fc / (p - vc)\n",
    "    return(q)\n",
    "}"
   ]
  },
  {
   "cell_type": "code",
   "execution_count": null,
   "metadata": {},
   "outputs": [],
   "source": [
    "BEP(15)\n",
    "BEP(30)"
   ]
  },
  {
   "cell_type": "code",
   "execution_count": null,
   "metadata": {
    "collapsed": true
   },
   "outputs": [],
   "source": [
    "BEP_2 <- function(p, vc=1.4 , fc=100)\n",
    "{\n",
    "    q <- fc / (p - vc)\n",
    "    return(q)\n",
    "}"
   ]
  },
  {
   "cell_type": "code",
   "execution_count": null,
   "metadata": {},
   "outputs": [],
   "source": [
    "BEP_2(15)\n",
    "BEP_2(15, fc=120)"
   ]
  },
  {
   "cell_type": "markdown",
   "metadata": {},
   "source": [
    "### Create a function to calculate coefficient of variation for weights, heights and cost_km vectors that we created before."
   ]
  },
  {
   "cell_type": "code",
   "execution_count": null,
   "metadata": {},
   "outputs": [],
   "source": [
    "coef_var <- function(x)\n",
    "{\n",
    "    return(sd(x) / mean(x))\n",
    "}\n",
    "coef_var(weights)\n",
    "coef_var(heights)\n",
    "coef_var(cost_km)"
   ]
  },
  {
   "cell_type": "code",
   "execution_count": null,
   "metadata": {
    "collapsed": true
   },
   "outputs": [],
   "source": []
  }
 ],
 "metadata": {
  "kernelspec": {
   "display_name": "R",
   "language": "R",
   "name": "ir"
  },
  "language_info": {
   "codemirror_mode": "r",
   "file_extension": ".r",
   "mimetype": "text/x-r-source",
   "name": "R",
   "pygments_lexer": "r",
   "version": "3.4.3"
  }
 },
 "nbformat": 4,
 "nbformat_minor": 2
}
