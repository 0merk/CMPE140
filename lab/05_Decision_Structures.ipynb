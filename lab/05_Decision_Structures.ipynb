{
 "cells": [
  {
   "cell_type": "code",
   "execution_count": null,
   "metadata": {},
   "outputs": [],
   "source": [
    "options(jupyter.rich_display = F)"
   ]
  },
  {
   "cell_type": "markdown",
   "metadata": {},
   "source": [
    "# LAB 05: Decision Structure\n",
    "\n",
    "Questions by **İpek Özdemir, Ömer Erhan Erbiş, Saadet Zeynep Çilingir and Yusuf Dik.**\n",
    "\n",
    "Edited by **Bengü Nur Özdemir and Serhat Çevikel**"
   ]
  },
  {
   "cell_type": "markdown",
   "metadata": {
    "slideshow": {
     "slide_type": "slide"
    }
   },
   "source": [
    "## Temperature"
   ]
  },
  {
   "cell_type": "markdown",
   "metadata": {
    "slideshow": {
     "slide_type": "slide"
    },
    "solution2": "hidden",
    "solution2_first": true
   },
   "source": [
    "Lets create a function called **temperature** that takes a vector which includes daily temperatures of a week as input.\n",
    "\n",
    "A sample input vector can be as such:\n",
    "\n",
    "```R\n",
    "set.seed(2000)\n",
    "temps <- rnorm(7, 18, 12)\n",
    "temps\n",
    "\n",
    "[1]  7.753881 13.765327 28.681794 38.895441 28.992940  3.880783 -5.261258\n",
    "```\n",
    "\n",
    "If there are at least 3 days above 15 degrees, it should return \"warm week\" and the average temperature with two decimal digits, as a single line.\n",
    "\n",
    "Otherwise, it should return \"cold week\" and the average temperature with two decimal digits, as a single line, as such:\n",
    "\n",
    "```R\n",
    "temperature(temps)\n",
    "\n",
    "[1] \"warm week 16.67\"\n",
    "```\n",
    "\n",
    "**Hint:** You can make use of ``paste()`` and ``round()`` functions"
   ]
  },
  {
   "cell_type": "markdown",
   "metadata": {
    "solution2": "hidden"
   },
   "source": [
    "**Solution:**"
   ]
  },
  {
   "cell_type": "code",
   "execution_count": null,
   "metadata": {
    "slideshow": {
     "slide_type": "fragment"
    },
    "solution2": "hidden"
   },
   "outputs": [],
   "source": [
    "set.seed(2000)\n",
    "temps <- rnorm(7, 18, 12)\n",
    "temps\n",
    "\n",
    "temperature <- function(vec)\n",
    "{\n",
    "    #hot_days <- length(vec[vec > 15])\n",
    "    hot_days <- sum(vec > 15)\n",
    "    \n",
    "    avg_temp <- mean(vec)\n",
    "\n",
    "    if (hot_days >= 3)    \n",
    "    {\n",
    "        return(paste(\"warm week\", round(avg_temp, 2)))\n",
    "    }\n",
    "    else\n",
    "    {\n",
    "        return(paste(\"cold week\", round(avg_temp, 2)))\n",
    "    }\n",
    "}\n",
    "\n",
    "temperature(temps)"
   ]
  },
  {
   "cell_type": "markdown",
   "metadata": {},
   "source": [
    "## Job Application"
   ]
  },
  {
   "cell_type": "markdown",
   "metadata": {
    "solution2": "hidden",
    "solution2_first": true
   },
   "source": [
    "A company employs only people older than 27 and whose CV scores are greater than 80. She rejects other applications. Create a function named **company**.\n",
    "\n",
    "This function takes two integer arguments, first one is **age** and the other is **cv_score**.\n",
    "\n",
    "If **age** and **cv_score** satisfy the company's criteria, it returns \"YOU ARE ACCEPTED.\";\n",
    "\n",
    "else it returns \"YOU ARE REJECTED DUE TO INSUFFICIENT SCORE\" or \"REJECTED DUE TO YOUNG AGE\" as such:\n",
    "\n",
    "```R\n",
    "company(29, 78)\n",
    "company(15, 78)\n",
    "company(15, 83)\n",
    "company(30, 82)\n",
    "\n",
    "[1] \"YOU ARE REJECTED DUE TO INSUFFICIENT SCORE\"\n",
    "[1] \"REJECTED DUE TO YOUNG AGE\"\n",
    "[1] \"REJECTED DUE TO YOUNG AGE\"\n",
    "[1] \"YOU ARE ACCEPTED.\"\n",
    "\n",
    "```\n",
    "\n",
    "[comment]: <> (**Note: First condition should check age, and the second [nested] one should check the cv_score**)"
   ]
  },
  {
   "cell_type": "markdown",
   "metadata": {
    "solution2": "hidden"
   },
   "source": [
    "**Solution:**"
   ]
  },
  {
   "cell_type": "code",
   "execution_count": null,
   "metadata": {
    "solution2": "hidden"
   },
   "outputs": [],
   "source": [
    "company <- function(age, cv_score)\n",
    "{\n",
    "    if (age > 27)\n",
    "    {\n",
    "        if (cv_score > 80)\n",
    "        {\n",
    "            return(\"YOU ARE ACCEPTED.\")\n",
    "        }\n",
    "        else\n",
    "        {\n",
    "            return(\"YOU ARE REJECTED DUE TO INSUFFICIENT SCORE\")\n",
    "        }\n",
    "    }\n",
    "    else\n",
    "    {\n",
    "            return(\"REJECTED DUE TO YOUNG AGE\")\n",
    "    }\n",
    "}  \n",
    "\n",
    "company(29, 78)\n",
    "company(15, 78)\n",
    "company(15, 83)\n",
    "company(30, 82)"
   ]
  },
  {
   "cell_type": "markdown",
   "metadata": {
    "slideshow": {
     "slide_type": "slide"
    }
   },
   "source": [
    "## Fee Calculator"
   ]
  },
  {
   "cell_type": "markdown",
   "metadata": {
    "slideshow": {
     "slide_type": "slide"
    },
    "solution2": "hidden",
    "solution2_first": true
   },
   "source": [
    "Lets create a function called **fee_calculator** that takes age and base with a default value of 2.60.\n",
    "\n",
    "For people:\n",
    "\n",
    "1. whose ages are less than or equal to 25, the function must return the 70% of the base.\n",
    "\n",
    "2. whose ages are between 25 and 60, the function must return the default base.\n",
    "\n",
    "3. whose ages are equal to or larger than 60, it has to be free of charge, as such:\n",
    "\n",
    "```R\n",
    "fee_calculator(23, 10)\n",
    "fee_calculator(27)\n",
    "fee_calculator(80, 5)\n",
    "\n",
    "[1] 7\n",
    "[1] 2.6\n",
    "[1] 0\n",
    "\n",
    "```"
   ]
  },
  {
   "cell_type": "markdown",
   "metadata": {
    "solution2": "hidden"
   },
   "source": [
    "**Solution:**"
   ]
  },
  {
   "cell_type": "code",
   "execution_count": null,
   "metadata": {
    "slideshow": {
     "slide_type": "fragment"
    },
    "solution2": "hidden"
   },
   "outputs": [],
   "source": [
    "fee_calculator <- function(age, base = 2.60)\n",
    "{\n",
    "    if(age <= 25)\n",
    "    {\n",
    "        fee <- base * 0.7\n",
    "    }\n",
    "    else\n",
    "    {\n",
    "        if(age < 60)\n",
    "        {\n",
    "            fee <- base * 1\n",
    "        }\n",
    "        else\n",
    "        {\n",
    "            fee <- 0\n",
    "        }\n",
    "    }\n",
    "    \n",
    "    return(fee)\n",
    "}\n",
    "\n",
    "fee_calculator(29, 10)\n",
    "fee_calculator(27)\n",
    "fee_calculator(80, 5)"
   ]
  },
  {
   "cell_type": "markdown",
   "metadata": {},
   "source": [
    "## Grading"
   ]
  },
  {
   "cell_type": "markdown",
   "metadata": {
    "solution2": "hidden",
    "solution2_first": true
   },
   "source": [
    "- The notes of the students are as follows: ahmet = (42, 64, 85), yigit = (89, 92, 100), ece = (72, 65, 80), eda = (51, 48, 50), aykut = (82, 65, 90). Assign their grades to their names.\n",
    "\n",
    "\n",
    "- The grade of a course is calculated as follows: mt1 20%, mt2 30%, assignments 15%, final 35%.\n",
    "\n",
    "In order to take the final exam (and pass the course), your midterm grades should be at least 112 in total (that will be the first condition).\n",
    "\n",
    "Considering that the students who are able to take the final exam all get a perfect fourth score of 100, and people with an overall score above or equal to 90 get a letter grade 'AA' (that will be the second \"nested\" condition), write a function 'got_AA' that takes a 'grades' vector as argument and returns either 'AA', 'pass' or 'fail'.\n",
    "\n",
    "\n",
    "[comment]: <> (**Note that, for those who satisfiy the first condition, you can create a vector of weights, append the 100 score to the end of other scores and make a vectorized calculation of the overall weighted score**)\n",
    "\n",
    "- Check each student whether they got an 'AA' as such:\n",
    "\n",
    "```R\n",
    "got_AA(ahmet)\n",
    "got_AA(yigit)\n",
    "got_AA(ece)\n",
    "got_AA(eda)\n",
    "got_AA(aykut)\n",
    "\n",
    "[1] \"fail\"\n",
    "[1] \"AA\"\n",
    "[1] \"pass\"\n",
    "[1] \"fail\"\n",
    "[1] \"pass\"\n",
    "```"
   ]
  },
  {
   "cell_type": "markdown",
   "metadata": {
    "solution2": "hidden"
   },
   "source": [
    "**Solution:**"
   ]
  },
  {
   "cell_type": "code",
   "execution_count": null,
   "metadata": {
    "solution2": "hidden"
   },
   "outputs": [],
   "source": [
    "#1\n",
    "ahmet <- c(42, 64, 85)\n",
    "yigit <- c(89, 92, 100)\n",
    "ece <- c(72, 65, 80)\n",
    "eda <- c(51, 48, 50)\n",
    "aykut <- c(82, 65, 90)\n",
    "\n",
    "#2\n",
    "got_AA <- function(grades)\n",
    "{\n",
    "    weights <- c(0.2, 0.3, 0.15, 0.35)\n",
    "    if (sum(grades[1:2]) >= 112)\n",
    "    {\n",
    "        overall <- sum(c(grades, 100) * weights)\n",
    "        if (overall >= 90)\n",
    "        {\n",
    "            return('AA')\n",
    "        }\n",
    "        else\n",
    "        {\n",
    "            return('pass')\n",
    "        }\n",
    "    }\n",
    "    else\n",
    "    {\n",
    "        return('fail')\n",
    "    }\n",
    "}\n",
    "\n",
    "#3\n",
    "got_AA(ahmet)\n",
    "got_AA(yigit)\n",
    "got_AA(ece)\n",
    "got_AA(eda)\n",
    "got_AA(aykut)"
   ]
  }
 ],
 "metadata": {
  "kernelspec": {
   "display_name": "R",
   "language": "R",
   "name": "ir"
  },
  "language_info": {
   "codemirror_mode": "r",
   "file_extension": ".r",
   "mimetype": "text/x-r-source",
   "name": "R",
   "pygments_lexer": "r",
   "version": "3.5.2"
  },
  "toc": {
   "nav_menu": {},
   "number_sections": true,
   "sideBar": true,
   "skip_h1_title": false,
   "title_cell": "Table of Contents",
   "title_sidebar": "Contents",
   "toc_cell": false,
   "toc_position": {
    "height": "calc(100% - 180px)",
    "left": "10px",
    "top": "150px",
    "width": "275px"
   },
   "toc_section_display": "block",
   "toc_window_display": true
  },
  "varInspector": {
   "cols": {
    "lenName": 16,
    "lenType": 16,
    "lenVar": 40
   },
   "kernels_config": {
    "python": {
     "delete_cmd_postfix": "",
     "delete_cmd_prefix": "del ",
     "library": "var_list.py",
     "varRefreshCmd": "print(var_dic_list())"
    },
    "r": {
     "delete_cmd_postfix": ") ",
     "delete_cmd_prefix": "rm(",
     "library": "var_list.r",
     "varRefreshCmd": "cat(var_dic_list()) "
    }
   },
   "types_to_exclude": [
    "module",
    "function",
    "builtin_function_or_method",
    "instance",
    "_Feature"
   ],
   "window_display": false
  }
 },
 "nbformat": 4,
 "nbformat_minor": 2
}
