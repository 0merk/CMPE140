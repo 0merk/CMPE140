{
 "cells": [
  {
   "cell_type": "code",
   "execution_count": null,
   "metadata": {},
   "outputs": [],
   "source": [
    "options(jupyter.rich_display = FALSE)"
   ]
  },
  {
   "cell_type": "markdown",
   "metadata": {},
   "source": [
    "# ATATURK'S ADDRESS TO YOUTH\n",
    "\n",
    "**By Serhat Çevikel**"
   ]
  },
  {
   "cell_type": "markdown",
   "metadata": {},
   "source": [
    "Mustafa Kemal Atatürk\\* read his \"Grand Speech\" between 15-20 October 1927 in 36 hours in the meeting room of the Turkish General Assembly.\n",
    "\n",
    "The Speech chronicles all events starting from 19 May 1919 until that day, including and mostly focusing on Turkish War of Independence.\n",
    "\n",
    "You can read the whole Speech online at:\n",
    "https://tr.wikisource.org/wiki/Nutuk\n",
    "\n",
    "\n",
    "The whole Speech is divided into 19 sections and the ending 19th section goes as follows:\n",
    "\n",
    "\n",
    "\n",
    "*\\* The General Assembly gave Mustafa Kemal Paşa \"Atatürk\" surname in 1934 so at the time of the Speech, he did not have Atatürk surname*"
   ]
  },
  {
   "cell_type": "markdown",
   "metadata": {},
   "source": [
    "*Muhterem Efendiler, sizi günlerce işgal eden, uzun ve teferruatlı beyânâtım, en nihayet mazi olmuş bir devrin hikâyesidir. Bunda, milletim için ve müstakbel evlâdlarımız için dikkat ve teyakkuzu davet edebilecek bazı noktalar tebârüz ettirebilmiş isem, kendimi bahtiyar addedeceğim.*\n",
    "\n",
    "*Efendiler, bu beyânâtımla, millî hayatı hitam bulmuş farzedilen büyük bir milletin, istiklâlini nasıl kazandığını ve ilim ve fennin en son esaslarına müstenid, millî ve asri bir devleti nasıl kurduğunu ifadeye çalıştım.*\n",
    "\n",
    "*Bugün vâsıl olduğumuz netice, asırlardan beri çekilen millî musîbetlerin intibâhı ve bu aziz vatanın her köşesini sulayan kanların bedelidir.*\n",
    "\n",
    "*Bu neticeyi, Türk gençliğine emanet ediyorum.*"
   ]
  },
  {
   "cell_type": "markdown",
   "metadata": {},
   "source": [
    "And he read the great final, the ADDRESS TO YOUTH, which every single person of this country should memorize by heart."
   ]
  },
  {
   "cell_type": "markdown",
   "metadata": {},
   "source": [
    "This most important testament of Atatürk was performed by great voice-over artist Nur Subaşı who recently deceased in 2018:\n",
    "\n",
    "[![x](http://img.youtube.com/vi/JqcWxk-NBxU/0.jpg)](https://youtu.be/JqcWxk-NBxU?list=PLrxYDJ3lrH7omUow_X3er0roggIR6wFsv&t=9616)"
   ]
  },
  {
   "cell_type": "markdown",
   "metadata": {},
   "source": [
    "In original Turkish:"
   ]
  },
  {
   "cell_type": "markdown",
   "metadata": {},
   "source": [
    "*Ey Türk gençliği!*\n",
    "\n",
    "*Birinci vazifen, Türk istiklâlini, Türk cumhuriyetini, ilelebed muhafaza ve müdafaa etmektir.*\n",
    "\n",
    "*Mevcudiyetinin ve istikbâlinin yegâne temeli budur. Bu temel, senin en kıymetli hazinendir. İstikbâlde dahi seni, bu hazineden mahrum etmek isteyecek, dahili ve harici bedhahların olacaktır. Bir gün, istiklâl ve cumhuriyeti müdafaa mecburiyetine düşersen, vazifeye atılmak için, içinde bulunacağın vaziyetin imkân ve şerâitini düşünmeyeceksin! Bu imkân ve şerâit, çok nâmüsait bir mahiyette tezâhür edebilir. İstiklâl ve cumhuriyetine kastedecek düşmanlar, bütün dünyada emsali görülmemiş bir galibiyetin mümessili olabilirler. Cebren ve hile ile aziz vatanın bütün kaleleri zapt edilmiş, bütün tersanelerine girilmiş, bütün orduları dağıtılmış ve memleketin her köşesi bi'l-fiil işgal edilmiş olabilir. Bütün bu şerâitten daha elîm ve daha vahîm olmak üzere, memleketin dahilinde iktidara sahip olanlar, gaflet ve dalâlet ve hatta hıyanet içinde bulunabilirler. Hatta bu iktidar sahipleri şahsî menfaatlerini, müstevlîlerin siyasi emelleriyle tevhit edebilirler. Millet, fakr ü zaruret içinde harap ve bitap düşmüş olabilir.*\n",
    "\n",
    "*Ey Türk istikbâlinin evlâdı! İşte, bu ahvâl ve şerâit içinde dahi, vazifen; Türk istiklâl ve cumhuriyetini kurtarmaktır! Muhtaç olduğun kudret, damarlarındaki asil kanda, mevcuttur!*"
   ]
  },
  {
   "cell_type": "markdown",
   "metadata": {},
   "source": [
    "In modernized Turkish:"
   ]
  },
  {
   "cell_type": "markdown",
   "metadata": {},
   "source": [
    "*Ey Türk gençliği!*\n",
    "\n",
    "*Birinci görevin Türk bağımsızlığını, Türk cumhuriyetini sonsuza kadar korumak ve savunmaktır.*\n",
    "\n",
    "*Varlığının ve geleceğinin tek temeli budur. Bu temel senin en değerli hazinendir. Gelecekte bile, seni bu hazineden yoksun bırakmak isteyecek iç ve dış düşmanların olacaktır. Birgün bağımsızlık ve cumhuriyeti savunmak zorunluluğuna düşersen, göreve atılmak için, bulunduğun durumun olanak ve şartlarını düşünmeyeceksin! Bu olanak ve şartlar, çok elverişsiz bir özellikte ortaya çıkabilir. Bağımsızlık ve cumhuriyetini yok etmek isteyecek düşmanlar, bütün dünyada eşi görülmemiş bir galibiyetin temsilcisi olabilirler. Zorla ve hile ile aziz vatanın bütün kaleleri ele geçirilmiş, bütün tersanelerine girilmiş, bütün orduları dağıtılmış ve ülkenin her köşesi eylemli olarak ele geçirilmiş olabilir. Bütün bu koşullardan daha acı ve daha tehlikeli olmak üzere, ülkenin içinde iktidara sahip olanlar duyarsızlık, sapkınlık ve hatta ihanet içinde bulunabilirler. Üstelik bu iktidar sahipleri, kişisel çıkarlarını işgalcilerin siyasi istekleriyle birleştirebilirler. Ulus fakirlik ve çaresizlik içinde yorgun ve bitkin düşmüş olabilir.*\n",
    "\n",
    "*Ey Türk geleceğinin evladı! İşte, bu durum ve şartlar içinde bile görevin Türk bağımsızlık ve cumhuriyetini kurtarmaktır. Gereksinim duyduğun güç damarlarındaki asil kanda bulunmaktadır!*"
   ]
  },
  {
   "cell_type": "markdown",
   "metadata": {},
   "source": [
    "And in English:"
   ]
  },
  {
   "cell_type": "markdown",
   "metadata": {},
   "source": [
    "*Turkish youth!*\n",
    "\n",
    "*Your first duty is to protect and defend forever the Turkish Independence and the Turkish Republic.*\n",
    "\n",
    "*The sole principle of existence and the future is this. This principle is your most valuable treasure. Also even in the future, there will be internal and external enemies who will want to deprive you of this treasure. One day if you are obliged to defend Independence and the Republic, you will not think of the circumstances, opportunities and conditions in which you will be found in order to begin your duties! These opportunities and conditions may appear in a very unfavorable nature. The enemies who will have a design against Independence and the Republic, may be the agent of a victory whose equal has not been seen in the entire world. It is possible that by force or trick that all the fortresses of the beloved country have been captured by force, all the shipyards have been entered, all the armies have been dispersed and in fact every corner of the country has been occupied. Even more deplorable and serious than all these conditions, those who are possessing power within the country can be discovered to be careless, taking refuge or even committing treason. Moreover, these possessors of power may unite with the political ambitions of the invaders for their personal interests. The Nation may be in utter poverty and become exhausted and ruined.*\n",
    "\n",
    "*O Turkish child of future generations! As you see, even under these circumstances and conditions, it is your duty to save the Turkish Independence and the Republic! The strength that you will need is present in the noble blood which flows in your veins!*\n"
   ]
  },
  {
   "cell_type": "markdown",
   "metadata": {},
   "source": [
    "And even for Hababam Class, it is a must to memorize \"Address to Youth\":\n",
    "[![x](http://img.youtube.com/vi/6x5NSGyGyf4/0.jpg)](https://www.youtube.com/watch?v=6x5NSGyGyf4)"
   ]
  },
  {
   "cell_type": "markdown",
   "metadata": {},
   "source": [
    "Now we have \"stemmed\" version of the address so that usage differences of a word are disregarded. Apart from that, all words are lower case and some common words that have no relevance to the meaning of the text are also excluded."
   ]
  },
  {
   "cell_type": "code",
   "execution_count": null,
   "metadata": {},
   "outputs": [],
   "source": [
    "address_to_youth <- \"türk gençlik birinci vazife türk istiklâl türk cumhuriyet ilelebed\n",
    "muhafaza müdafaa mevcudiyet istikbâl yegâne temel temel sen kıymetli hazine istikbal\n",
    "sen hazine mahrum istemek dahili harici bedhah istiklâl cumhuriyet müdafaa mecburiyet\n",
    "vazife vaziyet imkân şerâit düşünmek imkân şerâit nâmüsait mahiyet tezâhür istiklâl\n",
    "cumhuriyet kastetmek düşman bütün dünya emsal görülmek galibiyet mümessil olmak cebren\n",
    "hile aziz vatan kale zaptetmek tersane girilmek ordu dağıtmak memleket köşe bi'l-fiil\n",
    "işgal şerâit elîm vahîm memleketin dahili iktidar sahip gaflet dalâlet hıyanet iktidar\n",
    "sahip şahsî menfaat müstevlî siyasi emel tevhit millet fakrü zaruret harap bitap türk\n",
    "istikbâl evlât ahvâl şerâit vazife türk istiklâl cumhuriyet kurtarmak muhtaç kudret\n",
    "damar asil kan mevcut\""
   ]
  },
  {
   "cell_type": "markdown",
   "metadata": {},
   "source": [
    "You can also have the same object by first downloading the address.RData file:\n",
    "\n",
    "[address.RData](../file/address.RData)"
   ]
  },
  {
   "cell_type": "markdown",
   "metadata": {},
   "source": [
    "And importing the object as such:"
   ]
  },
  {
   "cell_type": "code",
   "execution_count": null,
   "metadata": {},
   "outputs": [],
   "source": [
    "load(\"~/file/address.RData\")"
   ]
  },
  {
   "cell_type": "code",
   "execution_count": null,
   "metadata": {},
   "outputs": [],
   "source": [
    "address_to_youth"
   ]
  },
  {
   "cell_type": "markdown",
   "metadata": {},
   "source": [
    "The \"\\n\" characters represent newlines. Printing the address_to_youth object as is, prints \"\\n\"'s as string literals. To parse them as special characters (and treat them as newlines), we have to:"
   ]
  },
  {
   "cell_type": "code",
   "execution_count": null,
   "metadata": {},
   "outputs": [],
   "source": [
    "cat(address_to_youth)"
   ]
  },
  {
   "cell_type": "markdown",
   "metadata": {},
   "source": [
    "## Create word list"
   ]
  },
  {
   "cell_type": "markdown",
   "metadata": {},
   "source": [
    "First let's split the address into words, from whitespaces and newlines:"
   ]
  },
  {
   "cell_type": "code",
   "execution_count": null,
   "metadata": {},
   "outputs": [],
   "source": [
    "?strsplit"
   ]
  },
  {
   "cell_type": "code",
   "execution_count": null,
   "metadata": {
    "scrolled": false
   },
   "outputs": [],
   "source": [
    "address_words <- unlist(strsplit(address_to_youth, split = \" \"))\n",
    "address_words <- unlist(strsplit(address_words, split = \"\\\\n\"))\n",
    "address_words"
   ]
  },
  {
   "cell_type": "code",
   "execution_count": null,
   "metadata": {},
   "outputs": [],
   "source": [
    "length(address_words)"
   ]
  },
  {
   "cell_type": "markdown",
   "metadata": {},
   "source": [
    "After text cleaning we have 105 words"
   ]
  },
  {
   "cell_type": "markdown",
   "metadata": {},
   "source": [
    "**EXERCISE 1:**"
   ]
  },
  {
   "cell_type": "markdown",
   "metadata": {},
   "source": [
    "Now let's write the function that iterates through all words and appends the index of each word into the appropriate item of a list as such:\n",
    "\n",
    "- The function named \"wordlist_1()\" takes only one argument, the character vector of separate words\n",
    "- It should initiate an empty list with list()\n",
    "- A for loop should iterate through the indices of the vector (not the vector itself)\n",
    "- In each iteration the respective word at that index should be taken\n",
    "- The index should be appended to the list item named for that word\n",
    "- So if the index is 2, the word is \"gençlik\" and number 2 should be appended to the vector at wordlist\\\\$gençlik\n",
    "- So at the end for each unique word, we have a list item and each of these list items is a vector of indices where the word appears in the original words vector\n",
    "\n",
    "The initial items in the list should be as such:\n",
    "\n",
    "```\n",
    "$türk\n",
    "[1]  1  5  7 90 96\n",
    "\n",
    "$gençlik\n",
    "[1] 2\n",
    "\n",
    "$birinci\n",
    "[1] 3\n",
    "\n",
    "$vazife\n",
    "[1]  4 32 95\n",
    "\n",
    "$istiklâl\n",
    "[1]  6 28 42 97\n",
    "\n",
    "$cumhuriyet\n",
    "[1]  8 29 43 98\n",
    "\n",
    "$ilelebed\n",
    "[1] 9\n",
    "\n",
    "$muhafaza\n",
    "[1] 10\n",
    "\n",
    "$müdafaa\n",
    "[1] 11 30\n",
    "\n",
    "$mevcudiyet\n",
    "[1] 12\n",
    "\n",
    "$istikbâl\n",
    "[1] 13 91\n",
    "\n",
    "$yegâne\n",
    "[1] 14\n",
    "\n",
    "$temel\n",
    "[1] 15 16\n",
    "\n",
    "```\n",
    "\n",
    "Your function should be like:\n",
    "```R\n",
    "wordlist_1 <- function(words)\n",
    "{\n",
    "    wordlist <- list()\n",
    "    \n",
    "    for (...)\n",
    "    {\n",
    "        ...\n",
    "    }\n",
    "    \n",
    "    return(wordlist)\n",
    "    \n",
    "}\n",
    "```"
   ]
  },
  {
   "cell_type": "markdown",
   "metadata": {},
   "source": [
    "**SOLUTION 1:**"
   ]
  },
  {
   "cell_type": "code",
   "execution_count": null,
   "metadata": {
    "scrolled": false
   },
   "outputs": [],
   "source": [
    "wordlist_1 <- function(words)\n",
    "{\n",
    "    wordlist <- list()\n",
    "    \n",
    "    for (w in seq_along(words))\n",
    "    {\n",
    "        wordx <- words[w]\n",
    "        wordlist[[wordx]] <- c(wordlist[[wordx]], w)\n",
    "    }\n",
    "    \n",
    "    return(wordlist)\n",
    "    \n",
    "}\n",
    "\n",
    "address_list <- wordlist_1(address_words)\n",
    "address_list"
   ]
  },
  {
   "cell_type": "markdown",
   "metadata": {},
   "source": [
    "## Explore the frequencies"
   ]
  },
  {
   "cell_type": "code",
   "execution_count": null,
   "metadata": {},
   "outputs": [],
   "source": [
    "length(address_list)"
   ]
  },
  {
   "cell_type": "markdown",
   "metadata": {},
   "source": [
    "There are 81 unique words out of a total of 105"
   ]
  },
  {
   "cell_type": "markdown",
   "metadata": {},
   "source": [
    "**EXERCISE 2:**\n",
    "\n",
    "- Using sapply() and length() get a vector of frequencies of each unique word\n",
    "- Sort the list items by decreasing order of frequencies\n",
    "- Draw a barplot of the words with a frequency > 1"
   ]
  },
  {
   "cell_type": "markdown",
   "metadata": {},
   "source": [
    "**SOLUTION 2:**"
   ]
  },
  {
   "cell_type": "markdown",
   "metadata": {},
   "source": [
    "Now let's get the frequencies of words into a vector and order the list using this vector"
   ]
  },
  {
   "cell_type": "code",
   "execution_count": null,
   "metadata": {
    "scrolled": false
   },
   "outputs": [],
   "source": [
    "address_freq <- sapply(address_list, length)\n",
    "address_freq"
   ]
  },
  {
   "cell_type": "markdown",
   "metadata": {},
   "source": [
    "And sort the list in decreasing frequencies:"
   ]
  },
  {
   "cell_type": "code",
   "execution_count": null,
   "metadata": {
    "scrolled": false
   },
   "outputs": [],
   "source": [
    "address_list[order(-address_freq)]"
   ]
  },
  {
   "cell_type": "markdown",
   "metadata": {},
   "source": [
    "We see that most frequent words are \"türk\", \"cumhuriyet\" (republic), \"istiklâl\" (independence), \"şerait\" (conditions, circumstances) and \"vazife\" (duty)\n",
    "\n",
    "We can combine these words as such:\n",
    "\n",
    "\"(Under whatever) CIRCUMSTANCES, the DUTY is to (protect) TURKISH REPUBLIC and INDEPENDENCE\""
   ]
  },
  {
   "cell_type": "markdown",
   "metadata": {},
   "source": [
    "Let's plot the words that appeared at least twice:"
   ]
  },
  {
   "cell_type": "code",
   "execution_count": null,
   "metadata": {
    "scrolled": false
   },
   "outputs": [],
   "source": [
    "barplot(sort(address_freq[address_freq > 1], decreasing = T),\n",
    "        las = 2)"
   ]
  },
  {
   "cell_type": "markdown",
   "metadata": {},
   "source": [
    "## Extract neighbouring words"
   ]
  },
  {
   "cell_type": "markdown",
   "metadata": {},
   "source": [
    "**EXERCISE 3:**"
   ]
  },
  {
   "cell_type": "markdown",
   "metadata": {},
   "source": [
    "Now let's something fancier:\n",
    "\n",
    "Selecting a word, extract all the words that appeared within n words before or after, using the wordlist, sorted by the frequencies they appeared close: \n",
    "\n",
    "- The function words_neigh takes three arguments: the word list and \"lst\", a word as \"wrd\", number of neighbouring words as \"neigh\"\n",
    "- The function first gets the list item for that word and hence the indices that the word appears\n",
    "\n",
    "So for \"cumhuriyet\", those indices will be:\n",
    "```\n",
    "[1]  8 29 43 98\n",
    "```\n",
    "\n",
    "- Using sapply, for each of these indices, it will create a sequence of neighbours. So if the index is 4 and neighbour is 2, the sequence is 2,3,4,5,6\n",
    "\n",
    "For cumhuriyet's indices, the sequence will be:\n",
    "```\n",
    "[1]   6   7   8   9  10  27  28  29  30  31  41  42  43  44  45  96  97  98  99\n",
    "[20] 100\n",
    "```\n",
    "\n",
    "- A sapply will iterate through the list items and count the times the indices of each word is inside the sequence we created above (and hence the word is within the neighbourhood). The count for the input word itself should be ommitted!\n",
    "\n",
    "For \"cumhuriyet\" the counts will be:\n",
    "```\n",
    "türk    gençlik    birinci     vazife   istiklâl   ilelebed   muhafaza \n",
    "         2          0          0          0          4          1          1 \n",
    "   müdafaa mevcudiyet   istikbâl     yegâne      temel        sen   kıymetli \n",
    "         1          0          0          0          0          0          0 \n",
    "    hazine   istikbal     mahrum    istemek     dahili     harici     bedhah \n",
    "         0          0          0          0          0          0          1 \n",
    "mecburiyet    vaziyet      imkân     şerâit   düşünmek   nâmüsait    mahiyet \n",
    "         1          0          0          0          0          0          0 \n",
    "   tezâhür  kastetmek     düşman      bütün      dünya      emsal   görülmek \n",
    "         1          1          1          0          0          0          0 \n",
    " galibiyet   mümessil      olmak     cebren       hile       aziz      vatan \n",
    "         0          0          0          0          0          0          0 \n",
    "      kale  zaptetmek    tersane   girilmek       ordu   dağıtmak   memleket \n",
    "         0          0          0          0          0          0          0 \n",
    "      köşe  bi'l-fiil      işgal       elîm      vahîm memleketin    iktidar \n",
    "         0          0          0          0          0          0          0 \n",
    "     sahip     gaflet    dalâlet    hıyanet      şahsî    menfaat   müstevlî \n",
    "         0          0          0          0          0          0          0 \n",
    "    siyasi       emel     tevhit     millet      fakrü    zaruret      harap \n",
    "         0          0          0          0          0          0          0 \n",
    "     bitap      evlât      ahvâl  kurtarmak     muhtaç     kudret      damar \n",
    "         0          0          0          1          1          0          0 \n",
    "      asil        kan     mevcut \n",
    "         0          0          0 \n",
    "```\n",
    "\n",
    "- The frequencies above 0 should be filtered and sorted in decreasing order and returned\n",
    "\n",
    "For cumhuriyet, it will be:\n",
    "```\n",
    "istiklâl       türk   ilelebed   muhafaza    müdafaa     bedhah mecburiyet \n",
    "         4          2          1          1          1          1          1 \n",
    "   tezâhür  kastetmek     düşman  kurtarmak     muhtaç \n",
    "         1          1          1          1          1          \n",
    "```\n",
    "\n",
    "The function will be as such:\n",
    "```\n",
    "words_neigh <- function(lst = address_list, wrd = \"cumhuriyet\", neigh = 2)\n",
    "{\n",
    "    ...\n",
    "}\n",
    "```"
   ]
  },
  {
   "cell_type": "markdown",
   "metadata": {},
   "source": [
    "**SOLUTION 3:**"
   ]
  },
  {
   "cell_type": "code",
   "execution_count": null,
   "metadata": {},
   "outputs": [],
   "source": [
    "words_neigh <- function(lst = address_list,\n",
    "                        wrd = \"cumhuriyet\",\n",
    "                        neigh = 2)\n",
    "{\n",
    "    indices <- lst[[wrd]] # the indices of that word\n",
    "    \n",
    "    # get the -/+neigh sequence of the indices\n",
    "    neigh_indices <- sapply(indices,\n",
    "                            function(x) seq(x - neigh, x + neigh))[T]\n",
    "\n",
    "    # get whether the indices of each word intersect with the neighbouring indices\n",
    "    # exclude the word itself\n",
    "    neigh_freqs <- sapply(lst,\n",
    "                          function(x) sum(x %in% neigh_indices))[-(which(names(lst) == wrd))]\n",
    "\n",
    "    # sort by decreasing frequencies and filter for freqs above 0                      \n",
    "    sort(neigh_freqs[neigh_freqs > 0], decreasing = T)\n",
    "}\n",
    "                          \n",
    "words_neigh(neigh = 1)\n",
    "words_neigh(neigh = 2)"
   ]
  },
  {
   "cell_type": "markdown",
   "metadata": {},
   "source": [
    "So the words that goes along most frequently with \"cumhuriyet\" are \"istiklal\" (independence) and \"türk\""
   ]
  },
  {
   "cell_type": "code",
   "execution_count": null,
   "metadata": {
    "scrolled": false
   },
   "outputs": [],
   "source": [
    "words_neigh(wrd = \"istiklâl\", neigh = 2)\n",
    "words_neigh(wrd = \"istiklâl\", neigh = 3)"
   ]
  },
  {
   "cell_type": "markdown",
   "metadata": {},
   "source": [
    "And \"istiklal\" goes along with \"vazife\" apart from \"cumhuriyet\" and \"turk\""
   ]
  },
  {
   "cell_type": "markdown",
   "metadata": {},
   "source": [
    "## \"Remember me\""
   ]
  },
  {
   "cell_type": "markdown",
   "metadata": {},
   "source": [
    "In 1933, 6 years after the delivery of the Great Speech and Address to Youth, Atatürk delivered his \"10th Year Speach\" on the 10th Republic Day, 29 October 1933:"
   ]
  },
  {
   "cell_type": "markdown",
   "metadata": {},
   "source": [
    "[![x](http://img.youtube.com/vi/wQPtkbAiRrU/0.jpg)](https://www.youtube.com/watch?v=wQPtkbAiRrU)"
   ]
  },
  {
   "cell_type": "markdown",
   "metadata": {},
   "source": [
    "The original Turkish text:"
   ]
  },
  {
   "cell_type": "markdown",
   "metadata": {},
   "source": [
    "*Türk milleti!*\n",
    "\n",
    "*Kurtuluş Şavaşı'na başladığımızın on beşinci yılındayız. Bugün Cumhuriyetimizin onuncu yılını doldurduğu en büyük bayramdır. Kutlu olsun!*\n",
    "\n",
    "*Şu anda, büyük Türk milletinin bir ferdi olarak, bu kutlu güne kavuşmanın en derin sevinci ve heyecanı içindeyim.*\n",
    "\n",
    "*Yurttaşlarım!*\n",
    "\n",
    "*Az zamanda çok ve büyük işler yaptık. Bu işlerin en büyüğü, temeli, Türk kahramanlığı ve yüksek Türk kültürü olan Türkiye Cumhuriyeti'dir. Bundaki muvaffakiyeti, Türk milletinin ve onun değerli ordusunun bir ve beraber olarak, azimkârane yürümesine borçluyuz. Fakat yaptıklarımızı asla kâfi göremeyiz; çünkü daha çok ve daha büyük işler yapmak mecburiyetinde ve azmindeyiz.*\n",
    "\n",
    "*Yurdumuzu, dünyanın en mamur ve en medeni memleketleri seviyesine çıkaracağız. Milletimizi, en geniş, refah, vasıta ve kaynaklarına sahip kılacağız. Millî kültürümüzü, muasır medeniyet seviyesinin üstüne çıkaracağız. Bunun için, bizce zaman ölçüsü, geçmiş asırların gevşetici zihniyetine göre değil, asrımızın sürat ve hareket mefhumuna göre düşünülmelidir. Geçen zamana nispetle daha çok çalışacağız, daha az zamanda daha büyük işler başaracağız. Bunda da muvaffak olacağımıza şüphem yoktur.*\n",
    "\n",
    "*Çünkü, Türk milletinin karakteri yüksektir; Türk milleti çalışkandır; Türk milleti zekidir. Çünkü, Türk milleti millî birlik ve beraberlikle güçlükleri yenmesini bilmiştir. Ve çünkü, Türk milletinin yürümekte olduğu terakki ve medeniyet yolunda, elinde ve kafasında tuttuğu meşale, müspet ilimdir. Şunu da ehemmiyetle tebarüz ettirmeliyim ki, yüksek bir insan cemiyeti olan Türk milletinin tarihî bir vasfı da, güzel sanatları sevmek ve onda yükselmektir. Bunun içindir ki, milletimizin yüksek karakterini, yorulmaz çalışkanlığını, fıtrî zekâsını, ilme bağlılığını, güzel sanatlara sevgisini ve millî birlik duygusunu mütemadiyen ve her türlü vasıta ve tedbirlerle besleyerek inkişaf ettirmek millî ülkümüzdür. Türk milletine çok yakışan bu ülkü, onu, bütün beşeriyette, hakikî huzurun temini yolunda, kendine düşen medeni vazifeyi yapmakta muvaffak kılacaktır.*\n",
    "\n",
    "*Büyük Türk milleti!*\n",
    "\n",
    "*On beş yıldan beri, giriştiğimiz işlerde muvaffakiyet vadeden çok sözlerimi işittin. Bahtiyarım ki, bu sözlerimin hiçbirinde milletimin hakkımdaki itimadını sarsacak bir isabetsizliğe uğramadım. Bugün, aynı iman ve katiyetle söylüyorum ki millî ülküye, tam bir bütünlükle yürümekte olan Türk milletinin büyük millet olduğunu, bütün medeni âlem az zamanda bir kere daha tanıyacaktır. Asla şüphem yoktur ki, Türklüğün unutulmuş büyük medeni vasfı ve büyük medeni kabiliyeti, bundan sonraki inkişafı ile, atinin yüksek medeniyet ufkundan yeni bir güneş gibi doğacaktır.*\n",
    "\n",
    "*Türk milleti!*\n",
    "\n",
    "*Ebediyete akıp giden her on senede, bu büyük millet bayramını daha büyük şereflerle, saadetlerle, huzur ve refah içinde kutlamanı gönülden dilerim.*\n",
    "\n",
    "*Ne mutlu Türk'üm diyene!*"
   ]
  },
  {
   "cell_type": "markdown",
   "metadata": {},
   "source": [
    "*“The Turkish Nation!*\n",
    "\n",
    "*We are in the fifteenth year of the start of our war of liberation. This is the greatest day marking the tenth year of our Republic. May it be celebrated.*\n",
    "\n",
    "*At this moment as a member of the great Turkish nation, I feel the deepest joy and excitement for having achieved this happy day.*\n",
    "\n",
    "*My citizens,*\n",
    "\n",
    "*We have accomplished many and great tasks in a short time. The greatest of these is the Turkish Republic, the basis of which is the Turkish heroism and the great Turkish culture. We owe this success to the cooperative progress of the Turkish nation and its valuable army.*\n",
    "\n",
    "*However we can never consider what we have achieved to be sufficient, because we must, and are determined to accomplish even more and greater tasks. We shall raise our country to the level of the most prosperous and civilized nations of the world. We shall endow our nation with the broadest means and sources of welfare. We shall raise our national culture above the contemporary level of civilization.*\n",
    "\n",
    "*Therefore, we should judge the measure of time not according to the lax mentality of past centuries, but in terms of the concepts of speed and movement of our century. Compared to the past, we shall work harder. We shall perform greater tasks in a shorter time. I have no doubt that we shall succeed in this, because the Turkish nation is of excellent character. The Turkish nation is intelligent, because the Turkish nation is capable of overcoming difficulties of national unity, and because it holds the torch of positive sciences.\n",
    "I must make it clear with due emphasis, that a historical quality of the Turkish nation, which is an exalted human community, is its love for fine arts and progress in them. This is why our national ideal is to constantly foster and promote, with all means and measures, our nation’s excellent character, its tireless industriousness, intelligence, devotion to science, love for fine arts and sense of national unity. This ideal, which very well suits the Turkish nation, will enable it to succeed in performing the civilized task falling on it in securing true peace for all mankind.*\n",
    "\n",
    "*The Great Turkish Nation!*\n",
    "\n",
    "*You have heard me speak on many occasions over the last fifteen years promising success in the tasks we undertook. I am happy that none of my promises have been false ones which could have shaken my nation’s confidence in me.*\n",
    "\n",
    "*Today, I repeat with the same faith and determination that it will soon be acknowledged once again by the entire civilized world that the Turkish nation, who has been progressing towards the national ideal in exact unison, is a great nation. Never have doubted that the great, but forgotten, civilized characteristic and the great civilized talents of the Turkish nation, will, in its progress henceforth, rise like a new sun from the high horizon of civilization for the future.*\n",
    "\n",
    "*The Turkish nation,*\n",
    "\n",
    "*I express my heartfelt wish that you will celebrate, after each decade elapsing into eternity, this great national day, in greater honor, happiness, peace and prosperity.*\n",
    "\n",
    "*How happy it is to say that I am a Turk!”*"
   ]
  },
  {
   "cell_type": "markdown",
   "metadata": {},
   "source": [
    "As we see in the original manuscript:\n",
    "\n",
    "![hatirla](https://3.bp.blogspot.com/--uzGOG1SXFc/WTGBHEXM5II/AAAAAAAAFXQ/_RKwL9vslPU84aawG5_rJu1SRD-AJQCtACLcB/s1600/0846711_2.jpg)"
   ]
  },
  {
   "cell_type": "markdown",
   "metadata": {},
   "source": [
    "After this part:\n",
    "\n",
    "*Asla şüphem yoktur ki, Türklüğün unutulmuş büyük medeni vasfı ve büyük medeni kabiliyeti, bundan sonraki inkişafı ile, atinin yüksek medeniyet ufkundan yeni bir güneş gibi doğacaktır.*\n",
    "\n",
    "*(Never have doubted that the great, but forgotten, civilized characteristic and the great civilized talents of the Turkish nation, will, in its progress henceforth, rise like a new sun from the high horizon of civilization for the future.)*\n",
    "\n",
    "A sentence was later crossed by him:\n",
    "\n",
    "\"Bu söylediklerim hakikat olduğu gün, senden ve bütün medeni beşeriyetten dileğim şudur: Beni hatırlayınız.\"\n",
    "\n",
    "*(On the day what I have said will become a reality, my wish from you and all modern humankind is that: Remember Me\")*\n",
    "\n",
    "\"Atatürk “Beni hatırlayınız” cümlesini nutuktan niçin çıkarmıştı? Bunu gerçekten merak ediyordum. Konuyu tarihçi-yazar rahmetli üstad Cemal Kutay'a sorduğumda bana aynen şunları anlatmıştı:\n",
    "\n",
    "“Atatürk bu nutkun metnini kendi el yazısıyla yazmıştı. Metni tarihçi Hikmet Bayur'a okuttu. (Bayur o sırada Çankaya Köşkü'nde Genel Sekreter.) Bayur Atatürk'ün en güvendiği ve değer verdiği insanlardan biriydi. Bu güvene layık olduğunu onun ölümünden önce ve sonra defalarca kanıtlamıştır.\n",
    "\n",
    "Bayur metni okuyor ama sıra o cümleye gelince içi burkuluyor… Ve okuyup bitirdikten sonra şöyle diyor: “Gazi Hazretleri, eğer izin verirseniz bir şey söylemek istiyorum. Bu cümle bir vedayı hatırlatıyor. İnsanlar elbette fanidir ama böyle mutlu bir günde milletin kalbini bir veda acısıyla yakmayınız.”\n",
    "\n",
    "Hikmet Bayur, olayın sonrasını Cemal Kutay'a kendisi anlatmış: “Benim bu sözlerimden sonra düşündü, yüzüme uzun uzun baktı ve aynen şöyle dedi:\n",
    "\n",
    "“Bu söylediğin doğrudur. Ben bu cümleyi kaldıracağım. Ama bunu bana kaldırttığın için ileride, ben öldükten sonra inşallah pişmanlık duymazsın”\n",
    "(https://www.sozcu.com.tr/2013/yazarlar/emin-colasan/beni-hatirlayiniz-403946/)"
   ]
  }
 ],
 "metadata": {
  "kernelspec": {
   "display_name": "R",
   "language": "R",
   "name": "ir"
  },
  "language_info": {
   "codemirror_mode": "r",
   "file_extension": ".r",
   "mimetype": "text/x-r-source",
   "name": "R",
   "pygments_lexer": "r",
   "version": "3.5.3"
  },
  "toc": {
   "base_numbering": 1,
   "nav_menu": {},
   "number_sections": true,
   "sideBar": true,
   "skip_h1_title": false,
   "title_cell": "Table of Contents",
   "title_sidebar": "Contents",
   "toc_cell": false,
   "toc_position": {},
   "toc_section_display": "block",
   "toc_window_display": false
  }
 },
 "nbformat": 4,
 "nbformat_minor": 2
}
