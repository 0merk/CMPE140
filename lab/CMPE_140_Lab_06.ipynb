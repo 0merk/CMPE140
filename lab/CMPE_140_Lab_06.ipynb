{
 "cells": [
  {
   "cell_type": "markdown",
   "metadata": {},
   "source": [
    "# LAB 06 - Loops"
   ]
  },
  {
   "cell_type": "markdown",
   "metadata": {},
   "source": [
    "## Warm Up"
   ]
  },
  {
   "cell_type": "markdown",
   "metadata": {},
   "source": [
    "#### Let's print the message \"Hello\" ten times!\n",
    "\n",
    "    Ingredients:  A message\n",
    "                  A loop\n",
    "                  A control variable\n",
    "                  A condition\n",
    "                  "
   ]
  },
  {
   "cell_type": "code",
   "execution_count": null,
   "metadata": {
    "collapsed": true
   },
   "outputs": [],
   "source": [
    "msg <- c(\"Hello\")\n",
    "i <- 1\n",
    "\n",
    "while(i <= 10){\n",
    "  print(msg)\n",
    "  i <- i + 1\n",
    "}\n",
    "\n",
    "\n",
    "repeat{\n",
    "  i <- i+1\n",
    "  print(msg)\n",
    "  if(i>10){\n",
    "    break\n",
    "  }\n",
    "}"
   ]
  },
  {
   "cell_type": "markdown",
   "metadata": {},
   "source": [
    "#### Write a loop that prints the first four numbers of this sequence: x <- c(7, 4, 3, 8, 9, 25)"
   ]
  },
  {
   "cell_type": "code",
   "execution_count": null,
   "metadata": {
    "collapsed": true
   },
   "outputs": [],
   "source": [
    "x <- c(7, 4, 3, 8, 9, 25)\n",
    "for(i in 1:4) {\n",
    "    print(x[i])\n",
    "}"
   ]
  },
  {
   "cell_type": "markdown",
   "metadata": {},
   "source": [
    "#### Write a loop that prints the first four numbers except 4 in this sequence: x <- c(7, 4, 3, 8, 9, 25)"
   ]
  },
  {
   "cell_type": "code",
   "execution_count": null,
   "metadata": {},
   "outputs": [],
   "source": [
    "x <- c(7, 4, 3, 8, 9, 25)\n",
    "for(i in 1:4) {\n",
    "    if(x[i]==4)\n",
    "        next\n",
    "    print(x[i])\n",
    "}"
   ]
  },
  {
   "cell_type": "markdown",
   "metadata": {},
   "source": [
    "#### Write a code that finds the \"divisors\" of an integer input from the user."
   ]
  },
  {
   "cell_type": "code",
   "execution_count": null,
   "metadata": {},
   "outputs": [],
   "source": [
    "x <- readline(prompt = \"Please enter a number : \")\n",
    "x <- as.integer(x)\n",
    "for(i in 1:x){\n",
    "  if(x%%i == 0){\n",
    "    print(i)\n",
    "  }\n",
    "}"
   ]
  },
  {
   "cell_type": "markdown",
   "metadata": {},
   "source": [
    "#### Write a program that reads an integer input from the user (N) and  prints all the **even numbers** from 0 – N.\n"
   ]
  },
  {
   "cell_type": "code",
   "execution_count": null,
   "metadata": {},
   "outputs": [],
   "source": [
    "N <- readline(prompt = \"Please enter a number : \")\n",
    "N <- as.integer(N)\n",
    "\n",
    "for(i in 1:N){\n",
    "  if(i%%2 == 0){\n",
    "    print(i)\n",
    "  }\n",
    "}\n",
    "\n",
    "## code "
   ]
  },
  {
   "cell_type": "markdown",
   "metadata": {},
   "source": [
    "## Selling Pizzas?"
   ]
  },
  {
   "cell_type": "markdown",
   "metadata": {},
   "source": [
    "#### Let's go on from where we left at our Pizza Place.\n",
    "\n",
    "#### Create a sales vector with the following names and values, \n",
    "\n",
    "    | Anadolu      | 0 | \n",
    "    | Houston      | 0 |\n",
    "    | Chicago      | 0 | \n",
    "    | Rome         | 0 | \n",
    "\n",
    "    \n",
    "#### Each menu has 0 orders at the start of the day."
   ]
  },
  {
   "cell_type": "code",
   "execution_count": null,
   "metadata": {},
   "outputs": [],
   "source": [
    "sales <- c(0, 0, 0, 0)\n",
    "names(sales) <- c(\"Anadolu\", \"Houston\", \"Chicago\", \"Rome\")\n",
    "\n",
    "sales"
   ]
  },
  {
   "cell_type": "markdown",
   "metadata": {},
   "source": [
    "#### Let's add \"Wrong order\" to the menu with value of 0."
   ]
  },
  {
   "cell_type": "code",
   "execution_count": null,
   "metadata": {},
   "outputs": [],
   "source": [
    "sales <- c(sales, \"Wrong order\" = 0)\n",
    "sales"
   ]
  },
  {
   "cell_type": "markdown",
   "metadata": {},
   "source": [
    "#### Now prompt an input from the cashier, \"How many customers do you have?\" and read the given input."
   ]
  },
  {
   "cell_type": "code",
   "execution_count": null,
   "metadata": {},
   "outputs": [],
   "source": [
    "num_customer <- readline(prompt = \"How many customers do you have?: \")\n",
    "num_customer <- as.integer(num_customer)\n"
   ]
  },
  {
   "cell_type": "markdown",
   "metadata": {},
   "source": [
    "#### Based on the number of number of customers, ask each customer \"Which menu do you choose? :\".\n",
    "\n",
    "    Update the sales vector each time a corresponding menu item was chosen.\n",
    "    If the users gives an input that is not from menu, update \"Wrong order\" in sales vector."
   ]
  },
  {
   "cell_type": "code",
   "execution_count": null,
   "metadata": {
    "scrolled": true
   },
   "outputs": [],
   "source": [
    "i<-1\n",
    "\n",
    "while(i <= num_cus){\n",
    "    pizza_kind <- readline(prompt = \"Which menu do you choose? : \")\n",
    "    \n",
    "\n",
    "    if (pizza_kind == \"Houston\"){\n",
    "        sales[\"Houston\"] <- sales[\"Houston\"] + 1}\n",
    "    else if (pizza_kind == \"Anadolu\"){\n",
    "        sales[\"Anadolu\"] <- sales[\"Anadolu\"] + 1}\n",
    "    else if (pizza_kind == \"Chicago\"){\n",
    "        sales[\"Chicago\"] <- sales[\"Chicago\"] + 1 }\n",
    "    else if (pizza_kind == \"Rome\"){\n",
    "        sales[\"Rome\"] <- sales[\"Rome\"] + 1 }\n",
    "    else {\n",
    "        sales[\"Wrong order\"] <- sales[\"Wrong order\"] +1 }\n",
    "    \n",
    "    i <- i+ 1\n",
    "    \n",
    "}\n"
   ]
  },
  {
   "cell_type": "markdown",
   "metadata": {},
   "source": [
    "#### Print the name of the most ordered pizza and the number of wrong orders."
   ]
  },
  {
   "cell_type": "code",
   "execution_count": null,
   "metadata": {},
   "outputs": [],
   "source": [
    "sort(sales, decreasing=TRUE)[1]\n",
    "sales[\"Wrong order\"]"
   ]
  },
  {
   "cell_type": "markdown",
   "metadata": {},
   "source": [
    "#### Now let's calculate how much we earned today! First create price vector in the following order:\n",
    "\n",
    "    \n",
    "| Pizza      | Price    |         \n",
    "| ---------  |:---------:| \n",
    "| Anadolu      | 19 | \n",
    "| Houston      | 16 |\n",
    "| Chicago      | 22 | \n",
    "| Rome         | 14 | \n",
    "| Wrong order  | -1 |\n",
    "    \n",
    "    \n",
    "#### Then create a function() named **income** that returns the total money earned from the sales. \n",
    "       Two arguments:\n",
    "               y vector as default that contains prices\n",
    "               x vector that contains number of sales for each pizza"
   ]
  },
  {
   "cell_type": "code",
   "execution_count": null,
   "metadata": {
    "scrolled": true
   },
   "outputs": [],
   "source": [
    "price <- c(19, 16, 22, 14, -1)\n",
    "names(price) <- names(sales)\n",
    "\n",
    "sales\n",
    "price\n",
    "\n",
    "income <- function(x, y=price)\n",
    "    {\n",
    "      return(sum(x*y))\n",
    "}\n",
    "\n",
    "\n",
    "income(sales)"
   ]
  },
  {
   "cell_type": "markdown",
   "metadata": {},
   "source": [
    "#### Going back to examples:\n",
    "\n",
    "Write a program that reads an input from user between 0 - 100:\n",
    "    \n",
    "         creates a vector named mydata\n",
    "         skips if user enters integer outside the range of 0 - 100\n",
    "         terminates the program if user enters NA"
   ]
  },
  {
   "cell_type": "code",
   "execution_count": null,
   "metadata": {},
   "outputs": [],
   "source": [
    "mydata <- c()\n",
    "while (TRUE){\n",
    "    x <- as.numeric(readline(\"Enter a number: \"))\n",
    "    if (is.na(x))\n",
    "        break\n",
    "    if(x<0 || x>100){\n",
    "        next\n",
    "    }\n",
    "    mydata <- c(mydata,x)\n",
    "}\n",
    "mydata"
   ]
  },
  {
   "cell_type": "markdown",
   "metadata": {},
   "source": [
    "##### Let's finish with art!\n",
    "\n",
    "Write a program that reads two integers from user, M and N, and creates a MxN matrix of stars:\n",
    "\n",
    "\n",
    "     input: 4 6\n",
    "     output:\n",
    "            ******\n",
    "            ******\n",
    "            ******\n",
    "            ******"
   ]
  },
  {
   "cell_type": "code",
   "execution_count": null,
   "metadata": {},
   "outputs": [],
   "source": [
    "M <- as.numeric(readline(\"Enter number of rows: \"))\n",
    "N <- as.numeric(readline(\"Enter number of columns: \"))\n",
    "\n",
    "for (i in 1:M){\n",
    "    for (j in 1:N){\n",
    "            cat(\"*\")\n",
    "        }\n",
    "    cat(\"\\n\")\n",
    "        }"
   ]
  }
 ],
 "metadata": {
  "kernelspec": {
   "display_name": "R",
   "language": "R",
   "name": "ir"
  },
  "language_info": {
   "codemirror_mode": "r",
   "file_extension": ".r",
   "mimetype": "text/x-r-source",
   "name": "R",
   "pygments_lexer": "r",
   "version": "3.4.3"
  }
 },
 "nbformat": 4,
 "nbformat_minor": 2
}
