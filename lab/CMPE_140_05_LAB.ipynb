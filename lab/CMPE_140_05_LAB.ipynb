{
 "cells": [
  {
   "cell_type": "markdown",
   "metadata": {
    "slideshow": {
     "slide_type": "slide"
    }
   },
   "source": [
    "# Making Pizza\n",
    "\n",
    "## Interactive programming\n",
    "\n",
    "We are using `readline` function in order to get data from the user.\n",
    "\n",
    "This way we can create interactive programs, where user gives input to the user."
   ]
  },
  {
   "cell_type": "code",
   "execution_count": null,
   "metadata": {
    "slideshow": {
     "slide_type": "fragment"
    }
   },
   "outputs": [],
   "source": [
    "customer_age <- readline(prompt = \"How old are you: \")\n",
    "class(customer_age)"
   ]
  },
  {
   "cell_type": "markdown",
   "metadata": {
    "slideshow": {
     "slide_type": "fragment"
    }
   },
   "source": [
    "`readline` gets the value that is written to the console. But value returned is character!\n",
    "\n",
    "In order to get the age of the we have to _cast_ character into integer value this way."
   ]
  },
  {
   "cell_type": "code",
   "execution_count": null,
   "metadata": {
    "slideshow": {
     "slide_type": "fragment"
    }
   },
   "outputs": [],
   "source": [
    "customer_age <- as.integer(customer_age)\n",
    "customer_age"
   ]
  },
  {
   "cell_type": "markdown",
   "metadata": {
    "slideshow": {
     "slide_type": "slide"
    }
   },
   "source": [
    "Now write the code which will discount for elderly people who are older than 65 years old."
   ]
  },
  {
   "cell_type": "code",
   "execution_count": null,
   "metadata": {
    "slideshow": {
     "slide_type": "fragment"
    },
    "solution2": "shown"
   },
   "outputs": [],
   "source": [
    "should_discount <- F\n",
    "if (customer_age > 65) {\n",
    "    should_discount <- T\n",
    "}\n",
    "\n",
    "should_discount <- if(customer_age > 65) {\n",
    "    return(T)\n",
    "} else {\n",
    "    F\n",
    "}"
   ]
  },
  {
   "cell_type": "markdown",
   "metadata": {
    "slideshow": {
     "slide_type": "slide"
    }
   },
   "source": [
    "### Mushroom\n",
    "Lets ask customer for some mushrooms..."
   ]
  },
  {
   "cell_type": "code",
   "execution_count": null,
   "metadata": {
    "slideshow": {
     "slide_type": "fragment"
    },
    "solution2": "shown"
   },
   "outputs": [],
   "source": [
    "# Ask for mushroom\n",
    "wants_mushroom <- readline(prompt = \"Would you like to have mushroom(yes/no): \")\n",
    "if (wants_mushroom == \"yes\") {\n",
    "    wants_mushroom <- T\n",
    "} else {\n",
    "    wants_mushroom <- F\n",
    "}\n",
    "# single liner\n",
    "wants_mushroom <- if(wants_mushroom == \"yes\") {\n",
    "    return(T)\n",
    "} else {\n",
    "    F\n",
    "}\n",
    "wants_mushroom"
   ]
  },
  {
   "cell_type": "markdown",
   "metadata": {
    "slideshow": {
     "slide_type": "slide"
    }
   },
   "source": [
    "### Pepperoni\n",
    "Now ask customer if he would like to have pepperoni and if they do how much?\n",
    "\n",
    "They can ask for either:\n",
    " - ALOT\n",
    " - some\n",
    " - little\n",
    " \n",
    "Do **NOT** forget to save this information in order to be able to calculate total cost!\n",
    "\n",
    "PS: Also, if they talk incomrehensively, assume to put _**some**_ pepperoni"
   ]
  },
  {
   "cell_type": "code",
   "execution_count": null,
   "metadata": {
    "slideshow": {
     "slide_type": "fragment"
    },
    "solution2": "shown"
   },
   "outputs": [],
   "source": [
    "# Ask for pepperoni\n",
    "customer_answer <- readline(prompt = \"Would you like to have pepperoni(yes/no): \")\n",
    "wants_pepperoni <- if(customer_answer == \"yes\") T else F\n",
    "# Ask for pepperoni amount\n",
    "if (wants_pepperoni) {\n",
    "    pepperoni_amount <- readline(prompt = \"How much would you like have(ALOT/some/little): \")\n",
    "    if (pepperoni_amount == \"ALOT\") {\n",
    "        pepperoni_amount <- 3\n",
    "    } else if (pepperoni_amount == \"some\") {\n",
    "        pepperoni_amount <- 2\n",
    "    } else if (pepperoni_amount == \"little\") {\n",
    "        pepperoni_amount <- 1\n",
    "    } else {\n",
    "        pepperoni_amount <- 2\n",
    "        print(\"I cannot understand what you are talking about, I will put some...\")\n",
    "    }\n",
    "}"
   ]
  },
  {
   "cell_type": "markdown",
   "metadata": {
    "slideshow": {
     "slide_type": "slide"
    }
   },
   "source": [
    "### Bread\n",
    "Now ask for what kind of bread he would like to have...\n",
    "\n",
    "They can ask for either:\n",
    " - ultra_thin\n",
    " - thin\n",
    " - normal\n",
    " - cheese\n",
    " - garlic\n"
   ]
  },
  {
   "cell_type": "code",
   "execution_count": null,
   "metadata": {
    "slideshow": {
     "slide_type": "fragment"
    },
    "solution2": "shown"
   },
   "outputs": [],
   "source": [
    "# Ask for bread\n",
    "bread_type <- readline(prompt = \"What kind of bread would you like(ultra_thin/thin/normal/cheese/garlic): \")\n",
    "bread_types <- c(\"ultra_thin\", \"thin\", \"normal\", \"cheese\", \"garlic\")\n",
    "bread_type <- match(bread_type, bread_types)\n",
    "\n",
    "if (is.na(bread_type)) {\n",
    "    bread_type <- 3\n",
    "}\n",
    "bread_type"
   ]
  },
  {
   "cell_type": "markdown",
   "metadata": {
    "slideshow": {
     "slide_type": "slide"
    }
   },
   "source": [
    "### Calculate the prize\n",
    "Calculate the price of the pizza\n",
    "\n",
    " - Baking pizza costs 6\\$\n",
    " - Mashrooms for 2\\$\n",
    " - Pepperoni\n",
    "  - ALOT for 6\\$\n",
    "  - some for 4\\$\n",
    "  - little for 2$\n",
    " - Breads are for\n",
    "  - ultra_thin for 3\\$\n",
    "  - thin 2\\$\n",
    "  - normal 0\\$\n",
    "  - cheese 4\\$\n",
    "  - garlic 3\\$\n",
    "  \n",
    "and print the prize."
   ]
  },
  {
   "cell_type": "code",
   "execution_count": null,
   "metadata": {
    "slideshow": {
     "slide_type": "fragment"
    },
    "solution2": "shown"
   },
   "outputs": [],
   "source": [
    "# Cost of making pizza\n",
    "pizza_prize <- 6\n",
    "\n",
    "\n",
    "# Add mushroom prize\\\n",
    "if (wants_mushroom) {\n",
    "    pizza_prize <- pizza_prize + 2\n",
    "}\n",
    "\n",
    "# Add pepperoni prize\\n\",\n",
    "pepperoni_prizes <- c(6, 4, 2)\n",
    "if (wants_pepperoni) {\n",
    "    pizza_prize <- pizza_prize + pepperoni_prizes[pepperoni_amount]\n",
    "}\n",
    "\n",
    "# Add bread prize\n",
    "bread_prizes <- c(3, 2, 0, 4, 3)\n",
    "pizza_prize <- pizza_prize + bread_prizes[bread_type]\n",
    "\n",
    "# Make discount if necessary\\n\",\n",
    "if (should_discount) {\n",
    "    pizza_prize <- pizza_prize * 0.8\n",
    "}\n",
    "\n",
    "# Print the cost\n",
    "cat(\"Your pizza costs\", pizza_prize, \"$\")"
   ]
  },
  {
   "cell_type": "markdown",
   "metadata": {
    "slideshow": {
     "slide_type": "slide"
    }
   },
   "source": [
    "## İzdivaç\n",
    "\n",
    "Margaret decides to quit the school and get married. She writes a code to find her prospective husband among candidates.\n",
    "\n",
    " - If the **income of the candidate is greater than 4000**, he passes the first step. Otherwise, the code gives the output ***no way***. \n",
    "\n",
    " - In the second step, if his **age is under 21 or over 30**, the code prints ***yoklukta gideri var***. Otherwise, he has the right to go through the third step. \n",
    "\n",
    " - At the last step, the code prints ***gelinlik bakilsin*** if he is taller than **180**. Otherwise, the output will be ***kismet degilmis***.  \n",
    "\n",
    "Candidates will have vectors consisting of these 3 information. To decide whether they are sufficient to get married, use their vectors as inputs.\n",
    "\n",
    "Jakub has a vector consisting of 5000, 21, 183.\n",
    "\n",
    "Marcin has a vector consisting of 3780, 27, 194.\n",
    "\n",
    "1) Create a function with nested-if statement that takes a vector according to the information given above. Try to build a function with two more *default parameters* for *height_limit* and *money_limit* set to 180 and 4000 respectively.\n",
    "\n",
    "2) Assign these two guys' results to a vector called \"kismetlerim\"."
   ]
  },
  {
   "cell_type": "code",
   "execution_count": null,
   "metadata": {
    "slideshow": {
     "slide_type": "fragment"
    },
    "solution2": "shown"
   },
   "outputs": [],
   "source": [
    "Jakub <- c(5000, 21, 183)\n",
    "Marcin <- c(3780, 27, 194)\n",
    "\n",
    "decide <- function(candidate, height_limit = 180, money_limit = 4000) {\n",
    "    if(candidate[1] > money_limit) {\n",
    "        if(candidate[2] <= 30 && 21 <= candidate[2]) {\n",
    "            if(candidate[3] > height_limit) {\n",
    "                return(\"gelinlik bakilsin\")\n",
    "            } else {\n",
    "                return(\"kismet degilmis\")\n",
    "            } \n",
    "        } else {\n",
    "            return(\"yoklukta gideri var\")\n",
    "        } \n",
    "    } else {\n",
    "        return(\"no way\")\n",
    "    }\n",
    "}\n",
    "\n",
    "kismetlerim <- c(decide(Jakub), decide(Marcin))\n",
    "# alternatively\n",
    "kismetlerim <- sapply(list(Jakub, Marcin), decide)\n",
    "\n",
    "kismetlerim"
   ]
  }
 ],
 "metadata": {
  "kernelspec": {
   "display_name": "R",
   "language": "R",
   "name": "ir"
  },
  "language_info": {
   "codemirror_mode": "r",
   "file_extension": ".r",
   "mimetype": "text/x-r-source",
   "name": "R",
   "pygments_lexer": "r",
   "version": "3.4.3"
  }
 },
 "nbformat": 4,
 "nbformat_minor": 2
}
