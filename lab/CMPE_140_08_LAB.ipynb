{
 "cells": [
  {
   "cell_type": "code",
   "execution_count": null,
   "metadata": {},
   "outputs": [],
   "source": [
    "options(jupyter.rich_display = F)"
   ]
  },
  {
   "cell_type": "markdown",
   "metadata": {},
   "source": [
    "# LAB 8: MATRICES\n",
    "\n",
    "**by Serhat Çevikel** "
   ]
  },
  {
   "cell_type": "markdown",
   "metadata": {},
   "source": [
    "## NEIGHBOUR CITIES"
   ]
  },
  {
   "cell_type": "markdown",
   "metadata": {},
   "source": [
    "We have a 81x81 matrix of bird fly distances in km's between 81 province centers in Turkey. To retrieve this matrix please follw the link below to download the file distance.RData:\n",
    "\n",
    "[distance.RData](../file/distance.RData)"
   ]
  },
  {
   "cell_type": "markdown",
   "metadata": {},
   "source": [
    "After you download the file to your local computer, load the data as such:"
   ]
  },
  {
   "cell_type": "code",
   "execution_count": null,
   "metadata": {},
   "outputs": [],
   "source": [
    "load(\"~/file/distance.RData\")"
   ]
  },
  {
   "cell_type": "code",
   "execution_count": null,
   "metadata": {
    "scrolled": false
   },
   "outputs": [],
   "source": [
    "distance[1:10, 1:10]"
   ]
  },
  {
   "cell_type": "code",
   "execution_count": null,
   "metadata": {
    "scrolled": false
   },
   "outputs": [],
   "source": [
    "distance[1:20, c(\"İstanbul\", \"Ankara\", \"İzmir\", \"Adana\")]"
   ]
  },
  {
   "cell_type": "markdown",
   "metadata": {},
   "source": [
    "Now write a function named **neighbour** that takes three arguments:\n",
    "\n",
    "- city: Either a city code as integer (i.e. 34) or city name (i.e. \"İstanbul\")\n",
    "- radius: Radius in km within which we want to filter the neighbours of the city\n",
    "- dist: A distance matrix, default value of which is the \"distance\" global object\n",
    "\n",
    "as such:\n",
    "\n",
    "```R\n",
    "neighbour(34, 150)\n",
    "\n",
    "  Yalova  Kocaeli    Bursa Tekirdağ  Sakarya  Bilecik \n",
    "      47       78       91      123      127      128\n",
    "```\n",
    "\n",
    "```R\n",
    "neighbour(city = \"Adana\", radius = 100)\n",
    "\n",
    "  Mersin Osmaniye \n",
    "      64       82\n",
    "\n",
    "neighbour(city = \"İzmir\", 50)\n",
    "\n",
    "  Manisa \n",
    "      33\n",
    "```\n",
    "\n",
    "Hints:\n",
    "- Inside the function, first filter the row or column of the matrix for the city. We then have a vector\n",
    "- Then filter the vector such that only those values below or equal to the radius **AND** above 0 are left. Why do we filter out 0 km?\n",
    "- Then sort and return the remaining neighbours"
   ]
  },
  {
   "cell_type": "markdown",
   "metadata": {},
   "source": [
    "### SOLUTION"
   ]
  },
  {
   "cell_type": "code",
   "execution_count": null,
   "metadata": {},
   "outputs": [],
   "source": [
    "neighbour <- function(city, radius, dist = distance)\n",
    "{\n",
    "    row <- dist[city,]\n",
    "    neighs <- row[row <= radius & row > 0]\n",
    "    return(sort(neighs))\n",
    "}\n",
    "\n",
    "neighbour(34, 150)\n",
    "\n",
    "neighbour(city = \"Adana\", radius = 100)\n",
    "\n",
    "neighbour(city = \"İzmir\", 50)"
   ]
  },
  {
   "cell_type": "markdown",
   "metadata": {},
   "source": [
    "## NEIGHBOUR COUNTS"
   ]
  },
  {
   "cell_type": "markdown",
   "metadata": {},
   "source": [
    "Now, use the same distance object.\n",
    "\n",
    "Write a function named **neigh_count** that takes two arguments:\n",
    "\n",
    "- radius\n",
    "- dist with a default value of distance object\n",
    "\n",
    "The function should return the count of neighbouring cities of each city within a radius, sorted descending\n",
    "\n",
    "Hint: Use apply function"
   ]
  },
  {
   "cell_type": "markdown",
   "metadata": {},
   "source": [
    "### SOLUTION"
   ]
  },
  {
   "cell_type": "code",
   "execution_count": null,
   "metadata": {},
   "outputs": [],
   "source": [
    "neigh_count <- function(radius, dist = distance)\n",
    "{\n",
    "    counts <- apply(dist, 1, function(x) sum(x <= radius) - 1)\n",
    "    return(sort(counts, decreasing = T))\n",
    "}\n",
    "                    \n",
    "neigh_count(100)"
   ]
  },
  {
   "cell_type": "markdown",
   "metadata": {},
   "source": [
    "## SQUARE DONUT"
   ]
  },
  {
   "cell_type": "markdown",
   "metadata": {},
   "source": [
    "You are supposed to write a function named \"square_donut\" that takes two arguments n and x:\n",
    "- That creates a square matrix of size n\n",
    "- The outer x squares of the matrix should have 1, while the square \"hole\" in the middle should be all zeros\n",
    "- If x is greater than or equal to the half of n, it should throw a message as \"edge too wide\" and stop\n",
    "\n",
    "So:\n",
    "```R\n",
    "square_donut(7, 2)\n",
    "```\n",
    "returns\n",
    "```\n",
    "1\t1\t1\t1\t1\t1\t1\n",
    "1\t1\t1\t1\t1\t1\t1\n",
    "1\t1\t0\t0\t0\t1\t1\n",
    "1\t1\t0\t0\t0\t1\t1\n",
    "1\t1\t0\t0\t0\t1\t1\n",
    "1\t1\t1\t1\t1\t1\t1\n",
    "1\t1\t1\t1\t1\t1\t1\n",
    "```\n",
    "\n",
    "```R\n",
    "square_donut(6, 3)\n",
    "```\n",
    "returns\n",
    "```\n",
    "'edge too wide'\n",
    "```"
   ]
  },
  {
   "cell_type": "markdown",
   "metadata": {},
   "source": [
    "### SOLUTION"
   ]
  },
  {
   "cell_type": "code",
   "execution_count": null,
   "metadata": {},
   "outputs": [],
   "source": [
    "square_donut <- function(n, x)\n",
    "{\n",
    "    if (x >= n / 2)\n",
    "    {\n",
    "        return(\"edge too wide\")\n",
    "    }\n",
    "    \n",
    "    mat1 <- matrix(1, nrow = n, ncol = n) # create matrix of 1's\n",
    "    startx <- x + 1 # start index of 0's\n",
    "    endx <- n - x # end index of 0's\n",
    "    mat1[startx:endx, startx:endx] <- 0 # create the hole of 0's\n",
    "    \n",
    "    return(mat1)\n",
    "}\n",
    "\n",
    "square_donut(7, 2)\n",
    "square_donut(6, 3)"
   ]
  },
  {
   "cell_type": "markdown",
   "metadata": {},
   "source": [
    "## MINEFIELD"
   ]
  },
  {
   "cell_type": "markdown",
   "metadata": {},
   "source": [
    "The below code creates a sample matrix that represents a minefield: 0 means an empty cell, 1 means a cell with a mine\n",
    "\n",
    "- size: The size of the matrix (row or column count)\n",
    "- density: The ratio of 1 cells to all cells"
   ]
  },
  {
   "cell_type": "code",
   "execution_count": null,
   "metadata": {},
   "outputs": [],
   "source": [
    "new_field <- function(size = 5, density = 0.2)\n",
    "{\n",
    "    vec <- sample(1:0,\n",
    "                  size^2,\n",
    "                  replace = T,\n",
    "                  prob = c(density, 1 - density))\n",
    "    mat <- matrix(vec, nrow = size)\n",
    "    return(mat)\n",
    "}\n",
    "\n",
    "set.seed(1)\n",
    "field1 <- new_field()\n",
    "field1"
   ]
  },
  {
   "cell_type": "markdown",
   "metadata": {},
   "source": [
    "Now write a function named minefield that takes 3 arguments:\n",
    "\n",
    "- rw: An integer for row index\n",
    "- cl: An integer for column index\n",
    "- field: A matrix for the minefield. Default value is the field1 global object\n",
    "\n",
    "The function should first retrieve the value of the cell at the rw and cl indices.\n",
    "\n",
    "If the value is equal to 1, there is a hit, and the function should return 9 (that represents a hit)\n",
    "Else, there is a miss, then we should get the number of neighbouring hits: Meaning the count of 1's in neighbouring eight cells of the target\n",
    "\n",
    "To do that, we should get the the neighbouring row indices. If the target row index is 2, then the neighbouring row indices are 1:3. Do the same for column indices\n",
    "\n",
    "The function should then subset the field matrix for the neighbouring row and column indices, and get the sum of the values in this subset.\n",
    "\n",
    "\n",
    "In this first version the row or column indices should not be 1 or the size of the matrix otherwise the function will return a subscript out of bound error.\n",
    "\n",
    "In a more elegant version, the neighbouring row and column indices can be filtered for the values above 0 and below or equal to the size of the matrix\n",
    "\n",
    "as such:\n",
    "\n",
    "```R\n",
    "minefield(1,1)\n",
    "[1] 2\n",
    "\n",
    "minefield(2,2)\n",
    "[1] 9\n",
    "\n",
    "minefield(2,3)\n",
    "[1] 3\n",
    "```"
   ]
  },
  {
   "cell_type": "markdown",
   "metadata": {},
   "source": [
    "### SOLUTION"
   ]
  },
  {
   "cell_type": "code",
   "execution_count": null,
   "metadata": {},
   "outputs": [],
   "source": [
    "minefield <- function(rw, cl, field = field1)\n",
    "{\n",
    "    val <- field[rw, cl] # get the value\n",
    "        \n",
    "    if (val == 1) # there is a hit\n",
    "    {\n",
    "        return(9)\n",
    "    }\n",
    "    else # there is a miss\n",
    "    {\n",
    "        size <- nrow(field) # max index allowed\n",
    "\n",
    "        rws <- (-1):1 + rw # neighbouring row indices\n",
    "        rws <- rws[rws > 0 & rws <= size] # filter between 1 and size\n",
    "        \n",
    "        cls <- (-1):1 + cl  # neighbouring column indices\n",
    "        cls <- cls[cls > 0 & cls <= size] # filter between 1 and size\n",
    "        \n",
    "        sub <- field[rws, cls] # subset the neighours\n",
    "        return(sum(sub)) # return the sum of neighbouring hits\n",
    "    }\n",
    "}\n",
    "\n",
    "minefield(1,1)\n",
    "minefield(2,2)\n",
    "minefield(2,3)"
   ]
  },
  {
   "cell_type": "markdown",
   "metadata": {},
   "source": [
    "## RIDDLE DOWN THE MATRIX"
   ]
  },
  {
   "cell_type": "markdown",
   "metadata": {},
   "source": [
    "You are given a matrix generator function as such:\n",
    "\n",
    "```R\n",
    "matrix_gen <- function(maxx = 100, nr = 5, nc = 5)\n",
    "{\n",
    "    matrix(sample(maxx, nr * nc, replace = T), nrow = nr) \n",
    "}\n",
    "```\n",
    "\n",
    "```R\n",
    "Using this matrix, you will write a function as such:\n",
    "\n",
    "max_path <- function(matt)\n",
    "{\n",
    "\n",
    "...\n",
    "\n",
    "}\n",
    "```\n",
    "\n",
    "\n",
    "That will return the maximum sum to be attained when a path is selected from the first row to the end, in each step of which you can select any of the adjacent cells (straight down, down left, down right) on the next row."
   ]
  },
  {
   "cell_type": "markdown",
   "metadata": {},
   "source": [
    "Let's say, for a random 3x3 matrix of 1:10 values:\n",
    "\n",
    "```R\n",
    "mattt <- matrix_gen(10, 3, 3)\n",
    "mattt\n",
    "     [,1] [,2] [,3]\n",
    "[1,]    9    3    4\n",
    "[2,]    4    4    3\n",
    "[3,]    6    5    9\n",
    "```\n",
    "```R\n",
    "max_path(mattt)\n",
    "[1] 22\n",
    "```\n",
    "\n",
    "(I guess when you follow the primary diagon)\n",
    "\n",
    "\n",
    "Or when:\n",
    "\n",
    "```R\n",
    "mattt <- matrix_gen(10, 5, 5)\n",
    "mattt\n",
    "     [,1] [,2] [,3] [,4] [,5]\n",
    "[1,]    2    8    2   10    9\n",
    "[2,]    3    5    5   10    3\n",
    "[3,]    9    8   10   10   10\n",
    "[4,]    8    5    6    7    5\n",
    "[5,]    5    1    6    9    1\n",
    "```\n",
    "\n",
    "The result is:\n",
    "\n",
    "```\n",
    "max_path(mattt)\n",
    "[1] 46\n",
    "```\n",
    "\n",
    "(I guess it is the 4th column)\n",
    "\n",
    "HINT: You may make use of pmax() function or just apply()"
   ]
  },
  {
   "cell_type": "markdown",
   "metadata": {},
   "source": [
    "### SOLUTION"
   ]
  },
  {
   "cell_type": "code",
   "execution_count": null,
   "metadata": {},
   "outputs": [],
   "source": [
    "matrix_gen <- function(maxx = 100, nr = 5, nc = 5)\n",
    "{\n",
    "    matrix(sample(maxx, nr * nc, replace = T), nrow = nr)\n",
    "}\n",
    "\n",
    "max_path <- function(matt)\n",
    "{\n",
    "    # we will track a vector length of which is equal to the number of the rows and\n",
    "    # that shows the max sums for each cell in the current row up to that row\n",
    "    # we take the first row as the initial value for this vector (the values show the maximum sum for each column up to that point!)\n",
    "    sums_vec <- matt[1,]\n",
    "\n",
    "    # get the dimensions of the original matrix. can also be done with dim()\n",
    "    nc <- ncol(matt)\n",
    "    nr <- nrow(matt)\n",
    "    \n",
    "    # across rows, starting from the second one\n",
    "    # on the first row the max values up to that row are the values themselves\n",
    "    for (roww in 2:nr) \n",
    "    {\n",
    "        # takes three vector:\n",
    "        # the original sums_vec, the sums_vec offset to left and offset to right\n",
    "        # this is done by adding a zero to left/trimming from right \n",
    "        # or adding a zero to right/trimming from left\n",
    "        # why? we can come to a cell from straight up, left up or right up\n",
    "        # so for each cell in the row we should the select the max of these three values\n",
    "        # pmax does it pairwise (or triple wise in this case)\n",
    "        # this is the critical part of the code\n",
    "        max_of_sums_vec <- pmax(c(0, sums_vec[-nc]), sums_vec, c(sums_vec[-1], 0))\n",
    "\n",
    "        # update the sums vec: add the maximum sums vector (that shows the maximum sums up to that row for each cell)\n",
    "        # to the current row\n",
    "        sums_vec <- matt[roww,] + max_of_sums_vec\n",
    "    }\n",
    "\n",
    "    # we have come to the last row\n",
    "    # now just take the maximum of the last sums_vec\n",
    "    maxval <- max(sums_vec)\n",
    "\n",
    "    return(maxval)\n",
    "\n",
    "}\n",
    "\n",
    "mat1 <- matrix_gen(10, 3, 3)\n",
    "mat1\n",
    "max_path(mat1)"
   ]
  }
 ],
 "metadata": {
  "kernelspec": {
   "display_name": "R",
   "language": "R",
   "name": "ir"
  },
  "language_info": {
   "codemirror_mode": "r",
   "file_extension": ".r",
   "mimetype": "text/x-r-source",
   "name": "R",
   "pygments_lexer": "r",
   "version": "3.5.3"
  },
  "toc": {
   "base_numbering": 1,
   "nav_menu": {},
   "number_sections": true,
   "sideBar": true,
   "skip_h1_title": false,
   "title_cell": "Table of Contents",
   "title_sidebar": "Contents",
   "toc_cell": false,
   "toc_position": {},
   "toc_section_display": "block",
   "toc_window_display": false
  }
 },
 "nbformat": 4,
 "nbformat_minor": 2
}
