{
 "cells": [
  {
   "cell_type": "markdown",
   "metadata": {},
   "source": [
    "# SQUARE DONUT"
   ]
  },
  {
   "cell_type": "markdown",
   "metadata": {},
   "source": [
    "**by Serhat Çevikel**"
   ]
  },
  {
   "cell_type": "markdown",
   "metadata": {},
   "source": [
    "You are supposed to write a function named \"square_donut\" that takes two arguments n and x:\n",
    "- That creates a square matrix of size n\n",
    "- The outer x squares of the matrix should have 1, while the square \"hole\" in the middle should be all zeros\n",
    "- If x is greater than or equal to the half of n, it should throw a message as \"edge too wide\" and stop\n",
    "\n",
    "So:\n",
    "```R\n",
    "square_donut(7, 2)\n",
    "```\n",
    "returns\n",
    "```\n",
    "1\t1\t1\t1\t1\t1\t1\n",
    "1\t1\t1\t1\t1\t1\t1\n",
    "1\t1\t0\t0\t0\t1\t1\n",
    "1\t1\t0\t0\t0\t1\t1\n",
    "1\t1\t0\t0\t0\t1\t1\n",
    "1\t1\t1\t1\t1\t1\t1\n",
    "1\t1\t1\t1\t1\t1\t1\n",
    "```\n",
    "\n",
    "```R\n",
    "square_donut(6, 3)\n",
    "```\n",
    "returns\n",
    "```\n",
    "'edge too wide'\n",
    "```"
   ]
  },
  {
   "cell_type": "markdown",
   "metadata": {},
   "source": [
    "## SOLUTION"
   ]
  },
  {
   "cell_type": "code",
   "execution_count": null,
   "metadata": {},
   "outputs": [],
   "source": [
    "square_donut <- function(n, x)\n",
    "{\n",
    "    if (x >= n / 2)\n",
    "    {\n",
    "        return(\"edge too wide\")\n",
    "    }\n",
    "    \n",
    "    mat1 <- matrix(1, nrow = n, ncol = n) # create matrix of 1's\n",
    "    startx <- x + 1 # start index of 0's\n",
    "    endx <- n - x # end index of 0's\n",
    "    mat1[startx:endx, startx:endx] <- 0 # create the hole of 0's\n",
    "    \n",
    "    return(mat1)\n",
    "}"
   ]
  },
  {
   "cell_type": "code",
   "execution_count": null,
   "metadata": {},
   "outputs": [],
   "source": [
    "square_donut(16, 2)"
   ]
  },
  {
   "cell_type": "markdown",
   "metadata": {},
   "source": [
    "# RIDDLE DOWN THE MATRIX"
   ]
  },
  {
   "cell_type": "markdown",
   "metadata": {},
   "source": [
    "You are given a matrix generator function as such:\n",
    "\n",
    "```R\n",
    "matrix_gen <- function(maxx = 100, nr = 5, nc = 5)\n",
    "{\n",
    "    matrix(sample(maxx, nr * nc, replace = T), nrow = nr) \n",
    "}\n",
    "```\n",
    "\n",
    "```R\n",
    "Using this matrix, you will write a function as such:\n",
    "\n",
    "max_path <- function(matt)\n",
    "{\n",
    "\n",
    "...\n",
    "\n",
    "}\n",
    "```\n",
    "\n",
    "\n",
    "That will return the maximum sum to be attained when a path is selected from the first row to the end, in each step of which you can select any of the adjacent cells (straight down, down left, down right) on the next row."
   ]
  },
  {
   "cell_type": "markdown",
   "metadata": {},
   "source": [
    "Let's say, for a random 3x3 matrix of 1:10 values:\n",
    "\n",
    "```R\n",
    "mattt <- matrix_gen(10, 3, 3)\n",
    "mattt\n",
    "     [,1] [,2] [,3]\n",
    "[1,]    9    3    4\n",
    "[2,]    4    4    3\n",
    "[3,]    6    5    9\n",
    "```\n",
    "```R\n",
    "max_path(mattt)\n",
    "[1] 22\n",
    "```\n",
    "\n",
    "(I guess when you follow the primary diagon)\n",
    "\n",
    "\n",
    "Or when:\n",
    "\n",
    "```R\n",
    "mattt <- matrix_gen(10, 5, 5)\n",
    "mattt\n",
    "     [,1] [,2] [,3] [,4] [,5]\n",
    "[1,]    2    8    2   10    9\n",
    "[2,]    3    5    5   10    3\n",
    "[3,]    9    8   10   10   10\n",
    "[4,]    8    5    6    7    5\n",
    "[5,]    5    1    6    9    1\n",
    "```\n",
    "\n",
    "The result is:\n",
    "\n",
    "```\n",
    "max_path(mattt)\n",
    "[1] 46\n",
    "```\n",
    "\n",
    "(I guess it is the 4th column)\n",
    "\n",
    "HINT: You may make use of pmax() function or just apply()"
   ]
  },
  {
   "cell_type": "markdown",
   "metadata": {},
   "source": [
    "## SOLUTION"
   ]
  },
  {
   "cell_type": "code",
   "execution_count": null,
   "metadata": {},
   "outputs": [],
   "source": [
    "matrix_gen <- function(maxx = 100, nr = 5, nc = 5)\n",
    "{\n",
    "    matrix(sample(maxx, nr * nc, replace = T), nrow = nr)\n",
    "}\n",
    "\n",
    "max_path <- function(matt)\n",
    "{\n",
    "    # we will track a vector length of which is equal to the number of the rows and\n",
    "    # that shows the max sums for each cell in the current row up to that row\n",
    "    # we take the first row as the initial value for this vector (the values show the maximum sum for each column up to that point!)\n",
    "    sums_vec <- matt[1,]\n",
    "\n",
    "    # get the dimensions of the original matrix. can also be done with dim()\n",
    "    nc <- ncol(matt)\n",
    "    nr <- nrow(matt)\n",
    "    \n",
    "    # across rows, starting from the second one\n",
    "    # on the first row the max values up to that row are the values themselves\n",
    "    for (roww in 2:nr) \n",
    "    {\n",
    "        # takes three vector:\n",
    "        # the original sums_vec, the sums_vec offset to left and offset to right\n",
    "        # this is done by adding a zero to left/trimming from right \n",
    "        # or adding a zero to right/trimming from left\n",
    "        # why? we can come to a cell from straight up, left up or right up\n",
    "        # so for each cell in the row we should the select the max of these three values\n",
    "        # pmax does it pairwise (or triple wise in this case)\n",
    "        # this is the critical part of the code\n",
    "        max_of_sums_vec <- pmax(c(0, sums_vec[-nc]), sums_vec, c(sums_vec[-1], 0))\n",
    "\n",
    "        # update the sums vec: add the maximum sums vector (that shows the maximum sums up to that row for each cell)\n",
    "        # to the current row\n",
    "        sums_vec <- matt[roww,] + max_of_sums_vec\n",
    "    }\n",
    "\n",
    "    # we have come to the last row\n",
    "    # now just take the maximum of the last sums_vec\n",
    "    maxval <- max(sums_vec)\n",
    "\n",
    "    return(maxval)\n",
    "\n",
    "}"
   ]
  },
  {
   "cell_type": "code",
   "execution_count": null,
   "metadata": {},
   "outputs": [],
   "source": [
    "mat1 <- matrix_gen(10, 3, 3)\n",
    "mat1\n",
    "max_path(mat1)"
   ]
  },
  {
   "cell_type": "code",
   "execution_count": null,
   "metadata": {},
   "outputs": [],
   "source": []
  }
 ],
 "metadata": {
  "kernelspec": {
   "display_name": "R",
   "language": "R",
   "name": "ir"
  },
  "language_info": {
   "codemirror_mode": "r",
   "file_extension": ".r",
   "mimetype": "text/x-r-source",
   "name": "R",
   "pygments_lexer": "r",
   "version": "3.5.2"
  },
  "toc": {
   "base_numbering": 1,
   "nav_menu": {},
   "number_sections": true,
   "sideBar": true,
   "skip_h1_title": false,
   "title_cell": "Table of Contents",
   "title_sidebar": "Contents",
   "toc_cell": false,
   "toc_position": {},
   "toc_section_display": "block",
   "toc_window_display": false
  }
 },
 "nbformat": 4,
 "nbformat_minor": 2
}
