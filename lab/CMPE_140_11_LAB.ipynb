{
 "cells": [
  {
   "cell_type": "code",
   "execution_count": null,
   "metadata": {},
   "outputs": [],
   "source": [
    "options(jupyter.rich_display = F)"
   ]
  },
  {
   "cell_type": "markdown",
   "metadata": {},
   "source": [
    "# WRANGLING AN ECONOMIC DATA SET: IMF WORLD ECONOMIC OUTLOOK\n",
    "\n",
    "**by Serhat Çevikel**"
   ]
  },
  {
   "cell_type": "markdown",
   "metadata": {},
   "source": [
    "Today we will wrangle and analyze 2016 data of World Economic Outlook dataset by IMF"
   ]
  },
  {
   "cell_type": "markdown",
   "metadata": {},
   "source": [
    "First please download following two data files and four R object files:\n",
    "\n",
    "[weo_2016_wide_2.csv](../file/weo_2016_wide_2.csv)\n",
    "\n",
    "[weo_description.csv](../file/weo_description.csv)\n",
    "\n",
    "[weo_subset2.RData](../file/weo_subset2.RData)\n",
    "\n",
    "[gdp_agg.RData](../file/gdp_agg.RData)\n",
    "\n",
    "[weo_merged.RData](../file/weo_merged.RData)\n",
    "\n",
    "[weo_merged2.RData](../file/weo_merged2.RData)"
   ]
  },
  {
   "cell_type": "markdown",
   "metadata": {},
   "source": [
    "And read the data into R as such:"
   ]
  },
  {
   "cell_type": "code",
   "execution_count": null,
   "metadata": {},
   "outputs": [],
   "source": [
    "weo_data <- read.csv(\"~/file/weo_2016_wide_2.csv\")\n",
    "weo_desc <- read.csv(\"~/file/weo_description.csv\")"
   ]
  },
  {
   "cell_type": "markdown",
   "metadata": {},
   "source": [
    "Let's take a quick snapshot of the data:"
   ]
  },
  {
   "cell_type": "code",
   "execution_count": null,
   "metadata": {},
   "outputs": [],
   "source": [
    "str(weo_data)"
   ]
  },
  {
   "cell_type": "code",
   "execution_count": null,
   "metadata": {},
   "outputs": [],
   "source": [
    "str(weo_desc)"
   ]
  },
  {
   "cell_type": "code",
   "execution_count": null,
   "metadata": {},
   "outputs": [],
   "source": [
    "head(weo_desc, 11)"
   ]
  },
  {
   "cell_type": "markdown",
   "metadata": {},
   "source": [
    "There are 45 numeric variables for 194 countries (some of the data might be missing). We will be interested in only a few of those series"
   ]
  },
  {
   "cell_type": "markdown",
   "metadata": {},
   "source": [
    "Let's start with real GDP growth. The code of the series is NGDP_RPCH.\n",
    "\n",
    "First let's plot the series:"
   ]
  },
  {
   "cell_type": "code",
   "execution_count": null,
   "metadata": {},
   "outputs": [],
   "source": [
    "plot(weo_data$NGDP_RPCH)"
   ]
  },
  {
   "cell_type": "markdown",
   "metadata": {},
   "source": [
    "Quite dispersed...\n",
    "\n",
    "Let's see the fastest and slowest ten growers in 2016:"
   ]
  },
  {
   "cell_type": "code",
   "execution_count": null,
   "metadata": {},
   "outputs": [],
   "source": [
    "weo_data[order(weo_data$NGDP_RPCH),c(\"Country\", \"NGDP_RPCH\")][1:10,]"
   ]
  },
  {
   "cell_type": "code",
   "execution_count": null,
   "metadata": {},
   "outputs": [],
   "source": [
    "weo_data[order(weo_data$NGDP_RPCH, decreasing = T),c(\"Country\", \"NGDP_RPCH\")][1:10,]"
   ]
  },
  {
   "cell_type": "markdown",
   "metadata": {},
   "source": [
    "It is very thought-provoking that both the fastest and slowest growers are natural resource rich countries"
   ]
  },
  {
   "cell_type": "markdown",
   "metadata": {},
   "source": [
    "Can we consider that 7.3% growth rate of Iceland and similar growth rate of Bhutan are comparable performances?\n",
    "\n",
    "Now let's include a second variable: Per capita GDP (PPP). The series name is PPPPC. The \"Purchasing Power Parity\" adjustment accounts for differences in cost of living"
   ]
  },
  {
   "cell_type": "markdown",
   "metadata": {},
   "source": [
    "Let's first subset the relavant columns:"
   ]
  },
  {
   "cell_type": "code",
   "execution_count": null,
   "metadata": {},
   "outputs": [],
   "source": [
    "weo_subset <- weo_data[,c(\"Country\", \"NGDP_RPCH\", \"PPPPC\")]\n",
    "weo_subset"
   ]
  },
  {
   "cell_type": "markdown",
   "metadata": {},
   "source": [
    "# EXCLUDE MISSING CASES"
   ]
  },
  {
   "cell_type": "markdown",
   "metadata": {},
   "source": [
    "Now we will exclude rows with missing information. complete.cases and na.omit will do that"
   ]
  },
  {
   "cell_type": "code",
   "execution_count": null,
   "metadata": {},
   "outputs": [],
   "source": [
    "missing <- which(!(complete.cases(weo_subset)))\n",
    "missing"
   ]
  },
  {
   "cell_type": "code",
   "execution_count": null,
   "metadata": {},
   "outputs": [],
   "source": [
    "weo_subset[missing,]"
   ]
  },
  {
   "cell_type": "code",
   "execution_count": null,
   "metadata": {},
   "outputs": [],
   "source": [
    "weo_subset2 <- na.omit(weo_subset)"
   ]
  },
  {
   "cell_type": "code",
   "execution_count": null,
   "metadata": {},
   "outputs": [],
   "source": [
    "which(!(complete.cases(weo_subset2)))"
   ]
  },
  {
   "cell_type": "markdown",
   "metadata": {},
   "source": [
    "# SCATTERPLOT ACROSS GDP GROWTH AND GDP PER CAPITA"
   ]
  },
  {
   "cell_type": "code",
   "execution_count": null,
   "metadata": {
    "scrolled": false
   },
   "outputs": [],
   "source": [
    "plot(weo_subset2[,-1])"
   ]
  },
  {
   "cell_type": "markdown",
   "metadata": {},
   "source": [
    "We see a weak positive relationship between income level and growth. In fact low and middle income countries are expected to grow faster than high income countries do in the long term\n",
    "\n",
    "So the growth performances must be benchmarked against respective income categories"
   ]
  },
  {
   "cell_type": "markdown",
   "metadata": {},
   "source": [
    "# DISCRETIZATION OF CONTINUOUS VARIABLES"
   ]
  },
  {
   "cell_type": "markdown",
   "metadata": {},
   "source": [
    "Now we will create three income categories and add that as an additional variable"
   ]
  },
  {
   "cell_type": "markdown",
   "metadata": {},
   "source": [
    "First let's have a five point summary + Mean:"
   ]
  },
  {
   "cell_type": "code",
   "execution_count": null,
   "metadata": {},
   "outputs": [],
   "source": [
    "summary(weo_subset2$PPPPC)"
   ]
  },
  {
   "cell_type": "markdown",
   "metadata": {},
   "source": [
    "We want the groups to be of same size:"
   ]
  },
  {
   "cell_type": "code",
   "execution_count": null,
   "metadata": {},
   "outputs": [],
   "source": [
    "brks <- quantile(weo_subset2$PPPPC, c(0, 1/3, 2/3, 1))\n",
    "brks"
   ]
  },
  {
   "cell_type": "code",
   "execution_count": null,
   "metadata": {},
   "outputs": [],
   "source": [
    "weo_subset2$income <- cut(weo_subset2$PPPPC,\n",
    "                          breaks = brks,\n",
    "                          label = c(\"low\", \"middle\", \"high\"))"
   ]
  },
  {
   "cell_type": "markdown",
   "metadata": {},
   "source": [
    "Let's see whether the groups are divided evenly:"
   ]
  },
  {
   "cell_type": "code",
   "execution_count": null,
   "metadata": {},
   "outputs": [],
   "source": [
    "table(weo_subset2$income)"
   ]
  },
  {
   "cell_type": "markdown",
   "metadata": {},
   "source": [
    "Now let's see which countries are in which group:"
   ]
  },
  {
   "cell_type": "code",
   "execution_count": null,
   "metadata": {},
   "outputs": [],
   "source": [
    "with(weo_subset2, split(Country, income))"
   ]
  },
  {
   "cell_type": "markdown",
   "metadata": {},
   "source": [
    "In fact this classification does not correspond to the classification made by Worldbank, IMF or similar supranational agencies, but it doesn't matter. Simplicity is more important here"
   ]
  },
  {
   "cell_type": "markdown",
   "metadata": {},
   "source": [
    "# Exercise 1: Aggregate data"
   ]
  },
  {
   "cell_type": "markdown",
   "metadata": {},
   "source": [
    "You can load the necessary object if you couldn't follow the steps up to now:"
   ]
  },
  {
   "cell_type": "code",
   "execution_count": null,
   "metadata": {},
   "outputs": [],
   "source": [
    "load(\"~/file/weo_subset2.RData\")"
   ]
  },
  {
   "cell_type": "markdown",
   "metadata": {},
   "source": [
    "Remember the aggregate function:\n",
    "\n",
    "```R\n",
    "aggregate(x, by, FUN, ..., simplify = TRUE, drop = TRUE)\n",
    "```"
   ]
  },
  {
   "cell_type": "markdown",
   "metadata": {},
   "source": [
    "Now please get the **median** growth rate (NGDP_RPCH) for each income category and save into gdp_agg. The column names should be income and gdpg as such:\n",
    "\n",
    "```R\n",
    "  income gdpg \n",
    "1 low    3.969\n",
    "2 middle 2.849\n",
    "3 high   2.197\n",
    "```\n",
    "\n",
    "Note that by argument takes a list object. You may use with() and median() functions along with aggregate and olsa names() function"
   ]
  },
  {
   "cell_type": "markdown",
   "metadata": {},
   "source": [
    "**Solution:**"
   ]
  },
  {
   "cell_type": "code",
   "execution_count": null,
   "metadata": {
    "scrolled": true
   },
   "outputs": [],
   "source": [
    "aggregate(weo_subset2$NGDP_RPCH,\n",
    "          by = list(weo_subset2$income),\n",
    "                          FUN = median)"
   ]
  },
  {
   "cell_type": "code",
   "execution_count": null,
   "metadata": {},
   "outputs": [],
   "source": [
    "gdp_agg <- with(weo_subset2,\n",
    "                aggregate(NGDP_RPCH,\n",
    "                          by = list(income),\n",
    "                          FUN = median))\n",
    "names(gdp_agg) <- c(\"income\", \"gdpg\")\n",
    "gdp_agg"
   ]
  },
  {
   "cell_type": "markdown",
   "metadata": {},
   "source": [
    "As you see, low income countries grow faster on the average than middle and high income countries"
   ]
  },
  {
   "cell_type": "markdown",
   "metadata": {},
   "source": [
    "# Exercise 2: Merge"
   ]
  },
  {
   "cell_type": "markdown",
   "metadata": {},
   "source": [
    "You can load the necessary objects if you couldn't follow the steps up to now:"
   ]
  },
  {
   "cell_type": "code",
   "execution_count": null,
   "metadata": {},
   "outputs": [],
   "source": [
    "load(\"~/file/weo_subset2.RData\")\n",
    "load(\"~/file/gdp_agg.RData\")"
   ]
  },
  {
   "cell_type": "markdown",
   "metadata": {},
   "source": [
    "Now, based on the common column \"income\", merge data frames weo_subset2 and gdp_agg into weo_merged DF so that the median growth of the respective income group can be tracked along for all countries"
   ]
  },
  {
   "cell_type": "markdown",
   "metadata": {},
   "source": [
    "**Solution:**"
   ]
  },
  {
   "cell_type": "code",
   "execution_count": null,
   "metadata": {},
   "outputs": [],
   "source": [
    "weo_merged <- merge(weo_subset2, gdp_agg, by = \"income\")\n",
    "weo_merged"
   ]
  },
  {
   "cell_type": "markdown",
   "metadata": {},
   "source": [
    "# Exercise 3: Get the deviation"
   ]
  },
  {
   "cell_type": "markdown",
   "metadata": {},
   "source": [
    "You can load the necessary objects if you couldn't follow the steps up to now:"
   ]
  },
  {
   "cell_type": "code",
   "execution_count": null,
   "metadata": {},
   "outputs": [],
   "source": [
    "load(\"~/file/weo_merged.RData\")"
   ]
  },
  {
   "cell_type": "markdown",
   "metadata": {},
   "source": [
    "First create a copy of the object as such:"
   ]
  },
  {
   "cell_type": "code",
   "execution_count": null,
   "metadata": {},
   "outputs": [],
   "source": [
    "weo_merged2 <- weo_merged"
   ]
  },
  {
   "cell_type": "markdown",
   "metadata": {},
   "source": [
    "Now create a new column that calculates the difference between the gdp growth rate of the country (NGDP_RPCH) and the median growth of its respective group (gdpg). Add the new column into weo_merged2 as \"dev\" "
   ]
  },
  {
   "cell_type": "markdown",
   "metadata": {},
   "source": [
    "**Solution:**"
   ]
  },
  {
   "cell_type": "code",
   "execution_count": null,
   "metadata": {},
   "outputs": [],
   "source": [
    "weo_merged2$dev <- with(weo_merged2, NGDP_RPCH - gdpg)\n",
    "\n",
    "#weo_merged2$dev <- weo_merged2$NGDP_RPCH - weo_merged2$gdpg"
   ]
  },
  {
   "cell_type": "code",
   "execution_count": null,
   "metadata": {},
   "outputs": [],
   "source": [
    "weo_merged2"
   ]
  },
  {
   "cell_type": "markdown",
   "metadata": {},
   "source": [
    "# Exercise 4: Plot the best and worst performances"
   ]
  },
  {
   "cell_type": "markdown",
   "metadata": {},
   "source": [
    "You can load the necessary objects if you couldn't follow the steps up to now:"
   ]
  },
  {
   "cell_type": "code",
   "execution_count": null,
   "metadata": {},
   "outputs": [],
   "source": [
    "load(\"~/file/weo_merged2.RData\")"
   ]
  },
  {
   "cell_type": "markdown",
   "metadata": {},
   "source": [
    "Now using weo_merged2, create a bar chart for the top worst and best performers according to the deviation column \n",
    "\n",
    "Note that the data should be a numeric vector, the labels should be pased by \"names.arg\" argument and for better display of country names use las = 2 as the last option to barplot"
   ]
  },
  {
   "cell_type": "markdown",
   "metadata": {},
   "source": [
    "**Solution:**"
   ]
  },
  {
   "cell_type": "code",
   "execution_count": null,
   "metadata": {},
   "outputs": [],
   "source": [
    "best <- weo_merged2[order(weo_merged2$dev, decreasing = T),\n",
    "                    c(\"Country\", \"dev\")][1:10,]"
   ]
  },
  {
   "cell_type": "code",
   "execution_count": null,
   "metadata": {
    "scrolled": false
   },
   "outputs": [],
   "source": [
    "with(best, barplot(dev, names.arg = Country, las = 2))"
   ]
  },
  {
   "cell_type": "code",
   "execution_count": null,
   "metadata": {},
   "outputs": [],
   "source": [
    "worst <- weo_merged2[order(weo_merged2$dev),\n",
    "                     c(\"Country\", \"dev\")][1:10,]"
   ]
  },
  {
   "cell_type": "code",
   "execution_count": null,
   "metadata": {
    "scrolled": false
   },
   "outputs": [],
   "source": [
    "with(worst, barplot(dev, names.arg = Country, las = 2))"
   ]
  }
 ],
 "metadata": {
  "kernelspec": {
   "display_name": "R",
   "language": "R",
   "name": "ir"
  },
  "language_info": {
   "codemirror_mode": "r",
   "file_extension": ".r",
   "mimetype": "text/x-r-source",
   "name": "R",
   "pygments_lexer": "r",
   "version": "3.6.0"
  },
  "toc": {
   "base_numbering": 1,
   "nav_menu": {},
   "number_sections": true,
   "sideBar": true,
   "skip_h1_title": false,
   "title_cell": "Table of Contents",
   "title_sidebar": "Contents",
   "toc_cell": false,
   "toc_position": {},
   "toc_section_display": "block",
   "toc_window_display": false
  }
 },
 "nbformat": 4,
 "nbformat_minor": 2
}
