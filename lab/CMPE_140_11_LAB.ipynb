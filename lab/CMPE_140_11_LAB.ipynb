{
 "cells": [
  {
   "cell_type": "markdown",
   "metadata": {},
   "source": [
    "# Flight distances\n",
    "\n",
    "We have latitude or longitude values for all 81 provinces and we have to calculate distances between them.\n",
    "\n",
    "## Get Coordinates\n",
    "\n",
    "Copy this method below to load _coordinates.csv_ file into the flights _DataFrame_ first."
   ]
  },
  {
   "cell_type": "code",
   "execution_count": null,
   "metadata": {
    "scrolled": true
   },
   "outputs": [],
   "source": [
    "coordinates <- read.csv(\"coordinates.csv\", row.names = 1, fileEncoding = \"UTF-8\")\n",
    "head(coordinates)"
   ]
  },
  {
   "cell_type": "markdown",
   "metadata": {},
   "source": [
    "## Reminder\n",
    "\n",
    "A data frame is actually a _list_ of equal-length _vectors_."
   ]
  },
  {
   "cell_type": "markdown",
   "metadata": {},
   "source": [
    "Make sure your data is in dataframe format."
   ]
  },
  {
   "cell_type": "code",
   "execution_count": null,
   "metadata": {},
   "outputs": [],
   "source": [
    "class(coordinates)\n",
    "coordinates <- as.data.frame(coordinates)"
   ]
  },
  {
   "cell_type": "markdown",
   "metadata": {},
   "source": [
    "In order to reach the latitudes of the coordinates dataframe:"
   ]
  },
  {
   "cell_type": "code",
   "execution_count": null,
   "metadata": {},
   "outputs": [],
   "source": [
    "coordinates$lat\n",
    "coordinates[[1]]\n",
    "coordinates[,1]"
   ]
  },
  {
   "cell_type": "markdown",
   "metadata": {},
   "source": [
    "In order to reach the latitude of a given city in dataframe:"
   ]
  },
  {
   "cell_type": "code",
   "execution_count": null,
   "metadata": {},
   "outputs": [],
   "source": [
    "coordinates[\"Adana\", \"lat\"]\n",
    "coordinates[1, 1]"
   ]
  },
  {
   "cell_type": "markdown",
   "metadata": {},
   "source": [
    "In order to reach the coordinates of a given city in dataframe:"
   ]
  },
  {
   "cell_type": "code",
   "execution_count": null,
   "metadata": {},
   "outputs": [],
   "source": [
    "coordinates[c(\"Adana\", \"Adıyaman\"),]\n",
    "coordinates[c(\"Adana\", \"Adıyaman\"), 1:2]"
   ]
  },
  {
   "cell_type": "markdown",
   "metadata": {},
   "source": [
    "In order to reach the cities whose latitude is between 36 and 37."
   ]
  },
  {
   "cell_type": "code",
   "execution_count": null,
   "metadata": {},
   "outputs": [],
   "source": [
    "coordinates[(coordinates$lat > 36 & coordinates$lat < 37),]"
   ]
  },
  {
   "cell_type": "markdown",
   "metadata": {
    "solution2": "hidden",
    "solution2_first": true
   },
   "source": [
    "## Calculate Distance\n",
    "\n",
    "In order to calculate distance between two points on earth we use the function below:\n",
    "\n",
    "\\begin{align}\n",
    "a &= sin^2(\\Delta\\varphi/2) + cos\\varphi_1 * cos\\varphi_2 * sin^2(\\Delta\\lambda/2) \\\\\n",
    "c &= 2 * atan2(\\sqrt{a}, \\sqrt{1-a}) \\\\\n",
    "d &= R * c\n",
    "\\end{align}\n",
    "\n",
    "where $\\varphi$ is latitude and $\\lambda$ is longitude, and $R$ represents radius which is  6.371km.\n",
    "\n",
    "We will write a function named *calculate\\_distance* which will calculate the distance between two points on earth using the formula above.\n",
    "\n",
    " - $\\Delta$ means the difference (between latitude or longitude values)\n",
    " - $d$ is the distance we try to find\n",
    " \n",
    "**Note**: Function above works on radians but given coordinates are in degrees. In order to convert them, you should use $r = d * \\pi / 180$ where $d$ is degree and $r$ is radians.\n",
    "\n",
    "**Hint**:\n",
    "\n",
    "```R\n",
    "# Function in R\n",
    "atan2()\n",
    "```\n",
    "#### Example usage\n",
    "```R\n",
    "> calculate_distance(coordinates[\"Adana\",], coordinates[\"Adıyaman\",])\n",
    "274.130329948729\n",
    "```"
   ]
  },
  {
   "cell_type": "code",
   "execution_count": null,
   "metadata": {
    "solution2": "hidden"
   },
   "outputs": [],
   "source": [
    "# http://www.movable-type.co.uk/scripts/latlong.html\n",
    "calculate_distance <- function(prov1, prov2)\n",
    "{\n",
    "  rad_earth <- 6371 # radius of earth\n",
    "  \n",
    "  coor1 <- prov1 * pi / 180\n",
    "  coor2 <- prov2 * pi / 180\n",
    "  \n",
    "  lat1 <- coor1$lat\n",
    "  lng1 <- coor1$lng\n",
    "  \n",
    "  lat2 <- coor2$lat\n",
    "  lng2 <- coor2$lng\n",
    "  \n",
    "  dlat <- lat1 - lat2\n",
    "  dlng <- lng1 - lng2\n",
    "  \n",
    "  a <- sin(dlat / 2)^2 + cos(lat1) * cos(lat2) * sin(dlng / 2)^2\n",
    "  \n",
    "  cc <- 2 * atan2(sqrt(a), sqrt(1-a))\n",
    "  \n",
    "  distance <- rad_earth * cc\n",
    "  \n",
    "  return(distance)\n",
    "}"
   ]
  },
  {
   "cell_type": "markdown",
   "metadata": {},
   "source": [
    "## Generate Distance Matrix\n",
    "\n",
    "We will write the function *distance_mat_gen* which will calculate all the distances of a given coordinates and return them as a data frame. In our case, column and row names should be corresponding provinces.\n",
    "\n",
    "#### Example Usage"
   ]
  },
  {
   "cell_type": "code",
   "execution_count": null,
   "metadata": {
    "scrolled": false,
    "solution2": "hidden",
    "solution2_first": true
   },
   "outputs": [],
   "source": [
    "distance_mat <- distance_mat_gen(coordinates)\n",
    "head(distance_mat)"
   ]
  },
  {
   "cell_type": "code",
   "execution_count": null,
   "metadata": {},
   "outputs": [],
   "source": [
    " nprov <- nrow(coordinates)\n",
    "nprov\n",
    "  distance_mat = as.data.frame(matrix(nrow = nprov, ncol = nprov),\n",
    "                               row.names=row.names(coordinates))"
   ]
  },
  {
   "cell_type": "code",
   "execution_count": null,
   "metadata": {},
   "outputs": [],
   "source": [
    "distance_mat_gen <- function(coordinates)\n",
    "{\n",
    "  nprov <- nrow(coordinates)\n",
    "  # Generate an empty dataframe with proper row names\n",
    "  distance_mat = as.data.frame(matrix(nrow = nprov, ncol = nprov),\n",
    "                               row.names=row.names(coordinates))\n",
    "  # Set column names of generated empty data frame\n",
    "  colnames(distance_mat) <- row.names(coordinates)\n",
    "  # Iterate over provinces\n",
    "  for(row in 1:nprov) {\n",
    "    # Since symmetric matrix, calculating one side is enough\n",
    "    for(col in row:nprov) {\n",
    "      actual_dist <- calculate_distance(coordinates[row,], coordinates[col,])\n",
    "      # since distances are symmetric...\n",
    "      distance_mat[row, col] <- actual_dist\n",
    "      distance_mat[col, row] <- actual_dist\n",
    "    }\n",
    "  }\n",
    "  \n",
    "  return(distance_mat)\n",
    "}"
   ]
  }
 ],
 "metadata": {
  "kernelspec": {
   "display_name": "R",
   "language": "R",
   "name": "ir"
  },
  "language_info": {
   "codemirror_mode": "r",
   "file_extension": ".r",
   "mimetype": "text/x-r-source",
   "name": "R",
   "pygments_lexer": "r",
   "version": "3.5.3"
  },
  "toc": {
   "base_numbering": 1,
   "nav_menu": {},
   "number_sections": true,
   "sideBar": true,
   "skip_h1_title": false,
   "title_cell": "Table of Contents",
   "title_sidebar": "Contents",
   "toc_cell": false,
   "toc_position": {},
   "toc_section_display": "block",
   "toc_window_display": false
  }
 },
 "nbformat": 4,
 "nbformat_minor": 2
}
