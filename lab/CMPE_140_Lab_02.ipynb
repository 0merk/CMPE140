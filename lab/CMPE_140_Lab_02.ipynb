{
 "cells": [
  {
   "cell_type": "markdown",
   "metadata": {},
   "source": [
    "# LAB 02 - 05.10.18 "
   ]
  },
  {
   "cell_type": "markdown",
   "metadata": {},
   "source": [
    "_by_ Hakime Öztürk"
   ]
  },
  {
   "cell_type": "markdown",
   "metadata": {},
   "source": [
    "## Warm Up"
   ]
  },
  {
   "cell_type": "markdown",
   "metadata": {},
   "source": [
    "Given the variables\n",
    "\n",
    "  `account_balance = 1000, \n",
    "interest_rate =  0.10 `\n",
    " \n",
    " update the variable account_balance by adding the interest and print the updated value."
   ]
  },
  {
   "cell_type": "code",
   "execution_count": 94,
   "metadata": {},
   "outputs": [
    {
     "data": {
      "text/html": [
       "1100"
      ],
      "text/latex": [
       "1100"
      ],
      "text/markdown": [
       "1100"
      ],
      "text/plain": [
       "[1] 1100"
      ]
     },
     "metadata": {},
     "output_type": "display_data"
    }
   ],
   "source": [
    "# write your code lines below\n",
    "\n",
    "account_balance <- 1000\n",
    "interest_rate <- 0.10\n",
    "\n",
    "account_balance <- account_balance + (account_balance * 0.10)\n",
    "account_balance \n",
    "\n",
    "# end of your code"
   ]
  },
  {
   "cell_type": "markdown",
   "metadata": {},
   "source": [
    "An employee wants to calculate the raise in dollar amount and in percent (%) she got last week. \n",
    "\n",
    "`previous_salary = 5000$,\n",
    "current_salary = 5200$`\n",
    "\n",
    "print the raise (in dollars) and (in percent)."
   ]
  },
  {
   "cell_type": "code",
   "execution_count": 95,
   "metadata": {
    "scrolled": true
   },
   "outputs": [
    {
     "data": {
      "text/html": [
       "200"
      ],
      "text/latex": [
       "200"
      ],
      "text/markdown": [
       "200"
      ],
      "text/plain": [
       "[1] 200"
      ]
     },
     "metadata": {},
     "output_type": "display_data"
    },
    {
     "data": {
      "text/html": [
       "4"
      ],
      "text/latex": [
       "4"
      ],
      "text/markdown": [
       "4"
      ],
      "text/plain": [
       "[1] 4"
      ]
     },
     "metadata": {},
     "output_type": "display_data"
    }
   ],
   "source": [
    "previous_salary <- 5000\n",
    "current_salary <- 5200\n",
    "\n",
    "raise_indollars <- current_salary - previous_salary\n",
    "raise_inpercent <- (raise_indollars/previous_salary) * 100\n",
    "\n",
    "raise_indollars\n",
    "raise_inpercent"
   ]
  },
  {
   "cell_type": "markdown",
   "metadata": {},
   "source": [
    "#  Vectors"
   ]
  },
  {
   "cell_type": "markdown",
   "metadata": {},
   "source": [
    "## Initialization, Arithmetics & Functions"
   ]
  },
  {
   "cell_type": "markdown",
   "metadata": {},
   "source": [
    "Let's initalize two vectors:\n",
    "\n",
    "`A =  (4, 6 ,7)\n",
    "B =  (2, 14, 9)`\n",
    "\n",
    "Find the the results for: \n",
    "\n",
    "`A + B, \n",
    "A - B, \n",
    "A * B, \n",
    "A / B, \n",
    "2 * (A + B) - 3`\n"
   ]
  },
  {
   "cell_type": "code",
   "execution_count": null,
   "metadata": {
    "collapsed": true
   },
   "outputs": [],
   "source": [
    "# write your code lines below\n",
    "\n",
    "A <- c(4, 6, 7)\n",
    "B <- c(2, 14, 9)\n",
    "\n",
    "A + B\n",
    "A - B\n",
    "A * B\n",
    "A / B\n",
    "2 * (A + B) - 3\n",
    "\n",
    "# end of your code"
   ]
  },
  {
   "cell_type": "markdown",
   "metadata": {},
   "source": [
    "Let's initialize another vector:\n",
    "\n",
    "C = (5, 8, 11, 5, 2, 1)\n",
    "\n",
    "Find the results for:\n",
    "\n",
    "`C > A\n",
    "C + A\n",
    "C + (B * 3)`"
   ]
  },
  {
   "cell_type": "code",
   "execution_count": null,
   "metadata": {
    "collapsed": true
   },
   "outputs": [],
   "source": [
    "# write your code lines below\n",
    "C <- c(5, 8, 11, 5, 2, 1)\n",
    "\n",
    "C > A\n",
    "C + A\n",
    "C + (B *3)\n",
    "# end of your code"
   ]
  },
  {
   "cell_type": "markdown",
   "metadata": {},
   "source": [
    "Let's:\n",
    "\n",
    " `add up all elements in A\n",
    "multiply all elements in B`\n",
    "\n",
    "_(hint: use built-in functions, `sum` and `prod`)_"
   ]
  },
  {
   "cell_type": "code",
   "execution_count": null,
   "metadata": {
    "collapsed": true
   },
   "outputs": [],
   "source": [
    "# write your code lines below\n",
    "A\n",
    "sum(A)\n",
    "cumsum(A)\n",
    "\n",
    "B\n",
    "prod(B)\n",
    "cumprod(B)\n",
    "# end of your code"
   ]
  },
  {
   "cell_type": "markdown",
   "metadata": {},
   "source": [
    "## Vector Indexing"
   ]
  },
  {
   "cell_type": "markdown",
   "metadata": {},
   "source": [
    "Let's initialize vector for the students of Beacon Hills High School:\n",
    "\n",
    "`Jason, Lydia, Scott and Stiles`\n",
    "\n",
    "and print the vector."
   ]
  },
  {
   "cell_type": "code",
   "execution_count": null,
   "metadata": {
    "collapsed": true
   },
   "outputs": [],
   "source": [
    "# write your code lines below\n",
    "\n",
    "students <- c(\"Jason\", \"Lydia\", \"Scott\", \"Stiles\")\n",
    "students\n",
    "\n",
    "students \n",
    "# end of your code"
   ]
  },
  {
   "cell_type": "markdown",
   "metadata": {},
   "source": [
    "Then add a new transfer student to the vector:\n",
    "\n",
    "`Allison`\n",
    "\n",
    "and print the updated vector."
   ]
  },
  {
   "cell_type": "code",
   "execution_count": null,
   "metadata": {
    "collapsed": true
   },
   "outputs": [],
   "source": [
    "# write your code lines below\n",
    "\n",
    "students <- c(students, \"Allison\")\n",
    "students\n",
    "# end of your code"
   ]
  },
  {
   "cell_type": "markdown",
   "metadata": {},
   "source": [
    "Finally print the number of students. (_hint: length of the vector_)"
   ]
  },
  {
   "cell_type": "code",
   "execution_count": null,
   "metadata": {
    "collapsed": true
   },
   "outputs": [],
   "source": [
    "# write your code lines below\n",
    "\n",
    "length(students)\n",
    "\n",
    "# end of your code"
   ]
  },
  {
   "cell_type": "markdown",
   "metadata": {},
   "source": [
    "Now, let's list the students:\n",
    "\n",
    "`1st student\n",
    "3rd student \n",
    "2nd and 4th students\n",
    "from 2nd to 4th student`"
   ]
  },
  {
   "cell_type": "code",
   "execution_count": null,
   "metadata": {
    "collapsed": true
   },
   "outputs": [],
   "source": [
    "# write your code lines below\n",
    "\n",
    "students[1]\n",
    "students[3]\n",
    "students[c(2,4)]\n",
    "students[2:4]\n",
    "\n",
    "# end of your code"
   ]
  },
  {
   "cell_type": "markdown",
   "metadata": {},
   "source": [
    "Now,  list the students by excluding: \n",
    " \n",
    " `5th student\n",
    "2nd and 3rd students`"
   ]
  },
  {
   "cell_type": "code",
   "execution_count": null,
   "metadata": {
    "collapsed": true
   },
   "outputs": [],
   "source": [
    "# write your code lines below\n",
    "\n",
    "students[-5]\n",
    "\n",
    "# end of your code"
   ]
  },
  {
   "cell_type": "markdown",
   "metadata": {},
   "source": [
    "use `T (TRUE)` and `F (FALSE)` statements to list the students:\n",
    "\n",
    "`2nd and 4th students`"
   ]
  },
  {
   "cell_type": "code",
   "execution_count": null,
   "metadata": {
    "collapsed": true
   },
   "outputs": [],
   "source": [
    "# write your code lines below\n",
    "students[c(F,T,F,T,F)]\n",
    "# OR\n",
    "students[c(F,T)]\n",
    "# end of your code"
   ]
  },
  {
   "cell_type": "markdown",
   "metadata": {},
   "source": [
    "## Named vectors"
   ]
  },
  {
   "cell_type": "markdown",
   "metadata": {},
   "source": [
    "Let's create a new \n",
    "vector for the grades of the students in Beacon Hills High for the subject Math.\n",
    "\n",
    "`Jason  = 46\n",
    "Lydia = 98\n",
    "Scott = 51\n",
    "Stiles = 84\n",
    "Allison = unknown (because she just transferred)`\n",
    "\n",
    "_(hint: assign names of the students as labels)_\n"
   ]
  },
  {
   "cell_type": "code",
   "execution_count": null,
   "metadata": {
    "collapsed": true
   },
   "outputs": [],
   "source": [
    "# write your code lines below\n",
    "\n",
    "#grades <- c(Jason=46, Lydia = 98, Scott = 51, Stiles = 84, Allison = NA)\n",
    "#grades\n",
    "\n",
    "grades <- c(46, 98, 51, 84, NA)\n",
    "people <- c(\"Jason\", \"Lydia\", \"Scott\", \"Stiles\", \"Allison\")\n",
    "\n",
    "names(grades) <- people\n",
    "\n",
    "grades\n",
    "people\n",
    "# end of your code"
   ]
  },
  {
   "cell_type": "markdown",
   "metadata": {},
   "source": [
    "Now retrieve the grades of `Stiles` and `Scott`."
   ]
  },
  {
   "cell_type": "code",
   "execution_count": null,
   "metadata": {
    "collapsed": true
   },
   "outputs": [],
   "source": [
    "# write your code lines below\n",
    "\n",
    "grades[3]\n",
    "grades[\"Scott\"]\n",
    "\n",
    "grades[c(\"Scott\", \"Stiles\")]\n",
    "# end of your code"
   ]
  },
  {
   "cell_type": "markdown",
   "metadata": {},
   "source": [
    "Let's assign a grade for Allison now that she took her first Math exam in Beacon Hills High.\n",
    "\n",
    "`Allison = 76`\n",
    "\n",
    "Print the grades vector `before` and `after` updating Allison's grade."
   ]
  },
  {
   "cell_type": "code",
   "execution_count": null,
   "metadata": {
    "collapsed": true
   },
   "outputs": [],
   "source": [
    "# write your code lines below\n",
    "grades\n",
    "grades[\"Allison\"] <- 76\n",
    "grades\n",
    "# end of your code"
   ]
  },
  {
   "cell_type": "markdown",
   "metadata": {},
   "source": [
    "Now, let's find out the students that got grades higher than `60` and their grades.\n",
    "\n",
    "\n",
    "### Note: We did not solve the rest in the lab."
   ]
  },
  {
   "cell_type": "code",
   "execution_count": null,
   "metadata": {
    "collapsed": true
   },
   "outputs": [],
   "source": [
    "# write your code lines below\n",
    "\n",
    "grades > 60\n",
    "\n",
    "grades[grades>60]\n",
    "\n",
    "# end of your code"
   ]
  },
  {
   "cell_type": "markdown",
   "metadata": {},
   "source": [
    "Suddenly, Math Proffessor decides to add up `5` points to students whose grades are lower than `60` for the sake of motivation for the next exam.\n",
    "\n",
    "Print grades vector before and after updating it  accordingly."
   ]
  },
  {
   "cell_type": "code",
   "execution_count": null,
   "metadata": {
    "collapsed": true
   },
   "outputs": [],
   "source": [
    "# write your code lines below\n",
    "grades\n",
    "grades[grades<60] <- grades[grades<60] + 5\n",
    "grades\n",
    "\n",
    "# end of your code"
   ]
  },
  {
   "cell_type": "markdown",
   "metadata": {},
   "source": [
    "Now Let's try to sort the grades vector in descending order.\n",
    "\n",
    "_(hint: we will use another built-in function, sort())_"
   ]
  },
  {
   "cell_type": "code",
   "execution_count": null,
   "metadata": {
    "collapsed": true
   },
   "outputs": [],
   "source": [
    "# write your code lines below\n",
    "\n",
    "sort(grades)\n",
    "sort(grades, decreasing=TRUE)\n",
    "grades\n",
    "\n",
    "#grades <- sort(grades, decreasing=TRUE)\n",
    "grades\n",
    "# end of your code"
   ]
  },
  {
   "cell_type": "markdown",
   "metadata": {},
   "source": [
    "How about sorting grades vector based on students desk numbers?\n",
    "\n",
    "First create a new vector for desk numbers.\n",
    "    \n",
    "`Jason  = 2\n",
    "Lydia = 1\n",
    "Scott = 5\n",
    "Stiles = 5\n",
    "Allison = 3`\n",
    "\n",
    "Then use this new vector to sort grades\n",
    "vector.\n",
    "\n",
    "_(hint: use order() function.)_"
   ]
  },
  {
   "cell_type": "code",
   "execution_count": null,
   "metadata": {
    "collapsed": true
   },
   "outputs": [],
   "source": [
    "# write your code lines below\n",
    "\n",
    "desk_numbers <- c(Jason=2, Lydia=1, Scott=5, Stiles = 5, Allison = 3)\n",
    "\n",
    "order(desk_numbers)\n",
    "desk_numbers\n",
    "grades[order(desk_numbers)]\n",
    "\n",
    "# end of your code"
   ]
  },
  {
   "cell_type": "markdown",
   "metadata": {},
   "source": [
    "Finally, let's remove `Scott` from the grades vector, because he decides to be a wanderer werewolf - no longer a student.\n",
    "\n",
    "Print grades vector before and after removing Scott."
   ]
  },
  {
   "cell_type": "code",
   "execution_count": null,
   "metadata": {
    "collapsed": true
   },
   "outputs": [],
   "source": [
    "# write your code lines below\n",
    "grades\n",
    "grades <- grades[-3] #[\"Scott\"]\n",
    "grades\n",
    "# end of your code"
   ]
  },
  {
   "cell_type": "markdown",
   "metadata": {},
   "source": [
    "## Generating sequences"
   ]
  },
  {
   "cell_type": "markdown",
   "metadata": {},
   "source": [
    "Create and store a sequence of values from 25 to 90 (increase by 1) by:\n",
    "\n",
    "`using seq() function\n",
    ": operator`"
   ]
  },
  {
   "cell_type": "code",
   "execution_count": null,
   "metadata": {
    "collapsed": true
   },
   "outputs": [],
   "source": [
    "# write your code lines below\n",
    "\n",
    "s1 <- seq(25, 90, 1)\n",
    "s2 <- 25:90\n",
    "\n",
    "s1\n",
    "s2\n",
    "\n",
    "# end of your code"
   ]
  },
  {
   "cell_type": "markdown",
   "metadata": {},
   "source": [
    "Create and store a sequence of values from 5 to −11 that progresses in steps of 0.3."
   ]
  },
  {
   "cell_type": "code",
   "execution_count": null,
   "metadata": {
    "collapsed": true
   },
   "outputs": [],
   "source": [
    "# write your code lines below\n",
    "\n",
    "s3 <- seq(from=5, to=-11, by=-0.3)\n",
    "s3\n",
    "\n",
    "# end of your code"
   ]
  },
  {
   "cell_type": "markdown",
   "metadata": {},
   "source": [
    "## Exercises from Lecture"
   ]
  },
  {
   "cell_type": "markdown",
   "metadata": {},
   "source": [
    "A set of temperature measurements are given in Fahrenheit scale as follows:\n",
    "\n",
    "    temperatures <- c(87, 89, 101, 91, 86, 71, 76)\n",
    "\n",
    "Convert these measurements to Celsius scale."
   ]
  },
  {
   "cell_type": "code",
   "execution_count": null,
   "metadata": {
    "collapsed": true
   },
   "outputs": [],
   "source": [
    "# write your code lines below\n",
    "\n",
    "# T(°C) = (T(°F) - 32) / 1.8\n",
    "temperatures <- c(87, 89, 101, 91, 86, 71, 76)\n",
    "celcius <- (temperatures - 32 ) / 1.8\n",
    "\n",
    "celcius\n",
    "\n",
    "# end of your code"
   ]
  },
  {
   "cell_type": "markdown",
   "metadata": {},
   "source": [
    "Consider the following data\n",
    "\n",
    "|Country|Area|Population|\n",
    "|------|------|------|\n",
    "|Russia|17,098,242|142,257,519|\n",
    "|United States|9,833,517|326,625,791|\n",
    "|China|9,596,960|1,379,302,771|                                    \n",
    "|Brazil|8,515,770|207,353,391|                \n",
    "|Australia|7,741,220|23,232,413|\n",
    "|India|3,287,263|1,281,935,911|\n",
    "|Turkey|783,562|80,845,215|\n",
    "|France|643,801|67,106,161|\n",
    "|Japan|377,915|126,451,398|\n",
    "|United Kingdom|243,610|65,648,100|\n",
    "\n",
    "(a) Create two vectors `area` and `population` that hold the data in the respective columns. Label the elements in each vector with the country name.\n",
    "\n",
    "(b) Create a new vector called `density` that holds the population density of the countries.\n",
    "\n",
    "(c) Print the names of countries sorted by population density, in descending order (from highest to lowest)."
   ]
  },
  {
   "cell_type": "code",
   "execution_count": 5,
   "metadata": {},
   "outputs": [
    {
     "data": {
      "text/html": [
       "<dl class=dl-horizontal>\n",
       "\t<dt>Russia</dt>\n",
       "\t\t<dd>8.32000851315591</dd>\n",
       "\t<dt>UnitedStates</dt>\n",
       "\t\t<dd>33.2155617364571</dd>\n",
       "\t<dt>China</dt>\n",
       "\t\t<dd>143.722884225838</dd>\n",
       "\t<dt>Brazil</dt>\n",
       "\t\t<dd>24.3493413983703</dd>\n",
       "\t<dt>Australia</dt>\n",
       "\t\t<dd>3.00113070032889</dd>\n",
       "\t<dt>India</dt>\n",
       "\t\t<dd>389.970595903035</dd>\n",
       "\t<dt>Turkey</dt>\n",
       "\t\t<dd>103.176538678496</dd>\n",
       "\t<dt>Japan</dt>\n",
       "\t\t<dd>334.602749295476</dd>\n",
       "\t<dt>UnitedKingdom</dt>\n",
       "\t\t<dd>269.480316899963</dd>\n",
       "</dl>\n"
      ],
      "text/latex": [
       "\\begin{description*}\n",
       "\\item[Russia] 8.32000851315591\n",
       "\\item[UnitedStates] 33.2155617364571\n",
       "\\item[China] 143.722884225838\n",
       "\\item[Brazil] 24.3493413983703\n",
       "\\item[Australia] 3.00113070032889\n",
       "\\item[India] 389.970595903035\n",
       "\\item[Turkey] 103.176538678496\n",
       "\\item[Japan] 334.602749295476\n",
       "\\item[UnitedKingdom] 269.480316899963\n",
       "\\end{description*}\n"
      ],
      "text/markdown": [
       "Russia\n",
       ":   8.32000851315591UnitedStates\n",
       ":   33.2155617364571China\n",
       ":   143.722884225838Brazil\n",
       ":   24.3493413983703Australia\n",
       ":   3.00113070032889India\n",
       ":   389.970595903035Turkey\n",
       ":   103.176538678496Japan\n",
       ":   334.602749295476UnitedKingdom\n",
       ":   269.480316899963\n",
       "\n"
      ],
      "text/plain": [
       "       Russia  UnitedStates         China        Brazil     Australia \n",
       "     8.320009     33.215562    143.722884     24.349341      3.001131 \n",
       "        India        Turkey         Japan UnitedKingdom \n",
       "   389.970596    103.176539    334.602749    269.480317 "
      ]
     },
     "metadata": {},
     "output_type": "display_data"
    },
    {
     "data": {
      "text/html": [
       "<dl class=dl-horizontal>\n",
       "\t<dt>India</dt>\n",
       "\t\t<dd>389.970595903035</dd>\n",
       "\t<dt>Japan</dt>\n",
       "\t\t<dd>334.602749295476</dd>\n",
       "\t<dt>UnitedKingdom</dt>\n",
       "\t\t<dd>269.480316899963</dd>\n",
       "\t<dt>China</dt>\n",
       "\t\t<dd>143.722884225838</dd>\n",
       "\t<dt>Turkey</dt>\n",
       "\t\t<dd>103.176538678496</dd>\n",
       "\t<dt>UnitedStates</dt>\n",
       "\t\t<dd>33.2155617364571</dd>\n",
       "\t<dt>Brazil</dt>\n",
       "\t\t<dd>24.3493413983703</dd>\n",
       "\t<dt>Russia</dt>\n",
       "\t\t<dd>8.32000851315591</dd>\n",
       "\t<dt>Australia</dt>\n",
       "\t\t<dd>3.00113070032889</dd>\n",
       "</dl>\n"
      ],
      "text/latex": [
       "\\begin{description*}\n",
       "\\item[India] 389.970595903035\n",
       "\\item[Japan] 334.602749295476\n",
       "\\item[UnitedKingdom] 269.480316899963\n",
       "\\item[China] 143.722884225838\n",
       "\\item[Turkey] 103.176538678496\n",
       "\\item[UnitedStates] 33.2155617364571\n",
       "\\item[Brazil] 24.3493413983703\n",
       "\\item[Russia] 8.32000851315591\n",
       "\\item[Australia] 3.00113070032889\n",
       "\\end{description*}\n"
      ],
      "text/markdown": [
       "India\n",
       ":   389.970595903035Japan\n",
       ":   334.602749295476UnitedKingdom\n",
       ":   269.480316899963China\n",
       ":   143.722884225838Turkey\n",
       ":   103.176538678496UnitedStates\n",
       ":   33.2155617364571Brazil\n",
       ":   24.3493413983703Russia\n",
       ":   8.32000851315591Australia\n",
       ":   3.00113070032889\n",
       "\n"
      ],
      "text/plain": [
       "        India         Japan UnitedKingdom         China        Turkey \n",
       "   389.970596    334.602749    269.480317    143.722884    103.176539 \n",
       " UnitedStates        Brazil        Russia     Australia \n",
       "    33.215562     24.349341      8.320009      3.001131 "
      ]
     },
     "metadata": {},
     "output_type": "display_data"
    },
    {
     "data": {
      "text/html": [
       "<ol class=list-inline>\n",
       "\t<li>'India'</li>\n",
       "\t<li>'Japan'</li>\n",
       "\t<li>'UnitedKingdom'</li>\n",
       "\t<li>'China'</li>\n",
       "\t<li>'Turkey'</li>\n",
       "\t<li>'UnitedStates'</li>\n",
       "\t<li>'Brazil'</li>\n",
       "\t<li>'Russia'</li>\n",
       "\t<li>'Australia'</li>\n",
       "</ol>\n"
      ],
      "text/latex": [
       "\\begin{enumerate*}\n",
       "\\item 'India'\n",
       "\\item 'Japan'\n",
       "\\item 'UnitedKingdom'\n",
       "\\item 'China'\n",
       "\\item 'Turkey'\n",
       "\\item 'UnitedStates'\n",
       "\\item 'Brazil'\n",
       "\\item 'Russia'\n",
       "\\item 'Australia'\n",
       "\\end{enumerate*}\n"
      ],
      "text/markdown": [
       "1. 'India'\n",
       "2. 'Japan'\n",
       "3. 'UnitedKingdom'\n",
       "4. 'China'\n",
       "5. 'Turkey'\n",
       "6. 'UnitedStates'\n",
       "7. 'Brazil'\n",
       "8. 'Russia'\n",
       "9. 'Australia'\n",
       "\n",
       "\n"
      ],
      "text/plain": [
       "[1] \"India\"         \"Japan\"         \"UnitedKingdom\" \"China\"        \n",
       "[5] \"Turkey\"        \"UnitedStates\"  \"Brazil\"        \"Russia\"       \n",
       "[9] \"Australia\"    "
      ]
     },
     "metadata": {},
     "output_type": "display_data"
    }
   ],
   "source": [
    "# write your code lines below\n",
    "\n",
    "# (a)\n",
    "area <- c(Russia=17098242, UnitedStates=9833517, China=9596960, Brazil=8515770, Australia=7741220, India=3287263, \n",
    "                          Turkey=783562, Japan=377915, UnitedKingdom=243610)\n",
    "\n",
    "\n",
    "population <- c(Russia=142257519, UnitedStates=326625791, China=1379302771, Brazil=207353391, \n",
    "                Australia=23232413, India=1281935911, Turkey=80845215, Japan=126451398, \n",
    "                UnitedKingdom=65648100)\n",
    "\n",
    "\n",
    "# (b)\n",
    "\n",
    "density <- population / area\n",
    "density\n",
    "\n",
    "# (c)\n",
    "\n",
    "sort(density, decreasing=TRUE)\n",
    "names(sort(density, decreasing=TRUE))\n",
    "\n",
    "# end of your code"
   ]
  },
  {
   "cell_type": "code",
   "execution_count": null,
   "metadata": {
    "collapsed": true
   },
   "outputs": [],
   "source": []
  }
 ],
 "metadata": {
  "kernelspec": {
   "display_name": "R",
   "language": "R",
   "name": "ir"
  },
  "language_info": {
   "codemirror_mode": "r",
   "file_extension": ".r",
   "mimetype": "text/x-r-source",
   "name": "R",
   "pygments_lexer": "r",
   "version": "3.4.3"
  }
 },
 "nbformat": 4,
 "nbformat_minor": 2
}
