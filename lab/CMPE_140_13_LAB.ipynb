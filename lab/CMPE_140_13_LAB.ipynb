{
 "cells": [
  {
   "cell_type": "code",
   "execution_count": null,
   "metadata": {},
   "outputs": [],
   "source": [
    "options(jupyter.rich_display = FALSE)"
   ]
  },
  {
   "cell_type": "markdown",
   "metadata": {},
   "source": [
    "# Let's build a simple expert system for automated trading\n",
    "\n",
    "**by Serhat Çevikel**"
   ]
  },
  {
   "cell_type": "markdown",
   "metadata": {},
   "source": [
    "This suit of exercises is here to demonstrate that you can build rather complicated simulation and optimization models, using the tools you have learnt so far.\n",
    "\n",
    "This will get complicated progressively. You can solve easily until the line chart (Exercise 3). Try to follow and understand, when you cannot solve yourself anymore.\n",
    "\n",
    "We will use the built-in EuStockMarkets dataset"
   ]
  },
  {
   "cell_type": "code",
   "execution_count": null,
   "metadata": {},
   "outputs": [],
   "source": [
    "EuStockMarkets"
   ]
  },
  {
   "cell_type": "code",
   "execution_count": null,
   "metadata": {},
   "outputs": [],
   "source": [
    "dim(EuStockMarkets)"
   ]
  },
  {
   "cell_type": "markdown",
   "metadata": {},
   "source": [
    "We have 1860 days of 4 indices"
   ]
  },
  {
   "cell_type": "code",
   "execution_count": null,
   "metadata": {},
   "outputs": [],
   "source": [
    "str(EuStockMarkets)"
   ]
  },
  {
   "cell_type": "markdown",
   "metadata": {},
   "source": [
    "Let's first get the annualized buy and hold returns:"
   ]
  },
  {
   "cell_type": "code",
   "execution_count": null,
   "metadata": {},
   "outputs": [],
   "source": [
    "buyandhold <- (EuStockMarkets[nrow(EuStockMarkets),] / EuStockMarkets[1,])^\n",
    "(365 / (nrow(EuStockMarkets)-1)) -1"
   ]
  },
  {
   "cell_type": "code",
   "execution_count": null,
   "metadata": {},
   "outputs": [],
   "source": [
    "buyandhold"
   ]
  },
  {
   "cell_type": "markdown",
   "metadata": {},
   "source": [
    "So DAX index returned a CAGR of 26.9% while SMI did 34.8%, CAC did 17.3% and FTSE did 17.1%\n",
    "\n",
    "Can we beat the market? On annualized terms of course (meaning, we take into account the number of days we hold the buy position and annualize the return during this period)"
   ]
  },
  {
   "cell_type": "markdown",
   "metadata": {},
   "source": [
    "## Simple moving average calculation"
   ]
  },
  {
   "cell_type": "markdown",
   "metadata": {},
   "source": [
    "**EXERCISE 1:**\n",
    "\n",
    "Write a function mova, that takes a vector x of numeric values and an n value of days.\n",
    "\n",
    "The function will return the moving average of last n days of each value\n",
    "\n",
    "You can make use of cumsum() function\n",
    "\n",
    "So\n",
    "```R\n",
    "mova(1:10, 5)\n",
    "```\n",
    "\n",
    "will return\n",
    "\n",
    "```R\n",
    "[1] NA NA NA NA NA  3  4  5  6  7  8\n",
    "```\n"
   ]
  },
  {
   "cell_type": "code",
   "execution_count": null,
   "metadata": {},
   "outputs": [],
   "source": [
    "mova <- function(x, n = 5)\n",
    "{\n",
    "    x2 <- c(0, cumsum(x)) # cumulative sum, initialized with 0\n",
    "    lagged <- seq_along(x2) - n # indices of n days before\n",
    "    lagged[lagged < 1] <- NA # zero and negative indices replaced with NA\n",
    "    movx <- (x2 - x2[lagged]) / n\n",
    "    movx[-1]\n",
    "}"
   ]
  },
  {
   "cell_type": "code",
   "execution_count": null,
   "metadata": {},
   "outputs": [],
   "source": [
    "mova(1:10, 5)"
   ]
  },
  {
   "cell_type": "markdown",
   "metadata": {},
   "source": [
    "## MACD"
   ]
  },
  {
   "cell_type": "markdown",
   "metadata": {},
   "source": [
    "**EXERCISE 2:**\n",
    "\n",
    "MACD index (moving averages convergence-divergence) is a major technical indicator in technical analysis of stock prices.\n",
    "\n",
    "We take two moving averages of days n1 and n2 (n1 is shorter). MACD is the difference between those 2 series. We will change the definition a little bit and divide the shorter MA to longer MA\n",
    "\n",
    "The function macd() will take three parameters:\n",
    "- Numeric vector x\n",
    "- Shorter number of days n1\n",
    "- Longer number of days n2\n",
    "\n",
    "Use function mova() inside macd()\n",
    "\n",
    "So\n",
    "\n",
    "```R\n",
    "macd(EuStockMarkets[1:20,1], 2, 10)\n",
    "```\n",
    "\n",
    "will return:\n",
    "\n",
    "```R\n",
    " [1]        NA        NA        NA        NA        NA        NA        NA\n",
    " [8]        NA        NA        NA 1.0095883 1.0122052 1.0083560 1.0014211\n",
    "[15] 0.9962276 0.9942365 0.9950796 0.9972221 0.9964066 0.9920589 0.9895662\n",
    "```"
   ]
  },
  {
   "cell_type": "code",
   "execution_count": null,
   "metadata": {},
   "outputs": [],
   "source": [
    "macd <- function(x, n1 = 10, n2 = 100)\n",
    "{\n",
    "    mov1 <- mova(x, n1)\n",
    "    mov2 <- mova(x, n2)\n",
    "    mov1 / mov2\n",
    "}"
   ]
  },
  {
   "cell_type": "code",
   "execution_count": null,
   "metadata": {},
   "outputs": [],
   "source": [
    "macd(EuStockMarkets[1:20,1], 2, 10)"
   ]
  },
  {
   "cell_type": "markdown",
   "metadata": {},
   "source": [
    "**EXERCISE 3:**\n",
    "\n",
    "Now in two vertically stacked line plots:\n",
    "- Show the first 1000 days of original DAX series\n",
    "- Superimpose the 100 days moving average in red using lines() function\n",
    "- Superimpose the 200 days moving average in blue using lines() function\n",
    "\n",
    "- In the second plot, show the MACD for the same parameters\n",
    "- Superimpose the horizontal line at 1"
   ]
  },
  {
   "cell_type": "code",
   "execution_count": null,
   "metadata": {
    "scrolled": false
   },
   "outputs": [],
   "source": [
    "plot(EuStockMarkets[1:1000,1], col = \"black\", type = \"l\")\n",
    "lines(mova(EuStockMarkets[1:1000,1], 100), col = \"red\", type = \"l\")\n",
    "lines(mova(EuStockMarkets[1:1000,1], 200), col = \"blue\", type = \"l\")\n",
    "\n",
    "plot(macd(EuStockMarkets[1:1000,1], 100, 200), type = \"l\")\n",
    "lines(rep(1, 1000))"
   ]
  },
  {
   "cell_type": "markdown",
   "metadata": {},
   "source": [
    "## Buy or sell?"
   ]
  },
  {
   "cell_type": "markdown",
   "metadata": {},
   "source": [
    "**EXERCISE 4:**\n",
    "\n",
    "Now the hard part comes:\n",
    "* Create a function macd_signal that takes four arguments: x vector n1 short days, n2 short days and a threshold value thres (default 1)\n",
    "* The function will return a series of 0, -1, 1 values for which 0 means no signal, -1 means MACD line cut down the threshold value (a sell signal), 1 means MACD line cut up the threshold value (a buy signal)\n",
    "* Note that first sell signal cannot be before the first buy signal (short selling not allowed). And on the last day there cannot be a buy signal (but there can be a sell signal)\n",
    "\n",
    "macd_signal() function can make use of macd() function\n",
    "\n",
    "So\n",
    "\n",
    "```R\n",
    "signal1 <- macd_signal(EuStockMarkets[1:50,2], 2, 10, 1)\n",
    "```\n",
    "\n",
    "will return\n",
    "\n",
    "```R\n",
    " [1]  0  0  0  0  0  0  0  0  0  0  0  0  0  0  0  0  0  0  0  0  0  0  0  0  1\n",
    "[26]  0  0 -1  0  0  1  0 -1  1  0  0 -1  0  0  0  1  0  0  0  0  0  0  0  0 -1\n",
    "[51]  0\n",
    "```\n"
   ]
  },
  {
   "cell_type": "code",
   "execution_count": null,
   "metadata": {},
   "outputs": [],
   "source": [
    "macd_signal <- function(x, n1 = 10, n2 = 100, thres = 1)\n",
    "{\n",
    "    # calculate macd values\n",
    "    macdx <- macd(x, n1, n2)\n",
    "    \n",
    "    # T for a buy signal\n",
    "    buys <- c(NA, macdx[-length(macdx)] < thres & macdx[-1] >= thres)\n",
    "\n",
    "    # T for a sell signal\n",
    "    sells <- c(NA, macdx[-length(macdx)] >= thres & macdx[-1] < thres)\n",
    "\n",
    "    # 0, -1, 1 vector of signals\n",
    "    signals <- integer(length(x))\n",
    "    signals[buys] <- 1\n",
    "    signals[sells] <- -1\n",
    "    \n",
    "    # First sell signal predating first buy signal should be deleted\n",
    "    first_sig <- match(c(-1,1), signals)\n",
    "    if(first_sig[1] < first_sig[2]) signals[first_sig[1]] <- 0\n",
    "    \n",
    "    # NA's and a buy signal on the last day are treated\n",
    "    signals[is.na(signals)] <- 0\n",
    "    signals[length(signals)] <- min(0, signals[length(signals)])\n",
    "    signals\n",
    "}"
   ]
  },
  {
   "cell_type": "code",
   "execution_count": null,
   "metadata": {},
   "outputs": [],
   "source": [
    "signal1 <- macd_signal(EuStockMarkets[1:50,2], 2, 10, 1)\n",
    "signal1"
   ]
  },
  {
   "cell_type": "markdown",
   "metadata": {},
   "source": [
    "## Simulate the signals"
   ]
  },
  {
   "cell_type": "markdown",
   "metadata": {},
   "source": [
    "**EXERCISE 5:**\n",
    "\n",
    "And a harder part:\n",
    "\n",
    "Write a function simulate_signal that takes a vector of stock values and a vector of signals (of 0, -1, 1)\n",
    "- We will calculate the cumulative return of stocks on the days starting from 1 signals and ending on -1 signals. We will annualize the returns \n",
    "- When no signals are created, the function should return 0 not NA\n",
    "\n",
    "You can make use of cumsum() function\n",
    "\n",
    "So:\n",
    "\n",
    "```R\n",
    "signal1 <- macd_signal(EuStockMarkets[,2], 2, 10, 1)\n",
    "simulate_signal(EuStockMarkets[,2], signal1)\n",
    "```\n",
    "\n",
    "will return\n",
    "```R\n",
    "[1] 0.3558455\n",
    "```"
   ]
  },
  {
   "cell_type": "code",
   "execution_count": null,
   "metadata": {},
   "outputs": [],
   "source": [
    "simulate_signal <- function(x, signal1)\n",
    "{\n",
    "    buydays <- cumsum(signal1) # 0's are days with no posision and 1's are days with buy position\n",
    "    buydays[length(buydays)] <- 0 # last day should be deleted not to have out-of-script error\n",
    "    sigdays <- which(buydays == 1) ## indices of days with buy position\n",
    "    totaldays <- sum(buydays) # number of days with buy position\n",
    "    sigdays_1 <- sigdays + 1 # returns are calculated with one day lag\n",
    "    returns <- x[sigdays_1] / x[sigdays] # calculate a vector of daily returns + 1\n",
    "    total_ret <- prod(returns)^(365/totaldays) # get the product of returns + 1 and annualize\n",
    "    ret <- total_ret - 1 # get the return\n",
    "    if(is.na(ret)) 0 else ret # treat for NA\n",
    "}"
   ]
  },
  {
   "cell_type": "code",
   "execution_count": null,
   "metadata": {},
   "outputs": [],
   "source": [
    "signal1 <- macd_signal(EuStockMarkets[,2], 2, 10, 1)\n",
    "simulate_signal(EuStockMarkets[,2], signal1)"
   ]
  },
  {
   "cell_type": "markdown",
   "metadata": {},
   "source": [
    "**EXERCISE 6:**\n",
    "\n",
    "Write a function macd_simulate() that takes x, n1, n2, thres, combines macd_signal and simulate_signal functions to yield the annualized return on the stock:\n",
    "\n",
    "So:\n",
    "```R\n",
    "macd_simulate(EuStockMarkets[,1], n1 = 10, n2 = 100, thres = 1)\n",
    "```\n",
    "will yield:\n",
    "```R\n",
    "[1] 0.2721458\n",
    "```\n"
   ]
  },
  {
   "cell_type": "code",
   "execution_count": null,
   "metadata": {},
   "outputs": [],
   "source": [
    "macd_simulate <- function(x, n1 = 10, n2 = 100, thres = 1)\n",
    "{\n",
    "    signalx <- macd_signal(x, n1, n2, thres)\n",
    "    simulate_signal(x, signalx)\n",
    "}"
   ]
  },
  {
   "cell_type": "code",
   "execution_count": null,
   "metadata": {},
   "outputs": [],
   "source": [
    "macd_simulate(EuStockMarkets[,1], n1 = 10, n2 = 100, thres = 1)"
   ]
  },
  {
   "cell_type": "markdown",
   "metadata": {},
   "source": [
    "Let's apply the macd_simulate function on the column margin of EuStockMarkets data with selected parameters and compare with buyandhold:"
   ]
  },
  {
   "cell_type": "code",
   "execution_count": null,
   "metadata": {},
   "outputs": [],
   "source": [
    "apply(EuStockMarkets, 2, macd_simulate, 10, 100, 1)"
   ]
  },
  {
   "cell_type": "code",
   "execution_count": null,
   "metadata": {},
   "outputs": [],
   "source": [
    "buyandhold"
   ]
  },
  {
   "cell_type": "markdown",
   "metadata": {},
   "source": [
    "## Optimize the parameters and beat the market!"
   ]
  },
  {
   "cell_type": "markdown",
   "metadata": {},
   "source": [
    "**EXERCISE 7:**\n",
    "\n",
    "Now let's optimize!\n",
    "\n",
    "Create all the combinations of n1 (2:100) and n2 (3:200) values where n1 < n2 using expand.grid\n",
    "\n",
    "Run the simulation for all those combinations\n",
    "\n",
    "Which one to select? We don't want excessive return on one stock to dominate weak returns on other stocks. So we take the product of (1+return) for all four indices and find the combination that yields the maximum: "
   ]
  },
  {
   "cell_type": "code",
   "execution_count": null,
   "metadata": {},
   "outputs": [],
   "source": [
    "grid1 <- expand.grid(2:100, 3:200)"
   ]
  },
  {
   "cell_type": "code",
   "execution_count": null,
   "metadata": {},
   "outputs": [],
   "source": [
    "grid1"
   ]
  },
  {
   "cell_type": "code",
   "execution_count": null,
   "metadata": {},
   "outputs": [],
   "source": [
    "grid1 <- with(grid1, grid1[Var1 < Var2,])\n",
    "grid1"
   ]
  },
  {
   "cell_type": "code",
   "execution_count": null,
   "metadata": {},
   "outputs": [],
   "source": [
    "dim(grid1)"
   ]
  },
  {
   "cell_type": "code",
   "execution_count": null,
   "metadata": {},
   "outputs": [],
   "source": [
    "simuls <- t(apply(grid1, 1, function(x) c(x,\n",
    "                                          apply(EuStockMarkets,\n",
    "                                                2,\n",
    "                                                macd_simulate,\n",
    "                                                x[1],\n",
    "                                                x[2],\n",
    "                                                1))))"
   ]
  },
  {
   "cell_type": "code",
   "execution_count": null,
   "metadata": {},
   "outputs": [],
   "source": [
    "simuls"
   ]
  },
  {
   "cell_type": "code",
   "execution_count": null,
   "metadata": {},
   "outputs": [],
   "source": [
    "buyandhold"
   ]
  },
  {
   "cell_type": "code",
   "execution_count": null,
   "metadata": {},
   "outputs": [],
   "source": [
    "simuls2 <- t(apply(simuls, 1, function(x) c(x, prod(x[3:6] + 1))))\n",
    "simuls2"
   ]
  },
  {
   "cell_type": "code",
   "execution_count": null,
   "metadata": {},
   "outputs": [],
   "source": [
    "simuls2[order(-simuls2[,7]),]"
   ]
  },
  {
   "cell_type": "markdown",
   "metadata": {},
   "source": [
    "Let's assume we divide our portfolio evenly across four indices.\n",
    "\n",
    "The annualized return of buy and hold strategy is:"
   ]
  },
  {
   "cell_type": "code",
   "execution_count": null,
   "metadata": {},
   "outputs": [],
   "source": [
    "mean(buyandhold)"
   ]
  },
  {
   "cell_type": "markdown",
   "metadata": {},
   "source": [
    "The annualized return for the best n1 and n2 values is:"
   ]
  },
  {
   "cell_type": "code",
   "execution_count": null,
   "metadata": {},
   "outputs": [],
   "source": [
    "mean(simuls2[\"1\",3:6])"
   ]
  },
  {
   "cell_type": "markdown",
   "metadata": {},
   "source": [
    "So we beat the market in annualized terms. But the implicit assumption is that, for the days during which there is no buy position, we have to invest our proceeds with the same annualized return! So we have to have a larger set of alternative securities..."
   ]
  },
  {
   "cell_type": "markdown",
   "metadata": {},
   "source": [
    "What if we sort according to average returns?"
   ]
  },
  {
   "cell_type": "code",
   "execution_count": null,
   "metadata": {},
   "outputs": [],
   "source": [
    "simuls3 <- t(apply(simuls, 1, function(x) c(x, mean(x[3:6]))))\n",
    "simuls3[order(-simuls3[,7]),]"
   ]
  },
  {
   "cell_type": "markdown",
   "metadata": {},
   "source": [
    "We get the same result for the best combination!"
   ]
  }
 ],
 "metadata": {
  "kernelspec": {
   "display_name": "R",
   "language": "R",
   "name": "ir"
  },
  "language_info": {
   "codemirror_mode": "r",
   "file_extension": ".r",
   "mimetype": "text/x-r-source",
   "name": "R",
   "pygments_lexer": "r",
   "version": "3.5.2"
  },
  "toc": {
   "base_numbering": 1,
   "nav_menu": {},
   "number_sections": true,
   "sideBar": true,
   "skip_h1_title": false,
   "title_cell": "Table of Contents",
   "title_sidebar": "Contents",
   "toc_cell": false,
   "toc_position": {},
   "toc_section_display": "block",
   "toc_window_display": false
  }
 },
 "nbformat": 4,
 "nbformat_minor": 2
}
