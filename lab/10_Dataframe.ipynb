{
 "cells": [
  {
   "cell_type": "code",
   "execution_count": null,
   "metadata": {},
   "outputs": [],
   "source": [
    "options(jupyter.rich_display = F)"
   ]
  },
  {
   "cell_type": "markdown",
   "metadata": {},
   "source": [
    "# DATA FRAME OPERATIONS\n",
    "\n",
    "**by Serhat Çevikel**"
   ]
  },
  {
   "cell_type": "markdown",
   "metadata": {},
   "source": [
    "Please download the following files:\n",
    "\n",
    "[flights14.csv](../file/flights14.csv)\n",
    "\n",
    "[dep_delay_origin_dest2.RData](../file/dep_delay_origin_dest2.RData)\n",
    "\n",
    "[dep_delay_date_origin2.RData](../file/dep_delay_date_origin2.RData)\n",
    "\n",
    "[origin_dest_wide.RData](../file/origin_dest_wide.RData)\n",
    "\n",
    "[delay_date_wide.RData](../file/delay_date_wide.RData)"
   ]
  },
  {
   "cell_type": "markdown",
   "metadata": {},
   "source": [
    "And read flights data into R as such:"
   ]
  },
  {
   "cell_type": "code",
   "execution_count": null,
   "metadata": {},
   "outputs": [],
   "source": [
    "flights <- read.csv(\"~/file/flights14.csv\")"
   ]
  },
  {
   "cell_type": "markdown",
   "metadata": {},
   "source": [
    "Have a view of the data"
   ]
  },
  {
   "cell_type": "code",
   "execution_count": null,
   "metadata": {},
   "outputs": [],
   "source": [
    "head(flights)"
   ]
  },
  {
   "cell_type": "markdown",
   "metadata": {},
   "source": [
    "# Aggregate data"
   ]
  },
  {
   "cell_type": "markdown",
   "metadata": {},
   "source": [
    "Now the separate year, month and day information can be combined into a single united field:"
   ]
  },
  {
   "cell_type": "code",
   "execution_count": null,
   "metadata": {},
   "outputs": [],
   "source": [
    "flights$dates <- with(flights, as.Date(paste(year, month, day, sep = \"-\")))"
   ]
  },
  {
   "cell_type": "code",
   "execution_count": null,
   "metadata": {},
   "outputs": [],
   "source": [
    "names(flights)"
   ]
  },
  {
   "cell_type": "code",
   "execution_count": null,
   "metadata": {},
   "outputs": [],
   "source": [
    "head(flights)"
   ]
  },
  {
   "cell_type": "markdown",
   "metadata": {},
   "source": [
    "And the weekdays:"
   ]
  },
  {
   "cell_type": "code",
   "execution_count": null,
   "metadata": {},
   "outputs": [],
   "source": [
    "flights$weekdays <- weekdays(flights$dates, abbreviate = T)"
   ]
  },
  {
   "cell_type": "code",
   "execution_count": null,
   "metadata": {},
   "outputs": [],
   "source": [
    "head(flights)"
   ]
  },
  {
   "cell_type": "markdown",
   "metadata": {},
   "source": [
    "We can have the average departure delay by date as such:"
   ]
  },
  {
   "cell_type": "code",
   "execution_count": null,
   "metadata": {},
   "outputs": [],
   "source": [
    "dep_delay_date <- with(flights, aggregate(dep_delay,\n",
    "                                          by = list(dates),\n",
    "                                          FUN = mean))"
   ]
  },
  {
   "cell_type": "markdown",
   "metadata": {},
   "source": [
    "View the data:"
   ]
  },
  {
   "cell_type": "code",
   "execution_count": null,
   "metadata": {},
   "outputs": [],
   "source": [
    "dep_delay_date"
   ]
  },
  {
   "cell_type": "markdown",
   "metadata": {},
   "source": [
    "And better, visualize data:"
   ]
  },
  {
   "cell_type": "code",
   "execution_count": null,
   "metadata": {},
   "outputs": [],
   "source": [
    "with(dep_delay_date, plot(Group.1, x, type = \"l\"))"
   ]
  },
  {
   "cell_type": "markdown",
   "metadata": {},
   "source": [
    "We can get finer results using aggregate:\n",
    "\n",
    "Let's get the min, average and max departure delays per date and per origin airport"
   ]
  },
  {
   "cell_type": "code",
   "execution_count": null,
   "metadata": {},
   "outputs": [],
   "source": [
    "dep_delay_date_origin <- with(flights, aggregate(dep_delay,\n",
    "                                          by = list(dates, origin),\n",
    "                                          FUN = function(x) c(min(x), mean(x), max(x))\n",
    "                                                 )\n",
    "                              )"
   ]
  },
  {
   "cell_type": "markdown",
   "metadata": {},
   "source": [
    "Let's view the structure:"
   ]
  },
  {
   "cell_type": "code",
   "execution_count": null,
   "metadata": {},
   "outputs": [],
   "source": [
    "str(dep_delay_date_origin)"
   ]
  },
  {
   "cell_type": "markdown",
   "metadata": {},
   "source": [
    "See that the 3rd object in the data frame is a matrix, not a vector. We should have 3 separate vectors as such:"
   ]
  },
  {
   "cell_type": "code",
   "execution_count": null,
   "metadata": {},
   "outputs": [],
   "source": [
    "dep_delay_date_origin2 <- data.frame(dep_delay_date_origin[,1:2], dep_delay_date_origin[,3])"
   ]
  },
  {
   "cell_type": "code",
   "execution_count": null,
   "metadata": {},
   "outputs": [],
   "source": [
    "str(dep_delay_date_origin2)"
   ]
  },
  {
   "cell_type": "code",
   "execution_count": null,
   "metadata": {},
   "outputs": [],
   "source": [
    "head(dep_delay_date_origin2)"
   ]
  },
  {
   "cell_type": "markdown",
   "metadata": {},
   "source": [
    "And update the names:"
   ]
  },
  {
   "cell_type": "code",
   "execution_count": null,
   "metadata": {},
   "outputs": [],
   "source": [
    "names(dep_delay_date_origin2) <- c(\"dates\",\n",
    "                                   \"origin\",\n",
    "                                   \"min_dep_delay\",\n",
    "                                   \"av_dep_delay\",\n",
    "                                   \"max_dep_delay\")"
   ]
  },
  {
   "cell_type": "code",
   "execution_count": null,
   "metadata": {},
   "outputs": [],
   "source": [
    "head(dep_delay_date_origin2)"
   ]
  },
  {
   "cell_type": "markdown",
   "metadata": {},
   "source": [
    "## Aggregate exercise:"
   ]
  },
  {
   "cell_type": "markdown",
   "metadata": {},
   "source": [
    "Please create a data frame \"dep_delay_origin_dest2\" that returns the count of flights and the average departure delay for each origin and dest pair as such:\n",
    "\n",
    "```R\n",
    "  origin dest count av_dep_delay\n",
    "1 JFK    ABQ   278  15.316547   \n",
    "2 JFK    ACK   277   4.277978   \n",
    "3 LGA    AGS     3  -1.333333   \n",
    "4 EWR    ALB   169  21.538462   \n",
    "5 EWR    ANC    13  12.615385   \n",
    "6 EWR    ATL  4182  17.602822   \n",
    "```"
   ]
  },
  {
   "cell_type": "markdown",
   "metadata": {},
   "source": [
    "**Solution:**"
   ]
  },
  {
   "cell_type": "code",
   "execution_count": null,
   "metadata": {},
   "outputs": [],
   "source": [
    "dep_delay_origin_dest <- with(flights, aggregate(dep_delay,\n",
    "                                          by = list(origin, dest),\n",
    "                                          FUN = function(x) c(length(x), mean(x))\n",
    "                                                 )\n",
    "                              )"
   ]
  },
  {
   "cell_type": "code",
   "execution_count": null,
   "metadata": {},
   "outputs": [],
   "source": [
    "str(dep_delay_origin_dest)"
   ]
  },
  {
   "cell_type": "code",
   "execution_count": null,
   "metadata": {},
   "outputs": [],
   "source": [
    "dep_delay_origin_dest2 <- data.frame(dep_delay_origin_dest[,1:2], dep_delay_origin_dest[,3])"
   ]
  },
  {
   "cell_type": "code",
   "execution_count": null,
   "metadata": {},
   "outputs": [],
   "source": [
    "str(dep_delay_origin_dest2)"
   ]
  },
  {
   "cell_type": "code",
   "execution_count": null,
   "metadata": {},
   "outputs": [],
   "source": [
    "names(dep_delay_origin_dest2) <- c(\"origin\",\n",
    "                                   \"dest\",\n",
    "                                   \"count\",\n",
    "                                   \"av_dep_delay\")"
   ]
  },
  {
   "cell_type": "code",
   "execution_count": null,
   "metadata": {},
   "outputs": [],
   "source": [
    "head(dep_delay_origin_dest2)"
   ]
  },
  {
   "cell_type": "markdown",
   "metadata": {},
   "source": [
    "## Order and subset exercise:"
   ]
  },
  {
   "cell_type": "markdown",
   "metadata": {},
   "source": [
    "Using dep_delay_origin_dest2, report \n",
    "\n",
    "- The most active 10 airport pairs in terms of flight counts\n",
    "- The most delaying 10 airport pairs in terms of average departure delays\n",
    "\n",
    "Use, order function and row subsetting\n",
    "\n",
    "as such:\n",
    "\n",
    "```R\n",
    "    origin dest count av_dep_delay\n",
    "109 JFK    LAX  10208  8.359718   \n",
    "195 JFK    SFO   7368 11.741178   \n",
    "146 LGA    ORD   7052 12.708026   \n",
    "8   LGA    ATL   6925 13.813574   \n",
    "126 LGA    MIA   5084  6.030488   \n",
    "194 EWR    SFO   4539 16.530293   \n",
    "115 JFK    MCO   4467 13.477726   \n",
    "20  EWR    BOS   4268 11.265933   \n",
    "108 EWR    LAX   4226 15.882631   \n",
    "6   EWR    ATL   4182 17.602822   \n",
    "\n",
    "    origin dest count av_dep_delay\n",
    "102 JFK    JAC    1   322.00000   \n",
    "68  LGA    DSM    1   125.00000   \n",
    "13  EWR    AVP    1    83.00000   \n",
    "121 LGA    MEM    3    54.33333   \n",
    "73  JFK    EGE   85    43.32941   \n",
    "217 LGA    TVC   36    37.94444   \n",
    "36  EWR    CAE   21    36.09524   \n",
    "218 EWR    TYS  238    32.81513   \n",
    "130 LGA    MSN  188    29.31915   \n",
    "215 EWR    TUL  201    28.89552   \n",
    "```"
   ]
  },
  {
   "cell_type": "markdown",
   "metadata": {},
   "source": [
    "**Solution:**"
   ]
  },
  {
   "cell_type": "code",
   "execution_count": null,
   "metadata": {},
   "outputs": [],
   "source": [
    "dep_delay_origin_dest2[order(dep_delay_origin_dest2$count, decreasing = T),][1:10,]"
   ]
  },
  {
   "cell_type": "code",
   "execution_count": null,
   "metadata": {},
   "outputs": [],
   "source": [
    "dep_delay_origin_dest2[order(dep_delay_origin_dest2$av_dep_delay, decreasing = T),][1:10,]"
   ]
  },
  {
   "cell_type": "markdown",
   "metadata": {},
   "source": [
    "# Merge Operations"
   ]
  },
  {
   "cell_type": "markdown",
   "metadata": {},
   "source": [
    "Let's first review four types of merges:"
   ]
  },
  {
   "cell_type": "code",
   "execution_count": null,
   "metadata": {},
   "outputs": [],
   "source": [
    "df_weights <- data.frame(names = c(\"ahmet\", \"ayse\"), weights = c(75, 52))\n",
    "df_weights"
   ]
  },
  {
   "cell_type": "code",
   "execution_count": null,
   "metadata": {},
   "outputs": [],
   "source": [
    "df_heights <- data.frame(names = c(\"ali\", \"ayse\"), heights = c(176, 165))\n",
    "df_heights"
   ]
  },
  {
   "cell_type": "markdown",
   "metadata": {},
   "source": [
    "## Left (outer) join"
   ]
  },
  {
   "cell_type": "markdown",
   "metadata": {},
   "source": [
    "Join the two data frames, on names fields, keeping all categories in the LEFT df:"
   ]
  },
  {
   "cell_type": "code",
   "execution_count": null,
   "metadata": {},
   "outputs": [],
   "source": [
    "merge(df_weights, df_heights, by.x = \"names\", by.y = \"names\", all.x = TRUE)"
   ]
  },
  {
   "cell_type": "markdown",
   "metadata": {},
   "source": [
    "## Right (outer) join"
   ]
  },
  {
   "cell_type": "markdown",
   "metadata": {},
   "source": [
    "Join the two data frames, on names fields, keeping all categories in the RIGHT df:"
   ]
  },
  {
   "cell_type": "code",
   "execution_count": null,
   "metadata": {},
   "outputs": [],
   "source": [
    "merge(df_weights, df_heights, by.x = \"names\", by.y = \"names\", all.y = TRUE)"
   ]
  },
  {
   "cell_type": "markdown",
   "metadata": {},
   "source": [
    "## Full outer join"
   ]
  },
  {
   "cell_type": "markdown",
   "metadata": {},
   "source": [
    "Join the two data frames, on names fields, keeping all categories in either df:"
   ]
  },
  {
   "cell_type": "code",
   "execution_count": null,
   "metadata": {},
   "outputs": [],
   "source": [
    "merge(df_weights, df_heights, by.x = \"names\", by.y = \"names\", all = TRUE)"
   ]
  },
  {
   "cell_type": "markdown",
   "metadata": {},
   "source": [
    "## Inner join"
   ]
  },
  {
   "cell_type": "markdown",
   "metadata": {},
   "source": [
    "Join the two data frames, on names fields, keeping only common categories in both df's:"
   ]
  },
  {
   "cell_type": "code",
   "execution_count": null,
   "metadata": {},
   "outputs": [],
   "source": [
    "merge(df_weights, df_heights, by.x = \"names\", by.y = \"names\", all = FALSE)"
   ]
  },
  {
   "cell_type": "markdown",
   "metadata": {},
   "source": [
    "Let's merge flights and dep_delay_date_origin2 data frames into flights2, so that we have the average departure delay for the date and origin airport pair for all rows:\n",
    "\n",
    "If you don't have the dep_delay_date_origin2 data frame, you can load it as such:"
   ]
  },
  {
   "cell_type": "code",
   "execution_count": null,
   "metadata": {},
   "outputs": [],
   "source": [
    "load(\"~/file/dep_delay_date_origin2.RData\")"
   ]
  },
  {
   "cell_type": "code",
   "execution_count": null,
   "metadata": {},
   "outputs": [],
   "source": [
    "flights2 <- merge(flights,\n",
    "                  dep_delay_date_origin2,\n",
    "                  by.x = c(\"dates\", \"origin\"),\n",
    "                 by.y = c(\"dates\", \"origin\"),\n",
    "                 all = T)"
   ]
  },
  {
   "cell_type": "code",
   "execution_count": null,
   "metadata": {},
   "outputs": [],
   "source": [
    "head(flights2)"
   ]
  },
  {
   "cell_type": "markdown",
   "metadata": {},
   "source": [
    "## Merge exercise:"
   ]
  },
  {
   "cell_type": "markdown",
   "metadata": {},
   "source": [
    "- Merge the flights and dep_delay_origin_dest2 data frames into flights3, so that we have the count of flights and average departure delay for each airport pair on all rows\n",
    "- Create a new column \"dev_delay\" for deviation delay: difference between the departure delay and the average departure delay for the airport pair.\n",
    "- List the 10 maximum delay deviations\n",
    "\n",
    "as such:\n",
    "\n",
    "```R\n",
    "       origin dest year month day dep_time dep_delay arr_time arr_delay\n",
    "26298  EWR    DFW  2014 10     4   727     1498      1008     1494     \n",
    "94999  JFK    BOS  2014  4    15  1341     1241      1443     1223     \n",
    "3809   EWR    ATL  2014  7    14   823     1087      1046     1090     \n",
    "24951  EWR    DFW  2014  6    13  1046     1071      1329     1064     \n",
    "26816  EWR    DFW  2014  9    12   636     1056      1015     1115     \n",
    "24850  EWR    DFW  2014  6    16   731     1022      1057     1073     \n",
    "128692 JFK    MCO  2014  2    21   844     1014      1151     1007     \n",
    "105903 JFK    DEN  2014  2    15  1244     1003      1517      994     \n",
    "26848  EWR    DFW  2014  6    11  1119      989      1411      991     \n",
    "223331 LGA    MIA  2014  1     2  1108      973      1456      996     \n",
    "       cancelled ⋯ flight air_time distance hour min dates      weekdays count\n",
    "26298  0         ⋯ 1381   200      1372      7   27  2014-10-04 Sat      2224 \n",
    "94999  0         ⋯  256    39       187     13   41  2014-04-15 Tue      4111 \n",
    "3809   0         ⋯  673    97       746      8   23  2014-07-14 Mon      4182 \n",
    "24951  0         ⋯ 2488   175      1372     10   46  2014-06-13 Fri      2224 \n",
    "26816  0         ⋯ 1642   198      1372      6   36  2014-09-12 Fri      2224 \n",
    "24850  0         ⋯  320   178      1372      7   31  2014-06-16 Mon      2224 \n",
    "128692 0         ⋯ 2459   139       944      8   44  2014-02-21 Fri      4467 \n",
    "105903 0         ⋯  475   242      1626     12   44  2014-02-15 Sat       579 \n",
    "26848  0         ⋯ 1691   194      1372     11   19  2014-06-11 Wed      2224 \n",
    "223331 0         ⋯ 2139   156      1096     11    8  2014-01-02 Thu      5084 \n",
    "       av_dep_delay dev_delay\n",
    "26298  16.616906    1481.3831\n",
    "94999  11.584529    1229.4155\n",
    "3809   17.602822    1069.3972\n",
    "24951  16.616906    1054.3831\n",
    "26816  16.616906    1039.3831\n",
    "24850  16.616906    1005.3831\n",
    "128692 13.477726    1000.5223\n",
    "105903 18.226252     984.7737\n",
    "26848  16.616906     972.3831\n",
    "223331  6.030488     966.9695\n",
    "```"
   ]
  },
  {
   "cell_type": "markdown",
   "metadata": {},
   "source": [
    "If you don't have dep_delay_origin_dest2 data frame, you can load it as such:"
   ]
  },
  {
   "cell_type": "code",
   "execution_count": null,
   "metadata": {},
   "outputs": [],
   "source": [
    "load(\"~/file/dep_delay_origin_dest2.RData\")"
   ]
  },
  {
   "cell_type": "markdown",
   "metadata": {},
   "source": [
    "**Solutions:**"
   ]
  },
  {
   "cell_type": "code",
   "execution_count": null,
   "metadata": {},
   "outputs": [],
   "source": [
    "flights3 <- merge(flights,\n",
    "                  dep_delay_origin_dest2,\n",
    "                  by.x = c(\"origin\", \"dest\"),\n",
    "                 by.y = c(\"origin\", \"dest\"),\n",
    "                 all = T)"
   ]
  },
  {
   "cell_type": "code",
   "execution_count": null,
   "metadata": {},
   "outputs": [],
   "source": [
    "head(flights3)"
   ]
  },
  {
   "cell_type": "code",
   "execution_count": null,
   "metadata": {},
   "outputs": [],
   "source": [
    "flights3$dev_delay <- with(flights3, dep_delay - av_dep_delay)"
   ]
  },
  {
   "cell_type": "code",
   "execution_count": null,
   "metadata": {},
   "outputs": [],
   "source": [
    "head(flights3)"
   ]
  },
  {
   "cell_type": "code",
   "execution_count": null,
   "metadata": {},
   "outputs": [],
   "source": [
    "flights3[order(flights3$dev_delay, decreasing = T),][1:10,]"
   ]
  },
  {
   "cell_type": "markdown",
   "metadata": {},
   "source": [
    "# Reshape"
   ]
  },
  {
   "cell_type": "markdown",
   "metadata": {},
   "source": [
    "## Casting"
   ]
  },
  {
   "cell_type": "markdown",
   "metadata": {},
   "source": [
    "Let's start with dep_delay_origin_dest2 again"
   ]
  },
  {
   "cell_type": "markdown",
   "metadata": {},
   "source": [
    "You can load it if you don't have:"
   ]
  },
  {
   "cell_type": "code",
   "execution_count": null,
   "metadata": {},
   "outputs": [],
   "source": [
    "load(\"~/file/dep_delay_origin_dest2.RData\")"
   ]
  },
  {
   "cell_type": "code",
   "execution_count": null,
   "metadata": {},
   "outputs": [],
   "source": [
    "str(dep_delay_origin_dest2)"
   ]
  },
  {
   "cell_type": "markdown",
   "metadata": {},
   "source": [
    "First let's get the unique origin and dest counts"
   ]
  },
  {
   "cell_type": "code",
   "execution_count": null,
   "metadata": {},
   "outputs": [],
   "source": [
    "length(unique(dep_delay_origin_dest2$origin))"
   ]
  },
  {
   "cell_type": "code",
   "execution_count": null,
   "metadata": {},
   "outputs": [],
   "source": [
    "length(unique(dep_delay_origin_dest2$dest))"
   ]
  },
  {
   "cell_type": "markdown",
   "metadata": {},
   "source": [
    "Now let's create a data frame as such: all rows are unique destinations, all columns are unique origins and we have av_dep_delay as values"
   ]
  },
  {
   "cell_type": "code",
   "execution_count": null,
   "metadata": {},
   "outputs": [],
   "source": [
    "origin_dest_wide <- reshape(dep_delay_origin_dest2,\n",
    "                      idvar = c(\"dest\"),\n",
    "                      v.names = \"av_dep_delay\",\n",
    "                      timevar = \"origin\",\n",
    "                      direction = \"wide\",\n",
    "                        drop = \"count\")"
   ]
  },
  {
   "cell_type": "code",
   "execution_count": null,
   "metadata": {},
   "outputs": [],
   "source": [
    "str(origin_dest_wide)"
   ]
  },
  {
   "cell_type": "code",
   "execution_count": null,
   "metadata": {},
   "outputs": [],
   "source": [
    "names(origin_dest_wide)[-1] <- c(\"JFK\", \"LGA\", \"EWR\")"
   ]
  },
  {
   "cell_type": "code",
   "execution_count": null,
   "metadata": {},
   "outputs": [],
   "source": [
    "head(origin_dest_wide)"
   ]
  },
  {
   "cell_type": "markdown",
   "metadata": {},
   "source": [
    "Let's easily see the most delaying destinations for JFK"
   ]
  },
  {
   "cell_type": "code",
   "execution_count": null,
   "metadata": {},
   "outputs": [],
   "source": [
    "origin_dest_wide[order(origin_dest_wide$JFK, decreasing = T),c(\"dest\", \"JFK\")][1:10,]"
   ]
  },
  {
   "cell_type": "markdown",
   "metadata": {},
   "source": [
    "### Cast exercise:"
   ]
  },
  {
   "cell_type": "markdown",
   "metadata": {},
   "source": [
    "Cast dep_delay_date_origin2 into long format such that we have dates in rows and origin in columns as such:\n",
    "\n",
    "```R\n",
    "  dates      EWR       JFK       LGA     \n",
    "1 2014-01-01  23.14126  19.47843 15.17674\n",
    "2 2014-01-02  32.16889  51.65086 49.16949\n",
    "3 2014-01-03 140.27703 196.84298 85.61481\n",
    "4 2014-01-04  59.30622 132.00000 36.75824\n",
    "5 2014-01-05  95.42735 130.40278 81.18227\n",
    "6 2014-01-06  51.97417  53.09836 62.99500\n",
    "```\n",
    "\n",
    "Then, using sapply, which.min and which.max functions:\n",
    "- First get the date of maximum delay for each origin airport\n",
    "- Then get the date of minimum delay for each origin airport"
   ]
  },
  {
   "cell_type": "markdown",
   "metadata": {},
   "source": [
    "If you don't have dep_delay_date_origin2, you can load it as such:"
   ]
  },
  {
   "cell_type": "code",
   "execution_count": null,
   "metadata": {},
   "outputs": [],
   "source": [
    "load(\"~/file/dep_delay_date_origin2.RData\")"
   ]
  },
  {
   "cell_type": "markdown",
   "metadata": {},
   "source": [
    "**Solution:**"
   ]
  },
  {
   "cell_type": "code",
   "execution_count": null,
   "metadata": {},
   "outputs": [],
   "source": [
    "head(dep_delay_date_origin2)"
   ]
  },
  {
   "cell_type": "code",
   "execution_count": null,
   "metadata": {},
   "outputs": [],
   "source": [
    "delay_date_wide <- reshape(dep_delay_date_origin2,\n",
    "                      idvar = c(\"dates\"),\n",
    "                      v.names = \"av_dep_delay\",\n",
    "                      timevar = \"origin\",\n",
    "                      direction = \"wide\",\n",
    "                        drop = c(\"min_dep_delay\", \"max_dep_delay\"))"
   ]
  },
  {
   "cell_type": "code",
   "execution_count": null,
   "metadata": {},
   "outputs": [],
   "source": [
    "names(delay_date_wide)[-1] <- c(\"EWR\", \"JFK\", \"LGA\")"
   ]
  },
  {
   "cell_type": "code",
   "execution_count": null,
   "metadata": {},
   "outputs": [],
   "source": [
    "head(delay_date_wide)"
   ]
  },
  {
   "cell_type": "code",
   "execution_count": null,
   "metadata": {},
   "outputs": [],
   "source": [
    "delay_date_wide$dates[sapply(delay_date_wide[,-1], which.max)]"
   ]
  },
  {
   "cell_type": "code",
   "execution_count": null,
   "metadata": {},
   "outputs": [],
   "source": [
    "delay_date_wide$dates[sapply(delay_date_wide[,-1], which.min)]"
   ]
  },
  {
   "cell_type": "markdown",
   "metadata": {},
   "source": [
    "## Melting"
   ]
  },
  {
   "cell_type": "markdown",
   "metadata": {},
   "source": [
    "Let's start with origin_dest_wide again:"
   ]
  },
  {
   "cell_type": "markdown",
   "metadata": {},
   "source": [
    "You can load it if you don't have:"
   ]
  },
  {
   "cell_type": "code",
   "execution_count": null,
   "metadata": {},
   "outputs": [],
   "source": [
    "load(\"~/file/origin_dest_wide.RData\")"
   ]
  },
  {
   "cell_type": "code",
   "execution_count": null,
   "metadata": {},
   "outputs": [],
   "source": [
    "head(origin_dest_wide)"
   ]
  },
  {
   "cell_type": "markdown",
   "metadata": {},
   "source": [
    "Now we will convert it to long format again: Each row has three columns: dest, origin and dep_delay"
   ]
  },
  {
   "cell_type": "code",
   "execution_count": null,
   "metadata": {},
   "outputs": [],
   "source": [
    "cols <- names(origin_dest_wide)[-1]\n",
    "\n",
    "origin_dest_long <- reshape(origin_dest_wide,\n",
    "                      idvar = c(\"dest\"),\n",
    "                      varying = cols,\n",
    "                        times = cols,\n",
    "                      v.name = \"value\",\n",
    "                      direction = \"long\")"
   ]
  },
  {
   "cell_type": "code",
   "execution_count": null,
   "metadata": {},
   "outputs": [],
   "source": [
    "head(origin_dest_long)"
   ]
  },
  {
   "cell_type": "markdown",
   "metadata": {},
   "source": [
    "### Melt exercise:"
   ]
  },
  {
   "cell_type": "markdown",
   "metadata": {},
   "source": [
    "Convert delay_date_wide into long format as delay_date_long, as such:\n",
    "\n",
    "```R\n",
    "               dates      time value    \n",
    "2014-01-01.EWR 2014-01-01 EWR   23.14126\n",
    "2014-01-02.EWR 2014-01-02 EWR   32.16889\n",
    "2014-01-03.EWR 2014-01-03 EWR  140.27703\n",
    "2014-01-04.EWR 2014-01-04 EWR   59.30622\n",
    "2014-01-05.EWR 2014-01-05 EWR   95.42735\n",
    "2014-01-06.EWR 2014-01-06 EWR   51.97417\n",
    "```"
   ]
  },
  {
   "cell_type": "markdown",
   "metadata": {},
   "source": [
    "If you don't have delay_date_wide, you can load it as such:"
   ]
  },
  {
   "cell_type": "code",
   "execution_count": null,
   "metadata": {},
   "outputs": [],
   "source": [
    "load(\"~/file/delay_date_wide.RData\")"
   ]
  },
  {
   "cell_type": "markdown",
   "metadata": {},
   "source": [
    "**Solution:**"
   ]
  },
  {
   "cell_type": "code",
   "execution_count": null,
   "metadata": {},
   "outputs": [],
   "source": [
    "head(delay_date_wide)"
   ]
  },
  {
   "cell_type": "code",
   "execution_count": null,
   "metadata": {},
   "outputs": [],
   "source": [
    "cols <- names(delay_date_wide)[-1]\n",
    "\n",
    "delay_date_long <- reshape(delay_date_wide,\n",
    "                      idvar = c(\"dates\"),\n",
    "                      varying = cols,\n",
    "                        times = cols,\n",
    "                      v.name = \"value\",\n",
    "                      direction = \"long\")"
   ]
  },
  {
   "cell_type": "code",
   "execution_count": null,
   "metadata": {},
   "outputs": [],
   "source": [
    "head(delay_date_long)"
   ]
  },
  {
   "cell_type": "markdown",
   "metadata": {},
   "source": [
    "## Save objects"
   ]
  },
  {
   "cell_type": "code",
   "execution_count": null,
   "metadata": {},
   "outputs": [],
   "source": [
    "save(dep_delay_origin_dest2, file = \"~/file/dep_delay_origin_dest2.RData\")\n",
    "save(dep_delay_date_origin2, file = \"~/file/dep_delay_date_origin2.RData\")\n",
    "save(origin_dest_wide, file = \"~/file/origin_dest_wide.RData\")\n",
    "save(delay_date_wide, file = \"~/file/delay_date_wide.RData\")"
   ]
  }
 ],
 "metadata": {
  "kernelspec": {
   "display_name": "R",
   "language": "R",
   "name": "ir"
  },
  "language_info": {
   "codemirror_mode": "r",
   "file_extension": ".r",
   "mimetype": "text/x-r-source",
   "name": "R",
   "pygments_lexer": "r",
   "version": "3.5.2"
  },
  "toc": {
   "nav_menu": {},
   "number_sections": true,
   "sideBar": true,
   "skip_h1_title": false,
   "title_cell": "Table of Contents",
   "title_sidebar": "Contents",
   "toc_cell": false,
   "toc_position": {},
   "toc_section_display": "block",
   "toc_window_display": false
  },
  "varInspector": {
   "cols": {
    "lenName": 16,
    "lenType": 16,
    "lenVar": 40
   },
   "kernels_config": {
    "python": {
     "delete_cmd_postfix": "",
     "delete_cmd_prefix": "del ",
     "library": "var_list.py",
     "varRefreshCmd": "print(var_dic_list())"
    },
    "r": {
     "delete_cmd_postfix": ") ",
     "delete_cmd_prefix": "rm(",
     "library": "var_list.r",
     "varRefreshCmd": "cat(var_dic_list()) "
    }
   },
   "types_to_exclude": [
    "module",
    "function",
    "builtin_function_or_method",
    "instance",
    "_Feature"
   ],
   "window_display": false
  }
 },
 "nbformat": 4,
 "nbformat_minor": 2
}
