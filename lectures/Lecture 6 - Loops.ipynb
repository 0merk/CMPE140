{
 "cells": [
  {
   "cell_type": "code",
   "execution_count": null,
   "metadata": {},
   "outputs": [],
   "source": [
    "options(jupyter.rich_display = FALSE)"
   ]
  },
  {
   "cell_type": "markdown",
   "metadata": {},
   "source": [
    "Looping\n",
    "======\n",
    "\n",
    "\"Looping\" (also known as the repetition structure) refers to repeating a block of code as long as a condition is true. It is one of the fundamental structures making up programs, along with _sequential execution_ and _branching_ (decisions).\n",
    "\n",
    "In this notebook we will describe loops in the general sense, as used in many programming languages. However, in R you don't need to use loops as often as in other languages, mostly because they are hidden inside the functions we call. For example, the `mean()` function takes a vector, adds up all elements by using a loop over it, and returns their mean. All vectorized operations have loops hidden inside them."
   ]
  },
  {
   "cell_type": "markdown",
   "metadata": {},
   "source": [
    "The while loop\n",
    "--------------\n",
    "\n",
    "Here is a simple example: Print the squares of 1, 2, ... 10."
   ]
  },
  {
   "cell_type": "code",
   "execution_count": null,
   "metadata": {},
   "outputs": [],
   "source": [
    "i <- 1 # initialization\n",
    "while (i<=10) {  # condition\n",
    "    cat(i,i^2,\"\\n\")\n",
    "    i <- i+1  # update\n",
    "}"
   ]
  },
  {
   "cell_type": "markdown",
   "metadata": {},
   "source": [
    "The general structure of the `while` loop is as follows:\n",
    "\n",
    "    <initialization>\n",
    "    while( <condition> ) {\n",
    "        <statements>\n",
    "        <update variables>\n",
    "    }\n",
    "\n",
    "The `<condition>` is a Boolean expression, usually involving existing variables. First, the condition is evaluated. If true, the block is executed (this is called one _iteration_). When the block is completed, the condition is reevaluated and the block is re-executed if necessary.\n",
    "\n",
    "In general, we want the condition to become false eventually (except for infinite loops -- see below). So, the variables of the program must be updated within the block to ensure that. Without this update the loop would not terminate.\n",
    "\n",
    "<h3>Example: Find the sum of elements in a vector</h3>"
   ]
  },
  {
   "cell_type": "code",
   "execution_count": null,
   "metadata": {},
   "outputs": [],
   "source": [
    "mydata <- c(1,4,2,5,1,4,6,2,0)\n",
    "sum <- 0\n",
    "i <- 1\n",
    "while (i<=length(mydata)){\n",
    "    sum <- sum + mydata[i]\n",
    "    i <- i + 1\n",
    "}\n",
    "sum"
   ]
  },
  {
   "cell_type": "markdown",
   "metadata": {},
   "source": [
    "<h3>Example: Find the maximum element in a vector</h3>"
   ]
  },
  {
   "cell_type": "code",
   "execution_count": null,
   "metadata": {},
   "outputs": [],
   "source": [
    "mydata <- c(1,4,2,5,1,4,6,2,0)\n",
    "max <- mydata[1]\n",
    "i <- 2\n",
    "while (i<=length(mydata)){\n",
    "    if(mydata[i]>max)\n",
    "        max <- mydata[i]\n",
    "    i <- i + 1\n",
    "}\n",
    "max"
   ]
  },
  {
   "cell_type": "markdown",
   "metadata": {},
   "source": [
    "<h3>Example: Read numbers from keyboard, store in a vector</h3>"
   ]
  },
  {
   "cell_type": "code",
   "execution_count": null,
   "metadata": {},
   "outputs": [],
   "source": [
    "n_data <- as.numeric(readline(\"How many data points? \"))\n",
    "mydata <- c()\n",
    "i <- 1\n",
    "while (i<=n_data){\n",
    "    x <- as.numeric(readline(\"Enter a number: \"))\n",
    "    mydata <- c(mydata,x)\n",
    "    i <- i+1\n",
    "}\n",
    "mydata"
   ]
  },
  {
   "cell_type": "markdown",
   "metadata": {},
   "source": [
    "The for loop\n",
    "-----------\n",
    "This is an alternative repetition structure. The `for` statement does not take a Boolean condition. Instead, it takes elements from a vector one by one, and runs the loop body with the current element. The loop terminates when the last element is used."
   ]
  },
  {
   "cell_type": "code",
   "execution_count": null,
   "metadata": {},
   "outputs": [],
   "source": [
    "for(i in 1:10) {\n",
    "    cat(i,i^2,\"\\n\")\n",
    "}"
   ]
  },
  {
   "cell_type": "markdown",
   "metadata": {},
   "source": [
    "In many cases `for` is simpler than `while`, especially when you need to iterate over the elements of a vector. We can rewrite the previous examples with `for` as follows:"
   ]
  },
  {
   "cell_type": "code",
   "execution_count": null,
   "metadata": {},
   "outputs": [],
   "source": [
    "mydata <- c(1,4,2,5,1,4,6,2,0)\n",
    "sum <- 0\n",
    "for (d in mydata)\n",
    "    sum <- sum + d\n",
    "sum"
   ]
  },
  {
   "cell_type": "markdown",
   "metadata": {},
   "source": [
    "The line `for(d in mydata)` means that `d` is first assigned to `mydata[1]`, then to `mydata[2]`, etc, until all the elements in `mydata` are used up.\n",
    "\n",
    "Here is the `for` implementation of the code that finds the maximum value in a vector."
   ]
  },
  {
   "cell_type": "code",
   "execution_count": null,
   "metadata": {},
   "outputs": [],
   "source": [
    "mydata <- c(1,4,2,5,1,4,6,2,0)\n",
    "max <- mydata[1]\n",
    "for(d in mydata) if(d>max) max <- d\n",
    "max"
   ]
  },
  {
   "cell_type": "markdown",
   "metadata": {},
   "source": [
    "Note that by using `for` you don't need to keep track of the element index. This is OK if you are interested in the element values only, but it might not work if the element's location is relevant, such as the following example.\n",
    "\n",
    "<h3>Example: Find the index of the maximum value in a vector</h3>"
   ]
  },
  {
   "cell_type": "code",
   "execution_count": null,
   "metadata": {},
   "outputs": [],
   "source": [
    "mydata <- c(1,4,2,5,1,4,6,2,0)\n",
    "max <- mydata[1]\n",
    "maxindex <- 1\n",
    "i <- 2\n",
    "while (i<=length(mydata)){\n",
    "    if(mydata[i]>max){\n",
    "        maxindex <- i\n",
    "        max <- mydata[i]\n",
    "    }\n",
    "    i = i + 1\n",
    "}\n",
    "cat(maxindex, max)"
   ]
  },
  {
   "cell_type": "markdown",
   "metadata": {},
   "source": [
    "The break statement\n",
    "---------------\n",
    "\n",
    "When the program encounters a `break` statement, it terminates the loop. The remainder of the block is skipped over."
   ]
  },
  {
   "cell_type": "code",
   "execution_count": null,
   "metadata": {},
   "outputs": [],
   "source": [
    "i <- 1\n",
    "while(i<=10){\n",
    "    if(i==7)\n",
    "        break\n",
    "    cat(\"i =\",i,\"\\n\")\n",
    "    i <- i+1\n",
    "}"
   ]
  },
  {
   "cell_type": "code",
   "execution_count": null,
   "metadata": {},
   "outputs": [],
   "source": [
    "for(i in 1:10){\n",
    "    if (i==7)\n",
    "        break\n",
    "    cat(\"i =\",i,\"\\n\")\n",
    "}"
   ]
  },
  {
   "cell_type": "markdown",
   "metadata": {},
   "source": [
    "<h3>Example: Determine if a given number is prime</h3>"
   ]
  },
  {
   "cell_type": "code",
   "execution_count": null,
   "metadata": {},
   "outputs": [],
   "source": [
    "n <- 118876487131\n",
    "prime <- TRUE # assume prime unless proven otherwise\n",
    "i <- 2\n",
    "while (i*i <= n){  # check only up to the square root of n\n",
    "    if (n%%i == 0){\n",
    "        prime <- FALSE\n",
    "        break\n",
    "    }\n",
    "    i <- i+1\n",
    "}\n",
    "if (!prime) cat(n,\"is not prime;\",i,\"divides it.\")"
   ]
  },
  {
   "cell_type": "markdown",
   "metadata": {},
   "source": [
    "<h3>Example: Read numbers from keyboard, store in a vector</h3>"
   ]
  },
  {
   "cell_type": "code",
   "execution_count": null,
   "metadata": {},
   "outputs": [],
   "source": [
    "data <- c()\n",
    "while (TRUE){\n",
    "    x <- as.numeric(readline(\"Enter a number: \"))\n",
    "    if (is.na(x))\n",
    "        break\n",
    "    data <- c(data,x)\n",
    "}\n",
    "data"
   ]
  },
  {
   "cell_type": "markdown",
   "metadata": {},
   "source": [
    "The next statement\n",
    "-----------------"
   ]
  },
  {
   "cell_type": "markdown",
   "metadata": {},
   "source": [
    "When a `next` statement is encountered, the program returns to the beginning of the loop, skipping over the remaining statements. Caution: If the update statement is located after the `next`, the loop may not terminate."
   ]
  },
  {
   "cell_type": "code",
   "execution_count": null,
   "metadata": {},
   "outputs": [],
   "source": [
    "i<-0\n",
    "while(i<=10){\n",
    "    i <- i+1\n",
    "    if( i%%3==0 )\n",
    "        next\n",
    "    cat(i, \"\")\n",
    "}"
   ]
  },
  {
   "cell_type": "markdown",
   "metadata": {},
   "source": [
    "<h3>Example: Rejecting invalid values at input</h3>"
   ]
  },
  {
   "cell_type": "code",
   "execution_count": null,
   "metadata": {},
   "outputs": [],
   "source": [
    "mydata <- c()\n",
    "while (TRUE){\n",
    "    x <- as.numeric(readline(\"Enter a number: \"))\n",
    "    if (is.na(x))\n",
    "        break\n",
    "    if(x<0 || x>100){\n",
    "        print(\"Invalid range: Must be between 0 and 100.\")\n",
    "        next\n",
    "    }\n",
    "    mydata <- c(mydata,x)\n",
    "}\n",
    "mydata"
   ]
  },
  {
   "cell_type": "markdown",
   "metadata": {},
   "source": [
    "The repeat loop\n",
    "------------\n",
    "Above we set up an _infinite loop_ with `while(TRUE){...}`, and used a `break` statement to end the loop. The `repeat` statement provides the same functionality. It does not take any test for repetition. To terminate it, you must `break` out of it."
   ]
  },
  {
   "cell_type": "code",
   "execution_count": null,
   "metadata": {},
   "outputs": [],
   "source": [
    "i <- -2\n",
    "repeat {\n",
    "    i <- i + 3\n",
    "    cat(i,\"\")\n",
    "    if(i>10) break\n",
    "}"
   ]
  },
  {
   "cell_type": "markdown",
   "metadata": {},
   "source": [
    "The `next` statement works in the same way in `repeat` loops."
   ]
  },
  {
   "cell_type": "code",
   "execution_count": null,
   "metadata": {},
   "outputs": [],
   "source": [
    "i <- -2\n",
    "repeat {\n",
    "    i <- i + 1\n",
    "    if (i%%3==0) next\n",
    "    cat(i,\"\")\n",
    "    if(i>10) break\n",
    "}"
   ]
  },
  {
   "cell_type": "markdown",
   "metadata": {},
   "source": [
    "Nested loops\n",
    "-----------\n",
    "\n",
    "A loop body can contain anything, including other loops. As an example, consider two vectors, and list all products of numbers where the first factor comes from the first vector, and the second vector comes from the second vector. "
   ]
  },
  {
   "cell_type": "code",
   "execution_count": null,
   "metadata": {},
   "outputs": [],
   "source": [
    "a <- 2\n",
    "b <- 7\n",
    "cat(a, \"*\", b, \"=\", a*b, \"\\n\")"
   ]
  },
  {
   "cell_type": "code",
   "execution_count": null,
   "metadata": {},
   "outputs": [],
   "source": [
    "a <- 2\n",
    "b_vector <- c(7,8,9)\n",
    "for (b in b_vector){\n",
    "    cat(a, \"*\", b, \"=\", a*b, \"\\n\")    \n",
    "}"
   ]
  },
  {
   "cell_type": "code",
   "execution_count": null,
   "metadata": {},
   "outputs": [],
   "source": [
    "a_vector <- c(2,3,4,5,6)\n",
    "b_vector <- c(7,8,9)\n",
    "for (a in a_vector){\n",
    "    for (b in b_vector){\n",
    "        cat(a, \"*\", b, \"=\", a*b, \"\\n\")\n",
    "    }\n",
    "}"
   ]
  },
  {
   "cell_type": "markdown",
   "metadata": {},
   "source": [
    "<h3>Example: List Pythagorean triples </h3>\n",
    "A _Pythagorean triple_ consists of three integers a,b,c such that $a^2 + b^2 = c^2$ holds. Let us determine all Pythagorean triplets such that $a,b<100$."
   ]
  },
  {
   "cell_type": "code",
   "execution_count": null,
   "metadata": {},
   "outputs": [],
   "source": [
    "for (a in 1:100)\n",
    "    for(b in 1:100)\n",
    "        for(c in b:150)\n",
    "            if (a*a + b*b == c*c)\n",
    "                cat(a,b,c,\"\\n\")"
   ]
  },
  {
   "cell_type": "markdown",
   "metadata": {},
   "source": [
    "**Question.** We get repetitions such as `3 4 5` and `4 3 5`, which are really not different. How do we remove such repetitions?"
   ]
  },
  {
   "cell_type": "markdown",
   "metadata": {},
   "source": [
    "<h3>Example: Print a triangle of characters</h3>"
   ]
  },
  {
   "cell_type": "code",
   "execution_count": null,
   "metadata": {},
   "outputs": [],
   "source": [
    "for (row in 1:10){\n",
    "    for (col in 1:row)\n",
    "        cat(\"*\")\n",
    "    cat(\"\\n\")\n",
    "}"
   ]
  },
  {
   "cell_type": "code",
   "execution_count": null,
   "metadata": {},
   "outputs": [],
   "source": [
    "for (row in 1:10){\n",
    "    for (col in row:10)\n",
    "        cat(\"*\")\n",
    "    cat(\"\\n\")\n",
    "}"
   ]
  },
  {
   "cell_type": "markdown",
   "metadata": {},
   "source": [
    "## Vectorized operations and loops"
   ]
  },
  {
   "cell_type": "markdown",
   "metadata": {},
   "source": [
    "Suppose you want to apply some operation on vectors. There is a large speed difference between built-in vectorized operations and loops in R.\n",
    "\n",
    "For example, consider adding two vectors and assigning the result on a third:"
   ]
  },
  {
   "cell_type": "code",
   "execution_count": null,
   "metadata": {},
   "outputs": [],
   "source": [
    "x <- c(1,2,3)\n",
    "y <- c(4,5,6)\n",
    "z <- x + y\n",
    "z"
   ]
  },
  {
   "cell_type": "markdown",
   "metadata": {},
   "source": [
    "An alternative would be to use a `for` loop:"
   ]
  },
  {
   "cell_type": "code",
   "execution_count": null,
   "metadata": {},
   "outputs": [],
   "source": [
    "z <- vector(length=length(x))\n",
    "for(i in 1:length(x))\n",
    "    z[i] <- x[i] + y[i]\n",
    "z"
   ]
  },
  {
   "cell_type": "markdown",
   "metadata": {},
   "source": [
    "They give the same result, but are they all equivalent?\n",
    "\n",
    "Let's measure the time that the computer takes for each operation. We use large vectors to see the time difference clearly."
   ]
  },
  {
   "cell_type": "code",
   "execution_count": null,
   "metadata": {},
   "outputs": [],
   "source": [
    "x <- runif(1000000)\n",
    "y <- runif(1000000)\n",
    "z <- vector(length=1000000)"
   ]
  },
  {
   "cell_type": "code",
   "execution_count": null,
   "metadata": {},
   "outputs": [],
   "source": [
    "system.time(z <- x+y)"
   ]
  },
  {
   "cell_type": "code",
   "execution_count": null,
   "metadata": {},
   "outputs": [],
   "source": [
    "system.time(for(i in 1:length(x)) z[i] <- x[i] + y[i])"
   ]
  },
  {
   "cell_type": "markdown",
   "metadata": {},
   "source": [
    "The large difference is due to the implementation of R: The for() loop, the \":\" operator, the index operator \"\\[\" are all function calls, which slows the code. Vectorized functions are written in fast C code.\n",
    "\n",
    "Use vectorized functions whenever possible, instead of using a loop."
   ]
  },
  {
   "cell_type": "markdown",
   "metadata": {},
   "source": [
    "### Example: Moving average\n",
    "Moving averages are a way to smooth the data. For example, the 2-element sample moving average of a vector $v$ with $n$ elements is defined as\n",
    "\n",
    "$$ \\left(\\frac{v_1+v_2}{2},\\frac{v_2+v_3}{2},\\frac{v_3+v_4}{2}, \\ldots, \\frac{v_{n-1}+v_n}{2}\\right)$$"
   ]
  },
  {
   "cell_type": "markdown",
   "metadata": {},
   "source": [
    "Let's generate some synthetic data with an upward trend and some random noise."
   ]
  },
  {
   "cell_type": "code",
   "execution_count": null,
   "metadata": {},
   "outputs": [],
   "source": [
    "data <- cumsum(sample(c(-1,2),size = 100, replace=TRUE))\n",
    "plot(data, type=\"l\")"
   ]
  },
  {
   "cell_type": "code",
   "execution_count": null,
   "metadata": {},
   "outputs": [],
   "source": [
    "movav <- vector(length=length(data)-1)\n",
    "for(i in 1:length(data)-1)\n",
    "    movav[i] <- (data[i] + data[i+1])/2"
   ]
  },
  {
   "cell_type": "code",
   "execution_count": null,
   "metadata": {},
   "outputs": [],
   "source": [
    "plot(movav, type=\"l\")"
   ]
  },
  {
   "cell_type": "markdown",
   "metadata": {},
   "source": [
    "Implement this in vectorized form:"
   ]
  },
  {
   "cell_type": "code",
   "execution_count": null,
   "metadata": {},
   "outputs": [],
   "source": [
    "movav <- (data[1:length(data)-1] + data[2:length(data)])/2"
   ]
  },
  {
   "cell_type": "code",
   "execution_count": null,
   "metadata": {},
   "outputs": [],
   "source": [
    "plot(movav, type=\"l\")"
   ]
  },
  {
   "cell_type": "markdown",
   "metadata": {},
   "source": [
    "Further examples\n",
    "--------------\n",
    "<h3>Fibonacci sequence</h3>\n",
    "A _Fibonacci sequence_ starts with 1 and 1, and each new value is the sum of the two previous values. Formally:\n",
    "$$\\begin{eqnarray}\n",
    "F_1 &=& 1\\\\\n",
    "F_2 &=& 1\\\\\n",
    "F_{n} &=& F_{n-1} + F_{n-2}\n",
    "\\end{eqnarray}$$\n",
    "\n",
    "Each number in this sequence is called a _Fibonacci number_. Let us write R code that displays the first 20 Fibonacci numbers."
   ]
  },
  {
   "cell_type": "code",
   "execution_count": null,
   "metadata": {},
   "outputs": [],
   "source": [
    "f1 <- 1\n",
    "f2 <- 1\n",
    "cat(f1,\"\\n\")\n",
    "cat(f2,\"\\n\")"
   ]
  },
  {
   "cell_type": "code",
   "execution_count": null,
   "metadata": {},
   "outputs": [],
   "source": [
    "for (i in 3:20){\n",
    "    temp <- f1\n",
    "    f1 <- f2\n",
    "    f2 <- f2 + temp\n",
    "    cat(f2,\"\\n\")\n",
    "}"
   ]
  },
  {
   "cell_type": "markdown",
   "metadata": {},
   "source": [
    "<h3>Compound interest</h3>"
   ]
  },
  {
   "cell_type": "code",
   "execution_count": null,
   "metadata": {},
   "outputs": [],
   "source": [
    "account_balance <- 10000\n",
    "interest_rate <- 0.1\n",
    "years <- 10\n",
    "balance_vec <- account_balance\n",
    "for (y in 1:years){\n",
    "    account_balance <- account_balance * (1+interest_rate)\n",
    "    balance_vec <- c(balance_vec, account_balance)\n",
    "    cat(\"After\",y,\"years your account balance is\",account_balance,\"\\n\")\n",
    "}"
   ]
  },
  {
   "cell_type": "code",
   "execution_count": null,
   "metadata": {},
   "outputs": [],
   "source": [
    "balance_vec[10]"
   ]
  },
  {
   "cell_type": "markdown",
   "metadata": {},
   "source": [
    "<h3>Series sum</h3>\n",
    "Evaluate the sum $$\\sum_{i=1}^{n} 2^{-i} = \\frac{1}{2} + \\frac{1}{4} +\\ldots + \\frac{1}{2^n}$$ for given $n$."
   ]
  },
  {
   "cell_type": "code",
   "execution_count": null,
   "metadata": {},
   "outputs": [],
   "source": [
    "n <- 5\n",
    "total <- 0\n",
    "for (i in 1:n) {\n",
    "    total <- total + 1/2^i\n",
    "}\n",
    "total"
   ]
  },
  {
   "cell_type": "code",
   "execution_count": null,
   "metadata": {},
   "outputs": [],
   "source": [
    "n <- 10\n",
    "total <- 0\n",
    "for (i in 1:n) {\n",
    "    total <- total + 1/2^i\n",
    "}\n",
    "total"
   ]
  },
  {
   "cell_type": "markdown",
   "metadata": {},
   "source": [
    "As $n\\rightarrow\\infty$, the sum must approach 1. To see this, let us wrap another loop around the code to change n."
   ]
  },
  {
   "cell_type": "code",
   "execution_count": null,
   "metadata": {},
   "outputs": [],
   "source": [
    "for (n in 2:20){\n",
    "    total <- 0\n",
    "    for (i in 1:n) {\n",
    "        total <- total + 1/2^i\n",
    "    }\n",
    "    cat(\"n =\",n,\", series total =\",total,\"\\n\")\n",
    "}"
   ]
  },
  {
   "cell_type": "code",
   "execution_count": null,
   "metadata": {},
   "outputs": [],
   "source": [
    "n=1000\n",
    "for (i in 1:n){\n",
    "    x <- runif(1,-1,1)\n",
    "    y <- runif(1,-1,1)\n",
    "    if (x*x + y*y <= 1)\n",
    "        total <- total + 1\n",
    "}\n",
    "total / n"
   ]
  },
  {
   "cell_type": "markdown",
   "metadata": {},
   "source": [
    "## Exercises"
   ]
  },
  {
   "cell_type": "markdown",
   "metadata": {},
   "source": [
    "### Implement `sum` and `cumsum`\n",
    "Implement the `sum()` and `cumsum()` functions using R's loop structures. Test your functions with some simple cases to ensure that they work correctly. Using random vectors of size 1,000,000 as input, compare their speed with the built-in versions."
   ]
  },
  {
   "cell_type": "markdown",
   "metadata": {},
   "source": [
    "### Implement moving average\n",
    "We've seen that the moving average of a vector `v` using a 2-element sampling can be implemented as\n",
    "\n",
    "    (v[1:length(v)-1] + v[2:length(v)] )/ 2\n",
    "\n",
    "Generalize this expression so that you take the moving average using 3, 4, ... $n$ elements. Use both loops and vectorized operations."
   ]
  },
  {
   "cell_type": "markdown",
   "metadata": {},
   "source": [
    "### Digital sums\n",
    "Write a function named `digitsum` which takes a positive integer and returns the sum of digits of the input. For example, the function call `digitsum(35274)` should return 21."
   ]
  },
  {
   "cell_type": "markdown",
   "metadata": {},
   "source": [
    "### Migration\n",
    "Currently there are 1,000,000 inhabitants in city A, and 500,000 in city B. Each year, 2% of people in city A move to city B, and 3% of people in city A move to city B. The intrinsic growth rate of both cities is 1% (i.e., the growth in the absence of any migration).\n",
    "\n",
    "Plot the population of both cities for the next 20 years."
   ]
  },
  {
   "cell_type": "markdown",
   "metadata": {},
   "source": [
    "### Collatz numbers\n",
    "The _Collatz sequence_ is defined as follows:\n",
    "* Start with any positive integer $n$.\n",
    "* If $n$ is even, set $n \\leftarrow n/2$\n",
    "* If $n$ is odd, set $n \\leftarrow 3n+1$\n",
    "* If $n=1$, stop.\n",
    "\n",
    "For example, starting with 10, the Collatz sequence is 10, 5, 16, 8, 4, 2, 1. The number of steps required to reach 1 is 6.\n",
    "\n",
    "It is believed that for any starting point the sequence ends with 1. However, this is not proven.\n",
    "\n",
    "* Write a function `collatzlen(n)` that returns the number of steps required to go from n to 1 in a Collatz sequence. For example, `collatzlen(10)` should return 6.\n",
    "* Plot the Collatz sequence length for $n$ going from 2 to 100.\n",
    "* For which starting value between 100 and 200 does the Collatz sequence have the largest length?"
   ]
  }
 ],
 "metadata": {
  "kernelspec": {
   "display_name": "R",
   "language": "R",
   "name": "ir"
  },
  "language_info": {
   "codemirror_mode": "r",
   "file_extension": ".r",
   "mimetype": "text/x-r-source",
   "name": "R",
   "pygments_lexer": "r",
   "version": "3.5.1"
  },
  "toc": {
   "nav_menu": {},
   "number_sections": true,
   "sideBar": true,
   "skip_h1_title": false,
   "toc_cell": false,
   "toc_position": {},
   "toc_section_display": "block",
   "toc_window_display": false
  }
 },
 "nbformat": 4,
 "nbformat_minor": 2
}
