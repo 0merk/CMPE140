{
 "cells": [
  {
   "cell_type": "markdown",
   "metadata": {
    "slideshow": {
     "slide_type": "slide"
    }
   },
   "source": [
    "Built-in R datasets\n",
    "====\n",
    "R comes bundled with some standard data sets. To get a complete list, use the following command:"
   ]
  },
  {
   "cell_type": "code",
   "execution_count": null,
   "metadata": {},
   "outputs": [],
   "source": [
    "library(help=\"datasets\")"
   ]
  },
  {
   "cell_type": "markdown",
   "metadata": {},
   "source": [
    "To see the description of a particular data set:"
   ]
  },
  {
   "cell_type": "code",
   "execution_count": null,
   "metadata": {},
   "outputs": [],
   "source": [
    "help(mtcars)"
   ]
  },
  {
   "cell_type": "markdown",
   "metadata": {
    "slideshow": {
     "slide_type": "slide"
    }
   },
   "source": [
    "Data exploration\n",
    "====\n",
    "R has some functions to get some summary information about the data."
   ]
  },
  {
   "cell_type": "code",
   "execution_count": null,
   "metadata": {},
   "outputs": [],
   "source": [
    "dim(mtcars)"
   ]
  },
  {
   "cell_type": "code",
   "execution_count": null,
   "metadata": {},
   "outputs": [],
   "source": [
    "head(mtcars)"
   ]
  },
  {
   "cell_type": "code",
   "execution_count": null,
   "metadata": {},
   "outputs": [],
   "source": [
    "tail(mtcars)"
   ]
  },
  {
   "cell_type": "code",
   "execution_count": null,
   "metadata": {},
   "outputs": [],
   "source": [
    "summary(mtcars)"
   ]
  },
  {
   "cell_type": "markdown",
   "metadata": {},
   "source": [
    "Reading data from a text file\n",
    "===\n",
    "Data is frequently stored in tabular form in text files. The `read.table()` function can read a file from your disk or from the internet and return a data frame containing that data."
   ]
  },
  {
   "cell_type": "markdown",
   "metadata": {},
   "source": [
    "Suppose we have a data file _mydata.txt_ with the following contents:\n",
    "\n",
    "    Can 1.70 65\n",
    "    Cem 1.75 66\n",
    "    Hande 1.62 61\n",
    "    Lale 1.76 64\n",
    "    Arda 1.78 63\n",
    "    Bilgin 1.77 84\n",
    "    Cem 1.69 75\n",
    "    Ozlem 1.75 65\n",
    "    Ali 1.73 75\n",
    "    Haluk 1.71 81"
   ]
  },
  {
   "cell_type": "markdown",
   "metadata": {
    "slideshow": {
     "slide_type": "slide"
    }
   },
   "source": [
    "The file can be read into a data frame simply with:"
   ]
  },
  {
   "cell_type": "code",
   "execution_count": null,
   "metadata": {},
   "outputs": [],
   "source": [
    "hwdata <- read.table(\"mydata.txt\")"
   ]
  },
  {
   "cell_type": "markdown",
   "metadata": {},
   "source": [
    "We can change the columns of the dataframe in the way we know:"
   ]
  },
  {
   "cell_type": "code",
   "execution_count": null,
   "metadata": {},
   "outputs": [],
   "source": [
    "names(hwdata) <- c(\"Name\", \"Height\",\"Weight\")\n",
    "hwdata"
   ]
  },
  {
   "cell_type": "markdown",
   "metadata": {
    "slideshow": {
     "slide_type": "slide"
    }
   },
   "source": [
    "The function `read.table()` is quite versatile, and it has a lot of parameters to tune its behavior. The help documentation can be helpful:"
   ]
  },
  {
   "cell_type": "code",
   "execution_count": null,
   "metadata": {},
   "outputs": [],
   "source": [
    "help(read.table)"
   ]
  },
  {
   "cell_type": "markdown",
   "metadata": {
    "slideshow": {
     "slide_type": "slide"
    }
   },
   "source": [
    "Now let's read the data file _mydata2.txt_ that has a header row, and set the column names of the resulting data frame accordingly:\n",
    "\n",
    "    Name Height Weight\n",
    "    Can 1.70 65\n",
    "    Cem 1.75 66\n",
    "    Hande 1.62 61\n",
    "    Lale 1.76 64\n",
    "    Arda 1.78 63\n",
    "    Bilgin 1.77 84\n",
    "    Cem 1.69 75\n",
    "    Ozlem 1.75 65\n",
    "    Ali 1.73 75\n",
    "    Haluk 1.71 81"
   ]
  },
  {
   "cell_type": "code",
   "execution_count": null,
   "metadata": {},
   "outputs": [],
   "source": [
    "hwdata <- read.table(\"mydata2.txt\",header = TRUE)\n",
    "hwdata"
   ]
  },
  {
   "cell_type": "markdown",
   "metadata": {
    "slideshow": {
     "slide_type": "slide"
    }
   },
   "source": [
    "Now read the file _mydata3.txt_ whose fields are separated with commas instead of spaces:\n",
    "\n",
    "    Name,Height,Weight\n",
    "    Can,1.70,65\n",
    "    Cem,1.75,66\n",
    "    Hande,1.62,61\n",
    "    Lale,1.76,64\n",
    "    Arda,1.78,63\n",
    "    Bilgin,1.77,84\n",
    "    Cem,1.69,75\n",
    "    Ozlem,1.75,65\n",
    "    Ali,1.73,75\n",
    "    Haluk,1.71,81"
   ]
  },
  {
   "cell_type": "code",
   "execution_count": null,
   "metadata": {},
   "outputs": [],
   "source": [
    "hwdata <- read.table(\"mydata3.txt\",header = TRUE, sep=\",\")\n",
    "hwdata"
   ]
  },
  {
   "cell_type": "markdown",
   "metadata": {
    "slideshow": {
     "slide_type": "slide"
    }
   },
   "source": [
    "Let's read the data file _mydata4.txt_ which contains some comments added by the data collector.\n",
    "\n",
    "    Name,Height,Weight\n",
    "    Can,1.70,65\n",
    "    Cem,1.75,66\n",
    "    # Here is a comment\n",
    "    Hande,1.62,61\n",
    "    Lale,1.76,64\n",
    "    Arda,1.78,63\n",
    "    Bilgin,1.77,84 # another comment\n",
    "    Cem,1.69,75\n",
    "    Ozlem,1.75,65\n",
    "    Ali,1.73,75\n",
    "    Haluk,1.71,81"
   ]
  },
  {
   "cell_type": "markdown",
   "metadata": {
    "slideshow": {
     "slide_type": "slide"
    }
   },
   "source": [
    "The comment character can be set with the `comment.char` parameter to `read.table()`."
   ]
  },
  {
   "cell_type": "code",
   "execution_count": null,
   "metadata": {},
   "outputs": [],
   "source": [
    "hwdata <- read.table(\"mydata4.txt\",header = TRUE, sep=\",\", comment.char=\"#\")\n",
    "hwdata"
   ]
  },
  {
   "cell_type": "markdown",
   "metadata": {},
   "source": [
    "Actually this was a redundant setting, because by default `comment.char` is already set to `\"#\"`."
   ]
  },
  {
   "cell_type": "markdown",
   "metadata": {
    "slideshow": {
     "slide_type": "slide"
    }
   },
   "source": [
    "Sometimes a text in a field may contain the separator character. To avoid breaking the field's content, we use quotes in the data file, such as the _mydata5.txt_ file below:\n",
    "\n",
    "    Name Height Weight\n",
    "    \"Can Can\" 1.70 65\n",
    "    \"Cem Cem\" 1.75 66\n",
    "    \"Hande Hande\" 1.62 61\n",
    "    \"Lale Lale\" 1.76 64\n",
    "    \"Arda Arda\" 1.78 63\n",
    "    \"Bilgin Bilgin\" 1.77 84\n",
    "    \"Cem Cim\" 1.69 75\n",
    "    \"Ozlem Ozlem\" 1.75 65\n",
    "    \"Ali Ali\" 1.73 75\n",
    "    \"Haluk Haluk\" 1.71 81"
   ]
  },
  {
   "cell_type": "markdown",
   "metadata": {},
   "source": [
    "The function `read.table()` recognizes the single- or double quotes by default."
   ]
  },
  {
   "cell_type": "code",
   "execution_count": null,
   "metadata": {},
   "outputs": [],
   "source": [
    "hwdata <- read.table(\"mydata5.txt\", header=TRUE)\n",
    "hwdata"
   ]
  },
  {
   "cell_type": "markdown",
   "metadata": {
    "slideshow": {
     "slide_type": "slide"
    }
   },
   "source": [
    "Other quote characters can be specified with the `quote` parameter to `read.table()`. For example, consider the data file _mydata6.txt_:\n",
    "\n",
    "    Name Height Weight\n",
    "    %Can Can% 1.70 65\n",
    "    %Cem Cem% 1.75 66\n",
    "    %Hande Hande% 1.62 61\n",
    "    %Lale Lale% 1.76 64\n",
    "    %Arda Arda% 1.78 63\n",
    "    %Bilgin Bilgin% 1.77 84\n",
    "    %Cem Cim% 1.69 75\n",
    "    %Ozlem Ozlem% 1.75 65\n",
    "    %Ali Ali% 1.73 75\n",
    "    %Haluk Haluk% 1.71 81"
   ]
  },
  {
   "cell_type": "code",
   "execution_count": null,
   "metadata": {},
   "outputs": [],
   "source": [
    "hwdata <- read.table(\"mydata6.txt\", header=TRUE, quote=\"%\")\n",
    "hwdata"
   ]
  },
  {
   "cell_type": "markdown",
   "metadata": {
    "slideshow": {
     "slide_type": "slide"
    }
   },
   "source": [
    "Writing data to a file\n",
    "==="
   ]
  },
  {
   "cell_type": "markdown",
   "metadata": {},
   "source": [
    "Suppose that we process the data file by, e.g., adding some columns."
   ]
  },
  {
   "cell_type": "code",
   "execution_count": null,
   "metadata": {},
   "outputs": [],
   "source": [
    "hwdata <- read.table(\"mydata6.txt\", header=TRUE, quote=\"%\")\n",
    "hwdata$BMI <- hwdata$Weight / hwdata$Height^2\n",
    "hwdata$BMI <- round(hwdata$BMI, 2)  # round to two decimal places\n",
    "hwdata"
   ]
  },
  {
   "cell_type": "markdown",
   "metadata": {
    "slideshow": {
     "slide_type": "slide"
    }
   },
   "source": [
    "The function `write.table()` can be used to store a data frame in a file."
   ]
  },
  {
   "cell_type": "code",
   "execution_count": null,
   "metadata": {},
   "outputs": [],
   "source": [
    "write.table(hwdata,\"mydata7.txt\")"
   ]
  },
  {
   "cell_type": "markdown",
   "metadata": {},
   "source": [
    "This function writes the table together with the row names and column names:\n",
    "\n",
    "    \"Name\" \"Height\" \"Weight\" \"BMI\"\n",
    "    \"1\" \"Can Can\" 1.7 65 22.49\n",
    "    \"2\" \"Cem Cem\" 1.75 66 21.55\n",
    "    \"3\" \"Hande Hande\" 1.62 61 23.24\n",
    "    \"4\" \"Lale Lale\" 1.76 64 20.66\n",
    "    \"5\" \"Arda Arda\" 1.78 63 19.88\n",
    "    \"6\" \"Bilgin Bilgin\" 1.77 84 26.81\n",
    "    \"7\" \"Cem Cim\" 1.69 75 26.26\n",
    "    \"8\" \"Ozlem Ozlem\" 1.75 65 21.22\n",
    "    \"9\" \"Ali Ali\" 1.73 75 25.06\n",
    "    \"10\" \"Haluk Haluk\" 1.71 81 27.7"
   ]
  },
  {
   "cell_type": "markdown",
   "metadata": {
    "slideshow": {
     "slide_type": "slide"
    }
   },
   "source": [
    "We can omit the row and column names with the following parameter settings."
   ]
  },
  {
   "cell_type": "code",
   "execution_count": null,
   "metadata": {},
   "outputs": [],
   "source": [
    "write.table(hwdata,\"mydata7.txt\",row.names = FALSE, col.names = FALSE)"
   ]
  },
  {
   "cell_type": "markdown",
   "metadata": {
    "slideshow": {
     "slide_type": "slide"
    }
   },
   "source": [
    "# Scatter plots of data"
   ]
  },
  {
   "cell_type": "code",
   "execution_count": null,
   "metadata": {},
   "outputs": [],
   "source": [
    "options(repr.plot.width=5, repr.plot.height=5)"
   ]
  },
  {
   "cell_type": "markdown",
   "metadata": {},
   "source": [
    "Plot the weight of the people in our data set versus their height."
   ]
  },
  {
   "cell_type": "code",
   "execution_count": null,
   "metadata": {},
   "outputs": [],
   "source": [
    "plot(hwdata$Height, hwdata$Weight)"
   ]
  },
  {
   "cell_type": "markdown",
   "metadata": {
    "slideshow": {
     "slide_type": "slide"
    }
   },
   "source": [
    "Our data is made up, and it does not reflect reality. Let's visualize a real life data set of height and weight of 10,000 people: https://github.com/johnmyleswhite/ML_for_Hackers/tree/master/02-Exploration/data (needs internet connection)."
   ]
  },
  {
   "cell_type": "code",
   "execution_count": null,
   "metadata": {},
   "outputs": [],
   "source": [
    "url <- \"https://raw.githubusercontent.com/johnmyleswhite/ML_for_Hackers/master/02-Exploration/data/01_heights_weights_genders.csv\"\n",
    "heights_weights_gender <- read.table(url, header=T, sep=\",\")"
   ]
  },
  {
   "cell_type": "markdown",
   "metadata": {
    "slideshow": {
     "slide_type": "slide"
    }
   },
   "source": [
    "Let's see how the data looks like:"
   ]
  },
  {
   "cell_type": "code",
   "execution_count": null,
   "metadata": {},
   "outputs": [],
   "source": [
    "head(heights_weights_gender)"
   ]
  },
  {
   "cell_type": "markdown",
   "metadata": {
    "slideshow": {
     "slide_type": "slide"
    }
   },
   "source": [
    "Put the heights and weights of men on their separate vectors and plot."
   ]
  },
  {
   "cell_type": "code",
   "execution_count": null,
   "metadata": {},
   "outputs": [],
   "source": [
    "men <- heights_weights_gender$Gender == \"Male\"\n",
    "men_heights <- heights_weights_gender[[\"Height\"]][men]\n",
    "men_weights <- heights_weights_gender[[\"Weight\"]][men]"
   ]
  },
  {
   "cell_type": "code",
   "execution_count": null,
   "metadata": {
    "slideshow": {
     "slide_type": "slide"
    }
   },
   "outputs": [],
   "source": [
    "plot(men_heights, men_weights)"
   ]
  },
  {
   "cell_type": "markdown",
   "metadata": {
    "slideshow": {
     "slide_type": "slide"
    }
   },
   "source": [
    "Change the axis labels and add a plot title"
   ]
  },
  {
   "cell_type": "code",
   "execution_count": null,
   "metadata": {},
   "outputs": [],
   "source": [
    "plot(men_heights, men_weights,xlab = \"Height [inches]\", ylab=\"Weight [pounds]\",\n",
    "     main=\"Weight vs height for men\")"
   ]
  },
  {
   "cell_type": "markdown",
   "metadata": {
    "slideshow": {
     "slide_type": "slide"
    }
   },
   "source": [
    "Change the marker type and color:"
   ]
  },
  {
   "cell_type": "code",
   "execution_count": null,
   "metadata": {},
   "outputs": [],
   "source": [
    "plot(men_heights, men_weights, pch=4, col=\"blue\", xlab = \"Height [inches]\", ylab=\"Weight [pounds]\")\n",
    "title(\"Weight vs height for men\")"
   ]
  },
  {
   "cell_type": "markdown",
   "metadata": {
    "slideshow": {
     "slide_type": "slide"
    }
   },
   "source": [
    "Do the same for women:"
   ]
  },
  {
   "cell_type": "code",
   "execution_count": null,
   "metadata": {},
   "outputs": [],
   "source": [
    "women <- heights_weights_gender$Gender == \"Female\"\n",
    "women_heights <- heights_weights_gender[[\"Height\"]][women]\n",
    "women_weights <- heights_weights_gender[[\"Weight\"]][women]"
   ]
  },
  {
   "cell_type": "code",
   "execution_count": null,
   "metadata": {
    "slideshow": {
     "slide_type": "slide"
    }
   },
   "outputs": [],
   "source": [
    "plot(women_heights, women_weights, pch=20, col=\"red\", xlab = \"Height [inches]\", ylab=\"Weight [pounds]\")\n",
    "title(\"Weight vs height for women\")"
   ]
  },
  {
   "cell_type": "markdown",
   "metadata": {
    "slideshow": {
     "slide_type": "slide"
    }
   },
   "source": [
    "Let's try to show them on the same plot."
   ]
  },
  {
   "cell_type": "code",
   "execution_count": null,
   "metadata": {},
   "outputs": [],
   "source": [
    "plot(men_heights, men_weights, pch=4, col=\"blue\", xlab = \"Height [inches]\", ylab=\"Weight [pounds]\")\n",
    "plot(women_heights, women_weights, pch=20, col=\"red\", xlab = \"Height [inches]\", ylab=\"Weight [pounds]\")\n",
    "title(\"Weight vs height of adults\")"
   ]
  },
  {
   "cell_type": "markdown",
   "metadata": {
    "slideshow": {
     "slide_type": "slide"
    }
   },
   "source": [
    "This does not work. In order to overlay a scatter plot, we need to use the `points()` function, which adds the new points on the existing plot."
   ]
  },
  {
   "cell_type": "code",
   "execution_count": null,
   "metadata": {},
   "outputs": [],
   "source": [
    "plot(men_heights, men_weights, pch=4, col=\"blue\", xlab = \"Height [inches]\", ylab=\"Weight [pounds]\")\n",
    "points(women_heights, women_weights, pch=20, col=\"red\", xlab = \"Height [inches]\", ylab=\"Weight [pounds]\")\n",
    "title(\"Weight vs height of adults\")"
   ]
  },
  {
   "cell_type": "markdown",
   "metadata": {
    "slideshow": {
     "slide_type": "slide"
    }
   },
   "source": [
    "The plot limits don't look right, because they are automatically set for the male data. Set the limits manually:"
   ]
  },
  {
   "cell_type": "code",
   "execution_count": null,
   "metadata": {},
   "outputs": [],
   "source": [
    "plot(men_heights, men_weights, pch=4, col=\"blue\",\n",
    "     xlab = \"Height [inches]\", ylab=\"Weight [pounds]\",\n",
    "     xlim = c(50,80), ylim = c(60,270))\n",
    "points(women_heights, women_weights, pch=20, col=\"red\",\n",
    "       xlab = \"Height [inches]\", ylab=\"Weight [pounds]\",\n",
    "       xlim = c(50,80), ylim = c(60,270))\n",
    "title(\"Weight vs height of adults\")"
   ]
  },
  {
   "cell_type": "markdown",
   "metadata": {
    "slideshow": {
     "slide_type": "slide"
    }
   },
   "source": [
    "We need a legend to understand which is which:"
   ]
  },
  {
   "cell_type": "code",
   "execution_count": null,
   "metadata": {},
   "outputs": [],
   "source": [
    "plot(men_heights, men_weights, pch=4, col=\"blue\",\n",
    "     xlab = \"Height [inches]\", ylab=\"Weight [pounds]\",\n",
    "     xlim = c(50,80), ylim = c(60,270))\n",
    "points(women_heights, women_weights, pch=20, col=\"red\",\n",
    "       xlab = \"Height [inches]\", ylab=\"Weight [pounds]\",\n",
    "       xlim = c(50,80), ylim = c(60,270))\n",
    "title(\"Weight vs height of adults\")\n",
    "legend(\"bottomright\", c(\"Men\",\"Women\"), col=c(\"blue\",\"red\"), pch=c(4,20), inset=0.05, cex=0.8)"
   ]
  },
  {
   "cell_type": "markdown",
   "metadata": {
    "slideshow": {
     "slide_type": "slide"
    }
   },
   "source": [
    "Histograms\n",
    "----"
   ]
  },
  {
   "cell_type": "markdown",
   "metadata": {},
   "source": [
    "If we want to see how the data is distributed, we can generate a histogram."
   ]
  },
  {
   "cell_type": "code",
   "execution_count": null,
   "metadata": {},
   "outputs": [],
   "source": [
    "hist(men_heights)"
   ]
  },
  {
   "cell_type": "markdown",
   "metadata": {
    "slideshow": {
     "slide_type": "slide"
    }
   },
   "source": [
    "Increase the number of bins to 20 and use relative frequencies, not total counts."
   ]
  },
  {
   "cell_type": "code",
   "execution_count": null,
   "metadata": {},
   "outputs": [],
   "source": [
    "hist(men_heights, breaks=20, freq = FALSE)"
   ]
  },
  {
   "cell_type": "markdown",
   "metadata": {
    "slideshow": {
     "slide_type": "slide"
    }
   },
   "source": [
    "Let's show both genders, and use color to differentiate: Use the `rgb()` function whose 4th parameter gives the transparency of the color:"
   ]
  },
  {
   "cell_type": "code",
   "execution_count": null,
   "metadata": {},
   "outputs": [],
   "source": [
    "hist(men_heights, breaks=20, freq = FALSE, col=rgb(0,0,1,0.5))\n",
    "hist(women_heights, breaks=20, freq = FALSE, add=TRUE, col=rgb(1,0,0,0.5))"
   ]
  },
  {
   "cell_type": "markdown",
   "metadata": {
    "slideshow": {
     "slide_type": "slide"
    }
   },
   "source": [
    "Fix the title and the x-label of the plot."
   ]
  },
  {
   "cell_type": "code",
   "execution_count": null,
   "metadata": {},
   "outputs": [],
   "source": [
    "hist(men_heights, breaks=20, freq = FALSE, col=rgb(0,0,1,0.5),\n",
    "     main=\"Male and female heights\", xlab = \"Height [inches]\", ylim=c(0,0.15))\n",
    "hist(women_heights, breaks=20, freq = FALSE, col=rgb(1,0,0,0.5), add=T)"
   ]
  },
  {
   "cell_type": "markdown",
   "metadata": {
    "slideshow": {
     "slide_type": "slide"
    }
   },
   "source": [
    "Density plots\n",
    "----"
   ]
  },
  {
   "cell_type": "markdown",
   "metadata": {},
   "source": [
    "R can estimate distribution as a smooth curve, which might look better than a histogram. Plot the male and female heights with lines of thickness 2."
   ]
  },
  {
   "cell_type": "code",
   "execution_count": null,
   "metadata": {
    "slideshow": {
     "slide_type": "slide"
    }
   },
   "outputs": [],
   "source": [
    "d1 <- density(men_heights)\n",
    "d2 <- density(women_heights)\n",
    "plot(d1, main=\"\", xlab=\"\", col=\"blue\", lwd=4)\n",
    "lines(d2, col=\"red\", lwd=2)"
   ]
  },
  {
   "cell_type": "markdown",
   "metadata": {
    "slideshow": {
     "slide_type": "slide"
    }
   },
   "source": [
    "Let's fix the plot limits and add a text label to mark the curves."
   ]
  },
  {
   "cell_type": "code",
   "execution_count": null,
   "metadata": {},
   "outputs": [],
   "source": [
    "d1 <- density(men_heights)\n",
    "d2 <- density(women_heights)\n",
    "plot(d1, main=\"Height distribution\", xlab=\"Height [inches]\", col=\"blue\", lwd=2, xlim = c(50,80))\n",
    "lines(d2, col=\"red\", lwd=2)\n",
    "text(59, 0.12, \"Women\", col=\"red\")\n",
    "text(72, 0.12, \"Men\", col=\"blue\")"
   ]
  },
  {
   "cell_type": "markdown",
   "metadata": {
    "slideshow": {
     "slide_type": "slide"
    }
   },
   "source": [
    "Line plots\n",
    "----"
   ]
  },
  {
   "cell_type": "markdown",
   "metadata": {},
   "source": [
    "Let's use the built-in EuStockMarkets data set to illustrate line plots."
   ]
  },
  {
   "cell_type": "code",
   "execution_count": null,
   "metadata": {},
   "outputs": [],
   "source": [
    "help(EuStockMarkets)"
   ]
  },
  {
   "cell_type": "code",
   "execution_count": null,
   "metadata": {},
   "outputs": [],
   "source": [
    "head(EuStockMarkets)"
   ]
  },
  {
   "cell_type": "markdown",
   "metadata": {
    "slideshow": {
     "slide_type": "slide"
    }
   },
   "source": [
    "This is a time series object. Let's convert it to a data frame:"
   ]
  },
  {
   "cell_type": "code",
   "execution_count": null,
   "metadata": {},
   "outputs": [],
   "source": [
    "eustock <- as.data.frame(EuStockMarkets)"
   ]
  },
  {
   "cell_type": "markdown",
   "metadata": {
    "slideshow": {
     "slide_type": "slide"
    }
   },
   "source": [
    "Plot the stocks DAX with lines."
   ]
  },
  {
   "cell_type": "code",
   "execution_count": null,
   "metadata": {},
   "outputs": [],
   "source": [
    "plot(eustock$DAX, type=\"l\")"
   ]
  },
  {
   "cell_type": "markdown",
   "metadata": {
    "slideshow": {
     "slide_type": "slide"
    }
   },
   "source": [
    "Plot DAX with a thick red line."
   ]
  },
  {
   "cell_type": "code",
   "execution_count": null,
   "metadata": {},
   "outputs": [],
   "source": [
    "plot(eustock$DAX, type=\"l\", col=\"red\", lwd=3)"
   ]
  },
  {
   "cell_type": "markdown",
   "metadata": {
    "slideshow": {
     "slide_type": "slide"
    }
   },
   "source": [
    "Plot DAX and SMI together:"
   ]
  },
  {
   "cell_type": "code",
   "execution_count": null,
   "metadata": {},
   "outputs": [],
   "source": [
    "plot(eustock$\"DAX\", type=\"l\", col=\"red\")\n",
    "lines(eustock$\"SMI\", col=\"green\")"
   ]
  },
  {
   "cell_type": "markdown",
   "metadata": {
    "slideshow": {
     "slide_type": "slide"
    }
   },
   "source": [
    "Let's plot all the stocks on the same plot:"
   ]
  },
  {
   "cell_type": "code",
   "execution_count": null,
   "metadata": {},
   "outputs": [],
   "source": [
    "plot(eustock$\"DAX\", type=\"l\", col=\"red\", xlab=\"Business days\", ylab=\"Stock value\")\n",
    "nstocks <- length(names(eustock))\n",
    "colors <- rainbow(nstocks)\n",
    "for(i in 2:nstocks ){\n",
    "    lines(eustock[[i]], col=colors[i])\n",
    "    }\n",
    "legend(\"topleft\", names(eustock), col=colors, lty=rep(1,nstocks), inset=0.05)"
   ]
  },
  {
   "cell_type": "markdown",
   "metadata": {
    "slideshow": {
     "slide_type": "slide"
    }
   },
   "source": [
    "Dot, bar, and pie charts\n",
    "----"
   ]
  },
  {
   "cell_type": "code",
   "execution_count": null,
   "metadata": {},
   "outputs": [],
   "source": [
    "mtcars"
   ]
  },
  {
   "cell_type": "code",
   "execution_count": null,
   "metadata": {
    "slideshow": {
     "slide_type": "slide"
    }
   },
   "outputs": [],
   "source": [
    "dotchart(mtcars$mpg,\n",
    "         labels=row.names(mtcars),cex=.7,\n",
    "         main=\"Gas Mileage for Car Models\", \n",
    "         xlab=\"Miles Per Gallon\")"
   ]
  },
  {
   "cell_type": "code",
   "execution_count": null,
   "metadata": {
    "slideshow": {
     "slide_type": "slide"
    }
   },
   "outputs": [],
   "source": [
    "table(mtcars$cyl)"
   ]
  },
  {
   "cell_type": "code",
   "execution_count": null,
   "metadata": {},
   "outputs": [],
   "source": [
    "barplot(table(mtcars$cyl), main=\"Cylinder distribution\", xlab = \"Cylinders\")"
   ]
  },
  {
   "cell_type": "code",
   "execution_count": null,
   "metadata": {
    "slideshow": {
     "slide_type": "slide"
    }
   },
   "outputs": [],
   "source": [
    "counts <- table(mtcars$cyl)\n",
    "barplot(counts, main=\"Cylinder Distribution\", horiz=TRUE,\n",
    "  names.arg=c(\"4 cyl\", \"6 cyl\", \"8 cyl\"))"
   ]
  },
  {
   "cell_type": "code",
   "execution_count": null,
   "metadata": {
    "slideshow": {
     "slide_type": "slide"
    }
   },
   "outputs": [],
   "source": [
    "pie(counts, labels=c(\"4 cyl\", \"6 cyl\", \"8 cyl\"),\n",
    "    col = rainbow(length(counts)),\n",
    "    main = \"Cylinder distribution\")"
   ]
  },
  {
   "cell_type": "markdown",
   "metadata": {
    "slideshow": {
     "slide_type": "slide"
    }
   },
   "source": [
    "# Figure arrays\n",
    "Sometimes we want several plots in one figure. We can achieve this with the `par()` function."
   ]
  },
  {
   "cell_type": "code",
   "execution_count": null,
   "metadata": {},
   "outputs": [],
   "source": [
    "options(repr.plot.width=6, repr.plot.height=4)"
   ]
  },
  {
   "cell_type": "code",
   "execution_count": null,
   "metadata": {
    "slideshow": {
     "slide_type": "slide"
    }
   },
   "outputs": [],
   "source": [
    "normal1 <- rnorm(1000)\n",
    "par(mfrow=c(1,2))\n",
    "plot(normal1)\n",
    "hist(normal1)"
   ]
  },
  {
   "cell_type": "markdown",
   "metadata": {},
   "source": [
    "Here `mfrow=c(1,2)` specifies that the plots should be arranged as one row and two columns, and placement of figures should go by rows.\n",
    "\n",
    "Alternatively, `mfcol` argument would force placement by columns. In this particular example, it gives an identical result."
   ]
  },
  {
   "cell_type": "markdown",
   "metadata": {
    "slideshow": {
     "slide_type": "slide"
    }
   },
   "source": [
    "Generate normally-distributed random numbers with twice the variance and compare the plots."
   ]
  },
  {
   "cell_type": "code",
   "execution_count": null,
   "metadata": {},
   "outputs": [],
   "source": [
    "options(repr.plot.width=8,repr.plot.height=8)\n",
    "normal2 <- rnorm(1000, sd = 2)\n",
    "par(mfrow=c(2,2))\n",
    "plot(normal1)\n",
    "hist(normal1)\n",
    "plot(normal2)\n",
    "hist(normal2)"
   ]
  },
  {
   "cell_type": "markdown",
   "metadata": {},
   "source": [
    "Match the axis scales for better comparison."
   ]
  },
  {
   "cell_type": "code",
   "execution_count": null,
   "metadata": {},
   "outputs": [],
   "source": [
    "par(mfrow=c(2,2))\n",
    "plot(normal1, ylim = c(-6,6),pch=4, col=\"blue\")\n",
    "hist(normal1, xlim = c(-6,6), col=\"red\")\n",
    "plot(normal2, ylim = c(-6,6),pch=4, col=\"blue\")\n",
    "hist(normal2, xlim = c(-6,6), col=\"red\")"
   ]
  },
  {
   "cell_type": "markdown",
   "metadata": {
    "slideshow": {
     "slide_type": "slide"
    }
   },
   "source": [
    "## Parametric plots"
   ]
  },
  {
   "cell_type": "code",
   "execution_count": null,
   "metadata": {},
   "outputs": [],
   "source": [
    "options(repr.plot.width=8,repr.plot.height=6)\n",
    "t <- seq(0,2*pi,length.out = 200)\n",
    "par(mfrow=c(2,3))\n",
    "plot(cos(t), sin(2*t), type=\"l\")\n",
    "plot(cos(3*t), sin(2*t), type=\"l\")\n",
    "plot(cos(3*t), sin(4*t), type=\"l\")\n",
    "plot(cos(5*t), sin(4*t), type=\"l\")\n",
    "plot(cos(5*t), sin(6*t), type=\"l\")\n",
    "plot(cos(9*t), sin(8*t), type=\"l\")"
   ]
  },
  {
   "cell_type": "markdown",
   "metadata": {
    "slideshow": {
     "slide_type": "slide"
    }
   },
   "source": [
    "Box plots\n",
    "===\n",
    "A _box-and-whisker_ plot provides a graphical summary of the distribution of data points."
   ]
  },
  {
   "cell_type": "code",
   "execution_count": null,
   "metadata": {},
   "outputs": [],
   "source": [
    "randnums <- rnorm(1000)\n",
    "summary(randnums)"
   ]
  },
  {
   "cell_type": "markdown",
   "metadata": {
    "slideshow": {
     "slide_type": "slide"
    }
   },
   "source": [
    "The boxplot is a visual summary of the data:"
   ]
  },
  {
   "cell_type": "code",
   "execution_count": null,
   "metadata": {},
   "outputs": [],
   "source": [
    "options(repr.plot.width=3,repr.plot.height=5)\n",
    "boxplot(randnums)"
   ]
  },
  {
   "cell_type": "markdown",
   "metadata": {
    "slideshow": {
     "slide_type": "slide"
    }
   },
   "source": [
    "If you prefer to plot it sideways:"
   ]
  },
  {
   "cell_type": "code",
   "execution_count": null,
   "metadata": {},
   "outputs": [],
   "source": [
    "options(repr.plot.width=6,repr.plot.height=3)\n",
    "boxplot(randnums,horizontal = TRUE)\n",
    "title(\"Normally distributed random numbers\")"
   ]
  },
  {
   "cell_type": "markdown",
   "metadata": {},
   "source": [
    "* The lines in the box indicate the first quartile, the median, and the third quartile. The length of the box is the *interquartile range*. \n",
    "* The lines (*whiskers*) extend to the observations that are within a distance of 1.5 times the box length.\n",
    "* Any other points farther out are considered outliers, and shown separately."
   ]
  },
  {
   "cell_type": "markdown",
   "metadata": {
    "slideshow": {
     "slide_type": "slide"
    }
   },
   "source": [
    "Boxplots of two or more distributions could be displayed side-by-side using `par()` function, but it is more informative to show them on a common set of axes."
   ]
  },
  {
   "cell_type": "code",
   "execution_count": null,
   "metadata": {},
   "outputs": [],
   "source": [
    "randnums2 <- rnorm(1000, sd=2)\n",
    "options(repr.plot.width=6,repr.plot.height=3)\n",
    "boxplot(randnums, randnums2, horizontal = TRUE)\n",
    "title(\"Normally distributed random numbers\")"
   ]
  },
  {
   "cell_type": "markdown",
   "metadata": {
    "slideshow": {
     "slide_type": "slide"
    }
   },
   "source": [
    "Let's draw boxplots on the *mtcars* data set."
   ]
  },
  {
   "cell_type": "code",
   "execution_count": null,
   "metadata": {},
   "outputs": [],
   "source": [
    "head(mtcars)"
   ]
  },
  {
   "cell_type": "code",
   "execution_count": null,
   "metadata": {},
   "outputs": [],
   "source": [
    "boxplot(mtcars$mpg, mtcars$hp, mtcars$wt)"
   ]
  },
  {
   "cell_type": "markdown",
   "metadata": {
    "slideshow": {
     "slide_type": "slide"
    }
   },
   "source": [
    "The scales vary too much. It is better in this case to plot them on separate axes."
   ]
  },
  {
   "cell_type": "code",
   "execution_count": null,
   "metadata": {},
   "outputs": [],
   "source": [
    "par(mfrow = c(1,3))\n",
    "boxplot(mtcars$mpg)\n",
    "title(\"mpg\")\n",
    "boxplot(mtcars$hp)\n",
    "title(\"hp\")\n",
    "boxplot(mtcars$wt)\n",
    "title(\"wt\")"
   ]
  },
  {
   "cell_type": "markdown",
   "metadata": {
    "slideshow": {
     "slide_type": "slide"
    }
   },
   "source": [
    "Strip charts\n",
    "===\n",
    "A strip chart is a one-dimensional scatter plot of some data. It helps us to see distributions of data points."
   ]
  },
  {
   "cell_type": "code",
   "execution_count": null,
   "metadata": {},
   "outputs": [],
   "source": [
    "randnums1 <- rnorm(100)\n",
    "randnums2 <- rnorm(100,mean=1,sd=0.5)\n",
    "stripchart(list(randnums1, randnums2))"
   ]
  },
  {
   "cell_type": "markdown",
   "metadata": {
    "slideshow": {
     "slide_type": "slide"
    }
   },
   "source": [
    "To avoid the overlap of points, we can introduce some \"jitter\"."
   ]
  },
  {
   "cell_type": "code",
   "execution_count": null,
   "metadata": {},
   "outputs": [],
   "source": [
    "stripchart(list(randnums1, randnums2), method=\"jitter\", group.names = c(\"data 1\",\"data 2\"))"
   ]
  },
  {
   "cell_type": "markdown",
   "metadata": {
    "slideshow": {
     "slide_type": "slide"
    }
   },
   "source": [
    "Some embellishments:"
   ]
  },
  {
   "cell_type": "code",
   "execution_count": null,
   "metadata": {},
   "outputs": [],
   "source": [
    "stripchart(list(randnums1, randnums2), method=\"jitter\",\n",
    "           group.names = c(\"data 1\",\"data 2\"),\n",
    "          col=c(\"red\",\"darkblue\"), pch=4)"
   ]
  },
  {
   "cell_type": "markdown",
   "metadata": {
    "slideshow": {
     "slide_type": "slide"
    }
   },
   "source": [
    "Exporting graphics\n",
    "====\n",
    "\n",
    "We frequently need to save our plot in various graphics formats so that we can put them in reports, papers or web pages. R can export graphics to many formats, including JPEG, PNG, TIFF, SVG, PDF, PS, BMP, WMF.\n",
    "\n",
    "For example, here are the steps to create a PNG file\n",
    "    * Call the `png()` function with the file name as argument.\n",
    "    * Give the plotting commands. They will not produce a visible plot now.\n",
    "    * When done, call the function `dev.off()`. Very important, otherwise you will get a bad file."
   ]
  },
  {
   "cell_type": "code",
   "execution_count": null,
   "metadata": {},
   "outputs": [],
   "source": [
    "options(repr.plot.width=4,repr.plot.height=4)\n",
    "\n",
    "plot(x = mtcars$wt, y = mtcars$mpg,\n",
    "     pch = 16, frame = FALSE,\n",
    "     xlab = \"wt\", ylab = \"mpg\", col = \"#2E9FDF\")"
   ]
  },
  {
   "cell_type": "markdown",
   "metadata": {
    "slideshow": {
     "slide_type": "slide"
    }
   },
   "source": [
    "Export to a PNG file using the `png()` function."
   ]
  },
  {
   "cell_type": "code",
   "execution_count": null,
   "metadata": {},
   "outputs": [],
   "source": [
    "png(\"cars.png\")  # open the PNG file.\n",
    "# Plotting commands\n",
    "plot(x = mtcars$wt, y = mtcars$mpg,\n",
    "     pch = 16, frame = FALSE,\n",
    "     xlab = \"wt\", ylab = \"mpg\", col = \"#2E9FDF\")\n",
    "# finalize the export to png\n",
    "dev.off()"
   ]
  },
  {
   "cell_type": "markdown",
   "metadata": {},
   "source": [
    "Note: If you are using RStudio, this can be achieved from the _Plots->Export->Save_ menu."
   ]
  },
  {
   "cell_type": "markdown",
   "metadata": {
    "slideshow": {
     "slide_type": "slide"
    }
   },
   "source": [
    "To export to a PDF file, just change the first line:"
   ]
  },
  {
   "cell_type": "code",
   "execution_count": null,
   "metadata": {},
   "outputs": [],
   "source": [
    "pdf(\"cars.pdf\")\n",
    "plot(x = mtcars$wt, y = mtcars$mpg,\n",
    "     pch = 16, frame = FALSE,\n",
    "     xlab = \"wt\", ylab = \"mpg\", col = \"#2E9FDF\")\n",
    "dev.off()"
   ]
  },
  {
   "cell_type": "markdown",
   "metadata": {
    "slideshow": {
     "slide_type": "slide"
    }
   },
   "source": [
    "The plotting functions allow for many customizations, depending on the file format. One common customization is the size of the plot. Let's recreate the PNG file with a different size."
   ]
  },
  {
   "cell_type": "code",
   "execution_count": null,
   "metadata": {},
   "outputs": [],
   "source": [
    "png(\"cars2.png\", width = 200, height = 300) \n",
    "# Plotting commands\n",
    "plot(x = mtcars$wt, y = mtcars$mpg,\n",
    "     pch = 16, frame = FALSE,\n",
    "     xlab = \"wt\", ylab = \"mpg\", col = \"#2E9FDF\")\n",
    "# finalize the export to png\n",
    "dev.off()"
   ]
  }
 ],
 "metadata": {
  "celltoolbar": "Slideshow",
  "kernelspec": {
   "display_name": "R",
   "language": "R",
   "name": "ir"
  },
  "language_info": {
   "codemirror_mode": "r",
   "file_extension": ".r",
   "mimetype": "text/x-r-source",
   "name": "R",
   "pygments_lexer": "r",
   "version": "3.5.2"
  },
  "toc": {
   "nav_menu": {},
   "number_sections": true,
   "sideBar": true,
   "skip_h1_title": false,
   "title_cell": "Table of Contents",
   "title_sidebar": "Contents",
   "toc_cell": false,
   "toc_position": {},
   "toc_section_display": true,
   "toc_window_display": false
  },
  "varInspector": {
   "cols": {
    "lenName": 16,
    "lenType": 16,
    "lenVar": 40
   },
   "kernels_config": {
    "python": {
     "delete_cmd_postfix": "",
     "delete_cmd_prefix": "del ",
     "library": "var_list.py",
     "varRefreshCmd": "print(var_dic_list())"
    },
    "r": {
     "delete_cmd_postfix": ") ",
     "delete_cmd_prefix": "rm(",
     "library": "var_list.r",
     "varRefreshCmd": "cat(var_dic_list()) "
    }
   },
   "types_to_exclude": [
    "module",
    "function",
    "builtin_function_or_method",
    "instance",
    "_Feature"
   ],
   "window_display": false
  }
 },
 "nbformat": 4,
 "nbformat_minor": 2
}
