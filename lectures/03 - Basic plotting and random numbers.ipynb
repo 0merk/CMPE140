{
 "cells": [
  {
   "cell_type": "code",
   "execution_count": null,
   "metadata": {
    "slideshow": {
     "slide_type": "skip"
    }
   },
   "outputs": [],
   "source": [
    "options(repr.plot.width=8, repr.plot.height=5)\n",
    "options(jupyter.rich_display = FALSE)"
   ]
  },
  {
   "cell_type": "markdown",
   "metadata": {
    "slideshow": {
     "slide_type": "slide"
    }
   },
   "source": [
    "# Basic plotting\n",
    "* Simple scatterplots\n",
    "* Line plots\n",
    "* Function plotting\n",
    "* Histograms"
   ]
  },
  {
   "cell_type": "markdown",
   "metadata": {
    "slideshow": {
     "slide_type": "slide"
    }
   },
   "source": [
    "## Simple scatter plots"
   ]
  },
  {
   "cell_type": "markdown",
   "metadata": {},
   "source": [
    "* Scatter plots and line plots are created with the `plot` command. (Use `help(plot)` for detailed description.)\n",
    "* Simplest use: `plot(y)` or `plot(x,y)`."
   ]
  },
  {
   "cell_type": "code",
   "execution_count": null,
   "metadata": {
    "slideshow": {
     "slide_type": "slide"
    }
   },
   "outputs": [],
   "source": [
    "plot(c(1,3,5,4,6))"
   ]
  },
  {
   "cell_type": "markdown",
   "metadata": {
    "slideshow": {
     "slide_type": "slide"
    }
   },
   "source": [
    "A plot with separate x and y coordinate vectors"
   ]
  },
  {
   "cell_type": "code",
   "execution_count": null,
   "metadata": {},
   "outputs": [],
   "source": [
    "plot(c(-2, -1.5, 0, 1.7, 2.3), c(1,3,5,4,6))"
   ]
  },
  {
   "cell_type": "markdown",
   "metadata": {
    "slideshow": {
     "slide_type": "slide"
    }
   },
   "source": [
    "## Plotting a mathematical expression"
   ]
  },
  {
   "cell_type": "code",
   "execution_count": null,
   "metadata": {},
   "outputs": [],
   "source": [
    "x <- -5:5\n",
    "y <- x^2\n",
    "plot(x, x^2 -1)"
   ]
  },
  {
   "cell_type": "markdown",
   "metadata": {
    "slideshow": {
     "slide_type": "slide"
    }
   },
   "source": [
    "## Change the axis labels and the title"
   ]
  },
  {
   "cell_type": "code",
   "execution_count": null,
   "metadata": {},
   "outputs": [],
   "source": [
    "heights <- c(1.70, 1.67, 1.75, 1.62, 1.81)\n",
    "weights <- c(65, 70, 66, 61, 85)\n",
    "plot(heights, weights, xlab=\"height (m)\", ylab=\"weight (kg)\")\n",
    "title(\"Weight vs. height\")"
   ]
  },
  {
   "cell_type": "markdown",
   "metadata": {
    "slideshow": {
     "slide_type": "slide"
    }
   },
   "source": [
    "## Change the marker shape and color"
   ]
  },
  {
   "cell_type": "code",
   "execution_count": null,
   "metadata": {},
   "outputs": [],
   "source": [
    "plot(heights, weights, pch=4, col=\"red\", xlab=\"height (m)\", ylab=\"weight (kg)\")\n",
    "title(\"Weight vs. height\")"
   ]
  },
  {
   "cell_type": "markdown",
   "metadata": {},
   "source": [
    "For details of setting the marker shape, size, and color see this document: https://www.statmethods.net/advgraphs/parameters.html"
   ]
  },
  {
   "cell_type": "markdown",
   "metadata": {
    "slideshow": {
     "slide_type": "slide"
    }
   },
   "source": [
    "## Pause to think"
   ]
  },
  {
   "attachments": {
    "image.png": {
     "image/png": "[encoded data removed]"
    }
   },
   "cell_type": "markdown",
   "metadata": {},
   "source": [
    "Given the variables\n",
    "    \n",
    "    x <- -5:5\n",
    "    y <- 1 - x^2 / 25\n",
    " \n",
    "which of the following options can be used to generate the following plot?\n",
    "![image.png](attachment:image.png)\n",
    "\n",
    "    (A) plot(x, y, col=\"blue\", xlab=\"distance\", ylab=\"height\")\n",
    "    (B) plot(y, x, col=\"blue\", xlab=\"height\", ylab=\"distance\")\n",
    "    (C) plot(x, y, col=\"red\", xlab=\"distance\")\n",
    "    (D) plot(x, y, col=\"blue\")"
   ]
  },
  {
   "cell_type": "markdown",
   "metadata": {
    "slideshow": {
     "slide_type": "slide"
    }
   },
   "source": [
    "## Line plots"
   ]
  },
  {
   "cell_type": "code",
   "execution_count": null,
   "metadata": {},
   "outputs": [],
   "source": [
    "heights <- c(1.70, 1.67, 1.75, 1.62, 1.81)\n",
    "weights <- c(65, 70, 66, 61, 85)\n",
    "plot(heights, weights, type=\"l\")"
   ]
  },
  {
   "cell_type": "markdown",
   "metadata": {
    "slideshow": {
     "slide_type": "slide"
    }
   },
   "source": [
    "In this particular case, ordering with respect to heights produces a more pleasing plot."
   ]
  },
  {
   "cell_type": "code",
   "execution_count": null,
   "metadata": {},
   "outputs": [],
   "source": [
    "plot(sort(heights), weights[order(heights)], type=\"l\")"
   ]
  },
  {
   "cell_type": "markdown",
   "metadata": {
    "slideshow": {
     "slide_type": "slide"
    }
   },
   "source": [
    "## Function plotting"
   ]
  },
  {
   "cell_type": "markdown",
   "metadata": {},
   "source": [
    "Plot the function $y(x) = \\mathrm{e}^{-0.1x^2}\\sin(x)$."
   ]
  },
  {
   "cell_type": "code",
   "execution_count": null,
   "metadata": {},
   "outputs": [],
   "source": [
    "x <- seq(-10, 10, length.out = 100)\n",
    "y <- exp(-0.1*x^2)*sin(x)\n",
    "plot(x, y, type=\"l\", col=\"darkgreen\")\n",
    "title(\"A function\")"
   ]
  },
  {
   "cell_type": "markdown",
   "metadata": {
    "slideshow": {
     "slide_type": "slide"
    }
   },
   "source": [
    "## Plotting two functions together"
   ]
  },
  {
   "cell_type": "markdown",
   "metadata": {},
   "source": [
    "Plot the functions $y_1(x) = \\mathrm{e}^{-0.1x^2}\\sin(x)$ and $y_2(x) = \\sin(x)$ on the same graph."
   ]
  },
  {
   "cell_type": "code",
   "execution_count": null,
   "metadata": {},
   "outputs": [],
   "source": [
    "x <- seq(-10,10, length.out = 300)\n",
    "y1 <- exp(-0.1*x^2)*sin(x)\n",
    "y2 <- sin(x)\n",
    "plot(x,y1, type=\"l\", col=\"red\")\n",
    "points(x,y2, type=\"l\", col=\"blue\")\n",
    "title(\"Two functions\")"
   ]
  },
  {
   "cell_type": "markdown",
   "metadata": {
    "slideshow": {
     "slide_type": "slide"
    }
   },
   "source": [
    "The y-axis limits are set according to the first plot, so the second plot appears cropped. To fix this, let's set the limits manually."
   ]
  },
  {
   "cell_type": "code",
   "execution_count": null,
   "metadata": {},
   "outputs": [],
   "source": [
    "plot(x, y1, ylim=c(-1.1, 1.1), type=\"l\", col=\"red\")\n",
    "points(x, y2, type=\"l\", col=\"blue\")\n",
    "title(\"Two functions\")"
   ]
  },
  {
   "cell_type": "markdown",
   "metadata": {
    "slideshow": {
     "slide_type": "slide"
    }
   },
   "source": [
    "## Histograms\n",
    "A histogram divides the range of the data into \"bins\", displays the count of points in each bin."
   ]
  },
  {
   "cell_type": "code",
   "execution_count": null,
   "metadata": {},
   "outputs": [],
   "source": [
    "x <- c(rep(17,4), rep(18,7), rep(19,5), rep(20,5), rep(21,4))  # rep(17,4) -> (17,17,17,17)\n",
    "hist(x, col=\"blue\")"
   ]
  },
  {
   "cell_type": "markdown",
   "metadata": {
    "slideshow": {
     "slide_type": "slide"
    }
   },
   "source": [
    "Specify the break points of the histogram:"
   ]
  },
  {
   "cell_type": "code",
   "execution_count": null,
   "metadata": {},
   "outputs": [],
   "source": [
    "hist(x, col=\"red\", breaks=15:22)"
   ]
  },
  {
   "cell_type": "markdown",
   "metadata": {
    "slideshow": {
     "slide_type": "slide"
    }
   },
   "source": [
    "Show the density instead of bin counts:"
   ]
  },
  {
   "cell_type": "code",
   "execution_count": null,
   "metadata": {},
   "outputs": [],
   "source": [
    "hist(x, col=\"skyblue\", breaks=15:22, freq=F)"
   ]
  },
  {
   "cell_type": "markdown",
   "metadata": {
    "slideshow": {
     "slide_type": "slide"
    }
   },
   "source": [
    "## Exercises"
   ]
  },
  {
   "cell_type": "markdown",
   "metadata": {},
   "source": [
    "(1) Reproduce the scatterplot of the weights vector versus the heights vector, changing the markers to green filled circles.\n",
    "\n",
    "(2) Pick five different functions from your MATH 101 book and plot them.\n",
    "\n"
   ]
  },
  {
   "attachments": {
    "300px-Sintay_SVG.svg.png": {
     "image/png": "[encoded data removed]"
    }
   },
   "cell_type": "markdown",
   "metadata": {
    "slideshow": {
     "slide_type": "slide"
    }
   },
   "source": [
    "(3) The *Taylor expansion* of a function is a polynomial approximation to that function around a chosen point. For example, the Taylor expansion to $\\sin(x)$ around $x=0$ is the infinite series:\n",
    "$$ \\sin(x) = x - \\frac{x^3}{3!} + \\frac{x^5}{5!} - \\frac{x^7}{7!} + \\cdots$$.\n",
    "\n",
    "When we stop the terms at some points, the resulting polynomial becomes an approximation to $\\sin(x)$ around $x=0$. For example, if we use only the first term, our approximation is:\n",
    "$$\\sin(x)\\approx x$$\n",
    "If we use the first two terms, the approximation has less error:\n",
    "$$\\sin(x)\\approx x - \\frac{x^3}{3!}$$\n",
    "etc.\n",
    "\n",
    "![300px-Sintay_SVG.svg.png](attachment:300px-Sintay_SVG.svg.png)\n",
    "\n",
    "\n",
    "Plot the sine function from $x=-4$ to $x=4$ in red, and then plot each approximation, up to four terms, on the same frame. Observe how the subsequent polynomials converge to the sine function."
   ]
  },
  {
   "cell_type": "markdown",
   "metadata": {
    "slideshow": {
     "slide_type": "slide"
    }
   },
   "source": [
    "# Pseudorandom number generation\n",
    "* Uniformly distributed random numbers\n",
    "* Normally distributed random numbers\n",
    "* Generating synthetic data\n",
    "* Random seed\n",
    "* Choosing a random element in a vector\n",
    "* Simulating coin tosses and dice throws\n",
    "* Estimating $\\pi$ with random numbers"
   ]
  },
  {
   "cell_type": "markdown",
   "metadata": {
    "slideshow": {
     "slide_type": "slide"
    }
   },
   "source": [
    "# Uniformly distributed random numbers\n",
    "Uniformly distributed random numbers are generated with `runif(n, min, max)`. Default parameters are `n=1, min=0, max=1`."
   ]
  },
  {
   "cell_type": "code",
   "execution_count": null,
   "metadata": {},
   "outputs": [],
   "source": [
    "runif(20,-1,1) # 20 random numbers, uniformly distributed between -1 and 1."
   ]
  },
  {
   "cell_type": "markdown",
   "metadata": {
    "slideshow": {
     "slide_type": "slide"
    }
   },
   "source": [
    "# Normally distributed random numbers\n",
    "\n",
    "Another common distribution is the _Normal_ or _Gaussian_ distribution (a.k.a. the *bell curve*). Normally distributed random numbers are generated with the `rnorm(n,mean,sd)` function. Default parameter values are `n=1, mean=0, sd=1`."
   ]
  },
  {
   "cell_type": "code",
   "execution_count": null,
   "metadata": {},
   "outputs": [],
   "source": [
    "rnorm(20)"
   ]
  },
  {
   "cell_type": "markdown",
   "metadata": {
    "slideshow": {
     "slide_type": "slide"
    }
   },
   "source": [
    "# Comparison of distributions"
   ]
  },
  {
   "cell_type": "code",
   "execution_count": null,
   "metadata": {
    "slideshow": {
     "slide_type": "-"
    }
   },
   "outputs": [],
   "source": [
    "options(repr.plot.width=8, repr.plot.height=3)\n",
    "plot(runif(1000,-1,1)); title(\"Uniformly distributed numbers\")\n",
    "plot(rnorm(1000)); title(\"Normally distributed numbers, sd=1\")\n",
    "plot(rnorm(1000,sd=10)); title(\"Normally distributed numbers, sd=10\")"
   ]
  },
  {
   "cell_type": "markdown",
   "metadata": {
    "slideshow": {
     "slide_type": "slide"
    }
   },
   "source": [
    "Plot the histograms of the random samples."
   ]
  },
  {
   "cell_type": "code",
   "execution_count": null,
   "metadata": {},
   "outputs": [],
   "source": [
    "hist(runif(1000,-1,1), breaks=25, main=\"Uniformly distributed numbers\")\n",
    "hist(rnorm(1000), breaks=25,main=\"Normally distributed numbers\")"
   ]
  },
  {
   "cell_type": "markdown",
   "metadata": {
    "slideshow": {
     "slide_type": "slide"
    }
   },
   "source": [
    "Note that the distributions are not perfectly smooth. The reason is that our random sample is finite. As we draw more and more samples, the histogram will approach the theoretical distribution."
   ]
  },
  {
   "cell_type": "code",
   "execution_count": null,
   "metadata": {},
   "outputs": [],
   "source": [
    "hist(runif(100000,-1,1), breaks=25, main=\"Uniformly distributed numbers\")\n",
    "hist(rnorm(100000), breaks=25, main=\"Normally distributed numbers\")"
   ]
  },
  {
   "cell_type": "markdown",
   "metadata": {
    "slideshow": {
     "slide_type": "slide"
    }
   },
   "source": [
    "## Pause to think\n",
    "\n",
    "Which command generates numbers with the largest \"spread\"?\n",
    "\n",
    "    (A) rnorm(1000, mean=0, sd=1)\n",
    "    (B) rnorm(10000, mean=0, sd=1)\n",
    "    (C) rnorm(1000, mean=0, sd=10)\n",
    "    (D) rnorm(1000, mean=10, sd=1)"
   ]
  },
  {
   "cell_type": "markdown",
   "metadata": {
    "slideshow": {
     "slide_type": "slide"
    }
   },
   "source": [
    "## Generating \"synthetic data\""
   ]
  },
  {
   "cell_type": "markdown",
   "metadata": {},
   "source": [
    "By adding random \"noise\" to deterministic vectors, we can simulate a real-life data set where the underlying \"law\" is $y=x$."
   ]
  },
  {
   "cell_type": "code",
   "execution_count": null,
   "metadata": {},
   "outputs": [],
   "source": [
    "x <- seq(0,10, length.out = 100)\n",
    "y <- x + rnorm(100, sd=0.5)\n",
    "plot(x,y)"
   ]
  },
  {
   "cell_type": "markdown",
   "metadata": {
    "slideshow": {
     "slide_type": "slide"
    }
   },
   "source": [
    "Getting the same random sequence\n",
    "---\n",
    "In some cases we want to get the same random sequence in every simulation, so that we can identify and correct errors. For that, we can set the _seed_ of the random number generator to a fixed number."
   ]
  },
  {
   "cell_type": "code",
   "execution_count": null,
   "metadata": {},
   "outputs": [],
   "source": [
    "set.seed(123)\n",
    "runif(10,-1,1)\n",
    "set.seed(123)\n",
    "runif(10,-1,1)"
   ]
  },
  {
   "cell_type": "markdown",
   "metadata": {
    "slideshow": {
     "slide_type": "slide"
    }
   },
   "source": [
    "## Choosing a vector element randomly\n",
    "The `sample` function allows us to selected elements randomly from a given vector.\n",
    "\n",
    "By default, it chooses elements *without replacement*. So, an element is chosen at most once."
   ]
  },
  {
   "cell_type": "code",
   "execution_count": null,
   "metadata": {},
   "outputs": [],
   "source": [
    "x <- 11:20\n",
    "sample(x)"
   ]
  },
  {
   "cell_type": "markdown",
   "metadata": {
    "slideshow": {
     "slide_type": "slide"
    }
   },
   "source": [
    "To choose elements *with replacement*, we set the `replace` parameter to `TRUE`."
   ]
  },
  {
   "cell_type": "code",
   "execution_count": null,
   "metadata": {},
   "outputs": [],
   "source": [
    "sample(x, 10, replace = TRUE)"
   ]
  },
  {
   "cell_type": "markdown",
   "metadata": {
    "slideshow": {
     "slide_type": "slide"
    }
   },
   "source": [
    "Coin toss experiment\n",
    "---"
   ]
  },
  {
   "cell_type": "code",
   "execution_count": null,
   "metadata": {},
   "outputs": [],
   "source": [
    "tosses <- sample(c(\"H\",\"T\"),10,replace = TRUE)\n",
    "tosses"
   ]
  },
  {
   "cell_type": "markdown",
   "metadata": {
    "slideshow": {
     "slide_type": "slide"
    }
   },
   "source": [
    "We throw a coin 10 times. How many heads do we get on average?"
   ]
  },
  {
   "cell_type": "markdown",
   "metadata": {},
   "source": [
    "The number of heads in one experiment (10 throws):"
   ]
  },
  {
   "cell_type": "code",
   "execution_count": null,
   "metadata": {},
   "outputs": [],
   "source": [
    "sum(tosses==\"H\")"
   ]
  },
  {
   "cell_type": "markdown",
   "metadata": {
    "slideshow": {
     "slide_type": "-"
    }
   },
   "source": [
    "This number changes every time due to the randomness:"
   ]
  },
  {
   "cell_type": "code",
   "execution_count": null,
   "metadata": {},
   "outputs": [],
   "source": [
    "tosses <- sample(c(\"H\",\"T\"),10,replace = TRUE)\n",
    "sum(tosses==\"H\")"
   ]
  },
  {
   "cell_type": "markdown",
   "metadata": {},
   "source": [
    "In order to get the expected number of heads, we need to repeat the experiment many times and average over the outcomes. (See \"loops\" later.)"
   ]
  },
  {
   "cell_type": "markdown",
   "metadata": {
    "slideshow": {
     "slide_type": "slide"
    }
   },
   "source": [
    "Suppose you gamble with a coin: You gain 1 TL if it comes heads, and lose 1 TL otherwise. You repeat the coin toss 5 times. What is your balance at every step of the game?\n",
    "\n",
    "Our gain is +1 if heads, and -1 if tails. To simplify the accounting, let us sample in (-1,1) and get the cumulative sum."
   ]
  },
  {
   "cell_type": "code",
   "execution_count": null,
   "metadata": {},
   "outputs": [],
   "source": [
    "outcomes <- sample(c(-1,1), 5, replace=TRUE)\n",
    "outcomes\n",
    "cumsum(outcomes)"
   ]
  },
  {
   "cell_type": "markdown",
   "metadata": {
    "slideshow": {
     "slide_type": "slide"
    }
   },
   "source": [
    "Repeat the coin toss 100 times. The balance looks as follows."
   ]
  },
  {
   "cell_type": "code",
   "execution_count": null,
   "metadata": {
    "slideshow": {
     "slide_type": "-"
    }
   },
   "outputs": [],
   "source": [
    "options(repr.plot.width=10, repr.plot.height=4)\n",
    "x <- cumsum(sample(c(-1,1), 100, replace=TRUE))\n",
    "plot(x, type=\"o\")"
   ]
  },
  {
   "cell_type": "markdown",
   "metadata": {},
   "source": [
    "This is called a _random walk_."
   ]
  },
  {
   "cell_type": "markdown",
   "metadata": {
    "slideshow": {
     "slide_type": "slide"
    }
   },
   "source": [
    "Throwing dice\n",
    "---"
   ]
  },
  {
   "cell_type": "code",
   "execution_count": null,
   "metadata": {},
   "outputs": [],
   "source": [
    "d1 <- sample(1:6, 10, replace=TRUE)\n",
    "d2 <- sample(1:6, 10, replace=TRUE)\n",
    "d1\n",
    "d2"
   ]
  },
  {
   "cell_type": "markdown",
   "metadata": {
    "slideshow": {
     "slide_type": "slide"
    }
   },
   "source": [
    "Simulating the outcome of a pair of dice:"
   ]
  },
  {
   "cell_type": "code",
   "execution_count": null,
   "metadata": {},
   "outputs": [],
   "source": [
    "d1 + d2"
   ]
  },
  {
   "cell_type": "markdown",
   "metadata": {
    "slideshow": {
     "slide_type": "slide"
    }
   },
   "source": [
    "Now throw two dice 1000 times and plot a histogram of the total outcomes."
   ]
  },
  {
   "cell_type": "code",
   "execution_count": null,
   "metadata": {},
   "outputs": [],
   "source": [
    "d1 <- sample(1:6, 1000, replace=TRUE)\n",
    "d2 <- sample(1:6, 1000, replace=TRUE)"
   ]
  },
  {
   "cell_type": "code",
   "execution_count": null,
   "metadata": {
    "slideshow": {
     "slide_type": "-"
    }
   },
   "outputs": [],
   "source": [
    "hist(d1+d2, breaks = 1:12)"
   ]
  },
  {
   "cell_type": "markdown",
   "metadata": {
    "slideshow": {
     "slide_type": "slide"
    }
   },
   "source": [
    "## Pause to think\n",
    "\n",
    "Suppose we throw a single die 100 times. Which of the following can be used to count how many times a six comes up?\n",
    "\n",
    "    (A) sum(sample(c(\"H\",\"T\"),100, replace = TRUE)==\"6\")\n",
    "    \n",
    "    (B) sum(sample(1:6, 100, replace = TRUE) == 6)\n",
    "    \n",
    "    (C) sum(sample(1:100, 6, replace = TRUE) == 6)\n",
    "    \n",
    "    (D) sum(sample(1:6, 100) == 6)"
   ]
  },
  {
   "cell_type": "markdown",
   "metadata": {
    "slideshow": {
     "slide_type": "slide"
    }
   },
   "source": [
    "Estimating pi\n",
    "---"
   ]
  },
  {
   "attachments": {
    "image.png": {
     "image/png": "[encoded data removed]"
    }
   },
   "cell_type": "markdown",
   "metadata": {},
   "source": [
    "Suppose we generate random number pairs $(x,y)$ within the square $-1\\leq x\\leq 1$ and $-1\\leq y\\leq 1$. Some of them fall inside the inscribed circle $x^2 + y^2 \\leq 1$. \n",
    "\n",
    "![image.png](attachment:image.png)\n",
    "\n",
    "The area of the circle is $\\pi$ and the area of the square is 4, so the ratio (points inside the circle) / (points inside the square) gives an estimate of $\\pi/4$."
   ]
  },
  {
   "cell_type": "code",
   "execution_count": null,
   "metadata": {
    "slideshow": {
     "slide_type": "slide"
    }
   },
   "outputs": [],
   "source": [
    "x <- runif(100,-1,1)\n",
    "y <- runif(100,-1,1)"
   ]
  },
  {
   "cell_type": "code",
   "execution_count": null,
   "metadata": {},
   "outputs": [],
   "source": [
    "options(repr.plot.width=4, repr.plot.height=4)\n",
    "# plot the random points:\n",
    "plot(x, y, asp=1)\n",
    "# plot the unit circle:\n",
    "t <- seq(0,2*pi, length.out=100)\n",
    "xx <- cos(t)\n",
    "yy <- sin(t)\n",
    "lines(xx,yy,lwd = 3,col=\"red\")"
   ]
  },
  {
   "cell_type": "markdown",
   "metadata": {
    "slideshow": {
     "slide_type": "slide"
    }
   },
   "source": [
    "Let's estimate pi with this run:"
   ]
  },
  {
   "cell_type": "code",
   "execution_count": null,
   "metadata": {},
   "outputs": [],
   "source": [
    "4*sum(x^2 + y^2 <= 1)/length(x)"
   ]
  },
  {
   "cell_type": "markdown",
   "metadata": {},
   "source": [
    "With a new set of random hits, the estimate will differ:"
   ]
  },
  {
   "cell_type": "code",
   "execution_count": null,
   "metadata": {},
   "outputs": [],
   "source": [
    "x <- runif(100,-1,1)\n",
    "y <- runif(100,-1,1)\n",
    "4*sum(x^2 + y^2 < 1)/length(x)"
   ]
  },
  {
   "cell_type": "markdown",
   "metadata": {
    "slideshow": {
     "slide_type": "slide"
    }
   },
   "source": [
    "## Exercises"
   ]
  },
  {
   "cell_type": "markdown",
   "metadata": {},
   "source": [
    "(1) Write an R expression that simulates the outcome of the 6/49 Lottery (Sayısal Loto), where one draws 6 numbers from 1, 2, ..., 49. Note that the same number cannot appear twice in one drawing."
   ]
  },
  {
   "cell_type": "markdown",
   "metadata": {},
   "source": [
    "(2) Generate 1000 random numbers, drawn from the normal distribution with standard deviation 2, and another 1000 with standard deviation 0.5. Plot the histogram for each set of numbers. What can you say about the effect of the standard deviation?"
   ]
  },
  {
   "cell_type": "markdown",
   "metadata": {
    "slideshow": {
     "slide_type": "slide"
    }
   },
   "source": [
    "(3) Throw 10 coins and count the number of heads. Repeat this experiment ten times, and find the mean of the number of heads."
   ]
  },
  {
   "cell_type": "markdown",
   "metadata": {},
   "source": [
    "(4) Throw 3 dice 10000 times. Plot the histogram of the outcomes (outcomes should be between 3 and 18)."
   ]
  }
 ],
 "metadata": {
  "celltoolbar": "Slideshow",
  "kernelspec": {
   "display_name": "R",
   "language": "R",
   "name": "ir"
  },
  "language_info": {
   "codemirror_mode": "r",
   "file_extension": ".r",
   "mimetype": "text/x-r-source",
   "name": "R",
   "pygments_lexer": "r",
   "version": "3.2.2"
  }
 },
 "nbformat": 4,
 "nbformat_minor": 2
}
