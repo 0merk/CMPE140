{
 "cells": [
  {
   "cell_type": "code",
   "execution_count": null,
   "metadata": {},
   "outputs": [],
   "source": [
    "options(jupyter.rich_display = FALSE)"
   ]
  },
  {
   "cell_type": "markdown",
   "metadata": {},
   "source": [
    "# First steps in R"
   ]
  },
  {
   "cell_type": "markdown",
   "metadata": {},
   "source": [
    "## Simple arithmetic"
   ]
  },
  {
   "cell_type": "code",
   "execution_count": null,
   "metadata": {},
   "outputs": [],
   "source": [
    "1 + 2 + 3"
   ]
  },
  {
   "cell_type": "code",
   "execution_count": null,
   "metadata": {},
   "outputs": [],
   "source": [
    "2 * 3 - 5"
   ]
  },
  {
   "cell_type": "code",
   "execution_count": null,
   "metadata": {},
   "outputs": [],
   "source": [
    "1/2 + 1/4"
   ]
  },
  {
   "cell_type": "code",
   "execution_count": null,
   "metadata": {},
   "outputs": [],
   "source": [
    "5^2"
   ]
  },
  {
   "cell_type": "code",
   "execution_count": null,
   "metadata": {},
   "outputs": [],
   "source": [
    "sqrt(9)"
   ]
  },
  {
   "cell_type": "markdown",
   "metadata": {},
   "source": [
    "### Pause to think\n",
    "\n",
    "What is the result of `1 + 2 + 3 * 5` ?\n",
    "\n",
    "    1\n",
    "    18\n",
    "    26\n",
    "    30"
   ]
  },
  {
   "cell_type": "markdown",
   "metadata": {},
   "source": [
    "### Exercises\n",
    "\n",
    "Evaluate the following expressions.\n",
    "\n",
    "* $ \\frac{1}{2} + \\frac{2}{3} + \\frac{3}{4}$\n",
    "* $\\frac{1 + 2/3}{3 - 1/(2/3)}$\n",
    "* $1 + \\frac{1}{1 + \\frac{1}{1 + \\frac{1}{2}}}$\n",
    "* $\\sqrt{17.4^2 + 3.67^2 - 9.12^2}$"
   ]
  },
  {
   "cell_type": "markdown",
   "metadata": {},
   "source": [
    "## Variable assignment"
   ]
  },
  {
   "cell_type": "code",
   "execution_count": null,
   "metadata": {},
   "outputs": [],
   "source": [
    "x <- 10 # Read: \"x gets 10\""
   ]
  },
  {
   "cell_type": "code",
   "execution_count": null,
   "metadata": {},
   "outputs": [],
   "source": [
    "x"
   ]
  },
  {
   "cell_type": "code",
   "execution_count": null,
   "metadata": {},
   "outputs": [],
   "source": [
    "y <- x + 1"
   ]
  },
  {
   "cell_type": "code",
   "execution_count": null,
   "metadata": {},
   "outputs": [],
   "source": [
    "y"
   ]
  },
  {
   "cell_type": "markdown",
   "metadata": {},
   "source": [
    "### Pause to think\n",
    "\n",
    "What is the output of the following commands?\n",
    "    \n",
    "    x <- 10\n",
    "    x <- x + 1\n",
    "    x\n",
    "\n",
    "* 0\n",
    "* 10\n",
    "* 11\n",
    "* undefined "
   ]
  },
  {
   "cell_type": "markdown",
   "metadata": {},
   "source": [
    "### Pause to think\n",
    "\n",
    "What is the output of the following commands?\n",
    "    \n",
    "    x <- 10\n",
    "    y <- x\n",
    "    x <- x + 1\n",
    "    y\n",
    "\n",
    "* 0\n",
    "* 10\n",
    "* 11\n",
    "* undefined "
   ]
  },
  {
   "cell_type": "markdown",
   "metadata": {},
   "source": [
    "### Exercise\n",
    "\n",
    "Given the variables\n",
    "\n",
    "    account_balance <- 1000\n",
    "    interest_rate <- 0.10\n",
    "\n",
    "update the variable `account_balance` by adding the interest."
   ]
  },
  {
   "cell_type": "code",
   "execution_count": null,
   "metadata": {},
   "outputs": [],
   "source": [
    "account_balance <- 1000\n",
    "interest_rate <- 0.10\n",
    "# write your update below (1 line)\n",
    "\n",
    "# end of your code\n",
    "account_balance"
   ]
  },
  {
   "cell_type": "markdown",
   "metadata": {},
   "source": [
    "### Exercise\n",
    "\n",
    "Given the variables\n",
    "\n",
    "    account_balance <- 1000\n",
    "    interest_rate <- 0.10\n",
    "\n",
    "find the value of the `account_balance` after 5 update periods."
   ]
  },
  {
   "cell_type": "code",
   "execution_count": null,
   "metadata": {},
   "outputs": [],
   "source": [
    "account_balance <- 1000\n",
    "interest_rate <- 0.10\n",
    "# write your code lines below (~5 lines)\n",
    "\n",
    "# end of your code\n",
    "account_balance"
   ]
  },
  {
   "cell_type": "markdown",
   "metadata": {},
   "source": [
    "### Exercise\n",
    "\n",
    "Every year, 1% of the people in city A move to city B, and 2% of people in city B move to city A. If the current populations of city A and city B are 10000 and 20000, respectively, find the populations of both cities after 5 years. "
   ]
  },
  {
   "cell_type": "code",
   "execution_count": null,
   "metadata": {},
   "outputs": [],
   "source": [
    "cityA <- 10000\n",
    "cityB <- 20000\n",
    "# write your code below\n",
    "\n",
    "# end of your code\n",
    "cityA\n",
    "cityB"
   ]
  }
 ],
 "metadata": {
  "kernelspec": {
   "display_name": "R",
   "language": "R",
   "name": "ir"
  },
  "language_info": {
   "codemirror_mode": "r",
   "file_extension": ".r",
   "mimetype": "text/x-r-source",
   "name": "R",
   "pygments_lexer": "r",
   "version": "3.5.1"
  }
 },
 "nbformat": 4,
 "nbformat_minor": 2
}
