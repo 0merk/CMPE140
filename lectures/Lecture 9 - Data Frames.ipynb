{
 "cells": [
  {
   "cell_type": "code",
   "execution_count": 1,
   "metadata": {},
   "outputs": [],
   "source": [
    "options(jupyter.rich_display = FALSE)"
   ]
  },
  {
   "cell_type": "markdown",
   "metadata": {},
   "source": [
    "_Data frames_ are used for representing tabular data where each column has a different type, such as\n",
    "\n",
    "|Name | Height| Weight | Gym member? | City|\n",
    "|-----|----|----|----|\n",
    "|Cem | 1.75 | 66 |T | Istanbul|\n",
    "|Can | 1.70 | 65 | F | Ankara|\n",
    "|Hande | 1.62 | 61| T | Izmir|\n",
    "\n",
    "* Lists: heterogeneous analogs of vectors.\n",
    "* Data frames: heterogenous analogs of matrices.\n",
    "\n",
    "A data frame is actually a _list_ of equal-length _vectors_.\n",
    "\n",
    "Why not use a matrix?\n",
    "===\n",
    "Earlier we have seen how to store data in vectors, for example:"
   ]
  },
  {
   "cell_type": "code",
   "execution_count": 2,
   "metadata": {},
   "outputs": [],
   "source": [
    "heights <- c(Can=1.70, Cem=1.75, Hande=1.62)\n",
    "weights <- c(Can=65, Cem=66, Hande=61)"
   ]
  },
  {
   "cell_type": "markdown",
   "metadata": {},
   "source": [
    "If we want to have this data combined in a table, we can generate a matrix out of it:"
   ]
  },
  {
   "cell_type": "code",
   "execution_count": 3,
   "metadata": {},
   "outputs": [
    {
     "data": {
      "text/plain": [
       "      Height Weight\n",
       "Can   1.70   65    \n",
       "Cem   1.75   66    \n",
       "Hande 1.62   61    "
      ]
     },
     "metadata": {},
     "output_type": "display_data"
    }
   ],
   "source": [
    "height_weight <- cbind(\n",
    "    c(1.70, 1.75,1.62),\n",
    "    c(65, 66, 61)\n",
    ")\n",
    "rownames(height_weight) <- c(\"Can\",\"Cem\",\"Hande\")\n",
    "colnames(height_weight) <- c(\"Height\",\"Weight\")\n",
    "height_weight"
   ]
  },
  {
   "cell_type": "markdown",
   "metadata": {},
   "source": [
    "Or more directly, if the data is already in a vector:"
   ]
  },
  {
   "cell_type": "code",
   "execution_count": 4,
   "metadata": {},
   "outputs": [
    {
     "data": {
      "text/plain": [
       "      heights weights\n",
       "Can   1.70    65     \n",
       "Cem   1.75    66     \n",
       "Hande 1.62    61     "
      ]
     },
     "metadata": {},
     "output_type": "display_data"
    }
   ],
   "source": [
    "height_weight <- cbind(heights, weights)\n",
    "height_weight"
   ]
  },
  {
   "cell_type": "code",
   "execution_count": 5,
   "metadata": {},
   "outputs": [
    {
     "name": "stdout",
     "output_type": "stream",
     "text": [
      "      Height Weight\n",
      "Can     1.70     65\n",
      "Cem     1.75     66\n",
      "Hande   1.62     61\n"
     ]
    }
   ],
   "source": [
    "colnames(height_weight) <- c(\"Height\",\"Weight\")\n",
    "print(height_weight)"
   ]
  },
  {
   "cell_type": "code",
   "execution_count": 6,
   "metadata": {},
   "outputs": [
    {
     "data": {
      "text/plain": [
       "[1] \"matrix\""
      ]
     },
     "metadata": {},
     "output_type": "display_data"
    }
   ],
   "source": [
    "class(height_weight)"
   ]
  },
  {
   "cell_type": "code",
   "execution_count": 7,
   "metadata": {},
   "outputs": [
    {
     "data": {
      "text/plain": [
       "[1] 22.49135"
      ]
     },
     "metadata": {},
     "output_type": "display_data"
    }
   ],
   "source": [
    "height_weight[\"Can\",\"Weight\"]/height_weight[\"Can\",\"Height\"]^2"
   ]
  },
  {
   "cell_type": "markdown",
   "metadata": {},
   "source": [
    "Now suppose we want to add the Boolean gym membership data into this matrix as well."
   ]
  },
  {
   "cell_type": "code",
   "execution_count": 8,
   "metadata": {},
   "outputs": [
    {
     "name": "stdout",
     "output_type": "stream",
     "text": [
      "      Height Weight Gym member\n",
      "Can     1.70     65          0\n",
      "Cem     1.75     66          1\n",
      "Hande   1.62     61          1\n"
     ]
    }
   ],
   "source": [
    "member <- c(Cem=FALSE, Can=TRUE, Hande=TRUE)\n",
    "height_weight <- cbind(heights, weights,member)\n",
    "colnames(height_weight) <- c(\"Height\",\"Weight\",\"Gym member\")\n",
    "print(height_weight)"
   ]
  },
  {
   "cell_type": "markdown",
   "metadata": {},
   "source": [
    "* The last column has numeric values 0 or 1, instead of `TRUE` or `FALSE`.\n",
    "* Reason: All elements in a matrix must have _the same mode_ (numeric here).\n",
    "* If a new mode is forced (Boolean here) not, all elements are _coerced_ to a common type (numeric here).\n",
    "* `TRUE` becomes 1, `FALSE` becomes 0.\n",
    "\n",
    "This could be tolerable. However, now we add the city data."
   ]
  },
  {
   "cell_type": "code",
   "execution_count": 9,
   "metadata": {},
   "outputs": [
    {
     "name": "stdout",
     "output_type": "stream",
     "text": [
      "      Height Weight Gym member City      \n",
      "Can   \"1.7\"  \"65\"   \"FALSE\"    \"Istanbul\"\n",
      "Cem   \"1.75\" \"66\"   \"TRUE\"     \"Ankara\"  \n",
      "Hande \"1.62\" \"61\"   \"TRUE\"     \"Izmir\"   \n"
     ]
    }
   ],
   "source": [
    "city <- c(Cem=\"Istanbul\",Can=\"Ankara\",Hande=\"Izmir\")\n",
    "\n",
    "height_weight <- cbind(heights, weights,member,city)\n",
    "colnames(height_weight) <- c(\"Height\",\"Weight\",\"Gym member\",\"City\")\n",
    "\n",
    "print(height_weight)"
   ]
  },
  {
   "cell_type": "markdown",
   "metadata": {},
   "source": [
    "All entries are now coerced to strings. The data is still there, but we cannot perform computations anymore."
   ]
  },
  {
   "cell_type": "code",
   "execution_count": 10,
   "metadata": {},
   "outputs": [
    {
     "ename": "ERROR",
     "evalue": "Error in height_weight[\"Can\", \"Height\"]^2: non-numeric argument to binary operator\n",
     "output_type": "error",
     "traceback": [
      "Error in height_weight[\"Can\", \"Height\"]^2: non-numeric argument to binary operator\nTraceback:\n"
     ]
    }
   ],
   "source": [
    "height_weight[\"Can\",\"Weight\"]/height_weight[\"Can\",\"Height\"]^2"
   ]
  },
  {
   "cell_type": "markdown",
   "metadata": {},
   "source": [
    "How about keeping the data in separate vectors? There would be no coercion, but data manipulation would be difficult. Selecting subsets, adding/removing entries, would require several operations and great care.\n",
    "\n",
    "A _data frame_ that combines several vectors as data columns is used for such convenience.\n",
    "\n",
    "Creating data frames\n",
    "====\n",
    "If we already have data in the form of one-dimensional vectors, we can combine them into a data frame using the `data.frame()` function."
   ]
  },
  {
   "cell_type": "code",
   "execution_count": 11,
   "metadata": {},
   "outputs": [
    {
     "data": {
      "text/plain": [
       "      Height Weight Member City    \n",
       "Can   1.70   65     FALSE  Istanbul\n",
       "Cem   1.75   66      TRUE  Ankara  \n",
       "Hande 1.62   61      TRUE  Izmir   "
      ]
     },
     "metadata": {},
     "output_type": "display_data"
    }
   ],
   "source": [
    "people <- data.frame(Height=heights, Weight=weights, Member=member, City=city, stringsAsFactors = F)\n",
    "people"
   ]
  },
  {
   "cell_type": "markdown",
   "metadata": {},
   "source": [
    "Data recycling works for data frames as well. Suppose we add the \"City\" data and make it \"Istanbul\" for all."
   ]
  },
  {
   "cell_type": "code",
   "execution_count": 12,
   "metadata": {},
   "outputs": [
    {
     "data": {
      "text/plain": [
       "      Height Weight City    \n",
       "Can   1.70   65     Istanbul\n",
       "Cem   1.75   66     Istanbul\n",
       "Hande 1.62   61     Istanbul"
      ]
     },
     "metadata": {},
     "output_type": "display_data"
    }
   ],
   "source": [
    "data.frame(Height=heights, Weight=weights, City=\"Istanbul\")"
   ]
  },
  {
   "cell_type": "markdown",
   "metadata": {},
   "source": [
    "Here, the element `\"Istanbul\"` is repeated until it matches the length of other vectors."
   ]
  },
  {
   "cell_type": "markdown",
   "metadata": {},
   "source": [
    "What if row names are not given during the construction, or we want to change them? The functions `rownames()` and `colnames()` can be used."
   ]
  },
  {
   "cell_type": "code",
   "execution_count": 13,
   "metadata": {},
   "outputs": [
    {
     "data": {
      "text/plain": [
       "  h    w \n",
       "1 1.70 65\n",
       "2 1.75 66\n",
       "3 1.62 61"
      ]
     },
     "metadata": {},
     "output_type": "display_data"
    }
   ],
   "source": [
    "tempdf <- data.frame(\n",
    "    h = c(1.70, 1.75,1.62),\n",
    "    w = c(65, 66, 61)\n",
    ")\n",
    "tempdf"
   ]
  },
  {
   "cell_type": "code",
   "execution_count": 14,
   "metadata": {},
   "outputs": [
    {
     "data": {
      "text/plain": [
       "      Height Weight\n",
       "Can   1.70   65    \n",
       "Cem   1.75   66    \n",
       "Hande 1.62   61    "
      ]
     },
     "metadata": {},
     "output_type": "display_data"
    }
   ],
   "source": [
    "rownames(tempdf) <- c(\"Can\",\"Cem\",\"Hande\")\n",
    "colnames(tempdf) <- c(\"Height\",\"Weight\")\n",
    "tempdf"
   ]
  },
  {
   "cell_type": "markdown",
   "metadata": {},
   "source": [
    "Accessing data frames\n",
    "===="
   ]
  },
  {
   "cell_type": "markdown",
   "metadata": {},
   "source": [
    "Accessing via column numbers or column names\n",
    "----"
   ]
  },
  {
   "cell_type": "code",
   "execution_count": 15,
   "metadata": {},
   "outputs": [
    {
     "data": {
      "text/plain": [
       "      Height Weight Member City    \n",
       "Can   1.70   65     FALSE  Istanbul\n",
       "Cem   1.75   66      TRUE  Ankara  \n",
       "Hande 1.62   61      TRUE  Izmir   "
      ]
     },
     "metadata": {},
     "output_type": "display_data"
    }
   ],
   "source": [
    "people"
   ]
  },
  {
   "cell_type": "markdown",
   "metadata": {},
   "source": [
    "The data frame is a list; so we can access its components using the notation we've seen last week."
   ]
  },
  {
   "cell_type": "code",
   "execution_count": 16,
   "metadata": {},
   "outputs": [
    {
     "data": {
      "text/plain": [
       "[1] 1.70 1.75 1.62"
      ]
     },
     "metadata": {},
     "output_type": "display_data"
    }
   ],
   "source": [
    "people[[1]]  # indexing with component number"
   ]
  },
  {
   "cell_type": "code",
   "execution_count": 17,
   "metadata": {},
   "outputs": [
    {
     "data": {
      "text/plain": [
       "[1] 1.70 1.75 1.62"
      ]
     },
     "metadata": {},
     "output_type": "display_data"
    }
   ],
   "source": [
    "people$Height  # component name"
   ]
  },
  {
   "cell_type": "code",
   "execution_count": 18,
   "metadata": {},
   "outputs": [
    {
     "data": {
      "text/plain": [
       "[1] 1.70 1.75 1.62"
      ]
     },
     "metadata": {},
     "output_type": "display_data"
    }
   ],
   "source": [
    "people[[\"Height\"]]  # indexing with component name"
   ]
  },
  {
   "cell_type": "markdown",
   "metadata": {},
   "source": [
    "Accessing via matrix-like indexing\n",
    "-----\n",
    "A data frame can be indexed as if it is a matrix, using the `[row, col]` notation."
   ]
  },
  {
   "cell_type": "code",
   "execution_count": 19,
   "metadata": {},
   "outputs": [
    {
     "data": {
      "text/plain": [
       "      Height Weight Member City    \n",
       "Can   1.70   65     FALSE  Istanbul\n",
       "Cem   1.75   66      TRUE  Ankara  \n",
       "Hande 1.62   61      TRUE  Izmir   "
      ]
     },
     "metadata": {},
     "output_type": "display_data"
    }
   ],
   "source": [
    "people"
   ]
  },
  {
   "cell_type": "code",
   "execution_count": 20,
   "metadata": {},
   "outputs": [
    {
     "data": {
      "text/plain": [
       "[1] 1.70 1.75 1.62"
      ]
     },
     "metadata": {},
     "output_type": "display_data"
    }
   ],
   "source": [
    "people[,1]  # column 1"
   ]
  },
  {
   "cell_type": "code",
   "execution_count": 21,
   "metadata": {},
   "outputs": [
    {
     "data": {
      "text/plain": [
       "[1] 1.75"
      ]
     },
     "metadata": {},
     "output_type": "display_data"
    }
   ],
   "source": [
    "people[2,1] # row 2, column 1"
   ]
  },
  {
   "cell_type": "code",
   "execution_count": 22,
   "metadata": {},
   "outputs": [
    {
     "data": {
      "text/plain": [
       "[1] 1.75"
      ]
     },
     "metadata": {},
     "output_type": "display_data"
    }
   ],
   "source": [
    "people[\"Cem\",\"Height\"]"
   ]
  },
  {
   "cell_type": "markdown",
   "metadata": {},
   "source": [
    "Selecting rows using indices\n",
    "==="
   ]
  },
  {
   "cell_type": "code",
   "execution_count": 23,
   "metadata": {},
   "outputs": [
    {
     "data": {
      "text/plain": [
       "      Height Weight Member City    \n",
       "Can   1.70   65     FALSE  Istanbul\n",
       "Cem   1.75   66      TRUE  Ankara  \n",
       "Hande 1.62   61      TRUE  Izmir   "
      ]
     },
     "metadata": {},
     "output_type": "display_data"
    }
   ],
   "source": [
    "people"
   ]
  },
  {
   "cell_type": "markdown",
   "metadata": {},
   "source": [
    "We can specify a vector of indices to select rows."
   ]
  },
  {
   "cell_type": "code",
   "execution_count": 24,
   "metadata": {},
   "outputs": [
    {
     "data": {
      "text/plain": [
       "      Height Weight Member City    \n",
       "Can   1.70   65     FALSE  Istanbul\n",
       "Hande 1.62   61      TRUE  Izmir   "
      ]
     },
     "metadata": {},
     "output_type": "display_data"
    }
   ],
   "source": [
    "people[c(1,3),]"
   ]
  },
  {
   "cell_type": "markdown",
   "metadata": {},
   "source": [
    "We can also select using a vector of row names."
   ]
  },
  {
   "cell_type": "code",
   "execution_count": 25,
   "metadata": {},
   "outputs": [
    {
     "data": {
      "text/plain": [
       "      Height Weight Member City    \n",
       "Can   1.70   65     FALSE  Istanbul\n",
       "Hande 1.62   61      TRUE  Izmir   "
      ]
     },
     "metadata": {},
     "output_type": "display_data"
    }
   ],
   "source": [
    "people[c(\"Can\",\"Hande\"),]"
   ]
  },
  {
   "cell_type": "markdown",
   "metadata": {},
   "source": [
    "A negative index, again, indicates a row that is to be omitted."
   ]
  },
  {
   "cell_type": "code",
   "execution_count": 26,
   "metadata": {},
   "outputs": [
    {
     "data": {
      "text/plain": [
       "      Height Weight Member City    \n",
       "Can   1.70   65     FALSE  Istanbul\n",
       "Hande 1.62   61      TRUE  Izmir   "
      ]
     },
     "metadata": {},
     "output_type": "display_data"
    }
   ],
   "source": [
    "people[-2,]"
   ]
  },
  {
   "cell_type": "markdown",
   "metadata": {},
   "source": [
    "Selecting some columns\n",
    "===="
   ]
  },
  {
   "cell_type": "markdown",
   "metadata": {},
   "source": [
    "We can provide a list of column names to get a subframe."
   ]
  },
  {
   "cell_type": "code",
   "execution_count": 27,
   "metadata": {},
   "outputs": [
    {
     "data": {
      "text/plain": [
       "      Member City    \n",
       "Can   FALSE  Istanbul\n",
       "Cem    TRUE  Ankara  \n",
       "Hande  TRUE  Izmir   "
      ]
     },
     "metadata": {},
     "output_type": "display_data"
    }
   ],
   "source": [
    "people[, c(\"Member\",\"City\")]"
   ]
  },
  {
   "cell_type": "markdown",
   "metadata": {},
   "source": [
    "Numeric indices can also be used."
   ]
  },
  {
   "cell_type": "code",
   "execution_count": 28,
   "metadata": {},
   "outputs": [
    {
     "data": {
      "text/plain": [
       "      Member City    \n",
       "Can   FALSE  Istanbul\n",
       "Cem    TRUE  Ankara  \n",
       "Hande  TRUE  Izmir   "
      ]
     },
     "metadata": {},
     "output_type": "display_data"
    }
   ],
   "source": [
    "people[, 3:4]"
   ]
  },
  {
   "cell_type": "markdown",
   "metadata": {},
   "source": [
    "A subset of rows and a subset of columns:"
   ]
  },
  {
   "cell_type": "code",
   "execution_count": 29,
   "metadata": {},
   "outputs": [
    {
     "data": {
      "text/plain": [
       "    Height Weight\n",
       "Can 1.70   65    \n",
       "Cem 1.75   66    "
      ]
     },
     "metadata": {},
     "output_type": "display_data"
    }
   ],
   "source": [
    "people[c(\"Can\",\"Cem\"), 1:2]"
   ]
  },
  {
   "cell_type": "markdown",
   "metadata": {},
   "source": [
    "Filtering data frames\n",
    "==\n",
    "The Boolean operators to select vector elements are applicable to data frames as well. "
   ]
  },
  {
   "cell_type": "code",
   "execution_count": 30,
   "metadata": {},
   "outputs": [
    {
     "data": {
      "text/plain": [
       "      Height Weight Member City    \n",
       "Can   1.70   65     FALSE  Istanbul\n",
       "Cem   1.75   66      TRUE  Ankara  \n",
       "Hande 1.62   61      TRUE  Izmir   "
      ]
     },
     "metadata": {},
     "output_type": "display_data"
    }
   ],
   "source": [
    "people"
   ]
  },
  {
   "cell_type": "code",
   "execution_count": 31,
   "metadata": {},
   "outputs": [
    {
     "data": {
      "text/plain": [
       "[1]  TRUE  TRUE FALSE"
      ]
     },
     "metadata": {},
     "output_type": "display_data"
    }
   ],
   "source": [
    "people$Height >= 1.70"
   ]
  },
  {
   "cell_type": "code",
   "execution_count": 32,
   "metadata": {},
   "outputs": [
    {
     "data": {
      "text/plain": [
       "    Height Weight Member City    \n",
       "Can 1.70   65     FALSE  Istanbul\n",
       "Cem 1.75   66      TRUE  Ankara  "
      ]
     },
     "metadata": {},
     "output_type": "display_data"
    }
   ],
   "source": [
    "people[ people$Height>= 1.70, ]"
   ]
  },
  {
   "cell_type": "code",
   "execution_count": 33,
   "metadata": {},
   "outputs": [
    {
     "data": {
      "text/plain": [
       "      Height Weight Member City  \n",
       "Cem   1.75   66     TRUE   Ankara\n",
       "Hande 1.62   61     TRUE   Izmir "
      ]
     },
     "metadata": {},
     "output_type": "display_data"
    }
   ],
   "source": [
    "people[ people$Member, ]"
   ]
  },
  {
   "cell_type": "code",
   "execution_count": 34,
   "metadata": {},
   "outputs": [
    {
     "data": {
      "text/plain": [
       "      Height City  \n",
       "Cem   1.75   Ankara\n",
       "Hande 1.62   Izmir "
      ]
     },
     "metadata": {},
     "output_type": "display_data"
    }
   ],
   "source": [
    "people[ people$Member, c(\"Height\",\"City\")]"
   ]
  },
  {
   "cell_type": "markdown",
   "metadata": {},
   "source": [
    "Adding new rows\n",
    "===\n",
    "As with matrices, we can use `rbind()` to add a new row to an existing data frame. The new row is usually in the form of a list."
   ]
  },
  {
   "cell_type": "code",
   "execution_count": 35,
   "metadata": {},
   "outputs": [
    {
     "data": {
      "text/plain": [
       "      Height Weight Member City    \n",
       "Can   1.70   65     FALSE  Istanbul\n",
       "Cem   1.75   66      TRUE  Ankara  \n",
       "Hande 1.62   61      TRUE  Izmir   "
      ]
     },
     "metadata": {},
     "output_type": "display_data"
    }
   ],
   "source": [
    "people"
   ]
  },
  {
   "cell_type": "code",
   "execution_count": 36,
   "metadata": {},
   "outputs": [
    {
     "data": {
      "text/plain": [
       "      Height Weight Member City    \n",
       "Can   1.70   65     FALSE  Istanbul\n",
       "Cem   1.75   66      TRUE  Ankara  \n",
       "Hande 1.62   61      TRUE  Izmir   \n",
       "Lale  1.71   64     FALSE  Bursa   "
      ]
     },
     "metadata": {},
     "output_type": "display_data"
    }
   ],
   "source": [
    "rbind(people, Lale=list(1.71, 64, FALSE, \"Bursa\"))"
   ]
  },
  {
   "cell_type": "code",
   "execution_count": 37,
   "metadata": {},
   "outputs": [
    {
     "data": {
      "text/plain": [
       "     Weight Member City     Height\n",
       "Lale 64     FALSE  Bursa    1.71  \n",
       "Ziya 50      TRUE  Istanbul 1.45  "
      ]
     },
     "metadata": {},
     "output_type": "display_data"
    }
   ],
   "source": [
    "newpeople <- data.frame(\n",
    "    Weight=c(64, 50),\n",
    "    Member=c(F,T),\n",
    "    City=c(\"Bursa\",\"Istanbul\"),\n",
    "    Height=c(Lale=1.71, Ziya=1.45)\n",
    ")\n",
    "newpeople"
   ]
  },
  {
   "cell_type": "code",
   "execution_count": 38,
   "metadata": {},
   "outputs": [
    {
     "data": {
      "text/plain": [
       "      Height Weight Member City    \n",
       "Can   1.70   65     FALSE  Istanbul\n",
       "Cem   1.75   66      TRUE  Ankara  \n",
       "Hande 1.62   61      TRUE  Izmir   \n",
       "Lale  1.71   64     FALSE  Bursa   \n",
       "Ziya  1.45   50      TRUE  Istanbul"
      ]
     },
     "metadata": {},
     "output_type": "display_data"
    }
   ],
   "source": [
    "rbind(people, newpeople)"
   ]
  },
  {
   "cell_type": "markdown",
   "metadata": {},
   "source": [
    "Adding new columns\n",
    "==="
   ]
  },
  {
   "cell_type": "code",
   "execution_count": 39,
   "metadata": {},
   "outputs": [
    {
     "data": {
      "text/plain": [
       "      Height Weight Member City    \n",
       "Can   1.70   65     FALSE  Istanbul\n",
       "Cem   1.75   66      TRUE  Ankara  \n",
       "Hande 1.62   61      TRUE  Izmir   "
      ]
     },
     "metadata": {},
     "output_type": "display_data"
    }
   ],
   "source": [
    "people"
   ]
  },
  {
   "cell_type": "markdown",
   "metadata": {},
   "source": [
    "Suppose we want to add a column for BMI, which we calculate using the existing columns. We can do this using `cbind()` as follows."
   ]
  },
  {
   "cell_type": "code",
   "execution_count": 40,
   "metadata": {},
   "outputs": [
    {
     "data": {
      "text/plain": [
       "[1] 22.49135 21.55102 23.24341"
      ]
     },
     "metadata": {},
     "output_type": "display_data"
    }
   ],
   "source": [
    "people$Weight/people$Height^2"
   ]
  },
  {
   "cell_type": "code",
   "execution_count": 41,
   "metadata": {},
   "outputs": [
    {
     "data": {
      "text/plain": [
       "      Height Weight Member City     people$Weight/people$Height^2\n",
       "Can   1.70   65     FALSE  Istanbul 22.49135                     \n",
       "Cem   1.75   66      TRUE  Ankara   21.55102                     \n",
       "Hande 1.62   61      TRUE  Izmir    23.24341                     "
      ]
     },
     "metadata": {},
     "output_type": "display_data"
    }
   ],
   "source": [
    "people_bmi <- cbind(people, people$Weight/people$Height^2)\n",
    "people_bmi"
   ]
  },
  {
   "cell_type": "markdown",
   "metadata": {},
   "source": [
    "Note that the name of the new column is automatically set. We can change this using the `names()` function. (`colnames()` can also be used.)"
   ]
  },
  {
   "cell_type": "code",
   "execution_count": 42,
   "metadata": {},
   "outputs": [],
   "source": [
    "names(people_bmi)[5] <- \"BMI\""
   ]
  },
  {
   "cell_type": "code",
   "execution_count": 43,
   "metadata": {},
   "outputs": [
    {
     "data": {
      "text/plain": [
       "      Height Weight Member City     BMI     \n",
       "Can   1.70   65     FALSE  Istanbul 22.49135\n",
       "Cem   1.75   66      TRUE  Ankara   21.55102\n",
       "Hande 1.62   61      TRUE  Izmir    23.24341"
      ]
     },
     "metadata": {},
     "output_type": "display_data"
    }
   ],
   "source": [
    "people_bmi"
   ]
  },
  {
   "cell_type": "markdown",
   "metadata": {},
   "source": [
    "A more direct way would be to utilize directly the dynamic extensibility of lists."
   ]
  },
  {
   "cell_type": "code",
   "execution_count": 44,
   "metadata": {},
   "outputs": [
    {
     "data": {
      "text/plain": [
       "      Height Weight Member City    \n",
       "Can   1.70   65     FALSE  Istanbul\n",
       "Cem   1.75   66      TRUE  Ankara  \n",
       "Hande 1.62   61      TRUE  Izmir   "
      ]
     },
     "metadata": {},
     "output_type": "display_data"
    }
   ],
   "source": [
    "people2 <- people\n",
    "people2"
   ]
  },
  {
   "cell_type": "code",
   "execution_count": 45,
   "metadata": {},
   "outputs": [
    {
     "data": {
      "text/plain": [
       "      Height Weight Member City     BMI     \n",
       "Can   1.70   65     FALSE  Istanbul 22.49135\n",
       "Cem   1.75   66      TRUE  Ankara   21.55102\n",
       "Hande 1.62   61      TRUE  Izmir    23.24341"
      ]
     },
     "metadata": {},
     "output_type": "display_data"
    }
   ],
   "source": [
    "people2$BMI <- people2$Weight/people$Height^2\n",
    "people2"
   ]
  },
  {
   "cell_type": "markdown",
   "metadata": {},
   "source": [
    "We can create a new column without using existing columns. If we specify a single value, the rest is set by vector recycling."
   ]
  },
  {
   "cell_type": "code",
   "execution_count": 46,
   "metadata": {},
   "outputs": [
    {
     "data": {
      "text/plain": [
       "      Height Weight Member City     BMI      obese\n",
       "Can   1.70   65     FALSE  Istanbul 22.49135 NA   \n",
       "Cem   1.75   66      TRUE  Ankara   21.55102 NA   \n",
       "Hande 1.62   61      TRUE  Izmir    23.24341 NA   "
      ]
     },
     "metadata": {},
     "output_type": "display_data"
    }
   ],
   "source": [
    "people2$obese <- NA\n",
    "people2"
   ]
  },
  {
   "cell_type": "code",
   "execution_count": 47,
   "metadata": {},
   "outputs": [],
   "source": [
    "people2$obese <- ifelse(people2$BMI>30, T, F)"
   ]
  },
  {
   "cell_type": "code",
   "execution_count": 48,
   "metadata": {},
   "outputs": [
    {
     "data": {
      "text/plain": [
       "      Height Weight Member City     BMI      obese\n",
       "Can   1.70   65     FALSE  Istanbul 22.49135 FALSE\n",
       "Cem   1.75   66      TRUE  Ankara   21.55102 FALSE\n",
       "Hande 1.62   61      TRUE  Izmir    23.24341 FALSE"
      ]
     },
     "metadata": {},
     "output_type": "display_data"
    }
   ],
   "source": [
    "people2"
   ]
  },
  {
   "cell_type": "markdown",
   "metadata": {},
   "source": [
    "Remove a column"
   ]
  },
  {
   "cell_type": "code",
   "execution_count": 49,
   "metadata": {},
   "outputs": [
    {
     "data": {
      "text/plain": [
       "      Height Weight Member City     BMI     \n",
       "Can   1.70   65     FALSE  Istanbul 22.49135\n",
       "Cem   1.75   66      TRUE  Ankara   21.55102\n",
       "Hande 1.62   61      TRUE  Izmir    23.24341"
      ]
     },
     "metadata": {},
     "output_type": "display_data"
    }
   ],
   "source": [
    "people2$obese <- NULL\n",
    "people2"
   ]
  },
  {
   "cell_type": "markdown",
   "metadata": {},
   "source": [
    "Merging data frames\n",
    "===\n",
    "The `merge(x,y)` function is used to create a new data frame from existing frames `x` and `y`, by combining them along a common column.\n",
    "\n",
    "To illustrate this, consider the following simple data frames."
   ]
  },
  {
   "cell_type": "code",
   "execution_count": 50,
   "metadata": {},
   "outputs": [
    {
     "data": {
      "text/plain": [
       "  Name  Phone\n",
       "1 Can   1234 \n",
       "2 Cem   4345 \n",
       "3 Hande 8492 "
      ]
     },
     "metadata": {},
     "output_type": "display_data"
    }
   ],
   "source": [
    "df1 <- data.frame(Name=c(\"Can\",\"Cem\",\"Hande\"), Phone=c(1234,4345,8492))\n",
    "df1"
   ]
  },
  {
   "cell_type": "code",
   "execution_count": 51,
   "metadata": {},
   "outputs": [
    {
     "data": {
      "text/plain": [
       "  Age Name \n",
       "1 25  Cem  \n",
       "2 27  Hande\n",
       "3 26  Can  "
      ]
     },
     "metadata": {},
     "output_type": "display_data"
    }
   ],
   "source": [
    "df2 <- data.frame(Age=c(25,27,26), Name=c(\"Cem\",\"Hande\",\"Can\"))\n",
    "df2"
   ]
  },
  {
   "cell_type": "code",
   "execution_count": 52,
   "metadata": {},
   "outputs": [
    {
     "data": {
      "text/plain": [
       "  Name  Phone Age\n",
       "1 Can   1234  26 \n",
       "2 Cem   4345  25 \n",
       "3 Hande 8492  27 "
      ]
     },
     "metadata": {},
     "output_type": "display_data"
    }
   ],
   "source": [
    "merge(df1,df2)"
   ]
  },
  {
   "cell_type": "markdown",
   "metadata": {},
   "source": [
    "The `merge()` function uses the column `Name` to merge the two data frames. Note that the entries are correctly identified even though the order of names are different in the two frames.\n",
    "\n",
    "The columns we want to merge over may have different names in the two frames. In that case we use the `by.x` and `by.y` arguments to `merge()`."
   ]
  },
  {
   "cell_type": "code",
   "execution_count": 53,
   "metadata": {},
   "outputs": [
    {
     "data": {
      "text/plain": [
       "  Name  Phone\n",
       "1 Can   1234 \n",
       "2 Cem   4345 \n",
       "3 Hande 8492 "
      ]
     },
     "metadata": {},
     "output_type": "display_data"
    }
   ],
   "source": [
    "df1"
   ]
  },
  {
   "cell_type": "code",
   "execution_count": 54,
   "metadata": {},
   "outputs": [
    {
     "data": {
      "text/plain": [
       "  Age first_name\n",
       "1 25  Cem       \n",
       "2 27  Hande     \n",
       "3 26  Can       "
      ]
     },
     "metadata": {},
     "output_type": "display_data"
    }
   ],
   "source": [
    "df2 <- data.frame(Age=c(25,27,26), first_name=c(\"Cem\",\"Hande\",\"Can\"))\n",
    "df2"
   ]
  },
  {
   "cell_type": "code",
   "execution_count": 55,
   "metadata": {},
   "outputs": [
    {
     "data": {
      "text/plain": [
       "  Name  Phone Age\n",
       "1 Can   1234  26 \n",
       "2 Cem   4345  25 \n",
       "3 Hande 8492  27 "
      ]
     },
     "metadata": {},
     "output_type": "display_data"
    }
   ],
   "source": [
    "merge(df1, df2, by.x=\"Name\", by.y=\"first_name\")"
   ]
  },
  {
   "cell_type": "markdown",
   "metadata": {},
   "source": [
    "What if we have named rows, and we want to merge over these indices? For example, recall the `people` dataframe we created above:"
   ]
  },
  {
   "cell_type": "code",
   "execution_count": 56,
   "metadata": {},
   "outputs": [
    {
     "data": {
      "text/plain": [
       "      Height Weight Member City    \n",
       "Can   1.70   65     FALSE  Istanbul\n",
       "Cem   1.75   66      TRUE  Ankara  \n",
       "Hande 1.62   61      TRUE  Izmir   "
      ]
     },
     "metadata": {},
     "output_type": "display_data"
    }
   ],
   "source": [
    "people"
   ]
  },
  {
   "cell_type": "markdown",
   "metadata": {},
   "source": [
    "And suppose we have a phone book with named indices:"
   ]
  },
  {
   "cell_type": "code",
   "execution_count": 57,
   "metadata": {},
   "outputs": [
    {
     "data": {
      "text/plain": [
       "     phone\n",
       "Can  1234 \n",
       "Cem  4345 \n",
       "Lale 8492 "
      ]
     },
     "metadata": {},
     "output_type": "display_data"
    }
   ],
   "source": [
    "phonebook <- data.frame(phone=c(Can=1234, Cem=4345, Lale=8492))\n",
    "phonebook"
   ]
  },
  {
   "cell_type": "markdown",
   "metadata": {},
   "source": [
    "Note that `phonebook` does not contain Hande, and `people` does not contain Lale.\n",
    "\n",
    "Then we merge by the row names by specifying `\"row.names\"` as `by.x` and `by.y` parameter values. "
   ]
  },
  {
   "cell_type": "code",
   "execution_count": 58,
   "metadata": {},
   "outputs": [
    {
     "data": {
      "text/plain": [
       "  Row.names Height Weight Member City     phone\n",
       "1 Can       1.70   65     FALSE  Istanbul 1234 \n",
       "2 Cem       1.75   66      TRUE  Ankara   4345 "
      ]
     },
     "metadata": {},
     "output_type": "display_data"
    }
   ],
   "source": [
    "merge(people,phonebook,by.x=\"row.names\", by.y=\"row.names\")"
   ]
  },
  {
   "cell_type": "markdown",
   "metadata": {},
   "source": [
    "Note that the resulting data frame does not include Hande or Lale, because they are missing in one or the other data frame. This is called an _inner join_ operation.\n",
    "\n",
    "If we want to have all the rows, even though they contain missing data, we use the `all=TRUE` parameter. This is called an _outer join_ operation."
   ]
  },
  {
   "cell_type": "code",
   "execution_count": 59,
   "metadata": {},
   "outputs": [],
   "source": [
    "merged_df <- merge(people,phonebook,by.x=\"row.names\", by.y=\"row.names\", all=TRUE)"
   ]
  },
  {
   "cell_type": "code",
   "execution_count": 60,
   "metadata": {},
   "outputs": [
    {
     "data": {
      "text/plain": [
       "  Row.names Height Weight Member City     phone\n",
       "1 Can       1.70   65     FALSE  Istanbul 1234 \n",
       "2 Cem       1.75   66      TRUE  Ankara   4345 \n",
       "3 Hande     1.62   61      TRUE  Izmir      NA \n",
       "4 Lale        NA   NA        NA  NA       8492 "
      ]
     },
     "metadata": {},
     "output_type": "display_data"
    }
   ],
   "source": [
    "merged_df"
   ]
  },
  {
   "cell_type": "markdown",
   "metadata": {},
   "source": [
    "And if we want to use the names of people as row names, we can assign them using `rownames()` function, and remove the `\"Row.names\"` column later."
   ]
  },
  {
   "cell_type": "code",
   "execution_count": 61,
   "metadata": {},
   "outputs": [
    {
     "data": {
      "text/plain": [
       "      Height Weight Member City     phone\n",
       "Can   1.70   65     FALSE  Istanbul 1234 \n",
       "Cem   1.75   66      TRUE  Ankara   4345 \n",
       "Hande 1.62   61      TRUE  Izmir      NA \n",
       "Lale    NA   NA        NA  NA       8492 "
      ]
     },
     "metadata": {},
     "output_type": "display_data"
    }
   ],
   "source": [
    "rownames(merged_df) <- merged_df$Row.names\n",
    "merged_df$Row.names <- NULL\n",
    "merged_df"
   ]
  },
  {
   "cell_type": "markdown",
   "metadata": {},
   "source": [
    "Applications\n",
    "===\n",
    "Analyze the grades in a class\n",
    "---"
   ]
  },
  {
   "cell_type": "code",
   "execution_count": 62,
   "metadata": {},
   "outputs": [
    {
     "data": {
      "text/plain": [
       "  student midterm1 midterm2 final\n",
       "1 Can     45       68       59   \n",
       "2 Cem     74       83       91   \n",
       "3 Hande   67       56       62   \n",
       "4 Lale    52       22       49   \n",
       "5 Ziya    31       50       65   "
      ]
     },
     "metadata": {},
     "output_type": "display_data"
    }
   ],
   "source": [
    "grades <- data.frame(\n",
    "    student = c(\"Can\",\"Cem\",\"Hande\",\"Lale\",\"Ziya\"),\n",
    "    midterm1 = c(45, 74, 67, 52, 31),\n",
    "    midterm2 = c(68, 83, 56, 22, 50),\n",
    "    final = c(59, 91, 62, 49, 65),\n",
    "    stringsAsFactors = F)\n",
    "grades"
   ]
  },
  {
   "cell_type": "code",
   "execution_count": 63,
   "metadata": {},
   "outputs": [
    {
     "data": {
      "text/plain": [
       "  student midterm1 midterm2 final score\n",
       "1 Can     45       68       59    57.5 \n",
       "2 Cem     74       83       91    83.5 \n",
       "3 Hande   67       56       62    61.7 \n",
       "4 Lale    52       22       49    41.8 \n",
       "5 Ziya    31       50       65    50.3 "
      ]
     },
     "metadata": {},
     "output_type": "display_data"
    }
   ],
   "source": [
    "grades$score <- grades$midterm1*0.3 + grades$midterm2*0.3 + grades$final*0.4\n",
    "grades"
   ]
  },
  {
   "cell_type": "code",
   "execution_count": 64,
   "metadata": {},
   "outputs": [
    {
     "data": {
      "text/plain": [
       "  midterm1 midterm2 final score\n",
       "1 45       68       59    57.5 \n",
       "2 74       83       91    83.5 \n",
       "3 67       56       62    61.7 \n",
       "4 52       22       49    41.8 \n",
       "5 31       50       65    50.3 "
      ]
     },
     "metadata": {},
     "output_type": "display_data"
    }
   ],
   "source": [
    "grades[-1]"
   ]
  },
  {
   "cell_type": "code",
   "execution_count": 65,
   "metadata": {},
   "outputs": [
    {
     "data": {
      "text/plain": [
       "midterm1 midterm2    final    score \n",
       "   53.80    55.80    65.20    58.96 "
      ]
     },
     "metadata": {},
     "output_type": "display_data"
    }
   ],
   "source": [
    "apply(grades[-1],2,mean)"
   ]
  },
  {
   "cell_type": "code",
   "execution_count": 66,
   "metadata": {},
   "outputs": [
    {
     "data": {
      "text/plain": [
       "midterm1 midterm2    final    score \n",
       "   53.80    55.80    65.20    58.96 "
      ]
     },
     "metadata": {},
     "output_type": "display_data"
    }
   ],
   "source": [
    "sapply(grades[-1],mean)"
   ]
  },
  {
   "cell_type": "code",
   "execution_count": 67,
   "metadata": {},
   "outputs": [
    {
     "data": {
      "text/plain": [
       "$midterm1\n",
       "[1] 53.8\n",
       "\n",
       "$midterm2\n",
       "[1] 55.8\n",
       "\n",
       "$final\n",
       "[1] 65.2\n",
       "\n",
       "$score\n",
       "[1] 58.96\n"
      ]
     },
     "metadata": {},
     "output_type": "display_data"
    }
   ],
   "source": [
    "lapply(grades[-1],mean)"
   ]
  },
  {
   "cell_type": "code",
   "execution_count": 68,
   "metadata": {},
   "outputs": [],
   "source": [
    "lettergrade <- function(score){\n",
    "    if (score > 80) \"A\" else if (score > 70) \"B\" else if (score>60) \"C\" else if (score>50) \"D\" else \"F\"\n",
    "}"
   ]
  },
  {
   "cell_type": "code",
   "execution_count": 69,
   "metadata": {},
   "outputs": [
    {
     "data": {
      "text/plain": [
       "[1] \"D\" \"A\" \"C\" \"F\" \"D\""
      ]
     },
     "metadata": {},
     "output_type": "display_data"
    }
   ],
   "source": [
    "sapply(grades$score,lettergrade)"
   ]
  },
  {
   "cell_type": "code",
   "execution_count": 70,
   "metadata": {},
   "outputs": [
    {
     "data": {
      "text/plain": [
       "  student midterm1 midterm2 final score letter\n",
       "1 Can     45       68       59    57.5  D     \n",
       "2 Cem     74       83       91    83.5  A     \n",
       "3 Hande   67       56       62    61.7  C     \n",
       "4 Lale    52       22       49    41.8  F     \n",
       "5 Ziya    31       50       65    50.3  D     "
      ]
     },
     "metadata": {},
     "output_type": "display_data"
    }
   ],
   "source": [
    "grades$letter <- sapply(grades$score, lettergrade)\n",
    "grades"
   ]
  },
  {
   "cell_type": "markdown",
   "metadata": {},
   "source": [
    "Grading multiple-choice exams\n",
    "---\n",
    "Our students have taken a multiple-choice exam. All their answers, as well as the answer key, is recorded as vectors."
   ]
  },
  {
   "cell_type": "code",
   "execution_count": 71,
   "metadata": {},
   "outputs": [],
   "source": [
    "key <- c(\"A\",\"B\",\"C\",\"D\",\"A\")\n",
    "answers <- rbind(\n",
    "    c(\"A\", \"B\", \"D\", \"A\", \"B\"),\n",
    "    c(\"A\", \"D\", \"C\", \"D\", \"A\"),\n",
    "    c(\"B\", \"B\", \"C\", \"D\", \"B\"),\n",
    "    c(\"A\", \"B\", \"C\", \"D\", \"D\"),\n",
    "    c(\"C\", \"C\", \"C\", \"D\", \"A\")\n",
    ")"
   ]
  },
  {
   "cell_type": "markdown",
   "metadata": {},
   "source": [
    "We initialize a separate data frame with the student information:"
   ]
  },
  {
   "cell_type": "code",
   "execution_count": 72,
   "metadata": {},
   "outputs": [
    {
     "data": {
      "text/plain": [
       "  student\n",
       "1 Can    \n",
       "2 Cem    \n",
       "3 Hande  \n",
       "4 Lale   \n",
       "5 Ziya   "
      ]
     },
     "metadata": {},
     "output_type": "display_data"
    }
   ],
   "source": [
    "exam <- data.frame(\n",
    "    student = c(\"Can\",\"Cem\",\"Hande\",\"Lale\",\"Ziya\"),\n",
    "    stringsAsFactors = F\n",
    ")\n",
    "exam"
   ]
  },
  {
   "cell_type": "markdown",
   "metadata": {},
   "source": [
    "And add the exam data to that data frame with `cbind()`."
   ]
  },
  {
   "cell_type": "code",
   "execution_count": 73,
   "metadata": {},
   "outputs": [
    {
     "data": {
      "text/plain": [
       "  student 1 2 3 4 5\n",
       "1 Can     A B D A B\n",
       "2 Cem     A D C D A\n",
       "3 Hande   B B C D B\n",
       "4 Lale    A B C D D\n",
       "5 Ziya    C C C D A"
      ]
     },
     "metadata": {},
     "output_type": "display_data"
    }
   ],
   "source": [
    "exam <- cbind(exam, answers)\n",
    "exam"
   ]
  },
  {
   "cell_type": "markdown",
   "metadata": {},
   "source": [
    "Now we can process this data frame to get the number of correct answers for each student. For that, we can use the `sum(x==y)` operation, which gives us the number of equal elements."
   ]
  },
  {
   "cell_type": "code",
   "execution_count": 74,
   "metadata": {},
   "outputs": [
    {
     "data": {
      "text/plain": [
       "  student 1 2 3 4 5\n",
       "1 Can     A B D A B"
      ]
     },
     "metadata": {},
     "output_type": "display_data"
    },
    {
     "data": {
      "text/plain": [
       "[1] \"A\" \"B\" \"C\" \"D\" \"A\""
      ]
     },
     "metadata": {},
     "output_type": "display_data"
    },
    {
     "data": {
      "text/plain": [
       "  student 1     2     3    4    5    \n",
       "1 FALSE   FALSE FALSE TRUE TRUE FALSE"
      ]
     },
     "metadata": {},
     "output_type": "display_data"
    },
    {
     "data": {
      "text/plain": [
       "[1] 2"
      ]
     },
     "metadata": {},
     "output_type": "display_data"
    }
   ],
   "source": [
    "exam[1,]\n",
    "key\n",
    "exam[1,]==key\n",
    "sum(exam[1,]==key)"
   ]
  },
  {
   "cell_type": "markdown",
   "metadata": {},
   "source": [
    "To repeat this for each row, we create a function that returns the number of matching answers."
   ]
  },
  {
   "cell_type": "code",
   "execution_count": 75,
   "metadata": {},
   "outputs": [],
   "source": [
    "ncorrect <- function(x){\n",
    "    sum(x==key)\n",
    "}"
   ]
  },
  {
   "cell_type": "code",
   "execution_count": 76,
   "metadata": {},
   "outputs": [
    {
     "data": {
      "text/plain": [
       "[1] 2"
      ]
     },
     "metadata": {},
     "output_type": "display_data"
    }
   ],
   "source": [
    "ncorrect(exam[1,2:6])"
   ]
  },
  {
   "cell_type": "markdown",
   "metadata": {},
   "source": [
    "And we use `apply()` to apply it to every row."
   ]
  },
  {
   "cell_type": "code",
   "execution_count": 77,
   "metadata": {},
   "outputs": [
    {
     "data": {
      "text/plain": [
       "[1] 2 4 3 4 3"
      ]
     },
     "metadata": {},
     "output_type": "display_data"
    }
   ],
   "source": [
    "apply(exam[,2:6],1,ncorrect)"
   ]
  },
  {
   "cell_type": "markdown",
   "metadata": {},
   "source": [
    "We can store this result by creating a new column in the data frame."
   ]
  },
  {
   "cell_type": "code",
   "execution_count": 78,
   "metadata": {},
   "outputs": [],
   "source": [
    "exam$correct <- apply(exam[,2:6],1,ncorrect)"
   ]
  },
  {
   "cell_type": "code",
   "execution_count": 79,
   "metadata": {},
   "outputs": [
    {
     "data": {
      "text/plain": [
       "  student 1 2 3 4 5 correct\n",
       "1 Can     A B D A B 2      \n",
       "2 Cem     A D C D A 4      \n",
       "3 Hande   B B C D B 3      \n",
       "4 Lale    A B C D D 4      \n",
       "5 Ziya    C C C D A 3      "
      ]
     },
     "metadata": {},
     "output_type": "display_data"
    }
   ],
   "source": [
    "exam"
   ]
  },
  {
   "cell_type": "markdown",
   "metadata": {},
   "source": [
    "Item database\n",
    "---\n",
    "Suppose you run a retail store and you keep a data base of your items, their unit price, and the VAT rate for each item, such as the following."
   ]
  },
  {
   "cell_type": "code",
   "execution_count": 80,
   "metadata": {},
   "outputs": [
    {
     "data": {
      "text/plain": [
       "  itemname   vat  unitprice\n",
       "1 Milk       0.05 10       \n",
       "2 Meat       0.04 20       \n",
       "3 Toothpaste 0.05  5       \n",
       "4 Pencil     0.06  1       \n",
       "5 Detergent  0.03  4       "
      ]
     },
     "metadata": {},
     "output_type": "display_data"
    }
   ],
   "source": [
    "items <- data.frame(\n",
    "    itemname = c(\"Milk\",\"Meat\",\"Toothpaste\",\"Pencil\",\"Detergent\"),\n",
    "    vat = c(0.05, 0.04, 0.05, 0.06, 0.03),\n",
    "    unitprice = c(10, 20, 5, 1, 4))\n",
    "items"
   ]
  },
  {
   "cell_type": "markdown",
   "metadata": {},
   "source": [
    "You get some orders for some items, which your automated system stores with an order ID:"
   ]
  },
  {
   "cell_type": "code",
   "execution_count": 81,
   "metadata": {},
   "outputs": [
    {
     "data": {
      "text/plain": [
       "  orderid item       amount\n",
       "1 1234    Milk       3     \n",
       "2 5761    Meat       1     \n",
       "3 1832    Toothpaste 2     "
      ]
     },
     "metadata": {},
     "output_type": "display_data"
    }
   ],
   "source": [
    "orders <- data.frame(\n",
    "    orderid = c(\"1234\",\"5761\",\"1832\"),\n",
    "    item = c(\"Milk\",\"Meat\",\"Toothpaste\"),\n",
    "    amount = c(3,1,2))\n",
    "orders"
   ]
  },
  {
   "cell_type": "markdown",
   "metadata": {},
   "source": [
    "Our task is to add a new column to the `orders` data frame that holds the total payment for each order, including the VAT.\n",
    "\n",
    "We begin by merging the orders and items data frames. We do not use all the items, so we make an inner join. We store the result in a new data frame."
   ]
  },
  {
   "cell_type": "code",
   "execution_count": 82,
   "metadata": {},
   "outputs": [
    {
     "data": {
      "text/plain": [
       "  item       orderid amount vat  unitprice\n",
       "1 Meat       5761    1      0.04 20       \n",
       "2 Milk       1234    3      0.05 10       \n",
       "3 Toothpaste 1832    2      0.05  5       "
      ]
     },
     "metadata": {},
     "output_type": "display_data"
    }
   ],
   "source": [
    "orders2 <- merge(orders,items,by.x=\"item\",by.y=\"itemname\")\n",
    "orders2"
   ]
  },
  {
   "cell_type": "markdown",
   "metadata": {},
   "source": [
    "Now that we have the unit price and the VAT information on the same data frame, we can calculate the total to pay and store it in a new column."
   ]
  },
  {
   "cell_type": "code",
   "execution_count": 83,
   "metadata": {},
   "outputs": [
    {
     "data": {
      "text/plain": [
       "  item       orderid amount vat  unitprice total\n",
       "1 Meat       5761    1      0.04 20        20.8 \n",
       "2 Milk       1234    3      0.05 10        31.5 \n",
       "3 Toothpaste 1832    2      0.05  5        10.5 "
      ]
     },
     "metadata": {},
     "output_type": "display_data"
    }
   ],
   "source": [
    "orders2$total <- (orders2$amount*orders2$unitprice)*(1+orders2$vat)\n",
    "orders2"
   ]
  }
 ],
 "metadata": {
  "kernelspec": {
   "display_name": "R",
   "language": "R",
   "name": "ir"
  },
  "language_info": {
   "codemirror_mode": "r",
   "file_extension": ".r",
   "mimetype": "text/x-r-source",
   "name": "R",
   "pygments_lexer": "r",
   "version": "3.5.1"
  },
  "toc": {
   "nav_menu": {},
   "number_sections": true,
   "sideBar": true,
   "skip_h1_title": false,
   "toc_cell": false,
   "toc_position": {},
   "toc_section_display": "block",
   "toc_window_display": false
  }
 },
 "nbformat": 4,
 "nbformat_minor": 2
}
