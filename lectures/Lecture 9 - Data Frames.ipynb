{
 "cells": [
  {
   "cell_type": "code",
   "execution_count": null,
   "metadata": {},
   "outputs": [],
   "source": [
    "options(jupyter.rich_display = FALSE)"
   ]
  },
  {
   "cell_type": "markdown",
   "metadata": {
    "slideshow": {
     "slide_type": "slide"
    }
   },
   "source": [
    "# Data Frames"
   ]
  },
  {
   "cell_type": "markdown",
   "metadata": {
    "slideshow": {
     "slide_type": "slide"
    }
   },
   "source": [
    "**Data frames** are used for representing tabular data where each column has a different type, such as\n",
    "\n",
    "\n",
    "|Name | Height| Weight | Gym member? | City|\n",
    "|-----|----|----|----|---|\n",
    "|Cem | 1.75 | 66 |T | Istanbul|\n",
    "|Can | 1.70 | 65 | F | Ankara|\n",
    "|Hande | 1.62 | 61| T | Izmir|"
   ]
  },
  {
   "cell_type": "markdown",
   "metadata": {
    "slideshow": {
     "slide_type": "slide"
    }
   },
   "source": [
    "* _Lists_ are heterogeneous analogs of _vectors_.\n",
    "* _Data frames_ are heterogenous analogs of _matrices_.\n",
    "* Internally, a data frame is a _list_ of equal-length _vectors_."
   ]
  },
  {
   "cell_type": "markdown",
   "metadata": {
    "slideshow": {
     "slide_type": "slide"
    }
   },
   "source": [
    "# Why not use a matrix?\n",
    "\n",
    "Earlier we have seen how to store data in vectors, for example:"
   ]
  },
  {
   "cell_type": "code",
   "execution_count": null,
   "metadata": {},
   "outputs": [],
   "source": [
    "heights <- c(Can=1.70, Cem=1.75, Hande=1.62)\n",
    "weights <- c(Can=65, Cem=66, Hande=61)"
   ]
  },
  {
   "cell_type": "markdown",
   "metadata": {},
   "source": [
    "If we want to have this data combined in a table, we can generate a matrix out of it:"
   ]
  },
  {
   "cell_type": "code",
   "execution_count": null,
   "metadata": {},
   "outputs": [],
   "source": [
    "height_weight <- cbind(\n",
    "    c(1.70, 1.75,1.62),\n",
    "    c(65, 66, 61)\n",
    ")\n",
    "rownames(height_weight) <- c(\"Can\",\"Cem\",\"Hande\")\n",
    "colnames(height_weight) <- c(\"Height\",\"Weight\")\n",
    "height_weight"
   ]
  },
  {
   "cell_type": "markdown",
   "metadata": {
    "slideshow": {
     "slide_type": "slide"
    }
   },
   "source": [
    "Alternatively, if the data are already stored in a vector:"
   ]
  },
  {
   "cell_type": "code",
   "execution_count": null,
   "metadata": {},
   "outputs": [],
   "source": [
    "height_weight <- cbind(heights, weights)\n",
    "colnames(height_weight) <- c(\"Height\",\"Weight\")\n",
    "height_weight"
   ]
  },
  {
   "cell_type": "markdown",
   "metadata": {},
   "source": [
    "For example, get the BMI of \"Can\"."
   ]
  },
  {
   "cell_type": "code",
   "execution_count": null,
   "metadata": {},
   "outputs": [],
   "source": [
    "height_weight[\"Can\",\"Weight\"]/height_weight[\"Can\",\"Height\"]^2"
   ]
  },
  {
   "cell_type": "markdown",
   "metadata": {
    "slideshow": {
     "slide_type": "slide"
    }
   },
   "source": [
    "Trouble arises when we want to store the Boolean gym membership data in this matrix as well."
   ]
  },
  {
   "cell_type": "code",
   "execution_count": null,
   "metadata": {},
   "outputs": [],
   "source": [
    "member <- c(Cem=FALSE, Can=TRUE, Hande=TRUE)\n",
    "height_weight <- cbind(heights, weights,member)\n",
    "colnames(height_weight) <- c(\"Height\",\"Weight\",\"Gym member\")\n",
    "height_weight"
   ]
  },
  {
   "cell_type": "markdown",
   "metadata": {},
   "source": [
    "* The last column has numeric values 0 or 1, instead of `TRUE` or `FALSE`.\n",
    "* Reason: All elements in a matrix must have _the same mode_ (numeric here).\n",
    "* If a new mode is forced (Boolean here) not, all elements are _coerced_ to a common type (numeric here).\n",
    "* `TRUE` becomes 1, `FALSE` becomes 0."
   ]
  },
  {
   "cell_type": "markdown",
   "metadata": {
    "slideshow": {
     "slide_type": "slide"
    }
   },
   "source": [
    "Suppose we also want to add the city data."
   ]
  },
  {
   "cell_type": "code",
   "execution_count": null,
   "metadata": {},
   "outputs": [],
   "source": [
    "city <- c(Cem=\"Istanbul\",Can=\"Ankara\",Hande=\"Izmir\")\n",
    "\n",
    "height_weight <- cbind(heights, weights,member,city)\n",
    "colnames(height_weight) <- c(\"Height\",\"Weight\",\"Gym member\",\"City\")\n",
    "\n",
    "print(height_weight)"
   ]
  },
  {
   "cell_type": "markdown",
   "metadata": {},
   "source": [
    "All entries are now coerced to strings. The data is still there, but we cannot perform computations anymore."
   ]
  },
  {
   "cell_type": "code",
   "execution_count": null,
   "metadata": {},
   "outputs": [],
   "source": [
    "height_weight[\"Can\",\"Weight\"]/height_weight[\"Can\",\"Height\"]^2"
   ]
  },
  {
   "cell_type": "markdown",
   "metadata": {
    "slideshow": {
     "slide_type": "slide"
    }
   },
   "source": [
    "* Keep the data in separate vectors?\n",
    "* There would be no coercion, but data manipulation would be difficult.\n",
    "* Selecting subsets, adding/removing entries, would require several operations and great care.\n",
    "* A _data frame_ that combines several vectors as data columns provides convenience."
   ]
  },
  {
   "cell_type": "markdown",
   "metadata": {
    "slideshow": {
     "slide_type": "slide"
    }
   },
   "source": [
    "Creating data frames\n",
    "====\n",
    "Several vectors can be combined into a data frame using the `data.frame()` function."
   ]
  },
  {
   "cell_type": "code",
   "execution_count": null,
   "metadata": {},
   "outputs": [],
   "source": [
    "people <- data.frame(Height=heights, Weight=weights, Member=member, City=city, stringsAsFactors = F)\n",
    "people"
   ]
  },
  {
   "cell_type": "markdown",
   "metadata": {
    "slideshow": {
     "slide_type": "slide"
    }
   },
   "source": [
    "**Recycling** applies to data frames as well. Suppose we add the `\"City\"` data and make it `\"Istanbul\"` for all:"
   ]
  },
  {
   "cell_type": "code",
   "execution_count": null,
   "metadata": {},
   "outputs": [],
   "source": [
    "data.frame(Height=heights, Weight=weights, City=\"Istanbul\")"
   ]
  },
  {
   "cell_type": "markdown",
   "metadata": {},
   "source": [
    "Here, the element `\"Istanbul\"` is repeated until it matches the length of other vectors."
   ]
  },
  {
   "cell_type": "markdown",
   "metadata": {
    "slideshow": {
     "slide_type": "slide"
    }
   },
   "source": [
    "The functions `rownames()` and `colnames()` can be used to change labels of rows and columns."
   ]
  },
  {
   "cell_type": "code",
   "execution_count": null,
   "metadata": {},
   "outputs": [],
   "source": [
    "tempdf <- data.frame(h=c(1.70, 1.75,1.62),w=c(65, 66, 61))\n",
    "tempdf"
   ]
  },
  {
   "cell_type": "code",
   "execution_count": null,
   "metadata": {},
   "outputs": [],
   "source": [
    "rownames(tempdf) <- c(\"Can\",\"Cem\",\"Hande\")\n",
    "colnames(tempdf) <- c(\"Height\",\"Weight\")\n",
    "tempdf"
   ]
  },
  {
   "cell_type": "markdown",
   "metadata": {
    "slideshow": {
     "slide_type": "slide"
    }
   },
   "source": [
    "Accessing columns of data frames\n",
    "===="
   ]
  },
  {
   "cell_type": "markdown",
   "metadata": {},
   "source": [
    "A data frame is a **list of columns**; so we can access a column using the list notation we've seen before."
   ]
  },
  {
   "cell_type": "code",
   "execution_count": null,
   "metadata": {},
   "outputs": [],
   "source": [
    "people"
   ]
  },
  {
   "cell_type": "code",
   "execution_count": null,
   "metadata": {},
   "outputs": [],
   "source": [
    "people[[1]]  # indexing with component number\n",
    "people$Weight  # component name\n",
    "people[[\"City\"]]"
   ]
  },
  {
   "cell_type": "markdown",
   "metadata": {
    "slideshow": {
     "slide_type": "slide"
    }
   },
   "source": [
    "# Accessing elements via matrix-like indexing\n",
    "A data frame can be indexed as if it is a matrix, using the `[row, col]` notation."
   ]
  },
  {
   "cell_type": "code",
   "execution_count": null,
   "metadata": {},
   "outputs": [],
   "source": [
    "people"
   ]
  },
  {
   "cell_type": "code",
   "execution_count": null,
   "metadata": {},
   "outputs": [],
   "source": [
    "people[,1]  # column 1\n",
    "people[2,1] # row 2, column 1\n",
    "people[\"Cem\",\"Height\"]"
   ]
  },
  {
   "cell_type": "markdown",
   "metadata": {
    "slideshow": {
     "slide_type": "slide"
    }
   },
   "source": [
    "# Selecting rows using indices"
   ]
  },
  {
   "cell_type": "markdown",
   "metadata": {},
   "source": [
    "We can specify a vector of indices to select rows."
   ]
  },
  {
   "cell_type": "code",
   "execution_count": null,
   "metadata": {},
   "outputs": [],
   "source": [
    "people"
   ]
  },
  {
   "cell_type": "code",
   "execution_count": null,
   "metadata": {},
   "outputs": [],
   "source": [
    "people[c(1,3),]\n",
    "people[c(\"Can\",\"Hande\"),]"
   ]
  },
  {
   "cell_type": "markdown",
   "metadata": {
    "slideshow": {
     "slide_type": "slide"
    }
   },
   "source": [
    "A negative index, again, indicates a row that is to be omitted."
   ]
  },
  {
   "cell_type": "code",
   "execution_count": null,
   "metadata": {},
   "outputs": [],
   "source": [
    "people[-2,]"
   ]
  },
  {
   "cell_type": "markdown",
   "metadata": {
    "slideshow": {
     "slide_type": "slide"
    }
   },
   "source": [
    "Selecting some columns\n",
    "===="
   ]
  },
  {
   "cell_type": "markdown",
   "metadata": {},
   "source": [
    "We can provide a list of column names or numeric indices to get a subframe."
   ]
  },
  {
   "cell_type": "code",
   "execution_count": null,
   "metadata": {},
   "outputs": [],
   "source": [
    "people[, c(\"Member\",\"City\")]\n",
    "people[, 3:4]"
   ]
  },
  {
   "cell_type": "markdown",
   "metadata": {
    "slideshow": {
     "slide_type": "slide"
    }
   },
   "source": [
    "A subset of rows and a subset of columns:"
   ]
  },
  {
   "cell_type": "code",
   "execution_count": null,
   "metadata": {},
   "outputs": [],
   "source": [
    "people[c(\"Can\",\"Cem\"), 1:2]"
   ]
  },
  {
   "cell_type": "markdown",
   "metadata": {
    "slideshow": {
     "slide_type": "slide"
    }
   },
   "source": [
    "Filtering data frames\n",
    "==\n",
    "The Boolean operators to select vector elements are applicable to data frames as well. "
   ]
  },
  {
   "cell_type": "code",
   "execution_count": null,
   "metadata": {},
   "outputs": [],
   "source": [
    "people"
   ]
  },
  {
   "cell_type": "code",
   "execution_count": null,
   "metadata": {},
   "outputs": [],
   "source": [
    "people$Height >= 1.70"
   ]
  },
  {
   "cell_type": "code",
   "execution_count": null,
   "metadata": {},
   "outputs": [],
   "source": [
    "people[ people$Height>= 1.70, ]"
   ]
  },
  {
   "cell_type": "code",
   "execution_count": null,
   "metadata": {
    "slideshow": {
     "slide_type": "slide"
    }
   },
   "outputs": [],
   "source": [
    "people[ people$Member, ]"
   ]
  },
  {
   "cell_type": "code",
   "execution_count": null,
   "metadata": {},
   "outputs": [],
   "source": [
    "people[ people$Member, c(\"Height\",\"City\")]"
   ]
  },
  {
   "cell_type": "markdown",
   "metadata": {
    "slideshow": {
     "slide_type": "slide"
    }
   },
   "source": [
    "Adding new rows\n",
    "===\n",
    "As with matrices, we can use `rbind()` to add a new row to an existing data frame. The new row is usually in the form of a list."
   ]
  },
  {
   "cell_type": "code",
   "execution_count": null,
   "metadata": {},
   "outputs": [],
   "source": [
    "people\n",
    "rbind(people, Lale=list(1.71, 64, FALSE, \"Bursa\"))"
   ]
  },
  {
   "cell_type": "markdown",
   "metadata": {
    "slideshow": {
     "slide_type": "slide"
    }
   },
   "source": [
    "# Concatenate two data frames"
   ]
  },
  {
   "cell_type": "code",
   "execution_count": null,
   "metadata": {},
   "outputs": [],
   "source": [
    "newpeople <- data.frame(\n",
    "    Weight=c(64, 50),\n",
    "    Member=c(F,T),\n",
    "    City=c(\"Bursa\",\"Istanbul\"),\n",
    "    Height=c(Lale=1.71, Ziya=1.45)\n",
    ")\n",
    "newpeople"
   ]
  },
  {
   "cell_type": "code",
   "execution_count": null,
   "metadata": {},
   "outputs": [],
   "source": [
    "rbind(people, newpeople)"
   ]
  },
  {
   "cell_type": "markdown",
   "metadata": {
    "slideshow": {
     "slide_type": "slide"
    }
   },
   "source": [
    "Adding new columns\n",
    "==="
   ]
  },
  {
   "cell_type": "markdown",
   "metadata": {},
   "source": [
    "Suppose we want to add a column for BMI, which we calculate using the existing columns. We can do this using `cbind()` as follows."
   ]
  },
  {
   "cell_type": "code",
   "execution_count": null,
   "metadata": {},
   "outputs": [],
   "source": [
    "people_bmi <- cbind(people, people$Weight/people$Height^2)\n",
    "people_bmi"
   ]
  },
  {
   "cell_type": "markdown",
   "metadata": {
    "slideshow": {
     "slide_type": "slide"
    }
   },
   "source": [
    "Note that the name of the new column is automatically set. We can change this using the `names()` or `colnames()` functions."
   ]
  },
  {
   "cell_type": "code",
   "execution_count": null,
   "metadata": {},
   "outputs": [],
   "source": [
    "names(people_bmi)[5] <- \"BMI\"\n",
    "people_bmi"
   ]
  },
  {
   "cell_type": "markdown",
   "metadata": {},
   "source": [
    "A more direct way:"
   ]
  },
  {
   "cell_type": "code",
   "execution_count": null,
   "metadata": {},
   "outputs": [],
   "source": [
    "people2 <- people\n",
    "people2"
   ]
  },
  {
   "cell_type": "code",
   "execution_count": null,
   "metadata": {},
   "outputs": [],
   "source": [
    "people2$BMI <- people2$Weight/people$Height^2\n",
    "people2"
   ]
  },
  {
   "cell_type": "markdown",
   "metadata": {
    "slideshow": {
     "slide_type": "slide"
    }
   },
   "source": [
    "We can create a new column as please. For example, a column with a single `NA` value."
   ]
  },
  {
   "cell_type": "code",
   "execution_count": null,
   "metadata": {},
   "outputs": [],
   "source": [
    "people2$obese <- NA\n",
    "people2"
   ]
  },
  {
   "cell_type": "code",
   "execution_count": null,
   "metadata": {},
   "outputs": [],
   "source": [
    "people2$obese <- ifelse(people2$BMI>30, T, F)\n",
    "people2"
   ]
  },
  {
   "cell_type": "markdown",
   "metadata": {
    "slideshow": {
     "slide_type": "slide"
    }
   },
   "source": [
    "Remove a column by setting it to `NULL`."
   ]
  },
  {
   "cell_type": "code",
   "execution_count": null,
   "metadata": {},
   "outputs": [],
   "source": [
    "people2$obese <- NULL\n",
    "people2"
   ]
  },
  {
   "cell_type": "markdown",
   "metadata": {
    "slideshow": {
     "slide_type": "slide"
    }
   },
   "source": [
    "Merging data frames\n",
    "===\n",
    "The `merge(x,y)` function is used to create a new data frame from existing frames `x` and `y`, by combining them along a common column."
   ]
  },
  {
   "cell_type": "code",
   "execution_count": null,
   "metadata": {},
   "outputs": [],
   "source": [
    "df1 <- data.frame(Name=c(\"Can\",\"Cem\",\"Hande\"), Phone=c(1234,4345,8492))\n",
    "df2 <- data.frame(Age=c(25,27,26), Name=c(\"Cem\",\"Hande\",\"Can\"))"
   ]
  },
  {
   "cell_type": "code",
   "execution_count": null,
   "metadata": {
    "slideshow": {
     "slide_type": "slide"
    }
   },
   "outputs": [],
   "source": [
    "df1\n",
    "df2\n",
    "merge(df1,df2)"
   ]
  },
  {
   "cell_type": "markdown",
   "metadata": {
    "slideshow": {
     "slide_type": "slide"
    }
   },
   "source": [
    "* The `merge()` function automatically detects that the `Name` column is common in both, and merges the data on it. \n",
    "* The order of names are different in the two frames, which is accounted for."
   ]
  },
  {
   "cell_type": "markdown",
   "metadata": {
    "slideshow": {
     "slide_type": "slide"
    }
   },
   "source": [
    "The columns we want to merge over may have different names in the two frames. In that case we use the `by.x` and `by.y` arguments to `merge()`."
   ]
  },
  {
   "cell_type": "code",
   "execution_count": null,
   "metadata": {},
   "outputs": [],
   "source": [
    "df2 <- data.frame(Age=c(25,27,26), first_name=c(\"Cem\",\"Hande\",\"Can\"))\n",
    "df1\n",
    "df2"
   ]
  },
  {
   "cell_type": "code",
   "execution_count": null,
   "metadata": {},
   "outputs": [],
   "source": [
    "merge(df1, df2, by.x=\"Name\", by.y=\"first_name\")"
   ]
  },
  {
   "cell_type": "markdown",
   "metadata": {
    "slideshow": {
     "slide_type": "slide"
    }
   },
   "source": [
    "Suppose we want to merge on row names; e.g. gym membership and phone number data."
   ]
  },
  {
   "cell_type": "code",
   "execution_count": null,
   "metadata": {},
   "outputs": [],
   "source": [
    "people\n",
    "phonebook <- data.frame(phone=c(Can=1234, Cem=4345, Lale=8492))\n",
    "phonebook"
   ]
  },
  {
   "cell_type": "markdown",
   "metadata": {},
   "source": [
    "Note that `phonebook` does not contain Hande, and `people` does not contain Lale."
   ]
  },
  {
   "cell_type": "markdown",
   "metadata": {
    "slideshow": {
     "slide_type": "slide"
    }
   },
   "source": [
    "To merge by row names, specify`\"row.names\"` for the `by.x` and `by.y` parameters. "
   ]
  },
  {
   "cell_type": "code",
   "execution_count": null,
   "metadata": {},
   "outputs": [],
   "source": [
    "merge(people,phonebook,by.x=\"row.names\", by.y=\"row.names\")"
   ]
  },
  {
   "cell_type": "markdown",
   "metadata": {},
   "source": [
    "# Inner and outer joins\n",
    "\n",
    "* The merged dataframe does not include Hande or Lale, because they are missing in one or the other data frame.\n",
    "* This is called an **inner join** operation.\n",
    "* To get all the rows, with some data missing, set `all=TRUE` (**outer join** operation)."
   ]
  },
  {
   "cell_type": "code",
   "execution_count": null,
   "metadata": {},
   "outputs": [],
   "source": [
    "merged_df <- merge(people,phonebook,by.x=\"row.names\", by.y=\"row.names\", all=TRUE)\n",
    "merged_df"
   ]
  },
  {
   "cell_type": "markdown",
   "metadata": {
    "slideshow": {
     "slide_type": "slide"
    }
   },
   "source": [
    "To set the people names as row names, assign them using `rownames()` function, and remove the `\"Row.names\"` column afterwards."
   ]
  },
  {
   "cell_type": "code",
   "execution_count": null,
   "metadata": {},
   "outputs": [],
   "source": [
    "rownames(merged_df) <- merged_df$Row.names\n",
    "merged_df$Row.names <- NULL\n",
    "merged_df"
   ]
  },
  {
   "cell_type": "markdown",
   "metadata": {
    "slideshow": {
     "slide_type": "slide"
    }
   },
   "source": [
    "Applications\n",
    "==="
   ]
  },
  {
   "cell_type": "markdown",
   "metadata": {
    "slideshow": {
     "slide_type": "slide"
    }
   },
   "source": [
    "# Analyze the grades in a class"
   ]
  },
  {
   "cell_type": "code",
   "execution_count": null,
   "metadata": {},
   "outputs": [],
   "source": [
    "grades <- data.frame(\n",
    "    student = c(\"Can\",\"Cem\",\"Hande\",\"Lale\",\"Ziya\"),\n",
    "    midterm1 = c(45, 74, 67, 52, 31),\n",
    "    midterm2 = c(68, 83, 56, 22, 50),\n",
    "    final = c(59, 91, 62, 49, 65),\n",
    "    stringsAsFactors = F)\n",
    "grades"
   ]
  },
  {
   "cell_type": "markdown",
   "metadata": {
    "slideshow": {
     "slide_type": "slide"
    }
   },
   "source": [
    "Get weighted average"
   ]
  },
  {
   "cell_type": "code",
   "execution_count": null,
   "metadata": {
    "slideshow": {
     "slide_type": "-"
    }
   },
   "outputs": [],
   "source": [
    "grades$score <- grades$midterm1*0.3 + grades$midterm2*0.3 + grades$final*0.4\n",
    "grades"
   ]
  },
  {
   "cell_type": "markdown",
   "metadata": {
    "slideshow": {
     "slide_type": "slide"
    }
   },
   "source": [
    "Get averages of columns"
   ]
  },
  {
   "cell_type": "code",
   "execution_count": null,
   "metadata": {},
   "outputs": [],
   "source": [
    "apply(grades[-1],2,mean)"
   ]
  },
  {
   "cell_type": "code",
   "execution_count": null,
   "metadata": {},
   "outputs": [],
   "source": [
    "sapply(grades[-1],mean)"
   ]
  },
  {
   "cell_type": "code",
   "execution_count": null,
   "metadata": {},
   "outputs": [],
   "source": [
    "lapply(grades[-1],mean)"
   ]
  },
  {
   "cell_type": "markdown",
   "metadata": {
    "slideshow": {
     "slide_type": "slide"
    }
   },
   "source": [
    "Assign letter grades"
   ]
  },
  {
   "cell_type": "code",
   "execution_count": null,
   "metadata": {},
   "outputs": [],
   "source": [
    "lettergrade <- function(score){\n",
    "    if (score > 80) \"A\" else if (score > 70) \"B\" else if (score>60) \"C\" else if (score>50) \"D\" else \"F\"\n",
    "}\n",
    "sapply(grades$score,lettergrade)"
   ]
  },
  {
   "cell_type": "code",
   "execution_count": null,
   "metadata": {},
   "outputs": [],
   "source": [
    "grades$letter <- sapply(grades$score, lettergrade)\n",
    "grades"
   ]
  },
  {
   "cell_type": "markdown",
   "metadata": {
    "slideshow": {
     "slide_type": "slide"
    }
   },
   "source": [
    "# Grading multiple-choice exams\n",
    "Our students have taken a multiple-choice exam. All their answers, as well as the answer key, are recorded as vectors."
   ]
  },
  {
   "cell_type": "code",
   "execution_count": null,
   "metadata": {},
   "outputs": [],
   "source": [
    "key <- c(\"A\",\"B\",\"C\",\"D\",\"A\")\n",
    "answers <- rbind(\n",
    "    c(\"A\", \"B\", \"D\", \"A\", \"B\"),\n",
    "    c(\"A\", \"D\", \"C\", \"D\", \"A\"),\n",
    "    c(\"B\", \"B\", \"C\", \"D\", \"B\"),\n",
    "    c(\"A\", \"B\", \"C\", \"D\", \"D\"),\n",
    "    c(\"C\", \"C\", \"C\", \"D\", \"A\")\n",
    ")"
   ]
  },
  {
   "cell_type": "markdown",
   "metadata": {
    "slideshow": {
     "slide_type": "slide"
    }
   },
   "source": [
    "We initialize a separate data frame with the student information:"
   ]
  },
  {
   "cell_type": "code",
   "execution_count": null,
   "metadata": {},
   "outputs": [],
   "source": [
    "exam <- data.frame(answers,row.names = c(\"Can\",\"Cem\",\"Hande\",\"Lale\",\"Ziya\"))\n",
    "exam"
   ]
  },
  {
   "cell_type": "markdown",
   "metadata": {
    "slideshow": {
     "slide_type": "slide"
    }
   },
   "source": [
    "Now we can process this data frame to get the number of correct answers for each student. For that, we can use the `sum(x==y)` operation, which gives us the number of equal elements."
   ]
  },
  {
   "cell_type": "code",
   "execution_count": null,
   "metadata": {},
   "outputs": [],
   "source": [
    "key\n",
    "exam[1,]\n",
    "exam[1,]==key\n",
    "sum(exam[1,]==key)"
   ]
  },
  {
   "cell_type": "markdown",
   "metadata": {
    "slideshow": {
     "slide_type": "slide"
    }
   },
   "source": [
    "To repeat this for each row, we create a function that returns the number of matching answers."
   ]
  },
  {
   "cell_type": "code",
   "execution_count": null,
   "metadata": {},
   "outputs": [],
   "source": [
    "ncorrect <- function(x){\n",
    "    sum(x==key)\n",
    "}\n",
    "ncorrect(exam[1,])"
   ]
  },
  {
   "cell_type": "markdown",
   "metadata": {},
   "source": [
    "And we use `apply()` to apply it to every row."
   ]
  },
  {
   "cell_type": "code",
   "execution_count": null,
   "metadata": {},
   "outputs": [],
   "source": [
    "apply(exam,1,ncorrect)"
   ]
  },
  {
   "cell_type": "markdown",
   "metadata": {
    "slideshow": {
     "slide_type": "slide"
    }
   },
   "source": [
    "We can store this result by creating a new column in the data frame."
   ]
  },
  {
   "cell_type": "code",
   "execution_count": null,
   "metadata": {},
   "outputs": [],
   "source": [
    "exam$correct <- apply(exam,1,ncorrect)\n",
    "exam"
   ]
  },
  {
   "cell_type": "markdown",
   "metadata": {
    "slideshow": {
     "slide_type": "slide"
    }
   },
   "source": [
    "# Item database\n",
    "Suppose you run a retail store and you keep a data base of your items, their unit price, and the VAT rate for each item, such as the following."
   ]
  },
  {
   "cell_type": "code",
   "execution_count": null,
   "metadata": {},
   "outputs": [],
   "source": [
    "items <- data.frame(\n",
    "    row.names = c(\"Milk\",\"Meat\",\"Toothpaste\",\"Pencil\",\"Detergent\"),\n",
    "    vat = c(0.05, 0.04, 0.05, 0.06, 0.03),\n",
    "    unitprice = c(10, 20, 5, 1, 4)\n",
    ")\n",
    "items"
   ]
  },
  {
   "cell_type": "markdown",
   "metadata": {
    "slideshow": {
     "slide_type": "slide"
    }
   },
   "source": [
    "You get some orders for some items, which your automated system stores with an order ID:"
   ]
  },
  {
   "cell_type": "code",
   "execution_count": null,
   "metadata": {},
   "outputs": [],
   "source": [
    "orders <- data.frame(\n",
    "    row.names = c(\"1234\",\"5761\",\"1832\"),\n",
    "    item = c(\"Milk\",\"Meat\",\"Toothpaste\"),\n",
    "    amount = c(3,1,2))\n",
    "orders"
   ]
  },
  {
   "cell_type": "markdown",
   "metadata": {},
   "source": [
    "Our task is to add a new column to the `orders` data frame that holds the total payment for each order, including the VAT.\n",
    "\n",
    "      item       amount vat  unitprice total\n",
    "    1 Meat       1      0.04 20        20.8 \n",
    "    2 Milk       3      0.05 10        31.5 \n",
    "    3 Toothpaste 2      0.05  5        10.5"
   ]
  },
  {
   "cell_type": "markdown",
   "metadata": {
    "slideshow": {
     "slide_type": "slide"
    }
   },
   "source": [
    "* Merge the orders and items. \n",
    "* Make an inner join. \n",
    "* Store the result in a new data frame."
   ]
  },
  {
   "cell_type": "code",
   "execution_count": null,
   "metadata": {},
   "outputs": [],
   "source": [
    "orders2 <- merge(orders,items,by.x=\"item\",by.y=\"row.names\")\n",
    "orders2"
   ]
  },
  {
   "cell_type": "markdown",
   "metadata": {
    "slideshow": {
     "slide_type": "slide"
    }
   },
   "source": [
    "Now that we have the unit price and the VAT information on the same data frame, we can calculate the total to pay and store it in a new column."
   ]
  },
  {
   "cell_type": "code",
   "execution_count": null,
   "metadata": {},
   "outputs": [],
   "source": [
    "orders2$total <- (orders2$amount*orders2$unitprice)*(1+orders2$vat)\n",
    "orders2"
   ]
  }
 ],
 "metadata": {
  "celltoolbar": "Slideshow",
  "kernelspec": {
   "display_name": "R",
   "language": "R",
   "name": "ir"
  },
  "language_info": {
   "codemirror_mode": "r",
   "file_extension": ".r",
   "mimetype": "text/x-r-source",
   "name": "R",
   "pygments_lexer": "r",
   "version": "3.5.1"
  },
  "toc": {
   "nav_menu": {},
   "number_sections": true,
   "sideBar": true,
   "skip_h1_title": false,
   "toc_cell": false,
   "toc_position": {},
   "toc_section_display": "block",
   "toc_window_display": false
  }
 },
 "nbformat": 4,
 "nbformat_minor": 2
}
