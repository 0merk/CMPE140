{
 "cells": [
  {
   "cell_type": "code",
   "execution_count": 1,
   "metadata": {},
   "outputs": [],
   "source": [
    "options(jupyter.rich_display = FALSE);\n",
    "options(stringsAsFactors = FALSE)"
   ]
  },
  {
   "cell_type": "markdown",
   "metadata": {
    "slideshow": {
     "slide_type": "slide"
    }
   },
   "source": [
    "# Data Frames"
   ]
  },
  {
   "cell_type": "markdown",
   "metadata": {
    "slideshow": {
     "slide_type": "slide"
    }
   },
   "source": [
    "**Data frames** are used for representing tabular data where each column has a different type, such as\n",
    "\n",
    "\n",
    "|Name | Height| Weight | Gym member? | City|\n",
    "|-----|----|----|----|---|\n",
    "|Cem | 1.75 | 66 |T | Istanbul|\n",
    "|Can | 1.70 | 65 | F | Ankara|\n",
    "|Hande | 1.62 | 61| T | Izmir|"
   ]
  },
  {
   "cell_type": "markdown",
   "metadata": {
    "slideshow": {
     "slide_type": "slide"
    }
   },
   "source": [
    "* _Lists_ are heterogeneous analogs of _vectors_.\n",
    "* _Data frames_ are heterogenous analogs of _matrices_.\n",
    "* Internally, a data frame is a _list_ of equal-length _vectors_."
   ]
  },
  {
   "cell_type": "markdown",
   "metadata": {
    "slideshow": {
     "slide_type": "slide"
    }
   },
   "source": [
    "# Why not use a matrix?\n",
    "\n",
    "Earlier we have seen how to store data in vectors, for example:"
   ]
  },
  {
   "cell_type": "code",
   "execution_count": 2,
   "metadata": {},
   "outputs": [],
   "source": [
    "heights <- c(Can=1.70, Cem=1.75, Hande=1.62)\n",
    "weights <- c(Can=65, Cem=66, Hande=61)"
   ]
  },
  {
   "cell_type": "markdown",
   "metadata": {},
   "source": [
    "If we want to have this data combined in a table, we can generate a matrix out of it:"
   ]
  },
  {
   "cell_type": "code",
   "execution_count": 3,
   "metadata": {},
   "outputs": [
    {
     "data": {
      "text/plain": [
       "      Height Weight\n",
       "Can     1.70     65\n",
       "Cem     1.75     66\n",
       "Hande   1.62     61"
      ]
     },
     "execution_count": 3,
     "metadata": {},
     "output_type": "execute_result"
    }
   ],
   "source": [
    "height_weight <- cbind(\n",
    "    c(1.70, 1.75,1.62),\n",
    "    c(65, 66, 61)\n",
    ")\n",
    "rownames(height_weight) <- c(\"Can\",\"Cem\",\"Hande\")\n",
    "colnames(height_weight) <- c(\"Height\",\"Weight\")\n",
    "height_weight"
   ]
  },
  {
   "cell_type": "markdown",
   "metadata": {
    "slideshow": {
     "slide_type": "slide"
    }
   },
   "source": [
    "Alternatively, if the data are already stored in a vector:"
   ]
  },
  {
   "cell_type": "code",
   "execution_count": 4,
   "metadata": {},
   "outputs": [
    {
     "data": {
      "text/plain": [
       "      Height Weight\n",
       "Can     1.70     65\n",
       "Cem     1.75     66\n",
       "Hande   1.62     61"
      ]
     },
     "execution_count": 4,
     "metadata": {},
     "output_type": "execute_result"
    }
   ],
   "source": [
    "height_weight <- cbind(heights, weights)\n",
    "colnames(height_weight) <- c(\"Height\",\"Weight\")\n",
    "height_weight"
   ]
  },
  {
   "cell_type": "markdown",
   "metadata": {},
   "source": [
    "For example, get the BMI of \"Can\"."
   ]
  },
  {
   "cell_type": "code",
   "execution_count": 5,
   "metadata": {},
   "outputs": [
    {
     "data": {
      "text/plain": [
       "[1] 22.49135"
      ]
     },
     "execution_count": 5,
     "metadata": {},
     "output_type": "execute_result"
    }
   ],
   "source": [
    "height_weight[\"Can\",\"Weight\"]/height_weight[\"Can\",\"Height\"]^2"
   ]
  },
  {
   "cell_type": "markdown",
   "metadata": {
    "slideshow": {
     "slide_type": "slide"
    }
   },
   "source": [
    "Trouble arises when we want to store the Boolean gym membership data in this matrix as well."
   ]
  },
  {
   "cell_type": "code",
   "execution_count": 7,
   "metadata": {},
   "outputs": [
    {
     "data": {
      "text/plain": [
       "      Height Weight Gym member\n",
       "Can     1.70     65          1\n",
       "Cem     1.75     66          0\n",
       "Hande   1.62     61          1"
      ]
     },
     "execution_count": 7,
     "metadata": {},
     "output_type": "execute_result"
    }
   ],
   "source": [
    "heights <- c(Can=1.70, Cem=1.75, Hande=1.62)\n",
    "weights <- c(Can=65, Cem=66, Hande=61)\n",
    "member <- c(Can=TRUE, Cem=FALSE, Hande=TRUE)\n",
    "height_weight <- cbind(heights, weights,member)\n",
    "colnames(height_weight) <- c(\"Height\",\"Weight\",\"Gym member\")\n",
    "height_weight"
   ]
  },
  {
   "cell_type": "markdown",
   "metadata": {},
   "source": [
    "* The last column has numeric values 0 or 1, instead of `TRUE` or `FALSE`.\n",
    "* Reason: All elements in a matrix must have _the same mode_ (numeric here).\n",
    "* If a new mode is added (Boolean here), all elements are _coerced_ to a common type (numeric here).\n",
    "* `TRUE` becomes 1, `FALSE` becomes 0."
   ]
  },
  {
   "cell_type": "markdown",
   "metadata": {
    "slideshow": {
     "slide_type": "slide"
    }
   },
   "source": [
    "Suppose we also want to add the city data."
   ]
  },
  {
   "cell_type": "code",
   "execution_count": 8,
   "metadata": {},
   "outputs": [
    {
     "name": "stdout",
     "output_type": "stream",
     "text": [
      "      Height Weight Gym member City      \n",
      "Can   \"1.7\"  \"65\"   \"TRUE\"     \"Ankara\"  \n",
      "Cem   \"1.75\" \"66\"   \"FALSE\"    \"Istanbul\"\n",
      "Hande \"1.62\" \"61\"   \"TRUE\"     \"Izmir\"   \n"
     ]
    }
   ],
   "source": [
    "city <- c(Can=\"Ankara\",Cem=\"Istanbul\",Hande=\"Izmir\")\n",
    "\n",
    "height_weight <- cbind(heights, weights,member,city)\n",
    "colnames(height_weight) <- c(\"Height\",\"Weight\",\"Gym member\",\"City\")\n",
    "\n",
    "print(height_weight)"
   ]
  },
  {
   "cell_type": "markdown",
   "metadata": {},
   "source": [
    "All entries are now coerced to strings. The data is still there, but we cannot perform computations anymore."
   ]
  },
  {
   "cell_type": "code",
   "execution_count": 9,
   "metadata": {},
   "outputs": [
    {
     "ename": "ERROR",
     "evalue": "Error in height_weight[\"Can\", \"Height\"]^2: non-numeric argument to binary operator\n",
     "output_type": "error",
     "traceback": [
      "Error in height_weight[\"Can\", \"Height\"]^2: non-numeric argument to binary operator\n"
     ]
    }
   ],
   "source": [
    "height_weight[\"Can\",\"Weight\"]/height_weight[\"Can\",\"Height\"]^2"
   ]
  },
  {
   "cell_type": "markdown",
   "metadata": {
    "slideshow": {
     "slide_type": "slide"
    }
   },
   "source": [
    "Keep the data in separate vectors?\n",
    "* There would be no coercion, but data manipulation would be difficult.\n",
    "* Selecting subsets, adding/removing entries, would require several operations and great care.\n",
    "* A _data frame_ that combines several vectors as data columns provides convenience."
   ]
  },
  {
   "cell_type": "markdown",
   "metadata": {
    "slideshow": {
     "slide_type": "slide"
    }
   },
   "source": [
    "Creating data frames\n",
    "====\n",
    "Several vectors can be combined into a data frame using the `data.frame()` function."
   ]
  },
  {
   "cell_type": "code",
   "execution_count": 12,
   "metadata": {
    "collapsed": true
   },
   "outputs": [
    {
     "data": {
      "text/plain": [
       "data.frame                package:base                 R Documentation\n",
       "\n",
       "_\bD_\ba_\bt_\ba _\bF_\br_\ba_\bm_\be_\bs\n",
       "\n",
       "_\bD_\be_\bs_\bc_\br_\bi_\bp_\bt_\bi_\bo_\bn:\n",
       "\n",
       "     This function creates data frames, tightly coupled collections of\n",
       "     variables which share many of the properties of matrices and of\n",
       "     lists, used as the fundamental data structure by most of R's\n",
       "     modeling software.\n",
       "\n",
       "_\bU_\bs_\ba_\bg_\be:\n",
       "\n",
       "     data.frame(..., row.names = NULL, check.rows = FALSE,\n",
       "                check.names = TRUE,\n",
       "                stringsAsFactors = default.stringsAsFactors())\n",
       "     \n",
       "     default.stringsAsFactors()\n",
       "     \n",
       "_\bA_\br_\bg_\bu_\bm_\be_\bn_\bt_\bs:\n",
       "\n",
       "     ...: these arguments are of either the form ‘value’ or ‘tag =\n",
       "          value’.  Component names are created based on the tag (if\n",
       "          present) or the deparsed argument itself.\n",
       "\n",
       "row.names: ‘NULL’ or a single integer or character string specifying a\n",
       "          column to be used as row names, or a character or integer\n",
       "          vector giving the row names for the data frame.\n",
       "\n",
       "check.rows: if ‘TRUE’ then the rows are checked for consistency of\n",
       "          length and names.\n",
       "\n",
       "check.names: logical.  If ‘TRUE’ then the names of the variables in the\n",
       "          data frame are checked to ensure that they are syntactically\n",
       "          valid variable names and are not duplicated.  If necessary\n",
       "          they are adjusted (by ‘make.names’) so that they are.\n",
       "\n",
       "stringsAsFactors: logical: should character vectors be converted to\n",
       "          factors?  The ‘factory-fresh’ default is ‘TRUE’, but this can\n",
       "          be changed by setting ‘options(stringsAsFactors = FALSE)’.\n",
       "\n",
       "_\bD_\be_\bt_\ba_\bi_\bl_\bs:\n",
       "\n",
       "     A data frame is a list of variables of the same number of rows\n",
       "     with unique row names, given class ‘\"data.frame\"’.  If no\n",
       "     variables are included, the row names determine the number of\n",
       "     rows.\n",
       "\n",
       "     The column names should be non-empty, and attempts to use empty\n",
       "     names will have unsupported results.  Duplicate column names are\n",
       "     allowed, but you need to use ‘check.names = FALSE’ for\n",
       "     ‘data.frame’ to generate such a data frame.  However, not all\n",
       "     operations on data frames will preserve duplicated column names:\n",
       "     for example matrix-like subsetting will force column names in the\n",
       "     result to be unique.\n",
       "\n",
       "     ‘data.frame’ converts each of its arguments to a data frame by\n",
       "     calling ‘as.data.frame(optional = TRUE)’.  As that is a generic\n",
       "     function, methods can be written to change the behaviour of\n",
       "     arguments according to their classes: R comes with many such\n",
       "     methods.  Character variables passed to ‘data.frame’ are converted\n",
       "     to factor columns unless protected by ‘I’ or argument\n",
       "     ‘stringsAsFactors’ is false.  If a list or data frame or matrix is\n",
       "     passed to ‘data.frame’ it is as if each component or column had\n",
       "     been passed as a separate argument (except for matrices of class\n",
       "     ‘\"model.matrix\"’ and those protected by ‘I’).\n",
       "\n",
       "     Objects passed to ‘data.frame’ should have the same number of\n",
       "     rows, but atomic vectors (see ‘is.vector’), factors and character\n",
       "     vectors protected by ‘I’ will be recycled a whole number of times\n",
       "     if necessary (including as elements of list arguments).\n",
       "\n",
       "     If row names are not supplied in the call to ‘data.frame’, the row\n",
       "     names are taken from the first component that has suitable names,\n",
       "     for example a named vector or a matrix with rownames or a data\n",
       "     frame.  (If that component is subsequently recycled, the names are\n",
       "     discarded with a warning.)  If ‘row.names’ was supplied as ‘NULL’\n",
       "     or no suitable component was found the row names are the integer\n",
       "     sequence starting at one (and such row names are considered to be\n",
       "     ‘automatic’, and not preserved by ‘as.matrix’).\n",
       "\n",
       "     If row names are supplied of length one and the data frame has a\n",
       "     single row, the ‘row.names’ is taken to specify the row names and\n",
       "     not a column (by name or number).\n",
       "\n",
       "     Names are removed from vector inputs not protected by ‘I’.\n",
       "\n",
       "     ‘default.stringsAsFactors’ is a utility that takes\n",
       "     ‘getOption(\"stringsAsFactors\")’ and ensures the result is ‘TRUE’\n",
       "     or ‘FALSE’ (or throws an error if the value is not ‘NULL’).\n",
       "\n",
       "_\bV_\ba_\bl_\bu_\be:\n",
       "\n",
       "     A data frame, a matrix-like structure whose columns may be of\n",
       "     differing types (numeric, logical, factor and character and so\n",
       "     on).\n",
       "\n",
       "     How the names of the data frame are created is complex, and the\n",
       "     rest of this paragraph is only the basic story.  If the arguments\n",
       "     are all named and simple objects (not lists, matrices of data\n",
       "     frames) then the argument names give the column names.  For an\n",
       "     unnamed simple argument, a deparsed version of the argument is\n",
       "     used as the name (with an enclosing ‘I(...)’ removed).  For a\n",
       "     named matrix/list/data frame argument with more than one named\n",
       "     column, the names of the columns are the name of the argument\n",
       "     followed by a dot and the column name inside the argument: if the\n",
       "     argument is unnamed, the argument's column names are used.  For a\n",
       "     named or unnamed matrix/list/data frame argument that contains a\n",
       "     single column, the column name in the result is the column name in\n",
       "     the argument.  Finally, the names are adjusted to be unique and\n",
       "     syntactically valid unless ‘check.names = FALSE’.\n",
       "\n",
       "_\bN_\bo_\bt_\be:\n",
       "\n",
       "     In versions of R prior to 2.4.0 ‘row.names’ had to be character:\n",
       "     to ensure compatibility with such versions of R, supply a\n",
       "     character vector as the ‘row.names’ argument.\n",
       "\n",
       "_\bR_\be_\bf_\be_\br_\be_\bn_\bc_\be_\bs:\n",
       "\n",
       "     Chambers, J. M. (1992) _Data for models._ Chapter 3 of\n",
       "     _Statistical Models in S_ eds J. M. Chambers and T. J. Hastie,\n",
       "     Wadsworth & Brooks/Cole.\n",
       "\n",
       "_\bS_\be_\be _\bA_\bl_\bs_\bo:\n",
       "\n",
       "     ‘I’, ‘plot.data.frame’, ‘print.data.frame’, ‘row.names’, ‘names’\n",
       "     (for the column names), ‘[.data.frame’ for subsetting methods,\n",
       "     ‘Math.data.frame’ etc, about _Group_ methods for ‘data.frame’s;\n",
       "     ‘read.table’, ‘make.names’.\n",
       "\n",
       "_\bE_\bx_\ba_\bm_\bp_\bl_\be_\bs:\n",
       "\n",
       "     L3 <- LETTERS[1:3]\n",
       "     fac <- sample(L3, 10, replace = TRUE)\n",
       "     (d <- data.frame(x = 1, y = 1:10, fac = fac))\n",
       "     ## The \"same\" with automatic column names:\n",
       "     data.frame(1, 1:10, sample(L3, 10, replace = TRUE))\n",
       "     \n",
       "     is.data.frame(d)\n",
       "     \n",
       "     ## do not convert to factor, using I() :\n",
       "     (dd <- cbind(d, char = I(letters[1:10])))\n",
       "     rbind(class = sapply(dd, class), mode = sapply(dd, mode))\n",
       "     \n",
       "     stopifnot(1:10 == row.names(d))  # {coercion}\n",
       "     \n",
       "     (d0  <- d[, FALSE])   # data frame with 0 columns and 10 rows\n",
       "     (d.0 <- d[FALSE, ])   # <0 rows> data frame  (3 named cols)\n",
       "     (d00 <- d0[FALSE, ])  # data frame with 0 columns and 0 rows\n",
       "     "
      ]
     },
     "execution_count": 12,
     "metadata": {},
     "output_type": "execute_result"
    }
   ],
   "source": [
    "help(data.frame)"
   ]
  },
  {
   "cell_type": "code",
   "execution_count": 13,
   "metadata": {},
   "outputs": [
    {
     "data": {
      "text/plain": [
       "      Height Weight Member     City\n",
       "Can     1.70     65   TRUE   Ankara\n",
       "Cem     1.75     66  FALSE Istanbul\n",
       "Hande   1.62     61   TRUE    Izmir"
      ]
     },
     "execution_count": 13,
     "metadata": {},
     "output_type": "execute_result"
    }
   ],
   "source": [
    "people <- data.frame(Height=heights, \n",
    "                     Weight=weights, \n",
    "                     Member=member, \n",
    "                     City=city)\n",
    "people"
   ]
  },
  {
   "cell_type": "markdown",
   "metadata": {
    "slideshow": {
     "slide_type": "slide"
    }
   },
   "source": [
    "**Recycling** applies to data frames as well. Suppose we add the `\"City\"` data and make it `\"Istanbul\"` for all:"
   ]
  },
  {
   "cell_type": "code",
   "execution_count": 14,
   "metadata": {},
   "outputs": [
    {
     "data": {
      "text/plain": [
       "      Height Weight     City\n",
       "Can     1.70     65 Istanbul\n",
       "Cem     1.75     66 Istanbul\n",
       "Hande   1.62     61 Istanbul"
      ]
     },
     "execution_count": 14,
     "metadata": {},
     "output_type": "execute_result"
    }
   ],
   "source": [
    "data.frame(Height=heights, Weight=weights, City=\"Istanbul\")"
   ]
  },
  {
   "cell_type": "markdown",
   "metadata": {},
   "source": [
    "Here, the element `\"Istanbul\"` is repeated until it matches the length of other vectors."
   ]
  },
  {
   "cell_type": "markdown",
   "metadata": {
    "slideshow": {
     "slide_type": "slide"
    }
   },
   "source": [
    "The functions `rownames()` and `colnames()` can be used to change labels of rows and columns."
   ]
  },
  {
   "cell_type": "code",
   "execution_count": 15,
   "metadata": {},
   "outputs": [
    {
     "data": {
      "text/plain": [
       "  c.1.7..1.75..1.62. c.65..66..61.\n",
       "1               1.70            65\n",
       "2               1.75            66\n",
       "3               1.62            61"
      ]
     },
     "execution_count": 15,
     "metadata": {},
     "output_type": "execute_result"
    }
   ],
   "source": [
    "tempdf <- data.frame(c(1.70, 1.75,1.62),c(65, 66, 61))\n",
    "tempdf"
   ]
  },
  {
   "cell_type": "code",
   "execution_count": 16,
   "metadata": {},
   "outputs": [
    {
     "data": {
      "text/plain": [
       "      Height Weight\n",
       "Can     1.70     65\n",
       "Cem     1.75     66\n",
       "Hande   1.62     61"
      ]
     },
     "execution_count": 16,
     "metadata": {},
     "output_type": "execute_result"
    }
   ],
   "source": [
    "rownames(tempdf) <- c(\"Can\",\"Cem\",\"Hande\")\n",
    "colnames(tempdf) <- c(\"Height\",\"Weight\")\n",
    "tempdf"
   ]
  },
  {
   "cell_type": "markdown",
   "metadata": {
    "slideshow": {
     "slide_type": "slide"
    }
   },
   "source": [
    "Accessing columns of data frames\n",
    "===="
   ]
  },
  {
   "cell_type": "markdown",
   "metadata": {},
   "source": [
    "A data frame is a **list of columns**; so we can access a column using the list notation we've seen before."
   ]
  },
  {
   "cell_type": "code",
   "execution_count": 17,
   "metadata": {},
   "outputs": [
    {
     "data": {
      "text/plain": [
       "      Height Weight Member     City\n",
       "Can     1.70     65   TRUE   Ankara\n",
       "Cem     1.75     66  FALSE Istanbul\n",
       "Hande   1.62     61   TRUE    Izmir"
      ]
     },
     "execution_count": 17,
     "metadata": {},
     "output_type": "execute_result"
    }
   ],
   "source": [
    "people"
   ]
  },
  {
   "cell_type": "code",
   "execution_count": 18,
   "metadata": {},
   "outputs": [
    {
     "data": {
      "text/plain": [
       "[1] 1.70 1.75 1.62"
      ]
     },
     "execution_count": 18,
     "metadata": {},
     "output_type": "execute_result"
    },
    {
     "data": {
      "text/plain": [
       "[1] 65 66 61"
      ]
     },
     "execution_count": 18,
     "metadata": {},
     "output_type": "execute_result"
    },
    {
     "data": {
      "text/plain": [
       "[1] \"Ankara\"   \"Istanbul\" \"Izmir\"   "
      ]
     },
     "execution_count": 18,
     "metadata": {},
     "output_type": "execute_result"
    }
   ],
   "source": [
    "people[[1]]  # indexing with component number\n",
    "people$Weight  # component name\n",
    "people[[\"City\"]]"
   ]
  },
  {
   "cell_type": "markdown",
   "metadata": {
    "slideshow": {
     "slide_type": "slide"
    }
   },
   "source": [
    "# Accessing elements via matrix-like indexing\n",
    "A data frame can be indexed as if it is a matrix, using the `[row, col]` notation."
   ]
  },
  {
   "cell_type": "code",
   "execution_count": 20,
   "metadata": {},
   "outputs": [
    {
     "data": {
      "text/plain": [
       "      Height Weight Member     City\n",
       "Can     1.70     65   TRUE   Ankara\n",
       "Cem     1.75     66  FALSE Istanbul\n",
       "Hande   1.62     61   TRUE    Izmir"
      ]
     },
     "execution_count": 20,
     "metadata": {},
     "output_type": "execute_result"
    }
   ],
   "source": [
    "people"
   ]
  },
  {
   "cell_type": "code",
   "execution_count": 21,
   "metadata": {},
   "outputs": [
    {
     "data": {
      "text/plain": [
       "[1] 1.70 1.75 1.62"
      ]
     },
     "execution_count": 21,
     "metadata": {},
     "output_type": "execute_result"
    },
    {
     "data": {
      "text/plain": [
       "[1] 1.75"
      ]
     },
     "execution_count": 21,
     "metadata": {},
     "output_type": "execute_result"
    },
    {
     "data": {
      "text/plain": [
       "[1] 1.75"
      ]
     },
     "execution_count": 21,
     "metadata": {},
     "output_type": "execute_result"
    }
   ],
   "source": [
    "people[,1]  # column 1\n",
    "people[2,1] # row 2, column 1\n",
    "people[\"Cem\",\"Height\"]"
   ]
  },
  {
   "cell_type": "markdown",
   "metadata": {
    "slideshow": {
     "slide_type": "slide"
    }
   },
   "source": [
    "# Selecting rows using indices"
   ]
  },
  {
   "cell_type": "markdown",
   "metadata": {},
   "source": [
    "We can specify a vector of indices to select rows."
   ]
  },
  {
   "cell_type": "code",
   "execution_count": 23,
   "metadata": {},
   "outputs": [
    {
     "data": {
      "text/plain": [
       "      Height Weight Member     City\n",
       "Can     1.70     65   TRUE   Ankara\n",
       "Cem     1.75     66  FALSE Istanbul\n",
       "Hande   1.62     61   TRUE    Izmir"
      ]
     },
     "execution_count": 23,
     "metadata": {},
     "output_type": "execute_result"
    }
   ],
   "source": [
    "people"
   ]
  },
  {
   "cell_type": "code",
   "execution_count": 24,
   "metadata": {},
   "outputs": [
    {
     "data": {
      "text/plain": [
       "      Height Weight Member   City\n",
       "Can     1.70     65   TRUE Ankara\n",
       "Hande   1.62     61   TRUE  Izmir"
      ]
     },
     "execution_count": 24,
     "metadata": {},
     "output_type": "execute_result"
    },
    {
     "data": {
      "text/plain": [
       "      Height Weight Member   City\n",
       "Can     1.70     65   TRUE Ankara\n",
       "Hande   1.62     61   TRUE  Izmir"
      ]
     },
     "execution_count": 24,
     "metadata": {},
     "output_type": "execute_result"
    }
   ],
   "source": [
    "people[c(1,3),]\n",
    "people[c(\"Can\",\"Hande\"),]"
   ]
  },
  {
   "cell_type": "markdown",
   "metadata": {
    "slideshow": {
     "slide_type": "slide"
    }
   },
   "source": [
    "A negative index, again, indicates a row that is to be omitted."
   ]
  },
  {
   "cell_type": "code",
   "execution_count": 25,
   "metadata": {},
   "outputs": [
    {
     "data": {
      "text/plain": [
       "      Height Weight Member   City\n",
       "Can     1.70     65   TRUE Ankara\n",
       "Hande   1.62     61   TRUE  Izmir"
      ]
     },
     "execution_count": 25,
     "metadata": {},
     "output_type": "execute_result"
    }
   ],
   "source": [
    "people[-2,]"
   ]
  },
  {
   "cell_type": "markdown",
   "metadata": {
    "slideshow": {
     "slide_type": "slide"
    }
   },
   "source": [
    "Selecting some columns\n",
    "===="
   ]
  },
  {
   "cell_type": "markdown",
   "metadata": {},
   "source": [
    "We can provide a list of column names or numeric indices to get a subframe."
   ]
  },
  {
   "cell_type": "code",
   "execution_count": 26,
   "metadata": {},
   "outputs": [
    {
     "data": {
      "text/plain": [
       "      Member     City\n",
       "Can     TRUE   Ankara\n",
       "Cem    FALSE Istanbul\n",
       "Hande   TRUE    Izmir"
      ]
     },
     "execution_count": 26,
     "metadata": {},
     "output_type": "execute_result"
    },
    {
     "data": {
      "text/plain": [
       "      Member     City\n",
       "Can     TRUE   Ankara\n",
       "Cem    FALSE Istanbul\n",
       "Hande   TRUE    Izmir"
      ]
     },
     "execution_count": 26,
     "metadata": {},
     "output_type": "execute_result"
    }
   ],
   "source": [
    "people[, c(\"Member\",\"City\")]\n",
    "people[, 3:4]"
   ]
  },
  {
   "cell_type": "markdown",
   "metadata": {
    "slideshow": {
     "slide_type": "slide"
    }
   },
   "source": [
    "A subset of rows and a subset of columns:"
   ]
  },
  {
   "cell_type": "code",
   "execution_count": 27,
   "metadata": {},
   "outputs": [
    {
     "data": {
      "text/plain": [
       "    Height Weight\n",
       "Can   1.70     65\n",
       "Cem   1.75     66"
      ]
     },
     "execution_count": 27,
     "metadata": {},
     "output_type": "execute_result"
    }
   ],
   "source": [
    "people[c(\"Can\",\"Cem\"), 1:2]"
   ]
  },
  {
   "cell_type": "markdown",
   "metadata": {
    "slideshow": {
     "slide_type": "slide"
    }
   },
   "source": [
    "Filtering data frames\n",
    "==\n",
    "The Boolean operators to select vector elements are applicable to data frames as well. "
   ]
  },
  {
   "cell_type": "code",
   "execution_count": 28,
   "metadata": {},
   "outputs": [
    {
     "data": {
      "text/plain": [
       "      Height Weight Member     City\n",
       "Can     1.70     65   TRUE   Ankara\n",
       "Cem     1.75     66  FALSE Istanbul\n",
       "Hande   1.62     61   TRUE    Izmir"
      ]
     },
     "execution_count": 28,
     "metadata": {},
     "output_type": "execute_result"
    }
   ],
   "source": [
    "people"
   ]
  },
  {
   "cell_type": "code",
   "execution_count": 29,
   "metadata": {},
   "outputs": [
    {
     "data": {
      "text/plain": [
       "[1]  TRUE  TRUE FALSE"
      ]
     },
     "execution_count": 29,
     "metadata": {},
     "output_type": "execute_result"
    }
   ],
   "source": [
    "people$Height >= 1.70"
   ]
  },
  {
   "cell_type": "code",
   "execution_count": 30,
   "metadata": {},
   "outputs": [
    {
     "data": {
      "text/plain": [
       "    Height Weight Member     City\n",
       "Can   1.70     65   TRUE   Ankara\n",
       "Cem   1.75     66  FALSE Istanbul"
      ]
     },
     "execution_count": 30,
     "metadata": {},
     "output_type": "execute_result"
    }
   ],
   "source": [
    "people[ people$Height>= 1.70, ]"
   ]
  },
  {
   "cell_type": "code",
   "execution_count": 31,
   "metadata": {
    "slideshow": {
     "slide_type": "slide"
    }
   },
   "outputs": [
    {
     "data": {
      "text/plain": [
       "      Height Weight Member   City\n",
       "Can     1.70     65   TRUE Ankara\n",
       "Hande   1.62     61   TRUE  Izmir"
      ]
     },
     "execution_count": 31,
     "metadata": {},
     "output_type": "execute_result"
    }
   ],
   "source": [
    "people[ people$Member, ]"
   ]
  },
  {
   "cell_type": "code",
   "execution_count": 32,
   "metadata": {},
   "outputs": [
    {
     "data": {
      "text/plain": [
       "      Height   City\n",
       "Can     1.70 Ankara\n",
       "Hande   1.62  Izmir"
      ]
     },
     "execution_count": 32,
     "metadata": {},
     "output_type": "execute_result"
    }
   ],
   "source": [
    "people[ people$Member, c(\"Height\",\"City\")]"
   ]
  },
  {
   "cell_type": "markdown",
   "metadata": {
    "slideshow": {
     "slide_type": "slide"
    }
   },
   "source": [
    "Adding new rows\n",
    "===\n",
    "As with matrices, we can use `rbind()` to add a new row to an existing data frame. The new row is usually in the form of a list."
   ]
  },
  {
   "cell_type": "code",
   "execution_count": 33,
   "metadata": {},
   "outputs": [
    {
     "data": {
      "text/plain": [
       "      Height Weight Member     City\n",
       "Can     1.70     65   TRUE   Ankara\n",
       "Cem     1.75     66  FALSE Istanbul\n",
       "Hande   1.62     61   TRUE    Izmir"
      ]
     },
     "execution_count": 33,
     "metadata": {},
     "output_type": "execute_result"
    }
   ],
   "source": [
    "people"
   ]
  },
  {
   "cell_type": "code",
   "execution_count": 34,
   "metadata": {},
   "outputs": [
    {
     "data": {
      "text/plain": [
       "      Height Weight Member     City\n",
       "Can     1.70     65   TRUE   Ankara\n",
       "Cem     1.75     66  FALSE Istanbul\n",
       "Hande   1.62     61   TRUE    Izmir\n",
       "Lale    1.71     64  FALSE    Bursa"
      ]
     },
     "execution_count": 34,
     "metadata": {},
     "output_type": "execute_result"
    }
   ],
   "source": [
    "rbind(people, Lale=list(1.71, 64, FALSE, \"Bursa\"))"
   ]
  },
  {
   "cell_type": "markdown",
   "metadata": {
    "slideshow": {
     "slide_type": "slide"
    }
   },
   "source": [
    "# Concatenate two data frames"
   ]
  },
  {
   "cell_type": "code",
   "execution_count": 35,
   "metadata": {},
   "outputs": [
    {
     "data": {
      "text/plain": [
       "     Weight Member     City Height\n",
       "Lale     64  FALSE    Bursa   1.71\n",
       "Ziya     50   TRUE Istanbul   1.45"
      ]
     },
     "execution_count": 35,
     "metadata": {},
     "output_type": "execute_result"
    }
   ],
   "source": [
    "newpeople <- data.frame(\n",
    "    Weight=c(64, 50),\n",
    "    Member=c(F,T),\n",
    "    City=c(\"Bursa\",\"Istanbul\"),\n",
    "    Height=c(Lale=1.71, Ziya=1.45)\n",
    ")\n",
    "newpeople"
   ]
  },
  {
   "cell_type": "code",
   "execution_count": 36,
   "metadata": {},
   "outputs": [
    {
     "data": {
      "text/plain": [
       "      Height Weight Member     City\n",
       "Can     1.70     65   TRUE   Ankara\n",
       "Cem     1.75     66  FALSE Istanbul\n",
       "Hande   1.62     61   TRUE    Izmir\n",
       "Lale    1.71     64  FALSE    Bursa\n",
       "Ziya    1.45     50   TRUE Istanbul"
      ]
     },
     "execution_count": 36,
     "metadata": {},
     "output_type": "execute_result"
    }
   ],
   "source": [
    "rbind(people, newpeople)"
   ]
  },
  {
   "cell_type": "markdown",
   "metadata": {
    "slideshow": {
     "slide_type": "slide"
    }
   },
   "source": [
    "Adding new columns\n",
    "==="
   ]
  },
  {
   "cell_type": "markdown",
   "metadata": {},
   "source": [
    "Suppose we want to add a column for BMI, which we calculate using the existing columns. We can do this using `cbind()` as follows."
   ]
  },
  {
   "cell_type": "code",
   "execution_count": 37,
   "metadata": {},
   "outputs": [
    {
     "data": {
      "text/plain": [
       "      Height Weight Member     City people$Weight/people$Height^2\n",
       "Can     1.70     65   TRUE   Ankara                      22.49135\n",
       "Cem     1.75     66  FALSE Istanbul                      21.55102\n",
       "Hande   1.62     61   TRUE    Izmir                      23.24341"
      ]
     },
     "execution_count": 37,
     "metadata": {},
     "output_type": "execute_result"
    }
   ],
   "source": [
    "people_bmi <- cbind(people, people$Weight/people$Height^2)\n",
    "people_bmi"
   ]
  },
  {
   "cell_type": "markdown",
   "metadata": {
    "slideshow": {
     "slide_type": "slide"
    }
   },
   "source": [
    "Note that the name of the new column is automatically set. We can change this using the `names()` or `colnames()` functions."
   ]
  },
  {
   "cell_type": "code",
   "execution_count": 38,
   "metadata": {},
   "outputs": [
    {
     "data": {
      "text/plain": [
       "      Height Weight Member     City      BMI\n",
       "Can     1.70     65   TRUE   Ankara 22.49135\n",
       "Cem     1.75     66  FALSE Istanbul 21.55102\n",
       "Hande   1.62     61   TRUE    Izmir 23.24341"
      ]
     },
     "execution_count": 38,
     "metadata": {},
     "output_type": "execute_result"
    }
   ],
   "source": [
    "names(people_bmi)[5] <- \"BMI\"\n",
    "people_bmi"
   ]
  },
  {
   "cell_type": "markdown",
   "metadata": {},
   "source": [
    "A more direct way:"
   ]
  },
  {
   "cell_type": "code",
   "execution_count": 39,
   "metadata": {},
   "outputs": [
    {
     "data": {
      "text/plain": [
       "      Height Weight Member     City\n",
       "Can     1.70     65   TRUE   Ankara\n",
       "Cem     1.75     66  FALSE Istanbul\n",
       "Hande   1.62     61   TRUE    Izmir"
      ]
     },
     "execution_count": 39,
     "metadata": {},
     "output_type": "execute_result"
    }
   ],
   "source": [
    "people2 <- people\n",
    "people2"
   ]
  },
  {
   "cell_type": "code",
   "execution_count": 40,
   "metadata": {},
   "outputs": [
    {
     "data": {
      "text/plain": [
       "      Height Weight Member     City      BMI\n",
       "Can     1.70     65   TRUE   Ankara 22.49135\n",
       "Cem     1.75     66  FALSE Istanbul 21.55102\n",
       "Hande   1.62     61   TRUE    Izmir 23.24341"
      ]
     },
     "execution_count": 40,
     "metadata": {},
     "output_type": "execute_result"
    }
   ],
   "source": [
    "people2$BMI <- people2$Weight/people2$Height^2\n",
    "people2"
   ]
  },
  {
   "cell_type": "markdown",
   "metadata": {
    "slideshow": {
     "slide_type": "slide"
    }
   },
   "source": [
    "We can create a new column as we please. For example, a column with a single `NA` value."
   ]
  },
  {
   "cell_type": "code",
   "execution_count": 43,
   "metadata": {},
   "outputs": [
    {
     "data": {
      "text/plain": [
       "      Height Weight Member     City      BMI obese\n",
       "Can     1.70     65   TRUE   Ankara 22.49135    NA\n",
       "Cem     1.75     66  FALSE Istanbul 21.55102    NA\n",
       "Hande   1.62     61   TRUE    Izmir 23.24341    NA"
      ]
     },
     "execution_count": 43,
     "metadata": {},
     "output_type": "execute_result"
    }
   ],
   "source": [
    "people2$obese <- NA\n",
    "people2"
   ]
  },
  {
   "cell_type": "code",
   "execution_count": 44,
   "metadata": {},
   "outputs": [
    {
     "data": {
      "text/plain": [
       "      Height Weight Member     City      BMI obese\n",
       "Can     1.70     65   TRUE   Ankara 22.49135 FALSE\n",
       "Cem     1.75     66  FALSE Istanbul 21.55102 FALSE\n",
       "Hande   1.62     61   TRUE    Izmir 23.24341 FALSE"
      ]
     },
     "execution_count": 44,
     "metadata": {},
     "output_type": "execute_result"
    }
   ],
   "source": [
    "people2$obese <- ifelse(people2$BMI>30, T, F)\n",
    "people2"
   ]
  },
  {
   "cell_type": "markdown",
   "metadata": {
    "slideshow": {
     "slide_type": "slide"
    }
   },
   "source": [
    "Remove a column by setting it to `NULL`."
   ]
  },
  {
   "cell_type": "code",
   "execution_count": 45,
   "metadata": {},
   "outputs": [
    {
     "data": {
      "text/plain": [
       "      Height Weight Member     City      BMI\n",
       "Can     1.70     65   TRUE   Ankara 22.49135\n",
       "Cem     1.75     66  FALSE Istanbul 21.55102\n",
       "Hande   1.62     61   TRUE    Izmir 23.24341"
      ]
     },
     "execution_count": 45,
     "metadata": {},
     "output_type": "execute_result"
    }
   ],
   "source": [
    "people2$obese <- NULL\n",
    "people2"
   ]
  },
  {
   "cell_type": "markdown",
   "metadata": {
    "slideshow": {
     "slide_type": "slide"
    }
   },
   "source": [
    "Merging data frames\n",
    "===\n",
    "The `merge(x,y)` function is used to create a new data frame from existing frames `x` and `y`, by combining them along a common column."
   ]
  },
  {
   "cell_type": "code",
   "execution_count": 46,
   "metadata": {},
   "outputs": [],
   "source": [
    "df1 <- data.frame(Name=c(\"Can\",\"Cem\",\"Hande\"), Phone=c(1234,4345,8492))\n",
    "df2 <- data.frame(Age=c(25,27,26), Name=c(\"Cem\",\"Hande\",\"Can\"))"
   ]
  },
  {
   "cell_type": "code",
   "execution_count": 47,
   "metadata": {
    "slideshow": {
     "slide_type": "slide"
    }
   },
   "outputs": [
    {
     "data": {
      "text/plain": [
       "   Name Phone\n",
       "1   Can  1234\n",
       "2   Cem  4345\n",
       "3 Hande  8492"
      ]
     },
     "execution_count": 47,
     "metadata": {},
     "output_type": "execute_result"
    },
    {
     "data": {
      "text/plain": [
       "  Age  Name\n",
       "1  25   Cem\n",
       "2  27 Hande\n",
       "3  26   Can"
      ]
     },
     "execution_count": 47,
     "metadata": {},
     "output_type": "execute_result"
    }
   ],
   "source": [
    "df1\n",
    "df2"
   ]
  },
  {
   "cell_type": "code",
   "execution_count": 48,
   "metadata": {
    "slideshow": {
     "slide_type": "slide"
    }
   },
   "outputs": [
    {
     "data": {
      "text/plain": [
       "   Name Phone Age\n",
       "1   Can  1234  26\n",
       "2   Cem  4345  25\n",
       "3 Hande  8492  27"
      ]
     },
     "execution_count": 48,
     "metadata": {},
     "output_type": "execute_result"
    }
   ],
   "source": [
    "merge(df1,df2)"
   ]
  },
  {
   "cell_type": "markdown",
   "metadata": {
    "slideshow": {
     "slide_type": "slide"
    }
   },
   "source": [
    "* The `merge()` function automatically detects that the `Name` column is common in both, and merges the data on it. \n",
    "* The order of names are different in the two frames, which is accounted for."
   ]
  },
  {
   "cell_type": "markdown",
   "metadata": {
    "slideshow": {
     "slide_type": "slide"
    }
   },
   "source": [
    "The columns we want to merge over may have different names in the two frames. In that case we use the `by.x` and `by.y` arguments to `merge()`."
   ]
  },
  {
   "cell_type": "code",
   "execution_count": 49,
   "metadata": {},
   "outputs": [
    {
     "data": {
      "text/plain": [
       "   Name Phone\n",
       "1   Can  1234\n",
       "2   Cem  4345\n",
       "3 Hande  8492"
      ]
     },
     "execution_count": 49,
     "metadata": {},
     "output_type": "execute_result"
    },
    {
     "data": {
      "text/plain": [
       "  Age first_name\n",
       "1  25        Cem\n",
       "2  27      Hande\n",
       "3  26        Can"
      ]
     },
     "execution_count": 49,
     "metadata": {},
     "output_type": "execute_result"
    }
   ],
   "source": [
    "df2 <- data.frame(Age=c(25,27,26), first_name=c(\"Cem\",\"Hande\",\"Can\"))\n",
    "df1\n",
    "df2"
   ]
  },
  {
   "cell_type": "code",
   "execution_count": 50,
   "metadata": {},
   "outputs": [
    {
     "data": {
      "text/plain": [
       "   Name Phone Age\n",
       "1   Can  1234  26\n",
       "2   Cem  4345  25\n",
       "3 Hande  8492  27"
      ]
     },
     "execution_count": 50,
     "metadata": {},
     "output_type": "execute_result"
    }
   ],
   "source": [
    "merge(df1, df2, by.x=\"Name\", by.y=\"first_name\")"
   ]
  },
  {
   "cell_type": "markdown",
   "metadata": {
    "slideshow": {
     "slide_type": "slide"
    }
   },
   "source": [
    "Suppose we want to merge on row names."
   ]
  },
  {
   "cell_type": "code",
   "execution_count": 51,
   "metadata": {},
   "outputs": [
    {
     "data": {
      "text/plain": [
       "      Height Weight Member     City\n",
       "Can     1.70     65   TRUE   Ankara\n",
       "Cem     1.75     66  FALSE Istanbul\n",
       "Hande   1.62     61   TRUE    Izmir"
      ]
     },
     "execution_count": 51,
     "metadata": {},
     "output_type": "execute_result"
    }
   ],
   "source": [
    "people"
   ]
  },
  {
   "cell_type": "code",
   "execution_count": 52,
   "metadata": {},
   "outputs": [
    {
     "data": {
      "text/plain": [
       "     phone\n",
       "Can   1234\n",
       "Cem   4345\n",
       "Lale  8492"
      ]
     },
     "execution_count": 52,
     "metadata": {},
     "output_type": "execute_result"
    }
   ],
   "source": [
    "phonebook <- data.frame(phone=c(Can=1234, Cem=4345, Lale=8492))\n",
    "phonebook"
   ]
  },
  {
   "cell_type": "markdown",
   "metadata": {},
   "source": [
    "Note that `phonebook` does not contain Hande, and `people` does not contain Lale."
   ]
  },
  {
   "cell_type": "markdown",
   "metadata": {
    "slideshow": {
     "slide_type": "slide"
    }
   },
   "source": [
    "To merge by row names, specify`\"row.names\"` for the `by.x` and `by.y` parameters. "
   ]
  },
  {
   "cell_type": "code",
   "execution_count": 53,
   "metadata": {},
   "outputs": [
    {
     "data": {
      "text/plain": [
       "  Row.names Height Weight Member     City phone\n",
       "1       Can   1.70     65   TRUE   Ankara  1234\n",
       "2       Cem   1.75     66  FALSE Istanbul  4345"
      ]
     },
     "execution_count": 53,
     "metadata": {},
     "output_type": "execute_result"
    }
   ],
   "source": [
    "merge(people, phonebook, by.x=\"row.names\", by.y=\"row.names\")"
   ]
  },
  {
   "cell_type": "markdown",
   "metadata": {
    "slideshow": {
     "slide_type": "slide"
    }
   },
   "source": [
    "# Inner and outer joins\n",
    "\n",
    "* The merged dataframe does not include Hande or Lale, because they are missing in one or the other data frame.\n",
    "* This is called an **inner join** operation.\n",
    "* To get all the rows, with some data missing, set `all=TRUE` (**outer join** operation)."
   ]
  },
  {
   "cell_type": "code",
   "execution_count": 54,
   "metadata": {},
   "outputs": [
    {
     "data": {
      "text/plain": [
       "  Row.names Height Weight Member     City phone\n",
       "1       Can   1.70     65   TRUE   Ankara  1234\n",
       "2       Cem   1.75     66  FALSE Istanbul  4345\n",
       "3     Hande   1.62     61   TRUE    Izmir    NA\n",
       "4      Lale     NA     NA     NA     <NA>  8492"
      ]
     },
     "execution_count": 54,
     "metadata": {},
     "output_type": "execute_result"
    }
   ],
   "source": [
    "merged_df <- merge(people,phonebook,by.x=\"row.names\", by.y=\"row.names\", all=TRUE)\n",
    "merged_df"
   ]
  },
  {
   "cell_type": "markdown",
   "metadata": {
    "slideshow": {
     "slide_type": "slide"
    }
   },
   "source": [
    "To set the people names as row names, assign them using `rownames()` function, and remove the `\"Row.names\"` column afterwards."
   ]
  },
  {
   "cell_type": "code",
   "execution_count": 55,
   "metadata": {},
   "outputs": [
    {
     "data": {
      "text/plain": [
       "      Row.names Height Weight Member     City phone\n",
       "Can         Can   1.70     65   TRUE   Ankara  1234\n",
       "Cem         Cem   1.75     66  FALSE Istanbul  4345\n",
       "Hande     Hande   1.62     61   TRUE    Izmir    NA\n",
       "Lale       Lale     NA     NA     NA     <NA>  8492"
      ]
     },
     "execution_count": 55,
     "metadata": {},
     "output_type": "execute_result"
    }
   ],
   "source": [
    "rownames(merged_df) <- merged_df$Row.names\n",
    "merged_df"
   ]
  },
  {
   "cell_type": "code",
   "execution_count": 56,
   "metadata": {},
   "outputs": [
    {
     "data": {
      "text/plain": [
       "      Height Weight Member     City phone\n",
       "Can     1.70     65   TRUE   Ankara  1234\n",
       "Cem     1.75     66  FALSE Istanbul  4345\n",
       "Hande   1.62     61   TRUE    Izmir    NA\n",
       "Lale      NA     NA     NA     <NA>  8492"
      ]
     },
     "execution_count": 56,
     "metadata": {},
     "output_type": "execute_result"
    }
   ],
   "source": [
    "merged_df$Row.names <- NULL\n",
    "merged_df"
   ]
  },
  {
   "cell_type": "markdown",
   "metadata": {
    "slideshow": {
     "slide_type": "slide"
    }
   },
   "source": [
    "Applications\n",
    "==="
   ]
  },
  {
   "cell_type": "markdown",
   "metadata": {
    "slideshow": {
     "slide_type": "slide"
    }
   },
   "source": [
    "# Analyze the grades in a class"
   ]
  },
  {
   "cell_type": "code",
   "execution_count": 57,
   "metadata": {},
   "outputs": [
    {
     "data": {
      "text/plain": [
       "  student midterm1 midterm2 final\n",
       "1     Can       45       68    59\n",
       "2     Cem       74       83    91\n",
       "3   Hande       67       56    62\n",
       "4    Lale       52       22    49\n",
       "5    Ziya       31       50    65"
      ]
     },
     "execution_count": 57,
     "metadata": {},
     "output_type": "execute_result"
    }
   ],
   "source": [
    "grades <- data.frame(\n",
    "    student = c(\"Can\",\"Cem\",\"Hande\",\"Lale\",\"Ziya\"),\n",
    "    midterm1 = c(45, 74, 67, 52, 31),\n",
    "    midterm2 = c(68, 83, 56, 22, 50),\n",
    "    final = c(59, 91, 62, 49, 65))\n",
    "grades"
   ]
  },
  {
   "cell_type": "markdown",
   "metadata": {
    "slideshow": {
     "slide_type": "slide"
    }
   },
   "source": [
    "Get weighted average"
   ]
  },
  {
   "cell_type": "code",
   "execution_count": 58,
   "metadata": {
    "slideshow": {
     "slide_type": "-"
    }
   },
   "outputs": [
    {
     "data": {
      "text/plain": [
       "  student midterm1 midterm2 final score\n",
       "1     Can       45       68    59  57.5\n",
       "2     Cem       74       83    91  83.5\n",
       "3   Hande       67       56    62  61.7\n",
       "4    Lale       52       22    49  41.8\n",
       "5    Ziya       31       50    65  50.3"
      ]
     },
     "execution_count": 58,
     "metadata": {},
     "output_type": "execute_result"
    }
   ],
   "source": [
    "grades$score <- grades$midterm1*0.3 + grades$midterm2*0.3 + grades$final*0.4\n",
    "grades"
   ]
  },
  {
   "cell_type": "markdown",
   "metadata": {
    "slideshow": {
     "slide_type": "slide"
    }
   },
   "source": [
    "Get averages of columns"
   ]
  },
  {
   "cell_type": "code",
   "execution_count": 64,
   "metadata": {},
   "outputs": [
    {
     "data": {
      "text/plain": [
       "  midterm1 midterm2 final score\n",
       "1       45       68    59  57.5\n",
       "2       74       83    91  83.5\n",
       "3       67       56    62  61.7\n",
       "4       52       22    49  41.8\n",
       "5       31       50    65  50.3"
      ]
     },
     "execution_count": 64,
     "metadata": {},
     "output_type": "execute_result"
    }
   ],
   "source": [
    "grades[-1]"
   ]
  },
  {
   "cell_type": "code",
   "execution_count": 68,
   "metadata": {},
   "outputs": [
    {
     "data": {
      "text/plain": [
       "midterm1 midterm2    final    score \n",
       "   53.80    55.80    65.20    58.96 "
      ]
     },
     "execution_count": 68,
     "metadata": {},
     "output_type": "execute_result"
    }
   ],
   "source": [
    "apply(grades[-1],2,mean)"
   ]
  },
  {
   "cell_type": "code",
   "execution_count": 66,
   "metadata": {},
   "outputs": [
    {
     "data": {
      "text/plain": [
       "midterm1 midterm2    final    score \n",
       "   53.80    55.80    65.20    58.96 "
      ]
     },
     "execution_count": 66,
     "metadata": {},
     "output_type": "execute_result"
    }
   ],
   "source": [
    "sapply(grades[-1],mean)"
   ]
  },
  {
   "cell_type": "code",
   "execution_count": 69,
   "metadata": {},
   "outputs": [
    {
     "data": {
      "text/plain": [
       "$midterm1\n",
       "[1] 53.8\n",
       "\n",
       "$midterm2\n",
       "[1] 55.8\n",
       "\n",
       "$final\n",
       "[1] 65.2\n",
       "\n",
       "$score\n",
       "[1] 58.96\n"
      ]
     },
     "execution_count": 69,
     "metadata": {},
     "output_type": "execute_result"
    }
   ],
   "source": [
    "lapply(grades[-1],mean)"
   ]
  },
  {
   "cell_type": "markdown",
   "metadata": {
    "slideshow": {
     "slide_type": "slide"
    }
   },
   "source": [
    "Assign letter grades"
   ]
  },
  {
   "cell_type": "code",
   "execution_count": 71,
   "metadata": {},
   "outputs": [],
   "source": [
    "lettergrade <- function(score){\n",
    "    if (score > 80) \"A\" else if (score > 70) \"B\" else if (score>60) \"C\" else if (score>50) \"D\" else \"F\"\n",
    "}"
   ]
  },
  {
   "cell_type": "code",
   "execution_count": 72,
   "metadata": {},
   "outputs": [
    {
     "data": {
      "text/plain": [
       "[1] 57.5 83.5 61.7 41.8 50.3"
      ]
     },
     "execution_count": 72,
     "metadata": {},
     "output_type": "execute_result"
    },
    {
     "data": {
      "text/plain": [
       "[1] \"D\" \"A\" \"C\" \"F\" \"D\""
      ]
     },
     "execution_count": 72,
     "metadata": {},
     "output_type": "execute_result"
    }
   ],
   "source": [
    "grades$score\n",
    "sapply(grades$score,lettergrade)"
   ]
  },
  {
   "cell_type": "code",
   "execution_count": 73,
   "metadata": {},
   "outputs": [
    {
     "data": {
      "text/plain": [
       "  student midterm1 midterm2 final score letter\n",
       "1     Can       45       68    59  57.5      D\n",
       "2     Cem       74       83    91  83.5      A\n",
       "3   Hande       67       56    62  61.7      C\n",
       "4    Lale       52       22    49  41.8      F\n",
       "5    Ziya       31       50    65  50.3      D"
      ]
     },
     "execution_count": 73,
     "metadata": {},
     "output_type": "execute_result"
    }
   ],
   "source": [
    "grades$letter <- sapply(grades$score, lettergrade)\n",
    "grades"
   ]
  },
  {
   "cell_type": "markdown",
   "metadata": {
    "slideshow": {
     "slide_type": "slide"
    }
   },
   "source": [
    "# Grading multiple-choice exams\n",
    "Our students have taken a multiple-choice exam. All their answers, as well as the answer key, are recorded as vectors."
   ]
  },
  {
   "cell_type": "code",
   "execution_count": 75,
   "metadata": {},
   "outputs": [],
   "source": [
    "key <- c(\"A\",\"B\",\"C\",\"D\",\"A\")\n",
    "answers <- rbind(\n",
    "    c(\"A\", \"B\", \"D\", \"A\", \"B\"),\n",
    "    c(\"A\", \"D\", \"C\", \"D\", \"A\"),\n",
    "    c(\"B\", \"B\", \"C\", \"D\", \"B\"),\n",
    "    c(\"A\", \"B\", \"C\", \"D\", \"D\"),\n",
    "    c(\"C\", \"C\", \"C\", \"D\", \"A\")\n",
    ")"
   ]
  },
  {
   "cell_type": "markdown",
   "metadata": {
    "slideshow": {
     "slide_type": "slide"
    }
   },
   "source": [
    "We initialize a separate data frame with the student information:"
   ]
  },
  {
   "cell_type": "code",
   "execution_count": 76,
   "metadata": {},
   "outputs": [
    {
     "data": {
      "text/plain": [
       "      X1 X2 X3 X4 X5\n",
       "Can    A  B  D  A  B\n",
       "Cem    A  D  C  D  A\n",
       "Hande  B  B  C  D  B\n",
       "Lale   A  B  C  D  D\n",
       "Ziya   C  C  C  D  A"
      ]
     },
     "execution_count": 76,
     "metadata": {},
     "output_type": "execute_result"
    }
   ],
   "source": [
    "exam <- data.frame(answers,row.names = c(\"Can\",\"Cem\",\"Hande\",\"Lale\",\"Ziya\"))\n",
    "exam"
   ]
  },
  {
   "cell_type": "markdown",
   "metadata": {
    "slideshow": {
     "slide_type": "slide"
    }
   },
   "source": [
    "Now we can process this data frame to get the number of correct answers for each student. For that, we can use the `sum(x==y)` operation, which gives us the number of equal elements."
   ]
  },
  {
   "cell_type": "code",
   "execution_count": 77,
   "metadata": {},
   "outputs": [
    {
     "data": {
      "text/plain": [
       "[1] \"A\" \"B\" \"C\" \"D\" \"A\""
      ]
     },
     "execution_count": 77,
     "metadata": {},
     "output_type": "execute_result"
    },
    {
     "data": {
      "text/plain": [
       "    X1 X2 X3 X4 X5\n",
       "Can  A  B  D  A  B"
      ]
     },
     "execution_count": 77,
     "metadata": {},
     "output_type": "execute_result"
    },
    {
     "data": {
      "text/plain": [
       "      X1   X2    X3    X4    X5\n",
       "Can TRUE TRUE FALSE FALSE FALSE"
      ]
     },
     "execution_count": 77,
     "metadata": {},
     "output_type": "execute_result"
    },
    {
     "data": {
      "text/plain": [
       "[1] 2"
      ]
     },
     "execution_count": 77,
     "metadata": {},
     "output_type": "execute_result"
    }
   ],
   "source": [
    "key\n",
    "exam[1,]\n",
    "exam[1,]==key\n",
    "sum(exam[1,]==key)"
   ]
  },
  {
   "cell_type": "markdown",
   "metadata": {
    "slideshow": {
     "slide_type": "slide"
    }
   },
   "source": [
    "To repeat this for each row, we create a function that returns the number of matching answers."
   ]
  },
  {
   "cell_type": "code",
   "execution_count": 78,
   "metadata": {},
   "outputs": [],
   "source": [
    "ncorrect <- function(x){\n",
    "    sum(x==key)\n",
    "}"
   ]
  },
  {
   "cell_type": "code",
   "execution_count": 79,
   "metadata": {},
   "outputs": [
    {
     "data": {
      "text/plain": [
       "[1] 2"
      ]
     },
     "execution_count": 79,
     "metadata": {},
     "output_type": "execute_result"
    }
   ],
   "source": [
    "ncorrect(exam[1,])"
   ]
  },
  {
   "cell_type": "markdown",
   "metadata": {},
   "source": [
    "And we use `apply()` to apply it to every row."
   ]
  },
  {
   "cell_type": "code",
   "execution_count": 80,
   "metadata": {},
   "outputs": [
    {
     "data": {
      "text/plain": [
       "  Can   Cem Hande  Lale  Ziya \n",
       "    2     4     3     4     3 "
      ]
     },
     "execution_count": 80,
     "metadata": {},
     "output_type": "execute_result"
    }
   ],
   "source": [
    "apply(exam,1,ncorrect)"
   ]
  },
  {
   "cell_type": "markdown",
   "metadata": {
    "slideshow": {
     "slide_type": "slide"
    }
   },
   "source": [
    "We can store this result by creating a new column in the data frame."
   ]
  },
  {
   "cell_type": "code",
   "execution_count": 81,
   "metadata": {},
   "outputs": [
    {
     "data": {
      "text/plain": [
       "      X1 X2 X3 X4 X5 correct\n",
       "Can    A  B  D  A  B       2\n",
       "Cem    A  D  C  D  A       4\n",
       "Hande  B  B  C  D  B       3\n",
       "Lale   A  B  C  D  D       4\n",
       "Ziya   C  C  C  D  A       3"
      ]
     },
     "execution_count": 81,
     "metadata": {},
     "output_type": "execute_result"
    }
   ],
   "source": [
    "exam$correct <- apply(exam,1,ncorrect)\n",
    "exam"
   ]
  },
  {
   "cell_type": "markdown",
   "metadata": {
    "slideshow": {
     "slide_type": "slide"
    }
   },
   "source": [
    "# Item database\n",
    "Suppose you run a retail store and you keep a data base of your items, their unit price, and the VAT rate for each item, such as the following."
   ]
  },
  {
   "cell_type": "code",
   "execution_count": 82,
   "metadata": {},
   "outputs": [
    {
     "data": {
      "text/plain": [
       "            vat unitprice\n",
       "Milk       0.05        10\n",
       "Meat       0.04        20\n",
       "Toothpaste 0.05         5\n",
       "Pencil     0.06         1\n",
       "Detergent  0.03         4"
      ]
     },
     "execution_count": 82,
     "metadata": {},
     "output_type": "execute_result"
    }
   ],
   "source": [
    "items <- data.frame(\n",
    "    row.names = c(\"Milk\",\"Meat\",\"Toothpaste\",\"Pencil\",\"Detergent\"),\n",
    "    vat = c(0.05, 0.04, 0.05, 0.06, 0.03),\n",
    "    unitprice = c(10, 20, 5, 1, 4)\n",
    ")\n",
    "items"
   ]
  },
  {
   "cell_type": "markdown",
   "metadata": {
    "slideshow": {
     "slide_type": "slide"
    }
   },
   "source": [
    "You get some orders for some items, which your automated system stores with an order ID:"
   ]
  },
  {
   "cell_type": "code",
   "execution_count": 83,
   "metadata": {},
   "outputs": [
    {
     "data": {
      "text/plain": [
       "           item amount\n",
       "1234       Milk      3\n",
       "5761       Meat      1\n",
       "1832 Toothpaste      2"
      ]
     },
     "execution_count": 83,
     "metadata": {},
     "output_type": "execute_result"
    }
   ],
   "source": [
    "orders <- data.frame(\n",
    "    row.names = c(\"1234\",\"5761\",\"1832\"),\n",
    "    item = c(\"Milk\",\"Meat\",\"Toothpaste\"),\n",
    "    amount = c(3,1,2))\n",
    "orders"
   ]
  },
  {
   "cell_type": "markdown",
   "metadata": {},
   "source": [
    "Our task is to add a new column to the `orders` data frame that holds the total payment for each order, including the VAT.\n",
    "\n",
    "      item       amount vat  unitprice total\n",
    "    1 Meat       1      0.04 20        20.8 \n",
    "    2 Milk       3      0.05 10        31.5 \n",
    "    3 Toothpaste 2      0.05  5        10.5"
   ]
  },
  {
   "cell_type": "markdown",
   "metadata": {
    "slideshow": {
     "slide_type": "slide"
    }
   },
   "source": [
    "* Merge the orders and items with an inner join. \n",
    "* Store the result in a new data frame."
   ]
  },
  {
   "cell_type": "code",
   "execution_count": 84,
   "metadata": {},
   "outputs": [
    {
     "data": {
      "text/plain": [
       "        item amount  vat unitprice\n",
       "1       Meat      1 0.04        20\n",
       "2       Milk      3 0.05        10\n",
       "3 Toothpaste      2 0.05         5"
      ]
     },
     "execution_count": 84,
     "metadata": {},
     "output_type": "execute_result"
    }
   ],
   "source": [
    "orders2 <- merge(orders,items,by.x=\"item\",by.y=\"row.names\")\n",
    "orders2"
   ]
  },
  {
   "cell_type": "markdown",
   "metadata": {
    "slideshow": {
     "slide_type": "slide"
    }
   },
   "source": [
    "Now that we have the unit price and the VAT information on the same data frame, we can calculate the total to pay and store it in a new column."
   ]
  },
  {
   "cell_type": "code",
   "execution_count": 85,
   "metadata": {},
   "outputs": [
    {
     "data": {
      "text/plain": [
       "        item amount  vat unitprice total\n",
       "1       Meat      1 0.04        20  20.8\n",
       "2       Milk      3 0.05        10  31.5\n",
       "3 Toothpaste      2 0.05         5  10.5"
      ]
     },
     "execution_count": 85,
     "metadata": {},
     "output_type": "execute_result"
    }
   ],
   "source": [
    "orders2$total <- (orders2$amount*orders2$unitprice)*(1+orders2$vat)\n",
    "orders2"
   ]
  }
 ],
 "metadata": {
  "celltoolbar": "Slideshow",
  "kernelspec": {
   "display_name": "R",
   "language": "R",
   "name": "ir"
  },
  "language_info": {
   "codemirror_mode": "r",
   "file_extension": ".r",
   "mimetype": "text/x-r-source",
   "name": "R",
   "pygments_lexer": "r",
   "version": "3.2.2"
  },
  "toc": {
   "base_numbering": 1,
   "nav_menu": {},
   "number_sections": false,
   "sideBar": true,
   "skip_h1_title": false,
   "title_cell": "Table of Contents",
   "title_sidebar": "Contents",
   "toc_cell": false,
   "toc_position": {},
   "toc_section_display": "block",
   "toc_window_display": false
  }
 },
 "nbformat": 4,
 "nbformat_minor": 2
}
