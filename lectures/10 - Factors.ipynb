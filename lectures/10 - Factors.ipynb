{
 "cells": [
  {
   "cell_type": "code",
   "execution_count": 1,
   "metadata": {
    "slideshow": {
     "slide_type": "skip"
    }
   },
   "outputs": [],
   "source": [
    "options(jupyter.rich_display = FALSE)\n",
    "options(repr.plot.width=6, repr.plot.height=4)"
   ]
  },
  {
   "cell_type": "markdown",
   "metadata": {
    "slideshow": {
     "slide_type": "slide"
    }
   },
   "source": [
    "# Factors and categories"
   ]
  },
  {
   "cell_type": "markdown",
   "metadata": {
    "slideshow": {
     "slide_type": "slide"
    }
   },
   "source": [
    "Consider the following data table:\n",
    "\n",
    "|Name|Gender|Month of Birth|\n",
    "|----|----|-----|\n",
    "|Can|Male|January|\n",
    "|Cem|Male|July|\n",
    "|Hande|Female|May|\n",
    "|Mehmet|Male|May|\n",
    "|Deniz|Female|February|\n",
    "|Kemal|Male|July|\n",
    "|Derya|Female|May|\n",
    "|Fatma|Female|April|\n",
    "\n",
    "* All columns are strings.\n",
    "* `Gender` and `Month of Birth` columns can be considered **categories**."
   ]
  },
  {
   "cell_type": "markdown",
   "metadata": {
    "slideshow": {
     "slide_type": "slide"
    }
   },
   "source": [
    "# Categories and levels\n",
    "\n",
    "* A _categorical variable_ (factor) can take one of predetermined, discrete values.\n",
    "    * Day of week\n",
    "    * Month of year\n",
    "    * Shirt sizes\n",
    "* A single value of a categorical variable is called a _level_\n",
    "    * Monday\n",
    "    * December\n",
    "    * XL"
   ]
  },
  {
   "cell_type": "markdown",
   "metadata": {
    "slideshow": {
     "slide_type": "slide"
    }
   },
   "source": [
    "# Pause to think\n",
    "\n",
    "Find three quantities that cannot be represented as a factor variable."
   ]
  },
  {
   "cell_type": "markdown",
   "metadata": {},
   "source": [
    "1. ...\n",
    "2. ...\n",
    "3. ..."
   ]
  },
  {
   "cell_type": "markdown",
   "metadata": {
    "slideshow": {
     "slide_type": "slide"
    }
   },
   "source": [
    "Generate vectors to hold the relevant data."
   ]
  },
  {
   "cell_type": "code",
   "execution_count": 2,
   "metadata": {
    "slideshow": {
     "slide_type": "-"
    }
   },
   "outputs": [
    {
     "data": {
      "text/plain": [
       "[1] \"character\""
      ]
     },
     "execution_count": 2,
     "metadata": {},
     "output_type": "execute_result"
    }
   ],
   "source": [
    "name <- c(\"Can\",\"Cem\",\"Hande\",\"Mehmet\",\"Deniz\",\"Kemal\",\"Derya\",\"Fatma\")\n",
    "gender <- c(\"Male\",\"Male\",\"Female\",\"Male\",\"Female\",\"Male\",\"Female\",\"Female\")\n",
    "mode(gender)"
   ]
  },
  {
   "cell_type": "markdown",
   "metadata": {},
   "source": [
    "We can convert the `gender` vector to a factor variable using the `factor()` function."
   ]
  },
  {
   "cell_type": "code",
   "execution_count": 3,
   "metadata": {},
   "outputs": [
    {
     "data": {
      "text/plain": [
       "[1] Male   Male   Female Male   Female Male   Female Female\n",
       "Levels: Female Male"
      ]
     },
     "execution_count": 3,
     "metadata": {},
     "output_type": "execute_result"
    }
   ],
   "source": [
    "gender_fac <- factor(gender)\n",
    "gender_fac"
   ]
  },
  {
   "cell_type": "markdown",
   "metadata": {
    "slideshow": {
     "slide_type": "slide"
    }
   },
   "source": [
    "# Getting the levels of a factor\n",
    "\n",
    "The factor vector  has an additional attribute, the _levels_ information."
   ]
  },
  {
   "cell_type": "code",
   "execution_count": 4,
   "metadata": {},
   "outputs": [
    {
     "data": {
      "text/plain": [
       "[1] \"Female\" \"Male\"  "
      ]
     },
     "execution_count": 4,
     "metadata": {},
     "output_type": "execute_result"
    }
   ],
   "source": [
    "levels(gender_fac)"
   ]
  },
  {
   "cell_type": "code",
   "execution_count": 5,
   "metadata": {},
   "outputs": [
    {
     "data": {
      "text/plain": [
       "[1] 2"
      ]
     },
     "execution_count": 5,
     "metadata": {},
     "output_type": "execute_result"
    }
   ],
   "source": [
    "nlevels(gender_fac)"
   ]
  },
  {
   "cell_type": "markdown",
   "metadata": {
    "slideshow": {
     "slide_type": "slide"
    }
   },
   "source": [
    "Also, common R functions for analysis and data description handles factors in specialized ways."
   ]
  },
  {
   "cell_type": "code",
   "execution_count": 6,
   "metadata": {},
   "outputs": [
    {
     "data": {
      "text/plain": [
       "   Length     Class      Mode \n",
       "        8 character character "
      ]
     },
     "execution_count": 6,
     "metadata": {},
     "output_type": "execute_result"
    }
   ],
   "source": [
    "summary(gender)  # character vector"
   ]
  },
  {
   "cell_type": "code",
   "execution_count": 7,
   "metadata": {},
   "outputs": [
    {
     "data": {
      "text/plain": [
       "Female   Male \n",
       "     4      4 "
      ]
     },
     "execution_count": 7,
     "metadata": {},
     "output_type": "execute_result"
    }
   ],
   "source": [
    "summary(gender_fac) # factor"
   ]
  },
  {
   "cell_type": "markdown",
   "metadata": {},
   "source": [
    "One can change the level names easily using an assignment to the `levels()` function."
   ]
  },
  {
   "cell_type": "code",
   "execution_count": 8,
   "metadata": {},
   "outputs": [
    {
     "data": {
      "text/plain": [
       "[1] M M F M F M F F\n",
       "Levels: F M"
      ]
     },
     "execution_count": 8,
     "metadata": {},
     "output_type": "execute_result"
    }
   ],
   "source": [
    "levels(gender_fac) <- c(\"F\",\"M\")\n",
    "gender_fac"
   ]
  },
  {
   "cell_type": "markdown",
   "metadata": {},
   "source": [
    "Internally, categories are represented with integers starting at 1."
   ]
  },
  {
   "cell_type": "markdown",
   "metadata": {
    "slideshow": {
     "slide_type": "slide"
    }
   },
   "source": [
    "# Indexing and subsetting\n",
    "\n",
    "Factor-valued vectors are subsetted in the same way as any other vector."
   ]
  },
  {
   "cell_type": "code",
   "execution_count": 9,
   "metadata": {},
   "outputs": [
    {
     "name": "stdout",
     "output_type": "stream",
     "text": [
      "[1] M F M F\n",
      "Levels: F M\n"
     ]
    }
   ],
   "source": [
    "print(gender_fac[2:5])"
   ]
  },
  {
   "cell_type": "code",
   "execution_count": 10,
   "metadata": {},
   "outputs": [
    {
     "data": {
      "text/plain": [
       "[1] F F F F\n",
       "Levels: F M"
      ]
     },
     "execution_count": 10,
     "metadata": {},
     "output_type": "execute_result"
    }
   ],
   "source": [
    "gender_fac[c(3,5,7:8)]"
   ]
  },
  {
   "cell_type": "markdown",
   "metadata": {},
   "source": [
    "Note that after subsetting a factor object, the object continues to store\n",
    "all defined levels even if some of the levels are no longer represented in the\n",
    "subsetted object."
   ]
  },
  {
   "cell_type": "markdown",
   "metadata": {
    "slideshow": {
     "slide_type": "slide"
    }
   },
   "source": [
    "# Filtering with factors"
   ]
  },
  {
   "cell_type": "code",
   "execution_count": 11,
   "metadata": {},
   "outputs": [
    {
     "data": {
      "text/plain": [
       "[1] M M F M F M F F\n",
       "Levels: F M"
      ]
     },
     "execution_count": 11,
     "metadata": {},
     "output_type": "execute_result"
    }
   ],
   "source": [
    "gender_fac"
   ]
  },
  {
   "cell_type": "code",
   "execution_count": 12,
   "metadata": {},
   "outputs": [
    {
     "data": {
      "text/plain": [
       "[1]  TRUE  TRUE FALSE  TRUE FALSE  TRUE FALSE FALSE"
      ]
     },
     "execution_count": 12,
     "metadata": {},
     "output_type": "execute_result"
    }
   ],
   "source": [
    "gender_fac==\"M\""
   ]
  },
  {
   "cell_type": "code",
   "execution_count": 13,
   "metadata": {},
   "outputs": [
    {
     "data": {
      "text/plain": [
       "[1] \"Can\"    \"Cem\"    \"Mehmet\" \"Kemal\" "
      ]
     },
     "execution_count": 13,
     "metadata": {},
     "output_type": "execute_result"
    }
   ],
   "source": [
    "name[gender_fac==\"M\"]"
   ]
  },
  {
   "cell_type": "markdown",
   "metadata": {
    "slideshow": {
     "slide_type": "slide"
    }
   },
   "source": [
    "# Removing categories\n",
    "\n",
    "Sometimes we may want to remove one level in a category. For example, consider the following factor where the same level is duplicated."
   ]
  },
  {
   "cell_type": "code",
   "execution_count": 14,
   "metadata": {},
   "outputs": [
    {
     "data": {
      "text/plain": [
       "[1] Male   Male   Female Male   female Male   female Female\n",
       "Levels: female Female Male"
      ]
     },
     "execution_count": 14,
     "metadata": {},
     "output_type": "execute_result"
    }
   ],
   "source": [
    "gender_fac <- factor(c(\"Male\",\"Male\",\"Female\",\"Male\",\"female\",\"Male\",\"female\",\"Female\"))\n",
    "gender_fac"
   ]
  },
  {
   "cell_type": "markdown",
   "metadata": {
    "slideshow": {
     "slide_type": "-"
    }
   },
   "source": [
    "The factor has technically three levels, but actually `\"female\"` and `\"Female\"` are the same. Fix this by overwriting all occurrences of `\"female\"` with `\"Female\"`."
   ]
  },
  {
   "cell_type": "code",
   "execution_count": 15,
   "metadata": {
    "slideshow": {
     "slide_type": "slide"
    }
   },
   "outputs": [
    {
     "data": {
      "text/plain": [
       "[1] Male   Male   Female Male   Female Male   Female Female\n",
       "Levels: female Female Male"
      ]
     },
     "execution_count": 15,
     "metadata": {},
     "output_type": "execute_result"
    }
   ],
   "source": [
    "gender_fac[gender_fac==\"female\"] <- \"Female\"\n",
    "gender_fac"
   ]
  },
  {
   "cell_type": "markdown",
   "metadata": {},
   "source": [
    "However, the levels attribute still lists the invalid `\"female\"` category. To remove it, we use the `droplevels()` function. It removes all levels for which there are no entries."
   ]
  },
  {
   "cell_type": "code",
   "execution_count": 16,
   "metadata": {},
   "outputs": [
    {
     "data": {
      "text/plain": [
       "[1] Male   Male   Female Male   Female Male   Female Female\n",
       "Levels: Female Male"
      ]
     },
     "execution_count": 16,
     "metadata": {},
     "output_type": "execute_result"
    }
   ],
   "source": [
    "gender_fac <- droplevels(gender_fac)\n",
    "gender_fac"
   ]
  },
  {
   "cell_type": "markdown",
   "metadata": {
    "slideshow": {
     "slide_type": "slide"
    }
   },
   "source": [
    "# Nominal and ordinal factors\n",
    "* The _gender_ factor is an example of a *nominal factor*: There is no inherent order between levels. We cannot ask the question whether \"Male\" is greater than \"Female\" or not.\n",
    "\n",
    "* The _month of birth_ information is an *ordinal factor*: Months appear in a certain order, so it makes sense to say that \"January\" < \"February\"."
   ]
  },
  {
   "cell_type": "markdown",
   "metadata": {
    "slideshow": {
     "slide_type": "slide"
    }
   },
   "source": [
    "|Name|Gender|Month of Birth|\n",
    "|----|----|-----|\n",
    "|Can|Male|January|\n",
    "|Cem|Male|July|\n",
    "|Hande|Female|May|\n",
    "|Mehmet|Male|May|\n",
    "|Deniz|Female|February|\n",
    "|Kemal|Male|July|\n",
    "|Derya|Female|May|\n",
    "|Fatma|Female|April|\n",
    "\n",
    "Let’s store the observed month-of-birth (MOB) data as a character vector."
   ]
  },
  {
   "cell_type": "code",
   "execution_count": 17,
   "metadata": {
    "slideshow": {
     "slide_type": "slide"
    }
   },
   "outputs": [],
   "source": [
    "mob <- c(\"January\",\"July\",\"May\",\"May\",\"February\",\"July\",\"May\",\"April\")"
   ]
  },
  {
   "cell_type": "markdown",
   "metadata": {
    "slideshow": {
     "slide_type": "-"
    }
   },
   "source": [
    "Two problems with this vector:\n",
    "\n",
    "1. Only five unique months. Not all possible categories are represented.\n",
    "2. Doesn’t reflect the natural order of the months. If you compare January and February to see which is greater, you get:"
   ]
  },
  {
   "cell_type": "code",
   "execution_count": 18,
   "metadata": {},
   "outputs": [
    {
     "data": {
      "text/plain": [
       "[1] FALSE"
      ]
     },
     "execution_count": 18,
     "metadata": {},
     "output_type": "execute_result"
    }
   ],
   "source": [
    "mob[1] < mob[5]  # alphabetical ordering"
   ]
  },
  {
   "cell_type": "markdown",
   "metadata": {
    "slideshow": {
     "slide_type": "slide"
    }
   },
   "source": [
    "When we create a factor object, we can set `levels` parameter of the `factor()` function to ensure that it holds all the levels of the factor in the correct order."
   ]
  },
  {
   "cell_type": "code",
   "execution_count": 19,
   "metadata": {},
   "outputs": [],
   "source": [
    "months <- c(\"January\",\"February\",\"March\",\"April\",\"May\",\n",
    "            \"June\",\"July\",\"August\",\"September\",\"October\",\"November\",\"December\")"
   ]
  },
  {
   "cell_type": "code",
   "execution_count": 20,
   "metadata": {},
   "outputs": [
    {
     "data": {
      "text/plain": [
       "[1] January  July     May      May      February July     May      April   \n",
       "12 Levels: January < February < March < April < May < June < ... < December"
      ]
     },
     "execution_count": 20,
     "metadata": {},
     "output_type": "execute_result"
    }
   ],
   "source": [
    "mob_fac <- factor(mob, levels=months, ordered=TRUE)\n",
    "mob_fac"
   ]
  },
  {
   "cell_type": "markdown",
   "metadata": {
    "slideshow": {
     "slide_type": "slide"
    }
   },
   "source": [
    "Comparisons can be done correctly:"
   ]
  },
  {
   "cell_type": "code",
   "execution_count": 21,
   "metadata": {},
   "outputs": [
    {
     "data": {
      "text/plain": [
       "[1] TRUE"
      ]
     },
     "execution_count": 21,
     "metadata": {},
     "output_type": "execute_result"
    }
   ],
   "source": [
    "mob_fac[1] < mob_fac[5]  # January < February"
   ]
  },
  {
   "cell_type": "markdown",
   "metadata": {
    "slideshow": {
     "slide_type": "slide"
    }
   },
   "source": [
    "The `summary()` function gives a count of elements in each category."
   ]
  },
  {
   "cell_type": "code",
   "execution_count": 22,
   "metadata": {},
   "outputs": [
    {
     "data": {
      "text/plain": [
       "  January  February     March     April       May      June      July    August \n",
       "        1         1         0         1         3         0         2         0 \n",
       "September   October  November  December \n",
       "        0         0         0         0 "
      ]
     },
     "execution_count": 22,
     "metadata": {},
     "output_type": "execute_result"
    }
   ],
   "source": [
    "summary(mob_fac)"
   ]
  },
  {
   "cell_type": "markdown",
   "metadata": {
    "slideshow": {
     "slide_type": "slide"
    }
   },
   "source": [
    "# Combining two factor objects\n",
    "\n",
    "Earlier we have seen that combining two vectors into a single vector is done with the `c()` function:"
   ]
  },
  {
   "cell_type": "code",
   "execution_count": 23,
   "metadata": {},
   "outputs": [
    {
     "data": {
      "text/plain": [
       "[1] 1 2 3 4 7 8 9"
      ]
     },
     "execution_count": 23,
     "metadata": {},
     "output_type": "execute_result"
    }
   ],
   "source": [
    "x1 <- c(1,2,3,4)\n",
    "x2 <- c(7,8,9)\n",
    "c(x1, x2)"
   ]
  },
  {
   "cell_type": "markdown",
   "metadata": {
    "slideshow": {
     "slide_type": "slide"
    }
   },
   "source": [
    "However, this does not work with factor objects:"
   ]
  },
  {
   "cell_type": "code",
   "execution_count": 24,
   "metadata": {},
   "outputs": [
    {
     "data": {
      "text/plain": [
       "[1] January  July     May      May      February July     May      April   \n",
       "12 Levels: January < February < March < April < May < June < ... < December"
      ]
     },
     "execution_count": 24,
     "metadata": {},
     "output_type": "execute_result"
    },
    {
     "data": {
      "text/plain": [
       "[1] April March May  \n",
       "12 Levels: January < February < March < April < May < June < ... < December"
      ]
     },
     "execution_count": 24,
     "metadata": {},
     "output_type": "execute_result"
    }
   ],
   "source": [
    "mob_fac\n",
    "mob2 <- factor(c(\"April\",\"March\",\"May\"), levels=months, ordered=TRUE)\n",
    "mob2"
   ]
  },
  {
   "cell_type": "code",
   "execution_count": 25,
   "metadata": {},
   "outputs": [
    {
     "data": {
      "text/plain": [
       " [1] 1 7 5 5 2 7 5 4 4 3 5"
      ]
     },
     "execution_count": 25,
     "metadata": {},
     "output_type": "execute_result"
    }
   ],
   "source": [
    "c(mob_fac, mob2)"
   ]
  },
  {
   "cell_type": "markdown",
   "metadata": {
    "slideshow": {
     "slide_type": "-"
    }
   },
   "source": [
    "`c()` combines the numeric values of categories. Not what we want."
   ]
  },
  {
   "cell_type": "markdown",
   "metadata": {
    "slideshow": {
     "slide_type": "slide"
    }
   },
   "source": [
    "Factors are combined in an indirect way: First use the result of `c()` to index the `months` vector, which holds an ordered list of all categories. This will give a character vector:"
   ]
  },
  {
   "cell_type": "code",
   "execution_count": 26,
   "metadata": {},
   "outputs": [
    {
     "data": {
      "text/plain": [
       " [1] \"January\"  \"July\"     \"May\"      \"May\"      \"February\" \"July\"    \n",
       " [7] \"May\"      \"April\"    \"April\"    \"March\"    \"May\"     "
      ]
     },
     "execution_count": 26,
     "metadata": {},
     "output_type": "execute_result"
    }
   ],
   "source": [
    "levels(mob_fac)[ c(mob_fac, mob2) ]"
   ]
  },
  {
   "cell_type": "markdown",
   "metadata": {},
   "source": [
    "Then we convert this to a factor object"
   ]
  },
  {
   "cell_type": "code",
   "execution_count": 27,
   "metadata": {},
   "outputs": [
    {
     "data": {
      "text/plain": [
       " [1] January  July     May      May      February July     May      April   \n",
       " [9] April    March    May     \n",
       "12 Levels: January < February < March < April < May < June < ... < December"
      ]
     },
     "execution_count": 27,
     "metadata": {},
     "output_type": "execute_result"
    }
   ],
   "source": [
    "factor(levels(mob_fac)[ c(mob_fac, mob2) ], levels=levels(mob_fac), ordered=TRUE)"
   ]
  },
  {
   "cell_type": "markdown",
   "metadata": {
    "slideshow": {
     "slide_type": "slide"
    }
   },
   "source": [
    "If we need to use this task frequently, we can write a function for it:"
   ]
  },
  {
   "cell_type": "code",
   "execution_count": 28,
   "metadata": {},
   "outputs": [],
   "source": [
    "concat_factors <- function(f1, f2, ordered=TRUE) {\n",
    "    stopifnot( identical(levels(f1), levels(f2)) ) # ensure that the levels are the same\n",
    "    return( factor(levels(f1)[ c(f1,f2) ], levels=levels(f1), ordered=ordered) )\n",
    "}"
   ]
  },
  {
   "cell_type": "code",
   "execution_count": 29,
   "metadata": {},
   "outputs": [
    {
     "data": {
      "text/plain": [
       " [1] January  July     May      May      February July     May      April   \n",
       " [9] April    March    May     \n",
       "12 Levels: January < February < March < April < May < June < ... < December"
      ]
     },
     "execution_count": 29,
     "metadata": {},
     "output_type": "execute_result"
    }
   ],
   "source": [
    "concat_factors(mob_fac, mob2)"
   ]
  },
  {
   "cell_type": "markdown",
   "metadata": {
    "slideshow": {
     "slide_type": "slide"
    }
   },
   "source": [
    "Binning\n",
    "----\n",
    "One can create categories from continuous data, such as Small/Medium/Large, or Low/High.\n",
    "\n",
    "Example:"
   ]
  },
  {
   "cell_type": "code",
   "execution_count": 30,
   "metadata": {},
   "outputs": [],
   "source": [
    "x <- c(11, 18, 36, 74, 43, 81, 95, 64, 32, 51)"
   ]
  },
  {
   "cell_type": "markdown",
   "metadata": {},
   "source": [
    "Suppose we want to categorize this data as _small_ for values in [0, 30), _medium_ for [30, 70), and _high_ for [70, 100]. The notation [30,70) means that the value 30 belongs to this category, but 70 does not."
   ]
  },
  {
   "cell_type": "markdown",
   "metadata": {
    "slideshow": {
     "slide_type": "slide"
    }
   },
   "source": [
    "The `cut()` function generates a factor object with the interval end specified by the `breaks` parameter."
   ]
  },
  {
   "cell_type": "code",
   "execution_count": 31,
   "metadata": {},
   "outputs": [
    {
     "data": {
      "text/plain": [
       " [1] (0,30]   (0,30]   (30,70]  (70,100] (30,70]  (70,100] (70,100] (30,70] \n",
       " [9] (30,70]  (30,70] \n",
       "Levels: (0,30] (30,70] (70,100]"
      ]
     },
     "execution_count": 31,
     "metadata": {},
     "output_type": "execute_result"
    }
   ],
   "source": [
    "cut(x, breaks=c(0, 30, 70, 100))"
   ]
  },
  {
   "cell_type": "markdown",
   "metadata": {},
   "source": [
    "However, note that the ends of the intervals are not as we want. The first value of the boundary in not included in the interval, but the second value is."
   ]
  },
  {
   "cell_type": "markdown",
   "metadata": {
    "slideshow": {
     "slide_type": "slide"
    }
   },
   "source": [
    "To fix this, we set the parameter `right` to `FALSE`."
   ]
  },
  {
   "cell_type": "code",
   "execution_count": 32,
   "metadata": {},
   "outputs": [
    {
     "data": {
      "text/plain": [
       " [1] [0,30)   [0,30)   [30,70)  [70,100) [30,70)  [70,100) [70,100) [30,70) \n",
       " [9] [30,70)  [30,70) \n",
       "Levels: [0,30) [30,70) [70,100)"
      ]
     },
     "execution_count": 32,
     "metadata": {},
     "output_type": "execute_result"
    }
   ],
   "source": [
    "cut(x, breaks=c(0, 30, 70, 100), right = F)"
   ]
  },
  {
   "cell_type": "markdown",
   "metadata": {
    "slideshow": {
     "slide_type": "slide"
    }
   },
   "source": [
    "But the last value 100 is excluded now. We can include it by setting the `include.lowest` parameter to `TRUE`."
   ]
  },
  {
   "cell_type": "code",
   "execution_count": 33,
   "metadata": {},
   "outputs": [
    {
     "data": {
      "text/plain": [
       " [1] [0,30)   [0,30)   [30,70)  [70,100] [30,70)  [70,100] [70,100] [30,70) \n",
       " [9] [30,70)  [30,70) \n",
       "Levels: [0,30) [30,70) [70,100]"
      ]
     },
     "execution_count": 33,
     "metadata": {},
     "output_type": "execute_result"
    }
   ],
   "source": [
    "cut(x, breaks = c(0, 30, 70, 100), right = F, include.lowest = T)"
   ]
  },
  {
   "cell_type": "markdown",
   "metadata": {
    "slideshow": {
     "slide_type": "slide"
    }
   },
   "source": [
    "The levels can be set with the `labels` parameter."
   ]
  },
  {
   "cell_type": "code",
   "execution_count": null,
   "metadata": {},
   "outputs": [],
   "source": [
    "cut(x, breaks = c(0, 30, 70, 100), right = F, include.lowest = T,\n",
    "   labels = c(\"Low\",\"Medium\",\"High\"))"
   ]
  },
  {
   "cell_type": "markdown",
   "metadata": {
    "slideshow": {
     "slide_type": "slide"
    }
   },
   "source": [
    "# Factors and data frames\n",
    "\n",
    "Suppose that we create a data frame out of `names`, `gender`, and `mob` vectors:"
   ]
  },
  {
   "cell_type": "code",
   "execution_count": 34,
   "metadata": {},
   "outputs": [
    {
     "data": {
      "text/plain": [
       "    name gender      mob\n",
       "1    Can   Male  January\n",
       "2    Cem   Male     July\n",
       "3  Hande Female      May\n",
       "4 Mehmet   Male      May\n",
       "5  Deniz Female February\n",
       "6  Kemal   Male     July\n",
       "7  Derya Female      May\n",
       "8  Fatma Female    April"
      ]
     },
     "execution_count": 34,
     "metadata": {},
     "output_type": "execute_result"
    }
   ],
   "source": [
    "df <- data.frame(name, gender, mob)\n",
    "df"
   ]
  },
  {
   "cell_type": "markdown",
   "metadata": {
    "slideshow": {
     "slide_type": "slide"
    }
   },
   "source": [
    "See a summary of the dataframe:"
   ]
  },
  {
   "cell_type": "code",
   "execution_count": 35,
   "metadata": {
    "slideshow": {
     "slide_type": "-"
    }
   },
   "outputs": [
    {
     "data": {
      "text/plain": [
       "      name      gender        mob   \n",
       " Can    :1   Female:4   April   :1  \n",
       " Cem    :1   Male  :4   February:1  \n",
       " Deniz  :1              January :1  \n",
       " Derya  :1              July    :2  \n",
       " Fatma  :1              May     :3  \n",
       " Hande  :1                          \n",
       " (Other):2                          "
      ]
     },
     "execution_count": 35,
     "metadata": {},
     "output_type": "execute_result"
    }
   ],
   "source": [
    "summary(df)"
   ]
  },
  {
   "cell_type": "markdown",
   "metadata": {
    "slideshow": {
     "slide_type": "slide"
    }
   },
   "source": [
    "Note that all fields are interpreted as factors in `df`, including `names`. The reason is that the `stringsAsFactors`parameter is `TRUE` by default. We can turn it off, and use the factor vectors we prepared before:"
   ]
  },
  {
   "cell_type": "code",
   "execution_count": 36,
   "metadata": {},
   "outputs": [
    {
     "data": {
      "text/plain": [
       "     name            gender_fac     mob_fac \n",
       " Length:8           Female:4    May     :3  \n",
       " Class :character   Male  :4    July    :2  \n",
       " Mode  :character               January :1  \n",
       "                                February:1  \n",
       "                                April   :1  \n",
       "                                March   :0  \n",
       "                                (Other) :0  "
      ]
     },
     "execution_count": 36,
     "metadata": {},
     "output_type": "execute_result"
    }
   ],
   "source": [
    "df <- data.frame(name, gender_fac, mob_fac, stringsAsFactors = FALSE )\n",
    "summary(df)"
   ]
  },
  {
   "cell_type": "markdown",
   "metadata": {
    "slideshow": {
     "slide_type": "slide"
    }
   },
   "source": [
    "As another example, consider the _mtcars_ data set:"
   ]
  },
  {
   "cell_type": "code",
   "execution_count": 37,
   "metadata": {},
   "outputs": [
    {
     "data": {
      "text/plain": [
       "                   mpg cyl disp  hp drat    wt  qsec vs am gear carb\n",
       "Mazda RX4         21.0   6  160 110 3.90 2.620 16.46  0  1    4    4\n",
       "Mazda RX4 Wag     21.0   6  160 110 3.90 2.875 17.02  0  1    4    4\n",
       "Datsun 710        22.8   4  108  93 3.85 2.320 18.61  1  1    4    1\n",
       "Hornet 4 Drive    21.4   6  258 110 3.08 3.215 19.44  1  0    3    1\n",
       "Hornet Sportabout 18.7   8  360 175 3.15 3.440 17.02  0  0    3    2\n",
       "Valiant           18.1   6  225 105 2.76 3.460 20.22  1  0    3    1"
      ]
     },
     "execution_count": 37,
     "metadata": {},
     "output_type": "execute_result"
    }
   ],
   "source": [
    "head(mtcars)"
   ]
  },
  {
   "cell_type": "markdown",
   "metadata": {
    "slideshow": {
     "slide_type": "slide"
    }
   },
   "source": [
    "The `summary()` function returns the summary statistics for each numeric field."
   ]
  },
  {
   "cell_type": "code",
   "execution_count": 38,
   "metadata": {},
   "outputs": [
    {
     "data": {
      "text/plain": [
       "      mpg             cyl             disp             hp       \n",
       " Min.   :10.40   Min.   :4.000   Min.   : 71.1   Min.   : 52.0  \n",
       " 1st Qu.:15.43   1st Qu.:4.000   1st Qu.:120.8   1st Qu.: 96.5  \n",
       " Median :19.20   Median :6.000   Median :196.3   Median :123.0  \n",
       " Mean   :20.09   Mean   :6.188   Mean   :230.7   Mean   :146.7  \n",
       " 3rd Qu.:22.80   3rd Qu.:8.000   3rd Qu.:326.0   3rd Qu.:180.0  \n",
       " Max.   :33.90   Max.   :8.000   Max.   :472.0   Max.   :335.0  \n",
       "      drat             wt             qsec             vs        \n",
       " Min.   :2.760   Min.   :1.513   Min.   :14.50   Min.   :0.0000  \n",
       " 1st Qu.:3.080   1st Qu.:2.581   1st Qu.:16.89   1st Qu.:0.0000  \n",
       " Median :3.695   Median :3.325   Median :17.71   Median :0.0000  \n",
       " Mean   :3.597   Mean   :3.217   Mean   :17.85   Mean   :0.4375  \n",
       " 3rd Qu.:3.920   3rd Qu.:3.610   3rd Qu.:18.90   3rd Qu.:1.0000  \n",
       " Max.   :4.930   Max.   :5.424   Max.   :22.90   Max.   :1.0000  \n",
       "       am              gear            carb      \n",
       " Min.   :0.0000   Min.   :3.000   Min.   :1.000  \n",
       " 1st Qu.:0.0000   1st Qu.:3.000   1st Qu.:2.000  \n",
       " Median :0.0000   Median :4.000   Median :2.000  \n",
       " Mean   :0.4062   Mean   :3.688   Mean   :2.812  \n",
       " 3rd Qu.:1.0000   3rd Qu.:4.000   3rd Qu.:4.000  \n",
       " Max.   :1.0000   Max.   :5.000   Max.   :8.000  "
      ]
     },
     "execution_count": 38,
     "metadata": {},
     "output_type": "execute_result"
    }
   ],
   "source": [
    "summary(mtcars)"
   ]
  },
  {
   "cell_type": "markdown",
   "metadata": {
    "slideshow": {
     "slide_type": "slide"
    }
   },
   "source": [
    "However, it makes more sense to treat `\"cyl\"`, `\"vs\"`, `\"am\"`, `\"gear\"` and `\"carb\"` as categorical variables."
   ]
  },
  {
   "cell_type": "code",
   "execution_count": 39,
   "metadata": {},
   "outputs": [],
   "source": [
    "mtcars$cyl <- factor(mtcars$cyl, ordered=TRUE)\n",
    "mtcars$gear <- factor(mtcars$gear, ordered=TRUE)\n",
    "mtcars$carb <- factor(mtcars$carb, ordered=TRUE)\n",
    "mtcars$vs <- factor(mtcars$vs)\n",
    "mtcars$am <- factor(mtcars$am)"
   ]
  },
  {
   "cell_type": "markdown",
   "metadata": {},
   "source": [
    "Now we can use the `summary()` function to get the counts of categories in each factor field."
   ]
  },
  {
   "cell_type": "code",
   "execution_count": 40,
   "metadata": {},
   "outputs": [
    {
     "data": {
      "text/plain": [
       "      mpg        cyl         disp             hp             drat      \n",
       " Min.   :10.40   4:11   Min.   : 71.1   Min.   : 52.0   Min.   :2.760  \n",
       " 1st Qu.:15.43   6: 7   1st Qu.:120.8   1st Qu.: 96.5   1st Qu.:3.080  \n",
       " Median :19.20   8:14   Median :196.3   Median :123.0   Median :3.695  \n",
       " Mean   :20.09          Mean   :230.7   Mean   :146.7   Mean   :3.597  \n",
       " 3rd Qu.:22.80          3rd Qu.:326.0   3rd Qu.:180.0   3rd Qu.:3.920  \n",
       " Max.   :33.90          Max.   :472.0   Max.   :335.0   Max.   :4.930  \n",
       "       wt             qsec       vs     am     gear   carb  \n",
       " Min.   :1.513   Min.   :14.50   0:18   0:19   3:15   1: 7  \n",
       " 1st Qu.:2.581   1st Qu.:16.89   1:14   1:13   4:12   2:10  \n",
       " Median :3.325   Median :17.71                 5: 5   3: 3  \n",
       " Mean   :3.217   Mean   :17.85                        4:10  \n",
       " 3rd Qu.:3.610   3rd Qu.:18.90                        6: 1  \n",
       " Max.   :5.424   Max.   :22.90                        8: 1  "
      ]
     },
     "execution_count": 40,
     "metadata": {},
     "output_type": "execute_result"
    }
   ],
   "source": [
    "summary(mtcars)"
   ]
  },
  {
   "cell_type": "markdown",
   "metadata": {
    "slideshow": {
     "slide_type": "slide"
    }
   },
   "source": [
    "The `\"vs\"` (V engine or straight) and `\"am\"` (Automatic or manual transmission) fields have level values 0 or 1. Let's replace them with clearer labels."
   ]
  },
  {
   "cell_type": "code",
   "execution_count": 41,
   "metadata": {},
   "outputs": [],
   "source": [
    "levels(mtcars$vs) <- c(\"V-engine\",\"Standard\")\n",
    "levels(mtcars$am) <- c(\"Automatic\",\"Manual\")"
   ]
  },
  {
   "cell_type": "code",
   "execution_count": 42,
   "metadata": {},
   "outputs": [
    {
     "data": {
      "text/plain": [
       "      mpg        cyl         disp             hp             drat      \n",
       " Min.   :10.40   4:11   Min.   : 71.1   Min.   : 52.0   Min.   :2.760  \n",
       " 1st Qu.:15.43   6: 7   1st Qu.:120.8   1st Qu.: 96.5   1st Qu.:3.080  \n",
       " Median :19.20   8:14   Median :196.3   Median :123.0   Median :3.695  \n",
       " Mean   :20.09          Mean   :230.7   Mean   :146.7   Mean   :3.597  \n",
       " 3rd Qu.:22.80          3rd Qu.:326.0   3rd Qu.:180.0   3rd Qu.:3.920  \n",
       " Max.   :33.90          Max.   :472.0   Max.   :335.0   Max.   :4.930  \n",
       "       wt             qsec              vs             am     gear   carb  \n",
       " Min.   :1.513   Min.   :14.50   V-engine:18   Automatic:19   3:15   1: 7  \n",
       " 1st Qu.:2.581   1st Qu.:16.89   Standard:14   Manual   :13   4:12   2:10  \n",
       " Median :3.325   Median :17.71                                5: 5   3: 3  \n",
       " Mean   :3.217   Mean   :17.85                                       4:10  \n",
       " 3rd Qu.:3.610   3rd Qu.:18.90                                       6: 1  \n",
       " Max.   :5.424   Max.   :22.90                                       8: 1  "
      ]
     },
     "execution_count": 42,
     "metadata": {},
     "output_type": "execute_result"
    }
   ],
   "source": [
    "summary(mtcars)"
   ]
  },
  {
   "cell_type": "markdown",
   "metadata": {
    "slideshow": {
     "slide_type": "slide"
    }
   },
   "source": [
    "# Plotting factor variables\n",
    "When we specify a factor-type vector as data, the `plot()` function displays a bar plot."
   ]
  },
  {
   "cell_type": "code",
   "execution_count": 43,
   "metadata": {},
   "outputs": [
    {
     "data": {
      "image/png": "[encoded data removed]",
      "image/svg+xml": [
       "<?xml version=\"1.0\" encoding=\"UTF-8\"?>\n",
       "<svg xmlns=\"http://www.w3.org/2000/svg\" xmlns:xlink=\"http://www.w3.org/1999/xlink\" width=\"432pt\" height=\"288pt\" viewBox=\"0 0 432 288\" version=\"1.1\">\n",
       "<defs>\n",
       "<g>\n",
       "<symbol overflow=\"visible\" id=\"glyph0-0\">\n",
       "<path style=\"stroke:none;\" d=\"\"/>\n",
       "</symbol>\n",
       "<symbol overflow=\"visible\" id=\"glyph0-1\">\n",
       "<path style=\"stroke:none;\" d=\"M 7.84375 0 L 4.765625 -8.75 L 3.328125 -8.75 L 0.203125 0 L 1.390625 0 L 2.3125 -2.625 L 5.6875 -2.625 L 6.59375 0 Z M 5.375 -3.5625 L 2.59375 -3.5625 L 4.03125 -7.546875 Z M 5.375 -3.5625 \"/>\n",
       "</symbol>\n",
       "<symbol overflow=\"visible\" id=\"glyph0-2\">\n",
       "<path style=\"stroke:none;\" d=\"M 5.78125 0 L 5.78125 -6.28125 L 4.78125 -6.28125 L 4.78125 -2.8125 C 4.78125 -1.53125 4.109375 -0.703125 3.078125 -0.703125 C 2.28125 -0.703125 1.78125 -1.171875 1.78125 -1.9375 L 1.78125 -6.28125 L 0.78125 -6.28125 L 0.78125 -1.53125 C 0.78125 -0.484375 1.5625 0.1875 2.78125 0.1875 C 3.703125 0.1875 4.296875 -0.140625 4.890625 -0.96875 L 4.890625 0 Z M 5.78125 0 \"/>\n",
       "</symbol>\n",
       "<symbol overflow=\"visible\" id=\"glyph0-3\">\n",
       "<path style=\"stroke:none;\" d=\"M 3.046875 0 L 3.046875 -0.84375 C 2.921875 -0.796875 2.765625 -0.796875 2.5625 -0.796875 C 2.140625 -0.796875 2.015625 -0.90625 2.015625 -1.359375 L 2.015625 -5.46875 L 3.046875 -5.46875 L 3.046875 -6.28125 L 2.015625 -6.28125 L 2.015625 -8.015625 L 1.015625 -8.015625 L 1.015625 -6.28125 L 0.171875 -6.28125 L 0.171875 -5.46875 L 1.015625 -5.46875 L 1.015625 -0.90625 C 1.015625 -0.28125 1.453125 0.078125 2.234375 0.078125 C 2.46875 0.078125 2.71875 0.0625 3.046875 0 Z M 3.046875 0 \"/>\n",
       "</symbol>\n",
       "<symbol overflow=\"visible\" id=\"glyph0-4\">\n",
       "<path style=\"stroke:none;\" d=\"M 6.125 -3.09375 C 6.125 -5.265625 5.078125 -6.46875 3.265625 -6.46875 C 1.5 -6.46875 0.4375 -5.25 0.4375 -3.140625 C 0.4375 -1.03125 1.484375 0.1875 3.28125 0.1875 C 5.046875 0.1875 6.125 -1.03125 6.125 -3.09375 Z M 5.078125 -3.109375 C 5.078125 -1.625 4.375 -0.75 3.28125 -0.75 C 2.15625 -0.75 1.46875 -1.625 1.46875 -3.140625 C 1.46875 -4.65625 2.15625 -5.546875 3.28125 -5.546875 C 4.40625 -5.546875 5.078125 -4.671875 5.078125 -3.109375 Z M 5.078125 -3.109375 \"/>\n",
       "</symbol>\n",
       "<symbol overflow=\"visible\" id=\"glyph0-5\">\n",
       "<path style=\"stroke:none;\" d=\"M 9.125 0 L 9.125 -4.71875 C 9.125 -5.84375 8.5 -6.46875 7.3125 -6.46875 C 6.484375 -6.46875 5.96875 -6.21875 5.390625 -5.515625 C 5.015625 -6.1875 4.515625 -6.46875 3.703125 -6.46875 C 2.859375 -6.46875 2.296875 -6.15625 1.765625 -5.40625 L 1.765625 -6.28125 L 0.859375 -6.28125 L 0.859375 0 L 1.84375 0 L 1.84375 -3.953125 C 1.84375 -4.859375 2.515625 -5.59375 3.328125 -5.59375 C 4.0625 -5.59375 4.484375 -5.140625 4.484375 -4.328125 L 4.484375 0 L 5.484375 0 L 5.484375 -3.953125 C 5.484375 -4.859375 6.15625 -5.59375 6.96875 -5.59375 C 7.703125 -5.59375 8.125 -5.125 8.125 -4.328125 L 8.125 0 Z M 9.125 0 \"/>\n",
       "</symbol>\n",
       "<symbol overflow=\"visible\" id=\"glyph0-6\">\n",
       "<path style=\"stroke:none;\" d=\"M 6.421875 -0.03125 L 6.421875 -0.78125 C 6.3125 -0.75 6.265625 -0.75 6.203125 -0.75 C 5.859375 -0.75 5.65625 -0.9375 5.65625 -1.25 L 5.65625 -4.75 C 5.65625 -5.875 4.84375 -6.46875 3.296875 -6.46875 C 1.78125 -6.46875 0.84375 -5.875 0.78125 -4.421875 L 1.78125 -4.421875 C 1.875 -5.203125 2.328125 -5.546875 3.265625 -5.546875 C 4.15625 -5.546875 4.671875 -5.203125 4.671875 -4.609375 L 4.671875 -4.34375 C 4.671875 -3.921875 4.421875 -3.75 3.625 -3.640625 C 2.203125 -3.46875 1.984375 -3.421875 1.609375 -3.265625 C 0.875 -2.96875 0.5 -2.40625 0.5 -1.625 C 0.5 -0.484375 1.296875 0.1875 2.5625 0.1875 C 3.375 0.1875 4.15625 -0.15625 4.703125 -0.75 C 4.8125 -0.265625 5.25 0.078125 5.734375 0.078125 C 5.9375 0.078125 6.09375 0.0625 6.421875 -0.03125 Z M 4.671875 -2.171875 C 4.671875 -1.265625 3.75 -0.703125 2.78125 -0.703125 C 2 -0.703125 1.546875 -0.96875 1.546875 -1.65625 C 1.546875 -2.3125 1.984375 -2.609375 3.0625 -2.765625 C 4.109375 -2.90625 4.328125 -2.953125 4.671875 -3.109375 Z M 4.671875 -2.171875 \"/>\n",
       "</symbol>\n",
       "<symbol overflow=\"visible\" id=\"glyph0-7\">\n",
       "<path style=\"stroke:none;\" d=\"M 1.84375 0 L 1.84375 -6.28125 L 0.84375 -6.28125 L 0.84375 0 Z M 1.96875 -7.234375 L 1.96875 -8.484375 L 0.71875 -8.484375 L 0.71875 -7.234375 Z M 1.96875 -7.234375 \"/>\n",
       "</symbol>\n",
       "<symbol overflow=\"visible\" id=\"glyph0-8\">\n",
       "<path style=\"stroke:none;\" d=\"M 5.71875 -2.15625 L 4.71875 -2.15625 C 4.546875 -1.15625 4.03125 -0.75 3.1875 -0.75 C 2.078125 -0.75 1.421875 -1.59375 1.421875 -3.078125 C 1.421875 -4.65625 2.0625 -5.546875 3.15625 -5.546875 C 4 -5.546875 4.53125 -5.046875 4.640625 -4.171875 L 5.65625 -4.171875 C 5.53125 -5.71875 4.578125 -6.46875 3.171875 -6.46875 C 1.46875 -6.46875 0.375 -5.171875 0.375 -3.078125 C 0.375 -1.0625 1.453125 0.1875 3.15625 0.1875 C 4.65625 0.1875 5.609375 -0.71875 5.71875 -2.15625 Z M 5.71875 -2.15625 \"/>\n",
       "</symbol>\n",
       "<symbol overflow=\"visible\" id=\"glyph0-9\">\n",
       "<path style=\"stroke:none;\" d=\"M 9.125 0 L 9.125 -8.75 L 7.578125 -8.75 L 5.046875 -1.125 L 2.453125 -8.75 L 0.90625 -8.75 L 0.90625 0 L 1.953125 0 L 1.953125 -7.328125 L 4.4375 0 L 5.609375 0 L 8.078125 -7.328125 L 8.078125 0 Z M 9.125 0 \"/>\n",
       "</symbol>\n",
       "<symbol overflow=\"visible\" id=\"glyph0-10\">\n",
       "<path style=\"stroke:none;\" d=\"M 5.84375 0 L 5.84375 -4.75 C 5.84375 -5.796875 5.0625 -6.46875 3.859375 -6.46875 C 2.921875 -6.46875 2.3125 -6.109375 1.765625 -5.234375 L 1.765625 -6.28125 L 0.84375 -6.28125 L 0.84375 0 L 1.84375 0 L 1.84375 -3.46875 C 1.84375 -4.75 2.53125 -5.59375 3.546875 -5.59375 C 4.34375 -5.59375 4.84375 -5.109375 4.84375 -4.359375 L 4.84375 0 Z M 5.84375 0 \"/>\n",
       "</symbol>\n",
       "<symbol overflow=\"visible\" id=\"glyph0-11\">\n",
       "<path style=\"stroke:none;\" d=\"M 1.8125 0 L 1.8125 -8.75 L 0.8125 -8.75 L 0.8125 0 Z M 1.8125 0 \"/>\n",
       "</symbol>\n",
       "<symbol overflow=\"visible\" id=\"glyph1-0\">\n",
       "<path style=\"stroke:none;\" d=\"\"/>\n",
       "</symbol>\n",
       "<symbol overflow=\"visible\" id=\"glyph1-1\">\n",
       "<path style=\"stroke:none;\" d=\"M -4.09375 -6.078125 C -7.046875 -6.078125 -8.515625 -5.140625 -8.515625 -3.296875 C -8.515625 -1.46875 -7.015625 -0.515625 -4.15625 -0.515625 C -1.296875 -0.515625 0.1875 -1.46875 0.1875 -3.296875 C 0.1875 -5.09375 -1.296875 -6.078125 -4.09375 -6.078125 Z M -4.1875 -5 C -1.78125 -5 -0.703125 -4.453125 -0.703125 -3.28125 C -0.703125 -2.15625 -1.828125 -1.59375 -4.15625 -1.59375 C -6.484375 -1.59375 -7.578125 -2.15625 -7.578125 -3.296875 C -7.578125 -4.4375 -6.46875 -5 -4.1875 -5 Z M -4.1875 -5 \"/>\n",
       "</symbol>\n",
       "<symbol overflow=\"visible\" id=\"glyph1-2\">\n",
       "<path style=\"stroke:none;\" d=\"M -2.8125 -6.15625 C -4.5 -6.15625 -5.609375 -5.046875 -5.609375 -3.40625 C -5.609375 -2.8125 -5.453125 -2.328125 -5.09375 -1.84375 L -7.28125 -2.171875 L -7.28125 -5.71875 L -8.328125 -5.71875 L -8.328125 -1.3125 L -3.875 -0.6875 L -3.875 -1.65625 C -4.46875 -2.140625 -4.671875 -2.5625 -4.671875 -3.21875 C -4.671875 -4.359375 -3.9375 -5.078125 -2.671875 -5.078125 C -1.453125 -5.078125 -0.75 -4.375 -0.75 -3.21875 C -0.75 -2.296875 -1.21875 -1.734375 -2.1875 -1.46875 L -2.1875 -0.421875 C -0.484375 -0.765625 0.1875 -1.734375 0.1875 -3.234375 C 0.1875 -4.953125 -1.015625 -6.15625 -2.8125 -6.15625 Z M -2.8125 -6.15625 \"/>\n",
       "</symbol>\n",
       "<symbol overflow=\"visible\" id=\"glyph1-3\">\n",
       "<path style=\"stroke:none;\" d=\"M 0 -4.15625 L -8.515625 -4.15625 L -8.515625 -3.46875 C -7.203125 -3.09375 -7.015625 -2.859375 -6.8125 -1.21875 L -6.0625 -1.21875 L -6.0625 -3.109375 L 0 -3.109375 Z M 0 -4.15625 \"/>\n",
       "</symbol>\n",
       "</g>\n",
       "</defs>\n",
       "<g id=\"surface22\">\n",
       "<rect x=\"0\" y=\"0\" width=\"432\" height=\"288\" style=\"fill:rgb(100%,100%,100%);fill-opacity:1;stroke:none;\"/>\n",
       "<path style=\"fill-rule:nonzero;fill:rgb(74.509804%,74.509804%,74.509804%);fill-opacity:1;stroke-width:0.75;stroke-linecap:round;stroke-linejoin:round;stroke:rgb(0%,0%,0%);stroke-opacity:1;stroke-miterlimit:10;\" d=\"M 71.734375 213.019531 L 215.976562 213.019531 L 215.976562 59.039062 L 71.734375 59.039062 Z M 71.734375 213.019531 \"/>\n",
       "<path style=\"fill-rule:nonzero;fill:rgb(74.509804%,74.509804%,74.509804%);fill-opacity:1;stroke-width:0.75;stroke-linecap:round;stroke-linejoin:round;stroke:rgb(0%,0%,0%);stroke-opacity:1;stroke-miterlimit:10;\" d=\"M 244.824219 213.019531 L 389.066406 213.019531 L 389.066406 107.664062 L 244.824219 107.664062 Z M 244.824219 213.019531 \"/>\n",
       "<g style=\"fill:rgb(0%,0%,0%);fill-opacity:1;\">\n",
       "  <use xlink:href=\"#glyph0-1\" x=\"116.855469\" y=\"240.256836\"/>\n",
       "  <use xlink:href=\"#glyph0-2\" x=\"124.859375\" y=\"240.256836\"/>\n",
       "  <use xlink:href=\"#glyph0-3\" x=\"131.53125\" y=\"240.256836\"/>\n",
       "  <use xlink:href=\"#glyph0-4\" x=\"134.867188\" y=\"240.256836\"/>\n",
       "  <use xlink:href=\"#glyph0-5\" x=\"141.539062\" y=\"240.256836\"/>\n",
       "  <use xlink:href=\"#glyph0-6\" x=\"151.535156\" y=\"240.256836\"/>\n",
       "  <use xlink:href=\"#glyph0-3\" x=\"158.207031\" y=\"240.256836\"/>\n",
       "  <use xlink:href=\"#glyph0-7\" x=\"161.542969\" y=\"240.256836\"/>\n",
       "  <use xlink:href=\"#glyph0-8\" x=\"164.207031\" y=\"240.256836\"/>\n",
       "</g>\n",
       "<g style=\"fill:rgb(0%,0%,0%);fill-opacity:1;\">\n",
       "  <use xlink:href=\"#glyph0-9\" x=\"296.945312\" y=\"240.256836\"/>\n",
       "  <use xlink:href=\"#glyph0-6\" x=\"306.941406\" y=\"240.256836\"/>\n",
       "  <use xlink:href=\"#glyph0-10\" x=\"313.613281\" y=\"240.256836\"/>\n",
       "  <use xlink:href=\"#glyph0-2\" x=\"320.285156\" y=\"240.256836\"/>\n",
       "  <use xlink:href=\"#glyph0-6\" x=\"326.957031\" y=\"240.256836\"/>\n",
       "  <use xlink:href=\"#glyph0-11\" x=\"333.628906\" y=\"240.256836\"/>\n",
       "</g>\n",
       "<path style=\"fill:none;stroke-width:0.75;stroke-linecap:round;stroke-linejoin:round;stroke:rgb(0%,0%,0%);stroke-opacity:1;stroke-miterlimit:10;\" d=\"M 59.039062 213.019531 L 59.039062 91.457031 \"/>\n",
       "<path style=\"fill:none;stroke-width:0.75;stroke-linecap:round;stroke-linejoin:round;stroke:rgb(0%,0%,0%);stroke-opacity:1;stroke-miterlimit:10;\" d=\"M 59.039062 213.019531 L 51.839844 213.019531 \"/>\n",
       "<path style=\"fill:none;stroke-width:0.75;stroke-linecap:round;stroke-linejoin:round;stroke:rgb(0%,0%,0%);stroke-opacity:1;stroke-miterlimit:10;\" d=\"M 59.039062 172.5 L 51.839844 172.5 \"/>\n",
       "<path style=\"fill:none;stroke-width:0.75;stroke-linecap:round;stroke-linejoin:round;stroke:rgb(0%,0%,0%);stroke-opacity:1;stroke-miterlimit:10;\" d=\"M 59.039062 131.976562 L 51.839844 131.976562 \"/>\n",
       "<path style=\"fill:none;stroke-width:0.75;stroke-linecap:round;stroke-linejoin:round;stroke:rgb(0%,0%,0%);stroke-opacity:1;stroke-miterlimit:10;\" d=\"M 59.039062 91.457031 L 51.839844 91.457031 \"/>\n",
       "<g style=\"fill:rgb(0%,0%,0%);fill-opacity:1;\">\n",
       "  <use xlink:href=\"#glyph1-1\" x=\"41.538086\" y=\"216.519531\"/>\n",
       "</g>\n",
       "<g style=\"fill:rgb(0%,0%,0%);fill-opacity:1;\">\n",
       "  <use xlink:href=\"#glyph1-2\" x=\"41.538086\" y=\"176\"/>\n",
       "</g>\n",
       "<g style=\"fill:rgb(0%,0%,0%);fill-opacity:1;\">\n",
       "  <use xlink:href=\"#glyph1-3\" x=\"41.538086\" y=\"138.976562\"/>\n",
       "  <use xlink:href=\"#glyph1-1\" x=\"41.538086\" y=\"132.304688\"/>\n",
       "</g>\n",
       "<g style=\"fill:rgb(0%,0%,0%);fill-opacity:1;\">\n",
       "  <use xlink:href=\"#glyph1-3\" x=\"41.538086\" y=\"98.457031\"/>\n",
       "  <use xlink:href=\"#glyph1-2\" x=\"41.538086\" y=\"91.785156\"/>\n",
       "</g>\n",
       "</g>\n",
       "</svg>\n"
      ],
      "text/plain": [
       "plot without title"
      ]
     },
     "metadata": {
      "image/svg+xml": {
       "isolated": true
      }
     },
     "output_type": "display_data"
    }
   ],
   "source": [
    "plot(mtcars$am)"
   ]
  },
  {
   "cell_type": "markdown",
   "metadata": {
    "slideshow": {
     "slide_type": "slide"
    }
   },
   "source": [
    "When the x-axis is categorical and the y-axis is numerical, a boxplot is displayed."
   ]
  },
  {
   "cell_type": "code",
   "execution_count": 44,
   "metadata": {},
   "outputs": [
    {
     "data": {
      "image/png": "[encoded data removed]",
      "image/svg+xml": [
       "<?xml version=\"1.0\" encoding=\"UTF-8\"?>\n",
       "<svg xmlns=\"http://www.w3.org/2000/svg\" xmlns:xlink=\"http://www.w3.org/1999/xlink\" width=\"432pt\" height=\"288pt\" viewBox=\"0 0 432 288\" version=\"1.1\">\n",
       "<defs>\n",
       "<g>\n",
       "<symbol overflow=\"visible\" id=\"glyph0-0\">\n",
       "<path style=\"stroke:none;\" d=\"\"/>\n",
       "</symbol>\n",
       "<symbol overflow=\"visible\" id=\"glyph0-1\">\n",
       "<path style=\"stroke:none;\" d=\"M 7.734375 -8.75 L 6.546875 -8.75 L 4.125 -1.34375 L 1.5625 -8.75 L 0.359375 -8.75 L 3.5 0 L 4.703125 0 Z M 7.734375 -8.75 \"/>\n",
       "</symbol>\n",
       "<symbol overflow=\"visible\" id=\"glyph0-2\">\n",
       "<path style=\"stroke:none;\" d=\"M 3.40625 -2.875 L 3.40625 -3.75 L 0.546875 -3.75 L 0.546875 -2.875 Z M 3.40625 -2.875 \"/>\n",
       "</symbol>\n",
       "<symbol overflow=\"visible\" id=\"glyph0-3\">\n",
       "<path style=\"stroke:none;\" d=\"M 6.15625 -2.859375 C 6.15625 -3.765625 6.078125 -4.34375 5.90625 -4.8125 C 5.5 -5.84375 4.53125 -6.46875 3.359375 -6.46875 C 1.609375 -6.46875 0.484375 -5.171875 0.484375 -3.109375 C 0.484375 -1.046875 1.578125 0.1875 3.34375 0.1875 C 4.78125 0.1875 5.765625 -0.640625 6.03125 -1.90625 L 5.015625 -1.90625 C 4.734375 -1.078125 4.171875 -0.75 3.375 -0.75 C 2.328125 -0.75 1.546875 -1.421875 1.53125 -2.859375 Z M 5.09375 -3.75 C 5.09375 -3.75 5.09375 -3.703125 5.078125 -3.671875 L 1.546875 -3.671875 C 1.625 -4.78125 2.34375 -5.546875 3.34375 -5.546875 C 4.328125 -5.546875 5.09375 -4.734375 5.09375 -3.75 Z M 5.09375 -3.75 \"/>\n",
       "</symbol>\n",
       "<symbol overflow=\"visible\" id=\"glyph0-4\">\n",
       "<path style=\"stroke:none;\" d=\"M 5.84375 0 L 5.84375 -4.75 C 5.84375 -5.796875 5.0625 -6.46875 3.859375 -6.46875 C 2.921875 -6.46875 2.3125 -6.109375 1.765625 -5.234375 L 1.765625 -6.28125 L 0.84375 -6.28125 L 0.84375 0 L 1.84375 0 L 1.84375 -3.46875 C 1.84375 -4.75 2.53125 -5.59375 3.546875 -5.59375 C 4.34375 -5.59375 4.84375 -5.109375 4.84375 -4.359375 L 4.84375 0 Z M 5.84375 0 \"/>\n",
       "</symbol>\n",
       "<symbol overflow=\"visible\" id=\"glyph0-5\">\n",
       "<path style=\"stroke:none;\" d=\"M 5.875 -1.03125 L 5.875 -6.28125 L 4.9375 -6.28125 L 4.9375 -5.375 C 4.4375 -6.125 3.828125 -6.46875 3.03125 -6.46875 C 1.421875 -6.46875 0.34375 -5.125 0.34375 -3.078125 C 0.34375 -1.109375 1.46875 0.1875 2.9375 0.1875 C 3.734375 0.1875 4.28125 -0.15625 4.9375 -0.953125 L 4.9375 -0.53125 C 4.9375 1.140625 4.265625 1.78125 3.09375 1.78125 C 2.296875 1.78125 1.6875 1.484375 1.578125 0.71875 L 0.546875 0.71875 C 0.65625 1.90625 1.578125 2.609375 3.0625 2.609375 C 5.03125 2.609375 5.875 1.734375 5.875 -1.03125 Z M 4.84375 -3.109375 C 4.84375 -1.609375 4.203125 -0.75 3.140625 -0.75 C 2.046875 -0.75 1.390625 -1.625 1.390625 -3.140625 C 1.390625 -4.65625 2.0625 -5.546875 3.125 -5.546875 C 4.21875 -5.546875 4.84375 -4.625 4.84375 -3.109375 Z M 4.84375 -3.109375 \"/>\n",
       "</symbol>\n",
       "<symbol overflow=\"visible\" id=\"glyph0-6\">\n",
       "<path style=\"stroke:none;\" d=\"M 1.84375 0 L 1.84375 -6.28125 L 0.84375 -6.28125 L 0.84375 0 Z M 1.96875 -7.234375 L 1.96875 -8.484375 L 0.71875 -8.484375 L 0.71875 -7.234375 Z M 1.96875 -7.234375 \"/>\n",
       "</symbol>\n",
       "<symbol overflow=\"visible\" id=\"glyph0-7\">\n",
       "<path style=\"stroke:none;\" d=\"M 7.453125 -2.40625 C 7.453125 -3.484375 6.78125 -4.265625 5.59375 -4.59375 L 3.390625 -5.1875 C 2.34375 -5.453125 1.953125 -5.8125 1.953125 -6.484375 C 1.953125 -7.375 2.734375 -8.03125 3.90625 -8.03125 C 5.296875 -8.03125 6.09375 -7.390625 6.09375 -6.25 L 7.15625 -6.25 C 7.15625 -7.96875 5.96875 -8.96875 3.953125 -8.96875 C 2.03125 -8.96875 0.84375 -7.90625 0.84375 -6.328125 C 0.84375 -5.25 1.40625 -4.578125 2.5625 -4.28125 L 4.734375 -3.703125 C 5.828125 -3.421875 6.34375 -2.96875 6.34375 -2.296875 C 6.34375 -1.328125 5.609375 -0.765625 4.109375 -0.765625 C 2.453125 -0.765625 1.625 -1.59375 1.625 -2.84375 L 0.578125 -2.84375 C 0.578125 -0.78125 1.96875 0.21875 4.03125 0.21875 C 6.25 0.21875 7.453125 -0.84375 7.453125 -2.40625 Z M 7.453125 -2.40625 \"/>\n",
       "</symbol>\n",
       "<symbol overflow=\"visible\" id=\"glyph0-8\">\n",
       "<path style=\"stroke:none;\" d=\"M 3.046875 0 L 3.046875 -0.84375 C 2.921875 -0.796875 2.765625 -0.796875 2.5625 -0.796875 C 2.140625 -0.796875 2.015625 -0.90625 2.015625 -1.359375 L 2.015625 -5.46875 L 3.046875 -5.46875 L 3.046875 -6.28125 L 2.015625 -6.28125 L 2.015625 -8.015625 L 1.015625 -8.015625 L 1.015625 -6.28125 L 0.171875 -6.28125 L 0.171875 -5.46875 L 1.015625 -5.46875 L 1.015625 -0.90625 C 1.015625 -0.28125 1.453125 0.078125 2.234375 0.078125 C 2.46875 0.078125 2.71875 0.0625 3.046875 0 Z M 3.046875 0 \"/>\n",
       "</symbol>\n",
       "<symbol overflow=\"visible\" id=\"glyph0-9\">\n",
       "<path style=\"stroke:none;\" d=\"M 6.421875 -0.03125 L 6.421875 -0.78125 C 6.3125 -0.75 6.265625 -0.75 6.203125 -0.75 C 5.859375 -0.75 5.65625 -0.9375 5.65625 -1.25 L 5.65625 -4.75 C 5.65625 -5.875 4.84375 -6.46875 3.296875 -6.46875 C 1.78125 -6.46875 0.84375 -5.875 0.78125 -4.421875 L 1.78125 -4.421875 C 1.875 -5.203125 2.328125 -5.546875 3.265625 -5.546875 C 4.15625 -5.546875 4.671875 -5.203125 4.671875 -4.609375 L 4.671875 -4.34375 C 4.671875 -3.921875 4.421875 -3.75 3.625 -3.640625 C 2.203125 -3.46875 1.984375 -3.421875 1.609375 -3.265625 C 0.875 -2.96875 0.5 -2.40625 0.5 -1.625 C 0.5 -0.484375 1.296875 0.1875 2.5625 0.1875 C 3.375 0.1875 4.15625 -0.15625 4.703125 -0.75 C 4.8125 -0.265625 5.25 0.078125 5.734375 0.078125 C 5.9375 0.078125 6.09375 0.0625 6.421875 -0.03125 Z M 4.671875 -2.171875 C 4.671875 -1.265625 3.75 -0.703125 2.78125 -0.703125 C 2 -0.703125 1.546875 -0.96875 1.546875 -1.65625 C 1.546875 -2.3125 1.984375 -2.609375 3.0625 -2.765625 C 4.109375 -2.90625 4.328125 -2.953125 4.671875 -3.109375 Z M 4.671875 -2.171875 \"/>\n",
       "</symbol>\n",
       "<symbol overflow=\"visible\" id=\"glyph0-10\">\n",
       "<path style=\"stroke:none;\" d=\"M 5.9375 0 L 5.9375 -8.75 L 4.9375 -8.75 L 4.9375 -5.5 C 4.53125 -6.125 3.859375 -6.46875 3.015625 -6.46875 C 1.375 -6.46875 0.3125 -5.203125 0.3125 -3.203125 C 0.3125 -1.078125 1.359375 0.1875 3.046875 0.1875 C 3.90625 0.1875 4.515625 -0.140625 5.046875 -0.921875 L 5.046875 0 Z M 4.9375 -3.125 C 4.9375 -1.671875 4.25 -0.75 3.1875 -0.75 C 2.09375 -0.75 1.359375 -1.6875 1.359375 -3.140625 C 1.359375 -4.609375 2.09375 -5.53125 3.1875 -5.53125 C 4.265625 -5.53125 4.9375 -4.578125 4.9375 -3.125 Z M 4.9375 -3.125 \"/>\n",
       "</symbol>\n",
       "<symbol overflow=\"visible\" id=\"glyph0-11\">\n",
       "<path style=\"stroke:none;\" d=\"M 3.859375 -5.40625 L 3.859375 -6.4375 C 3.6875 -6.453125 3.59375 -6.46875 3.46875 -6.46875 C 2.8125 -6.46875 2.328125 -6.078125 1.75 -5.140625 L 1.75 -6.28125 L 0.84375 -6.28125 L 0.84375 0 L 1.84375 0 L 1.84375 -3.265625 C 1.84375 -4.6875 2.296875 -5.390625 3.859375 -5.40625 Z M 3.859375 -5.40625 \"/>\n",
       "</symbol>\n",
       "<symbol overflow=\"visible\" id=\"glyph1-0\">\n",
       "<path style=\"stroke:none;\" d=\"\"/>\n",
       "</symbol>\n",
       "<symbol overflow=\"visible\" id=\"glyph1-1\">\n",
       "<path style=\"stroke:none;\" d=\"M -2.8125 -6.15625 C -4.5 -6.15625 -5.609375 -5.046875 -5.609375 -3.40625 C -5.609375 -2.8125 -5.453125 -2.328125 -5.09375 -1.84375 L -7.28125 -2.171875 L -7.28125 -5.71875 L -8.328125 -5.71875 L -8.328125 -1.3125 L -3.875 -0.6875 L -3.875 -1.65625 C -4.46875 -2.140625 -4.671875 -2.5625 -4.671875 -3.21875 C -4.671875 -4.359375 -3.9375 -5.078125 -2.671875 -5.078125 C -1.453125 -5.078125 -0.75 -4.375 -0.75 -3.21875 C -0.75 -2.296875 -1.21875 -1.734375 -2.1875 -1.46875 L -2.1875 -0.421875 C -0.484375 -0.765625 0.1875 -1.734375 0.1875 -3.234375 C 0.1875 -4.953125 -1.015625 -6.15625 -2.8125 -6.15625 Z M -2.8125 -6.15625 \"/>\n",
       "</symbol>\n",
       "<symbol overflow=\"visible\" id=\"glyph1-2\">\n",
       "<path style=\"stroke:none;\" d=\"M -4.09375 -6.078125 C -7.046875 -6.078125 -8.515625 -5.140625 -8.515625 -3.296875 C -8.515625 -1.46875 -7.015625 -0.515625 -4.15625 -0.515625 C -1.296875 -0.515625 0.1875 -1.46875 0.1875 -3.296875 C 0.1875 -5.09375 -1.296875 -6.078125 -4.09375 -6.078125 Z M -4.1875 -5 C -1.78125 -5 -0.703125 -4.453125 -0.703125 -3.28125 C -0.703125 -2.15625 -1.828125 -1.59375 -4.15625 -1.59375 C -6.484375 -1.59375 -7.578125 -2.15625 -7.578125 -3.296875 C -7.578125 -4.4375 -6.46875 -5 -4.1875 -5 Z M -4.1875 -5 \"/>\n",
       "</symbol>\n",
       "<symbol overflow=\"visible\" id=\"glyph1-3\">\n",
       "<path style=\"stroke:none;\" d=\"M 0 -4.15625 L -8.515625 -4.15625 L -8.515625 -3.46875 C -7.203125 -3.09375 -7.015625 -2.859375 -6.8125 -1.21875 L -6.0625 -1.21875 L -6.0625 -3.109375 L 0 -3.109375 Z M 0 -4.15625 \"/>\n",
       "</symbol>\n",
       "<symbol overflow=\"visible\" id=\"glyph1-4\">\n",
       "<path style=\"stroke:none;\" d=\"M -6.015625 -6.125 C -7.453125 -6.125 -8.515625 -5.015625 -8.515625 -3.40625 C -8.515625 -1.671875 -7.625 -0.65625 -5.5625 -0.59375 L -5.5625 -1.65625 C -6.984375 -1.734375 -7.578125 -2.328125 -7.578125 -3.375 C -7.578125 -4.328125 -6.90625 -5.046875 -5.984375 -5.046875 C -5.3125 -5.046875 -4.734375 -4.65625 -4.3125 -3.90625 L -3.6875 -2.796875 C -2.671875 -1.015625 -1.875 -0.5 0 -0.40625 L 0 -6.078125 L -1.046875 -6.078125 L -1.046875 -1.59375 C -1.734375 -1.703125 -2.1875 -2.09375 -2.796875 -3.125 L -3.4375 -4.328125 C -4.078125 -5.515625 -4.96875 -6.125 -6.015625 -6.125 Z M -6.015625 -6.125 \"/>\n",
       "</symbol>\n",
       "<symbol overflow=\"visible\" id=\"glyph1-5\">\n",
       "<path style=\"stroke:none;\" d=\"M 0 -7.734375 L -8.75 -7.734375 L -8.75 -6.609375 L -4.96875 -6.609375 L -4.96875 -2.109375 L -8.75 -2.109375 L -8.75 -1 L 0 -1 L 0 -2.109375 L -3.984375 -2.109375 L -3.984375 -6.609375 L 0 -6.609375 Z M 0 -7.734375 \"/>\n",
       "</symbol>\n",
       "<symbol overflow=\"visible\" id=\"glyph1-6\">\n",
       "<path style=\"stroke:none;\" d=\"M -3.09375 -6.125 C -5.265625 -6.125 -6.46875 -5.078125 -6.46875 -3.265625 C -6.46875 -1.5 -5.25 -0.4375 -3.140625 -0.4375 C -1.03125 -0.4375 0.1875 -1.484375 0.1875 -3.28125 C 0.1875 -5.046875 -1.03125 -6.125 -3.09375 -6.125 Z M -3.109375 -5.078125 C -1.625 -5.078125 -0.75 -4.375 -0.75 -3.28125 C -0.75 -2.15625 -1.625 -1.46875 -3.140625 -1.46875 C -4.65625 -1.46875 -5.546875 -2.15625 -5.546875 -3.28125 C -5.546875 -4.40625 -4.671875 -5.078125 -3.109375 -5.078125 Z M -3.109375 -5.078125 \"/>\n",
       "</symbol>\n",
       "<symbol overflow=\"visible\" id=\"glyph1-7\">\n",
       "<path style=\"stroke:none;\" d=\"M -5.40625 -3.859375 L -6.4375 -3.859375 C -6.453125 -3.6875 -6.46875 -3.59375 -6.46875 -3.46875 C -6.46875 -2.8125 -6.078125 -2.328125 -5.140625 -1.75 L -6.28125 -1.75 L -6.28125 -0.84375 L 0 -0.84375 L 0 -1.84375 L -3.265625 -1.84375 C -4.6875 -1.84375 -5.390625 -2.296875 -5.40625 -3.859375 Z M -5.40625 -3.859375 \"/>\n",
       "</symbol>\n",
       "<symbol overflow=\"visible\" id=\"glyph1-8\">\n",
       "<path style=\"stroke:none;\" d=\"M -1.765625 -5.515625 C -2.703125 -5.515625 -3.171875 -4.984375 -3.46875 -3.734375 L -3.703125 -2.765625 C -3.890625 -1.953125 -4.15625 -1.609375 -4.59375 -1.609375 C -5.171875 -1.609375 -5.546875 -2.125 -5.546875 -2.9375 C -5.546875 -3.75 -5.203125 -4.171875 -4.53125 -4.203125 L -4.53125 -5.25 C -5.765625 -5.25 -6.46875 -4.421875 -6.46875 -2.96875 C -6.46875 -1.515625 -5.71875 -0.5625 -4.546875 -0.5625 C -3.5625 -0.5625 -3.09375 -1.0625 -2.734375 -2.5625 L -2.515625 -3.484375 C -2.34375 -4.1875 -2.140625 -4.46875 -1.6875 -4.46875 C -1.09375 -4.46875 -0.75 -3.875 -0.75 -3 C -0.75 -2.09375 -0.953125 -1.59375 -1.921875 -1.46875 L -1.921875 -0.40625 C -0.46875 -0.453125 0.1875 -1.265625 0.1875 -2.921875 C 0.1875 -4.5 -0.546875 -5.515625 -1.765625 -5.515625 Z M -1.765625 -5.515625 \"/>\n",
       "</symbol>\n",
       "<symbol overflow=\"visible\" id=\"glyph1-9\">\n",
       "<path style=\"stroke:none;\" d=\"M -2.859375 -6.15625 C -3.765625 -6.15625 -4.34375 -6.078125 -4.8125 -5.90625 C -5.84375 -5.5 -6.46875 -4.53125 -6.46875 -3.359375 C -6.46875 -1.609375 -5.171875 -0.484375 -3.109375 -0.484375 C -1.046875 -0.484375 0.1875 -1.578125 0.1875 -3.34375 C 0.1875 -4.78125 -0.640625 -5.765625 -1.90625 -6.03125 L -1.90625 -5.015625 C -1.078125 -4.734375 -0.75 -4.171875 -0.75 -3.375 C -0.75 -2.328125 -1.421875 -1.546875 -2.859375 -1.53125 Z M -3.75 -5.09375 C -3.75 -5.09375 -3.703125 -5.09375 -3.671875 -5.078125 L -3.671875 -1.546875 C -4.78125 -1.625 -5.546875 -2.34375 -5.546875 -3.34375 C -5.546875 -4.328125 -4.734375 -5.09375 -3.75 -5.09375 Z M -3.75 -5.09375 \"/>\n",
       "</symbol>\n",
       "<symbol overflow=\"visible\" id=\"glyph1-10\">\n",
       "<path style=\"stroke:none;\" d=\"\"/>\n",
       "</symbol>\n",
       "<symbol overflow=\"visible\" id=\"glyph1-11\">\n",
       "<path style=\"stroke:none;\" d=\"M -3.078125 -6.28125 C -5.203125 -6.28125 -6.46875 -5.25 -6.46875 -3.578125 C -6.46875 -2.71875 -6.078125 -2.046875 -5.34375 -1.578125 L -6.28125 -1.578125 L -6.28125 -0.65625 L 2.609375 -0.65625 L 2.609375 -1.65625 L -0.75 -1.65625 C -0.109375 -2.1875 0.1875 -2.765625 0.1875 -3.59375 C 0.1875 -5.203125 -1.078125 -6.28125 -3.078125 -6.28125 Z M -3.109375 -5.234375 C -1.6875 -5.234375 -0.75 -4.5 -0.75 -3.40625 C -0.75 -2.359375 -1.625 -1.65625 -3.09375 -1.65625 C -4.578125 -1.65625 -5.53125 -2.359375 -5.53125 -3.40625 C -5.53125 -4.515625 -4.609375 -5.234375 -3.109375 -5.234375 Z M -3.109375 -5.234375 \"/>\n",
       "</symbol>\n",
       "<symbol overflow=\"visible\" id=\"glyph1-12\">\n",
       "<path style=\"stroke:none;\" d=\"M -6.28125 -8.5 L -6.28125 -7.375 L -1.390625 -6.125 L -6.28125 -4.890625 L -6.28125 -3.65625 L -1.390625 -2.453125 L -6.28125 -1.171875 L -6.28125 -0.078125 L 0 -1.890625 L 0 -3.03125 L -4.9375 -4.234375 L 0 -5.515625 L 0 -6.640625 Z M -6.28125 -8.5 \"/>\n",
       "</symbol>\n",
       "</g>\n",
       "</defs>\n",
       "<g id=\"surface50\">\n",
       "<rect x=\"0\" y=\"0\" width=\"432\" height=\"288\" style=\"fill:rgb(100%,100%,100%);fill-opacity:1;stroke:none;\"/>\n",
       "<path style=\"fill:none;stroke-width:2.25;stroke-linecap:butt;stroke-linejoin:round;stroke:rgb(0%,0%,0%);stroke-opacity:1;stroke-miterlimit:10;\" d=\"M 87.601562 143.667969 L 214.535156 143.667969 \"/>\n",
       "<path style=\"fill:none;stroke-width:0.75;stroke-linecap:round;stroke-linejoin:round;stroke:rgb(0%,0%,0%);stroke-opacity:1;stroke-dasharray:3,3;stroke-miterlimit:10;\" d=\"M 151.066406 188.957031 L 151.066406 158.933594 \"/>\n",
       "<path style=\"fill:none;stroke-width:0.75;stroke-linecap:round;stroke-linejoin:round;stroke:rgb(0%,0%,0%);stroke-opacity:1;stroke-dasharray:3,3;stroke-miterlimit:10;\" d=\"M 151.066406 64.800781 L 151.066406 118.226562 \"/>\n",
       "<path style=\"fill:none;stroke-width:0.75;stroke-linecap:round;stroke-linejoin:round;stroke:rgb(0%,0%,0%);stroke-opacity:1;stroke-miterlimit:10;\" d=\"M 119.332031 188.957031 L 182.800781 188.957031 \"/>\n",
       "<path style=\"fill:none;stroke-width:0.75;stroke-linecap:round;stroke-linejoin:round;stroke:rgb(0%,0%,0%);stroke-opacity:1;stroke-miterlimit:10;\" d=\"M 119.332031 64.800781 L 182.800781 64.800781 \"/>\n",
       "<path style=\"fill:none;stroke-width:0.75;stroke-linecap:round;stroke-linejoin:round;stroke:rgb(0%,0%,0%);stroke-opacity:1;stroke-miterlimit:10;\" d=\"M 87.601562 158.933594 L 214.535156 158.933594 L 214.535156 118.226562 L 87.601562 118.226562 L 87.601562 158.933594 \"/>\n",
       "<path style=\"fill:none;stroke-width:2.25;stroke-linecap:butt;stroke-linejoin:round;stroke:rgb(0%,0%,0%);stroke-opacity:1;stroke-miterlimit:10;\" d=\"M 246.265625 186.410156 L 373.199219 186.410156 \"/>\n",
       "<path style=\"fill:none;stroke-width:0.75;stroke-linecap:round;stroke-linejoin:round;stroke:rgb(0%,0%,0%);stroke-opacity:1;stroke-dasharray:3,3;stroke-miterlimit:10;\" d=\"M 309.734375 208.800781 L 309.734375 201.675781 \"/>\n",
       "<path style=\"fill:none;stroke-width:0.75;stroke-linecap:round;stroke-linejoin:round;stroke:rgb(0%,0%,0%);stroke-opacity:1;stroke-dasharray:3,3;stroke-miterlimit:10;\" d=\"M 309.734375 172.671875 L 309.734375 179.289062 \"/>\n",
       "<path style=\"fill:none;stroke-width:0.75;stroke-linecap:round;stroke-linejoin:round;stroke:rgb(0%,0%,0%);stroke-opacity:1;stroke-miterlimit:10;\" d=\"M 278 208.800781 L 341.464844 208.800781 \"/>\n",
       "<path style=\"fill:none;stroke-width:0.75;stroke-linecap:round;stroke-linejoin:round;stroke:rgb(0%,0%,0%);stroke-opacity:1;stroke-miterlimit:10;\" d=\"M 278 172.671875 L 341.464844 172.671875 \"/>\n",
       "<path style=\"fill:none;stroke-width:0.75;stroke-linecap:round;stroke-linejoin:round;stroke:rgb(0%,0%,0%);stroke-opacity:1;stroke-miterlimit:10;\" d=\"M 246.265625 201.675781 L 373.199219 201.675781 L 373.199219 179.289062 L 246.265625 179.289062 L 246.265625 201.675781 \"/>\n",
       "<path style=\"fill:none;stroke-width:0.75;stroke-linecap:round;stroke-linejoin:round;stroke:rgb(0%,0%,0%);stroke-opacity:1;stroke-miterlimit:10;\" d=\"M 151.066406 214.558594 L 309.734375 214.558594 \"/>\n",
       "<path style=\"fill:none;stroke-width:0.75;stroke-linecap:round;stroke-linejoin:round;stroke:rgb(0%,0%,0%);stroke-opacity:1;stroke-miterlimit:10;\" d=\"M 151.066406 214.558594 L 151.066406 221.761719 \"/>\n",
       "<path style=\"fill:none;stroke-width:0.75;stroke-linecap:round;stroke-linejoin:round;stroke:rgb(0%,0%,0%);stroke-opacity:1;stroke-miterlimit:10;\" d=\"M 309.734375 214.558594 L 309.734375 221.761719 \"/>\n",
       "<g style=\"fill:rgb(0%,0%,0%);fill-opacity:1;\">\n",
       "  <use xlink:href=\"#glyph0-1\" x=\"126.566406\" y=\"240.256836\"/>\n",
       "  <use xlink:href=\"#glyph0-2\" x=\"134.570312\" y=\"240.256836\"/>\n",
       "  <use xlink:href=\"#glyph0-3\" x=\"138.566406\" y=\"240.256836\"/>\n",
       "  <use xlink:href=\"#glyph0-4\" x=\"145.238281\" y=\"240.256836\"/>\n",
       "  <use xlink:href=\"#glyph0-5\" x=\"151.910156\" y=\"240.256836\"/>\n",
       "  <use xlink:href=\"#glyph0-6\" x=\"158.582031\" y=\"240.256836\"/>\n",
       "  <use xlink:href=\"#glyph0-4\" x=\"161.246094\" y=\"240.256836\"/>\n",
       "  <use xlink:href=\"#glyph0-3\" x=\"167.917969\" y=\"240.256836\"/>\n",
       "</g>\n",
       "<g style=\"fill:rgb(0%,0%,0%);fill-opacity:1;\">\n",
       "  <use xlink:href=\"#glyph0-7\" x=\"285.234375\" y=\"240.256836\"/>\n",
       "  <use xlink:href=\"#glyph0-8\" x=\"293.238281\" y=\"240.256836\"/>\n",
       "  <use xlink:href=\"#glyph0-9\" x=\"296.574219\" y=\"240.256836\"/>\n",
       "  <use xlink:href=\"#glyph0-4\" x=\"303.246094\" y=\"240.256836\"/>\n",
       "  <use xlink:href=\"#glyph0-10\" x=\"309.917969\" y=\"240.256836\"/>\n",
       "  <use xlink:href=\"#glyph0-9\" x=\"316.589844\" y=\"240.256836\"/>\n",
       "  <use xlink:href=\"#glyph0-11\" x=\"323.261719\" y=\"240.256836\"/>\n",
       "  <use xlink:href=\"#glyph0-10\" x=\"327.257812\" y=\"240.256836\"/>\n",
       "</g>\n",
       "<path style=\"fill:none;stroke-width:0.75;stroke-linecap:round;stroke-linejoin:round;stroke:rgb(0%,0%,0%);stroke-opacity:1;stroke-miterlimit:10;\" d=\"M 59.039062 209.816406 L 59.039062 82.609375 \"/>\n",
       "<path style=\"fill:none;stroke-width:0.75;stroke-linecap:round;stroke-linejoin:round;stroke:rgb(0%,0%,0%);stroke-opacity:1;stroke-miterlimit:10;\" d=\"M 59.039062 209.816406 L 51.839844 209.816406 \"/>\n",
       "<path style=\"fill:none;stroke-width:0.75;stroke-linecap:round;stroke-linejoin:round;stroke:rgb(0%,0%,0%);stroke-opacity:1;stroke-miterlimit:10;\" d=\"M 59.039062 184.375 L 51.839844 184.375 \"/>\n",
       "<path style=\"fill:none;stroke-width:0.75;stroke-linecap:round;stroke-linejoin:round;stroke:rgb(0%,0%,0%);stroke-opacity:1;stroke-miterlimit:10;\" d=\"M 59.039062 158.933594 L 51.839844 158.933594 \"/>\n",
       "<path style=\"fill:none;stroke-width:0.75;stroke-linecap:round;stroke-linejoin:round;stroke:rgb(0%,0%,0%);stroke-opacity:1;stroke-miterlimit:10;\" d=\"M 59.039062 133.492188 L 51.839844 133.492188 \"/>\n",
       "<path style=\"fill:none;stroke-width:0.75;stroke-linecap:round;stroke-linejoin:round;stroke:rgb(0%,0%,0%);stroke-opacity:1;stroke-miterlimit:10;\" d=\"M 59.039062 108.050781 L 51.839844 108.050781 \"/>\n",
       "<path style=\"fill:none;stroke-width:0.75;stroke-linecap:round;stroke-linejoin:round;stroke:rgb(0%,0%,0%);stroke-opacity:1;stroke-miterlimit:10;\" d=\"M 59.039062 82.609375 L 51.839844 82.609375 \"/>\n",
       "<g style=\"fill:rgb(0%,0%,0%);fill-opacity:1;\">\n",
       "  <use xlink:href=\"#glyph1-1\" x=\"41.538086\" y=\"216.816406\"/>\n",
       "  <use xlink:href=\"#glyph1-2\" x=\"41.538086\" y=\"210.144531\"/>\n",
       "</g>\n",
       "<g style=\"fill:rgb(0%,0%,0%);fill-opacity:1;\">\n",
       "  <use xlink:href=\"#glyph1-3\" x=\"41.538086\" y=\"169.433594\"/>\n",
       "  <use xlink:href=\"#glyph1-1\" x=\"41.538086\" y=\"162.761719\"/>\n",
       "  <use xlink:href=\"#glyph1-2\" x=\"41.538086\" y=\"156.089844\"/>\n",
       "</g>\n",
       "<g style=\"fill:rgb(0%,0%,0%);fill-opacity:1;\">\n",
       "  <use xlink:href=\"#glyph1-4\" x=\"41.538086\" y=\"118.550781\"/>\n",
       "  <use xlink:href=\"#glyph1-1\" x=\"41.538086\" y=\"111.878906\"/>\n",
       "  <use xlink:href=\"#glyph1-2\" x=\"41.538086\" y=\"105.207031\"/>\n",
       "</g>\n",
       "<g style=\"fill:rgb(0%,0%,0%);fill-opacity:1;\">\n",
       "  <use xlink:href=\"#glyph1-5\" x=\"12.737305\" y=\"171.300781\"/>\n",
       "  <use xlink:href=\"#glyph1-6\" x=\"12.737305\" y=\"162.636719\"/>\n",
       "  <use xlink:href=\"#glyph1-7\" x=\"12.737305\" y=\"155.964844\"/>\n",
       "  <use xlink:href=\"#glyph1-8\" x=\"12.737305\" y=\"151.96875\"/>\n",
       "  <use xlink:href=\"#glyph1-9\" x=\"12.737305\" y=\"145.96875\"/>\n",
       "  <use xlink:href=\"#glyph1-10\" x=\"12.737305\" y=\"139.296875\"/>\n",
       "  <use xlink:href=\"#glyph1-11\" x=\"12.737305\" y=\"135.960938\"/>\n",
       "  <use xlink:href=\"#glyph1-6\" x=\"12.737305\" y=\"129.289062\"/>\n",
       "  <use xlink:href=\"#glyph1-12\" x=\"12.737305\" y=\"122.617188\"/>\n",
       "  <use xlink:href=\"#glyph1-9\" x=\"12.737305\" y=\"113.953125\"/>\n",
       "  <use xlink:href=\"#glyph1-7\" x=\"12.737305\" y=\"107.28125\"/>\n",
       "</g>\n",
       "<path style=\"fill:none;stroke-width:0.75;stroke-linecap:round;stroke-linejoin:round;stroke:rgb(0%,0%,0%);stroke-opacity:1;stroke-miterlimit:10;\" d=\"M 59.039062 214.558594 L 401.761719 214.558594 L 401.761719 59.039062 L 59.039062 59.039062 L 59.039062 214.558594 \"/>\n",
       "</g>\n",
       "</svg>\n"
      ],
      "text/plain": [
       "plot without title"
      ]
     },
     "metadata": {
      "image/svg+xml": {
       "isolated": true
      }
     },
     "output_type": "display_data"
    }
   ],
   "source": [
    "plot(x = mtcars$vs, y=mtcars$hp,ylab=\"Horse power\")"
   ]
  },
  {
   "cell_type": "markdown",
   "metadata": {
    "slideshow": {
     "slide_type": "slide"
    }
   },
   "source": [
    "If both axes are categorical, a stacked bar plot is displayed."
   ]
  },
  {
   "cell_type": "code",
   "execution_count": 45,
   "metadata": {},
   "outputs": [
    {
     "data": {
      "image/png": "[encoded data removed]",
      "image/svg+xml": [
       "<?xml version=\"1.0\" encoding=\"UTF-8\"?>\n",
       "<svg xmlns=\"http://www.w3.org/2000/svg\" xmlns:xlink=\"http://www.w3.org/1999/xlink\" width=\"432pt\" height=\"288pt\" viewBox=\"0 0 432 288\" version=\"1.1\">\n",
       "<defs>\n",
       "<g>\n",
       "<symbol overflow=\"visible\" id=\"glyph0-0\">\n",
       "<path style=\"stroke:none;\" d=\"\"/>\n",
       "</symbol>\n",
       "<symbol overflow=\"visible\" id=\"glyph0-1\">\n",
       "<path style=\"stroke:none;\" d=\"M 7.359375 0 L 7.359375 -0.984375 L 2.203125 -0.984375 L 2.203125 -3.984375 L 6.953125 -3.984375 L 6.953125 -4.96875 L 2.203125 -4.96875 L 2.203125 -7.765625 L 7.140625 -7.765625 L 7.140625 -8.75 L 1.078125 -8.75 L 1.078125 0 Z M 7.359375 0 \"/>\n",
       "</symbol>\n",
       "<symbol overflow=\"visible\" id=\"glyph0-2\">\n",
       "<path style=\"stroke:none;\" d=\"M 5.84375 0 L 5.84375 -4.75 C 5.84375 -5.796875 5.0625 -6.46875 3.859375 -6.46875 C 2.921875 -6.46875 2.3125 -6.109375 1.765625 -5.234375 L 1.765625 -6.28125 L 0.84375 -6.28125 L 0.84375 0 L 1.84375 0 L 1.84375 -3.46875 C 1.84375 -4.75 2.53125 -5.59375 3.546875 -5.59375 C 4.34375 -5.59375 4.84375 -5.109375 4.84375 -4.359375 L 4.84375 0 Z M 5.84375 0 \"/>\n",
       "</symbol>\n",
       "<symbol overflow=\"visible\" id=\"glyph0-3\">\n",
       "<path style=\"stroke:none;\" d=\"M 5.875 -1.03125 L 5.875 -6.28125 L 4.9375 -6.28125 L 4.9375 -5.375 C 4.4375 -6.125 3.828125 -6.46875 3.03125 -6.46875 C 1.421875 -6.46875 0.34375 -5.125 0.34375 -3.078125 C 0.34375 -1.109375 1.46875 0.1875 2.9375 0.1875 C 3.734375 0.1875 4.28125 -0.15625 4.9375 -0.953125 L 4.9375 -0.53125 C 4.9375 1.140625 4.265625 1.78125 3.09375 1.78125 C 2.296875 1.78125 1.6875 1.484375 1.578125 0.71875 L 0.546875 0.71875 C 0.65625 1.90625 1.578125 2.609375 3.0625 2.609375 C 5.03125 2.609375 5.875 1.734375 5.875 -1.03125 Z M 4.84375 -3.109375 C 4.84375 -1.609375 4.203125 -0.75 3.140625 -0.75 C 2.046875 -0.75 1.390625 -1.625 1.390625 -3.140625 C 1.390625 -4.65625 2.0625 -5.546875 3.125 -5.546875 C 4.21875 -5.546875 4.84375 -4.625 4.84375 -3.109375 Z M 4.84375 -3.109375 \"/>\n",
       "</symbol>\n",
       "<symbol overflow=\"visible\" id=\"glyph0-4\">\n",
       "<path style=\"stroke:none;\" d=\"M 1.84375 0 L 1.84375 -6.28125 L 0.84375 -6.28125 L 0.84375 0 Z M 1.96875 -7.234375 L 1.96875 -8.484375 L 0.71875 -8.484375 L 0.71875 -7.234375 Z M 1.96875 -7.234375 \"/>\n",
       "</symbol>\n",
       "<symbol overflow=\"visible\" id=\"glyph0-5\">\n",
       "<path style=\"stroke:none;\" d=\"M 6.15625 -2.859375 C 6.15625 -3.765625 6.078125 -4.34375 5.90625 -4.8125 C 5.5 -5.84375 4.53125 -6.46875 3.359375 -6.46875 C 1.609375 -6.46875 0.484375 -5.171875 0.484375 -3.109375 C 0.484375 -1.046875 1.578125 0.1875 3.34375 0.1875 C 4.78125 0.1875 5.765625 -0.640625 6.03125 -1.90625 L 5.015625 -1.90625 C 4.734375 -1.078125 4.171875 -0.75 3.375 -0.75 C 2.328125 -0.75 1.546875 -1.421875 1.53125 -2.859375 Z M 5.09375 -3.75 C 5.09375 -3.75 5.09375 -3.703125 5.078125 -3.671875 L 1.546875 -3.671875 C 1.625 -4.78125 2.34375 -5.546875 3.34375 -5.546875 C 4.328125 -5.546875 5.09375 -4.734375 5.09375 -3.75 Z M 5.09375 -3.75 \"/>\n",
       "</symbol>\n",
       "<symbol overflow=\"visible\" id=\"glyph0-6\">\n",
       "<path style=\"stroke:none;\" d=\"\"/>\n",
       "</symbol>\n",
       "<symbol overflow=\"visible\" id=\"glyph0-7\">\n",
       "<path style=\"stroke:none;\" d=\"M 3.046875 0 L 3.046875 -0.84375 C 2.921875 -0.796875 2.765625 -0.796875 2.5625 -0.796875 C 2.140625 -0.796875 2.015625 -0.90625 2.015625 -1.359375 L 2.015625 -5.46875 L 3.046875 -5.46875 L 3.046875 -6.28125 L 2.015625 -6.28125 L 2.015625 -8.015625 L 1.015625 -8.015625 L 1.015625 -6.28125 L 0.171875 -6.28125 L 0.171875 -5.46875 L 1.015625 -5.46875 L 1.015625 -0.90625 C 1.015625 -0.28125 1.453125 0.078125 2.234375 0.078125 C 2.46875 0.078125 2.71875 0.0625 3.046875 0 Z M 3.046875 0 \"/>\n",
       "</symbol>\n",
       "<symbol overflow=\"visible\" id=\"glyph0-8\">\n",
       "<path style=\"stroke:none;\" d=\"M 5.734375 -6.28125 L 4.65625 -6.28125 L 2.921875 -1.390625 L 1.3125 -6.28125 L 0.234375 -6.28125 L 2.359375 0.03125 L 1.984375 1.015625 C 1.8125 1.46875 1.609375 1.625 1.171875 1.625 C 1.03125 1.625 0.859375 1.609375 0.640625 1.5625 L 0.640625 2.453125 C 0.859375 2.5625 1.0625 2.609375 1.3125 2.609375 C 2.03125 2.609375 2.609375 2.21875 2.9375 1.3125 Z M 5.734375 -6.28125 \"/>\n",
       "</symbol>\n",
       "<symbol overflow=\"visible\" id=\"glyph0-9\">\n",
       "<path style=\"stroke:none;\" d=\"M 6.28125 -3.078125 C 6.28125 -5.203125 5.25 -6.46875 3.578125 -6.46875 C 2.71875 -6.46875 2.046875 -6.078125 1.578125 -5.34375 L 1.578125 -6.28125 L 0.65625 -6.28125 L 0.65625 2.609375 L 1.65625 2.609375 L 1.65625 -0.75 C 2.1875 -0.109375 2.765625 0.1875 3.59375 0.1875 C 5.203125 0.1875 6.28125 -1.078125 6.28125 -3.078125 Z M 5.234375 -3.109375 C 5.234375 -1.6875 4.5 -0.75 3.40625 -0.75 C 2.359375 -0.75 1.65625 -1.625 1.65625 -3.09375 C 1.65625 -4.578125 2.359375 -5.53125 3.40625 -5.53125 C 4.515625 -5.53125 5.234375 -4.609375 5.234375 -3.109375 Z M 5.234375 -3.109375 \"/>\n",
       "</symbol>\n",
       "<symbol overflow=\"visible\" id=\"glyph0-10\">\n",
       "<path style=\"stroke:none;\" d=\"M 7.734375 -8.75 L 6.546875 -8.75 L 4.125 -1.34375 L 1.5625 -8.75 L 0.359375 -8.75 L 3.5 0 L 4.703125 0 Z M 7.734375 -8.75 \"/>\n",
       "</symbol>\n",
       "<symbol overflow=\"visible\" id=\"glyph0-11\">\n",
       "<path style=\"stroke:none;\" d=\"M 3.40625 -2.875 L 3.40625 -3.75 L 0.546875 -3.75 L 0.546875 -2.875 Z M 3.40625 -2.875 \"/>\n",
       "</symbol>\n",
       "<symbol overflow=\"visible\" id=\"glyph0-12\">\n",
       "<path style=\"stroke:none;\" d=\"M 7.453125 -2.40625 C 7.453125 -3.484375 6.78125 -4.265625 5.59375 -4.59375 L 3.390625 -5.1875 C 2.34375 -5.453125 1.953125 -5.8125 1.953125 -6.484375 C 1.953125 -7.375 2.734375 -8.03125 3.90625 -8.03125 C 5.296875 -8.03125 6.09375 -7.390625 6.09375 -6.25 L 7.15625 -6.25 C 7.15625 -7.96875 5.96875 -8.96875 3.953125 -8.96875 C 2.03125 -8.96875 0.84375 -7.90625 0.84375 -6.328125 C 0.84375 -5.25 1.40625 -4.578125 2.5625 -4.28125 L 4.734375 -3.703125 C 5.828125 -3.421875 6.34375 -2.96875 6.34375 -2.296875 C 6.34375 -1.328125 5.609375 -0.765625 4.109375 -0.765625 C 2.453125 -0.765625 1.625 -1.59375 1.625 -2.84375 L 0.578125 -2.84375 C 0.578125 -0.78125 1.96875 0.21875 4.03125 0.21875 C 6.25 0.21875 7.453125 -0.84375 7.453125 -2.40625 Z M 7.453125 -2.40625 \"/>\n",
       "</symbol>\n",
       "<symbol overflow=\"visible\" id=\"glyph0-13\">\n",
       "<path style=\"stroke:none;\" d=\"M 6.421875 -0.03125 L 6.421875 -0.78125 C 6.3125 -0.75 6.265625 -0.75 6.203125 -0.75 C 5.859375 -0.75 5.65625 -0.9375 5.65625 -1.25 L 5.65625 -4.75 C 5.65625 -5.875 4.84375 -6.46875 3.296875 -6.46875 C 1.78125 -6.46875 0.84375 -5.875 0.78125 -4.421875 L 1.78125 -4.421875 C 1.875 -5.203125 2.328125 -5.546875 3.265625 -5.546875 C 4.15625 -5.546875 4.671875 -5.203125 4.671875 -4.609375 L 4.671875 -4.34375 C 4.671875 -3.921875 4.421875 -3.75 3.625 -3.640625 C 2.203125 -3.46875 1.984375 -3.421875 1.609375 -3.265625 C 0.875 -2.96875 0.5 -2.40625 0.5 -1.625 C 0.5 -0.484375 1.296875 0.1875 2.5625 0.1875 C 3.375 0.1875 4.15625 -0.15625 4.703125 -0.75 C 4.8125 -0.265625 5.25 0.078125 5.734375 0.078125 C 5.9375 0.078125 6.09375 0.0625 6.421875 -0.03125 Z M 4.671875 -2.171875 C 4.671875 -1.265625 3.75 -0.703125 2.78125 -0.703125 C 2 -0.703125 1.546875 -0.96875 1.546875 -1.65625 C 1.546875 -2.3125 1.984375 -2.609375 3.0625 -2.765625 C 4.109375 -2.90625 4.328125 -2.953125 4.671875 -3.109375 Z M 4.671875 -2.171875 \"/>\n",
       "</symbol>\n",
       "<symbol overflow=\"visible\" id=\"glyph0-14\">\n",
       "<path style=\"stroke:none;\" d=\"M 5.9375 0 L 5.9375 -8.75 L 4.9375 -8.75 L 4.9375 -5.5 C 4.53125 -6.125 3.859375 -6.46875 3.015625 -6.46875 C 1.375 -6.46875 0.3125 -5.203125 0.3125 -3.203125 C 0.3125 -1.078125 1.359375 0.1875 3.046875 0.1875 C 3.90625 0.1875 4.515625 -0.140625 5.046875 -0.921875 L 5.046875 0 Z M 4.9375 -3.125 C 4.9375 -1.671875 4.25 -0.75 3.1875 -0.75 C 2.09375 -0.75 1.359375 -1.6875 1.359375 -3.140625 C 1.359375 -4.609375 2.09375 -5.53125 3.1875 -5.53125 C 4.265625 -5.53125 4.9375 -4.578125 4.9375 -3.125 Z M 4.9375 -3.125 \"/>\n",
       "</symbol>\n",
       "<symbol overflow=\"visible\" id=\"glyph0-15\">\n",
       "<path style=\"stroke:none;\" d=\"M 3.859375 -5.40625 L 3.859375 -6.4375 C 3.6875 -6.453125 3.59375 -6.46875 3.46875 -6.46875 C 2.8125 -6.46875 2.328125 -6.078125 1.75 -5.140625 L 1.75 -6.28125 L 0.84375 -6.28125 L 0.84375 0 L 1.84375 0 L 1.84375 -3.265625 C 1.84375 -4.6875 2.296875 -5.390625 3.859375 -5.40625 Z M 3.859375 -5.40625 \"/>\n",
       "</symbol>\n",
       "<symbol overflow=\"visible\" id=\"glyph1-0\">\n",
       "<path style=\"stroke:none;\" d=\"\"/>\n",
       "</symbol>\n",
       "<symbol overflow=\"visible\" id=\"glyph1-1\">\n",
       "<path style=\"stroke:none;\" d=\"M 0 -8.515625 L -4.625 -8.515625 L -4.625 -4.859375 L -3.640625 -4.859375 L -3.640625 -7.53125 L -3.390625 -7.53125 C -1.84375 -7.53125 -0.765625 -6.375 -0.765625 -4.78125 C -0.765625 -2.796875 -2.203125 -1.640625 -4.34375 -1.640625 C -6.484375 -1.640625 -7.984375 -2.875 -7.984375 -4.71875 C -7.984375 -6.046875 -7.21875 -7.015625 -6.09375 -7.25 L -6.09375 -8.390625 C -7.875 -8.078125 -8.96875 -6.734375 -8.96875 -4.734375 C -8.96875 -2.046875 -6.90625 -0.53125 -4.28125 -0.53125 C -1.59375 -0.53125 0.21875 -2.171875 0.21875 -4.53125 C 0.21875 -5.71875 -0.203125 -6.671875 -1.15625 -7.53125 L 0 -7.796875 Z M 0 -8.515625 \"/>\n",
       "</symbol>\n",
       "<symbol overflow=\"visible\" id=\"glyph1-2\">\n",
       "<path style=\"stroke:none;\" d=\"M -2.859375 -6.15625 C -3.765625 -6.15625 -4.34375 -6.078125 -4.8125 -5.90625 C -5.84375 -5.5 -6.46875 -4.53125 -6.46875 -3.359375 C -6.46875 -1.609375 -5.171875 -0.484375 -3.109375 -0.484375 C -1.046875 -0.484375 0.1875 -1.578125 0.1875 -3.34375 C 0.1875 -4.78125 -0.640625 -5.765625 -1.90625 -6.03125 L -1.90625 -5.015625 C -1.078125 -4.734375 -0.75 -4.171875 -0.75 -3.375 C -0.75 -2.328125 -1.421875 -1.546875 -2.859375 -1.53125 Z M -3.75 -5.09375 C -3.75 -5.09375 -3.703125 -5.09375 -3.671875 -5.078125 L -3.671875 -1.546875 C -4.78125 -1.625 -5.546875 -2.34375 -5.546875 -3.34375 C -5.546875 -4.328125 -4.734375 -5.09375 -3.75 -5.09375 Z M -3.75 -5.09375 \"/>\n",
       "</symbol>\n",
       "<symbol overflow=\"visible\" id=\"glyph1-3\">\n",
       "<path style=\"stroke:none;\" d=\"M -0.03125 -6.421875 L -0.78125 -6.421875 C -0.75 -6.3125 -0.75 -6.265625 -0.75 -6.203125 C -0.75 -5.859375 -0.9375 -5.65625 -1.25 -5.65625 L -4.75 -5.65625 C -5.875 -5.65625 -6.46875 -4.84375 -6.46875 -3.296875 C -6.46875 -1.78125 -5.875 -0.84375 -4.421875 -0.78125 L -4.421875 -1.78125 C -5.203125 -1.875 -5.546875 -2.328125 -5.546875 -3.265625 C -5.546875 -4.15625 -5.203125 -4.671875 -4.609375 -4.671875 L -4.34375 -4.671875 C -3.921875 -4.671875 -3.75 -4.421875 -3.640625 -3.625 C -3.46875 -2.203125 -3.421875 -1.984375 -3.265625 -1.609375 C -2.96875 -0.875 -2.40625 -0.5 -1.625 -0.5 C -0.484375 -0.5 0.1875 -1.296875 0.1875 -2.5625 C 0.1875 -3.375 -0.15625 -4.15625 -0.75 -4.703125 C -0.265625 -4.8125 0.078125 -5.25 0.078125 -5.734375 C 0.078125 -5.9375 0.0625 -6.09375 -0.03125 -6.421875 Z M -2.171875 -4.671875 C -1.265625 -4.671875 -0.703125 -3.75 -0.703125 -2.78125 C -0.703125 -2 -0.96875 -1.546875 -1.65625 -1.546875 C -2.3125 -1.546875 -2.609375 -1.984375 -2.765625 -3.0625 C -2.90625 -4.109375 -2.953125 -4.328125 -3.109375 -4.671875 Z M -2.171875 -4.671875 \"/>\n",
       "</symbol>\n",
       "<symbol overflow=\"visible\" id=\"glyph1-4\">\n",
       "<path style=\"stroke:none;\" d=\"M -5.40625 -3.859375 L -6.4375 -3.859375 C -6.453125 -3.6875 -6.46875 -3.59375 -6.46875 -3.46875 C -6.46875 -2.8125 -6.078125 -2.328125 -5.140625 -1.75 L -6.28125 -1.75 L -6.28125 -0.84375 L 0 -0.84375 L 0 -1.84375 L -3.265625 -1.84375 C -4.6875 -1.84375 -5.390625 -2.296875 -5.40625 -3.859375 Z M -5.40625 -3.859375 \"/>\n",
       "</symbol>\n",
       "<symbol overflow=\"visible\" id=\"glyph1-5\">\n",
       "<path style=\"stroke:none;\" d=\"M -2.46875 -6.078125 C -3.5 -6.078125 -4.109375 -5.65625 -4.453125 -4.625 C -4.765625 -5.421875 -5.3125 -5.8125 -6.171875 -5.8125 C -7.625 -5.8125 -8.515625 -4.84375 -8.515625 -3.234375 C -8.515625 -1.515625 -7.578125 -0.59375 -5.765625 -0.5625 L -5.765625 -1.625 C -7.015625 -1.640625 -7.578125 -2.15625 -7.578125 -3.234375 C -7.578125 -4.171875 -7.03125 -4.734375 -6.125 -4.734375 C -5.21875 -4.734375 -4.84375 -4.34375 -4.84375 -2.65625 L -3.953125 -2.65625 L -3.953125 -3.234375 C -3.953125 -4.390625 -3.40625 -4.984375 -2.453125 -4.984375 C -1.390625 -4.984375 -0.75 -4.328125 -0.75 -3.234375 C -0.75 -2.078125 -1.328125 -1.515625 -2.5625 -1.4375 L -2.5625 -0.390625 C -0.671875 -0.515625 0.1875 -1.453125 0.1875 -3.1875 C 0.1875 -4.9375 -0.859375 -6.078125 -2.46875 -6.078125 Z M -2.46875 -6.078125 \"/>\n",
       "</symbol>\n",
       "<symbol overflow=\"visible\" id=\"glyph1-6\">\n",
       "<path style=\"stroke:none;\" d=\"M -2.046875 -6.234375 L -2.984375 -6.234375 L -2.984375 -4.984375 L -8.515625 -4.984375 L -8.515625 -4.203125 L -3.15625 -0.34375 L -2.046875 -0.34375 L -2.046875 -3.921875 L 0 -3.921875 L 0 -4.984375 L -2.046875 -4.984375 Z M -2.984375 -3.921875 L -2.984375 -1.265625 L -6.703125 -3.921875 Z M -2.984375 -3.921875 \"/>\n",
       "</symbol>\n",
       "<symbol overflow=\"visible\" id=\"glyph1-7\">\n",
       "<path style=\"stroke:none;\" d=\"M -2.8125 -6.15625 C -4.5 -6.15625 -5.609375 -5.046875 -5.609375 -3.40625 C -5.609375 -2.8125 -5.453125 -2.328125 -5.09375 -1.84375 L -7.28125 -2.171875 L -7.28125 -5.71875 L -8.328125 -5.71875 L -8.328125 -1.3125 L -3.875 -0.6875 L -3.875 -1.65625 C -4.46875 -2.140625 -4.671875 -2.5625 -4.671875 -3.21875 C -4.671875 -4.359375 -3.9375 -5.078125 -2.671875 -5.078125 C -1.453125 -5.078125 -0.75 -4.375 -0.75 -3.21875 C -0.75 -2.296875 -1.21875 -1.734375 -2.1875 -1.46875 L -2.1875 -0.421875 C -0.484375 -0.765625 0.1875 -1.734375 0.1875 -3.234375 C 0.1875 -4.953125 -1.015625 -6.15625 -2.8125 -6.15625 Z M -2.8125 -6.15625 \"/>\n",
       "</symbol>\n",
       "<symbol overflow=\"visible\" id=\"glyph1-8\">\n",
       "<path style=\"stroke:none;\" d=\"M -4.09375 -6.078125 C -7.046875 -6.078125 -8.515625 -5.140625 -8.515625 -3.296875 C -8.515625 -1.46875 -7.015625 -0.515625 -4.15625 -0.515625 C -1.296875 -0.515625 0.1875 -1.46875 0.1875 -3.296875 C 0.1875 -5.09375 -1.296875 -6.078125 -4.09375 -6.078125 Z M -4.1875 -5 C -1.78125 -5 -0.703125 -4.453125 -0.703125 -3.28125 C -0.703125 -2.15625 -1.828125 -1.59375 -4.15625 -1.59375 C -6.484375 -1.59375 -7.578125 -2.15625 -7.578125 -3.296875 C -7.578125 -4.4375 -6.46875 -5 -4.1875 -5 Z M -4.1875 -5 \"/>\n",
       "</symbol>\n",
       "<symbol overflow=\"visible\" id=\"glyph1-9\">\n",
       "<path style=\"stroke:none;\" d=\"M 0.1875 -2.296875 L -1.25 -2.296875 L -1.25 -1.046875 L 0 -1.046875 L 0 -1.765625 L 0.21875 -1.765625 C 1.046875 -1.765625 1.28125 -1.609375 1.3125 -1.046875 L 1.765625 -1.046875 C 1.765625 -1.890625 1.21875 -2.296875 0.1875 -2.296875 Z M 0.1875 -2.296875 \"/>\n",
       "</symbol>\n",
       "<symbol overflow=\"visible\" id=\"glyph1-10\">\n",
       "<path style=\"stroke:none;\" d=\"M -6.015625 -6.125 C -7.453125 -6.125 -8.515625 -5.015625 -8.515625 -3.40625 C -8.515625 -1.671875 -7.625 -0.65625 -5.5625 -0.59375 L -5.5625 -1.65625 C -6.984375 -1.734375 -7.578125 -2.328125 -7.578125 -3.375 C -7.578125 -4.328125 -6.90625 -5.046875 -5.984375 -5.046875 C -5.3125 -5.046875 -4.734375 -4.65625 -4.3125 -3.90625 L -3.6875 -2.796875 C -2.671875 -1.015625 -1.875 -0.5 0 -0.40625 L 0 -6.078125 L -1.046875 -6.078125 L -1.046875 -1.59375 C -1.734375 -1.703125 -2.1875 -2.09375 -2.796875 -3.125 L -3.4375 -4.328125 C -4.078125 -5.515625 -4.96875 -6.125 -6.015625 -6.125 Z M -6.015625 -6.125 \"/>\n",
       "</symbol>\n",
       "<symbol overflow=\"visible\" id=\"glyph1-11\">\n",
       "<path style=\"stroke:none;\" d=\"M -2.640625 -6.15625 C -4.21875 -6.15625 -5.296875 -5.078125 -5.296875 -3.546875 C -5.296875 -2.71875 -4.96875 -2.046875 -4.34375 -1.59375 C -6.421875 -1.609375 -7.578125 -2.28125 -7.578125 -3.484375 C -7.578125 -4.234375 -7.109375 -4.75 -6.28125 -4.921875 L -6.28125 -5.96875 C -7.6875 -5.765625 -8.515625 -4.859375 -8.515625 -3.5625 C -8.515625 -1.578125 -6.84375 -0.515625 -3.875 -0.515625 C -1.21875 -0.515625 0.1875 -1.421875 0.1875 -3.375 C 0.1875 -4.984375 -0.96875 -6.15625 -2.640625 -6.15625 Z M -2.5625 -5.078125 C -1.484375 -5.078125 -0.75 -4.359375 -0.75 -3.390625 C -0.75 -2.40625 -1.53125 -1.65625 -2.609375 -1.65625 C -3.671875 -1.65625 -4.359375 -2.375 -4.359375 -3.421875 C -4.359375 -4.4375 -3.703125 -5.078125 -2.5625 -5.078125 Z M -2.5625 -5.078125 \"/>\n",
       "</symbol>\n",
       "<symbol overflow=\"visible\" id=\"glyph1-12\">\n",
       "<path style=\"stroke:none;\" d=\"M -2.40625 -6.15625 C -3.34375 -6.15625 -4.015625 -5.671875 -4.46875 -4.6875 C -5 -5.5625 -5.4375 -5.859375 -6.234375 -5.859375 C -7.578125 -5.859375 -8.515625 -4.8125 -8.515625 -3.296875 C -8.515625 -1.796875 -7.578125 -0.75 -6.234375 -0.75 C -5.453125 -0.75 -5.015625 -1.03125 -4.46875 -1.890625 C -4.015625 -0.921875 -3.34375 -0.4375 -2.40625 -0.4375 C -0.859375 -0.4375 0.1875 -1.625 0.1875 -3.296875 C 0.1875 -4.984375 -0.859375 -6.15625 -2.40625 -6.15625 Z M -6.21875 -4.78125 C -5.421875 -4.78125 -4.890625 -4.1875 -4.890625 -3.296875 C -4.890625 -2.40625 -5.421875 -1.828125 -6.234375 -1.828125 C -7.046875 -1.828125 -7.578125 -2.40625 -7.578125 -3.296875 C -7.578125 -4.203125 -7.046875 -4.78125 -6.21875 -4.78125 Z M -2.390625 -5.078125 C -1.375 -5.078125 -0.75 -4.359375 -0.75 -3.28125 C -0.75 -2.25 -1.390625 -1.53125 -2.390625 -1.53125 C -3.390625 -1.53125 -4.015625 -2.25 -4.015625 -3.296875 C -4.015625 -4.359375 -3.390625 -5.078125 -2.390625 -5.078125 Z M -2.390625 -5.078125 \"/>\n",
       "</symbol>\n",
       "<symbol overflow=\"visible\" id=\"glyph1-13\">\n",
       "<path style=\"stroke:none;\" d=\"M 0 -4.15625 L -8.515625 -4.15625 L -8.515625 -3.46875 C -7.203125 -3.09375 -7.015625 -2.859375 -6.8125 -1.21875 L -6.0625 -1.21875 L -6.0625 -3.109375 L 0 -3.109375 Z M 0 -4.15625 \"/>\n",
       "</symbol>\n",
       "</g>\n",
       "<clipPath id=\"clip1\">\n",
       "  <path d=\"M 59.039062 110 L 249 110 L 249 215 L 59.039062 215 Z M 59.039062 110 \"/>\n",
       "</clipPath>\n",
       "<clipPath id=\"clip2\">\n",
       "  <path d=\"M 59.039062 93 L 249 93 L 249 111 L 59.039062 111 Z M 59.039062 93 \"/>\n",
       "</clipPath>\n",
       "<clipPath id=\"clip3\">\n",
       "  <path d=\"M 59.039062 93 L 249 93 L 249 112 L 59.039062 112 Z M 59.039062 93 \"/>\n",
       "</clipPath>\n",
       "<clipPath id=\"clip4\">\n",
       "  <path d=\"M 59.039062 59.039062 L 249 59.039062 L 249 94 L 59.039062 94 Z M 59.039062 59.039062 \"/>\n",
       "</clipPath>\n",
       "<clipPath id=\"clip5\">\n",
       "  <path d=\"M 254 180 L 402.757812 180 L 402.757812 215 L 254 215 Z M 254 180 \"/>\n",
       "</clipPath>\n",
       "<clipPath id=\"clip6\">\n",
       "  <path d=\"M 254 69 L 402.757812 69 L 402.757812 182 L 254 182 Z M 254 69 \"/>\n",
       "</clipPath>\n",
       "<clipPath id=\"clip7\">\n",
       "  <path d=\"M 254 59.039062 L 402 59.039062 L 402 71 L 254 71 Z M 254 59.039062 \"/>\n",
       "</clipPath>\n",
       "<clipPath id=\"clip8\">\n",
       "  <path d=\"M 254 59.039062 L 402.757812 59.039062 L 402.757812 71 L 254 71 Z M 254 59.039062 \"/>\n",
       "</clipPath>\n",
       "</defs>\n",
       "<g id=\"surface80\">\n",
       "<rect x=\"0\" y=\"0\" width=\"432\" height=\"288\" style=\"fill:rgb(100%,100%,100%);fill-opacity:1;stroke:none;\"/>\n",
       "<g style=\"fill:rgb(0%,0%,0%);fill-opacity:1;\">\n",
       "  <use xlink:href=\"#glyph0-1\" x=\"198.398438\" y=\"269.057617\"/>\n",
       "  <use xlink:href=\"#glyph0-2\" x=\"206.402344\" y=\"269.057617\"/>\n",
       "  <use xlink:href=\"#glyph0-3\" x=\"213.074219\" y=\"269.057617\"/>\n",
       "  <use xlink:href=\"#glyph0-4\" x=\"219.746094\" y=\"269.057617\"/>\n",
       "  <use xlink:href=\"#glyph0-2\" x=\"222.410156\" y=\"269.057617\"/>\n",
       "  <use xlink:href=\"#glyph0-5\" x=\"229.082031\" y=\"269.057617\"/>\n",
       "  <use xlink:href=\"#glyph0-6\" x=\"235.753906\" y=\"269.057617\"/>\n",
       "  <use xlink:href=\"#glyph0-7\" x=\"239.089844\" y=\"269.057617\"/>\n",
       "  <use xlink:href=\"#glyph0-8\" x=\"242.425781\" y=\"269.057617\"/>\n",
       "  <use xlink:href=\"#glyph0-9\" x=\"248.425781\" y=\"269.057617\"/>\n",
       "  <use xlink:href=\"#glyph0-5\" x=\"255.097656\" y=\"269.057617\"/>\n",
       "</g>\n",
       "<g style=\"fill:rgb(0%,0%,0%);fill-opacity:1;\">\n",
       "  <use xlink:href=\"#glyph1-1\" x=\"12.737305\" y=\"150.300781\"/>\n",
       "  <use xlink:href=\"#glyph1-2\" x=\"12.737305\" y=\"140.964844\"/>\n",
       "  <use xlink:href=\"#glyph1-3\" x=\"12.737305\" y=\"134.292969\"/>\n",
       "  <use xlink:href=\"#glyph1-4\" x=\"12.737305\" y=\"127.621094\"/>\n",
       "</g>\n",
       "<g clip-path=\"url(#clip1)\" clip-rule=\"nonzero\">\n",
       "<path style=\"fill-rule:nonzero;fill:rgb(30.196078%,30.196078%,30.196078%);fill-opacity:1;stroke-width:0.75;stroke-linecap:round;stroke-linejoin:round;stroke:rgb(0%,0%,0%);stroke-opacity:1;stroke-miterlimit:10;\" d=\"M 59.039062 214.558594 L 248.039062 214.558594 L 248.039062 110.878906 L 59.039062 110.878906 Z M 59.039062 214.558594 \"/>\n",
       "</g>\n",
       "<g clip-path=\"url(#clip2)\" clip-rule=\"nonzero\">\n",
       "<path style=\" stroke:none;fill-rule:nonzero;fill:rgb(68.235294%,68.235294%,68.235294%);fill-opacity:1;\" d=\"M 59.039062 110.878906 L 248.039062 110.878906 L 248.039062 93.597656 L 59.039062 93.597656 Z M 59.039062 110.878906 \"/>\n",
       "</g>\n",
       "<g clip-path=\"url(#clip3)\" clip-rule=\"nonzero\">\n",
       "<path style=\"fill:none;stroke-width:0.75;stroke-linecap:round;stroke-linejoin:round;stroke:rgb(0%,0%,0%);stroke-opacity:1;stroke-miterlimit:10;\" d=\"M 59.039062 110.878906 L 248.039062 110.878906 L 248.039062 93.597656 L 59.039062 93.597656 Z M 59.039062 110.878906 \"/>\n",
       "</g>\n",
       "<g clip-path=\"url(#clip4)\" clip-rule=\"nonzero\">\n",
       "<path style=\"fill-rule:nonzero;fill:rgb(90.196078%,90.196078%,90.196078%);fill-opacity:1;stroke-width:0.75;stroke-linecap:round;stroke-linejoin:round;stroke:rgb(0%,0%,0%);stroke-opacity:1;stroke-miterlimit:10;\" d=\"M 59.039062 93.601562 L 248.039062 93.601562 L 248.039062 59.042969 L 59.039062 59.042969 Z M 59.039062 93.601562 \"/>\n",
       "</g>\n",
       "<path style=\" stroke:none;fill-rule:nonzero;fill:rgb(30.196078%,30.196078%,30.196078%);fill-opacity:1;\" d=\"M 254.761719 214.558594 L 401.761719 214.558594 L 401.761719 181.234375 L 254.761719 181.234375 Z M 254.761719 214.558594 \"/>\n",
       "<g clip-path=\"url(#clip5)\" clip-rule=\"nonzero\">\n",
       "<path style=\"fill:none;stroke-width:0.75;stroke-linecap:round;stroke-linejoin:round;stroke:rgb(0%,0%,0%);stroke-opacity:1;stroke-miterlimit:10;\" d=\"M 254.761719 214.558594 L 401.761719 214.558594 L 401.761719 181.234375 L 254.761719 181.234375 Z M 254.761719 214.558594 \"/>\n",
       "</g>\n",
       "<path style=\" stroke:none;fill-rule:nonzero;fill:rgb(68.235294%,68.235294%,68.235294%);fill-opacity:1;\" d=\"M 254.761719 181.234375 L 401.761719 181.234375 L 401.761719 70.148438 L 254.761719 70.148438 Z M 254.761719 181.234375 \"/>\n",
       "<g clip-path=\"url(#clip6)\" clip-rule=\"nonzero\">\n",
       "<path style=\"fill:none;stroke-width:0.75;stroke-linecap:round;stroke-linejoin:round;stroke:rgb(0%,0%,0%);stroke-opacity:1;stroke-miterlimit:10;\" d=\"M 254.761719 181.234375 L 401.761719 181.234375 L 401.761719 70.148438 L 254.761719 70.148438 Z M 254.761719 181.234375 \"/>\n",
       "</g>\n",
       "<g clip-path=\"url(#clip7)\" clip-rule=\"nonzero\">\n",
       "<path style=\" stroke:none;fill-rule:nonzero;fill:rgb(90.196078%,90.196078%,90.196078%);fill-opacity:1;\" d=\"M 254.761719 70.148438 L 401.761719 70.148438 L 401.761719 59.039062 L 254.761719 59.039062 Z M 254.761719 70.148438 \"/>\n",
       "</g>\n",
       "<g clip-path=\"url(#clip8)\" clip-rule=\"nonzero\">\n",
       "<path style=\"fill:none;stroke-width:0.75;stroke-linecap:round;stroke-linejoin:round;stroke:rgb(0%,0%,0%);stroke-opacity:1;stroke-miterlimit:10;\" d=\"M 254.761719 70.148438 L 401.761719 70.148438 L 401.761719 59.039062 L 254.761719 59.039062 Z M 254.761719 70.148438 \"/>\n",
       "</g>\n",
       "<g style=\"fill:rgb(0%,0%,0%);fill-opacity:1;\">\n",
       "  <use xlink:href=\"#glyph0-10\" x=\"129.039062\" y=\"240.256836\"/>\n",
       "  <use xlink:href=\"#glyph0-11\" x=\"137.042969\" y=\"240.256836\"/>\n",
       "  <use xlink:href=\"#glyph0-5\" x=\"141.039062\" y=\"240.256836\"/>\n",
       "  <use xlink:href=\"#glyph0-2\" x=\"147.710938\" y=\"240.256836\"/>\n",
       "  <use xlink:href=\"#glyph0-3\" x=\"154.382812\" y=\"240.256836\"/>\n",
       "  <use xlink:href=\"#glyph0-4\" x=\"161.054688\" y=\"240.256836\"/>\n",
       "  <use xlink:href=\"#glyph0-2\" x=\"163.71875\" y=\"240.256836\"/>\n",
       "  <use xlink:href=\"#glyph0-5\" x=\"170.390625\" y=\"240.256836\"/>\n",
       "</g>\n",
       "<g style=\"fill:rgb(0%,0%,0%);fill-opacity:1;\">\n",
       "  <use xlink:href=\"#glyph0-12\" x=\"303.761719\" y=\"240.256836\"/>\n",
       "  <use xlink:href=\"#glyph0-7\" x=\"311.765625\" y=\"240.256836\"/>\n",
       "  <use xlink:href=\"#glyph0-13\" x=\"315.101562\" y=\"240.256836\"/>\n",
       "  <use xlink:href=\"#glyph0-2\" x=\"321.773438\" y=\"240.256836\"/>\n",
       "  <use xlink:href=\"#glyph0-14\" x=\"328.445312\" y=\"240.256836\"/>\n",
       "  <use xlink:href=\"#glyph0-13\" x=\"335.117188\" y=\"240.256836\"/>\n",
       "  <use xlink:href=\"#glyph0-15\" x=\"341.789062\" y=\"240.256836\"/>\n",
       "  <use xlink:href=\"#glyph0-14\" x=\"345.785156\" y=\"240.256836\"/>\n",
       "</g>\n",
       "<g style=\"fill:rgb(0%,0%,0%);fill-opacity:1;\">\n",
       "  <use xlink:href=\"#glyph1-5\" x=\"41.538086\" y=\"166.21875\"/>\n",
       "</g>\n",
       "<g style=\"fill:rgb(0%,0%,0%);fill-opacity:1;\">\n",
       "  <use xlink:href=\"#glyph1-6\" x=\"41.538086\" y=\"105.738281\"/>\n",
       "</g>\n",
       "<g style=\"fill:rgb(0%,0%,0%);fill-opacity:1;\">\n",
       "  <use xlink:href=\"#glyph1-7\" x=\"41.538086\" y=\"79.820312\"/>\n",
       "</g>\n",
       "<path style=\"fill:none;stroke-width:0.75;stroke-linecap:round;stroke-linejoin:round;stroke:rgb(0%,0%,0%);stroke-opacity:1;stroke-miterlimit:10;\" d=\"M 401.761719 214.558594 L 401.761719 59.039062 \"/>\n",
       "<path style=\"fill:none;stroke-width:0.75;stroke-linecap:round;stroke-linejoin:round;stroke:rgb(0%,0%,0%);stroke-opacity:1;stroke-miterlimit:10;\" d=\"M 401.761719 214.558594 L 408.960938 214.558594 \"/>\n",
       "<path style=\"fill:none;stroke-width:0.75;stroke-linecap:round;stroke-linejoin:round;stroke:rgb(0%,0%,0%);stroke-opacity:1;stroke-miterlimit:10;\" d=\"M 401.761719 183.457031 L 408.960938 183.457031 \"/>\n",
       "<path style=\"fill:none;stroke-width:0.75;stroke-linecap:round;stroke-linejoin:round;stroke:rgb(0%,0%,0%);stroke-opacity:1;stroke-miterlimit:10;\" d=\"M 401.761719 152.351562 L 408.960938 152.351562 \"/>\n",
       "<path style=\"fill:none;stroke-width:0.75;stroke-linecap:round;stroke-linejoin:round;stroke:rgb(0%,0%,0%);stroke-opacity:1;stroke-miterlimit:10;\" d=\"M 401.761719 121.246094 L 408.960938 121.246094 \"/>\n",
       "<path style=\"fill:none;stroke-width:0.75;stroke-linecap:round;stroke-linejoin:round;stroke:rgb(0%,0%,0%);stroke-opacity:1;stroke-miterlimit:10;\" d=\"M 401.761719 90.144531 L 408.960938 90.144531 \"/>\n",
       "<path style=\"fill:none;stroke-width:0.75;stroke-linecap:round;stroke-linejoin:round;stroke:rgb(0%,0%,0%);stroke-opacity:1;stroke-miterlimit:10;\" d=\"M 401.761719 59.039062 L 408.960938 59.039062 \"/>\n",
       "<g style=\"fill:rgb(0%,0%,0%);fill-opacity:1;\">\n",
       "  <use xlink:href=\"#glyph1-8\" x=\"427.456055\" y=\"223.058594\"/>\n",
       "  <use xlink:href=\"#glyph1-9\" x=\"427.456055\" y=\"216.386719\"/>\n",
       "  <use xlink:href=\"#glyph1-8\" x=\"427.456055\" y=\"213.050781\"/>\n",
       "</g>\n",
       "<g style=\"fill:rgb(0%,0%,0%);fill-opacity:1;\">\n",
       "  <use xlink:href=\"#glyph1-8\" x=\"427.456055\" y=\"191.957031\"/>\n",
       "  <use xlink:href=\"#glyph1-9\" x=\"427.456055\" y=\"185.285156\"/>\n",
       "  <use xlink:href=\"#glyph1-10\" x=\"427.456055\" y=\"181.949219\"/>\n",
       "</g>\n",
       "<g style=\"fill:rgb(0%,0%,0%);fill-opacity:1;\">\n",
       "  <use xlink:href=\"#glyph1-8\" x=\"427.456055\" y=\"160.851562\"/>\n",
       "  <use xlink:href=\"#glyph1-9\" x=\"427.456055\" y=\"154.179688\"/>\n",
       "  <use xlink:href=\"#glyph1-6\" x=\"427.456055\" y=\"150.84375\"/>\n",
       "</g>\n",
       "<g style=\"fill:rgb(0%,0%,0%);fill-opacity:1;\">\n",
       "  <use xlink:href=\"#glyph1-8\" x=\"427.456055\" y=\"129.746094\"/>\n",
       "  <use xlink:href=\"#glyph1-9\" x=\"427.456055\" y=\"123.074219\"/>\n",
       "  <use xlink:href=\"#glyph1-11\" x=\"427.456055\" y=\"119.738281\"/>\n",
       "</g>\n",
       "<g style=\"fill:rgb(0%,0%,0%);fill-opacity:1;\">\n",
       "  <use xlink:href=\"#glyph1-8\" x=\"427.456055\" y=\"98.644531\"/>\n",
       "  <use xlink:href=\"#glyph1-9\" x=\"427.456055\" y=\"91.972656\"/>\n",
       "  <use xlink:href=\"#glyph1-12\" x=\"427.456055\" y=\"88.636719\"/>\n",
       "</g>\n",
       "<g style=\"fill:rgb(0%,0%,0%);fill-opacity:1;\">\n",
       "  <use xlink:href=\"#glyph1-13\" x=\"427.456055\" y=\"67.539062\"/>\n",
       "  <use xlink:href=\"#glyph1-9\" x=\"427.456055\" y=\"60.867188\"/>\n",
       "  <use xlink:href=\"#glyph1-8\" x=\"427.456055\" y=\"57.53125\"/>\n",
       "</g>\n",
       "</g>\n",
       "</svg>\n"
      ],
      "text/plain": [
       "Plot with title “”"
      ]
     },
     "metadata": {
      "image/svg+xml": {
       "isolated": true
      }
     },
     "output_type": "display_data"
    }
   ],
   "source": [
    "plot(x = mtcars$vs, y=mtcars$gear, xlab=\"Engine type\",ylab=\"Gear\")"
   ]
  },
  {
   "cell_type": "markdown",
   "metadata": {
    "slideshow": {
     "slide_type": "slide"
    }
   },
   "source": [
    "# The `table()` function"
   ]
  },
  {
   "cell_type": "markdown",
   "metadata": {},
   "source": [
    "The `table()` function can be used to return counts of elements in each level of a categorical variable."
   ]
  },
  {
   "cell_type": "code",
   "execution_count": 97,
   "metadata": {},
   "outputs": [
    {
     "data": {
      "text/plain": [
       "affils\n",
       "D R U \n",
       "3 2 1 "
      ]
     },
     "execution_count": 97,
     "metadata": {},
     "output_type": "execute_result"
    }
   ],
   "source": [
    "affils <- c(\"R\",\"D\",\"D\",\"R\",\"U\",\"D\") # party affiliations\n",
    "table(affils)"
   ]
  },
  {
   "cell_type": "markdown",
   "metadata": {
    "slideshow": {
     "slide_type": "slide"
    }
   },
   "source": [
    "It can be used to create *contingency tables*, such as *two-way tables*:"
   ]
  },
  {
   "cell_type": "code",
   "execution_count": 98,
   "metadata": {},
   "outputs": [
    {
     "data": {
      "text/plain": [
       "           \n",
       "            V-engine Standard\n",
       "  Automatic       12        7\n",
       "  Manual           6        7"
      ]
     },
     "execution_count": 98,
     "metadata": {},
     "output_type": "execute_result"
    }
   ],
   "source": [
    "table(mtcars$am, mtcars$vs)"
   ]
  },
  {
   "cell_type": "markdown",
   "metadata": {
    "slideshow": {
     "slide_type": "slide"
    }
   },
   "source": [
    "Or *three-way tables*:"
   ]
  },
  {
   "cell_type": "code",
   "execution_count": 104,
   "metadata": {
    "slideshow": {
     "slide_type": "-"
    }
   },
   "outputs": [
    {
     "data": {
      "text/plain": [
       ", , Gears = 3\n",
       "\n",
       "            Engine\n",
       "Transmission V-engine Standard\n",
       "   Automatic       12        3\n",
       "   Manual           0        0\n",
       "\n",
       ", , Gears = 4\n",
       "\n",
       "            Engine\n",
       "Transmission V-engine Standard\n",
       "   Automatic        0        4\n",
       "   Manual           2        6\n",
       "\n",
       ", , Gears = 5\n",
       "\n",
       "            Engine\n",
       "Transmission V-engine Standard\n",
       "   Automatic        0        0\n",
       "   Manual           4        1\n"
      ]
     },
     "execution_count": 104,
     "metadata": {},
     "output_type": "execute_result"
    }
   ],
   "source": [
    "table(mtcars$am, mtcars$vs, mtcars$gear,\n",
    "      dnn=c(\"Transmission\",\"Engine\",\"Gears\"))"
   ]
  },
  {
   "cell_type": "markdown",
   "metadata": {
    "slideshow": {
     "slide_type": "slide"
    }
   },
   "source": [
    "# The `tapply()` function"
   ]
  },
  {
   "cell_type": "markdown",
   "metadata": {},
   "source": [
    "More general than `table()`. The function call `tapply(x, f, func)` breaks the vector `x` by levels given in `f` and applies the function `func` on each subgroup."
   ]
  },
  {
   "cell_type": "code",
   "execution_count": 106,
   "metadata": {},
   "outputs": [
    {
     "data": {
      "text/plain": [
       " D  R  U \n",
       "41 31 21 "
      ]
     },
     "execution_count": 106,
     "metadata": {},
     "output_type": "execute_result"
    }
   ],
   "source": [
    "ages <- c(25, 26, 55, 37, 21, 42) # ages of some people\n",
    "affils <- c(\"R\",\"D\",\"D\",\"R\",\"U\",\"D\") # party affiliations of the same people\n",
    "tapply(ages, affils, mean)"
   ]
  },
  {
   "cell_type": "code",
   "execution_count": 56,
   "metadata": {
    "slideshow": {
     "slide_type": "slide"
    }
   },
   "outputs": [
    {
     "data": {
      "text/plain": [
       "    setosa versicolor  virginica \n",
       "     1,462      4,260      5,552 "
      ]
     },
     "execution_count": 56,
     "metadata": {},
     "output_type": "execute_result"
    }
   ],
   "source": [
    "tapply(iris$Petal.Length, iris$Species, mean)"
   ]
  },
  {
   "cell_type": "code",
   "execution_count": 67,
   "metadata": {
    "slideshow": {
     "slide_type": "slide"
    }
   },
   "outputs": [
    {
     "data": {
      "text/plain": [
       "V-engine Standard \n",
       "16,61667 24,55714 "
      ]
     },
     "execution_count": 67,
     "metadata": {},
     "output_type": "execute_result"
    }
   ],
   "source": [
    "tapply(mtcars$mpg, mtcars$vs, mean)"
   ]
  },
  {
   "cell_type": "code",
   "execution_count": 72,
   "metadata": {
    "slideshow": {
     "slide_type": "slide"
    }
   },
   "outputs": [
    {
     "data": {
      "text/plain": [
       "         Automatic   Manual\n",
       "V-engine  15,05000 19,75000\n",
       "Standard  20,74286 28,37143"
      ]
     },
     "execution_count": 72,
     "metadata": {},
     "output_type": "execute_result"
    }
   ],
   "source": [
    "tapply(mtcars$mpg, list(mtcars$vs, mtcars$am), mean)"
   ]
  },
  {
   "cell_type": "code",
   "execution_count": 94,
   "metadata": {},
   "outputs": [
    {
     "data": {
      "text/plain": [
       ", ,  = 3\n",
       "\n",
       "           \n",
       "            V-engine Standard\n",
       "  Automatic       12        3\n",
       "  Manual           0        0\n",
       "\n",
       ", ,  = 4\n",
       "\n",
       "           \n",
       "            V-engine Standard\n",
       "  Automatic        0        4\n",
       "  Manual           2        6\n",
       "\n",
       ", ,  = 5\n",
       "\n",
       "           \n",
       "            V-engine Standard\n",
       "  Automatic        0        0\n",
       "  Manual           4        1\n"
      ]
     },
     "execution_count": 94,
     "metadata": {},
     "output_type": "execute_result"
    }
   ],
   "source": [
    "table(mtcars$am, mtcars$vs,)"
   ]
  }
 ],
 "metadata": {
  "celltoolbar": "Slideshow",
  "kernelspec": {
   "display_name": "R",
   "language": "R",
   "name": "ir"
  },
  "language_info": {
   "codemirror_mode": "r",
   "file_extension": ".r",
   "mimetype": "text/x-r-source",
   "name": "R",
   "pygments_lexer": "r",
   "version": "3.2.2"
  },
  "toc": {
   "nav_menu": {},
   "number_sections": true,
   "sideBar": true,
   "skip_h1_title": false,
   "toc_cell": false,
   "toc_position": {},
   "toc_section_display": "block",
   "toc_window_display": false
  }
 },
 "nbformat": 4,
 "nbformat_minor": 2
}
