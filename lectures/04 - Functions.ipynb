{
 "cells": [
  {
   "cell_type": "code",
   "execution_count": null,
   "metadata": {
    "slideshow": {
     "slide_type": "skip"
    }
   },
   "outputs": [],
   "source": [
    "options(jupyter.rich_display = FALSE)"
   ]
  },
  {
   "cell_type": "markdown",
   "metadata": {
    "slideshow": {
     "slide_type": "slide"
    }
   },
   "source": [
    "# Functions\n",
    "\n",
    "* A **function** is a piece of code that takes _input arguments_ , performs a specific task, and _returns its output_.\n",
    "* R has many _built-in functions_ such as `c()`, `length()`, `unif()`, `mean()`, `sum()`, etc.\n",
    "* Users can also define their own functions."
   ]
  },
  {
   "cell_type": "markdown",
   "metadata": {
    "slideshow": {
     "slide_type": "slide"
    }
   },
   "source": [
    "\n",
    "A first example\n",
    "=============\n",
    "Let us define a function that returns the square of a given number."
   ]
  },
  {
   "cell_type": "code",
   "execution_count": null,
   "metadata": {},
   "outputs": [],
   "source": [
    "square <- function(x) {\n",
    "    return(x^2)\n",
    "}"
   ]
  },
  {
   "cell_type": "markdown",
   "metadata": {
    "slideshow": {
     "slide_type": "slide"
    }
   },
   "source": [
    "We call the function by providing the input value as an argument. The function returns an output."
   ]
  },
  {
   "cell_type": "code",
   "execution_count": null,
   "metadata": {},
   "outputs": [],
   "source": [
    "square(3)"
   ]
  },
  {
   "cell_type": "markdown",
   "metadata": {},
   "source": [
    "If we type a function's name and press Enter, we get back the definition of the function. "
   ]
  },
  {
   "cell_type": "code",
   "execution_count": null,
   "metadata": {},
   "outputs": [],
   "source": [
    "square"
   ]
  },
  {
   "cell_type": "markdown",
   "metadata": {
    "slideshow": {
     "slide_type": "slide"
    }
   },
   "source": [
    "General syntax of function definition\n",
    "=========\n",
    "\n",
    "    <function_name> <- function([<argument_1>, <argument_2>, ...]) {\n",
    "        <statements>\n",
    "        return(<return_value>)\n",
    "    }\n",
    "    \n",
    "The `return` statement is optional. The function returns the value of the last expression in its block. So the function `square()` can also be defined as:"
   ]
  },
  {
   "cell_type": "code",
   "execution_count": null,
   "metadata": {},
   "outputs": [],
   "source": [
    "square <- function(x){\n",
    "    x^2\n",
    "}"
   ]
  },
  {
   "cell_type": "markdown",
   "metadata": {
    "slideshow": {
     "slide_type": "slide"
    }
   },
   "source": [
    "* The job of the braces `{}` is to combine several statements into one. \n",
    "* As we have only one statement here, braces can be omitted and the function can be stated in one line."
   ]
  },
  {
   "cell_type": "code",
   "execution_count": null,
   "metadata": {},
   "outputs": [],
   "source": [
    "square <- function(x) x^2\n",
    "square(3)"
   ]
  },
  {
   "cell_type": "markdown",
   "metadata": {
    "slideshow": {
     "slide_type": "slide"
    }
   },
   "source": [
    "Function arguments\n",
    "==============\n",
    "A function can be defined with any number of arguments."
   ]
  },
  {
   "cell_type": "code",
   "execution_count": null,
   "metadata": {},
   "outputs": [],
   "source": [
    "f <- function(x,y,z){\n",
    "    return(x + y*z)\n",
    "}"
   ]
  },
  {
   "cell_type": "code",
   "execution_count": null,
   "metadata": {},
   "outputs": [],
   "source": [
    "f(1,2,3)"
   ]
  },
  {
   "cell_type": "markdown",
   "metadata": {
    "slideshow": {
     "slide_type": "slide"
    }
   },
   "source": [
    "It is possible to change the order of arguments by providing the names explicitly."
   ]
  },
  {
   "cell_type": "code",
   "execution_count": null,
   "metadata": {},
   "outputs": [],
   "source": [
    "f(z=3,x=1,y=2)"
   ]
  },
  {
   "cell_type": "markdown",
   "metadata": {},
   "source": [
    "You can even omit some names, and the unnamed arguments will be matched in order."
   ]
  },
  {
   "cell_type": "code",
   "execution_count": null,
   "metadata": {},
   "outputs": [],
   "source": [
    "f(z=3,1,2)"
   ]
  },
  {
   "cell_type": "markdown",
   "metadata": {
    "slideshow": {
     "slide_type": "slide"
    }
   },
   "source": [
    "Return values\n",
    "=============\n",
    "The _return value_ of the function can be any R object, such as a number, a vector, a matrix, a list, etc."
   ]
  },
  {
   "cell_type": "code",
   "execution_count": null,
   "metadata": {},
   "outputs": [],
   "source": [
    "sumdiff <- function(x,y){\n",
    "    return( c(x+y, x-y) )\n",
    "}\n",
    "\n",
    "sumdiff(5,8)"
   ]
  },
  {
   "cell_type": "markdown",
   "metadata": {
    "slideshow": {
     "slide_type": "slide"
    }
   },
   "source": [
    "# Functions returning functions\n",
    "A function itself is an R object, therefore we can easily write _functions that return functions_."
   ]
  },
  {
   "cell_type": "code",
   "execution_count": null,
   "metadata": {},
   "outputs": [],
   "source": [
    "powerfun <- function(p){\n",
    "    return(function(x) x^p)\n",
    "}"
   ]
  },
  {
   "cell_type": "code",
   "execution_count": null,
   "metadata": {},
   "outputs": [],
   "source": [
    "sq <- powerfun(2)\n",
    "cube <- powerfun(3)"
   ]
  },
  {
   "cell_type": "code",
   "execution_count": null,
   "metadata": {},
   "outputs": [],
   "source": [
    "sq(1.5)\n",
    "cube(1.5)"
   ]
  },
  {
   "cell_type": "markdown",
   "metadata": {
    "slideshow": {
     "slide_type": "slide"
    }
   },
   "source": [
    "Vectorization of functions\n",
    "===========\n",
    "The simple function `square()` defined above happens to work with vector arguments without any modification, because the returned statement `x^2` is valid for both numbers and vectors."
   ]
  },
  {
   "cell_type": "code",
   "execution_count": null,
   "metadata": {},
   "outputs": [],
   "source": [
    "square <- function(x) x^2\n",
    "square(c(1,2,3))"
   ]
  },
  {
   "cell_type": "markdown",
   "metadata": {
    "slideshow": {
     "slide_type": "slide"
    }
   },
   "source": [
    "However, functions are not always created with easily vectorized expressions, for example:"
   ]
  },
  {
   "cell_type": "code",
   "execution_count": null,
   "metadata": {},
   "outputs": [],
   "source": [
    "addupto <- function(n) sum(1:n)\n",
    "addupto(10)"
   ]
  },
  {
   "cell_type": "markdown",
   "metadata": {
    "slideshow": {
     "slide_type": "-"
    }
   },
   "source": [
    "When we call this function with a vector argument, only the first element is taken, and a warning message is issued"
   ]
  },
  {
   "cell_type": "code",
   "execution_count": null,
   "metadata": {},
   "outputs": [],
   "source": [
    "addupto(c(10,20))"
   ]
  },
  {
   "cell_type": "markdown",
   "metadata": {
    "slideshow": {
     "slide_type": "slide"
    }
   },
   "source": [
    "If you want this function to work with vector input, the preferred way in R is to use the built-in `sapply` function, which maps a function on each element of a vector. "
   ]
  },
  {
   "cell_type": "code",
   "execution_count": null,
   "metadata": {},
   "outputs": [],
   "source": [
    "sapply(c(10,20), addupto)"
   ]
  },
  {
   "cell_type": "markdown",
   "metadata": {
    "slideshow": {
     "slide_type": "slide"
    }
   },
   "source": [
    "Default arguments\n",
    "==============\n",
    "When you define a function, you can set some of the arguments to default values. Then you don't have to specify them at each call."
   ]
  },
  {
   "cell_type": "code",
   "execution_count": null,
   "metadata": {},
   "outputs": [],
   "source": [
    "f <- function(capital, interest_rate=0.1) {\n",
    "    capital * (1+interest_rate)\n",
    "}"
   ]
  },
  {
   "cell_type": "markdown",
   "metadata": {
    "slideshow": {
     "slide_type": "slide"
    }
   },
   "source": [
    "Without specifying the `interest_rate` value, 0.1 is assumed."
   ]
  },
  {
   "cell_type": "code",
   "execution_count": null,
   "metadata": {},
   "outputs": [],
   "source": [
    "f(1000)"
   ]
  },
  {
   "cell_type": "markdown",
   "metadata": {},
   "source": [
    "But if you want to change it, you can provide it as an extra argument."
   ]
  },
  {
   "cell_type": "code",
   "execution_count": null,
   "metadata": {},
   "outputs": [],
   "source": [
    "f(1000,0.2)"
   ]
  },
  {
   "cell_type": "markdown",
   "metadata": {},
   "source": [
    "You can also change the order of the arguments when you use parameter names."
   ]
  },
  {
   "cell_type": "code",
   "execution_count": null,
   "metadata": {},
   "outputs": [],
   "source": [
    "f(interest_rate = 0.2, 1000)"
   ]
  },
  {
   "cell_type": "markdown",
   "metadata": {
    "slideshow": {
     "slide_type": "slide"
    }
   },
   "source": [
    "# Print the arguments of a function"
   ]
  },
  {
   "cell_type": "code",
   "execution_count": null,
   "metadata": {},
   "outputs": [],
   "source": [
    "args(f)"
   ]
  },
  {
   "cell_type": "code",
   "execution_count": null,
   "metadata": {},
   "outputs": [],
   "source": [
    "args(sqrt)"
   ]
  },
  {
   "cell_type": "code",
   "execution_count": null,
   "metadata": {},
   "outputs": [],
   "source": [
    "args(\"+\")"
   ]
  },
  {
   "cell_type": "markdown",
   "metadata": {
    "slideshow": {
     "slide_type": "slide"
    }
   },
   "source": [
    "Scope of variables\n",
    "============"
   ]
  },
  {
   "cell_type": "markdown",
   "metadata": {},
   "source": [
    "* The value of a variable defined outside a function (a *global variable*) can be seen inside a function. \n",
    "* However, a variable defined inside a function block is not recognized outside of it.\n",
    "* We say that the *scope* of the variable `b` is limited to the function `f()`."
   ]
  },
  {
   "cell_type": "code",
   "execution_count": null,
   "metadata": {},
   "outputs": [],
   "source": [
    "a <- 5\n",
    "\n",
    "f <- function(){\n",
    "    b <- 10\n",
    "    cat(\"inside f(): a =\",a,\"b =\",b,\"\\n\")\n",
    "}\n",
    "\n",
    "f()\n",
    "cat(\"outside f(): a =\",a,\" \")\n",
    "cat(\"b =\",b)"
   ]
  },
  {
   "cell_type": "markdown",
   "metadata": {
    "slideshow": {
     "slide_type": "slide"
    }
   },
   "source": [
    "A local variable temporarily overrides a global variable with the same name."
   ]
  },
  {
   "cell_type": "code",
   "execution_count": null,
   "metadata": {},
   "outputs": [],
   "source": [
    "a <- 5\n",
    "cat(\"before f(): a =\",a,\"\\n\")\n",
    "\n",
    "f <- function(){\n",
    "    a <- 10\n",
    "    cat(\"inside f(): a =\",a,\"\\n\")\n",
    "}\n",
    "\n",
    "f()\n",
    "cat(\"after f(): a =\",a)"
   ]
  },
  {
   "cell_type": "markdown",
   "metadata": {
    "slideshow": {
     "slide_type": "slide"
    }
   },
   "source": [
    "Assigning values to upper-level variables\n",
    "==========\n",
    "Although the values of variables defined in upper levels are available in lower levels, they cannot be modified in a lower level, because an attempt in assignment will create only a local variable with the same name."
   ]
  },
  {
   "cell_type": "code",
   "execution_count": null,
   "metadata": {},
   "outputs": [],
   "source": [
    "a <- 5\n",
    "cat(\"before f(): a =\",a,\"\\n\")\n",
    "\n",
    "f <- function(){\n",
    "    a <- 10\n",
    "    cat(\"inside f(): a =\",a,\"\\n\")\n",
    "}\n",
    "\n",
    "f()\n",
    "cat(\"after f(): a =\",a)"
   ]
  },
  {
   "cell_type": "markdown",
   "metadata": {
    "slideshow": {
     "slide_type": "slide"
    }
   },
   "source": [
    "Using the _superassignment operator_ `<<-` it is possible to assign to a variable in the higher level."
   ]
  },
  {
   "cell_type": "code",
   "execution_count": null,
   "metadata": {},
   "outputs": [],
   "source": [
    "a <- 5\n",
    "cat(\"before f(): a =\",a,\"\\n\")\n",
    "\n",
    "f <- function(){\n",
    "    a <<- 10\n",
    "    cat(\"inside f(): a =\",a,\"\\n\")\n",
    "}\n",
    "\n",
    "f()\n",
    "cat(\"after f(): a =\",a)"
   ]
  },
  {
   "cell_type": "code",
   "execution_count": null,
   "metadata": {
    "slideshow": {
     "slide_type": "slide"
    }
   },
   "outputs": [],
   "source": [
    "a <- 5\n",
    "cat(\"before f(): a =\",a,\"\\n\")\n",
    "\n",
    "f <- function(){\n",
    "    g <- function(){\n",
    "        a <<- 20\n",
    "        cat(\"inside g(): a =\",a,\"\\n\")\n",
    "    }\n",
    "    cat(\"inside f(), before g(): a =\",a,\"\\n\")\n",
    "    g()\n",
    "    cat(\"inside f(), after g(): a =\",a,\"\\n\")\n",
    "}\n",
    "\n",
    "f()\n",
    "cat(\"after f(): a =\",a)"
   ]
  },
  {
   "cell_type": "markdown",
   "metadata": {},
   "source": [
    "Note that the superassignment affects all the levels above it."
   ]
  },
  {
   "cell_type": "markdown",
   "metadata": {
    "slideshow": {
     "slide_type": "slide"
    }
   },
   "source": [
    "# Unspecified arguments with `...`"
   ]
  },
  {
   "cell_type": "markdown",
   "metadata": {},
   "source": [
    "Some functions take an unimited number of arguments, e.g. `c()`."
   ]
  },
  {
   "cell_type": "code",
   "execution_count": null,
   "metadata": {},
   "outputs": [],
   "source": [
    "c(1,2,3)\n",
    "c(4,2,6,1,3,5,1)"
   ]
  },
  {
   "cell_type": "markdown",
   "metadata": {},
   "source": [
    "It is defined with an _ellipsis_ (three dots) as the argument list."
   ]
  },
  {
   "cell_type": "code",
   "execution_count": null,
   "metadata": {},
   "outputs": [],
   "source": [
    "args(c)"
   ]
  },
  {
   "cell_type": "markdown",
   "metadata": {
    "slideshow": {
     "slide_type": "slide"
    }
   },
   "source": [
    "Ellipsis has two use cases:\n",
    "* Write a function with any number of arguments (like `c()` or `sum()`).\n",
    "* Pass some arguments to another function, called inside the current function"
   ]
  },
  {
   "cell_type": "code",
   "execution_count": null,
   "metadata": {
    "slideshow": {
     "slide_type": "-"
    }
   },
   "outputs": [],
   "source": [
    "plot_random_walk <- function(n, ...){\n",
    "    x <- cumsum(sample(c(-1,1), n, replace=TRUE))\n",
    "    plot(x, type=\"o\", ...)\n",
    "} "
   ]
  },
  {
   "cell_type": "code",
   "execution_count": null,
   "metadata": {
    "slideshow": {
     "slide_type": "slide"
    }
   },
   "outputs": [],
   "source": [
    "options(repr.plot.width=10, repr.plot.height=4)\n",
    "plot_random_walk(100)"
   ]
  },
  {
   "cell_type": "code",
   "execution_count": null,
   "metadata": {
    "slideshow": {
     "slide_type": "slide"
    }
   },
   "outputs": [],
   "source": [
    "plot_random_walk(100, pch=4, col=\"red\", main=\"A random walk\", xlab=\"step number\", ylab=\"displacement\")"
   ]
  },
  {
   "cell_type": "markdown",
   "metadata": {
    "slideshow": {
     "slide_type": "slide"
    }
   },
   "source": [
    "The ellipsis can be converted to a vector for processing inside the function."
   ]
  },
  {
   "cell_type": "code",
   "execution_count": null,
   "metadata": {},
   "outputs": [],
   "source": [
    "diff <- function(...) {\n",
    "    # returns the difference between the first and the last argument\n",
    "    args <- c(...)\n",
    "    args[length(args)] - args[1]\n",
    "}"
   ]
  },
  {
   "cell_type": "code",
   "execution_count": null,
   "metadata": {},
   "outputs": [],
   "source": [
    "diff(1,4,2)\n",
    "diff(1,4,2,6,3,1)"
   ]
  },
  {
   "cell_type": "markdown",
   "metadata": {},
   "source": [
    "Ellipsis arguments can have arbitrary names, and can be converted to a _list_ object (more on lists later)."
   ]
  },
  {
   "cell_type": "code",
   "execution_count": null,
   "metadata": {},
   "outputs": [],
   "source": [
    "f <- function(...){\n",
    "    args <- list(...)\n",
    "    print(args)\n",
    "}"
   ]
  },
  {
   "cell_type": "code",
   "execution_count": null,
   "metadata": {},
   "outputs": [],
   "source": [
    "f(a=1, b=3)"
   ]
  },
  {
   "cell_type": "markdown",
   "metadata": {
    "slideshow": {
     "slide_type": "slide"
    }
   },
   "source": [
    "## Exercises"
   ]
  },
  {
   "cell_type": "markdown",
   "metadata": {},
   "source": [
    "Write a function with the name `FtoC` that takes a temperature measurement in degrees Fahrenheit, and returns the equivalent value in degrees Celsius. Make sure that your function works with vector input, too.\n",
    "\n",
    "----------"
   ]
  },
  {
   "cell_type": "markdown",
   "metadata": {},
   "source": [
    "Write a function with the name `bmi` that takes two arguments, `height` and `weight`, and returns the body-mass index calculated with these argument values. The function should work with vector input, too.\n",
    "\n",
    "---------"
   ]
  },
  {
   "cell_type": "markdown",
   "metadata": {},
   "source": [
    "Write a function named `range` that takes a vector of numbers, and returns the difference between its minimum and the maximum elements. Test your function with some randomly-generated vectors.\n",
    "\n",
    "-----------"
   ]
  }
 ],
 "metadata": {
  "celltoolbar": "Slideshow",
  "kernelspec": {
   "display_name": "R",
   "language": "R",
   "name": "ir"
  },
  "language_info": {
   "codemirror_mode": "r",
   "file_extension": ".r",
   "mimetype": "text/x-r-source",
   "name": "R",
   "pygments_lexer": "r",
   "version": "3.2.2"
  }
 },
 "nbformat": 4,
 "nbformat_minor": 2
}
