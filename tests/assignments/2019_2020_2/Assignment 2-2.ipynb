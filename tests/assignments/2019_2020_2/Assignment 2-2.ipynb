{
 "cells": [
  {
   "cell_type": "code",
   "execution_count": 1,
   "metadata": {},
   "outputs": [],
   "source": [
    "options(jupyter.rich_display=F)"
   ]
  },
  {
   "cell_type": "markdown",
   "metadata": {},
   "source": [
    "# Problem 2: Area and population of countries\n",
    "\n",
    "(Scoring: Both parts 10 points each. Total 20 points.)\n",
    "\n",
    "Two data files are given with this problem.\n",
    "* *country_areas.csv* stores country names and their ares in square kilometers\n",
    "* *country_pop.csv* stores country names and their population\n",
    "\n",
    "**(A)** Write a function named **merge_and_rename_data** which takes the file names (full paths) and returns a dataframe with the data merged by the country names. The columns must be named \"Country\", \"Area\", and \"Population\".\n",
    "\n",
    "Example:\n",
    "\n",
    "```r\n",
    "> country_data <- merge_and_rename_data(\"country_areas.csv\", \"country_pop.csv\")\n",
    "> country_data\n",
    "    Country             Area Population\n",
    "1   Afghanistan       652230   38928346 \n",
    "2   Albania            28748    2877797 \n",
    "3   Algeria          2381741   43851044 \n",
    "4   Angola           1246700   32866272 \n",
    "5   Argentina        2780400   45195774 \n",
    "...\n",
    "```\n",
    "\n",
    "**(B)** Write a function named **calc_dens_and_sort** with a single parameter, which is a dataframe of the output of the function **merge_and_rename_data**. This function should:\n",
    "\n",
    "1. Calculate the population density for every country.\n",
    "- Add a new **Density** column to the input dataframe.\n",
    "- Sort the dataframe rows in decreasing order of \"Density\" and return the resultinf dataframe.\n",
    "\n",
    "Example:\n",
    "\n",
    "```r\n",
    "> calc_dens_and_sort(country_data)\n",
    "    Country               Area  Population    Density  \n",
    "145 Singapore              710     5850342  8239.9183\n",
    "11  Bahrain                765     1701575  2224.2810\n",
    "12  Bangladesh          147570   164689383  1116.0086\n",
    "155 State of Palestine    6220     5101414   820.1630\n",
    "161 Taiwan               36193    23816775   658.0492\n",
    "...\n",
    "```\n",
    "\n",
    "Hint:\n",
    "\n",
    "- There should not be any NA values (empty values) in the data frame.\n",
    "- Read the files into data frames using the built-in **read.csv()** function (see the previous problem for hints about its usage, and check the documentation for more information)."
   ]
  },
  {
   "cell_type": "markdown",
   "metadata": {},
   "source": [
    "# Solution"
   ]
  },
  {
   "cell_type": "code",
   "execution_count": 2,
   "metadata": {},
   "outputs": [
    {
     "data": {
      "text/plain": [
       "  Country        Area    Population\n",
       "1 Afghanistan     652230 38928346  \n",
       "2 Albania          28748  2877797  \n",
       "3 Algeria        2381741 43851044  \n",
       "4 American Samoa     199    55191  \n",
       "5 Andorra            468    77265  \n",
       "6 Angola         1246700 32866272  "
      ]
     },
     "metadata": {},
     "output_type": "display_data"
    }
   ],
   "source": [
    "merge_and_rename_data <- function(area_path, pop_path) {\n",
    "    c_area <- read.csv(area_path, header = F)\n",
    "    c_pop <- read.csv(pop_path, header = F)\n",
    "    merged <- merge(c_area, c_pop, by = \"V1\")\n",
    "    colnames(merged) <- c(\"Country\", \"Area\", \"Population\")\n",
    "    return(merged)\n",
    "}\n",
    "\n",
    "c_data <- merge_and_rename_data(\"~/tests/assignments/2019_2020_2/country_areas_test.csv\", \n",
    "                                \"~/tests/assignments/2019_2020_2/country_pop_test.csv\")\n",
    "head(c_data)"
   ]
  },
  {
   "cell_type": "code",
   "execution_count": 3,
   "metadata": {},
   "outputs": [
    {
     "data": {
      "text/plain": [
       "    Country      Area Population Density \n",
       "176 Singapore    710  5850342    8239.918\n",
       "78  Gibraltar      6    33691    5615.167\n",
       "16  Bahrain      765  1701575    2224.281\n",
       "120 Maldives     300   540544    1801.813\n",
       "122 Malta        316   441543    1397.288\n",
       "177 Sint Maarten  34    42876    1261.059"
      ]
     },
     "metadata": {},
     "output_type": "display_data"
    }
   ],
   "source": [
    "calc_dens_and_sort <- function(c_data) {\n",
    "    c_data$Density <- c_data$Population / c_data$Area\n",
    "    c_data <- c_data[order(c_data$Density, decreasing = T),]\n",
    "    return(c_data)\n",
    "}\n",
    "\n",
    "head(calc_dens_and_sort(c_data))"
   ]
  }
 ],
 "metadata": {
  "kernelspec": {
   "display_name": "R",
   "language": "R",
   "name": "ir"
  },
  "language_info": {
   "codemirror_mode": "r",
   "file_extension": ".r",
   "mimetype": "text/x-r-source",
   "name": "R",
   "pygments_lexer": "r",
   "version": "3.5.2"
  },
  "toc": {
   "nav_menu": {},
   "number_sections": true,
   "sideBar": true,
   "skip_h1_title": false,
   "title_cell": "Table of Contents",
   "title_sidebar": "Contents",
   "toc_cell": false,
   "toc_position": {},
   "toc_section_display": true,
   "toc_window_display": false
  },
  "varInspector": {
   "cols": {
    "lenName": 16,
    "lenType": 16,
    "lenVar": 40
   },
   "kernels_config": {
    "python": {
     "delete_cmd_postfix": "",
     "delete_cmd_prefix": "del ",
     "library": "var_list.py",
     "varRefreshCmd": "print(var_dic_list())"
    },
    "r": {
     "delete_cmd_postfix": ") ",
     "delete_cmd_prefix": "rm(",
     "library": "var_list.r",
     "varRefreshCmd": "cat(var_dic_list()) "
    }
   },
   "types_to_exclude": [
    "module",
    "function",
    "builtin_function_or_method",
    "instance",
    "_Feature"
   ],
   "window_display": false
  }
 },
 "nbformat": 4,
 "nbformat_minor": 4
}
