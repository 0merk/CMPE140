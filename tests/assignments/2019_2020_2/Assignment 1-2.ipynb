{
 "cells": [
  {
   "cell_type": "markdown",
   "metadata": {},
   "source": [
    "# Problem 2: Grade sheet analysis\n",
    "\n",
    "A class has the following students: Harry, Ron, Hermione, Neville, Lavender, Parvati, Dean, Seamus. They take five exams: MT1, MT2, QZ1, QZ2, Final. We will analyze the exam grades of this class.\n",
    "\n",
    "**(A)** Create a matrix named **M** that stores the grades of these students. We will generate random numbers as grades.\n",
    "\n",
    "Write a function named make_grade_matrix that takes a vector of student names and a vector of exam names. It should return a matrix where students are placed in rows, exams in columns. The matrix should be filled with random numbers between 1 and 10 (hint: Use the built-in function **sample()**). Name the rows with students, and the columns with exams.\n",
    "\n",
    "Example: Using the names given above,\n",
    "\n",
    "```r\n",
    "> RNGversion(\"3.3.1\")\n",
    "> set.seed(20200501)\n",
    "> M <- make_grade_matrix(\n",
    "    c(\"Harry\", \"Ron\", \"Hermione\", \"Neville\", \"Lavender\", \"Parvati\", \"Dean\", \"Seamus\"),\n",
    "    c(\"MT1\", \"MT2\", \"QZ1\", \"QZ2\", \"Final\")\n",
    "  )\n",
    "> M\n",
    "         MT1 MT2 QZ1 QZ2 Final\n",
    "Harry     10   2   4   9     2\n",
    "Ron        *   *   *   *     *\n",
    "Hermione   *   *   *   *     *\n",
    "Neville    *   *   *   *     *\n",
    "Lavender   *   *   *   *     *\n",
    "Parvati    *   *   *   *     *\n",
    "Dean       *   *   *   *     *\n",
    "Seamus     *   *   *   *     *\n",
    "```\n",
    "\n",
    "**(B)** Write a function named **exam_averages** that takes a matrix like above, and returns a vector of exam averages. The function should work with matrices of any size; i.e., with more rows or more columns.\n",
    "\n",
    "Example:\n",
    "\n",
    "```r\n",
    "> exam_averages(M)\n",
    "  MT1   MT2   QZ1   QZ2 Final \n",
    "5.375 4.750 4.750 6.125 6.250\n",
    "```\n",
    "\n",
    "**(C)** The exams may have have different weights. Write a function named **add_weighted_avg** that takes the grade matrix as above, and a vector of weights (length equal to the number of columns of the matrix, adding up to one). The function should return a new matrix with a new column holding the weighted averages.\n",
    "\n",
    "Example: Suppose the weights are 20% for MT1 and MT2, 10% for QZ1 and QZ2, and 40% for Final. Then:\n",
    "\n",
    "```r\n",
    "> add_weighted_avg(M, c(0.2, 0.2, 0.1, 0.1, 0.4))\n",
    "         MT1 MT2 QZ1 QZ2 Final wt_avg\n",
    "Harry     10   2   4   9     2    4.5\n",
    "Ron        *   *   *   *     *      *\n",
    "Hermione   *   *   *   *     *      *\n",
    "Neville    *   *   *   *     *      *\n",
    "Lavender   *   *   *   *     *      *\n",
    "Parvati    *   *   *   *     *      *\n",
    "Dean       *   *   *   *     *      *\n",
    "Seamus     *   *   *   *     *      *\n",
    "```\n",
    "\n",
    "---\n",
    "\n",
    "When submitting, create a single R source file containing the function definitions:\n",
    "\n",
    "```r\n",
    "make_grade_matrix <- function(students, exams){\n",
    "            ...your code...\n",
    "            }\n",
    "\n",
    "exam_averages <- function(M){\n",
    "            ...your code...\n",
    "            }\n",
    "\n",
    "add_weighted_avg <- function(M, weights) {\n",
    "            ...your code...\n",
    "            }\n",
    "```"
   ]
  },
  {
   "cell_type": "code",
   "execution_count": null,
   "metadata": {},
   "outputs": [],
   "source": [
    "RNGversion(\"3.3.1\")\n",
    "set.seed(20200501)\n",
    "\n",
    "make_grade_matrix <- function(s_names, q_names) {\n",
    "    M <- matrix(sample(10, length(s_names)*length(q_names), replace = TRUE),\n",
    "                nrow = length(s_names), ncol = length(q_names))\n",
    "    colnames(M) <- q_names\n",
    "    rownames(M) <- s_names\n",
    "    M\n",
    "}"
   ]
  },
  {
   "cell_type": "code",
   "execution_count": null,
   "metadata": {},
   "outputs": [],
   "source": [
    "exam_averages <- function(matr) {\n",
    "    apply(matr, 2, mean)\n",
    "}"
   ]
  },
  {
   "cell_type": "code",
   "execution_count": null,
   "metadata": {},
   "outputs": [],
   "source": [
    "add_weighted_avg <- function(matr, weights) {\n",
    "    cbind(matr, wt_avg=apply(matr, 1, function(r) sum(weights*r)))\n",
    "}"
   ]
  }
 ],
 "metadata": {
  "kernelspec": {
   "display_name": "R",
   "language": "R",
   "name": "ir"
  },
  "language_info": {
   "codemirror_mode": "r",
   "file_extension": ".r",
   "mimetype": "text/x-r-source",
   "name": "R",
   "pygments_lexer": "r",
   "version": "3.5.2"
  },
  "toc": {
   "nav_menu": {},
   "number_sections": true,
   "sideBar": true,
   "skip_h1_title": false,
   "title_cell": "Table of Contents",
   "title_sidebar": "Contents",
   "toc_cell": false,
   "toc_position": {},
   "toc_section_display": true,
   "toc_window_display": false
  },
  "varInspector": {
   "cols": {
    "lenName": 16,
    "lenType": 16,
    "lenVar": 40
   },
   "kernels_config": {
    "python": {
     "delete_cmd_postfix": "",
     "delete_cmd_prefix": "del ",
     "library": "var_list.py",
     "varRefreshCmd": "print(var_dic_list())"
    },
    "r": {
     "delete_cmd_postfix": ") ",
     "delete_cmd_prefix": "rm(",
     "library": "var_list.r",
     "varRefreshCmd": "cat(var_dic_list()) "
    }
   },
   "types_to_exclude": [
    "module",
    "function",
    "builtin_function_or_method",
    "instance",
    "_Feature"
   ],
   "window_display": false
  }
 },
 "nbformat": 4,
 "nbformat_minor": 2
}
