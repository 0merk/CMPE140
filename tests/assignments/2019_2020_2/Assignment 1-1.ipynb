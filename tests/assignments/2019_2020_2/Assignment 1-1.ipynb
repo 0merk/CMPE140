{
 "cells": [
  {
   "cell_type": "markdown",
   "metadata": {},
   "source": [
    "# Problem 1: Power series\n",
    "\n",
    "**(A)** Evaluate the sum $\\frac{1}{2} - \\frac{1}{4}+ \\frac{1}{8} - \\frac{1}{16} + ... - \\frac{1}{2^{10}}$ **using a loop** and assign the result to a variable named **total**. (Hint: Loop over the powers from 1 to 10 as shown in lecture notes.)\n",
    "\n",
    "Note the alternating sign of each term.\n",
    "\n",
    "**(B)** Generalize the calculation above: Write a function named **series2** that takes a positive integer parameter **N**, and returns the sum $\\frac{1}{2} - \\frac{1}{4}+ \\frac{1}{8} - \\frac{1}{16} + ... - \\frac{1}{2^{N}}$.\n",
    "\n",
    "Example\n",
    "\n",
    "```r\n",
    "> series2(5)\n",
    "[1] 0,34375\n",
    "> series2(10)\n",
    "[1] 0,3330078\n",
    "```\n",
    "\n",
    "**(C)** Generalize the function above: Write a function named **series** that takes a real number **p** and a positive integer **N**, and returns the sum $p - p^2 + p^3 - ... p^N$.\n",
    "\n",
    "Example\n",
    "\n",
    "```r\n",
    "> series(p=0.5, N=5)\n",
    "[1] 0,34375\n",
    "> series(p=0.8, N=10)\n",
    "[1] 0,3967226\n",
    "```\n",
    "\n",
    "---\n",
    "\n",
    "When submitting, create a single R source file containing the assignments of the variables and functions. More concretely, the file should have the following form:\n",
    "\n",
    "```r\n",
    "...some code...\n",
    "total <- ...some code...\n",
    "\n",
    "...some more code...\n",
    "series2 <- function(N)\n",
    "...some code...\n",
    "\n",
    "...some more code...\n",
    "series <- function(p,N)\n",
    "...some code...\n",
    "```"
   ]
  },
  {
   "cell_type": "code",
   "execution_count": null,
   "metadata": {},
   "outputs": [],
   "source": [
    "total <- 0; mod <- 1\n",
    "for (i in 1:10) {\n",
    "    total <- total + mod * 2^(-i)\n",
    "    mod <- -mod\n",
    "}"
   ]
  },
  {
   "cell_type": "code",
   "execution_count": null,
   "metadata": {},
   "outputs": [],
   "source": [
    "series2 <- function(N) {\n",
    "    total <- 0; mod <- 1\n",
    "    for (i in 1:N) {\n",
    "        total <- total + mod * 0.5^(i)\n",
    "        mod <- -mod\n",
    "    }\n",
    "    return(total)\n",
    "}"
   ]
  },
  {
   "cell_type": "code",
   "execution_count": null,
   "metadata": {},
   "outputs": [],
   "source": [
    "series <- function(p, N) {\n",
    "    total <- 0; mod <- 1\n",
    "    for (i in 1:N) {\n",
    "        total <- total + mod * p^(i)\n",
    "        mod <- -mod\n",
    "    }\n",
    "    return(total)\n",
    "}"
   ]
  }
 ],
 "metadata": {
  "kernelspec": {
   "display_name": "R",
   "language": "R",
   "name": "ir"
  },
  "language_info": {
   "codemirror_mode": "r",
   "file_extension": ".r",
   "mimetype": "text/x-r-source",
   "name": "R",
   "pygments_lexer": "r",
   "version": "3.5.2"
  },
  "toc": {
   "nav_menu": {},
   "number_sections": true,
   "sideBar": true,
   "skip_h1_title": false,
   "title_cell": "Table of Contents",
   "title_sidebar": "Contents",
   "toc_cell": false,
   "toc_position": {},
   "toc_section_display": true,
   "toc_window_display": false
  },
  "varInspector": {
   "cols": {
    "lenName": 16,
    "lenType": 16,
    "lenVar": 40
   },
   "kernels_config": {
    "python": {
     "delete_cmd_postfix": "",
     "delete_cmd_prefix": "del ",
     "library": "var_list.py",
     "varRefreshCmd": "print(var_dic_list())"
    },
    "r": {
     "delete_cmd_postfix": ") ",
     "delete_cmd_prefix": "rm(",
     "library": "var_list.r",
     "varRefreshCmd": "cat(var_dic_list()) "
    }
   },
   "types_to_exclude": [
    "module",
    "function",
    "builtin_function_or_method",
    "instance",
    "_Feature"
   ],
   "window_display": false
  }
 },
 "nbformat": 4,
 "nbformat_minor": 2
}
