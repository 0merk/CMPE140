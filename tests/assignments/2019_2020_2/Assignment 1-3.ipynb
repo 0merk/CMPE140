{
 "cells": [
  {
   "cell_type": "code",
   "execution_count": 2,
   "metadata": {},
   "outputs": [],
   "source": [
    "options(jupyter.rich_display = FALSE)"
   ]
  },
  {
   "cell_type": "markdown",
   "metadata": {},
   "source": [
    "# Problem 3: Simulate a fund with volatility\n",
    "\n",
    "If you have a savings account, the bank guarantees you a constant interest rate. However, many funds have a fluctuating return rate due to the changes in the external circumstances. Such a fund may return 1% in a month, 0.9% in the next, 1.5% after that, etc. In this problem, you will simulate the total return on such a fund over months.\n",
    "\n",
    "We assume that the monthly return rate is a normally (\"bell-shaped\") distributed random value, with given mean and standard deviation. For instance, if the mean is 0.02 and the standard deviation is 0.007, we might see monthly return rates like 0.022, 0.0167, 0.0163, ... (Hint: The **rnorm()** function generates such values.)\n",
    "\n",
    "**(A)** Write a function named **fundreturn** that takes the initial investment, the number of months, the mean and the standard deviation for the return rate. The function should return a vector of total amount in the fund every month.\n",
    "\n",
    "Example:\n",
    "```\n",
    "> RNGversion(\"3.3.1\")\n",
    "> set.seed(20200501)\n",
    "> fundreturn(40000, 24, 0.02, 0.007)\n",
    " [1] 40000.00 41189.57 42229.03 42978.15 43591.06 44125.67 44982.33 45828.18\n",
    " [9] 47017.15 47792.79 48754.37 49494.73 50134.66 51463.04 52488.46 53651.65\n",
    "[17] 54756.35 55495.54 56457.29 57555.26 59366.12 60127.51 61078.95 62051.37\n",
    "[25] 63269.31\n",
    "```\n",
    "\n",
    "**(B)** Let's take the income tax into account now. Every 12 months, an income tax is deducted from your most recent balance. If your balance is less than 50 000, the tax is 5% over the entire amount. If your balance is higher, the tax rate is 7%.\n",
    "\n",
    "Modify the function above and create a new function named **fundreturn_aftertax** that deducts tax according to this scheme every 12 months after the start of the fund. The function should take the same arguments as **fundreturn** and should return a vector of total amounts of the fund every month, after the tax.\n",
    "\n",
    "Example:\n",
    "```\n",
    "> RNGversion(\"3.3.1\")\n",
    "> set.seed(20200501)\n",
    "> fundreturn_withtax(40000, 24, 0.02, 0.007)\n",
    " [1] 40000.00 41189.57 42229.03 42978.15 43591.06 44125.67 44982.33 45828.18\n",
    " [9] 47017.15 47792.79 48754.37 49494.73 46625.24 47860.63 48814.26 49896.03\n",
    "[17] 50923.41 51610.85 52505.28 53526.39 55210.49 55918.58 56803.43 57707.78\n",
    "[25] 54721.62\n",
    "```"
   ]
  },
  {
   "cell_type": "code",
   "execution_count": 3,
   "metadata": {},
   "outputs": [
    {
     "data": {
      "text/plain": [
       " [1] 40000.00 41189.57 42229.03 42978.15 43591.06 44125.67 44982.33 45828.18\n",
       " [9] 47017.15 47792.79 48754.37 49494.73 50134.66 51463.04 52488.46 53651.65\n",
       "[17] 54756.35 55495.54 56457.29 57555.26 59366.12 60127.51 61078.95 62051.37\n",
       "[25] 63269.31"
      ]
     },
     "execution_count": 3,
     "metadata": {},
     "output_type": "execute_result"
    }
   ],
   "source": [
    "fundreturn <- function(inv, months, rate_mean, rate_std){\n",
    "    returnrates <- rnorm(months, rate_mean, rate_std)\n",
    "    current_amt <- inv\n",
    "    totals <- current_amt\n",
    "    for (m in 1:months){\n",
    "        current_amt <- current_amt*(1+returnrates[m])\n",
    "        totals <- c(totals, current_amt)\n",
    "    }\n",
    "    return(totals)\n",
    "}\n",
    "\n",
    "RNGversion(\"3.3.1\")\n",
    "set.seed(20200501)\n",
    "\n",
    "fundreturn(40000, 24, 0.02, 0.007)"
   ]
  },
  {
   "cell_type": "code",
   "execution_count": 4,
   "metadata": {},
   "outputs": [
    {
     "data": {
      "text/plain": [
       " [1] 40000.00 41189.57 42229.03 42978.15 43591.06 44125.67 44982.33 45828.18\n",
       " [9] 47017.15 47792.79 48754.37 49494.73 46625.24 47860.63 48814.26 49896.03\n",
       "[17] 50923.41 51610.85 52505.28 53526.39 55210.49 55918.58 56803.43 57707.78\n",
       "[25] 54721.62"
      ]
     },
     "execution_count": 4,
     "metadata": {},
     "output_type": "execute_result"
    }
   ],
   "source": [
    "fundreturn_withtax <- function(inv, months, rate_mean, rate_std){\n",
    "    returnrates <- rnorm(months, rate_mean, rate_std)\n",
    "    current_amt <- inv\n",
    "    totals <- current_amt\n",
    "    for (m in 1:months){\n",
    "        current_amt <- current_amt*(1+returnrates[m])\n",
    "        if (m%%12==0){\n",
    "            taxrate <- if(current_amt <= 50000) 0.05 else 0.07\n",
    "            current_amt <- current_amt*(1-taxrate)\n",
    "        }\n",
    "        totals <- c(totals, current_amt)\n",
    "    }\n",
    "    return(totals)\n",
    "}\n",
    "\n",
    "RNGversion(\"3.3.1\")\n",
    "set.seed(20200501)\n",
    "\n",
    "fundreturn_withtax(40000, 24, 0.02, 0.007)"
   ]
  }
 ],
 "metadata": {
  "kernelspec": {
   "display_name": "R",
   "language": "R",
   "name": "ir"
  },
  "language_info": {
   "codemirror_mode": "r",
   "file_extension": ".r",
   "mimetype": "text/x-r-source",
   "name": "R",
   "pygments_lexer": "r",
   "version": "3.5.2"
  },
  "toc": {
   "nav_menu": {},
   "number_sections": true,
   "sideBar": true,
   "skip_h1_title": false,
   "title_cell": "Table of Contents",
   "title_sidebar": "Contents",
   "toc_cell": false,
   "toc_position": {},
   "toc_section_display": true,
   "toc_window_display": false
  },
  "varInspector": {
   "cols": {
    "lenName": 16,
    "lenType": 16,
    "lenVar": 40
   },
   "kernels_config": {
    "python": {
     "delete_cmd_postfix": "",
     "delete_cmd_prefix": "del ",
     "library": "var_list.py",
     "varRefreshCmd": "print(var_dic_list())"
    },
    "r": {
     "delete_cmd_postfix": ") ",
     "delete_cmd_prefix": "rm(",
     "library": "var_list.r",
     "varRefreshCmd": "cat(var_dic_list()) "
    }
   },
   "types_to_exclude": [
    "module",
    "function",
    "builtin_function_or_method",
    "instance",
    "_Feature"
   ],
   "window_display": false
  }
 },
 "nbformat": 4,
 "nbformat_minor": 2
}
