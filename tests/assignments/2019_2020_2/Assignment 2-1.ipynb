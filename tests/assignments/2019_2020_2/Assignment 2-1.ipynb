{
 "cells": [
  {
   "cell_type": "code",
   "execution_count": 1,
   "metadata": {},
   "outputs": [],
   "source": [
    "options(jupyter.rich_display=FALSE)"
   ]
  },
  {
   "cell_type": "markdown",
   "metadata": {},
   "source": [
    "# Problem 1: Multiple-choice test grading with adjustment\n",
    "\n",
    "(Scoring: Each part 6 points. Total 30 points.)\n",
    "\n",
    "In this problem, you are going to read test responses from a file and generate a data frame with the scores for each student.\n",
    "\n",
    "The sample input data file *assg2-1.data* has the following form:\n",
    "```\n",
    "key,A,B,C,D,A\n",
    "ahmet,A,NA,NA,D,A\n",
    "canan,A,D,NA,D,A\n",
    "kemal,D,C,B,A,A\n",
    "meral,A,B,C,D,D\n",
    "ziya,C,C,C,D,A\n",
    "mine,NA,A,C,D,NA\n",
    "```\n",
    "\n",
    "Every row corresponds to one student. The first column gives the student's name, and the remaining columns hold the response of the student to that particular question. An `NA` indicates that the student did not answer the question. For example, `ahmet` replied A to the first question, left questions 2 and 3 unanswered, replied D to the fourth question and A to the last question.\n",
    "\n",
    "The first row gives the key, correct answers to each question. All the other rows should be compared against it.\n",
    "\n",
    "You should calculate the score of each student such that:\n",
    "* three false responses cancels one correct response,\n",
    "* the lowest possible score is zero (no negatives).\n",
    "\n",
    "Your program will be tested with another file that has the same structure but different names and responses. The number of rows and number of columns may differ. An empty response will always be `NA`. Write your code to be as general as possible within the problem description.\n",
    "\n",
    "**(A)** Write a function named **read_data** as given below:\n",
    "\n",
    "```r\n",
    "read_data <- function(path) {\n",
    "    return(read.csv(path, header=F, sep=\",\", row.names=1, stringsAsFactors=F))\n",
    "}\n",
    "```\n",
    "\n",
    "Download the data file given with this assignment and execute the following command:\n",
    "\n",
    "You can read the data in the file into a data frame with the following command:\n",
    "\n",
    "```\n",
    "> testscores <- read_data(\"responses.csv\")\n",
    "> testscores\n",
    "        V2   V3   V4 V5   V6\n",
    "key      A    B    C  D    A\n",
    "ahmet    A <NA> <NA>  D    A\n",
    "canan    A    D <NA>  D    A\n",
    "kemal    D    C    B  A    A\n",
    "meral    A    B    C  D    D\n",
    "ziya     C    C    C  D    A\n",
    "mine  <NA>    A    C  D <NA>\n",
    "```\n",
    "If you get an error message, probably the file is not in the directory your script is running. Either carry it to your working directory, or give the full path name together with the file name.\n",
    "\n",
    "You don't have to use the name `testscores`.\n",
    "\n",
    "**(B)** Write a function named **ncorrect** that takes one row of the data frame and returns the number of correct responses.\n",
    "\n",
    "Example:\n",
    "\n",
    "```\n",
    "> ncorrect(testscores[\"ahmet\",], testscores[1,])\n",
    "[1] 3\n",
    "```\n",
    "\n",
    "A useful trick: If you want to exclude `NA` values from a sum, you can set the `na.rm` option to `TRUE`.\n",
    "```\n",
    "> sum(c(\"abc\",NA,\"xyz\") == c(\"abc\",\"def\",\"xyz\"), na.rm=T)\n",
    "[1] 2\n",
    "```\n",
    "\n",
    "**(C)** Write a function named **nfalse** that takes one row of the data frame and returns the number of **false** responses. Note that `NA` values should be excluded.\n",
    "\n",
    "Example:\n",
    "\n",
    "```\n",
    "> nfalse(testscores[\"ahmet\",], testscores[1,])\n",
    "[1] 0\n",
    "```\n",
    "\n",
    "**(D)** Write a function named **checkscores** that takes the original data frame (e.g. `testscores` as defined above) and returns a new data frame with the number of correct and false responses for each student.\n",
    "\n",
    "\n",
    "Usage example:\n",
    "```\n",
    "> checkscores(testscores)\n",
    "        V2   V3   V4 V5   V6 ncorrect nfalse\n",
    "key      A    B    C  D    A        5      0\n",
    "ahmet    A <NA> <NA>  D    A        3      0\n",
    "canan    A    D <NA>  D    A        3      1\n",
    "kemal    D    C    B  A    A        1      4\n",
    "meral    A    B    C  D    D        4      1\n",
    "ziya     C    C    C  D    A        3      2\n",
    "mine  <NA>    A    C  D <NA>        2      1\n",
    "\n",
    "```\n",
    "\n",
    "Hint: An easy (but not the only) way is to use the built-in **apply()** function with the **ncorrect()** and **nfalse()** functions you created above.\n",
    "\n",
    "**(E)** Write a function named **adjustedscores** that takes the original data frame (e.g. `testscores` as defined above) and returns a new data frame with three new columns: The number of correct and false responses, and the adjusted score for each student.\n",
    "\n",
    "The adjusted score is calculated such that each false response reduces the number of correct responses by one-third. If the score turns out to be negative (e.g. one correct and four false responses), it should be set to zero.\n",
    "\n",
    "Example:\n",
    "```\n",
    "> adjustedscores(testscores)\n",
    "        V2   V3   V4 V5   V6 ncorrect nfalse adjusted\n",
    "key      A    B    C  D    A        5      0 5.000000\n",
    "ahmet    A <NA> <NA>  D    A        3      0 3.000000\n",
    "canan    A    D <NA>  D    A        3      1 2.666667\n",
    "kemal    D    C    B  A    A        1      4 0.000000\n",
    "meral    A    B    C  D    D        4      1 3.666667\n",
    "ziya     C    C    C  D    A        3      2 2.333333\n",
    "mine  <NA>    A    C  D <NA>        2      1 1.666667\n",
    "```"
   ]
  },
  {
   "cell_type": "markdown",
   "metadata": {},
   "source": [
    "# Solution"
   ]
  },
  {
   "cell_type": "code",
   "execution_count": 2,
   "metadata": {},
   "outputs": [
    {
     "data": {
      "text/plain": [
       "      V2 V3 V4 V5 V6 V7\n",
       "key   B  A  A  A  D  D \n",
       "ahmet B  C  B  B  C  NA\n",
       "kemal NA A  C  A  NA D \n",
       "mert  NA D  A  A  D  A \n",
       "kadir D  A  D  C  C  C \n",
       "kaan  B  A  A  A  D  D "
      ]
     },
     "metadata": {},
     "output_type": "display_data"
    }
   ],
   "source": [
    "read_data <- function(path) {\n",
    "    return(read.csv(path, header=F, sep=\",\", row.names=1, stringsAsFactors=F))\n",
    "}\n",
    "\n",
    "scores <- read_data(\"~/tests/assignments/2019_2020_2/responses_test.csv\")\n",
    "\n",
    "scores"
   ]
  },
  {
   "cell_type": "markdown",
   "metadata": {},
   "source": [
    "part A"
   ]
  },
  {
   "cell_type": "code",
   "execution_count": 3,
   "metadata": {},
   "outputs": [
    {
     "data": {
      "text/plain": [
       "[1] 6"
      ]
     },
     "metadata": {},
     "output_type": "display_data"
    }
   ],
   "source": [
    "ncorrect <- function(student, key) {\n",
    "    return(sum(student == key, na.rm = T))\n",
    "}\n",
    "\n",
    "ncorrect(scores[\"kaan\",], scores[1,])"
   ]
  },
  {
   "cell_type": "markdown",
   "metadata": {},
   "source": [
    "part B"
   ]
  },
  {
   "cell_type": "code",
   "execution_count": 4,
   "metadata": {},
   "outputs": [
    {
     "data": {
      "text/plain": [
       "[1] 2"
      ]
     },
     "metadata": {},
     "output_type": "display_data"
    }
   ],
   "source": [
    "nfalse <- function(student, key) {\n",
    "    return(sum(student != key, na.rm = T))\n",
    "}\n",
    "\n",
    "nfalse(scores[\"mert\",], scores[1,])"
   ]
  },
  {
   "cell_type": "markdown",
   "metadata": {},
   "source": [
    "part C"
   ]
  },
  {
   "cell_type": "code",
   "execution_count": 5,
   "metadata": {},
   "outputs": [
    {
     "data": {
      "text/plain": [
       "      V2 V3 V4 V5 V6 V7 ncorrect nfalse\n",
       "key   B  A  A  A  D  D  6        0     \n",
       "ahmet B  C  B  B  C  NA 1        4     \n",
       "kemal NA A  C  A  NA D  3        1     \n",
       "mert  NA D  A  A  D  A  3        2     \n",
       "kadir D  A  D  C  C  C  1        5     \n",
       "kaan  B  A  A  A  D  D  6        0     "
      ]
     },
     "metadata": {},
     "output_type": "display_data"
    }
   ],
   "source": [
    "checkscores <- function(answers) {\n",
    "    answers$ncorrect <- apply(answers, 1, ncorrect, answers[1,])\n",
    "    answers$nfalse <- apply(answers[,-length(answers)], 1, nfalse, answers[1,-length(answers)])\n",
    "    return(answers)\n",
    "}\n",
    "\n",
    "checkscores(scores)"
   ]
  },
  {
   "cell_type": "markdown",
   "metadata": {},
   "source": [
    "Part D"
   ]
  },
  {
   "cell_type": "code",
   "execution_count": 6,
   "metadata": {},
   "outputs": [
    {
     "data": {
      "text/plain": [
       "      V2 V3 V4 V5 V6 V7 ncorrect nfalse adjusted\n",
       "key   B  A  A  A  D  D  6        0      6.000000\n",
       "ahmet B  C  B  B  C  NA 1        4      0.000000\n",
       "kemal NA A  C  A  NA D  3        1      2.666667\n",
       "mert  NA D  A  A  D  A  3        2      2.333333\n",
       "kadir D  A  D  C  C  C  1        5      0.000000\n",
       "kaan  B  A  A  A  D  D  6        0      6.000000"
      ]
     },
     "metadata": {},
     "output_type": "display_data"
    }
   ],
   "source": [
    "adjustedscores <- function(answers) {\n",
    "    calculated <- checkscores(answers)\n",
    "    calculated$adjusted <- calculated$ncorrect - calculated$nfalse/3\n",
    "    calculated$adjusted[calculated$adjusted<0] <- 0\n",
    "    return(calculated)\n",
    "}\n",
    "\n",
    "adjustedscores(scores)"
   ]
  },
  {
   "cell_type": "markdown",
   "metadata": {},
   "source": [
    "part E"
   ]
  }
 ],
 "metadata": {
  "kernelspec": {
   "display_name": "R",
   "language": "R",
   "name": "ir"
  },
  "language_info": {
   "codemirror_mode": "r",
   "file_extension": ".r",
   "mimetype": "text/x-r-source",
   "name": "R",
   "pygments_lexer": "r",
   "version": "3.5.2"
  },
  "toc": {
   "nav_menu": {},
   "number_sections": true,
   "sideBar": true,
   "skip_h1_title": false,
   "title_cell": "Table of Contents",
   "title_sidebar": "Contents",
   "toc_cell": false,
   "toc_position": {},
   "toc_section_display": true,
   "toc_window_display": false
  },
  "varInspector": {
   "cols": {
    "lenName": 16,
    "lenType": 16,
    "lenVar": 40
   },
   "kernels_config": {
    "python": {
     "delete_cmd_postfix": "",
     "delete_cmd_prefix": "del ",
     "library": "var_list.py",
     "varRefreshCmd": "print(var_dic_list())"
    },
    "r": {
     "delete_cmd_postfix": ") ",
     "delete_cmd_prefix": "rm(",
     "library": "var_list.r",
     "varRefreshCmd": "cat(var_dic_list()) "
    }
   },
   "types_to_exclude": [
    "module",
    "function",
    "builtin_function_or_method",
    "instance",
    "_Feature"
   ],
   "window_display": false
  }
 },
 "nbformat": 4,
 "nbformat_minor": 4
}
