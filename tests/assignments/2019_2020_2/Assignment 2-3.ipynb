{
 "cells": [
  {
   "cell_type": "code",
   "execution_count": 1,
   "metadata": {},
   "outputs": [],
   "source": [
    "options(jupyter.rich_display=F)"
   ]
  },
  {
   "cell_type": "markdown",
   "metadata": {},
   "source": [
    "# Problem 3: Sales analysis\n",
    "\n",
    "(Scoring: Part A 5 points, parts B-F 9 points each. Total 50 points.)\n",
    "\n",
    "In this assignment, you will analyze a data set from a wholesale goods distributor. The data shows the annual spending of each customer on products in several categories.\n",
    "\n",
    "\n",
    "The data is stored in the file *wholesaledata.csv*. The first five lines of the file is as follows:\n",
    "\n",
    "|Channel|Region|Fresh|Milk|Grocery|Frozen|Detergents_Paper|Delicassen|\n",
    "|---|---|---|---|----|---|----|----|\n",
    "|2\t|3\t|12669\t|9656\t|7561\t|214\t|2674\t|1338\n",
    "|2\t|3\t|7057\t|9810\t|9568\t|1762\t|3293\t|1776\n",
    "|2\t|3\t|6353\t|8808\t|7684\t|2405\t|3516\t|7844\n",
    "|1\t|3\t|13265\t|1196\t|4221\t|6404\t|507\t|1788\n",
    "\n",
    "* The `Channel` field indicates the type of the customer.\n",
    "    * 1 indicates a hotel, restaurant, or cafe (\"horeca\" for short).\n",
    "    * 2 indicates a retail store.\n",
    "\n",
    "* The `Region` field indicates the region where the customer is located.\n",
    "    * 1 for Istanbul\n",
    "    * 2 for Bursa\n",
    "    * 3 for Other\n",
    "\n",
    "**(A)** Write a function named **read_data** that reads the data file and returns a data frame. You can use the  the built-in **read.csv()** function inside this function's body.\n",
    "\n",
    "```r\n",
    "> sales <- read_data(\"wholesaledata.csv\")\n",
    "> sales\n",
    "    Channel Region  Fresh  Milk Grocery Frozen Detergents_Paper Delicassen\n",
    "1         2      3  12669  9656    7561    214             2674       1338\n",
    "2         2      3   7057  9810    9568   1762             3293       1776\n",
    "3         2      3   6353  8808    7684   2405             3516       7844\n",
    "...\n",
    "338       1      2   9351  1347    2611   8170              442        868\n",
    "339       1      2      3   333    7021  15601               15        550\n",
    "340       1      2   2617  1188    5332   9584              573       1942\n",
    "```\n",
    "\n",
    "The name **sales** is arbitrary. You don't have to use the same name for the data frame.\n",
    "\n",
    "**(B)** Write a function named **tofactors** that takes the original data frame and returns a new data frame such that:\n",
    "* In the **Channel** column, the values 1 and 2 are replaced by \"Horeca\" and \"Retail\", respectively.\n",
    "* In the **Region** column, the values 1, 2, and 3 are replaced by \"Istanbul\", \"Bursa\", and \"Other\", respectively.\n",
    "* The columns **Channel** and **Region** are converted to factors.\n",
    "\n",
    "Example:\n",
    "```\n",
    "> summary(tofactors(sales))\n",
    "   Channel         Region        Fresh             Milk          Grocery     \n",
    " Horeca:222   Bursa   : 47   Min.   :     3   Min.   :   55   Min.   :    3  \n",
    " Retail:118   Istanbul: 77   1st Qu.:  3286   1st Qu.: 1606   1st Qu.: 2366  \n",
    "              Other   :216   Median :  8726   Median : 3664   Median : 5146  \n",
    "                             Mean   : 12441   Mean   : 6175   Mean   : 8442  \n",
    "                             3rd Qu.: 16934   3rd Qu.: 7612   3rd Qu.:10830  \n",
    "                             Max.   :112151   Max.   :73498   Max.   :92780  \n",
    "     Frozen      Detergents_Paper    Delicassen     \n",
    " Min.   :   33   Min.   :    3.0   Min.   :    3.0  \n",
    " 1st Qu.:  744   1st Qu.:  283.8   1st Qu.:  416.5  \n",
    " Median : 1500   Median :  833.0   Median :  982.5  \n",
    " Mean   : 3131   Mean   : 3112.8   Mean   : 1615.1  \n",
    " 3rd Qu.: 3708   3rd Qu.: 4125.0   3rd Qu.: 1795.8  \n",
    " Max.   :60869   Max.   :40827.0   Max.   :47943.0  \n",
    "```\n",
    "\n",
    "**(C)** Write a function named **totalrevenue** that returns the total revenue from a given channel, region and type of good.\n",
    "\n",
    "Example:\n",
    "```\n",
    "> totalrevenue(sales, 1, 1, \"Fresh\")\n",
    "[1] 761233\n",
    "> totalrevenue(tofactors(sales), \"Horeca\", \"Istanbul\", \"Fresh\")\n",
    "[1] 761233\n",
    "```\n",
    "\n",
    "**(D)** Write a function named **sales_stats** that takes the data frame and returns the mean and max of sales for every item type. The result should be returned as a list of lists, as shown below.\n",
    "\n",
    "Example:\n",
    "\n",
    "```\n",
    "> sales_stats(sales)\n",
    "$Fresh\n",
    "$Fresh$avg\n",
    "[1] 12441.45\n",
    "\n",
    "$Fresh$max\n",
    "[1] 112151\n",
    "\n",
    "\n",
    "$Milk\n",
    "$Milk$avg\n",
    "[1] 6174.871\n",
    "\n",
    "$Milk$max\n",
    "[1] 73498\n",
    "\n",
    "\n",
    "$Grocery\n",
    "$Grocery$avg\n",
    "[1] 8441.918\n",
    "\n",
    "$Grocery$max\n",
    "[1] 92780\n",
    "\n",
    "\n",
    "$Frozen\n",
    "$Frozen$avg\n",
    "[1] 3131.297\n",
    "\n",
    "$Frozen$max\n",
    "[1] 60869\n",
    "\n",
    "\n",
    "$Detergents_Paper\n",
    "$Detergents_Paper$avg\n",
    "[1] 3112.824\n",
    "\n",
    "$Detergents_Paper$max\n",
    "[1] 40827\n",
    "\n",
    "\n",
    "$Delicassen\n",
    "$Delicassen$avg\n",
    "[1] 1615.103\n",
    "\n",
    "$Delicassen$max\n",
    "[1] 47943\n",
    "```\n",
    "\n",
    "**(E)** Write a function named **contingency_table** that returns a two-way table (contingency table) giving the number of entries broken by channels and regions.\n",
    "\n",
    "Example:\n",
    "\n",
    "```r\n",
    "> contingency_table(sales)\n",
    "           Horeca Retail\n",
    "  Bursa        28     19\n",
    "  Istanbul     59     18\n",
    "  Other       135     81\n",
    "```\n",
    "\n",
    "\n",
    "**(F)** Write a function named **break_sales** that returns a table of total revenue for each item type, aggregated by regions and channels, as shown below. (Hint: Use the built-in **aggregate()** function.)\n",
    "\n",
    "Example:\n",
    "\n",
    "```r\n",
    "> break_sales(sales)\n",
    "   Group.1 Group.2   Fresh   Milk Grocery Frozen Detergents_Paper Delicassen\n",
    "1    Bursa  Horeca  326215  64519  123074 160861            13516      30965\n",
    "2 Istanbul  Horeca  761233 228342  237542 184512            56081      70632\n",
    "3    Other  Horeca 2085912 459174  526214 520296           102605     230435\n",
    "4    Bursa  Retail  138506 174625  310200  29271           159795      23541\n",
    "5 Istanbul  Retail   93600 194112  332495  46514           148055      33695\n",
    "6    Other  Retail  824627 978684 1340727 123187           578308     159867\n",
    "```"
   ]
  },
  {
   "cell_type": "markdown",
   "metadata": {},
   "source": [
    "# Solution"
   ]
  },
  {
   "cell_type": "markdown",
   "metadata": {},
   "source": [
    "**(A)**"
   ]
  },
  {
   "cell_type": "code",
   "execution_count": 3,
   "metadata": {
    "scrolled": true
   },
   "outputs": [
    {
     "data": {
      "text/plain": [
       "  Channel Region Fresh Milk Grocery Frozen Detergents_Paper Delicassen\n",
       "1 2       3      12669 9656 7561     214   2674             1338      \n",
       "2 2       3       7057 9810 9568    1762   3293             1776      \n",
       "3 2       3       6353 8808 7684    2405   3516             7844      \n",
       "4 1       3      13265 1196 4221    6404    507             1788      \n",
       "5 2       3      22615 5410 7198    3915   1777             5185      \n",
       "6 2       3       9413 8259 5126     666   1795             1451      "
      ]
     },
     "metadata": {},
     "output_type": "display_data"
    }
   ],
   "source": [
    "read_data <- function(whole_path) {\n",
    "    read.csv(whole_path)\n",
    "}\n",
    "\n",
    "sales <- read_data(\"~/tests/assignments/2019_2020_2/wholesaledata_test.csv\")\n",
    "head(sales)"
   ]
  },
  {
   "cell_type": "markdown",
   "metadata": {},
   "source": [
    "**(B)**"
   ]
  },
  {
   "cell_type": "code",
   "execution_count": 4,
   "metadata": {},
   "outputs": [
    {
     "data": {
      "text/plain": [
       "  Channel Region Fresh Milk Grocery Frozen Detergents_Paper Delicassen\n",
       "1 Retail  Other  12669 9656 7561     214   2674             1338      \n",
       "2 Retail  Other   7057 9810 9568    1762   3293             1776      \n",
       "3 Retail  Other   6353 8808 7684    2405   3516             7844      \n",
       "4 Horeca  Other  13265 1196 4221    6404    507             1788      \n",
       "5 Retail  Other  22615 5410 7198    3915   1777             5185      \n",
       "6 Retail  Other   9413 8259 5126     666   1795             1451      "
      ]
     },
     "metadata": {},
     "output_type": "display_data"
    },
    {
     "data": {
      "text/plain": [
       "   Channel         Region        Fresh             Milk          Grocery     \n",
       " Horeca:298   Bursa   : 47   Min.   :     3   Min.   :   55   Min.   :    3  \n",
       " Retail:142   Istanbul: 77   1st Qu.:  3128   1st Qu.: 1533   1st Qu.: 2153  \n",
       "              Other   :316   Median :  8504   Median : 3627   Median : 4756  \n",
       "                             Mean   : 12000   Mean   : 5796   Mean   : 7951  \n",
       "                             3rd Qu.: 16934   3rd Qu.: 7190   3rd Qu.:10656  \n",
       "                             Max.   :112151   Max.   :73498   Max.   :92780  \n",
       "     Frozen        Detergents_Paper    Delicassen     \n",
       " Min.   :   25.0   Min.   :    3.0   Min.   :    3.0  \n",
       " 1st Qu.:  742.2   1st Qu.:  256.8   1st Qu.:  408.2  \n",
       " Median : 1526.0   Median :  816.5   Median :  965.5  \n",
       " Mean   : 3071.9   Mean   : 2881.5   Mean   : 1524.9  \n",
       " 3rd Qu.: 3554.2   3rd Qu.: 3922.0   3rd Qu.: 1820.2  \n",
       " Max.   :60869.0   Max.   :40827.0   Max.   :47943.0  "
      ]
     },
     "metadata": {},
     "output_type": "display_data"
    }
   ],
   "source": [
    "tofactors <- function(df){\n",
    "    df$Channel <- factor(ifelse(df$Channel==1, \"Horeca\", \"Retail\"))\n",
    "    df$Region <- factor(ifelse(df$Region==1, \"Istanbul\", ifelse(df$Region==2, \"Bursa\", \"Other\")))\n",
    "    return(df)\n",
    "}\n",
    "\n",
    "head(tofactors(sales))\n",
    "summary(tofactors(sales))"
   ]
  },
  {
   "cell_type": "markdown",
   "metadata": {},
   "source": [
    "**(C)**"
   ]
  },
  {
   "cell_type": "code",
   "execution_count": 5,
   "metadata": {},
   "outputs": [
    {
     "data": {
      "text/plain": [
       "[1] 761233"
      ]
     },
     "metadata": {},
     "output_type": "display_data"
    },
    {
     "data": {
      "text/plain": [
       "[1] 761233"
      ]
     },
     "metadata": {},
     "output_type": "display_data"
    }
   ],
   "source": [
    "totalrevenue <- function(df, channel, region, type){\n",
    "    sum(df[(df$Channel==channel) & (df$Region==region),][[type]])\n",
    "}\n",
    "\n",
    "totalrevenue(sales,1,1,\"Fresh\")\n",
    "totalrevenue(tofactors(sales),\"Horeca\",\"Istanbul\",\"Fresh\")"
   ]
  },
  {
   "cell_type": "markdown",
   "metadata": {},
   "source": [
    "**(D)**"
   ]
  },
  {
   "cell_type": "code",
   "execution_count": 6,
   "metadata": {},
   "outputs": [
    {
     "data": {
      "text/plain": [
       "$Fresh\n",
       "$Fresh$avg\n",
       "[1] 12000.3\n",
       "\n",
       "$Fresh$max\n",
       "[1] 112151\n",
       "\n",
       "\n",
       "$Milk\n",
       "$Milk$avg\n",
       "[1] 5796.266\n",
       "\n",
       "$Milk$max\n",
       "[1] 73498\n",
       "\n",
       "\n",
       "$Grocery\n",
       "$Grocery$avg\n",
       "[1] 7951.277\n",
       "\n",
       "$Grocery$max\n",
       "[1] 92780\n",
       "\n",
       "\n",
       "$Frozen\n",
       "$Frozen$avg\n",
       "[1] 3071.932\n",
       "\n",
       "$Frozen$max\n",
       "[1] 60869\n",
       "\n",
       "\n",
       "$Detergents_Paper\n",
       "$Detergents_Paper$avg\n",
       "[1] 2881.493\n",
       "\n",
       "$Detergents_Paper$max\n",
       "[1] 40827\n",
       "\n",
       "\n",
       "$Delicassen\n",
       "$Delicassen$avg\n",
       "[1] 1524.87\n",
       "\n",
       "$Delicassen$max\n",
       "[1] 47943\n",
       "\n"
      ]
     },
     "metadata": {},
     "output_type": "display_data"
    }
   ],
   "source": [
    "sales_stats <- function(df){\n",
    "    lst <- list()\n",
    "    for (type in colnames(df)[c(-1,-2)]){\n",
    "        lst[[type]]$avg <- mean(df[[type]])\n",
    "        lst[[type]]$max <- max(df[[type]])\n",
    "    }\n",
    "    lst\n",
    "}\n",
    "sales_stats(sales)"
   ]
  },
  {
   "cell_type": "markdown",
   "metadata": {},
   "source": [
    "**(E)**"
   ]
  },
  {
   "cell_type": "code",
   "execution_count": 7,
   "metadata": {},
   "outputs": [
    {
     "data": {
      "text/plain": [
       "          \n",
       "           Horeca Retail\n",
       "  Bursa        28     19\n",
       "  Istanbul     59     18\n",
       "  Other       211    105"
      ]
     },
     "metadata": {},
     "output_type": "display_data"
    }
   ],
   "source": [
    "contingency_table <- function(df) table(tofactors(df)$Region, tofactors(df)$Channel)\n",
    "\n",
    "contingency_table(sales)"
   ]
  },
  {
   "cell_type": "markdown",
   "metadata": {},
   "source": [
    "**(F)**"
   ]
  },
  {
   "cell_type": "code",
   "execution_count": 8,
   "metadata": {},
   "outputs": [
    {
     "data": {
      "text/plain": [
       "  Group.1  Group.2 Fresh   Milk    Grocery Frozen Detergents_Paper Delicassen\n",
       "1 Bursa    Horeca   326215   64519  123074 160861  13516            30965    \n",
       "2 Istanbul Horeca   761233  228342  237542 184512  56081            70632    \n",
       "3 Other    Horeca  2928269  735753  820101 771606 165990           320358    \n",
       "4 Bursa    Retail   138506  174625  310200  29271 159795            23541    \n",
       "5 Istanbul Retail    93600  194112  332495  46514 148055            33695    \n",
       "6 Other    Retail  1032308 1153006 1675150 158886 724420           191752    "
      ]
     },
     "metadata": {},
     "output_type": "display_data"
    }
   ],
   "source": [
    "break_sales <- function(df) aggregate(df[c(-1,-2)], by=list(tofactors(df)$Region, tofactors(df)$Channel), sum)\n",
    "\n",
    "break_sales(sales)"
   ]
  }
 ],
 "metadata": {
  "kernelspec": {
   "display_name": "R",
   "language": "R",
   "name": "ir"
  },
  "language_info": {
   "codemirror_mode": "r",
   "file_extension": ".r",
   "mimetype": "text/x-r-source",
   "name": "R",
   "pygments_lexer": "r",
   "version": "3.5.2"
  },
  "toc": {
   "nav_menu": {},
   "number_sections": true,
   "sideBar": true,
   "skip_h1_title": false,
   "title_cell": "Table of Contents",
   "title_sidebar": "Contents",
   "toc_cell": false,
   "toc_position": {},
   "toc_section_display": true,
   "toc_window_display": false
  },
  "varInspector": {
   "cols": {
    "lenName": 16,
    "lenType": 16,
    "lenVar": 40
   },
   "kernels_config": {
    "python": {
     "delete_cmd_postfix": "",
     "delete_cmd_prefix": "del ",
     "library": "var_list.py",
     "varRefreshCmd": "print(var_dic_list())"
    },
    "r": {
     "delete_cmd_postfix": ") ",
     "delete_cmd_prefix": "rm(",
     "library": "var_list.r",
     "varRefreshCmd": "cat(var_dic_list()) "
    }
   },
   "types_to_exclude": [
    "module",
    "function",
    "builtin_function_or_method",
    "instance",
    "_Feature"
   ],
   "window_display": false
  }
 },
 "nbformat": 4,
 "nbformat_minor": 4
}
