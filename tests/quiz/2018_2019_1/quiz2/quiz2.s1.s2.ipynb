{
 "cells": [
  {
   "cell_type": "markdown",
   "metadata": {},
   "source": [
    "## Section 1"
   ]
  },
  {
   "cell_type": "markdown",
   "metadata": {},
   "source": [
    "Write a function named **my_sort** which has **three** arguments: two numbers and a boolean as a deafult argument named **decreasing**.\n",
    "\n",
    "The function will output the numbers in either increasing or decreasing order based on the value of deafult argument. Te default value should indicate the increasing order.\n",
    "\n",
    "Return value:\n",
    "    \n",
    "        Should be a vector containing two elements in correct order.\n",
    "        \n",
    "Examples:\n",
    "\n",
    "        > my_sort(4,4)\n",
    "        [1] 4 4 \n",
    "        \n",
    "        > my_sort(9,4)\n",
    "        [1] 4 9\n",
    "        \n",
    "        > my_sort(9,4, decreasing=TRUE)\n",
    "        [1] 9 4\n",
    "        \n",
    "        > my_sort(4,9, decreasing=TRUE)\n",
    "        [1] 9 4     \n",
    "\n"
   ]
  },
  {
   "cell_type": "code",
   "execution_count": null,
   "metadata": {
    "collapsed": true
   },
   "outputs": [],
   "source": [
    "##\n",
    "\n",
    "###"
   ]
  },
  {
   "cell_type": "markdown",
   "metadata": {},
   "source": [
    "## Section 2"
   ]
  },
  {
   "cell_type": "markdown",
   "metadata": {},
   "source": [
    "Write a function named **find_winner** to decide the winner of a game based on their scores and the rule of the game.\n",
    "\n",
    "\n",
    "The function has **three** arguments: scores of two players,  Player 1 and Player 2, and a boolean as a default argument named as **bigger_better**. The boolean argument will be used to decide whether the player with smaller score or bigger score wins. The default should indicate that the player with bigger score wins.\n",
    "\n",
    "Return values:\n",
    "\n",
    "     If Player 1 wins, the output should be \"Player 1 wins!\".\n",
    "     If Player 2 wins, the output should be \"Player 2 wins!\".\n",
    "     If the scores are equal, the output should be \"Draw\".\n",
    "     \n",
    "\n",
    "Examples:\n",
    "\n",
    "     > find_winner(59, 72)\n",
    "     [1] \"Player 2 wins!\"\n",
    "     \n",
    "      > find_winner(72, 59)\n",
    "     [1] \"Player 1 wins!\"\n",
    "     \n",
    "     > find_winner(59, 72, bigger_better=FALSE)\n",
    "     [1] \"Player 1 wins!\"\n",
    "     \n",
    "      > find_winner(72, 59, bigger_better=FALSE)\n",
    "     [1] \"Player 2 wins!\"\n",
    "     \n",
    "          \n",
    "      > find_winner(59, 59)\n",
    "     [1] \"Draw!\"\n",
    "     "
   ]
  },
  {
   "cell_type": "code",
   "execution_count": null,
   "metadata": {
    "collapsed": true
   },
   "outputs": [],
   "source": [
    "##\n",
    "\n",
    "###"
   ]
  }
 ],
 "metadata": {
  "kernelspec": {
   "display_name": "R",
   "language": "R",
   "name": "ir"
  },
  "language_info": {
   "codemirror_mode": "r",
   "file_extension": ".r",
   "mimetype": "text/x-r-source",
   "name": "R",
   "pygments_lexer": "r",
   "version": "3.4.3"
  }
 },
 "nbformat": 4,
 "nbformat_minor": 2
}
