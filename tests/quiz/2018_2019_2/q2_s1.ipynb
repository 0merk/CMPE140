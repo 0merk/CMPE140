{
 "cells": [
  {
   "cell_type": "code",
   "execution_count": null,
   "metadata": {},
   "outputs": [],
   "source": [
    "options(jupyter.rich_display = F)"
   ]
  },
  {
   "cell_type": "markdown",
   "metadata": {},
   "source": [
    "**IMPORTANT NOTICE:**\n",
    "\n",
    "**- PLEASE MAKE SURE R THROWS NO ERROR WHEN YOUR R SCRIPT (BEFORE RENAMING TO A TXT FILE) IS SOURCED USING THE SOURCE BUTTON OR ALL LINES IN YOUR SCRIPT ARE EXECUTED**\n",
    "\n",
    "**- MAKE SURE AL LINES IN YOUR FILE THAT ARE NOT INTENDED TO EXECUTE AS R COMMANDS SHOULD BE COMMENTED OUT WITH \"#\"**\n",
    "\n",
    "**- YOU SHOULD NAME THE OBJECTS EXACTLY AS REQUIRED IN THE QUESTION. OTHERWISE, A CORRECT CODE WILL BE RENDERED AS INCORRECT. NOTE THAT R IS CASE SENSITIVE!**\n",
    "\n",
    "**- IN THE FOLLOWING QUESTIONS, DO NOT MAKE USE OF GLOBAL VARIABLES, I.E. ALL OBJECTS CREATED IN THE GLOBAL ENVIRONMENT CAN ONLY BE PASSED AS VALUES TO ARGUMENTS OF FUNCTIONS. THE BODY OF THE FUNCTIONS SHOULD NOT REFER TO GLOBAL OBJECTS**"
   ]
  },
  {
   "cell_type": "markdown",
   "metadata": {},
   "source": [
    "**Question 1: As simple as it can get**\n",
    "\n",
    "Write a function called **simple1** that takes two arguments named **arg1** and **arg2**\n",
    "\n",
    "- The function should **return** the multiplication of arg1 and arg2\n",
    "- The arguments should not have default values\n",
    "\n",
    "such that calling the function will yield these:\n",
    "\n",
    "```r\n",
    "simple1(arg1 = 3, arg2 = 2)\n",
    "[1] 6\n",
    "\n",
    "\n",
    "simple1(4)\n",
    "Error in simple1(4): argument \"arg2\" is missing, with no default\n",
    "Traceback:\n",
    "\n",
    "1. simple1(4)\n",
    "\n",
    "\n",
    "simple1(6, arg2 = 3)\n",
    "[1] 18\n",
    "```"
   ]
  },
  {
   "cell_type": "markdown",
   "metadata": {},
   "source": [
    "**Solution 1:**"
   ]
  },
  {
   "cell_type": "code",
   "execution_count": null,
   "metadata": {},
   "outputs": [],
   "source": [
    "simple1 <- function(arg1, arg2)\n",
    "{\n",
    "    return(arg1 * arg2)\n",
    "}\n",
    "\n",
    "simple1(arg1 = 3, arg2 = 2)\n",
    "\n",
    "simple1(6, arg2 = 3)\n",
    "\n",
    "simple1(4)"
   ]
  },
  {
   "cell_type": "markdown",
   "metadata": {},
   "source": [
    "**Question 2: Standardize me**\n",
    "\n",
    "Let's have a vector of normally distributed values as such:\n",
    "\n",
    "```r\n",
    "set.seed(2019)\n",
    "samp1 <- rnorm(10, 5, 3)\n",
    "samp1\n",
    "\n",
    "[1] 7.21556798 3.45571853 0.07945597 7.74811035 1.19755408 7.21474331\n",
    "[7] 2.65213169 6.52788781 0.53018276 4.04246210\n",
    "```\n",
    "\n",
    "z-score shows how many standard deviations a value is distant from the mean of a distribution:\n",
    "\n",
    "$$z = (x - \\mu)/\\sigma$$\n",
    "\n",
    "where $\\mu$ is the average and $\\sigma$ is the standard deviation\n",
    "\n",
    "Write a function named **stand** that takes an argument named **input** - a vector of values - and returns the z-score of all values in the vector as such:\n",
    "\n",
    "```r\n",
    "stand(samp1)\n",
    "\n",
    "[1]  1.066668450 -0.206839092 -1.350421003  1.247047142 -0.971707338\n",
    "[6]  1.066389122 -0.479023897  0.833742664 -1.197754264 -0.008101783\n",
    "```\n",
    "\n",
    "**Note that,**\n",
    "\n",
    "- **The body of the function should NOT refer to samp1 object**\n",
    "\n",
    "- **\"input\" argument should not have any default values**\n",
    "\n",
    "- **You can make use of relevant statistical functions**"
   ]
  },
  {
   "cell_type": "markdown",
   "metadata": {},
   "source": [
    "**Solution 2:**"
   ]
  },
  {
   "cell_type": "code",
   "execution_count": null,
   "metadata": {},
   "outputs": [],
   "source": [
    "set.seed(2019)\n",
    "samp1 <- rnorm(10, 5, 3)\n",
    "samp1\n",
    "\n",
    "stand <- function(input)\n",
    "{\n",
    "    (input - mean(input)) / sd(input)\n",
    "}\n",
    "\n",
    "stand(samp1)"
   ]
  },
  {
   "cell_type": "markdown",
   "metadata": {},
   "source": [
    "**Question 3: Subset it**\n",
    "\n"
   ]
  },
  {
   "cell_type": "markdown",
   "metadata": {},
   "source": [
    "Suppose we have a vector of values **samp2** as such:\n",
    "\n",
    "```r\n",
    "set.seed(2025)\n",
    "samp2 <- sample(100, 8, replace = T)\n",
    "samp2\n",
    "\n",
    "[1] 74 48 52 50 79 51 90 13\n",
    "```\n",
    "\n",
    "Write a function named **subset1** that takes three arguments:\n",
    "- **vec** is a vector of numbers with no default value\n",
    "- **start** is the starting index of the subset **with a default value of 1**\n",
    "- **end** is the ending index of the subset with no default value\n",
    "\n",
    "The function should subset the portion of the vector between the **start** and **end** indices as such:\n",
    "\n",
    "```r\n",
    "subset1(vec = samp2, end = 3)\n",
    "[1] 74 48 52\n",
    "\n",
    "\n",
    "subset1(samp2, 2, 4)\n",
    "[1] 48 52 50\n",
    "```\n",
    "\n",
    "**Note that,**\n",
    "\n",
    "- **The body of the function should NOT refer to samp2 object**\n"
   ]
  },
  {
   "cell_type": "markdown",
   "metadata": {},
   "source": [
    "**Solution 3:**"
   ]
  },
  {
   "cell_type": "code",
   "execution_count": null,
   "metadata": {},
   "outputs": [],
   "source": [
    "set.seed(2025)\n",
    "samp2 <- sample(100, 8, replace = T)\n",
    "samp2\n",
    "\n",
    "subset1 <- function(vec, start = 1, end)\n",
    "{\n",
    "    vec[start:end]\n",
    "}\n",
    "\n",
    "subset1(vec = samp2, end = 3)\n",
    "\n",
    "subset1(samp2, 2, 4)"
   ]
  }
 ],
 "metadata": {
  "kernelspec": {
   "display_name": "R",
   "language": "R",
   "name": "ir"
  },
  "language_info": {
   "codemirror_mode": "r",
   "file_extension": ".r",
   "mimetype": "text/x-r-source",
   "name": "R",
   "pygments_lexer": "r",
   "version": "3.5.3"
  },
  "toc": {
   "nav_menu": {},
   "number_sections": true,
   "sideBar": true,
   "skip_h1_title": false,
   "toc_cell": false,
   "toc_position": {},
   "toc_section_display": "block",
   "toc_window_display": false
  }
 },
 "nbformat": 4,
 "nbformat_minor": 2
}
