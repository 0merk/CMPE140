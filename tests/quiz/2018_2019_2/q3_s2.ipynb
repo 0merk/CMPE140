{
 "cells": [
  {
   "cell_type": "code",
   "execution_count": null,
   "metadata": {},
   "outputs": [],
   "source": [
    "options(jupyter.rich_display = F)"
   ]
  },
  {
   "cell_type": "markdown",
   "metadata": {},
   "source": [
    "**IMPORTANT NOTICE:**\n",
    "\n",
    "**- PLEASE MAKE SURE R THROWS NO ERROR WHEN YOUR R SCRIPT (BEFORE RENAMING TO A TXT FILE) IS SOURCED USING THE SOURCE BUTTON OR ALL LINES IN YOUR SCRIPT ARE EXECUTED**\n",
    "\n",
    "**- MAKE SURE AL LINES IN YOUR FILE THAT ARE NOT INTENDED TO EXECUTE AS R COMMANDS SHOULD BE COMMENTED OUT WITH \"#\"**\n",
    "\n",
    "**- YOU SHOULD NAME THE OBJECTS EXACTLY AS REQUIRED IN THE QUESTION. OTHERWISE, A CORRECT CODE WILL BE RENDERED AS INCORRECT. NOTE THAT R IS CASE SENSITIVE!**\n",
    "\n",
    "**- IN THE FOLLOWING QUESTIONS, DO NOT MAKE USE OF GLOBAL VARIABLES, I.E. ALL OBJECTS CREATED IN THE GLOBAL ENVIRONMENT CAN ONLY BE PASSED AS VALUES TO ARGUMENTS OF FUNCTIONS. THE BODY OF THE FUNCTIONS SHOULD NOT REFER TO GLOBAL OBJECTS**"
   ]
  },
  {
   "cell_type": "markdown",
   "metadata": {},
   "source": [
    "# \"FOR\" FOR YOU"
   ]
  },
  {
   "cell_type": "markdown",
   "metadata": {},
   "source": [
    "Write a function for_1 that takes an argument x, a single numeric value.\n",
    "\n",
    "The function is supposed to have a for loop that will take the last value of x in each iteration, and update its value as x = 3x - 2. The for loop will continue for a total of 10 iterations. The function will return the last value of x. So:\n",
    "\n",
    "```R\n",
    "for_1(x = 1)\n",
    "[1] 1\n",
    "\n",
    "for_1(2)\n",
    "[1] 59050\n",
    "\n",
    "for_1(3)\n",
    "[1] 118099\n",
    "```\n",
    "\n",
    "**Note: Don't forget to create a separate variable to iterate through values from 1 to 10** "
   ]
  },
  {
   "cell_type": "markdown",
   "metadata": {},
   "source": [
    "**Solution 1:**"
   ]
  },
  {
   "cell_type": "code",
   "execution_count": null,
   "metadata": {},
   "outputs": [],
   "source": [
    "for_1 <- function(x)\n",
    "{\n",
    "    for (i in 1:10)\n",
    "    {\n",
    "        x <- (3 * x) - 2\n",
    "    }\n",
    "    \n",
    "    return(x)\n",
    "}\n",
    "\n",
    "for_1(1)\n",
    "for_1(2)\n",
    "for_1(3)"
   ]
  },
  {
   "cell_type": "markdown",
   "metadata": {},
   "source": [
    "# SNOW OR NOT"
   ]
  },
  {
   "cell_type": "markdown",
   "metadata": {},
   "source": [
    "Write a function named **snow** that takes two arguments without default values:\n",
    "\n",
    "- **hum** (that stands for humidity) that will take a numeric value between 0 and 1, and\n",
    "- **temp** (that stands for temperature) that will take a numeric value for celsius temperature\n",
    "\n",
    "The function will feature a condition:\n",
    "- if hum is **ABOVE** 0.8 **OR** temp is **BELOW** 0, the function will RETURN **EXACTLY** \"snow\"\n",
    "- otherwise the function will RETURN **EXACTLY** \"nosnow\"\n",
    "\n",
    "as such:\n",
    "\n",
    "```R\n",
    "snow(0.75, -5)\n",
    "snow(0.85, -5)\n",
    "snow(0.85, 5)\n",
    "snow(0.75, 5)\n",
    "\n",
    "[1] \"snow\"\n",
    "[1] \"snow\"\n",
    "[1] \"snow\"\n",
    "[1] \"nosnow\"\n",
    "```\n"
   ]
  },
  {
   "cell_type": "markdown",
   "metadata": {},
   "source": [
    "**Solution 2:**"
   ]
  },
  {
   "cell_type": "code",
   "execution_count": null,
   "metadata": {},
   "outputs": [],
   "source": [
    "snow <- function(hum, temp)\n",
    "{\n",
    "    if (hum > 0.8 || temp < 0)\n",
    "    {\n",
    "        return(\"snow\")\n",
    "    }\n",
    "    else\n",
    "    {\n",
    "        return(\"nosnow\")\n",
    "    }\n",
    "}\n",
    "\n",
    "snow(0.75, -5)\n",
    "snow(0.85, -5)\n",
    "snow(0.85, 5)\n",
    "snow(0.75, 5)"
   ]
  },
  {
   "cell_type": "markdown",
   "metadata": {},
   "source": [
    "# GRADING"
   ]
  },
  {
   "cell_type": "markdown",
   "metadata": {},
   "source": [
    "Write a function named **grading** that takes as argument **grades**, a vector of **three** numeric values, each between 0 and 100 (inclusive), with a default value of c(60, 60, 60)\n",
    "\n",
    "First value stands for midterm 1, second value stands for midterm 2 and third value stands for the final.\n",
    "\n",
    "All grades are assumed to have equal weights.\n",
    "\n",
    "- The function will first check whether final (last value) is BELOW 50. If so, the function will return **EXACTLY** \"final\" (stands for failed due to insufficient final score)\n",
    "\n",
    "- Otherwise, the function will then check whether the average of midterm scores (the first two values) is BELOW 60. If so, the function will return **EXACTLY** \"failed\". If not, the function will return **EXACTLY** \"passed\"\n",
    "\n",
    "as such:\n",
    "\n",
    "```R\n",
    "grading(grades = c(70, 70, 40))\n",
    "grading(grades = c(35, 50, 60))\n",
    "grading(grades = c(60, 65, 80))\n",
    "grading()\n",
    "\n",
    "[1] \"final\"\n",
    "[1] \"failed\"\n",
    "[1] \"passed\"\n",
    "[1] \"passed\"\n",
    "```"
   ]
  },
  {
   "cell_type": "markdown",
   "metadata": {},
   "source": [
    "**Solution 3:**"
   ]
  },
  {
   "cell_type": "code",
   "execution_count": null,
   "metadata": {},
   "outputs": [],
   "source": [
    "grading <- function(grades = c(60, 60, 60))\n",
    "{\n",
    "    if (mean(grades[3]) < 50)\n",
    "    {\n",
    "        return(\"final\")\n",
    "    }\n",
    "    else if (mean(grades[1:2]) < 60)\n",
    "    {\n",
    "        return(\"failed\")\n",
    "    }\n",
    "    else\n",
    "    {\n",
    "        return (\"passed\")\n",
    "    }\n",
    "}\n",
    "\n",
    "grading(grades = c(70, 70, 40))\n",
    "grading(grades = c(35, 50, 60))\n",
    "grading(grades = c(60, 65, 80))\n",
    "grading()"
   ]
  },
  {
   "cell_type": "code",
   "execution_count": null,
   "metadata": {},
   "outputs": [],
   "source": []
  }
 ],
 "metadata": {
  "kernelspec": {
   "display_name": "R",
   "language": "R",
   "name": "ir"
  },
  "language_info": {
   "codemirror_mode": "r",
   "file_extension": ".r",
   "mimetype": "text/x-r-source",
   "name": "R",
   "pygments_lexer": "r",
   "version": "3.5.3"
  },
  "toc": {
   "nav_menu": {},
   "number_sections": true,
   "sideBar": true,
   "skip_h1_title": false,
   "toc_cell": false,
   "toc_position": {},
   "toc_section_display": "block",
   "toc_window_display": false
  }
 },
 "nbformat": 4,
 "nbformat_minor": 2
}
