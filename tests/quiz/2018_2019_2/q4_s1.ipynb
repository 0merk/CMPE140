{
 "cells": [
  {
   "cell_type": "code",
   "execution_count": null,
   "metadata": {},
   "outputs": [],
   "source": [
    "options(jupyter.rich_display = F)"
   ]
  },
  {
   "cell_type": "markdown",
   "metadata": {},
   "source": [
    "**IMPORTANT NOTICE:**\n",
    "\n",
    "- **PLEASE MAKE SURE R THROWS NO ERROR WHEN YOUR R SCRIPT (BEFORE RENAMING TO A TXT FILE) IS SOURCED USING THE SOURCE BUTTON OR ALL LINES IN YOUR SCRIPT ARE EXECUTED**\n",
    "\n",
    "- **MAKE SURE AL LINES IN YOUR FILE THAT ARE NOT INTENDED TO EXECUTE AS R COMMANDS SHOULD BE COMMENTED OUT WITH \"#\"**\n",
    "\n",
    "- **YOU SHOULD NAME THE OBJECTS EXACTLY AS REQUIRED IN THE QUESTION. OTHERWISE, A CORRECT CODE WILL BE RENDERED AS INCORRECT. NOTE THAT R IS CASE SENSITIVE!**\n",
    "\n",
    "- **THE FUNCTIONS SHOULD \"RETURN\" REQUESTED VALUES, NOT \"PRINT\" OR \"CAT\"**\n",
    "\n",
    "- **IN THE FOLLOWING QUESTIONS, DO NOT MAKE USE OF GLOBAL VARIABLES, I.E. ALL OBJECTS CREATED IN THE GLOBAL ENVIRONMENT CAN ONLY BE PASSED AS VALUES TO ARGUMENTS OF FUNCTIONS. THE BODY OF THE FUNCTIONS SHOULD NOT REFER TO GLOBAL OBJECTS**"
   ]
  },
  {
   "cell_type": "markdown",
   "metadata": {},
   "source": [
    "# TRIM THE RIM"
   ]
  },
  {
   "cell_type": "markdown",
   "metadata": {},
   "source": [
    "Let's have a sample random matrix as such:\n",
    "\n",
    "```R\n",
    "set.seed(1)\n",
    "mat1 <- matrix(sample(1:100, 25, replace = T), nrow = 5)\n",
    "mat1\n",
    "\n",
    "     [,1] [,2] [,3] [,4] [,5]\n",
    "[1,] 27   90   21    50  94  \n",
    "[2,] 38   95   18    72  22  \n",
    "[3,] 58   67   69   100  66  \n",
    "[4,] 91   63   39    39  13  \n",
    "[5,] 21    7   77    78  27 \n",
    "```\n",
    "\n",
    "Please write a function **trimrow**, that takes a single argument named **mat**, a matrix object, and returns the matrix after trimming the first and last rows as such:\n",
    "\n",
    "```R\n",
    "trimrow(mat = mat1)\n",
    "\n",
    "     [,1] [,2] [,3] [,4] [,5]\n",
    "[1,] 38   95   18    72  22  \n",
    "[2,] 58   67   69   100  66  \n",
    "[3,] 91   63   39    39  13  \n",
    "```\n",
    "\n",
    "**Hint:** You may use c() and nrow() functions"
   ]
  },
  {
   "cell_type": "markdown",
   "metadata": {},
   "source": [
    "**Solution:**"
   ]
  },
  {
   "cell_type": "code",
   "execution_count": null,
   "metadata": {},
   "outputs": [],
   "source": [
    "set.seed(1)\n",
    "mat1 <- matrix(sample(1:100, 25, replace = T), nrow = 5)\n",
    "mat1\n",
    "\n",
    "trimrow <- function(mat)\n",
    "{\n",
    "    mat[-c(1, nrow(mat)),]\n",
    "}\n",
    "\n",
    "trimrow(mat = mat1)"
   ]
  },
  {
   "cell_type": "markdown",
   "metadata": {},
   "source": [
    "# GET RANGES"
   ]
  },
  {
   "cell_type": "markdown",
   "metadata": {},
   "source": [
    "Let's have a sample random matrix as such:\n",
    "\n",
    "```R\n",
    "set.seed(1)\n",
    "mat1 <- matrix(sample(1:100, 25, replace = T), nrow = 5)\n",
    "mat1\n",
    "\n",
    "     [,1] [,2] [,3] [,4] [,5]\n",
    "[1,] 27   90   21    50  94  \n",
    "[2,] 38   95   18    72  22  \n",
    "[3,] 58   67   69   100  66  \n",
    "[4,] 91   63   39    39  13  \n",
    "[5,] 21    7   77    78  27 \n",
    "```\n",
    "\n",
    "\n",
    "Please write a function named **ranges** that takes a single argument named **mat**, a matrix object, and returns the difference between the max and min values of each row as such:\n",
    "\n",
    "```R\n",
    "ranges(mat1)\n",
    "\n",
    "[1] 73 77 42 78 71\n",
    "```\n",
    "\n",
    "**Hint:** You may use apply() (once or twice), max() and min() functions"
   ]
  },
  {
   "cell_type": "markdown",
   "metadata": {},
   "source": [
    "**Solution:**"
   ]
  },
  {
   "cell_type": "code",
   "execution_count": null,
   "metadata": {},
   "outputs": [],
   "source": [
    "set.seed(1)\n",
    "mat1 <- matrix(sample(1:100, 25, replace = T), nrow = 5)\n",
    "mat1\n",
    "\n",
    "ranges <- function(mat)\n",
    "{\n",
    "    apply(mat, 1, max) - apply(mat, 1, min)\n",
    "}\n",
    "\n",
    "ranges(mat1)"
   ]
  },
  {
   "cell_type": "markdown",
   "metadata": {},
   "source": [
    "# PLATES"
   ]
  },
  {
   "cell_type": "markdown",
   "metadata": {},
   "source": [
    "Please click on the below link to download the distance2.RData object to your local computer\n",
    "\n",
    "[distance2.RData](../../file/distance2.RData)\n",
    "\n",
    "And load the data object to your R environment as such:\n",
    "\n",
    "```R\n",
    "load(\"~/file/distance2.RData\")\n",
    "```\n",
    "\n",
    "Check that you have the distance2 object now:\n",
    "\n",
    "```R\n",
    "distance2[c(\"istanbul\", \"ankara\", \"izmir\"), c(\"istanbul\", \"ankara\", \"izmir\")]\n",
    "\n",
    "         istanbul ankara izmir\n",
    "istanbul   0      349    327  \n",
    "ankara   349        0    520  \n",
    "izmir    327      520      0   \n",
    "```\n",
    "\n",
    "The numbers show the birdfly distances between the cities in the rows and columns (e.g the distance between İstanbul and Ankara is 349 km). The distance between a city and itself is 0 of course!\n",
    "\n",
    "Please write a function **plates** that takes two arguments:\n",
    "- **cities** is a vector of city names (each name inside quotes)\n",
    "- **dist** is a distance matrix and the default value is our distance2 object\n",
    "\n",
    "The function should return the plate codes of the cities as such:\n",
    "\n",
    "```R\n",
    "plates(cities = c(\"istanbul\", \"izmir\", \"ankara\"))\n",
    "\n",
    "istanbul    izmir   ankara \n",
    "      34       35        6 \n",
    "\n",
    "plates(c(\"adana\"), dist = distance2)\n",
    "\n",
    "adana \n",
    "    1 \n",
    "\n",
    "plates(c(\"edirne\", \"ardahan\")) \n",
    "\n",
    "edirne ardahan \n",
    "    22      75 \n",
    "```\n",
    "\n",
    "**Note that, the returned vector has the city names as attributes along with the plate code values. Your code should also return exactly the same for the given argument values**\n",
    "\n",
    "\n",
    "**Hints:**\n",
    "- You may use which() function and the fact that the distance of a city to itself is 0\n",
    "- You can initiate an empty vector object and then construct a for loop across the city names to accumulate the values in that vector object\n",
    "- distance2 is the global object, dist is the argument to the function. distance2 is passed to the function as the default value of dist argument\n",
    "- You can also use the apply() function alternatively, without a loop. However the looped version is easier for you to construct\n",
    "- All city names in row and column names are lower case and feature only ascii characters such as corum, sanliurfa, agri and gumushane."
   ]
  },
  {
   "cell_type": "markdown",
   "metadata": {},
   "source": [
    "**Solution:**"
   ]
  },
  {
   "cell_type": "code",
   "execution_count": null,
   "metadata": {},
   "outputs": [],
   "source": [
    "load(\"~/file/distance2.RData\")\n",
    "distance2[c(\"istanbul\", \"ankara\", \"izmir\"), c(\"istanbul\", \"ankara\", \"izmir\")]\n",
    "\n",
    "plates <- function(cities, dist = distance2)\n",
    "{\n",
    "    plate <- NULL\n",
    "    for (i in cities)\n",
    "    {\n",
    "        plate <- c(plate, which(dist[i,] == 0))\n",
    "    }\n",
    "    \n",
    "    return(plate)\n",
    "}\n",
    "\n",
    "plates(cities = c(\"istanbul\", \"izmir\", \"ankara\"))\n",
    "plates(c(\"adana\"), dist = distance2)\n",
    "plates(c(\"edirne\", \"ardahan\"))\n",
    "plates(c('bursa', 'izmir'))"
   ]
  },
  {
   "cell_type": "code",
   "execution_count": null,
   "metadata": {},
   "outputs": [],
   "source": [
    "apply(distance2[c(\"istanbul\", \"izmir\", \"ankara\"),], 1, function(x) which(x == 0))"
   ]
  }
 ],
 "metadata": {
  "kernelspec": {
   "display_name": "R",
   "language": "R",
   "name": "ir"
  },
  "language_info": {
   "codemirror_mode": "r",
   "file_extension": ".r",
   "mimetype": "text/x-r-source",
   "name": "R",
   "pygments_lexer": "r",
   "version": "3.5.3"
  },
  "toc": {
   "base_numbering": 1,
   "nav_menu": {},
   "number_sections": false,
   "sideBar": false,
   "skip_h1_title": false,
   "title_cell": "Table of Contents",
   "title_sidebar": "Contents",
   "toc_cell": false,
   "toc_position": {},
   "toc_section_display": false,
   "toc_window_display": false
  }
 },
 "nbformat": 4,
 "nbformat_minor": 2
}
