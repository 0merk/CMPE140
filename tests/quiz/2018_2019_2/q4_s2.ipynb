{
 "cells": [
  {
   "cell_type": "code",
   "execution_count": null,
   "metadata": {},
   "outputs": [],
   "source": [
    "options(jupyter.rich_display = F)"
   ]
  },
  {
   "cell_type": "markdown",
   "metadata": {},
   "source": [
    "**IMPORTANT NOTICE:**\n",
    "\n",
    "- **PLEASE MAKE SURE R THROWS NO ERROR WHEN YOUR R SCRIPT (BEFORE RENAMING TO A TXT FILE) IS SOURCED USING THE SOURCE BUTTON OR ALL LINES IN YOUR SCRIPT ARE EXECUTED**\n",
    "\n",
    "- **MAKE SURE AL LINES IN YOUR FILE THAT ARE NOT INTENDED TO EXECUTE AS R COMMANDS SHOULD BE COMMENTED OUT WITH \"#\"**\n",
    "\n",
    "- **YOU SHOULD NAME THE OBJECTS EXACTLY AS REQUIRED IN THE QUESTION. OTHERWISE, A CORRECT CODE WILL BE RENDERED AS INCORRECT. NOTE THAT R IS CASE SENSITIVE!**\n",
    "\n",
    "- **THE FUNCTIONS SHOULD \"RETURN\" REQUESTED VALUES, NOT \"PRINT\" OR \"CAT\"**\n",
    "\n",
    "- **IN THE FOLLOWING QUESTIONS, DO NOT MAKE USE OF GLOBAL VARIABLES, I.E. ALL OBJECTS CREATED IN THE GLOBAL ENVIRONMENT CAN ONLY BE PASSED AS VALUES TO ARGUMENTS OF FUNCTIONS. THE BODY OF THE FUNCTIONS SHOULD NOT REFER TO GLOBAL OBJECTS**"
   ]
  },
  {
   "cell_type": "markdown",
   "metadata": {},
   "source": [
    "# TRIM THE RIM"
   ]
  },
  {
   "cell_type": "markdown",
   "metadata": {},
   "source": [
    "Let's have a sample random matrix as such:\n",
    "\n",
    "```R\n",
    "set.seed(1)\n",
    "mat1 <- matrix(sample(1:100, 25, replace = T), nrow = 5)\n",
    "mat1\n",
    "\n",
    "     [,1] [,2] [,3] [,4] [,5]\n",
    "[1,] 27   90   21    50  94  \n",
    "[2,] 38   95   18    72  22  \n",
    "[3,] 58   67   69   100  66  \n",
    "[4,] 91   63   39    39  13  \n",
    "[5,] 21    7   77    78  27 \n",
    "```\n",
    "\n",
    "Please write a function names **trimcol**, that takes a single argument named **mat**, a matrix object, and returns the matrix after trimming the first and last cols as such:\n",
    "\n",
    "```R\n",
    "trimcol(mat = mat1)\n",
    "\n",
    "     [,1] [,2] [,3]\n",
    "[1,] 90   21    50 \n",
    "[2,] 95   18    72 \n",
    "[3,] 67   69   100 \n",
    "[4,] 63   39    39 \n",
    "[5,]  7   77    78 \n",
    "```\n",
    "\n",
    "**Hint:** You may use c() and ncol() functions"
   ]
  },
  {
   "cell_type": "code",
   "execution_count": null,
   "metadata": {},
   "outputs": [],
   "source": [
    "set.seed(2)\n",
    "mat1 <- matrix(sample(1:100, 9, replace = T), nrow = 3)\n",
    "mat1\n",
    "\n",
    "trimcol <- function(mat)\n",
    "{\n",
    "    mat[,-c(1, ncol(mat))]\n",
    "}\n",
    "\n",
    "trimcol(mat = mat1)"
   ]
  },
  {
   "cell_type": "code",
   "execution_count": null,
   "metadata": {},
   "outputs": [],
   "source": [
    "set.seed(1)\n",
    "mat1 <- matrix(sample(1:100, 25, replace = T), nrow = 5)\n",
    "mat1\n",
    "\n",
    "trimcol <- function(mat)\n",
    "{\n",
    "    mat[,-c(1, ncol(mat))]\n",
    "}\n",
    "\n",
    "trimcol(mat = mat1)"
   ]
  },
  {
   "cell_type": "markdown",
   "metadata": {},
   "source": [
    "# LARGER THAN MEAN"
   ]
  },
  {
   "cell_type": "markdown",
   "metadata": {},
   "source": [
    "Let's have a sample random matrix as such:\n",
    "\n",
    "```R\n",
    "set.seed(1)\n",
    "mat1 <- matrix(sample(1:100, 25, replace = T), nrow = 5)\n",
    "mat1\n",
    "\n",
    "     [,1] [,2] [,3] [,4] [,5]\n",
    "[1,] 27   90   21    50  94  \n",
    "[2,] 38   95   18    72  22  \n",
    "[3,] 58   67   69   100  66  \n",
    "[4,] 91   63   39    39  13  \n",
    "[5,] 21    7   77    78  27 \n",
    "```\n",
    "\n",
    "\n",
    "Please write a function named **larger** that takes a single argument named **mat**, a matrix object, and returns the count of values larger than the mean of the row for each row as such:\n",
    "\n",
    "```R\n",
    "larger(mat1)\n",
    "\n",
    "[1] 2 2 1 2 2\n",
    "```\n",
    "\n",
    "**Hint:** You may use apply(), sum() and mean() functions"
   ]
  },
  {
   "cell_type": "code",
   "execution_count": null,
   "metadata": {},
   "outputs": [],
   "source": [
    "set.seed(2)\n",
    "mat1 <- matrix(sample(1:100, 25, replace = T), nrow = 5)\n",
    "mat1\n",
    "\n",
    "larger <- function(mat)\n",
    "{\n",
    "    apply(mat, 1, function(x) sum(x > mean(x)))\n",
    "}\n",
    "          \n",
    "larger(mat1)"
   ]
  },
  {
   "cell_type": "code",
   "execution_count": null,
   "metadata": {},
   "outputs": [],
   "source": [
    "set.seed(1)\n",
    "mat1 <- matrix(sample(1:100, 25, replace = T), nrow = 5)\n",
    "mat1\n",
    "\n",
    "larger <- function(mat)\n",
    "{\n",
    "    apply(mat, 1, function(x) sum(x > mean(x)))\n",
    "}\n",
    "          \n",
    "larger(mat1)"
   ]
  },
  {
   "cell_type": "markdown",
   "metadata": {},
   "source": [
    "# TAKE ME HOME"
   ]
  },
  {
   "cell_type": "markdown",
   "metadata": {},
   "source": [
    "Please click on the below link to download the distance2.RData object to your local computer\n",
    "\n",
    "[distance2.RData](../../file/distance2.RData)\n",
    "\n",
    "And load the data object to your R environment as such:\n",
    "\n",
    "```R\n",
    "load(\"~/file/distance2.RData\")\n",
    "```\n",
    "\n",
    "Check that you have the distance2 object now:\n",
    "\n",
    "```R\n",
    "distance2[c(\"istanbul\", \"ankara\", \"izmir\"), c(\"istanbul\", \"ankara\", \"izmir\")]\n",
    "\n",
    "         istanbul ankara izmir\n",
    "istanbul   0      349    327  \n",
    "ankara   349        0    520  \n",
    "izmir    327      520      0   \n",
    "```\n",
    "\n",
    "The numbers show the birdfly distances between the cities in the rows and columns (e.g the distance between İstanbul and Ankara is 349 km). The distance between a city and itself is 0 of course!\n",
    "\n",
    "Please write a function named **take** that takes two arguments:\n",
    "- **path** is a vector of city names (each name inside quotes)\n",
    "- **dist** is a distance matrix and the default value is our distance2 object\n",
    "\n",
    "The function should return the total distance of the path from the first city to the last city as such:\n",
    "\n",
    "```R\n",
    "take(path = c(\"istanbul\", \"izmir\", \"ankara\"))\n",
    "\n",
    "[1] 847\n",
    "\n",
    "\n",
    "take(c(\"izmir\", \"manisa\"), dist = distance2)\n",
    "\n",
    "[1] 33\n",
    "\n",
    "\n",
    "take(c(\"bursa\", \"eskisehir\", \"afyonkarahisar\"))\n",
    "\n",
    "[1] 245 \n",
    "```\n",
    "\n",
    "**Hints:**\n",
    "- You can initiate an object to accumulate the sum of distances\n",
    "- You can have a for loop to iterate through the **INDICES** of city names and subset the matrix with those city names. If you have n city names in path, the for loop should go up to (n - 1). Why? If we have three cities, we should sum two distances (the distance between the 1st and 2nd cities and the distance between the 2nd and 3rd cities)\n",
    "- distance2 is the global object, dist is the argument to the function. distance2 is passed to the function as the default value of dist argument\n",
    "- All city names in row and column names are lower case and feature only ascii characters such as corum, sanliurfa, agri and gumushane."
   ]
  },
  {
   "cell_type": "markdown",
   "metadata": {},
   "source": [
    "**Solution:**"
   ]
  },
  {
   "cell_type": "code",
   "execution_count": null,
   "metadata": {},
   "outputs": [],
   "source": [
    "load(\"~/file/distance2.RData\")\n",
    "distance2[c(\"istanbul\", \"ankara\", \"izmir\"), c(\"istanbul\", \"ankara\", \"izmir\")]\n",
    "\n",
    "take <- function(path, dist = distance2)\n",
    "{\n",
    "    km <- 0\n",
    "    for (i in 1:(length(path) - 1))\n",
    "    {\n",
    "        km <- km + dist[path[i],path[i + 1]]\n",
    "    }\n",
    "    \n",
    "    return(km)\n",
    "}\n",
    "\n",
    "take(path = c(\"istanbul\", \"izmir\", \"ankara\"))\n",
    "take(c(\"izmir\", \"manisa\"), dist = distance2)\n",
    "take(c(\"bursa\", \"eskisehir\", \"afyonkarahisar\"))"
   ]
  },
  {
   "cell_type": "code",
   "execution_count": null,
   "metadata": {},
   "outputs": [],
   "source": [
    "path <- c(\"istanbul\", \"izmir\", \"ankara\")\n",
    "sum(mapply(\"[\", list(distance2), path[-length(path)], path[-1]))"
   ]
  }
 ],
 "metadata": {
  "kernelspec": {
   "display_name": "R",
   "language": "R",
   "name": "ir"
  },
  "language_info": {
   "codemirror_mode": "r",
   "file_extension": ".r",
   "mimetype": "text/x-r-source",
   "name": "R",
   "pygments_lexer": "r",
   "version": "3.5.3"
  },
  "toc": {
   "nav_menu": {},
   "number_sections": false,
   "sideBar": false,
   "skip_h1_title": false,
   "toc_cell": false,
   "toc_position": {},
   "toc_section_display": false,
   "toc_window_display": false
  }
 },
 "nbformat": 4,
 "nbformat_minor": 2
}
