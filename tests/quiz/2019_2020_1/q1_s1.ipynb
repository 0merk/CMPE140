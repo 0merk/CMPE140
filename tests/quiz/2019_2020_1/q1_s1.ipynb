{
 "cells": [
  {
   "cell_type": "code",
   "execution_count": null,
   "metadata": {},
   "outputs": [],
   "source": [
    "options(jupyter.rich_display = F)"
   ]
  },
  {
   "cell_type": "markdown",
   "metadata": {},
   "source": [
    "**IMPORTANT NOTICE:**\n",
    "\n",
    "- **PLEASE MAKE SURE R THROWS NO ERROR WHEN YOUR R SCRIPT (BEFORE RENAMING TO A TXT FILE) IS SOURCED USING THE SOURCE BUTTON OR ALL LINES IN YOUR SCRIPT ARE EXECUTED**\n",
    "\n",
    "- **MAKE SURE AL LINES IN YOUR FILE THAT ARE NOT INTENDED TO EXECUTE AS R COMMANDS SHOULD BE COMMENTED OUT WITH \"#\"**\n",
    "\n",
    "- **YOU SHOULD NAME THE OBJECTS EXACTLY AS REQUIRED IN THE QUESTION. OTHERWISE, A CORRECT CODE WILL BE RENDERED AS INCORRECT. NOTE THAT R IS CASE SENSITIVE!**\n",
    "\n",
    "- **CHECK THAT THE REQUIRED OBJECT'S VALUE IS EXACTLY THE SAME AS THE OUTPUT WE PROVIDE IN THE QUESTION** \n",
    "\n",
    "- **DON'T TRY TO CHEAT BY COPYING THE EXACT NUMBERS IN THE REQUIRED OUTPUT. WE WILL TRY OTHER INPUTS FOR THE EVALUATION, SO THIS APPROACH WON'T WORK! AND THAT MAY INDUCE CHEATING PROCEDURE. TRY TO WRITE THE REQUIRED CODE**"
   ]
  },
  {
   "cell_type": "markdown",
   "metadata": {},
   "source": [
    "# ONE FOR ALL, ALL FOR ONE"
   ]
  },
  {
   "cell_type": "markdown",
   "metadata": {},
   "source": [
    "## QUESTION"
   ]
  },
  {
   "cell_type": "markdown",
   "metadata": {},
   "source": [
    "Create a vector named **mus** that is comprised of three elements:\n",
    "\n",
    "- Name of first element is **\"atos\"** and value is **25**\n",
    "- Name of second element is **\"portos\"** and value is **28**\n",
    "- Name of third element is **\"aramis\"** and value is **32**\n",
    "\n",
    "as such:\n",
    "\n",
    "```r\n",
    "mus\n",
    "\n",
    "atos portos aramis \n",
    "    25     28     32 \n",
    "\n",
    "```\n",
    "\n",
    "**Hint:**\n",
    "- Use **c()** function and **assignment** operator\n",
    "- Check that the mus vector prints the same as above"
   ]
  },
  {
   "cell_type": "markdown",
   "metadata": {},
   "source": [
    "## ANSWER"
   ]
  },
  {
   "cell_type": "code",
   "execution_count": null,
   "metadata": {},
   "outputs": [],
   "source": [
    "mus <- c(atos = 25, portos = 28, aramis = 32)\n",
    "mus"
   ]
  },
  {
   "cell_type": "markdown",
   "metadata": {},
   "source": [
    "For the following three questions, please copy the below code to your Rstudio session to create the **hundred** vector exactly as such:\n",
    "\n",
    "```r\n",
    "RNGversion(\"3.3.1\")\n",
    "set.seed(20191003)\n",
    "hundred <- round(rnorm(10, 9, 0.5), 2)\n",
    "names(hundred) <- letters[sample(10)]\n",
    "hundred\n",
    "\n",
    "    h     j     c     f     i     a     d     e     b     g \n",
    " 9.77  8.78  8.79  8.80  9.27  9.31  9.67 10.02  8.74  8.81 \n",
    "```\n",
    "\n",
    "These are hypothetical unordered performances of 10 atheletes (named a-j) in men's 100 meters sprint race"
   ]
  },
  {
   "cell_type": "code",
   "execution_count": null,
   "metadata": {},
   "outputs": [],
   "source": [
    "RNGversion(\"3.3.1\")\n",
    "set.seed(20191003)\n",
    "hundred <- round(rnorm(10, 9, 0.5), 2)\n",
    "names(hundred) <- letters[sample(10)]\n",
    "hundred"
   ]
  },
  {
   "cell_type": "markdown",
   "metadata": {},
   "source": [
    "# INDEXING A VECTOR"
   ]
  },
  {
   "cell_type": "markdown",
   "metadata": {},
   "source": [
    "## QUESTION"
   ]
  },
  {
   "cell_type": "markdown",
   "metadata": {},
   "source": [
    "Subset the first and second items in the **hundred** vector and assign into **firsttwo** object as such:\n",
    "\n",
    "```r\n",
    "firsttwo\n",
    "\n",
    "   h    j \n",
    "9.77 8.78\n",
    "```"
   ]
  },
  {
   "cell_type": "markdown",
   "metadata": {},
   "source": [
    "## ANSWER"
   ]
  },
  {
   "cell_type": "code",
   "execution_count": null,
   "metadata": {},
   "outputs": [],
   "source": [
    "firsttwo <- hundred[1:2]\n",
    "firsttwo"
   ]
  },
  {
   "cell_type": "markdown",
   "metadata": {},
   "source": [
    "# FILTERING A VECTOR BY A CONDITION"
   ]
  },
  {
   "cell_type": "markdown",
   "metadata": {},
   "source": [
    "## QUESTION"
   ]
  },
  {
   "cell_type": "markdown",
   "metadata": {},
   "source": [
    "Subset the **hundred** vector for the values that are **greater than** 9 and assign into **best** object as such:\n",
    "\n",
    "```r\n",
    "best\n",
    "\n",
    "   h     i     a     d     e \n",
    " 9.77  9.27  9.31  9.67 10.02 \n",
    "```"
   ]
  },
  {
   "cell_type": "markdown",
   "metadata": {},
   "source": [
    "## ANSWER"
   ]
  },
  {
   "cell_type": "code",
   "execution_count": null,
   "metadata": {},
   "outputs": [],
   "source": [
    "best <- hundred[hundred > 9]\n",
    "best"
   ]
  },
  {
   "cell_type": "markdown",
   "metadata": {},
   "source": [
    "# SUBSET BY NAMES"
   ]
  },
  {
   "cell_type": "markdown",
   "metadata": {},
   "source": [
    "## QUESTION"
   ]
  },
  {
   "cell_type": "markdown",
   "metadata": {},
   "source": [
    "Subset the **hundred** vector by selecting the items named as a, b and c and assign into **abc** object as such:\n",
    "\n",
    "```r\n",
    "abc\n",
    "\n",
    "   a    b    c \n",
    "9.31 8.74 8.79 \n",
    "```"
   ]
  },
  {
   "cell_type": "code",
   "execution_count": null,
   "metadata": {},
   "outputs": [],
   "source": [
    "abc <- hundred[c(\"a\", \"b\", \"c\")]\n",
    "abc"
   ]
  },
  {
   "cell_type": "code",
   "execution_count": null,
   "metadata": {},
   "outputs": [],
   "source": []
  }
 ],
 "metadata": {
  "kernelspec": {
   "display_name": "R",
   "language": "R",
   "name": "ir"
  },
  "language_info": {
   "codemirror_mode": "r",
   "file_extension": ".r",
   "mimetype": "text/x-r-source",
   "name": "R",
   "pygments_lexer": "r",
   "version": "3.5.2"
  },
  "toc": {
   "nav_menu": {},
   "number_sections": true,
   "sideBar": false,
   "skip_h1_title": false,
   "title_cell": "Table of Contents",
   "title_sidebar": "Contents",
   "toc_cell": false,
   "toc_position": {},
   "toc_section_display": true,
   "toc_window_display": false
  },
  "varInspector": {
   "cols": {
    "lenName": 16,
    "lenType": 16,
    "lenVar": 40
   },
   "kernels_config": {
    "python": {
     "delete_cmd_postfix": "",
     "delete_cmd_prefix": "del ",
     "library": "var_list.py",
     "varRefreshCmd": "print(var_dic_list())"
    },
    "r": {
     "delete_cmd_postfix": ") ",
     "delete_cmd_prefix": "rm(",
     "library": "var_list.r",
     "varRefreshCmd": "cat(var_dic_list()) "
    }
   },
   "types_to_exclude": [
    "module",
    "function",
    "builtin_function_or_method",
    "instance",
    "_Feature"
   ],
   "window_display": false
  }
 },
 "nbformat": 4,
 "nbformat_minor": 2
}
