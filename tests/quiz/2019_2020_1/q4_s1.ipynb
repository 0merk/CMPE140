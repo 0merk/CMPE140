{
 "cells": [
  {
   "cell_type": "code",
   "execution_count": null,
   "metadata": {},
   "outputs": [],
   "source": [
    "options(jupyter.rich_display = F)"
   ]
  },
  {
   "cell_type": "markdown",
   "metadata": {},
   "source": [
    "# ORDERING A MATRIX"
   ]
  },
  {
   "cell_type": "markdown",
   "metadata": {},
   "source": [
    "Suppose we have a random matrix **mat1** as such:\n",
    "\n",
    "```R\n",
    "RNGversion(\"3.3.1\")\n",
    "set.seed(10)\n",
    "mat1 <- matrix(sample(20), nrow = 4)\n",
    "rownames(mat1) <- letters[1:4]\n",
    "colnames(mat1) <- letters[5:9]\n",
    "```\n",
    "\n",
    "```R\n",
    "> mat1\n",
    "\n",
    "  e  f  g  h  i \n",
    "a 11  2 18  1 17\n",
    "b  6  4  5 20 13\n",
    "c  8 15  7  3 10\n",
    "d 12 14 19  9 16\n",
    "```\n",
    "\n",
    "Please write a function **matorder**, that takes two arguments:\n",
    "- **c1**: a single numeric valued vector for the column index\n",
    "- **mat**: a matrix object\n",
    "\n",
    "The function should return the matrix after ordering the rows according to the values in the **c1**'th column of **mat** as such:\n",
    "\n",
    "```R\n",
    "> matorder(c1 = 1, mat = mat1)\n",
    "\n",
    "  e  f  g  h  i \n",
    "b  6  4  5 20 13\n",
    "c  8 15  7  3 10\n",
    "a 11  2 18  1 17\n",
    "d 12 14 19  9 16\n",
    "\n",
    "> matorder(c1 = 2, mat = mat1)\n",
    "\n",
    "  e  f  g  h  i \n",
    "a 11  2 18  1 17\n",
    "b  6  4  5 20 13\n",
    "d 12 14 19  9 16\n",
    "c  8 15  7  3 10\n",
    "\n",
    "```\n",
    "\n",
    "As you see, in the first example, the rows are ordered according to the first column (so that the first column is sorted) with b,c,a,d row order\n",
    "\n",
    "In the second example, the rows are ordered according to the second column (so that the second column is sorted) with a,b,d,c row order\n",
    "\n",
    "**Hint:** \n",
    "- You may use **order** function\n",
    "- Inside the function, correct code is a single-liner of matrix subsetting "
   ]
  },
  {
   "cell_type": "code",
   "execution_count": null,
   "metadata": {},
   "outputs": [],
   "source": [
    "RNGversion(\"3.3.1\")\n",
    "set.seed(10)\n",
    "mat1 <- matrix(sample(20), nrow = 4)\n",
    "rownames(mat1) <- letters[1:4]\n",
    "colnames(mat1) <- letters[5:9]\n",
    "mat1\n",
    "\n",
    "matorder <- function(c1, mat)\n",
    "{\n",
    "    mat[order(mat[,c1]),]\n",
    "}\n",
    "\n",
    "matorder(c1 = 1, mat = mat1)\n",
    "matorder(c1 = 2, mat = mat1)"
   ]
  },
  {
   "cell_type": "markdown",
   "metadata": {},
   "source": [
    "# MAXTIMES - MATRIX VERSION"
   ]
  },
  {
   "cell_type": "markdown",
   "metadata": {},
   "source": [
    "Suppose we have a random matrix mat2 as such:\n",
    "\n",
    "```R\n",
    "RNGversion(\"3.3.1\")\n",
    "set.seed(20)\n",
    "mat2 <- matrix(sample(4, 20, replace = T), nrow = 4)\n",
    "```\n",
    "\n",
    "```R\n",
    "> mat2\n",
    "\n",
    "     [,1] [,2] [,3] [,4] [,5]\n",
    "[1,] 4    4    2    1    2   \n",
    "[2,] 4    4    2    3    1   \n",
    "[3,] 2    1    3    1    2   \n",
    "[4,] 3    1    4    2    4      \n",
    "```\n",
    "\n",
    "Please write a function **maxtimes** that takes a single argument **mat**, calculates and returns the number of times the maximum item of each row is repeated as such:\n",
    "\n",
    "```R\n",
    "> maxtimes(mat = mat2)\n",
    "\n",
    "[1] 2 2 1 2\n",
    "```\n",
    "\n",
    "As you see,\n",
    "- The maximum item in row 1 is 4 and is repeated 2 times,\n",
    "- The maximum item in row 3 is 3 and appears a single time ...\n",
    "\n",
    "**Hint:**\n",
    "- The code should work correctly with matrices of any size\n",
    "- Use **apply** function on the row margin and define a simple function using the function(x) ... notation inside **apply**\n",
    "- Inside the function, correct code is just a one-liner"
   ]
  },
  {
   "cell_type": "code",
   "execution_count": null,
   "metadata": {},
   "outputs": [],
   "source": [
    "RNGversion(\"3.3.1\")\n",
    "set.seed(20)\n",
    "mat2 <- matrix(sample(4, 20, replace = T), nrow = 4)\n",
    "mat2\n",
    "\n",
    "maxtimes <- function(mat)\n",
    "{\n",
    "    apply(mat, 1, function(x) sum(x == max(x)))\n",
    "}\n",
    "\n",
    "maxtimes(mat = mat2)"
   ]
  },
  {
   "cell_type": "markdown",
   "metadata": {},
   "source": [
    "# CLOSEST NEIGHBOUR"
   ]
  },
  {
   "cell_type": "markdown",
   "metadata": {},
   "source": [
    "We have an 81x81 matrix of bird fly distances in km's between 81 province centers in Turkey.\n",
    "\n",
    "To retrieve this matrix please follow the link below to download and save the file distance2.RData to the default location:\n",
    "\n",
    "[distance2.RData](~/file/distance2.RData)"
   ]
  },
  {
   "cell_type": "markdown",
   "metadata": {},
   "source": [
    "After you download the file to your local computer, load the data and change the main diagonal to `Inf` as such:\n",
    "\n",
    "```R\n",
    "load(\"~/file/distance2.RData\")\n",
    "diag(distance2) <- Inf\n",
    "```\n",
    "\n",
    "`Inf` is used for an arbitrarily large value when we are searching for a minimum.\n",
    "\n",
    "And check that the object exists:\n",
    "```R\n",
    "> distance2\n",
    "\n",
    "               adana adiyaman afyonkarahisar agri amasya\n",
    "adana          Inf   274       464            738 410   \n",
    "adiyaman       274   Inf       684            468 384   \n",
    "afyonkarahisar 464   684       Inf           1082 500   \n",
    "agri           738   468      1082            Inf 621   \n",
    "amasya         410   384       500            621 Inf   \n",
    "```\n",
    "\n",
    "Please write a function **closest** that takes two arguments:\n",
    "- **cities** : a vector of city names or city indices (e.g. index of istanbul is 34)\n",
    "- **dist** : a distance matrix\n",
    "\n",
    "The function:\n",
    "- should get the index of the closest neighbour from the **dist** matrix for each city in the **cities** vector,\n",
    "- and return a matrix of two columns: first column is the original cities vector, second column holds the indices of the closest neighbours. The column names will be **cities** and **neighs** as such:\n",
    "\n",
    "```R\n",
    "> closest(cities = c(\"istanbul\", \"izmir\"), dist = distance2)\n",
    "\n",
    "       cities   neighs\n",
    "yalova istanbul 77    \n",
    "manisa izmir    45    \n",
    "\n",
    "> closest(cities = c(1, 6), dist = distance2)\n",
    "\n",
    "          cities neighs\n",
    "mersin    1      33    \n",
    "kirikkale 6      71    \n",
    "\n",
    "```\n",
    "\n",
    "Note that the names of the closest neighbours are retained in the correct code  \n",
    "\n",
    "**Hints:**\n",
    "- Initiate an accumulator vector **neighs** before a for loop\n",
    "- Loop through **cities**\n",
    "- You may use **which.min** and **cbind** functions"
   ]
  },
  {
   "cell_type": "code",
   "execution_count": null,
   "metadata": {},
   "outputs": [],
   "source": [
    "load(\"~/file/distance2.RData\")\n",
    "diag(distance2) <- Inf\n",
    "distance2[1:5, 1:5]\n",
    "\n",
    "closest <- function(cities, dist)\n",
    "{\n",
    "    neighs <- c()\n",
    "    for (i in cities)\n",
    "    {\n",
    "        neigh <- which.min(dist[i,])\n",
    "        neighs <- c(neighs, neigh)\n",
    "        \n",
    "    }\n",
    "    \n",
    "    return(cbind(cities, neighs))\n",
    "}\n",
    "\n",
    "closest(cities = c(\"istanbul\", \"izmir\"), dist = distance2)\n",
    "closest(cities = c(1, 6), dist = distance2)"
   ]
  },
  {
   "cell_type": "code",
   "execution_count": null,
   "metadata": {},
   "outputs": [],
   "source": []
  }
 ],
 "metadata": {
  "kernelspec": {
   "display_name": "R",
   "language": "R",
   "name": "ir"
  },
  "language_info": {
   "codemirror_mode": "r",
   "file_extension": ".r",
   "mimetype": "text/x-r-source",
   "name": "R",
   "pygments_lexer": "r",
   "version": "3.6.1"
  },
  "toc": {
   "base_numbering": 1,
   "nav_menu": {},
   "number_sections": true,
   "sideBar": true,
   "skip_h1_title": false,
   "title_cell": "Table of Contents",
   "title_sidebar": "Contents",
   "toc_cell": false,
   "toc_position": {
    "height": "calc(100% - 180px)",
    "left": "10px",
    "top": "150px",
    "width": "304.8px"
   },
   "toc_section_display": "block",
   "toc_window_display": false
  }
 },
 "nbformat": 4,
 "nbformat_minor": 2
}
