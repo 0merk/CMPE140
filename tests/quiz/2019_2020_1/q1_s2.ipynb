{
 "cells": [
  {
   "cell_type": "code",
   "execution_count": null,
   "metadata": {},
   "outputs": [],
   "source": [
    "options(jupyter.rich_display = F)"
   ]
  },
  {
   "cell_type": "markdown",
   "metadata": {},
   "source": [
    "**IMPORTANT NOTICE:**\n",
    "\n",
    "- **PLEASE MAKE SURE R THROWS NO ERROR WHEN YOUR R SCRIPT (BEFORE RENAMING TO A TXT FILE) IS SOURCED USING THE SOURCE BUTTON OR ALL LINES IN YOUR SCRIPT ARE EXECUTED**\n",
    "\n",
    "- **MAKE SURE AL LINES IN YOUR FILE THAT ARE NOT INTENDED TO EXECUTE AS R COMMANDS SHOULD BE COMMENTED OUT WITH \"#\"**\n",
    "\n",
    "- **YOU SHOULD NAME THE OBJECTS EXACTLY AS REQUIRED IN THE QUESTION. OTHERWISE, A CORRECT CODE WILL BE RENDERED AS INCORRECT. NOTE THAT R IS CASE SENSITIVE!**\n",
    "\n",
    "- **CHECK THAT THE REQUIRED OBJECT'S VALUE IS EXACTLY THE SAME AS THE OUTPUT WE PROVIDE IN THE QUESTION** \n",
    "\n",
    "- **DON'T TRY TO CHEAT BY COPYING THE EXACT NUMBERS IN THE REQUIRED OUTPUT. WE WILL TRY OTHER INPUTS FOR THE EVALUATION, SO THIS APPROACH WON'T WORK! AND THAT MAY INDUCE CHEATING PROCEDURE. TRY TO WRITE THE REQUIRED CODE**"
   ]
  },
  {
   "cell_type": "markdown",
   "metadata": {},
   "source": [
    "# TRIO LEGGENDARIO"
   ]
  },
  {
   "cell_type": "markdown",
   "metadata": {},
   "source": [
    "## QUESTION"
   ]
  },
  {
   "cell_type": "markdown",
   "metadata": {},
   "source": [
    "Create a vector named **maf** that is comprised of three elements:\n",
    "\n",
    "- Name of first element is **\"metin\"** and value is **41**\n",
    "- Name of second element is **\"ali\"** and value is **34**\n",
    "- Name of third element is **\"feyyaz\"** and value is **34**\n",
    "\n",
    "as such:\n",
    "\n",
    "```r\n",
    "maf\n",
    "\n",
    "metin    ali feyyaz \n",
    "    41     34     34 \n",
    "```\n",
    "\n",
    "**Hint:**\n",
    "- Use **c()** function and **assignment** operator\n",
    "- Check that the maf vector prints the same as above"
   ]
  },
  {
   "cell_type": "markdown",
   "metadata": {},
   "source": [
    "## ANSWER"
   ]
  },
  {
   "cell_type": "code",
   "execution_count": null,
   "metadata": {},
   "outputs": [],
   "source": [
    "maf <- c(metin = 41, ali = 34, feyyaz = 34)\n",
    "maf"
   ]
  },
  {
   "cell_type": "markdown",
   "metadata": {},
   "source": [
    "For the following three questions, please copy the below code to your Rstudio session to create the **hundred** vector exactly as such:\n",
    "\n",
    "```r\n",
    "RNGversion(\"3.3.1\")\n",
    "set.seed(20191003)\n",
    "hundred <- round(rnorm(10, 9, 0.5), 2)\n",
    "names(hundred) <- letters[sample(10)]\n",
    "hundred\n",
    "\n",
    "    h     j     c     f     i     a     d     e     b     g \n",
    " 9.77  8.78  8.79  8.80  9.27  9.31  9.67 10.02  8.74  8.81 \n",
    "```\n",
    "\n",
    "These are hypothetical unordered performances of 10 atheletes (named a-j) in men's 100 meters sprint race"
   ]
  },
  {
   "cell_type": "code",
   "execution_count": null,
   "metadata": {},
   "outputs": [],
   "source": [
    "RNGversion(\"3.3.1\")\n",
    "set.seed(20191003)\n",
    "hundred <- round(rnorm(10, 9, 0.5), 2)\n",
    "names(hundred) <- letters[sample(10)]\n",
    "hundred"
   ]
  },
  {
   "cell_type": "markdown",
   "metadata": {},
   "source": [
    "# INDEXING A VECTOR"
   ]
  },
  {
   "cell_type": "markdown",
   "metadata": {},
   "source": [
    "## QUESTION"
   ]
  },
  {
   "cell_type": "markdown",
   "metadata": {},
   "source": [
    "Subset the second and third items in the **hundred** vector and assign into **twothree** object as such:\n",
    "\n",
    "```r\n",
    "twothree\n",
    "\n",
    "   j    c \n",
    "8.78 8.79 \n",
    "```"
   ]
  },
  {
   "cell_type": "markdown",
   "metadata": {},
   "source": [
    "## ANSWER"
   ]
  },
  {
   "cell_type": "code",
   "execution_count": null,
   "metadata": {},
   "outputs": [],
   "source": [
    "twothree <- hundred[2:3]\n",
    "twothree"
   ]
  },
  {
   "cell_type": "markdown",
   "metadata": {},
   "source": [
    "# FILTERING A VECTOR BY A CONDITION"
   ]
  },
  {
   "cell_type": "markdown",
   "metadata": {},
   "source": [
    "## QUESTION"
   ]
  },
  {
   "cell_type": "markdown",
   "metadata": {},
   "source": [
    "Subset the **hundred** vector for the values that are **less than** 9 and assign into **worst** object as such:\n",
    "\n",
    "```r\n",
    "worst\n",
    "\n",
    "   j    c    f    b    g \n",
    "8.78 8.79 8.80 8.74 8.81 \n",
    "```"
   ]
  },
  {
   "cell_type": "markdown",
   "metadata": {},
   "source": [
    "## ANSWER"
   ]
  },
  {
   "cell_type": "code",
   "execution_count": null,
   "metadata": {},
   "outputs": [],
   "source": [
    "worst <- hundred[hundred < 9]\n",
    "worst"
   ]
  },
  {
   "cell_type": "markdown",
   "metadata": {},
   "source": [
    "# SUBSET BY NAMES"
   ]
  },
  {
   "cell_type": "markdown",
   "metadata": {},
   "source": [
    "## QUESTION"
   ]
  },
  {
   "cell_type": "markdown",
   "metadata": {},
   "source": [
    "Subset the **hundred** vector by selecting the items named as d, e and f and assign into **def** object as such:\n",
    "\n",
    "```r\n",
    "def\n",
    "\n",
    "   d     e     f \n",
    "9.67 10.02  8.80 \n",
    "```"
   ]
  },
  {
   "cell_type": "code",
   "execution_count": null,
   "metadata": {},
   "outputs": [],
   "source": [
    "def <- hundred[c(\"d\", \"e\", \"f\")]\n",
    "def"
   ]
  },
  {
   "cell_type": "code",
   "execution_count": null,
   "metadata": {},
   "outputs": [],
   "source": []
  }
 ],
 "metadata": {
  "kernelspec": {
   "display_name": "R",
   "language": "R",
   "name": "ir"
  },
  "language_info": {
   "codemirror_mode": "r",
   "file_extension": ".r",
   "mimetype": "text/x-r-source",
   "name": "R",
   "pygments_lexer": "r",
   "version": "3.6.1"
  },
  "toc": {
   "nav_menu": {},
   "number_sections": true,
   "sideBar": false,
   "skip_h1_title": false,
   "toc_cell": false,
   "toc_position": {},
   "toc_section_display": true,
   "toc_window_display": false
  }
 },
 "nbformat": 4,
 "nbformat_minor": 2
}
