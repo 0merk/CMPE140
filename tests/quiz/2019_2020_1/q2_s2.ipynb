{
 "cells": [
  {
   "cell_type": "code",
   "execution_count": null,
   "metadata": {},
   "outputs": [],
   "source": [
    "options(jupyter.rich_display = F)"
   ]
  },
  {
   "cell_type": "markdown",
   "metadata": {},
   "source": [
    "**IMPORTANT NOTICE:**\n",
    "\n",
    "- **PLEASE MAKE SURE R THROWS NO ERROR WHEN YOUR R SCRIPT (BEFORE RENAMING TO A TXT FILE) IS SOURCED USING THE SOURCE BUTTON OR ALL LINES IN YOUR SCRIPT ARE EXECUTED**\n",
    "\n",
    "- **MAKE SURE YOU CLEAN THE ENVIRONMENT FROM THE BRUSH SIGN IN THE ENVIRONMENT PANE AT THE TOP RIGHT BEFORE YOU SOURCE YOUR CODE** \n",
    "\n",
    "- **MAKE SURE AL LINES IN YOUR FILE THAT ARE NOT INTENDED TO EXECUTE AS R COMMANDS SHOULD BE COMMENTED OUT WITH \"#\"**\n",
    "\n",
    "- **YOU SHOULD NAME THE OBJECTS EXACTLY AS REQUIRED IN THE QUESTION. OTHERWISE, A CORRECT CODE WILL BE RENDERED AS INCORRECT. NOTE THAT R IS CASE SENSITIVE!**\n",
    "\n",
    "- **CHECK THAT THE REQUIRED OBJECT'S VALUE IS EXACTLY THE SAME AS THE OUTPUT WE PROVIDE IN THE QUESTION** \n",
    "\n",
    "- **WRITE ALL CODE IN A SINGLE SCRIPT AND AGAIN, MAKE SURE IT CAN BE SOURCED WITHOUT ERROR**\n",
    "\n",
    "- **PASTE OUR SAMPLE CODE TO GENERATE THE INPUT OBJECTS INTO YOUR SCRIPT, NOT INTO THE TERMINAL**\n",
    "\n",
    "- **DON'T TRY TO CHEAT BY COPYING THE EXACT NUMBERS IN THE REQUIRED OUTPUT. WE WILL TRY OTHER INPUTS FOR THE EVALUATION, SO THIS APPROACH WON'T WORK! AND THAT WILL INDUCE CHEATING PROCEDURE. TRY TO WRITE THE REQUIRED CODE**\n",
    "\n",
    "- **AND DON'T TRY TO CHEAT BY SAVING AND SUBMITTING THE EXAMPLE PLOT! WE KNOW THAT IT IS THE PLOT THAT WE ALREADY PROVIDE. THAT WILL INDUCE CHEATING PROCEDURE. TRY TO WRITE THE REQUIRED CODE**"
   ]
  },
  {
   "cell_type": "markdown",
   "metadata": {},
   "source": [
    "We have a sample of students with their corresponding university entrance rankings and GPA's.\n",
    "\n",
    "Please copy this code in your script and run:\n",
    "\n",
    "```r\n",
    "RNGversion(\"3.3.1\")\n",
    "set.seed(100)\n",
    "\n",
    "gpas <- round(rweibull(20, 7, 2.8), 2)\n",
    "noise <- runif(20, -0.3, 0.3)\n",
    "ranks <- round((gpas + noise) * 100)\n",
    "ranks <- max(ranks) - ranks + min(ranks)\n",
    "```\n",
    "\n",
    "The objects should be as such:\n",
    "```r\n",
    "gpas\n",
    "\n",
    " [1] 2.87 2.92 2.60 3.26 2.69 2.67 2.24 2.80 2.61 3.04 2.51 2.08 2.90 2.77 2.32\n",
    "[16] 2.46 2.99 2.81 2.81 2.43\n",
    "\n",
    "ranks\n",
    "\n",
    " [1] 273 257 300 221 298 315 322 259 298 271 312 328 281 258 318 293 282 273 252\n",
    "[20] 341\n",
    "\n",
    "```\n"
   ]
  },
  {
   "cell_type": "code",
   "execution_count": null,
   "metadata": {},
   "outputs": [],
   "source": [
    "RNGversion(\"3.3.1\")\n",
    "set.seed(100)\n",
    "\n",
    "gpas <- round(rweibull(20, 7, 2.8), 2)\n",
    "noise <- runif(20, -0.3, 0.3)\n",
    "ranks <- round((gpas + noise) * 100)\n",
    "ranks <- max(ranks) - ranks + min(ranks)\n",
    "\n",
    "gpas\n",
    "ranks"
   ]
  },
  {
   "cell_type": "markdown",
   "metadata": {},
   "source": [
    "# ORDER OF GPA"
   ]
  },
  {
   "cell_type": "markdown",
   "metadata": {},
   "source": [
    "Get the rank values that correspond to the top 5 gpas in university entrance and assign into top5 as such:\n",
    "\n",
    "```r\n",
    "top5\n",
    "\n",
    "[1] 221 271 282 257 281\n",
    "```\n",
    "\n",
    "**Hints:**\n",
    "- First decide whether you should get the ascending or descending order\n",
    "- Then think about subsetting a vector with the order of an another vector using **order()**\n",
    "- And then subset the first five items"
   ]
  },
  {
   "cell_type": "markdown",
   "metadata": {},
   "source": [
    "## SOLUTION"
   ]
  },
  {
   "cell_type": "code",
   "execution_count": null,
   "metadata": {},
   "outputs": [],
   "source": [
    "top5 <- ranks[order(gpas, decreasing = T)][1:5]\n",
    "top5"
   ]
  },
  {
   "cell_type": "code",
   "execution_count": null,
   "metadata": {},
   "outputs": [],
   "source": [
    "top5 <- ranks[order(gpas, decreasing = T)[1:5]]\n",
    "top5"
   ]
  },
  {
   "cell_type": "markdown",
   "metadata": {},
   "source": [
    "# Ranking Distribution"
   ]
  },
  {
   "cell_type": "markdown",
   "metadata": {},
   "source": [
    "Create a histogram in which:\n",
    "\n",
    "- Shows the distibution of ranks\n",
    "- Color is <font color=\"blue\">blue</font>\n",
    "- Show rankings in four bins as shown in the figure\n",
    "- Label of x axis is \"University Rankings\"\n",
    "- Label of y axis is \"University Count\"\n",
    "- Title of plot is \"Rank Distribution\"\n",
    "\n",
    "**Hint:**\n",
    " - You can use **seq()** function if necessary.\n"
   ]
  },
  {
   "cell_type": "markdown",
   "metadata": {},
   "source": [
    "## SOLUTION"
   ]
  },
  {
   "cell_type": "code",
   "execution_count": null,
   "metadata": {},
   "outputs": [],
   "source": [
    "hist(ranks, col=\"blue\",\n",
    "     xlab=\"University Rankings\",\n",
    "     ylab=\"University Count\",\n",
    "     breaks=seq(220,360,length.out = 5),\n",
    "     main = \"Rank Distribution\")"
   ]
  },
  {
   "cell_type": "markdown",
   "metadata": {},
   "source": [
    "## SAMPLE RANKS"
   ]
  },
  {
   "cell_type": "markdown",
   "metadata": {},
   "source": [
    "First paste this code JUST before your solution:\n",
    "\n",
    "```r\n",
    "RNGversion(\"3.3.1\")\n",
    "set.seed(200)\n",
    "```\n",
    "\n",
    "Combine **ranks** vector with **NA** value (without quotes) and create a sample of 150 rankings out of this combined vector with **replacement** and assign into **sample1** as such:\n",
    "\n",
    "```r\n",
    "sample1\n",
    "\n",
    "  [1] 328 281 281 318 318 273 318 300 328 298 271 258 221 258 298 322 328 300 341\n",
    " [20] 258 271 300 298 341 322 315 293 259 273 312 315 221 312 322 341 328 221  NA\n",
    " [39] 312 312 281 293 318 221  NA 318 221 281 258 273 257 300 252 328 312 300 221\n",
    " [58] 221 328 318 221 328 293 328 282 318 298 315 257 281 259 221 271 315 298 322\n",
    " [77] 281 221 258 273 273 293 258 271 271 282 271  NA 259  NA 271 298 273 298 281\n",
    " [96] 259 322 221 271 318 318 273 300 328 298 257 258 273 312 312 252 257 221 281\n",
    "[115] 312 273 252 298 271 273 258 258 322 282  NA 293 312 281 300 298 312 258 318\n",
    "[134] 281 328 322 258 293 315 293 312 259 328 273 282 300  NA 258 312 298\n",
    "```\n",
    "\n",
    "**Hints**\n",
    " - You can use an intermediate variable which is a vector with all the values of **ranks** and **NA** before sampling."
   ]
  },
  {
   "cell_type": "markdown",
   "metadata": {},
   "source": [
    "## SOLUTION"
   ]
  },
  {
   "cell_type": "code",
   "execution_count": null,
   "metadata": {},
   "outputs": [],
   "source": [
    "RNGversion(\"3.3.1\")\n",
    "set.seed(200)\n",
    "sample1 <- sample(c(ranks, NA), 150, replace = T)\n",
    "sample1"
   ]
  },
  {
   "cell_type": "markdown",
   "metadata": {},
   "source": [
    "# MISSING DATA"
   ]
  },
  {
   "cell_type": "markdown",
   "metadata": {},
   "source": [
    "Using the sample1 vector from the previous question, find the position of the **NOT** missing values (values that are **NOT** **NA**'s) in the vector and assign it to the variable named **notmissing**.\n",
    "\n",
    "**Hints:**\n",
    "- You should use **which()** function\n",
    "- **is.na()** function can be used to determine **NA** values in a given vector.\n",
    "\n",
    "```r\n",
    "> is.na(c(1, NA, 72))\n",
    "\n",
    "[1] FALSE  TRUE FALSE\n",
    "```\n",
    "\n",
    "```r\n",
    "> notmissing\n",
    "\n",
    "  [1]   1   2   3   4   5   6   7   8   9  10  11  12  13  14  15  16  17  18\n",
    " [19]  19  20  21  22  23  24  25  26  27  28  29  30  31  32  33  34  35  36\n",
    " [37]  37  39  40  41  42  43  44  46  47  48  49  50  51  52  53  54  55  56\n",
    " [55]  57  58  59  60  61  62  63  64  65  66  67  68  69  70  71  72  73  74\n",
    " [73]  75  76  77  78  79  80  81  82  83  84  85  86  87  89  91  92  93  94\n",
    " [91]  95  96  97  98  99 100 101 102 103 104 105 106 107 108 109 110 111 112\n",
    "[109] 113 114 115 116 117 118 119 120 121 122 123 124 126 127 128 129 130 131\n",
    "[127] 132 133 134 135 136 137 138 139 140 141 142 143 144 145 146 148 149 150\n",
    "```"
   ]
  },
  {
   "cell_type": "markdown",
   "metadata": {},
   "source": [
    "## SOLUTION"
   ]
  },
  {
   "cell_type": "code",
   "execution_count": null,
   "metadata": {},
   "outputs": [],
   "source": [
    "notmissing <- which(!is.na(sample1))\n",
    "notmissing"
   ]
  },
  {
   "cell_type": "code",
   "execution_count": null,
   "metadata": {},
   "outputs": [],
   "source": []
  }
 ],
 "metadata": {
  "kernelspec": {
   "display_name": "R",
   "language": "R",
   "name": "ir"
  },
  "language_info": {
   "codemirror_mode": "r",
   "file_extension": ".r",
   "mimetype": "text/x-r-source",
   "name": "R",
   "pygments_lexer": "r",
   "version": "3.6.1"
  },
  "toc": {
   "nav_menu": {},
   "number_sections": false,
   "sideBar": false,
   "skip_h1_title": false,
   "toc_cell": false,
   "toc_position": {},
   "toc_section_display": false,
   "toc_window_display": false
  }
 },
 "nbformat": 4,
 "nbformat_minor": 2
}
