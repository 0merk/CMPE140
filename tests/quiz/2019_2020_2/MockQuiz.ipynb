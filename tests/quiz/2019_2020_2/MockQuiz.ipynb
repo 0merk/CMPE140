{
 "cells": [
  {
   "cell_type": "markdown",
   "metadata": {},
   "source": [
    "# Question 1\n",
    "\n",
    "Beşiktaş, Fenerbahçe and Galatasaray are competing head to head for the championship. Respectively, their points are **63**, **65** and **62**. And only three matches are remained. You are a fortune teller and you believe that\n",
    "\n",
    "- Beşiktaş will win one game, one game will be draw and they will lose one.\n",
    "- Fenerbahçe will win 2 and one game will be draw.\n",
    "- Finally, Galatasaray will win all of the games.\n",
    "\n",
    "Note: 3 points for winning, 1 for draw and 0 for lose\n",
    "\n",
    "Assign variables **besiktas**, **fenerbahce** and **galatasaray** to the teams respectively and let the initial values be the initial points. Find their final points by applying multiplication and addition operations and reassign the new values to the variables. Finally initialize a new variable named **winner** with the name of the winner team.\n",
    "\n",
    "Team Names are:\n",
    "\n",
    "- “Besiktas”,\n",
    "- “Fenerbahce”,\n",
    "- “Galatasaray”"
   ]
  },
  {
   "cell_type": "code",
   "execution_count": null,
   "metadata": {},
   "outputs": [],
   "source": [
    "besiktas <- 63\n",
    "fenerbahce <- 65\n",
    "galatasaray <- 62\n",
    "\n",
    "besiktas <- besiktas + 3 + 1\n",
    "fenerbahce <- fenerbahce + 3*2 + 1\n",
    "galatasaray <- galatasaray + 3*3\n",
    "\n",
    "winner <- \"Fenerbahce\"\n",
    "\n",
    "besiktas\n",
    "fenerbahce\n",
    "galatasaray\n",
    "winner"
   ]
  }
 ],
 "metadata": {
  "kernelspec": {
   "display_name": "R",
   "language": "R",
   "name": "ir"
  },
  "language_info": {
   "codemirror_mode": "r",
   "file_extension": ".r",
   "mimetype": "text/x-r-source",
   "name": "R",
   "pygments_lexer": "r",
   "version": "3.5.2"
  },
  "toc": {
   "nav_menu": {},
   "number_sections": true,
   "sideBar": true,
   "skip_h1_title": false,
   "title_cell": "Table of Contents",
   "title_sidebar": "Contents",
   "toc_cell": false,
   "toc_position": {},
   "toc_section_display": true,
   "toc_window_display": false
  },
  "varInspector": {
   "cols": {
    "lenName": 16,
    "lenType": 16,
    "lenVar": 40
   },
   "kernels_config": {
    "python": {
     "delete_cmd_postfix": "",
     "delete_cmd_prefix": "del ",
     "library": "var_list.py",
     "varRefreshCmd": "print(var_dic_list())"
    },
    "r": {
     "delete_cmd_postfix": ") ",
     "delete_cmd_prefix": "rm(",
     "library": "var_list.r",
     "varRefreshCmd": "cat(var_dic_list()) "
    }
   },
   "types_to_exclude": [
    "module",
    "function",
    "builtin_function_or_method",
    "instance",
    "_Feature"
   ],
   "window_display": false
  }
 },
 "nbformat": 4,
 "nbformat_minor": 4
}
