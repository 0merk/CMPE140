{
 "cells": [
  {
   "cell_type": "code",
   "execution_count": null,
   "metadata": {},
   "outputs": [],
   "source": [
    "options(jupyter.rich_display = FALSE)"
   ]
  },
  {
   "cell_type": "markdown",
   "metadata": {},
   "source": [
    "**IMPORTANT NOTICE:**\n",
    "\n",
    "- **MAKE SURE YOU CLEAN THE ENVIRONMENT FROM THE BRUSH SIGN IN THE ENVIRONMENT PANE AT THE TOP RIGHT BEFORE YOU SOURCE YOUR CODE** \n",
    "\n",
    "- **PLEASE MAKE SURE R THROWS NO ERROR WHEN YOUR R SCRIPT IS SOURCED USING THE SOURCE BUTTON OR ALL LINES IN YOUR SCRIPT ARE EXECUTED**\n",
    "\n",
    "- **MAKE SURE ALL LINES IN YOUR FILE THAT ARE NOT INTENDED TO EXECUTE AS R COMMANDS SHOULD BE COMMENTED OUT WITH \"#\"**\n",
    "\n",
    "- **YOU SHOULD NAME THE OBJECTS EXACTLY AS REQUIRED IN THE QUESTION. OTHERWISE, A CORRECT CODE WILL BE RENDERED AS INCORRECT. NOTE THAT R IS CASE SENSITIVE!**\n",
    "\n",
    "- **CHECK THAT THE REQUIRED OBJECT'S VALUE IS EXACTLY THE SAME AS THE OUTPUT WE PROVIDE IN THE QUESTION** \n",
    "\n",
    "- **WRITE THE CODE FOR EACH QUESTION IN SEPARATE SCRIPT FILES WITH THE NAME \"XXXXXXXXXX_Y.R\" WHERE XXXXXXXXXX IS YOUR STUDENT NUMBER AND Y IS THE QUESTION NUMBER AND AGAIN, MAKE SURE THEY CAN BE SOURCED WITHOUT ERROR**\n",
    "\n",
    "- **UPLOAD YOUR SCRIPT FILES AS SOON AS YOU FINISH THEM**\n",
    "\n",
    "- **ALLOCATE YOUR LAST 4-5 MINUTES TO UPLOAD AND SUBMISSION. DON'T HIT \"SUBMIT\" BUTTON BEFORE YOU ARE DONE WITH YOUR UPLOADS**\n",
    "\n",
    "- **PASTE OUR SAMPLE CODE TO GENERATE THE INPUT OBJECTS INTO YOUR SCRIPT, NOT INTO THE TERMINAL**\n",
    "\n",
    "- **DON'T TRY TO CHEAT BY COPYING THE EXACT NUMBERS IN THE REQUIRED OUTPUT. WE WILL TRY OTHER INPUTS FOR THE EVALUATION, SO THIS APPROACH WON'T WORK! AND THAT WILL INDUCE CHEATING PROCEDURE. TRY TO WRITE THE REQUIRED CODE**\n",
    "\n",
    "- **THE FUNCTIONS SHOULD \"RETURN\" REQUESTED VALUES, NOT \"PRINT\" OR \"CAT\"**\n",
    "\n",
    "- **DO NOT MAKE USE OF GLOBAL VARIABLES INSIDE FUNCTIONS, I.E. ALL OBJECTS CREATED IN THE GLOBAL ENVIRONMENT CAN ONLY BE PASSED AS VALUES TO ARGUMENTS OF FUNCTIONS. THE BODY OF THE FUNCTIONS SHOULD NOT REFER TO GLOBAL OBJECTS**"
   ]
  },
  {
   "cell_type": "markdown",
   "metadata": {},
   "source": [
    "**- Two create a new Rscript, hit \"File > New File > Rscript\" or \"Ctrl+Shift+N\". Do not open a new Rnotebook! That may freeze your Rstudio session**\n",
    "\n",
    "**- Do not use Turkish or non-English characters in your Rscript files**\n",
    "\n",
    "**- If Rstudio asks about encoding when you try the save your file select the default one \"UTF-8\"**\n",
    "\n",
    "**- If the Console in Rstudio shows an \"+\" instead of the \">\" prompt, hit \"Esc\" to return to the prompt. The \"+\" is especially problematic when sourcing and is mainly caused by an unclosed curly brace or paranthesis. So check your syntax**\n",
    "\n",
    "**- If Rstudio or firefox freezes, open a new terminal window by either hitting \"Ctrl+Alt+T\" or this icon on the left:**\n",
    "\n",
    "![]() <img src=\"attachment:image.png\" width=\"50\">\n",
    "\n",
    "and type\n",
    "```Bash\n",
    "killall rstudio\n",
    "```\n",
    "or\n",
    "```Bash\n",
    "killall firefox\n",
    "```\n",
    "\n",
    "**And restart the program. Note that unsaved Rscript files may be lost**\n",
    "\n",
    "**- For each question, first figure out the algorithm to follow and its constituent steps using what you have learned so far. Then implement the steps as R code.**"
   ]
  },
  {
   "cell_type": "markdown",
   "metadata": {},
   "source": [
    "# MATCH RANKS"
   ]
  },
  {
   "cell_type": "markdown",
   "metadata": {},
   "source": [
    "**rank** function returns a vector's items' indices that the items will take after sorting. Smaller values correspond to a smaller rank.\n",
    "\n",
    "Hence:\n",
    "\n",
    "```R\n",
    "rank(c(10, 7, 0, 4, 3))\n",
    "\n",
    "[1] 5 4 1 3 2\n",
    "```\n",
    "\n",
    "So the first item ranks the 5th (the maximum one), the second item ranks the 4th, the third item ranks the 1st (the minimum one) and so on. Do not confuse **rank** with **sort** or **order**\n",
    "\n",
    "Write a function **rankx** that takes three arguments: **vec1** and **vec2**, numeric vectors of the same size and **rnk** a numeric vector of length one\n",
    "\n",
    "The function should return the the item in **vec1** that corresponds to (has the same index with) the **rnk** ranked item in **vec2** as such:\n",
    "\n",
    "```R\n",
    "x1 <- c(1, 3, 8, 7, 2)\n",
    "y1 <- c(9, 5, 4, 0, 10)\n",
    "\n",
    "x2 <- c(7, 20, 5, 10, 40)\n",
    "y2 <- c(30, 4, 22, 17, 9)\n",
    "\n",
    "> rankx(vec1 = x1, vec2 = y1, rnk = 2)\n",
    "[1] 8\n",
    "\n",
    "> rankx(vec1 = x2, vec2 = y2, rnk = 3)\n",
    "[1] 10\n",
    "```\n",
    "\n",
    "- So in the first example, the 2nd ranked item is 4 (after 0) in vec2 and has an index of 3, so the item in vec1 with an index of 3 is 8.\n",
    "\n",
    "- In the second example, the 3nd ranked item is 17 (after 4 and 9) in vec2 and has an index of 4, so the item in vec1 with an index of 4 is 10.\n",
    "\n",
    "**Hint:** You should use **rank** and **which** functions"
   ]
  },
  {
   "cell_type": "code",
   "execution_count": null,
   "metadata": {},
   "outputs": [],
   "source": [
    "rank(c(10, 7, 0, 4, 3))"
   ]
  },
  {
   "cell_type": "code",
   "execution_count": null,
   "metadata": {},
   "outputs": [],
   "source": [
    "x1 <- c(1, 3, 8, 7, 2)\n",
    "y1 <- c(9, 5, 4, 0, 10)\n",
    "\n",
    "x2 <- c(7, 20, 5, 10, 40)\n",
    "y2 <- c(30, 4, 22, 17, 9)\n",
    "\n",
    "rankx <- function(vec1, vec2, rnk)\n",
    "{\n",
    "    r2 <- rank(vec2)\n",
    "    vec1[which(r2 == rnk)]\n",
    "}\n",
    "\n",
    "rankx(vec1 = x1, vec2 = y1, rnk = 2)\n",
    "rankx(vec1 = x2, vec2 = y2, rnk = 3)"
   ]
  },
  {
   "cell_type": "markdown",
   "metadata": {},
   "source": [
    "# QUADRATIC ROOT\n",
    "\n",
    "For a quadratic equation:\n",
    "\n",
    "$${\\displaystyle ax^{2}+bx+c=0\\ \\ }$$\n",
    "\n",
    "The roots (value(s)of x that satisfy the above condition) can be calculated using the quadratic formula:\n",
    "\n",
    "$${\\displaystyle x={\\frac {-b\\pm {\\sqrt {b^{2}-4ac}}}{2a}}\\ \\ }$$\n",
    "\n",
    "Please write a function **root** that takes 3 arguments **a**, **b** and **c** for the coefficients, with no default values and returns the **two** quadratic roots as a vector of two values, first value being the smaller, second value being the larger root.\n",
    "\n",
    "First, if $b^{2}-4ac$ (the discriminant) term is below 0, the function should return NA\n",
    "\n",
    "And your function should return the same value twice when there is a single root. \n",
    "\n",
    "```R\n",
    "root(a = 1, b = 1, c = -12)\n",
    "[1] -4  3\n",
    "\n",
    "root(a = 1, b = 9, c = 14)\n",
    "[1] -7 -2\n",
    "\n",
    "root(a = 2, b = -34, c = 144)\n",
    "[1] 8 9\n",
    "\n",
    "root(a = 4, b = -8, c = 4)\n",
    "[1] 1 1\n",
    "\n",
    "root(a = -10, b = 1, c = -12)\n",
    "[1] NA\n",
    "```"
   ]
  },
  {
   "cell_type": "code",
   "execution_count": null,
   "metadata": {},
   "outputs": [],
   "source": [
    "# correct solution\n",
    "root <- function(a, b, c)\n",
    "{\n",
    "    disc1 <- b^2 - 4 * a* c\n",
    "    if (disc1 < 0) return(NA)\n",
    "    disc <- sqrt(disc1)\n",
    "    return(c(-b - disc, -b + disc) / (2 * a))\n",
    "}"
   ]
  },
  {
   "cell_type": "code",
   "execution_count": null,
   "metadata": {},
   "outputs": [],
   "source": [
    "# false but will be deemed as correct also\n",
    "root <- function(a, b, c)\n",
    "{\n",
    "    disc1 <- b^2 - 4 * a* c\n",
    "    if (disc1 < 0) return(NA)\n",
    "    disc <- sqrt(disc1)\n",
    "    return(c(b - disc, b + disc) / (2 * a))\n",
    "}"
   ]
  },
  {
   "cell_type": "code",
   "execution_count": null,
   "metadata": {},
   "outputs": [],
   "source": [
    "root(a = -10, b = 1, c = -12)\n",
    "root(a = 1, b = 1, c = -12)\n",
    "root(a = 1, b = 9, c = 14)\n",
    "root(a = 2, b = -34, c = 144)\n",
    "root(a = 4, b = -8, c = 4)"
   ]
  },
  {
   "cell_type": "markdown",
   "metadata": {},
   "source": [
    "# DIGITS TO NUMBERS"
   ]
  },
  {
   "cell_type": "markdown",
   "metadata": {},
   "source": [
    "Write a function named **digits_to_numbers** which takes **x**, a vector of single-digit numbers, as a single argument and returns the number composed of the digits given. The function should work with **any number of elements** inside the **x** argument\n",
    "\n",
    "If any of the elements of the input is negative, or has multiple digits, the function returns `NA`.\n",
    "\n",
    "Examples:\n",
    "\n",
    "```R\n",
    "digits_to_numbers(x = c(1, 4, 7))\n",
    "[1] 147\n",
    "    \n",
    "digits_to_numbers(x = c(1, 0, 2, 3, 2, 0, 1, 8, 4))\n",
    "[1] 102320184\n",
    "    \n",
    "digits_to_numbers(x = c(1, -1, 2))\n",
    "[1] NA\n",
    "\n",
    "digits_to_numbers(x = c(1, 30, 2))\n",
    "[1] NA\n",
    "```\n",
    "\n",
    "**Hints:**\n",
    "- The return value should be numeric or NA\n",
    "- Initiate necessary objects before the loop\n",
    "- Loop through x\n",
    "- Check whether each number is within 0:9 and return NA otherwise\n",
    "- Track an accumulated sum\n",
    "- There are multiple methods to reach the correct answer"
   ]
  },
  {
   "cell_type": "code",
   "execution_count": null,
   "metadata": {},
   "outputs": [],
   "source": [
    "# original solution\n",
    "digits_to_numbers <- function(x)\n",
    "{\n",
    "    total <- 0\n",
    "    factor <- 1\n",
    "    \n",
    "    for (i in length(x):1)\n",
    "    {\n",
    "        if (x[i] < 0 | x[i] > 9) return(NA)\n",
    "        total <- total + factor * x[i]\n",
    "        factor <- factor * 10\n",
    "    }\n",
    "    \n",
    "    return(total)\n",
    "}\n",
    "\n",
    "digits_to_numbers(x = c(1,4,7))\n",
    "digits_to_numbers(x = c(1,0,2,3,2,0,1,8,4))\n",
    "digits_to_numbers(x = c(1,-1,2))\n",
    "digits_to_numbers(x = c(1,30,2))"
   ]
  },
  {
   "cell_type": "code",
   "execution_count": null,
   "metadata": {},
   "outputs": [],
   "source": [
    "# another correct solution\n",
    "digits_to_numbers <- function(x)\n",
    "{\n",
    "    total <- 0\n",
    "    \n",
    "    for (i in x)\n",
    "    {\n",
    "        if (i < 0 | i > 9) return(NA)\n",
    "        total <- total * 10\n",
    "        total <- total + i\n",
    "    }\n",
    "    \n",
    "    return(total)\n",
    "}\n",
    "\n",
    "digits_to_numbers(x = c(1,4,7))\n",
    "digits_to_numbers(x = c(1,0,2,3,2,0,1,8,4))\n",
    "digits_to_numbers(x = c(1,-1,2))\n",
    "digits_to_numbers(x = c(1,30,2))"
   ]
  },
  {
   "cell_type": "markdown",
   "metadata": {},
   "source": [
    "# INTERLEAVING VECTORS"
   ]
  },
  {
   "cell_type": "markdown",
   "metadata": {},
   "source": [
    "Write a function named **interleave** that takes two arguments **x** and **y**, vectors of the same length, and returns a vector with elements taken from each, in order.\n",
    "\n",
    "The function should work with vectors of any length and type.\n",
    "\n",
    "Examples:\n",
    "\n",
    "```R\n",
    "> interleave(x = 1:4, y = 6:9)\n",
    "[1] 1 6 2 7 3 8 4 9\n",
    "    \n",
    "> interleave(x = c(\"abc\", \"de\", \"fg\"), y = c(\"stu\", \"vwx\", \"yz\"))\n",
    "[1] \"abc\" \"stu\" \"de\"  \"vwx\" \"fg\"  \"yz\" \n",
    "```\n",
    "\n",
    "**Hint:** Inside a for loop through indices, take pairs of corresponding elements and append them to an accumulator vector."
   ]
  },
  {
   "cell_type": "code",
   "execution_count": null,
   "metadata": {},
   "outputs": [],
   "source": [
    "interleave <- function(x, y)\n",
    "{\n",
    "    retval <- c()\n",
    "    \n",
    "    for (i in 1:length(x))\n",
    "    {\n",
    "        retval <- c(retval, x[i], y[i])\n",
    "    }\n",
    "    retval\n",
    "}\n",
    "\n",
    "interleave(x = 1:4, y = 6:9)\n",
    "interleave(x = c(\"abc\", \"de\", \"fg\"), y = c(\"stu\", \"vwx\", \"yz\"))"
   ]
  },
  {
   "cell_type": "markdown",
   "metadata": {},
   "source": [
    "# RED SPIRAL"
   ]
  },
  {
   "attachments": {
    "image.png": {
     "image/png": "[encoded data removed]"
    }
   },
   "cell_type": "markdown",
   "metadata": {},
   "source": [
    "The formula for a spiral is as follows:\n",
    "\n",
    "$${\\displaystyle x=\\theta \\cos \\theta \\ (1)}$$\n",
    "\n",
    "$${\\displaystyle y=\\theta \\sin \\theta \\ (2)}$$\n",
    "\n",
    "where $\\theta$ is in radians and\n",
    "\n",
    "$${\\displaystyle \\pi {\\text{ rad}}=180^{\\circ } \\ (3)}$$\n",
    "\n",
    "Plot a spiral as such:\n",
    "- Create a sequence from 1 to 1000 as degrees\n",
    "- Convert these degree values to radians using formula 3\n",
    "- Calculate x and y values using formulas 1 and 2\n",
    "- Create a line plot with red color, \"Red Spiral\" main title, \"cos\" x axis label and \"sin\" y axis label\n",
    "\n",
    "![image.png](attachment:image.png)"
   ]
  },
  {
   "cell_type": "code",
   "execution_count": null,
   "metadata": {},
   "outputs": [],
   "source": [
    "t1 <- 1:1000\n",
    "r1 <- t1 * pi / 180\n",
    "\n",
    "x <- r1 * cos(r1)\n",
    "y <- r1 * sin(r1)\n",
    "\n",
    "plot(x, y, col = \"red\", type = \"l\", main = \"Red Spiral\", xlab = \"cos\", ylab = \"sin\")"
   ]
  },
  {
   "cell_type": "code",
   "execution_count": null,
   "metadata": {
    "scrolled": false
   },
   "outputs": [],
   "source": [
    "# for watermarked plot\n",
    "t1 <- 1:1000\n",
    "r1 <- t1 * pi / 180\n",
    "\n",
    "x <- r1 * cos(r1)\n",
    "y <- r1 * sin(r1)\n",
    "\n",
    "library(magick)\n",
    "\n",
    "png(filename = \"plot_mt_2.png\", width = 800, height = 800)\n",
    "plot(x, y, col = \"red\", type = \"l\", main = \"Red Spiral\", xlab = \"cos\", ylab = \"sin\")\n",
    "dev.off()\n",
    "img <- image_read(\"plot_mt_2.png\")\n",
    "\n",
    "image_annotate(img, \"TARGET PLOT\", location = \"+300+500\", degrees = -45, size = 50)"
   ]
  },
  {
   "cell_type": "code",
   "execution_count": null,
   "metadata": {},
   "outputs": [],
   "source": []
  }
 ],
 "metadata": {
  "kernelspec": {
   "display_name": "R",
   "language": "R",
   "name": "ir"
  },
  "language_info": {
   "codemirror_mode": "r",
   "file_extension": ".r",
   "mimetype": "text/x-r-source",
   "name": "R",
   "pygments_lexer": "r",
   "version": "3.5.2"
  },
  "toc": {
   "nav_menu": {},
   "number_sections": true,
   "sideBar": true,
   "skip_h1_title": false,
   "title_cell": "Table of Contents",
   "title_sidebar": "Contents",
   "toc_cell": false,
   "toc_position": {
    "height": "65.6px",
    "left": "10px",
    "top": "150px",
    "width": "275.4px"
   },
   "toc_section_display": true,
   "toc_window_display": true
  },
  "varInspector": {
   "cols": {
    "lenName": 16,
    "lenType": 16,
    "lenVar": 40
   },
   "kernels_config": {
    "python": {
     "delete_cmd_postfix": "",
     "delete_cmd_prefix": "del ",
     "library": "var_list.py",
     "varRefreshCmd": "print(var_dic_list())"
    },
    "r": {
     "delete_cmd_postfix": ") ",
     "delete_cmd_prefix": "rm(",
     "library": "var_list.r",
     "varRefreshCmd": "cat(var_dic_list()) "
    }
   },
   "types_to_exclude": [
    "module",
    "function",
    "builtin_function_or_method",
    "instance",
    "_Feature"
   ],
   "window_display": false
  }
 },
 "nbformat": 4,
 "nbformat_minor": 2
}
