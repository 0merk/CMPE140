{
 "cells": [
  {
   "cell_type": "code",
   "execution_count": null,
   "metadata": {},
   "outputs": [],
   "source": [
    "options(jupyter.rich_display = F)"
   ]
  },
  {
   "cell_type": "markdown",
   "metadata": {},
   "source": [
    "# QUESTION 1: ODD INDICES (7 POINTS)"
   ]
  },
  {
   "cell_type": "markdown",
   "metadata": {},
   "source": [
    "Please write a function **oddi** that takes a single argument **x**, a numeric vector and subset and return only odd-indexed elements of `x` (i.e., `x[1]`, `x[3]`, `x[5]`, etc).\n",
    "\n",
    "Note that the vector should work with vectors of any size.\n",
    "\n",
    "\n",
    "\n",
    "Example:\n",
    "```R\n",
    "> oddi(x = 4:15)\n",
    "[1]  4  6  8 10 12 14\n",
    "\n",
    "> oddi(x = 10:2)\n",
    "[1] 10  8  6  4  2\n",
    "\n",
    "```\n",
    "\n",
    "**Hint:** You can subset by using indices or boolean values, it is up to you"
   ]
  },
  {
   "cell_type": "markdown",
   "metadata": {},
   "source": [
    "Solution:"
   ]
  },
  {
   "cell_type": "code",
   "execution_count": null,
   "metadata": {},
   "outputs": [],
   "source": [
    "oddi <- function(x) x[seq(1,length(x),2)]\n",
    "\n",
    "oddi(x = 4:15)\n",
    "oddi(x = 10:2)"
   ]
  },
  {
   "cell_type": "markdown",
   "metadata": {},
   "source": [
    "# QUESTION 2: ODD VALUES (7 POINTS) "
   ]
  },
  {
   "cell_type": "markdown",
   "metadata": {},
   "source": [
    "Please write a function **oddv** that takes a single argument **x**, a numeric vector and return only odd-valued elements of **x**:\n",
    "\n",
    "(b) Given a vector `x`, create a new vector `y` such that it has only the odd-valued elements of `x`\n",
    "\n",
    "Example:\n",
    "```R\n",
    "> oddv(x = c(3,5,1,2,4,6,9))\n",
    "[1] 3 5 1 9\n",
    "\n",
    "> oddv(x = c(2, 9, 8, 8, 5, 6))\n",
    "[1] 9 5\n",
    "```"
   ]
  },
  {
   "cell_type": "markdown",
   "metadata": {},
   "source": [
    "Solution:"
   ]
  },
  {
   "cell_type": "code",
   "execution_count": null,
   "metadata": {},
   "outputs": [],
   "source": [
    "oddv <- function(x)\n",
    "{\n",
    "    x[x%%2==1]\n",
    "}\n",
    "\n",
    "oddv(x = c(3,5,1,2,4,6,9))\n",
    "oddv(x = c(2, 9, 8, 8, 5, 6))"
   ]
  },
  {
   "cell_type": "markdown",
   "metadata": {},
   "source": [
    "# QUESTION 3: SIMPLE SORT AND NAME (6 POINTS)"
   ]
  },
  {
   "cell_type": "markdown",
   "metadata": {},
   "source": [
    "Please write a function named **sortn** that takes a single argument **x**, a numeric vector of length five, and sorts the vector in decreasing order and assigns names `A`-`E` to each element, such that `A` is the largest element, `B` second largest, and so on.\n",
    "\n",
    "Example:\n",
    "```R\n",
    "> sortn(x = c(8, 1, 6, 2, 3))\n",
    "A B C D E \n",
    "8 6 3 2 1 \n",
    "\n",
    "> sortn(x = c(3, 10, 1, 7, 4))\n",
    " A  B  C  D  E \n",
    "10  7  4  3  1 \n",
    "```"
   ]
  },
  {
   "cell_type": "markdown",
   "metadata": {},
   "source": [
    "**Solution**"
   ]
  },
  {
   "cell_type": "code",
   "execution_count": null,
   "metadata": {},
   "outputs": [],
   "source": [
    "sortn <- function(x)\n",
    "{\n",
    "    x <- sort(x, decreasing = T)\n",
    "    names(x) <- LETTERS[1:5]\n",
    "    return(x)\n",
    "}\n",
    "\n",
    "sortn(x = c(8, 1, 6, 2, 3))\n",
    "sortn(x = c(3, 10, 1, 7, 4))"
   ]
  },
  {
   "cell_type": "markdown",
   "metadata": {},
   "source": [
    "# QUESTION 4: INTERCHANGE ROWS OR COLUMNS (20 POINTS)"
   ]
  },
  {
   "cell_type": "markdown",
   "metadata": {},
   "source": [
    "Write a function that takes a matrix and returns a new matrix with a pair of rows or columns interchanged.\n",
    "\n",
    "The function should be called as `interchange(M, i, j, rows)`, where `M` is the matrix, `i` and `j` are the indices of the rows (columns) to be interchanged, and `rows` is an **optional** Boolean parameter:\n",
    "\n",
    "If `rows` is set to `TRUE`, the function should interchange rows, else it should interchange columns. The default value of `rows` should be `TRUE`.\n",
    "\n",
    "Examples:\n",
    "```R\n",
    "> M <- matrix(1:12,nrow=3)\n",
    "> M\n",
    "     [,1] [,2] [,3] [,4]\n",
    "[1,] 1    4    7    10  \n",
    "[2,] 2    5    8    11  \n",
    "[3,] 3    6    9    12  \n",
    "\n",
    "> interchange(M,1,3)\n",
    "     [,1] [,2] [,3] [,4]\n",
    "[1,]    3    6    9   12\n",
    "[2,]    2    5    8   11\n",
    "[3,]    1    4    7   10\n",
    "\n",
    "> interchange(M,1,4,rows=F)\n",
    "     [,1] [,2] [,3] [,4]\n",
    "[1,]   10    4    7    1\n",
    "[2,]   11    5    8    2\n",
    "[3,]   12    6    9    3\n",
    "```\n",
    "\n",
    "**Hint:** You will need a temporary variable to hold one of the rows/columns to be interchanged"
   ]
  },
  {
   "cell_type": "markdown",
   "metadata": {},
   "source": [
    "**Solution**"
   ]
  },
  {
   "cell_type": "code",
   "execution_count": null,
   "metadata": {},
   "outputs": [],
   "source": [
    "interchange <- function(M, i, j, rows=TRUE){\n",
    "    if (rows){\n",
    "        temp <- M[i,]\n",
    "        M[i,] <- M[j,]\n",
    "        M[j,] <- temp\n",
    "    } else {\n",
    "        temp <- M[,i]\n",
    "        M[,i] <- M[,j]\n",
    "        M[,j] <- temp\n",
    "    }\n",
    "    M\n",
    "}\n",
    "\n",
    "M <- matrix(1:12,nrow=3)\n",
    "M\n",
    "interchange(M,1,3)\n",
    "interchange(M,1,4,rows=F)"
   ]
  },
  {
   "cell_type": "markdown",
   "metadata": {},
   "source": [
    "# QUESTION 5: CONVERT RANGES TO NUMBERS (20 POINTS)"
   ]
  },
  {
   "cell_type": "markdown",
   "metadata": {},
   "source": [
    "Suppose a reading assignment is given as a mixture of:\n",
    "\n",
    "- Single page numbers\n",
    "- and ranges of page numbers (two item vectors), e.g. \"Read page 1, pages 3 to 5, page 7, and pages 13 to 16\".\n",
    "\n",
    "You can store this assignment as a list, e.g., `list(1, c(3,5), 7, (13,16))`, where:\n",
    "- Single page numbers are denoted as one itemed vectors\n",
    "- Ranges of page numbers are denoted as two itemed vectors. Note that the page numbers implied by the range are a sequence from the smaller value to the larger value \n",
    "\n",
    "Your task is to write a general function named `ranges_to_numbers(L)`. The function should take an argument  `L`, a list described as above, and return a vector of integers combining the numbers and intervals.\n",
    "\n",
    "Example:\n",
    "\n",
    "```R\n",
    "L1 <- list(1, c(3,5), 7, c(13, 16))\n",
    "\n",
    "> ranges_to_numbers(L = L1)\n",
    "[1] 1 3 4 5 7 13 14 15 16 \n",
    "```\n",
    "\n",
    "The function should be general, that is, it should handle lists of any length. You can assume that list elements are either single integers, or integer vectors of length 2. You can also assume that the second element of range vectors is always larger.\n",
    "\n",
    "The output should be sorted and there should be no duplicates. (Hint: Use the `sort()` and `unique()` functions before returning the resulting vector.)\n",
    "\n",
    "Test your code with the following examples (remember that during grading we will use different test inputs):\n",
    "\n",
    "```R\n",
    "L2 <- list(10, 15, c(20,24), 30, c(40,45))\n",
    "\n",
    "> ranges_to_numbers(L = L2)\n",
    "[1] 10 15 20 21 22 23 24 30 40 41 42 43 44 45 \n",
    "\n",
    "L3 <- list(2, -4, 5, c(7,10), -4, c(-5,-3))\n",
    "\n",
    "> ranges_to_numbers(L = L3)\n",
    "[1] -5 -4 -3 2 5 7 8 9 10 \n",
    "\n",
    "L4 <- list(c(3,8), 1,2,3,4,5,6, c(5,10))\n",
    "\n",
    "> ranges_to_numbers(L = L4)\n",
    "[1] 1 2 3 4 5 6 7 8 9 10 \n",
    "```\n",
    "\n",
    "**Hints:**\n",
    "- Initiate an empty vector to use as an accumulator of values\n",
    "- Use a loop and a conditional inside the loop"
   ]
  },
  {
   "cell_type": "markdown",
   "metadata": {},
   "source": [
    "**Solution**"
   ]
  },
  {
   "cell_type": "code",
   "execution_count": null,
   "metadata": {},
   "outputs": [],
   "source": [
    "ranges_to_numbers <- function(L){\n",
    "    res <- c()\n",
    "    for (i in L){\n",
    "        if (length(i) == 1){\n",
    "            res <- c(res,i)\n",
    "        } else { \n",
    "            res <- c(res, i[1]:i[2])\n",
    "        }\n",
    "    }\n",
    "    unique(sort(res))\n",
    "}\n",
    "L1 <- list(1, c(3,5), 7, c(13, 16))\n",
    "ranges_to_numbers(L = L1)\n",
    "\n",
    "L2 <- list(10, 15, c(20,24), 30, c(40,45))\n",
    "ranges_to_numbers(L = L2)\n",
    "\n",
    "L3 <- list(2, -4, 5, c(7,10), -4, c(-5,-3))\n",
    "ranges_to_numbers(L = L3)\n",
    "\n",
    "L4 <- list(c(3,8), 1,2,3,4,5,6, c(5,10))\n",
    "ranges_to_numbers(L = L4)"
   ]
  },
  {
   "cell_type": "markdown",
   "metadata": {},
   "source": [
    "# QUESTION 6: AGGREGATE IRIS (20 POINTS)"
   ]
  },
  {
   "cell_type": "markdown",
   "metadata": {},
   "source": [
    "The built-in data frame object `iris` cotains the well-known iris dataset, values on 150 plant specimens from three species: setosa, versicolar, virginica, 50 rows from each species.\n",
    "\n",
    "```R\n",
    "> head(iris)\n",
    "\n",
    "  Sepal.Length Sepal.Width Petal.Length Petal.Width Species\n",
    "1          5.1         3.5          1.4         0.2  setosa\n",
    "2          4.9         3.0          1.4         0.2  setosa\n",
    "3          4.7         3.2          1.3         0.2  setosa\n",
    "4          4.6         3.1          1.5         0.2  setosa\n",
    "5          5.0         3.6          1.4         0.2  setosa\n",
    "6          5.4         3.9          1.7         0.4  setosa\n",
    "\n",
    "```\n",
    "\n",
    "Your task is to write a function `getrow(rowind)` that takes a single argument `rowind`, a row index value. The function should return the row number `rowind` for each iris species in the dataset by aggregating it across species.\n",
    "\n",
    "**Hints:**\n",
    "* The `getrow()` function should call the `aggregate()` function applied on the `iris` object.\n",
    "* The FUN argument to `aggregate()` function should be written using the `function(x) ...` notation.   \n",
    "\n",
    "Examples:\n",
    "```R\n",
    "> getrow(rowind = 1)\n",
    "\n",
    "     Species Sepal.Length Sepal.Width Petal.Length Petal.Width    Species\n",
    "1     setosa          5.1         3.5          1.4         0.2     setosa\n",
    "2 versicolor          7.0         3.2          4.7         1.4 versicolor\n",
    "3  virginica          6.3         3.3          6.0         2.5  virginica\n",
    "```\n",
    "\n",
    "```R\n",
    "> getrow(rowind = 2)\n",
    "\n",
    "     Species Sepal.Length Sepal.Width Petal.Length Petal.Width    Species\n",
    "1     setosa          4.9         3.0          1.4         0.2     setosa\n",
    "2 versicolor          6.4         3.2          4.5         1.5 versicolor\n",
    "3  virginica          5.8         2.7          5.1         1.9  virginica \n",
    "```\n"
   ]
  },
  {
   "cell_type": "markdown",
   "metadata": {},
   "source": [
    "**Solution**"
   ]
  },
  {
   "cell_type": "code",
   "execution_count": null,
   "metadata": {},
   "outputs": [],
   "source": [
    "getrow <- function(rowind)\n",
    "{\n",
    "    aggregate(iris, iris[\"Species\"], function(x) x[rowind])    \n",
    "}\n",
    "              \n",
    "getrow(rowind = 1)\n",
    "getrow(rowind = 2)"
   ]
  },
  {
   "cell_type": "markdown",
   "metadata": {},
   "source": [
    "# QUESTION 7: FAT TAILED DISTRIBUTION (20 POINTS)"
   ]
  },
  {
   "attachments": {
    "image.png": {
     "image/png": "[encoded data removed]"
    }
   },
   "cell_type": "markdown",
   "metadata": {},
   "source": [
    "Generate a random numeric vector using the following commands:\n",
    "\n",
    "```R\n",
    "RNGversion(\"3.3.1\")\n",
    "set.seed(10)\n",
    "samp1 <- unlist(lapply(c(3,5,10), function(x) rnorm(100, 10, x)))\n",
    "```\n",
    "\n",
    "Using this vector, create the plot shown below\n",
    "\n",
    "![image.png](attachment:image.png)\n",
    "\n",
    "**Hints:**\n",
    "* Use the `par()` function to set up a plot array with two rows and one column.\n",
    "* The top plot should be a histogram with 10 bins, blue color and **Histogram** main title.\n",
    "* The bottom plot should be a **horizontal** boxplot with **Boxplot** main title.\n",
    "* The aspect ratio in your computer could be different; don't worry about it."
   ]
  },
  {
   "cell_type": "markdown",
   "metadata": {},
   "source": [
    "**Solution**"
   ]
  },
  {
   "cell_type": "code",
   "execution_count": null,
   "metadata": {
    "scrolled": false
   },
   "outputs": [],
   "source": [
    "RNGversion(\"3.3.1\")\n",
    "set.seed(10)\n",
    "samp <- unlist(lapply(c(3,5,10), function(x) rnorm(100, 10, x)))\n",
    "\n",
    "par(mfrow=c(2,1))\n",
    "hist(samp, breaks=10, col = \"blue\", main=\"Histogram\")\n",
    "boxplot(samp,main=\"Boxplot\",horizontal = T)"
   ]
  }
 ],
 "metadata": {
  "kernelspec": {
   "display_name": "R",
   "language": "R",
   "name": "ir"
  },
  "language_info": {
   "codemirror_mode": "r",
   "file_extension": ".r",
   "mimetype": "text/x-r-source",
   "name": "R",
   "pygments_lexer": "r",
   "version": "3.6.2"
  },
  "toc": {
   "base_numbering": 1,
   "nav_menu": {},
   "number_sections": true,
   "sideBar": true,
   "skip_h1_title": false,
   "title_cell": "Table of Contents",
   "title_sidebar": "Contents",
   "toc_cell": false,
   "toc_position": {},
   "toc_section_display": true,
   "toc_window_display": true
  }
 },
 "nbformat": 4,
 "nbformat_minor": 2
}
