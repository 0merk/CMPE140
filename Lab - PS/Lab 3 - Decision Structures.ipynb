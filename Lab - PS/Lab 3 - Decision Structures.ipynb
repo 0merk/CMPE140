{
 "cells": [
  {
   "cell_type": "markdown",
   "metadata": {},
   "source": [
    "# Making Pizza\n",
    "\n",
    "## Interactive programming\n",
    "\n",
    "We are using `readline` function in order to get data from the user.\n",
    "\n",
    "This way we can create interactive programs, where user gives input to the user."
   ]
  },
  {
   "cell_type": "code",
   "execution_count": 1,
   "metadata": {},
   "outputs": [
    {
     "name": "stdout",
     "output_type": "stream",
     "text": [
      "How old are you: 25\n"
     ]
    },
    {
     "data": {
      "text/html": [
       "'character'"
      ],
      "text/latex": [
       "'character'"
      ],
      "text/markdown": [
       "'character'"
      ],
      "text/plain": [
       "[1] \"character\""
      ]
     },
     "metadata": {},
     "output_type": "display_data"
    }
   ],
   "source": [
    "customer_age <- readline(prompt = \"How old are you: \")\n",
    "class(customer_age)"
   ]
  },
  {
   "cell_type": "markdown",
   "metadata": {},
   "source": [
    "`readline` gets the value that is written to the console. But value returned is character!\n",
    "\n",
    "In order to get the age of the we have to _cast_ character into integer value this way."
   ]
  },
  {
   "cell_type": "code",
   "execution_count": 2,
   "metadata": {},
   "outputs": [
    {
     "data": {
      "text/html": [
       "25"
      ],
      "text/latex": [
       "25"
      ],
      "text/markdown": [
       "25"
      ],
      "text/plain": [
       "[1] 25"
      ]
     },
     "metadata": {},
     "output_type": "display_data"
    }
   ],
   "source": [
    "customer_age <- as.integer(customer_age)\n",
    "customer_age"
   ]
  },
  {
   "cell_type": "markdown",
   "metadata": {
    "solution2": "shown",
    "solution2_first": true
   },
   "source": [
    "Now write the code which will discount for elderly people who are older than 65 years old."
   ]
  },
  {
   "cell_type": "code",
   "execution_count": 3,
   "metadata": {
    "solution2": "shown"
   },
   "outputs": [],
   "source": [
    "should_discount = F\n",
    "if (customer_age > 65) {\n",
    "    should_discount <- T\n",
    "}"
   ]
  },
  {
   "cell_type": "markdown",
   "metadata": {},
   "source": [
    "### Mushroom\n",
    "Lets ask customer for some mushrooms..."
   ]
  },
  {
   "cell_type": "code",
   "execution_count": 4,
   "metadata": {},
   "outputs": [
    {
     "name": "stdout",
     "output_type": "stream",
     "text": [
      "Would you like to have mushroom(yes/no): yes\n"
     ]
    },
    {
     "data": {
      "text/html": [
       "TRUE"
      ],
      "text/latex": [
       "TRUE"
      ],
      "text/markdown": [
       "TRUE"
      ],
      "text/plain": [
       "[1] TRUE"
      ]
     },
     "metadata": {},
     "output_type": "display_data"
    }
   ],
   "source": [
    "# Ask for mushroom\n",
    "wants_mushroom <- readline(prompt = \"Would you like to have mushroom(yes/no): \")\n",
    "# single liner\n",
    "wants_mushroom <- if(wants_mushroom == \"yes\") T else F\n",
    "wants_mushroom"
   ]
  },
  {
   "cell_type": "markdown",
   "metadata": {
    "solution2": "shown",
    "solution2_first": true
   },
   "source": [
    "### Pepperoni\n",
    "Now ask customer if he would like to have pepperoni and if they do how much?\n",
    "\n",
    "They can ask for either:\n",
    " - ALOT\n",
    " - some\n",
    " - little\n",
    " \n",
    "Do **NOT** forget to save this information in order to be able to calculate total cost!\n",
    "\n",
    "PS: Also, if they talk incomrehensively, assume to put _**some**_ pepperoni"
   ]
  },
  {
   "cell_type": "code",
   "execution_count": 5,
   "metadata": {
    "solution2": "shown"
   },
   "outputs": [
    {
     "name": "stdout",
     "output_type": "stream",
     "text": [
      "Would you like to have pepperoni(yes/no): yes\n",
      "How much would you like have(ALOT/some/little): not much!\n",
      "[1] \"I cannot understand what you are talking about, I will put some...\"\n"
     ]
    }
   ],
   "source": [
    "# Ask for pepperoni\n",
    "customer_answer <- readline(prompt = \"Would you like to have pepperoni(yes/no): \")\n",
    "wants_pepperoni <- if(customer_answer == \"yes\") T else F\n",
    "# Ask for pepperoni amount\n",
    "if (wants_pepperoni) {\n",
    "    pepperoni_amount <- readline(prompt = \"How much would you like have(ALOT/some/little): \")\n",
    "    if (pepperoni_amount == \"ALOT\") {\n",
    "        pepperoni_amount <- 3\n",
    "    } else if (pepperoni_amount == \"some\") {\n",
    "        pepperoni_amount <- 2\n",
    "    } else if (pepperoni_amount == \"little\") {\n",
    "        pepperoni_amount <- 1\n",
    "    } else {\n",
    "        pepperoni_amount <- 2\n",
    "        print(\"I cannot understand what you are talking about, I will put some...\")\n",
    "    }\n",
    "}"
   ]
  },
  {
   "cell_type": "markdown",
   "metadata": {
    "solution2": "shown",
    "solution2_first": true
   },
   "source": [
    "### Bread\n",
    "Now ask for what kind of bread he would like to have...\n",
    "\n",
    "They can ask for either:\n",
    " - ultra_thin\n",
    " - thin\n",
    " - normal\n",
    " - cheese\n",
    " - garlic\n"
   ]
  },
  {
   "cell_type": "code",
   "execution_count": 6,
   "metadata": {
    "solution2": "shown"
   },
   "outputs": [
    {
     "name": "stdout",
     "output_type": "stream",
     "text": [
      "What kind of bread would you like(ultra_thin/thin/normal/cheese/garlic): cheese\n"
     ]
    },
    {
     "data": {
      "text/html": [
       "4"
      ],
      "text/latex": [
       "4"
      ],
      "text/markdown": [
       "4"
      ],
      "text/plain": [
       "[1] 4"
      ]
     },
     "metadata": {},
     "output_type": "display_data"
    }
   ],
   "source": [
    "# Ask for bread\n",
    "bread_type <- readline(prompt = \"What kind of bread would you like(ultra_thin/thin/normal/cheese/garlic): \")\n",
    "bread_types <- c(\"ultra_thin\", \"thin\", \"normal\", \"cheese\", \"garlic\")\n",
    "bread_type <- match(bread_type, bread_types)\n",
    "\n",
    "if (is.na(bread_type)) {\n",
    "    bread_type <- 3\n",
    "}\n",
    "bread_type"
   ]
  },
  {
   "cell_type": "markdown",
   "metadata": {
    "solution2": "shown",
    "solution2_first": true
   },
   "source": [
    "### Calculate the prize\n",
    "Calculate the price of the pizza\n",
    "\n",
    " - Baking pizza costs 6\\$\n",
    " - Mashrooms for 2\\$\n",
    " - Pepperoni\n",
    "  - ALOT for 6\\$\n",
    "  - some for 4\\$\n",
    "  - little for 2$\n",
    " - Breads are for\n",
    "  - ultra_thin for 3\\$\n",
    "  - thin 2\\$\n",
    "  - normal 0\\$\n",
    "  - cheese 4\\$\n",
    "  - garlic 3\\$\n",
    "  \n",
    "and print the prize."
   ]
  },
  {
   "cell_type": "code",
   "execution_count": 7,
   "metadata": {
    "solution2": "shown"
   },
   "outputs": [
    {
     "name": "stdout",
     "output_type": "stream",
     "text": [
      "Your pizza costs 16 $"
     ]
    }
   ],
   "source": [
    "# Cost of making pizza\n",
    "pizza_prize <- 6\n",
    "\n",
    "# Add mushroom prize\n",
    "if (wants_mushroom) {\n",
    "    pizza_prize <- pizza_prize + 2\n",
    "}\n",
    "\n",
    "# Add pepperoni prize\n",
    "pepperoni_prizes <- c(6, 4, 2)\n",
    "if (wants_pepperoni) {\n",
    "    pizza_prize <- pizza_prize + pepperoni_prizes[pepperoni_amount]\n",
    "}\n",
    "\n",
    "# Add bread prize\n",
    "bread_prizes <- c(3, 2, 0, 4, 3)\n",
    "pizza_prize <- pizza_prize + bread_prizes[bread_type]\n",
    "\n",
    "# Make discount if necessary\n",
    "if (should_discount) {\n",
    "    pizza_prize <- pizza_prize * 0.8\n",
    "}\n",
    "\n",
    "# Print the cost\n",
    "cat(\"Your pizza costs\", pizza_prize, \"$\")"
   ]
  }
 ],
 "metadata": {
  "kernelspec": {
   "display_name": "R",
   "language": "R",
   "name": "ir"
  },
  "language_info": {
   "codemirror_mode": "r",
   "file_extension": ".r",
   "mimetype": "text/x-r-source",
   "name": "R",
   "pygments_lexer": "r",
   "version": "3.4.3"
  }
 },
 "nbformat": 4,
 "nbformat_minor": 2
}
