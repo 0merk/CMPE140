{
 "cells": [
  {
   "cell_type": "markdown",
   "metadata": {},
   "source": [
    "# FUNCTIONS"
   ]
  },
  {
   "cell_type": "markdown",
   "metadata": {},
   "source": [
    "Thanks to r development team, we have many useful functions that are promptly available.\n",
    "\n",
    "But what if we want to do sth new and untapped by the existing functions?\n",
    "\n",
    "Write your own one..."
   ]
  },
  {
   "cell_type": "markdown",
   "metadata": {},
   "source": [
    "Now, write a simple function that takes a single value and adds 3 to that value"
   ]
  },
  {
   "cell_type": "code",
   "execution_count": 3,
   "metadata": {
    "collapsed": true
   },
   "outputs": [],
   "source": [
    "add3 <- function(input)\n",
    "{\n",
    "    input + 3\n",
    "}"
   ]
  },
  {
   "cell_type": "markdown",
   "metadata": {},
   "source": [
    "The \"input\" is the argument to the function. It can be any legal object name, and any number of arguments can be \"passed\" to the function\n",
    "\n",
    "Note that although you can create one-liner functions w/o curly braces, you need them for multi-line ones\n",
    "\n",
    "Run that function for let's say 10"
   ]
  },
  {
   "cell_type": "code",
   "execution_count": 4,
   "metadata": {},
   "outputs": [
    {
     "data": {
      "text/html": [
       "13"
      ],
      "text/latex": [
       "13"
      ],
      "text/markdown": [
       "13"
      ],
      "text/plain": [
       "[1] 13"
      ]
     },
     "metadata": {},
     "output_type": "display_data"
    }
   ],
   "source": [
    "add3(10)"
   ]
  },
  {
   "cell_type": "markdown",
   "metadata": {},
   "source": [
    "Now write a similar function that first adds 3 and then multiplies the result with an arbitrary number between 1 and 10, and execute the function with 10 as input"
   ]
  },
  {
   "cell_type": "code",
   "execution_count": 7,
   "metadata": {
    "collapsed": true
   },
   "outputs": [],
   "source": [
    "add3b <- function(input)\n",
    "{\n",
    "    output <- input + 3\n",
    "    rand_num <- sample(10, 1)\n",
    "    result <- output * rand_num\n",
    "    return(result)\n",
    "}"
   ]
  },
  {
   "cell_type": "code",
   "execution_count": 8,
   "metadata": {},
   "outputs": [
    {
     "data": {
      "text/html": [
       "130"
      ],
      "text/latex": [
       "130"
      ],
      "text/markdown": [
       "130"
      ],
      "text/plain": [
       "[1] 130"
      ]
     },
     "metadata": {},
     "output_type": "display_data"
    }
   ],
   "source": [
    "add3b(10)"
   ]
  },
  {
   "cell_type": "markdown",
   "metadata": {},
   "source": [
    "It is good practice to save intermediary steps into new objects and tell the function which object to return explicitly in the last line"
   ]
  },
  {
   "cell_type": "markdown",
   "metadata": {},
   "source": [
    "Now put two new lines after return: Get x1000 the result and return it again"
   ]
  },
  {
   "cell_type": "code",
   "execution_count": 13,
   "metadata": {
    "collapsed": true
   },
   "outputs": [],
   "source": [
    "add3c <- function(input)\n",
    "{\n",
    "    output <- input + 3\n",
    "    rand_num <- sample(10, 1)\n",
    "    result <- output * rand_num\n",
    "    return(result)\n",
    "    result <- 1000 * result\n",
    "    return(result)\n",
    "}"
   ]
  },
  {
   "cell_type": "code",
   "execution_count": 14,
   "metadata": {},
   "outputs": [
    {
     "data": {
      "text/html": [
       "65"
      ],
      "text/latex": [
       "65"
      ],
      "text/markdown": [
       "65"
      ],
      "text/plain": [
       "[1] 65"
      ]
     },
     "metadata": {},
     "output_type": "display_data"
    }
   ],
   "source": [
    "add3c(10)"
   ]
  },
  {
   "cell_type": "markdown",
   "metadata": {},
   "source": [
    "See, the execution stops at the first \"return\" line that R encounters, no further lines are interpreted in the function.\n",
    "\n",
    "**So only the first \"return\" line that R interpreter encounters is executed and function stops there**"
   ]
  },
  {
   "cell_type": "markdown",
   "metadata": {},
   "source": [
    "Now return the result and the rand_num together"
   ]
  },
  {
   "cell_type": "code",
   "execution_count": 3,
   "metadata": {
    "collapsed": true
   },
   "outputs": [],
   "source": [
    "add3d <- function(input)\n",
    "{\n",
    "    output <- input + 3\n",
    "    rand_num <- sample(10, 1)\n",
    "    result <- output * rand_num\n",
    "    return(result, rand_num)\n",
    "}"
   ]
  },
  {
   "cell_type": "code",
   "execution_count": 4,
   "metadata": {},
   "outputs": [
    {
     "ename": "ERROR",
     "evalue": "Error in return(result, rand_num): multi-argument returns are not permitted\n",
     "output_type": "error",
     "traceback": [
      "Error in return(result, rand_num): multi-argument returns are not permitted\nTraceback:\n",
      "1. add3d(10)"
     ]
    }
   ],
   "source": [
    "add3d(10)"
   ]
  },
  {
   "cell_type": "markdown",
   "metadata": {},
   "source": [
    "Why did it happen? Only one return line is executed and it can return only ONE object\n",
    "\n",
    "So how can we get both the result and the rand_num?"
   ]
  },
  {
   "cell_type": "code",
   "execution_count": 5,
   "metadata": {
    "collapsed": true
   },
   "outputs": [],
   "source": [
    "add3e <- function(input)\n",
    "{\n",
    "    output <- input + 3\n",
    "    rand_num <- sample(10, 1)\n",
    "    result <- output * rand_num\n",
    "    return(c(result, rand_num))\n",
    "}"
   ]
  },
  {
   "cell_type": "code",
   "execution_count": 6,
   "metadata": {},
   "outputs": [
    {
     "data": {
      "text/html": [
       "<ol class=list-inline>\n",
       "\t<li>65</li>\n",
       "\t<li>5</li>\n",
       "</ol>\n"
      ],
      "text/latex": [
       "\\begin{enumerate*}\n",
       "\\item 65\n",
       "\\item 5\n",
       "\\end{enumerate*}\n"
      ],
      "text/markdown": [
       "1. 65\n",
       "2. 5\n",
       "\n",
       "\n"
      ],
      "text/plain": [
       "[1] 65  5"
      ]
     },
     "metadata": {},
     "output_type": "display_data"
    }
   ],
   "source": [
    "add3e(10)"
   ]
  },
  {
   "cell_type": "markdown",
   "metadata": {},
   "source": [
    "Well, then make into a single object by \"c\" function!"
   ]
  },
  {
   "cell_type": "markdown",
   "metadata": {},
   "source": [
    "Now check the contents of add3e, output and rand_num"
   ]
  },
  {
   "cell_type": "code",
   "execution_count": 7,
   "metadata": {},
   "outputs": [
    {
     "data": {
      "text/html": [
       "<pre class=language-r><code>function (input) \n",
       "{\n",
       "<span style=white-space:pre-wrap>    output &lt;- input + 3</span>\n",
       "<span style=white-space:pre-wrap>    rand_num &lt;- sample(10, 1)</span>\n",
       "<span style=white-space:pre-wrap>    result &lt;- output * rand_num</span>\n",
       "<span style=white-space:pre-wrap>    return(c(result, rand_num))</span>\n",
       "}</code></pre>"
      ],
      "text/latex": [
       "\\begin{minted}{r}\n",
       "function (input) \n",
       "\\{\n",
       "    output <- input + 3\n",
       "    rand\\_num <- sample(10, 1)\n",
       "    result <- output * rand\\_num\n",
       "    return(c(result, rand\\_num))\n",
       "\\}\n",
       "\\end{minted}"
      ],
      "text/markdown": [
       "```r\n",
       "function (input) \n",
       "{\n",
       "    output <- input + 3\n",
       "    rand_num <- sample(10, 1)\n",
       "    result <- output * rand_num\n",
       "    return(c(result, rand_num))\n",
       "}\n",
       "```"
      ],
      "text/plain": [
       "function(input)\n",
       "{\n",
       "    output <- input + 3\n",
       "    rand_num <- sample(10, 1)\n",
       "    result <- output * rand_num\n",
       "    return(c(result, rand_num))\n",
       "}"
      ]
     },
     "metadata": {},
     "output_type": "display_data"
    }
   ],
   "source": [
    "add3e"
   ]
  },
  {
   "cell_type": "code",
   "execution_count": 8,
   "metadata": {},
   "outputs": [
    {
     "ename": "ERROR",
     "evalue": "Error in eval(expr, envir, enclos): object 'output' not found\n",
     "output_type": "error",
     "traceback": [
      "Error in eval(expr, envir, enclos): object 'output' not found\nTraceback:\n"
     ]
    }
   ],
   "source": [
    "output"
   ]
  },
  {
   "cell_type": "code",
   "execution_count": 9,
   "metadata": {},
   "outputs": [
    {
     "ename": "ERROR",
     "evalue": "Error in eval(expr, envir, enclos): object 'rand_num' not found\n",
     "output_type": "error",
     "traceback": [
      "Error in eval(expr, envir, enclos): object 'rand_num' not found\nTraceback:\n"
     ]
    }
   ],
   "source": [
    "rand_num"
   ]
  },
  {
   "cell_type": "markdown",
   "metadata": {},
   "source": [
    "We see there is the function add3e with its code but output and rand_num do not exist, why???"
   ]
  },
  {
   "cell_type": "markdown",
   "metadata": {},
   "source": [
    "Because they only exist in the scope of the function that they were defined.\n",
    "\n",
    "They do not exist outside the function\n",
    "\n",
    "They are created when the function is executed and deleted when the execution stops"
   ]
  },
  {
   "cell_type": "markdown",
   "metadata": {},
   "source": [
    "Now first create an object named output with a value 1e6 (shorthand for one million in scientific notation)\n",
    "\n",
    "Then run the function again and see the content of output"
   ]
  },
  {
   "cell_type": "code",
   "execution_count": 10,
   "metadata": {},
   "outputs": [
    {
     "data": {
      "text/html": [
       "<ol class=list-inline>\n",
       "\t<li>39</li>\n",
       "\t<li>3</li>\n",
       "</ol>\n"
      ],
      "text/latex": [
       "\\begin{enumerate*}\n",
       "\\item 39\n",
       "\\item 3\n",
       "\\end{enumerate*}\n"
      ],
      "text/markdown": [
       "1. 39\n",
       "2. 3\n",
       "\n",
       "\n"
      ],
      "text/plain": [
       "[1] 39  3"
      ]
     },
     "metadata": {},
     "output_type": "display_data"
    },
    {
     "data": {
      "text/html": [
       "1e+06"
      ],
      "text/latex": [
       "1e+06"
      ],
      "text/markdown": [
       "1e+06"
      ],
      "text/plain": [
       "[1] 1e+06"
      ]
     },
     "metadata": {},
     "output_type": "display_data"
    }
   ],
   "source": [
    "output <- 1e6\n",
    "add3e(10)\n",
    "output"
   ]
  },
  {
   "cell_type": "markdown",
   "metadata": {},
   "source": [
    "Although we provided a large value for output, it was disregarded inside the function which also had an output object, then we see that output still exists after the function was executed and with the original value we provided"
   ]
  },
  {
   "cell_type": "markdown",
   "metadata": {},
   "source": [
    "Objects with the same names can exist in different scopes - called environments - that do not interfere with each other.\n",
    "\n",
    "For the time being, just now that the objects created inside a function only exist there. And the objects created inside a function do not modify the objects created outside the function and with the same name"
   ]
  },
  {
   "cell_type": "markdown",
   "metadata": {},
   "source": [
    "Now provide a default value to argument input as 10, and run the function again without any arguments supplied"
   ]
  },
  {
   "cell_type": "code",
   "execution_count": 11,
   "metadata": {
    "collapsed": true
   },
   "outputs": [],
   "source": [
    "add3f <- function(input = 10)\n",
    "{\n",
    "    output <- input + 3\n",
    "    rand_num <- sample(10, 1)\n",
    "    result <- output * rand_num\n",
    "    return(c(result, rand_num))\n",
    "}"
   ]
  },
  {
   "cell_type": "code",
   "execution_count": 12,
   "metadata": {},
   "outputs": [
    {
     "data": {
      "text/html": [
       "<ol class=list-inline>\n",
       "\t<li>65</li>\n",
       "\t<li>5</li>\n",
       "</ol>\n"
      ],
      "text/latex": [
       "\\begin{enumerate*}\n",
       "\\item 65\n",
       "\\item 5\n",
       "\\end{enumerate*}\n"
      ],
      "text/markdown": [
       "1. 65\n",
       "2. 5\n",
       "\n",
       "\n"
      ],
      "text/plain": [
       "[1] 65  5"
      ]
     },
     "metadata": {},
     "output_type": "display_data"
    }
   ],
   "source": [
    "add3f()"
   ]
  },
  {
   "cell_type": "markdown",
   "metadata": {},
   "source": [
    "See, when you provide a default value to a function, that value is assumed when you don't pass a value explicitly"
   ]
  },
  {
   "cell_type": "markdown",
   "metadata": {},
   "source": [
    "Now, make the \"10\" in sample a second argument that you can change, and provide \"10\" as the default value"
   ]
  },
  {
   "cell_type": "code",
   "execution_count": 23,
   "metadata": {
    "collapsed": true
   },
   "outputs": [],
   "source": [
    "add3f <- function(input = 10, sample_max = 10)\n",
    "{\n",
    "    output <- input + 3\n",
    "    rand_num <- sample(sample_max, 1)\n",
    "    result <- output * rand_num\n",
    "    return(c(result, rand_num))\n",
    "}"
   ]
  },
  {
   "cell_type": "markdown",
   "metadata": {},
   "source": [
    "Note that, we do not quote the parameter names, just as we do not quote created object names\n",
    "\n",
    "And note we use \"=\" sign to provide default values to arguments, not \"<-\" assignment operator"
   ]
  },
  {
   "cell_type": "markdown",
   "metadata": {},
   "source": [
    "Now run the function w/o any arguments passed"
   ]
  },
  {
   "cell_type": "code",
   "execution_count": 24,
   "metadata": {},
   "outputs": [
    {
     "data": {
      "text/html": [
       "<ol class=list-inline>\n",
       "\t<li>117</li>\n",
       "\t<li>9</li>\n",
       "</ol>\n"
      ],
      "text/latex": [
       "\\begin{enumerate*}\n",
       "\\item 117\n",
       "\\item 9\n",
       "\\end{enumerate*}\n"
      ],
      "text/markdown": [
       "1. 117\n",
       "2. 9\n",
       "\n",
       "\n"
      ],
      "text/plain": [
       "[1] 117   9"
      ]
     },
     "metadata": {},
     "output_type": "display_data"
    }
   ],
   "source": [
    "add3f()"
   ]
  },
  {
   "cell_type": "markdown",
   "metadata": {},
   "source": [
    "Now provide 12 to the first argument"
   ]
  },
  {
   "cell_type": "code",
   "execution_count": 25,
   "metadata": {},
   "outputs": [
    {
     "data": {
      "text/html": [
       "<ol class=list-inline>\n",
       "\t<li>90</li>\n",
       "\t<li>6</li>\n",
       "</ol>\n"
      ],
      "text/latex": [
       "\\begin{enumerate*}\n",
       "\\item 90\n",
       "\\item 6\n",
       "\\end{enumerate*}\n"
      ],
      "text/markdown": [
       "1. 90\n",
       "2. 6\n",
       "\n",
       "\n"
      ],
      "text/plain": [
       "[1] 90  6"
      ]
     },
     "metadata": {},
     "output_type": "display_data"
    }
   ],
   "source": [
    "add3f(12)"
   ]
  },
  {
   "cell_type": "code",
   "execution_count": 17,
   "metadata": {},
   "outputs": [
    {
     "data": {
      "text/html": [
       "<ol class=list-inline>\n",
       "\t<li>15</li>\n",
       "\t<li>1</li>\n",
       "</ol>\n"
      ],
      "text/latex": [
       "\\begin{enumerate*}\n",
       "\\item 15\n",
       "\\item 1\n",
       "\\end{enumerate*}\n"
      ],
      "text/markdown": [
       "1. 15\n",
       "2. 1\n",
       "\n",
       "\n"
      ],
      "text/plain": [
       "[1] 15  1"
      ]
     },
     "metadata": {},
     "output_type": "display_data"
    }
   ],
   "source": [
    "add3f(12,)"
   ]
  },
  {
   "cell_type": "code",
   "execution_count": 18,
   "metadata": {},
   "outputs": [
    {
     "data": {
      "text/html": [
       "<ol class=list-inline>\n",
       "\t<li>135</li>\n",
       "\t<li>9</li>\n",
       "</ol>\n"
      ],
      "text/latex": [
       "\\begin{enumerate*}\n",
       "\\item 135\n",
       "\\item 9\n",
       "\\end{enumerate*}\n"
      ],
      "text/markdown": [
       "1. 135\n",
       "2. 9\n",
       "\n",
       "\n"
      ],
      "text/plain": [
       "[1] 135   9"
      ]
     },
     "metadata": {},
     "output_type": "display_data"
    }
   ],
   "source": [
    "add3f(input=12)"
   ]
  },
  {
   "cell_type": "markdown",
   "metadata": {},
   "source": [
    "They are all accepted"
   ]
  },
  {
   "cell_type": "markdown",
   "metadata": {},
   "source": [
    "Now provide 20 to the second argument"
   ]
  },
  {
   "cell_type": "code",
   "execution_count": 19,
   "metadata": {},
   "outputs": [
    {
     "data": {
      "text/html": [
       "<ol class=list-inline>\n",
       "\t<li>156</li>\n",
       "\t<li>12</li>\n",
       "</ol>\n"
      ],
      "text/latex": [
       "\\begin{enumerate*}\n",
       "\\item 156\n",
       "\\item 12\n",
       "\\end{enumerate*}\n"
      ],
      "text/markdown": [
       "1. 156\n",
       "2. 12\n",
       "\n",
       "\n"
      ],
      "text/plain": [
       "[1] 156  12"
      ]
     },
     "metadata": {},
     "output_type": "display_data"
    }
   ],
   "source": [
    "add3f(,20)"
   ]
  },
  {
   "cell_type": "code",
   "execution_count": 20,
   "metadata": {},
   "outputs": [
    {
     "data": {
      "text/html": [
       "<ol class=list-inline>\n",
       "\t<li>78</li>\n",
       "\t<li>6</li>\n",
       "</ol>\n"
      ],
      "text/latex": [
       "\\begin{enumerate*}\n",
       "\\item 78\n",
       "\\item 6\n",
       "\\end{enumerate*}\n"
      ],
      "text/markdown": [
       "1. 78\n",
       "2. 6\n",
       "\n",
       "\n"
      ],
      "text/plain": [
       "[1] 78  6"
      ]
     },
     "metadata": {},
     "output_type": "display_data"
    }
   ],
   "source": [
    "add3f(sample_max = 20)"
   ]
  },
  {
   "cell_type": "markdown",
   "metadata": {},
   "source": [
    "Now provide 30 to the first and 50 to the second argument"
   ]
  },
  {
   "cell_type": "code",
   "execution_count": 21,
   "metadata": {},
   "outputs": [
    {
     "data": {
      "text/html": [
       "<ol class=list-inline>\n",
       "\t<li>726</li>\n",
       "\t<li>22</li>\n",
       "</ol>\n"
      ],
      "text/latex": [
       "\\begin{enumerate*}\n",
       "\\item 726\n",
       "\\item 22\n",
       "\\end{enumerate*}\n"
      ],
      "text/markdown": [
       "1. 726\n",
       "2. 22\n",
       "\n",
       "\n"
      ],
      "text/plain": [
       "[1] 726  22"
      ]
     },
     "metadata": {},
     "output_type": "display_data"
    }
   ],
   "source": [
    "add3f(30, 50)"
   ]
  },
  {
   "cell_type": "code",
   "execution_count": 22,
   "metadata": {},
   "outputs": [
    {
     "data": {
      "text/html": [
       "<ol class=list-inline>\n",
       "\t<li>132</li>\n",
       "\t<li>4</li>\n",
       "</ol>\n"
      ],
      "text/latex": [
       "\\begin{enumerate*}\n",
       "\\item 132\n",
       "\\item 4\n",
       "\\end{enumerate*}\n"
      ],
      "text/markdown": [
       "1. 132\n",
       "2. 4\n",
       "\n",
       "\n"
      ],
      "text/plain": [
       "[1] 132   4"
      ]
     },
     "metadata": {},
     "output_type": "display_data"
    }
   ],
   "source": [
    "add3f(input = 30, sample_max = 50)"
   ]
  },
  {
   "cell_type": "markdown",
   "metadata": {},
   "source": [
    "Now provide the arguments in reverse order"
   ]
  },
  {
   "cell_type": "code",
   "execution_count": null,
   "metadata": {
    "collapsed": true
   },
   "outputs": [],
   "source": [
    "add3f(sample_max = 50, input = 30)"
   ]
  },
  {
   "cell_type": "markdown",
   "metadata": {},
   "source": [
    "When arguments are passed by their names order is not important\n",
    "\n",
    "If the names are not provided, order is important, and any skipped arguments should be delimited by commas if they are followed by any arguments for which we pass a value\n",
    "\n",
    "See: To skip the second one, comma was not necessary:\n",
    "\n",
    "add3f(10)\n",
    "\n",
    "To skip the first one, comma is necessary:\n",
    "\n",
    "add3f(,20)"
   ]
  },
  {
   "cell_type": "markdown",
   "metadata": {},
   "source": [
    "IT IS GOOD PRACTICE TO PASS ARGUMENTS BY NAME AS MUCH AS POSSIBLE TO MAKE YOUR CODE MORE COMPREHENSIVE AND READABLE\n",
    "\n",
    "AND PROVIDE SELF-EXPLANATORY ARGUMENT NAMES - JUST LIKE WE RECOMMENDED FOR THE OBJECT NAMES"
   ]
  },
  {
   "cell_type": "markdown",
   "metadata": {},
   "source": [
    "Now let's write comments to the function, so a newcomer can easily understand what it is meant for:"
   ]
  },
  {
   "cell_type": "code",
   "execution_count": null,
   "metadata": {
    "collapsed": true
   },
   "outputs": [],
   "source": [
    "# add 3 to input, create an arbitrary number <= sample_max and multiply them\n",
    "add3f <- function(input = 10, sample_max = 10)\n",
    "{\n",
    "    output <- input + 3 # add 3 to input\n",
    "    rand_num <- sample(sample_max, 1) # get a single random number between 1 and sample_max\n",
    "    result <- output * rand_num # multiply output and the rand_num\n",
    "    return(c(result, rand_num)) # return the result and rand_num\n",
    "}"
   ]
  },
  {
   "cell_type": "markdown",
   "metadata": {},
   "source": [
    "The curly braces can be combined with the previous or next lines provided they stay between those lines\n",
    "\n",
    "Like:\n",
    "\n",
    "add3f <- function(input = 10, sample_max = 10) {\n",
    "\n",
    "    output <- input + 3\n",
    "\n",
    "add3f <- function(input = 10, sample_max = 10)\n",
    "\n",
    "    { output <- input + 3\n",
    "    \n",
    "\n",
    "However it is good practice to keep them separate in another line:\n",
    "\n",
    "Note that, some advanced text editors (like vim) can automatically detect curly braces as blocks and with some tools/extensions easily fold/unfold them to your liking with simple commands, so you can better arrange/view/edit longer codes"
   ]
  },
  {
   "cell_type": "markdown",
   "metadata": {},
   "source": [
    "Indents in R are not obligatory and they do not alter how the code is interpreted unlike Python in which indents are crucial for how the blocks are interpreted\n",
    "\n",
    "However good indentation is critical for code readability and editability"
   ]
  },
  {
   "cell_type": "markdown",
   "metadata": {},
   "source": [
    "Now create a function which takes a matrix, a vector and a single value as arguments\n",
    "\n",
    "Adds the matrix and vector\n",
    "\n",
    "And multiplies with the single value\n",
    "\n",
    "Let the default values be mat_4a, 1:4 and 2\n",
    "\n",
    "And run it with default values ...\n",
    "\n",
    "Note that function names must be explanatory (at least to you) just as other objects names should be"
   ]
  },
  {
   "cell_type": "markdown",
   "metadata": {},
   "source": [
    "# Exercise 1"
   ]
  },
  {
   "cell_type": "markdown",
   "metadata": {},
   "source": [
    "Create a function that will return the sum of 2 integers."
   ]
  },
  {
   "cell_type": "code",
   "execution_count": 30,
   "metadata": {},
   "outputs": [
    {
     "data": {
      "text/html": [
       "7"
      ],
      "text/latex": [
       "7"
      ],
      "text/markdown": [
       "7"
      ],
      "text/plain": [
       "[1] 7"
      ]
     },
     "metadata": {},
     "output_type": "display_data"
    }
   ],
   "source": [
    "func_sum <- function(x,y){\n",
    "  r <- x+y\n",
    "  return(r)\n",
    "}\n",
    "func_sum(3,4)"
   ]
  },
  {
   "cell_type": "markdown",
   "metadata": {},
   "source": [
    "# Exercise 2"
   ]
  },
  {
   "cell_type": "markdown",
   "metadata": {},
   "source": [
    " Create a function to print class of an argument"
   ]
  },
  {
   "cell_type": "code",
   "execution_count": 31,
   "metadata": {},
   "outputs": [
    {
     "data": {
      "text/html": [
       "'numeric'"
      ],
      "text/latex": [
       "'numeric'"
      ],
      "text/markdown": [
       "'numeric'"
      ],
      "text/plain": [
       "[1] \"numeric\""
      ]
     },
     "metadata": {},
     "output_type": "display_data"
    }
   ],
   "source": [
    "Class.Finder<-function(arg){\n",
    "  return(class(arg))\n",
    "}\n",
    "\n",
    "value<-c(1,2,3,4,5)\n",
    "Class.Finder(value)"
   ]
  },
  {
   "cell_type": "markdown",
   "metadata": {},
   "source": [
    "# Exercise 3"
   ]
  },
  {
   "cell_type": "markdown",
   "metadata": {},
   "source": [
    "Create a user defined function to accept a name from the user"
   ]
  },
  {
   "cell_type": "code",
   "execution_count": 1,
   "metadata": {
    "collapsed": true
   },
   "outputs": [],
   "source": [
    "userread <- function()\n",
    "{\n",
    "  str <- readline(prompt=\"Enter the Name: \")\n",
    "  return(as.character(str))\n",
    "}"
   ]
  },
  {
   "cell_type": "code",
   "execution_count": 2,
   "metadata": {},
   "outputs": [
    {
     "name": "stdout",
     "output_type": "stream",
     "text": [
      "Enter the Name: merve\n"
     ]
    },
    {
     "data": {
      "text/html": [
       "'merve'"
      ],
      "text/latex": [
       "'merve'"
      ],
      "text/markdown": [
       "'merve'"
      ],
      "text/plain": [
       "[1] \"merve\""
      ]
     },
     "metadata": {},
     "output_type": "display_data"
    }
   ],
   "source": [
    "userread()"
   ]
  },
  {
   "cell_type": "markdown",
   "metadata": {},
   "source": [
    "# Exercise 4"
   ]
  },
  {
   "cell_type": "markdown",
   "metadata": {},
   "source": [
    "Create a function that given a vector and an integer will return how many times the integer appears inside the vector."
   ]
  },
  {
   "cell_type": "code",
   "execution_count": 5,
   "metadata": {},
   "outputs": [
    {
     "data": {
      "text/html": [
       "100"
      ],
      "text/latex": [
       "100"
      ],
      "text/markdown": [
       "100"
      ],
      "text/plain": [
       "[1] 100"
      ]
     },
     "metadata": {},
     "output_type": "display_data"
    }
   ],
   "source": [
    "f.count <- function (v, x) {\n",
    "  count <- 0\n",
    "  \n",
    "  for (i in 1:length(v)) {\n",
    "    if (v[i] == x) {\n",
    "      count <- count + 1\n",
    "    }\n",
    "  }\n",
    "  count\n",
    "}\n",
    "f.count(c(1:9, rep(10, 100)), 10)"
   ]
  },
  {
   "cell_type": "markdown",
   "metadata": {},
   "source": [
    "# Exercise 5"
   ]
  },
  {
   "cell_type": "markdown",
   "metadata": {},
   "source": [
    "Create a function that given an integer will calculate how many divisors it has (other than 1 and itself).\n",
    "Make the divisors appear by screen."
   ]
  },
  {
   "cell_type": "code",
   "execution_count": 6,
   "metadata": {},
   "outputs": [],
   "source": [
    "f.div <- function(n) {\n",
    "  i <- 2\n",
    "  counter <- 0\n",
    "  \n",
    "  while(i <= n/2) {\n",
    "    if(n%%i==0) {\n",
    "      counter <- counter + 1\n",
    "      cat (i ,\"\\n\")\n",
    "    }\n",
    "    i <- i + 1\n",
    "  }\n",
    "  counter\n",
    "}"
   ]
  },
  {
   "cell_type": "code",
   "execution_count": 7,
   "metadata": {},
   "outputs": [
    {
     "data": {
      "text/html": [
       "0"
      ],
      "text/latex": [
       "0"
      ],
      "text/markdown": [
       "0"
      ],
      "text/plain": [
       "[1] 0"
      ]
     },
     "metadata": {},
     "output_type": "display_data"
    }
   ],
   "source": [
    "f.div(13)"
   ]
  },
  {
   "cell_type": "code",
   "execution_count": 8,
   "metadata": {},
   "outputs": [
    {
     "name": "stdout",
     "output_type": "stream",
     "text": [
      "2 \n",
      "4 \n",
      "8 \n"
     ]
    },
    {
     "data": {
      "text/html": [
       "3"
      ],
      "text/latex": [
       "3"
      ],
      "text/markdown": [
       "3"
      ],
      "text/plain": [
       "[1] 3"
      ]
     },
     "metadata": {},
     "output_type": "display_data"
    }
   ],
   "source": [
    "f.div(16)"
   ]
  },
  {
   "cell_type": "markdown",
   "metadata": {},
   "source": [
    "# Exercise 6"
   ]
  },
  {
   "cell_type": "markdown",
   "metadata": {},
   "source": [
    "Create a function that given a vector will print by screen the mean and the standard deviation,\n",
    "it will optionally also print the median."
   ]
  },
  {
   "cell_type": "code",
   "execution_count": 41,
   "metadata": {},
   "outputs": [
    {
     "name": "stdout",
     "output_type": "stream",
     "text": [
      "Mean is: 5.5 , SD is: 3 \n",
      "Median is: 5.5 \n"
     ]
    }
   ],
   "source": [
    "desi <- function(x, med=FALSE) {\n",
    "  \n",
    "  mean <- round(mean(x), 1)\n",
    "  stdv <- round(sd(x), 1)\n",
    "  cat(\"Mean is:\", mean, \", SD is:\", stdv, \"\\n\")\n",
    "  \n",
    "  if(med) {\n",
    "    median <- median(x)\n",
    "    cat(\"Median is:\", median , \"\\n\")\n",
    "  }\n",
    "}\n",
    "desi(1:10, med=TRUE)\n"
   ]
  },
  {
   "cell_type": "markdown",
   "metadata": {},
   "source": [
    "# Exercise 7"
   ]
  },
  {
   "cell_type": "markdown",
   "metadata": {},
   "source": [
    "Create a function that given a data frame, and a number or character will return the data frame with the character or number changed to NA."
   ]
  },
  {
   "cell_type": "code",
   "execution_count": 42,
   "metadata": {},
   "outputs": [
    {
     "data": {
      "text/html": [
       "<table>\n",
       "<thead><tr><th scope=col>speed</th><th scope=col>dist</th></tr></thead>\n",
       "<tbody>\n",
       "\t<tr><td> 4 </td><td>  2</td></tr>\n",
       "\t<tr><td> 4 </td><td> 10</td></tr>\n",
       "\t<tr><td> 7 </td><td>  4</td></tr>\n",
       "\t<tr><td> 7 </td><td> 22</td></tr>\n",
       "\t<tr><td> 8 </td><td> 16</td></tr>\n",
       "\t<tr><td> 9 </td><td> 10</td></tr>\n",
       "\t<tr><td>10 </td><td> 18</td></tr>\n",
       "\t<tr><td>10 </td><td> 26</td></tr>\n",
       "\t<tr><td>10 </td><td> 34</td></tr>\n",
       "\t<tr><td>11 </td><td> 17</td></tr>\n",
       "\t<tr><td>11 </td><td> 28</td></tr>\n",
       "\t<tr><td>12 </td><td> 14</td></tr>\n",
       "\t<tr><td>12 </td><td> 20</td></tr>\n",
       "\t<tr><td>12 </td><td> 24</td></tr>\n",
       "\t<tr><td>12 </td><td> 28</td></tr>\n",
       "\t<tr><td>13 </td><td> 26</td></tr>\n",
       "\t<tr><td>13 </td><td> 34</td></tr>\n",
       "\t<tr><td>13 </td><td> 34</td></tr>\n",
       "\t<tr><td>13 </td><td> 46</td></tr>\n",
       "\t<tr><td>14 </td><td> 26</td></tr>\n",
       "\t<tr><td>14 </td><td> 36</td></tr>\n",
       "\t<tr><td>14 </td><td> 60</td></tr>\n",
       "\t<tr><td>14 </td><td> 80</td></tr>\n",
       "\t<tr><td>15 </td><td> 20</td></tr>\n",
       "\t<tr><td>15 </td><td> 26</td></tr>\n",
       "\t<tr><td>15 </td><td> 54</td></tr>\n",
       "\t<tr><td>16 </td><td> 32</td></tr>\n",
       "\t<tr><td>16 </td><td> 40</td></tr>\n",
       "\t<tr><td>17 </td><td> 32</td></tr>\n",
       "\t<tr><td>17 </td><td> 40</td></tr>\n",
       "\t<tr><td>17 </td><td> 50</td></tr>\n",
       "\t<tr><td>18 </td><td> 42</td></tr>\n",
       "\t<tr><td>18 </td><td> 56</td></tr>\n",
       "\t<tr><td>18 </td><td> 76</td></tr>\n",
       "\t<tr><td>18 </td><td> 84</td></tr>\n",
       "\t<tr><td>19 </td><td> 36</td></tr>\n",
       "\t<tr><td>19 </td><td> 46</td></tr>\n",
       "\t<tr><td>19 </td><td> 68</td></tr>\n",
       "\t<tr><td>20 </td><td> 32</td></tr>\n",
       "\t<tr><td>20 </td><td> 48</td></tr>\n",
       "\t<tr><td>20 </td><td> 52</td></tr>\n",
       "\t<tr><td>20 </td><td> 56</td></tr>\n",
       "\t<tr><td>20 </td><td> 64</td></tr>\n",
       "\t<tr><td>22 </td><td> 66</td></tr>\n",
       "\t<tr><td>23 </td><td> 54</td></tr>\n",
       "\t<tr><td>24 </td><td> 70</td></tr>\n",
       "\t<tr><td>24 </td><td> 92</td></tr>\n",
       "\t<tr><td>24 </td><td> 93</td></tr>\n",
       "\t<tr><td>24 </td><td>120</td></tr>\n",
       "\t<tr><td>25 </td><td> 85</td></tr>\n",
       "</tbody>\n",
       "</table>\n"
      ],
      "text/latex": [
       "\\begin{tabular}{r|ll}\n",
       " speed & dist\\\\\n",
       "\\hline\n",
       "\t  4  &   2\\\\\n",
       "\t  4  &  10\\\\\n",
       "\t  7  &   4\\\\\n",
       "\t  7  &  22\\\\\n",
       "\t  8  &  16\\\\\n",
       "\t  9  &  10\\\\\n",
       "\t 10  &  18\\\\\n",
       "\t 10  &  26\\\\\n",
       "\t 10  &  34\\\\\n",
       "\t 11  &  17\\\\\n",
       "\t 11  &  28\\\\\n",
       "\t 12  &  14\\\\\n",
       "\t 12  &  20\\\\\n",
       "\t 12  &  24\\\\\n",
       "\t 12  &  28\\\\\n",
       "\t 13  &  26\\\\\n",
       "\t 13  &  34\\\\\n",
       "\t 13  &  34\\\\\n",
       "\t 13  &  46\\\\\n",
       "\t 14  &  26\\\\\n",
       "\t 14  &  36\\\\\n",
       "\t 14  &  60\\\\\n",
       "\t 14  &  80\\\\\n",
       "\t 15  &  20\\\\\n",
       "\t 15  &  26\\\\\n",
       "\t 15  &  54\\\\\n",
       "\t 16  &  32\\\\\n",
       "\t 16  &  40\\\\\n",
       "\t 17  &  32\\\\\n",
       "\t 17  &  40\\\\\n",
       "\t 17  &  50\\\\\n",
       "\t 18  &  42\\\\\n",
       "\t 18  &  56\\\\\n",
       "\t 18  &  76\\\\\n",
       "\t 18  &  84\\\\\n",
       "\t 19  &  36\\\\\n",
       "\t 19  &  46\\\\\n",
       "\t 19  &  68\\\\\n",
       "\t 20  &  32\\\\\n",
       "\t 20  &  48\\\\\n",
       "\t 20  &  52\\\\\n",
       "\t 20  &  56\\\\\n",
       "\t 20  &  64\\\\\n",
       "\t 22  &  66\\\\\n",
       "\t 23  &  54\\\\\n",
       "\t 24  &  70\\\\\n",
       "\t 24  &  92\\\\\n",
       "\t 24  &  93\\\\\n",
       "\t 24  & 120\\\\\n",
       "\t 25  &  85\\\\\n",
       "\\end{tabular}\n"
      ],
      "text/markdown": [
       "\n",
       "speed | dist | \n",
       "|---|---|---|---|---|---|---|---|---|---|---|---|---|---|---|---|---|---|---|---|---|---|---|---|---|---|---|---|---|---|---|---|---|---|---|---|---|---|---|---|---|---|---|---|---|---|---|---|---|---|\n",
       "|  4  |   2 | \n",
       "|  4  |  10 | \n",
       "|  7  |   4 | \n",
       "|  7  |  22 | \n",
       "|  8  |  16 | \n",
       "|  9  |  10 | \n",
       "| 10  |  18 | \n",
       "| 10  |  26 | \n",
       "| 10  |  34 | \n",
       "| 11  |  17 | \n",
       "| 11  |  28 | \n",
       "| 12  |  14 | \n",
       "| 12  |  20 | \n",
       "| 12  |  24 | \n",
       "| 12  |  28 | \n",
       "| 13  |  26 | \n",
       "| 13  |  34 | \n",
       "| 13  |  34 | \n",
       "| 13  |  46 | \n",
       "| 14  |  26 | \n",
       "| 14  |  36 | \n",
       "| 14  |  60 | \n",
       "| 14  |  80 | \n",
       "| 15  |  20 | \n",
       "| 15  |  26 | \n",
       "| 15  |  54 | \n",
       "| 16  |  32 | \n",
       "| 16  |  40 | \n",
       "| 17  |  32 | \n",
       "| 17  |  40 | \n",
       "| 17  |  50 | \n",
       "| 18  |  42 | \n",
       "| 18  |  56 | \n",
       "| 18  |  76 | \n",
       "| 18  |  84 | \n",
       "| 19  |  36 | \n",
       "| 19  |  46 | \n",
       "| 19  |  68 | \n",
       "| 20  |  32 | \n",
       "| 20  |  48 | \n",
       "| 20  |  52 | \n",
       "| 20  |  56 | \n",
       "| 20  |  64 | \n",
       "| 22  |  66 | \n",
       "| 23  |  54 | \n",
       "| 24  |  70 | \n",
       "| 24  |  92 | \n",
       "| 24  |  93 | \n",
       "| 24  | 120 | \n",
       "| 25  |  85 | \n",
       "\n",
       "\n"
      ],
      "text/plain": [
       "   speed dist\n",
       "1   4      2 \n",
       "2   4     10 \n",
       "3   7      4 \n",
       "4   7     22 \n",
       "5   8     16 \n",
       "6   9     10 \n",
       "7  10     18 \n",
       "8  10     26 \n",
       "9  10     34 \n",
       "10 11     17 \n",
       "11 11     28 \n",
       "12 12     14 \n",
       "13 12     20 \n",
       "14 12     24 \n",
       "15 12     28 \n",
       "16 13     26 \n",
       "17 13     34 \n",
       "18 13     34 \n",
       "19 13     46 \n",
       "20 14     26 \n",
       "21 14     36 \n",
       "22 14     60 \n",
       "23 14     80 \n",
       "24 15     20 \n",
       "25 15     26 \n",
       "26 15     54 \n",
       "27 16     32 \n",
       "28 16     40 \n",
       "29 17     32 \n",
       "30 17     40 \n",
       "31 17     50 \n",
       "32 18     42 \n",
       "33 18     56 \n",
       "34 18     76 \n",
       "35 18     84 \n",
       "36 19     36 \n",
       "37 19     46 \n",
       "38 19     68 \n",
       "39 20     32 \n",
       "40 20     48 \n",
       "41 20     52 \n",
       "42 20     56 \n",
       "43 20     64 \n",
       "44 22     66 \n",
       "45 23     54 \n",
       "46 24     70 \n",
       "47 24     92 \n",
       "48 24     93 \n",
       "49 24    120 \n",
       "50 25     85 "
      ]
     },
     "metadata": {},
     "output_type": "display_data"
    },
    {
     "data": {
      "text/html": [
       "<table>\n",
       "<thead><tr><th scope=col>speed</th><th scope=col>dist</th></tr></thead>\n",
       "<tbody>\n",
       "\t<tr><td> 4 </td><td>  2</td></tr>\n",
       "\t<tr><td> 4 </td><td> NA</td></tr>\n",
       "\t<tr><td> 7 </td><td>  4</td></tr>\n",
       "\t<tr><td> 7 </td><td> 22</td></tr>\n",
       "\t<tr><td> 8 </td><td> 16</td></tr>\n",
       "\t<tr><td> 9 </td><td> NA</td></tr>\n",
       "\t<tr><td>NA </td><td> 18</td></tr>\n",
       "\t<tr><td>NA </td><td> 26</td></tr>\n",
       "\t<tr><td>NA </td><td> 34</td></tr>\n",
       "\t<tr><td>11 </td><td> 17</td></tr>\n",
       "\t<tr><td>11 </td><td> 28</td></tr>\n",
       "\t<tr><td>12 </td><td> 14</td></tr>\n",
       "\t<tr><td>12 </td><td> 20</td></tr>\n",
       "\t<tr><td>12 </td><td> 24</td></tr>\n",
       "\t<tr><td>12 </td><td> 28</td></tr>\n",
       "\t<tr><td>13 </td><td> 26</td></tr>\n",
       "\t<tr><td>13 </td><td> 34</td></tr>\n",
       "\t<tr><td>13 </td><td> 34</td></tr>\n",
       "\t<tr><td>13 </td><td> 46</td></tr>\n",
       "\t<tr><td>14 </td><td> 26</td></tr>\n",
       "\t<tr><td>14 </td><td> 36</td></tr>\n",
       "\t<tr><td>14 </td><td> 60</td></tr>\n",
       "\t<tr><td>14 </td><td> 80</td></tr>\n",
       "\t<tr><td>15 </td><td> 20</td></tr>\n",
       "\t<tr><td>15 </td><td> 26</td></tr>\n",
       "\t<tr><td>15 </td><td> 54</td></tr>\n",
       "\t<tr><td>16 </td><td> 32</td></tr>\n",
       "\t<tr><td>16 </td><td> 40</td></tr>\n",
       "\t<tr><td>17 </td><td> 32</td></tr>\n",
       "\t<tr><td>17 </td><td> 40</td></tr>\n",
       "\t<tr><td>17 </td><td> 50</td></tr>\n",
       "\t<tr><td>18 </td><td> 42</td></tr>\n",
       "\t<tr><td>18 </td><td> 56</td></tr>\n",
       "\t<tr><td>18 </td><td> 76</td></tr>\n",
       "\t<tr><td>18 </td><td> 84</td></tr>\n",
       "\t<tr><td>19 </td><td> 36</td></tr>\n",
       "\t<tr><td>19 </td><td> 46</td></tr>\n",
       "\t<tr><td>19 </td><td> 68</td></tr>\n",
       "\t<tr><td>20 </td><td> 32</td></tr>\n",
       "\t<tr><td>20 </td><td> 48</td></tr>\n",
       "\t<tr><td>20 </td><td> 52</td></tr>\n",
       "\t<tr><td>20 </td><td> 56</td></tr>\n",
       "\t<tr><td>20 </td><td> 64</td></tr>\n",
       "\t<tr><td>22 </td><td> 66</td></tr>\n",
       "\t<tr><td>23 </td><td> 54</td></tr>\n",
       "\t<tr><td>24 </td><td> 70</td></tr>\n",
       "\t<tr><td>24 </td><td> 92</td></tr>\n",
       "\t<tr><td>24 </td><td> 93</td></tr>\n",
       "\t<tr><td>24 </td><td>120</td></tr>\n",
       "\t<tr><td>25 </td><td> 85</td></tr>\n",
       "</tbody>\n",
       "</table>\n"
      ],
      "text/latex": [
       "\\begin{tabular}{r|ll}\n",
       " speed & dist\\\\\n",
       "\\hline\n",
       "\t  4  &   2\\\\\n",
       "\t  4  &  NA\\\\\n",
       "\t  7  &   4\\\\\n",
       "\t  7  &  22\\\\\n",
       "\t  8  &  16\\\\\n",
       "\t  9  &  NA\\\\\n",
       "\t NA  &  18\\\\\n",
       "\t NA  &  26\\\\\n",
       "\t NA  &  34\\\\\n",
       "\t 11  &  17\\\\\n",
       "\t 11  &  28\\\\\n",
       "\t 12  &  14\\\\\n",
       "\t 12  &  20\\\\\n",
       "\t 12  &  24\\\\\n",
       "\t 12  &  28\\\\\n",
       "\t 13  &  26\\\\\n",
       "\t 13  &  34\\\\\n",
       "\t 13  &  34\\\\\n",
       "\t 13  &  46\\\\\n",
       "\t 14  &  26\\\\\n",
       "\t 14  &  36\\\\\n",
       "\t 14  &  60\\\\\n",
       "\t 14  &  80\\\\\n",
       "\t 15  &  20\\\\\n",
       "\t 15  &  26\\\\\n",
       "\t 15  &  54\\\\\n",
       "\t 16  &  32\\\\\n",
       "\t 16  &  40\\\\\n",
       "\t 17  &  32\\\\\n",
       "\t 17  &  40\\\\\n",
       "\t 17  &  50\\\\\n",
       "\t 18  &  42\\\\\n",
       "\t 18  &  56\\\\\n",
       "\t 18  &  76\\\\\n",
       "\t 18  &  84\\\\\n",
       "\t 19  &  36\\\\\n",
       "\t 19  &  46\\\\\n",
       "\t 19  &  68\\\\\n",
       "\t 20  &  32\\\\\n",
       "\t 20  &  48\\\\\n",
       "\t 20  &  52\\\\\n",
       "\t 20  &  56\\\\\n",
       "\t 20  &  64\\\\\n",
       "\t 22  &  66\\\\\n",
       "\t 23  &  54\\\\\n",
       "\t 24  &  70\\\\\n",
       "\t 24  &  92\\\\\n",
       "\t 24  &  93\\\\\n",
       "\t 24  & 120\\\\\n",
       "\t 25  &  85\\\\\n",
       "\\end{tabular}\n"
      ],
      "text/markdown": [
       "\n",
       "speed | dist | \n",
       "|---|---|---|---|---|---|---|---|---|---|---|---|---|---|---|---|---|---|---|---|---|---|---|---|---|---|---|---|---|---|---|---|---|---|---|---|---|---|---|---|---|---|---|---|---|---|---|---|---|---|\n",
       "|  4  |   2 | \n",
       "|  4  |  NA | \n",
       "|  7  |   4 | \n",
       "|  7  |  22 | \n",
       "|  8  |  16 | \n",
       "|  9  |  NA | \n",
       "| NA  |  18 | \n",
       "| NA  |  26 | \n",
       "| NA  |  34 | \n",
       "| 11  |  17 | \n",
       "| 11  |  28 | \n",
       "| 12  |  14 | \n",
       "| 12  |  20 | \n",
       "| 12  |  24 | \n",
       "| 12  |  28 | \n",
       "| 13  |  26 | \n",
       "| 13  |  34 | \n",
       "| 13  |  34 | \n",
       "| 13  |  46 | \n",
       "| 14  |  26 | \n",
       "| 14  |  36 | \n",
       "| 14  |  60 | \n",
       "| 14  |  80 | \n",
       "| 15  |  20 | \n",
       "| 15  |  26 | \n",
       "| 15  |  54 | \n",
       "| 16  |  32 | \n",
       "| 16  |  40 | \n",
       "| 17  |  32 | \n",
       "| 17  |  40 | \n",
       "| 17  |  50 | \n",
       "| 18  |  42 | \n",
       "| 18  |  56 | \n",
       "| 18  |  76 | \n",
       "| 18  |  84 | \n",
       "| 19  |  36 | \n",
       "| 19  |  46 | \n",
       "| 19  |  68 | \n",
       "| 20  |  32 | \n",
       "| 20  |  48 | \n",
       "| 20  |  52 | \n",
       "| 20  |  56 | \n",
       "| 20  |  64 | \n",
       "| 22  |  66 | \n",
       "| 23  |  54 | \n",
       "| 24  |  70 | \n",
       "| 24  |  92 | \n",
       "| 24  |  93 | \n",
       "| 24  | 120 | \n",
       "| 25  |  85 | \n",
       "\n",
       "\n"
      ],
      "text/plain": [
       "   speed dist\n",
       "1   4      2 \n",
       "2   4     NA \n",
       "3   7      4 \n",
       "4   7     22 \n",
       "5   8     16 \n",
       "6   9     NA \n",
       "7  NA     18 \n",
       "8  NA     26 \n",
       "9  NA     34 \n",
       "10 11     17 \n",
       "11 11     28 \n",
       "12 12     14 \n",
       "13 12     20 \n",
       "14 12     24 \n",
       "15 12     28 \n",
       "16 13     26 \n",
       "17 13     34 \n",
       "18 13     34 \n",
       "19 13     46 \n",
       "20 14     26 \n",
       "21 14     36 \n",
       "22 14     60 \n",
       "23 14     80 \n",
       "24 15     20 \n",
       "25 15     26 \n",
       "26 15     54 \n",
       "27 16     32 \n",
       "28 16     40 \n",
       "29 17     32 \n",
       "30 17     40 \n",
       "31 17     50 \n",
       "32 18     42 \n",
       "33 18     56 \n",
       "34 18     76 \n",
       "35 18     84 \n",
       "36 19     36 \n",
       "37 19     46 \n",
       "38 19     68 \n",
       "39 20     32 \n",
       "40 20     48 \n",
       "41 20     52 \n",
       "42 20     56 \n",
       "43 20     64 \n",
       "44 22     66 \n",
       "45 23     54 \n",
       "46 24     70 \n",
       "47 24     92 \n",
       "48 24     93 \n",
       "49 24    120 \n",
       "50 25     85 "
      ]
     },
     "metadata": {},
     "output_type": "display_data"
    }
   ],
   "source": [
    "f.na <- function (df, otherna) {\n",
    "  for(i in 1:ncol (df)) {\n",
    "    for(j in 1:nrow (df)) {\n",
    "      if(df[j,i] == otherna) {\n",
    "        df[j,i] <- NA\n",
    "      }\n",
    "    }\n",
    "  }\n",
    "  df\n",
    "}\n",
    "cars\n",
    "f.na(cars, 10)\n"
   ]
  }
 ],
 "metadata": {
  "kernelspec": {
   "display_name": "R",
   "language": "R",
   "name": "ir"
  },
  "language_info": {
   "codemirror_mode": "r",
   "file_extension": ".r",
   "mimetype": "text/x-r-source",
   "name": "R",
   "pygments_lexer": "r",
   "version": "3.4.2"
  }
 },
 "nbformat": 4,
 "nbformat_minor": 2
}
