{
 "cells": [
  {
   "cell_type": "markdown",
   "metadata": {},
   "source": [
    "# LAB 4"
   ]
  },
  {
   "cell_type": "markdown",
   "metadata": {},
   "source": [
    "# Question 1"
   ]
  },
  {
   "cell_type": "markdown",
   "metadata": {},
   "source": [
    "\"x\" is a number given in base 2. Convert \"x\" to \"y\" which is the corresponding value in base 10."
   ]
  },
  {
   "cell_type": "code",
   "execution_count": 1,
   "metadata": {},
   "outputs": [
    {
     "name": "stdout",
     "output_type": "stream",
     "text": [
      "[1] 38\n"
     ]
    }
   ],
   "source": [
    "x <- c(1,0,0,1,1,0)   # explicitly: (2^0)*x[6]+(2^1)*x[5]+(2^2)*x[4]+(2^3)*x[3]+(2^4)*x[2]+(2^5)*x[1]\n",
    "y <- 0   # just to initialize \n",
    "\n",
    "for(i in 0:5){\n",
    "  y <- y + (2^i)*x[6-i]\n",
    "}\n",
    "print(y)"
   ]
  },
  {
   "cell_type": "markdown",
   "metadata": {},
   "source": [
    "# Question 2 "
   ]
  },
  {
   "cell_type": "markdown",
   "metadata": {},
   "source": [
    "If we run the code below, what would be output?"
   ]
  },
  {
   "cell_type": "code",
   "execution_count": 3,
   "metadata": {},
   "outputs": [
    {
     "name": "stdout",
     "output_type": "stream",
     "text": [
      "[1]  9 12 11 16 13 20\n"
     ]
    }
   ],
   "source": [
    "a<- seq(from = 10, to = 20, by = 2)\n",
    "b<- c()\n",
    "for (i in 1:length(a)) {\n",
    "  if(a[i] %% 4 == 0) {\n",
    "    b[i] <- a[i]\n",
    "  } else {\n",
    "    b[i] <- i + 8\n",
    "  }\n",
    "}\n",
    "print(b)"
   ]
  },
  {
   "cell_type": "markdown",
   "metadata": {},
   "source": [
    "# Question 3"
   ]
  },
  {
   "cell_type": "markdown",
   "metadata": {},
   "source": [
    "Population is a vector containing age data of 10000 customers of a telecommunications company. In order to identify its customer profile better, company wants to classify the data as young(18-35), middle aged(36-55) and older(56+). After this, company also wants to see how many people are there in each category respectively. Start with obtaining a random sample of length 10000 between ages 18 and 75."
   ]
  },
  {
   "cell_type": "code",
   "execution_count": 4,
   "metadata": {},
   "outputs": [
    {
     "name": "stdout",
     "output_type": "stream",
     "text": [
      "[1] 3092 3493 3415\n"
     ]
    }
   ],
   "source": [
    "population <- sample(18:75 , 10000 , replace = T)\n",
    "\n",
    "young <- NULL\n",
    "mid_age <- NULL\n",
    "old <- NULL\n",
    "\n",
    "for(i in population){\n",
    "  if(i  < 36){\n",
    "    young <- c(young , i)\n",
    "  } else {\n",
    "    if(i < 56){\n",
    "      mid_age <- c(mid_age , i)\n",
    "    } else {\n",
    "      old <- c(old , i)\n",
    "    }\n",
    "  }\n",
    "}\n",
    "\n",
    "print(c(length(young) ,  length(mid_age) , length(old)))\n"
   ]
  },
  {
   "cell_type": "markdown",
   "metadata": {},
   "source": [
    "# Question 4"
   ]
  },
  {
   "cell_type": "markdown",
   "metadata": {},
   "source": [
    "You are given a \"letters\" vector. You are asked to create a vector named \"howmany\" counting the number of letters in vector \"letters\"."
   ]
  },
  {
   "cell_type": "code",
   "execution_count": 5,
   "metadata": {
    "collapsed": true
   },
   "outputs": [],
   "source": [
    "letters <- c(\"a\",\"a\",\"b\",\"a\",\"b\",\"b\",\"a\",\"b\",\"c\",\"b\")\n",
    "# Hint: you will find \"4 5 1\" at the and."
   ]
  },
  {
   "cell_type": "code",
   "execution_count": 6,
   "metadata": {},
   "outputs": [
    {
     "name": "stdout",
     "output_type": "stream",
     "text": [
      "[1] 4 5 1\n"
     ]
    }
   ],
   "source": [
    "howmany <- c(0,0,0)\n",
    "for(i in 1:10){\n",
    "  if(letters[i]==\"a\"){\n",
    "    howmany[1]<-howmany[1]+1\n",
    "  }else if(letters[i]==\"b\"){\n",
    "    howmany[2]<-howmany[2]+1\n",
    "  }else{\n",
    "    howmany[3]<-howmany[3]+1\n",
    "  }\n",
    "}\n",
    "print(howmany)\n"
   ]
  }
 ],
 "metadata": {
  "kernelspec": {
   "display_name": "R",
   "language": "R",
   "name": "ir"
  },
  "language_info": {
   "codemirror_mode": "r",
   "file_extension": ".r",
   "mimetype": "text/x-r-source",
   "name": "R",
   "pygments_lexer": "r",
   "version": "3.4.2"
  }
 },
 "nbformat": 4,
 "nbformat_minor": 2
}
