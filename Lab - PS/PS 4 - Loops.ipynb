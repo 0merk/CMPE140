{
 "cells": [
  {
   "cell_type": "markdown",
   "metadata": {},
   "source": [
    "# PS 4 - Loops"
   ]
  },
  {
   "cell_type": "markdown",
   "metadata": {},
   "source": [
    "# Exercise 1\n",
    "Write a repeat{} loop that prints all the even numbers from 2 – 10, via incrementing the variable, “i <- 0“."
   ]
  },
  {
   "cell_type": "code",
   "execution_count": 18,
   "metadata": {},
   "outputs": [
    {
     "name": "stdout",
     "output_type": "stream",
     "text": [
      "[1] 2\n",
      "[1] 4\n",
      "[1] 6\n",
      "[1] 8\n",
      "[1] 10\n"
     ]
    }
   ],
   "source": [
    "i <- 0\n",
    "\n",
    "repeat{\n",
    "  i <- i + 2\n",
    "  print(i)\n",
    "  if(i == 10){\n",
    "    break\n",
    "  }\n",
    "}"
   ]
  },
  {
   "cell_type": "markdown",
   "metadata": {},
   "source": [
    "# Exercise 2\n",
    "Using the following variables:\n",
    "Write a repeat{} loop that breaks off the incrementation of, “i“, after 5 loops, and prints “msg” at every increment."
   ]
  },
  {
   "cell_type": "code",
   "execution_count": 19,
   "metadata": {},
   "outputs": [
    {
     "name": "stdout",
     "output_type": "stream",
     "text": [
      "[1] \"Hello\"\n",
      "[1] \"Hello\"\n",
      "[1] \"Hello\"\n",
      "[1] \"Hello\"\n",
      "[1] \"Hello\"\n"
     ]
    }
   ],
   "source": [
    "msg <- c(\"Hello\")\n",
    "i <- 1\n",
    "\n",
    "repeat{\n",
    "  i <- i+1\n",
    "  print(msg)\n",
    "  if(i>5){\n",
    "    break\n",
    "  }\n",
    "}"
   ]
  },
  {
   "cell_type": "markdown",
   "metadata": {},
   "source": [
    "# Exercise 3\n",
    "With, i <- 1, write a while() loop that prints the odd numbers from 1 through 7."
   ]
  },
  {
   "cell_type": "code",
   "execution_count": 20,
   "metadata": {},
   "outputs": [
    {
     "name": "stdout",
     "output_type": "stream",
     "text": [
      "[1] 1\n",
      "[1] 3\n",
      "[1] 5\n",
      "[1] 7\n"
     ]
    }
   ],
   "source": [
    "i <- 1\n",
    "\n",
    "while(i <= 7){\n",
    "  print(i)\n",
    "  i <- i + 2\n",
    "}"
   ]
  },
  {
   "cell_type": "markdown",
   "metadata": {},
   "source": [
    "# Exercise 4\n",
    "Write a while() loop that increments the variable, “i“, 6 times, and prints “msg” at every iteration."
   ]
  },
  {
   "cell_type": "code",
   "execution_count": 21,
   "metadata": {},
   "outputs": [
    {
     "name": "stdout",
     "output_type": "stream",
     "text": [
      "[1] \"Hello\"\n",
      "[1] \"Hello\"\n",
      "[1] \"Hello\"\n",
      "[1] \"Hello\"\n",
      "[1] \"Hello\"\n",
      "[1] \"Hello\"\n"
     ]
    }
   ],
   "source": [
    "msg <- c(\"Hello\")\n",
    "i <- 1\n",
    "\n",
    "while(i <= 6){\n",
    "  print(msg)\n",
    "  i <- i + 1\n",
    "}\n"
   ]
  },
  {
   "cell_type": "markdown",
   "metadata": {},
   "source": [
    "# Exercise 5\n",
    "Write a for() loop that prints the first four numbers of this sequence: x <- c(7, 4, 3, 8, 9, 25)"
   ]
  },
  {
   "cell_type": "raw",
   "metadata": {},
   "source": [
    "x <- c(7, 4, 3, 8, 9, 25)\n",
    "for(i in 1:4) {\n",
    "    print(x[i])\n",
    "}"
   ]
  },
  {
   "cell_type": "markdown",
   "metadata": {},
   "source": [
    "or, here another way:"
   ]
  },
  {
   "cell_type": "code",
   "execution_count": 22,
   "metadata": {},
   "outputs": [
    {
     "name": "stdout",
     "output_type": "stream",
     "text": [
      "[1] 7\n",
      "[1] 4\n",
      "[1] 3\n",
      "[1] 8\n",
      "[1] 9\n",
      "[1] 25\n"
     ]
    }
   ],
   "source": [
    "for(a in x) {\n",
    "    print(a)\n",
    "}"
   ]
  },
  {
   "cell_type": "markdown",
   "metadata": {},
   "source": [
    "# Exercise 6\n",
    "Write a for() loop that prints all the letters in y <- c(\"q\", \"w\", \"e\", \"r\", \"z\", \"c\")."
   ]
  },
  {
   "cell_type": "code",
   "execution_count": 23,
   "metadata": {},
   "outputs": [
    {
     "name": "stdout",
     "output_type": "stream",
     "text": [
      "[1] \"q\"\n",
      "[1] \"w\"\n",
      "[1] \"e\"\n",
      "[1] \"r\"\n",
      "[1] \"z\"\n",
      "[1] \"c\"\n"
     ]
    }
   ],
   "source": [
    "y <- c(\"q\", \"w\", \"e\", \"r\", \"z\", \"c\")\n",
    "for(i in y) {\n",
    "  print(i)\n",
    "}"
   ]
  },
  {
   "cell_type": "markdown",
   "metadata": {},
   "source": [
    "or, here another way:"
   ]
  },
  {
   "cell_type": "code",
   "execution_count": 24,
   "metadata": {},
   "outputs": [
    {
     "name": "stdout",
     "output_type": "stream",
     "text": [
      "[1] \"q\"\n",
      "[1] \"w\"\n",
      "[1] \"e\"\n",
      "[1] \"r\"\n",
      "[1] \"z\"\n",
      "[1] \"c\"\n"
     ]
    }
   ],
   "source": [
    "y <- c(\"q\", \"w\", \"e\", \"r\", \"z\", \"c\")\n",
    "for(i in 1:6) {\n",
    "  print(y[i])\n",
    "}"
   ]
  },
  {
   "cell_type": "markdown",
   "metadata": {},
   "source": [
    "# Exercise 7\n",
    "Using i <- 1, write a while() loop that prints the variable, “i“, (that is incremented from 1 – 5), \n",
    "and uses break to exit the loop if “i” equals 3."
   ]
  },
  {
   "cell_type": "code",
   "execution_count": 25,
   "metadata": {},
   "outputs": [
    {
     "name": "stdout",
     "output_type": "stream",
     "text": [
      "[1] 2\n"
     ]
    }
   ],
   "source": [
    "i <- 1\n",
    "\n",
    "while(i < 6){\n",
    "  i <- i + 1\n",
    "  if(i == 3){\n",
    "    break\n",
    "  }\n",
    "  print(i)\n",
    "}"
   ]
  },
  {
   "cell_type": "markdown",
   "metadata": {},
   "source": [
    "# Exercise 8\n",
    "Write a nested loop, where the outer for() loop increments “a” 3 times, \n",
    "and the inner for() loop increments “b” 3 times. \n",
    "The break statement exits the inner for() loop after 2 incrementations. \n",
    "The nested loop prints the values of variables, “a” and “b“."
   ]
  },
  {
   "cell_type": "code",
   "execution_count": 26,
   "metadata": {},
   "outputs": [
    {
     "name": "stdout",
     "output_type": "stream",
     "text": [
      "[1] 1 1\n",
      "[1] 1 2\n",
      "[1] 2 1\n",
      "[1] 2 2\n",
      "[1] 3 1\n",
      "[1] 3 2\n"
     ]
    }
   ],
   "source": [
    "for(a in 1:3){\n",
    "  for(b in 1:3){\n",
    "    print(c(a,b))\n",
    "    if(b == 2){\n",
    "      break\n",
    "    }\n",
    "  }\n",
    "}"
   ]
  },
  {
   "cell_type": "markdown",
   "metadata": {},
   "source": [
    "# Exercise 9\n",
    "Write a while() loop that prints the variable, “i“, that is incremented from 2 – 5, \n",
    "and uses the next statement, to skip the printing of the number 3."
   ]
  },
  {
   "cell_type": "code",
   "execution_count": 27,
   "metadata": {},
   "outputs": [
    {
     "name": "stdout",
     "output_type": "stream",
     "text": [
      "[1] 2\n",
      "[1] 4\n",
      "[1] 5\n"
     ]
    }
   ],
   "source": [
    "i <- 1\n",
    "\n",
    "while(i < 5){\n",
    "  i <- i + 1\n",
    "  if(i == 3){\n",
    "    next\n",
    "  }\n",
    "  print(i)\n",
    "}"
   ]
  },
  {
   "cell_type": "markdown",
   "metadata": {},
   "source": [
    "# Exercise 10\n",
    "Write a for() loop that uses next to print all values except “3” in the following variable: i <- 1:5"
   ]
  },
  {
   "cell_type": "code",
   "execution_count": 28,
   "metadata": {},
   "outputs": [
    {
     "name": "stdout",
     "output_type": "stream",
     "text": [
      "[1] 1\n",
      "[1] 2\n",
      "[1] 4\n",
      "[1] 5\n"
     ]
    }
   ],
   "source": [
    "i <- 1:5\n",
    "for(val in i){\n",
    "  if(val == 3){\n",
    "    next\n",
    "  }\n",
    "  print(val)\n",
    "}"
   ]
  },
  {
   "cell_type": "markdown",
   "metadata": {},
   "source": [
    "# Suggested Problems "
   ]
  },
  {
   "cell_type": "markdown",
   "metadata": {},
   "source": [
    "# Question 1"
   ]
  },
  {
   "cell_type": "markdown",
   "metadata": {},
   "source": [
    "Write a code that finds the \"divisors\" of a given number "
   ]
  },
  {
   "cell_type": "code",
   "execution_count": 36,
   "metadata": {},
   "outputs": [
    {
     "name": "stdout",
     "output_type": "stream",
     "text": [
      "[1] 1\n",
      "[1] 5\n",
      "[1] 7\n",
      "[1] 35\n"
     ]
    }
   ],
   "source": [
    "x <- 35\n",
    "for(i in 1:x){\n",
    "  if(x%%i == 0){\n",
    "    print(i)\n",
    "  }\n",
    "}"
   ]
  },
  {
   "cell_type": "markdown",
   "metadata": {},
   "source": [
    "# Question 2"
   ]
  },
  {
   "cell_type": "markdown",
   "metadata": {},
   "source": [
    " Write a code that finds whether a given number is prime or not."
   ]
  },
  {
   "cell_type": "code",
   "execution_count": 37,
   "metadata": {},
   "outputs": [
    {
     "name": "stdout",
     "output_type": "stream",
     "text": [
      "[1] \"not prime!\"\n"
     ]
    }
   ],
   "source": [
    "x <- 196\n",
    "x_minus <- x-1\n",
    "\n",
    "for(i in 2:x_minus){\n",
    "  if(x%%i==0){\n",
    "    prime_dummy<-0\n",
    "    break\n",
    "  }\n",
    "  prime_dummy<-1\n",
    "}\n",
    "\n",
    "if(prime_dummy==0){\n",
    "  print(\"not prime!\")\n",
    "}else{\n",
    "  print(\"yes prime!\")\n",
    "}"
   ]
  },
  {
   "cell_type": "markdown",
   "metadata": {},
   "source": [
    "# Question 3"
   ]
  },
  {
   "cell_type": "markdown",
   "metadata": {},
   "source": [
    "Write a code that finds the \"prime factors\" of a given number"
   ]
  },
  {
   "cell_type": "code",
   "execution_count": 2,
   "metadata": {},
   "outputs": [
    {
     "name": "stdout",
     "output_type": "stream",
     "text": [
      "[1] 85\n",
      "[1]  5 17\n"
     ]
    }
   ],
   "source": [
    "num <- sample(200, 1)\n",
    "print(num)\n",
    "\n",
    "factors <- NULL\n",
    "for(divisor in 2:ceiling(sqrt(num))) {\n",
    "  while(num %% divisor == 0) {\n",
    "    factors <- c(factors, divisor)\n",
    "    num <- as.integer(num / divisor)\n",
    "  }\n",
    "}\n",
    "factors <- if(num > 2) c(factors, num) else factors\n",
    "\n",
    "print(factors)\n"
   ]
  }
 ],
 "metadata": {
  "kernelspec": {
   "display_name": "R",
   "language": "R",
   "name": "ir"
  },
  "language_info": {
   "codemirror_mode": "r",
   "file_extension": ".r",
   "mimetype": "text/x-r-source",
   "name": "R",
   "pygments_lexer": "r",
   "version": "3.4.2"
  }
 },
 "nbformat": 4,
 "nbformat_minor": 2
}
