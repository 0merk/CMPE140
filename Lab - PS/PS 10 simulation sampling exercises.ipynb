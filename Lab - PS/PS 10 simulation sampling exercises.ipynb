{
 "cells": [
  {
   "cell_type": "markdown",
   "metadata": {},
   "source": [
    "#  An Exercise on Simulating Event Sequences"
   ]
  },
  {
   "cell_type": "markdown",
   "metadata": {},
   "source": [
    "When a basketball player makes several baskets in succession, they are describe as having a \"hot hand\". \n",
    "\n",
    "Let's learn how to simulate shooting streaks in R, and to compare a simulation to actual data in order to determine if the hot hand phenomenon appears to be real.\n",
    "\n",
    "Our investigation will focus on the performance of one player: Kobe Bryant of the Los Angeles Lakers.\n",
    "\n",
    "His performance against the Orlando Magic in the 2009 NBA finals earned him the title “Most Valuable Player” and many spectators commented on how he appeared to show a hot hand. \n",
    "\n",
    "Let's load some data from those games and look at the first several rows."
   ]
  },
  {
   "cell_type": "code",
   "execution_count": 1,
   "metadata": {},
   "outputs": [
    {
     "data": {
      "text/html": [
       "133"
      ],
      "text/latex": [
       "133"
      ],
      "text/markdown": [
       "133"
      ],
      "text/plain": [
       "[1] 133"
      ]
     },
     "metadata": {},
     "output_type": "display_data"
    },
    {
     "data": {
      "text/html": [
       "<table>\n",
       "<thead><tr><th scope=col>vs</th><th scope=col>game</th><th scope=col>quarter</th><th scope=col>time</th><th scope=col>description</th><th scope=col>basket</th></tr></thead>\n",
       "<tbody>\n",
       "\t<tr><td>ORL                                                    </td><td>1                                                      </td><td>1                                                      </td><td>9:47                                                   </td><td>Kobe Bryant makes 4-foot two point shot                </td><td>H                                                      </td></tr>\n",
       "\t<tr><td>ORL                                                    </td><td>1                                                      </td><td>1                                                      </td><td>9:07                                                   </td><td>Kobe Bryant misses jumper                              </td><td>M                                                      </td></tr>\n",
       "\t<tr><td>ORL                                                    </td><td>1                                                      </td><td>1                                                      </td><td>8:11                                                   </td><td>Kobe Bryant misses 7-foot jumper                       </td><td>M                                                      </td></tr>\n",
       "\t<tr><td>ORL                                                    </td><td>1                                                      </td><td>1                                                      </td><td>7:41                                                   </td><td>Kobe Bryant makes 16-foot jumper (Derek Fisher assists)</td><td>H                                                      </td></tr>\n",
       "\t<tr><td>ORL                                                    </td><td>1                                                      </td><td>1                                                      </td><td>7:03                                                   </td><td>Kobe Bryant makes driving layup                        </td><td>H                                                      </td></tr>\n",
       "\t<tr><td>ORL                                                    </td><td>1                                                      </td><td>1                                                      </td><td>6:01                                                   </td><td>Kobe Bryant misses jumper                              </td><td>M                                                      </td></tr>\n",
       "</tbody>\n",
       "</table>\n"
      ],
      "text/latex": [
       "\\begin{tabular}{r|llllll}\n",
       " vs & game & quarter & time & description & basket\\\\\n",
       "\\hline\n",
       "\t ORL                                                     & 1                                                       & 1                                                       & 9:47                                                    & Kobe Bryant makes 4-foot two point shot                 & H                                                      \\\\\n",
       "\t ORL                                                     & 1                                                       & 1                                                       & 9:07                                                    & Kobe Bryant misses jumper                               & M                                                      \\\\\n",
       "\t ORL                                                     & 1                                                       & 1                                                       & 8:11                                                    & Kobe Bryant misses 7-foot jumper                        & M                                                      \\\\\n",
       "\t ORL                                                     & 1                                                       & 1                                                       & 7:41                                                    & Kobe Bryant makes 16-foot jumper (Derek Fisher assists) & H                                                      \\\\\n",
       "\t ORL                                                     & 1                                                       & 1                                                       & 7:03                                                    & Kobe Bryant makes driving layup                         & H                                                      \\\\\n",
       "\t ORL                                                     & 1                                                       & 1                                                       & 6:01                                                    & Kobe Bryant misses jumper                               & M                                                      \\\\\n",
       "\\end{tabular}\n"
      ],
      "text/markdown": [
       "\n",
       "vs | game | quarter | time | description | basket | \n",
       "|---|---|---|---|---|---|\n",
       "| ORL                                                     | 1                                                       | 1                                                       | 9:47                                                    | Kobe Bryant makes 4-foot two point shot                 | H                                                       | \n",
       "| ORL                                                     | 1                                                       | 1                                                       | 9:07                                                    | Kobe Bryant misses jumper                               | M                                                       | \n",
       "| ORL                                                     | 1                                                       | 1                                                       | 8:11                                                    | Kobe Bryant misses 7-foot jumper                        | M                                                       | \n",
       "| ORL                                                     | 1                                                       | 1                                                       | 7:41                                                    | Kobe Bryant makes 16-foot jumper (Derek Fisher assists) | H                                                       | \n",
       "| ORL                                                     | 1                                                       | 1                                                       | 7:03                                                    | Kobe Bryant makes driving layup                         | H                                                       | \n",
       "| ORL                                                     | 1                                                       | 1                                                       | 6:01                                                    | Kobe Bryant misses jumper                               | M                                                       | \n",
       "\n",
       "\n"
      ],
      "text/plain": [
       "  vs  game quarter time description                                            \n",
       "1 ORL 1    1       9:47 Kobe Bryant makes 4-foot two point shot                \n",
       "2 ORL 1    1       9:07 Kobe Bryant misses jumper                              \n",
       "3 ORL 1    1       8:11 Kobe Bryant misses 7-foot jumper                       \n",
       "4 ORL 1    1       7:41 Kobe Bryant makes 16-foot jumper (Derek Fisher assists)\n",
       "5 ORL 1    1       7:03 Kobe Bryant makes driving layup                        \n",
       "6 ORL 1    1       6:01 Kobe Bryant misses jumper                              \n",
       "  basket\n",
       "1 H     \n",
       "2 M     \n",
       "3 M     \n",
       "4 H     \n",
       "5 H     \n",
       "6 M     "
      ]
     },
     "metadata": {},
     "output_type": "display_data"
    },
    {
     "data": {
      "text/html": [
       "<table>\n",
       "<thead><tr><th></th><th scope=col>vs</th><th scope=col>game</th><th scope=col>quarter</th><th scope=col>time</th><th scope=col>description</th><th scope=col>basket</th></tr></thead>\n",
       "<tbody>\n",
       "\t<tr><th scope=row>128</th><td>ORL                               </td><td>3                                 </td><td>4                                 </td><td>3:57                              </td><td>Bryant Jump Shot: Made (28 PTS)   </td><td>H                                 </td></tr>\n",
       "\t<tr><th scope=row>129</th><td>ORL                               </td><td>3                                 </td><td>4                                 </td><td>3:33                              </td><td>Bryant Layup Shot: Missed         </td><td>M                                 </td></tr>\n",
       "\t<tr><th scope=row>130</th><td>ORL                               </td><td>3                                 </td><td>4                                 </td><td>2:02                              </td><td>Bryant 3pt Shot: Missed           </td><td>M                                 </td></tr>\n",
       "\t<tr><th scope=row>131</th><td>ORL                               </td><td>3                                 </td><td>4                                 </td><td>00:23.9                           </td><td>Bryant 3pt Shot: Missed           </td><td>M                                 </td></tr>\n",
       "\t<tr><th scope=row>132</th><td>ORL                               </td><td>3                                 </td><td>4                                 </td><td>00:06.9                           </td><td>Bryant 3pt Shot: Missed           </td><td>M                                 </td></tr>\n",
       "\t<tr><th scope=row>133</th><td>ORL                               </td><td>3                                 </td><td>4                                 </td><td>00:00.5                           </td><td>Bryant Layup Shot: Made (31 PTS)  </td><td>H                                 </td></tr>\n",
       "</tbody>\n",
       "</table>\n"
      ],
      "text/latex": [
       "\\begin{tabular}{r|llllll}\n",
       "  & vs & game & quarter & time & description & basket\\\\\n",
       "\\hline\n",
       "\t128 & ORL                                & 3                                  & 4                                  & 3:57                               & Bryant Jump Shot: Made (28 PTS)    & H                                 \\\\\n",
       "\t129 & ORL                                & 3                                  & 4                                  & 3:33                               & Bryant Layup Shot: Missed          & M                                 \\\\\n",
       "\t130 & ORL                                & 3                                  & 4                                  & 2:02                               & Bryant 3pt Shot: Missed            & M                                 \\\\\n",
       "\t131 & ORL                                & 3                                  & 4                                  & 00:23.9                            & Bryant 3pt Shot: Missed            & M                                 \\\\\n",
       "\t132 & ORL                                & 3                                  & 4                                  & 00:06.9                            & Bryant 3pt Shot: Missed            & M                                 \\\\\n",
       "\t133 & ORL                                & 3                                  & 4                                  & 00:00.5                            & Bryant Layup Shot: Made (31 PTS)   & H                                 \\\\\n",
       "\\end{tabular}\n"
      ],
      "text/markdown": [
       "\n",
       "| <!--/--> | vs | game | quarter | time | description | basket | \n",
       "|---|---|---|---|---|---|\n",
       "| 128 | ORL                                | 3                                  | 4                                  | 3:57                               | Bryant Jump Shot: Made (28 PTS)    | H                                  | \n",
       "| 129 | ORL                                | 3                                  | 4                                  | 3:33                               | Bryant Layup Shot: Missed          | M                                  | \n",
       "| 130 | ORL                                | 3                                  | 4                                  | 2:02                               | Bryant 3pt Shot: Missed            | M                                  | \n",
       "| 131 | ORL                                | 3                                  | 4                                  | 00:23.9                            | Bryant 3pt Shot: Missed            | M                                  | \n",
       "| 132 | ORL                                | 3                                  | 4                                  | 00:06.9                            | Bryant 3pt Shot: Missed            | M                                  | \n",
       "| 133 | ORL                                | 3                                  | 4                                  | 00:00.5                            | Bryant Layup Shot: Made (31 PTS)   | H                                  | \n",
       "\n",
       "\n"
      ],
      "text/plain": [
       "    vs  game quarter time    description                        basket\n",
       "128 ORL 3    4       3:57    Bryant Jump Shot: Made (28 PTS)    H     \n",
       "129 ORL 3    4       3:33    Bryant Layup Shot: Missed          M     \n",
       "130 ORL 3    4       2:02    Bryant 3pt Shot: Missed            M     \n",
       "131 ORL 3    4       00:23.9 Bryant 3pt Shot: Missed            M     \n",
       "132 ORL 3    4       00:06.9 Bryant 3pt Shot: Missed            M     \n",
       "133 ORL 3    4       00:00.5 Bryant Layup Shot: Made (31 PTS)   H     "
      ]
     },
     "metadata": {},
     "output_type": "display_data"
    }
   ],
   "source": [
    "# Load the data frame\n",
    "\n",
    "load(url(\"http://assets.datacamp.com/course/dasi/kobe.RData\"))\n",
    "\n",
    "# Inspect your data\n",
    "nrow(kobe)\n",
    "head(kobe)\n",
    "tail(kobe)"
   ]
  },
  {
   "cell_type": "code",
   "execution_count": 2,
   "metadata": {},
   "outputs": [
    {
     "data": {
      "text/html": [
       "<ol class=list-inline>\n",
       "\t<li>'vs'</li>\n",
       "\t<li>'game'</li>\n",
       "\t<li>'quarter'</li>\n",
       "\t<li>'time'</li>\n",
       "\t<li>'description'</li>\n",
       "\t<li>'basket'</li>\n",
       "</ol>\n"
      ],
      "text/latex": [
       "\\begin{enumerate*}\n",
       "\\item 'vs'\n",
       "\\item 'game'\n",
       "\\item 'quarter'\n",
       "\\item 'time'\n",
       "\\item 'description'\n",
       "\\item 'basket'\n",
       "\\end{enumerate*}\n"
      ],
      "text/markdown": [
       "1. 'vs'\n",
       "2. 'game'\n",
       "3. 'quarter'\n",
       "4. 'time'\n",
       "5. 'description'\n",
       "6. 'basket'\n",
       "\n",
       "\n"
      ],
      "text/plain": [
       "[1] \"vs\"          \"game\"        \"quarter\"     \"time\"        \"description\"\n",
       "[6] \"basket\"     "
      ]
     },
     "metadata": {},
     "output_type": "display_data"
    },
    {
     "data": {
      "text/html": [
       "<ol class=list-inline>\n",
       "\t<li>'H'</li>\n",
       "\t<li>'M'</li>\n",
       "\t<li>'M'</li>\n",
       "\t<li>'H'</li>\n",
       "\t<li>'H'</li>\n",
       "\t<li>'M'</li>\n",
       "\t<li>'M'</li>\n",
       "\t<li>'M'</li>\n",
       "\t<li>'M'</li>\n",
       "</ol>\n"
      ],
      "text/latex": [
       "\\begin{enumerate*}\n",
       "\\item 'H'\n",
       "\\item 'M'\n",
       "\\item 'M'\n",
       "\\item 'H'\n",
       "\\item 'H'\n",
       "\\item 'M'\n",
       "\\item 'M'\n",
       "\\item 'M'\n",
       "\\item 'M'\n",
       "\\end{enumerate*}\n"
      ],
      "text/markdown": [
       "1. 'H'\n",
       "2. 'M'\n",
       "3. 'M'\n",
       "4. 'H'\n",
       "5. 'H'\n",
       "6. 'M'\n",
       "7. 'M'\n",
       "8. 'M'\n",
       "9. 'M'\n",
       "\n",
       "\n"
      ],
      "text/plain": [
       "[1] \"H\" \"M\" \"M\" \"H\" \"H\" \"M\" \"M\" \"M\" \"M\""
      ]
     },
     "metadata": {},
     "output_type": "display_data"
    },
    {
     "data": {
      "text/html": [
       "<ol class=list-inline>\n",
       "\t<li>'H'</li>\n",
       "\t<li>'M'</li>\n",
       "\t<li>'M'</li>\n",
       "\t<li>'H'</li>\n",
       "\t<li>'H'</li>\n",
       "\t<li>'M'</li>\n",
       "\t<li>'M'</li>\n",
       "\t<li>'M'</li>\n",
       "\t<li>'M'</li>\n",
       "</ol>\n"
      ],
      "text/latex": [
       "\\begin{enumerate*}\n",
       "\\item 'H'\n",
       "\\item 'M'\n",
       "\\item 'M'\n",
       "\\item 'H'\n",
       "\\item 'H'\n",
       "\\item 'M'\n",
       "\\item 'M'\n",
       "\\item 'M'\n",
       "\\item 'M'\n",
       "\\end{enumerate*}\n"
      ],
      "text/markdown": [
       "1. 'H'\n",
       "2. 'M'\n",
       "3. 'M'\n",
       "4. 'H'\n",
       "5. 'H'\n",
       "6. 'M'\n",
       "7. 'M'\n",
       "8. 'M'\n",
       "9. 'M'\n",
       "\n",
       "\n"
      ],
      "text/plain": [
       "[1] \"H\" \"M\" \"M\" \"H\" \"H\" \"M\" \"M\" \"M\" \"M\""
      ]
     },
     "metadata": {},
     "output_type": "display_data"
    }
   ],
   "source": [
    "# Print the variable names of the data frame.\n",
    "names(kobe)\n",
    "\n",
    "# Print the first 9 values of the basket variable\n",
    "head(kobe$basket, 9)\n",
    "\n",
    "# or, \n",
    "kobe$basket[1:9]"
   ]
  },
  {
   "cell_type": "markdown",
   "metadata": {},
   "source": [
    "Let's define the length of a shooting streak to be the number of consecutive baskets made until a miss occurs.\n",
    "\n",
    "For example, in Game 1 Kobe had the following sequence of hits and misses from his nine shot attempts in the first quarter:\n",
    "\n",
    "H M | M | H H M | M | M | M."
   ]
  },
  {
   "cell_type": "markdown",
   "metadata": {},
   "source": [
    "To start the first analysis, let's look at the distribution of the shooting streaks. \n",
    "\n",
    "Along with the data frame,  the custom function calc_streak() is also loaded into the workspace.\n",
    "\n",
    "We'll use this function to calculate the lengths of all shooting streaks and \n",
    "then look at the distribution with a barplot.\n",
    "\n",
    "Note that a bar plot is preferable to a histogram here since our variable is discrete (we're dealing with counts) instead of continuous."
   ]
  },
  {
   "cell_type": "code",
   "execution_count": 3,
   "metadata": {},
   "outputs": [
    {
     "data": {
      "text/html": [
       "<ol class=list-inline>\n",
       "\t<li>1</li>\n",
       "\t<li>0</li>\n",
       "\t<li>2</li>\n",
       "\t<li>0</li>\n",
       "\t<li>0</li>\n",
       "\t<li>0</li>\n",
       "\t<li>3</li>\n",
       "\t<li>2</li>\n",
       "\t<li>0</li>\n",
       "\t<li>3</li>\n",
       "\t<li>0</li>\n",
       "\t<li>1</li>\n",
       "\t<li>3</li>\n",
       "\t<li>0</li>\n",
       "\t<li>0</li>\n",
       "\t<li>0</li>\n",
       "\t<li>0</li>\n",
       "\t<li>0</li>\n",
       "\t<li>1</li>\n",
       "\t<li>1</li>\n",
       "\t<li>0</li>\n",
       "\t<li>4</li>\n",
       "\t<li>1</li>\n",
       "\t<li>0</li>\n",
       "\t<li>1</li>\n",
       "\t<li>0</li>\n",
       "\t<li>1</li>\n",
       "\t<li>0</li>\n",
       "\t<li>1</li>\n",
       "\t<li>2</li>\n",
       "\t<li>0</li>\n",
       "\t<li>1</li>\n",
       "\t<li>2</li>\n",
       "\t<li>1</li>\n",
       "\t<li>0</li>\n",
       "\t<li>0</li>\n",
       "\t<li>1</li>\n",
       "\t<li>0</li>\n",
       "\t<li>0</li>\n",
       "\t<li>0</li>\n",
       "\t<li>1</li>\n",
       "\t<li>1</li>\n",
       "\t<li>0</li>\n",
       "\t<li>1</li>\n",
       "\t<li>0</li>\n",
       "\t<li>2</li>\n",
       "\t<li>0</li>\n",
       "\t<li>0</li>\n",
       "\t<li>0</li>\n",
       "\t<li>3</li>\n",
       "\t<li>0</li>\n",
       "\t<li>1</li>\n",
       "\t<li>0</li>\n",
       "\t<li>1</li>\n",
       "\t<li>2</li>\n",
       "\t<li>1</li>\n",
       "\t<li>0</li>\n",
       "\t<li>1</li>\n",
       "\t<li>0</li>\n",
       "\t<li>0</li>\n",
       "\t<li>1</li>\n",
       "\t<li>3</li>\n",
       "\t<li>3</li>\n",
       "\t<li>1</li>\n",
       "\t<li>1</li>\n",
       "\t<li>0</li>\n",
       "\t<li>0</li>\n",
       "\t<li>0</li>\n",
       "\t<li>0</li>\n",
       "\t<li>0</li>\n",
       "\t<li>1</li>\n",
       "\t<li>1</li>\n",
       "\t<li>0</li>\n",
       "\t<li>0</li>\n",
       "\t<li>0</li>\n",
       "\t<li>1</li>\n",
       "</ol>\n"
      ],
      "text/latex": [
       "\\begin{enumerate*}\n",
       "\\item 1\n",
       "\\item 0\n",
       "\\item 2\n",
       "\\item 0\n",
       "\\item 0\n",
       "\\item 0\n",
       "\\item 3\n",
       "\\item 2\n",
       "\\item 0\n",
       "\\item 3\n",
       "\\item 0\n",
       "\\item 1\n",
       "\\item 3\n",
       "\\item 0\n",
       "\\item 0\n",
       "\\item 0\n",
       "\\item 0\n",
       "\\item 0\n",
       "\\item 1\n",
       "\\item 1\n",
       "\\item 0\n",
       "\\item 4\n",
       "\\item 1\n",
       "\\item 0\n",
       "\\item 1\n",
       "\\item 0\n",
       "\\item 1\n",
       "\\item 0\n",
       "\\item 1\n",
       "\\item 2\n",
       "\\item 0\n",
       "\\item 1\n",
       "\\item 2\n",
       "\\item 1\n",
       "\\item 0\n",
       "\\item 0\n",
       "\\item 1\n",
       "\\item 0\n",
       "\\item 0\n",
       "\\item 0\n",
       "\\item 1\n",
       "\\item 1\n",
       "\\item 0\n",
       "\\item 1\n",
       "\\item 0\n",
       "\\item 2\n",
       "\\item 0\n",
       "\\item 0\n",
       "\\item 0\n",
       "\\item 3\n",
       "\\item 0\n",
       "\\item 1\n",
       "\\item 0\n",
       "\\item 1\n",
       "\\item 2\n",
       "\\item 1\n",
       "\\item 0\n",
       "\\item 1\n",
       "\\item 0\n",
       "\\item 0\n",
       "\\item 1\n",
       "\\item 3\n",
       "\\item 3\n",
       "\\item 1\n",
       "\\item 1\n",
       "\\item 0\n",
       "\\item 0\n",
       "\\item 0\n",
       "\\item 0\n",
       "\\item 0\n",
       "\\item 1\n",
       "\\item 1\n",
       "\\item 0\n",
       "\\item 0\n",
       "\\item 0\n",
       "\\item 1\n",
       "\\end{enumerate*}\n"
      ],
      "text/markdown": [
       "1. 1\n",
       "2. 0\n",
       "3. 2\n",
       "4. 0\n",
       "5. 0\n",
       "6. 0\n",
       "7. 3\n",
       "8. 2\n",
       "9. 0\n",
       "10. 3\n",
       "11. 0\n",
       "12. 1\n",
       "13. 3\n",
       "14. 0\n",
       "15. 0\n",
       "16. 0\n",
       "17. 0\n",
       "18. 0\n",
       "19. 1\n",
       "20. 1\n",
       "21. 0\n",
       "22. 4\n",
       "23. 1\n",
       "24. 0\n",
       "25. 1\n",
       "26. 0\n",
       "27. 1\n",
       "28. 0\n",
       "29. 1\n",
       "30. 2\n",
       "31. 0\n",
       "32. 1\n",
       "33. 2\n",
       "34. 1\n",
       "35. 0\n",
       "36. 0\n",
       "37. 1\n",
       "38. 0\n",
       "39. 0\n",
       "40. 0\n",
       "41. 1\n",
       "42. 1\n",
       "43. 0\n",
       "44. 1\n",
       "45. 0\n",
       "46. 2\n",
       "47. 0\n",
       "48. 0\n",
       "49. 0\n",
       "50. 3\n",
       "51. 0\n",
       "52. 1\n",
       "53. 0\n",
       "54. 1\n",
       "55. 2\n",
       "56. 1\n",
       "57. 0\n",
       "58. 1\n",
       "59. 0\n",
       "60. 0\n",
       "61. 1\n",
       "62. 3\n",
       "63. 3\n",
       "64. 1\n",
       "65. 1\n",
       "66. 0\n",
       "67. 0\n",
       "68. 0\n",
       "69. 0\n",
       "70. 0\n",
       "71. 1\n",
       "72. 1\n",
       "73. 0\n",
       "74. 0\n",
       "75. 0\n",
       "76. 1\n",
       "\n",
       "\n"
      ],
      "text/plain": [
       " [1] 1 0 2 0 0 0 3 2 0 3 0 1 3 0 0 0 0 0 1 1 0 4 1 0 1 0 1 0 1 2 0 1 2 1 0 0 1 0\n",
       "[39] 0 0 1 1 0 1 0 2 0 0 0 3 0 1 0 1 2 1 0 1 0 0 1 3 3 1 1 0 0 0 0 0 1 1 0 0 0 1"
      ]
     },
     "metadata": {},
     "output_type": "display_data"
    },
    {
     "data": {
      "text/plain": [
       "kobe_streak\n",
       " 0  1  2  3  4 \n",
       "39 24  6  6  1 "
      ]
     },
     "metadata": {},
     "output_type": "display_data"
    },
    {
     "data": {
      "image/png": "[encoded data removed]",
      "text/plain": [
       "plot without title"
      ]
     },
     "metadata": {},
     "output_type": "display_data"
    },
    {
     "data": {
      "image/png": "[encoded data removed]",
      "text/plain": [
       "Plot with title “Histogram of kobe_streak”"
      ]
     },
     "metadata": {},
     "output_type": "display_data"
    }
   ],
   "source": [
    "# Assign Kobe's streak lengths:\n",
    "calc_streak(kobe$basket)\n",
    "kobe_streak <- calc_streak(kobe$basket)\n",
    "\n",
    "# Draw a barplot of the result:\n",
    "table(kobe_streak)\n",
    "barplot(table(kobe_streak))\n",
    "\n",
    "# in continuous cases, histogram is a better option; not in our case.\n",
    "\n",
    "hist(kobe_streak)"
   ]
  },
  {
   "cell_type": "markdown",
   "metadata": {},
   "source": [
    "See, the distribution of Kobe's streaks is unimodal and left skewed."
   ]
  },
  {
   "cell_type": "markdown",
   "metadata": {},
   "source": [
    "We've shown that Kobe had some long shooting streaks, but are they long enough to support the belief that he had hot hands? \n",
    "\n",
    "What can we compare them to?\n",
    "\n",
    "If Kobe's shooting streaks diverge significantly from an independent shooter's streaks, we can conclude that Kobe likely has a hot hand.\n"
   ]
  },
  {
   "cell_type": "markdown",
   "metadata": {},
   "source": [
    "So the key is to compare Kobe's data with that of a shooter who we know to have independent shots.\n",
    "\n",
    "While we don't have any such data, that is very easy to simulate in R.\n",
    "\n",
    "In a simulation, you set the ground rules of a random process and then the computer uses random numbers to generate an outcome that adheres to those rules. \n",
    "\n",
    "As a simple example, you can simulate flipping a fair coin with the following commands."
   ]
  },
  {
   "cell_type": "code",
   "execution_count": null,
   "metadata": {},
   "outputs": [],
   "source": [
    "# Try some simulations!\n",
    "outcomes <- c(\"heads\", \"tails\")\n",
    "sample(outcomes, size = 1, replace = TRUE)\n",
    "\n",
    "# one more flip\n",
    "sample(outcomes, size = 1, replace = TRUE)"
   ]
  },
  {
   "cell_type": "markdown",
   "metadata": {},
   "source": [
    "Let's flip 100 coins!"
   ]
  },
  {
   "cell_type": "code",
   "execution_count": 4,
   "metadata": {},
   "outputs": [
    {
     "data": {
      "text/html": [
       "<ol class=list-inline>\n",
       "\t<li>'heads'</li>\n",
       "\t<li>'tails'</li>\n",
       "\t<li>'heads'</li>\n",
       "\t<li>'heads'</li>\n",
       "\t<li>'heads'</li>\n",
       "\t<li>'tails'</li>\n",
       "\t<li>'heads'</li>\n",
       "\t<li>'heads'</li>\n",
       "\t<li>'tails'</li>\n",
       "\t<li>'tails'</li>\n",
       "\t<li>'heads'</li>\n",
       "\t<li>'heads'</li>\n",
       "\t<li>'heads'</li>\n",
       "\t<li>'heads'</li>\n",
       "\t<li>'heads'</li>\n",
       "\t<li>'heads'</li>\n",
       "\t<li>'tails'</li>\n",
       "\t<li>'tails'</li>\n",
       "\t<li>'heads'</li>\n",
       "\t<li>'heads'</li>\n",
       "\t<li>'tails'</li>\n",
       "\t<li>'tails'</li>\n",
       "\t<li>'tails'</li>\n",
       "\t<li>'tails'</li>\n",
       "\t<li>'heads'</li>\n",
       "\t<li>'heads'</li>\n",
       "\t<li>'tails'</li>\n",
       "\t<li>'tails'</li>\n",
       "\t<li>'tails'</li>\n",
       "\t<li>'tails'</li>\n",
       "\t<li>'heads'</li>\n",
       "\t<li>'heads'</li>\n",
       "\t<li>'heads'</li>\n",
       "\t<li>'heads'</li>\n",
       "\t<li>'heads'</li>\n",
       "\t<li>'tails'</li>\n",
       "\t<li>'tails'</li>\n",
       "\t<li>'tails'</li>\n",
       "\t<li>'heads'</li>\n",
       "\t<li>'heads'</li>\n",
       "\t<li>'heads'</li>\n",
       "\t<li>'tails'</li>\n",
       "\t<li>'heads'</li>\n",
       "\t<li>'heads'</li>\n",
       "\t<li>'tails'</li>\n",
       "\t<li>'heads'</li>\n",
       "\t<li>'tails'</li>\n",
       "\t<li>'tails'</li>\n",
       "\t<li>'tails'</li>\n",
       "\t<li>'heads'</li>\n",
       "\t<li>'heads'</li>\n",
       "\t<li>'tails'</li>\n",
       "\t<li>'tails'</li>\n",
       "\t<li>'tails'</li>\n",
       "\t<li>'heads'</li>\n",
       "\t<li>'heads'</li>\n",
       "\t<li>'heads'</li>\n",
       "\t<li>'heads'</li>\n",
       "\t<li>'tails'</li>\n",
       "\t<li>'tails'</li>\n",
       "\t<li>'heads'</li>\n",
       "\t<li>'tails'</li>\n",
       "\t<li>'tails'</li>\n",
       "\t<li>'heads'</li>\n",
       "\t<li>'heads'</li>\n",
       "\t<li>'heads'</li>\n",
       "\t<li>'heads'</li>\n",
       "\t<li>'heads'</li>\n",
       "\t<li>'heads'</li>\n",
       "\t<li>'tails'</li>\n",
       "\t<li>'tails'</li>\n",
       "\t<li>'tails'</li>\n",
       "\t<li>'heads'</li>\n",
       "\t<li>'tails'</li>\n",
       "\t<li>'heads'</li>\n",
       "\t<li>'tails'</li>\n",
       "\t<li>'tails'</li>\n",
       "\t<li>'heads'</li>\n",
       "\t<li>'heads'</li>\n",
       "\t<li>'tails'</li>\n",
       "\t<li>'heads'</li>\n",
       "\t<li>'tails'</li>\n",
       "\t<li>'heads'</li>\n",
       "\t<li>'tails'</li>\n",
       "\t<li>'tails'</li>\n",
       "\t<li>'heads'</li>\n",
       "\t<li>'tails'</li>\n",
       "\t<li>'heads'</li>\n",
       "\t<li>'tails'</li>\n",
       "\t<li>'heads'</li>\n",
       "\t<li>'tails'</li>\n",
       "\t<li>'heads'</li>\n",
       "\t<li>'tails'</li>\n",
       "\t<li>'heads'</li>\n",
       "\t<li>'tails'</li>\n",
       "\t<li>'heads'</li>\n",
       "\t<li>'tails'</li>\n",
       "\t<li>'tails'</li>\n",
       "\t<li>'tails'</li>\n",
       "\t<li>'heads'</li>\n",
       "</ol>\n"
      ],
      "text/latex": [
       "\\begin{enumerate*}\n",
       "\\item 'heads'\n",
       "\\item 'tails'\n",
       "\\item 'heads'\n",
       "\\item 'heads'\n",
       "\\item 'heads'\n",
       "\\item 'tails'\n",
       "\\item 'heads'\n",
       "\\item 'heads'\n",
       "\\item 'tails'\n",
       "\\item 'tails'\n",
       "\\item 'heads'\n",
       "\\item 'heads'\n",
       "\\item 'heads'\n",
       "\\item 'heads'\n",
       "\\item 'heads'\n",
       "\\item 'heads'\n",
       "\\item 'tails'\n",
       "\\item 'tails'\n",
       "\\item 'heads'\n",
       "\\item 'heads'\n",
       "\\item 'tails'\n",
       "\\item 'tails'\n",
       "\\item 'tails'\n",
       "\\item 'tails'\n",
       "\\item 'heads'\n",
       "\\item 'heads'\n",
       "\\item 'tails'\n",
       "\\item 'tails'\n",
       "\\item 'tails'\n",
       "\\item 'tails'\n",
       "\\item 'heads'\n",
       "\\item 'heads'\n",
       "\\item 'heads'\n",
       "\\item 'heads'\n",
       "\\item 'heads'\n",
       "\\item 'tails'\n",
       "\\item 'tails'\n",
       "\\item 'tails'\n",
       "\\item 'heads'\n",
       "\\item 'heads'\n",
       "\\item 'heads'\n",
       "\\item 'tails'\n",
       "\\item 'heads'\n",
       "\\item 'heads'\n",
       "\\item 'tails'\n",
       "\\item 'heads'\n",
       "\\item 'tails'\n",
       "\\item 'tails'\n",
       "\\item 'tails'\n",
       "\\item 'heads'\n",
       "\\item 'heads'\n",
       "\\item 'tails'\n",
       "\\item 'tails'\n",
       "\\item 'tails'\n",
       "\\item 'heads'\n",
       "\\item 'heads'\n",
       "\\item 'heads'\n",
       "\\item 'heads'\n",
       "\\item 'tails'\n",
       "\\item 'tails'\n",
       "\\item 'heads'\n",
       "\\item 'tails'\n",
       "\\item 'tails'\n",
       "\\item 'heads'\n",
       "\\item 'heads'\n",
       "\\item 'heads'\n",
       "\\item 'heads'\n",
       "\\item 'heads'\n",
       "\\item 'heads'\n",
       "\\item 'tails'\n",
       "\\item 'tails'\n",
       "\\item 'tails'\n",
       "\\item 'heads'\n",
       "\\item 'tails'\n",
       "\\item 'heads'\n",
       "\\item 'tails'\n",
       "\\item 'tails'\n",
       "\\item 'heads'\n",
       "\\item 'heads'\n",
       "\\item 'tails'\n",
       "\\item 'heads'\n",
       "\\item 'tails'\n",
       "\\item 'heads'\n",
       "\\item 'tails'\n",
       "\\item 'tails'\n",
       "\\item 'heads'\n",
       "\\item 'tails'\n",
       "\\item 'heads'\n",
       "\\item 'tails'\n",
       "\\item 'heads'\n",
       "\\item 'tails'\n",
       "\\item 'heads'\n",
       "\\item 'tails'\n",
       "\\item 'heads'\n",
       "\\item 'tails'\n",
       "\\item 'heads'\n",
       "\\item 'tails'\n",
       "\\item 'tails'\n",
       "\\item 'tails'\n",
       "\\item 'heads'\n",
       "\\end{enumerate*}\n"
      ],
      "text/markdown": [
       "1. 'heads'\n",
       "2. 'tails'\n",
       "3. 'heads'\n",
       "4. 'heads'\n",
       "5. 'heads'\n",
       "6. 'tails'\n",
       "7. 'heads'\n",
       "8. 'heads'\n",
       "9. 'tails'\n",
       "10. 'tails'\n",
       "11. 'heads'\n",
       "12. 'heads'\n",
       "13. 'heads'\n",
       "14. 'heads'\n",
       "15. 'heads'\n",
       "16. 'heads'\n",
       "17. 'tails'\n",
       "18. 'tails'\n",
       "19. 'heads'\n",
       "20. 'heads'\n",
       "21. 'tails'\n",
       "22. 'tails'\n",
       "23. 'tails'\n",
       "24. 'tails'\n",
       "25. 'heads'\n",
       "26. 'heads'\n",
       "27. 'tails'\n",
       "28. 'tails'\n",
       "29. 'tails'\n",
       "30. 'tails'\n",
       "31. 'heads'\n",
       "32. 'heads'\n",
       "33. 'heads'\n",
       "34. 'heads'\n",
       "35. 'heads'\n",
       "36. 'tails'\n",
       "37. 'tails'\n",
       "38. 'tails'\n",
       "39. 'heads'\n",
       "40. 'heads'\n",
       "41. 'heads'\n",
       "42. 'tails'\n",
       "43. 'heads'\n",
       "44. 'heads'\n",
       "45. 'tails'\n",
       "46. 'heads'\n",
       "47. 'tails'\n",
       "48. 'tails'\n",
       "49. 'tails'\n",
       "50. 'heads'\n",
       "51. 'heads'\n",
       "52. 'tails'\n",
       "53. 'tails'\n",
       "54. 'tails'\n",
       "55. 'heads'\n",
       "56. 'heads'\n",
       "57. 'heads'\n",
       "58. 'heads'\n",
       "59. 'tails'\n",
       "60. 'tails'\n",
       "61. 'heads'\n",
       "62. 'tails'\n",
       "63. 'tails'\n",
       "64. 'heads'\n",
       "65. 'heads'\n",
       "66. 'heads'\n",
       "67. 'heads'\n",
       "68. 'heads'\n",
       "69. 'heads'\n",
       "70. 'tails'\n",
       "71. 'tails'\n",
       "72. 'tails'\n",
       "73. 'heads'\n",
       "74. 'tails'\n",
       "75. 'heads'\n",
       "76. 'tails'\n",
       "77. 'tails'\n",
       "78. 'heads'\n",
       "79. 'heads'\n",
       "80. 'tails'\n",
       "81. 'heads'\n",
       "82. 'tails'\n",
       "83. 'heads'\n",
       "84. 'tails'\n",
       "85. 'tails'\n",
       "86. 'heads'\n",
       "87. 'tails'\n",
       "88. 'heads'\n",
       "89. 'tails'\n",
       "90. 'heads'\n",
       "91. 'tails'\n",
       "92. 'heads'\n",
       "93. 'tails'\n",
       "94. 'heads'\n",
       "95. 'tails'\n",
       "96. 'heads'\n",
       "97. 'tails'\n",
       "98. 'tails'\n",
       "99. 'tails'\n",
       "100. 'heads'\n",
       "\n",
       "\n"
      ],
      "text/plain": [
       "  [1] \"heads\" \"tails\" \"heads\" \"heads\" \"heads\" \"tails\" \"heads\" \"heads\" \"tails\"\n",
       " [10] \"tails\" \"heads\" \"heads\" \"heads\" \"heads\" \"heads\" \"heads\" \"tails\" \"tails\"\n",
       " [19] \"heads\" \"heads\" \"tails\" \"tails\" \"tails\" \"tails\" \"heads\" \"heads\" \"tails\"\n",
       " [28] \"tails\" \"tails\" \"tails\" \"heads\" \"heads\" \"heads\" \"heads\" \"heads\" \"tails\"\n",
       " [37] \"tails\" \"tails\" \"heads\" \"heads\" \"heads\" \"tails\" \"heads\" \"heads\" \"tails\"\n",
       " [46] \"heads\" \"tails\" \"tails\" \"tails\" \"heads\" \"heads\" \"tails\" \"tails\" \"tails\"\n",
       " [55] \"heads\" \"heads\" \"heads\" \"heads\" \"tails\" \"tails\" \"heads\" \"tails\" \"tails\"\n",
       " [64] \"heads\" \"heads\" \"heads\" \"heads\" \"heads\" \"heads\" \"tails\" \"tails\" \"tails\"\n",
       " [73] \"heads\" \"tails\" \"heads\" \"tails\" \"tails\" \"heads\" \"heads\" \"tails\" \"heads\"\n",
       " [82] \"tails\" \"heads\" \"tails\" \"tails\" \"heads\" \"tails\" \"heads\" \"tails\" \"heads\"\n",
       " [91] \"tails\" \"heads\" \"tails\" \"heads\" \"tails\" \"heads\" \"tails\" \"tails\" \"tails\"\n",
       "[100] \"heads\""
      ]
     },
     "metadata": {},
     "output_type": "display_data"
    },
    {
     "data": {
      "text/plain": [
       "sim_fair_coin\n",
       "heads tails \n",
       "   53    47 "
      ]
     },
     "metadata": {},
     "output_type": "display_data"
    }
   ],
   "source": [
    "# Run the simulation:\n",
    "outcomes <- c(\"heads\", \"tails\")\n",
    "sim_fair_coin <- sample(outcomes, 100, TRUE)\n",
    "\n",
    "# Print the object:\n",
    "sim_fair_coin\n",
    "\n",
    "# Compute the counts of heads and tails:\n",
    "table(sim_fair_coin)"
   ]
  },
  {
   "cell_type": "markdown",
   "metadata": {},
   "source": [
    "What about flipping an unfair coin?"
   ]
  },
  {
   "cell_type": "code",
   "execution_count": null,
   "metadata": {},
   "outputs": [],
   "source": [
    "# Run the simulation:\n",
    "outcomes <- c(\"heads\", \"tails\")\n",
    "sim_unfair_coin <-  sample(outcomes, 100, prob=c(0.2, 0.8), replace=TRUE)\n",
    "\n",
    "# Print the object:\n",
    "sim_unfair_coin\n",
    "\n",
    "# Compute the counts of heads and tails:\n",
    "table(sim_unfair_coin)"
   ]
  },
  {
   "cell_type": "markdown",
   "metadata": {},
   "source": [
    "Simulating a basketball player who has independent shots uses the same mechanism that we used to simulate a coin flip. \n",
    "\n",
    "To simulate a single shot from an independent shooter with a shooting percentage of 50% we type, "
   ]
  },
  {
   "cell_type": "code",
   "execution_count": 5,
   "metadata": {},
   "outputs": [
    {
     "data": {
      "text/html": [
       "'H'"
      ],
      "text/latex": [
       "'H'"
      ],
      "text/markdown": [
       "'H'"
      ],
      "text/plain": [
       "[1] \"H\""
      ]
     },
     "metadata": {},
     "output_type": "display_data"
    }
   ],
   "source": [
    "# Run the simulation and assign the result to sim_basket.\n",
    "\n",
    "outcomes <- c(\"H\", \"M\") \n",
    "\n",
    "# Here, H is for \"Hit\", M is for \"Miss\"\n",
    "\n",
    "sample(outcomes, size = 1, replace = TRUE)"
   ]
  },
  {
   "cell_type": "markdown",
   "metadata": {},
   "source": [
    "Run a simulation to sample 133 shots (the number of shots of Kobe in this data set) with a shooting percentage of 45%. \n",
    "\n",
    "Assign the output of this simulation to a new object called sim_basket"
   ]
  },
  {
   "cell_type": "code",
   "execution_count": 9,
   "metadata": {},
   "outputs": [
    {
     "data": {
      "text/plain": [
       "sim_basket\n",
       " H  M \n",
       "57 76 "
      ]
     },
     "metadata": {},
     "output_type": "display_data"
    }
   ],
   "source": [
    "sim_basket <- sample(outcomes, size = 133, prob=c(0.45,0.55),replace = TRUE)\n",
    "\n",
    "# Inspect your simulation\n",
    "table(sim_basket)"
   ]
  },
  {
   "cell_type": "markdown",
   "metadata": {},
   "source": [
    "With the results of the simulation saved as sim_basket, you have the data you need to compare Kobe to your independent shooter. \n",
    "\n",
    "We can look at Kobe's data alongside our simulated data: kobe$basket vs. sim_basket."
   ]
  },
  {
   "cell_type": "code",
   "execution_count": 10,
   "metadata": {},
   "outputs": [
    {
     "data": {
      "text/plain": [
       "   Min. 1st Qu.  Median    Mean 3rd Qu.    Max. \n",
       " 0.0000  0.0000  0.0000  0.7632  1.0000  4.0000 "
      ]
     },
     "metadata": {},
     "output_type": "display_data"
    },
    {
     "data": {
      "text/plain": [
       "   Min. 1st Qu.  Median    Mean 3rd Qu.    Max. \n",
       " 0.0000  0.0000  0.0000  0.7403  1.0000  4.0000 "
      ]
     },
     "metadata": {},
     "output_type": "display_data"
    },
    {
     "data": {
      "image/png": "[encoded data removed]",
      "text/plain": [
       "plot without title"
      ]
     },
     "metadata": {},
     "output_type": "display_data"
    }
   ],
   "source": [
    "# Calculate streak lengths:\n",
    "kobe_streak <- calc_streak(kobe$basket)\n",
    "sim_streak <- calc_streak(sim_basket)\n",
    "\n",
    "# Compute summaries:\n",
    "summary(kobe_streak)\n",
    "summary(sim_streak)\n",
    "\n",
    "# Make bar plots:\n",
    "kobe_table <- table(kobe_streak)\n",
    "sim_table <- table(sim_streak)\n",
    "\n",
    "par(mfrow=c(1,2))\n",
    "barplot(kobe_table)\n",
    "barplot(sim_table)\n"
   ]
  },
  {
   "cell_type": "markdown",
   "metadata": {},
   "source": [
    "Since Kobe's streak length distribution looks very similar to the independent shooter's simulated steak length distribution, we can conclude that Kobe Bryant likely does not have a \"hot hand\".\n"
   ]
  },
  {
   "cell_type": "markdown",
   "metadata": {},
   "source": [
    "# An Exercise on Basic Statistical Inference"
   ]
  },
  {
   "cell_type": "markdown",
   "metadata": {},
   "source": [
    "We consider real estate data from the city of Ames, Iowa. \n",
    "\n",
    "Our particular focus for this lab will be all residential home sales in Ames between 2006 and 2010. \n",
    "\n",
    "This collection represents our population of interest (which is rare to have access to),\n",
    "but we will also work with smaller samples from this population."
   ]
  },
  {
   "cell_type": "code",
   "execution_count": 11,
   "metadata": {},
   "outputs": [
    {
     "data": {
      "text/html": [
       "<ol class=list-inline>\n",
       "\t<li>'Order'</li>\n",
       "\t<li>'PID'</li>\n",
       "\t<li>'MS.SubClass'</li>\n",
       "\t<li>'MS.Zoning'</li>\n",
       "\t<li>'Lot.Frontage'</li>\n",
       "\t<li>'Lot.Area'</li>\n",
       "\t<li>'Street'</li>\n",
       "\t<li>'Alley'</li>\n",
       "\t<li>'Lot.Shape'</li>\n",
       "\t<li>'Land.Contour'</li>\n",
       "\t<li>'Utilities'</li>\n",
       "\t<li>'Lot.Config'</li>\n",
       "\t<li>'Land.Slope'</li>\n",
       "\t<li>'Neighborhood'</li>\n",
       "\t<li>'Condition.1'</li>\n",
       "\t<li>'Condition.2'</li>\n",
       "\t<li>'Bldg.Type'</li>\n",
       "\t<li>'House.Style'</li>\n",
       "\t<li>'Overall.Qual'</li>\n",
       "\t<li>'Overall.Cond'</li>\n",
       "\t<li>'Year.Built'</li>\n",
       "\t<li>'Year.Remod.Add'</li>\n",
       "\t<li>'Roof.Style'</li>\n",
       "\t<li>'Roof.Matl'</li>\n",
       "\t<li>'Exterior.1st'</li>\n",
       "\t<li>'Exterior.2nd'</li>\n",
       "\t<li>'Mas.Vnr.Type'</li>\n",
       "\t<li>'Mas.Vnr.Area'</li>\n",
       "\t<li>'Exter.Qual'</li>\n",
       "\t<li>'Exter.Cond'</li>\n",
       "\t<li>'Foundation'</li>\n",
       "\t<li>'Bsmt.Qual'</li>\n",
       "\t<li>'Bsmt.Cond'</li>\n",
       "\t<li>'Bsmt.Exposure'</li>\n",
       "\t<li>'BsmtFin.Type.1'</li>\n",
       "\t<li>'BsmtFin.SF.1'</li>\n",
       "\t<li>'BsmtFin.Type.2'</li>\n",
       "\t<li>'BsmtFin.SF.2'</li>\n",
       "\t<li>'Bsmt.Unf.SF'</li>\n",
       "\t<li>'Total.Bsmt.SF'</li>\n",
       "\t<li>'Heating'</li>\n",
       "\t<li>'Heating.QC'</li>\n",
       "\t<li>'Central.Air'</li>\n",
       "\t<li>'Electrical'</li>\n",
       "\t<li>'X1st.Flr.SF'</li>\n",
       "\t<li>'X2nd.Flr.SF'</li>\n",
       "\t<li>'Low.Qual.Fin.SF'</li>\n",
       "\t<li>'Gr.Liv.Area'</li>\n",
       "\t<li>'Bsmt.Full.Bath'</li>\n",
       "\t<li>'Bsmt.Half.Bath'</li>\n",
       "\t<li>'Full.Bath'</li>\n",
       "\t<li>'Half.Bath'</li>\n",
       "\t<li>'Bedroom.AbvGr'</li>\n",
       "\t<li>'Kitchen.AbvGr'</li>\n",
       "\t<li>'Kitchen.Qual'</li>\n",
       "\t<li>'TotRms.AbvGrd'</li>\n",
       "\t<li>'Functional'</li>\n",
       "\t<li>'Fireplaces'</li>\n",
       "\t<li>'Fireplace.Qu'</li>\n",
       "\t<li>'Garage.Type'</li>\n",
       "\t<li>'Garage.Yr.Blt'</li>\n",
       "\t<li>'Garage.Finish'</li>\n",
       "\t<li>'Garage.Cars'</li>\n",
       "\t<li>'Garage.Area'</li>\n",
       "\t<li>'Garage.Qual'</li>\n",
       "\t<li>'Garage.Cond'</li>\n",
       "\t<li>'Paved.Drive'</li>\n",
       "\t<li>'Wood.Deck.SF'</li>\n",
       "\t<li>'Open.Porch.SF'</li>\n",
       "\t<li>'Enclosed.Porch'</li>\n",
       "\t<li>'X3Ssn.Porch'</li>\n",
       "\t<li>'Screen.Porch'</li>\n",
       "\t<li>'Pool.Area'</li>\n",
       "\t<li>'Pool.QC'</li>\n",
       "\t<li>'Fence'</li>\n",
       "\t<li>'Misc.Feature'</li>\n",
       "\t<li>'Misc.Val'</li>\n",
       "\t<li>'Mo.Sold'</li>\n",
       "\t<li>'Yr.Sold'</li>\n",
       "\t<li>'Sale.Type'</li>\n",
       "\t<li>'Sale.Condition'</li>\n",
       "\t<li>'SalePrice'</li>\n",
       "</ol>\n"
      ],
      "text/latex": [
       "\\begin{enumerate*}\n",
       "\\item 'Order'\n",
       "\\item 'PID'\n",
       "\\item 'MS.SubClass'\n",
       "\\item 'MS.Zoning'\n",
       "\\item 'Lot.Frontage'\n",
       "\\item 'Lot.Area'\n",
       "\\item 'Street'\n",
       "\\item 'Alley'\n",
       "\\item 'Lot.Shape'\n",
       "\\item 'Land.Contour'\n",
       "\\item 'Utilities'\n",
       "\\item 'Lot.Config'\n",
       "\\item 'Land.Slope'\n",
       "\\item 'Neighborhood'\n",
       "\\item 'Condition.1'\n",
       "\\item 'Condition.2'\n",
       "\\item 'Bldg.Type'\n",
       "\\item 'House.Style'\n",
       "\\item 'Overall.Qual'\n",
       "\\item 'Overall.Cond'\n",
       "\\item 'Year.Built'\n",
       "\\item 'Year.Remod.Add'\n",
       "\\item 'Roof.Style'\n",
       "\\item 'Roof.Matl'\n",
       "\\item 'Exterior.1st'\n",
       "\\item 'Exterior.2nd'\n",
       "\\item 'Mas.Vnr.Type'\n",
       "\\item 'Mas.Vnr.Area'\n",
       "\\item 'Exter.Qual'\n",
       "\\item 'Exter.Cond'\n",
       "\\item 'Foundation'\n",
       "\\item 'Bsmt.Qual'\n",
       "\\item 'Bsmt.Cond'\n",
       "\\item 'Bsmt.Exposure'\n",
       "\\item 'BsmtFin.Type.1'\n",
       "\\item 'BsmtFin.SF.1'\n",
       "\\item 'BsmtFin.Type.2'\n",
       "\\item 'BsmtFin.SF.2'\n",
       "\\item 'Bsmt.Unf.SF'\n",
       "\\item 'Total.Bsmt.SF'\n",
       "\\item 'Heating'\n",
       "\\item 'Heating.QC'\n",
       "\\item 'Central.Air'\n",
       "\\item 'Electrical'\n",
       "\\item 'X1st.Flr.SF'\n",
       "\\item 'X2nd.Flr.SF'\n",
       "\\item 'Low.Qual.Fin.SF'\n",
       "\\item 'Gr.Liv.Area'\n",
       "\\item 'Bsmt.Full.Bath'\n",
       "\\item 'Bsmt.Half.Bath'\n",
       "\\item 'Full.Bath'\n",
       "\\item 'Half.Bath'\n",
       "\\item 'Bedroom.AbvGr'\n",
       "\\item 'Kitchen.AbvGr'\n",
       "\\item 'Kitchen.Qual'\n",
       "\\item 'TotRms.AbvGrd'\n",
       "\\item 'Functional'\n",
       "\\item 'Fireplaces'\n",
       "\\item 'Fireplace.Qu'\n",
       "\\item 'Garage.Type'\n",
       "\\item 'Garage.Yr.Blt'\n",
       "\\item 'Garage.Finish'\n",
       "\\item 'Garage.Cars'\n",
       "\\item 'Garage.Area'\n",
       "\\item 'Garage.Qual'\n",
       "\\item 'Garage.Cond'\n",
       "\\item 'Paved.Drive'\n",
       "\\item 'Wood.Deck.SF'\n",
       "\\item 'Open.Porch.SF'\n",
       "\\item 'Enclosed.Porch'\n",
       "\\item 'X3Ssn.Porch'\n",
       "\\item 'Screen.Porch'\n",
       "\\item 'Pool.Area'\n",
       "\\item 'Pool.QC'\n",
       "\\item 'Fence'\n",
       "\\item 'Misc.Feature'\n",
       "\\item 'Misc.Val'\n",
       "\\item 'Mo.Sold'\n",
       "\\item 'Yr.Sold'\n",
       "\\item 'Sale.Type'\n",
       "\\item 'Sale.Condition'\n",
       "\\item 'SalePrice'\n",
       "\\end{enumerate*}\n"
      ],
      "text/markdown": [
       "1. 'Order'\n",
       "2. 'PID'\n",
       "3. 'MS.SubClass'\n",
       "4. 'MS.Zoning'\n",
       "5. 'Lot.Frontage'\n",
       "6. 'Lot.Area'\n",
       "7. 'Street'\n",
       "8. 'Alley'\n",
       "9. 'Lot.Shape'\n",
       "10. 'Land.Contour'\n",
       "11. 'Utilities'\n",
       "12. 'Lot.Config'\n",
       "13. 'Land.Slope'\n",
       "14. 'Neighborhood'\n",
       "15. 'Condition.1'\n",
       "16. 'Condition.2'\n",
       "17. 'Bldg.Type'\n",
       "18. 'House.Style'\n",
       "19. 'Overall.Qual'\n",
       "20. 'Overall.Cond'\n",
       "21. 'Year.Built'\n",
       "22. 'Year.Remod.Add'\n",
       "23. 'Roof.Style'\n",
       "24. 'Roof.Matl'\n",
       "25. 'Exterior.1st'\n",
       "26. 'Exterior.2nd'\n",
       "27. 'Mas.Vnr.Type'\n",
       "28. 'Mas.Vnr.Area'\n",
       "29. 'Exter.Qual'\n",
       "30. 'Exter.Cond'\n",
       "31. 'Foundation'\n",
       "32. 'Bsmt.Qual'\n",
       "33. 'Bsmt.Cond'\n",
       "34. 'Bsmt.Exposure'\n",
       "35. 'BsmtFin.Type.1'\n",
       "36. 'BsmtFin.SF.1'\n",
       "37. 'BsmtFin.Type.2'\n",
       "38. 'BsmtFin.SF.2'\n",
       "39. 'Bsmt.Unf.SF'\n",
       "40. 'Total.Bsmt.SF'\n",
       "41. 'Heating'\n",
       "42. 'Heating.QC'\n",
       "43. 'Central.Air'\n",
       "44. 'Electrical'\n",
       "45. 'X1st.Flr.SF'\n",
       "46. 'X2nd.Flr.SF'\n",
       "47. 'Low.Qual.Fin.SF'\n",
       "48. 'Gr.Liv.Area'\n",
       "49. 'Bsmt.Full.Bath'\n",
       "50. 'Bsmt.Half.Bath'\n",
       "51. 'Full.Bath'\n",
       "52. 'Half.Bath'\n",
       "53. 'Bedroom.AbvGr'\n",
       "54. 'Kitchen.AbvGr'\n",
       "55. 'Kitchen.Qual'\n",
       "56. 'TotRms.AbvGrd'\n",
       "57. 'Functional'\n",
       "58. 'Fireplaces'\n",
       "59. 'Fireplace.Qu'\n",
       "60. 'Garage.Type'\n",
       "61. 'Garage.Yr.Blt'\n",
       "62. 'Garage.Finish'\n",
       "63. 'Garage.Cars'\n",
       "64. 'Garage.Area'\n",
       "65. 'Garage.Qual'\n",
       "66. 'Garage.Cond'\n",
       "67. 'Paved.Drive'\n",
       "68. 'Wood.Deck.SF'\n",
       "69. 'Open.Porch.SF'\n",
       "70. 'Enclosed.Porch'\n",
       "71. 'X3Ssn.Porch'\n",
       "72. 'Screen.Porch'\n",
       "73. 'Pool.Area'\n",
       "74. 'Pool.QC'\n",
       "75. 'Fence'\n",
       "76. 'Misc.Feature'\n",
       "77. 'Misc.Val'\n",
       "78. 'Mo.Sold'\n",
       "79. 'Yr.Sold'\n",
       "80. 'Sale.Type'\n",
       "81. 'Sale.Condition'\n",
       "82. 'SalePrice'\n",
       "\n",
       "\n"
      ],
      "text/plain": [
       " [1] \"Order\"           \"PID\"             \"MS.SubClass\"     \"MS.Zoning\"      \n",
       " [5] \"Lot.Frontage\"    \"Lot.Area\"        \"Street\"          \"Alley\"          \n",
       " [9] \"Lot.Shape\"       \"Land.Contour\"    \"Utilities\"       \"Lot.Config\"     \n",
       "[13] \"Land.Slope\"      \"Neighborhood\"    \"Condition.1\"     \"Condition.2\"    \n",
       "[17] \"Bldg.Type\"       \"House.Style\"     \"Overall.Qual\"    \"Overall.Cond\"   \n",
       "[21] \"Year.Built\"      \"Year.Remod.Add\"  \"Roof.Style\"      \"Roof.Matl\"      \n",
       "[25] \"Exterior.1st\"    \"Exterior.2nd\"    \"Mas.Vnr.Type\"    \"Mas.Vnr.Area\"   \n",
       "[29] \"Exter.Qual\"      \"Exter.Cond\"      \"Foundation\"      \"Bsmt.Qual\"      \n",
       "[33] \"Bsmt.Cond\"       \"Bsmt.Exposure\"   \"BsmtFin.Type.1\"  \"BsmtFin.SF.1\"   \n",
       "[37] \"BsmtFin.Type.2\"  \"BsmtFin.SF.2\"    \"Bsmt.Unf.SF\"     \"Total.Bsmt.SF\"  \n",
       "[41] \"Heating\"         \"Heating.QC\"      \"Central.Air\"     \"Electrical\"     \n",
       "[45] \"X1st.Flr.SF\"     \"X2nd.Flr.SF\"     \"Low.Qual.Fin.SF\" \"Gr.Liv.Area\"    \n",
       "[49] \"Bsmt.Full.Bath\"  \"Bsmt.Half.Bath\"  \"Full.Bath\"       \"Half.Bath\"      \n",
       "[53] \"Bedroom.AbvGr\"   \"Kitchen.AbvGr\"   \"Kitchen.Qual\"    \"TotRms.AbvGrd\"  \n",
       "[57] \"Functional\"      \"Fireplaces\"      \"Fireplace.Qu\"    \"Garage.Type\"    \n",
       "[61] \"Garage.Yr.Blt\"   \"Garage.Finish\"   \"Garage.Cars\"     \"Garage.Area\"    \n",
       "[65] \"Garage.Qual\"     \"Garage.Cond\"     \"Paved.Drive\"     \"Wood.Deck.SF\"   \n",
       "[69] \"Open.Porch.SF\"   \"Enclosed.Porch\"  \"X3Ssn.Porch\"     \"Screen.Porch\"   \n",
       "[73] \"Pool.Area\"       \"Pool.QC\"         \"Fence\"           \"Misc.Feature\"   \n",
       "[77] \"Misc.Val\"        \"Mo.Sold\"         \"Yr.Sold\"         \"Sale.Type\"      \n",
       "[81] \"Sale.Condition\"  \"SalePrice\"      "
      ]
     },
     "metadata": {},
     "output_type": "display_data"
    },
    {
     "data": {
      "text/html": [
       "<table>\n",
       "<thead><tr><th scope=col>Order</th><th scope=col>PID</th><th scope=col>MS.SubClass</th><th scope=col>MS.Zoning</th><th scope=col>Lot.Frontage</th><th scope=col>Lot.Area</th><th scope=col>Street</th><th scope=col>Alley</th><th scope=col>Lot.Shape</th><th scope=col>Land.Contour</th><th scope=col>⋯</th><th scope=col>Pool.Area</th><th scope=col>Pool.QC</th><th scope=col>Fence</th><th scope=col>Misc.Feature</th><th scope=col>Misc.Val</th><th scope=col>Mo.Sold</th><th scope=col>Yr.Sold</th><th scope=col>Sale.Type</th><th scope=col>Sale.Condition</th><th scope=col>SalePrice</th></tr></thead>\n",
       "<tbody>\n",
       "\t<tr><td>1        </td><td>526301100</td><td>20       </td><td>RL       </td><td>141      </td><td>31770    </td><td>Pave     </td><td>NA       </td><td>IR1      </td><td>Lvl      </td><td>⋯        </td><td>0        </td><td>NA       </td><td>NA       </td><td>NA       </td><td>    0    </td><td>5        </td><td>2010     </td><td>WD       </td><td>Normal   </td><td>215000   </td></tr>\n",
       "\t<tr><td>2        </td><td>526350040</td><td>20       </td><td>RH       </td><td> 80      </td><td>11622    </td><td>Pave     </td><td>NA       </td><td>Reg      </td><td>Lvl      </td><td>⋯        </td><td>0        </td><td>NA       </td><td>MnPrv    </td><td>NA       </td><td>    0    </td><td>6        </td><td>2010     </td><td>WD       </td><td>Normal   </td><td>105000   </td></tr>\n",
       "\t<tr><td>3        </td><td>526351010</td><td>20       </td><td>RL       </td><td> 81      </td><td>14267    </td><td>Pave     </td><td>NA       </td><td>IR1      </td><td>Lvl      </td><td>⋯        </td><td>0        </td><td>NA       </td><td>NA       </td><td>Gar2     </td><td>12500    </td><td>6        </td><td>2010     </td><td>WD       </td><td>Normal   </td><td>172000   </td></tr>\n",
       "\t<tr><td>4        </td><td>526353030</td><td>20       </td><td>RL       </td><td> 93      </td><td>11160    </td><td>Pave     </td><td>NA       </td><td>Reg      </td><td>Lvl      </td><td>⋯        </td><td>0        </td><td>NA       </td><td>NA       </td><td>NA       </td><td>    0    </td><td>4        </td><td>2010     </td><td>WD       </td><td>Normal   </td><td>244000   </td></tr>\n",
       "\t<tr><td>5        </td><td>527105010</td><td>60       </td><td>RL       </td><td> 74      </td><td>13830    </td><td>Pave     </td><td>NA       </td><td>IR1      </td><td>Lvl      </td><td>⋯        </td><td>0        </td><td>NA       </td><td>MnPrv    </td><td>NA       </td><td>    0    </td><td>3        </td><td>2010     </td><td>WD       </td><td>Normal   </td><td>189900   </td></tr>\n",
       "\t<tr><td>6        </td><td>527105030</td><td>60       </td><td>RL       </td><td> 78      </td><td> 9978    </td><td>Pave     </td><td>NA       </td><td>IR1      </td><td>Lvl      </td><td>⋯        </td><td>0        </td><td>NA       </td><td>NA       </td><td>NA       </td><td>    0    </td><td>6        </td><td>2010     </td><td>WD       </td><td>Normal   </td><td>195500   </td></tr>\n",
       "</tbody>\n",
       "</table>\n"
      ],
      "text/latex": [
       "\\begin{tabular}{r|llllllllllllllllllllllllllllllllllllllllllllllllllllllllllllllllllllllllllllllllll}\n",
       " Order & PID & MS.SubClass & MS.Zoning & Lot.Frontage & Lot.Area & Street & Alley & Lot.Shape & Land.Contour & ⋯ & Pool.Area & Pool.QC & Fence & Misc.Feature & Misc.Val & Mo.Sold & Yr.Sold & Sale.Type & Sale.Condition & SalePrice\\\\\n",
       "\\hline\n",
       "\t 1         & 526301100 & 20        & RL        & 141       & 31770     & Pave      & NA        & IR1       & Lvl       & ⋯         & 0         & NA        & NA        & NA        &     0     & 5         & 2010      & WD        & Normal    & 215000   \\\\\n",
       "\t 2         & 526350040 & 20        & RH        &  80       & 11622     & Pave      & NA        & Reg       & Lvl       & ⋯         & 0         & NA        & MnPrv     & NA        &     0     & 6         & 2010      & WD        & Normal    & 105000   \\\\\n",
       "\t 3         & 526351010 & 20        & RL        &  81       & 14267     & Pave      & NA        & IR1       & Lvl       & ⋯         & 0         & NA        & NA        & Gar2      & 12500     & 6         & 2010      & WD        & Normal    & 172000   \\\\\n",
       "\t 4         & 526353030 & 20        & RL        &  93       & 11160     & Pave      & NA        & Reg       & Lvl       & ⋯         & 0         & NA        & NA        & NA        &     0     & 4         & 2010      & WD        & Normal    & 244000   \\\\\n",
       "\t 5         & 527105010 & 60        & RL        &  74       & 13830     & Pave      & NA        & IR1       & Lvl       & ⋯         & 0         & NA        & MnPrv     & NA        &     0     & 3         & 2010      & WD        & Normal    & 189900   \\\\\n",
       "\t 6         & 527105030 & 60        & RL        &  78       &  9978     & Pave      & NA        & IR1       & Lvl       & ⋯         & 0         & NA        & NA        & NA        &     0     & 6         & 2010      & WD        & Normal    & 195500   \\\\\n",
       "\\end{tabular}\n"
      ],
      "text/markdown": [
       "\n",
       "Order | PID | MS.SubClass | MS.Zoning | Lot.Frontage | Lot.Area | Street | Alley | Lot.Shape | Land.Contour | ⋯ | Pool.Area | Pool.QC | Fence | Misc.Feature | Misc.Val | Mo.Sold | Yr.Sold | Sale.Type | Sale.Condition | SalePrice | \n",
       "|---|---|---|---|---|---|\n",
       "| 1         | 526301100 | 20        | RL        | 141       | 31770     | Pave      | NA        | IR1       | Lvl       | ⋯         | 0         | NA        | NA        | NA        |     0     | 5         | 2010      | WD        | Normal    | 215000    | \n",
       "| 2         | 526350040 | 20        | RH        |  80       | 11622     | Pave      | NA        | Reg       | Lvl       | ⋯         | 0         | NA        | MnPrv     | NA        |     0     | 6         | 2010      | WD        | Normal    | 105000    | \n",
       "| 3         | 526351010 | 20        | RL        |  81       | 14267     | Pave      | NA        | IR1       | Lvl       | ⋯         | 0         | NA        | NA        | Gar2      | 12500     | 6         | 2010      | WD        | Normal    | 172000    | \n",
       "| 4         | 526353030 | 20        | RL        |  93       | 11160     | Pave      | NA        | Reg       | Lvl       | ⋯         | 0         | NA        | NA        | NA        |     0     | 4         | 2010      | WD        | Normal    | 244000    | \n",
       "| 5         | 527105010 | 60        | RL        |  74       | 13830     | Pave      | NA        | IR1       | Lvl       | ⋯         | 0         | NA        | MnPrv     | NA        |     0     | 3         | 2010      | WD        | Normal    | 189900    | \n",
       "| 6         | 527105030 | 60        | RL        |  78       |  9978     | Pave      | NA        | IR1       | Lvl       | ⋯         | 0         | NA        | NA        | NA        |     0     | 6         | 2010      | WD        | Normal    | 195500    | \n",
       "\n",
       "\n"
      ],
      "text/plain": [
       "  Order PID       MS.SubClass MS.Zoning Lot.Frontage Lot.Area Street Alley\n",
       "1 1     526301100 20          RL        141          31770    Pave   NA   \n",
       "2 2     526350040 20          RH         80          11622    Pave   NA   \n",
       "3 3     526351010 20          RL         81          14267    Pave   NA   \n",
       "4 4     526353030 20          RL         93          11160    Pave   NA   \n",
       "5 5     527105010 60          RL         74          13830    Pave   NA   \n",
       "6 6     527105030 60          RL         78           9978    Pave   NA   \n",
       "  Lot.Shape Land.Contour ⋯ Pool.Area Pool.QC Fence Misc.Feature Misc.Val\n",
       "1 IR1       Lvl          ⋯ 0         NA      NA    NA               0   \n",
       "2 Reg       Lvl          ⋯ 0         NA      MnPrv NA               0   \n",
       "3 IR1       Lvl          ⋯ 0         NA      NA    Gar2         12500   \n",
       "4 Reg       Lvl          ⋯ 0         NA      NA    NA               0   \n",
       "5 IR1       Lvl          ⋯ 0         NA      MnPrv NA               0   \n",
       "6 IR1       Lvl          ⋯ 0         NA      NA    NA               0   \n",
       "  Mo.Sold Yr.Sold Sale.Type Sale.Condition SalePrice\n",
       "1 5       2010    WD        Normal         215000   \n",
       "2 6       2010    WD        Normal         105000   \n",
       "3 6       2010    WD        Normal         172000   \n",
       "4 4       2010    WD        Normal         244000   \n",
       "5 3       2010    WD        Normal         189900   \n",
       "6 6       2010    WD        Normal         195500   "
      ]
     },
     "metadata": {},
     "output_type": "display_data"
    },
    {
     "data": {
      "text/html": [
       "<table>\n",
       "<thead><tr><th></th><th scope=col>Order</th><th scope=col>PID</th><th scope=col>MS.SubClass</th><th scope=col>MS.Zoning</th><th scope=col>Lot.Frontage</th><th scope=col>Lot.Area</th><th scope=col>Street</th><th scope=col>Alley</th><th scope=col>Lot.Shape</th><th scope=col>Land.Contour</th><th scope=col>⋯</th><th scope=col>Pool.Area</th><th scope=col>Pool.QC</th><th scope=col>Fence</th><th scope=col>Misc.Feature</th><th scope=col>Misc.Val</th><th scope=col>Mo.Sold</th><th scope=col>Yr.Sold</th><th scope=col>Sale.Type</th><th scope=col>Sale.Condition</th><th scope=col>SalePrice</th></tr></thead>\n",
       "<tbody>\n",
       "\t<tr><th scope=row>2925</th><td>2925     </td><td>923251180</td><td>20       </td><td>RL       </td><td>160      </td><td>20000    </td><td>Pave     </td><td>NA       </td><td>Reg      </td><td>Lvl      </td><td>⋯        </td><td>0        </td><td>NA       </td><td>NA       </td><td>NA       </td><td>  0      </td><td> 9       </td><td>2006     </td><td>WD       </td><td>Abnorml  </td><td>131000   </td></tr>\n",
       "\t<tr><th scope=row>2926</th><td>2926     </td><td>923275080</td><td>80       </td><td>RL       </td><td> 37      </td><td> 7937    </td><td>Pave     </td><td>NA       </td><td>IR1      </td><td>Lvl      </td><td>⋯        </td><td>0        </td><td>NA       </td><td>GdPrv    </td><td>NA       </td><td>  0      </td><td> 3       </td><td>2006     </td><td>WD       </td><td>Normal   </td><td>142500   </td></tr>\n",
       "\t<tr><th scope=row>2927</th><td>2927     </td><td>923276100</td><td>20       </td><td>RL       </td><td> NA      </td><td> 8885    </td><td>Pave     </td><td>NA       </td><td>IR1      </td><td>Low      </td><td>⋯        </td><td>0        </td><td>NA       </td><td>MnPrv    </td><td>NA       </td><td>  0      </td><td> 6       </td><td>2006     </td><td>WD       </td><td>Normal   </td><td>131000   </td></tr>\n",
       "\t<tr><th scope=row>2928</th><td>2928     </td><td>923400125</td><td>85       </td><td>RL       </td><td> 62      </td><td>10441    </td><td>Pave     </td><td>NA       </td><td>Reg      </td><td>Lvl      </td><td>⋯        </td><td>0        </td><td>NA       </td><td>MnPrv    </td><td>Shed     </td><td>700      </td><td> 7       </td><td>2006     </td><td>WD       </td><td>Normal   </td><td>132000   </td></tr>\n",
       "\t<tr><th scope=row>2929</th><td>2929     </td><td>924100070</td><td>20       </td><td>RL       </td><td> 77      </td><td>10010    </td><td>Pave     </td><td>NA       </td><td>Reg      </td><td>Lvl      </td><td>⋯        </td><td>0        </td><td>NA       </td><td>NA       </td><td>NA       </td><td>  0      </td><td> 4       </td><td>2006     </td><td>WD       </td><td>Normal   </td><td>170000   </td></tr>\n",
       "\t<tr><th scope=row>2930</th><td>2930     </td><td>924151050</td><td>60       </td><td>RL       </td><td> 74      </td><td> 9627    </td><td>Pave     </td><td>NA       </td><td>Reg      </td><td>Lvl      </td><td>⋯        </td><td>0        </td><td>NA       </td><td>NA       </td><td>NA       </td><td>  0      </td><td>11       </td><td>2006     </td><td>WD       </td><td>Normal   </td><td>188000   </td></tr>\n",
       "</tbody>\n",
       "</table>\n"
      ],
      "text/latex": [
       "\\begin{tabular}{r|llllllllllllllllllllllllllllllllllllllllllllllllllllllllllllllllllllllllllllllllll}\n",
       "  & Order & PID & MS.SubClass & MS.Zoning & Lot.Frontage & Lot.Area & Street & Alley & Lot.Shape & Land.Contour & ⋯ & Pool.Area & Pool.QC & Fence & Misc.Feature & Misc.Val & Mo.Sold & Yr.Sold & Sale.Type & Sale.Condition & SalePrice\\\\\n",
       "\\hline\n",
       "\t2925 & 2925      & 923251180 & 20        & RL        & 160       & 20000     & Pave      & NA        & Reg       & Lvl       & ⋯         & 0         & NA        & NA        & NA        &   0       &  9        & 2006      & WD        & Abnorml   & 131000   \\\\\n",
       "\t2926 & 2926      & 923275080 & 80        & RL        &  37       &  7937     & Pave      & NA        & IR1       & Lvl       & ⋯         & 0         & NA        & GdPrv     & NA        &   0       &  3        & 2006      & WD        & Normal    & 142500   \\\\\n",
       "\t2927 & 2927      & 923276100 & 20        & RL        &  NA       &  8885     & Pave      & NA        & IR1       & Low       & ⋯         & 0         & NA        & MnPrv     & NA        &   0       &  6        & 2006      & WD        & Normal    & 131000   \\\\\n",
       "\t2928 & 2928      & 923400125 & 85        & RL        &  62       & 10441     & Pave      & NA        & Reg       & Lvl       & ⋯         & 0         & NA        & MnPrv     & Shed      & 700       &  7        & 2006      & WD        & Normal    & 132000   \\\\\n",
       "\t2929 & 2929      & 924100070 & 20        & RL        &  77       & 10010     & Pave      & NA        & Reg       & Lvl       & ⋯         & 0         & NA        & NA        & NA        &   0       &  4        & 2006      & WD        & Normal    & 170000   \\\\\n",
       "\t2930 & 2930      & 924151050 & 60        & RL        &  74       &  9627     & Pave      & NA        & Reg       & Lvl       & ⋯         & 0         & NA        & NA        & NA        &   0       & 11        & 2006      & WD        & Normal    & 188000   \\\\\n",
       "\\end{tabular}\n"
      ],
      "text/markdown": [
       "\n",
       "| <!--/--> | Order | PID | MS.SubClass | MS.Zoning | Lot.Frontage | Lot.Area | Street | Alley | Lot.Shape | Land.Contour | ⋯ | Pool.Area | Pool.QC | Fence | Misc.Feature | Misc.Val | Mo.Sold | Yr.Sold | Sale.Type | Sale.Condition | SalePrice | \n",
       "|---|---|---|---|---|---|\n",
       "| 2925 | 2925      | 923251180 | 20        | RL        | 160       | 20000     | Pave      | NA        | Reg       | Lvl       | ⋯         | 0         | NA        | NA        | NA        |   0       |  9        | 2006      | WD        | Abnorml   | 131000    | \n",
       "| 2926 | 2926      | 923275080 | 80        | RL        |  37       |  7937     | Pave      | NA        | IR1       | Lvl       | ⋯         | 0         | NA        | GdPrv     | NA        |   0       |  3        | 2006      | WD        | Normal    | 142500    | \n",
       "| 2927 | 2927      | 923276100 | 20        | RL        |  NA       |  8885     | Pave      | NA        | IR1       | Low       | ⋯         | 0         | NA        | MnPrv     | NA        |   0       |  6        | 2006      | WD        | Normal    | 131000    | \n",
       "| 2928 | 2928      | 923400125 | 85        | RL        |  62       | 10441     | Pave      | NA        | Reg       | Lvl       | ⋯         | 0         | NA        | MnPrv     | Shed      | 700       |  7        | 2006      | WD        | Normal    | 132000    | \n",
       "| 2929 | 2929      | 924100070 | 20        | RL        |  77       | 10010     | Pave      | NA        | Reg       | Lvl       | ⋯         | 0         | NA        | NA        | NA        |   0       |  4        | 2006      | WD        | Normal    | 170000    | \n",
       "| 2930 | 2930      | 924151050 | 60        | RL        |  74       |  9627     | Pave      | NA        | Reg       | Lvl       | ⋯         | 0         | NA        | NA        | NA        |   0       | 11        | 2006      | WD        | Normal    | 188000    | \n",
       "\n",
       "\n"
      ],
      "text/plain": [
       "     Order PID       MS.SubClass MS.Zoning Lot.Frontage Lot.Area Street Alley\n",
       "2925 2925  923251180 20          RL        160          20000    Pave   NA   \n",
       "2926 2926  923275080 80          RL         37           7937    Pave   NA   \n",
       "2927 2927  923276100 20          RL         NA           8885    Pave   NA   \n",
       "2928 2928  923400125 85          RL         62          10441    Pave   NA   \n",
       "2929 2929  924100070 20          RL         77          10010    Pave   NA   \n",
       "2930 2930  924151050 60          RL         74           9627    Pave   NA   \n",
       "     Lot.Shape Land.Contour ⋯ Pool.Area Pool.QC Fence Misc.Feature Misc.Val\n",
       "2925 Reg       Lvl          ⋯ 0         NA      NA    NA             0     \n",
       "2926 IR1       Lvl          ⋯ 0         NA      GdPrv NA             0     \n",
       "2927 IR1       Low          ⋯ 0         NA      MnPrv NA             0     \n",
       "2928 Reg       Lvl          ⋯ 0         NA      MnPrv Shed         700     \n",
       "2929 Reg       Lvl          ⋯ 0         NA      NA    NA             0     \n",
       "2930 Reg       Lvl          ⋯ 0         NA      NA    NA             0     \n",
       "     Mo.Sold Yr.Sold Sale.Type Sale.Condition SalePrice\n",
       "2925  9      2006    WD        Abnorml        131000   \n",
       "2926  3      2006    WD        Normal         142500   \n",
       "2927  6      2006    WD        Normal         131000   \n",
       "2928  7      2006    WD        Normal         132000   \n",
       "2929  4      2006    WD        Normal         170000   \n",
       "2930 11      2006    WD        Normal         188000   "
      ]
     },
     "metadata": {},
     "output_type": "display_data"
    }
   ],
   "source": [
    "# Load the ames data frame:\n",
    "load(url(\"http://s3.amazonaws.com/assets.datacamp.com/course/dasi/ames.RData\"))\n",
    "\n",
    "# Make some preliminary inspections:\n",
    "names(ames)\n",
    "head(ames)\n",
    "tail(ames)"
   ]
  },
  {
   "cell_type": "markdown",
   "metadata": {},
   "source": [
    "Restrict our attention to just the variable: \"Gr.Liv.Area\", the above ground living area of the house in square feet."
   ]
  },
  {
   "cell_type": "code",
   "execution_count": 12,
   "metadata": {},
   "outputs": [
    {
     "data": {
      "text/plain": [
       "   Min. 1st Qu.  Median    Mean 3rd Qu.    Max. \n",
       "    334    1126    1442    1500    1743    5642 "
      ]
     },
     "metadata": {},
     "output_type": "display_data"
    },
    {
     "data": {
      "image/png": "[encoded data removed]",
      "text/plain": [
       "Plot with title “Histogram of area”"
      ]
     },
     "metadata": {},
     "output_type": "display_data"
    }
   ],
   "source": [
    "# Assign the variables:\n",
    "area <- ames$Gr.Liv.Area\n",
    "\n",
    "# Calculate the summary and draw a histogram of area\n",
    "hist(area)\n",
    "summary(area)"
   ]
  },
  {
   "cell_type": "markdown",
   "metadata": {},
   "source": [
    "Let's interpret the results above by answering this question:\n",
    "\n",
    "    Which one is the FALSE?\n",
    "\n",
    "    a) The distribution of areas of houses in Ames is unimodal and right-skewed.\n",
    "\n",
    "    b) 50% of houses in Ames are smaller than 1,500 square feet.\n",
    "\n",
    "    c) The middle 50% of the houses range between approximately 1,130 square feet and 1,740 square feet.\n",
    "\n",
    "    d) The IQR is approximately 610 square feet.\n",
    "\n",
    "    e) The smallest house is 334 square feet and the largest is 5,642 square feet.\n"
   ]
  },
  {
   "cell_type": "markdown",
   "metadata": {},
   "source": [
    "# Sampling from the population"
   ]
  },
  {
   "cell_type": "markdown",
   "metadata": {},
   "source": [
    "We have access to the entire population, but this is rarely the case in real life. \n",
    "\n",
    "Gathering information on an entire population is often extremely costly or impossible. \n",
    "\n",
    "Because of this, we often take a sample of the population and use that to understand the properties of the population.\n",
    "\n",
    "This command collects a simple random sample of size 50 from the vector area. \n",
    "\n",
    "This is like going into the City Assessor's database and pulling up the files on 50 random home sales. \n",
    "\n",
    "If we didn't have access to the population data, working with these 50 files would be considerably simpler than having to go through all 2930 home sales."
   ]
  },
  {
   "cell_type": "code",
   "execution_count": 13,
   "metadata": {},
   "outputs": [
    {
     "data": {
      "image/png": "[encoded data removed]",
      "text/plain": [
       "Plot with title “Histogram of samp1”"
      ]
     },
     "metadata": {},
     "output_type": "display_data"
    }
   ],
   "source": [
    "# Create the samples:\n",
    "samp0 <- sample(area, 50)\n",
    "samp1 <- sample(area, 50)\n",
    "\n",
    "# Compare these two samples by by drawing the histograms:\n",
    "par(mfrow=c(1,2))\n",
    "hist(samp0)\n",
    "hist(samp1)"
   ]
  },
  {
   "cell_type": "markdown",
   "metadata": {},
   "source": [
    "Check the mean values of the estimetes: \n",
    "\n",
    "Depending on which 50 homes you selected, your estimate could be a bit above or a bit below the true population mean of approximately 1,500 square feet. "
   ]
  },
  {
   "cell_type": "code",
   "execution_count": 14,
   "metadata": {},
   "outputs": [
    {
     "data": {
      "text/html": [
       "1391.44"
      ],
      "text/latex": [
       "1391.44"
      ],
      "text/markdown": [
       "1391.44"
      ],
      "text/plain": [
       "[1] 1391.44"
      ]
     },
     "metadata": {},
     "output_type": "display_data"
    },
    {
     "data": {
      "text/html": [
       "1582.5"
      ],
      "text/latex": [
       "1582.5"
      ],
      "text/markdown": [
       "1582.5"
      ],
      "text/plain": [
       "[1] 1582.5"
      ]
     },
     "metadata": {},
     "output_type": "display_data"
    }
   ],
   "source": [
    "mean(samp0)\n",
    "mean(samp1)"
   ]
  },
  {
   "cell_type": "markdown",
   "metadata": {},
   "source": [
    "Not surprisingly, every time we take another random sample, we get a different sample mean. \n",
    "\n",
    "It's useful to get a sense of just how much variability we should expect when estimating the population mean this way.\n",
    "\n",
    "The distribution of sample means, called the sampling distribution, can help us understand this variability.\n",
    "\n",
    "Let's build up the sampling distribution for the sample mean by repeating the above steps many times. Here we will generate 5000 samples and compute the sample mean of each.\n",
    "\n",
    "The code in the editor takes 5000 samples of size 50 from the population, calculates the mean of each sample, and stores each result in a vector called \"sample_means50\""
   ]
  },
  {
   "cell_type": "code",
   "execution_count": 15,
   "metadata": {},
   "outputs": [
    {
     "data": {
      "image/png": "[encoded data removed]",
      "text/plain": [
       "Plot with title “Histogram of sample_means50”"
      ]
     },
     "metadata": {},
     "output_type": "display_data"
    }
   ],
   "source": [
    "# Set up an empty vector of 5000 NAs to store sample means:\n",
    "sample_means50 <- rep(NA, 5000)\n",
    "\n",
    "# Take 5000 samples of size 50 of area and store all of them in sample_means50.\n",
    "for (i in 1:5000) {\n",
    "  samp <- sample(area, 50)\n",
    "  sample_means50[i] <- mean(samp)\n",
    "}\n",
    "\n",
    "# View the result. If you want, you can increase the bin width to show more detail by changing the breaks argument.\n",
    "hist(sample_means50, breaks = 13)"
   ]
  },
  {
   "cell_type": "markdown",
   "metadata": {},
   "source": [
    "Let's see what the effect is of the sample size on our distribution.\n",
    "\n",
    "Take a look at the code. In total we create three sampling stributions, sample_means10, sample_means50 and sample_means100."
   ]
  },
  {
   "cell_type": "code",
   "execution_count": 16,
   "metadata": {},
   "outputs": [
    {
     "data": {
      "text/html": [
       "<ol class=list-inline>\n",
       "\t<li>1483.3</li>\n",
       "\t<li>1411.6</li>\n",
       "\t<li>1871.8</li>\n",
       "\t<li>1424.2</li>\n",
       "\t<li>1259.5</li>\n",
       "\t<li>1420.6</li>\n",
       "</ol>\n"
      ],
      "text/latex": [
       "\\begin{enumerate*}\n",
       "\\item 1483.3\n",
       "\\item 1411.6\n",
       "\\item 1871.8\n",
       "\\item 1424.2\n",
       "\\item 1259.5\n",
       "\\item 1420.6\n",
       "\\end{enumerate*}\n"
      ],
      "text/markdown": [
       "1. 1483.3\n",
       "2. 1411.6\n",
       "3. 1871.8\n",
       "4. 1424.2\n",
       "5. 1259.5\n",
       "6. 1420.6\n",
       "\n",
       "\n"
      ],
      "text/plain": [
       "[1] 1483.3 1411.6 1871.8 1424.2 1259.5 1420.6"
      ]
     },
     "metadata": {},
     "output_type": "display_data"
    },
    {
     "data": {
      "text/html": [
       "<ol class=list-inline>\n",
       "\t<li>1493.98</li>\n",
       "\t<li>1413.88</li>\n",
       "\t<li>1623.76</li>\n",
       "\t<li>1422.68</li>\n",
       "\t<li>1625.1</li>\n",
       "\t<li>1496.06</li>\n",
       "</ol>\n"
      ],
      "text/latex": [
       "\\begin{enumerate*}\n",
       "\\item 1493.98\n",
       "\\item 1413.88\n",
       "\\item 1623.76\n",
       "\\item 1422.68\n",
       "\\item 1625.1\n",
       "\\item 1496.06\n",
       "\\end{enumerate*}\n"
      ],
      "text/markdown": [
       "1. 1493.98\n",
       "2. 1413.88\n",
       "3. 1623.76\n",
       "4. 1422.68\n",
       "5. 1625.1\n",
       "6. 1496.06\n",
       "\n",
       "\n"
      ],
      "text/plain": [
       "[1] 1493.98 1413.88 1623.76 1422.68 1625.10 1496.06"
      ]
     },
     "metadata": {},
     "output_type": "display_data"
    },
    {
     "data": {
      "text/html": [
       "<ol class=list-inline>\n",
       "\t<li>1397.12</li>\n",
       "\t<li>1439.43</li>\n",
       "\t<li>1487.87</li>\n",
       "\t<li>1469.84</li>\n",
       "\t<li>1428.35</li>\n",
       "\t<li>1572.35</li>\n",
       "</ol>\n"
      ],
      "text/latex": [
       "\\begin{enumerate*}\n",
       "\\item 1397.12\n",
       "\\item 1439.43\n",
       "\\item 1487.87\n",
       "\\item 1469.84\n",
       "\\item 1428.35\n",
       "\\item 1572.35\n",
       "\\end{enumerate*}\n"
      ],
      "text/markdown": [
       "1. 1397.12\n",
       "2. 1439.43\n",
       "3. 1487.87\n",
       "4. 1469.84\n",
       "5. 1428.35\n",
       "6. 1572.35\n",
       "\n",
       "\n"
      ],
      "text/plain": [
       "[1] 1397.12 1439.43 1487.87 1469.84 1428.35 1572.35"
      ]
     },
     "metadata": {},
     "output_type": "display_data"
    }
   ],
   "source": [
    "# Initialize the sample distributions:\n",
    "sample_means10 <- rep(NA, 5000)\n",
    "sample_means50 <- rep(NA, 5000)\n",
    "sample_means100 <- rep(NA, 5000)\n",
    "\n",
    "# Run the for loop:\n",
    "for (i in 1:5000) {\n",
    "    samp <- sample(area, 10)\n",
    "    sample_means10[i] <- mean(samp)\n",
    "    samp <- sample(area, 50)\n",
    "    sample_means50[i] <- mean(samp)\n",
    "    samp <- sample(area, 100)\n",
    "    sample_means100[i] <- mean(samp)\n",
    "}\n",
    "\n",
    "# Take a look at the results:\n",
    "head(sample_means10)\n",
    "head(sample_means50)\n",
    "head(sample_means100)"
   ]
  },
  {
   "cell_type": "markdown",
   "metadata": {},
   "source": [
    "To see the effect that different sample sizes have on the sampling distribution, let's plot the three distributions on top of one another.\n",
    "\n",
    "In R you can plot all three of them on the same graph by specifying that you'd like to divide the plotting area into three rows and one column of plots. You do this with the following command:"
   ]
  },
  {
   "cell_type": "code",
   "execution_count": 17,
   "metadata": {},
   "outputs": [
    {
     "data": {
      "image/png": "[encoded data removed]",
      "text/plain": [
       "Plot with title “Histogram of sample_means100”"
      ]
     },
     "metadata": {},
     "output_type": "display_data"
    }
   ],
   "source": [
    "# Divide the plot in 3 rows:\n",
    "par(mfrow = c(3, 1))\n",
    "\n",
    "# Define the limits for the x-axis:\n",
    "xlimits <- range(sample_means10)\n",
    "\n",
    "# Draw the histograms:\n",
    "hist(sample_means10, breaks=20, xlim=xlimits)\n",
    "hist(sample_means50, breaks=20, xlim=xlimits)\n",
    "hist(sample_means100, breaks=20, xlim=xlimits)"
   ]
  },
  {
   "cell_type": "markdown",
   "metadata": {},
   "source": [
    "It makes intuitive sense that as the sample size increases, the center of the sampling distribution becomes a more reliable estimate for the true population mean. Also as the sample size increases, the variability of the sampling distribution decreases."
   ]
  },
  {
   "cell_type": "markdown",
   "metadata": {},
   "source": [
    "____________________________________________________________"
   ]
  },
  {
   "cell_type": "markdown",
   "metadata": {},
   "source": [
    "    Source for this material:\n",
    "\n",
    "    https://campus.datacamp.com/courses/statistical-inference-and-data-analysis/lab-2-probability?ex=1\n",
    "\n",
    "    https://campus.datacamp.com/courses/statistical-inference-and-data-analysis/lab-3a-foundations-for-inference-sampling-distributions?ex=1\n",
    "\n",
    "    You can try each step yourself using these links."
   ]
  },
  {
   "cell_type": "code",
   "execution_count": null,
   "metadata": {
    "collapsed": true
   },
   "outputs": [],
   "source": []
  }
 ],
 "metadata": {
  "kernelspec": {
   "display_name": "R",
   "language": "R",
   "name": "ir"
  },
  "language_info": {
   "codemirror_mode": "r",
   "file_extension": ".r",
   "mimetype": "text/x-r-source",
   "name": "R",
   "pygments_lexer": "r",
   "version": "3.4.2"
  }
 },
 "nbformat": 4,
 "nbformat_minor": 2
}
