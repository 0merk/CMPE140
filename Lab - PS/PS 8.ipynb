{
 "cells": [
  {
   "cell_type": "markdown",
   "metadata": {},
   "source": [
    "# A Review of the Previous Topics"
   ]
  },
  {
   "cell_type": "markdown",
   "metadata": {},
   "source": [
    "Let's start with matrices"
   ]
  },
  {
   "cell_type": "markdown",
   "metadata": {},
   "source": [
    "A typical resident of the country of \"Oburistan\" consumes a simple basket of goods \n",
    "consisting only of life’s essentials: Soda, Pizza, and Hamburger. \n",
    "A year’s basket contains 1,000 sodas, 100 pizzas, and 50 hamburgers. \n",
    "The price of these goods in each of the past three years is given in the following table:\n",
    "\n",
    "    >     [Soda] [Pizza] [Hamburger]\n",
    "    > [2015] 1      8       10    \n",
    "    > [2016] 1.5    8       10   \n",
    "    > [2017] 1.5    8.5     11  "
   ]
  },
  {
   "cell_type": "markdown",
   "metadata": {},
   "source": [
    "Task-1: Create a 3x3 matrix called \"Oburistan\" to store these prices."
   ]
  },
  {
   "cell_type": "markdown",
   "metadata": {},
   "source": [
    "First, remember how to create a matrix."
   ]
  },
  {
   "cell_type": "code",
   "execution_count": 1,
   "metadata": {},
   "outputs": [
    {
     "data": {
      "text/html": [
       "<table>\n",
       "<tbody>\n",
       "\t<tr><td>1.0</td><td>8.0</td><td>10 </td></tr>\n",
       "\t<tr><td>1.5</td><td>8.0</td><td>10 </td></tr>\n",
       "\t<tr><td>1.5</td><td>8.5</td><td>11 </td></tr>\n",
       "</tbody>\n",
       "</table>\n"
      ],
      "text/latex": [
       "\\begin{tabular}{lll}\n",
       "\t 1.0 & 8.0 & 10 \\\\\n",
       "\t 1.5 & 8.0 & 10 \\\\\n",
       "\t 1.5 & 8.5 & 11 \\\\\n",
       "\\end{tabular}\n"
      ],
      "text/markdown": [
       "\n",
       "| 1.0 | 8.0 | 10  | \n",
       "| 1.5 | 8.0 | 10  | \n",
       "| 1.5 | 8.5 | 11  | \n",
       "\n",
       "\n"
      ],
      "text/plain": [
       "     [,1] [,2] [,3]\n",
       "[1,] 1.0  8.0  10  \n",
       "[2,] 1.5  8.0  10  \n",
       "[3,] 1.5  8.5  11  "
      ]
     },
     "metadata": {},
     "output_type": "display_data"
    }
   ],
   "source": [
    "Oburistan <-rbind(c(1,8,10), c(1.5,8,10), c(1.5,8.5,11))\n",
    "Oburistan"
   ]
  },
  {
   "cell_type": "code",
   "execution_count": 2,
   "metadata": {},
   "outputs": [
    {
     "data": {
      "text/html": [
       "<table>\n",
       "<tbody>\n",
       "\t<tr><td>1.0</td><td>8.0</td><td>10 </td></tr>\n",
       "\t<tr><td>1.5</td><td>8.0</td><td>10 </td></tr>\n",
       "\t<tr><td>1.5</td><td>8.5</td><td>11 </td></tr>\n",
       "</tbody>\n",
       "</table>\n"
      ],
      "text/latex": [
       "\\begin{tabular}{lll}\n",
       "\t 1.0 & 8.0 & 10 \\\\\n",
       "\t 1.5 & 8.0 & 10 \\\\\n",
       "\t 1.5 & 8.5 & 11 \\\\\n",
       "\\end{tabular}\n"
      ],
      "text/markdown": [
       "\n",
       "| 1.0 | 8.0 | 10  | \n",
       "| 1.5 | 8.0 | 10  | \n",
       "| 1.5 | 8.5 | 11  | \n",
       "\n",
       "\n"
      ],
      "text/plain": [
       "     [,1] [,2] [,3]\n",
       "[1,] 1.0  8.0  10  \n",
       "[2,] 1.5  8.0  10  \n",
       "[3,] 1.5  8.5  11  "
      ]
     },
     "metadata": {},
     "output_type": "display_data"
    }
   ],
   "source": [
    "Oburistan <-cbind(c(1,1.5,1.5), c(8,8,8.5), c(10,10,11))\n",
    "Oburistan"
   ]
  },
  {
   "cell_type": "code",
   "execution_count": 3,
   "metadata": {},
   "outputs": [
    {
     "data": {
      "text/html": [
       "<table>\n",
       "<tbody>\n",
       "\t<tr><td> 1  </td><td> 1.5</td><td> 1.5</td></tr>\n",
       "\t<tr><td> 8  </td><td> 8.0</td><td> 8.5</td></tr>\n",
       "\t<tr><td>10  </td><td>10.0</td><td>11.0</td></tr>\n",
       "</tbody>\n",
       "</table>\n"
      ],
      "text/latex": [
       "\\begin{tabular}{lll}\n",
       "\t  1   &  1.5 &  1.5\\\\\n",
       "\t  8   &  8.0 &  8.5\\\\\n",
       "\t 10   & 10.0 & 11.0\\\\\n",
       "\\end{tabular}\n"
      ],
      "text/markdown": [
       "\n",
       "|  1   |  1.5 |  1.5 | \n",
       "|  8   |  8.0 |  8.5 | \n",
       "| 10   | 10.0 | 11.0 | \n",
       "\n",
       "\n"
      ],
      "text/plain": [
       "     [,1] [,2] [,3]\n",
       "[1,]  1    1.5  1.5\n",
       "[2,]  8    8.0  8.5\n",
       "[3,] 10   10.0 11.0"
      ]
     },
     "metadata": {},
     "output_type": "display_data"
    }
   ],
   "source": [
    "Oburistan <- matrix(c(1, 8, 10, 1.5, 8, 10, 1.5, 8.5, 11), nrow=3, ncol=3)\n",
    "Oburistan"
   ]
  },
  {
   "cell_type": "code",
   "execution_count": 4,
   "metadata": {
    "collapsed": true
   },
   "outputs": [],
   "source": [
    "?matrix"
   ]
  },
  {
   "cell_type": "markdown",
   "metadata": {},
   "source": [
    "Nope.. which one was the first? row or column?"
   ]
  },
  {
   "cell_type": "code",
   "execution_count": 5,
   "metadata": {},
   "outputs": [
    {
     "data": {
      "text/html": [
       "<table>\n",
       "<tbody>\n",
       "\t<tr><td>1.0</td><td>8.0</td><td>10 </td></tr>\n",
       "\t<tr><td>1.5</td><td>8.0</td><td>10 </td></tr>\n",
       "\t<tr><td>1.5</td><td>8.5</td><td>11 </td></tr>\n",
       "</tbody>\n",
       "</table>\n"
      ],
      "text/latex": [
       "\\begin{tabular}{lll}\n",
       "\t 1.0 & 8.0 & 10 \\\\\n",
       "\t 1.5 & 8.0 & 10 \\\\\n",
       "\t 1.5 & 8.5 & 11 \\\\\n",
       "\\end{tabular}\n"
      ],
      "text/markdown": [
       "\n",
       "| 1.0 | 8.0 | 10  | \n",
       "| 1.5 | 8.0 | 10  | \n",
       "| 1.5 | 8.5 | 11  | \n",
       "\n",
       "\n"
      ],
      "text/plain": [
       "     [,1] [,2] [,3]\n",
       "[1,] 1.0  8.0  10  \n",
       "[2,] 1.5  8.0  10  \n",
       "[3,] 1.5  8.5  11  "
      ]
     },
     "metadata": {},
     "output_type": "display_data"
    }
   ],
   "source": [
    "Oburistan <- matrix(c(1, 8, 10, 1.5, 8, 10, 1.5, 8.5, 11), nrow=3, ncol=3, byrow=TRUE)\n",
    "Oburistan"
   ]
  },
  {
   "cell_type": "markdown",
   "metadata": {},
   "source": [
    "Now, it is ok."
   ]
  },
  {
   "cell_type": "markdown",
   "metadata": {},
   "source": [
    "Task-2: Assign row and column names as shown in the table. "
   ]
  },
  {
   "cell_type": "code",
   "execution_count": 6,
   "metadata": {},
   "outputs": [
    {
     "data": {
      "text/html": [
       "<table>\n",
       "<thead><tr><th></th><th scope=col>Soda</th><th scope=col>Pizza</th><th scope=col>Hamburger</th></tr></thead>\n",
       "<tbody>\n",
       "\t<tr><th scope=row>2015</th><td>1.0</td><td>8.0</td><td>10 </td></tr>\n",
       "\t<tr><th scope=row>2016</th><td>1.5</td><td>8.0</td><td>10 </td></tr>\n",
       "\t<tr><th scope=row>2017</th><td>1.5</td><td>8.5</td><td>11 </td></tr>\n",
       "</tbody>\n",
       "</table>\n"
      ],
      "text/latex": [
       "\\begin{tabular}{r|lll}\n",
       "  & Soda & Pizza & Hamburger\\\\\n",
       "\\hline\n",
       "\t2015 & 1.0 & 8.0 & 10 \\\\\n",
       "\t2016 & 1.5 & 8.0 & 10 \\\\\n",
       "\t2017 & 1.5 & 8.5 & 11 \\\\\n",
       "\\end{tabular}\n"
      ],
      "text/markdown": [
       "\n",
       "| <!--/--> | Soda | Pizza | Hamburger | \n",
       "|---|---|---|\n",
       "| 2015 | 1.0 | 8.0 | 10  | \n",
       "| 2016 | 1.5 | 8.0 | 10  | \n",
       "| 2017 | 1.5 | 8.5 | 11  | \n",
       "\n",
       "\n"
      ],
      "text/plain": [
       "     Soda Pizza Hamburger\n",
       "2015 1.0  8.0   10       \n",
       "2016 1.5  8.0   10       \n",
       "2017 1.5  8.5   11       "
      ]
     },
     "metadata": {},
     "output_type": "display_data"
    }
   ],
   "source": [
    "rownames(Oburistan) <- c(\"2015\",\"2016\",\"2017\")\n",
    "colnames(Oburistan) <- c(\"Soda\", \"Pizza\", \"Hamburger\")\n",
    "Oburistan"
   ]
  },
  {
   "cell_type": "markdown",
   "metadata": {},
   "source": [
    "Task-3: Calculate Cost of basket (CoB) for each year according to:\n",
    "\n",
    "Cost of Basket = 1000 x price of a soda + 100 x price of a pizza + 50 x price of a hamburger"
   ]
  },
  {
   "cell_type": "code",
   "execution_count": 7,
   "metadata": {},
   "outputs": [
    {
     "data": {
      "text/html": [
       "<dl class=dl-horizontal>\n",
       "\t<dt>2015</dt>\n",
       "\t\t<dd>2300</dd>\n",
       "\t<dt>2016</dt>\n",
       "\t\t<dd>2800</dd>\n",
       "\t<dt>2017</dt>\n",
       "\t\t<dd>2900</dd>\n",
       "</dl>\n"
      ],
      "text/latex": [
       "\\begin{description*}\n",
       "\\item[2015] 2300\n",
       "\\item[2016] 2800\n",
       "\\item[2017] 2900\n",
       "\\end{description*}\n"
      ],
      "text/markdown": [
       "2015\n",
       ":   23002016\n",
       ":   28002017\n",
       ":   2900\n",
       "\n"
      ],
      "text/plain": [
       "2015 2016 2017 \n",
       "2300 2800 2900 "
      ]
     },
     "metadata": {},
     "output_type": "display_data"
    }
   ],
   "source": [
    "CoB<- Oburistan[,1]*1000 + Oburistan[,2]*100 + Oburistan[,3]*50\n",
    "CoB"
   ]
  },
  {
   "cell_type": "markdown",
   "metadata": {},
   "source": [
    "Task-4: Update Oburistan matrix by adding a «CoB» column to matrix with CoB values."
   ]
  },
  {
   "cell_type": "code",
   "execution_count": 8,
   "metadata": {},
   "outputs": [
    {
     "data": {
      "text/html": [
       "<table>\n",
       "<thead><tr><th></th><th scope=col>Soda</th><th scope=col>Pizza</th><th scope=col>Hamburger</th><th scope=col>CoB</th></tr></thead>\n",
       "<tbody>\n",
       "\t<tr><th scope=row>2015</th><td>1.0 </td><td>8.0 </td><td>10  </td><td>2300</td></tr>\n",
       "\t<tr><th scope=row>2016</th><td>1.5 </td><td>8.0 </td><td>10  </td><td>2800</td></tr>\n",
       "\t<tr><th scope=row>2017</th><td>1.5 </td><td>8.5 </td><td>11  </td><td>2900</td></tr>\n",
       "</tbody>\n",
       "</table>\n"
      ],
      "text/latex": [
       "\\begin{tabular}{r|llll}\n",
       "  & Soda & Pizza & Hamburger & CoB\\\\\n",
       "\\hline\n",
       "\t2015 & 1.0  & 8.0  & 10   & 2300\\\\\n",
       "\t2016 & 1.5  & 8.0  & 10   & 2800\\\\\n",
       "\t2017 & 1.5  & 8.5  & 11   & 2900\\\\\n",
       "\\end{tabular}\n"
      ],
      "text/markdown": [
       "\n",
       "| <!--/--> | Soda | Pizza | Hamburger | CoB | \n",
       "|---|---|---|\n",
       "| 2015 | 1.0  | 8.0  | 10   | 2300 | \n",
       "| 2016 | 1.5  | 8.0  | 10   | 2800 | \n",
       "| 2017 | 1.5  | 8.5  | 11   | 2900 | \n",
       "\n",
       "\n"
      ],
      "text/plain": [
       "     Soda Pizza Hamburger CoB \n",
       "2015 1.0  8.0   10        2300\n",
       "2016 1.5  8.0   10        2800\n",
       "2017 1.5  8.5   11        2900"
      ]
     },
     "metadata": {},
     "output_type": "display_data"
    }
   ],
   "source": [
    "Oburistan <- cbind(Oburistan, CoB)\n",
    "Oburistan"
   ]
  },
  {
   "cell_type": "markdown",
   "metadata": {},
   "source": [
    "Task-5: You have measured all values above in Oburistan currency (ORS) \n",
    "\n",
    "but you need to convert them to Turkish Lira.\n",
    "\n",
    "Create a function called \"ORS_to_TRY\" to convert ORS to TRY. (Assume \"1 ORS = 2 TRY\")"
   ]
  },
  {
   "cell_type": "code",
   "execution_count": 9,
   "metadata": {
    "collapsed": true
   },
   "outputs": [],
   "source": [
    "ORS_to_TRY <- function(x) {x*2}"
   ]
  },
  {
   "cell_type": "markdown",
   "metadata": {},
   "source": [
    "Task-6: Update Oburistan matrix by applying our function \"ORS_to_TRY\" to Oburistan matrix"
   ]
  },
  {
   "cell_type": "code",
   "execution_count": 10,
   "metadata": {},
   "outputs": [
    {
     "data": {
      "text/html": [
       "<table>\n",
       "<thead><tr><th></th><th scope=col>Soda</th><th scope=col>Pizza</th><th scope=col>Hamburger</th><th scope=col>CoB</th></tr></thead>\n",
       "<tbody>\n",
       "\t<tr><th scope=row>2015</th><td>2   </td><td>16  </td><td>20  </td><td>4600</td></tr>\n",
       "\t<tr><th scope=row>2016</th><td>3   </td><td>16  </td><td>20  </td><td>5600</td></tr>\n",
       "\t<tr><th scope=row>2017</th><td>3   </td><td>17  </td><td>22  </td><td>5800</td></tr>\n",
       "</tbody>\n",
       "</table>\n"
      ],
      "text/latex": [
       "\\begin{tabular}{r|llll}\n",
       "  & Soda & Pizza & Hamburger & CoB\\\\\n",
       "\\hline\n",
       "\t2015 & 2    & 16   & 20   & 4600\\\\\n",
       "\t2016 & 3    & 16   & 20   & 5600\\\\\n",
       "\t2017 & 3    & 17   & 22   & 5800\\\\\n",
       "\\end{tabular}\n"
      ],
      "text/markdown": [
       "\n",
       "| <!--/--> | Soda | Pizza | Hamburger | CoB | \n",
       "|---|---|---|\n",
       "| 2015 | 2    | 16   | 20   | 4600 | \n",
       "| 2016 | 3    | 16   | 20   | 5600 | \n",
       "| 2017 | 3    | 17   | 22   | 5800 | \n",
       "\n",
       "\n"
      ],
      "text/plain": [
       "     Soda Pizza Hamburger CoB \n",
       "2015 2    16    20        4600\n",
       "2016 3    16    20        5600\n",
       "2017 3    17    22        5800"
      ]
     },
     "metadata": {},
     "output_type": "display_data"
    }
   ],
   "source": [
    "ORS_to_TRY(Oburistan)"
   ]
  },
  {
   "cell_type": "markdown",
   "metadata": {},
   "source": [
    "Alternatively, use \"apply\""
   ]
  },
  {
   "cell_type": "code",
   "execution_count": 11,
   "metadata": {},
   "outputs": [
    {
     "data": {
      "text/html": [
       "<table>\n",
       "<thead><tr><th></th><th scope=col>Soda</th><th scope=col>Pizza</th><th scope=col>Hamburger</th><th scope=col>CoB</th></tr></thead>\n",
       "<tbody>\n",
       "\t<tr><th scope=row>2015</th><td>2   </td><td>16  </td><td>20  </td><td>4600</td></tr>\n",
       "\t<tr><th scope=row>2016</th><td>3   </td><td>16  </td><td>20  </td><td>5600</td></tr>\n",
       "\t<tr><th scope=row>2017</th><td>3   </td><td>17  </td><td>22  </td><td>5800</td></tr>\n",
       "</tbody>\n",
       "</table>\n"
      ],
      "text/latex": [
       "\\begin{tabular}{r|llll}\n",
       "  & Soda & Pizza & Hamburger & CoB\\\\\n",
       "\\hline\n",
       "\t2015 & 2    & 16   & 20   & 4600\\\\\n",
       "\t2016 & 3    & 16   & 20   & 5600\\\\\n",
       "\t2017 & 3    & 17   & 22   & 5800\\\\\n",
       "\\end{tabular}\n"
      ],
      "text/markdown": [
       "\n",
       "| <!--/--> | Soda | Pizza | Hamburger | CoB | \n",
       "|---|---|---|\n",
       "| 2015 | 2    | 16   | 20   | 4600 | \n",
       "| 2016 | 3    | 16   | 20   | 5600 | \n",
       "| 2017 | 3    | 17   | 22   | 5800 | \n",
       "\n",
       "\n"
      ],
      "text/plain": [
       "     Soda Pizza Hamburger CoB \n",
       "2015 2    16    20        4600\n",
       "2016 3    16    20        5600\n",
       "2017 3    17    22        5800"
      ]
     },
     "metadata": {},
     "output_type": "display_data"
    }
   ],
   "source": [
    "apply(Oburistan, 2, ORS_to_TRY)"
   ]
  },
  {
   "cell_type": "markdown",
   "metadata": {},
   "source": [
    "What was the \"2\" above? "
   ]
  },
  {
   "cell_type": "code",
   "execution_count": 12,
   "metadata": {},
   "outputs": [
    {
     "data": {
      "text/html": [
       "<table>\n",
       "<thead><tr><th></th><th scope=col>2015</th><th scope=col>2016</th><th scope=col>2017</th></tr></thead>\n",
       "<tbody>\n",
       "\t<tr><th scope=row>Soda</th><td>   2</td><td>   3</td><td>   3</td></tr>\n",
       "\t<tr><th scope=row>Pizza</th><td>  16</td><td>  16</td><td>  17</td></tr>\n",
       "\t<tr><th scope=row>Hamburger</th><td>  20</td><td>  20</td><td>  22</td></tr>\n",
       "\t<tr><th scope=row>CoB</th><td>4600</td><td>5600</td><td>5800</td></tr>\n",
       "</tbody>\n",
       "</table>\n"
      ],
      "text/latex": [
       "\\begin{tabular}{r|lll}\n",
       "  & 2015 & 2016 & 2017\\\\\n",
       "\\hline\n",
       "\tSoda &    2 &    3 &    3\\\\\n",
       "\tPizza &   16 &   16 &   17\\\\\n",
       "\tHamburger &   20 &   20 &   22\\\\\n",
       "\tCoB & 4600 & 5600 & 5800\\\\\n",
       "\\end{tabular}\n"
      ],
      "text/markdown": [
       "\n",
       "| <!--/--> | 2015 | 2016 | 2017 | \n",
       "|---|---|---|---|\n",
       "| Soda |    2 |    3 |    3 | \n",
       "| Pizza |   16 |   16 |   17 | \n",
       "| Hamburger |   20 |   20 |   22 | \n",
       "| CoB | 4600 | 5600 | 5800 | \n",
       "\n",
       "\n"
      ],
      "text/plain": [
       "          2015 2016 2017\n",
       "Soda         2    3    3\n",
       "Pizza       16   16   17\n",
       "Hamburger   20   20   22\n",
       "CoB       4600 5600 5800"
      ]
     },
     "metadata": {},
     "output_type": "display_data"
    }
   ],
   "source": [
    "apply(Oburistan, 1, ORS_to_TRY)"
   ]
  },
  {
   "cell_type": "markdown",
   "metadata": {},
   "source": [
    "To see the difference:"
   ]
  },
  {
   "cell_type": "code",
   "execution_count": 13,
   "metadata": {},
   "outputs": [
    {
     "data": {
      "text/html": [
       "<dl class=dl-horizontal>\n",
       "\t<dt>2015</dt>\n",
       "\t\t<dd>579.75</dd>\n",
       "\t<dt>2016</dt>\n",
       "\t\t<dd>704.875</dd>\n",
       "\t<dt>2017</dt>\n",
       "\t\t<dd>730.25</dd>\n",
       "</dl>\n"
      ],
      "text/latex": [
       "\\begin{description*}\n",
       "\\item[2015] 579.75\n",
       "\\item[2016] 704.875\n",
       "\\item[2017] 730.25\n",
       "\\end{description*}\n"
      ],
      "text/markdown": [
       "2015\n",
       ":   579.752016\n",
       ":   704.8752017\n",
       ":   730.25\n",
       "\n"
      ],
      "text/plain": [
       "   2015    2016    2017 \n",
       "579.750 704.875 730.250 "
      ]
     },
     "metadata": {},
     "output_type": "display_data"
    },
    {
     "data": {
      "text/html": [
       "<dl class=dl-horizontal>\n",
       "\t<dt>Soda</dt>\n",
       "\t\t<dd>1.33333333333333</dd>\n",
       "\t<dt>Pizza</dt>\n",
       "\t\t<dd>8.16666666666667</dd>\n",
       "\t<dt>Hamburger</dt>\n",
       "\t\t<dd>10.3333333333333</dd>\n",
       "\t<dt>CoB</dt>\n",
       "\t\t<dd>2666.66666666667</dd>\n",
       "</dl>\n"
      ],
      "text/latex": [
       "\\begin{description*}\n",
       "\\item[Soda] 1.33333333333333\n",
       "\\item[Pizza] 8.16666666666667\n",
       "\\item[Hamburger] 10.3333333333333\n",
       "\\item[CoB] 2666.66666666667\n",
       "\\end{description*}\n"
      ],
      "text/markdown": [
       "Soda\n",
       ":   1.33333333333333Pizza\n",
       ":   8.16666666666667Hamburger\n",
       ":   10.3333333333333CoB\n",
       ":   2666.66666666667\n",
       "\n"
      ],
      "text/plain": [
       "       Soda       Pizza   Hamburger         CoB \n",
       "   1.333333    8.166667   10.333333 2666.666667 "
      ]
     },
     "metadata": {},
     "output_type": "display_data"
    }
   ],
   "source": [
    "apply(Oburistan, 1, mean)\n",
    "apply(Oburistan, 2, mean)"
   ]
  },
  {
   "cell_type": "markdown",
   "metadata": {},
   "source": [
    "Yeah, got it. "
   ]
  },
  {
   "cell_type": "code",
   "execution_count": 14,
   "metadata": {},
   "outputs": [
    {
     "data": {
      "text/html": [
       "<table>\n",
       "<thead><tr><th></th><th scope=col>Soda</th><th scope=col>Pizza</th><th scope=col>Hamburger</th><th scope=col>CoB</th></tr></thead>\n",
       "<tbody>\n",
       "\t<tr><th scope=row>2015</th><td>2   </td><td>16  </td><td>20  </td><td>4600</td></tr>\n",
       "\t<tr><th scope=row>2016</th><td>3   </td><td>16  </td><td>20  </td><td>5600</td></tr>\n",
       "\t<tr><th scope=row>2017</th><td>3   </td><td>17  </td><td>22  </td><td>5800</td></tr>\n",
       "</tbody>\n",
       "</table>\n"
      ],
      "text/latex": [
       "\\begin{tabular}{r|llll}\n",
       "  & Soda & Pizza & Hamburger & CoB\\\\\n",
       "\\hline\n",
       "\t2015 & 2    & 16   & 20   & 4600\\\\\n",
       "\t2016 & 3    & 16   & 20   & 5600\\\\\n",
       "\t2017 & 3    & 17   & 22   & 5800\\\\\n",
       "\\end{tabular}\n"
      ],
      "text/markdown": [
       "\n",
       "| <!--/--> | Soda | Pizza | Hamburger | CoB | \n",
       "|---|---|---|\n",
       "| 2015 | 2    | 16   | 20   | 4600 | \n",
       "| 2016 | 3    | 16   | 20   | 5600 | \n",
       "| 2017 | 3    | 17   | 22   | 5800 | \n",
       "\n",
       "\n"
      ],
      "text/plain": [
       "     Soda Pizza Hamburger CoB \n",
       "2015 2    16    20        4600\n",
       "2016 3    16    20        5600\n",
       "2017 3    17    22        5800"
      ]
     },
     "metadata": {},
     "output_type": "display_data"
    }
   ],
   "source": [
    "Oburistan <- apply(Oburistan, 2, ORS_to_TRY)\n",
    "Oburistan"
   ]
  },
  {
   "cell_type": "markdown",
   "metadata": {},
   "source": [
    "Task-5: Write a function named \"CPI_calculator\" to calculate CPI according to:\n",
    "\n",
    "CPI = (CoB at current year / CoB at base year) x 100\n",
    "\n",
    "Note that: Use 2015's CoB value as a default base year."
   ]
  },
  {
   "cell_type": "code",
   "execution_count": 15,
   "metadata": {
    "collapsed": true
   },
   "outputs": [],
   "source": [
    "CPI_calculator <- function(x, base=4600){\n",
    "  (x/base)*100\n",
    "}"
   ]
  },
  {
   "cell_type": "markdown",
   "metadata": {},
   "source": [
    "Task-6: Calculate CPI for each year using 2016 as base year."
   ]
  },
  {
   "cell_type": "code",
   "execution_count": 16,
   "metadata": {},
   "outputs": [
    {
     "data": {
      "text/html": [
       "<dl class=dl-horizontal>\n",
       "\t<dt>2015</dt>\n",
       "\t\t<dd>100</dd>\n",
       "\t<dt>2016</dt>\n",
       "\t\t<dd>121.739130434783</dd>\n",
       "\t<dt>2017</dt>\n",
       "\t\t<dd>126.086956521739</dd>\n",
       "</dl>\n"
      ],
      "text/latex": [
       "\\begin{description*}\n",
       "\\item[2015] 100\n",
       "\\item[2016] 121.739130434783\n",
       "\\item[2017] 126.086956521739\n",
       "\\end{description*}\n"
      ],
      "text/markdown": [
       "2015\n",
       ":   1002016\n",
       ":   121.7391304347832017\n",
       ":   126.086956521739\n",
       "\n"
      ],
      "text/plain": [
       "    2015     2016     2017 \n",
       "100.0000 121.7391 126.0870 "
      ]
     },
     "metadata": {},
     "output_type": "display_data"
    }
   ],
   "source": [
    "CPI_calculator(Oburistan[,4])\n",
    "CPI <- CPI_calculator(Oburistan[,4])"
   ]
  },
  {
   "cell_type": "markdown",
   "metadata": {},
   "source": [
    "Task-7: Update Oburistan matrix by adding a «CPI» column to matrix with CPI values."
   ]
  },
  {
   "cell_type": "code",
   "execution_count": 17,
   "metadata": {},
   "outputs": [
    {
     "data": {
      "text/html": [
       "<table>\n",
       "<thead><tr><th></th><th scope=col>Soda</th><th scope=col>Pizza</th><th scope=col>Hamburger</th><th scope=col>CoB</th><th scope=col>CPI</th></tr></thead>\n",
       "<tbody>\n",
       "\t<tr><th scope=row>2015</th><td>2       </td><td>16      </td><td>20      </td><td>4600    </td><td>100.0000</td></tr>\n",
       "\t<tr><th scope=row>2016</th><td>3       </td><td>16      </td><td>20      </td><td>5600    </td><td>121.7391</td></tr>\n",
       "\t<tr><th scope=row>2017</th><td>3       </td><td>17      </td><td>22      </td><td>5800    </td><td>126.0870</td></tr>\n",
       "</tbody>\n",
       "</table>\n"
      ],
      "text/latex": [
       "\\begin{tabular}{r|lllll}\n",
       "  & Soda & Pizza & Hamburger & CoB & CPI\\\\\n",
       "\\hline\n",
       "\t2015 & 2        & 16       & 20       & 4600     & 100.0000\\\\\n",
       "\t2016 & 3        & 16       & 20       & 5600     & 121.7391\\\\\n",
       "\t2017 & 3        & 17       & 22       & 5800     & 126.0870\\\\\n",
       "\\end{tabular}\n"
      ],
      "text/markdown": [
       "\n",
       "| <!--/--> | Soda | Pizza | Hamburger | CoB | CPI | \n",
       "|---|---|---|\n",
       "| 2015 | 2        | 16       | 20       | 4600     | 100.0000 | \n",
       "| 2016 | 3        | 16       | 20       | 5600     | 121.7391 | \n",
       "| 2017 | 3        | 17       | 22       | 5800     | 126.0870 | \n",
       "\n",
       "\n"
      ],
      "text/plain": [
       "     Soda Pizza Hamburger CoB  CPI     \n",
       "2015 2    16    20        4600 100.0000\n",
       "2016 3    16    20        5600 121.7391\n",
       "2017 3    17    22        5800 126.0870"
      ]
     },
     "metadata": {},
     "output_type": "display_data"
    }
   ],
   "source": [
    "cbind(Oburistan, CPI)\n",
    "oburistan <- cbind(Oburistan, CPI)"
   ]
  },
  {
   "cell_type": "markdown",
   "metadata": {},
   "source": [
    "Remember the QUIZ Question!"
   ]
  },
  {
   "cell_type": "markdown",
   "metadata": {},
   "source": [
    "We were asked to create:\n",
    "\n",
    "    >  $matrix\n",
    "    >        [,1] [,2] [,3] [,4]\n",
    "    >  [1,]    2    3    4    5\n",
    "    >  [2,]    3    4    5    6\n",
    "    >  [3,]    4    5    6    7\n",
    "    >  [4,]    5    6    7    8\n",
    "\n",
    "    >  $sum\n",
    "    >  [1] 80"
   ]
  },
  {
   "cell_type": "code",
   "execution_count": 18,
   "metadata": {
    "collapsed": true
   },
   "outputs": [],
   "source": [
    "matrix_fnc <- function(x,y)\n",
    "{\n",
    "  special_matrix <- matrix(nrow = x, ncol = y)\n",
    "  for (rw in 1:x){\n",
    "    for(cl in 1:y){\n",
    "      special_matrix[rw,cl] <- rw + cl \n",
    "    }\n",
    "  }\n",
    "  return(list(matrix=special_matrix, sum=sum(special_matrix)))\n",
    "}"
   ]
  },
  {
   "cell_type": "code",
   "execution_count": 19,
   "metadata": {},
   "outputs": [
    {
     "data": {
      "text/html": [
       "<dl>\n",
       "\t<dt>$matrix</dt>\n",
       "\t\t<dd><table>\n",
       "<tbody>\n",
       "\t<tr><td>2</td><td>3</td><td>4</td><td>5</td><td>6</td></tr>\n",
       "\t<tr><td>3</td><td>4</td><td>5</td><td>6</td><td>7</td></tr>\n",
       "\t<tr><td>4</td><td>5</td><td>6</td><td>7</td><td>8</td></tr>\n",
       "</tbody>\n",
       "</table>\n",
       "</dd>\n",
       "\t<dt>$sum</dt>\n",
       "\t\t<dd>75</dd>\n",
       "</dl>\n"
      ],
      "text/latex": [
       "\\begin{description}\n",
       "\\item[\\$matrix] \\begin{tabular}{lllll}\n",
       "\t 2 & 3 & 4 & 5 & 6\\\\\n",
       "\t 3 & 4 & 5 & 6 & 7\\\\\n",
       "\t 4 & 5 & 6 & 7 & 8\\\\\n",
       "\\end{tabular}\n",
       "\n",
       "\\item[\\$sum] 75\n",
       "\\end{description}\n"
      ],
      "text/markdown": [
       "$matrix\n",
       ":   \n",
       "| 2 | 3 | 4 | 5 | 6 | \n",
       "| 3 | 4 | 5 | 6 | 7 | \n",
       "| 4 | 5 | 6 | 7 | 8 | \n",
       "\n",
       "\n",
       "\n",
       "$sum\n",
       ":   75\n",
       "\n",
       "\n"
      ],
      "text/plain": [
       "$matrix\n",
       "     [,1] [,2] [,3] [,4] [,5]\n",
       "[1,]    2    3    4    5    6\n",
       "[2,]    3    4    5    6    7\n",
       "[3,]    4    5    6    7    8\n",
       "\n",
       "$sum\n",
       "[1] 75\n"
      ]
     },
     "metadata": {},
     "output_type": "display_data"
    }
   ],
   "source": [
    "matrix_fnc(3,5)"
   ]
  },
  {
   "cell_type": "markdown",
   "metadata": {},
   "source": [
    "And what if you are asked...\n",
    "\n",
    "     > my_func(3,4)\n",
    "     >       [,1] [,2] [,3] [,4]\n",
    "     > [1,]    1    1    1    1\n",
    "     > [2,]    1    0    0    1\n",
    "     > [3,]    1    0    0    1\n",
    "     > [4,]    1    0    0    1\n",
    "     > [5,]    1    1    1    1"
   ]
  },
  {
   "cell_type": "code",
   "execution_count": 20,
   "metadata": {},
   "outputs": [
    {
     "data": {
      "text/html": [
       "<dl>\n",
       "\t<dt>$matrix</dt>\n",
       "\t\t<dd><table>\n",
       "<tbody>\n",
       "\t<tr><td>1</td><td>1</td><td>1</td><td>1</td><td>1</td></tr>\n",
       "\t<tr><td>1</td><td>0</td><td>0</td><td>0</td><td>1</td></tr>\n",
       "\t<tr><td>1</td><td>0</td><td>0</td><td>0</td><td>1</td></tr>\n",
       "\t<tr><td>1</td><td>0</td><td>0</td><td>0</td><td>1</td></tr>\n",
       "\t<tr><td>1</td><td>0</td><td>0</td><td>0</td><td>1</td></tr>\n",
       "\t<tr><td>1</td><td>1</td><td>1</td><td>1</td><td>1</td></tr>\n",
       "</tbody>\n",
       "</table>\n",
       "</dd>\n",
       "\t<dt>$sum</dt>\n",
       "\t\t<dd>18</dd>\n",
       "</dl>\n"
      ],
      "text/latex": [
       "\\begin{description}\n",
       "\\item[\\$matrix] \\begin{tabular}{lllll}\n",
       "\t 1 & 1 & 1 & 1 & 1\\\\\n",
       "\t 1 & 0 & 0 & 0 & 1\\\\\n",
       "\t 1 & 0 & 0 & 0 & 1\\\\\n",
       "\t 1 & 0 & 0 & 0 & 1\\\\\n",
       "\t 1 & 0 & 0 & 0 & 1\\\\\n",
       "\t 1 & 1 & 1 & 1 & 1\\\\\n",
       "\\end{tabular}\n",
       "\n",
       "\\item[\\$sum] 18\n",
       "\\end{description}\n"
      ],
      "text/markdown": [
       "$matrix\n",
       ":   \n",
       "| 1 | 1 | 1 | 1 | 1 | \n",
       "| 1 | 0 | 0 | 0 | 1 | \n",
       "| 1 | 0 | 0 | 0 | 1 | \n",
       "| 1 | 0 | 0 | 0 | 1 | \n",
       "| 1 | 0 | 0 | 0 | 1 | \n",
       "| 1 | 1 | 1 | 1 | 1 | \n",
       "\n",
       "\n",
       "\n",
       "$sum\n",
       ":   18\n",
       "\n",
       "\n"
      ],
      "text/plain": [
       "$matrix\n",
       "     [,1] [,2] [,3] [,4] [,5]\n",
       "[1,]    1    1    1    1    1\n",
       "[2,]    1    0    0    0    1\n",
       "[3,]    1    0    0    0    1\n",
       "[4,]    1    0    0    0    1\n",
       "[5,]    1    0    0    0    1\n",
       "[6,]    1    1    1    1    1\n",
       "\n",
       "$sum\n",
       "[1] 18\n"
      ]
     },
     "metadata": {},
     "output_type": "display_data"
    }
   ],
   "source": [
    "matrix_fnc <- function(x,y)\n",
    "{\n",
    "  special_matrix <- matrix(nrow = x, ncol = y)\n",
    "  for (rw in 1:x){\n",
    "    for(cl in 1:y){\n",
    "      if(rw==1 || cl==1){\n",
    "        special_matrix[rw,cl] <- 1\n",
    "      }\n",
    "    else if(rw==x || cl==y){\n",
    "        special_matrix[rw,cl] <- 1\n",
    "      }\n",
    "      else{\n",
    "        special_matrix[rw,cl] <- 0\n",
    "      }\n",
    "    }\n",
    "  }\n",
    "  return(list(matrix=special_matrix, sum=sum(special_matrix)))\n",
    "}\n",
    "    matrix_fnc(6,5)"
   ]
  },
  {
   "cell_type": "markdown",
   "metadata": {},
   "source": [
    "What if you are asked this one? Try yourself...\n",
    "\n",
    "     > my_func(3,4)\n",
    "     >       [,1] [,2] [,3] [,4]\n",
    "     > [1,]    1    0    1    0\n",
    "     > [2,]    0    1    0    1\n",
    "     > [3,]    1    0    1    0"
   ]
  },
  {
   "cell_type": "markdown",
   "metadata": {},
   "source": [
    "Let's continue with some function & loop exercises. "
   ]
  },
  {
   "cell_type": "markdown",
   "metadata": {},
   "source": [
    "We have seen some functions throughout the course like mean(),sum(),sqrt() etc.\n",
    "\n",
    "Can you create a function which can do what length() function does without using length function ?\n",
    "    \n",
    "You are required to use a while loop\n",
    "    \n",
    "Hint: And you can just play on how \"mean\" is calculated"
   ]
  },
  {
   "cell_type": "code",
   "execution_count": 21,
   "metadata": {
    "collapsed": true
   },
   "outputs": [],
   "source": [
    "my_length_fx <- function(input)\n",
    "{\n",
    "  i <- 1 \n",
    "  \n",
    "  while( mean(input) != sum(input) / i) # while two mean definitions are not equal\n",
    "  { \n",
    "    i <- i + 1 \n",
    "  }\n",
    "  \n",
    "  return(i)\n",
    "  \n",
    "}"
   ]
  },
  {
   "cell_type": "code",
   "execution_count": 22,
   "metadata": {},
   "outputs": [
    {
     "data": {
      "text/html": [
       "9"
      ],
      "text/latex": [
       "9"
      ],
      "text/markdown": [
       "9"
      ],
      "text/plain": [
       "[1] 9"
      ]
     },
     "metadata": {},
     "output_type": "display_data"
    }
   ],
   "source": [
    "my_length_fx(c(1,5,3,5,2,35,46,9,4))"
   ]
  },
  {
   "cell_type": "markdown",
   "metadata": {},
   "source": [
    "Does it work for every vector?\n",
    "Hmmm... The input should not be a vector sum of which is 0."
   ]
  },
  {
   "cell_type": "code",
   "execution_count": 23,
   "metadata": {},
   "outputs": [
    {
     "data": {
      "text/html": [
       "1"
      ],
      "text/latex": [
       "1"
      ],
      "text/markdown": [
       "1"
      ],
      "text/plain": [
       "[1] 1"
      ]
     },
     "metadata": {},
     "output_type": "display_data"
    }
   ],
   "source": [
    "my_length_fx(c(-3,0,3))"
   ]
  },
  {
   "cell_type": "markdown",
   "metadata": {},
   "source": [
    "So, can we find another method?"
   ]
  },
  {
   "cell_type": "code",
   "execution_count": 24,
   "metadata": {
    "collapsed": true
   },
   "outputs": [],
   "source": [
    "length_calculator <- function(vec){\n",
    "  a <-0\n",
    "  for(i in vec){\n",
    "    a <- a + 1\n",
    "  }\n",
    "  return(a)\n",
    "}"
   ]
  },
  {
   "cell_type": "code",
   "execution_count": 25,
   "metadata": {},
   "outputs": [
    {
     "data": {
      "text/html": [
       "9"
      ],
      "text/latex": [
       "9"
      ],
      "text/markdown": [
       "9"
      ],
      "text/plain": [
       "[1] 9"
      ]
     },
     "metadata": {},
     "output_type": "display_data"
    },
    {
     "data": {
      "text/html": [
       "3"
      ],
      "text/latex": [
       "3"
      ],
      "text/markdown": [
       "3"
      ],
      "text/plain": [
       "[1] 3"
      ]
     },
     "metadata": {},
     "output_type": "display_data"
    }
   ],
   "source": [
    "length_calculator(c(1,5,3,5,2,35,46,9,4))\n",
    "length_calculator(c(-3,0,3))"
   ]
  },
  {
   "cell_type": "markdown",
   "metadata": {},
   "source": [
    "Another simple exercise:\n",
    "\n",
    "Suppose you are working for a travel company.\n",
    "\n",
    "The company organizes a trip to Rome and they sell eveything included packages for 100TL for 1 person.\n",
    "\n",
    "They also give group discounts, which works the following way:\n",
    "\n",
    "For a purchase of more than 1 person, the per person package price becomes:\n",
    "\n",
    "100-(the number of people in the group). \n",
    "\n",
    "For example, if you buy the package for 2 people, you pay: 2*(100-2) = 196TL in total.\n",
    "\n",
    "The maximum discount you can get this way is 50TL per person.\n",
    "\n",
    "So, for more than 50 people you still get 50TL discount per person.\n",
    "\n",
    "For example, for 60 people the total price is 60*(100-50)= 3000TL\n",
    "\n",
    "Write a function f(x), which calculates total cost given the number of people in the group.\n",
    "\n",
    "The function should work for the case of only 1 person too."
   ]
  },
  {
   "cell_type": "code",
   "execution_count": 26,
   "metadata": {},
   "outputs": [
    {
     "data": {
      "text/html": [
       "3000"
      ],
      "text/latex": [
       "3000"
      ],
      "text/markdown": [
       "3000"
      ],
      "text/plain": [
       "[1] 3000"
      ]
     },
     "metadata": {},
     "output_type": "display_data"
    }
   ],
   "source": [
    "f <- function(x){\n",
    "  if(x==1){return(100)\n",
    "  }else{\n",
    "    if(x<51){\n",
    "      return(x*(100-x))\n",
    "    }else{\n",
    "      return(x*50)\n",
    "    }\n",
    "  }\n",
    "}\n",
    "f(60)"
   ]
  },
  {
   "cell_type": "markdown",
   "metadata": {},
   "source": [
    "Write a function which sums the odd vector elements' squares using the control \"next\"\n",
    "\n",
    "Examples:\n",
    "\n",
    "    > a <- c(2,3,5,7,8)\n",
    "    > math(a)\n",
    "    > 83\n",
    "\n",
    "    > b< -c(1,2,4,6,12,24)\n",
    "    > math(b)\n",
    "    > 1\n",
    "\n",
    "    > d <-c(1,3,5,7)\n",
    "    > math(d)\n",
    "    > 84"
   ]
  },
  {
   "cell_type": "code",
   "execution_count": 27,
   "metadata": {},
   "outputs": [
    {
     "data": {
      "text/html": [
       "84"
      ],
      "text/latex": [
       "84"
      ],
      "text/markdown": [
       "84"
      ],
      "text/plain": [
       "[1] 84"
      ]
     },
     "metadata": {},
     "output_type": "display_data"
    }
   ],
   "source": [
    "math <- function(vec)\n",
    "{\n",
    "  summ <- 0 \n",
    "  \n",
    "  for (x in vec) \n",
    "  {\n",
    "    \n",
    "    if( x %% 2 == 0 ) \n",
    "    {\n",
    "      next \n",
    "    }else{summ <- summ + x ^ 2 }\n",
    "  }\n",
    "  \n",
    "  return(summ)\n",
    "  \n",
    "}\n",
    "d<-c(1,3,5,7)\n",
    "math(d)"
   ]
  },
  {
   "cell_type": "markdown",
   "metadata": {},
   "source": [
    "Finally, a cute list question ^_^"
   ]
  },
  {
   "cell_type": "markdown",
   "metadata": {},
   "source": [
    "Create \"add\" list containing French verb endings for verbs with one base for present tense\n",
    "\n",
    "    > je(I) -> \"e\"\n",
    "    > tu(you) -> \"es\"\n",
    "    > elle(she) -> \"e\"\n",
    "    > nous (we) -> \"ons\" \n",
    "    > vous(you) -> \"ez\" \n",
    "    > ils(they) -> \"ent\"\n",
    "\n",
    "Create a list \"verbs\" containing the bases of verbs such as \n",
    "cherch (to search), regard (to watch), port (to wear)\n",
    "\n",
    "Create a function \"conjugaison\" that will take the base of the verb as an input \n",
    "and would return the conjugations for the six subjects\n",
    "\n",
    "The function should give the result below\n",
    "\n",
    "    > conjugaison(\"travaill\")\n",
    "    > [1] \"travaille\"   \"travailles\"  \"travaille\"   \"travaillons\" \"travaillez\" \"travaillent\"\n",
    "\n",
    "Hint: You may want to check the arguments for paste function"
   ]
  },
  {
   "cell_type": "code",
   "execution_count": 28,
   "metadata": {},
   "outputs": [
    {
     "data": {
      "text/html": [
       "<dl>\n",
       "\t<dt>$je</dt>\n",
       "\t\t<dd>'e'</dd>\n",
       "\t<dt>$tu</dt>\n",
       "\t\t<dd>'es'</dd>\n",
       "\t<dt>$elle</dt>\n",
       "\t\t<dd>'e'</dd>\n",
       "\t<dt>$nous</dt>\n",
       "\t\t<dd>'ons'</dd>\n",
       "\t<dt>$vous</dt>\n",
       "\t\t<dd>'ez'</dd>\n",
       "\t<dt>$ils</dt>\n",
       "\t\t<dd>'ent'</dd>\n",
       "</dl>\n"
      ],
      "text/latex": [
       "\\begin{description}\n",
       "\\item[\\$je] 'e'\n",
       "\\item[\\$tu] 'es'\n",
       "\\item[\\$elle] 'e'\n",
       "\\item[\\$nous] 'ons'\n",
       "\\item[\\$vous] 'ez'\n",
       "\\item[\\$ils] 'ent'\n",
       "\\end{description}\n"
      ],
      "text/markdown": [
       "$je\n",
       ":   'e'\n",
       "$tu\n",
       ":   'es'\n",
       "$elle\n",
       ":   'e'\n",
       "$nous\n",
       ":   'ons'\n",
       "$vous\n",
       ":   'ez'\n",
       "$ils\n",
       ":   'ent'\n",
       "\n",
       "\n"
      ],
      "text/plain": [
       "$je\n",
       "[1] \"e\"\n",
       "\n",
       "$tu\n",
       "[1] \"es\"\n",
       "\n",
       "$elle\n",
       "[1] \"e\"\n",
       "\n",
       "$nous\n",
       "[1] \"ons\"\n",
       "\n",
       "$vous\n",
       "[1] \"ez\"\n",
       "\n",
       "$ils\n",
       "[1] \"ent\"\n"
      ]
     },
     "metadata": {},
     "output_type": "display_data"
    }
   ],
   "source": [
    "add <- list(je=\"e\", tu=\"es\", elle=\"e\", nous=\"ons\", vous=\"ez\", ils=\"ent\")\n",
    "add"
   ]
  },
  {
   "cell_type": "code",
   "execution_count": 29,
   "metadata": {
    "collapsed": true
   },
   "outputs": [],
   "source": [
    "conjugaison <- function(verb)\n",
    "{\n",
    "  conj <- c()\n",
    "  for(i in 1:6)\n",
    "  {\n",
    "    conj <- c(conj, paste(verb[1],add[i], sep = \"\"))\n",
    "  }\n",
    "  return(conj)   \n",
    "}"
   ]
  },
  {
   "cell_type": "code",
   "execution_count": 30,
   "metadata": {},
   "outputs": [
    {
     "data": {
      "text/html": [
       "<ol class=list-inline>\n",
       "\t<li>'travaille'</li>\n",
       "\t<li>'travailles'</li>\n",
       "\t<li>'travaille'</li>\n",
       "\t<li>'travaillons'</li>\n",
       "\t<li>'travaillez'</li>\n",
       "\t<li>'travaillent'</li>\n",
       "</ol>\n"
      ],
      "text/latex": [
       "\\begin{enumerate*}\n",
       "\\item 'travaille'\n",
       "\\item 'travailles'\n",
       "\\item 'travaille'\n",
       "\\item 'travaillons'\n",
       "\\item 'travaillez'\n",
       "\\item 'travaillent'\n",
       "\\end{enumerate*}\n"
      ],
      "text/markdown": [
       "1. 'travaille'\n",
       "2. 'travailles'\n",
       "3. 'travaille'\n",
       "4. 'travaillons'\n",
       "5. 'travaillez'\n",
       "6. 'travaillent'\n",
       "\n",
       "\n"
      ],
      "text/plain": [
       "[1] \"travaille\"   \"travailles\"  \"travaille\"   \"travaillons\" \"travaillez\" \n",
       "[6] \"travaillent\""
      ]
     },
     "metadata": {},
     "output_type": "display_data"
    }
   ],
   "source": [
    "conjugaison(\"travaill\")"
   ]
  },
  {
   "cell_type": "code",
   "execution_count": 31,
   "metadata": {},
   "outputs": [
    {
     "data": {
      "text/html": [
       "<dl>\n",
       "\t<dt>$to_search</dt>\n",
       "\t\t<dd><ol class=list-inline>\n",
       "\t<li>'cherche'</li>\n",
       "\t<li>'cherches'</li>\n",
       "\t<li>'cherche'</li>\n",
       "\t<li>'cherchons'</li>\n",
       "\t<li>'cherchez'</li>\n",
       "\t<li>'cherchent'</li>\n",
       "</ol>\n",
       "</dd>\n",
       "\t<dt>$to_watch</dt>\n",
       "\t\t<dd><ol class=list-inline>\n",
       "\t<li>'regarde'</li>\n",
       "\t<li>'regardes'</li>\n",
       "\t<li>'regarde'</li>\n",
       "\t<li>'regardons'</li>\n",
       "\t<li>'regardez'</li>\n",
       "\t<li>'regardent'</li>\n",
       "</ol>\n",
       "</dd>\n",
       "\t<dt>$to_wear</dt>\n",
       "\t\t<dd><ol class=list-inline>\n",
       "\t<li>'porte'</li>\n",
       "\t<li>'portes'</li>\n",
       "\t<li>'porte'</li>\n",
       "\t<li>'portons'</li>\n",
       "\t<li>'portez'</li>\n",
       "\t<li>'portent'</li>\n",
       "</ol>\n",
       "</dd>\n",
       "</dl>\n"
      ],
      "text/latex": [
       "\\begin{description}\n",
       "\\item[\\$to\\_search] \\begin{enumerate*}\n",
       "\\item 'cherche'\n",
       "\\item 'cherches'\n",
       "\\item 'cherche'\n",
       "\\item 'cherchons'\n",
       "\\item 'cherchez'\n",
       "\\item 'cherchent'\n",
       "\\end{enumerate*}\n",
       "\n",
       "\\item[\\$to\\_watch] \\begin{enumerate*}\n",
       "\\item 'regarde'\n",
       "\\item 'regardes'\n",
       "\\item 'regarde'\n",
       "\\item 'regardons'\n",
       "\\item 'regardez'\n",
       "\\item 'regardent'\n",
       "\\end{enumerate*}\n",
       "\n",
       "\\item[\\$to\\_wear] \\begin{enumerate*}\n",
       "\\item 'porte'\n",
       "\\item 'portes'\n",
       "\\item 'porte'\n",
       "\\item 'portons'\n",
       "\\item 'portez'\n",
       "\\item 'portent'\n",
       "\\end{enumerate*}\n",
       "\n",
       "\\end{description}\n"
      ],
      "text/markdown": [
       "$to_search\n",
       ":   1. 'cherche'\n",
       "2. 'cherches'\n",
       "3. 'cherche'\n",
       "4. 'cherchons'\n",
       "5. 'cherchez'\n",
       "6. 'cherchent'\n",
       "\n",
       "\n",
       "\n",
       "$to_watch\n",
       ":   1. 'regarde'\n",
       "2. 'regardes'\n",
       "3. 'regarde'\n",
       "4. 'regardons'\n",
       "5. 'regardez'\n",
       "6. 'regardent'\n",
       "\n",
       "\n",
       "\n",
       "$to_wear\n",
       ":   1. 'porte'\n",
       "2. 'portes'\n",
       "3. 'porte'\n",
       "4. 'portons'\n",
       "5. 'portez'\n",
       "6. 'portent'\n",
       "\n",
       "\n",
       "\n",
       "\n",
       "\n"
      ],
      "text/plain": [
       "$to_search\n",
       "[1] \"cherche\"   \"cherches\"  \"cherche\"   \"cherchons\" \"cherchez\"  \"cherchent\"\n",
       "\n",
       "$to_watch\n",
       "[1] \"regarde\"   \"regardes\"  \"regarde\"   \"regardons\" \"regardez\"  \"regardent\"\n",
       "\n",
       "$to_wear\n",
       "[1] \"porte\"   \"portes\"  \"porte\"   \"portons\" \"portez\"  \"portent\"\n"
      ]
     },
     "metadata": {},
     "output_type": "display_data"
    },
    {
     "data": {
      "text/html": [
       "<table>\n",
       "<thead><tr><th scope=col>to_search</th><th scope=col>to_watch</th><th scope=col>to_wear</th></tr></thead>\n",
       "<tbody>\n",
       "\t<tr><td>cherche  </td><td>regarde  </td><td>porte    </td></tr>\n",
       "\t<tr><td>cherches </td><td>regardes </td><td>portes   </td></tr>\n",
       "\t<tr><td>cherche  </td><td>regarde  </td><td>porte    </td></tr>\n",
       "\t<tr><td>cherchons</td><td>regardons</td><td>portons  </td></tr>\n",
       "\t<tr><td>cherchez </td><td>regardez </td><td>portez   </td></tr>\n",
       "\t<tr><td>cherchent</td><td>regardent</td><td>portent  </td></tr>\n",
       "</tbody>\n",
       "</table>\n"
      ],
      "text/latex": [
       "\\begin{tabular}{lll}\n",
       " to\\_search & to\\_watch & to\\_wear\\\\\n",
       "\\hline\n",
       "\t cherche   & regarde   & porte    \\\\\n",
       "\t cherches  & regardes  & portes   \\\\\n",
       "\t cherche   & regarde   & porte    \\\\\n",
       "\t cherchons & regardons & portons  \\\\\n",
       "\t cherchez  & regardez  & portez   \\\\\n",
       "\t cherchent & regardent & portent  \\\\\n",
       "\\end{tabular}\n"
      ],
      "text/markdown": [
       "\n",
       "to_search | to_watch | to_wear | \n",
       "|---|---|---|---|---|---|\n",
       "| cherche   | regarde   | porte     | \n",
       "| cherches  | regardes  | portes    | \n",
       "| cherche   | regarde   | porte     | \n",
       "| cherchons | regardons | portons   | \n",
       "| cherchez  | regardez  | portez    | \n",
       "| cherchent | regardent | portent   | \n",
       "\n",
       "\n"
      ],
      "text/plain": [
       "     to_search to_watch  to_wear\n",
       "[1,] cherche   regarde   porte  \n",
       "[2,] cherches  regardes  portes \n",
       "[3,] cherche   regarde   porte  \n",
       "[4,] cherchons regardons portons\n",
       "[5,] cherchez  regardez  portez \n",
       "[6,] cherchent regardent portent"
      ]
     },
     "metadata": {},
     "output_type": "display_data"
    }
   ],
   "source": [
    "verbs <- list(to_search=\"cherch\", to_watch=\"regard\", to_wear=\"port\")\n",
    "lapply(verbs, conjugaison)\n",
    "sapply(verbs, conjugaison)"
   ]
  }
 ],
 "metadata": {
  "kernelspec": {
   "display_name": "R",
   "language": "R",
   "name": "ir"
  },
  "language_info": {
   "codemirror_mode": "r",
   "file_extension": ".r",
   "mimetype": "text/x-r-source",
   "name": "R",
   "pygments_lexer": "r",
   "version": "3.4.2"
  }
 },
 "nbformat": 4,
 "nbformat_minor": 2
}
