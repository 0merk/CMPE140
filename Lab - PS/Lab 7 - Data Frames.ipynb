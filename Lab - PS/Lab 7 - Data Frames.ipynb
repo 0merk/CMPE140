{
 "cells": [
  {
   "cell_type": "markdown",
   "metadata": {},
   "source": [
    "# Flight distances\n",
    "\n",
    "We have latitude or longitude values for all 81 provinces and we have to calculate distances between them.\n",
    "\n",
    "## Get Coordinates\n",
    "\n",
    "Copy this method below to load _coordinates.csv_ file into the flights _DataFrame_ first."
   ]
  },
  {
   "cell_type": "code",
   "execution_count": 6,
   "metadata": {},
   "outputs": [
    {
     "data": {
      "text/html": [
       "<table>\n",
       "<thead><tr><th></th><th scope=col>lat</th><th scope=col>lng</th></tr></thead>\n",
       "<tbody>\n",
       "\t<tr><th scope=row>Adana</th><td>36.99142</td><td>35.33083</td></tr>\n",
       "\t<tr><th scope=row>Adıyaman</th><td>37.76365</td><td>38.27726</td></tr>\n",
       "\t<tr><th scope=row>Afyonkarahisar</th><td>38.75689</td><td>30.53870</td></tr>\n",
       "\t<tr><th scope=row>Ağrı</th><td>39.71907</td><td>43.05059</td></tr>\n",
       "\t<tr><th scope=row>Amasya</th><td>40.65646</td><td>35.83735</td></tr>\n",
       "\t<tr><th scope=row>Ankara</th><td>39.93336</td><td>32.85974</td></tr>\n",
       "</tbody>\n",
       "</table>\n"
      ],
      "text/latex": [
       "\\begin{tabular}{r|ll}\n",
       "  & lat & lng\\\\\n",
       "\\hline\n",
       "\tAdana & 36.99142 & 35.33083\\\\\n",
       "\tAdıyaman & 37.76365 & 38.27726\\\\\n",
       "\tAfyonkarahisar & 38.75689 & 30.53870\\\\\n",
       "\tAğrı & 39.71907 & 43.05059\\\\\n",
       "\tAmasya & 40.65646 & 35.83735\\\\\n",
       "\tAnkara & 39.93336 & 32.85974\\\\\n",
       "\\end{tabular}\n"
      ],
      "text/markdown": [
       "\n",
       "| <!--/--> | lat | lng | \n",
       "|---|---|---|---|---|---|\n",
       "| Adana | 36.99142 | 35.33083 | \n",
       "| Adıyaman | 37.76365 | 38.27726 | \n",
       "| Afyonkarahisar | 38.75689 | 30.53870 | \n",
       "| Ağrı | 39.71907 | 43.05059 | \n",
       "| Amasya | 40.65646 | 35.83735 | \n",
       "| Ankara | 39.93336 | 32.85974 | \n",
       "\n",
       "\n"
      ],
      "text/plain": [
       "               lat      lng     \n",
       "Adana          36.99142 35.33083\n",
       "Adıyaman       37.76365 38.27726\n",
       "Afyonkarahisar 38.75689 30.53870\n",
       "Ağrı           39.71907 43.05059\n",
       "Amasya         40.65646 35.83735\n",
       "Ankara         39.93336 32.85974"
      ]
     },
     "metadata": {},
     "output_type": "display_data"
    }
   ],
   "source": [
    "coordinates <- read.csv(\"coordinates.csv\", row.names = 1)\n",
    "head(coordinates)"
   ]
  },
  {
   "cell_type": "markdown",
   "metadata": {
    "solution2": "hidden",
    "solution2_first": true
   },
   "source": [
    "## Calculate Distance\n",
    "\n",
    "In order to calculate distance between two points on earth we use the function below:\n",
    "\n",
    "\\begin{align}\n",
    "a &= sin^2(\\Delta\\varphi/2) + cos\\varphi_1 * cos\\varphi_2 * sin^2(\\Delta\\lambda/2) \\\\\n",
    "c &= 2 * atan2(\\sqrt{a}, \\sqrt{1-a}) \\\\\n",
    "d &= R * c\n",
    "\\end{align}\n",
    "\n",
    "where $\\varphi$ is latitude and $\\lambda$ is longitude, and $R$ represents radius which is  6.371km.\n",
    "\n",
    "We will write a function named *calculate\\_distance* which will calculate the distance between two points on earth using the formula above.\n",
    "\n",
    " - $\\Delta$ means the difference (between latitude or longitude values)\n",
    " - $d$ is the distance we try to find\n",
    " \n",
    "**Note**: Function above works on radians but given coordinates are in degrees. In order to conver them, you should use $r = d * \\pi / 180$ where $d$ is degree and $r$ is radians.\n",
    "\n",
    "**Hint**:\n",
    "\n",
    "```R\n",
    "# Function in R\n",
    "atan2()\n",
    "```\n",
    "#### Example usage\n",
    "```R\n",
    "> calculate_distance(coordinates[\"Adana\",], coordinates[\"Adıyaman\",])\n",
    "274.130329948729\n",
    "```"
   ]
  },
  {
   "cell_type": "code",
   "execution_count": 2,
   "metadata": {
    "solution2": "hidden"
   },
   "outputs": [],
   "source": [
    "# http://www.movable-type.co.uk/scripts/latlong.html\n",
    "calculate_distance <- function(prov1, prov2)\n",
    "{\n",
    "  rad_earth <- 6371 # radius of earth\n",
    "  \n",
    "  coor1 <- prov1 * pi / 180\n",
    "  coor2 <- prov2 * pi / 180\n",
    "  \n",
    "  lat1 <- coor1[[1]]\n",
    "  lng1 <- coor1[[2]]\n",
    "  \n",
    "  lat2 <- coor2[[1]]\n",
    "  lng2 <- coor2[[2]]\n",
    "  \n",
    "  dlat <- lat1 - lat2\n",
    "  dlng <- lng1 - lng2\n",
    "  \n",
    "  a <- sin(dlat / 2)^2 + cos(lat1) * cos(lat2) * sin(dlng / 2)^2\n",
    "  \n",
    "  cc <- 2 * atan2(sqrt(a), sqrt(1-a))\n",
    "  \n",
    "  distance <- rad_earth * cc\n",
    "  \n",
    "  return(distance)\n",
    "}"
   ]
  },
  {
   "cell_type": "markdown",
   "metadata": {},
   "source": [
    "## Generate Distance Matrix\n",
    "\n",
    "We will write the function *distance_mat_gen* which will calculate all the distances of a given coordinates and return them as a data frame. In our case, column and row names should be corresponding provinces.\n",
    "\n",
    "#### Example Usage"
   ]
  },
  {
   "cell_type": "code",
   "execution_count": 4,
   "metadata": {
    "solution2": "hidden",
    "solution2_first": true
   },
   "outputs": [
    {
     "data": {
      "text/html": [
       "<table>\n",
       "<thead><tr><th></th><th scope=col>Adana</th><th scope=col>Adıyaman</th><th scope=col>Afyonkarahisar</th><th scope=col>Ağrı</th><th scope=col>Amasya</th><th scope=col>Ankara</th><th scope=col>Antalya</th><th scope=col>Artvin</th><th scope=col>Aydın</th><th scope=col>Balıkesir</th><th scope=col>⋯</th><th scope=col>Batman</th><th scope=col>Şırnak</th><th scope=col>Bartın</th><th scope=col>Ardahan</th><th scope=col>Iğdır</th><th scope=col>Yalova</th><th scope=col>Karabük</th><th scope=col>Kilis</th><th scope=col>Osmaniye</th><th scope=col>Düzce</th></tr></thead>\n",
       "<tbody>\n",
       "\t<tr><th scope=row>Adana</th><td>  0.0000  </td><td>274.1303  </td><td> 464.0904 </td><td> 737.9670 </td><td>409.8865  </td><td>391.4989  </td><td> 410.4493 </td><td>728.1713  </td><td> 611.2858 </td><td> 713.0693 </td><td>⋯         </td><td>521.4850  </td><td> 632.9820 </td><td>577.2951  </td><td> 783.8771 </td><td> 825.12815</td><td> 663.2922 </td><td>517.2614  </td><td>161.6306  </td><td> 81.79594 </td><td> 559.3729 </td></tr>\n",
       "\t<tr><th scope=row>Adıyaman</th><td>274.1303  </td><td>  0.0000  </td><td> 684.4088 </td><td> 467.5222 </td><td>384.2250  </td><td>527.4184  </td><td> 675.4953 </td><td>486.6287  </td><td> 860.0036 </td><td> 924.8506 </td><td>⋯         </td><td>250.8730  </td><td> 368.7094 </td><td>666.1153  </td><td> 531.9325 </td><td> 553.83735</td><td> 838.3575 </td><td>608.6093  </td><td>155.4003  </td><td>195.02316 </td><td> 700.8734 </td></tr>\n",
       "\t<tr><th scope=row>Afyonkarahisar</th><td>464.0904  </td><td>684.4088  </td><td>   0.0000 </td><td>1081.9708 </td><td>499.9536  </td><td>238.6276  </td><td> 207.3897 </td><td>997.6861  </td><td> 207.6774 </td><td> 248.9987 </td><td>⋯         </td><td>928.3631  </td><td>1050.3429 </td><td>354.7323  </td><td>1068.6621 </td><td>1167.46240</td><td> 236.7608 </td><td>329.0461  </td><td>620.9925  </td><td>534.37865 </td><td> 237.5446 </td></tr>\n",
       "\t<tr><th scope=row>Ağrı</th><td>737.9670  </td><td>467.5222  </td><td>1081.9708 </td><td>   0.0000 </td><td>621.3479  </td><td>870.1178  </td><td>1120.2095 </td><td>193.0006  </td><td>1278.9226 </td><td>1295.7407 </td><td>⋯         </td><td>262.8630  </td><td> 250.0735 </td><td>927.8855  </td><td> 157.7716 </td><td>  87.70378</td><td>1172.8182 </td><td>886.8424  </td><td>616.5411  </td><td>661.61071 </td><td>1015.3268 </td></tr>\n",
       "\t<tr><th scope=row>Amasya</th><td>409.8865  </td><td>384.2250  </td><td> 499.9536 </td><td> 621.3479 </td><td>  0.0000  </td><td>265.0090  </td><td> 609.7558 </td><td>506.0193  </td><td> 707.4160 </td><td> 684.2904 </td><td>⋯         </td><td>549.5353  </td><td> 668.8897 </td><td>312.9597  </td><td> 579.1866 </td><td> 700.58974</td><td> 552.6755 </td><td>266.6926  </td><td>451.8998  </td><td>399.85096 </td><td> 394.2761 </td></tr>\n",
       "\t<tr><th scope=row>Ankara</th><td>391.4989  </td><td>527.4184  </td><td> 238.6276 </td><td> 870.1178 </td><td>265.0090  </td><td>  0.0000  </td><td> 385.9364 </td><td>769.2796  </td><td> 446.0049 </td><td> 425.6580 </td><td>⋯         </td><td>750.3888  </td><td> 873.9542 </td><td>194.6059  </td><td> 841.7343 </td><td> 953.04311</td><td> 313.6586 </td><td>139.8082  </td><td>515.3534  </td><td>433.39402 </td><td> 175.4831 </td></tr>\n",
       "</tbody>\n",
       "</table>\n"
      ],
      "text/latex": [
       "\\begin{tabular}{r|lllllllllllllllllllllllllllllllllllllllllllllllllllllllllllllllllllllllllllllllll}\n",
       "  & Adana & Adıyaman & Afyonkarahisar & Ağrı & Amasya & Ankara & Antalya & Artvin & Aydın & Balıkesir & ⋯ & Batman & Şırnak & Bartın & Ardahan & Iğdır & Yalova & Karabük & Kilis & Osmaniye & Düzce\\\\\n",
       "\\hline\n",
       "\tAdana &   0.0000   & 274.1303   &  464.0904  &  737.9670  & 409.8865   & 391.4989   &  410.4493  & 728.1713   &  611.2858  &  713.0693  & ⋯          & 521.4850   &  632.9820  & 577.2951   &  783.8771  &  825.12815 &  663.2922  & 517.2614   & 161.6306   &  81.79594  &  559.3729 \\\\\n",
       "\tAdıyaman & 274.1303   &   0.0000   &  684.4088  &  467.5222  & 384.2250   & 527.4184   &  675.4953  & 486.6287   &  860.0036  &  924.8506  & ⋯          & 250.8730   &  368.7094  & 666.1153   &  531.9325  &  553.83735 &  838.3575  & 608.6093   & 155.4003   & 195.02316  &  700.8734 \\\\\n",
       "\tAfyonkarahisar & 464.0904   & 684.4088   &    0.0000  & 1081.9708  & 499.9536   & 238.6276   &  207.3897  & 997.6861   &  207.6774  &  248.9987  & ⋯          & 928.3631   & 1050.3429  & 354.7323   & 1068.6621  & 1167.46240 &  236.7608  & 329.0461   & 620.9925   & 534.37865  &  237.5446 \\\\\n",
       "\tAğrı & 737.9670   & 467.5222   & 1081.9708  &    0.0000  & 621.3479   & 870.1178   & 1120.2095  & 193.0006   & 1278.9226  & 1295.7407  & ⋯          & 262.8630   &  250.0735  & 927.8855   &  157.7716  &   87.70378 & 1172.8182  & 886.8424   & 616.5411   & 661.61071  & 1015.3268 \\\\\n",
       "\tAmasya & 409.8865   & 384.2250   &  499.9536  &  621.3479  &   0.0000   & 265.0090   &  609.7558  & 506.0193   &  707.4160  &  684.2904  & ⋯          & 549.5353   &  668.8897  & 312.9597   &  579.1866  &  700.58974 &  552.6755  & 266.6926   & 451.8998   & 399.85096  &  394.2761 \\\\\n",
       "\tAnkara & 391.4989   & 527.4184   &  238.6276  &  870.1178  & 265.0090   &   0.0000   &  385.9364  & 769.2796   &  446.0049  &  425.6580  & ⋯          & 750.3888   &  873.9542  & 194.6059   &  841.7343  &  953.04311 &  313.6586  & 139.8082   & 515.3534   & 433.39402  &  175.4831 \\\\\n",
       "\\end{tabular}\n"
      ],
      "text/markdown": [
       "\n",
       "| <!--/--> | Adana | Adıyaman | Afyonkarahisar | Ağrı | Amasya | Ankara | Antalya | Artvin | Aydın | Balıkesir | ⋯ | Batman | Şırnak | Bartın | Ardahan | Iğdır | Yalova | Karabük | Kilis | Osmaniye | Düzce | \n",
       "|---|---|---|---|---|---|\n",
       "| Adana |   0.0000   | 274.1303   |  464.0904  |  737.9670  | 409.8865   | 391.4989   |  410.4493  | 728.1713   |  611.2858  |  713.0693  | ⋯          | 521.4850   |  632.9820  | 577.2951   |  783.8771  |  825.12815 |  663.2922  | 517.2614   | 161.6306   |  81.79594  |  559.3729  | \n",
       "| Adıyaman | 274.1303   |   0.0000   |  684.4088  |  467.5222  | 384.2250   | 527.4184   |  675.4953  | 486.6287   |  860.0036  |  924.8506  | ⋯          | 250.8730   |  368.7094  | 666.1153   |  531.9325  |  553.83735 |  838.3575  | 608.6093   | 155.4003   | 195.02316  |  700.8734  | \n",
       "| Afyonkarahisar | 464.0904   | 684.4088   |    0.0000  | 1081.9708  | 499.9536   | 238.6276   |  207.3897  | 997.6861   |  207.6774  |  248.9987  | ⋯          | 928.3631   | 1050.3429  | 354.7323   | 1068.6621  | 1167.46240 |  236.7608  | 329.0461   | 620.9925   | 534.37865  |  237.5446  | \n",
       "| Ağrı | 737.9670   | 467.5222   | 1081.9708  |    0.0000  | 621.3479   | 870.1178   | 1120.2095  | 193.0006   | 1278.9226  | 1295.7407  | ⋯          | 262.8630   |  250.0735  | 927.8855   |  157.7716  |   87.70378 | 1172.8182  | 886.8424   | 616.5411   | 661.61071  | 1015.3268  | \n",
       "| Amasya | 409.8865   | 384.2250   |  499.9536  |  621.3479  |   0.0000   | 265.0090   |  609.7558  | 506.0193   |  707.4160  |  684.2904  | ⋯          | 549.5353   |  668.8897  | 312.9597   |  579.1866  |  700.58974 |  552.6755  | 266.6926   | 451.8998   | 399.85096  |  394.2761  | \n",
       "| Ankara | 391.4989   | 527.4184   |  238.6276  |  870.1178  | 265.0090   |   0.0000   |  385.9364  | 769.2796   |  446.0049  |  425.6580  | ⋯          | 750.3888   |  873.9542  | 194.6059   |  841.7343  |  953.04311 |  313.6586  | 139.8082   | 515.3534   | 433.39402  |  175.4831  | \n",
       "\n",
       "\n"
      ],
      "text/plain": [
       "               Adana    Adıyaman Afyonkarahisar Ağrı      Amasya   Ankara  \n",
       "Adana            0.0000 274.1303  464.0904       737.9670 409.8865 391.4989\n",
       "Adıyaman       274.1303   0.0000  684.4088       467.5222 384.2250 527.4184\n",
       "Afyonkarahisar 464.0904 684.4088    0.0000      1081.9708 499.9536 238.6276\n",
       "Ağrı           737.9670 467.5222 1081.9708         0.0000 621.3479 870.1178\n",
       "Amasya         409.8865 384.2250  499.9536       621.3479   0.0000 265.0090\n",
       "Ankara         391.4989 527.4184  238.6276       870.1178 265.0090   0.0000\n",
       "               Antalya   Artvin   Aydın     Balıkesir ⋯ Batman   Şırnak   \n",
       "Adana           410.4493 728.1713  611.2858  713.0693 ⋯ 521.4850  632.9820\n",
       "Adıyaman        675.4953 486.6287  860.0036  924.8506 ⋯ 250.8730  368.7094\n",
       "Afyonkarahisar  207.3897 997.6861  207.6774  248.9987 ⋯ 928.3631 1050.3429\n",
       "Ağrı           1120.2095 193.0006 1278.9226 1295.7407 ⋯ 262.8630  250.0735\n",
       "Amasya          609.7558 506.0193  707.4160  684.2904 ⋯ 549.5353  668.8897\n",
       "Ankara          385.9364 769.2796  446.0049  425.6580 ⋯ 750.3888  873.9542\n",
       "               Bartın   Ardahan   Iğdır      Yalova    Karabük  Kilis   \n",
       "Adana          577.2951  783.8771  825.12815  663.2922 517.2614 161.6306\n",
       "Adıyaman       666.1153  531.9325  553.83735  838.3575 608.6093 155.4003\n",
       "Afyonkarahisar 354.7323 1068.6621 1167.46240  236.7608 329.0461 620.9925\n",
       "Ağrı           927.8855  157.7716   87.70378 1172.8182 886.8424 616.5411\n",
       "Amasya         312.9597  579.1866  700.58974  552.6755 266.6926 451.8998\n",
       "Ankara         194.6059  841.7343  953.04311  313.6586 139.8082 515.3534\n",
       "               Osmaniye  Düzce    \n",
       "Adana           81.79594  559.3729\n",
       "Adıyaman       195.02316  700.8734\n",
       "Afyonkarahisar 534.37865  237.5446\n",
       "Ağrı           661.61071 1015.3268\n",
       "Amasya         399.85096  394.2761\n",
       "Ankara         433.39402  175.4831"
      ]
     },
     "metadata": {},
     "output_type": "display_data"
    }
   ],
   "source": [
    "distance_mat <- distance_mat_gen(coordinates)\n",
    "head(distance_mat)"
   ]
  },
  {
   "cell_type": "code",
   "execution_count": 3,
   "metadata": {
    "solution2": "hidden"
   },
   "outputs": [],
   "source": [
    "distance_mat_gen <- function(coordinates)\n",
    "{\n",
    "  nprov <- nrow(coordinates)\n",
    "  # Generate an empty dataframe with proper row names\n",
    "  distance_mat = as.data.frame(matrix(nrow = nprov, ncol = nprov),\n",
    "                               row.names=row.names(coordinates))\n",
    "  # Set column names of generated empty data frame\n",
    "  colnames(distance_mat) <- row.names(coordinates)\n",
    "  # Iterate over provinces\n",
    "  for(row in 1:nprov) {\n",
    "    # Since symmetric matrix, calculating one side is enough\n",
    "    for(col in row:nprov) {\n",
    "      actual_dist <- calculate_distance(coordinates[row,], coordinates[col,])\n",
    "      # since distances are symmetric...\n",
    "      distance_mat[row, col] <- actual_dist\n",
    "      distance_mat[col, row] <- actual_dist\n",
    "    }\n",
    "  }\n",
    "  \n",
    "  return(distance_mat)\n",
    "}"
   ]
  },
  {
   "cell_type": "markdown",
   "metadata": {
    "solution2": "hidden",
    "solution2_first": true
   },
   "source": [
    "## Another Solution with New Representation"
   ]
  },
  {
   "cell_type": "code",
   "execution_count": 8,
   "metadata": {
    "solution2": "hidden",
    "solution2_first": true
   },
   "outputs": [
    {
     "data": {
      "text/html": [
       "<table>\n",
       "<tbody>\n",
       "\t<tr><td>  0.0000  </td><td>274.1303  </td><td> 464.0904 </td><td> 737.9670 </td><td>409.8865  </td><td>391.4989  </td><td> 410.4493 </td><td>728.1713  </td><td> 611.2858 </td><td> 713.0693 </td><td>⋯         </td><td>521.4850  </td><td> 632.9820 </td><td>577.2951  </td><td> 783.8771 </td><td> 825.12815</td><td> 663.2922 </td><td>517.2614  </td><td>161.6306  </td><td> 81.79594 </td><td> 559.3729 </td></tr>\n",
       "\t<tr><td>274.1303  </td><td>  0.0000  </td><td> 684.4088 </td><td> 467.5222 </td><td>384.2250  </td><td>527.4184  </td><td> 675.4953 </td><td>486.6287  </td><td> 860.0036 </td><td> 924.8506 </td><td>⋯         </td><td>250.8730  </td><td> 368.7094 </td><td>666.1153  </td><td> 531.9325 </td><td> 553.83735</td><td> 838.3575 </td><td>608.6093  </td><td>155.4003  </td><td>195.02316 </td><td> 700.8734 </td></tr>\n",
       "\t<tr><td>464.0904  </td><td>684.4088  </td><td>   0.0000 </td><td>1081.9708 </td><td>499.9536  </td><td>238.6276  </td><td> 207.3897 </td><td>997.6861  </td><td> 207.6774 </td><td> 248.9987 </td><td>⋯         </td><td>928.3631  </td><td>1050.3429 </td><td>354.7323  </td><td>1068.6621 </td><td>1167.46240</td><td> 236.7608 </td><td>329.0461  </td><td>620.9925  </td><td>534.37865 </td><td> 237.5446 </td></tr>\n",
       "\t<tr><td>737.9670  </td><td>467.5222  </td><td>1081.9708 </td><td>   0.0000 </td><td>621.3479  </td><td>870.1178  </td><td>1120.2095 </td><td>193.0006  </td><td>1278.9226 </td><td>1295.7407 </td><td>⋯         </td><td>262.8630  </td><td> 250.0735 </td><td>927.8855  </td><td> 157.7716 </td><td>  87.70378</td><td>1172.8182 </td><td>886.8424  </td><td>616.5411  </td><td>661.61071 </td><td>1015.3268 </td></tr>\n",
       "\t<tr><td>409.8865  </td><td>384.2250  </td><td> 499.9536 </td><td> 621.3479 </td><td>  0.0000  </td><td>265.0090  </td><td> 609.7558 </td><td>506.0193  </td><td> 707.4160 </td><td> 684.2904 </td><td>⋯         </td><td>549.5353  </td><td> 668.8897 </td><td>312.9597  </td><td> 579.1866 </td><td> 700.58974</td><td> 552.6755 </td><td>266.6926  </td><td>451.8998  </td><td>399.85096 </td><td> 394.2761 </td></tr>\n",
       "\t<tr><td>391.4989  </td><td>527.4184  </td><td> 238.6276 </td><td> 870.1178 </td><td>265.0090  </td><td>  0.0000  </td><td> 385.9364 </td><td>769.2796  </td><td> 446.0049 </td><td> 425.6580 </td><td>⋯         </td><td>750.3888  </td><td> 873.9542 </td><td>194.6059  </td><td> 841.7343 </td><td> 953.04311</td><td> 313.6586 </td><td>139.8082  </td><td>515.3534  </td><td>433.39402 </td><td> 175.4831 </td></tr>\n",
       "</tbody>\n",
       "</table>\n"
      ],
      "text/latex": [
       "\\begin{tabular}{lllllllllllllllllllllllllllllllllllllllllllllllllllllllllllllllllllllllllllllllll}\n",
       "\t   0.0000   & 274.1303   &  464.0904  &  737.9670  & 409.8865   & 391.4989   &  410.4493  & 728.1713   &  611.2858  &  713.0693  & ⋯          & 521.4850   &  632.9820  & 577.2951   &  783.8771  &  825.12815 &  663.2922  & 517.2614   & 161.6306   &  81.79594  &  559.3729 \\\\\n",
       "\t 274.1303   &   0.0000   &  684.4088  &  467.5222  & 384.2250   & 527.4184   &  675.4953  & 486.6287   &  860.0036  &  924.8506  & ⋯          & 250.8730   &  368.7094  & 666.1153   &  531.9325  &  553.83735 &  838.3575  & 608.6093   & 155.4003   & 195.02316  &  700.8734 \\\\\n",
       "\t 464.0904   & 684.4088   &    0.0000  & 1081.9708  & 499.9536   & 238.6276   &  207.3897  & 997.6861   &  207.6774  &  248.9987  & ⋯          & 928.3631   & 1050.3429  & 354.7323   & 1068.6621  & 1167.46240 &  236.7608  & 329.0461   & 620.9925   & 534.37865  &  237.5446 \\\\\n",
       "\t 737.9670   & 467.5222   & 1081.9708  &    0.0000  & 621.3479   & 870.1178   & 1120.2095  & 193.0006   & 1278.9226  & 1295.7407  & ⋯          & 262.8630   &  250.0735  & 927.8855   &  157.7716  &   87.70378 & 1172.8182  & 886.8424   & 616.5411   & 661.61071  & 1015.3268 \\\\\n",
       "\t 409.8865   & 384.2250   &  499.9536  &  621.3479  &   0.0000   & 265.0090   &  609.7558  & 506.0193   &  707.4160  &  684.2904  & ⋯          & 549.5353   &  668.8897  & 312.9597   &  579.1866  &  700.58974 &  552.6755  & 266.6926   & 451.8998   & 399.85096  &  394.2761 \\\\\n",
       "\t 391.4989   & 527.4184   &  238.6276  &  870.1178  & 265.0090   &   0.0000   &  385.9364  & 769.2796   &  446.0049  &  425.6580  & ⋯          & 750.3888   &  873.9542  & 194.6059   &  841.7343  &  953.04311 &  313.6586  & 139.8082   & 515.3534   & 433.39402  &  175.4831 \\\\\n",
       "\\end{tabular}\n"
      ],
      "text/markdown": [
       "\n",
       "|   0.0000   | 274.1303   |  464.0904  |  737.9670  | 409.8865   | 391.4989   |  410.4493  | 728.1713   |  611.2858  |  713.0693  | ⋯          | 521.4850   |  632.9820  | 577.2951   |  783.8771  |  825.12815 |  663.2922  | 517.2614   | 161.6306   |  81.79594  |  559.3729  | \n",
       "| 274.1303   |   0.0000   |  684.4088  |  467.5222  | 384.2250   | 527.4184   |  675.4953  | 486.6287   |  860.0036  |  924.8506  | ⋯          | 250.8730   |  368.7094  | 666.1153   |  531.9325  |  553.83735 |  838.3575  | 608.6093   | 155.4003   | 195.02316  |  700.8734  | \n",
       "| 464.0904   | 684.4088   |    0.0000  | 1081.9708  | 499.9536   | 238.6276   |  207.3897  | 997.6861   |  207.6774  |  248.9987  | ⋯          | 928.3631   | 1050.3429  | 354.7323   | 1068.6621  | 1167.46240 |  236.7608  | 329.0461   | 620.9925   | 534.37865  |  237.5446  | \n",
       "| 737.9670   | 467.5222   | 1081.9708  |    0.0000  | 621.3479   | 870.1178   | 1120.2095  | 193.0006   | 1278.9226  | 1295.7407  | ⋯          | 262.8630   |  250.0735  | 927.8855   |  157.7716  |   87.70378 | 1172.8182  | 886.8424   | 616.5411   | 661.61071  | 1015.3268  | \n",
       "| 409.8865   | 384.2250   |  499.9536  |  621.3479  |   0.0000   | 265.0090   |  609.7558  | 506.0193   |  707.4160  |  684.2904  | ⋯          | 549.5353   |  668.8897  | 312.9597   |  579.1866  |  700.58974 |  552.6755  | 266.6926   | 451.8998   | 399.85096  |  394.2761  | \n",
       "| 391.4989   | 527.4184   |  238.6276  |  870.1178  | 265.0090   |   0.0000   |  385.9364  | 769.2796   |  446.0049  |  425.6580  | ⋯          | 750.3888   |  873.9542  | 194.6059   |  841.7343  |  953.04311 |  313.6586  | 139.8082   | 515.3534   | 433.39402  |  175.4831  | \n",
       "\n",
       "\n"
      ],
      "text/plain": [
       "     [,1]     [,2]     [,3]      [,4]      [,5]     [,6]     [,7]      [,8]    \n",
       "[1,]   0.0000 274.1303  464.0904  737.9670 409.8865 391.4989  410.4493 728.1713\n",
       "[2,] 274.1303   0.0000  684.4088  467.5222 384.2250 527.4184  675.4953 486.6287\n",
       "[3,] 464.0904 684.4088    0.0000 1081.9708 499.9536 238.6276  207.3897 997.6861\n",
       "[4,] 737.9670 467.5222 1081.9708    0.0000 621.3479 870.1178 1120.2095 193.0006\n",
       "[5,] 409.8865 384.2250  499.9536  621.3479   0.0000 265.0090  609.7558 506.0193\n",
       "[6,] 391.4989 527.4184  238.6276  870.1178 265.0090   0.0000  385.9364 769.2796\n",
       "     [,9]      [,10]     [,11] [,12]    [,13]     [,14]    [,15]     [,16]     \n",
       "[1,]  611.2858  713.0693 ⋯     521.4850  632.9820 577.2951  783.8771  825.12815\n",
       "[2,]  860.0036  924.8506 ⋯     250.8730  368.7094 666.1153  531.9325  553.83735\n",
       "[3,]  207.6774  248.9987 ⋯     928.3631 1050.3429 354.7323 1068.6621 1167.46240\n",
       "[4,] 1278.9226 1295.7407 ⋯     262.8630  250.0735 927.8855  157.7716   87.70378\n",
       "[5,]  707.4160  684.2904 ⋯     549.5353  668.8897 312.9597  579.1866  700.58974\n",
       "[6,]  446.0049  425.6580 ⋯     750.3888  873.9542 194.6059  841.7343  953.04311\n",
       "     [,17]     [,18]    [,19]    [,20]     [,21]    \n",
       "[1,]  663.2922 517.2614 161.6306  81.79594  559.3729\n",
       "[2,]  838.3575 608.6093 155.4003 195.02316  700.8734\n",
       "[3,]  236.7608 329.0461 620.9925 534.37865  237.5446\n",
       "[4,] 1172.8182 886.8424 616.5411 661.61071 1015.3268\n",
       "[5,]  552.6755 266.6926 451.8998 399.85096  394.2761\n",
       "[6,]  313.6586 139.8082 515.3534 433.39402  175.4831"
      ]
     },
     "metadata": {},
     "output_type": "display_data"
    },
    {
     "data": {
      "text/html": [
       "<table>\n",
       "<thead><tr><th scope=col></th><th scope=col></th><th scope=col>dists</th></tr></thead>\n",
       "<tbody>\n",
       "\t<tr><td>1       </td><td>2       </td><td>274.1303</td></tr>\n",
       "\t<tr><td>1       </td><td>3       </td><td>464.0904</td></tr>\n",
       "\t<tr><td>1       </td><td>4       </td><td>737.9670</td></tr>\n",
       "\t<tr><td>1       </td><td>5       </td><td>409.8865</td></tr>\n",
       "\t<tr><td>1       </td><td>6       </td><td>391.4989</td></tr>\n",
       "\t<tr><td>1       </td><td>7       </td><td>410.4493</td></tr>\n",
       "</tbody>\n",
       "</table>\n"
      ],
      "text/latex": [
       "\\begin{tabular}{lll}\n",
       "  &  & dists\\\\\n",
       "\\hline\n",
       "\t 1        & 2        & 274.1303\\\\\n",
       "\t 1        & 3        & 464.0904\\\\\n",
       "\t 1        & 4        & 737.9670\\\\\n",
       "\t 1        & 5        & 409.8865\\\\\n",
       "\t 1        & 6        & 391.4989\\\\\n",
       "\t 1        & 7        & 410.4493\\\\\n",
       "\\end{tabular}\n"
      ],
      "text/markdown": [
       "\n",
       " |  | dists | \n",
       "|---|---|---|---|---|---|\n",
       "| 1        | 2        | 274.1303 | \n",
       "| 1        | 3        | 464.0904 | \n",
       "| 1        | 4        | 737.9670 | \n",
       "| 1        | 5        | 409.8865 | \n",
       "| 1        | 6        | 391.4989 | \n",
       "| 1        | 7        | 410.4493 | \n",
       "\n",
       "\n"
      ],
      "text/plain": [
       "         dists   \n",
       "[1,] 1 2 274.1303\n",
       "[2,] 1 3 464.0904\n",
       "[3,] 1 4 737.9670\n",
       "[4,] 1 5 409.8865\n",
       "[5,] 1 6 391.4989\n",
       "[6,] 1 7 410.4493"
      ]
     },
     "metadata": {},
     "output_type": "display_data"
    }
   ],
   "source": [
    "calculate_distance2 <- function(prov1, prov2, coordinates1 = coordinates)\n",
    "{\n",
    "    rad_earth <- 6371 # radius of earth\n",
    "\n",
    "    coor1 <- coordinates1[prov1,] * pi / 180\n",
    "    coor2 <- coordinates1[prov2,] * pi / 180\n",
    "\n",
    "    lat1 <- coor1[[1]]\n",
    "    lng1 <- coor1[[2]]\n",
    "\n",
    "    lat2 <- coor2[[1]]\n",
    "    lng2 <- coor2[[2]]\n",
    "\n",
    "    dlat <- lat1 - lat2\n",
    "    dlng <- lng1 - lng2\n",
    "\n",
    "    a <- sin(dlat / 2)^2 + cos(lat1) * cos(lat2) * sin(dlng / 2)^2\n",
    "\n",
    "    cc <- 2 * atan2(sqrt(a), sqrt(1-a))\n",
    "\n",
    "    distance <- rad_earth * cc\n",
    "\n",
    "    return(distance)\n",
    "}\n",
    "\n",
    "calculate_distanceV <- Vectorize(calculate_distance2)\n",
    "\n",
    "distance_mat_gen2 <- function(coordinates1 = coordinates)\n",
    "{\n",
    "    nprov <- nrow(coordinates1)\n",
    "    distance_mat <- outer(1:nprov, 1:nprov, calculate_distanceV)\n",
    "\n",
    "    return(distance_mat)\n",
    "}\n",
    "\n",
    "melt_distances <- function(distance_mat)\n",
    "{\n",
    "    nprov <- nrow(distance_mat)\n",
    "    combinations <- t(combn(nprov, 2))\n",
    "    \n",
    "    dists <- apply(combinations, 1, function(x) distance_mat[x[1],x[2]])\n",
    "\n",
    "    distance_mat_long <- cbind(combinations, dists)\n",
    "\n",
    "    return(distance_mat_long)\n",
    "}\n",
    "\n",
    "distance_matt2 <- distance_mat_gen2()\n",
    "melted_dist <- melt_distances(distance_matt2)\n",
    "head(distance_matt2)\n",
    "head(melted_dist)"
   ]
  }
 ],
 "metadata": {
  "kernelspec": {
   "display_name": "R 3.4",
   "language": "R",
   "name": "ir34"
  },
  "language_info": {
   "codemirror_mode": "r",
   "file_extension": ".r",
   "mimetype": "text/x-r-source",
   "name": "R",
   "pygments_lexer": "r",
   "version": "3.4.3"
  }
 },
 "nbformat": 4,
 "nbformat_minor": 2
}
