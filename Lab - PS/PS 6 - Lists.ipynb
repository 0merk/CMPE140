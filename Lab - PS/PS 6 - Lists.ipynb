{
 "cells": [
  {
   "cell_type": "markdown",
   "metadata": {},
   "source": [
    "WEEK 06 - PS\n",
    "\n",
    "**LISTS**"
   ]
  },
  {
   "cell_type": "markdown",
   "metadata": {},
   "source": [
    "What is a list in R?\n",
    "\n",
    "A special kind of vector, items of which are any kind of R objects!"
   ]
  },
  {
   "cell_type": "markdown",
   "metadata": {},
   "source": [
    "Let's first create a list:"
   ]
  },
  {
   "cell_type": "code",
   "execution_count": 1,
   "metadata": {},
   "outputs": [
    {
     "data": {
      "text/html": [
       "<dl>\n",
       "\t<dt>$name</dt>\n",
       "\t\t<dd>'John'</dd>\n",
       "\t<dt>$age</dt>\n",
       "\t\t<dd>35</dd>\n",
       "\t<dt>$speaks</dt>\n",
       "\t\t<dd><ol class=list-inline>\n",
       "\t<li>'English'</li>\n",
       "\t<li>'French'</li>\n",
       "</ol>\n",
       "</dd>\n",
       "\t<dt>$married</dt>\n",
       "\t\t<dd>TRUE</dd>\n",
       "</dl>\n"
      ],
      "text/latex": [
       "\\begin{description}\n",
       "\\item[\\$name] 'John'\n",
       "\\item[\\$age] 35\n",
       "\\item[\\$speaks] \\begin{enumerate*}\n",
       "\\item 'English'\n",
       "\\item 'French'\n",
       "\\end{enumerate*}\n",
       "\n",
       "\\item[\\$married] TRUE\n",
       "\\end{description}\n"
      ],
      "text/markdown": [
       "$name\n",
       ":   'John'\n",
       "$age\n",
       ":   35\n",
       "$speaks\n",
       ":   1. 'English'\n",
       "2. 'French'\n",
       "\n",
       "\n",
       "\n",
       "$married\n",
       ":   TRUE\n",
       "\n",
       "\n"
      ],
      "text/plain": [
       "$name\n",
       "[1] \"John\"\n",
       "\n",
       "$age\n",
       "[1] 35\n",
       "\n",
       "$speaks\n",
       "[1] \"English\" \"French\" \n",
       "\n",
       "$married\n",
       "[1] TRUE\n"
      ]
     },
     "metadata": {},
     "output_type": "display_data"
    }
   ],
   "source": [
    "john <- list(\"John\",35,c(\"English\",\"French\"),TRUE)\n",
    "\n",
    "names(john) <- c(\"name\",\"age\",\"speaks\",\"married\")\n",
    "\n",
    "john"
   ]
  },
  {
   "cell_type": "markdown",
   "metadata": {},
   "source": [
    "Check the attributes, class, length and dimensions of the list"
   ]
  },
  {
   "cell_type": "code",
   "execution_count": 2,
   "metadata": {},
   "outputs": [
    {
     "data": {
      "text/html": [
       "<strong>$names</strong> = <ol class=list-inline>\n",
       "\t<li>'name'</li>\n",
       "\t<li>'age'</li>\n",
       "\t<li>'speaks'</li>\n",
       "\t<li>'married'</li>\n",
       "</ol>\n"
      ],
      "text/latex": [
       "\\textbf{\\$names} = \\begin{enumerate*}\n",
       "\\item 'name'\n",
       "\\item 'age'\n",
       "\\item 'speaks'\n",
       "\\item 'married'\n",
       "\\end{enumerate*}\n"
      ],
      "text/markdown": [
       "**$names** = 1. 'name'\n",
       "2. 'age'\n",
       "3. 'speaks'\n",
       "4. 'married'\n",
       "\n",
       "\n"
      ],
      "text/plain": [
       "$names\n",
       "[1] \"name\"    \"age\"     \"speaks\"  \"married\"\n"
      ]
     },
     "metadata": {},
     "output_type": "display_data"
    },
    {
     "data": {
      "text/html": [
       "'list'"
      ],
      "text/latex": [
       "'list'"
      ],
      "text/markdown": [
       "'list'"
      ],
      "text/plain": [
       "[1] \"list\""
      ]
     },
     "metadata": {},
     "output_type": "display_data"
    },
    {
     "data": {
      "text/html": [
       "4"
      ],
      "text/latex": [
       "4"
      ],
      "text/markdown": [
       "4"
      ],
      "text/plain": [
       "[1] 4"
      ]
     },
     "metadata": {},
     "output_type": "display_data"
    }
   ],
   "source": [
    "attributes(john)\n",
    "\n",
    "class(john)\n",
    "\n",
    "length(john)"
   ]
  },
  {
   "cell_type": "markdown",
   "metadata": {},
   "source": [
    "A list is much like a \"set\" in mathematics: It can include any other object, even other lists"
   ]
  },
  {
   "cell_type": "markdown",
   "metadata": {},
   "source": [
    "Now first subset this list in different methods\n",
    "\n",
    "First let's use the usual extract/subset operator \"[\""
   ]
  },
  {
   "cell_type": "code",
   "execution_count": 3,
   "metadata": {},
   "outputs": [
    {
     "data": {
      "text/html": [
       "<dl>\n",
       "\t<dt>$name</dt>\n",
       "\t\t<dd>'John'</dd>\n",
       "\t<dt>$age</dt>\n",
       "\t\t<dd>35</dd>\n",
       "\t<dt>$speaks</dt>\n",
       "\t\t<dd><ol class=list-inline>\n",
       "\t<li>'English'</li>\n",
       "\t<li>'French'</li>\n",
       "</ol>\n",
       "</dd>\n",
       "</dl>\n"
      ],
      "text/latex": [
       "\\begin{description}\n",
       "\\item[\\$name] 'John'\n",
       "\\item[\\$age] 35\n",
       "\\item[\\$speaks] \\begin{enumerate*}\n",
       "\\item 'English'\n",
       "\\item 'French'\n",
       "\\end{enumerate*}\n",
       "\n",
       "\\end{description}\n"
      ],
      "text/markdown": [
       "$name\n",
       ":   'John'\n",
       "$age\n",
       ":   35\n",
       "$speaks\n",
       ":   1. 'English'\n",
       "2. 'French'\n",
       "\n",
       "\n",
       "\n",
       "\n",
       "\n"
      ],
      "text/plain": [
       "$name\n",
       "[1] \"John\"\n",
       "\n",
       "$age\n",
       "[1] 35\n",
       "\n",
       "$speaks\n",
       "[1] \"English\" \"French\" \n"
      ]
     },
     "metadata": {},
     "output_type": "display_data"
    },
    {
     "data": {
      "text/html": [
       "'list'"
      ],
      "text/latex": [
       "'list'"
      ],
      "text/markdown": [
       "'list'"
      ],
      "text/plain": [
       "[1] \"list\""
      ]
     },
     "metadata": {},
     "output_type": "display_data"
    },
    {
     "data": {
      "text/html": [
       "3"
      ],
      "text/latex": [
       "3"
      ],
      "text/markdown": [
       "3"
      ],
      "text/plain": [
       "[1] 3"
      ]
     },
     "metadata": {},
     "output_type": "display_data"
    }
   ],
   "source": [
    "john13 <- john[1:3]\n",
    "john13\n",
    "class(john13)\n",
    "length(john13)"
   ]
  },
  {
   "cell_type": "markdown",
   "metadata": {},
   "source": [
    "This is just a sublist, a portion of the original list object"
   ]
  },
  {
   "cell_type": "markdown",
   "metadata": {},
   "source": [
    "Now let's use the double bracket \"[[\" to take out a single item of the list"
   ]
  },
  {
   "cell_type": "code",
   "execution_count": 4,
   "metadata": {},
   "outputs": [
    {
     "data": {
      "text/html": [
       "<ol class=list-inline>\n",
       "\t<li>'English'</li>\n",
       "\t<li>'French'</li>\n",
       "</ol>\n"
      ],
      "text/latex": [
       "\\begin{enumerate*}\n",
       "\\item 'English'\n",
       "\\item 'French'\n",
       "\\end{enumerate*}\n"
      ],
      "text/markdown": [
       "1. 'English'\n",
       "2. 'French'\n",
       "\n",
       "\n"
      ],
      "text/plain": [
       "[1] \"English\" \"French\" "
      ]
     },
     "metadata": {},
     "output_type": "display_data"
    },
    {
     "data": {
      "text/html": [
       "'character'"
      ],
      "text/latex": [
       "'character'"
      ],
      "text/markdown": [
       "'character'"
      ],
      "text/plain": [
       "[1] \"character\""
      ]
     },
     "metadata": {},
     "output_type": "display_data"
    },
    {
     "data": {
      "text/html": [
       "2"
      ],
      "text/latex": [
       "2"
      ],
      "text/markdown": [
       "2"
      ],
      "text/plain": [
       "[1] 2"
      ]
     },
     "metadata": {},
     "output_type": "display_data"
    }
   ],
   "source": [
    "john3<- john[[3]]\n",
    "john3\n",
    "class(john3)\n",
    "length(john3)"
   ]
  },
  {
   "cell_type": "markdown",
   "metadata": {},
   "source": [
    "Compare it with john[3]"
   ]
  },
  {
   "cell_type": "code",
   "execution_count": 5,
   "metadata": {},
   "outputs": [
    {
     "data": {
      "text/html": [
       "<strong>$speaks</strong> = <ol class=list-inline>\n",
       "\t<li>'English'</li>\n",
       "\t<li>'French'</li>\n",
       "</ol>\n"
      ],
      "text/latex": [
       "\\textbf{\\$speaks} = \\begin{enumerate*}\n",
       "\\item 'English'\n",
       "\\item 'French'\n",
       "\\end{enumerate*}\n"
      ],
      "text/markdown": [
       "**$speaks** = 1. 'English'\n",
       "2. 'French'\n",
       "\n",
       "\n"
      ],
      "text/plain": [
       "$speaks\n",
       "[1] \"English\" \"French\" \n"
      ]
     },
     "metadata": {},
     "output_type": "display_data"
    },
    {
     "data": {
      "text/html": [
       "'list'"
      ],
      "text/latex": [
       "'list'"
      ],
      "text/markdown": [
       "'list'"
      ],
      "text/plain": [
       "[1] \"list\""
      ]
     },
     "metadata": {},
     "output_type": "display_data"
    },
    {
     "data": {
      "text/html": [
       "1"
      ],
      "text/latex": [
       "1"
      ],
      "text/markdown": [
       "1"
      ],
      "text/plain": [
       "[1] 1"
      ]
     },
     "metadata": {},
     "output_type": "display_data"
    }
   ],
   "source": [
    "john3l <- john[3]\n",
    "john3l\n",
    "class(john3l)\n",
    "length(john3l)"
   ]
  },
  {
   "cell_type": "markdown",
   "metadata": {},
   "source": [
    "See a list is a collection of any type of R objects. Double bracket, takes out that single object. It is a character vector in this example and john[[3]] is a character vector with 2 a length of 2"
   ]
  },
  {
   "cell_type": "markdown",
   "metadata": {},
   "source": [
    "john[3] is just a sublist of the original list. It is still a list of one item (and that item is a character vector of length 2)"
   ]
  },
  {
   "cell_type": "markdown",
   "metadata": {},
   "source": [
    "Now subset 2:3 items of the list with \"[[\" operator"
   ]
  },
  {
   "cell_type": "code",
   "execution_count": 6,
   "metadata": {},
   "outputs": [
    {
     "ename": "ERROR",
     "evalue": "Error in john[[2:3]]: subscript out of bounds\n",
     "output_type": "error",
     "traceback": [
      "Error in john[[2:3]]: subscript out of bounds\nTraceback:\n"
     ]
    }
   ],
   "source": [
    "john[[2:3]]"
   ]
  },
  {
   "cell_type": "markdown",
   "metadata": {},
   "source": [
    "We can subset only one item at a time with \"[[\" operator from a list"
   ]
  },
  {
   "cell_type": "markdown",
   "metadata": {},
   "source": [
    "Now subset the second item with the \"$\" operator:"
   ]
  },
  {
   "cell_type": "code",
   "execution_count": 7,
   "metadata": {},
   "outputs": [
    {
     "data": {
      "text/html": [
       "<ol class=list-inline>\n",
       "\t<li>'English'</li>\n",
       "\t<li>'French'</li>\n",
       "</ol>\n"
      ],
      "text/latex": [
       "\\begin{enumerate*}\n",
       "\\item 'English'\n",
       "\\item 'French'\n",
       "\\end{enumerate*}\n"
      ],
      "text/markdown": [
       "1. 'English'\n",
       "2. 'French'\n",
       "\n",
       "\n"
      ],
      "text/plain": [
       "[1] \"English\" \"French\" "
      ]
     },
     "metadata": {},
     "output_type": "display_data"
    },
    {
     "data": {
      "text/html": [
       "'character'"
      ],
      "text/latex": [
       "'character'"
      ],
      "text/markdown": [
       "'character'"
      ],
      "text/plain": [
       "[1] \"character\""
      ]
     },
     "metadata": {},
     "output_type": "display_data"
    },
    {
     "data": {
      "text/html": [
       "2"
      ],
      "text/latex": [
       "2"
      ],
      "text/markdown": [
       "2"
      ],
      "text/plain": [
       "[1] 2"
      ]
     },
     "metadata": {},
     "output_type": "display_data"
    }
   ],
   "source": [
    "john_sp <- john$speaks\n",
    "john_sp\n",
    "class(john_sp)\n",
    "length(john_sp)"
   ]
  },
  {
   "cell_type": "markdown",
   "metadata": {},
   "source": [
    "It works like \"[[\", takes out an item, not a sublist, but referred to by the object by the name"
   ]
  },
  {
   "cell_type": "markdown",
   "metadata": {},
   "source": [
    "We can use names with \"[[\" as well"
   ]
  },
  {
   "cell_type": "code",
   "execution_count": 8,
   "metadata": {},
   "outputs": [
    {
     "data": {
      "text/html": [
       "<ol class=list-inline>\n",
       "\t<li>'English'</li>\n",
       "\t<li>'French'</li>\n",
       "</ol>\n"
      ],
      "text/latex": [
       "\\begin{enumerate*}\n",
       "\\item 'English'\n",
       "\\item 'French'\n",
       "\\end{enumerate*}\n"
      ],
      "text/markdown": [
       "1. 'English'\n",
       "2. 'French'\n",
       "\n",
       "\n"
      ],
      "text/plain": [
       "[1] \"English\" \"French\" "
      ]
     },
     "metadata": {},
     "output_type": "display_data"
    },
    {
     "data": {
      "text/html": [
       "'character'"
      ],
      "text/latex": [
       "'character'"
      ],
      "text/markdown": [
       "'character'"
      ],
      "text/plain": [
       "[1] \"character\""
      ]
     },
     "metadata": {},
     "output_type": "display_data"
    },
    {
     "data": {
      "text/html": [
       "2"
      ],
      "text/latex": [
       "2"
      ],
      "text/markdown": [
       "2"
      ],
      "text/plain": [
       "[1] 2"
      ]
     },
     "metadata": {},
     "output_type": "display_data"
    }
   ],
   "source": [
    "john_sp <- john[[\"speaks\"]]\n",
    "john_sp\n",
    "class(john_sp)\n",
    "length(john_sp)"
   ]
  },
  {
   "cell_type": "markdown",
   "metadata": {
    "collapsed": true
   },
   "source": [
    "It is identical to john[[3]]"
   ]
  },
  {
   "cell_type": "markdown",
   "metadata": {},
   "source": [
    "What about \"[\" and a name?"
   ]
  },
  {
   "cell_type": "code",
   "execution_count": 9,
   "metadata": {},
   "outputs": [
    {
     "data": {
      "text/html": [
       "<strong>$speaks</strong> = <ol class=list-inline>\n",
       "\t<li>'English'</li>\n",
       "\t<li>'French'</li>\n",
       "</ol>\n"
      ],
      "text/latex": [
       "\\textbf{\\$speaks} = \\begin{enumerate*}\n",
       "\\item 'English'\n",
       "\\item 'French'\n",
       "\\end{enumerate*}\n"
      ],
      "text/markdown": [
       "**$speaks** = 1. 'English'\n",
       "2. 'French'\n",
       "\n",
       "\n"
      ],
      "text/plain": [
       "$speaks\n",
       "[1] \"English\" \"French\" \n"
      ]
     },
     "metadata": {},
     "output_type": "display_data"
    },
    {
     "data": {
      "text/html": [
       "'list'"
      ],
      "text/latex": [
       "'list'"
      ],
      "text/markdown": [
       "'list'"
      ],
      "text/plain": [
       "[1] \"list\""
      ]
     },
     "metadata": {},
     "output_type": "display_data"
    },
    {
     "data": {
      "text/html": [
       "1"
      ],
      "text/latex": [
       "1"
      ],
      "text/markdown": [
       "1"
      ],
      "text/plain": [
       "[1] 1"
      ]
     },
     "metadata": {},
     "output_type": "display_data"
    }
   ],
   "source": [
    "john_sp <- john[\"speaks\"]\n",
    "john_sp\n",
    "class(john_sp)\n",
    "length(john_sp)"
   ]
  },
  {
   "cell_type": "markdown",
   "metadata": {},
   "source": [
    "It is identical to john[3]"
   ]
  },
  {
   "cell_type": "markdown",
   "metadata": {},
   "source": [
    "Now create a list of 5 items, each holding values 1 to 5"
   ]
  },
  {
   "cell_type": "code",
   "execution_count": 10,
   "metadata": {},
   "outputs": [
    {
     "data": {
      "text/html": [
       "<ol>\n",
       "\t<li><ol class=list-inline>\n",
       "\t<li>1</li>\n",
       "\t<li>2</li>\n",
       "\t<li>3</li>\n",
       "\t<li>4</li>\n",
       "\t<li>5</li>\n",
       "</ol>\n",
       "</li>\n",
       "</ol>\n"
      ],
      "text/latex": [
       "\\begin{enumerate}\n",
       "\\item \\begin{enumerate*}\n",
       "\\item 1\n",
       "\\item 2\n",
       "\\item 3\n",
       "\\item 4\n",
       "\\item 5\n",
       "\\end{enumerate*}\n",
       "\n",
       "\\end{enumerate}\n"
      ],
      "text/markdown": [
       "1. 1. 1\n",
       "2. 2\n",
       "3. 3\n",
       "4. 4\n",
       "5. 5\n",
       "\n",
       "\n",
       "\n",
       "\n",
       "\n"
      ],
      "text/plain": [
       "[[1]]\n",
       "[1] 1 2 3 4 5\n"
      ]
     },
     "metadata": {},
     "output_type": "display_data"
    },
    {
     "data": {
      "text/html": [
       "1"
      ],
      "text/latex": [
       "1"
      ],
      "text/markdown": [
       "1"
      ],
      "text/plain": [
       "[1] 1"
      ]
     },
     "metadata": {},
     "output_type": "display_data"
    }
   ],
   "source": [
    "list15 <- list(1:5)\n",
    "list15\n",
    "length(list15)"
   ]
  },
  {
   "cell_type": "markdown",
   "metadata": {},
   "source": [
    "It is not what I wanted??\n",
    "\n",
    "Any other try?"
   ]
  },
  {
   "cell_type": "code",
   "execution_count": 11,
   "metadata": {},
   "outputs": [
    {
     "data": {
      "text/html": [
       "<ol>\n",
       "\t<li>1</li>\n",
       "\t<li>2</li>\n",
       "\t<li>3</li>\n",
       "\t<li>4</li>\n",
       "\t<li>5</li>\n",
       "</ol>\n"
      ],
      "text/latex": [
       "\\begin{enumerate}\n",
       "\\item 1\n",
       "\\item 2\n",
       "\\item 3\n",
       "\\item 4\n",
       "\\item 5\n",
       "\\end{enumerate}\n"
      ],
      "text/markdown": [
       "1. 1\n",
       "2. 2\n",
       "3. 3\n",
       "4. 4\n",
       "5. 5\n",
       "\n",
       "\n"
      ],
      "text/plain": [
       "[[1]]\n",
       "[1] 1\n",
       "\n",
       "[[2]]\n",
       "[1] 2\n",
       "\n",
       "[[3]]\n",
       "[1] 3\n",
       "\n",
       "[[4]]\n",
       "[1] 4\n",
       "\n",
       "[[5]]\n",
       "[1] 5\n"
      ]
     },
     "metadata": {},
     "output_type": "display_data"
    }
   ],
   "source": [
    "as.list(1:5)"
   ]
  },
  {
   "cell_type": "code",
   "execution_count": 12,
   "metadata": {},
   "outputs": [
    {
     "data": {
      "text/html": [
       "5"
      ],
      "text/latex": [
       "5"
      ],
      "text/markdown": [
       "5"
      ],
      "text/plain": [
       "[1] 5"
      ]
     },
     "metadata": {},
     "output_type": "display_data"
    }
   ],
   "source": [
    "m <- as.list(1:5)\n",
    "length(m)"
   ]
  },
  {
   "cell_type": "markdown",
   "metadata": {},
   "source": [
    "That's what I want!\n",
    "\n",
    "as.list converts the vector and makes each item of the vector into a separate vector that are items of a list"
   ]
  },
  {
   "cell_type": "markdown",
   "metadata": {},
   "source": [
    "Now let's create a list of 5 items each one being 1. \n",
    "Remember the \"rep\" function:"
   ]
  },
  {
   "cell_type": "code",
   "execution_count": 13,
   "metadata": {},
   "outputs": [
    {
     "data": {
      "text/html": [
       "<ol class=list-inline>\n",
       "\t<li>1</li>\n",
       "\t<li>1</li>\n",
       "\t<li>1</li>\n",
       "\t<li>1</li>\n",
       "\t<li>1</li>\n",
       "</ol>\n"
      ],
      "text/latex": [
       "\\begin{enumerate*}\n",
       "\\item 1\n",
       "\\item 1\n",
       "\\item 1\n",
       "\\item 1\n",
       "\\item 1\n",
       "\\end{enumerate*}\n"
      ],
      "text/markdown": [
       "1. 1\n",
       "2. 1\n",
       "3. 1\n",
       "4. 1\n",
       "5. 1\n",
       "\n",
       "\n"
      ],
      "text/plain": [
       "[1] 1 1 1 1 1"
      ]
     },
     "metadata": {},
     "output_type": "display_data"
    }
   ],
   "source": [
    "rep(1,5)"
   ]
  },
  {
   "cell_type": "markdown",
   "metadata": {},
   "source": [
    "But I want to sublists of 1's :"
   ]
  },
  {
   "cell_type": "code",
   "execution_count": 14,
   "metadata": {},
   "outputs": [
    {
     "data": {
      "text/html": [
       "<ol>\n",
       "\t<li>1</li>\n",
       "\t<li>1</li>\n",
       "\t<li>1</li>\n",
       "\t<li>1</li>\n",
       "\t<li>1</li>\n",
       "</ol>\n"
      ],
      "text/latex": [
       "\\begin{enumerate}\n",
       "\\item 1\n",
       "\\item 1\n",
       "\\item 1\n",
       "\\item 1\n",
       "\\item 1\n",
       "\\end{enumerate}\n"
      ],
      "text/markdown": [
       "1. 1\n",
       "2. 1\n",
       "3. 1\n",
       "4. 1\n",
       "5. 1\n",
       "\n",
       "\n"
      ],
      "text/plain": [
       "[[1]]\n",
       "[1] 1\n",
       "\n",
       "[[2]]\n",
       "[1] 1\n",
       "\n",
       "[[3]]\n",
       "[1] 1\n",
       "\n",
       "[[4]]\n",
       "[1] 1\n",
       "\n",
       "[[5]]\n",
       "[1] 1\n"
      ]
     },
     "metadata": {},
     "output_type": "display_data"
    }
   ],
   "source": [
    "list15 <- rep(list(1), 5)\n",
    "list15"
   ]
  },
  {
   "cell_type": "code",
   "execution_count": 15,
   "metadata": {},
   "outputs": [
    {
     "data": {
      "text/html": [
       "'list'"
      ],
      "text/latex": [
       "'list'"
      ],
      "text/markdown": [
       "'list'"
      ],
      "text/plain": [
       "[1] \"list\""
      ]
     },
     "metadata": {},
     "output_type": "display_data"
    },
    {
     "data": {
      "text/html": [
       "'numeric'"
      ],
      "text/latex": [
       "'numeric'"
      ],
      "text/markdown": [
       "'numeric'"
      ],
      "text/plain": [
       "[1] \"numeric\""
      ]
     },
     "metadata": {},
     "output_type": "display_data"
    }
   ],
   "source": [
    "class(list15[1])\n",
    "class(list15[[1]])"
   ]
  },
  {
   "cell_type": "markdown",
   "metadata": {},
   "source": [
    "Now let's turn on to getting the classes of all items in the list\n",
    "\n",
    "But it was cumbersome to write the same line with different indices each time\n",
    "\n",
    "And we cannot use apply here, it doesn't have a margin\n",
    "\n",
    "Let's use sth similar, that is used for applying over list items:"
   ]
  },
  {
   "cell_type": "code",
   "execution_count": 16,
   "metadata": {},
   "outputs": [
    {
     "data": {
      "text/html": [
       "<dl>\n",
       "\t<dt>$name</dt>\n",
       "\t\t<dd>'character'</dd>\n",
       "\t<dt>$age</dt>\n",
       "\t\t<dd>'numeric'</dd>\n",
       "\t<dt>$speaks</dt>\n",
       "\t\t<dd>'character'</dd>\n",
       "\t<dt>$married</dt>\n",
       "\t\t<dd>'logical'</dd>\n",
       "</dl>\n"
      ],
      "text/latex": [
       "\\begin{description}\n",
       "\\item[\\$name] 'character'\n",
       "\\item[\\$age] 'numeric'\n",
       "\\item[\\$speaks] 'character'\n",
       "\\item[\\$married] 'logical'\n",
       "\\end{description}\n"
      ],
      "text/markdown": [
       "$name\n",
       ":   'character'\n",
       "$age\n",
       ":   'numeric'\n",
       "$speaks\n",
       ":   'character'\n",
       "$married\n",
       ":   'logical'\n",
       "\n",
       "\n"
      ],
      "text/plain": [
       "$name\n",
       "[1] \"character\"\n",
       "\n",
       "$age\n",
       "[1] \"numeric\"\n",
       "\n",
       "$speaks\n",
       "[1] \"character\"\n",
       "\n",
       "$married\n",
       "[1] \"logical\"\n"
      ]
     },
     "metadata": {},
     "output_type": "display_data"
    },
    {
     "data": {
      "text/html": [
       "'list'"
      ],
      "text/latex": [
       "'list'"
      ],
      "text/markdown": [
       "'list'"
      ],
      "text/plain": [
       "[1] \"list\""
      ]
     },
     "metadata": {},
     "output_type": "display_data"
    }
   ],
   "source": [
    "classes <- lapply(john, class)\n",
    "classes\n",
    "class(classes)"
   ]
  },
  {
   "cell_type": "markdown",
   "metadata": {},
   "source": [
    "\"lapply\" iterates through list items and returns a list\n",
    "\n",
    "But what if I just want a vector?\n",
    "\n",
    "There are two ways:\n",
    "\n",
    "1.) list is a special kind of vector, so let's simplify it by unlisting it:"
   ]
  },
  {
   "cell_type": "code",
   "execution_count": 17,
   "metadata": {},
   "outputs": [
    {
     "data": {
      "text/html": [
       "<dl class=dl-horizontal>\n",
       "\t<dt>name</dt>\n",
       "\t\t<dd>'character'</dd>\n",
       "\t<dt>age</dt>\n",
       "\t\t<dd>'numeric'</dd>\n",
       "\t<dt>speaks</dt>\n",
       "\t\t<dd>'character'</dd>\n",
       "\t<dt>married</dt>\n",
       "\t\t<dd>'logical'</dd>\n",
       "</dl>\n"
      ],
      "text/latex": [
       "\\begin{description*}\n",
       "\\item[name] 'character'\n",
       "\\item[age] 'numeric'\n",
       "\\item[speaks] 'character'\n",
       "\\item[married] 'logical'\n",
       "\\end{description*}\n"
      ],
      "text/markdown": [
       "name\n",
       ":   'character'age\n",
       ":   'numeric'speaks\n",
       ":   'character'married\n",
       ":   'logical'\n",
       "\n"
      ],
      "text/plain": [
       "       name         age      speaks     married \n",
       "\"character\"   \"numeric\" \"character\"   \"logical\" "
      ]
     },
     "metadata": {},
     "output_type": "display_data"
    },
    {
     "data": {
      "text/html": [
       "'character'"
      ],
      "text/latex": [
       "'character'"
      ],
      "text/markdown": [
       "'character'"
      ],
      "text/plain": [
       "[1] \"character\""
      ]
     },
     "metadata": {},
     "output_type": "display_data"
    }
   ],
   "source": [
    "classes <- unlist(lapply(john, class))\n",
    "classes\n",
    "class(classes)"
   ]
  },
  {
   "cell_type": "markdown",
   "metadata": {},
   "source": [
    "2.) Or use a variant that may or may not simplify the result to a vector to our liking:"
   ]
  },
  {
   "cell_type": "code",
   "execution_count": 18,
   "metadata": {},
   "outputs": [
    {
     "data": {
      "text/html": [
       "<dl class=dl-horizontal>\n",
       "\t<dt>name</dt>\n",
       "\t\t<dd>'character'</dd>\n",
       "\t<dt>age</dt>\n",
       "\t\t<dd>'numeric'</dd>\n",
       "\t<dt>speaks</dt>\n",
       "\t\t<dd>'character'</dd>\n",
       "\t<dt>married</dt>\n",
       "\t\t<dd>'logical'</dd>\n",
       "</dl>\n"
      ],
      "text/latex": [
       "\\begin{description*}\n",
       "\\item[name] 'character'\n",
       "\\item[age] 'numeric'\n",
       "\\item[speaks] 'character'\n",
       "\\item[married] 'logical'\n",
       "\\end{description*}\n"
      ],
      "text/markdown": [
       "name\n",
       ":   'character'age\n",
       ":   'numeric'speaks\n",
       ":   'character'married\n",
       ":   'logical'\n",
       "\n"
      ],
      "text/plain": [
       "       name         age      speaks     married \n",
       "\"character\"   \"numeric\" \"character\"   \"logical\" "
      ]
     },
     "metadata": {},
     "output_type": "display_data"
    },
    {
     "data": {
      "text/html": [
       "'character'"
      ],
      "text/latex": [
       "'character'"
      ],
      "text/markdown": [
       "'character'"
      ],
      "text/plain": [
       "[1] \"character\""
      ]
     },
     "metadata": {},
     "output_type": "display_data"
    }
   ],
   "source": [
    "classes <- sapply(john, class)\n",
    "classes\n",
    "class(classes)"
   ]
  },
  {
   "cell_type": "markdown",
   "metadata": {},
   "source": [
    "In fact we may tell sapply not to simplify - hence the same result as lapply"
   ]
  },
  {
   "cell_type": "code",
   "execution_count": 19,
   "metadata": {},
   "outputs": [
    {
     "data": {
      "text/html": [
       "<dl>\n",
       "\t<dt>$name</dt>\n",
       "\t\t<dd>'character'</dd>\n",
       "\t<dt>$age</dt>\n",
       "\t\t<dd>'numeric'</dd>\n",
       "\t<dt>$speaks</dt>\n",
       "\t\t<dd>'character'</dd>\n",
       "\t<dt>$married</dt>\n",
       "\t\t<dd>'logical'</dd>\n",
       "</dl>\n"
      ],
      "text/latex": [
       "\\begin{description}\n",
       "\\item[\\$name] 'character'\n",
       "\\item[\\$age] 'numeric'\n",
       "\\item[\\$speaks] 'character'\n",
       "\\item[\\$married] 'logical'\n",
       "\\end{description}\n"
      ],
      "text/markdown": [
       "$name\n",
       ":   'character'\n",
       "$age\n",
       ":   'numeric'\n",
       "$speaks\n",
       ":   'character'\n",
       "$married\n",
       ":   'logical'\n",
       "\n",
       "\n"
      ],
      "text/plain": [
       "$name\n",
       "[1] \"character\"\n",
       "\n",
       "$age\n",
       "[1] \"numeric\"\n",
       "\n",
       "$speaks\n",
       "[1] \"character\"\n",
       "\n",
       "$married\n",
       "[1] \"logical\"\n"
      ]
     },
     "metadata": {},
     "output_type": "display_data"
    },
    {
     "data": {
      "text/html": [
       "'list'"
      ],
      "text/latex": [
       "'list'"
      ],
      "text/markdown": [
       "'list'"
      ],
      "text/plain": [
       "[1] \"list\""
      ]
     },
     "metadata": {},
     "output_type": "display_data"
    }
   ],
   "source": [
    "classes <- sapply(john, class, simplify = F)\n",
    "classes\n",
    "class(classes)"
   ]
  },
  {
   "cell_type": "markdown",
   "metadata": {},
   "source": [
    "Now let's come to some applications with R\n",
    "\n",
    "Let's write a very simple function: That takes a vector and returns the sum of the vector items\n",
    "\n",
    "But we want both of those objects: A vector of multiple values and a single value, and we want them so that they can be accessed separately!"
   ]
  },
  {
   "cell_type": "code",
   "execution_count": 20,
   "metadata": {
    "collapsed": true
   },
   "outputs": [],
   "source": [
    "vec_and_sum <- function(vec)\n",
    "{\n",
    "    a <- sum(vec)\n",
    "    return(list(vec, a))\n",
    "}"
   ]
  },
  {
   "cell_type": "code",
   "execution_count": 21,
   "metadata": {},
   "outputs": [
    {
     "data": {
      "text/html": [
       "<ol>\n",
       "\t<li><ol class=list-inline>\n",
       "\t<li>1</li>\n",
       "\t<li>2</li>\n",
       "\t<li>3</li>\n",
       "\t<li>4</li>\n",
       "\t<li>5</li>\n",
       "</ol>\n",
       "</li>\n",
       "\t<li>15</li>\n",
       "</ol>\n"
      ],
      "text/latex": [
       "\\begin{enumerate}\n",
       "\\item \\begin{enumerate*}\n",
       "\\item 1\n",
       "\\item 2\n",
       "\\item 3\n",
       "\\item 4\n",
       "\\item 5\n",
       "\\end{enumerate*}\n",
       "\n",
       "\\item 15\n",
       "\\end{enumerate}\n"
      ],
      "text/markdown": [
       "1. 1. 1\n",
       "2. 2\n",
       "3. 3\n",
       "4. 4\n",
       "5. 5\n",
       "\n",
       "\n",
       "\n",
       "2. 15\n",
       "\n",
       "\n"
      ],
      "text/plain": [
       "[[1]]\n",
       "[1] 1 2 3 4 5\n",
       "\n",
       "[[2]]\n",
       "[1] 15\n"
      ]
     },
     "metadata": {},
     "output_type": "display_data"
    },
    {
     "data": {
      "text/html": [
       "2"
      ],
      "text/latex": [
       "2"
      ],
      "text/markdown": [
       "2"
      ],
      "text/plain": [
       "[1] 2"
      ]
     },
     "metadata": {},
     "output_type": "display_data"
    }
   ],
   "source": [
    "result <- vec_and_sum(1:5)\n",
    "result\n",
    "result[[1]][2]"
   ]
  },
  {
   "cell_type": "markdown",
   "metadata": {},
   "source": [
    "See we can use any of those two objects in our subsequent code by just subsetting single items from the result list"
   ]
  },
  {
   "cell_type": "code",
   "execution_count": 22,
   "metadata": {},
   "outputs": [
    {
     "data": {
      "text/html": [
       "<ol class=list-inline>\n",
       "\t<li>1</li>\n",
       "\t<li>2</li>\n",
       "\t<li>3</li>\n",
       "\t<li>4</li>\n",
       "\t<li>5</li>\n",
       "</ol>\n"
      ],
      "text/latex": [
       "\\begin{enumerate*}\n",
       "\\item 1\n",
       "\\item 2\n",
       "\\item 3\n",
       "\\item 4\n",
       "\\item 5\n",
       "\\end{enumerate*}\n"
      ],
      "text/markdown": [
       "1. 1\n",
       "2. 2\n",
       "3. 3\n",
       "4. 4\n",
       "5. 5\n",
       "\n",
       "\n"
      ],
      "text/plain": [
       "[1] 1 2 3 4 5"
      ]
     },
     "metadata": {},
     "output_type": "display_data"
    }
   ],
   "source": [
    "result[[1]]"
   ]
  },
  {
   "cell_type": "code",
   "execution_count": 23,
   "metadata": {},
   "outputs": [
    {
     "data": {
      "text/html": [
       "15"
      ],
      "text/latex": [
       "15"
      ],
      "text/markdown": [
       "15"
      ],
      "text/plain": [
       "[1] 15"
      ]
     },
     "metadata": {},
     "output_type": "display_data"
    }
   ],
   "source": [
    "result[[2]]"
   ]
  },
  {
   "cell_type": "markdown",
   "metadata": {},
   "source": [
    "We can hold vectors of different lengths w/o recycling"
   ]
  },
  {
   "cell_type": "code",
   "execution_count": 24,
   "metadata": {},
   "outputs": [
    {
     "data": {
      "text/html": [
       "<dl>\n",
       "\t<dt>$A</dt>\n",
       "\t\t<dd><ol class=list-inline>\n",
       "\t<li>1</li>\n",
       "\t<li>2</li>\n",
       "\t<li>3</li>\n",
       "\t<li>4</li>\n",
       "\t<li>5</li>\n",
       "</ol>\n",
       "</dd>\n",
       "\t<dt>$B</dt>\n",
       "\t\t<dd><ol class=list-inline>\n",
       "\t<li>3</li>\n",
       "\t<li>5</li>\n",
       "\t<li>7</li>\n",
       "\t<li>9</li>\n",
       "\t<li>11</li>\n",
       "</ol>\n",
       "</dd>\n",
       "\t<dt>$C</dt>\n",
       "\t\t<dd><ol class=list-inline>\n",
       "\t<li>6</li>\n",
       "\t<li>5</li>\n",
       "\t<li>4</li>\n",
       "\t<li>3</li>\n",
       "</ol>\n",
       "</dd>\n",
       "</dl>\n"
      ],
      "text/latex": [
       "\\begin{description}\n",
       "\\item[\\$A] \\begin{enumerate*}\n",
       "\\item 1\n",
       "\\item 2\n",
       "\\item 3\n",
       "\\item 4\n",
       "\\item 5\n",
       "\\end{enumerate*}\n",
       "\n",
       "\\item[\\$B] \\begin{enumerate*}\n",
       "\\item 3\n",
       "\\item 5\n",
       "\\item 7\n",
       "\\item 9\n",
       "\\item 11\n",
       "\\end{enumerate*}\n",
       "\n",
       "\\item[\\$C] \\begin{enumerate*}\n",
       "\\item 6\n",
       "\\item 5\n",
       "\\item 4\n",
       "\\item 3\n",
       "\\end{enumerate*}\n",
       "\n",
       "\\end{description}\n"
      ],
      "text/markdown": [
       "$A\n",
       ":   1. 1\n",
       "2. 2\n",
       "3. 3\n",
       "4. 4\n",
       "5. 5\n",
       "\n",
       "\n",
       "\n",
       "$B\n",
       ":   1. 3\n",
       "2. 5\n",
       "3. 7\n",
       "4. 9\n",
       "5. 11\n",
       "\n",
       "\n",
       "\n",
       "$C\n",
       ":   1. 6\n",
       "2. 5\n",
       "3. 4\n",
       "4. 3\n",
       "\n",
       "\n",
       "\n",
       "\n",
       "\n"
      ],
      "text/plain": [
       "$A\n",
       "[1] 1 2 3 4 5\n",
       "\n",
       "$B\n",
       "[1]  3  5  7  9 11\n",
       "\n",
       "$C\n",
       "[1] 6 5 4 3\n"
      ]
     },
     "metadata": {},
     "output_type": "display_data"
    }
   ],
   "source": [
    "pencils <-  list(A=1:5,B=seq(3,12,2),C=6:3)\n",
    "pencils"
   ]
  },
  {
   "cell_type": "markdown",
   "metadata": {},
   "source": [
    "And we can rearrange the items using basic building blocks\n",
    "\n",
    "Say, sort the list items according to their total sums"
   ]
  },
  {
   "cell_type": "markdown",
   "metadata": {},
   "source": [
    "The following code follows these three steps (inside --> out)\n",
    "- Get the total sums of each list item\n",
    "- Get their order (in ascending order by default)\n",
    "- Subset the items of list in that order - hence sort it"
   ]
  },
  {
   "cell_type": "code",
   "execution_count": 25,
   "metadata": {},
   "outputs": [
    {
     "data": {
      "text/html": [
       "<dl>\n",
       "\t<dt>$A</dt>\n",
       "\t\t<dd><ol class=list-inline>\n",
       "\t<li>1</li>\n",
       "\t<li>2</li>\n",
       "\t<li>3</li>\n",
       "\t<li>4</li>\n",
       "\t<li>5</li>\n",
       "</ol>\n",
       "</dd>\n",
       "\t<dt>$C</dt>\n",
       "\t\t<dd><ol class=list-inline>\n",
       "\t<li>6</li>\n",
       "\t<li>5</li>\n",
       "\t<li>4</li>\n",
       "\t<li>3</li>\n",
       "</ol>\n",
       "</dd>\n",
       "\t<dt>$B</dt>\n",
       "\t\t<dd><ol class=list-inline>\n",
       "\t<li>3</li>\n",
       "\t<li>5</li>\n",
       "\t<li>7</li>\n",
       "\t<li>9</li>\n",
       "\t<li>11</li>\n",
       "</ol>\n",
       "</dd>\n",
       "</dl>\n"
      ],
      "text/latex": [
       "\\begin{description}\n",
       "\\item[\\$A] \\begin{enumerate*}\n",
       "\\item 1\n",
       "\\item 2\n",
       "\\item 3\n",
       "\\item 4\n",
       "\\item 5\n",
       "\\end{enumerate*}\n",
       "\n",
       "\\item[\\$C] \\begin{enumerate*}\n",
       "\\item 6\n",
       "\\item 5\n",
       "\\item 4\n",
       "\\item 3\n",
       "\\end{enumerate*}\n",
       "\n",
       "\\item[\\$B] \\begin{enumerate*}\n",
       "\\item 3\n",
       "\\item 5\n",
       "\\item 7\n",
       "\\item 9\n",
       "\\item 11\n",
       "\\end{enumerate*}\n",
       "\n",
       "\\end{description}\n"
      ],
      "text/markdown": [
       "$A\n",
       ":   1. 1\n",
       "2. 2\n",
       "3. 3\n",
       "4. 4\n",
       "5. 5\n",
       "\n",
       "\n",
       "\n",
       "$C\n",
       ":   1. 6\n",
       "2. 5\n",
       "3. 4\n",
       "4. 3\n",
       "\n",
       "\n",
       "\n",
       "$B\n",
       ":   1. 3\n",
       "2. 5\n",
       "3. 7\n",
       "4. 9\n",
       "5. 11\n",
       "\n",
       "\n",
       "\n",
       "\n",
       "\n"
      ],
      "text/plain": [
       "$A\n",
       "[1] 1 2 3 4 5\n",
       "\n",
       "$C\n",
       "[1] 6 5 4 3\n",
       "\n",
       "$B\n",
       "[1]  3  5  7  9 11\n"
      ]
     },
     "metadata": {},
     "output_type": "display_data"
    }
   ],
   "source": [
    "pencils[order(sapply(pencils,sum))]"
   ]
  },
  {
   "cell_type": "markdown",
   "metadata": {},
   "source": [
    "Let's write a function that reduces 100 TL from the salaries of employees older than 50."
   ]
  },
  {
   "cell_type": "code",
   "execution_count": 26,
   "metadata": {},
   "outputs": [
    {
     "data": {
      "text/html": [
       "<dl>\n",
       "\t<dt>$age</dt>\n",
       "\t\t<dd><ol class=list-inline>\n",
       "\t<li>34</li>\n",
       "\t<li>45</li>\n",
       "\t<li>67</li>\n",
       "\t<li>61</li>\n",
       "\t<li>45</li>\n",
       "\t<li>53</li>\n",
       "\t<li>46</li>\n",
       "</ol>\n",
       "</dd>\n",
       "\t<dt>$married</dt>\n",
       "\t\t<dd><ol class=list-inline>\n",
       "\t<li>TRUE</li>\n",
       "\t<li>FALSE</li>\n",
       "\t<li>TRUE</li>\n",
       "\t<li>TRUE</li>\n",
       "\t<li>FALSE</li>\n",
       "\t<li>FALSE</li>\n",
       "\t<li>TRUE</li>\n",
       "</ol>\n",
       "</dd>\n",
       "\t<dt>$salary</dt>\n",
       "\t\t<dd><ol class=list-inline>\n",
       "\t<li>1500</li>\n",
       "\t<li>3500</li>\n",
       "\t<li>4000</li>\n",
       "\t<li>1500</li>\n",
       "\t<li>2100</li>\n",
       "\t<li>4200</li>\n",
       "\t<li>3000</li>\n",
       "</ol>\n",
       "</dd>\n",
       "\t<dt>$names</dt>\n",
       "\t\t<dd><ol class=list-inline>\n",
       "\t<li>'a'</li>\n",
       "\t<li>'b'</li>\n",
       "\t<li>'c'</li>\n",
       "\t<li>'d'</li>\n",
       "\t<li>'e'</li>\n",
       "\t<li>'f'</li>\n",
       "\t<li>'g'</li>\n",
       "</ol>\n",
       "</dd>\n",
       "</dl>\n"
      ],
      "text/latex": [
       "\\begin{description}\n",
       "\\item[\\$age] \\begin{enumerate*}\n",
       "\\item 34\n",
       "\\item 45\n",
       "\\item 67\n",
       "\\item 61\n",
       "\\item 45\n",
       "\\item 53\n",
       "\\item 46\n",
       "\\end{enumerate*}\n",
       "\n",
       "\\item[\\$married] \\begin{enumerate*}\n",
       "\\item TRUE\n",
       "\\item FALSE\n",
       "\\item TRUE\n",
       "\\item TRUE\n",
       "\\item FALSE\n",
       "\\item FALSE\n",
       "\\item TRUE\n",
       "\\end{enumerate*}\n",
       "\n",
       "\\item[\\$salary] \\begin{enumerate*}\n",
       "\\item 1500\n",
       "\\item 3500\n",
       "\\item 4000\n",
       "\\item 1500\n",
       "\\item 2100\n",
       "\\item 4200\n",
       "\\item 3000\n",
       "\\end{enumerate*}\n",
       "\n",
       "\\item[\\$names] \\begin{enumerate*}\n",
       "\\item 'a'\n",
       "\\item 'b'\n",
       "\\item 'c'\n",
       "\\item 'd'\n",
       "\\item 'e'\n",
       "\\item 'f'\n",
       "\\item 'g'\n",
       "\\end{enumerate*}\n",
       "\n",
       "\\end{description}\n"
      ],
      "text/markdown": [
       "$age\n",
       ":   1. 34\n",
       "2. 45\n",
       "3. 67\n",
       "4. 61\n",
       "5. 45\n",
       "6. 53\n",
       "7. 46\n",
       "\n",
       "\n",
       "\n",
       "$married\n",
       ":   1. TRUE\n",
       "2. FALSE\n",
       "3. TRUE\n",
       "4. TRUE\n",
       "5. FALSE\n",
       "6. FALSE\n",
       "7. TRUE\n",
       "\n",
       "\n",
       "\n",
       "$salary\n",
       ":   1. 1500\n",
       "2. 3500\n",
       "3. 4000\n",
       "4. 1500\n",
       "5. 2100\n",
       "6. 4200\n",
       "7. 3000\n",
       "\n",
       "\n",
       "\n",
       "$names\n",
       ":   1. 'a'\n",
       "2. 'b'\n",
       "3. 'c'\n",
       "4. 'd'\n",
       "5. 'e'\n",
       "6. 'f'\n",
       "7. 'g'\n",
       "\n",
       "\n",
       "\n",
       "\n",
       "\n"
      ],
      "text/plain": [
       "$age\n",
       "[1] 34 45 67 61 45 53 46\n",
       "\n",
       "$married\n",
       "[1]  TRUE FALSE  TRUE  TRUE FALSE FALSE  TRUE\n",
       "\n",
       "$salary\n",
       "[1] 1500 3500 4000 1500 2100 4200 3000\n",
       "\n",
       "$names\n",
       "[1] \"a\" \"b\" \"c\" \"d\" \"e\" \"f\" \"g\"\n"
      ]
     },
     "metadata": {},
     "output_type": "display_data"
    }
   ],
   "source": [
    "myemployees<-list(age=c(34,45,67,61,45,53,46), married=c(T,F,T,T,F,F,T),\n",
    "                  salary=c(1500,3500,4000,1500,2100,4200,3000),names=c(\"a\",\"b\",\"c\",\"d\",\"e\",\"f\",\"g\"))\n",
    "myemployees"
   ]
  },
  {
   "cell_type": "code",
   "execution_count": 27,
   "metadata": {
    "collapsed": true
   },
   "outputs": [],
   "source": [
    "my_func<-function(list){\n",
    "  for (x in 1:length(list$age)){\n",
    "    if(list$age[x]>50){\n",
    "      list$salary[x]<- list$salary[x]-100\n",
    "    }\n",
    "  }\n",
    "  return(list)\n",
    "}"
   ]
  },
  {
   "cell_type": "code",
   "execution_count": 28,
   "metadata": {},
   "outputs": [
    {
     "data": {
      "text/html": [
       "<dl>\n",
       "\t<dt>$age</dt>\n",
       "\t\t<dd><ol class=list-inline>\n",
       "\t<li>34</li>\n",
       "\t<li>45</li>\n",
       "\t<li>67</li>\n",
       "\t<li>61</li>\n",
       "\t<li>45</li>\n",
       "\t<li>53</li>\n",
       "\t<li>46</li>\n",
       "</ol>\n",
       "</dd>\n",
       "\t<dt>$married</dt>\n",
       "\t\t<dd><ol class=list-inline>\n",
       "\t<li>TRUE</li>\n",
       "\t<li>FALSE</li>\n",
       "\t<li>TRUE</li>\n",
       "\t<li>TRUE</li>\n",
       "\t<li>FALSE</li>\n",
       "\t<li>FALSE</li>\n",
       "\t<li>TRUE</li>\n",
       "</ol>\n",
       "</dd>\n",
       "\t<dt>$salary</dt>\n",
       "\t\t<dd><ol class=list-inline>\n",
       "\t<li>1500</li>\n",
       "\t<li>3500</li>\n",
       "\t<li>3900</li>\n",
       "\t<li>1400</li>\n",
       "\t<li>2100</li>\n",
       "\t<li>4100</li>\n",
       "\t<li>3000</li>\n",
       "</ol>\n",
       "</dd>\n",
       "\t<dt>$names</dt>\n",
       "\t\t<dd><ol class=list-inline>\n",
       "\t<li>'a'</li>\n",
       "\t<li>'b'</li>\n",
       "\t<li>'c'</li>\n",
       "\t<li>'d'</li>\n",
       "\t<li>'e'</li>\n",
       "\t<li>'f'</li>\n",
       "\t<li>'g'</li>\n",
       "</ol>\n",
       "</dd>\n",
       "</dl>\n"
      ],
      "text/latex": [
       "\\begin{description}\n",
       "\\item[\\$age] \\begin{enumerate*}\n",
       "\\item 34\n",
       "\\item 45\n",
       "\\item 67\n",
       "\\item 61\n",
       "\\item 45\n",
       "\\item 53\n",
       "\\item 46\n",
       "\\end{enumerate*}\n",
       "\n",
       "\\item[\\$married] \\begin{enumerate*}\n",
       "\\item TRUE\n",
       "\\item FALSE\n",
       "\\item TRUE\n",
       "\\item TRUE\n",
       "\\item FALSE\n",
       "\\item FALSE\n",
       "\\item TRUE\n",
       "\\end{enumerate*}\n",
       "\n",
       "\\item[\\$salary] \\begin{enumerate*}\n",
       "\\item 1500\n",
       "\\item 3500\n",
       "\\item 3900\n",
       "\\item 1400\n",
       "\\item 2100\n",
       "\\item 4100\n",
       "\\item 3000\n",
       "\\end{enumerate*}\n",
       "\n",
       "\\item[\\$names] \\begin{enumerate*}\n",
       "\\item 'a'\n",
       "\\item 'b'\n",
       "\\item 'c'\n",
       "\\item 'd'\n",
       "\\item 'e'\n",
       "\\item 'f'\n",
       "\\item 'g'\n",
       "\\end{enumerate*}\n",
       "\n",
       "\\end{description}\n"
      ],
      "text/markdown": [
       "$age\n",
       ":   1. 34\n",
       "2. 45\n",
       "3. 67\n",
       "4. 61\n",
       "5. 45\n",
       "6. 53\n",
       "7. 46\n",
       "\n",
       "\n",
       "\n",
       "$married\n",
       ":   1. TRUE\n",
       "2. FALSE\n",
       "3. TRUE\n",
       "4. TRUE\n",
       "5. FALSE\n",
       "6. FALSE\n",
       "7. TRUE\n",
       "\n",
       "\n",
       "\n",
       "$salary\n",
       ":   1. 1500\n",
       "2. 3500\n",
       "3. 3900\n",
       "4. 1400\n",
       "5. 2100\n",
       "6. 4100\n",
       "7. 3000\n",
       "\n",
       "\n",
       "\n",
       "$names\n",
       ":   1. 'a'\n",
       "2. 'b'\n",
       "3. 'c'\n",
       "4. 'd'\n",
       "5. 'e'\n",
       "6. 'f'\n",
       "7. 'g'\n",
       "\n",
       "\n",
       "\n",
       "\n",
       "\n"
      ],
      "text/plain": [
       "$age\n",
       "[1] 34 45 67 61 45 53 46\n",
       "\n",
       "$married\n",
       "[1]  TRUE FALSE  TRUE  TRUE FALSE FALSE  TRUE\n",
       "\n",
       "$salary\n",
       "[1] 1500 3500 3900 1400 2100 4100 3000\n",
       "\n",
       "$names\n",
       "[1] \"a\" \"b\" \"c\" \"d\" \"e\" \"f\" \"g\"\n"
      ]
     },
     "metadata": {},
     "output_type": "display_data"
    }
   ],
   "source": [
    "my_func(myemployees)"
   ]
  },
  {
   "cell_type": "raw",
   "metadata": {},
   "source": [
    "Now, write an R statement to split this string into two (word by word)."
   ]
  },
  {
   "cell_type": "code",
   "execution_count": 29,
   "metadata": {},
   "outputs": [
    {
     "data": {
      "text/html": [
       "<ol>\n",
       "\t<li><ol>\n",
       "\t<li><ol class=list-inline>\n",
       "\t<li>'Grand'</li>\n",
       "\t<li>'Opening'</li>\n",
       "</ol>\n",
       "</li>\n",
       "</ol>\n",
       "</li>\n",
       "</ol>\n"
      ],
      "text/latex": [
       "\\begin{enumerate}\n",
       "\\item \\begin{enumerate}\n",
       "\\item \\begin{enumerate*}\n",
       "\\item 'Grand'\n",
       "\\item 'Opening'\n",
       "\\end{enumerate*}\n",
       "\n",
       "\\end{enumerate}\n",
       "\n",
       "\\end{enumerate}\n"
      ],
      "text/markdown": [
       "1. 1. 1. 'Grand'\n",
       "2. 'Opening'\n",
       "\n",
       "\n",
       "\n",
       "\n",
       "\n",
       "\n",
       "\n",
       "\n"
      ],
      "text/plain": [
       "[[1]]\n",
       "[[1]][[1]]\n",
       "[1] \"Grand\"   \"Opening\"\n",
       "\n"
      ]
     },
     "metadata": {},
     "output_type": "display_data"
    },
    {
     "data": {
      "text/html": [
       "<ol>\n",
       "\t<li>'Grand'</li>\n",
       "\t<li>'Opening'</li>\n",
       "</ol>\n"
      ],
      "text/latex": [
       "\\begin{enumerate}\n",
       "\\item 'Grand'\n",
       "\\item 'Opening'\n",
       "\\end{enumerate}\n"
      ],
      "text/markdown": [
       "1. 'Grand'\n",
       "2. 'Opening'\n",
       "\n",
       "\n"
      ],
      "text/plain": [
       "[[1]]\n",
       "[1] \"Grand\"\n",
       "\n",
       "[[2]]\n",
       "[1] \"Opening\"\n"
      ]
     },
     "metadata": {},
     "output_type": "display_data"
    }
   ],
   "source": [
    "string <- \"Grand Opening\"\n",
    "a <- strsplit(string,\" \")\n",
    "list(a)\n",
    "list(a[[1]][1], a[[1]][2])"
   ]
  }
 ],
 "metadata": {
  "kernelspec": {
   "display_name": "R",
   "language": "R",
   "name": "ir"
  },
  "language_info": {
   "codemirror_mode": "r",
   "file_extension": ".r",
   "mimetype": "text/x-r-source",
   "name": "R",
   "pygments_lexer": "r",
   "version": "3.4.3"
  }
 },
 "nbformat": 4,
 "nbformat_minor": 2
}
