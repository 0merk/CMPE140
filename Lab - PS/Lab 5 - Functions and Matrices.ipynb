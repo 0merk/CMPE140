{
 "cells": [
  {
   "cell_type": "markdown",
   "metadata": {},
   "source": [
    "# Do you like treasure hunts?\n",
    "\n",
    "Adapted from:\n",
    "http://users.csc.calpoly.edu/%7Ejdalbey/103/Projects/ProgrammingPractice.html\n",
    "\n",
    "---\n",
    "\n",
    "In this problem you are to write a program to explore the above array for a treasure.  \n",
    "The values in the array are clues.  \n",
    "\n",
    "- First a map of dimension n is created where each cell contains an integer between 11 and nn;\n",
    "\n",
    "> For each value the ten's digit represents the row number and the unit's digit represents the column number of the cell containing the next clue.\n",
    "\n",
    "- Starting in the upper left corner (at 1,1), use the clues to guide your search of the array.\n",
    "\n",
    "- The treasure is a cell whose value is the same as its coordinates.\n",
    "\n",
    "- Your program should output the cells it visits during its search, ending with the location of the treasury\n",
    "\n",
    "**Note:** In case the search visits a cell a second time, it means we are inside an endless loop, the code should stop and return the path (at the end of the second visit of a cell) and start of the circle in the path.\n",
    "\n",
    "**The size of the input matrix should be at least 2x2 and at most 9x9**\n",
    "\n",
    "### For example:\n",
    "\n",
    "A map with a solution:\n",
    "\n",
    "```R\n",
    "> a <- create_map(8)\n",
    "> a\n",
    "     [,1] [,2] [,3] [,4] [,5] [,6] [,7] [,8]\n",
    "[1,]   54   61   44   48   23   56   46   37\n",
    "[2,]   16   56   84   46   33   25   45   41\n",
    "[3,]   14   76   25   47   67   31   78   83\n",
    "[4,]   47   38   16   28   75   42   22   38\n",
    "[5,]   14   38   37   56   37   56   12   18\n",
    "[6,]   17   32   23   85   53   26   82   61\n",
    "[7,]   11   28   35   47   86   64   54   13\n",
    "[8,]   76   82   16   53   65   26   86   13\n",
    "\n",
    "> find_treasury(a)\n",
    "[1] 11 54 56\n",
    "```\n",
    "\n",
    "### A looping version with no solution:\n",
    "\n",
    "```R\n",
    "> a <- create_map(5)\n",
    "> a\n",
    "     [,1] [,2] [,3] [,4] [,5]\n",
    "[1,]   31   44   41   45   12\n",
    "[2,]   54   12   24   31   55\n",
    "[3,]   35   43   42   35   54\n",
    "[4,]   43   33   51   53   21\n",
    "[5,]   42   42   52   31   14\n",
    "\n",
    "> find_treasury(a)\n",
    "[1] 11 31 35 54 31 2\n",
    "```"
   ]
  },
  {
   "cell_type": "markdown",
   "metadata": {},
   "source": [
    "# How to solve\n",
    "\n",
    "## Creating maps\n",
    "\n",
    "- Create a function called create\\_map which **accepts numeric argument dimm** and generates a matrix with values among $[11, nn]$ and returns it"
   ]
  },
  {
   "cell_type": "code",
   "execution_count": 1,
   "metadata": {},
   "outputs": [
    {
     "data": {
      "text/html": [
       "<table>\n",
       "<tbody>\n",
       "\t<tr><td>12</td><td>51</td><td>23</td><td>13</td><td>44</td></tr>\n",
       "\t<tr><td>41</td><td>55</td><td>13</td><td>12</td><td>52</td></tr>\n",
       "\t<tr><td>32</td><td>31</td><td>31</td><td>34</td><td>31</td></tr>\n",
       "\t<tr><td>54</td><td>31</td><td>31</td><td>53</td><td>44</td></tr>\n",
       "\t<tr><td>41</td><td>52</td><td>14</td><td>43</td><td>21</td></tr>\n",
       "</tbody>\n",
       "</table>\n"
      ],
      "text/latex": [
       "\\begin{tabular}{lllll}\n",
       "\t 12 & 51 & 23 & 13 & 44\\\\\n",
       "\t 41 & 55 & 13 & 12 & 52\\\\\n",
       "\t 32 & 31 & 31 & 34 & 31\\\\\n",
       "\t 54 & 31 & 31 & 53 & 44\\\\\n",
       "\t 41 & 52 & 14 & 43 & 21\\\\\n",
       "\\end{tabular}\n"
      ],
      "text/markdown": [
       "\n",
       "| 12 | 51 | 23 | 13 | 44 | \n",
       "| 41 | 55 | 13 | 12 | 52 | \n",
       "| 32 | 31 | 31 | 34 | 31 | \n",
       "| 54 | 31 | 31 | 53 | 44 | \n",
       "| 41 | 52 | 14 | 43 | 21 | \n",
       "\n",
       "\n"
      ],
      "text/plain": [
       "     [,1] [,2] [,3] [,4] [,5]\n",
       "[1,] 12   51   23   13   44  \n",
       "[2,] 41   55   13   12   52  \n",
       "[3,] 32   31   31   34   31  \n",
       "[4,] 54   31   31   53   44  \n",
       "[5,] 41   52   14   43   21  "
      ]
     },
     "metadata": {},
     "output_type": "display_data"
    }
   ],
   "source": [
    "create_map <- function(dimm = 5)\n",
    "{\n",
    "  # create an ordered map\n",
    "  map1 <- outer(1:dimm, 1:dimm, function(x,y) 10 * x + y)\n",
    "  \n",
    "  # shuffle the map\n",
    "  map2 <- matrix(sample(map1, replace = T), nrow = dimm)\n",
    "  return(map2)\n",
    "}\n",
    "                \n",
    "create_map()"
   ]
  },
  {
   "cell_type": "markdown",
   "metadata": {},
   "source": [
    "## Solving clues\n",
    "\n",
    "- Create a function that **accepts an numeric arguments** and **returns a vector** which contains numbers within the argument.\n",
    "\n",
    "This function is required to understand new location from clues as problem statement suggests.\n",
    "\n",
    "```R\n",
    "> numbers <- split_number(21)\n",
    "> numbers\n",
    " [1] 2 1\n",
    "```"
   ]
  },
  {
   "cell_type": "code",
   "execution_count": 2,
   "metadata": {},
   "outputs": [
    {
     "data": {
      "text/html": [
       "<ol class=list-inline>\n",
       "\t<li>2</li>\n",
       "\t<li>1</li>\n",
       "</ol>\n"
      ],
      "text/latex": [
       "\\begin{enumerate*}\n",
       "\\item 2\n",
       "\\item 1\n",
       "\\end{enumerate*}\n"
      ],
      "text/markdown": [
       "1. 2\n",
       "2. 1\n",
       "\n",
       "\n"
      ],
      "text/plain": [
       "[1] 2 1"
      ]
     },
     "metadata": {},
     "output_type": "display_data"
    }
   ],
   "source": [
    "split_number <- function(num) {\n",
    "    # Variable to hold the array\n",
    "    shards <- NULL\n",
    "    # Finish until all numbers are extracted\n",
    "    while(num != 0) {\n",
    "        # Extend array with newly found number\n",
    "        shards <- c(num %% 10, shards)\n",
    "        # remove the number with smallest order\n",
    "        num <- floor(num / 10)\n",
    "    }\n",
    "    return(shards)\n",
    "}\n",
    "split_number(21)"
   ]
  },
  {
   "cell_type": "markdown",
   "metadata": {},
   "source": [
    "## Are we in a circle?\n",
    "\n",
    "- Create a function **accepts a vector and a numeric value** and **returns location of the numeric value within vector or NA**.\n",
    "\n",
    "This function is required for detecting a loop, if you are in one.\n",
    "\n",
    "```R\n",
    "> loc <- where(c(12, 21, 32, 45), 21)\n",
    "> loc\n",
    " [1] 2\n",
    "> loc <- where(c(12, 21, 32, 45), 64)\n",
    "> loc\n",
    " [1] NA\n",
    "```"
   ]
  },
  {
   "cell_type": "code",
   "execution_count": 3,
   "metadata": {},
   "outputs": [
    {
     "name": "stdout",
     "output_type": "stream",
     "text": [
      "[1] 2\n",
      "NULL\n"
     ]
    }
   ],
   "source": [
    "# define function with two arguments\n",
    "where <- function(vec, num) {\n",
    "    # Iterate over indices\n",
    "    for(i in 1:length(vec)) {\n",
    "        # Check if the next value in the vector equals the given variable\n",
    "        if(vec[i] == num) {\n",
    "            return(i)\n",
    "        }\n",
    "    }\n",
    "    # Return NULL if num is not found in vec\n",
    "    return(NULL)\n",
    "}\n",
    "print(where(c(12, 21, 32, 45), 21))\n",
    "print(where(c(12, 21, 32, 45), 64))"
   ]
  },
  {
   "cell_type": "markdown",
   "metadata": {},
   "source": [
    "## Finding the Treasure!\n",
    "\n",
    "- Create a function that to find the treasure. This function should **accept map which is a matrix with clues** and **return a vector which shows way to treasure**.\n",
    "\n",
    "```R\n",
    "> map <- create_map(5)\n",
    "> map\n",
    "     [,1] [,2] [,3] [,4] [,5]\n",
    "[1,]   31   44   41   45   12\n",
    "[2,]   54   12   24   31   55\n",
    "[3,]   35   43   42   35   54\n",
    "[4,]   43   33   51   53   21\n",
    "[5,]   42   42   52   31   14\n",
    "> find_treasure(map)\n",
    " [1] 11 31 35 54 31 2\n",
    "\n",
    "```"
   ]
  },
  {
   "cell_type": "code",
   "execution_count": 4,
   "metadata": {},
   "outputs": [],
   "source": [
    "# crawl through the map to find the treasury\n",
    "find_treasure <- function(map) {\n",
    "    # initiate empty path\n",
    "    path <- NULL\n",
    "    \n",
    "    # starting clue\n",
    "    clue <- 11\n",
    "    # starting coordinates\n",
    "    location <- split_number(clue)\n",
    "    \n",
    "    # while the next cell's value is not the same as current\n",
    "    while (map[location[1], location[2]] != clue) {\n",
    "        # append the value to the path\n",
    "        path <- c(path, clue)\n",
    "        \n",
    "        # get the next clue\n",
    "        clue <- map[location[1], location[2]]\n",
    "        \n",
    "        # get the next coordinates\n",
    "        location <- split_number(clue)\n",
    "        \n",
    "        # check if we are in a circle\n",
    "        circle_start <- where(path, clue)\n",
    "        \n",
    "        # If we have been in this location before\n",
    "        # this means we are in a circle...\n",
    "        if(!is.null(circle_start)) {\n",
    "            return(c(path, circle_start))\n",
    "        }\n",
    "    }\n",
    "    \n",
    "    # return the path and last value\n",
    "    return(c(path, clue))\n",
    "}"
   ]
  },
  {
   "cell_type": "code",
   "execution_count": 5,
   "metadata": {},
   "outputs": [
    {
     "name": "stdout",
     "output_type": "stream",
     "text": [
      "     [,1] [,2] [,3] [,4] [,5]\n",
      "[1,]   31   35   33   42   12\n",
      "[2,]   35   33   42   55   35\n",
      "[3,]   15   15   51   33   15\n",
      "[4,]   53   34   34   34   53\n",
      "[5,]   31   34   22   53   42\n",
      "[1] 11 31 15 12 35  3\n"
     ]
    }
   ],
   "source": [
    "map <- create_map()\n",
    "print(map)\n",
    "print(find_treasure(map))"
   ]
  }
 ],
 "metadata": {
  "kernelspec": {
   "display_name": "R",
   "language": "R",
   "name": "ir"
  },
  "language_info": {
   "codemirror_mode": "r",
   "file_extension": ".r",
   "mimetype": "text/x-r-source",
   "name": "R",
   "pygments_lexer": "r",
   "version": "3.4.3"
  }
 },
 "nbformat": 4,
 "nbformat_minor": 2
}
