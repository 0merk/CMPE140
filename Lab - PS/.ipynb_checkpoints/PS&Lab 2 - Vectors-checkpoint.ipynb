{
 "cells": [
  {
   "cell_type": "markdown",
   "metadata": {},
   "source": [
    "# Vectors\n",
    "\n",
    "### HAVE FUN!!\n",
    "\n",
    "Adapted from, Serhat Çevikel"
   ]
  },
  {
   "cell_type": "markdown",
   "metadata": {},
   "source": [
    "## Vector Initialization\n",
    "\n",
    "Create a vector worker_age with  Emre=25, Can=52, Ceren=33\n",
    "\n",
    "Get the value and class"
   ]
  },
  {
   "cell_type": "code",
   "execution_count": 1,
   "metadata": {},
   "outputs": [],
   "source": [
    "worker_age <- c(Emre = 26, Can = 52, Ceren = 33)"
   ]
  },
  {
   "cell_type": "code",
   "execution_count": 2,
   "metadata": {},
   "outputs": [
    {
     "data": {
      "text/html": [
       "<dl class=dl-horizontal>\n",
       "\t<dt>Emre</dt>\n",
       "\t\t<dd>26</dd>\n",
       "\t<dt>Can</dt>\n",
       "\t\t<dd>52</dd>\n",
       "\t<dt>Ceren</dt>\n",
       "\t\t<dd>33</dd>\n",
       "</dl>\n"
      ],
      "text/latex": [
       "\\begin{description*}\n",
       "\\item[Emre] 26\n",
       "\\item[Can] 52\n",
       "\\item[Ceren] 33\n",
       "\\end{description*}\n"
      ],
      "text/markdown": [
       "Emre\n",
       ":   26Can\n",
       ":   52Ceren\n",
       ":   33\n",
       "\n"
      ],
      "text/plain": [
       " Emre   Can Ceren \n",
       "   26    52    33 "
      ]
     },
     "metadata": {},
     "output_type": "display_data"
    }
   ],
   "source": [
    "worker_age"
   ]
  },
  {
   "cell_type": "code",
   "execution_count": 3,
   "metadata": {},
   "outputs": [
    {
     "data": {
      "text/html": [
       "'numeric'"
      ],
      "text/latex": [
       "'numeric'"
      ],
      "text/markdown": [
       "'numeric'"
      ],
      "text/plain": [
       "[1] \"numeric\""
      ]
     },
     "metadata": {},
     "output_type": "display_data"
    }
   ],
   "source": [
    "class(worker_age)"
   ]
  },
  {
   "cell_type": "markdown",
   "metadata": {},
   "source": [
    "Create the same vector, putting each value in a separate line <p></p>Get the value and class"
   ]
  },
  {
   "cell_type": "code",
   "execution_count": 4,
   "metadata": {},
   "outputs": [],
   "source": [
    "worker_age <- c(Emre = 25,\n",
    "                Can = 52,\n",
    "                Ceren = 33)"
   ]
  },
  {
   "cell_type": "code",
   "execution_count": 5,
   "metadata": {},
   "outputs": [
    {
     "data": {
      "text/html": [
       "<dl class=dl-horizontal>\n",
       "\t<dt>Emre</dt>\n",
       "\t\t<dd>25</dd>\n",
       "\t<dt>Can</dt>\n",
       "\t\t<dd>52</dd>\n",
       "\t<dt>Ceren</dt>\n",
       "\t\t<dd>33</dd>\n",
       "</dl>\n"
      ],
      "text/latex": [
       "\\begin{description*}\n",
       "\\item[Emre] 25\n",
       "\\item[Can] 52\n",
       "\\item[Ceren] 33\n",
       "\\end{description*}\n"
      ],
      "text/markdown": [
       "Emre\n",
       ":   25Can\n",
       ":   52Ceren\n",
       ":   33\n",
       "\n"
      ],
      "text/plain": [
       " Emre   Can Ceren \n",
       "   25    52    33 "
      ]
     },
     "metadata": {},
     "output_type": "display_data"
    }
   ],
   "source": [
    "worker_age"
   ]
  },
  {
   "cell_type": "code",
   "execution_count": 6,
   "metadata": {},
   "outputs": [
    {
     "data": {
      "text/html": [
       "'numeric'"
      ],
      "text/latex": [
       "'numeric'"
      ],
      "text/markdown": [
       "'numeric'"
      ],
      "text/plain": [
       "[1] \"numeric\""
      ]
     },
     "metadata": {},
     "output_type": "display_data"
    }
   ],
   "source": [
    "class(worker_age)"
   ]
  },
  {
   "cell_type": "markdown",
   "metadata": {},
   "source": [
    "## Named Vectors\n",
    "\n",
    "Create the same vector, first assign the values and then assign the names separately"
   ]
  },
  {
   "cell_type": "code",
   "execution_count": 7,
   "metadata": {},
   "outputs": [
    {
     "data": {
      "text/html": [
       "<dl class=dl-horizontal>\n",
       "\t<dt>Emre</dt>\n",
       "\t\t<dd>25</dd>\n",
       "\t<dt>Can</dt>\n",
       "\t\t<dd>53</dd>\n",
       "\t<dt>Ceren</dt>\n",
       "\t\t<dd>33</dd>\n",
       "</dl>\n"
      ],
      "text/latex": [
       "\\begin{description*}\n",
       "\\item[Emre] 25\n",
       "\\item[Can] 53\n",
       "\\item[Ceren] 33\n",
       "\\end{description*}\n"
      ],
      "text/markdown": [
       "Emre\n",
       ":   25Can\n",
       ":   53Ceren\n",
       ":   33\n",
       "\n"
      ],
      "text/plain": [
       " Emre   Can Ceren \n",
       "   25    53    33 "
      ]
     },
     "metadata": {},
     "output_type": "display_data"
    }
   ],
   "source": [
    "worker_age <- c(25, 53, 33)\n",
    "names(worker_age) <- c(\"Emre\", \"Can\", \"Ceren\")\n",
    "worker_age"
   ]
  },
  {
   "cell_type": "markdown",
   "metadata": {},
   "source": [
    "Print the vector without the names"
   ]
  },
  {
   "cell_type": "code",
   "execution_count": 9,
   "metadata": {},
   "outputs": [
    {
     "data": {
      "text/html": [
       "<ol class=list-inline>\n",
       "\t<li>25</li>\n",
       "\t<li>53</li>\n",
       "\t<li>33</li>\n",
       "</ol>\n"
      ],
      "text/latex": [
       "\\begin{enumerate*}\n",
       "\\item 25\n",
       "\\item 53\n",
       "\\item 33\n",
       "\\end{enumerate*}\n"
      ],
      "text/markdown": [
       "1. 25\n",
       "2. 53\n",
       "3. 33\n",
       "\n",
       "\n"
      ],
      "text/plain": [
       "[1] 25 53 33"
      ]
     },
     "metadata": {},
     "output_type": "display_data"
    },
    {
     "data": {
      "text/html": [
       "<dl class=dl-horizontal>\n",
       "\t<dt>Emre</dt>\n",
       "\t\t<dd>25</dd>\n",
       "\t<dt>Can</dt>\n",
       "\t\t<dd>53</dd>\n",
       "\t<dt>Ceren</dt>\n",
       "\t\t<dd>33</dd>\n",
       "</dl>\n"
      ],
      "text/latex": [
       "\\begin{description*}\n",
       "\\item[Emre] 25\n",
       "\\item[Can] 53\n",
       "\\item[Ceren] 33\n",
       "\\end{description*}\n"
      ],
      "text/markdown": [
       "Emre\n",
       ":   25Can\n",
       ":   53Ceren\n",
       ":   33\n",
       "\n"
      ],
      "text/plain": [
       " Emre   Can Ceren \n",
       "   25    53    33 "
      ]
     },
     "metadata": {},
     "output_type": "display_data"
    }
   ],
   "source": [
    "unname(worker_age)\n",
    "worker_age"
   ]
  },
  {
   "cell_type": "markdown",
   "metadata": {},
   "source": [
    "## Variable Naming\n",
    "\n",
    "Get info on c function"
   ]
  },
  {
   "cell_type": "code",
   "execution_count": 10,
   "metadata": {},
   "outputs": [],
   "source": [
    "?c"
   ]
  },
  {
   "cell_type": "markdown",
   "metadata": {},
   "source": [
    "Get the contents (code) of the c function"
   ]
  },
  {
   "cell_type": "code",
   "execution_count": 11,
   "metadata": {},
   "outputs": [
    {
     "data": {
      "text/html": [
       "<pre class=language-r><code>.Primitive(\"c\")</code></pre>"
      ],
      "text/latex": [
       "\\begin{minted}{r}\n",
       ".Primitive(\"c\")\n",
       "\\end{minted}"
      ],
      "text/markdown": [
       "```r\n",
       ".Primitive(\"c\")\n",
       "```"
      ],
      "text/plain": [
       "function (...)  .Primitive(\"c\")"
      ]
     },
     "metadata": {},
     "output_type": "display_data"
    }
   ],
   "source": [
    "c"
   ]
  },
  {
   "cell_type": "markdown",
   "metadata": {},
   "source": [
    "Create an object named \"c\" and assign an arbitrary value to it"
   ]
  },
  {
   "cell_type": "code",
   "execution_count": 12,
   "metadata": {},
   "outputs": [],
   "source": [
    "c <- 1"
   ]
  },
  {
   "cell_type": "markdown",
   "metadata": {},
   "source": [
    "Now try to get the contents (code) of the c function"
   ]
  },
  {
   "cell_type": "code",
   "execution_count": 13,
   "metadata": {},
   "outputs": [
    {
     "data": {
      "text/html": [
       "1"
      ],
      "text/latex": [
       "1"
      ],
      "text/markdown": [
       "1"
      ],
      "text/plain": [
       "[1] 1"
      ]
     },
     "metadata": {},
     "output_type": "display_data"
    }
   ],
   "source": [
    "c"
   ]
  },
  {
   "cell_type": "markdown",
   "metadata": {},
   "source": [
    "Now create a vector of numeric values 2 and 3 by using function c, w/o assignment"
   ]
  },
  {
   "cell_type": "code",
   "execution_count": 14,
   "metadata": {},
   "outputs": [
    {
     "data": {
      "text/html": [
       "<ol class=list-inline>\n",
       "\t<li>2</li>\n",
       "\t<li>3</li>\n",
       "</ol>\n"
      ],
      "text/latex": [
       "\\begin{enumerate*}\n",
       "\\item 2\n",
       "\\item 3\n",
       "\\end{enumerate*}\n"
      ],
      "text/markdown": [
       "1. 2\n",
       "2. 3\n",
       "\n",
       "\n"
      ],
      "text/plain": [
       "[1] 2 3"
      ]
     },
     "metadata": {},
     "output_type": "display_data"
    }
   ],
   "source": [
    "c(2, 3)"
   ]
  },
  {
   "cell_type": "markdown",
   "metadata": {},
   "source": [
    "See, when you create an object whose name coincides with a built-in function, the function still works, but you won't be able to see the inner workings of the function when needed and will create a confusion and inconvenience. For good R style, don't use built-in function names for your own objects"
   ]
  },
  {
   "cell_type": "markdown",
   "metadata": {},
   "source": [
    "## Indexing\n",
    "\n",
    "Create a vector worker_income with Emre=36000, Can=38500, Ceren=40700\n",
    "\n",
    "Get the values and class"
   ]
  },
  {
   "cell_type": "code",
   "execution_count": 15,
   "metadata": {},
   "outputs": [],
   "source": [
    "worker_income <- c(Emre = 36000, Can = 38500, Ceren = 40700)"
   ]
  },
  {
   "cell_type": "code",
   "execution_count": 16,
   "metadata": {},
   "outputs": [
    {
     "data": {
      "text/html": [
       "<dl class=dl-horizontal>\n",
       "\t<dt>Emre</dt>\n",
       "\t\t<dd>36000</dd>\n",
       "\t<dt>Can</dt>\n",
       "\t\t<dd>38500</dd>\n",
       "\t<dt>Ceren</dt>\n",
       "\t\t<dd>40700</dd>\n",
       "</dl>\n"
      ],
      "text/latex": [
       "\\begin{description*}\n",
       "\\item[Emre] 36000\n",
       "\\item[Can] 38500\n",
       "\\item[Ceren] 40700\n",
       "\\end{description*}\n"
      ],
      "text/markdown": [
       "Emre\n",
       ":   36000Can\n",
       ":   38500Ceren\n",
       ":   40700\n",
       "\n"
      ],
      "text/plain": [
       " Emre   Can Ceren \n",
       "36000 38500 40700 "
      ]
     },
     "metadata": {},
     "output_type": "display_data"
    }
   ],
   "source": [
    "worker_income"
   ]
  },
  {
   "cell_type": "code",
   "execution_count": 17,
   "metadata": {},
   "outputs": [
    {
     "data": {
      "text/html": [
       "'numeric'"
      ],
      "text/latex": [
       "'numeric'"
      ],
      "text/markdown": [
       "'numeric'"
      ],
      "text/plain": [
       "[1] \"numeric\""
      ]
     },
     "metadata": {},
     "output_type": "display_data"
    }
   ],
   "source": [
    "class(worker_income)"
   ]
  },
  {
   "cell_type": "markdown",
   "metadata": {},
   "source": [
    "Create a vector of values 2 and 3 by c() function, w/o assignment"
   ]
  },
  {
   "cell_type": "code",
   "execution_count": 18,
   "metadata": {},
   "outputs": [
    {
     "data": {
      "text/html": [
       "<ol class=list-inline>\n",
       "\t<li>2</li>\n",
       "\t<li>3</li>\n",
       "</ol>\n"
      ],
      "text/latex": [
       "\\begin{enumerate*}\n",
       "\\item 2\n",
       "\\item 3\n",
       "\\end{enumerate*}\n"
      ],
      "text/markdown": [
       "1. 2\n",
       "2. 3\n",
       "\n",
       "\n"
      ],
      "text/plain": [
       "[1] 2 3"
      ]
     },
     "metadata": {},
     "output_type": "display_data"
    }
   ],
   "source": [
    "c(2, 3)"
   ]
  },
  {
   "cell_type": "markdown",
   "metadata": {},
   "source": [
    "Create a vector of values from 2 to 3 by using the colon operator \":\", w/o"
   ]
  },
  {
   "cell_type": "code",
   "execution_count": 19,
   "metadata": {},
   "outputs": [
    {
     "data": {
      "text/html": [
       "<ol class=list-inline>\n",
       "\t<li>2</li>\n",
       "\t<li>3</li>\n",
       "</ol>\n"
      ],
      "text/latex": [
       "\\begin{enumerate*}\n",
       "\\item 2\n",
       "\\item 3\n",
       "\\end{enumerate*}\n"
      ],
      "text/markdown": [
       "1. 2\n",
       "2. 3\n",
       "\n",
       "\n"
      ],
      "text/plain": [
       "[1] 2 3"
      ]
     },
     "metadata": {},
     "output_type": "display_data"
    }
   ],
   "source": [
    "2:3"
   ]
  },
  {
   "cell_type": "markdown",
   "metadata": {},
   "source": [
    "Get information on the colon operator"
   ]
  },
  {
   "cell_type": "code",
   "execution_count": 20,
   "metadata": {},
   "outputs": [],
   "source": [
    "?\":\""
   ]
  },
  {
   "cell_type": "markdown",
   "metadata": {},
   "source": [
    "Create a vector of FALSE, TRUE and TRUE values, w/o assignment"
   ]
  },
  {
   "cell_type": "code",
   "execution_count": 21,
   "metadata": {},
   "outputs": [
    {
     "data": {
      "text/html": [
       "<ol class=list-inline>\n",
       "\t<li>FALSE</li>\n",
       "\t<li>TRUE</li>\n",
       "\t<li>TRUE</li>\n",
       "</ol>\n"
      ],
      "text/latex": [
       "\\begin{enumerate*}\n",
       "\\item FALSE\n",
       "\\item TRUE\n",
       "\\item TRUE\n",
       "\\end{enumerate*}\n"
      ],
      "text/markdown": [
       "1. FALSE\n",
       "2. TRUE\n",
       "3. TRUE\n",
       "\n",
       "\n"
      ],
      "text/plain": [
       "[1] FALSE  TRUE  TRUE"
      ]
     },
     "metadata": {},
     "output_type": "display_data"
    }
   ],
   "source": [
    "c(F, T, T)"
   ]
  },
  {
   "cell_type": "markdown",
   "metadata": {},
   "source": [
    "Get the ages of Can and Ceren by combining relevant indices using c function"
   ]
  },
  {
   "cell_type": "code",
   "execution_count": 22,
   "metadata": {},
   "outputs": [
    {
     "data": {
      "text/html": [
       "<dl class=dl-horizontal>\n",
       "\t<dt>Can</dt>\n",
       "\t\t<dd>53</dd>\n",
       "\t<dt>Ceren</dt>\n",
       "\t\t<dd>33</dd>\n",
       "</dl>\n"
      ],
      "text/latex": [
       "\\begin{description*}\n",
       "\\item[Can] 53\n",
       "\\item[Ceren] 33\n",
       "\\end{description*}\n"
      ],
      "text/markdown": [
       "Can\n",
       ":   53Ceren\n",
       ":   33\n",
       "\n"
      ],
      "text/plain": [
       "  Can Ceren \n",
       "   53    33 "
      ]
     },
     "metadata": {},
     "output_type": "display_data"
    }
   ],
   "source": [
    "worker_age[c(2, 3)]"
   ]
  },
  {
   "cell_type": "markdown",
   "metadata": {},
   "source": [
    "Get information on subsetting or extracting operator \"[\" "
   ]
  },
  {
   "cell_type": "code",
   "execution_count": null,
   "metadata": {},
   "outputs": [],
   "source": [
    "?\"[\""
   ]
  },
  {
   "cell_type": "markdown",
   "metadata": {},
   "source": [
    "Now assign the vector created by c(2,3) to indices_1 object"
   ]
  },
  {
   "cell_type": "code",
   "execution_count": 24,
   "metadata": {},
   "outputs": [],
   "source": [
    "indices_1 <- c(2, 3)"
   ]
  },
  {
   "cell_type": "markdown",
   "metadata": {},
   "source": [
    "Get the same values by using indices_1 vector"
   ]
  },
  {
   "cell_type": "code",
   "execution_count": 25,
   "metadata": {},
   "outputs": [
    {
     "data": {
      "text/html": [
       "<dl class=dl-horizontal>\n",
       "\t<dt>Can</dt>\n",
       "\t\t<dd>53</dd>\n",
       "\t<dt>Ceren</dt>\n",
       "\t\t<dd>33</dd>\n",
       "</dl>\n"
      ],
      "text/latex": [
       "\\begin{description*}\n",
       "\\item[Can] 53\n",
       "\\item[Ceren] 33\n",
       "\\end{description*}\n"
      ],
      "text/markdown": [
       "Can\n",
       ":   53Ceren\n",
       ":   33\n",
       "\n"
      ],
      "text/plain": [
       "  Can Ceren \n",
       "   53    33 "
      ]
     },
     "metadata": {},
     "output_type": "display_data"
    }
   ],
   "source": [
    "worker_age[indices_1]"
   ]
  },
  {
   "cell_type": "markdown",
   "metadata": {},
   "source": [
    "Get the ages of Can and Ceren by combining relevant indices using \":\" colon operator"
   ]
  },
  {
   "cell_type": "code",
   "execution_count": 26,
   "metadata": {},
   "outputs": [
    {
     "data": {
      "text/html": [
       "<dl class=dl-horizontal>\n",
       "\t<dt>Can</dt>\n",
       "\t\t<dd>53</dd>\n",
       "\t<dt>Ceren</dt>\n",
       "\t\t<dd>33</dd>\n",
       "</dl>\n"
      ],
      "text/latex": [
       "\\begin{description*}\n",
       "\\item[Can] 53\n",
       "\\item[Ceren] 33\n",
       "\\end{description*}\n"
      ],
      "text/markdown": [
       "Can\n",
       ":   53Ceren\n",
       ":   33\n",
       "\n"
      ],
      "text/plain": [
       "  Can Ceren \n",
       "   53    33 "
      ]
     },
     "metadata": {},
     "output_type": "display_data"
    }
   ],
   "source": [
    "worker_age[2:3]"
   ]
  },
  {
   "cell_type": "markdown",
   "metadata": {},
   "source": [
    "When the indices are consecutive or with same distances apart, you can use the colon operator to create a vector of indices"
   ]
  },
  {
   "cell_type": "markdown",
   "metadata": {},
   "source": [
    "Now assign 2:3 to indices_2 object"
   ]
  },
  {
   "cell_type": "code",
   "execution_count": 27,
   "metadata": {},
   "outputs": [],
   "source": [
    "indices_2 <- 2:3"
   ]
  },
  {
   "cell_type": "markdown",
   "metadata": {},
   "source": [
    "Get the ages using indices_2 object"
   ]
  },
  {
   "cell_type": "code",
   "execution_count": 28,
   "metadata": {},
   "outputs": [
    {
     "data": {
      "text/html": [
       "<dl class=dl-horizontal>\n",
       "\t<dt>Can</dt>\n",
       "\t\t<dd>53</dd>\n",
       "\t<dt>Ceren</dt>\n",
       "\t\t<dd>33</dd>\n",
       "</dl>\n"
      ],
      "text/latex": [
       "\\begin{description*}\n",
       "\\item[Can] 53\n",
       "\\item[Ceren] 33\n",
       "\\end{description*}\n"
      ],
      "text/markdown": [
       "Can\n",
       ":   53Ceren\n",
       ":   33\n",
       "\n"
      ],
      "text/plain": [
       "  Can Ceren \n",
       "   53    33 "
      ]
     },
     "metadata": {},
     "output_type": "display_data"
    }
   ],
   "source": [
    "worker_age[indices_2]"
   ]
  },
  {
   "cell_type": "markdown",
   "metadata": {},
   "source": [
    "Get the ages of Can and Ceren by using a boolean vector that says which items to include (T) or exclude (F)"
   ]
  },
  {
   "cell_type": "code",
   "execution_count": 29,
   "metadata": {},
   "outputs": [
    {
     "data": {
      "text/html": [
       "<dl class=dl-horizontal>\n",
       "\t<dt>Can</dt>\n",
       "\t\t<dd>53</dd>\n",
       "\t<dt>Ceren</dt>\n",
       "\t\t<dd>33</dd>\n",
       "</dl>\n"
      ],
      "text/latex": [
       "\\begin{description*}\n",
       "\\item[Can] 53\n",
       "\\item[Ceren] 33\n",
       "\\end{description*}\n"
      ],
      "text/markdown": [
       "Can\n",
       ":   53Ceren\n",
       ":   33\n",
       "\n"
      ],
      "text/plain": [
       "  Can Ceren \n",
       "   53    33 "
      ]
     },
     "metadata": {},
     "output_type": "display_data"
    }
   ],
   "source": [
    "worker_age[c(F, T, T)]"
   ]
  },
  {
   "cell_type": "markdown",
   "metadata": {},
   "source": [
    "Now assign the boolean vector to object bool_1"
   ]
  },
  {
   "cell_type": "code",
   "execution_count": 30,
   "metadata": {},
   "outputs": [],
   "source": [
    "bool_1 <- c(F, T, T)"
   ]
  },
  {
   "cell_type": "markdown",
   "metadata": {},
   "source": [
    "Get the ages using this boolean vector"
   ]
  },
  {
   "cell_type": "code",
   "execution_count": 31,
   "metadata": {},
   "outputs": [
    {
     "data": {
      "text/html": [
       "<dl class=dl-horizontal>\n",
       "\t<dt>Can</dt>\n",
       "\t\t<dd>53</dd>\n",
       "\t<dt>Ceren</dt>\n",
       "\t\t<dd>33</dd>\n",
       "</dl>\n"
      ],
      "text/latex": [
       "\\begin{description*}\n",
       "\\item[Can] 53\n",
       "\\item[Ceren] 33\n",
       "\\end{description*}\n"
      ],
      "text/markdown": [
       "Can\n",
       ":   53Ceren\n",
       ":   33\n",
       "\n"
      ],
      "text/plain": [
       "  Can Ceren \n",
       "   53    33 "
      ]
     },
     "metadata": {},
     "output_type": "display_data"
    }
   ],
   "source": [
    "worker_age[bool_1]"
   ]
  },
  {
   "cell_type": "markdown",
   "metadata": {},
   "source": [
    "Now subset the worker_age vector with just one TRUE value. Does it return only the first item?"
   ]
  },
  {
   "cell_type": "code",
   "execution_count": null,
   "metadata": {},
   "outputs": [],
   "source": [
    "worker_age[T]"
   ]
  },
  {
   "cell_type": "markdown",
   "metadata": {},
   "source": [
    "Why did it return the whole vector although we supplied a single logical value?\n",
    "<p></p>R automatically recycled the vector wtih single T value to the length of the worker_age vector.<p></p>Now subset it with all T logical values"
   ]
  },
  {
   "cell_type": "code",
   "execution_count": 32,
   "metadata": {},
   "outputs": [
    {
     "data": {
      "text/html": [
       "<dl class=dl-horizontal>\n",
       "\t<dt>Emre</dt>\n",
       "\t\t<dd>25</dd>\n",
       "\t<dt>Can</dt>\n",
       "\t\t<dd>53</dd>\n",
       "\t<dt>Ceren</dt>\n",
       "\t\t<dd>33</dd>\n",
       "</dl>\n"
      ],
      "text/latex": [
       "\\begin{description*}\n",
       "\\item[Emre] 25\n",
       "\\item[Can] 53\n",
       "\\item[Ceren] 33\n",
       "\\end{description*}\n"
      ],
      "text/markdown": [
       "Emre\n",
       ":   25Can\n",
       ":   53Ceren\n",
       ":   33\n",
       "\n"
      ],
      "text/plain": [
       " Emre   Can Ceren \n",
       "   25    53    33 "
      ]
     },
     "metadata": {},
     "output_type": "display_data"
    }
   ],
   "source": [
    "worker_age[c(T,T,T)]"
   ]
  },
  {
   "cell_type": "markdown",
   "metadata": {},
   "source": [
    "Now do the same thing but intentionally confuse [ with ("
   ]
  },
  {
   "cell_type": "code",
   "execution_count": 33,
   "metadata": {},
   "outputs": [
    {
     "ename": "ERROR",
     "evalue": "Error in eval(expr, envir, enclos): \"worker_age\" fonksiyonu bulunamadı\n",
     "output_type": "error",
     "traceback": [
      "Error in eval(expr, envir, enclos): \"worker_age\" fonksiyonu bulunamadı\nTraceback:\n"
     ]
    }
   ],
   "source": [
    "worker_age(c(T,T,T))"
   ]
  },
  {
   "cell_type": "markdown",
   "metadata": {},
   "source": [
    "Why? Because \"(\" must come after a function and there is no function named worker_age"
   ]
  },
  {
   "cell_type": "markdown",
   "metadata": {},
   "source": [
    "Now get the ages by using Can's and Ceren's names, w/o combining them with c"
   ]
  },
  {
   "cell_type": "code",
   "execution_count": 34,
   "metadata": {},
   "outputs": [
    {
     "ename": "ERROR",
     "evalue": "Error in worker_age[\"Can\", \"Ceren\"]: yanlış sayıda boyut\n",
     "output_type": "error",
     "traceback": [
      "Error in worker_age[\"Can\", \"Ceren\"]: yanlış sayıda boyut\nTraceback:\n"
     ]
    }
   ],
   "source": [
    "worker_age[\"Can\", \"Ceren\"]"
   ]
  },
  {
   "cell_type": "markdown",
   "metadata": {},
   "source": [
    "See, when the indices are not combined into an object (whether assigned or not), they are treated as separate arguments. And since a vector has only one dimension, the second argument gives an error"
   ]
  },
  {
   "cell_type": "markdown",
   "metadata": {},
   "source": [
    "Now get the ages using names, combining them with c"
   ]
  },
  {
   "cell_type": "code",
   "execution_count": 35,
   "metadata": {},
   "outputs": [
    {
     "data": {
      "text/html": [
       "<dl class=dl-horizontal>\n",
       "\t<dt>Can</dt>\n",
       "\t\t<dd>53</dd>\n",
       "\t<dt>Ceren</dt>\n",
       "\t\t<dd>33</dd>\n",
       "</dl>\n"
      ],
      "text/latex": [
       "\\begin{description*}\n",
       "\\item[Can] 53\n",
       "\\item[Ceren] 33\n",
       "\\end{description*}\n"
      ],
      "text/markdown": [
       "Can\n",
       ":   53Ceren\n",
       ":   33\n",
       "\n"
      ],
      "text/plain": [
       "  Can Ceren \n",
       "   53    33 "
      ]
     },
     "metadata": {},
     "output_type": "display_data"
    }
   ],
   "source": [
    "worker_age[c(\"Can\", \"Ceren\")]"
   ]
  },
  {
   "cell_type": "markdown",
   "metadata": {},
   "source": [
    "Now assign Can and Ceren names to a vector called names_1"
   ]
  },
  {
   "cell_type": "code",
   "execution_count": 36,
   "metadata": {},
   "outputs": [],
   "source": [
    "names_1 <- c(\"Can\", \"Ceren\")"
   ]
  },
  {
   "cell_type": "markdown",
   "metadata": {},
   "source": [
    "And get the ages using names_1 vector"
   ]
  },
  {
   "cell_type": "code",
   "execution_count": 37,
   "metadata": {},
   "outputs": [
    {
     "data": {
      "text/html": [
       "<dl class=dl-horizontal>\n",
       "\t<dt>Can</dt>\n",
       "\t\t<dd>53</dd>\n",
       "\t<dt>Ceren</dt>\n",
       "\t\t<dd>33</dd>\n",
       "</dl>\n"
      ],
      "text/latex": [
       "\\begin{description*}\n",
       "\\item[Can] 53\n",
       "\\item[Ceren] 33\n",
       "\\end{description*}\n"
      ],
      "text/markdown": [
       "Can\n",
       ":   53Ceren\n",
       ":   33\n",
       "\n"
      ],
      "text/plain": [
       "  Can Ceren \n",
       "   53    33 "
      ]
     },
     "metadata": {},
     "output_type": "display_data"
    }
   ],
   "source": [
    "worker_age[names_1]"
   ]
  },
  {
   "cell_type": "markdown",
   "metadata": {},
   "source": [
    "See, you can subset or extract items from a vector by multiple ways: A vector of indices, a vector of boolean/logical values, a vector of names (if the vector items are named)"
   ]
  },
  {
   "cell_type": "markdown",
   "metadata": {},
   "source": [
    "### Review: Classes\n",
    "\n",
    "Now get the classes of all vectors that we used for subsetting worker_age"
   ]
  },
  {
   "cell_type": "code",
   "execution_count": 38,
   "metadata": {},
   "outputs": [
    {
     "data": {
      "text/html": [
       "'numeric'"
      ],
      "text/latex": [
       "'numeric'"
      ],
      "text/markdown": [
       "'numeric'"
      ],
      "text/plain": [
       "[1] \"numeric\""
      ]
     },
     "metadata": {},
     "output_type": "display_data"
    }
   ],
   "source": [
    "class(indices_1)"
   ]
  },
  {
   "cell_type": "code",
   "execution_count": 39,
   "metadata": {},
   "outputs": [
    {
     "data": {
      "text/html": [
       "'integer'"
      ],
      "text/latex": [
       "'integer'"
      ],
      "text/markdown": [
       "'integer'"
      ],
      "text/plain": [
       "[1] \"integer\""
      ]
     },
     "metadata": {},
     "output_type": "display_data"
    }
   ],
   "source": [
    "class(indices_2)"
   ]
  },
  {
   "cell_type": "code",
   "execution_count": 40,
   "metadata": {},
   "outputs": [
    {
     "data": {
      "text/html": [
       "'logical'"
      ],
      "text/latex": [
       "'logical'"
      ],
      "text/markdown": [
       "'logical'"
      ],
      "text/plain": [
       "[1] \"logical\""
      ]
     },
     "metadata": {},
     "output_type": "display_data"
    }
   ],
   "source": [
    "class(bool_1)"
   ]
  },
  {
   "cell_type": "code",
   "execution_count": 41,
   "metadata": {},
   "outputs": [
    {
     "data": {
      "text/html": [
       "'character'"
      ],
      "text/latex": [
       "'character'"
      ],
      "text/markdown": [
       "'character'"
      ],
      "text/plain": [
       "[1] \"character\""
      ]
     },
     "metadata": {},
     "output_type": "display_data"
    }
   ],
   "source": [
    "class(names_1)"
   ]
  },
  {
   "cell_type": "markdown",
   "metadata": {},
   "source": [
    "See, c(2,3) creates a numeric object while 2:3 creates an integer object"
   ]
  },
  {
   "cell_type": "markdown",
   "metadata": {},
   "source": [
    "## Attributes\n",
    "\n",
    "Now list the names of the items in worker_age"
   ]
  },
  {
   "cell_type": "code",
   "execution_count": 42,
   "metadata": {},
   "outputs": [
    {
     "data": {
      "text/html": [
       "<ol class=list-inline>\n",
       "\t<li>'Emre'</li>\n",
       "\t<li>'Can'</li>\n",
       "\t<li>'Ceren'</li>\n",
       "</ol>\n"
      ],
      "text/latex": [
       "\\begin{enumerate*}\n",
       "\\item 'Emre'\n",
       "\\item 'Can'\n",
       "\\item 'Ceren'\n",
       "\\end{enumerate*}\n"
      ],
      "text/markdown": [
       "1. 'Emre'\n",
       "2. 'Can'\n",
       "3. 'Ceren'\n",
       "\n",
       "\n"
      ],
      "text/plain": [
       "[1] \"Emre\"  \"Can\"   \"Ceren\""
      ]
     },
     "metadata": {},
     "output_type": "display_data"
    }
   ],
   "source": [
    "names(worker_age)"
   ]
  },
  {
   "cell_type": "markdown",
   "metadata": {},
   "source": [
    "Now get all the attributes of worker_age"
   ]
  },
  {
   "cell_type": "code",
   "execution_count": 43,
   "metadata": {},
   "outputs": [
    {
     "data": {
      "text/html": [
       "<strong>$names</strong> = <ol class=list-inline>\n",
       "\t<li>'Emre'</li>\n",
       "\t<li>'Can'</li>\n",
       "\t<li>'Ceren'</li>\n",
       "</ol>\n"
      ],
      "text/latex": [
       "\\textbf{\\$names} = \\begin{enumerate*}\n",
       "\\item 'Emre'\n",
       "\\item 'Can'\n",
       "\\item 'Ceren'\n",
       "\\end{enumerate*}\n"
      ],
      "text/markdown": [
       "**$names** = 1. 'Emre'\n",
       "2. 'Can'\n",
       "3. 'Ceren'\n",
       "\n",
       "\n"
      ],
      "text/plain": [
       "$names\n",
       "[1] \"Emre\"  \"Can\"   \"Ceren\"\n"
      ]
     },
     "metadata": {},
     "output_type": "display_data"
    }
   ],
   "source": [
    "attributes(worker_age)"
   ]
  },
  {
   "cell_type": "markdown",
   "metadata": {},
   "source": [
    "See, our worker_age vector's only attribute is names of items"
   ]
  },
  {
   "cell_type": "markdown",
   "metadata": {},
   "source": [
    "Get info on attributes function"
   ]
  },
  {
   "cell_type": "code",
   "execution_count": null,
   "metadata": {},
   "outputs": [],
   "source": [
    "?attributes"
   ]
  },
  {
   "cell_type": "markdown",
   "metadata": {},
   "source": [
    "Get the length of worker_income object"
   ]
  },
  {
   "cell_type": "code",
   "execution_count": 44,
   "metadata": {},
   "outputs": [
    {
     "data": {
      "text/html": [
       "3"
      ],
      "text/latex": [
       "3"
      ],
      "text/markdown": [
       "3"
      ],
      "text/plain": [
       "[1] 3"
      ]
     },
     "metadata": {},
     "output_type": "display_data"
    }
   ],
   "source": [
    "length(worker_income)"
   ]
  },
  {
   "cell_type": "markdown",
   "metadata": {},
   "source": [
    "## Element Removal\n",
    "\n",
    "Show the worker_income object w/o Can's income"
   ]
  },
  {
   "cell_type": "code",
   "execution_count": 45,
   "metadata": {},
   "outputs": [
    {
     "data": {
      "text/html": [
       "<dl class=dl-horizontal>\n",
       "\t<dt>Emre</dt>\n",
       "\t\t<dd>36000</dd>\n",
       "\t<dt>Ceren</dt>\n",
       "\t\t<dd>40700</dd>\n",
       "</dl>\n"
      ],
      "text/latex": [
       "\\begin{description*}\n",
       "\\item[Emre] 36000\n",
       "\\item[Ceren] 40700\n",
       "\\end{description*}\n"
      ],
      "text/markdown": [
       "Emre\n",
       ":   36000Ceren\n",
       ":   40700\n",
       "\n"
      ],
      "text/plain": [
       " Emre Ceren \n",
       "36000 40700 "
      ]
     },
     "metadata": {},
     "output_type": "display_data"
    }
   ],
   "source": [
    "worker_income[-2]"
   ]
  },
  {
   "cell_type": "markdown",
   "metadata": {},
   "source": [
    "Check whether the worker_income object still has Can's income"
   ]
  },
  {
   "cell_type": "code",
   "execution_count": 46,
   "metadata": {},
   "outputs": [
    {
     "data": {
      "text/html": [
       "<dl class=dl-horizontal>\n",
       "\t<dt>Emre</dt>\n",
       "\t\t<dd>36000</dd>\n",
       "\t<dt>Can</dt>\n",
       "\t\t<dd>38500</dd>\n",
       "\t<dt>Ceren</dt>\n",
       "\t\t<dd>40700</dd>\n",
       "</dl>\n"
      ],
      "text/latex": [
       "\\begin{description*}\n",
       "\\item[Emre] 36000\n",
       "\\item[Can] 38500\n",
       "\\item[Ceren] 40700\n",
       "\\end{description*}\n"
      ],
      "text/markdown": [
       "Emre\n",
       ":   36000Can\n",
       ":   38500Ceren\n",
       ":   40700\n",
       "\n"
      ],
      "text/plain": [
       " Emre   Can Ceren \n",
       "36000 38500 40700 "
      ]
     },
     "metadata": {},
     "output_type": "display_data"
    }
   ],
   "source": [
    "worker_income"
   ]
  },
  {
   "cell_type": "markdown",
   "metadata": {},
   "source": [
    "See, unless we make an assignment back to the object, it is not updated. Without assignment, R objects are \"immutable\", unchangeable"
   ]
  },
  {
   "cell_type": "markdown",
   "metadata": {},
   "source": [
    "Now assign the worker_income vector without Can's income to worker_income_2"
   ]
  },
  {
   "cell_type": "code",
   "execution_count": 48,
   "metadata": {},
   "outputs": [],
   "source": [
    "worker_income_2 <- worker_income[-2]"
   ]
  },
  {
   "cell_type": "markdown",
   "metadata": {},
   "source": [
    "Check worker_income_2"
   ]
  },
  {
   "cell_type": "code",
   "execution_count": 49,
   "metadata": {},
   "outputs": [
    {
     "data": {
      "text/html": [
       "<dl class=dl-horizontal>\n",
       "\t<dt>Emre</dt>\n",
       "\t\t<dd>36000</dd>\n",
       "\t<dt>Ceren</dt>\n",
       "\t\t<dd>40700</dd>\n",
       "</dl>\n"
      ],
      "text/latex": [
       "\\begin{description*}\n",
       "\\item[Emre] 36000\n",
       "\\item[Ceren] 40700\n",
       "\\end{description*}\n"
      ],
      "text/markdown": [
       "Emre\n",
       ":   36000Ceren\n",
       ":   40700\n",
       "\n"
      ],
      "text/plain": [
       " Emre Ceren \n",
       "36000 40700 "
      ]
     },
     "metadata": {},
     "output_type": "display_data"
    }
   ],
   "source": [
    "worker_income_2"
   ]
  },
  {
   "cell_type": "markdown",
   "metadata": {},
   "source": [
    "New create a copy of worker_income object as worker_income_3"
   ]
  },
  {
   "cell_type": "code",
   "execution_count": 50,
   "metadata": {},
   "outputs": [],
   "source": [
    "worker_income_3 <- worker_income"
   ]
  },
  {
   "cell_type": "markdown",
   "metadata": {},
   "source": [
    "Now delete Can's income in worker_income_3 object by excluding the item. Check the vector"
   ]
  },
  {
   "cell_type": "code",
   "execution_count": 51,
   "metadata": {},
   "outputs": [],
   "source": [
    "worker_income_3 <- worker_income_3[-2]"
   ]
  },
  {
   "cell_type": "code",
   "execution_count": 52,
   "metadata": {},
   "outputs": [
    {
     "data": {
      "text/html": [
       "<dl class=dl-horizontal>\n",
       "\t<dt>Emre</dt>\n",
       "\t\t<dd>36000</dd>\n",
       "\t<dt>Ceren</dt>\n",
       "\t\t<dd>40700</dd>\n",
       "</dl>\n"
      ],
      "text/latex": [
       "\\begin{description*}\n",
       "\\item[Emre] 36000\n",
       "\\item[Ceren] 40700\n",
       "\\end{description*}\n"
      ],
      "text/markdown": [
       "Emre\n",
       ":   36000Ceren\n",
       ":   40700\n",
       "\n"
      ],
      "text/plain": [
       " Emre Ceren \n",
       "36000 40700 "
      ]
     },
     "metadata": {},
     "output_type": "display_data"
    }
   ],
   "source": [
    "worker_income_3"
   ]
  },
  {
   "cell_type": "markdown",
   "metadata": {},
   "source": [
    "Now repeat the same asignment and check the vector"
   ]
  },
  {
   "cell_type": "code",
   "execution_count": 53,
   "metadata": {},
   "outputs": [],
   "source": [
    "worker_income_3 <- worker_income_3[-2]"
   ]
  },
  {
   "cell_type": "code",
   "execution_count": 54,
   "metadata": {},
   "outputs": [
    {
     "data": {
      "text/html": [
       "<strong>Emre:</strong> 36000"
      ],
      "text/latex": [
       "\\textbf{Emre:} 36000"
      ],
      "text/markdown": [
       "**Emre:** 36000"
      ],
      "text/plain": [
       " Emre \n",
       "36000 "
      ]
     },
     "metadata": {},
     "output_type": "display_data"
    }
   ],
   "source": [
    "worker_income_3"
   ]
  },
  {
   "cell_type": "markdown",
   "metadata": {},
   "source": [
    "Update Emre's income to 39000 and check the vector"
   ]
  },
  {
   "cell_type": "code",
   "execution_count": 55,
   "metadata": {},
   "outputs": [
    {
     "data": {
      "text/html": [
       "<dl class=dl-horizontal>\n",
       "\t<dt>Emre</dt>\n",
       "\t\t<dd>39000</dd>\n",
       "\t<dt>Can</dt>\n",
       "\t\t<dd>38500</dd>\n",
       "\t<dt>Ceren</dt>\n",
       "\t\t<dd>40700</dd>\n",
       "</dl>\n"
      ],
      "text/latex": [
       "\\begin{description*}\n",
       "\\item[Emre] 39000\n",
       "\\item[Can] 38500\n",
       "\\item[Ceren] 40700\n",
       "\\end{description*}\n"
      ],
      "text/markdown": [
       "Emre\n",
       ":   39000Can\n",
       ":   38500Ceren\n",
       ":   40700\n",
       "\n"
      ],
      "text/plain": [
       " Emre   Can Ceren \n",
       "39000 38500 40700 "
      ]
     },
     "metadata": {},
     "output_type": "display_data"
    }
   ],
   "source": [
    "worker_income[1] <- 39000\n",
    "worker_income\n"
   ]
  },
  {
   "cell_type": "markdown",
   "metadata": {},
   "source": [
    "Append Selin's age which is 27 at second position of worker_age vector. Check the vector"
   ]
  },
  {
   "cell_type": "code",
   "execution_count": 56,
   "metadata": {},
   "outputs": [
    {
     "data": {
      "text/html": [
       "<dl class=dl-horizontal>\n",
       "\t<dt>Emre</dt>\n",
       "\t\t<dd>25</dd>\n",
       "\t<dt>Selin</dt>\n",
       "\t\t<dd>27</dd>\n",
       "\t<dt>Can</dt>\n",
       "\t\t<dd>53</dd>\n",
       "\t<dt>Ceren</dt>\n",
       "\t\t<dd>33</dd>\n",
       "</dl>\n"
      ],
      "text/latex": [
       "\\begin{description*}\n",
       "\\item[Emre] 25\n",
       "\\item[Selin] 27\n",
       "\\item[Can] 53\n",
       "\\item[Ceren] 33\n",
       "\\end{description*}\n"
      ],
      "text/markdown": [
       "Emre\n",
       ":   25Selin\n",
       ":   27Can\n",
       ":   53Ceren\n",
       ":   33\n",
       "\n"
      ],
      "text/plain": [
       " Emre Selin   Can Ceren \n",
       "   25    27    53    33 "
      ]
     },
     "metadata": {},
     "output_type": "display_data"
    }
   ],
   "source": [
    "worker_age <- c(worker_age[1], Selin=27, worker_age[2:3])\n",
    "worker_age"
   ]
  },
  {
   "cell_type": "markdown",
   "metadata": {},
   "source": [
    "Now create a copy of worker_age_2, append a new person with age 50 and name \"Naim\". Check the vector"
   ]
  },
  {
   "cell_type": "code",
   "execution_count": 59,
   "metadata": {},
   "outputs": [
    {
     "data": {
      "text/html": [
       "<dl class=dl-horizontal>\n",
       "\t<dt>Emre</dt>\n",
       "\t\t<dd>25</dd>\n",
       "\t<dt>Selin</dt>\n",
       "\t\t<dd>27</dd>\n",
       "\t<dt>Can</dt>\n",
       "\t\t<dd>53</dd>\n",
       "\t<dt>Ceren</dt>\n",
       "\t\t<dd>33</dd>\n",
       "\t<dt>Naim</dt>\n",
       "\t\t<dd>50</dd>\n",
       "</dl>\n"
      ],
      "text/latex": [
       "\\begin{description*}\n",
       "\\item[Emre] 25\n",
       "\\item[Selin] 27\n",
       "\\item[Can] 53\n",
       "\\item[Ceren] 33\n",
       "\\item[Naim] 50\n",
       "\\end{description*}\n"
      ],
      "text/markdown": [
       "Emre\n",
       ":   25Selin\n",
       ":   27Can\n",
       ":   53Ceren\n",
       ":   33Naim\n",
       ":   50\n",
       "\n"
      ],
      "text/plain": [
       " Emre Selin   Can Ceren  Naim \n",
       "   25    27    53    33    50 "
      ]
     },
     "metadata": {},
     "output_type": "display_data"
    }
   ],
   "source": [
    "worker_age_2 <- worker_age\n",
    "worker_age_2[5] <- 50\n",
    "names(worker_age_2)[5] <- \"Naim\"\n",
    "worker_age_2"
   ]
  },
  {
   "cell_type": "markdown",
   "metadata": {},
   "source": [
    "See, you can append an item to the end of the vector as if that item already exists and you update that value"
   ]
  },
  {
   "cell_type": "markdown",
   "metadata": {},
   "source": [
    "## Vector Filtering\n",
    "\n",
    "Create a vector of boolean/logical values for whether age values are smaller than 40"
   ]
  },
  {
   "cell_type": "code",
   "execution_count": 60,
   "metadata": {},
   "outputs": [
    {
     "data": {
      "text/html": [
       "<dl class=dl-horizontal>\n",
       "\t<dt>Emre</dt>\n",
       "\t\t<dd>TRUE</dd>\n",
       "\t<dt>Selin</dt>\n",
       "\t\t<dd>TRUE</dd>\n",
       "\t<dt>Can</dt>\n",
       "\t\t<dd>FALSE</dd>\n",
       "\t<dt>Ceren</dt>\n",
       "\t\t<dd>TRUE</dd>\n",
       "</dl>\n"
      ],
      "text/latex": [
       "\\begin{description*}\n",
       "\\item[Emre] TRUE\n",
       "\\item[Selin] TRUE\n",
       "\\item[Can] FALSE\n",
       "\\item[Ceren] TRUE\n",
       "\\end{description*}\n"
      ],
      "text/markdown": [
       "Emre\n",
       ":   TRUESelin\n",
       ":   TRUECan\n",
       ":   FALSECeren\n",
       ":   TRUE\n",
       "\n"
      ],
      "text/plain": [
       " Emre Selin   Can Ceren \n",
       " TRUE  TRUE FALSE  TRUE "
      ]
     },
     "metadata": {},
     "output_type": "display_data"
    }
   ],
   "source": [
    "worker_age < 40"
   ]
  },
  {
   "cell_type": "markdown",
   "metadata": {},
   "source": [
    "Get workers which are younger than 40"
   ]
  },
  {
   "cell_type": "code",
   "execution_count": 61,
   "metadata": {},
   "outputs": [
    {
     "data": {
      "text/html": [
       "<dl class=dl-horizontal>\n",
       "\t<dt>Emre</dt>\n",
       "\t\t<dd>25</dd>\n",
       "\t<dt>Selin</dt>\n",
       "\t\t<dd>27</dd>\n",
       "\t<dt>Ceren</dt>\n",
       "\t\t<dd>33</dd>\n",
       "</dl>\n"
      ],
      "text/latex": [
       "\\begin{description*}\n",
       "\\item[Emre] 25\n",
       "\\item[Selin] 27\n",
       "\\item[Ceren] 33\n",
       "\\end{description*}\n"
      ],
      "text/markdown": [
       "Emre\n",
       ":   25Selin\n",
       ":   27Ceren\n",
       ":   33\n",
       "\n"
      ],
      "text/plain": [
       " Emre Selin Ceren \n",
       "   25    27    33 "
      ]
     },
     "metadata": {},
     "output_type": "display_data"
    }
   ],
   "source": [
    "worker_age[worker_age < 40]"
   ]
  },
  {
   "cell_type": "markdown",
   "metadata": {},
   "source": [
    "Now assign the boolean values of \"worker_age > 40\" to object bool_1, and check the vector"
   ]
  },
  {
   "cell_type": "code",
   "execution_count": 62,
   "metadata": {},
   "outputs": [
    {
     "data": {
      "text/html": [
       "<dl class=dl-horizontal>\n",
       "\t<dt>Emre</dt>\n",
       "\t\t<dd>FALSE</dd>\n",
       "\t<dt>Selin</dt>\n",
       "\t\t<dd>FALSE</dd>\n",
       "\t<dt>Can</dt>\n",
       "\t\t<dd>TRUE</dd>\n",
       "\t<dt>Ceren</dt>\n",
       "\t\t<dd>TRUE</dd>\n",
       "</dl>\n"
      ],
      "text/latex": [
       "\\begin{description*}\n",
       "\\item[Emre] FALSE\n",
       "\\item[Selin] FALSE\n",
       "\\item[Can] TRUE\n",
       "\\item[Ceren] TRUE\n",
       "\\end{description*}\n"
      ],
      "text/markdown": [
       "Emre\n",
       ":   FALSESelin\n",
       ":   FALSECan\n",
       ":   TRUECeren\n",
       ":   TRUE\n",
       "\n"
      ],
      "text/plain": [
       " Emre Selin   Can Ceren \n",
       "FALSE FALSE  TRUE  TRUE "
      ]
     },
     "metadata": {},
     "output_type": "display_data"
    }
   ],
   "source": [
    "older_30 <- worker_age > 30\n",
    "older_30"
   ]
  },
  {
   "cell_type": "markdown",
   "metadata": {},
   "source": [
    "Now assign the boolean values of \"worker_age < 40\" to object bool_2, and check the vector"
   ]
  },
  {
   "cell_type": "code",
   "execution_count": 63,
   "metadata": {},
   "outputs": [
    {
     "data": {
      "text/html": [
       "<dl class=dl-horizontal>\n",
       "\t<dt>Emre</dt>\n",
       "\t\t<dd>TRUE</dd>\n",
       "\t<dt>Selin</dt>\n",
       "\t\t<dd>TRUE</dd>\n",
       "\t<dt>Can</dt>\n",
       "\t\t<dd>FALSE</dd>\n",
       "\t<dt>Ceren</dt>\n",
       "\t\t<dd>TRUE</dd>\n",
       "</dl>\n"
      ],
      "text/latex": [
       "\\begin{description*}\n",
       "\\item[Emre] TRUE\n",
       "\\item[Selin] TRUE\n",
       "\\item[Can] FALSE\n",
       "\\item[Ceren] TRUE\n",
       "\\end{description*}\n"
      ],
      "text/markdown": [
       "Emre\n",
       ":   TRUESelin\n",
       ":   TRUECan\n",
       ":   FALSECeren\n",
       ":   TRUE\n",
       "\n"
      ],
      "text/plain": [
       " Emre Selin   Can Ceren \n",
       " TRUE  TRUE FALSE  TRUE "
      ]
     },
     "metadata": {},
     "output_type": "display_data"
    }
   ],
   "source": [
    "younger_40 <- worker_age < 40\n",
    "younger_40"
   ]
  },
  {
   "cell_type": "markdown",
   "metadata": {},
   "source": [
    "Now get the workers older than 30"
   ]
  },
  {
   "cell_type": "code",
   "execution_count": 64,
   "metadata": {},
   "outputs": [
    {
     "data": {
      "text/html": [
       "<dl class=dl-horizontal>\n",
       "\t<dt>Can</dt>\n",
       "\t\t<dd>53</dd>\n",
       "\t<dt>Ceren</dt>\n",
       "\t\t<dd>33</dd>\n",
       "</dl>\n"
      ],
      "text/latex": [
       "\\begin{description*}\n",
       "\\item[Can] 53\n",
       "\\item[Ceren] 33\n",
       "\\end{description*}\n"
      ],
      "text/markdown": [
       "Can\n",
       ":   53Ceren\n",
       ":   33\n",
       "\n"
      ],
      "text/plain": [
       "  Can Ceren \n",
       "   53    33 "
      ]
     },
     "metadata": {},
     "output_type": "display_data"
    }
   ],
   "source": [
    "worker_age[older_30]"
   ]
  },
  {
   "cell_type": "markdown",
   "metadata": {},
   "source": [
    "Now get the workers younger than 40"
   ]
  },
  {
   "cell_type": "code",
   "execution_count": 65,
   "metadata": {},
   "outputs": [
    {
     "data": {
      "text/html": [
       "<dl class=dl-horizontal>\n",
       "\t<dt>Emre</dt>\n",
       "\t\t<dd>25</dd>\n",
       "\t<dt>Selin</dt>\n",
       "\t\t<dd>27</dd>\n",
       "\t<dt>Ceren</dt>\n",
       "\t\t<dd>33</dd>\n",
       "</dl>\n"
      ],
      "text/latex": [
       "\\begin{description*}\n",
       "\\item[Emre] 25\n",
       "\\item[Selin] 27\n",
       "\\item[Ceren] 33\n",
       "\\end{description*}\n"
      ],
      "text/markdown": [
       "Emre\n",
       ":   25Selin\n",
       ":   27Ceren\n",
       ":   33\n",
       "\n"
      ],
      "text/plain": [
       " Emre Selin Ceren \n",
       "   25    27    33 "
      ]
     },
     "metadata": {},
     "output_type": "display_data"
    }
   ],
   "source": [
    "worker_age[younger_40]"
   ]
  },
  {
   "cell_type": "markdown",
   "metadata": {},
   "source": [
    "### Boolean Operators\n",
    "\n",
    "**AND Operator (\" & \")**\n",
    "\n",
    "Find which workers younger than 40 and older than 30"
   ]
  },
  {
   "cell_type": "code",
   "execution_count": 66,
   "metadata": {
    "scrolled": false
   },
   "outputs": [
    {
     "data": {
      "text/html": [
       "<dl class=dl-horizontal>\n",
       "\t<dt>Emre</dt>\n",
       "\t\t<dd>FALSE</dd>\n",
       "\t<dt>Selin</dt>\n",
       "\t\t<dd>FALSE</dd>\n",
       "\t<dt>Can</dt>\n",
       "\t\t<dd>FALSE</dd>\n",
       "\t<dt>Ceren</dt>\n",
       "\t\t<dd>TRUE</dd>\n",
       "</dl>\n"
      ],
      "text/latex": [
       "\\begin{description*}\n",
       "\\item[Emre] FALSE\n",
       "\\item[Selin] FALSE\n",
       "\\item[Can] FALSE\n",
       "\\item[Ceren] TRUE\n",
       "\\end{description*}\n"
      ],
      "text/markdown": [
       "Emre\n",
       ":   FALSESelin\n",
       ":   FALSECan\n",
       ":   FALSECeren\n",
       ":   TRUE\n",
       "\n"
      ],
      "text/plain": [
       " Emre Selin   Can Ceren \n",
       "FALSE FALSE FALSE  TRUE "
      ]
     },
     "metadata": {},
     "output_type": "display_data"
    }
   ],
   "source": [
    "younger_40 & older_30"
   ]
  },
  {
   "cell_type": "code",
   "execution_count": 67,
   "metadata": {},
   "outputs": [
    {
     "data": {
      "text/html": [
       "<strong>Ceren:</strong> 33"
      ],
      "text/latex": [
       "\\textbf{Ceren:} 33"
      ],
      "text/markdown": [
       "**Ceren:** 33"
      ],
      "text/plain": [
       "Ceren \n",
       "   33 "
      ]
     },
     "metadata": {},
     "output_type": "display_data"
    }
   ],
   "source": [
    "worker_age[younger_40 & older_30]"
   ]
  },
  {
   "cell_type": "markdown",
   "metadata": {},
   "source": [
    "**Not Operator (\" ! \")**\n",
    "\n",
    "Find which workers are older than 40"
   ]
  },
  {
   "cell_type": "code",
   "execution_count": 68,
   "metadata": {},
   "outputs": [
    {
     "data": {
      "text/html": [
       "<dl class=dl-horizontal>\n",
       "\t<dt>Emre</dt>\n",
       "\t\t<dd>FALSE</dd>\n",
       "\t<dt>Selin</dt>\n",
       "\t\t<dd>FALSE</dd>\n",
       "\t<dt>Can</dt>\n",
       "\t\t<dd>TRUE</dd>\n",
       "\t<dt>Ceren</dt>\n",
       "\t\t<dd>FALSE</dd>\n",
       "</dl>\n"
      ],
      "text/latex": [
       "\\begin{description*}\n",
       "\\item[Emre] FALSE\n",
       "\\item[Selin] FALSE\n",
       "\\item[Can] TRUE\n",
       "\\item[Ceren] FALSE\n",
       "\\end{description*}\n"
      ],
      "text/markdown": [
       "Emre\n",
       ":   FALSESelin\n",
       ":   FALSECan\n",
       ":   TRUECeren\n",
       ":   FALSE\n",
       "\n"
      ],
      "text/plain": [
       " Emre Selin   Can Ceren \n",
       "FALSE FALSE  TRUE FALSE "
      ]
     },
     "metadata": {},
     "output_type": "display_data"
    }
   ],
   "source": [
    "! younger_40"
   ]
  },
  {
   "cell_type": "code",
   "execution_count": 69,
   "metadata": {},
   "outputs": [
    {
     "data": {
      "text/html": [
       "<strong>Can:</strong> 53"
      ],
      "text/latex": [
       "\\textbf{Can:} 53"
      ],
      "text/markdown": [
       "**Can:** 53"
      ],
      "text/plain": [
       "Can \n",
       " 53 "
      ]
     },
     "metadata": {},
     "output_type": "display_data"
    }
   ],
   "source": [
    "worker_age[! younger_40]"
   ]
  },
  {
   "cell_type": "markdown",
   "metadata": {},
   "source": [
    "**OR Operator (\" | \")**\n",
    "\n",
    "Find workers that are older than 40 and younger than 30"
   ]
  },
  {
   "cell_type": "code",
   "execution_count": 70,
   "metadata": {
    "scrolled": false
   },
   "outputs": [
    {
     "data": {
      "text/html": [
       "<dl class=dl-horizontal>\n",
       "\t<dt>Emre</dt>\n",
       "\t\t<dd>TRUE</dd>\n",
       "\t<dt>Selin</dt>\n",
       "\t\t<dd>TRUE</dd>\n",
       "\t<dt>Can</dt>\n",
       "\t\t<dd>TRUE</dd>\n",
       "\t<dt>Ceren</dt>\n",
       "\t\t<dd>FALSE</dd>\n",
       "</dl>\n"
      ],
      "text/latex": [
       "\\begin{description*}\n",
       "\\item[Emre] TRUE\n",
       "\\item[Selin] TRUE\n",
       "\\item[Can] TRUE\n",
       "\\item[Ceren] FALSE\n",
       "\\end{description*}\n"
      ],
      "text/markdown": [
       "Emre\n",
       ":   TRUESelin\n",
       ":   TRUECan\n",
       ":   TRUECeren\n",
       ":   FALSE\n",
       "\n"
      ],
      "text/plain": [
       " Emre Selin   Can Ceren \n",
       " TRUE  TRUE  TRUE FALSE "
      ]
     },
     "metadata": {},
     "output_type": "display_data"
    }
   ],
   "source": [
    "! younger_40 | ! older_30"
   ]
  },
  {
   "cell_type": "code",
   "execution_count": 71,
   "metadata": {},
   "outputs": [
    {
     "data": {
      "text/html": [
       "<dl class=dl-horizontal>\n",
       "\t<dt>Emre</dt>\n",
       "\t\t<dd>25</dd>\n",
       "\t<dt>Selin</dt>\n",
       "\t\t<dd>27</dd>\n",
       "\t<dt>Can</dt>\n",
       "\t\t<dd>53</dd>\n",
       "</dl>\n"
      ],
      "text/latex": [
       "\\begin{description*}\n",
       "\\item[Emre] 25\n",
       "\\item[Selin] 27\n",
       "\\item[Can] 53\n",
       "\\end{description*}\n"
      ],
      "text/markdown": [
       "Emre\n",
       ":   25Selin\n",
       ":   27Can\n",
       ":   53\n",
       "\n"
      ],
      "text/plain": [
       " Emre Selin   Can \n",
       "   25    27    53 "
      ]
     },
     "metadata": {},
     "output_type": "display_data"
    }
   ],
   "source": [
    "worker_age[! younger_40 | ! older_30]"
   ]
  },
  {
   "cell_type": "markdown",
   "metadata": {},
   "source": [
    "## Sorting\n",
    "\n",
    "Sort worker's income in ascending order"
   ]
  },
  {
   "cell_type": "code",
   "execution_count": 72,
   "metadata": {},
   "outputs": [
    {
     "data": {
      "text/html": [
       "<dl class=dl-horizontal>\n",
       "\t<dt>Can</dt>\n",
       "\t\t<dd>38500</dd>\n",
       "\t<dt>Emre</dt>\n",
       "\t\t<dd>39000</dd>\n",
       "\t<dt>Ceren</dt>\n",
       "\t\t<dd>40700</dd>\n",
       "</dl>\n"
      ],
      "text/latex": [
       "\\begin{description*}\n",
       "\\item[Can] 38500\n",
       "\\item[Emre] 39000\n",
       "\\item[Ceren] 40700\n",
       "\\end{description*}\n"
      ],
      "text/markdown": [
       "Can\n",
       ":   38500Emre\n",
       ":   39000Ceren\n",
       ":   40700\n",
       "\n"
      ],
      "text/plain": [
       "  Can  Emre Ceren \n",
       "38500 39000 40700 "
      ]
     },
     "metadata": {},
     "output_type": "display_data"
    }
   ],
   "source": [
    "sort(worker_income)"
   ]
  },
  {
   "cell_type": "markdown",
   "metadata": {},
   "source": [
    "See whether worker_income vector is sorted by that action"
   ]
  },
  {
   "cell_type": "code",
   "execution_count": 73,
   "metadata": {},
   "outputs": [
    {
     "data": {
      "text/html": [
       "<dl class=dl-horizontal>\n",
       "\t<dt>Emre</dt>\n",
       "\t\t<dd>39000</dd>\n",
       "\t<dt>Can</dt>\n",
       "\t\t<dd>38500</dd>\n",
       "\t<dt>Ceren</dt>\n",
       "\t\t<dd>40700</dd>\n",
       "</dl>\n"
      ],
      "text/latex": [
       "\\begin{description*}\n",
       "\\item[Emre] 39000\n",
       "\\item[Can] 38500\n",
       "\\item[Ceren] 40700\n",
       "\\end{description*}\n"
      ],
      "text/markdown": [
       "Emre\n",
       ":   39000Can\n",
       ":   38500Ceren\n",
       ":   40700\n",
       "\n"
      ],
      "text/plain": [
       " Emre   Can Ceren \n",
       "39000 38500 40700 "
      ]
     },
     "metadata": {},
     "output_type": "display_data"
    }
   ],
   "source": [
    "worker_income"
   ]
  },
  {
   "cell_type": "markdown",
   "metadata": {},
   "source": [
    "Unless you make an assignment to that object, they are \"immutable\", the actions do not alter the objects"
   ]
  },
  {
   "cell_type": "markdown",
   "metadata": {},
   "source": [
    "Sort worker's income in descending order"
   ]
  },
  {
   "cell_type": "markdown",
   "metadata": {},
   "source": [
    "Get information on sort function"
   ]
  },
  {
   "cell_type": "code",
   "execution_count": null,
   "metadata": {},
   "outputs": [],
   "source": [
    "?sort"
   ]
  },
  {
   "cell_type": "code",
   "execution_count": 74,
   "metadata": {},
   "outputs": [
    {
     "data": {
      "text/html": [
       "<dl class=dl-horizontal>\n",
       "\t<dt>Ceren</dt>\n",
       "\t\t<dd>40700</dd>\n",
       "\t<dt>Emre</dt>\n",
       "\t\t<dd>39000</dd>\n",
       "\t<dt>Can</dt>\n",
       "\t\t<dd>38500</dd>\n",
       "</dl>\n"
      ],
      "text/latex": [
       "\\begin{description*}\n",
       "\\item[Ceren] 40700\n",
       "\\item[Emre] 39000\n",
       "\\item[Can] 38500\n",
       "\\end{description*}\n"
      ],
      "text/markdown": [
       "Ceren\n",
       ":   40700Emre\n",
       ":   39000Can\n",
       ":   38500\n",
       "\n"
      ],
      "text/plain": [
       "Ceren  Emre   Can \n",
       "40700 39000 38500 "
      ]
     },
     "metadata": {},
     "output_type": "display_data"
    }
   ],
   "source": [
    "sort(worker_income, decreasing = TRUE)"
   ]
  },
  {
   "cell_type": "markdown",
   "metadata": {},
   "source": [
    "Now let's do something more demanding: <p></p>Increase by 10% the income of workers who have an income of less than 40000. Check the vector"
   ]
  },
  {
   "cell_type": "code",
   "execution_count": 75,
   "metadata": {},
   "outputs": [
    {
     "data": {
      "text/html": [
       "<dl class=dl-horizontal>\n",
       "\t<dt>Emre</dt>\n",
       "\t\t<dd>42900</dd>\n",
       "\t<dt>Can</dt>\n",
       "\t\t<dd>42350</dd>\n",
       "\t<dt>Ceren</dt>\n",
       "\t\t<dd>40700</dd>\n",
       "</dl>\n"
      ],
      "text/latex": [
       "\\begin{description*}\n",
       "\\item[Emre] 42900\n",
       "\\item[Can] 42350\n",
       "\\item[Ceren] 40700\n",
       "\\end{description*}\n"
      ],
      "text/markdown": [
       "Emre\n",
       ":   42900Can\n",
       ":   42350Ceren\n",
       ":   40700\n",
       "\n"
      ],
      "text/plain": [
       " Emre   Can Ceren \n",
       "42900 42350 40700 "
      ]
     },
     "metadata": {},
     "output_type": "display_data"
    }
   ],
   "source": [
    "worker_income[worker_income < 40000] <- worker_income[worker_income < 40000] * 1.1\n",
    "worker_income"
   ]
  },
  {
   "cell_type": "markdown",
   "metadata": {},
   "source": [
    "See the \"* 1.1\" operation is executed on all selected values (income less than 40K) at once. We do not have to iterate over each value. This is called \"vectorization\" and the power of R comes from vectorization"
   ]
  },
  {
   "cell_type": "markdown",
   "metadata": {},
   "source": [
    "## Order\n",
    "\n",
    "Remember worker_age vector again and get order of worker's ages"
   ]
  },
  {
   "cell_type": "code",
   "execution_count": 76,
   "metadata": {},
   "outputs": [
    {
     "data": {
      "text/html": [
       "<dl class=dl-horizontal>\n",
       "\t<dt>Emre</dt>\n",
       "\t\t<dd>25</dd>\n",
       "\t<dt>Selin</dt>\n",
       "\t\t<dd>27</dd>\n",
       "\t<dt>Can</dt>\n",
       "\t\t<dd>53</dd>\n",
       "\t<dt>Ceren</dt>\n",
       "\t\t<dd>33</dd>\n",
       "</dl>\n"
      ],
      "text/latex": [
       "\\begin{description*}\n",
       "\\item[Emre] 25\n",
       "\\item[Selin] 27\n",
       "\\item[Can] 53\n",
       "\\item[Ceren] 33\n",
       "\\end{description*}\n"
      ],
      "text/markdown": [
       "Emre\n",
       ":   25Selin\n",
       ":   27Can\n",
       ":   53Ceren\n",
       ":   33\n",
       "\n"
      ],
      "text/plain": [
       " Emre Selin   Can Ceren \n",
       "   25    27    53    33 "
      ]
     },
     "metadata": {},
     "output_type": "display_data"
    },
    {
     "data": {
      "text/html": [
       "<ol class=list-inline>\n",
       "\t<li>1</li>\n",
       "\t<li>2</li>\n",
       "\t<li>4</li>\n",
       "\t<li>3</li>\n",
       "</ol>\n"
      ],
      "text/latex": [
       "\\begin{enumerate*}\n",
       "\\item 1\n",
       "\\item 2\n",
       "\\item 4\n",
       "\\item 3\n",
       "\\end{enumerate*}\n"
      ],
      "text/markdown": [
       "1. 1\n",
       "2. 2\n",
       "3. 4\n",
       "4. 3\n",
       "\n",
       "\n"
      ],
      "text/plain": [
       "[1] 1 2 4 3"
      ]
     },
     "metadata": {},
     "output_type": "display_data"
    }
   ],
   "source": [
    "worker_age\n",
    "order(worker_age)"
   ]
  },
  {
   "cell_type": "markdown",
   "metadata": {},
   "source": [
    "What does this output mean? Get info on order function"
   ]
  },
  {
   "cell_type": "code",
   "execution_count": null,
   "metadata": {},
   "outputs": [],
   "source": [
    "?order"
   ]
  },
  {
   "cell_type": "markdown",
   "metadata": {},
   "source": [
    "Now delete Selin's age, remember age and income vector, get the order of ages again and sort incomes of workers by their age (why delete Selin?)"
   ]
  },
  {
   "cell_type": "code",
   "execution_count": 77,
   "metadata": {},
   "outputs": [
    {
     "data": {
      "text/html": [
       "<dl class=dl-horizontal>\n",
       "\t<dt>Emre</dt>\n",
       "\t\t<dd>25</dd>\n",
       "\t<dt>Can</dt>\n",
       "\t\t<dd>53</dd>\n",
       "\t<dt>Ceren</dt>\n",
       "\t\t<dd>33</dd>\n",
       "</dl>\n"
      ],
      "text/latex": [
       "\\begin{description*}\n",
       "\\item[Emre] 25\n",
       "\\item[Can] 53\n",
       "\\item[Ceren] 33\n",
       "\\end{description*}\n"
      ],
      "text/markdown": [
       "Emre\n",
       ":   25Can\n",
       ":   53Ceren\n",
       ":   33\n",
       "\n"
      ],
      "text/plain": [
       " Emre   Can Ceren \n",
       "   25    53    33 "
      ]
     },
     "metadata": {},
     "output_type": "display_data"
    },
    {
     "data": {
      "text/html": [
       "<dl class=dl-horizontal>\n",
       "\t<dt>Emre</dt>\n",
       "\t\t<dd>42900</dd>\n",
       "\t<dt>Can</dt>\n",
       "\t\t<dd>42350</dd>\n",
       "\t<dt>Ceren</dt>\n",
       "\t\t<dd>40700</dd>\n",
       "</dl>\n"
      ],
      "text/latex": [
       "\\begin{description*}\n",
       "\\item[Emre] 42900\n",
       "\\item[Can] 42350\n",
       "\\item[Ceren] 40700\n",
       "\\end{description*}\n"
      ],
      "text/markdown": [
       "Emre\n",
       ":   42900Can\n",
       ":   42350Ceren\n",
       ":   40700\n",
       "\n"
      ],
      "text/plain": [
       " Emre   Can Ceren \n",
       "42900 42350 40700 "
      ]
     },
     "metadata": {},
     "output_type": "display_data"
    },
    {
     "data": {
      "text/html": [
       "<ol class=list-inline>\n",
       "\t<li>1</li>\n",
       "\t<li>3</li>\n",
       "\t<li>2</li>\n",
       "</ol>\n"
      ],
      "text/latex": [
       "\\begin{enumerate*}\n",
       "\\item 1\n",
       "\\item 3\n",
       "\\item 2\n",
       "\\end{enumerate*}\n"
      ],
      "text/markdown": [
       "1. 1\n",
       "2. 3\n",
       "3. 2\n",
       "\n",
       "\n"
      ],
      "text/plain": [
       "[1] 1 3 2"
      ]
     },
     "metadata": {},
     "output_type": "display_data"
    },
    {
     "data": {
      "text/html": [
       "<dl class=dl-horizontal>\n",
       "\t<dt>Emre</dt>\n",
       "\t\t<dd>42900</dd>\n",
       "\t<dt>Ceren</dt>\n",
       "\t\t<dd>40700</dd>\n",
       "\t<dt>Can</dt>\n",
       "\t\t<dd>42350</dd>\n",
       "</dl>\n"
      ],
      "text/latex": [
       "\\begin{description*}\n",
       "\\item[Emre] 42900\n",
       "\\item[Ceren] 40700\n",
       "\\item[Can] 42350\n",
       "\\end{description*}\n"
      ],
      "text/markdown": [
       "Emre\n",
       ":   42900Ceren\n",
       ":   40700Can\n",
       ":   42350\n",
       "\n"
      ],
      "text/plain": [
       " Emre Ceren   Can \n",
       "42900 40700 42350 "
      ]
     },
     "metadata": {},
     "output_type": "display_data"
    }
   ],
   "source": [
    "worker_age <- worker_age[-2]\n",
    "worker_age\n",
    "worker_income\n",
    "order(worker_age)\n",
    "worker_income[order(worker_age)]"
   ]
  },
  {
   "cell_type": "markdown",
   "metadata": {},
   "source": [
    "Now do the sort in descending order of ages"
   ]
  },
  {
   "cell_type": "code",
   "execution_count": null,
   "metadata": {},
   "outputs": [],
   "source": [
    "worker_income[order(-worker_age)]"
   ]
  },
  {
   "cell_type": "markdown",
   "metadata": {},
   "source": [
    "Create a monthly_income vector, check the vector"
   ]
  },
  {
   "cell_type": "code",
   "execution_count": 78,
   "metadata": {},
   "outputs": [
    {
     "data": {
      "text/html": [
       "<dl class=dl-horizontal>\n",
       "\t<dt>Emre</dt>\n",
       "\t\t<dd>3575</dd>\n",
       "\t<dt>Can</dt>\n",
       "\t\t<dd>3529.16666666667</dd>\n",
       "\t<dt>Ceren</dt>\n",
       "\t\t<dd>3391.66666666667</dd>\n",
       "</dl>\n"
      ],
      "text/latex": [
       "\\begin{description*}\n",
       "\\item[Emre] 3575\n",
       "\\item[Can] 3529.16666666667\n",
       "\\item[Ceren] 3391.66666666667\n",
       "\\end{description*}\n"
      ],
      "text/markdown": [
       "Emre\n",
       ":   3575Can\n",
       ":   3529.16666666667Ceren\n",
       ":   3391.66666666667\n",
       "\n"
      ],
      "text/plain": [
       "    Emre      Can    Ceren \n",
       "3575.000 3529.167 3391.667 "
      ]
     },
     "metadata": {},
     "output_type": "display_data"
    }
   ],
   "source": [
    "monthly_income <- worker_income / 12\n",
    "monthly_income"
   ]
  },
  {
   "cell_type": "markdown",
   "metadata": {},
   "source": [
    "### Some Math Operations\n",
    "\n",
    "Round the values in monthly_income (to closest integer)"
   ]
  },
  {
   "cell_type": "code",
   "execution_count": 79,
   "metadata": {},
   "outputs": [
    {
     "data": {
      "text/html": [
       "<dl class=dl-horizontal>\n",
       "\t<dt>Emre</dt>\n",
       "\t\t<dd>3575</dd>\n",
       "\t<dt>Can</dt>\n",
       "\t\t<dd>3529</dd>\n",
       "\t<dt>Ceren</dt>\n",
       "\t\t<dd>3392</dd>\n",
       "</dl>\n"
      ],
      "text/latex": [
       "\\begin{description*}\n",
       "\\item[Emre] 3575\n",
       "\\item[Can] 3529\n",
       "\\item[Ceren] 3392\n",
       "\\end{description*}\n"
      ],
      "text/markdown": [
       "Emre\n",
       ":   3575Can\n",
       ":   3529Ceren\n",
       ":   3392\n",
       "\n"
      ],
      "text/plain": [
       " Emre   Can Ceren \n",
       " 3575  3529  3392 "
      ]
     },
     "metadata": {},
     "output_type": "display_data"
    }
   ],
   "source": [
    "round(monthly_income)"
   ]
  },
  {
   "cell_type": "markdown",
   "metadata": {},
   "source": [
    "Round down monthly_income values"
   ]
  },
  {
   "cell_type": "code",
   "execution_count": 80,
   "metadata": {},
   "outputs": [
    {
     "data": {
      "text/html": [
       "<dl class=dl-horizontal>\n",
       "\t<dt>Emre</dt>\n",
       "\t\t<dd>3575</dd>\n",
       "\t<dt>Can</dt>\n",
       "\t\t<dd>3529</dd>\n",
       "\t<dt>Ceren</dt>\n",
       "\t\t<dd>3391</dd>\n",
       "</dl>\n"
      ],
      "text/latex": [
       "\\begin{description*}\n",
       "\\item[Emre] 3575\n",
       "\\item[Can] 3529\n",
       "\\item[Ceren] 3391\n",
       "\\end{description*}\n"
      ],
      "text/markdown": [
       "Emre\n",
       ":   3575Can\n",
       ":   3529Ceren\n",
       ":   3391\n",
       "\n"
      ],
      "text/plain": [
       " Emre   Can Ceren \n",
       " 3575  3529  3391 "
      ]
     },
     "metadata": {},
     "output_type": "display_data"
    }
   ],
   "source": [
    "floor(monthly_income)"
   ]
  },
  {
   "cell_type": "markdown",
   "metadata": {},
   "source": [
    "Round up monthly_income values"
   ]
  },
  {
   "cell_type": "code",
   "execution_count": null,
   "metadata": {},
   "outputs": [],
   "source": [
    "ceiling(monthly_income)"
   ]
  },
  {
   "cell_type": "markdown",
   "metadata": {},
   "source": [
    "Find the average monthly income"
   ]
  },
  {
   "cell_type": "code",
   "execution_count": 81,
   "metadata": {},
   "outputs": [
    {
     "data": {
      "text/html": [
       "3498.61111111111"
      ],
      "text/latex": [
       "3498.61111111111"
      ],
      "text/markdown": [
       "3498.61111111111"
      ],
      "text/plain": [
       "[1] 3498.611"
      ]
     },
     "metadata": {},
     "output_type": "display_data"
    }
   ],
   "source": [
    "mean(monthly_income)"
   ]
  },
  {
   "cell_type": "markdown",
   "metadata": {},
   "source": [
    "## Rank\n",
    "\n",
    "Create a vector named sample_1 which has randomly selected 10 numbers between 1 and 20 (without repetition). Check the vector"
   ]
  },
  {
   "cell_type": "code",
   "execution_count": null,
   "metadata": {},
   "outputs": [],
   "source": [
    "sample_1 <- sample(20, 10)\n",
    "sample_1\n",
    "\n",
    "?sample"
   ]
  },
  {
   "cell_type": "markdown",
   "metadata": {},
   "source": [
    "Now first get the order of items and the rank of items. Are they different? Why?"
   ]
  },
  {
   "cell_type": "code",
   "execution_count": null,
   "metadata": {},
   "outputs": [],
   "source": [
    "order(sample_1)"
   ]
  },
  {
   "cell_type": "code",
   "execution_count": null,
   "metadata": {},
   "outputs": [],
   "source": [
    "rank(sample_1)"
   ]
  },
  {
   "cell_type": "markdown",
   "metadata": {},
   "source": [
    "Get information on rank function"
   ]
  },
  {
   "cell_type": "code",
   "execution_count": null,
   "metadata": {},
   "outputs": [],
   "source": [
    "?rank"
   ]
  },
  {
   "cell_type": "markdown",
   "metadata": {},
   "source": [
    "Order gives the indices of items so that if we pick the items in that order they will be sorted <p></p> Rank gives the rank of each item if the vector were sorted"
   ]
  },
  {
   "cell_type": "markdown",
   "metadata": {},
   "source": [
    "## Coercion\n",
    "\n",
    "Create a vector of integer values 1 to 10 and assign to vector_1. Get the values and class"
   ]
  },
  {
   "cell_type": "code",
   "execution_count": 82,
   "metadata": {},
   "outputs": [
    {
     "data": {
      "text/html": [
       "<ol class=list-inline>\n",
       "\t<li>1</li>\n",
       "\t<li>2</li>\n",
       "\t<li>3</li>\n",
       "\t<li>4</li>\n",
       "\t<li>5</li>\n",
       "\t<li>6</li>\n",
       "\t<li>7</li>\n",
       "\t<li>8</li>\n",
       "\t<li>9</li>\n",
       "\t<li>10</li>\n",
       "</ol>\n"
      ],
      "text/latex": [
       "\\begin{enumerate*}\n",
       "\\item 1\n",
       "\\item 2\n",
       "\\item 3\n",
       "\\item 4\n",
       "\\item 5\n",
       "\\item 6\n",
       "\\item 7\n",
       "\\item 8\n",
       "\\item 9\n",
       "\\item 10\n",
       "\\end{enumerate*}\n"
      ],
      "text/markdown": [
       "1. 1\n",
       "2. 2\n",
       "3. 3\n",
       "4. 4\n",
       "5. 5\n",
       "6. 6\n",
       "7. 7\n",
       "8. 8\n",
       "9. 9\n",
       "10. 10\n",
       "\n",
       "\n"
      ],
      "text/plain": [
       " [1]  1  2  3  4  5  6  7  8  9 10"
      ]
     },
     "metadata": {},
     "output_type": "display_data"
    },
    {
     "data": {
      "text/html": [
       "'integer'"
      ],
      "text/latex": [
       "'integer'"
      ],
      "text/markdown": [
       "'integer'"
      ],
      "text/plain": [
       "[1] \"integer\""
      ]
     },
     "metadata": {},
     "output_type": "display_data"
    }
   ],
   "source": [
    "vector_1 <- 1:10\n",
    "vector_1\n",
    "class(vector_1)"
   ]
  },
  {
   "cell_type": "markdown",
   "metadata": {},
   "source": [
    "Now update 2nd item to string \"cmpe\". Get the vector again and its class"
   ]
  },
  {
   "cell_type": "code",
   "execution_count": 85,
   "metadata": {},
   "outputs": [
    {
     "data": {
      "text/html": [
       "<ol class=list-inline>\n",
       "\t<li>'1'</li>\n",
       "\t<li>'cmpe'</li>\n",
       "\t<li>'3'</li>\n",
       "\t<li>'4'</li>\n",
       "\t<li>'5'</li>\n",
       "\t<li>'6'</li>\n",
       "\t<li>'7'</li>\n",
       "\t<li>'8'</li>\n",
       "\t<li>'9'</li>\n",
       "\t<li>'10'</li>\n",
       "</ol>\n"
      ],
      "text/latex": [
       "\\begin{enumerate*}\n",
       "\\item '1'\n",
       "\\item 'cmpe'\n",
       "\\item '3'\n",
       "\\item '4'\n",
       "\\item '5'\n",
       "\\item '6'\n",
       "\\item '7'\n",
       "\\item '8'\n",
       "\\item '9'\n",
       "\\item '10'\n",
       "\\end{enumerate*}\n"
      ],
      "text/markdown": [
       "1. '1'\n",
       "2. 'cmpe'\n",
       "3. '3'\n",
       "4. '4'\n",
       "5. '5'\n",
       "6. '6'\n",
       "7. '7'\n",
       "8. '8'\n",
       "9. '9'\n",
       "10. '10'\n",
       "\n",
       "\n"
      ],
      "text/plain": [
       " [1] \"1\"    \"cmpe\" \"3\"    \"4\"    \"5\"    \"6\"    \"7\"    \"8\"    \"9\"    \"10\"  "
      ]
     },
     "metadata": {},
     "output_type": "display_data"
    },
    {
     "data": {
      "text/html": [
       "'character'"
      ],
      "text/latex": [
       "'character'"
      ],
      "text/markdown": [
       "'character'"
      ],
      "text/plain": [
       "[1] \"character\""
      ]
     },
     "metadata": {},
     "output_type": "display_data"
    },
    {
     "data": {
      "text/html": [
       "<ol class=list-inline>\n",
       "\t<li>'1'</li>\n",
       "\t<li>'2'</li>\n",
       "\t<li>'3'</li>\n",
       "\t<li>'4'</li>\n",
       "\t<li>'5'</li>\n",
       "\t<li>'6'</li>\n",
       "\t<li>'7'</li>\n",
       "\t<li>'8'</li>\n",
       "\t<li>'9'</li>\n",
       "\t<li>'10'</li>\n",
       "</ol>\n"
      ],
      "text/latex": [
       "\\begin{enumerate*}\n",
       "\\item '1'\n",
       "\\item '2'\n",
       "\\item '3'\n",
       "\\item '4'\n",
       "\\item '5'\n",
       "\\item '6'\n",
       "\\item '7'\n",
       "\\item '8'\n",
       "\\item '9'\n",
       "\\item '10'\n",
       "\\end{enumerate*}\n"
      ],
      "text/markdown": [
       "1. '1'\n",
       "2. '2'\n",
       "3. '3'\n",
       "4. '4'\n",
       "5. '5'\n",
       "6. '6'\n",
       "7. '7'\n",
       "8. '8'\n",
       "9. '9'\n",
       "10. '10'\n",
       "\n",
       "\n"
      ],
      "text/plain": [
       " [1] \"1\"  \"2\"  \"3\"  \"4\"  \"5\"  \"6\"  \"7\"  \"8\"  \"9\"  \"10\""
      ]
     },
     "metadata": {},
     "output_type": "display_data"
    }
   ],
   "source": [
    "vector_1[2] <- 'cmpe'\n",
    "vector_1\n",
    "class(vector_1)\n",
    "\n",
    "vector_1[2] <- 2\n",
    "vector_1"
   ]
  },
  {
   "cell_type": "markdown",
   "metadata": {},
   "source": [
    "A vector is an object that hold the values of the same type. And its type is dynamic: As the vector is updated with values of other types, the type/class of whole vector is changed: When only one value is changed to a character, the whole vector is \"coerced\" into a character vector"
   ]
  },
  {
   "cell_type": "markdown",
   "metadata": {},
   "source": [
    "Now create a vector of lower case letters a to e and assign to vector_2. Check the vector and its class"
   ]
  },
  {
   "cell_type": "code",
   "execution_count": 86,
   "metadata": {},
   "outputs": [
    {
     "data": {
      "text/html": [
       "<ol class=list-inline>\n",
       "\t<li>'a'</li>\n",
       "\t<li>'b'</li>\n",
       "\t<li>'c'</li>\n",
       "\t<li>'d'</li>\n",
       "\t<li>'e'</li>\n",
       "</ol>\n"
      ],
      "text/latex": [
       "\\begin{enumerate*}\n",
       "\\item 'a'\n",
       "\\item 'b'\n",
       "\\item 'c'\n",
       "\\item 'd'\n",
       "\\item 'e'\n",
       "\\end{enumerate*}\n"
      ],
      "text/markdown": [
       "1. 'a'\n",
       "2. 'b'\n",
       "3. 'c'\n",
       "4. 'd'\n",
       "5. 'e'\n",
       "\n",
       "\n"
      ],
      "text/plain": [
       "[1] \"a\" \"b\" \"c\" \"d\" \"e\""
      ]
     },
     "metadata": {},
     "output_type": "display_data"
    },
    {
     "data": {
      "text/html": [
       "'character'"
      ],
      "text/latex": [
       "'character'"
      ],
      "text/markdown": [
       "'character'"
      ],
      "text/plain": [
       "[1] \"character\""
      ]
     },
     "metadata": {},
     "output_type": "display_data"
    }
   ],
   "source": [
    "vector_2 <- letters[1:5]\n",
    "vector_2\n",
    "class(vector_2)"
   ]
  },
  {
   "cell_type": "markdown",
   "metadata": {},
   "source": [
    "Now assign number 1 to 2nd item. Check the vector again and its class"
   ]
  },
  {
   "cell_type": "code",
   "execution_count": 87,
   "metadata": {},
   "outputs": [
    {
     "data": {
      "text/html": [
       "<ol class=list-inline>\n",
       "\t<li>'a'</li>\n",
       "\t<li>'1'</li>\n",
       "\t<li>'c'</li>\n",
       "\t<li>'d'</li>\n",
       "\t<li>'e'</li>\n",
       "</ol>\n"
      ],
      "text/latex": [
       "\\begin{enumerate*}\n",
       "\\item 'a'\n",
       "\\item '1'\n",
       "\\item 'c'\n",
       "\\item 'd'\n",
       "\\item 'e'\n",
       "\\end{enumerate*}\n"
      ],
      "text/markdown": [
       "1. 'a'\n",
       "2. '1'\n",
       "3. 'c'\n",
       "4. 'd'\n",
       "5. 'e'\n",
       "\n",
       "\n"
      ],
      "text/plain": [
       "[1] \"a\" \"1\" \"c\" \"d\" \"e\""
      ]
     },
     "metadata": {},
     "output_type": "display_data"
    },
    {
     "data": {
      "text/html": [
       "'character'"
      ],
      "text/latex": [
       "'character'"
      ],
      "text/markdown": [
       "'character'"
      ],
      "text/plain": [
       "[1] \"character\""
      ]
     },
     "metadata": {},
     "output_type": "display_data"
    }
   ],
   "source": [
    "vector_2[2] <- 1\n",
    "vector_2\n",
    "class(vector_2)"
   ]
  },
  {
   "cell_type": "markdown",
   "metadata": {},
   "source": [
    "See, a number can act as a character but a character cannot act as a number. So the class of vector stays as character, it is not coerced into numeric after the assignment"
   ]
  },
  {
   "cell_type": "markdown",
   "metadata": {},
   "source": [
    "## Sample\n",
    "\n",
    "First create a vector of values selected from 1 to 20 and with a random length, assign it to object sample_1\n",
    "\n",
    "1. get the last item of that vector\n",
    "2. get all but the last item of that vector\n",
    "\n",
    "Note that, you don't know the index of the last item before hand!"
   ]
  },
  {
   "cell_type": "code",
   "execution_count": 88,
   "metadata": {},
   "outputs": [],
   "source": [
    "sample_1 <- sample(20, sample(20, 1))"
   ]
  },
  {
   "cell_type": "code",
   "execution_count": 89,
   "metadata": {},
   "outputs": [
    {
     "data": {
      "text/html": [
       "10"
      ],
      "text/latex": [
       "10"
      ],
      "text/markdown": [
       "10"
      ],
      "text/plain": [
       "[1] 10"
      ]
     },
     "metadata": {},
     "output_type": "display_data"
    }
   ],
   "source": [
    "sample_1[length(sample_1)]"
   ]
  },
  {
   "cell_type": "code",
   "execution_count": 90,
   "metadata": {},
   "outputs": [
    {
     "data": {
      "text/html": [
       "<ol class=list-inline>\n",
       "\t<li>6</li>\n",
       "\t<li>7</li>\n",
       "\t<li>16</li>\n",
       "\t<li>15</li>\n",
       "\t<li>5</li>\n",
       "\t<li>2</li>\n",
       "\t<li>19</li>\n",
       "\t<li>17</li>\n",
       "\t<li>14</li>\n",
       "\t<li>4</li>\n",
       "\t<li>13</li>\n",
       "\t<li>8</li>\n",
       "</ol>\n"
      ],
      "text/latex": [
       "\\begin{enumerate*}\n",
       "\\item 6\n",
       "\\item 7\n",
       "\\item 16\n",
       "\\item 15\n",
       "\\item 5\n",
       "\\item 2\n",
       "\\item 19\n",
       "\\item 17\n",
       "\\item 14\n",
       "\\item 4\n",
       "\\item 13\n",
       "\\item 8\n",
       "\\end{enumerate*}\n"
      ],
      "text/markdown": [
       "1. 6\n",
       "2. 7\n",
       "3. 16\n",
       "4. 15\n",
       "5. 5\n",
       "6. 2\n",
       "7. 19\n",
       "8. 17\n",
       "9. 14\n",
       "10. 4\n",
       "11. 13\n",
       "12. 8\n",
       "\n",
       "\n"
      ],
      "text/plain": [
       " [1]  6  7 16 15  5  2 19 17 14  4 13  8"
      ]
     },
     "metadata": {},
     "output_type": "display_data"
    }
   ],
   "source": [
    "sample_1[-length(sample_1)]"
   ]
  },
  {
   "cell_type": "markdown",
   "metadata": {},
   "source": [
    "Get info on sample function"
   ]
  },
  {
   "cell_type": "code",
   "execution_count": null,
   "metadata": {},
   "outputs": [],
   "source": [
    "?sample"
   ]
  }
 ],
 "metadata": {
  "kernelspec": {
   "display_name": "R",
   "language": "R",
   "name": "ir"
  },
  "language_info": {
   "codemirror_mode": "r",
   "file_extension": ".r",
   "mimetype": "text/x-r-source",
   "name": "R",
   "pygments_lexer": "r",
   "version": "3.3.2"
  }
 },
 "nbformat": 4,
 "nbformat_minor": 2
}
