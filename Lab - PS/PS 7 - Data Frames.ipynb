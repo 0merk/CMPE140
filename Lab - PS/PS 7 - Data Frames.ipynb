{
 "cells": [
  {
   "cell_type": "markdown",
   "metadata": {},
   "source": [
    "**DATA FRAMES**"
   ]
  },
  {
   "cell_type": "markdown",
   "metadata": {},
   "source": [
    "A \"data frame\" is a special type of list that has equally sized vectors - that may be of different types - as items \n",
    "\n",
    "Now let's create some vectors of equal length and of different types"
   ]
  },
  {
   "cell_type": "code",
   "execution_count": 1,
   "metadata": {},
   "outputs": [
    {
     "data": {
      "text/html": [
       "<ol class=list-inline>\n",
       "\t<li>'Ian G.'</li>\n",
       "\t<li>'Ritchie'</li>\n",
       "\t<li>'Ian P.'</li>\n",
       "\t<li>'Roger'</li>\n",
       "\t<li>'Jon'</li>\n",
       "\t<li>'Steve'</li>\n",
       "\t<li>'Don'</li>\n",
       "\t<li>'David'</li>\n",
       "</ol>\n"
      ],
      "text/latex": [
       "\\begin{enumerate*}\n",
       "\\item 'Ian G.'\n",
       "\\item 'Ritchie'\n",
       "\\item 'Ian P.'\n",
       "\\item 'Roger'\n",
       "\\item 'Jon'\n",
       "\\item 'Steve'\n",
       "\\item 'Don'\n",
       "\\item 'David'\n",
       "\\end{enumerate*}\n"
      ],
      "text/markdown": [
       "1. 'Ian G.'\n",
       "2. 'Ritchie'\n",
       "3. 'Ian P.'\n",
       "4. 'Roger'\n",
       "5. 'Jon'\n",
       "6. 'Steve'\n",
       "7. 'Don'\n",
       "8. 'David'\n",
       "\n",
       "\n"
      ],
      "text/plain": [
       "[1] \"Ian G.\"  \"Ritchie\" \"Ian P.\"  \"Roger\"   \"Jon\"     \"Steve\"   \"Don\"    \n",
       "[8] \"David\"  "
      ]
     },
     "metadata": {},
     "output_type": "display_data"
    },
    {
     "data": {
      "text/html": [
       "'character'"
      ],
      "text/latex": [
       "'character'"
      ],
      "text/markdown": [
       "'character'"
      ],
      "text/plain": [
       "[1] \"character\""
      ]
     },
     "metadata": {},
     "output_type": "display_data"
    },
    {
     "data": {
      "text/html": [
       "<ol class=list-inline>\n",
       "\t<li>95</li>\n",
       "\t<li>60</li>\n",
       "\t<li>40</li>\n",
       "\t<li>40</li>\n",
       "\t<li>100</li>\n",
       "\t<li>25</li>\n",
       "\t<li>50</li>\n",
       "\t<li>94</li>\n",
       "</ol>\n"
      ],
      "text/latex": [
       "\\begin{enumerate*}\n",
       "\\item 95\n",
       "\\item 60\n",
       "\\item 40\n",
       "\\item 40\n",
       "\\item 100\n",
       "\\item 25\n",
       "\\item 50\n",
       "\\item 94\n",
       "\\end{enumerate*}\n"
      ],
      "text/markdown": [
       "1. 95\n",
       "2. 60\n",
       "3. 40\n",
       "4. 40\n",
       "5. 100\n",
       "6. 25\n",
       "7. 50\n",
       "8. 94\n",
       "\n",
       "\n"
      ],
      "text/plain": [
       "[1]  95  60  40  40 100  25  50  94"
      ]
     },
     "metadata": {},
     "output_type": "display_data"
    },
    {
     "data": {
      "text/html": [
       "'numeric'"
      ],
      "text/latex": [
       "'numeric'"
      ],
      "text/markdown": [
       "'numeric'"
      ],
      "text/plain": [
       "[1] \"numeric\""
      ]
     },
     "metadata": {},
     "output_type": "display_data"
    },
    {
     "data": {
      "text/html": [
       "<ol class=list-inline>\n",
       "\t<li>80</li>\n",
       "\t<li>62</li>\n",
       "\t<li>38</li>\n",
       "\t<li>20</li>\n",
       "\t<li>74</li>\n",
       "\t<li>56</li>\n",
       "\t<li>18</li>\n",
       "\t<li>67</li>\n",
       "</ol>\n"
      ],
      "text/latex": [
       "\\begin{enumerate*}\n",
       "\\item 80\n",
       "\\item 62\n",
       "\\item 38\n",
       "\\item 20\n",
       "\\item 74\n",
       "\\item 56\n",
       "\\item 18\n",
       "\\item 67\n",
       "\\end{enumerate*}\n"
      ],
      "text/markdown": [
       "1. 80\n",
       "2. 62\n",
       "3. 38\n",
       "4. 20\n",
       "5. 74\n",
       "6. 56\n",
       "7. 18\n",
       "8. 67\n",
       "\n",
       "\n"
      ],
      "text/plain": [
       "[1] 80 62 38 20 74 56 18 67"
      ]
     },
     "metadata": {},
     "output_type": "display_data"
    },
    {
     "data": {
      "text/html": [
       "'numeric'"
      ],
      "text/latex": [
       "'numeric'"
      ],
      "text/markdown": [
       "'numeric'"
      ],
      "text/plain": [
       "[1] \"numeric\""
      ]
     },
     "metadata": {},
     "output_type": "display_data"
    },
    {
     "data": {
      "text/html": [
       "<ol class=list-inline>\n",
       "\t<li>87</li>\n",
       "\t<li>50</li>\n",
       "\t<li>62</li>\n",
       "\t<li>10</li>\n",
       "\t<li>72</li>\n",
       "\t<li>61</li>\n",
       "\t<li>27</li>\n",
       "\t<li>60</li>\n",
       "</ol>\n"
      ],
      "text/latex": [
       "\\begin{enumerate*}\n",
       "\\item 87\n",
       "\\item 50\n",
       "\\item 62\n",
       "\\item 10\n",
       "\\item 72\n",
       "\\item 61\n",
       "\\item 27\n",
       "\\item 60\n",
       "\\end{enumerate*}\n"
      ],
      "text/markdown": [
       "1. 87\n",
       "2. 50\n",
       "3. 62\n",
       "4. 10\n",
       "5. 72\n",
       "6. 61\n",
       "7. 27\n",
       "8. 60\n",
       "\n",
       "\n"
      ],
      "text/plain": [
       "[1] 87 50 62 10 72 61 27 60"
      ]
     },
     "metadata": {},
     "output_type": "display_data"
    },
    {
     "data": {
      "text/html": [
       "'numeric'"
      ],
      "text/latex": [
       "'numeric'"
      ],
      "text/markdown": [
       "'numeric'"
      ],
      "text/plain": [
       "[1] \"numeric\""
      ]
     },
     "metadata": {},
     "output_type": "display_data"
    },
    {
     "data": {
      "text/html": [
       "<ol class=list-inline>\n",
       "\t<li>TRUE</li>\n",
       "\t<li>FALSE</li>\n",
       "\t<li>FALSE</li>\n",
       "\t<li>FALSE</li>\n",
       "\t<li>TRUE</li>\n",
       "\t<li>TRUE</li>\n",
       "\t<li>TRUE</li>\n",
       "\t<li>TRUE</li>\n",
       "</ol>\n"
      ],
      "text/latex": [
       "\\begin{enumerate*}\n",
       "\\item TRUE\n",
       "\\item FALSE\n",
       "\\item FALSE\n",
       "\\item FALSE\n",
       "\\item TRUE\n",
       "\\item TRUE\n",
       "\\item TRUE\n",
       "\\item TRUE\n",
       "\\end{enumerate*}\n"
      ],
      "text/markdown": [
       "1. TRUE\n",
       "2. FALSE\n",
       "3. FALSE\n",
       "4. FALSE\n",
       "5. TRUE\n",
       "6. TRUE\n",
       "7. TRUE\n",
       "8. TRUE\n",
       "\n",
       "\n"
      ],
      "text/plain": [
       "[1]  TRUE FALSE FALSE FALSE  TRUE  TRUE  TRUE  TRUE"
      ]
     },
     "metadata": {},
     "output_type": "display_data"
    },
    {
     "data": {
      "text/html": [
       "'logical'"
      ],
      "text/latex": [
       "'logical'"
      ],
      "text/markdown": [
       "'logical'"
      ],
      "text/plain": [
       "[1] \"logical\""
      ]
     },
     "metadata": {},
     "output_type": "display_data"
    }
   ],
   "source": [
    "names <- c(\"Ian G.\", \"Ritchie\", \"Ian P.\", \"Roger\", \"Jon\", \"Steve\", \"Don\", \"David\")\n",
    "\n",
    "homework <- c(95, 60, 40, 40, 100, 25, 50, 94)\n",
    "\n",
    "midterm<-c(80, 62, 38, 20, 74, 56, 18, 67)\n",
    "\n",
    "final<-c(87, 50, 62, 10, 72, 61, 27, 60)\n",
    "\n",
    "attendance<-c(T, F, F, F, T, T, T, T)\n",
    "\n",
    "names\n",
    "class(names)\n",
    "\n",
    "homework\n",
    "class(homework)\n",
    "\n",
    "midterm\n",
    "class(midterm)\n",
    "\n",
    "final\n",
    "class(final)\n",
    "\n",
    "attendance\n",
    "class(attendance)\n"
   ]
  },
  {
   "cell_type": "markdown",
   "metadata": {},
   "source": [
    "Let's create a data frame with the given information:"
   ]
  },
  {
   "cell_type": "code",
   "execution_count": 2,
   "metadata": {},
   "outputs": [
    {
     "data": {
      "text/html": [
       "<table>\n",
       "<thead><tr><th scope=col>names</th><th scope=col>homework</th><th scope=col>midterm</th><th scope=col>final</th><th scope=col>attendance</th></tr></thead>\n",
       "<tbody>\n",
       "\t<tr><td>Ian G. </td><td> 95    </td><td>80     </td><td>87     </td><td> TRUE  </td></tr>\n",
       "\t<tr><td>Ritchie</td><td> 60    </td><td>62     </td><td>50     </td><td>FALSE  </td></tr>\n",
       "\t<tr><td>Ian P. </td><td> 40    </td><td>38     </td><td>62     </td><td>FALSE  </td></tr>\n",
       "\t<tr><td>Roger  </td><td> 40    </td><td>20     </td><td>10     </td><td>FALSE  </td></tr>\n",
       "\t<tr><td>Jon    </td><td>100    </td><td>74     </td><td>72     </td><td> TRUE  </td></tr>\n",
       "\t<tr><td>Steve  </td><td> 25    </td><td>56     </td><td>61     </td><td> TRUE  </td></tr>\n",
       "\t<tr><td>Don    </td><td> 50    </td><td>18     </td><td>27     </td><td> TRUE  </td></tr>\n",
       "\t<tr><td>David  </td><td> 94    </td><td>67     </td><td>60     </td><td> TRUE  </td></tr>\n",
       "</tbody>\n",
       "</table>\n"
      ],
      "text/latex": [
       "\\begin{tabular}{r|lllll}\n",
       " names & homework & midterm & final & attendance\\\\\n",
       "\\hline\n",
       "\t Ian G.  &  95     & 80      & 87      &  TRUE  \\\\\n",
       "\t Ritchie &  60     & 62      & 50      & FALSE  \\\\\n",
       "\t Ian P.  &  40     & 38      & 62      & FALSE  \\\\\n",
       "\t Roger   &  40     & 20      & 10      & FALSE  \\\\\n",
       "\t Jon     & 100     & 74      & 72      &  TRUE  \\\\\n",
       "\t Steve   &  25     & 56      & 61      &  TRUE  \\\\\n",
       "\t Don     &  50     & 18      & 27      &  TRUE  \\\\\n",
       "\t David   &  94     & 67      & 60      &  TRUE  \\\\\n",
       "\\end{tabular}\n"
      ],
      "text/markdown": [
       "\n",
       "names | homework | midterm | final | attendance | \n",
       "|---|---|---|---|---|---|---|---|\n",
       "| Ian G.  |  95     | 80      | 87      |  TRUE   | \n",
       "| Ritchie |  60     | 62      | 50      | FALSE   | \n",
       "| Ian P.  |  40     | 38      | 62      | FALSE   | \n",
       "| Roger   |  40     | 20      | 10      | FALSE   | \n",
       "| Jon     | 100     | 74      | 72      |  TRUE   | \n",
       "| Steve   |  25     | 56      | 61      |  TRUE   | \n",
       "| Don     |  50     | 18      | 27      |  TRUE   | \n",
       "| David   |  94     | 67      | 60      |  TRUE   | \n",
       "\n",
       "\n"
      ],
      "text/plain": [
       "  names   homework midterm final attendance\n",
       "1 Ian G.   95      80      87     TRUE     \n",
       "2 Ritchie  60      62      50    FALSE     \n",
       "3 Ian P.   40      38      62    FALSE     \n",
       "4 Roger    40      20      10    FALSE     \n",
       "5 Jon     100      74      72     TRUE     \n",
       "6 Steve    25      56      61     TRUE     \n",
       "7 Don      50      18      27     TRUE     \n",
       "8 David    94      67      60     TRUE     "
      ]
     },
     "metadata": {},
     "output_type": "display_data"
    }
   ],
   "source": [
    "results_1 <- data.frame(names, homework, midterm, final, attendance)\n",
    "results_1"
   ]
  },
  {
   "cell_type": "markdown",
   "metadata": {},
   "source": [
    "Now, let's change the length of a vector"
   ]
  },
  {
   "cell_type": "code",
   "execution_count": 3,
   "metadata": {},
   "outputs": [
    {
     "data": {
      "text/html": [
       "<ol class=list-inline>\n",
       "\t<li>62</li>\n",
       "\t<li>38</li>\n",
       "\t<li>20</li>\n",
       "\t<li>74</li>\n",
       "\t<li>56</li>\n",
       "\t<li>18</li>\n",
       "\t<li>67</li>\n",
       "</ol>\n"
      ],
      "text/latex": [
       "\\begin{enumerate*}\n",
       "\\item 62\n",
       "\\item 38\n",
       "\\item 20\n",
       "\\item 74\n",
       "\\item 56\n",
       "\\item 18\n",
       "\\item 67\n",
       "\\end{enumerate*}\n"
      ],
      "text/markdown": [
       "1. 62\n",
       "2. 38\n",
       "3. 20\n",
       "4. 74\n",
       "5. 56\n",
       "6. 18\n",
       "7. 67\n",
       "\n",
       "\n"
      ],
      "text/plain": [
       "[1] 62 38 20 74 56 18 67"
      ]
     },
     "metadata": {},
     "output_type": "display_data"
    },
    {
     "ename": "ERROR",
     "evalue": "Error in data.frame(names, homework, midterm_2, final, attendance): arguments imply differing number of rows: 8, 7\n",
     "output_type": "error",
     "traceback": [
      "Error in data.frame(names, homework, midterm_2, final, attendance): arguments imply differing number of rows: 8, 7\nTraceback:\n",
      "1. data.frame(names, homework, midterm_2, final, attendance)",
      "2. stop(gettextf(\"arguments imply differing number of rows: %s\", \n .     paste(unique(nrows), collapse = \", \")), domain = NA)"
     ]
    }
   ],
   "source": [
    "midterm[-1] # excludes 80\n",
    "midterm_2 <- midterm[-1]\n",
    "results_2<-data.frame(names, homework, midterm_2, final, attendance)\n",
    "results_2"
   ]
  },
  {
   "cell_type": "markdown",
   "metadata": {},
   "source": [
    "Hmm.. Did not recycle vectors of size 8 and 7."
   ]
  },
  {
   "cell_type": "markdown",
   "metadata": {},
   "source": [
    "Now let's try a similar thing"
   ]
  },
  {
   "cell_type": "code",
   "execution_count": 4,
   "metadata": {},
   "outputs": [
    {
     "data": {
      "text/html": [
       "<ol class=list-inline>\n",
       "\t<li>80</li>\n",
       "\t<li>62</li>\n",
       "\t<li>38</li>\n",
       "\t<li>20</li>\n",
       "</ol>\n"
      ],
      "text/latex": [
       "\\begin{enumerate*}\n",
       "\\item 80\n",
       "\\item 62\n",
       "\\item 38\n",
       "\\item 20\n",
       "\\end{enumerate*}\n"
      ],
      "text/markdown": [
       "1. 80\n",
       "2. 62\n",
       "3. 38\n",
       "4. 20\n",
       "\n",
       "\n"
      ],
      "text/plain": [
       "[1] 80 62 38 20"
      ]
     },
     "metadata": {},
     "output_type": "display_data"
    },
    {
     "data": {
      "text/html": [
       "<table>\n",
       "<thead><tr><th scope=col>names</th><th scope=col>homework</th><th scope=col>midterm_2</th><th scope=col>final</th><th scope=col>attendance</th></tr></thead>\n",
       "<tbody>\n",
       "\t<tr><td>Ian G. </td><td> 95    </td><td>80     </td><td>87     </td><td> TRUE  </td></tr>\n",
       "\t<tr><td>Ritchie</td><td> 60    </td><td>62     </td><td>50     </td><td>FALSE  </td></tr>\n",
       "\t<tr><td>Ian P. </td><td> 40    </td><td>38     </td><td>62     </td><td>FALSE  </td></tr>\n",
       "\t<tr><td>Roger  </td><td> 40    </td><td>20     </td><td>10     </td><td>FALSE  </td></tr>\n",
       "\t<tr><td>Jon    </td><td>100    </td><td>80     </td><td>72     </td><td> TRUE  </td></tr>\n",
       "\t<tr><td>Steve  </td><td> 25    </td><td>62     </td><td>61     </td><td> TRUE  </td></tr>\n",
       "\t<tr><td>Don    </td><td> 50    </td><td>38     </td><td>27     </td><td> TRUE  </td></tr>\n",
       "\t<tr><td>David  </td><td> 94    </td><td>20     </td><td>60     </td><td> TRUE  </td></tr>\n",
       "</tbody>\n",
       "</table>\n"
      ],
      "text/latex": [
       "\\begin{tabular}{r|lllll}\n",
       " names & homework & midterm\\_2 & final & attendance\\\\\n",
       "\\hline\n",
       "\t Ian G.  &  95     & 80      & 87      &  TRUE  \\\\\n",
       "\t Ritchie &  60     & 62      & 50      & FALSE  \\\\\n",
       "\t Ian P.  &  40     & 38      & 62      & FALSE  \\\\\n",
       "\t Roger   &  40     & 20      & 10      & FALSE  \\\\\n",
       "\t Jon     & 100     & 80      & 72      &  TRUE  \\\\\n",
       "\t Steve   &  25     & 62      & 61      &  TRUE  \\\\\n",
       "\t Don     &  50     & 38      & 27      &  TRUE  \\\\\n",
       "\t David   &  94     & 20      & 60      &  TRUE  \\\\\n",
       "\\end{tabular}\n"
      ],
      "text/markdown": [
       "\n",
       "names | homework | midterm_2 | final | attendance | \n",
       "|---|---|---|---|---|---|---|---|\n",
       "| Ian G.  |  95     | 80      | 87      |  TRUE   | \n",
       "| Ritchie |  60     | 62      | 50      | FALSE   | \n",
       "| Ian P.  |  40     | 38      | 62      | FALSE   | \n",
       "| Roger   |  40     | 20      | 10      | FALSE   | \n",
       "| Jon     | 100     | 80      | 72      |  TRUE   | \n",
       "| Steve   |  25     | 62      | 61      |  TRUE   | \n",
       "| Don     |  50     | 38      | 27      |  TRUE   | \n",
       "| David   |  94     | 20      | 60      |  TRUE   | \n",
       "\n",
       "\n"
      ],
      "text/plain": [
       "  names   homework midterm_2 final attendance\n",
       "1 Ian G.   95      80        87     TRUE     \n",
       "2 Ritchie  60      62        50    FALSE     \n",
       "3 Ian P.   40      38        62    FALSE     \n",
       "4 Roger    40      20        10    FALSE     \n",
       "5 Jon     100      80        72     TRUE     \n",
       "6 Steve    25      62        61     TRUE     \n",
       "7 Don      50      38        27     TRUE     \n",
       "8 David    94      20        60     TRUE     "
      ]
     },
     "metadata": {},
     "output_type": "display_data"
    }
   ],
   "source": [
    "midterm_2 <- midterm[1:4]\n",
    "midterm_2\n",
    "results_2<- data.frame(names, homework, midterm_2, final, attendance)\n",
    "results_2"
   ]
  },
  {
   "cell_type": "markdown",
   "metadata": {},
   "source": [
    "**See, when the vector lengths are multiples of one another, R recycles to get a data.frame**\n",
    "\n",
    "**However when the lengths are not multiples, R throws an error and does not accept to recycle!**"
   ]
  },
  {
   "cell_type": "markdown",
   "metadata": {},
   "source": [
    "Now let's first create a list and then convert it into a data.frame"
   ]
  },
  {
   "cell_type": "code",
   "execution_count": 5,
   "metadata": {
    "scrolled": true
   },
   "outputs": [
    {
     "data": {
      "text/html": [
       "<dl>\n",
       "\t<dt>$names</dt>\n",
       "\t\t<dd><ol class=list-inline>\n",
       "\t<li>'Ian G.'</li>\n",
       "\t<li>'Ritchie'</li>\n",
       "\t<li>'Ian P.'</li>\n",
       "\t<li>'Roger'</li>\n",
       "\t<li>'Jon'</li>\n",
       "\t<li>'Steve'</li>\n",
       "\t<li>'Don'</li>\n",
       "\t<li>'David'</li>\n",
       "</ol>\n",
       "</dd>\n",
       "\t<dt>$homework</dt>\n",
       "\t\t<dd><ol class=list-inline>\n",
       "\t<li>95</li>\n",
       "\t<li>60</li>\n",
       "\t<li>40</li>\n",
       "\t<li>40</li>\n",
       "\t<li>100</li>\n",
       "\t<li>25</li>\n",
       "\t<li>50</li>\n",
       "\t<li>94</li>\n",
       "</ol>\n",
       "</dd>\n",
       "\t<dt>$midterm</dt>\n",
       "\t\t<dd><ol class=list-inline>\n",
       "\t<li>80</li>\n",
       "\t<li>62</li>\n",
       "\t<li>38</li>\n",
       "\t<li>20</li>\n",
       "\t<li>74</li>\n",
       "\t<li>56</li>\n",
       "\t<li>18</li>\n",
       "\t<li>67</li>\n",
       "</ol>\n",
       "</dd>\n",
       "\t<dt>$final</dt>\n",
       "\t\t<dd><ol class=list-inline>\n",
       "\t<li>87</li>\n",
       "\t<li>50</li>\n",
       "\t<li>62</li>\n",
       "\t<li>10</li>\n",
       "\t<li>72</li>\n",
       "\t<li>61</li>\n",
       "\t<li>27</li>\n",
       "\t<li>60</li>\n",
       "</ol>\n",
       "</dd>\n",
       "\t<dt>$attendance</dt>\n",
       "\t\t<dd><ol class=list-inline>\n",
       "\t<li>TRUE</li>\n",
       "\t<li>FALSE</li>\n",
       "\t<li>FALSE</li>\n",
       "\t<li>FALSE</li>\n",
       "\t<li>TRUE</li>\n",
       "\t<li>TRUE</li>\n",
       "\t<li>TRUE</li>\n",
       "\t<li>TRUE</li>\n",
       "</ol>\n",
       "</dd>\n",
       "</dl>\n"
      ],
      "text/latex": [
       "\\begin{description}\n",
       "\\item[\\$names] \\begin{enumerate*}\n",
       "\\item 'Ian G.'\n",
       "\\item 'Ritchie'\n",
       "\\item 'Ian P.'\n",
       "\\item 'Roger'\n",
       "\\item 'Jon'\n",
       "\\item 'Steve'\n",
       "\\item 'Don'\n",
       "\\item 'David'\n",
       "\\end{enumerate*}\n",
       "\n",
       "\\item[\\$homework] \\begin{enumerate*}\n",
       "\\item 95\n",
       "\\item 60\n",
       "\\item 40\n",
       "\\item 40\n",
       "\\item 100\n",
       "\\item 25\n",
       "\\item 50\n",
       "\\item 94\n",
       "\\end{enumerate*}\n",
       "\n",
       "\\item[\\$midterm] \\begin{enumerate*}\n",
       "\\item 80\n",
       "\\item 62\n",
       "\\item 38\n",
       "\\item 20\n",
       "\\item 74\n",
       "\\item 56\n",
       "\\item 18\n",
       "\\item 67\n",
       "\\end{enumerate*}\n",
       "\n",
       "\\item[\\$final] \\begin{enumerate*}\n",
       "\\item 87\n",
       "\\item 50\n",
       "\\item 62\n",
       "\\item 10\n",
       "\\item 72\n",
       "\\item 61\n",
       "\\item 27\n",
       "\\item 60\n",
       "\\end{enumerate*}\n",
       "\n",
       "\\item[\\$attendance] \\begin{enumerate*}\n",
       "\\item TRUE\n",
       "\\item FALSE\n",
       "\\item FALSE\n",
       "\\item FALSE\n",
       "\\item TRUE\n",
       "\\item TRUE\n",
       "\\item TRUE\n",
       "\\item TRUE\n",
       "\\end{enumerate*}\n",
       "\n",
       "\\end{description}\n"
      ],
      "text/markdown": [
       "$names\n",
       ":   1. 'Ian G.'\n",
       "2. 'Ritchie'\n",
       "3. 'Ian P.'\n",
       "4. 'Roger'\n",
       "5. 'Jon'\n",
       "6. 'Steve'\n",
       "7. 'Don'\n",
       "8. 'David'\n",
       "\n",
       "\n",
       "\n",
       "$homework\n",
       ":   1. 95\n",
       "2. 60\n",
       "3. 40\n",
       "4. 40\n",
       "5. 100\n",
       "6. 25\n",
       "7. 50\n",
       "8. 94\n",
       "\n",
       "\n",
       "\n",
       "$midterm\n",
       ":   1. 80\n",
       "2. 62\n",
       "3. 38\n",
       "4. 20\n",
       "5. 74\n",
       "6. 56\n",
       "7. 18\n",
       "8. 67\n",
       "\n",
       "\n",
       "\n",
       "$final\n",
       ":   1. 87\n",
       "2. 50\n",
       "3. 62\n",
       "4. 10\n",
       "5. 72\n",
       "6. 61\n",
       "7. 27\n",
       "8. 60\n",
       "\n",
       "\n",
       "\n",
       "$attendance\n",
       ":   1. TRUE\n",
       "2. FALSE\n",
       "3. FALSE\n",
       "4. FALSE\n",
       "5. TRUE\n",
       "6. TRUE\n",
       "7. TRUE\n",
       "8. TRUE\n",
       "\n",
       "\n",
       "\n",
       "\n",
       "\n"
      ],
      "text/plain": [
       "$names\n",
       "[1] \"Ian G.\"  \"Ritchie\" \"Ian P.\"  \"Roger\"   \"Jon\"     \"Steve\"   \"Don\"    \n",
       "[8] \"David\"  \n",
       "\n",
       "$homework\n",
       "[1]  95  60  40  40 100  25  50  94\n",
       "\n",
       "$midterm\n",
       "[1] 80 62 38 20 74 56 18 67\n",
       "\n",
       "$final\n",
       "[1] 87 50 62 10 72 61 27 60\n",
       "\n",
       "$attendance\n",
       "[1]  TRUE FALSE FALSE FALSE  TRUE  TRUE  TRUE  TRUE\n"
      ]
     },
     "metadata": {},
     "output_type": "display_data"
    },
    {
     "data": {
      "text/html": [
       "<strong>$names</strong> = <ol class=list-inline>\n",
       "\t<li>'names'</li>\n",
       "\t<li>'homework'</li>\n",
       "\t<li>'midterm'</li>\n",
       "\t<li>'final'</li>\n",
       "\t<li>'attendance'</li>\n",
       "</ol>\n"
      ],
      "text/latex": [
       "\\textbf{\\$names} = \\begin{enumerate*}\n",
       "\\item 'names'\n",
       "\\item 'homework'\n",
       "\\item 'midterm'\n",
       "\\item 'final'\n",
       "\\item 'attendance'\n",
       "\\end{enumerate*}\n"
      ],
      "text/markdown": [
       "**$names** = 1. 'names'\n",
       "2. 'homework'\n",
       "3. 'midterm'\n",
       "4. 'final'\n",
       "5. 'attendance'\n",
       "\n",
       "\n"
      ],
      "text/plain": [
       "$names\n",
       "[1] \"names\"      \"homework\"   \"midterm\"    \"final\"      \"attendance\"\n"
      ]
     },
     "metadata": {},
     "output_type": "display_data"
    },
    {
     "data": {
      "text/html": [
       "'list'"
      ],
      "text/latex": [
       "'list'"
      ],
      "text/markdown": [
       "'list'"
      ],
      "text/plain": [
       "[1] \"list\""
      ]
     },
     "metadata": {},
     "output_type": "display_data"
    },
    {
     "data": {
      "text/html": [
       "5"
      ],
      "text/latex": [
       "5"
      ],
      "text/markdown": [
       "5"
      ],
      "text/plain": [
       "[1] 5"
      ]
     },
     "metadata": {},
     "output_type": "display_data"
    }
   ],
   "source": [
    "results_2 <- list(names = names, homework = homework, midterm = midterm, final = final, attendance = attendance)\n",
    "results_2\n",
    "attributes(results_2)\n",
    "class(results_2)\n",
    "length(results_2)"
   ]
  },
  {
   "cell_type": "markdown",
   "metadata": {},
   "source": [
    "Does it have a dimension attribute? (Note that lists doesn't have...)"
   ]
  },
  {
   "cell_type": "code",
   "execution_count": 6,
   "metadata": {},
   "outputs": [
    {
     "data": {
      "text/plain": [
       "NULL"
      ]
     },
     "metadata": {},
     "output_type": "display_data"
    }
   ],
   "source": [
    "dim(results_2)"
   ]
  },
  {
   "cell_type": "markdown",
   "metadata": {},
   "source": [
    "Before taking a look at the attributes of a data frame, let's create a sample matrix - to see the differences and similarities, and get its length:"
   ]
  },
  {
   "cell_type": "code",
   "execution_count": 7,
   "metadata": {},
   "outputs": [
    {
     "data": {
      "text/html": [
       "<table>\n",
       "<tbody>\n",
       "\t<tr><td>1 </td><td> 9</td><td>17</td><td>25</td><td>33</td></tr>\n",
       "\t<tr><td>2 </td><td>10</td><td>18</td><td>26</td><td>34</td></tr>\n",
       "\t<tr><td>3 </td><td>11</td><td>19</td><td>27</td><td>35</td></tr>\n",
       "\t<tr><td>4 </td><td>12</td><td>20</td><td>28</td><td>36</td></tr>\n",
       "\t<tr><td>5 </td><td>13</td><td>21</td><td>29</td><td>37</td></tr>\n",
       "\t<tr><td>6 </td><td>14</td><td>22</td><td>30</td><td>38</td></tr>\n",
       "\t<tr><td>7 </td><td>15</td><td>23</td><td>31</td><td>39</td></tr>\n",
       "\t<tr><td>8 </td><td>16</td><td>24</td><td>32</td><td>40</td></tr>\n",
       "</tbody>\n",
       "</table>\n"
      ],
      "text/latex": [
       "\\begin{tabular}{lllll}\n",
       "\t 1  &  9 & 17 & 25 & 33\\\\\n",
       "\t 2  & 10 & 18 & 26 & 34\\\\\n",
       "\t 3  & 11 & 19 & 27 & 35\\\\\n",
       "\t 4  & 12 & 20 & 28 & 36\\\\\n",
       "\t 5  & 13 & 21 & 29 & 37\\\\\n",
       "\t 6  & 14 & 22 & 30 & 38\\\\\n",
       "\t 7  & 15 & 23 & 31 & 39\\\\\n",
       "\t 8  & 16 & 24 & 32 & 40\\\\\n",
       "\\end{tabular}\n"
      ],
      "text/markdown": [
       "\n",
       "| 1  |  9 | 17 | 25 | 33 | \n",
       "| 2  | 10 | 18 | 26 | 34 | \n",
       "| 3  | 11 | 19 | 27 | 35 | \n",
       "| 4  | 12 | 20 | 28 | 36 | \n",
       "| 5  | 13 | 21 | 29 | 37 | \n",
       "| 6  | 14 | 22 | 30 | 38 | \n",
       "| 7  | 15 | 23 | 31 | 39 | \n",
       "| 8  | 16 | 24 | 32 | 40 | \n",
       "\n",
       "\n"
      ],
      "text/plain": [
       "     [,1] [,2] [,3] [,4] [,5]\n",
       "[1,] 1     9   17   25   33  \n",
       "[2,] 2    10   18   26   34  \n",
       "[3,] 3    11   19   27   35  \n",
       "[4,] 4    12   20   28   36  \n",
       "[5,] 5    13   21   29   37  \n",
       "[6,] 6    14   22   30   38  \n",
       "[7,] 7    15   23   31   39  \n",
       "[8,] 8    16   24   32   40  "
      ]
     },
     "metadata": {},
     "output_type": "display_data"
    },
    {
     "data": {
      "text/html": [
       "40"
      ],
      "text/latex": [
       "40"
      ],
      "text/markdown": [
       "40"
      ],
      "text/plain": [
       "[1] 40"
      ]
     },
     "metadata": {},
     "output_type": "display_data"
    },
    {
     "data": {
      "text/html": [
       "<ol class=list-inline>\n",
       "\t<li>8</li>\n",
       "\t<li>5</li>\n",
       "</ol>\n"
      ],
      "text/latex": [
       "\\begin{enumerate*}\n",
       "\\item 8\n",
       "\\item 5\n",
       "\\end{enumerate*}\n"
      ],
      "text/markdown": [
       "1. 8\n",
       "2. 5\n",
       "\n",
       "\n"
      ],
      "text/plain": [
       "[1] 8 5"
      ]
     },
     "metadata": {},
     "output_type": "display_data"
    }
   ],
   "source": [
    "a <- matrix(1:40, nrow = 8)\n",
    "a\n",
    "length(a)\n",
    "dim(a)"
   ]
  },
  {
   "cell_type": "markdown",
   "metadata": {},
   "source": [
    "See, a length of a matrix is the count of all cells, so it is basically (count of rows) * (count of columns)"
   ]
  },
  {
   "cell_type": "markdown",
   "metadata": {},
   "source": [
    "Now create a data frame with \"as.data.frame\" function and see its attributes and length.\n",
    "\n",
    "Not that \"stringsAsFactors = F\" is supplied so that character values are not automatically converted to categoric variables"
   ]
  },
  {
   "cell_type": "code",
   "execution_count": 8,
   "metadata": {},
   "outputs": [
    {
     "data": {
      "text/html": [
       "<table>\n",
       "<thead><tr><th scope=col>names</th><th scope=col>homework</th><th scope=col>midterm</th><th scope=col>final</th><th scope=col>attendance</th></tr></thead>\n",
       "<tbody>\n",
       "\t<tr><td>Ian G. </td><td> 95    </td><td>80     </td><td>87     </td><td> TRUE  </td></tr>\n",
       "\t<tr><td>Ritchie</td><td> 60    </td><td>62     </td><td>50     </td><td>FALSE  </td></tr>\n",
       "\t<tr><td>Ian P. </td><td> 40    </td><td>38     </td><td>62     </td><td>FALSE  </td></tr>\n",
       "\t<tr><td>Roger  </td><td> 40    </td><td>20     </td><td>10     </td><td>FALSE  </td></tr>\n",
       "\t<tr><td>Jon    </td><td>100    </td><td>74     </td><td>72     </td><td> TRUE  </td></tr>\n",
       "\t<tr><td>Steve  </td><td> 25    </td><td>56     </td><td>61     </td><td> TRUE  </td></tr>\n",
       "\t<tr><td>Don    </td><td> 50    </td><td>18     </td><td>27     </td><td> TRUE  </td></tr>\n",
       "\t<tr><td>David  </td><td> 94    </td><td>67     </td><td>60     </td><td> TRUE  </td></tr>\n",
       "</tbody>\n",
       "</table>\n"
      ],
      "text/latex": [
       "\\begin{tabular}{r|lllll}\n",
       " names & homework & midterm & final & attendance\\\\\n",
       "\\hline\n",
       "\t Ian G.  &  95     & 80      & 87      &  TRUE  \\\\\n",
       "\t Ritchie &  60     & 62      & 50      & FALSE  \\\\\n",
       "\t Ian P.  &  40     & 38      & 62      & FALSE  \\\\\n",
       "\t Roger   &  40     & 20      & 10      & FALSE  \\\\\n",
       "\t Jon     & 100     & 74      & 72      &  TRUE  \\\\\n",
       "\t Steve   &  25     & 56      & 61      &  TRUE  \\\\\n",
       "\t Don     &  50     & 18      & 27      &  TRUE  \\\\\n",
       "\t David   &  94     & 67      & 60      &  TRUE  \\\\\n",
       "\\end{tabular}\n"
      ],
      "text/markdown": [
       "\n",
       "names | homework | midterm | final | attendance | \n",
       "|---|---|---|---|---|---|---|---|\n",
       "| Ian G.  |  95     | 80      | 87      |  TRUE   | \n",
       "| Ritchie |  60     | 62      | 50      | FALSE   | \n",
       "| Ian P.  |  40     | 38      | 62      | FALSE   | \n",
       "| Roger   |  40     | 20      | 10      | FALSE   | \n",
       "| Jon     | 100     | 74      | 72      |  TRUE   | \n",
       "| Steve   |  25     | 56      | 61      |  TRUE   | \n",
       "| Don     |  50     | 18      | 27      |  TRUE   | \n",
       "| David   |  94     | 67      | 60      |  TRUE   | \n",
       "\n",
       "\n"
      ],
      "text/plain": [
       "  names   homework midterm final attendance\n",
       "1 Ian G.   95      80      87     TRUE     \n",
       "2 Ritchie  60      62      50    FALSE     \n",
       "3 Ian P.   40      38      62    FALSE     \n",
       "4 Roger    40      20      10    FALSE     \n",
       "5 Jon     100      74      72     TRUE     \n",
       "6 Steve    25      56      61     TRUE     \n",
       "7 Don      50      18      27     TRUE     \n",
       "8 David    94      67      60     TRUE     "
      ]
     },
     "metadata": {},
     "output_type": "display_data"
    },
    {
     "data": {
      "text/html": [
       "<dl>\n",
       "\t<dt>$names</dt>\n",
       "\t\t<dd><ol class=list-inline>\n",
       "\t<li>'names'</li>\n",
       "\t<li>'homework'</li>\n",
       "\t<li>'midterm'</li>\n",
       "\t<li>'final'</li>\n",
       "\t<li>'attendance'</li>\n",
       "</ol>\n",
       "</dd>\n",
       "\t<dt>$row.names</dt>\n",
       "\t\t<dd><ol class=list-inline>\n",
       "\t<li>1</li>\n",
       "\t<li>2</li>\n",
       "\t<li>3</li>\n",
       "\t<li>4</li>\n",
       "\t<li>5</li>\n",
       "\t<li>6</li>\n",
       "\t<li>7</li>\n",
       "\t<li>8</li>\n",
       "</ol>\n",
       "</dd>\n",
       "\t<dt>$class</dt>\n",
       "\t\t<dd>'data.frame'</dd>\n",
       "</dl>\n"
      ],
      "text/latex": [
       "\\begin{description}\n",
       "\\item[\\$names] \\begin{enumerate*}\n",
       "\\item 'names'\n",
       "\\item 'homework'\n",
       "\\item 'midterm'\n",
       "\\item 'final'\n",
       "\\item 'attendance'\n",
       "\\end{enumerate*}\n",
       "\n",
       "\\item[\\$row.names] \\begin{enumerate*}\n",
       "\\item 1\n",
       "\\item 2\n",
       "\\item 3\n",
       "\\item 4\n",
       "\\item 5\n",
       "\\item 6\n",
       "\\item 7\n",
       "\\item 8\n",
       "\\end{enumerate*}\n",
       "\n",
       "\\item[\\$class] 'data.frame'\n",
       "\\end{description}\n"
      ],
      "text/markdown": [
       "$names\n",
       ":   1. 'names'\n",
       "2. 'homework'\n",
       "3. 'midterm'\n",
       "4. 'final'\n",
       "5. 'attendance'\n",
       "\n",
       "\n",
       "\n",
       "$row.names\n",
       ":   1. 1\n",
       "2. 2\n",
       "3. 3\n",
       "4. 4\n",
       "5. 5\n",
       "6. 6\n",
       "7. 7\n",
       "8. 8\n",
       "\n",
       "\n",
       "\n",
       "$class\n",
       ":   'data.frame'\n",
       "\n",
       "\n"
      ],
      "text/plain": [
       "$names\n",
       "[1] \"names\"      \"homework\"   \"midterm\"    \"final\"      \"attendance\"\n",
       "\n",
       "$row.names\n",
       "[1] 1 2 3 4 5 6 7 8\n",
       "\n",
       "$class\n",
       "[1] \"data.frame\"\n"
      ]
     },
     "metadata": {},
     "output_type": "display_data"
    },
    {
     "data": {
      "text/html": [
       "'data.frame'"
      ],
      "text/latex": [
       "'data.frame'"
      ],
      "text/markdown": [
       "'data.frame'"
      ],
      "text/plain": [
       "[1] \"data.frame\""
      ]
     },
     "metadata": {},
     "output_type": "display_data"
    },
    {
     "data": {
      "text/html": [
       "5"
      ],
      "text/latex": [
       "5"
      ],
      "text/markdown": [
       "5"
      ],
      "text/plain": [
       "[1] 5"
      ]
     },
     "metadata": {},
     "output_type": "display_data"
    }
   ],
   "source": [
    "results_3 <- as.data.frame(results_2, stringsAsFactors = F)\n",
    "results_3\n",
    "attributes(results_3)\n",
    "class(results_3)\n",
    "length(results_3)"
   ]
  },
  {
   "cell_type": "code",
   "execution_count": 9,
   "metadata": {},
   "outputs": [
    {
     "data": {
      "text/html": [
       "<ol class=list-inline>\n",
       "\t<li>'names'</li>\n",
       "\t<li>'homework'</li>\n",
       "\t<li>'midterm'</li>\n",
       "\t<li>'final'</li>\n",
       "\t<li>'attendance'</li>\n",
       "</ol>\n"
      ],
      "text/latex": [
       "\\begin{enumerate*}\n",
       "\\item 'names'\n",
       "\\item 'homework'\n",
       "\\item 'midterm'\n",
       "\\item 'final'\n",
       "\\item 'attendance'\n",
       "\\end{enumerate*}\n"
      ],
      "text/markdown": [
       "1. 'names'\n",
       "2. 'homework'\n",
       "3. 'midterm'\n",
       "4. 'final'\n",
       "5. 'attendance'\n",
       "\n",
       "\n"
      ],
      "text/plain": [
       "[1] \"names\"      \"homework\"   \"midterm\"    \"final\"      \"attendance\""
      ]
     },
     "metadata": {},
     "output_type": "display_data"
    },
    {
     "data": {
      "text/html": [
       "<ol class=list-inline>\n",
       "\t<li>'names'</li>\n",
       "\t<li>'homework'</li>\n",
       "\t<li>'midterm'</li>\n",
       "\t<li>'final'</li>\n",
       "\t<li>'attendance'</li>\n",
       "</ol>\n"
      ],
      "text/latex": [
       "\\begin{enumerate*}\n",
       "\\item 'names'\n",
       "\\item 'homework'\n",
       "\\item 'midterm'\n",
       "\\item 'final'\n",
       "\\item 'attendance'\n",
       "\\end{enumerate*}\n"
      ],
      "text/markdown": [
       "1. 'names'\n",
       "2. 'homework'\n",
       "3. 'midterm'\n",
       "4. 'final'\n",
       "5. 'attendance'\n",
       "\n",
       "\n"
      ],
      "text/plain": [
       "[1] \"names\"      \"homework\"   \"midterm\"    \"final\"      \"attendance\""
      ]
     },
     "metadata": {},
     "output_type": "display_data"
    },
    {
     "data": {
      "text/html": [
       "<ol class=list-inline>\n",
       "\t<li>'1'</li>\n",
       "\t<li>'2'</li>\n",
       "\t<li>'3'</li>\n",
       "\t<li>'4'</li>\n",
       "\t<li>'5'</li>\n",
       "\t<li>'6'</li>\n",
       "\t<li>'7'</li>\n",
       "\t<li>'8'</li>\n",
       "</ol>\n"
      ],
      "text/latex": [
       "\\begin{enumerate*}\n",
       "\\item '1'\n",
       "\\item '2'\n",
       "\\item '3'\n",
       "\\item '4'\n",
       "\\item '5'\n",
       "\\item '6'\n",
       "\\item '7'\n",
       "\\item '8'\n",
       "\\end{enumerate*}\n"
      ],
      "text/markdown": [
       "1. '1'\n",
       "2. '2'\n",
       "3. '3'\n",
       "4. '4'\n",
       "5. '5'\n",
       "6. '6'\n",
       "7. '7'\n",
       "8. '8'\n",
       "\n",
       "\n"
      ],
      "text/plain": [
       "[1] \"1\" \"2\" \"3\" \"4\" \"5\" \"6\" \"7\" \"8\""
      ]
     },
     "metadata": {},
     "output_type": "display_data"
    }
   ],
   "source": [
    "names(results_3)\n",
    "colnames(results_3)\n",
    "rownames(results_3)"
   ]
  },
  {
   "cell_type": "markdown",
   "metadata": {},
   "source": [
    "For the time being, the stringsAsFactors = F is necessary so that characters are not automatically converted to factor levels. One by one!\n",
    "\n",
    "It looks like a matrix, does it behave like a matrix?\n",
    "\n",
    "Length returns number of columns for a data.frame, however for a matrix it gives rows*columns.\n",
    "\n",
    "So technically a data.frame is closer to a list than it is to a matrix, althogh the appearance resembles a matrix\n",
    "\n",
    "What else? For example, does it have a dimension attribute?"
   ]
  },
  {
   "cell_type": "code",
   "execution_count": 10,
   "metadata": {},
   "outputs": [
    {
     "data": {
      "text/html": [
       "<ol class=list-inline>\n",
       "\t<li>8</li>\n",
       "\t<li>5</li>\n",
       "</ol>\n"
      ],
      "text/latex": [
       "\\begin{enumerate*}\n",
       "\\item 8\n",
       "\\item 5\n",
       "\\end{enumerate*}\n"
      ],
      "text/markdown": [
       "1. 8\n",
       "2. 5\n",
       "\n",
       "\n"
      ],
      "text/plain": [
       "[1] 8 5"
      ]
     },
     "metadata": {},
     "output_type": "display_data"
    }
   ],
   "source": [
    "dim(results_3)"
   ]
  },
  {
   "cell_type": "markdown",
   "metadata": {},
   "source": [
    "So a data frame is a list with dimension attribute. However it still has a length! Just like a list..."
   ]
  },
  {
   "cell_type": "markdown",
   "metadata": {},
   "source": [
    "Just as a matrix is a vector with a dimension attribute but still has a length, just as a vector!"
   ]
  },
  {
   "cell_type": "markdown",
   "metadata": {},
   "source": [
    "Let's convert it back to a list"
   ]
  },
  {
   "cell_type": "code",
   "execution_count": 11,
   "metadata": {},
   "outputs": [
    {
     "data": {
      "text/html": [
       "<dl>\n",
       "\t<dt>$names</dt>\n",
       "\t\t<dd><ol class=list-inline>\n",
       "\t<li>'Ian G.'</li>\n",
       "\t<li>'Ritchie'</li>\n",
       "\t<li>'Ian P.'</li>\n",
       "\t<li>'Roger'</li>\n",
       "\t<li>'Jon'</li>\n",
       "\t<li>'Steve'</li>\n",
       "\t<li>'Don'</li>\n",
       "\t<li>'David'</li>\n",
       "</ol>\n",
       "</dd>\n",
       "\t<dt>$homework</dt>\n",
       "\t\t<dd><ol class=list-inline>\n",
       "\t<li>95</li>\n",
       "\t<li>60</li>\n",
       "\t<li>40</li>\n",
       "\t<li>40</li>\n",
       "\t<li>100</li>\n",
       "\t<li>25</li>\n",
       "\t<li>50</li>\n",
       "\t<li>94</li>\n",
       "</ol>\n",
       "</dd>\n",
       "\t<dt>$midterm</dt>\n",
       "\t\t<dd><ol class=list-inline>\n",
       "\t<li>80</li>\n",
       "\t<li>62</li>\n",
       "\t<li>38</li>\n",
       "\t<li>20</li>\n",
       "\t<li>74</li>\n",
       "\t<li>56</li>\n",
       "\t<li>18</li>\n",
       "\t<li>67</li>\n",
       "</ol>\n",
       "</dd>\n",
       "\t<dt>$final</dt>\n",
       "\t\t<dd><ol class=list-inline>\n",
       "\t<li>87</li>\n",
       "\t<li>50</li>\n",
       "\t<li>62</li>\n",
       "\t<li>10</li>\n",
       "\t<li>72</li>\n",
       "\t<li>61</li>\n",
       "\t<li>27</li>\n",
       "\t<li>60</li>\n",
       "</ol>\n",
       "</dd>\n",
       "\t<dt>$attendance</dt>\n",
       "\t\t<dd><ol class=list-inline>\n",
       "\t<li>TRUE</li>\n",
       "\t<li>FALSE</li>\n",
       "\t<li>FALSE</li>\n",
       "\t<li>FALSE</li>\n",
       "\t<li>TRUE</li>\n",
       "\t<li>TRUE</li>\n",
       "\t<li>TRUE</li>\n",
       "\t<li>TRUE</li>\n",
       "</ol>\n",
       "</dd>\n",
       "</dl>\n"
      ],
      "text/latex": [
       "\\begin{description}\n",
       "\\item[\\$names] \\begin{enumerate*}\n",
       "\\item 'Ian G.'\n",
       "\\item 'Ritchie'\n",
       "\\item 'Ian P.'\n",
       "\\item 'Roger'\n",
       "\\item 'Jon'\n",
       "\\item 'Steve'\n",
       "\\item 'Don'\n",
       "\\item 'David'\n",
       "\\end{enumerate*}\n",
       "\n",
       "\\item[\\$homework] \\begin{enumerate*}\n",
       "\\item 95\n",
       "\\item 60\n",
       "\\item 40\n",
       "\\item 40\n",
       "\\item 100\n",
       "\\item 25\n",
       "\\item 50\n",
       "\\item 94\n",
       "\\end{enumerate*}\n",
       "\n",
       "\\item[\\$midterm] \\begin{enumerate*}\n",
       "\\item 80\n",
       "\\item 62\n",
       "\\item 38\n",
       "\\item 20\n",
       "\\item 74\n",
       "\\item 56\n",
       "\\item 18\n",
       "\\item 67\n",
       "\\end{enumerate*}\n",
       "\n",
       "\\item[\\$final] \\begin{enumerate*}\n",
       "\\item 87\n",
       "\\item 50\n",
       "\\item 62\n",
       "\\item 10\n",
       "\\item 72\n",
       "\\item 61\n",
       "\\item 27\n",
       "\\item 60\n",
       "\\end{enumerate*}\n",
       "\n",
       "\\item[\\$attendance] \\begin{enumerate*}\n",
       "\\item TRUE\n",
       "\\item FALSE\n",
       "\\item FALSE\n",
       "\\item FALSE\n",
       "\\item TRUE\n",
       "\\item TRUE\n",
       "\\item TRUE\n",
       "\\item TRUE\n",
       "\\end{enumerate*}\n",
       "\n",
       "\\end{description}\n"
      ],
      "text/markdown": [
       "$names\n",
       ":   1. 'Ian G.'\n",
       "2. 'Ritchie'\n",
       "3. 'Ian P.'\n",
       "4. 'Roger'\n",
       "5. 'Jon'\n",
       "6. 'Steve'\n",
       "7. 'Don'\n",
       "8. 'David'\n",
       "\n",
       "\n",
       "\n",
       "$homework\n",
       ":   1. 95\n",
       "2. 60\n",
       "3. 40\n",
       "4. 40\n",
       "5. 100\n",
       "6. 25\n",
       "7. 50\n",
       "8. 94\n",
       "\n",
       "\n",
       "\n",
       "$midterm\n",
       ":   1. 80\n",
       "2. 62\n",
       "3. 38\n",
       "4. 20\n",
       "5. 74\n",
       "6. 56\n",
       "7. 18\n",
       "8. 67\n",
       "\n",
       "\n",
       "\n",
       "$final\n",
       ":   1. 87\n",
       "2. 50\n",
       "3. 62\n",
       "4. 10\n",
       "5. 72\n",
       "6. 61\n",
       "7. 27\n",
       "8. 60\n",
       "\n",
       "\n",
       "\n",
       "$attendance\n",
       ":   1. TRUE\n",
       "2. FALSE\n",
       "3. FALSE\n",
       "4. FALSE\n",
       "5. TRUE\n",
       "6. TRUE\n",
       "7. TRUE\n",
       "8. TRUE\n",
       "\n",
       "\n",
       "\n",
       "\n",
       "\n"
      ],
      "text/plain": [
       "$names\n",
       "[1] \"Ian G.\"  \"Ritchie\" \"Ian P.\"  \"Roger\"   \"Jon\"     \"Steve\"   \"Don\"    \n",
       "[8] \"David\"  \n",
       "\n",
       "$homework\n",
       "[1]  95  60  40  40 100  25  50  94\n",
       "\n",
       "$midterm\n",
       "[1] 80 62 38 20 74 56 18 67\n",
       "\n",
       "$final\n",
       "[1] 87 50 62 10 72 61 27 60\n",
       "\n",
       "$attendance\n",
       "[1]  TRUE FALSE FALSE FALSE  TRUE  TRUE  TRUE  TRUE\n"
      ]
     },
     "metadata": {},
     "output_type": "display_data"
    }
   ],
   "source": [
    "as.list(results_3)"
   ]
  },
  {
   "cell_type": "markdown",
   "metadata": {},
   "source": [
    "Now, let's subset a data frame in different ways, and see the class of outputs"
   ]
  },
  {
   "cell_type": "code",
   "execution_count": 12,
   "metadata": {},
   "outputs": [
    {
     "data": {
      "text/html": [
       "<table>\n",
       "<thead><tr><th scope=col>names</th></tr></thead>\n",
       "<tbody>\n",
       "\t<tr><td>Ian G. </td></tr>\n",
       "\t<tr><td>Ritchie</td></tr>\n",
       "\t<tr><td>Ian P. </td></tr>\n",
       "\t<tr><td>Roger  </td></tr>\n",
       "\t<tr><td>Jon    </td></tr>\n",
       "\t<tr><td>Steve  </td></tr>\n",
       "\t<tr><td>Don    </td></tr>\n",
       "\t<tr><td>David  </td></tr>\n",
       "</tbody>\n",
       "</table>\n"
      ],
      "text/latex": [
       "\\begin{tabular}{r|l}\n",
       " names\\\\\n",
       "\\hline\n",
       "\t Ian G. \\\\\n",
       "\t Ritchie\\\\\n",
       "\t Ian P. \\\\\n",
       "\t Roger  \\\\\n",
       "\t Jon    \\\\\n",
       "\t Steve  \\\\\n",
       "\t Don    \\\\\n",
       "\t David  \\\\\n",
       "\\end{tabular}\n"
      ],
      "text/markdown": [
       "\n",
       "names | \n",
       "|---|---|---|---|---|---|---|---|\n",
       "| Ian G.  | \n",
       "| Ritchie | \n",
       "| Ian P.  | \n",
       "| Roger   | \n",
       "| Jon     | \n",
       "| Steve   | \n",
       "| Don     | \n",
       "| David   | \n",
       "\n",
       "\n"
      ],
      "text/plain": [
       "  names  \n",
       "1 Ian G. \n",
       "2 Ritchie\n",
       "3 Ian P. \n",
       "4 Roger  \n",
       "5 Jon    \n",
       "6 Steve  \n",
       "7 Don    \n",
       "8 David  "
      ]
     },
     "metadata": {},
     "output_type": "display_data"
    }
   ],
   "source": [
    "results_3[1]"
   ]
  },
  {
   "cell_type": "code",
   "execution_count": 13,
   "metadata": {},
   "outputs": [
    {
     "data": {
      "text/html": [
       "'data.frame'"
      ],
      "text/latex": [
       "'data.frame'"
      ],
      "text/markdown": [
       "'data.frame'"
      ],
      "text/plain": [
       "[1] \"data.frame\""
      ]
     },
     "metadata": {},
     "output_type": "display_data"
    }
   ],
   "source": [
    "class(results_3[1])"
   ]
  },
  {
   "cell_type": "markdown",
   "metadata": {},
   "source": [
    "Since a data frame is a list of equal length vectors with a dimension attribute, we can subset it with single brackets and a single index, just like a list\n",
    "\n",
    "And the output is a data.frame!"
   ]
  },
  {
   "cell_type": "markdown",
   "metadata": {},
   "source": [
    "Now let's subset it with 2 indices, just like a matrix"
   ]
  },
  {
   "cell_type": "code",
   "execution_count": 14,
   "metadata": {},
   "outputs": [
    {
     "data": {
      "text/html": [
       "'Ian G.'"
      ],
      "text/latex": [
       "'Ian G.'"
      ],
      "text/markdown": [
       "'Ian G.'"
      ],
      "text/plain": [
       "[1] \"Ian G.\""
      ]
     },
     "metadata": {},
     "output_type": "display_data"
    }
   ],
   "source": [
    "results_3[1,1]"
   ]
  },
  {
   "cell_type": "code",
   "execution_count": 15,
   "metadata": {},
   "outputs": [
    {
     "data": {
      "text/html": [
       "'character'"
      ],
      "text/latex": [
       "'character'"
      ],
      "text/markdown": [
       "'character'"
      ],
      "text/plain": [
       "[1] \"character\""
      ]
     },
     "metadata": {},
     "output_type": "display_data"
    }
   ],
   "source": [
    "class(results_3[1,1])"
   ]
  },
  {
   "cell_type": "markdown",
   "metadata": {},
   "source": [
    "So when a df is subsetted with two indices, and items from a single column is returned, we get inside the object - the column"
   ]
  },
  {
   "cell_type": "markdown",
   "metadata": {},
   "source": [
    "How about that:"
   ]
  },
  {
   "cell_type": "code",
   "execution_count": 16,
   "metadata": {},
   "outputs": [
    {
     "data": {
      "text/html": [
       "<table>\n",
       "<thead><tr><th scope=col>names</th><th scope=col>homework</th></tr></thead>\n",
       "<tbody>\n",
       "\t<tr><td>Ian G.</td><td>95    </td></tr>\n",
       "</tbody>\n",
       "</table>\n"
      ],
      "text/latex": [
       "\\begin{tabular}{r|ll}\n",
       " names & homework\\\\\n",
       "\\hline\n",
       "\t Ian G. & 95    \\\\\n",
       "\\end{tabular}\n"
      ],
      "text/markdown": [
       "\n",
       "names | homework | \n",
       "|---|\n",
       "| Ian G. | 95     | \n",
       "\n",
       "\n"
      ],
      "text/plain": [
       "  names  homework\n",
       "1 Ian G. 95      "
      ]
     },
     "metadata": {},
     "output_type": "display_data"
    }
   ],
   "source": [
    "results_3[1,1:2]"
   ]
  },
  {
   "cell_type": "code",
   "execution_count": 17,
   "metadata": {},
   "outputs": [
    {
     "data": {
      "text/html": [
       "'data.frame'"
      ],
      "text/latex": [
       "'data.frame'"
      ],
      "text/markdown": [
       "'data.frame'"
      ],
      "text/plain": [
       "[1] \"data.frame\""
      ]
     },
     "metadata": {},
     "output_type": "display_data"
    }
   ],
   "source": [
    "class(results_3[1,1:2])"
   ]
  },
  {
   "cell_type": "markdown",
   "metadata": {},
   "source": [
    "When we subset two columns wtih two indices, the result is still a data.frame! "
   ]
  },
  {
   "cell_type": "markdown",
   "metadata": {},
   "source": [
    "How about that:"
   ]
  },
  {
   "cell_type": "code",
   "execution_count": 18,
   "metadata": {},
   "outputs": [
    {
     "data": {
      "text/html": [
       "<table>\n",
       "<thead><tr><th scope=col>names</th></tr></thead>\n",
       "<tbody>\n",
       "\t<tr><td>Ian G. </td></tr>\n",
       "\t<tr><td>Ritchie</td></tr>\n",
       "\t<tr><td>Ian P. </td></tr>\n",
       "\t<tr><td>Roger  </td></tr>\n",
       "\t<tr><td>Jon    </td></tr>\n",
       "\t<tr><td>Steve  </td></tr>\n",
       "\t<tr><td>Don    </td></tr>\n",
       "\t<tr><td>David  </td></tr>\n",
       "</tbody>\n",
       "</table>\n"
      ],
      "text/latex": [
       "\\begin{tabular}{r|l}\n",
       " names\\\\\n",
       "\\hline\n",
       "\t Ian G. \\\\\n",
       "\t Ritchie\\\\\n",
       "\t Ian P. \\\\\n",
       "\t Roger  \\\\\n",
       "\t Jon    \\\\\n",
       "\t Steve  \\\\\n",
       "\t Don    \\\\\n",
       "\t David  \\\\\n",
       "\\end{tabular}\n"
      ],
      "text/markdown": [
       "\n",
       "names | \n",
       "|---|---|---|---|---|---|---|---|\n",
       "| Ian G.  | \n",
       "| Ritchie | \n",
       "| Ian P.  | \n",
       "| Roger   | \n",
       "| Jon     | \n",
       "| Steve   | \n",
       "| Don     | \n",
       "| David   | \n",
       "\n",
       "\n"
      ],
      "text/plain": [
       "  names  \n",
       "1 Ian G. \n",
       "2 Ritchie\n",
       "3 Ian P. \n",
       "4 Roger  \n",
       "5 Jon    \n",
       "6 Steve  \n",
       "7 Don    \n",
       "8 David  "
      ]
     },
     "metadata": {},
     "output_type": "display_data"
    }
   ],
   "source": [
    "results_3[1][1][1]"
   ]
  },
  {
   "cell_type": "markdown",
   "metadata": {},
   "source": [
    "You just subset the first column of a data frame that is itself a single column!"
   ]
  },
  {
   "cell_type": "code",
   "execution_count": 19,
   "metadata": {},
   "outputs": [
    {
     "data": {
      "text/html": [
       "'data.frame'"
      ],
      "text/latex": [
       "'data.frame'"
      ],
      "text/markdown": [
       "'data.frame'"
      ],
      "text/plain": [
       "[1] \"data.frame\""
      ]
     },
     "metadata": {},
     "output_type": "display_data"
    }
   ],
   "source": [
    "class(results_3[1][1])"
   ]
  },
  {
   "cell_type": "markdown",
   "metadata": {},
   "source": [
    "Now let's subset with double brackets, just like a list!"
   ]
  },
  {
   "cell_type": "code",
   "execution_count": 20,
   "metadata": {},
   "outputs": [
    {
     "data": {
      "text/html": [
       "<ol class=list-inline>\n",
       "\t<li>'Ian G.'</li>\n",
       "\t<li>'Ritchie'</li>\n",
       "\t<li>'Ian P.'</li>\n",
       "\t<li>'Roger'</li>\n",
       "\t<li>'Jon'</li>\n",
       "\t<li>'Steve'</li>\n",
       "\t<li>'Don'</li>\n",
       "\t<li>'David'</li>\n",
       "</ol>\n"
      ],
      "text/latex": [
       "\\begin{enumerate*}\n",
       "\\item 'Ian G.'\n",
       "\\item 'Ritchie'\n",
       "\\item 'Ian P.'\n",
       "\\item 'Roger'\n",
       "\\item 'Jon'\n",
       "\\item 'Steve'\n",
       "\\item 'Don'\n",
       "\\item 'David'\n",
       "\\end{enumerate*}\n"
      ],
      "text/markdown": [
       "1. 'Ian G.'\n",
       "2. 'Ritchie'\n",
       "3. 'Ian P.'\n",
       "4. 'Roger'\n",
       "5. 'Jon'\n",
       "6. 'Steve'\n",
       "7. 'Don'\n",
       "8. 'David'\n",
       "\n",
       "\n"
      ],
      "text/plain": [
       "[1] \"Ian G.\"  \"Ritchie\" \"Ian P.\"  \"Roger\"   \"Jon\"     \"Steve\"   \"Don\"    \n",
       "[8] \"David\"  "
      ]
     },
     "metadata": {},
     "output_type": "display_data"
    },
    {
     "data": {
      "text/html": [
       "'character'"
      ],
      "text/latex": [
       "'character'"
      ],
      "text/markdown": [
       "'character'"
      ],
      "text/plain": [
       "[1] \"character\""
      ]
     },
     "metadata": {},
     "output_type": "display_data"
    }
   ],
   "source": [
    "results_3[[1]]\n",
    "class(results_3[[1]])"
   ]
  },
  {
   "cell_type": "markdown",
   "metadata": {},
   "source": [
    "So we get inside the object, just like list indexing with double brackets"
   ]
  },
  {
   "cell_type": "markdown",
   "metadata": {},
   "source": [
    "And we can chain subsetting operators to get into the items, just like in lists:"
   ]
  },
  {
   "cell_type": "code",
   "execution_count": 21,
   "metadata": {},
   "outputs": [
    {
     "data": {
      "text/html": [
       "'Ian G.'"
      ],
      "text/latex": [
       "'Ian G.'"
      ],
      "text/markdown": [
       "'Ian G.'"
      ],
      "text/plain": [
       "[1] \"Ian G.\""
      ]
     },
     "metadata": {},
     "output_type": "display_data"
    },
    {
     "data": {
      "text/html": [
       "'character'"
      ],
      "text/latex": [
       "'character'"
      ],
      "text/markdown": [
       "'character'"
      ],
      "text/plain": [
       "[1] \"character\""
      ]
     },
     "metadata": {},
     "output_type": "display_data"
    }
   ],
   "source": [
    "results_3[[1]][1]\n",
    "class(results_3[[1]][1])"
   ]
  },
  {
   "cell_type": "markdown",
   "metadata": {},
   "source": [
    "How about subsetting with names"
   ]
  },
  {
   "cell_type": "code",
   "execution_count": 22,
   "metadata": {},
   "outputs": [
    {
     "data": {
      "text/html": [
       "'Ian G.'"
      ],
      "text/latex": [
       "'Ian G.'"
      ],
      "text/markdown": [
       "'Ian G.'"
      ],
      "text/plain": [
       "[1] \"Ian G.\""
      ]
     },
     "metadata": {},
     "output_type": "display_data"
    },
    {
     "data": {
      "text/html": [
       "'character'"
      ],
      "text/latex": [
       "'character'"
      ],
      "text/markdown": [
       "'character'"
      ],
      "text/plain": [
       "[1] \"character\""
      ]
     },
     "metadata": {},
     "output_type": "display_data"
    }
   ],
   "source": [
    "results_3$names[1]\n",
    "class(results_3$names[1])"
   ]
  },
  {
   "cell_type": "code",
   "execution_count": 23,
   "metadata": {},
   "outputs": [
    {
     "data": {
      "text/html": [
       "'Ian G.'"
      ],
      "text/latex": [
       "'Ian G.'"
      ],
      "text/markdown": [
       "'Ian G.'"
      ],
      "text/plain": [
       "[1] \"Ian G.\""
      ]
     },
     "metadata": {},
     "output_type": "display_data"
    },
    {
     "data": {
      "text/html": [
       "'character'"
      ],
      "text/latex": [
       "'character'"
      ],
      "text/markdown": [
       "'character'"
      ],
      "text/plain": [
       "[1] \"character\""
      ]
     },
     "metadata": {},
     "output_type": "display_data"
    }
   ],
   "source": [
    "results_3[[\"names\"]][1]\n",
    "class(results_3[[\"names\"]][1])"
   ]
  },
  {
   "cell_type": "markdown",
   "metadata": {},
   "source": [
    "What if we cbind a vector?"
   ]
  },
  {
   "cell_type": "code",
   "execution_count": 24,
   "metadata": {
    "collapsed": true
   },
   "outputs": [],
   "source": [
    "instruments <- c(\"vocals\", \"guitar\", \"drums\", \"bass\", \"hammond organ\", \"guitar\", \"hammond organ\", \"vocals\")"
   ]
  },
  {
   "cell_type": "code",
   "execution_count": 25,
   "metadata": {},
   "outputs": [
    {
     "data": {
      "text/html": [
       "<table>\n",
       "<thead><tr><th scope=col>names</th><th scope=col>homework</th><th scope=col>midterm</th><th scope=col>final</th><th scope=col>attendance</th><th scope=col>instruments</th></tr></thead>\n",
       "<tbody>\n",
       "\t<tr><td>Ian G.       </td><td> 95          </td><td>80           </td><td>87           </td><td> TRUE        </td><td>vocals       </td></tr>\n",
       "\t<tr><td>Ritchie      </td><td> 60          </td><td>62           </td><td>50           </td><td>FALSE        </td><td>guitar       </td></tr>\n",
       "\t<tr><td>Ian P.       </td><td> 40          </td><td>38           </td><td>62           </td><td>FALSE        </td><td>drums        </td></tr>\n",
       "\t<tr><td>Roger        </td><td> 40          </td><td>20           </td><td>10           </td><td>FALSE        </td><td>bass         </td></tr>\n",
       "\t<tr><td>Jon          </td><td>100          </td><td>74           </td><td>72           </td><td> TRUE        </td><td>hammond organ</td></tr>\n",
       "\t<tr><td>Steve        </td><td> 25          </td><td>56           </td><td>61           </td><td> TRUE        </td><td>guitar       </td></tr>\n",
       "\t<tr><td>Don          </td><td> 50          </td><td>18           </td><td>27           </td><td> TRUE        </td><td>hammond organ</td></tr>\n",
       "\t<tr><td>David        </td><td> 94          </td><td>67           </td><td>60           </td><td> TRUE        </td><td>vocals       </td></tr>\n",
       "</tbody>\n",
       "</table>\n"
      ],
      "text/latex": [
       "\\begin{tabular}{r|llllll}\n",
       " names & homework & midterm & final & attendance & instruments\\\\\n",
       "\\hline\n",
       "\t Ian G.        &  95           & 80            & 87            &  TRUE         & vocals       \\\\\n",
       "\t Ritchie       &  60           & 62            & 50            & FALSE         & guitar       \\\\\n",
       "\t Ian P.        &  40           & 38            & 62            & FALSE         & drums        \\\\\n",
       "\t Roger         &  40           & 20            & 10            & FALSE         & bass         \\\\\n",
       "\t Jon           & 100           & 74            & 72            &  TRUE         & hammond organ\\\\\n",
       "\t Steve         &  25           & 56            & 61            &  TRUE         & guitar       \\\\\n",
       "\t Don           &  50           & 18            & 27            &  TRUE         & hammond organ\\\\\n",
       "\t David         &  94           & 67            & 60            &  TRUE         & vocals       \\\\\n",
       "\\end{tabular}\n"
      ],
      "text/markdown": [
       "\n",
       "names | homework | midterm | final | attendance | instruments | \n",
       "|---|---|---|---|---|---|---|---|\n",
       "| Ian G.        |  95           | 80            | 87            |  TRUE         | vocals        | \n",
       "| Ritchie       |  60           | 62            | 50            | FALSE         | guitar        | \n",
       "| Ian P.        |  40           | 38            | 62            | FALSE         | drums         | \n",
       "| Roger         |  40           | 20            | 10            | FALSE         | bass          | \n",
       "| Jon           | 100           | 74            | 72            |  TRUE         | hammond organ | \n",
       "| Steve         |  25           | 56            | 61            |  TRUE         | guitar        | \n",
       "| Don           |  50           | 18            | 27            |  TRUE         | hammond organ | \n",
       "| David         |  94           | 67            | 60            |  TRUE         | vocals        | \n",
       "\n",
       "\n"
      ],
      "text/plain": [
       "  names   homework midterm final attendance instruments  \n",
       "1 Ian G.   95      80      87     TRUE      vocals       \n",
       "2 Ritchie  60      62      50    FALSE      guitar       \n",
       "3 Ian P.   40      38      62    FALSE      drums        \n",
       "4 Roger    40      20      10    FALSE      bass         \n",
       "5 Jon     100      74      72     TRUE      hammond organ\n",
       "6 Steve    25      56      61     TRUE      guitar       \n",
       "7 Don      50      18      27     TRUE      hammond organ\n",
       "8 David    94      67      60     TRUE      vocals       "
      ]
     },
     "metadata": {},
     "output_type": "display_data"
    },
    {
     "data": {
      "text/html": [
       "'data.frame'"
      ],
      "text/latex": [
       "'data.frame'"
      ],
      "text/markdown": [
       "'data.frame'"
      ],
      "text/plain": [
       "[1] \"data.frame\""
      ]
     },
     "metadata": {},
     "output_type": "display_data"
    }
   ],
   "source": [
    "results_4 <- cbind(results_3, instruments)\n",
    "results_4\n",
    "class(results_4)"
   ]
  },
  {
   "cell_type": "markdown",
   "metadata": {},
   "source": [
    "See it retains its data.frame status"
   ]
  },
  {
   "cell_type": "markdown",
   "metadata": {},
   "source": [
    "Now add a column by assignment"
   ]
  },
  {
   "cell_type": "code",
   "execution_count": 26,
   "metadata": {},
   "outputs": [
    {
     "data": {
      "text/html": [
       "<table>\n",
       "<thead><tr><th scope=col>names</th><th scope=col>homework</th><th scope=col>midterm</th><th scope=col>final</th><th scope=col>attendance</th></tr></thead>\n",
       "<tbody>\n",
       "\t<tr><td>Ian G. </td><td> 95    </td><td>80     </td><td>87     </td><td> TRUE  </td></tr>\n",
       "\t<tr><td>Ritchie</td><td> 60    </td><td>62     </td><td>50     </td><td>FALSE  </td></tr>\n",
       "\t<tr><td>Ian P. </td><td> 40    </td><td>38     </td><td>62     </td><td>FALSE  </td></tr>\n",
       "\t<tr><td>Roger  </td><td> 40    </td><td>20     </td><td>10     </td><td>FALSE  </td></tr>\n",
       "\t<tr><td>Jon    </td><td>100    </td><td>74     </td><td>72     </td><td> TRUE  </td></tr>\n",
       "\t<tr><td>Steve  </td><td> 25    </td><td>56     </td><td>61     </td><td> TRUE  </td></tr>\n",
       "\t<tr><td>Don    </td><td> 50    </td><td>18     </td><td>27     </td><td> TRUE  </td></tr>\n",
       "\t<tr><td>David  </td><td> 94    </td><td>67     </td><td>60     </td><td> TRUE  </td></tr>\n",
       "</tbody>\n",
       "</table>\n"
      ],
      "text/latex": [
       "\\begin{tabular}{r|lllll}\n",
       " names & homework & midterm & final & attendance\\\\\n",
       "\\hline\n",
       "\t Ian G.  &  95     & 80      & 87      &  TRUE  \\\\\n",
       "\t Ritchie &  60     & 62      & 50      & FALSE  \\\\\n",
       "\t Ian P.  &  40     & 38      & 62      & FALSE  \\\\\n",
       "\t Roger   &  40     & 20      & 10      & FALSE  \\\\\n",
       "\t Jon     & 100     & 74      & 72      &  TRUE  \\\\\n",
       "\t Steve   &  25     & 56      & 61      &  TRUE  \\\\\n",
       "\t Don     &  50     & 18      & 27      &  TRUE  \\\\\n",
       "\t David   &  94     & 67      & 60      &  TRUE  \\\\\n",
       "\\end{tabular}\n"
      ],
      "text/markdown": [
       "\n",
       "names | homework | midterm | final | attendance | \n",
       "|---|---|---|---|---|---|---|---|\n",
       "| Ian G.  |  95     | 80      | 87      |  TRUE   | \n",
       "| Ritchie |  60     | 62      | 50      | FALSE   | \n",
       "| Ian P.  |  40     | 38      | 62      | FALSE   | \n",
       "| Roger   |  40     | 20      | 10      | FALSE   | \n",
       "| Jon     | 100     | 74      | 72      |  TRUE   | \n",
       "| Steve   |  25     | 56      | 61      |  TRUE   | \n",
       "| Don     |  50     | 18      | 27      |  TRUE   | \n",
       "| David   |  94     | 67      | 60      |  TRUE   | \n",
       "\n",
       "\n"
      ],
      "text/plain": [
       "  names   homework midterm final attendance\n",
       "1 Ian G.   95      80      87     TRUE     \n",
       "2 Ritchie  60      62      50    FALSE     \n",
       "3 Ian P.   40      38      62    FALSE     \n",
       "4 Roger    40      20      10    FALSE     \n",
       "5 Jon     100      74      72     TRUE     \n",
       "6 Steve    25      56      61     TRUE     \n",
       "7 Don      50      18      27     TRUE     \n",
       "8 David    94      67      60     TRUE     "
      ]
     },
     "metadata": {},
     "output_type": "display_data"
    },
    {
     "data": {
      "text/html": [
       "<table>\n",
       "<thead><tr><th scope=col>names</th><th scope=col>homework</th><th scope=col>midterm</th><th scope=col>final</th><th scope=col>attendance</th><th scope=col>instruments</th></tr></thead>\n",
       "<tbody>\n",
       "\t<tr><td>Ian G.       </td><td> 95          </td><td>80           </td><td>87           </td><td> TRUE        </td><td>vocals       </td></tr>\n",
       "\t<tr><td>Ritchie      </td><td> 60          </td><td>62           </td><td>50           </td><td>FALSE        </td><td>guitar       </td></tr>\n",
       "\t<tr><td>Ian P.       </td><td> 40          </td><td>38           </td><td>62           </td><td>FALSE        </td><td>drums        </td></tr>\n",
       "\t<tr><td>Roger        </td><td> 40          </td><td>20           </td><td>10           </td><td>FALSE        </td><td>bass         </td></tr>\n",
       "\t<tr><td>Jon          </td><td>100          </td><td>74           </td><td>72           </td><td> TRUE        </td><td>hammond organ</td></tr>\n",
       "\t<tr><td>Steve        </td><td> 25          </td><td>56           </td><td>61           </td><td> TRUE        </td><td>guitar       </td></tr>\n",
       "\t<tr><td>Don          </td><td> 50          </td><td>18           </td><td>27           </td><td> TRUE        </td><td>hammond organ</td></tr>\n",
       "\t<tr><td>David        </td><td> 94          </td><td>67           </td><td>60           </td><td> TRUE        </td><td>vocals       </td></tr>\n",
       "</tbody>\n",
       "</table>\n"
      ],
      "text/latex": [
       "\\begin{tabular}{r|llllll}\n",
       " names & homework & midterm & final & attendance & instruments\\\\\n",
       "\\hline\n",
       "\t Ian G.        &  95           & 80            & 87            &  TRUE         & vocals       \\\\\n",
       "\t Ritchie       &  60           & 62            & 50            & FALSE         & guitar       \\\\\n",
       "\t Ian P.        &  40           & 38            & 62            & FALSE         & drums        \\\\\n",
       "\t Roger         &  40           & 20            & 10            & FALSE         & bass         \\\\\n",
       "\t Jon           & 100           & 74            & 72            &  TRUE         & hammond organ\\\\\n",
       "\t Steve         &  25           & 56            & 61            &  TRUE         & guitar       \\\\\n",
       "\t Don           &  50           & 18            & 27            &  TRUE         & hammond organ\\\\\n",
       "\t David         &  94           & 67            & 60            &  TRUE         & vocals       \\\\\n",
       "\\end{tabular}\n"
      ],
      "text/markdown": [
       "\n",
       "names | homework | midterm | final | attendance | instruments | \n",
       "|---|---|---|---|---|---|---|---|\n",
       "| Ian G.        |  95           | 80            | 87            |  TRUE         | vocals        | \n",
       "| Ritchie       |  60           | 62            | 50            | FALSE         | guitar        | \n",
       "| Ian P.        |  40           | 38            | 62            | FALSE         | drums         | \n",
       "| Roger         |  40           | 20            | 10            | FALSE         | bass          | \n",
       "| Jon           | 100           | 74            | 72            |  TRUE         | hammond organ | \n",
       "| Steve         |  25           | 56            | 61            |  TRUE         | guitar        | \n",
       "| Don           |  50           | 18            | 27            |  TRUE         | hammond organ | \n",
       "| David         |  94           | 67            | 60            |  TRUE         | vocals        | \n",
       "\n",
       "\n"
      ],
      "text/plain": [
       "  names   homework midterm final attendance instruments  \n",
       "1 Ian G.   95      80      87     TRUE      vocals       \n",
       "2 Ritchie  60      62      50    FALSE      guitar       \n",
       "3 Ian P.   40      38      62    FALSE      drums        \n",
       "4 Roger    40      20      10    FALSE      bass         \n",
       "5 Jon     100      74      72     TRUE      hammond organ\n",
       "6 Steve    25      56      61     TRUE      guitar       \n",
       "7 Don      50      18      27     TRUE      hammond organ\n",
       "8 David    94      67      60     TRUE      vocals       "
      ]
     },
     "metadata": {},
     "output_type": "display_data"
    },
    {
     "data": {
      "text/html": [
       "'data.frame'"
      ],
      "text/latex": [
       "'data.frame'"
      ],
      "text/markdown": [
       "'data.frame'"
      ],
      "text/plain": [
       "[1] \"data.frame\""
      ]
     },
     "metadata": {},
     "output_type": "display_data"
    }
   ],
   "source": [
    "results_4 <- results_3\n",
    "results_4\n",
    "results_4$instruments <- instruments\n",
    "results_4\n",
    "class(results_4)"
   ]
  },
  {
   "cell_type": "markdown",
   "metadata": {},
   "source": [
    "Add a column by indexing"
   ]
  },
  {
   "cell_type": "code",
   "execution_count": 27,
   "metadata": {},
   "outputs": [
    {
     "data": {
      "text/html": [
       "<table>\n",
       "<thead><tr><th scope=col>names</th><th scope=col>homework</th><th scope=col>midterm</th><th scope=col>final</th><th scope=col>attendance</th></tr></thead>\n",
       "<tbody>\n",
       "\t<tr><td>Ian G. </td><td> 95    </td><td>80     </td><td>87     </td><td> TRUE  </td></tr>\n",
       "\t<tr><td>Ritchie</td><td> 60    </td><td>62     </td><td>50     </td><td>FALSE  </td></tr>\n",
       "\t<tr><td>Ian P. </td><td> 40    </td><td>38     </td><td>62     </td><td>FALSE  </td></tr>\n",
       "\t<tr><td>Roger  </td><td> 40    </td><td>20     </td><td>10     </td><td>FALSE  </td></tr>\n",
       "\t<tr><td>Jon    </td><td>100    </td><td>74     </td><td>72     </td><td> TRUE  </td></tr>\n",
       "\t<tr><td>Steve  </td><td> 25    </td><td>56     </td><td>61     </td><td> TRUE  </td></tr>\n",
       "\t<tr><td>Don    </td><td> 50    </td><td>18     </td><td>27     </td><td> TRUE  </td></tr>\n",
       "\t<tr><td>David  </td><td> 94    </td><td>67     </td><td>60     </td><td> TRUE  </td></tr>\n",
       "</tbody>\n",
       "</table>\n"
      ],
      "text/latex": [
       "\\begin{tabular}{r|lllll}\n",
       " names & homework & midterm & final & attendance\\\\\n",
       "\\hline\n",
       "\t Ian G.  &  95     & 80      & 87      &  TRUE  \\\\\n",
       "\t Ritchie &  60     & 62      & 50      & FALSE  \\\\\n",
       "\t Ian P.  &  40     & 38      & 62      & FALSE  \\\\\n",
       "\t Roger   &  40     & 20      & 10      & FALSE  \\\\\n",
       "\t Jon     & 100     & 74      & 72      &  TRUE  \\\\\n",
       "\t Steve   &  25     & 56      & 61      &  TRUE  \\\\\n",
       "\t Don     &  50     & 18      & 27      &  TRUE  \\\\\n",
       "\t David   &  94     & 67      & 60      &  TRUE  \\\\\n",
       "\\end{tabular}\n"
      ],
      "text/markdown": [
       "\n",
       "names | homework | midterm | final | attendance | \n",
       "|---|---|---|---|---|---|---|---|\n",
       "| Ian G.  |  95     | 80      | 87      |  TRUE   | \n",
       "| Ritchie |  60     | 62      | 50      | FALSE   | \n",
       "| Ian P.  |  40     | 38      | 62      | FALSE   | \n",
       "| Roger   |  40     | 20      | 10      | FALSE   | \n",
       "| Jon     | 100     | 74      | 72      |  TRUE   | \n",
       "| Steve   |  25     | 56      | 61      |  TRUE   | \n",
       "| Don     |  50     | 18      | 27      |  TRUE   | \n",
       "| David   |  94     | 67      | 60      |  TRUE   | \n",
       "\n",
       "\n"
      ],
      "text/plain": [
       "  names   homework midterm final attendance\n",
       "1 Ian G.   95      80      87     TRUE     \n",
       "2 Ritchie  60      62      50    FALSE     \n",
       "3 Ian P.   40      38      62    FALSE     \n",
       "4 Roger    40      20      10    FALSE     \n",
       "5 Jon     100      74      72     TRUE     \n",
       "6 Steve    25      56      61     TRUE     \n",
       "7 Don      50      18      27     TRUE     \n",
       "8 David    94      67      60     TRUE     "
      ]
     },
     "metadata": {},
     "output_type": "display_data"
    },
    {
     "data": {
      "text/html": [
       "<table>\n",
       "<thead><tr><th scope=col>names</th><th scope=col>homework</th><th scope=col>midterm</th><th scope=col>final</th><th scope=col>attendance</th><th scope=col>V6</th></tr></thead>\n",
       "<tbody>\n",
       "\t<tr><td>Ian G.       </td><td> 95          </td><td>80           </td><td>87           </td><td> TRUE        </td><td>vocals       </td></tr>\n",
       "\t<tr><td>Ritchie      </td><td> 60          </td><td>62           </td><td>50           </td><td>FALSE        </td><td>guitar       </td></tr>\n",
       "\t<tr><td>Ian P.       </td><td> 40          </td><td>38           </td><td>62           </td><td>FALSE        </td><td>drums        </td></tr>\n",
       "\t<tr><td>Roger        </td><td> 40          </td><td>20           </td><td>10           </td><td>FALSE        </td><td>bass         </td></tr>\n",
       "\t<tr><td>Jon          </td><td>100          </td><td>74           </td><td>72           </td><td> TRUE        </td><td>hammond organ</td></tr>\n",
       "\t<tr><td>Steve        </td><td> 25          </td><td>56           </td><td>61           </td><td> TRUE        </td><td>guitar       </td></tr>\n",
       "\t<tr><td>Don          </td><td> 50          </td><td>18           </td><td>27           </td><td> TRUE        </td><td>hammond organ</td></tr>\n",
       "\t<tr><td>David        </td><td> 94          </td><td>67           </td><td>60           </td><td> TRUE        </td><td>vocals       </td></tr>\n",
       "</tbody>\n",
       "</table>\n"
      ],
      "text/latex": [
       "\\begin{tabular}{r|llllll}\n",
       " names & homework & midterm & final & attendance & V6\\\\\n",
       "\\hline\n",
       "\t Ian G.        &  95           & 80            & 87            &  TRUE         & vocals       \\\\\n",
       "\t Ritchie       &  60           & 62            & 50            & FALSE         & guitar       \\\\\n",
       "\t Ian P.        &  40           & 38            & 62            & FALSE         & drums        \\\\\n",
       "\t Roger         &  40           & 20            & 10            & FALSE         & bass         \\\\\n",
       "\t Jon           & 100           & 74            & 72            &  TRUE         & hammond organ\\\\\n",
       "\t Steve         &  25           & 56            & 61            &  TRUE         & guitar       \\\\\n",
       "\t Don           &  50           & 18            & 27            &  TRUE         & hammond organ\\\\\n",
       "\t David         &  94           & 67            & 60            &  TRUE         & vocals       \\\\\n",
       "\\end{tabular}\n"
      ],
      "text/markdown": [
       "\n",
       "names | homework | midterm | final | attendance | V6 | \n",
       "|---|---|---|---|---|---|---|---|\n",
       "| Ian G.        |  95           | 80            | 87            |  TRUE         | vocals        | \n",
       "| Ritchie       |  60           | 62            | 50            | FALSE         | guitar        | \n",
       "| Ian P.        |  40           | 38            | 62            | FALSE         | drums         | \n",
       "| Roger         |  40           | 20            | 10            | FALSE         | bass          | \n",
       "| Jon           | 100           | 74            | 72            |  TRUE         | hammond organ | \n",
       "| Steve         |  25           | 56            | 61            |  TRUE         | guitar        | \n",
       "| Don           |  50           | 18            | 27            |  TRUE         | hammond organ | \n",
       "| David         |  94           | 67            | 60            |  TRUE         | vocals        | \n",
       "\n",
       "\n"
      ],
      "text/plain": [
       "  names   homework midterm final attendance V6           \n",
       "1 Ian G.   95      80      87     TRUE      vocals       \n",
       "2 Ritchie  60      62      50    FALSE      guitar       \n",
       "3 Ian P.   40      38      62    FALSE      drums        \n",
       "4 Roger    40      20      10    FALSE      bass         \n",
       "5 Jon     100      74      72     TRUE      hammond organ\n",
       "6 Steve    25      56      61     TRUE      guitar       \n",
       "7 Don      50      18      27     TRUE      hammond organ\n",
       "8 David    94      67      60     TRUE      vocals       "
      ]
     },
     "metadata": {},
     "output_type": "display_data"
    },
    {
     "data": {
      "text/html": [
       "'data.frame'"
      ],
      "text/latex": [
       "'data.frame'"
      ],
      "text/markdown": [
       "'data.frame'"
      ],
      "text/plain": [
       "[1] \"data.frame\""
      ]
     },
     "metadata": {},
     "output_type": "display_data"
    },
    {
     "data": {
      "text/html": [
       "<ol class=list-inline>\n",
       "\t<li>'names'</li>\n",
       "\t<li>'homework'</li>\n",
       "\t<li>'midterm'</li>\n",
       "\t<li>'final'</li>\n",
       "\t<li>'attendance'</li>\n",
       "\t<li>'V6'</li>\n",
       "</ol>\n"
      ],
      "text/latex": [
       "\\begin{enumerate*}\n",
       "\\item 'names'\n",
       "\\item 'homework'\n",
       "\\item 'midterm'\n",
       "\\item 'final'\n",
       "\\item 'attendance'\n",
       "\\item 'V6'\n",
       "\\end{enumerate*}\n"
      ],
      "text/markdown": [
       "1. 'names'\n",
       "2. 'homework'\n",
       "3. 'midterm'\n",
       "4. 'final'\n",
       "5. 'attendance'\n",
       "6. 'V6'\n",
       "\n",
       "\n"
      ],
      "text/plain": [
       "[1] \"names\"      \"homework\"   \"midterm\"    \"final\"      \"attendance\"\n",
       "[6] \"V6\"        "
      ]
     },
     "metadata": {},
     "output_type": "display_data"
    }
   ],
   "source": [
    "results_4 <- results_3\n",
    "results_4\n",
    "results_4[6] <- instruments\n",
    "results_4\n",
    "class(results_4)\n",
    "names(results_4)\n"
   ]
  },
  {
   "cell_type": "code",
   "execution_count": 28,
   "metadata": {},
   "outputs": [
    {
     "data": {
      "text/html": [
       "<table>\n",
       "<thead><tr><th scope=col>names</th><th scope=col>homework</th><th scope=col>midterm</th><th scope=col>final</th><th scope=col>attendance</th><th scope=col>instruments</th></tr></thead>\n",
       "<tbody>\n",
       "\t<tr><td>Ian G.       </td><td> 95          </td><td>80           </td><td>87           </td><td> TRUE        </td><td>vocals       </td></tr>\n",
       "\t<tr><td>Ritchie      </td><td> 60          </td><td>62           </td><td>50           </td><td>FALSE        </td><td>guitar       </td></tr>\n",
       "\t<tr><td>Ian P.       </td><td> 40          </td><td>38           </td><td>62           </td><td>FALSE        </td><td>drums        </td></tr>\n",
       "\t<tr><td>Roger        </td><td> 40          </td><td>20           </td><td>10           </td><td>FALSE        </td><td>bass         </td></tr>\n",
       "\t<tr><td>Jon          </td><td>100          </td><td>74           </td><td>72           </td><td> TRUE        </td><td>hammond organ</td></tr>\n",
       "\t<tr><td>Steve        </td><td> 25          </td><td>56           </td><td>61           </td><td> TRUE        </td><td>guitar       </td></tr>\n",
       "\t<tr><td>Don          </td><td> 50          </td><td>18           </td><td>27           </td><td> TRUE        </td><td>hammond organ</td></tr>\n",
       "\t<tr><td>David        </td><td> 94          </td><td>67           </td><td>60           </td><td> TRUE        </td><td>vocals       </td></tr>\n",
       "</tbody>\n",
       "</table>\n"
      ],
      "text/latex": [
       "\\begin{tabular}{r|llllll}\n",
       " names & homework & midterm & final & attendance & instruments\\\\\n",
       "\\hline\n",
       "\t Ian G.        &  95           & 80            & 87            &  TRUE         & vocals       \\\\\n",
       "\t Ritchie       &  60           & 62            & 50            & FALSE         & guitar       \\\\\n",
       "\t Ian P.        &  40           & 38            & 62            & FALSE         & drums        \\\\\n",
       "\t Roger         &  40           & 20            & 10            & FALSE         & bass         \\\\\n",
       "\t Jon           & 100           & 74            & 72            &  TRUE         & hammond organ\\\\\n",
       "\t Steve         &  25           & 56            & 61            &  TRUE         & guitar       \\\\\n",
       "\t Don           &  50           & 18            & 27            &  TRUE         & hammond organ\\\\\n",
       "\t David         &  94           & 67            & 60            &  TRUE         & vocals       \\\\\n",
       "\\end{tabular}\n"
      ],
      "text/markdown": [
       "\n",
       "names | homework | midterm | final | attendance | instruments | \n",
       "|---|---|---|---|---|---|---|---|\n",
       "| Ian G.        |  95           | 80            | 87            |  TRUE         | vocals        | \n",
       "| Ritchie       |  60           | 62            | 50            | FALSE         | guitar        | \n",
       "| Ian P.        |  40           | 38            | 62            | FALSE         | drums         | \n",
       "| Roger         |  40           | 20            | 10            | FALSE         | bass          | \n",
       "| Jon           | 100           | 74            | 72            |  TRUE         | hammond organ | \n",
       "| Steve         |  25           | 56            | 61            |  TRUE         | guitar        | \n",
       "| Don           |  50           | 18            | 27            |  TRUE         | hammond organ | \n",
       "| David         |  94           | 67            | 60            |  TRUE         | vocals        | \n",
       "\n",
       "\n"
      ],
      "text/plain": [
       "  names   homework midterm final attendance instruments  \n",
       "1 Ian G.   95      80      87     TRUE      vocals       \n",
       "2 Ritchie  60      62      50    FALSE      guitar       \n",
       "3 Ian P.   40      38      62    FALSE      drums        \n",
       "4 Roger    40      20      10    FALSE      bass         \n",
       "5 Jon     100      74      72     TRUE      hammond organ\n",
       "6 Steve    25      56      61     TRUE      guitar       \n",
       "7 Don      50      18      27     TRUE      hammond organ\n",
       "8 David    94      67      60     TRUE      vocals       "
      ]
     },
     "metadata": {},
     "output_type": "display_data"
    },
    {
     "data": {
      "text/html": [
       "<table>\n",
       "<thead><tr><th scope=col>names</th><th scope=col>homework</th><th scope=col>midterm</th><th scope=col>final</th><th scope=col>attendance</th><th scope=col>instruments</th></tr></thead>\n",
       "<tbody>\n",
       "\t<tr><td>Ian G.       </td><td> 95          </td><td>80           </td><td>87           </td><td> TRUE        </td><td>vocals       </td></tr>\n",
       "\t<tr><td>Ritchie      </td><td> 60          </td><td>62           </td><td>50           </td><td>FALSE        </td><td>guitar       </td></tr>\n",
       "\t<tr><td>Ian P.       </td><td> 40          </td><td>38           </td><td>62           </td><td>FALSE        </td><td>drums        </td></tr>\n",
       "\t<tr><td>Roger        </td><td> 40          </td><td>20           </td><td>10           </td><td>FALSE        </td><td>bass         </td></tr>\n",
       "\t<tr><td>Jon          </td><td>100          </td><td>74           </td><td>72           </td><td> TRUE        </td><td>hammond organ</td></tr>\n",
       "\t<tr><td>Steve        </td><td> 25          </td><td>56           </td><td>61           </td><td> TRUE        </td><td>guitar       </td></tr>\n",
       "\t<tr><td>Don          </td><td> 50          </td><td>18           </td><td>27           </td><td> TRUE        </td><td>hammond organ</td></tr>\n",
       "\t<tr><td>David        </td><td> 94          </td><td>67           </td><td>60           </td><td> TRUE        </td><td>vocals       </td></tr>\n",
       "</tbody>\n",
       "</table>\n"
      ],
      "text/latex": [
       "\\begin{tabular}{r|llllll}\n",
       " names & homework & midterm & final & attendance & instruments\\\\\n",
       "\\hline\n",
       "\t Ian G.        &  95           & 80            & 87            &  TRUE         & vocals       \\\\\n",
       "\t Ritchie       &  60           & 62            & 50            & FALSE         & guitar       \\\\\n",
       "\t Ian P.        &  40           & 38            & 62            & FALSE         & drums        \\\\\n",
       "\t Roger         &  40           & 20            & 10            & FALSE         & bass         \\\\\n",
       "\t Jon           & 100           & 74            & 72            &  TRUE         & hammond organ\\\\\n",
       "\t Steve         &  25           & 56            & 61            &  TRUE         & guitar       \\\\\n",
       "\t Don           &  50           & 18            & 27            &  TRUE         & hammond organ\\\\\n",
       "\t David         &  94           & 67            & 60            &  TRUE         & vocals       \\\\\n",
       "\\end{tabular}\n"
      ],
      "text/markdown": [
       "\n",
       "names | homework | midterm | final | attendance | instruments | \n",
       "|---|---|---|---|---|---|---|---|\n",
       "| Ian G.        |  95           | 80            | 87            |  TRUE         | vocals        | \n",
       "| Ritchie       |  60           | 62            | 50            | FALSE         | guitar        | \n",
       "| Ian P.        |  40           | 38            | 62            | FALSE         | drums         | \n",
       "| Roger         |  40           | 20            | 10            | FALSE         | bass          | \n",
       "| Jon           | 100           | 74            | 72            |  TRUE         | hammond organ | \n",
       "| Steve         |  25           | 56            | 61            |  TRUE         | guitar        | \n",
       "| Don           |  50           | 18            | 27            |  TRUE         | hammond organ | \n",
       "| David         |  94           | 67            | 60            |  TRUE         | vocals        | \n",
       "\n",
       "\n"
      ],
      "text/plain": [
       "  names   homework midterm final attendance instruments  \n",
       "1 Ian G.   95      80      87     TRUE      vocals       \n",
       "2 Ritchie  60      62      50    FALSE      guitar       \n",
       "3 Ian P.   40      38      62    FALSE      drums        \n",
       "4 Roger    40      20      10    FALSE      bass         \n",
       "5 Jon     100      74      72     TRUE      hammond organ\n",
       "6 Steve    25      56      61     TRUE      guitar       \n",
       "7 Don      50      18      27     TRUE      hammond organ\n",
       "8 David    94      67      60     TRUE      vocals       "
      ]
     },
     "metadata": {},
     "output_type": "display_data"
    },
    {
     "data": {
      "text/html": [
       "<table>\n",
       "<thead><tr><th scope=col>names</th><th scope=col>homework</th><th scope=col>midterm</th><th scope=col>final</th><th scope=col>attendance</th><th scope=col>instruments</th></tr></thead>\n",
       "<tbody>\n",
       "\t<tr><td>Ian G.       </td><td> 95          </td><td>80           </td><td>87           </td><td> TRUE        </td><td>vocals       </td></tr>\n",
       "\t<tr><td>Ritchie      </td><td> 60          </td><td>62           </td><td>50           </td><td>FALSE        </td><td>guitar       </td></tr>\n",
       "\t<tr><td>Ian P.       </td><td> 40          </td><td>38           </td><td>62           </td><td>FALSE        </td><td>drums        </td></tr>\n",
       "\t<tr><td>Roger        </td><td> 40          </td><td>20           </td><td>10           </td><td>FALSE        </td><td>bass         </td></tr>\n",
       "\t<tr><td>Jon          </td><td>100          </td><td>74           </td><td>72           </td><td> TRUE        </td><td>hammond organ</td></tr>\n",
       "\t<tr><td>Steve        </td><td> 25          </td><td>56           </td><td>61           </td><td> TRUE        </td><td>guitar       </td></tr>\n",
       "\t<tr><td>Don          </td><td> 50          </td><td>18           </td><td>27           </td><td> TRUE        </td><td>hammond organ</td></tr>\n",
       "\t<tr><td>David        </td><td> 94          </td><td>67           </td><td>60           </td><td> TRUE        </td><td>vocals       </td></tr>\n",
       "</tbody>\n",
       "</table>\n"
      ],
      "text/latex": [
       "\\begin{tabular}{r|llllll}\n",
       " names & homework & midterm & final & attendance & instruments\\\\\n",
       "\\hline\n",
       "\t Ian G.        &  95           & 80            & 87            &  TRUE         & vocals       \\\\\n",
       "\t Ritchie       &  60           & 62            & 50            & FALSE         & guitar       \\\\\n",
       "\t Ian P.        &  40           & 38            & 62            & FALSE         & drums        \\\\\n",
       "\t Roger         &  40           & 20            & 10            & FALSE         & bass         \\\\\n",
       "\t Jon           & 100           & 74            & 72            &  TRUE         & hammond organ\\\\\n",
       "\t Steve         &  25           & 56            & 61            &  TRUE         & guitar       \\\\\n",
       "\t Don           &  50           & 18            & 27            &  TRUE         & hammond organ\\\\\n",
       "\t David         &  94           & 67            & 60            &  TRUE         & vocals       \\\\\n",
       "\\end{tabular}\n"
      ],
      "text/markdown": [
       "\n",
       "names | homework | midterm | final | attendance | instruments | \n",
       "|---|---|---|---|---|---|---|---|\n",
       "| Ian G.        |  95           | 80            | 87            |  TRUE         | vocals        | \n",
       "| Ritchie       |  60           | 62            | 50            | FALSE         | guitar        | \n",
       "| Ian P.        |  40           | 38            | 62            | FALSE         | drums         | \n",
       "| Roger         |  40           | 20            | 10            | FALSE         | bass          | \n",
       "| Jon           | 100           | 74            | 72            |  TRUE         | hammond organ | \n",
       "| Steve         |  25           | 56            | 61            |  TRUE         | guitar        | \n",
       "| Don           |  50           | 18            | 27            |  TRUE         | hammond organ | \n",
       "| David         |  94           | 67            | 60            |  TRUE         | vocals        | \n",
       "\n",
       "\n"
      ],
      "text/plain": [
       "  names   homework midterm final attendance instruments  \n",
       "1 Ian G.   95      80      87     TRUE      vocals       \n",
       "2 Ritchie  60      62      50    FALSE      guitar       \n",
       "3 Ian P.   40      38      62    FALSE      drums        \n",
       "4 Roger    40      20      10    FALSE      bass         \n",
       "5 Jon     100      74      72     TRUE      hammond organ\n",
       "6 Steve    25      56      61     TRUE      guitar       \n",
       "7 Don      50      18      27     TRUE      hammond organ\n",
       "8 David    94      67      60     TRUE      vocals       "
      ]
     },
     "metadata": {},
     "output_type": "display_data"
    }
   ],
   "source": [
    "# you should add the name of the last column manually!!!\n",
    "names(results_4) <- c('names','homework','midterm','final',\"attendance\",\"instruments\")\n",
    "results_4\n",
    "# alternatively,\n",
    "names(results_4[6]) <- \"instruments\"\n",
    "results_4\n",
    "# or,\n",
    "names(results_4[[6]]) <- \"instruments\"\n",
    "results_4"
   ]
  },
  {
   "cell_type": "code",
   "execution_count": 29,
   "metadata": {},
   "outputs": [
    {
     "data": {
      "text/html": [
       "<table>\n",
       "<thead><tr><th scope=col>names</th><th scope=col>homework</th><th scope=col>midterm</th><th scope=col>final</th><th scope=col>attendance</th></tr></thead>\n",
       "<tbody>\n",
       "\t<tr><td>Ian G. </td><td> 95    </td><td>80     </td><td>87     </td><td> TRUE  </td></tr>\n",
       "\t<tr><td>Ritchie</td><td> 60    </td><td>62     </td><td>50     </td><td>FALSE  </td></tr>\n",
       "\t<tr><td>Ian P. </td><td> 40    </td><td>38     </td><td>62     </td><td>FALSE  </td></tr>\n",
       "\t<tr><td>Roger  </td><td> 40    </td><td>20     </td><td>10     </td><td>FALSE  </td></tr>\n",
       "\t<tr><td>Jon    </td><td>100    </td><td>74     </td><td>72     </td><td> TRUE  </td></tr>\n",
       "\t<tr><td>Steve  </td><td> 25    </td><td>56     </td><td>61     </td><td> TRUE  </td></tr>\n",
       "\t<tr><td>Don    </td><td> 50    </td><td>18     </td><td>27     </td><td> TRUE  </td></tr>\n",
       "\t<tr><td>David  </td><td> 94    </td><td>67     </td><td>60     </td><td> TRUE  </td></tr>\n",
       "</tbody>\n",
       "</table>\n"
      ],
      "text/latex": [
       "\\begin{tabular}{r|lllll}\n",
       " names & homework & midterm & final & attendance\\\\\n",
       "\\hline\n",
       "\t Ian G.  &  95     & 80      & 87      &  TRUE  \\\\\n",
       "\t Ritchie &  60     & 62      & 50      & FALSE  \\\\\n",
       "\t Ian P.  &  40     & 38      & 62      & FALSE  \\\\\n",
       "\t Roger   &  40     & 20      & 10      & FALSE  \\\\\n",
       "\t Jon     & 100     & 74      & 72      &  TRUE  \\\\\n",
       "\t Steve   &  25     & 56      & 61      &  TRUE  \\\\\n",
       "\t Don     &  50     & 18      & 27      &  TRUE  \\\\\n",
       "\t David   &  94     & 67      & 60      &  TRUE  \\\\\n",
       "\\end{tabular}\n"
      ],
      "text/markdown": [
       "\n",
       "names | homework | midterm | final | attendance | \n",
       "|---|---|---|---|---|---|---|---|\n",
       "| Ian G.  |  95     | 80      | 87      |  TRUE   | \n",
       "| Ritchie |  60     | 62      | 50      | FALSE   | \n",
       "| Ian P.  |  40     | 38      | 62      | FALSE   | \n",
       "| Roger   |  40     | 20      | 10      | FALSE   | \n",
       "| Jon     | 100     | 74      | 72      |  TRUE   | \n",
       "| Steve   |  25     | 56      | 61      |  TRUE   | \n",
       "| Don     |  50     | 18      | 27      |  TRUE   | \n",
       "| David   |  94     | 67      | 60      |  TRUE   | \n",
       "\n",
       "\n"
      ],
      "text/plain": [
       "  names   homework midterm final attendance\n",
       "1 Ian G.   95      80      87     TRUE     \n",
       "2 Ritchie  60      62      50    FALSE     \n",
       "3 Ian P.   40      38      62    FALSE     \n",
       "4 Roger    40      20      10    FALSE     \n",
       "5 Jon     100      74      72     TRUE     \n",
       "6 Steve    25      56      61     TRUE     \n",
       "7 Don      50      18      27     TRUE     \n",
       "8 David    94      67      60     TRUE     "
      ]
     },
     "metadata": {},
     "output_type": "display_data"
    },
    {
     "data": {
      "text/html": [
       "<table>\n",
       "<thead><tr><th scope=col>names</th><th scope=col>homework</th><th scope=col>midterm</th><th scope=col>final</th><th scope=col>attendance</th><th scope=col>V6</th></tr></thead>\n",
       "<tbody>\n",
       "\t<tr><td>Ian G.       </td><td> 95          </td><td>80           </td><td>87           </td><td> TRUE        </td><td>vocals       </td></tr>\n",
       "\t<tr><td>Ritchie      </td><td> 60          </td><td>62           </td><td>50           </td><td>FALSE        </td><td>guitar       </td></tr>\n",
       "\t<tr><td>Ian P.       </td><td> 40          </td><td>38           </td><td>62           </td><td>FALSE        </td><td>drums        </td></tr>\n",
       "\t<tr><td>Roger        </td><td> 40          </td><td>20           </td><td>10           </td><td>FALSE        </td><td>bass         </td></tr>\n",
       "\t<tr><td>Jon          </td><td>100          </td><td>74           </td><td>72           </td><td> TRUE        </td><td>hammond organ</td></tr>\n",
       "\t<tr><td>Steve        </td><td> 25          </td><td>56           </td><td>61           </td><td> TRUE        </td><td>guitar       </td></tr>\n",
       "\t<tr><td>Don          </td><td> 50          </td><td>18           </td><td>27           </td><td> TRUE        </td><td>hammond organ</td></tr>\n",
       "\t<tr><td>David        </td><td> 94          </td><td>67           </td><td>60           </td><td> TRUE        </td><td>vocals       </td></tr>\n",
       "</tbody>\n",
       "</table>\n"
      ],
      "text/latex": [
       "\\begin{tabular}{r|llllll}\n",
       " names & homework & midterm & final & attendance & V6\\\\\n",
       "\\hline\n",
       "\t Ian G.        &  95           & 80            & 87            &  TRUE         & vocals       \\\\\n",
       "\t Ritchie       &  60           & 62            & 50            & FALSE         & guitar       \\\\\n",
       "\t Ian P.        &  40           & 38            & 62            & FALSE         & drums        \\\\\n",
       "\t Roger         &  40           & 20            & 10            & FALSE         & bass         \\\\\n",
       "\t Jon           & 100           & 74            & 72            &  TRUE         & hammond organ\\\\\n",
       "\t Steve         &  25           & 56            & 61            &  TRUE         & guitar       \\\\\n",
       "\t Don           &  50           & 18            & 27            &  TRUE         & hammond organ\\\\\n",
       "\t David         &  94           & 67            & 60            &  TRUE         & vocals       \\\\\n",
       "\\end{tabular}\n"
      ],
      "text/markdown": [
       "\n",
       "names | homework | midterm | final | attendance | V6 | \n",
       "|---|---|---|---|---|---|---|---|\n",
       "| Ian G.        |  95           | 80            | 87            |  TRUE         | vocals        | \n",
       "| Ritchie       |  60           | 62            | 50            | FALSE         | guitar        | \n",
       "| Ian P.        |  40           | 38            | 62            | FALSE         | drums         | \n",
       "| Roger         |  40           | 20            | 10            | FALSE         | bass          | \n",
       "| Jon           | 100           | 74            | 72            |  TRUE         | hammond organ | \n",
       "| Steve         |  25           | 56            | 61            |  TRUE         | guitar        | \n",
       "| Don           |  50           | 18            | 27            |  TRUE         | hammond organ | \n",
       "| David         |  94           | 67            | 60            |  TRUE         | vocals        | \n",
       "\n",
       "\n"
      ],
      "text/plain": [
       "  names   homework midterm final attendance V6           \n",
       "1 Ian G.   95      80      87     TRUE      vocals       \n",
       "2 Ritchie  60      62      50    FALSE      guitar       \n",
       "3 Ian P.   40      38      62    FALSE      drums        \n",
       "4 Roger    40      20      10    FALSE      bass         \n",
       "5 Jon     100      74      72     TRUE      hammond organ\n",
       "6 Steve    25      56      61     TRUE      guitar       \n",
       "7 Don      50      18      27     TRUE      hammond organ\n",
       "8 David    94      67      60     TRUE      vocals       "
      ]
     },
     "metadata": {},
     "output_type": "display_data"
    },
    {
     "data": {
      "text/html": [
       "'data.frame'"
      ],
      "text/latex": [
       "'data.frame'"
      ],
      "text/markdown": [
       "'data.frame'"
      ],
      "text/plain": [
       "[1] \"data.frame\""
      ]
     },
     "metadata": {},
     "output_type": "display_data"
    }
   ],
   "source": [
    "results_4 <- results_3\n",
    "results_4\n",
    "results_4[[6]] <- instruments\n",
    "results_4\n",
    "class(results_4)"
   ]
  },
  {
   "cell_type": "markdown",
   "metadata": {},
   "source": [
    "They all work"
   ]
  },
  {
   "cell_type": "markdown",
   "metadata": {},
   "source": [
    "And to delete"
   ]
  },
  {
   "cell_type": "code",
   "execution_count": 30,
   "metadata": {},
   "outputs": [
    {
     "data": {
      "text/html": [
       "<table>\n",
       "<thead><tr><th scope=col>names</th><th scope=col>homework</th><th scope=col>midterm</th><th scope=col>final</th><th scope=col>attendance</th><th scope=col>V6</th></tr></thead>\n",
       "<tbody>\n",
       "\t<tr><td>Ian G.       </td><td> 95          </td><td>80           </td><td>87           </td><td> TRUE        </td><td>vocals       </td></tr>\n",
       "\t<tr><td>Ritchie      </td><td> 60          </td><td>62           </td><td>50           </td><td>FALSE        </td><td>guitar       </td></tr>\n",
       "\t<tr><td>Ian P.       </td><td> 40          </td><td>38           </td><td>62           </td><td>FALSE        </td><td>drums        </td></tr>\n",
       "\t<tr><td>Roger        </td><td> 40          </td><td>20           </td><td>10           </td><td>FALSE        </td><td>bass         </td></tr>\n",
       "\t<tr><td>Jon          </td><td>100          </td><td>74           </td><td>72           </td><td> TRUE        </td><td>hammond organ</td></tr>\n",
       "\t<tr><td>Steve        </td><td> 25          </td><td>56           </td><td>61           </td><td> TRUE        </td><td>guitar       </td></tr>\n",
       "\t<tr><td>Don          </td><td> 50          </td><td>18           </td><td>27           </td><td> TRUE        </td><td>hammond organ</td></tr>\n",
       "\t<tr><td>David        </td><td> 94          </td><td>67           </td><td>60           </td><td> TRUE        </td><td>vocals       </td></tr>\n",
       "</tbody>\n",
       "</table>\n"
      ],
      "text/latex": [
       "\\begin{tabular}{r|llllll}\n",
       " names & homework & midterm & final & attendance & V6\\\\\n",
       "\\hline\n",
       "\t Ian G.        &  95           & 80            & 87            &  TRUE         & vocals       \\\\\n",
       "\t Ritchie       &  60           & 62            & 50            & FALSE         & guitar       \\\\\n",
       "\t Ian P.        &  40           & 38            & 62            & FALSE         & drums        \\\\\n",
       "\t Roger         &  40           & 20            & 10            & FALSE         & bass         \\\\\n",
       "\t Jon           & 100           & 74            & 72            &  TRUE         & hammond organ\\\\\n",
       "\t Steve         &  25           & 56            & 61            &  TRUE         & guitar       \\\\\n",
       "\t Don           &  50           & 18            & 27            &  TRUE         & hammond organ\\\\\n",
       "\t David         &  94           & 67            & 60            &  TRUE         & vocals       \\\\\n",
       "\\end{tabular}\n"
      ],
      "text/markdown": [
       "\n",
       "names | homework | midterm | final | attendance | V6 | \n",
       "|---|---|---|---|---|---|---|---|\n",
       "| Ian G.        |  95           | 80            | 87            |  TRUE         | vocals        | \n",
       "| Ritchie       |  60           | 62            | 50            | FALSE         | guitar        | \n",
       "| Ian P.        |  40           | 38            | 62            | FALSE         | drums         | \n",
       "| Roger         |  40           | 20            | 10            | FALSE         | bass          | \n",
       "| Jon           | 100           | 74            | 72            |  TRUE         | hammond organ | \n",
       "| Steve         |  25           | 56            | 61            |  TRUE         | guitar        | \n",
       "| Don           |  50           | 18            | 27            |  TRUE         | hammond organ | \n",
       "| David         |  94           | 67            | 60            |  TRUE         | vocals        | \n",
       "\n",
       "\n"
      ],
      "text/plain": [
       "  names   homework midterm final attendance V6           \n",
       "1 Ian G.   95      80      87     TRUE      vocals       \n",
       "2 Ritchie  60      62      50    FALSE      guitar       \n",
       "3 Ian P.   40      38      62    FALSE      drums        \n",
       "4 Roger    40      20      10    FALSE      bass         \n",
       "5 Jon     100      74      72     TRUE      hammond organ\n",
       "6 Steve    25      56      61     TRUE      guitar       \n",
       "7 Don      50      18      27     TRUE      hammond organ\n",
       "8 David    94      67      60     TRUE      vocals       "
      ]
     },
     "metadata": {},
     "output_type": "display_data"
    },
    {
     "data": {
      "text/html": [
       "<table>\n",
       "<thead><tr><th scope=col>names</th><th scope=col>homework</th><th scope=col>midterm</th><th scope=col>final</th><th scope=col>attendance</th></tr></thead>\n",
       "<tbody>\n",
       "\t<tr><td>Ian G. </td><td> 95    </td><td>80     </td><td>87     </td><td> TRUE  </td></tr>\n",
       "\t<tr><td>Ritchie</td><td> 60    </td><td>62     </td><td>50     </td><td>FALSE  </td></tr>\n",
       "\t<tr><td>Ian P. </td><td> 40    </td><td>38     </td><td>62     </td><td>FALSE  </td></tr>\n",
       "\t<tr><td>Roger  </td><td> 40    </td><td>20     </td><td>10     </td><td>FALSE  </td></tr>\n",
       "\t<tr><td>Jon    </td><td>100    </td><td>74     </td><td>72     </td><td> TRUE  </td></tr>\n",
       "\t<tr><td>Steve  </td><td> 25    </td><td>56     </td><td>61     </td><td> TRUE  </td></tr>\n",
       "\t<tr><td>Don    </td><td> 50    </td><td>18     </td><td>27     </td><td> TRUE  </td></tr>\n",
       "\t<tr><td>David  </td><td> 94    </td><td>67     </td><td>60     </td><td> TRUE  </td></tr>\n",
       "</tbody>\n",
       "</table>\n"
      ],
      "text/latex": [
       "\\begin{tabular}{r|lllll}\n",
       " names & homework & midterm & final & attendance\\\\\n",
       "\\hline\n",
       "\t Ian G.  &  95     & 80      & 87      &  TRUE  \\\\\n",
       "\t Ritchie &  60     & 62      & 50      & FALSE  \\\\\n",
       "\t Ian P.  &  40     & 38      & 62      & FALSE  \\\\\n",
       "\t Roger   &  40     & 20      & 10      & FALSE  \\\\\n",
       "\t Jon     & 100     & 74      & 72      &  TRUE  \\\\\n",
       "\t Steve   &  25     & 56      & 61      &  TRUE  \\\\\n",
       "\t Don     &  50     & 18      & 27      &  TRUE  \\\\\n",
       "\t David   &  94     & 67      & 60      &  TRUE  \\\\\n",
       "\\end{tabular}\n"
      ],
      "text/markdown": [
       "\n",
       "names | homework | midterm | final | attendance | \n",
       "|---|---|---|---|---|---|---|---|\n",
       "| Ian G.  |  95     | 80      | 87      |  TRUE   | \n",
       "| Ritchie |  60     | 62      | 50      | FALSE   | \n",
       "| Ian P.  |  40     | 38      | 62      | FALSE   | \n",
       "| Roger   |  40     | 20      | 10      | FALSE   | \n",
       "| Jon     | 100     | 74      | 72      |  TRUE   | \n",
       "| Steve   |  25     | 56      | 61      |  TRUE   | \n",
       "| Don     |  50     | 18      | 27      |  TRUE   | \n",
       "| David   |  94     | 67      | 60      |  TRUE   | \n",
       "\n",
       "\n"
      ],
      "text/plain": [
       "  names   homework midterm final attendance\n",
       "1 Ian G.   95      80      87     TRUE     \n",
       "2 Ritchie  60      62      50    FALSE     \n",
       "3 Ian P.   40      38      62    FALSE     \n",
       "4 Roger    40      20      10    FALSE     \n",
       "5 Jon     100      74      72     TRUE     \n",
       "6 Steve    25      56      61     TRUE     \n",
       "7 Don      50      18      27     TRUE     \n",
       "8 David    94      67      60     TRUE     "
      ]
     },
     "metadata": {},
     "output_type": "display_data"
    }
   ],
   "source": [
    "results_5 <- results_4\n",
    "results_5\n",
    "results_5[6] <- NULL\n",
    "results_5"
   ]
  },
  {
   "cell_type": "code",
   "execution_count": 31,
   "metadata": {},
   "outputs": [
    {
     "data": {
      "text/html": [
       "<table>\n",
       "<thead><tr><th scope=col>names</th><th scope=col>homework</th><th scope=col>midterm</th><th scope=col>final</th><th scope=col>attendance</th><th scope=col>V6</th></tr></thead>\n",
       "<tbody>\n",
       "\t<tr><td>Ian G.       </td><td> 95          </td><td>80           </td><td>87           </td><td> TRUE        </td><td>vocals       </td></tr>\n",
       "\t<tr><td>Ritchie      </td><td> 60          </td><td>62           </td><td>50           </td><td>FALSE        </td><td>guitar       </td></tr>\n",
       "\t<tr><td>Ian P.       </td><td> 40          </td><td>38           </td><td>62           </td><td>FALSE        </td><td>drums        </td></tr>\n",
       "\t<tr><td>Roger        </td><td> 40          </td><td>20           </td><td>10           </td><td>FALSE        </td><td>bass         </td></tr>\n",
       "\t<tr><td>Jon          </td><td>100          </td><td>74           </td><td>72           </td><td> TRUE        </td><td>hammond organ</td></tr>\n",
       "\t<tr><td>Steve        </td><td> 25          </td><td>56           </td><td>61           </td><td> TRUE        </td><td>guitar       </td></tr>\n",
       "\t<tr><td>Don          </td><td> 50          </td><td>18           </td><td>27           </td><td> TRUE        </td><td>hammond organ</td></tr>\n",
       "\t<tr><td>David        </td><td> 94          </td><td>67           </td><td>60           </td><td> TRUE        </td><td>vocals       </td></tr>\n",
       "</tbody>\n",
       "</table>\n"
      ],
      "text/latex": [
       "\\begin{tabular}{r|llllll}\n",
       " names & homework & midterm & final & attendance & V6\\\\\n",
       "\\hline\n",
       "\t Ian G.        &  95           & 80            & 87            &  TRUE         & vocals       \\\\\n",
       "\t Ritchie       &  60           & 62            & 50            & FALSE         & guitar       \\\\\n",
       "\t Ian P.        &  40           & 38            & 62            & FALSE         & drums        \\\\\n",
       "\t Roger         &  40           & 20            & 10            & FALSE         & bass         \\\\\n",
       "\t Jon           & 100           & 74            & 72            &  TRUE         & hammond organ\\\\\n",
       "\t Steve         &  25           & 56            & 61            &  TRUE         & guitar       \\\\\n",
       "\t Don           &  50           & 18            & 27            &  TRUE         & hammond organ\\\\\n",
       "\t David         &  94           & 67            & 60            &  TRUE         & vocals       \\\\\n",
       "\\end{tabular}\n"
      ],
      "text/markdown": [
       "\n",
       "names | homework | midterm | final | attendance | V6 | \n",
       "|---|---|---|---|---|---|---|---|\n",
       "| Ian G.        |  95           | 80            | 87            |  TRUE         | vocals        | \n",
       "| Ritchie       |  60           | 62            | 50            | FALSE         | guitar        | \n",
       "| Ian P.        |  40           | 38            | 62            | FALSE         | drums         | \n",
       "| Roger         |  40           | 20            | 10            | FALSE         | bass          | \n",
       "| Jon           | 100           | 74            | 72            |  TRUE         | hammond organ | \n",
       "| Steve         |  25           | 56            | 61            |  TRUE         | guitar        | \n",
       "| Don           |  50           | 18            | 27            |  TRUE         | hammond organ | \n",
       "| David         |  94           | 67            | 60            |  TRUE         | vocals        | \n",
       "\n",
       "\n"
      ],
      "text/plain": [
       "  names   homework midterm final attendance V6           \n",
       "1 Ian G.   95      80      87     TRUE      vocals       \n",
       "2 Ritchie  60      62      50    FALSE      guitar       \n",
       "3 Ian P.   40      38      62    FALSE      drums        \n",
       "4 Roger    40      20      10    FALSE      bass         \n",
       "5 Jon     100      74      72     TRUE      hammond organ\n",
       "6 Steve    25      56      61     TRUE      guitar       \n",
       "7 Don      50      18      27     TRUE      hammond organ\n",
       "8 David    94      67      60     TRUE      vocals       "
      ]
     },
     "metadata": {},
     "output_type": "display_data"
    },
    {
     "data": {
      "text/html": [
       "<table>\n",
       "<thead><tr><th scope=col>names</th><th scope=col>homework</th><th scope=col>midterm</th><th scope=col>final</th><th scope=col>attendance</th></tr></thead>\n",
       "<tbody>\n",
       "\t<tr><td>Ian G. </td><td> 95    </td><td>80     </td><td>87     </td><td> TRUE  </td></tr>\n",
       "\t<tr><td>Ritchie</td><td> 60    </td><td>62     </td><td>50     </td><td>FALSE  </td></tr>\n",
       "\t<tr><td>Ian P. </td><td> 40    </td><td>38     </td><td>62     </td><td>FALSE  </td></tr>\n",
       "\t<tr><td>Roger  </td><td> 40    </td><td>20     </td><td>10     </td><td>FALSE  </td></tr>\n",
       "\t<tr><td>Jon    </td><td>100    </td><td>74     </td><td>72     </td><td> TRUE  </td></tr>\n",
       "\t<tr><td>Steve  </td><td> 25    </td><td>56     </td><td>61     </td><td> TRUE  </td></tr>\n",
       "\t<tr><td>Don    </td><td> 50    </td><td>18     </td><td>27     </td><td> TRUE  </td></tr>\n",
       "\t<tr><td>David  </td><td> 94    </td><td>67     </td><td>60     </td><td> TRUE  </td></tr>\n",
       "</tbody>\n",
       "</table>\n"
      ],
      "text/latex": [
       "\\begin{tabular}{r|lllll}\n",
       " names & homework & midterm & final & attendance\\\\\n",
       "\\hline\n",
       "\t Ian G.  &  95     & 80      & 87      &  TRUE  \\\\\n",
       "\t Ritchie &  60     & 62      & 50      & FALSE  \\\\\n",
       "\t Ian P.  &  40     & 38      & 62      & FALSE  \\\\\n",
       "\t Roger   &  40     & 20      & 10      & FALSE  \\\\\n",
       "\t Jon     & 100     & 74      & 72      &  TRUE  \\\\\n",
       "\t Steve   &  25     & 56      & 61      &  TRUE  \\\\\n",
       "\t Don     &  50     & 18      & 27      &  TRUE  \\\\\n",
       "\t David   &  94     & 67      & 60      &  TRUE  \\\\\n",
       "\\end{tabular}\n"
      ],
      "text/markdown": [
       "\n",
       "names | homework | midterm | final | attendance | \n",
       "|---|---|---|---|---|---|---|---|\n",
       "| Ian G.  |  95     | 80      | 87      |  TRUE   | \n",
       "| Ritchie |  60     | 62      | 50      | FALSE   | \n",
       "| Ian P.  |  40     | 38      | 62      | FALSE   | \n",
       "| Roger   |  40     | 20      | 10      | FALSE   | \n",
       "| Jon     | 100     | 74      | 72      |  TRUE   | \n",
       "| Steve   |  25     | 56      | 61      |  TRUE   | \n",
       "| Don     |  50     | 18      | 27      |  TRUE   | \n",
       "| David   |  94     | 67      | 60      |  TRUE   | \n",
       "\n",
       "\n"
      ],
      "text/plain": [
       "  names   homework midterm final attendance\n",
       "1 Ian G.   95      80      87     TRUE     \n",
       "2 Ritchie  60      62      50    FALSE     \n",
       "3 Ian P.   40      38      62    FALSE     \n",
       "4 Roger    40      20      10    FALSE     \n",
       "5 Jon     100      74      72     TRUE     \n",
       "6 Steve    25      56      61     TRUE     \n",
       "7 Don      50      18      27     TRUE     \n",
       "8 David    94      67      60     TRUE     "
      ]
     },
     "metadata": {},
     "output_type": "display_data"
    }
   ],
   "source": [
    "results_5 <- results_4\n",
    "results_5\n",
    "results_5[[6]] <- NULL\n",
    "results_5"
   ]
  },
  {
   "cell_type": "markdown",
   "metadata": {},
   "source": [
    "Now let's subset only vocals from the data frame"
   ]
  },
  {
   "cell_type": "code",
   "execution_count": 32,
   "metadata": {},
   "outputs": [
    {
     "data": {
      "text/html": [
       "<table>\n",
       "<thead><tr><th></th><th scope=col>names</th><th scope=col>homework</th><th scope=col>midterm</th></tr></thead>\n",
       "<tbody>\n",
       "\t<tr><th scope=row>1</th><td>Ian G.</td><td>95    </td><td>80    </td></tr>\n",
       "\t<tr><th scope=row>8</th><td>David </td><td>94    </td><td>67    </td></tr>\n",
       "</tbody>\n",
       "</table>\n"
      ],
      "text/latex": [
       "\\begin{tabular}{r|lll}\n",
       "  & names & homework & midterm\\\\\n",
       "\\hline\n",
       "\t1 & Ian G. & 95     & 80    \\\\\n",
       "\t8 & David  & 94     & 67    \\\\\n",
       "\\end{tabular}\n"
      ],
      "text/markdown": [
       "\n",
       "| <!--/--> | names | homework | midterm | \n",
       "|---|---|\n",
       "| 1 | Ian G. | 95     | 80     | \n",
       "| 8 | David  | 94     | 67     | \n",
       "\n",
       "\n"
      ],
      "text/plain": [
       "  names  homework midterm\n",
       "1 Ian G. 95       80     \n",
       "8 David  94       67     "
      ]
     },
     "metadata": {},
     "output_type": "display_data"
    }
   ],
   "source": [
    "results_4 <- cbind(results_3, instruments)\n",
    "results_4[results_4$instrument == \"vocals\",c(1,2,3)]"
   ]
  },
  {
   "cell_type": "markdown",
   "metadata": {},
   "source": [
    "And get only attendance values"
   ]
  },
  {
   "cell_type": "code",
   "execution_count": 33,
   "metadata": {},
   "outputs": [
    {
     "data": {
      "text/html": [
       "<ol class=list-inline>\n",
       "\t<li>TRUE</li>\n",
       "\t<li>TRUE</li>\n",
       "</ol>\n"
      ],
      "text/latex": [
       "\\begin{enumerate*}\n",
       "\\item TRUE\n",
       "\\item TRUE\n",
       "\\end{enumerate*}\n"
      ],
      "text/markdown": [
       "1. TRUE\n",
       "2. TRUE\n",
       "\n",
       "\n"
      ],
      "text/plain": [
       "[1] TRUE TRUE"
      ]
     },
     "metadata": {},
     "output_type": "display_data"
    }
   ],
   "source": [
    "results_4[results_4$instrument == \"vocals\",\"attendance\"]"
   ]
  },
  {
   "cell_type": "code",
   "execution_count": 34,
   "metadata": {},
   "outputs": [
    {
     "data": {
      "text/html": [
       "<ol class=list-inline>\n",
       "\t<li>TRUE</li>\n",
       "\t<li>TRUE</li>\n",
       "</ol>\n"
      ],
      "text/latex": [
       "\\begin{enumerate*}\n",
       "\\item TRUE\n",
       "\\item TRUE\n",
       "\\end{enumerate*}\n"
      ],
      "text/markdown": [
       "1. TRUE\n",
       "2. TRUE\n",
       "\n",
       "\n"
      ],
      "text/plain": [
       "[1] TRUE TRUE"
      ]
     },
     "metadata": {},
     "output_type": "display_data"
    }
   ],
   "source": [
    "results_4[results_4$instrument == \"vocals\",]$attendance"
   ]
  },
  {
   "cell_type": "code",
   "execution_count": 35,
   "metadata": {},
   "outputs": [
    {
     "data": {
      "text/html": [
       "<ol class=list-inline>\n",
       "\t<li>TRUE</li>\n",
       "\t<li>TRUE</li>\n",
       "</ol>\n"
      ],
      "text/latex": [
       "\\begin{enumerate*}\n",
       "\\item TRUE\n",
       "\\item TRUE\n",
       "\\end{enumerate*}\n"
      ],
      "text/markdown": [
       "1. TRUE\n",
       "2. TRUE\n",
       "\n",
       "\n"
      ],
      "text/plain": [
       "[1] TRUE TRUE"
      ]
     },
     "metadata": {},
     "output_type": "display_data"
    }
   ],
   "source": [
    "results_4[results_4$instrument == \"vocals\",5]"
   ]
  },
  {
   "cell_type": "code",
   "execution_count": 36,
   "metadata": {},
   "outputs": [
    {
     "data": {
      "text/html": [
       "'data.frame'"
      ],
      "text/latex": [
       "'data.frame'"
      ],
      "text/markdown": [
       "'data.frame'"
      ],
      "text/plain": [
       "[1] \"data.frame\""
      ]
     },
     "metadata": {},
     "output_type": "display_data"
    }
   ],
   "source": [
    "class(results_4[results_4$instrument == \"vocals\",][5])"
   ]
  },
  {
   "cell_type": "markdown",
   "metadata": {},
   "source": [
    "The last one returns a data.frame, other ones return boolean vectors"
   ]
  },
  {
   "cell_type": "markdown",
   "metadata": {},
   "source": [
    "And we can subset with explicit boolean vectors - instead of boolean tests - of course"
   ]
  },
  {
   "cell_type": "code",
   "execution_count": 37,
   "metadata": {},
   "outputs": [
    {
     "data": {
      "text/html": [
       "<table>\n",
       "<thead><tr><th></th><th scope=col>names</th><th scope=col>homework</th><th scope=col>midterm</th><th scope=col>final</th><th scope=col>attendance</th><th scope=col>instruments</th></tr></thead>\n",
       "<tbody>\n",
       "\t<tr><th scope=row>1</th><td>Ian G.</td><td>95    </td><td>80    </td><td>87    </td><td>TRUE  </td><td>vocals</td></tr>\n",
       "\t<tr><th scope=row>8</th><td>David </td><td>94    </td><td>67    </td><td>60    </td><td>TRUE  </td><td>vocals</td></tr>\n",
       "</tbody>\n",
       "</table>\n"
      ],
      "text/latex": [
       "\\begin{tabular}{r|llllll}\n",
       "  & names & homework & midterm & final & attendance & instruments\\\\\n",
       "\\hline\n",
       "\t1 & Ian G. & 95     & 80     & 87     & TRUE   & vocals\\\\\n",
       "\t8 & David  & 94     & 67     & 60     & TRUE   & vocals\\\\\n",
       "\\end{tabular}\n"
      ],
      "text/markdown": [
       "\n",
       "| <!--/--> | names | homework | midterm | final | attendance | instruments | \n",
       "|---|---|\n",
       "| 1 | Ian G. | 95     | 80     | 87     | TRUE   | vocals | \n",
       "| 8 | David  | 94     | 67     | 60     | TRUE   | vocals | \n",
       "\n",
       "\n"
      ],
      "text/plain": [
       "  names  homework midterm final attendance instruments\n",
       "1 Ian G. 95       80      87    TRUE       vocals     \n",
       "8 David  94       67      60    TRUE       vocals     "
      ]
     },
     "metadata": {},
     "output_type": "display_data"
    }
   ],
   "source": [
    "results_4[c(T,F,F,F,F,F,F,T),]"
   ]
  },
  {
   "cell_type": "markdown",
   "metadata": {},
   "source": [
    "Let's add a row"
   ]
  },
  {
   "cell_type": "code",
   "execution_count": 38,
   "metadata": {},
   "outputs": [
    {
     "data": {
      "text/html": [
       "<ol class=list-inline>\n",
       "\t<li>'Glenn'</li>\n",
       "\t<li>'93'</li>\n",
       "\t<li>'74'</li>\n",
       "\t<li>'85'</li>\n",
       "\t<li>'TRUE'</li>\n",
       "\t<li>'bass'</li>\n",
       "</ol>\n"
      ],
      "text/latex": [
       "\\begin{enumerate*}\n",
       "\\item 'Glenn'\n",
       "\\item '93'\n",
       "\\item '74'\n",
       "\\item '85'\n",
       "\\item 'TRUE'\n",
       "\\item 'bass'\n",
       "\\end{enumerate*}\n"
      ],
      "text/markdown": [
       "1. 'Glenn'\n",
       "2. '93'\n",
       "3. '74'\n",
       "4. '85'\n",
       "5. 'TRUE'\n",
       "6. 'bass'\n",
       "\n",
       "\n"
      ],
      "text/plain": [
       "[1] \"Glenn\" \"93\"    \"74\"    \"85\"    \"TRUE\"  \"bass\" "
      ]
     },
     "metadata": {},
     "output_type": "display_data"
    },
    {
     "data": {
      "text/html": [
       "'character'"
      ],
      "text/latex": [
       "'character'"
      ],
      "text/markdown": [
       "'character'"
      ],
      "text/plain": [
       "[1] \"character\""
      ]
     },
     "metadata": {},
     "output_type": "display_data"
    }
   ],
   "source": [
    "glenn <- c(\"Glenn\", 93, 74, 85, TRUE, \"bass\")\n",
    "glenn\n",
    "class(glenn)"
   ]
  },
  {
   "cell_type": "code",
   "execution_count": 39,
   "metadata": {
    "scrolled": true
   },
   "outputs": [
    {
     "data": {
      "text/html": [
       "<table>\n",
       "<thead><tr><th scope=col>names</th><th scope=col>homework</th><th scope=col>midterm</th><th scope=col>final</th><th scope=col>attendance</th><th scope=col>instruments</th></tr></thead>\n",
       "<tbody>\n",
       "\t<tr><td>Ian G.       </td><td>95           </td><td>80           </td><td>87           </td><td>TRUE         </td><td>vocals       </td></tr>\n",
       "\t<tr><td>Ritchie      </td><td>60           </td><td>62           </td><td>50           </td><td>FALSE        </td><td>guitar       </td></tr>\n",
       "\t<tr><td>Ian P.       </td><td>40           </td><td>38           </td><td>62           </td><td>FALSE        </td><td>drums        </td></tr>\n",
       "\t<tr><td>Roger        </td><td>40           </td><td>20           </td><td>10           </td><td>FALSE        </td><td>bass         </td></tr>\n",
       "\t<tr><td>Jon          </td><td>100          </td><td>74           </td><td>72           </td><td>TRUE         </td><td>hammond organ</td></tr>\n",
       "\t<tr><td>Steve        </td><td>25           </td><td>56           </td><td>61           </td><td>TRUE         </td><td>guitar       </td></tr>\n",
       "\t<tr><td>Don          </td><td>50           </td><td>18           </td><td>27           </td><td>TRUE         </td><td>hammond organ</td></tr>\n",
       "\t<tr><td>David        </td><td>94           </td><td>67           </td><td>60           </td><td>TRUE         </td><td>vocals       </td></tr>\n",
       "\t<tr><td>Glenn        </td><td>93           </td><td>74           </td><td>85           </td><td>TRUE         </td><td>bass         </td></tr>\n",
       "</tbody>\n",
       "</table>\n"
      ],
      "text/latex": [
       "\\begin{tabular}{r|llllll}\n",
       " names & homework & midterm & final & attendance & instruments\\\\\n",
       "\\hline\n",
       "\t Ian G.        & 95            & 80            & 87            & TRUE          & vocals       \\\\\n",
       "\t Ritchie       & 60            & 62            & 50            & FALSE         & guitar       \\\\\n",
       "\t Ian P.        & 40            & 38            & 62            & FALSE         & drums        \\\\\n",
       "\t Roger         & 40            & 20            & 10            & FALSE         & bass         \\\\\n",
       "\t Jon           & 100           & 74            & 72            & TRUE          & hammond organ\\\\\n",
       "\t Steve         & 25            & 56            & 61            & TRUE          & guitar       \\\\\n",
       "\t Don           & 50            & 18            & 27            & TRUE          & hammond organ\\\\\n",
       "\t David         & 94            & 67            & 60            & TRUE          & vocals       \\\\\n",
       "\t Glenn         & 93            & 74            & 85            & TRUE          & bass         \\\\\n",
       "\\end{tabular}\n"
      ],
      "text/markdown": [
       "\n",
       "names | homework | midterm | final | attendance | instruments | \n",
       "|---|---|---|---|---|---|---|---|---|\n",
       "| Ian G.        | 95            | 80            | 87            | TRUE          | vocals        | \n",
       "| Ritchie       | 60            | 62            | 50            | FALSE         | guitar        | \n",
       "| Ian P.        | 40            | 38            | 62            | FALSE         | drums         | \n",
       "| Roger         | 40            | 20            | 10            | FALSE         | bass          | \n",
       "| Jon           | 100           | 74            | 72            | TRUE          | hammond organ | \n",
       "| Steve         | 25            | 56            | 61            | TRUE          | guitar        | \n",
       "| Don           | 50            | 18            | 27            | TRUE          | hammond organ | \n",
       "| David         | 94            | 67            | 60            | TRUE          | vocals        | \n",
       "| Glenn         | 93            | 74            | 85            | TRUE          | bass          | \n",
       "\n",
       "\n"
      ],
      "text/plain": [
       "  names   homework midterm final attendance instruments  \n",
       "1 Ian G.  95       80      87    TRUE       vocals       \n",
       "2 Ritchie 60       62      50    FALSE      guitar       \n",
       "3 Ian P.  40       38      62    FALSE      drums        \n",
       "4 Roger   40       20      10    FALSE      bass         \n",
       "5 Jon     100      74      72    TRUE       hammond organ\n",
       "6 Steve   25       56      61    TRUE       guitar       \n",
       "7 Don     50       18      27    TRUE       hammond organ\n",
       "8 David   94       67      60    TRUE       vocals       \n",
       "9 Glenn   93       74      85    TRUE       bass         "
      ]
     },
     "metadata": {},
     "output_type": "display_data"
    }
   ],
   "source": [
    "results_6 <- rbind(results_4, glenn)\n",
    "results_6"
   ]
  },
  {
   "cell_type": "code",
   "execution_count": 40,
   "metadata": {},
   "outputs": [
    {
     "data": {
      "text/html": [
       "'character'"
      ],
      "text/latex": [
       "'character'"
      ],
      "text/markdown": [
       "'character'"
      ],
      "text/plain": [
       "[1] \"character\""
      ]
     },
     "metadata": {},
     "output_type": "display_data"
    }
   ],
   "source": [
    "class(results_6$homework)"
   ]
  },
  {
   "cell_type": "markdown",
   "metadata": {},
   "source": [
    "See, since the numbers in the vector are coerced to characters, the related columns are also coerced to characters\n",
    "\n",
    "So what should we do, to add a row, without messing up the column types?"
   ]
  },
  {
   "cell_type": "code",
   "execution_count": 41,
   "metadata": {},
   "outputs": [
    {
     "data": {
      "text/html": [
       "<ol>\n",
       "\t<li>'Glenn'</li>\n",
       "\t<li>93</li>\n",
       "\t<li>74</li>\n",
       "\t<li>85</li>\n",
       "\t<li>TRUE</li>\n",
       "\t<li>'bass'</li>\n",
       "</ol>\n"
      ],
      "text/latex": [
       "\\begin{enumerate}\n",
       "\\item 'Glenn'\n",
       "\\item 93\n",
       "\\item 74\n",
       "\\item 85\n",
       "\\item TRUE\n",
       "\\item 'bass'\n",
       "\\end{enumerate}\n"
      ],
      "text/markdown": [
       "1. 'Glenn'\n",
       "2. 93\n",
       "3. 74\n",
       "4. 85\n",
       "5. TRUE\n",
       "6. 'bass'\n",
       "\n",
       "\n"
      ],
      "text/plain": [
       "[[1]]\n",
       "[1] \"Glenn\"\n",
       "\n",
       "[[2]]\n",
       "[1] 93\n",
       "\n",
       "[[3]]\n",
       "[1] 74\n",
       "\n",
       "[[4]]\n",
       "[1] 85\n",
       "\n",
       "[[5]]\n",
       "[1] TRUE\n",
       "\n",
       "[[6]]\n",
       "[1] \"bass\"\n"
      ]
     },
     "metadata": {},
     "output_type": "display_data"
    }
   ],
   "source": [
    "glenn_2 <- list(\"Glenn\", 93, 74, 85, TRUE, \"bass\")\n",
    "glenn_2"
   ]
  },
  {
   "cell_type": "code",
   "execution_count": 42,
   "metadata": {},
   "outputs": [
    {
     "data": {
      "text/html": [
       "<table>\n",
       "<thead><tr><th scope=col>names</th><th scope=col>homework</th><th scope=col>midterm</th><th scope=col>final</th><th scope=col>attendance</th><th scope=col>instruments</th></tr></thead>\n",
       "<tbody>\n",
       "\t<tr><td>Ian G.       </td><td> 95          </td><td>80           </td><td>87           </td><td> TRUE        </td><td>vocals       </td></tr>\n",
       "\t<tr><td>Ritchie      </td><td> 60          </td><td>62           </td><td>50           </td><td>FALSE        </td><td>guitar       </td></tr>\n",
       "\t<tr><td>Ian P.       </td><td> 40          </td><td>38           </td><td>62           </td><td>FALSE        </td><td>drums        </td></tr>\n",
       "\t<tr><td>Roger        </td><td> 40          </td><td>20           </td><td>10           </td><td>FALSE        </td><td>bass         </td></tr>\n",
       "\t<tr><td>Jon          </td><td>100          </td><td>74           </td><td>72           </td><td> TRUE        </td><td>hammond organ</td></tr>\n",
       "\t<tr><td>Steve        </td><td> 25          </td><td>56           </td><td>61           </td><td> TRUE        </td><td>guitar       </td></tr>\n",
       "\t<tr><td>Don          </td><td> 50          </td><td>18           </td><td>27           </td><td> TRUE        </td><td>hammond organ</td></tr>\n",
       "\t<tr><td>David        </td><td> 94          </td><td>67           </td><td>60           </td><td> TRUE        </td><td>vocals       </td></tr>\n",
       "\t<tr><td>Glenn        </td><td> 93          </td><td>74           </td><td>85           </td><td> TRUE        </td><td>bass         </td></tr>\n",
       "</tbody>\n",
       "</table>\n"
      ],
      "text/latex": [
       "\\begin{tabular}{r|llllll}\n",
       " names & homework & midterm & final & attendance & instruments\\\\\n",
       "\\hline\n",
       "\t Ian G.        &  95           & 80            & 87            &  TRUE         & vocals       \\\\\n",
       "\t Ritchie       &  60           & 62            & 50            & FALSE         & guitar       \\\\\n",
       "\t Ian P.        &  40           & 38            & 62            & FALSE         & drums        \\\\\n",
       "\t Roger         &  40           & 20            & 10            & FALSE         & bass         \\\\\n",
       "\t Jon           & 100           & 74            & 72            &  TRUE         & hammond organ\\\\\n",
       "\t Steve         &  25           & 56            & 61            &  TRUE         & guitar       \\\\\n",
       "\t Don           &  50           & 18            & 27            &  TRUE         & hammond organ\\\\\n",
       "\t David         &  94           & 67            & 60            &  TRUE         & vocals       \\\\\n",
       "\t Glenn         &  93           & 74            & 85            &  TRUE         & bass         \\\\\n",
       "\\end{tabular}\n"
      ],
      "text/markdown": [
       "\n",
       "names | homework | midterm | final | attendance | instruments | \n",
       "|---|---|---|---|---|---|---|---|---|\n",
       "| Ian G.        |  95           | 80            | 87            |  TRUE         | vocals        | \n",
       "| Ritchie       |  60           | 62            | 50            | FALSE         | guitar        | \n",
       "| Ian P.        |  40           | 38            | 62            | FALSE         | drums         | \n",
       "| Roger         |  40           | 20            | 10            | FALSE         | bass          | \n",
       "| Jon           | 100           | 74            | 72            |  TRUE         | hammond organ | \n",
       "| Steve         |  25           | 56            | 61            |  TRUE         | guitar        | \n",
       "| Don           |  50           | 18            | 27            |  TRUE         | hammond organ | \n",
       "| David         |  94           | 67            | 60            |  TRUE         | vocals        | \n",
       "| Glenn         |  93           | 74            | 85            |  TRUE         | bass          | \n",
       "\n",
       "\n"
      ],
      "text/plain": [
       "  names   homework midterm final attendance instruments  \n",
       "1 Ian G.   95      80      87     TRUE      vocals       \n",
       "2 Ritchie  60      62      50    FALSE      guitar       \n",
       "3 Ian P.   40      38      62    FALSE      drums        \n",
       "4 Roger    40      20      10    FALSE      bass         \n",
       "5 Jon     100      74      72     TRUE      hammond organ\n",
       "6 Steve    25      56      61     TRUE      guitar       \n",
       "7 Don      50      18      27     TRUE      hammond organ\n",
       "8 David    94      67      60     TRUE      vocals       \n",
       "9 Glenn    93      74      85     TRUE      bass         "
      ]
     },
     "metadata": {},
     "output_type": "display_data"
    }
   ],
   "source": [
    "results_6 <- rbind(results_4, glenn_2)\n",
    "results_6"
   ]
  },
  {
   "cell_type": "code",
   "execution_count": 43,
   "metadata": {},
   "outputs": [
    {
     "data": {
      "text/html": [
       "'numeric'"
      ],
      "text/latex": [
       "'numeric'"
      ],
      "text/markdown": [
       "'numeric'"
      ],
      "text/plain": [
       "[1] \"numeric\""
      ]
     },
     "metadata": {},
     "output_type": "display_data"
    }
   ],
   "source": [
    "class(results_6$homework)"
   ]
  },
  {
   "cell_type": "markdown",
   "metadata": {},
   "source": [
    "Since data frame is a list, can we lapply or sapply through it?"
   ]
  },
  {
   "cell_type": "code",
   "execution_count": 44,
   "metadata": {},
   "outputs": [
    {
     "data": {
      "text/html": [
       "<dl>\n",
       "\t<dt>$names</dt>\n",
       "\t\t<dd>'character'</dd>\n",
       "\t<dt>$homework</dt>\n",
       "\t\t<dd>'numeric'</dd>\n",
       "\t<dt>$midterm</dt>\n",
       "\t\t<dd>'numeric'</dd>\n",
       "\t<dt>$final</dt>\n",
       "\t\t<dd>'numeric'</dd>\n",
       "\t<dt>$attendance</dt>\n",
       "\t\t<dd>'logical'</dd>\n",
       "\t<dt>$instruments</dt>\n",
       "\t\t<dd>'factor'</dd>\n",
       "</dl>\n"
      ],
      "text/latex": [
       "\\begin{description}\n",
       "\\item[\\$names] 'character'\n",
       "\\item[\\$homework] 'numeric'\n",
       "\\item[\\$midterm] 'numeric'\n",
       "\\item[\\$final] 'numeric'\n",
       "\\item[\\$attendance] 'logical'\n",
       "\\item[\\$instruments] 'factor'\n",
       "\\end{description}\n"
      ],
      "text/markdown": [
       "$names\n",
       ":   'character'\n",
       "$homework\n",
       ":   'numeric'\n",
       "$midterm\n",
       ":   'numeric'\n",
       "$final\n",
       ":   'numeric'\n",
       "$attendance\n",
       ":   'logical'\n",
       "$instruments\n",
       ":   'factor'\n",
       "\n",
       "\n"
      ],
      "text/plain": [
       "$names\n",
       "[1] \"character\"\n",
       "\n",
       "$homework\n",
       "[1] \"numeric\"\n",
       "\n",
       "$midterm\n",
       "[1] \"numeric\"\n",
       "\n",
       "$final\n",
       "[1] \"numeric\"\n",
       "\n",
       "$attendance\n",
       "[1] \"logical\"\n",
       "\n",
       "$instruments\n",
       "[1] \"factor\"\n"
      ]
     },
     "metadata": {},
     "output_type": "display_data"
    }
   ],
   "source": [
    "lapply(results_6, class)"
   ]
  },
  {
   "cell_type": "code",
   "execution_count": 45,
   "metadata": {},
   "outputs": [
    {
     "data": {
      "text/html": [
       "<dl class=dl-horizontal>\n",
       "\t<dt>names</dt>\n",
       "\t\t<dd>'character'</dd>\n",
       "\t<dt>homework</dt>\n",
       "\t\t<dd>'numeric'</dd>\n",
       "\t<dt>midterm</dt>\n",
       "\t\t<dd>'numeric'</dd>\n",
       "\t<dt>final</dt>\n",
       "\t\t<dd>'numeric'</dd>\n",
       "\t<dt>attendance</dt>\n",
       "\t\t<dd>'logical'</dd>\n",
       "\t<dt>instruments</dt>\n",
       "\t\t<dd>'factor'</dd>\n",
       "</dl>\n"
      ],
      "text/latex": [
       "\\begin{description*}\n",
       "\\item[names] 'character'\n",
       "\\item[homework] 'numeric'\n",
       "\\item[midterm] 'numeric'\n",
       "\\item[final] 'numeric'\n",
       "\\item[attendance] 'logical'\n",
       "\\item[instruments] 'factor'\n",
       "\\end{description*}\n"
      ],
      "text/markdown": [
       "names\n",
       ":   'character'homework\n",
       ":   'numeric'midterm\n",
       ":   'numeric'final\n",
       ":   'numeric'attendance\n",
       ":   'logical'instruments\n",
       ":   'factor'\n",
       "\n"
      ],
      "text/plain": [
       "      names    homework     midterm       final  attendance instruments \n",
       "\"character\"   \"numeric\"   \"numeric\"   \"numeric\"   \"logical\"    \"factor\" "
      ]
     },
     "metadata": {},
     "output_type": "display_data"
    }
   ],
   "source": [
    "sapply(results_6, class)"
   ]
  },
  {
   "cell_type": "markdown",
   "metadata": {},
   "source": [
    "Yes, surely we can!"
   ]
  },
  {
   "cell_type": "markdown",
   "metadata": {},
   "source": [
    " Let's create a simple data frame from 3 vectors. \n",
    " Then, Order the entire data frame by the first column."
   ]
  },
  {
   "cell_type": "code",
   "execution_count": 46,
   "metadata": {},
   "outputs": [
    {
     "data": {
      "text/html": [
       "<table>\n",
       "<thead><tr><th scope=col>Age</th><th scope=col>Class</th><th scope=col>Grade</th></tr></thead>\n",
       "<tbody>\n",
       "\t<tr><td>45</td><td>A </td><td>1 </td></tr>\n",
       "\t<tr><td>44</td><td>B </td><td>6 </td></tr>\n",
       "\t<tr><td>43</td><td>C </td><td>3 </td></tr>\n",
       "\t<tr><td>42</td><td>A </td><td>5 </td></tr>\n",
       "\t<tr><td>41</td><td>B </td><td>2 </td></tr>\n",
       "\t<tr><td>30</td><td>C </td><td>4 </td></tr>\n",
       "\t<tr><td>31</td><td>A </td><td>6 </td></tr>\n",
       "\t<tr><td>32</td><td>B </td><td>9 </td></tr>\n",
       "\t<tr><td>33</td><td>C </td><td>2 </td></tr>\n",
       "</tbody>\n",
       "</table>\n"
      ],
      "text/latex": [
       "\\begin{tabular}{r|lll}\n",
       " Age & Class & Grade\\\\\n",
       "\\hline\n",
       "\t 45 & A  & 1 \\\\\n",
       "\t 44 & B  & 6 \\\\\n",
       "\t 43 & C  & 3 \\\\\n",
       "\t 42 & A  & 5 \\\\\n",
       "\t 41 & B  & 2 \\\\\n",
       "\t 30 & C  & 4 \\\\\n",
       "\t 31 & A  & 6 \\\\\n",
       "\t 32 & B  & 9 \\\\\n",
       "\t 33 & C  & 2 \\\\\n",
       "\\end{tabular}\n"
      ],
      "text/markdown": [
       "\n",
       "Age | Class | Grade | \n",
       "|---|---|---|---|---|---|---|---|---|\n",
       "| 45 | A  | 1  | \n",
       "| 44 | B  | 6  | \n",
       "| 43 | C  | 3  | \n",
       "| 42 | A  | 5  | \n",
       "| 41 | B  | 2  | \n",
       "| 30 | C  | 4  | \n",
       "| 31 | A  | 6  | \n",
       "| 32 | B  | 9  | \n",
       "| 33 | C  | 2  | \n",
       "\n",
       "\n"
      ],
      "text/plain": [
       "  Age Class Grade\n",
       "1 45  A     1    \n",
       "2 44  B     6    \n",
       "3 43  C     3    \n",
       "4 42  A     5    \n",
       "5 41  B     2    \n",
       "6 30  C     4    \n",
       "7 31  A     6    \n",
       "8 32  B     9    \n",
       "9 33  C     2    "
      ]
     },
     "metadata": {},
     "output_type": "display_data"
    }
   ],
   "source": [
    "v <- c(45:41, 30:33)\n",
    "b <- LETTERS[rep(1:3, 3)]\n",
    "n <- c(1,6,3,5,2,4,6,9,2)\n",
    "\n",
    "df <- data.frame(Age = v, Class = b, Grade = n)\n",
    "df"
   ]
  },
  {
   "cell_type": "code",
   "execution_count": 47,
   "metadata": {},
   "outputs": [
    {
     "data": {
      "text/html": [
       "<ol class=list-inline>\n",
       "\t<li>6</li>\n",
       "\t<li>7</li>\n",
       "\t<li>8</li>\n",
       "\t<li>9</li>\n",
       "\t<li>5</li>\n",
       "\t<li>4</li>\n",
       "\t<li>3</li>\n",
       "\t<li>2</li>\n",
       "\t<li>1</li>\n",
       "</ol>\n"
      ],
      "text/latex": [
       "\\begin{enumerate*}\n",
       "\\item 6\n",
       "\\item 7\n",
       "\\item 8\n",
       "\\item 9\n",
       "\\item 5\n",
       "\\item 4\n",
       "\\item 3\n",
       "\\item 2\n",
       "\\item 1\n",
       "\\end{enumerate*}\n"
      ],
      "text/markdown": [
       "1. 6\n",
       "2. 7\n",
       "3. 8\n",
       "4. 9\n",
       "5. 5\n",
       "6. 4\n",
       "7. 3\n",
       "8. 2\n",
       "9. 1\n",
       "\n",
       "\n"
      ],
      "text/plain": [
       "[1] 6 7 8 9 5 4 3 2 1"
      ]
     },
     "metadata": {},
     "output_type": "display_data"
    },
    {
     "data": {
      "text/html": [
       "<table>\n",
       "<thead><tr><th></th><th scope=col>Age</th><th scope=col>Class</th><th scope=col>Grade</th></tr></thead>\n",
       "<tbody>\n",
       "\t<tr><th scope=row>6</th><td>30</td><td>C </td><td>4 </td></tr>\n",
       "\t<tr><th scope=row>7</th><td>31</td><td>A </td><td>6 </td></tr>\n",
       "\t<tr><th scope=row>8</th><td>32</td><td>B </td><td>9 </td></tr>\n",
       "\t<tr><th scope=row>9</th><td>33</td><td>C </td><td>2 </td></tr>\n",
       "\t<tr><th scope=row>5</th><td>41</td><td>B </td><td>2 </td></tr>\n",
       "\t<tr><th scope=row>4</th><td>42</td><td>A </td><td>5 </td></tr>\n",
       "\t<tr><th scope=row>3</th><td>43</td><td>C </td><td>3 </td></tr>\n",
       "\t<tr><th scope=row>2</th><td>44</td><td>B </td><td>6 </td></tr>\n",
       "\t<tr><th scope=row>1</th><td>45</td><td>A </td><td>1 </td></tr>\n",
       "</tbody>\n",
       "</table>\n"
      ],
      "text/latex": [
       "\\begin{tabular}{r|lll}\n",
       "  & Age & Class & Grade\\\\\n",
       "\\hline\n",
       "\t6 & 30 & C  & 4 \\\\\n",
       "\t7 & 31 & A  & 6 \\\\\n",
       "\t8 & 32 & B  & 9 \\\\\n",
       "\t9 & 33 & C  & 2 \\\\\n",
       "\t5 & 41 & B  & 2 \\\\\n",
       "\t4 & 42 & A  & 5 \\\\\n",
       "\t3 & 43 & C  & 3 \\\\\n",
       "\t2 & 44 & B  & 6 \\\\\n",
       "\t1 & 45 & A  & 1 \\\\\n",
       "\\end{tabular}\n"
      ],
      "text/markdown": [
       "\n",
       "| <!--/--> | Age | Class | Grade | \n",
       "|---|---|---|---|---|---|---|---|---|\n",
       "| 6 | 30 | C  | 4  | \n",
       "| 7 | 31 | A  | 6  | \n",
       "| 8 | 32 | B  | 9  | \n",
       "| 9 | 33 | C  | 2  | \n",
       "| 5 | 41 | B  | 2  | \n",
       "| 4 | 42 | A  | 5  | \n",
       "| 3 | 43 | C  | 3  | \n",
       "| 2 | 44 | B  | 6  | \n",
       "| 1 | 45 | A  | 1  | \n",
       "\n",
       "\n"
      ],
      "text/plain": [
       "  Age Class Grade\n",
       "6 30  C     4    \n",
       "7 31  A     6    \n",
       "8 32  B     9    \n",
       "9 33  C     2    \n",
       "5 41  B     2    \n",
       "4 42  A     5    \n",
       "3 43  C     3    \n",
       "2 44  B     6    \n",
       "1 45  A     1    "
      ]
     },
     "metadata": {},
     "output_type": "display_data"
    }
   ],
   "source": [
    "order(df$Age)\n",
    "df[order(df$Age), ]  "
   ]
  },
  {
   "cell_type": "markdown",
   "metadata": {},
   "source": [
    "For another exercise, use the (built-in) dataset VADeaths.\n",
    "First, make sure the object is a data frame, if not change it to a data frame."
   ]
  },
  {
   "cell_type": "code",
   "execution_count": 48,
   "metadata": {},
   "outputs": [
    {
     "data": {
      "text/html": [
       "'matrix'"
      ],
      "text/latex": [
       "'matrix'"
      ],
      "text/markdown": [
       "'matrix'"
      ],
      "text/plain": [
       "[1] \"matrix\""
      ]
     },
     "metadata": {},
     "output_type": "display_data"
    },
    {
     "data": {
      "text/html": [
       "'data.frame'"
      ],
      "text/latex": [
       "'data.frame'"
      ],
      "text/markdown": [
       "'data.frame'"
      ],
      "text/plain": [
       "[1] \"data.frame\""
      ]
     },
     "metadata": {},
     "output_type": "display_data"
    }
   ],
   "source": [
    "class(VADeaths)\n",
    "df <- as.data.frame(VADeaths)\n",
    "class(df)"
   ]
  },
  {
   "cell_type": "markdown",
   "metadata": {},
   "source": [
    "Now, create a new variable, named Total, which is the sum of each row."
   ]
  },
  {
   "cell_type": "code",
   "execution_count": 49,
   "metadata": {},
   "outputs": [
    {
     "data": {
      "text/html": [
       "<table>\n",
       "<thead><tr><th></th><th scope=col>Rural Male</th><th scope=col>Rural Female</th><th scope=col>Urban Male</th><th scope=col>Urban Female</th><th scope=col>Total</th></tr></thead>\n",
       "<tbody>\n",
       "\t<tr><th scope=row>50-54</th><td>11.7 </td><td> 8.7 </td><td>15.4 </td><td> 8.4 </td><td> 44.2</td></tr>\n",
       "\t<tr><th scope=row>55-59</th><td>18.1 </td><td>11.7 </td><td>24.3 </td><td>13.6 </td><td> 67.7</td></tr>\n",
       "\t<tr><th scope=row>60-64</th><td>26.9 </td><td>20.3 </td><td>37.0 </td><td>19.3 </td><td>103.5</td></tr>\n",
       "\t<tr><th scope=row>65-69</th><td>41.0 </td><td>30.9 </td><td>54.6 </td><td>35.1 </td><td>161.6</td></tr>\n",
       "\t<tr><th scope=row>70-74</th><td>66.0 </td><td>54.3 </td><td>71.1 </td><td>50.0 </td><td>241.4</td></tr>\n",
       "</tbody>\n",
       "</table>\n"
      ],
      "text/latex": [
       "\\begin{tabular}{r|lllll}\n",
       "  & Rural Male & Rural Female & Urban Male & Urban Female & Total\\\\\n",
       "\\hline\n",
       "\t50-54 & 11.7  &  8.7  & 15.4  &  8.4  &  44.2\\\\\n",
       "\t55-59 & 18.1  & 11.7  & 24.3  & 13.6  &  67.7\\\\\n",
       "\t60-64 & 26.9  & 20.3  & 37.0  & 19.3  & 103.5\\\\\n",
       "\t65-69 & 41.0  & 30.9  & 54.6  & 35.1  & 161.6\\\\\n",
       "\t70-74 & 66.0  & 54.3  & 71.1  & 50.0  & 241.4\\\\\n",
       "\\end{tabular}\n"
      ],
      "text/markdown": [
       "\n",
       "| <!--/--> | Rural Male | Rural Female | Urban Male | Urban Female | Total | \n",
       "|---|---|---|---|---|\n",
       "| 50-54 | 11.7  |  8.7  | 15.4  |  8.4  |  44.2 | \n",
       "| 55-59 | 18.1  | 11.7  | 24.3  | 13.6  |  67.7 | \n",
       "| 60-64 | 26.9  | 20.3  | 37.0  | 19.3  | 103.5 | \n",
       "| 65-69 | 41.0  | 30.9  | 54.6  | 35.1  | 161.6 | \n",
       "| 70-74 | 66.0  | 54.3  | 71.1  | 50.0  | 241.4 | \n",
       "\n",
       "\n"
      ],
      "text/plain": [
       "      Rural Male Rural Female Urban Male Urban Female Total\n",
       "50-54 11.7        8.7         15.4        8.4          44.2\n",
       "55-59 18.1       11.7         24.3       13.6          67.7\n",
       "60-64 26.9       20.3         37.0       19.3         103.5\n",
       "65-69 41.0       30.9         54.6       35.1         161.6\n",
       "70-74 66.0       54.3         71.1       50.0         241.4"
      ]
     },
     "metadata": {},
     "output_type": "display_data"
    }
   ],
   "source": [
    "df$Total <- df[, 1] + df[, 2] + df[, 3] + df[, 4]\n",
    "df"
   ]
  },
  {
   "cell_type": "markdown",
   "metadata": {},
   "source": [
    "Finally, change the order of the columns so total is the first variable."
   ]
  },
  {
   "cell_type": "code",
   "execution_count": 50,
   "metadata": {},
   "outputs": [
    {
     "data": {
      "text/html": [
       "<table>\n",
       "<thead><tr><th></th><th scope=col>Total</th><th scope=col>Rural Male</th><th scope=col>Rural Female</th><th scope=col>Urban Male</th><th scope=col>Urban Female</th></tr></thead>\n",
       "<tbody>\n",
       "\t<tr><th scope=row>50-54</th><td> 44.2</td><td>11.7 </td><td> 8.7 </td><td>15.4 </td><td> 8.4 </td></tr>\n",
       "\t<tr><th scope=row>55-59</th><td> 67.7</td><td>18.1 </td><td>11.7 </td><td>24.3 </td><td>13.6 </td></tr>\n",
       "\t<tr><th scope=row>60-64</th><td>103.5</td><td>26.9 </td><td>20.3 </td><td>37.0 </td><td>19.3 </td></tr>\n",
       "\t<tr><th scope=row>65-69</th><td>161.6</td><td>41.0 </td><td>30.9 </td><td>54.6 </td><td>35.1 </td></tr>\n",
       "\t<tr><th scope=row>70-74</th><td>241.4</td><td>66.0 </td><td>54.3 </td><td>71.1 </td><td>50.0 </td></tr>\n",
       "</tbody>\n",
       "</table>\n"
      ],
      "text/latex": [
       "\\begin{tabular}{r|lllll}\n",
       "  & Total & Rural Male & Rural Female & Urban Male & Urban Female\\\\\n",
       "\\hline\n",
       "\t50-54 &  44.2 & 11.7  &  8.7  & 15.4  &  8.4 \\\\\n",
       "\t55-59 &  67.7 & 18.1  & 11.7  & 24.3  & 13.6 \\\\\n",
       "\t60-64 & 103.5 & 26.9  & 20.3  & 37.0  & 19.3 \\\\\n",
       "\t65-69 & 161.6 & 41.0  & 30.9  & 54.6  & 35.1 \\\\\n",
       "\t70-74 & 241.4 & 66.0  & 54.3  & 71.1  & 50.0 \\\\\n",
       "\\end{tabular}\n"
      ],
      "text/markdown": [
       "\n",
       "| <!--/--> | Total | Rural Male | Rural Female | Urban Male | Urban Female | \n",
       "|---|---|---|---|---|\n",
       "| 50-54 |  44.2 | 11.7  |  8.7  | 15.4  |  8.4  | \n",
       "| 55-59 |  67.7 | 18.1  | 11.7  | 24.3  | 13.6  | \n",
       "| 60-64 | 103.5 | 26.9  | 20.3  | 37.0  | 19.3  | \n",
       "| 65-69 | 161.6 | 41.0  | 30.9  | 54.6  | 35.1  | \n",
       "| 70-74 | 241.4 | 66.0  | 54.3  | 71.1  | 50.0  | \n",
       "\n",
       "\n"
      ],
      "text/plain": [
       "      Total Rural Male Rural Female Urban Male Urban Female\n",
       "50-54  44.2 11.7        8.7         15.4        8.4        \n",
       "55-59  67.7 18.1       11.7         24.3       13.6        \n",
       "60-64 103.5 26.9       20.3         37.0       19.3        \n",
       "65-69 161.6 41.0       30.9         54.6       35.1        \n",
       "70-74 241.4 66.0       54.3         71.1       50.0        "
      ]
     },
     "metadata": {},
     "output_type": "display_data"
    }
   ],
   "source": [
    "df <- df[, c(5, 1:4)]\n",
    "df"
   ]
  },
  {
   "cell_type": "markdown",
   "metadata": {},
   "source": [
    "For our last execise, let's use the (built-in) dataset state.x77. \n",
    "Again, make sure the object is a data frame and if not change it to a data frame."
   ]
  },
  {
   "cell_type": "code",
   "execution_count": 51,
   "metadata": {},
   "outputs": [
    {
     "data": {
      "text/html": [
       "<table>\n",
       "<thead><tr><th></th><th scope=col>Population</th><th scope=col>Income</th><th scope=col>Illiteracy</th><th scope=col>Life Exp</th><th scope=col>Murder</th><th scope=col>HS Grad</th><th scope=col>Frost</th><th scope=col>Area</th></tr></thead>\n",
       "<tbody>\n",
       "\t<tr><th scope=row>Alabama</th><td> 3615 </td><td>3624  </td><td>2.1   </td><td>69.05 </td><td>15.1  </td><td>41.3  </td><td> 20   </td><td> 50708</td></tr>\n",
       "\t<tr><th scope=row>Alaska</th><td>  365 </td><td>6315  </td><td>1.5   </td><td>69.31 </td><td>11.3  </td><td>66.7  </td><td>152   </td><td>566432</td></tr>\n",
       "\t<tr><th scope=row>Arizona</th><td> 2212 </td><td>4530  </td><td>1.8   </td><td>70.55 </td><td> 7.8  </td><td>58.1  </td><td> 15   </td><td>113417</td></tr>\n",
       "\t<tr><th scope=row>Arkansas</th><td> 2110 </td><td>3378  </td><td>1.9   </td><td>70.66 </td><td>10.1  </td><td>39.9  </td><td> 65   </td><td> 51945</td></tr>\n",
       "\t<tr><th scope=row>California</th><td>21198 </td><td>5114  </td><td>1.1   </td><td>71.71 </td><td>10.3  </td><td>62.6  </td><td> 20   </td><td>156361</td></tr>\n",
       "\t<tr><th scope=row>Colorado</th><td> 2541 </td><td>4884  </td><td>0.7   </td><td>72.06 </td><td> 6.8  </td><td>63.9  </td><td>166   </td><td>103766</td></tr>\n",
       "\t<tr><th scope=row>Connecticut</th><td> 3100 </td><td>5348  </td><td>1.1   </td><td>72.48 </td><td> 3.1  </td><td>56.0  </td><td>139   </td><td>  4862</td></tr>\n",
       "\t<tr><th scope=row>Delaware</th><td>  579 </td><td>4809  </td><td>0.9   </td><td>70.06 </td><td> 6.2  </td><td>54.6  </td><td>103   </td><td>  1982</td></tr>\n",
       "\t<tr><th scope=row>Florida</th><td> 8277 </td><td>4815  </td><td>1.3   </td><td>70.66 </td><td>10.7  </td><td>52.6  </td><td> 11   </td><td> 54090</td></tr>\n",
       "\t<tr><th scope=row>Georgia</th><td> 4931 </td><td>4091  </td><td>2.0   </td><td>68.54 </td><td>13.9  </td><td>40.6  </td><td> 60   </td><td> 58073</td></tr>\n",
       "\t<tr><th scope=row>Hawaii</th><td>  868 </td><td>4963  </td><td>1.9   </td><td>73.60 </td><td> 6.2  </td><td>61.9  </td><td>  0   </td><td>  6425</td></tr>\n",
       "\t<tr><th scope=row>Idaho</th><td>  813 </td><td>4119  </td><td>0.6   </td><td>71.87 </td><td> 5.3  </td><td>59.5  </td><td>126   </td><td> 82677</td></tr>\n",
       "\t<tr><th scope=row>Illinois</th><td>11197 </td><td>5107  </td><td>0.9   </td><td>70.14 </td><td>10.3  </td><td>52.6  </td><td>127   </td><td> 55748</td></tr>\n",
       "\t<tr><th scope=row>Indiana</th><td> 5313 </td><td>4458  </td><td>0.7   </td><td>70.88 </td><td> 7.1  </td><td>52.9  </td><td>122   </td><td> 36097</td></tr>\n",
       "\t<tr><th scope=row>Iowa</th><td> 2861 </td><td>4628  </td><td>0.5   </td><td>72.56 </td><td> 2.3  </td><td>59.0  </td><td>140   </td><td> 55941</td></tr>\n",
       "\t<tr><th scope=row>Kansas</th><td> 2280 </td><td>4669  </td><td>0.6   </td><td>72.58 </td><td> 4.5  </td><td>59.9  </td><td>114   </td><td> 81787</td></tr>\n",
       "\t<tr><th scope=row>Kentucky</th><td> 3387 </td><td>3712  </td><td>1.6   </td><td>70.10 </td><td>10.6  </td><td>38.5  </td><td> 95   </td><td> 39650</td></tr>\n",
       "\t<tr><th scope=row>Louisiana</th><td> 3806 </td><td>3545  </td><td>2.8   </td><td>68.76 </td><td>13.2  </td><td>42.2  </td><td> 12   </td><td> 44930</td></tr>\n",
       "\t<tr><th scope=row>Maine</th><td> 1058 </td><td>3694  </td><td>0.7   </td><td>70.39 </td><td> 2.7  </td><td>54.7  </td><td>161   </td><td> 30920</td></tr>\n",
       "\t<tr><th scope=row>Maryland</th><td> 4122 </td><td>5299  </td><td>0.9   </td><td>70.22 </td><td> 8.5  </td><td>52.3  </td><td>101   </td><td>  9891</td></tr>\n",
       "\t<tr><th scope=row>Massachusetts</th><td> 5814 </td><td>4755  </td><td>1.1   </td><td>71.83 </td><td> 3.3  </td><td>58.5  </td><td>103   </td><td>  7826</td></tr>\n",
       "\t<tr><th scope=row>Michigan</th><td> 9111 </td><td>4751  </td><td>0.9   </td><td>70.63 </td><td>11.1  </td><td>52.8  </td><td>125   </td><td> 56817</td></tr>\n",
       "\t<tr><th scope=row>Minnesota</th><td> 3921 </td><td>4675  </td><td>0.6   </td><td>72.96 </td><td> 2.3  </td><td>57.6  </td><td>160   </td><td> 79289</td></tr>\n",
       "\t<tr><th scope=row>Mississippi</th><td> 2341 </td><td>3098  </td><td>2.4   </td><td>68.09 </td><td>12.5  </td><td>41.0  </td><td> 50   </td><td> 47296</td></tr>\n",
       "\t<tr><th scope=row>Missouri</th><td> 4767 </td><td>4254  </td><td>0.8   </td><td>70.69 </td><td> 9.3  </td><td>48.8  </td><td>108   </td><td> 68995</td></tr>\n",
       "\t<tr><th scope=row>Montana</th><td>  746 </td><td>4347  </td><td>0.6   </td><td>70.56 </td><td> 5.0  </td><td>59.2  </td><td>155   </td><td>145587</td></tr>\n",
       "\t<tr><th scope=row>Nebraska</th><td> 1544 </td><td>4508  </td><td>0.6   </td><td>72.60 </td><td> 2.9  </td><td>59.3  </td><td>139   </td><td> 76483</td></tr>\n",
       "\t<tr><th scope=row>Nevada</th><td>  590 </td><td>5149  </td><td>0.5   </td><td>69.03 </td><td>11.5  </td><td>65.2  </td><td>188   </td><td>109889</td></tr>\n",
       "\t<tr><th scope=row>New Hampshire</th><td>  812 </td><td>4281  </td><td>0.7   </td><td>71.23 </td><td> 3.3  </td><td>57.6  </td><td>174   </td><td>  9027</td></tr>\n",
       "\t<tr><th scope=row>New Jersey</th><td> 7333 </td><td>5237  </td><td>1.1   </td><td>70.93 </td><td> 5.2  </td><td>52.5  </td><td>115   </td><td>  7521</td></tr>\n",
       "\t<tr><th scope=row>New Mexico</th><td> 1144 </td><td>3601  </td><td>2.2   </td><td>70.32 </td><td> 9.7  </td><td>55.2  </td><td>120   </td><td>121412</td></tr>\n",
       "\t<tr><th scope=row>New York</th><td>18076 </td><td>4903  </td><td>1.4   </td><td>70.55 </td><td>10.9  </td><td>52.7  </td><td> 82   </td><td> 47831</td></tr>\n",
       "\t<tr><th scope=row>North Carolina</th><td> 5441 </td><td>3875  </td><td>1.8   </td><td>69.21 </td><td>11.1  </td><td>38.5  </td><td> 80   </td><td> 48798</td></tr>\n",
       "\t<tr><th scope=row>North Dakota</th><td>  637 </td><td>5087  </td><td>0.8   </td><td>72.78 </td><td> 1.4  </td><td>50.3  </td><td>186   </td><td> 69273</td></tr>\n",
       "\t<tr><th scope=row>Ohio</th><td>10735 </td><td>4561  </td><td>0.8   </td><td>70.82 </td><td> 7.4  </td><td>53.2  </td><td>124   </td><td> 40975</td></tr>\n",
       "\t<tr><th scope=row>Oklahoma</th><td> 2715 </td><td>3983  </td><td>1.1   </td><td>71.42 </td><td> 6.4  </td><td>51.6  </td><td> 82   </td><td> 68782</td></tr>\n",
       "\t<tr><th scope=row>Oregon</th><td> 2284 </td><td>4660  </td><td>0.6   </td><td>72.13 </td><td> 4.2  </td><td>60.0  </td><td> 44   </td><td> 96184</td></tr>\n",
       "\t<tr><th scope=row>Pennsylvania</th><td>11860 </td><td>4449  </td><td>1.0   </td><td>70.43 </td><td> 6.1  </td><td>50.2  </td><td>126   </td><td> 44966</td></tr>\n",
       "\t<tr><th scope=row>Rhode Island</th><td>  931 </td><td>4558  </td><td>1.3   </td><td>71.90 </td><td> 2.4  </td><td>46.4  </td><td>127   </td><td>  1049</td></tr>\n",
       "\t<tr><th scope=row>South Carolina</th><td> 2816 </td><td>3635  </td><td>2.3   </td><td>67.96 </td><td>11.6  </td><td>37.8  </td><td> 65   </td><td> 30225</td></tr>\n",
       "\t<tr><th scope=row>South Dakota</th><td>  681 </td><td>4167  </td><td>0.5   </td><td>72.08 </td><td> 1.7  </td><td>53.3  </td><td>172   </td><td> 75955</td></tr>\n",
       "\t<tr><th scope=row>Tennessee</th><td> 4173 </td><td>3821  </td><td>1.7   </td><td>70.11 </td><td>11.0  </td><td>41.8  </td><td> 70   </td><td> 41328</td></tr>\n",
       "\t<tr><th scope=row>Texas</th><td>12237 </td><td>4188  </td><td>2.2   </td><td>70.90 </td><td>12.2  </td><td>47.4  </td><td> 35   </td><td>262134</td></tr>\n",
       "\t<tr><th scope=row>Utah</th><td> 1203 </td><td>4022  </td><td>0.6   </td><td>72.90 </td><td> 4.5  </td><td>67.3  </td><td>137   </td><td> 82096</td></tr>\n",
       "\t<tr><th scope=row>Vermont</th><td>  472 </td><td>3907  </td><td>0.6   </td><td>71.64 </td><td> 5.5  </td><td>57.1  </td><td>168   </td><td>  9267</td></tr>\n",
       "\t<tr><th scope=row>Virginia</th><td> 4981 </td><td>4701  </td><td>1.4   </td><td>70.08 </td><td> 9.5  </td><td>47.8  </td><td> 85   </td><td> 39780</td></tr>\n",
       "\t<tr><th scope=row>Washington</th><td> 3559 </td><td>4864  </td><td>0.6   </td><td>71.72 </td><td> 4.3  </td><td>63.5  </td><td> 32   </td><td> 66570</td></tr>\n",
       "\t<tr><th scope=row>West Virginia</th><td> 1799 </td><td>3617  </td><td>1.4   </td><td>69.48 </td><td> 6.7  </td><td>41.6  </td><td>100   </td><td> 24070</td></tr>\n",
       "\t<tr><th scope=row>Wisconsin</th><td> 4589 </td><td>4468  </td><td>0.7   </td><td>72.48 </td><td> 3.0  </td><td>54.5  </td><td>149   </td><td> 54464</td></tr>\n",
       "\t<tr><th scope=row>Wyoming</th><td>  376 </td><td>4566  </td><td>0.6   </td><td>70.29 </td><td> 6.9  </td><td>62.9  </td><td>173   </td><td> 97203</td></tr>\n",
       "</tbody>\n",
       "</table>\n"
      ],
      "text/latex": [
       "\\begin{tabular}{r|llllllll}\n",
       "  & Population & Income & Illiteracy & Life Exp & Murder & HS Grad & Frost & Area\\\\\n",
       "\\hline\n",
       "\tAlabama &  3615  & 3624   & 2.1    & 69.05  & 15.1   & 41.3   &  20    &  50708\\\\\n",
       "\tAlaska &   365  & 6315   & 1.5    & 69.31  & 11.3   & 66.7   & 152    & 566432\\\\\n",
       "\tArizona &  2212  & 4530   & 1.8    & 70.55  &  7.8   & 58.1   &  15    & 113417\\\\\n",
       "\tArkansas &  2110  & 3378   & 1.9    & 70.66  & 10.1   & 39.9   &  65    &  51945\\\\\n",
       "\tCalifornia & 21198  & 5114   & 1.1    & 71.71  & 10.3   & 62.6   &  20    & 156361\\\\\n",
       "\tColorado &  2541  & 4884   & 0.7    & 72.06  &  6.8   & 63.9   & 166    & 103766\\\\\n",
       "\tConnecticut &  3100  & 5348   & 1.1    & 72.48  &  3.1   & 56.0   & 139    &   4862\\\\\n",
       "\tDelaware &   579  & 4809   & 0.9    & 70.06  &  6.2   & 54.6   & 103    &   1982\\\\\n",
       "\tFlorida &  8277  & 4815   & 1.3    & 70.66  & 10.7   & 52.6   &  11    &  54090\\\\\n",
       "\tGeorgia &  4931  & 4091   & 2.0    & 68.54  & 13.9   & 40.6   &  60    &  58073\\\\\n",
       "\tHawaii &   868  & 4963   & 1.9    & 73.60  &  6.2   & 61.9   &   0    &   6425\\\\\n",
       "\tIdaho &   813  & 4119   & 0.6    & 71.87  &  5.3   & 59.5   & 126    &  82677\\\\\n",
       "\tIllinois & 11197  & 5107   & 0.9    & 70.14  & 10.3   & 52.6   & 127    &  55748\\\\\n",
       "\tIndiana &  5313  & 4458   & 0.7    & 70.88  &  7.1   & 52.9   & 122    &  36097\\\\\n",
       "\tIowa &  2861  & 4628   & 0.5    & 72.56  &  2.3   & 59.0   & 140    &  55941\\\\\n",
       "\tKansas &  2280  & 4669   & 0.6    & 72.58  &  4.5   & 59.9   & 114    &  81787\\\\\n",
       "\tKentucky &  3387  & 3712   & 1.6    & 70.10  & 10.6   & 38.5   &  95    &  39650\\\\\n",
       "\tLouisiana &  3806  & 3545   & 2.8    & 68.76  & 13.2   & 42.2   &  12    &  44930\\\\\n",
       "\tMaine &  1058  & 3694   & 0.7    & 70.39  &  2.7   & 54.7   & 161    &  30920\\\\\n",
       "\tMaryland &  4122  & 5299   & 0.9    & 70.22  &  8.5   & 52.3   & 101    &   9891\\\\\n",
       "\tMassachusetts &  5814  & 4755   & 1.1    & 71.83  &  3.3   & 58.5   & 103    &   7826\\\\\n",
       "\tMichigan &  9111  & 4751   & 0.9    & 70.63  & 11.1   & 52.8   & 125    &  56817\\\\\n",
       "\tMinnesota &  3921  & 4675   & 0.6    & 72.96  &  2.3   & 57.6   & 160    &  79289\\\\\n",
       "\tMississippi &  2341  & 3098   & 2.4    & 68.09  & 12.5   & 41.0   &  50    &  47296\\\\\n",
       "\tMissouri &  4767  & 4254   & 0.8    & 70.69  &  9.3   & 48.8   & 108    &  68995\\\\\n",
       "\tMontana &   746  & 4347   & 0.6    & 70.56  &  5.0   & 59.2   & 155    & 145587\\\\\n",
       "\tNebraska &  1544  & 4508   & 0.6    & 72.60  &  2.9   & 59.3   & 139    &  76483\\\\\n",
       "\tNevada &   590  & 5149   & 0.5    & 69.03  & 11.5   & 65.2   & 188    & 109889\\\\\n",
       "\tNew Hampshire &   812  & 4281   & 0.7    & 71.23  &  3.3   & 57.6   & 174    &   9027\\\\\n",
       "\tNew Jersey &  7333  & 5237   & 1.1    & 70.93  &  5.2   & 52.5   & 115    &   7521\\\\\n",
       "\tNew Mexico &  1144  & 3601   & 2.2    & 70.32  &  9.7   & 55.2   & 120    & 121412\\\\\n",
       "\tNew York & 18076  & 4903   & 1.4    & 70.55  & 10.9   & 52.7   &  82    &  47831\\\\\n",
       "\tNorth Carolina &  5441  & 3875   & 1.8    & 69.21  & 11.1   & 38.5   &  80    &  48798\\\\\n",
       "\tNorth Dakota &   637  & 5087   & 0.8    & 72.78  &  1.4   & 50.3   & 186    &  69273\\\\\n",
       "\tOhio & 10735  & 4561   & 0.8    & 70.82  &  7.4   & 53.2   & 124    &  40975\\\\\n",
       "\tOklahoma &  2715  & 3983   & 1.1    & 71.42  &  6.4   & 51.6   &  82    &  68782\\\\\n",
       "\tOregon &  2284  & 4660   & 0.6    & 72.13  &  4.2   & 60.0   &  44    &  96184\\\\\n",
       "\tPennsylvania & 11860  & 4449   & 1.0    & 70.43  &  6.1   & 50.2   & 126    &  44966\\\\\n",
       "\tRhode Island &   931  & 4558   & 1.3    & 71.90  &  2.4   & 46.4   & 127    &   1049\\\\\n",
       "\tSouth Carolina &  2816  & 3635   & 2.3    & 67.96  & 11.6   & 37.8   &  65    &  30225\\\\\n",
       "\tSouth Dakota &   681  & 4167   & 0.5    & 72.08  &  1.7   & 53.3   & 172    &  75955\\\\\n",
       "\tTennessee &  4173  & 3821   & 1.7    & 70.11  & 11.0   & 41.8   &  70    &  41328\\\\\n",
       "\tTexas & 12237  & 4188   & 2.2    & 70.90  & 12.2   & 47.4   &  35    & 262134\\\\\n",
       "\tUtah &  1203  & 4022   & 0.6    & 72.90  &  4.5   & 67.3   & 137    &  82096\\\\\n",
       "\tVermont &   472  & 3907   & 0.6    & 71.64  &  5.5   & 57.1   & 168    &   9267\\\\\n",
       "\tVirginia &  4981  & 4701   & 1.4    & 70.08  &  9.5   & 47.8   &  85    &  39780\\\\\n",
       "\tWashington &  3559  & 4864   & 0.6    & 71.72  &  4.3   & 63.5   &  32    &  66570\\\\\n",
       "\tWest Virginia &  1799  & 3617   & 1.4    & 69.48  &  6.7   & 41.6   & 100    &  24070\\\\\n",
       "\tWisconsin &  4589  & 4468   & 0.7    & 72.48  &  3.0   & 54.5   & 149    &  54464\\\\\n",
       "\tWyoming &   376  & 4566   & 0.6    & 70.29  &  6.9   & 62.9   & 173    &  97203\\\\\n",
       "\\end{tabular}\n"
      ],
      "text/markdown": [
       "\n",
       "| <!--/--> | Population | Income | Illiteracy | Life Exp | Murder | HS Grad | Frost | Area | \n",
       "|---|---|---|---|---|---|---|---|---|---|---|---|---|---|---|---|---|---|---|---|---|---|---|---|---|---|---|---|---|---|---|---|---|---|---|---|---|---|---|---|---|---|---|---|---|---|---|---|---|---|\n",
       "| Alabama |  3615  | 3624   | 2.1    | 69.05  | 15.1   | 41.3   |  20    |  50708 | \n",
       "| Alaska |   365  | 6315   | 1.5    | 69.31  | 11.3   | 66.7   | 152    | 566432 | \n",
       "| Arizona |  2212  | 4530   | 1.8    | 70.55  |  7.8   | 58.1   |  15    | 113417 | \n",
       "| Arkansas |  2110  | 3378   | 1.9    | 70.66  | 10.1   | 39.9   |  65    |  51945 | \n",
       "| California | 21198  | 5114   | 1.1    | 71.71  | 10.3   | 62.6   |  20    | 156361 | \n",
       "| Colorado |  2541  | 4884   | 0.7    | 72.06  |  6.8   | 63.9   | 166    | 103766 | \n",
       "| Connecticut |  3100  | 5348   | 1.1    | 72.48  |  3.1   | 56.0   | 139    |   4862 | \n",
       "| Delaware |   579  | 4809   | 0.9    | 70.06  |  6.2   | 54.6   | 103    |   1982 | \n",
       "| Florida |  8277  | 4815   | 1.3    | 70.66  | 10.7   | 52.6   |  11    |  54090 | \n",
       "| Georgia |  4931  | 4091   | 2.0    | 68.54  | 13.9   | 40.6   |  60    |  58073 | \n",
       "| Hawaii |   868  | 4963   | 1.9    | 73.60  |  6.2   | 61.9   |   0    |   6425 | \n",
       "| Idaho |   813  | 4119   | 0.6    | 71.87  |  5.3   | 59.5   | 126    |  82677 | \n",
       "| Illinois | 11197  | 5107   | 0.9    | 70.14  | 10.3   | 52.6   | 127    |  55748 | \n",
       "| Indiana |  5313  | 4458   | 0.7    | 70.88  |  7.1   | 52.9   | 122    |  36097 | \n",
       "| Iowa |  2861  | 4628   | 0.5    | 72.56  |  2.3   | 59.0   | 140    |  55941 | \n",
       "| Kansas |  2280  | 4669   | 0.6    | 72.58  |  4.5   | 59.9   | 114    |  81787 | \n",
       "| Kentucky |  3387  | 3712   | 1.6    | 70.10  | 10.6   | 38.5   |  95    |  39650 | \n",
       "| Louisiana |  3806  | 3545   | 2.8    | 68.76  | 13.2   | 42.2   |  12    |  44930 | \n",
       "| Maine |  1058  | 3694   | 0.7    | 70.39  |  2.7   | 54.7   | 161    |  30920 | \n",
       "| Maryland |  4122  | 5299   | 0.9    | 70.22  |  8.5   | 52.3   | 101    |   9891 | \n",
       "| Massachusetts |  5814  | 4755   | 1.1    | 71.83  |  3.3   | 58.5   | 103    |   7826 | \n",
       "| Michigan |  9111  | 4751   | 0.9    | 70.63  | 11.1   | 52.8   | 125    |  56817 | \n",
       "| Minnesota |  3921  | 4675   | 0.6    | 72.96  |  2.3   | 57.6   | 160    |  79289 | \n",
       "| Mississippi |  2341  | 3098   | 2.4    | 68.09  | 12.5   | 41.0   |  50    |  47296 | \n",
       "| Missouri |  4767  | 4254   | 0.8    | 70.69  |  9.3   | 48.8   | 108    |  68995 | \n",
       "| Montana |   746  | 4347   | 0.6    | 70.56  |  5.0   | 59.2   | 155    | 145587 | \n",
       "| Nebraska |  1544  | 4508   | 0.6    | 72.60  |  2.9   | 59.3   | 139    |  76483 | \n",
       "| Nevada |   590  | 5149   | 0.5    | 69.03  | 11.5   | 65.2   | 188    | 109889 | \n",
       "| New Hampshire |   812  | 4281   | 0.7    | 71.23  |  3.3   | 57.6   | 174    |   9027 | \n",
       "| New Jersey |  7333  | 5237   | 1.1    | 70.93  |  5.2   | 52.5   | 115    |   7521 | \n",
       "| New Mexico |  1144  | 3601   | 2.2    | 70.32  |  9.7   | 55.2   | 120    | 121412 | \n",
       "| New York | 18076  | 4903   | 1.4    | 70.55  | 10.9   | 52.7   |  82    |  47831 | \n",
       "| North Carolina |  5441  | 3875   | 1.8    | 69.21  | 11.1   | 38.5   |  80    |  48798 | \n",
       "| North Dakota |   637  | 5087   | 0.8    | 72.78  |  1.4   | 50.3   | 186    |  69273 | \n",
       "| Ohio | 10735  | 4561   | 0.8    | 70.82  |  7.4   | 53.2   | 124    |  40975 | \n",
       "| Oklahoma |  2715  | 3983   | 1.1    | 71.42  |  6.4   | 51.6   |  82    |  68782 | \n",
       "| Oregon |  2284  | 4660   | 0.6    | 72.13  |  4.2   | 60.0   |  44    |  96184 | \n",
       "| Pennsylvania | 11860  | 4449   | 1.0    | 70.43  |  6.1   | 50.2   | 126    |  44966 | \n",
       "| Rhode Island |   931  | 4558   | 1.3    | 71.90  |  2.4   | 46.4   | 127    |   1049 | \n",
       "| South Carolina |  2816  | 3635   | 2.3    | 67.96  | 11.6   | 37.8   |  65    |  30225 | \n",
       "| South Dakota |   681  | 4167   | 0.5    | 72.08  |  1.7   | 53.3   | 172    |  75955 | \n",
       "| Tennessee |  4173  | 3821   | 1.7    | 70.11  | 11.0   | 41.8   |  70    |  41328 | \n",
       "| Texas | 12237  | 4188   | 2.2    | 70.90  | 12.2   | 47.4   |  35    | 262134 | \n",
       "| Utah |  1203  | 4022   | 0.6    | 72.90  |  4.5   | 67.3   | 137    |  82096 | \n",
       "| Vermont |   472  | 3907   | 0.6    | 71.64  |  5.5   | 57.1   | 168    |   9267 | \n",
       "| Virginia |  4981  | 4701   | 1.4    | 70.08  |  9.5   | 47.8   |  85    |  39780 | \n",
       "| Washington |  3559  | 4864   | 0.6    | 71.72  |  4.3   | 63.5   |  32    |  66570 | \n",
       "| West Virginia |  1799  | 3617   | 1.4    | 69.48  |  6.7   | 41.6   | 100    |  24070 | \n",
       "| Wisconsin |  4589  | 4468   | 0.7    | 72.48  |  3.0   | 54.5   | 149    |  54464 | \n",
       "| Wyoming |   376  | 4566   | 0.6    | 70.29  |  6.9   | 62.9   | 173    |  97203 | \n",
       "\n",
       "\n"
      ],
      "text/plain": [
       "               Population Income Illiteracy Life Exp Murder HS Grad Frost\n",
       "Alabama         3615      3624   2.1        69.05    15.1   41.3     20  \n",
       "Alaska           365      6315   1.5        69.31    11.3   66.7    152  \n",
       "Arizona         2212      4530   1.8        70.55     7.8   58.1     15  \n",
       "Arkansas        2110      3378   1.9        70.66    10.1   39.9     65  \n",
       "California     21198      5114   1.1        71.71    10.3   62.6     20  \n",
       "Colorado        2541      4884   0.7        72.06     6.8   63.9    166  \n",
       "Connecticut     3100      5348   1.1        72.48     3.1   56.0    139  \n",
       "Delaware         579      4809   0.9        70.06     6.2   54.6    103  \n",
       "Florida         8277      4815   1.3        70.66    10.7   52.6     11  \n",
       "Georgia         4931      4091   2.0        68.54    13.9   40.6     60  \n",
       "Hawaii           868      4963   1.9        73.60     6.2   61.9      0  \n",
       "Idaho            813      4119   0.6        71.87     5.3   59.5    126  \n",
       "Illinois       11197      5107   0.9        70.14    10.3   52.6    127  \n",
       "Indiana         5313      4458   0.7        70.88     7.1   52.9    122  \n",
       "Iowa            2861      4628   0.5        72.56     2.3   59.0    140  \n",
       "Kansas          2280      4669   0.6        72.58     4.5   59.9    114  \n",
       "Kentucky        3387      3712   1.6        70.10    10.6   38.5     95  \n",
       "Louisiana       3806      3545   2.8        68.76    13.2   42.2     12  \n",
       "Maine           1058      3694   0.7        70.39     2.7   54.7    161  \n",
       "Maryland        4122      5299   0.9        70.22     8.5   52.3    101  \n",
       "Massachusetts   5814      4755   1.1        71.83     3.3   58.5    103  \n",
       "Michigan        9111      4751   0.9        70.63    11.1   52.8    125  \n",
       "Minnesota       3921      4675   0.6        72.96     2.3   57.6    160  \n",
       "Mississippi     2341      3098   2.4        68.09    12.5   41.0     50  \n",
       "Missouri        4767      4254   0.8        70.69     9.3   48.8    108  \n",
       "Montana          746      4347   0.6        70.56     5.0   59.2    155  \n",
       "Nebraska        1544      4508   0.6        72.60     2.9   59.3    139  \n",
       "Nevada           590      5149   0.5        69.03    11.5   65.2    188  \n",
       "New Hampshire    812      4281   0.7        71.23     3.3   57.6    174  \n",
       "New Jersey      7333      5237   1.1        70.93     5.2   52.5    115  \n",
       "New Mexico      1144      3601   2.2        70.32     9.7   55.2    120  \n",
       "New York       18076      4903   1.4        70.55    10.9   52.7     82  \n",
       "North Carolina  5441      3875   1.8        69.21    11.1   38.5     80  \n",
       "North Dakota     637      5087   0.8        72.78     1.4   50.3    186  \n",
       "Ohio           10735      4561   0.8        70.82     7.4   53.2    124  \n",
       "Oklahoma        2715      3983   1.1        71.42     6.4   51.6     82  \n",
       "Oregon          2284      4660   0.6        72.13     4.2   60.0     44  \n",
       "Pennsylvania   11860      4449   1.0        70.43     6.1   50.2    126  \n",
       "Rhode Island     931      4558   1.3        71.90     2.4   46.4    127  \n",
       "South Carolina  2816      3635   2.3        67.96    11.6   37.8     65  \n",
       "South Dakota     681      4167   0.5        72.08     1.7   53.3    172  \n",
       "Tennessee       4173      3821   1.7        70.11    11.0   41.8     70  \n",
       "Texas          12237      4188   2.2        70.90    12.2   47.4     35  \n",
       "Utah            1203      4022   0.6        72.90     4.5   67.3    137  \n",
       "Vermont          472      3907   0.6        71.64     5.5   57.1    168  \n",
       "Virginia        4981      4701   1.4        70.08     9.5   47.8     85  \n",
       "Washington      3559      4864   0.6        71.72     4.3   63.5     32  \n",
       "West Virginia   1799      3617   1.4        69.48     6.7   41.6    100  \n",
       "Wisconsin       4589      4468   0.7        72.48     3.0   54.5    149  \n",
       "Wyoming          376      4566   0.6        70.29     6.9   62.9    173  \n",
       "               Area  \n",
       "Alabama         50708\n",
       "Alaska         566432\n",
       "Arizona        113417\n",
       "Arkansas        51945\n",
       "California     156361\n",
       "Colorado       103766\n",
       "Connecticut      4862\n",
       "Delaware         1982\n",
       "Florida         54090\n",
       "Georgia         58073\n",
       "Hawaii           6425\n",
       "Idaho           82677\n",
       "Illinois        55748\n",
       "Indiana         36097\n",
       "Iowa            55941\n",
       "Kansas          81787\n",
       "Kentucky        39650\n",
       "Louisiana       44930\n",
       "Maine           30920\n",
       "Maryland         9891\n",
       "Massachusetts    7826\n",
       "Michigan        56817\n",
       "Minnesota       79289\n",
       "Mississippi     47296\n",
       "Missouri        68995\n",
       "Montana        145587\n",
       "Nebraska        76483\n",
       "Nevada         109889\n",
       "New Hampshire    9027\n",
       "New Jersey       7521\n",
       "New Mexico     121412\n",
       "New York        47831\n",
       "North Carolina  48798\n",
       "North Dakota    69273\n",
       "Ohio            40975\n",
       "Oklahoma        68782\n",
       "Oregon          96184\n",
       "Pennsylvania    44966\n",
       "Rhode Island     1049\n",
       "South Carolina  30225\n",
       "South Dakota    75955\n",
       "Tennessee       41328\n",
       "Texas          262134\n",
       "Utah            82096\n",
       "Vermont          9267\n",
       "Virginia        39780\n",
       "Washington      66570\n",
       "West Virginia   24070\n",
       "Wisconsin       54464\n",
       "Wyoming         97203"
      ]
     },
     "metadata": {},
     "output_type": "display_data"
    },
    {
     "data": {
      "text/html": [
       "'matrix'"
      ],
      "text/latex": [
       "'matrix'"
      ],
      "text/markdown": [
       "'matrix'"
      ],
      "text/plain": [
       "[1] \"matrix\""
      ]
     },
     "metadata": {},
     "output_type": "display_data"
    }
   ],
   "source": [
    "state.x77\n",
    "class (state.x77)\n",
    "df <- as.data.frame(state.x77)"
   ]
  },
  {
   "cell_type": "markdown",
   "metadata": {},
   "source": [
    "Now, find out how many states have an income of less than 4300."
   ]
  },
  {
   "cell_type": "code",
   "execution_count": 52,
   "metadata": {},
   "outputs": [
    {
     "data": {
      "text/html": [
       "20"
      ],
      "text/latex": [
       "20"
      ],
      "text/markdown": [
       "20"
      ],
      "text/plain": [
       "[1] 20"
      ]
     },
     "metadata": {},
     "output_type": "display_data"
    },
    {
     "data": {
      "text/html": [
       "<table>\n",
       "<thead><tr><th></th><th scope=col>Population</th><th scope=col>Income</th><th scope=col>Illiteracy</th><th scope=col>Life Exp</th><th scope=col>Murder</th><th scope=col>HS Grad</th><th scope=col>Frost</th><th scope=col>Area</th></tr></thead>\n",
       "<tbody>\n",
       "\t<tr><th scope=row>Alabama</th><td> 3615 </td><td>3624  </td><td>2.1   </td><td>69.05 </td><td>15.1  </td><td>41.3  </td><td> 20   </td><td> 50708</td></tr>\n",
       "\t<tr><th scope=row>Arkansas</th><td> 2110 </td><td>3378  </td><td>1.9   </td><td>70.66 </td><td>10.1  </td><td>39.9  </td><td> 65   </td><td> 51945</td></tr>\n",
       "\t<tr><th scope=row>Georgia</th><td> 4931 </td><td>4091  </td><td>2.0   </td><td>68.54 </td><td>13.9  </td><td>40.6  </td><td> 60   </td><td> 58073</td></tr>\n",
       "\t<tr><th scope=row>Idaho</th><td>  813 </td><td>4119  </td><td>0.6   </td><td>71.87 </td><td> 5.3  </td><td>59.5  </td><td>126   </td><td> 82677</td></tr>\n",
       "\t<tr><th scope=row>Kentucky</th><td> 3387 </td><td>3712  </td><td>1.6   </td><td>70.10 </td><td>10.6  </td><td>38.5  </td><td> 95   </td><td> 39650</td></tr>\n",
       "\t<tr><th scope=row>Louisiana</th><td> 3806 </td><td>3545  </td><td>2.8   </td><td>68.76 </td><td>13.2  </td><td>42.2  </td><td> 12   </td><td> 44930</td></tr>\n",
       "\t<tr><th scope=row>Maine</th><td> 1058 </td><td>3694  </td><td>0.7   </td><td>70.39 </td><td> 2.7  </td><td>54.7  </td><td>161   </td><td> 30920</td></tr>\n",
       "\t<tr><th scope=row>Mississippi</th><td> 2341 </td><td>3098  </td><td>2.4   </td><td>68.09 </td><td>12.5  </td><td>41.0  </td><td> 50   </td><td> 47296</td></tr>\n",
       "\t<tr><th scope=row>Missouri</th><td> 4767 </td><td>4254  </td><td>0.8   </td><td>70.69 </td><td> 9.3  </td><td>48.8  </td><td>108   </td><td> 68995</td></tr>\n",
       "\t<tr><th scope=row>New Hampshire</th><td>  812 </td><td>4281  </td><td>0.7   </td><td>71.23 </td><td> 3.3  </td><td>57.6  </td><td>174   </td><td>  9027</td></tr>\n",
       "\t<tr><th scope=row>New Mexico</th><td> 1144 </td><td>3601  </td><td>2.2   </td><td>70.32 </td><td> 9.7  </td><td>55.2  </td><td>120   </td><td>121412</td></tr>\n",
       "\t<tr><th scope=row>North Carolina</th><td> 5441 </td><td>3875  </td><td>1.8   </td><td>69.21 </td><td>11.1  </td><td>38.5  </td><td> 80   </td><td> 48798</td></tr>\n",
       "\t<tr><th scope=row>Oklahoma</th><td> 2715 </td><td>3983  </td><td>1.1   </td><td>71.42 </td><td> 6.4  </td><td>51.6  </td><td> 82   </td><td> 68782</td></tr>\n",
       "\t<tr><th scope=row>South Carolina</th><td> 2816 </td><td>3635  </td><td>2.3   </td><td>67.96 </td><td>11.6  </td><td>37.8  </td><td> 65   </td><td> 30225</td></tr>\n",
       "\t<tr><th scope=row>South Dakota</th><td>  681 </td><td>4167  </td><td>0.5   </td><td>72.08 </td><td> 1.7  </td><td>53.3  </td><td>172   </td><td> 75955</td></tr>\n",
       "\t<tr><th scope=row>Tennessee</th><td> 4173 </td><td>3821  </td><td>1.7   </td><td>70.11 </td><td>11.0  </td><td>41.8  </td><td> 70   </td><td> 41328</td></tr>\n",
       "\t<tr><th scope=row>Texas</th><td>12237 </td><td>4188  </td><td>2.2   </td><td>70.90 </td><td>12.2  </td><td>47.4  </td><td> 35   </td><td>262134</td></tr>\n",
       "\t<tr><th scope=row>Utah</th><td> 1203 </td><td>4022  </td><td>0.6   </td><td>72.90 </td><td> 4.5  </td><td>67.3  </td><td>137   </td><td> 82096</td></tr>\n",
       "\t<tr><th scope=row>Vermont</th><td>  472 </td><td>3907  </td><td>0.6   </td><td>71.64 </td><td> 5.5  </td><td>57.1  </td><td>168   </td><td>  9267</td></tr>\n",
       "\t<tr><th scope=row>West Virginia</th><td> 1799 </td><td>3617  </td><td>1.4   </td><td>69.48 </td><td> 6.7  </td><td>41.6  </td><td>100   </td><td> 24070</td></tr>\n",
       "</tbody>\n",
       "</table>\n"
      ],
      "text/latex": [
       "\\begin{tabular}{r|llllllll}\n",
       "  & Population & Income & Illiteracy & Life Exp & Murder & HS Grad & Frost & Area\\\\\n",
       "\\hline\n",
       "\tAlabama &  3615  & 3624   & 2.1    & 69.05  & 15.1   & 41.3   &  20    &  50708\\\\\n",
       "\tArkansas &  2110  & 3378   & 1.9    & 70.66  & 10.1   & 39.9   &  65    &  51945\\\\\n",
       "\tGeorgia &  4931  & 4091   & 2.0    & 68.54  & 13.9   & 40.6   &  60    &  58073\\\\\n",
       "\tIdaho &   813  & 4119   & 0.6    & 71.87  &  5.3   & 59.5   & 126    &  82677\\\\\n",
       "\tKentucky &  3387  & 3712   & 1.6    & 70.10  & 10.6   & 38.5   &  95    &  39650\\\\\n",
       "\tLouisiana &  3806  & 3545   & 2.8    & 68.76  & 13.2   & 42.2   &  12    &  44930\\\\\n",
       "\tMaine &  1058  & 3694   & 0.7    & 70.39  &  2.7   & 54.7   & 161    &  30920\\\\\n",
       "\tMississippi &  2341  & 3098   & 2.4    & 68.09  & 12.5   & 41.0   &  50    &  47296\\\\\n",
       "\tMissouri &  4767  & 4254   & 0.8    & 70.69  &  9.3   & 48.8   & 108    &  68995\\\\\n",
       "\tNew Hampshire &   812  & 4281   & 0.7    & 71.23  &  3.3   & 57.6   & 174    &   9027\\\\\n",
       "\tNew Mexico &  1144  & 3601   & 2.2    & 70.32  &  9.7   & 55.2   & 120    & 121412\\\\\n",
       "\tNorth Carolina &  5441  & 3875   & 1.8    & 69.21  & 11.1   & 38.5   &  80    &  48798\\\\\n",
       "\tOklahoma &  2715  & 3983   & 1.1    & 71.42  &  6.4   & 51.6   &  82    &  68782\\\\\n",
       "\tSouth Carolina &  2816  & 3635   & 2.3    & 67.96  & 11.6   & 37.8   &  65    &  30225\\\\\n",
       "\tSouth Dakota &   681  & 4167   & 0.5    & 72.08  &  1.7   & 53.3   & 172    &  75955\\\\\n",
       "\tTennessee &  4173  & 3821   & 1.7    & 70.11  & 11.0   & 41.8   &  70    &  41328\\\\\n",
       "\tTexas & 12237  & 4188   & 2.2    & 70.90  & 12.2   & 47.4   &  35    & 262134\\\\\n",
       "\tUtah &  1203  & 4022   & 0.6    & 72.90  &  4.5   & 67.3   & 137    &  82096\\\\\n",
       "\tVermont &   472  & 3907   & 0.6    & 71.64  &  5.5   & 57.1   & 168    &   9267\\\\\n",
       "\tWest Virginia &  1799  & 3617   & 1.4    & 69.48  &  6.7   & 41.6   & 100    &  24070\\\\\n",
       "\\end{tabular}\n"
      ],
      "text/markdown": [
       "\n",
       "| <!--/--> | Population | Income | Illiteracy | Life Exp | Murder | HS Grad | Frost | Area | \n",
       "|---|---|---|---|---|---|---|---|---|---|---|---|---|---|---|---|---|---|---|---|\n",
       "| Alabama |  3615  | 3624   | 2.1    | 69.05  | 15.1   | 41.3   |  20    |  50708 | \n",
       "| Arkansas |  2110  | 3378   | 1.9    | 70.66  | 10.1   | 39.9   |  65    |  51945 | \n",
       "| Georgia |  4931  | 4091   | 2.0    | 68.54  | 13.9   | 40.6   |  60    |  58073 | \n",
       "| Idaho |   813  | 4119   | 0.6    | 71.87  |  5.3   | 59.5   | 126    |  82677 | \n",
       "| Kentucky |  3387  | 3712   | 1.6    | 70.10  | 10.6   | 38.5   |  95    |  39650 | \n",
       "| Louisiana |  3806  | 3545   | 2.8    | 68.76  | 13.2   | 42.2   |  12    |  44930 | \n",
       "| Maine |  1058  | 3694   | 0.7    | 70.39  |  2.7   | 54.7   | 161    |  30920 | \n",
       "| Mississippi |  2341  | 3098   | 2.4    | 68.09  | 12.5   | 41.0   |  50    |  47296 | \n",
       "| Missouri |  4767  | 4254   | 0.8    | 70.69  |  9.3   | 48.8   | 108    |  68995 | \n",
       "| New Hampshire |   812  | 4281   | 0.7    | 71.23  |  3.3   | 57.6   | 174    |   9027 | \n",
       "| New Mexico |  1144  | 3601   | 2.2    | 70.32  |  9.7   | 55.2   | 120    | 121412 | \n",
       "| North Carolina |  5441  | 3875   | 1.8    | 69.21  | 11.1   | 38.5   |  80    |  48798 | \n",
       "| Oklahoma |  2715  | 3983   | 1.1    | 71.42  |  6.4   | 51.6   |  82    |  68782 | \n",
       "| South Carolina |  2816  | 3635   | 2.3    | 67.96  | 11.6   | 37.8   |  65    |  30225 | \n",
       "| South Dakota |   681  | 4167   | 0.5    | 72.08  |  1.7   | 53.3   | 172    |  75955 | \n",
       "| Tennessee |  4173  | 3821   | 1.7    | 70.11  | 11.0   | 41.8   |  70    |  41328 | \n",
       "| Texas | 12237  | 4188   | 2.2    | 70.90  | 12.2   | 47.4   |  35    | 262134 | \n",
       "| Utah |  1203  | 4022   | 0.6    | 72.90  |  4.5   | 67.3   | 137    |  82096 | \n",
       "| Vermont |   472  | 3907   | 0.6    | 71.64  |  5.5   | 57.1   | 168    |   9267 | \n",
       "| West Virginia |  1799  | 3617   | 1.4    | 69.48  |  6.7   | 41.6   | 100    |  24070 | \n",
       "\n",
       "\n"
      ],
      "text/plain": [
       "               Population Income Illiteracy Life Exp Murder HS Grad Frost\n",
       "Alabama         3615      3624   2.1        69.05    15.1   41.3     20  \n",
       "Arkansas        2110      3378   1.9        70.66    10.1   39.9     65  \n",
       "Georgia         4931      4091   2.0        68.54    13.9   40.6     60  \n",
       "Idaho            813      4119   0.6        71.87     5.3   59.5    126  \n",
       "Kentucky        3387      3712   1.6        70.10    10.6   38.5     95  \n",
       "Louisiana       3806      3545   2.8        68.76    13.2   42.2     12  \n",
       "Maine           1058      3694   0.7        70.39     2.7   54.7    161  \n",
       "Mississippi     2341      3098   2.4        68.09    12.5   41.0     50  \n",
       "Missouri        4767      4254   0.8        70.69     9.3   48.8    108  \n",
       "New Hampshire    812      4281   0.7        71.23     3.3   57.6    174  \n",
       "New Mexico      1144      3601   2.2        70.32     9.7   55.2    120  \n",
       "North Carolina  5441      3875   1.8        69.21    11.1   38.5     80  \n",
       "Oklahoma        2715      3983   1.1        71.42     6.4   51.6     82  \n",
       "South Carolina  2816      3635   2.3        67.96    11.6   37.8     65  \n",
       "South Dakota     681      4167   0.5        72.08     1.7   53.3    172  \n",
       "Tennessee       4173      3821   1.7        70.11    11.0   41.8     70  \n",
       "Texas          12237      4188   2.2        70.90    12.2   47.4     35  \n",
       "Utah            1203      4022   0.6        72.90     4.5   67.3    137  \n",
       "Vermont          472      3907   0.6        71.64     5.5   57.1    168  \n",
       "West Virginia   1799      3617   1.4        69.48     6.7   41.6    100  \n",
       "               Area  \n",
       "Alabama         50708\n",
       "Arkansas        51945\n",
       "Georgia         58073\n",
       "Idaho           82677\n",
       "Kentucky        39650\n",
       "Louisiana       44930\n",
       "Maine           30920\n",
       "Mississippi     47296\n",
       "Missouri        68995\n",
       "New Hampshire    9027\n",
       "New Mexico     121412\n",
       "North Carolina  48798\n",
       "Oklahoma        68782\n",
       "South Carolina  30225\n",
       "South Dakota    75955\n",
       "Tennessee       41328\n",
       "Texas          262134\n",
       "Utah            82096\n",
       "Vermont          9267\n",
       "West Virginia   24070"
      ]
     },
     "metadata": {},
     "output_type": "display_data"
    }
   ],
   "source": [
    "nrow(subset(df, df$Income < 4300))\n",
    "\n",
    "# alternatively,\n",
    "\n",
    "df[df$Income < 4300, ]"
   ]
  },
  {
   "cell_type": "markdown",
   "metadata": {},
   "source": [
    "The last step is to find out which is the state with the highest income."
   ]
  },
  {
   "cell_type": "code",
   "execution_count": 53,
   "metadata": {},
   "outputs": [
    {
     "data": {
      "text/html": [
       "<table>\n",
       "<thead><tr><th></th><th scope=col>Population</th><th scope=col>Income</th><th scope=col>Illiteracy</th><th scope=col>Life Exp</th><th scope=col>Murder</th><th scope=col>HS Grad</th><th scope=col>Frost</th><th scope=col>Area</th></tr></thead>\n",
       "<tbody>\n",
       "\t<tr><th scope=row>Alaska</th><td>365   </td><td>6315  </td><td>1.5   </td><td>69.31 </td><td>11.3  </td><td>66.7  </td><td>152   </td><td>566432</td></tr>\n",
       "</tbody>\n",
       "</table>\n"
      ],
      "text/latex": [
       "\\begin{tabular}{r|llllllll}\n",
       "  & Population & Income & Illiteracy & Life Exp & Murder & HS Grad & Frost & Area\\\\\n",
       "\\hline\n",
       "\tAlaska & 365    & 6315   & 1.5    & 69.31  & 11.3   & 66.7   & 152    & 566432\\\\\n",
       "\\end{tabular}\n"
      ],
      "text/markdown": [
       "\n",
       "| <!--/--> | Population | Income | Illiteracy | Life Exp | Murder | HS Grad | Frost | Area | \n",
       "|---|\n",
       "| Alaska | 365    | 6315   | 1.5    | 69.31  | 11.3   | 66.7   | 152    | 566432 | \n",
       "\n",
       "\n"
      ],
      "text/plain": [
       "       Population Income Illiteracy Life Exp Murder HS Grad Frost Area  \n",
       "Alaska 365        6315   1.5        69.31    11.3   66.7    152   566432"
      ]
     },
     "metadata": {},
     "output_type": "display_data"
    }
   ],
   "source": [
    "df[max(df$Income)==df$Income, ]"
   ]
  },
  {
   "cell_type": "markdown",
   "metadata": {},
   "source": [
    "If you need, you may found more exercises here :)\n",
    "https://www.r-exercises.com/start-here-to-learn-r/"
   ]
  }
 ],
 "metadata": {
  "kernelspec": {
   "display_name": "R",
   "language": "R",
   "name": "ir"
  },
  "language_info": {
   "codemirror_mode": "r",
   "file_extension": ".r",
   "mimetype": "text/x-r-source",
   "name": "R",
   "pygments_lexer": "r",
   "version": "3.4.3"
  }
 },
 "nbformat": 4,
 "nbformat_minor": 2
}
