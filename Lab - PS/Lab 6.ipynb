{
 "cells": [
  {
   "cell_type": "markdown",
   "metadata": {},
   "source": [
    "# Question 1"
   ]
  },
  {
   "cell_type": "markdown",
   "metadata": {},
   "source": [
    "### \"Split a Vector into Negative and Positive Numbers\"\n",
    "\n",
    "John Kramer was thought to be dead, but he is returned now. He wants you to...\n",
    "\n",
    "1. Create a function which takes a vector (the length of it can be anything) as an input and checks whether there are negative numbers in it or not.\n",
    "\n",
    "2. Then the function will create a list of two members:\n",
    "\n",
    " - the first member will consist the negative numbers,\n",
    "\n",
    " - the second one will have the other numbers (0 or positive).\n",
    "\n",
    "What is it going to be?\n",
    "\n",
    "Write your code or fail this problem.\n",
    "\n",
    "**Make your decision!**"
   ]
  },
  {
   "cell_type": "code",
   "execution_count": 1,
   "metadata": {
    "collapsed": true
   },
   "outputs": [],
   "source": [
    "jigsaw <- function(input)\n",
    "{\n",
    "   negative <- NULL # collect numbers <= 0\n",
    "   positive <- NULL # collect numbers >= 0\n",
    "\n",
    "# Your code will be here #\n",
    "\n",
    "   return(endlist)\n",
    "}"
   ]
  },
  {
   "cell_type": "markdown",
   "metadata": {},
   "source": [
    " For example : \n",
    " \n",
    "     jigsaw(c(-1,0,0,2,5,-3,-4)) will yield:\n",
    "\n",
    "     [[1]]\n",
    "     [1] -1 -3 -4\n",
    "\n",
    "     [[2]]\n",
    "     [1] 0 0 2 5"
   ]
  },
  {
   "cell_type": "code",
   "execution_count": 2,
   "metadata": {
    "collapsed": true
   },
   "outputs": [],
   "source": [
    "vec <- sample((-10):10, 10, replace = T)"
   ]
  },
  {
   "cell_type": "markdown",
   "metadata": {},
   "source": [
    "Here is the solution"
   ]
  },
  {
   "cell_type": "code",
   "execution_count": 3,
   "metadata": {
    "collapsed": true
   },
   "outputs": [],
   "source": [
    "jigsaw <- function(input)\n",
    "{\n",
    "  negative <- NULL # collect numbers <= 0\n",
    "  positive <- NULL # collect numbers >= 0\n",
    "  iter <- 1 # variable to iterate over the input vector\n",
    "  \n",
    "  while ( iter <= length(input) )\n",
    "  {\n",
    "    current_val <- input[iter] # get current value\n",
    "    \n",
    "    if (current_val < 0)\n",
    "    {\n",
    "      negative <- c(negative, current_val)\n",
    "    } # close if1\n",
    "    else\n",
    "    {\n",
    "      positive <- c(positive, current_val)\n",
    "    } # close else1\n",
    "    \n",
    "    iter <- iter + 1 # incerement iterator variable\n",
    "  } # close while1\n",
    "  \n",
    "  endlist <- list(negative, positive)\n",
    "  \n",
    "  return(endlist)\n",
    "  \n",
    "}"
   ]
  },
  {
   "cell_type": "raw",
   "metadata": {},
   "source": [
    "Let's try for our vector \"vec\":"
   ]
  },
  {
   "cell_type": "code",
   "execution_count": 4,
   "metadata": {},
   "outputs": [
    {
     "data": {
      "text/html": [
       "<ol>\n",
       "\t<li><ol class=list-inline>\n",
       "\t<li>-2</li>\n",
       "\t<li>-4</li>\n",
       "\t<li>-1</li>\n",
       "\t<li>-2</li>\n",
       "\t<li>-10</li>\n",
       "</ol>\n",
       "</li>\n",
       "\t<li><ol class=list-inline>\n",
       "\t<li>10</li>\n",
       "\t<li>0</li>\n",
       "\t<li>5</li>\n",
       "\t<li>8</li>\n",
       "\t<li>2</li>\n",
       "</ol>\n",
       "</li>\n",
       "</ol>\n"
      ],
      "text/latex": [
       "\\begin{enumerate}\n",
       "\\item \\begin{enumerate*}\n",
       "\\item -2\n",
       "\\item -4\n",
       "\\item -1\n",
       "\\item -2\n",
       "\\item -10\n",
       "\\end{enumerate*}\n",
       "\n",
       "\\item \\begin{enumerate*}\n",
       "\\item 10\n",
       "\\item 0\n",
       "\\item 5\n",
       "\\item 8\n",
       "\\item 2\n",
       "\\end{enumerate*}\n",
       "\n",
       "\\end{enumerate}\n"
      ],
      "text/markdown": [
       "1. 1. -2\n",
       "2. -4\n",
       "3. -1\n",
       "4. -2\n",
       "5. -10\n",
       "\n",
       "\n",
       "\n",
       "2. 1. 10\n",
       "2. 0\n",
       "3. 5\n",
       "4. 8\n",
       "5. 2\n",
       "\n",
       "\n",
       "\n",
       "\n",
       "\n"
      ],
      "text/plain": [
       "[[1]]\n",
       "[1]  -2  -4  -1  -2 -10\n",
       "\n",
       "[[2]]\n",
       "[1] 10  0  5  8  2\n"
      ]
     },
     "metadata": {},
     "output_type": "display_data"
    }
   ],
   "source": [
    "jigsaw(vec)"
   ]
  },
  {
   "cell_type": "markdown",
   "metadata": {},
   "source": [
    "# Question 2"
   ]
  },
  {
   "cell_type": "markdown",
   "metadata": {},
   "source": [
    "Use while loop and write a function that checks whether the input is an Armstrong number.\n",
    "\n",
    "If sum of cubes of each digit of the number is equal to the number itself, then the number is called an Armstrong number.\n",
    "\n",
    "For example, 153=1^3+5^3+3^3 is an Armstrong number.\n",
    "\n",
    "If the input is an Armstrong number, then the output must be TRUE. \n",
    "For example, \n",
    "\n",
    "     > armstrong_num(153)\n",
    "     > TRUE\n",
    "\n",
    "If the input is not an Armstrong number, then the output must be FALSE.\n",
    "For example, \n",
    "\n",
    "     > armstrong_num(122)\n",
    "     > FALSE  "
   ]
  },
  {
   "cell_type": "code",
   "execution_count": 5,
   "metadata": {
    "collapsed": true
   },
   "outputs": [],
   "source": [
    "armstrong_num <- function(x)\n",
    "{\n",
    "    digits <- as.integer( unlist( strsplit( as.character(x), \"\") ) )\n",
    "\n",
    "    #Write your code here.\n",
    "    \n",
    "    return(answer)\n",
    "    \n",
    "}"
   ]
  },
  {
   "cell_type": "markdown",
   "metadata": {},
   "source": [
    "Here is the answer:"
   ]
  },
  {
   "cell_type": "code",
   "execution_count": 6,
   "metadata": {
    "collapsed": true
   },
   "outputs": [],
   "source": [
    "armstrong_num <- function(x)\n",
    "{\n",
    "  # split the digits into a vector\n",
    "  digits_vec <- as.integer( unlist( strsplit( as.character(x), \"\") ) )\n",
    "  digits_len <- length(digits_vec) # get its length\n",
    "  dig_ind <- 1 # initiate digit index\n",
    "  summ <- 0 # initiate accumulator\n",
    "  \n",
    "  while(dig_ind <= digits_len) # while one, dig does not exceed the count of digits\n",
    "  {\n",
    "    summ <- summ + (digits_vec[dig_ind] ^ 3)\n",
    "    dig_ind <- dig_ind + 1    \n",
    "  } # close while 1\n",
    "  \n",
    "  answer <- (summ == x)\n",
    "  \n",
    "  return(answer)\n",
    "  \n",
    "}"
   ]
  },
  {
   "cell_type": "markdown",
   "metadata": {},
   "source": [
    "..and check,"
   ]
  },
  {
   "cell_type": "code",
   "execution_count": 7,
   "metadata": {},
   "outputs": [
    {
     "data": {
      "text/html": [
       "TRUE"
      ],
      "text/latex": [
       "TRUE"
      ],
      "text/markdown": [
       "TRUE"
      ],
      "text/plain": [
       "[1] TRUE"
      ]
     },
     "metadata": {},
     "output_type": "display_data"
    }
   ],
   "source": [
    "armstrong_num(153)"
   ]
  },
  {
   "cell_type": "code",
   "execution_count": 8,
   "metadata": {},
   "outputs": [
    {
     "data": {
      "text/html": [
       "FALSE"
      ],
      "text/latex": [
       "FALSE"
      ],
      "text/markdown": [
       "FALSE"
      ],
      "text/plain": [
       "[1] FALSE"
      ]
     },
     "metadata": {},
     "output_type": "display_data"
    }
   ],
   "source": [
    "armstrong_num(122)"
   ]
  }
 ],
 "metadata": {
  "kernelspec": {
   "display_name": "R",
   "language": "R",
   "name": "ir"
  },
  "language_info": {
   "codemirror_mode": "r",
   "file_extension": ".r",
   "mimetype": "text/x-r-source",
   "name": "R",
   "pygments_lexer": "r",
   "version": "3.4.3"
  }
 },
 "nbformat": 4,
 "nbformat_minor": 2
}
